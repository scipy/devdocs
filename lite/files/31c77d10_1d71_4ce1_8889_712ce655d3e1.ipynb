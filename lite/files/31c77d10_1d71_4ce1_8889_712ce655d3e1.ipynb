{
    "nbformat": 4,
    "nbformat_minor": 5,
    "metadata": {
        "kernelspec": {
            "display_name": "Python",
            "language": "python",
            "name": "python"
        },
        "language_info": {
            "name": "python"
        }
    },
    "cells": [
        {
            "id": "a880a97b",
            "cell_type": "markdown",
            "source": "<div class='alert alert-warning'>\n\nSciPy's interactive examples with Jupyterlite are experimental and may not always work as expected. Execution of cells containing imports may result in large downloads (up to 60MB of content for the first import from SciPy). Load times when importing from SciPy may take roughly 10-20 seconds. If you notice any problems, feel free to open an [issue](https://github.com/scipy/scipy/issues/new/choose).\n\n</div>",
            "metadata": {}
        },
        {
            "id": "db4d90ed",
            "cell_type": "code",
            "metadata": {},
            "execution_count": null,
            "source": "import scipy.datasets\nface = scipy.datasets.face()\nface.shape",
            "outputs": [
                {
                    "output_type": "execute_result",
                    "metadata": {},
                    "data": {
                        "text/plain": "(768, 1024, 3)"
                    },
                    "execution_count": null
                }
            ]
        },
        {
            "id": "dd5e9f49",
            "cell_type": "code",
            "metadata": {},
            "execution_count": null,
            "source": "face.max()",
            "outputs": [
                {
                    "output_type": "execute_result",
                    "metadata": {},
                    "data": {
                        "text/plain": "np.uint8(255)"
                    },
                    "execution_count": null
                }
            ]
        },
        {
            "id": "1a1f4a40",
            "cell_type": "code",
            "metadata": {},
            "execution_count": null,
            "source": "import matplotlib.pyplot as plt\nplt.gray()\nplt.imshow(face)\nplt.show()",
            "outputs": []
        }
    ]
}