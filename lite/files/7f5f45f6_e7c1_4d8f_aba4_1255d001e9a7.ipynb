{
    "nbformat": 4,
    "nbformat_minor": 5,
    "metadata": {
        "kernelspec": {
            "display_name": "Python",
            "language": "python",
            "name": "python"
        },
        "language_info": {
            "name": "python"
        }
    },
    "cells": [
        {
            "id": "c009b9dd",
            "cell_type": "markdown",
            "source": "<div class='alert alert-warning'>\n\nSciPy's interactive examples with Jupyterlite are experimental and may not always work as expected. Execution of cells containing imports may result in large downloads (up to 60MB of content for the first import from SciPy). Load times when importing from SciPy may take roughly 10-20 seconds. If you notice any problems, feel free to open an [issue](https://github.com/scipy/scipy/issues/new/choose).\n\n</div>",
            "metadata": {}
        },
        {
            "id": "5ec2e679",
            "cell_type": "markdown",
            "source": "Find a set of nine frequencies that span the \"interesting part\" of the\nfrequency response for the filter with the transfer function\n\n    H(s) = s / (s^2 + 8s + 25)\n",
            "metadata": {}
        },
        {
            "id": "492916a2",
            "cell_type": "code",
            "metadata": {},
            "execution_count": null,
            "source": "from scipy import signal\nsignal.findfreqs([1, 0], [1, 8, 25], N=9)",
            "outputs": [
                {
                    "output_type": "execute_result",
                    "metadata": {},
                    "data": {
                        "text/plain": "array([  1.00000000e-02,   3.16227766e-02,   1.00000000e-01,\n         3.16227766e-01,   1.00000000e+00,   3.16227766e+00,\n         1.00000000e+01,   3.16227766e+01,   1.00000000e+02])"
                    },
                    "execution_count": null
                }
            ]
        }
    ]
}