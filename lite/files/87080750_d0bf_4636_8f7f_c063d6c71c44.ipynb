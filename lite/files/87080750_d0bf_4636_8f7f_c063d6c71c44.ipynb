{
    "nbformat": 4,
    "nbformat_minor": 5,
    "metadata": {
        "kernelspec": {
            "display_name": "Python",
            "language": "python",
            "name": "python"
        },
        "language_info": {
            "name": "python"
        }
    },
    "cells": [
        {
            "id": "43f5c2de",
            "cell_type": "markdown",
            "source": "<div class='alert alert-warning'>\n\nSciPy's interactive examples with Jupyterlite are experimental and may not always work as expected. Execution of cells containing imports may result in large downloads (up to 60MB of content for the first import from SciPy). Load times when importing from SciPy may take roughly 10-20 seconds. If you notice any problems, feel free to open an [issue](https://github.com/scipy/scipy/issues/new/choose).\n\n</div>",
            "metadata": {}
        },
        {
            "id": "25ef1ed8",
            "cell_type": "code",
            "metadata": {},
            "execution_count": null,
            "source": "from scipy.sparse import rand\nmatrix = rand(3, 4, density=0.25, format=\"csr\", random_state=42)\nmatrix",
            "outputs": [
                {
                    "output_type": "execute_result",
                    "metadata": {},
                    "data": {
                        "text/plain": "<Compressed Sparse Row sparse matrix of dtype 'float64'\n    with 3 stored elements and shape (3, 4)>"
                    },
                    "execution_count": null
                }
            ]
        },
        {
            "id": "c8633f63",
            "cell_type": "code",
            "metadata": {},
            "execution_count": null,
            "source": "matrix.toarray()",
            "outputs": [
                {
                    "output_type": "execute_result",
                    "metadata": {},
                    "data": {
                        "text/plain": "array([[0.05641158, 0.        , 0.        , 0.65088847],  # random\n       [0.        , 0.        , 0.        , 0.14286682],\n       [0.        , 0.        , 0.        , 0.        ]])"
                    },
                    "execution_count": null
                }
            ]
        }
    ]
}