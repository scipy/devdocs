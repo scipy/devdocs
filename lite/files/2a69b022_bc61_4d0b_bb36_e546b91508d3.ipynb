{
    "nbformat": 4,
    "nbformat_minor": 5,
    "metadata": {
        "kernelspec": {
            "display_name": "Python",
            "language": "python",
            "name": "python"
        },
        "language_info": {
            "name": "python"
        }
    },
    "cells": [
        {
            "id": "653d8093",
            "cell_type": "markdown",
            "source": "<div class='alert alert-warning'>\n\nSciPy's interactive examples with Jupyterlite are experimental and may not always work as expected. Execution of cells containing imports may result in large downloads (up to 60MB of content for the first import from SciPy). Load times when importing from SciPy may take roughly 10-20 seconds. If you notice any problems, feel free to open an [issue](https://github.com/scipy/scipy/issues/new/choose).\n\n</div>",
            "metadata": {}
        },
        {
            "id": "d4a8f494",
            "cell_type": "code",
            "metadata": {},
            "execution_count": null,
            "source": "import numpy as np\nfrom scipy import signal\nimport matplotlib.pyplot as plt\nimport matplotlib.ticker",
            "outputs": []
        },
        {
            "id": "6207d4f3",
            "cell_type": "code",
            "metadata": {},
            "execution_count": null,
            "source": "wp = 0.2\nws = 0.3\ngpass = 1\ngstop = 40",
            "outputs": []
        },
        {
            "id": "1461decd",
            "cell_type": "code",
            "metadata": {},
            "execution_count": null,
            "source": "system = signal.iirdesign(wp, ws, gpass, gstop)\nw, h = signal.freqz(*system)",
            "outputs": []
        },
        {
            "id": "fa26133d",
            "cell_type": "code",
            "metadata": {},
            "execution_count": null,
            "source": "fig, ax1 = plt.subplots()\nax1.set_title('Digital filter frequency response')\nax1.plot(w, 20 * np.log10(abs(h)), 'b')\nax1.set_ylabel('Amplitude [dB]', color='b')\nax1.set_xlabel('Frequency [rad/sample]')\nax1.grid(True)\nax1.set_ylim([-120, 20])\nax2 = ax1.twinx()\nphase = np.unwrap(np.angle(h))\nax2.plot(w, phase, 'g')\nax2.set_ylabel('Phase [rad]', color='g')\nax2.grid(True)\nax2.axis('tight')\nax2.set_ylim([-6, 1])\nnticks = 8\nax1.yaxis.set_major_locator(matplotlib.ticker.LinearLocator(nticks))\nax2.yaxis.set_major_locator(matplotlib.ticker.LinearLocator(nticks))",
            "outputs": []
        }
    ]
}