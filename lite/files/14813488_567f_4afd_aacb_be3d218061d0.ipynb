{
    "nbformat": 4,
    "nbformat_minor": 5,
    "metadata": {
        "kernelspec": {
            "display_name": "Python",
            "language": "python",
            "name": "python"
        },
        "language_info": {
            "name": "python"
        }
    },
    "cells": [
        {
            "id": "c4436305",
            "cell_type": "markdown",
            "source": "<div class='alert alert-warning'>\n\nSciPy's interactive examples with Jupyterlite are experimental and may not always work as expected. Execution of cells containing imports may result in large downloads (up to 60MB of content for the first import from SciPy). Load times when importing from SciPy may take roughly 10-20 seconds. If you notice any problems, feel free to open an [issue](https://github.com/scipy/scipy/issues/new/choose).\n\n</div>",
            "metadata": {}
        },
        {
            "id": "f1b3c4db",
            "cell_type": "markdown",
            "source": "In the following example `i0` returns infinity whereas `i0e` still returns\na finite number.\n",
            "metadata": {}
        },
        {
            "id": "e3e2e06e",
            "cell_type": "code",
            "metadata": {},
            "execution_count": null,
            "source": "from scipy.special import i0, i0e\ni0(1000.), i0e(1000.)",
            "outputs": [
                {
                    "output_type": "execute_result",
                    "metadata": {},
                    "data": {
                        "text/plain": "(inf, 0.012617240455891257)"
                    },
                    "execution_count": null
                }
            ]
        },
        {
            "id": "8a5eaa34",
            "cell_type": "markdown",
            "source": "Calculate the function at several points by providing a NumPy array or\nlist for `x`:\n",
            "metadata": {}
        },
        {
            "id": "f38d7986",
            "cell_type": "code",
            "metadata": {},
            "execution_count": null,
            "source": "import numpy as np\ni0e(np.array([-2., 0., 3.]))",
            "outputs": [
                {
                    "output_type": "execute_result",
                    "metadata": {},
                    "data": {
                        "text/plain": "array([0.30850832, 1.        , 0.24300035])"
                    },
                    "execution_count": null
                }
            ]
        },
        {
            "id": "ab9fb794",
            "cell_type": "markdown",
            "source": "Plot the function from -10 to 10.\n",
            "metadata": {}
        },
        {
            "id": "5bd41690",
            "cell_type": "code",
            "metadata": {},
            "execution_count": null,
            "source": "import matplotlib.pyplot as plt\nfig, ax = plt.subplots()\nx = np.linspace(-10., 10., 1000)\ny = i0e(x)\nax.plot(x, y)\nplt.show()",
            "outputs": []
        }
    ]
}