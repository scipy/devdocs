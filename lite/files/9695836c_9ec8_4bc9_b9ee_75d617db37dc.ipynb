{
    "nbformat": 4,
    "nbformat_minor": 5,
    "metadata": {
        "kernelspec": {
            "display_name": "Python",
            "language": "python",
            "name": "python"
        },
        "language_info": {
            "name": "python"
        }
    },
    "cells": [
        {
            "id": "39863d91",
            "cell_type": "markdown",
            "source": "<div class='alert alert-warning'>\n\nSciPy's interactive examples with Jupyterlite are experimental and may not always work as expected. Execution of cells containing imports may result in large downloads (up to 60MB of content for the first import from SciPy). Load times when importing from SciPy may take roughly 10-20 seconds. If you notice any problems, feel free to open an [issue](https://github.com/scipy/scipy/issues/new/choose).\n\n</div>",
            "metadata": {}
        },
        {
            "id": "78c8c539",
            "cell_type": "markdown",
            "source": "In the following example, we consider the article \"Employee\nattitudes and job satisfaction\" [3]\nwhich reports the results of a survey from 63 scientists and 117 college\nprofessors. Of the 63 scientists, 31 said they were very satisfied with\ntheir jobs, whereas 74 of the college professors were very satisfied\nwith their work. Is this significant evidence that college\nprofessors are happier with their work than scientists?\nThe following table summarizes the data mentioned above\n```\n\ncollege professors   scientists\nVery Satisfied   74                     31\nDissatisfied     43                     32\n\n```\nWhen working with statistical hypothesis testing, we usually use a\nthreshold probability or significance level upon which we decide\nto reject the null hypothesis $H_0$. Suppose we choose the common\nsignificance level of 5%.\n\nOur alternative hypothesis is that college professors are truly more\nsatisfied with their work than scientists. Therefore, we expect\n$p_1$ the proportion of very satisfied college professors to be\ngreater than $p_2$, the proportion of very satisfied scientists.\nWe thus call `boschloo_exact` with the ``alternative=\"greater\"`` option:\n",
            "metadata": {}
        },
        {
            "id": "2998e34f",
            "cell_type": "code",
            "metadata": {},
            "execution_count": null,
            "source": "import scipy.stats as stats\nres = stats.boschloo_exact([[74, 31], [43, 32]], alternative=\"greater\")\nres.statistic",
            "outputs": [
                {
                    "output_type": "execute_result",
                    "metadata": {},
                    "data": {
                        "text/plain": "0.0483"
                    },
                    "execution_count": null
                }
            ]
        },
        {
            "id": "e404e3d1",
            "cell_type": "code",
            "metadata": {},
            "execution_count": null,
            "source": "res.pvalue",
            "outputs": [
                {
                    "output_type": "execute_result",
                    "metadata": {},
                    "data": {
                        "text/plain": "0.0355"
                    },
                    "execution_count": null
                }
            ]
        },
        {
            "id": "c4e5f539",
            "cell_type": "markdown",
            "source": "Under the null hypothesis that scientists are happier in their work than\ncollege professors, the probability of obtaining test\nresults at least as extreme as the observed data is approximately 3.55%.\nSince this p-value is less than our chosen significance level, we have\nevidence to reject $H_0$ in favor of the alternative hypothesis.",
            "metadata": {}
        }
    ]
}