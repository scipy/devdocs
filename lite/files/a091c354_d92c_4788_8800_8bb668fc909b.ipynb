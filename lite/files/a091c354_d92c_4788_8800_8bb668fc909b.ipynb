{
    "nbformat": 4,
    "nbformat_minor": 5,
    "metadata": {
        "kernelspec": {
            "display_name": "Python",
            "language": "python",
            "name": "python"
        },
        "language_info": {
            "name": "python"
        }
    },
    "cells": [
        {
            "id": "a9625ec6",
            "cell_type": "markdown",
            "source": "<div class='alert alert-warning'>\n\nSciPy's interactive examples with Jupyterlite are experimental and may not always work as expected. Execution of cells containing imports may result in large downloads (up to 60MB of content for the first import from SciPy). Load times when importing from SciPy may take roughly 10-20 seconds. If you notice any problems, feel free to open an [issue](https://github.com/scipy/scipy/issues/new/choose).\n\n</div>",
            "metadata": {}
        },
        {
            "id": "e60aa577",
            "cell_type": "code",
            "metadata": {},
            "execution_count": null,
            "source": "from scipy.stats import alexandergovern",
            "outputs": []
        },
        {
            "id": "2776c65e",
            "cell_type": "markdown",
            "source": "Here are some data on annual percentage rate of interest charged on\nnew car loans at nine of the largest banks in four American cities\ntaken from the National Institute of Standards and Technology's\nANOVA dataset.\n\nWe use `alexandergovern` to test the null hypothesis that all cities\nhave the same mean APR against the alternative that the cities do not\nall have the same mean APR. We decide that a significance level of 5%\nis required to reject the null hypothesis in favor of the alternative.\n",
            "metadata": {}
        },
        {
            "id": "427f072e",
            "cell_type": "code",
            "metadata": {},
            "execution_count": null,
            "source": "atlanta = [13.75, 13.75, 13.5, 13.5, 13.0, 13.0, 13.0, 12.75, 12.5]\nchicago = [14.25, 13.0, 12.75, 12.5, 12.5, 12.4, 12.3, 11.9, 11.9]\nhouston = [14.0, 14.0, 13.51, 13.5, 13.5, 13.25, 13.0, 12.5, 12.5]\nmemphis = [15.0, 14.0, 13.75, 13.59, 13.25, 12.97, 12.5, 12.25,\n          11.89]\nalexandergovern(atlanta, chicago, houston, memphis)",
            "outputs": [
                {
                    "output_type": "execute_result",
                    "metadata": {},
                    "data": {
                        "text/plain": "AlexanderGovernResult(statistic=4.65087071883494,\n                      pvalue=0.19922132490385214)"
                    },
                    "execution_count": null
                }
            ]
        },
        {
            "id": "dc668824",
            "cell_type": "markdown",
            "source": "The p-value is 0.1992, indicating a nearly 20% chance of observing\nsuch an extreme value of the test statistic under the null hypothesis.\nThis exceeds 5%, so we do not reject the null hypothesis in favor of\nthe alternative.",
            "metadata": {}
        }
    ]
}