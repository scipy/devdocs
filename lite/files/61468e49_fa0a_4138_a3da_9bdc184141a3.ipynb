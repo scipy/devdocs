{
    "nbformat": 4,
    "nbformat_minor": 5,
    "metadata": {
        "kernelspec": {
            "display_name": "Python",
            "language": "python",
            "name": "python"
        },
        "language_info": {
            "name": "python"
        }
    },
    "cells": [
        {
            "id": "2bfb0bc9",
            "cell_type": "markdown",
            "source": "<div class='alert alert-warning'>\n\nSciPy's interactive examples with Jupyterlite are experimental and may not always work as expected. Execution of cells containing imports may result in large downloads (up to 60MB of content for the first import from SciPy). Load times when importing from SciPy may take roughly 10-20 seconds. If you notice any problems, feel free to open an [issue](https://github.com/scipy/scipy/issues/new/choose).\n\n</div>",
            "metadata": {}
        },
        {
            "id": "681b7369",
            "cell_type": "markdown",
            "source": "Find the zeroes, poles and gain of\na filter with the transfer function\n\n$$ H(s) = \\frac{3s^2}{s^2 + 5s + 13} $$",
            "metadata": {}
        },
        {
            "id": "dd6110ac",
            "cell_type": "code",
            "metadata": {},
            "execution_count": null,
            "source": "from scipy.signal import tf2zpk\ntf2zpk([3, 0, 0], [1, 5, 13])",
            "outputs": [
                {
                    "output_type": "execute_result",
                    "metadata": {},
                    "data": {
                        "text/plain": "(   array([ 0.               ,  0.              ]),\n    array([ -2.5+2.59807621j ,  -2.5-2.59807621j]),\n    3.0)"
                    },
                    "execution_count": null
                }
            ]
        }
    ]
}