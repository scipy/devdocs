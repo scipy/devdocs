{
    "nbformat": 4,
    "nbformat_minor": 5,
    "metadata": {
        "kernelspec": {
            "display_name": "Python",
            "language": "python",
            "name": "python"
        },
        "language_info": {
            "name": "python"
        }
    },
    "cells": [
        {
            "id": "b7cdb8b7",
            "cell_type": "markdown",
            "source": "<div class='alert alert-warning'>\n\nSciPy's interactive examples with Jupyterlite are experimental and may not always work as expected. Execution of cells containing imports may result in large downloads (up to 60MB of content for the first import from SciPy). Load times when importing from SciPy may take roughly 10-20 seconds. If you notice any problems, feel free to open an [issue](https://github.com/scipy/scipy/issues/new/choose).\n\n</div>",
            "metadata": {}
        },
        {
            "id": "cce0a5f1",
            "cell_type": "markdown",
            "source": "Use the 'zpk' (Zero-Pole-Gain) representation of a lowpass filter to\ntransform it to a bandpass filter with a center frequency wo and\nbandwidth bw.\n",
            "metadata": {}
        },
        {
            "id": "c23b4068",
            "cell_type": "code",
            "metadata": {},
            "execution_count": null,
            "source": "from scipy.signal import lp2bp_zpk\nz   = [ 5 + 2j ,  5 - 2j ]\np   = [ 7      ,  -16    ]\nk   = 0.8\nwo  = 0.62\nbw  = 15\nlp2bp_zpk(z, p, k, wo, bw)",
            "outputs": [
                {
                    "output_type": "execute_result",
                    "metadata": {},
                    "data": {
                        "text/plain": "(   array([7.49955815e+01+3.00017676e+01j, 7.49955815e+01-3.00017676e+01j,\n           4.41850748e-03-1.76761126e-03j, 4.41850748e-03+1.76761126e-03j]),\n    array([1.04996339e+02+0.j, -1.60167736e-03+0.j,  3.66108003e-03+0.j,\n           -2.39998398e+02+0.j]), 0.8)"
                    },
                    "execution_count": null
                }
            ]
        }
    ]
}