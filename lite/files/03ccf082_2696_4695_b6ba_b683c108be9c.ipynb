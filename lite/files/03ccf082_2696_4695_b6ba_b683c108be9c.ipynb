{
    "nbformat": 4,
    "nbformat_minor": 5,
    "metadata": {
        "kernelspec": {
            "display_name": "Python",
            "language": "python",
            "name": "python"
        },
        "language_info": {
            "name": "python"
        }
    },
    "cells": [
        {
            "id": "4bcfbc7f",
            "cell_type": "markdown",
            "source": "<div class='alert alert-warning'>\n\nSciPy's interactive examples with Jupyterlite are experimental and may not always work as expected. Execution of cells containing imports may result in large downloads (up to 60MB of content for the first import from SciPy). Load times when importing from SciPy may take roughly 10-20 seconds. If you notice any problems, feel free to open an [issue](https://github.com/scipy/scipy/issues/new/choose).\n\n</div>",
            "metadata": {}
        },
        {
            "id": "d85b4cb9",
            "cell_type": "code",
            "metadata": {},
            "execution_count": null,
            "source": "import numpy as np\nfrom scipy.stats import loglaplace\nimport matplotlib.pyplot as plt\nfig, ax = plt.subplots(1, 1)",
            "outputs": []
        },
        {
            "id": "989e06b9",
            "cell_type": "markdown",
            "source": "Calculate the first four moments:\n",
            "metadata": {}
        },
        {
            "id": "384d32fd",
            "cell_type": "code",
            "metadata": {},
            "execution_count": null,
            "source": "c = 3.25\nmean, var, skew, kurt = loglaplace.stats(c, moments='mvsk')",
            "outputs": []
        },
        {
            "id": "4777db43",
            "cell_type": "markdown",
            "source": "Display the probability density function (``pdf``):\n",
            "metadata": {}
        },
        {
            "id": "09e0af90",
            "cell_type": "code",
            "metadata": {},
            "execution_count": null,
            "source": "x = np.linspace(loglaplace.ppf(0.01, c),\n                loglaplace.ppf(0.99, c), 100)\nax.plot(x, loglaplace.pdf(x, c),\n       'r-', lw=5, alpha=0.6, label='loglaplace pdf')",
            "outputs": []
        },
        {
            "id": "d3bb4738",
            "cell_type": "markdown",
            "source": "Alternatively, the distribution object can be called (as a function)\nto fix the shape, location and scale parameters. This returns a \"frozen\"\nRV object holding the given parameters fixed.\n\nFreeze the distribution and display the frozen ``pdf``:\n",
            "metadata": {}
        },
        {
            "id": "bc4d3b60",
            "cell_type": "code",
            "metadata": {},
            "execution_count": null,
            "source": "rv = loglaplace(c)\nax.plot(x, rv.pdf(x), 'k-', lw=2, label='frozen pdf')",
            "outputs": []
        },
        {
            "id": "711d7974",
            "cell_type": "markdown",
            "source": "Check accuracy of ``cdf`` and ``ppf``:\n",
            "metadata": {}
        },
        {
            "id": "00d5159d",
            "cell_type": "code",
            "metadata": {},
            "execution_count": null,
            "source": "vals = loglaplace.ppf([0.001, 0.5, 0.999], c)\nnp.allclose([0.001, 0.5, 0.999], loglaplace.cdf(vals, c))",
            "outputs": [
                {
                    "output_type": "execute_result",
                    "metadata": {},
                    "data": {
                        "text/plain": "True"
                    },
                    "execution_count": null
                }
            ]
        },
        {
            "id": "1eda46ab",
            "cell_type": "markdown",
            "source": "Generate random numbers:\n",
            "metadata": {}
        },
        {
            "id": "e792ac52",
            "cell_type": "code",
            "metadata": {},
            "execution_count": null,
            "source": "r = loglaplace.rvs(c, size=1000)",
            "outputs": []
        },
        {
            "id": "9ea81329",
            "cell_type": "markdown",
            "source": "And compare the histogram:\n",
            "metadata": {}
        },
        {
            "id": "4ea47d85",
            "cell_type": "code",
            "metadata": {},
            "execution_count": null,
            "source": "ax.hist(r, density=True, bins='auto', histtype='stepfilled', alpha=0.2)\nax.set_xlim([x[0], x[-1]])\nax.legend(loc='best', frameon=False)\nplt.show()",
            "outputs": []
        }
    ]
}