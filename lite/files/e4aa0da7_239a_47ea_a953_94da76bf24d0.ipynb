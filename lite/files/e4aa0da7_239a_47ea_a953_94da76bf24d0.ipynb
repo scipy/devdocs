{
    "nbformat": 4,
    "nbformat_minor": 5,
    "metadata": {
        "kernelspec": {
            "display_name": "Python",
            "language": "python",
            "name": "python"
        },
        "language_info": {
            "name": "python"
        }
    },
    "cells": [
        {
            "id": "6d5cc60a",
            "cell_type": "markdown",
            "source": "<div class='alert alert-warning'>\n\nSciPy's interactive examples with Jupyterlite are experimental and may not always work as expected. Execution of cells containing imports may result in large downloads (up to 60MB of content for the first import from SciPy). Load times when importing from SciPy may take roughly 10-20 seconds. If you notice any problems, feel free to open an [issue](https://github.com/scipy/scipy/issues/new/choose).\n\n</div>",
            "metadata": {}
        },
        {
            "id": "32684549",
            "cell_type": "code",
            "metadata": {},
            "execution_count": null,
            "source": "from scipy.special import boxcox1p\nboxcox1p(1e-4, [0, 0.5, 1])",
            "outputs": [
                {
                    "output_type": "execute_result",
                    "metadata": {},
                    "data": {
                        "text/plain": "array([  9.99950003e-05,   9.99975001e-05,   1.00000000e-04])"
                    },
                    "execution_count": null
                }
            ]
        },
        {
            "id": "f978b64f",
            "cell_type": "code",
            "metadata": {},
            "execution_count": null,
            "source": "boxcox1p([0.01, 0.1], 0.25)",
            "outputs": [
                {
                    "output_type": "execute_result",
                    "metadata": {},
                    "data": {
                        "text/plain": "array([ 0.00996272,  0.09645476])"
                    },
                    "execution_count": null
                }
            ]
        }
    ]
}