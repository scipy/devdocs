{
    "nbformat": 4,
    "nbformat_minor": 5,
    "metadata": {
        "kernelspec": {
            "display_name": "Python",
            "language": "python",
            "name": "python"
        },
        "language_info": {
            "name": "python"
        }
    },
    "cells": [
        {
            "id": "156b140f",
            "cell_type": "markdown",
            "source": "<div class='alert alert-warning'>\n\nSciPy's interactive examples with Jupyterlite are experimental and may not always work as expected. Execution of cells containing imports may result in large downloads (up to 60MB of content for the first import from SciPy). Load times when importing from SciPy may take roughly 10-20 seconds. If you notice any problems, feel free to open an [issue](https://github.com/scipy/scipy/issues/new/choose).\n\n</div>",
            "metadata": {}
        },
        {
            "id": "019037e0",
            "cell_type": "code",
            "metadata": {},
            "execution_count": null,
            "source": "import numpy as np\nfrom scipy import special\nimport matplotlib.pyplot as plt",
            "outputs": []
        },
        {
            "id": "4b20b40e",
            "cell_type": "markdown",
            "source": "We can initialize a variable ``p`` as a Gegenbauer polynomial using the\n`gegenbauer` function and evaluate at a point ``x = 1``.\n",
            "metadata": {}
        },
        {
            "id": "a9742219",
            "cell_type": "code",
            "metadata": {},
            "execution_count": null,
            "source": "p = special.gegenbauer(3, 0.5, monic=False)\np",
            "outputs": [
                {
                    "output_type": "execute_result",
                    "metadata": {},
                    "data": {
                        "text/plain": "poly1d([ 2.5,  0. , -1.5,  0. ])"
                    },
                    "execution_count": null
                }
            ]
        },
        {
            "id": "1488d069",
            "cell_type": "code",
            "metadata": {},
            "execution_count": null,
            "source": "p(1)",
            "outputs": [
                {
                    "output_type": "execute_result",
                    "metadata": {},
                    "data": {
                        "text/plain": "1.0"
                    },
                    "execution_count": null
                }
            ]
        },
        {
            "id": "5c7a677a",
            "cell_type": "markdown",
            "source": "To evaluate ``p`` at various points ``x`` in the interval ``(-3, 3)``,\nsimply pass an array ``x`` to ``p`` as follows:\n",
            "metadata": {}
        },
        {
            "id": "58df981b",
            "cell_type": "code",
            "metadata": {},
            "execution_count": null,
            "source": "x = np.linspace(-3, 3, 400)\ny = p(x)",
            "outputs": []
        },
        {
            "id": "5d32461d",
            "cell_type": "markdown",
            "source": "We can then visualize ``x, y`` using `matplotlib.pyplot`.\n",
            "metadata": {}
        },
        {
            "id": "1af8445e",
            "cell_type": "code",
            "metadata": {},
            "execution_count": null,
            "source": "fig, ax = plt.subplots()\nax.plot(x, y)\nax.set_title(\"Gegenbauer (ultraspherical) polynomial of degree 3\")\nax.set_xlabel(\"x\")\nax.set_ylabel(\"G_3(x)\")\nplt.show()",
            "outputs": []
        }
    ]
}