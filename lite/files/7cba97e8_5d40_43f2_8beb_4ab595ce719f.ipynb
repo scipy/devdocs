{
    "nbformat": 4,
    "nbformat_minor": 5,
    "metadata": {
        "kernelspec": {
            "display_name": "Python",
            "language": "python",
            "name": "python"
        },
        "language_info": {
            "name": "python"
        }
    },
    "cells": [
        {
            "id": "6193ae1c",
            "cell_type": "markdown",
            "source": "<div class='alert alert-warning'>\n\nSciPy's interactive examples with Jupyterlite are experimental and may not always work as expected. Execution of cells containing imports may result in large downloads (up to 60MB of content for the first import from SciPy). Load times when importing from SciPy may take roughly 10-20 seconds. If you notice any problems, feel free to open an [issue](https://github.com/scipy/scipy/issues/new/choose).\n\n</div>",
            "metadata": {}
        },
        {
            "id": "d86e4932",
            "cell_type": "code",
            "metadata": {},
            "execution_count": null,
            "source": "import numpy as np\nfrom scipy.stats import dgamma\nimport matplotlib.pyplot as plt\nfig, ax = plt.subplots(1, 1)",
            "outputs": []
        },
        {
            "id": "ff8808f5",
            "cell_type": "markdown",
            "source": "Calculate the first four moments:\n",
            "metadata": {}
        },
        {
            "id": "ae212ec0",
            "cell_type": "code",
            "metadata": {},
            "execution_count": null,
            "source": "a = 1.1\nmean, var, skew, kurt = dgamma.stats(a, moments='mvsk')",
            "outputs": []
        },
        {
            "id": "cffea206",
            "cell_type": "markdown",
            "source": "Display the probability density function (``pdf``):\n",
            "metadata": {}
        },
        {
            "id": "45053c3a",
            "cell_type": "code",
            "metadata": {},
            "execution_count": null,
            "source": "x = np.linspace(dgamma.ppf(0.01, a),\n                dgamma.ppf(0.99, a), 100)\nax.plot(x, dgamma.pdf(x, a),\n       'r-', lw=5, alpha=0.6, label='dgamma pdf')",
            "outputs": []
        },
        {
            "id": "c93104e4",
            "cell_type": "markdown",
            "source": "Alternatively, the distribution object can be called (as a function)\nto fix the shape, location and scale parameters. This returns a \"frozen\"\nRV object holding the given parameters fixed.\n\nFreeze the distribution and display the frozen ``pdf``:\n",
            "metadata": {}
        },
        {
            "id": "cf806fb0",
            "cell_type": "code",
            "metadata": {},
            "execution_count": null,
            "source": "rv = dgamma(a)\nax.plot(x, rv.pdf(x), 'k-', lw=2, label='frozen pdf')",
            "outputs": []
        },
        {
            "id": "7f84e12e",
            "cell_type": "markdown",
            "source": "Check accuracy of ``cdf`` and ``ppf``:\n",
            "metadata": {}
        },
        {
            "id": "e7f8bc2c",
            "cell_type": "code",
            "metadata": {},
            "execution_count": null,
            "source": "vals = dgamma.ppf([0.001, 0.5, 0.999], a)\nnp.allclose([0.001, 0.5, 0.999], dgamma.cdf(vals, a))",
            "outputs": [
                {
                    "output_type": "execute_result",
                    "metadata": {},
                    "data": {
                        "text/plain": "True"
                    },
                    "execution_count": null
                }
            ]
        },
        {
            "id": "36d1e5a8",
            "cell_type": "markdown",
            "source": "Generate random numbers:\n",
            "metadata": {}
        },
        {
            "id": "bcf16153",
            "cell_type": "code",
            "metadata": {},
            "execution_count": null,
            "source": "r = dgamma.rvs(a, size=1000)",
            "outputs": []
        },
        {
            "id": "6d89adad",
            "cell_type": "markdown",
            "source": "And compare the histogram:\n",
            "metadata": {}
        },
        {
            "id": "d35aaab1",
            "cell_type": "code",
            "metadata": {},
            "execution_count": null,
            "source": "ax.hist(r, density=True, bins='auto', histtype='stepfilled', alpha=0.2)\nax.set_xlim([x[0], x[-1]])\nax.legend(loc='best', frameon=False)\nplt.show()",
            "outputs": []
        }
    ]
}