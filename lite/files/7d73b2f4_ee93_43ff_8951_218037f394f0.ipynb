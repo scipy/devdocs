{
    "nbformat": 4,
    "nbformat_minor": 5,
    "metadata": {
        "kernelspec": {
            "display_name": "Python",
            "language": "python",
            "name": "python"
        },
        "language_info": {
            "name": "python"
        }
    },
    "cells": [
        {
            "id": "cef4c0bf",
            "cell_type": "markdown",
            "source": "<div class='alert alert-warning'>\n\nSciPy's interactive examples with Jupyterlite are experimental and may not always work as expected. Execution of cells containing imports may result in large downloads (up to 60MB of content for the first import from SciPy). Load times when importing from SciPy may take roughly 10-20 seconds. If you notice any problems, feel free to open an [issue](https://github.com/scipy/scipy/issues/new/choose).\n\n</div>",
            "metadata": {}
        },
        {
            "id": "cc415ac3",
            "cell_type": "code",
            "metadata": {},
            "execution_count": null,
            "source": "import scipy.fft\nimport numpy as np\nx = np.eye(4)\nscipy.fft.ifftn(scipy.fft.fftn(x, axes=(0,)), axes=(1,))",
            "outputs": [
                {
                    "output_type": "execute_result",
                    "metadata": {},
                    "data": {
                        "text/plain": "array([[1.+0.j,  0.+0.j,  0.+0.j,  0.+0.j], # may vary\n       [0.+0.j,  1.+0.j,  0.+0.j,  0.+0.j],\n       [0.+0.j,  0.+0.j,  1.+0.j,  0.+0.j],\n       [0.+0.j,  0.+0.j,  0.+0.j,  1.+0.j]])"
                    },
                    "execution_count": null
                }
            ]
        },
        {
            "id": "9f22958a",
            "cell_type": "markdown",
            "source": "Create and plot an image with band-limited frequency content:\n",
            "metadata": {}
        },
        {
            "id": "3a8e565a",
            "cell_type": "code",
            "metadata": {},
            "execution_count": null,
            "source": "import matplotlib.pyplot as plt\nrng = np.random.default_rng()\nn = np.zeros((200,200), dtype=complex)\nn[60:80, 20:40] = np.exp(1j*rng.uniform(0, 2*np.pi, (20, 20)))\nim = scipy.fft.ifftn(n).real\nplt.imshow(im)",
            "outputs": [
                {
                    "output_type": "execute_result",
                    "metadata": {},
                    "data": {
                        "text/plain": "<matplotlib.image.AxesImage object at 0x...>"
                    },
                    "execution_count": null
                }
            ]
        },
        {
            "id": "c0ad8732",
            "cell_type": "code",
            "metadata": {},
            "execution_count": null,
            "source": "plt.show()",
            "outputs": []
        }
    ]
}