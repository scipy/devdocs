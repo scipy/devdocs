{
    "nbformat": 4,
    "nbformat_minor": 5,
    "metadata": {
        "kernelspec": {
            "display_name": "Python",
            "language": "python",
            "name": "python"
        },
        "language_info": {
            "name": "python"
        }
    },
    "cells": [
        {
            "id": "ad9f814a",
            "cell_type": "markdown",
            "source": "<div class='alert alert-warning'>\n\nSciPy's interactive examples with Jupyterlite are experimental and may not always work as expected. Execution of cells containing imports may result in large downloads (up to 60MB of content for the first import from SciPy). Load times when importing from SciPy may take roughly 10-20 seconds. If you notice any problems, feel free to open an [issue](https://github.com/scipy/scipy/issues/new/choose).\n\n</div>",
            "metadata": {}
        },
        {
            "id": "1a77869f",
            "cell_type": "code",
            "metadata": {},
            "execution_count": null,
            "source": "from scipy.stats.sampling import SimpleRatioUniforms\nimport numpy as np",
            "outputs": []
        },
        {
            "id": "a05dae8b",
            "cell_type": "markdown",
            "source": "Suppose we have the normal distribution:\n",
            "metadata": {}
        },
        {
            "id": "ea031140",
            "cell_type": "code",
            "metadata": {},
            "execution_count": null,
            "source": "class StdNorm:\n    def pdf(self, x):\n        return np.exp(-0.5 * x**2)",
            "outputs": []
        },
        {
            "id": "e82c4cb8",
            "cell_type": "markdown",
            "source": "Notice that the PDF doesn't integrate to 1. We can either pass the exact\narea under the PDF during initialization of the generator or an upper\nbound to the exact area under the PDF. Also, it is recommended to pass\nthe mode of the distribution to speed up the setup:\n",
            "metadata": {}
        },
        {
            "id": "2b9105c0",
            "cell_type": "code",
            "metadata": {},
            "execution_count": null,
            "source": "urng = np.random.default_rng()\ndist = StdNorm()\nrng = SimpleRatioUniforms(dist, mode=0,\n                          pdf_area=np.sqrt(2*np.pi),\n                          random_state=urng)",
            "outputs": []
        },
        {
            "id": "9ac40897",
            "cell_type": "markdown",
            "source": "Now, we can use the `rvs` method to generate samples from the distribution:\n",
            "metadata": {}
        },
        {
            "id": "a39351f7",
            "cell_type": "code",
            "metadata": {},
            "execution_count": null,
            "source": "rvs = rng.rvs(10)",
            "outputs": []
        },
        {
            "id": "7d7ab7d7",
            "cell_type": "markdown",
            "source": "If the CDF at mode is available, it can be set to improve the performance of `rvs`:\n",
            "metadata": {}
        },
        {
            "id": "f0e65f27",
            "cell_type": "code",
            "metadata": {},
            "execution_count": null,
            "source": "from scipy.stats import norm\nrng = SimpleRatioUniforms(dist, mode=0,\n                          pdf_area=np.sqrt(2*np.pi),\n                          cdf_at_mode=norm.cdf(0),\n                          random_state=urng)\nrvs = rng.rvs(1000)",
            "outputs": []
        },
        {
            "id": "e9c52baa",
            "cell_type": "markdown",
            "source": "We can check that the samples are from the given distribution by visualizing\nits histogram:\n",
            "metadata": {}
        },
        {
            "id": "5ff852a0",
            "cell_type": "code",
            "metadata": {},
            "execution_count": null,
            "source": "import matplotlib.pyplot as plt\nx = np.linspace(rvs.min()-0.1, rvs.max()+0.1, 1000)\nfx = 1/np.sqrt(2*np.pi) * dist.pdf(x)\nfig, ax = plt.subplots()\nax.plot(x, fx, 'r-', lw=2, label='true distribution')\nax.hist(rvs, bins=10, density=True, alpha=0.8, label='random variates')\nax.set_xlabel('x')\nax.set_ylabel('PDF(x)')\nax.set_title('Simple Ratio-of-Uniforms Samples')\nax.legend()\nplt.show()",
            "outputs": []
        }
    ]
}