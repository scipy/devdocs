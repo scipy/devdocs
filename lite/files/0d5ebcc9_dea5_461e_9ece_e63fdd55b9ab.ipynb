{
    "nbformat": 4,
    "nbformat_minor": 5,
    "metadata": {
        "kernelspec": {
            "display_name": "Python",
            "language": "python",
            "name": "python"
        },
        "language_info": {
            "name": "python"
        }
    },
    "cells": [
        {
            "id": "e55f2a83",
            "cell_type": "markdown",
            "source": "<div class='alert alert-warning'>\n\nSciPy's interactive examples with Jupyterlite are experimental and may not always work as expected. Execution of cells containing imports may result in large downloads (up to 60MB of content for the first import from SciPy). Load times when importing from SciPy may take roughly 10-20 seconds. If you notice any problems, feel free to open an [issue](https://github.com/scipy/scipy/issues/new/choose).\n\n</div>",
            "metadata": {}
        },
        {
            "id": "5e06416a",
            "cell_type": "code",
            "metadata": {},
            "execution_count": null,
            "source": "import numpy as np\nimport scipy.special as sc",
            "outputs": []
        },
        {
            "id": "583b881b",
            "cell_type": "markdown",
            "source": "They are a scaled version of the Chebyshev polynomials of the\nfirst kind.\n",
            "metadata": {}
        },
        {
            "id": "3969a3ae",
            "cell_type": "code",
            "metadata": {},
            "execution_count": null,
            "source": "x = np.linspace(-2, 2, 6)\nsc.eval_chebyc(3, x)",
            "outputs": [
                {
                    "output_type": "execute_result",
                    "metadata": {},
                    "data": {
                        "text/plain": "array([-2.   ,  1.872,  1.136, -1.136, -1.872,  2.   ])"
                    },
                    "execution_count": null
                }
            ]
        },
        {
            "id": "b36c9b59",
            "cell_type": "code",
            "metadata": {},
            "execution_count": null,
            "source": "2 * sc.eval_chebyt(3, x / 2)",
            "outputs": [
                {
                    "output_type": "execute_result",
                    "metadata": {},
                    "data": {
                        "text/plain": "array([-2.   ,  1.872,  1.136, -1.136, -1.872,  2.   ])"
                    },
                    "execution_count": null
                }
            ]
        }
    ]
}