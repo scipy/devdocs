{
    "nbformat": 4,
    "nbformat_minor": 5,
    "metadata": {
        "kernelspec": {
            "display_name": "Python",
            "language": "python",
            "name": "python"
        },
        "language_info": {
            "name": "python"
        }
    },
    "cells": [
        {
            "id": "73d3e104",
            "cell_type": "markdown",
            "source": "<div class='alert alert-warning'>\n\nSciPy's interactive examples with Jupyterlite are experimental and may not always work as expected. Execution of cells containing imports may result in large downloads (up to 60MB of content for the first import from SciPy). Load times when importing from SciPy may take roughly 10-20 seconds. If you notice any problems, feel free to open an [issue](https://github.com/scipy/scipy/issues/new/choose).\n\n</div>",
            "metadata": {}
        },
        {
            "id": "03a129f4",
            "cell_type": "code",
            "metadata": {},
            "execution_count": null,
            "source": "import numpy as np\nfrom scipy.sparse import csr_matrix\nfrom scipy.sparse.csgraph import construct_dist_matrix",
            "outputs": []
        },
        {
            "id": "f839e576",
            "cell_type": "code",
            "metadata": {},
            "execution_count": null,
            "source": "graph = [\n[0, 1, 2, 0],\n[0, 0, 0, 1],\n[0, 0, 0, 3],\n[0, 0, 0, 0]\n]\ngraph = csr_matrix(graph)\nprint(graph)",
            "outputs": [
                {
                    "output_type": "execute_result",
                    "metadata": {},
                    "data": {
                        "text/plain": "<Compressed Sparse Row sparse matrix of dtype 'int64'\n    with 4 stored elements and shape (4, 4)>\n    Coords  Values\n    (0, 1)  1\n    (0, 2)  2\n    (1, 3)  1\n    (2, 3)  3"
                    },
                    "execution_count": null
                }
            ]
        },
        {
            "id": "ed883fc5",
            "cell_type": "code",
            "metadata": {},
            "execution_count": null,
            "source": "pred = np.array([[-9999, 0, 0, 2],\n                 [1, -9999, 0, 1],\n                 [2, 0, -9999, 2],\n                 [1, 3, 3, -9999]], dtype=np.int32)",
            "outputs": []
        },
        {
            "id": "3a9fb311",
            "cell_type": "code",
            "metadata": {},
            "execution_count": null,
            "source": "construct_dist_matrix(graph=graph, predecessors=pred, directed=False)",
            "outputs": [
                {
                    "output_type": "execute_result",
                    "metadata": {},
                    "data": {
                        "text/plain": "array([[0., 1., 2., 5.],\n       [1., 0., 3., 1.],\n       [2., 3., 0., 3.],\n       [2., 1., 3., 0.]])"
                    },
                    "execution_count": null
                }
            ]
        }
    ]
}