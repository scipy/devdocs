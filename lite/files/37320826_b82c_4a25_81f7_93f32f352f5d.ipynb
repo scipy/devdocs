{
    "nbformat": 4,
    "nbformat_minor": 5,
    "metadata": {
        "kernelspec": {
            "display_name": "Python",
            "language": "python",
            "name": "python"
        },
        "language_info": {
            "name": "python"
        }
    },
    "cells": [
        {
            "id": "8cfba87c",
            "cell_type": "markdown",
            "source": "<div class='alert alert-warning'>\n\nSciPy's interactive examples with Jupyterlite are experimental and may not always work as expected. Execution of cells containing imports may result in large downloads (up to 60MB of content for the first import from SciPy). Load times when importing from SciPy may take roughly 10-20 seconds. If you notice any problems, feel free to open an [issue](https://github.com/scipy/scipy/issues/new/choose).\n\n</div>",
            "metadata": {}
        },
        {
            "id": "5426cc2f",
            "cell_type": "markdown",
            "source": "When comparing the behavior of `median_abs_deviation` with ``np.std``,\nthe latter is affected when we change a single value of an array to have an\noutlier value while the MAD hardly changes:\n",
            "metadata": {}
        },
        {
            "id": "9c432994",
            "cell_type": "code",
            "metadata": {},
            "execution_count": null,
            "source": "import numpy as np\nfrom scipy import stats\nx = stats.norm.rvs(size=100, scale=1, random_state=123456)\nx.std()",
            "outputs": [
                {
                    "output_type": "execute_result",
                    "metadata": {},
                    "data": {
                        "text/plain": "0.9973906394005013"
                    },
                    "execution_count": null
                }
            ]
        },
        {
            "id": "a97ca2fa",
            "cell_type": "code",
            "metadata": {},
            "execution_count": null,
            "source": "stats.median_abs_deviation(x)",
            "outputs": [
                {
                    "output_type": "execute_result",
                    "metadata": {},
                    "data": {
                        "text/plain": "0.82832610097857"
                    },
                    "execution_count": null
                }
            ]
        },
        {
            "id": "fad8f94f",
            "cell_type": "code",
            "metadata": {},
            "execution_count": null,
            "source": "x[0] = 345.6\nx.std()",
            "outputs": [
                {
                    "output_type": "execute_result",
                    "metadata": {},
                    "data": {
                        "text/plain": "34.42304872314415"
                    },
                    "execution_count": null
                }
            ]
        },
        {
            "id": "bcc50456",
            "cell_type": "code",
            "metadata": {},
            "execution_count": null,
            "source": "stats.median_abs_deviation(x)",
            "outputs": [
                {
                    "output_type": "execute_result",
                    "metadata": {},
                    "data": {
                        "text/plain": "0.8323442311590675"
                    },
                    "execution_count": null
                }
            ]
        },
        {
            "id": "57bbce3e",
            "cell_type": "markdown",
            "source": "Axis handling example:\n",
            "metadata": {}
        },
        {
            "id": "65bed3f8",
            "cell_type": "code",
            "metadata": {},
            "execution_count": null,
            "source": "x = np.array([[10, 7, 4], [3, 2, 1]])\nx",
            "outputs": [
                {
                    "output_type": "execute_result",
                    "metadata": {},
                    "data": {
                        "text/plain": "array([[10,  7,  4],\n       [ 3,  2,  1]])"
                    },
                    "execution_count": null
                }
            ]
        },
        {
            "id": "dfb2760a",
            "cell_type": "code",
            "metadata": {},
            "execution_count": null,
            "source": "stats.median_abs_deviation(x)",
            "outputs": [
                {
                    "output_type": "execute_result",
                    "metadata": {},
                    "data": {
                        "text/plain": "array([3.5, 2.5, 1.5])"
                    },
                    "execution_count": null
                }
            ]
        },
        {
            "id": "8338235e",
            "cell_type": "code",
            "metadata": {},
            "execution_count": null,
            "source": "stats.median_abs_deviation(x, axis=None)",
            "outputs": [
                {
                    "output_type": "execute_result",
                    "metadata": {},
                    "data": {
                        "text/plain": "2.0"
                    },
                    "execution_count": null
                }
            ]
        },
        {
            "id": "f3393ef7",
            "cell_type": "markdown",
            "source": "Scale normal example:\n",
            "metadata": {}
        },
        {
            "id": "31114b15",
            "cell_type": "code",
            "metadata": {},
            "execution_count": null,
            "source": "x = stats.norm.rvs(size=1000000, scale=2, random_state=123456)\nstats.median_abs_deviation(x)",
            "outputs": [
                {
                    "output_type": "execute_result",
                    "metadata": {},
                    "data": {
                        "text/plain": "1.3487398527041636"
                    },
                    "execution_count": null
                }
            ]
        },
        {
            "id": "d21b9418",
            "cell_type": "code",
            "metadata": {},
            "execution_count": null,
            "source": "stats.median_abs_deviation(x, scale='normal')",
            "outputs": [
                {
                    "output_type": "execute_result",
                    "metadata": {},
                    "data": {
                        "text/plain": "1.9996446978061115"
                    },
                    "execution_count": null
                }
            ]
        }
    ]
}