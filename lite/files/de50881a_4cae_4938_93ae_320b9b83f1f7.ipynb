{
    "nbformat": 4,
    "nbformat_minor": 5,
    "metadata": {
        "kernelspec": {
            "display_name": "Python",
            "language": "python",
            "name": "python"
        },
        "language_info": {
            "name": "python"
        }
    },
    "cells": [
        {
            "id": "2a280eb7",
            "cell_type": "markdown",
            "source": "<div class='alert alert-warning'>\n\nSciPy's interactive examples with Jupyterlite are experimental and may not always work as expected. Execution of cells containing imports may result in large downloads (up to 60MB of content for the first import from SciPy). Load times when importing from SciPy may take roughly 10-20 seconds. If you notice any problems, feel free to open an [issue](https://github.com/scipy/scipy/issues/new/choose).\n\n</div>",
            "metadata": {}
        },
        {
            "id": "03e5880c",
            "cell_type": "markdown",
            "source": "Calculate the function at one point:\n",
            "metadata": {}
        },
        {
            "id": "997a9585",
            "cell_type": "code",
            "metadata": {},
            "execution_count": null,
            "source": "from scipy.special import y1\ny1(1.)",
            "outputs": [
                {
                    "output_type": "execute_result",
                    "metadata": {},
                    "data": {
                        "text/plain": "-0.7812128213002888"
                    },
                    "execution_count": null
                }
            ]
        },
        {
            "id": "a9da8f91",
            "cell_type": "markdown",
            "source": "Calculate at several points:\n",
            "metadata": {}
        },
        {
            "id": "5d540a0a",
            "cell_type": "code",
            "metadata": {},
            "execution_count": null,
            "source": "import numpy as np\ny1(np.array([0.5, 2., 3.]))",
            "outputs": [
                {
                    "output_type": "execute_result",
                    "metadata": {},
                    "data": {
                        "text/plain": "array([-1.47147239, -0.10703243,  0.32467442])"
                    },
                    "execution_count": null
                }
            ]
        },
        {
            "id": "fa77a7bc",
            "cell_type": "markdown",
            "source": "Plot the function from 0 to 10.\n",
            "metadata": {}
        },
        {
            "id": "67d5dfe9",
            "cell_type": "code",
            "metadata": {},
            "execution_count": null,
            "source": "import matplotlib.pyplot as plt\nfig, ax = plt.subplots()\nx = np.linspace(0., 10., 1000)\ny = y1(x)\nax.plot(x, y)\nplt.show()",
            "outputs": []
        }
    ]
}