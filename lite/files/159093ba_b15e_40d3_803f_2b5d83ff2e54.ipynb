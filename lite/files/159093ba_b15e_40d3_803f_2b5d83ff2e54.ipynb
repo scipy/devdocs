{
    "nbformat": 4,
    "nbformat_minor": 5,
    "metadata": {
        "kernelspec": {
            "display_name": "Python",
            "language": "python",
            "name": "python"
        },
        "language_info": {
            "name": "python"
        }
    },
    "cells": [
        {
            "id": "31a1dca6",
            "cell_type": "markdown",
            "source": "<div class='alert alert-warning'>\n\nSciPy's interactive examples with Jupyterlite are experimental and may not always work as expected. Execution of cells containing imports may result in large downloads (up to 60MB of content for the first import from SciPy). Load times when importing from SciPy may take roughly 10-20 seconds. If you notice any problems, feel free to open an [issue](https://github.com/scipy/scipy/issues/new/choose).\n\n</div>",
            "metadata": {}
        },
        {
            "id": "8480f6d0",
            "cell_type": "markdown",
            "source": "Demonstrate interpolating scattered data to a grid in 2-D.\n",
            "metadata": {}
        },
        {
            "id": "73c295c4",
            "cell_type": "code",
            "metadata": {},
            "execution_count": null,
            "source": "import numpy as np\nimport matplotlib.pyplot as plt\nfrom scipy.interpolate import RBFInterpolator\nfrom scipy.stats.qmc import Halton",
            "outputs": []
        },
        {
            "id": "49b916ae",
            "cell_type": "code",
            "metadata": {},
            "execution_count": null,
            "source": "rng = np.random.default_rng()\nxobs = 2*Halton(2, seed=rng).random(100) - 1\nyobs = np.sum(xobs, axis=1)*np.exp(-6*np.sum(xobs**2, axis=1))",
            "outputs": []
        },
        {
            "id": "112e7a88",
            "cell_type": "code",
            "metadata": {},
            "execution_count": null,
            "source": "xgrid = np.mgrid[-1:1:50j, -1:1:50j]\nxflat = xgrid.reshape(2, -1).T\nyflat = RBFInterpolator(xobs, yobs)(xflat)\nygrid = yflat.reshape(50, 50)",
            "outputs": []
        },
        {
            "id": "2bd44ecb",
            "cell_type": "code",
            "metadata": {},
            "execution_count": null,
            "source": "fig, ax = plt.subplots()\nax.pcolormesh(*xgrid, ygrid, vmin=-0.25, vmax=0.25, shading='gouraud')\np = ax.scatter(*xobs.T, c=yobs, s=50, ec='k', vmin=-0.25, vmax=0.25)\nfig.colorbar(p)\nplt.show()",
            "outputs": []
        }
    ]
}