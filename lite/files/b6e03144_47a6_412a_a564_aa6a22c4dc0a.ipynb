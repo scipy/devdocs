{
    "nbformat": 4,
    "nbformat_minor": 5,
    "metadata": {
        "kernelspec": {
            "display_name": "Python",
            "language": "python",
            "name": "python"
        },
        "language_info": {
            "name": "python"
        }
    },
    "cells": [
        {
            "id": "ca4af214",
            "cell_type": "markdown",
            "source": "<div class='alert alert-warning'>\n\nSciPy's interactive examples with Jupyterlite are experimental and may not always work as expected. Execution of cells containing imports may result in large downloads (up to 60MB of content for the first import from SciPy). Load times when importing from SciPy may take roughly 10-20 seconds. If you notice any problems, feel free to open an [issue](https://github.com/scipy/scipy/issues/new/choose).\n\n</div>",
            "metadata": {}
        },
        {
            "id": "0a35a618",
            "cell_type": "code",
            "metadata": {},
            "execution_count": null,
            "source": "import numpy as np\nfrom scipy import linalg\nx = np.array([[1,2,0], [9,1,0.01], [1,2,10*np.pi]])",
            "outputs": []
        },
        {
            "id": "4b47e39b",
            "cell_type": "code",
            "metadata": {},
            "execution_count": null,
            "source": "y, permscale = linalg.matrix_balance(x)\nnp.abs(x).sum(axis=0) / np.abs(x).sum(axis=1)",
            "outputs": [
                {
                    "output_type": "execute_result",
                    "metadata": {},
                    "data": {
                        "text/plain": "array([ 3.66666667,  0.4995005 ,  0.91312162])"
                    },
                    "execution_count": null
                }
            ]
        },
        {
            "id": "05c67af9",
            "cell_type": "code",
            "metadata": {},
            "execution_count": null,
            "source": "np.abs(y).sum(axis=0) / np.abs(y).sum(axis=1)",
            "outputs": [
                {
                    "output_type": "execute_result",
                    "metadata": {},
                    "data": {
                        "text/plain": "array([ 1.2       ,  1.27041742,  0.92658316])  # may vary"
                    },
                    "execution_count": null
                }
            ]
        },
        {
            "id": "f1e3083a",
            "cell_type": "code",
            "metadata": {},
            "execution_count": null,
            "source": "permscale  # only powers of 2 (0.5 == 2^(-1))",
            "outputs": [
                {
                    "output_type": "execute_result",
                    "metadata": {},
                    "data": {
                        "text/plain": "array([[  0.5,   0. ,  0. ],  # may vary\n       [  0. ,   1. ,  0. ],\n       [  0. ,   0. ,  1. ]])"
                    },
                    "execution_count": null
                }
            ]
        }
    ]
}