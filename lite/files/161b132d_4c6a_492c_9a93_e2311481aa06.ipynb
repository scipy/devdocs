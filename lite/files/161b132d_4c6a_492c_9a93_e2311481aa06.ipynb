{
    "nbformat": 4,
    "nbformat_minor": 5,
    "metadata": {
        "kernelspec": {
            "display_name": "Python",
            "language": "python",
            "name": "python"
        },
        "language_info": {
            "name": "python"
        }
    },
    "cells": [
        {
            "id": "736603c9",
            "cell_type": "markdown",
            "source": "<div class='alert alert-warning'>\n\nSciPy's interactive examples with Jupyterlite are experimental and may not always work as expected. Execution of cells containing imports may result in large downloads (up to 60MB of content for the first import from SciPy). Load times when importing from SciPy may take roughly 10-20 seconds. If you notice any problems, feel free to open an [issue](https://github.com/scipy/scipy/issues/new/choose).\n\n</div>",
            "metadata": {}
        },
        {
            "id": "e5029135",
            "cell_type": "markdown",
            "source": "Transform a low-pass filter represented in 'zpk' (Zero-Pole-Gain) form\ninto a bandstop filter represented in 'zpk' form, with a center frequency wo and\nbandwidth bw.\n",
            "metadata": {}
        },
        {
            "id": "56a59c0d",
            "cell_type": "code",
            "metadata": {},
            "execution_count": null,
            "source": "from scipy.signal import lp2bs_zpk\nz   = [             ]\np   = [ 0.7 ,    -1 ]\nk   = 9\nwo  = 0.5\nbw  = 10\nlp2bs_zpk(z, p, k, wo, bw)",
            "outputs": [
                {
                    "output_type": "execute_result",
                    "metadata": {},
                    "data": {
                        "text/plain": "(   array([0.+0.5j, 0.+0.5j, 0.-0.5j, 0.-0.5j]),\n    array([14.2681928 +0.j, -0.02506281+0.j,  0.01752149+0.j, -9.97493719+0.j]),\n    -12.857142857142858)"
                    },
                    "execution_count": null
                }
            ]
        }
    ]
}