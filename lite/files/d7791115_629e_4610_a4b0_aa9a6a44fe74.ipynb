{
    "nbformat": 4,
    "nbformat_minor": 5,
    "metadata": {
        "kernelspec": {
            "display_name": "Python",
            "language": "python",
            "name": "python"
        },
        "language_info": {
            "name": "python"
        }
    },
    "cells": [
        {
            "id": "91c69404",
            "cell_type": "markdown",
            "source": "<div class='alert alert-warning'>\n\nSciPy's interactive examples with Jupyterlite are experimental and may not always work as expected. Execution of cells containing imports may result in large downloads (up to 60MB of content for the first import from SciPy). Load times when importing from SciPy may take roughly 10-20 seconds. If you notice any problems, feel free to open an [issue](https://github.com/scipy/scipy/issues/new/choose).\n\n</div>",
            "metadata": {}
        },
        {
            "id": "72324bf8",
            "cell_type": "markdown",
            "source": "You can search all pairs of points in a kd-tree within a distance:\n",
            "metadata": {}
        },
        {
            "id": "f8d831aa",
            "cell_type": "code",
            "metadata": {},
            "execution_count": null,
            "source": "import matplotlib.pyplot as plt\nimport numpy as np\nfrom scipy.spatial import KDTree\nrng = np.random.default_rng()\npoints = rng.random((20, 2))\nplt.figure(figsize=(6, 6))\nplt.plot(points[:, 0], points[:, 1], \"xk\", markersize=14)\nkd_tree = KDTree(points)\npairs = kd_tree.query_pairs(r=0.2)\nfor (i, j) in pairs:\n    plt.plot([points[i, 0], points[j, 0]],\n            [points[i, 1], points[j, 1]], \"-r\")\nplt.show()",
            "outputs": []
        }
    ]
}