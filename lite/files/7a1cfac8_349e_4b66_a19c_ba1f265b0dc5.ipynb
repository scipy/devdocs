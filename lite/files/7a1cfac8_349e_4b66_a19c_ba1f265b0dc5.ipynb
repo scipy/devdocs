{
    "nbformat": 4,
    "nbformat_minor": 5,
    "metadata": {
        "kernelspec": {
            "display_name": "Python",
            "language": "python",
            "name": "python"
        },
        "language_info": {
            "name": "python"
        }
    },
    "cells": [
        {
            "id": "013ee89d",
            "cell_type": "markdown",
            "source": "<div class='alert alert-warning'>\n\nSciPy's interactive examples with Jupyterlite are experimental and may not always work as expected. Execution of cells containing imports may result in large downloads (up to 60MB of content for the first import from SciPy). Load times when importing from SciPy may take roughly 10-20 seconds. If you notice any problems, feel free to open an [issue](https://github.com/scipy/scipy/issues/new/choose).\n\n</div>",
            "metadata": {}
        },
        {
            "id": "db072323",
            "cell_type": "markdown",
            "source": "Compute the function for ``a=1`` and ``b=2`` at ``x=5``.\n",
            "metadata": {}
        },
        {
            "id": "f2ae2573",
            "cell_type": "code",
            "metadata": {},
            "execution_count": null,
            "source": "import numpy as np\nfrom scipy.special import gdtrc\nimport matplotlib.pyplot as plt\ngdtrc(1., 2., 5.)",
            "outputs": [
                {
                    "output_type": "execute_result",
                    "metadata": {},
                    "data": {
                        "text/plain": "0.04042768199451279"
                    },
                    "execution_count": null
                }
            ]
        },
        {
            "id": "5fd4cff0",
            "cell_type": "markdown",
            "source": "Compute the function for ``a=1``, ``b=2`` at several points by providing\na NumPy array for `x`.\n",
            "metadata": {}
        },
        {
            "id": "de3887d2",
            "cell_type": "code",
            "metadata": {},
            "execution_count": null,
            "source": "xvalues = np.array([1., 2., 3., 4])\ngdtrc(1., 1., xvalues)",
            "outputs": [
                {
                    "output_type": "execute_result",
                    "metadata": {},
                    "data": {
                        "text/plain": "array([0.36787944, 0.13533528, 0.04978707, 0.01831564])"
                    },
                    "execution_count": null
                }
            ]
        },
        {
            "id": "56c1f549",
            "cell_type": "markdown",
            "source": "`gdtrc` can evaluate different parameter sets by providing arrays with\nbroadcasting compatible shapes for `a`, `b` and `x`. Here we compute the\nfunction for three different `a` at four positions `x` and ``b=3``,\nresulting in a 3x4 array.\n",
            "metadata": {}
        },
        {
            "id": "fb9521bf",
            "cell_type": "code",
            "metadata": {},
            "execution_count": null,
            "source": "a = np.array([[0.5], [1.5], [2.5]])\nx = np.array([1., 2., 3., 4])\na.shape, x.shape",
            "outputs": [
                {
                    "output_type": "execute_result",
                    "metadata": {},
                    "data": {
                        "text/plain": "((3, 1), (4,))"
                    },
                    "execution_count": null
                }
            ]
        },
        {
            "id": "980c83e8",
            "cell_type": "code",
            "metadata": {},
            "execution_count": null,
            "source": "gdtrc(a, 3., x)",
            "outputs": [
                {
                    "output_type": "execute_result",
                    "metadata": {},
                    "data": {
                        "text/plain": "array([[0.98561232, 0.9196986 , 0.80884683, 0.67667642],\n       [0.80884683, 0.42319008, 0.17357807, 0.0619688 ],\n       [0.54381312, 0.12465202, 0.02025672, 0.0027694 ]])"
                    },
                    "execution_count": null
                }
            ]
        },
        {
            "id": "f956af04",
            "cell_type": "markdown",
            "source": "Plot the function for four different parameter sets.\n",
            "metadata": {}
        },
        {
            "id": "c4d73d95",
            "cell_type": "code",
            "metadata": {},
            "execution_count": null,
            "source": "a_parameters = [0.3, 1, 2, 6]\nb_parameters = [2, 10, 15, 20]\nlinestyles = ['solid', 'dashed', 'dotted', 'dashdot']\nparameters_list = list(zip(a_parameters, b_parameters, linestyles))\nx = np.linspace(0, 30, 1000)\nfig, ax = plt.subplots()\nfor parameter_set in parameters_list:\n    a, b, style = parameter_set\n    gdtrc_vals = gdtrc(a, b, x)\n    ax.plot(x, gdtrc_vals, label=fr\"$a= {a},\\, b={b}$\", ls=style)\nax.legend()\nax.set_xlabel(\"$x$\")\nax.set_title(\"Gamma distribution survival function\")\nplt.show()",
            "outputs": []
        },
        {
            "id": "c981bec1",
            "cell_type": "markdown",
            "source": "The gamma distribution is also available as `scipy.stats.gamma`.\nUsing `gdtrc` directly can be much faster than calling the ``sf`` method\nof `scipy.stats.gamma`, especially for small arrays or individual\nvalues. To get the same results one must use the following parametrization:\n``stats.gamma(b, scale=1/a).sf(x)=gdtrc(a, b, x)``.\n",
            "metadata": {}
        },
        {
            "id": "45bcadfa",
            "cell_type": "code",
            "metadata": {},
            "execution_count": null,
            "source": "from scipy.stats import gamma\na = 2\nb = 3\nx = 1.\ngdtrc_result = gdtrc(a, b, x)  # this will often be faster than below\ngamma_dist_result = gamma(b, scale=1/a).sf(x)\ngdtrc_result == gamma_dist_result  # test that results are equal",
            "outputs": [
                {
                    "output_type": "execute_result",
                    "metadata": {},
                    "data": {
                        "text/plain": "True"
                    },
                    "execution_count": null
                }
            ]
        }
    ]
}