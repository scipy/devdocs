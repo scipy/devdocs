{
    "nbformat": 4,
    "nbformat_minor": 5,
    "metadata": {
        "kernelspec": {
            "display_name": "Python",
            "language": "python",
            "name": "python"
        },
        "language_info": {
            "name": "python"
        }
    },
    "cells": [
        {
            "id": "6465153c",
            "cell_type": "markdown",
            "source": "<div class='alert alert-warning'>\n\nSciPy's interactive examples with Jupyterlite are experimental and may not always work as expected. Execution of cells containing imports may result in large downloads (up to 60MB of content for the first import from SciPy). Load times when importing from SciPy may take roughly 10-20 seconds. If you notice any problems, feel free to open an [issue](https://github.com/scipy/scipy/issues/new/choose).\n\n</div>",
            "metadata": {}
        },
        {
            "id": "5185c664",
            "cell_type": "code",
            "metadata": {},
            "execution_count": null,
            "source": "from scipy import ndimage\nimport numpy as np\na = np.zeros((7,7), dtype=int)\na[2:5, 2:5] = 1\nndimage.morphological_gradient(a, size=(3,3))",
            "outputs": [
                {
                    "output_type": "execute_result",
                    "metadata": {},
                    "data": {
                        "text/plain": "array([[0, 0, 0, 0, 0, 0, 0],\n       [0, 1, 1, 1, 1, 1, 0],\n       [0, 1, 1, 1, 1, 1, 0],\n       [0, 1, 1, 0, 1, 1, 0],\n       [0, 1, 1, 1, 1, 1, 0],\n       [0, 1, 1, 1, 1, 1, 0],\n       [0, 0, 0, 0, 0, 0, 0]])"
                    },
                    "execution_count": null
                }
            ]
        },
        {
            "id": "fd2168b5",
            "cell_type": "code",
            "metadata": {},
            "execution_count": null,
            "source": "# The morphological gradient is computed as the difference\n# between a dilation and an erosion\nndimage.grey_dilation(a, size=(3,3)) -\\\n ndimage.grey_erosion(a, size=(3,3))",
            "outputs": [
                {
                    "output_type": "execute_result",
                    "metadata": {},
                    "data": {
                        "text/plain": "array([[0, 0, 0, 0, 0, 0, 0],\n       [0, 1, 1, 1, 1, 1, 0],\n       [0, 1, 1, 1, 1, 1, 0],\n       [0, 1, 1, 0, 1, 1, 0],\n       [0, 1, 1, 1, 1, 1, 0],\n       [0, 1, 1, 1, 1, 1, 0],\n       [0, 0, 0, 0, 0, 0, 0]])"
                    },
                    "execution_count": null
                }
            ]
        },
        {
            "id": "5c19852f",
            "cell_type": "code",
            "metadata": {},
            "execution_count": null,
            "source": "a = np.zeros((7,7), dtype=int)\na[2:5, 2:5] = 1\na[4,4] = 2; a[2,3] = 3\na",
            "outputs": [
                {
                    "output_type": "execute_result",
                    "metadata": {},
                    "data": {
                        "text/plain": "array([[0, 0, 0, 0, 0, 0, 0],\n       [0, 0, 0, 0, 0, 0, 0],\n       [0, 0, 1, 3, 1, 0, 0],\n       [0, 0, 1, 1, 1, 0, 0],\n       [0, 0, 1, 1, 2, 0, 0],\n       [0, 0, 0, 0, 0, 0, 0],\n       [0, 0, 0, 0, 0, 0, 0]])"
                    },
                    "execution_count": null
                }
            ]
        },
        {
            "id": "b0602d1f",
            "cell_type": "code",
            "metadata": {},
            "execution_count": null,
            "source": "ndimage.morphological_gradient(a, size=(3,3))",
            "outputs": [
                {
                    "output_type": "execute_result",
                    "metadata": {},
                    "data": {
                        "text/plain": "array([[0, 0, 0, 0, 0, 0, 0],\n       [0, 1, 3, 3, 3, 1, 0],\n       [0, 1, 3, 3, 3, 1, 0],\n       [0, 1, 3, 2, 3, 2, 0],\n       [0, 1, 1, 2, 2, 2, 0],\n       [0, 1, 1, 2, 2, 2, 0],\n       [0, 0, 0, 0, 0, 0, 0]])"
                    },
                    "execution_count": null
                }
            ]
        }
    ]
}