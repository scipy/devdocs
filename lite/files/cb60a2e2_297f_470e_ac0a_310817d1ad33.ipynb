{
    "nbformat": 4,
    "nbformat_minor": 5,
    "metadata": {
        "kernelspec": {
            "display_name": "Python",
            "language": "python",
            "name": "python"
        },
        "language_info": {
            "name": "python"
        }
    },
    "cells": [
        {
            "id": "9ef20a35",
            "cell_type": "markdown",
            "source": "<div class='alert alert-warning'>\n\nSciPy's interactive examples with Jupyterlite are experimental and may not always work as expected. Execution of cells containing imports may result in large downloads (up to 60MB of content for the first import from SciPy). Load times when importing from SciPy may take roughly 10-20 seconds. If you notice any problems, feel free to open an [issue](https://github.com/scipy/scipy/issues/new/choose).\n\n</div>",
            "metadata": {}
        },
        {
            "id": "11fbc0ef",
            "cell_type": "code",
            "metadata": {},
            "execution_count": null,
            "source": "from scipy import ndimage, datasets\nimport matplotlib.pyplot as plt\nfig = plt.figure(figsize=(10, 3))\nax1, ax2, ax3 = fig.subplots(1, 3)\nimg = datasets.ascent()\nimg_45 = ndimage.rotate(img, 45, reshape=False)\nfull_img_45 = ndimage.rotate(img, 45, reshape=True)\nax1.imshow(img, cmap='gray')\nax1.set_axis_off()\nax2.imshow(img_45, cmap='gray')\nax2.set_axis_off()\nax3.imshow(full_img_45, cmap='gray')\nax3.set_axis_off()\nfig.set_layout_engine('tight')\nplt.show()",
            "outputs": []
        },
        {
            "id": "69f369d2",
            "cell_type": "code",
            "metadata": {},
            "execution_count": null,
            "source": "print(img.shape)",
            "outputs": [
                {
                    "output_type": "execute_result",
                    "metadata": {},
                    "data": {
                        "text/plain": "(512, 512)"
                    },
                    "execution_count": null
                }
            ]
        },
        {
            "id": "146bc73d",
            "cell_type": "code",
            "metadata": {},
            "execution_count": null,
            "source": "print(img_45.shape)",
            "outputs": [
                {
                    "output_type": "execute_result",
                    "metadata": {},
                    "data": {
                        "text/plain": "(512, 512)"
                    },
                    "execution_count": null
                }
            ]
        },
        {
            "id": "c7ad4de1",
            "cell_type": "code",
            "metadata": {},
            "execution_count": null,
            "source": "print(full_img_45.shape)",
            "outputs": [
                {
                    "output_type": "execute_result",
                    "metadata": {},
                    "data": {
                        "text/plain": "(724, 724)"
                    },
                    "execution_count": null
                }
            ]
        }
    ]
}