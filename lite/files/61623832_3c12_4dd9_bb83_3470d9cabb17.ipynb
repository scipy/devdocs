{
    "nbformat": 4,
    "nbformat_minor": 5,
    "metadata": {
        "kernelspec": {
            "display_name": "Python",
            "language": "python",
            "name": "python"
        },
        "language_info": {
            "name": "python"
        }
    },
    "cells": [
        {
            "id": "f74f1e34",
            "cell_type": "markdown",
            "source": "<div class='alert alert-warning'>\n\nSciPy's interactive examples with Jupyterlite are experimental and may not always work as expected. Execution of cells containing imports may result in large downloads (up to 60MB of content for the first import from SciPy). Load times when importing from SciPy may take roughly 10-20 seconds. If you notice any problems, feel free to open an [issue](https://github.com/scipy/scipy/issues/new/choose).\n\n</div>",
            "metadata": {}
        },
        {
            "id": "c58d86ca",
            "cell_type": "code",
            "metadata": {},
            "execution_count": null,
            "source": "from scipy.special import ncfdtr, ncfdtrinc",
            "outputs": []
        },
        {
            "id": "b1b39064",
            "cell_type": "markdown",
            "source": "Compute the CDF for several values of `nc`:\n",
            "metadata": {}
        },
        {
            "id": "d0d1800c",
            "cell_type": "code",
            "metadata": {},
            "execution_count": null,
            "source": "nc = [0.5, 1.5, 2.0]\np = ncfdtr(2, 3, nc, 15)\np",
            "outputs": [
                {
                    "output_type": "execute_result",
                    "metadata": {},
                    "data": {
                        "text/plain": "array([ 0.96309246,  0.94327955,  0.93304098])"
                    },
                    "execution_count": null
                }
            ]
        },
        {
            "id": "6e051733",
            "cell_type": "markdown",
            "source": "Compute the inverse. We recover the values of `nc`, as expected:\n",
            "metadata": {}
        },
        {
            "id": "bc949615",
            "cell_type": "code",
            "metadata": {},
            "execution_count": null,
            "source": "ncfdtrinc(2, 3, p, 15)",
            "outputs": [
                {
                    "output_type": "execute_result",
                    "metadata": {},
                    "data": {
                        "text/plain": "array([ 0.5,  1.5,  2. ])"
                    },
                    "execution_count": null
                }
            ]
        }
    ]
}