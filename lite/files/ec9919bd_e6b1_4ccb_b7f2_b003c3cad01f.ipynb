{
    "nbformat": 4,
    "nbformat_minor": 5,
    "metadata": {
        "kernelspec": {
            "display_name": "Python",
            "language": "python",
            "name": "python"
        },
        "language_info": {
            "name": "python"
        }
    },
    "cells": [
        {
            "id": "d66c3d9c",
            "cell_type": "markdown",
            "source": "<div class='alert alert-warning'>\n\nSciPy's interactive examples with Jupyterlite are experimental and may not always work as expected. Execution of cells containing imports may result in large downloads (up to 60MB of content for the first import from SciPy). Load times when importing from SciPy may take roughly 10-20 seconds. If you notice any problems, feel free to open an [issue](https://github.com/scipy/scipy/issues/new/choose).\n\n</div>",
            "metadata": {}
        },
        {
            "id": "b4b4aa1c",
            "cell_type": "code",
            "metadata": {},
            "execution_count": null,
            "source": "import numpy as np\nfrom scipy.sparse import csc_array\ncsc_array((3, 4), dtype=np.int8).toarray()",
            "outputs": [
                {
                    "output_type": "execute_result",
                    "metadata": {},
                    "data": {
                        "text/plain": "array([[0, 0, 0, 0],\n       [0, 0, 0, 0],\n       [0, 0, 0, 0]], dtype=int8)"
                    },
                    "execution_count": null
                }
            ]
        },
        {
            "id": "ffe6935d",
            "cell_type": "code",
            "metadata": {},
            "execution_count": null,
            "source": "row = np.array([0, 2, 2, 0, 1, 2])\ncol = np.array([0, 0, 1, 2, 2, 2])\ndata = np.array([1, 2, 3, 4, 5, 6])\ncsc_array((data, (row, col)), shape=(3, 3)).toarray()",
            "outputs": [
                {
                    "output_type": "execute_result",
                    "metadata": {},
                    "data": {
                        "text/plain": "array([[1, 0, 4],\n       [0, 0, 5],\n       [2, 3, 6]])"
                    },
                    "execution_count": null
                }
            ]
        },
        {
            "id": "3c6b5c31",
            "cell_type": "code",
            "metadata": {},
            "execution_count": null,
            "source": "indptr = np.array([0, 2, 3, 6])\nindices = np.array([0, 2, 2, 0, 1, 2])\ndata = np.array([1, 2, 3, 4, 5, 6])\ncsc_array((data, indices, indptr), shape=(3, 3)).toarray()",
            "outputs": [
                {
                    "output_type": "execute_result",
                    "metadata": {},
                    "data": {
                        "text/plain": "array([[1, 0, 4],\n       [0, 0, 5],\n       [2, 3, 6]])"
                    },
                    "execution_count": null
                }
            ]
        }
    ]
}