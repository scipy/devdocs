{
    "nbformat": 4,
    "nbformat_minor": 5,
    "metadata": {
        "kernelspec": {
            "display_name": "Python",
            "language": "python",
            "name": "python"
        },
        "language_info": {
            "name": "python"
        }
    },
    "cells": [
        {
            "id": "9d04ecef",
            "cell_type": "markdown",
            "source": "<div class='alert alert-warning'>\n\nSciPy's interactive examples with Jupyterlite are experimental and may not always work as expected. Execution of cells containing imports may result in large downloads (up to 60MB of content for the first import from SciPy). Load times when importing from SciPy may take roughly 10-20 seconds. If you notice any problems, feel free to open an [issue](https://github.com/scipy/scipy/issues/new/choose).\n\n</div>",
            "metadata": {}
        },
        {
            "id": "69181710",
            "cell_type": "markdown",
            "source": "Compute the first 4 real roots and the derivatives at the roots of\n$Y_0$:\n",
            "metadata": {}
        },
        {
            "id": "eccb63a8",
            "cell_type": "code",
            "metadata": {},
            "execution_count": null,
            "source": "import numpy as np\nfrom scipy.special import y0_zeros\nzeros, grads = y0_zeros(4)\nwith np.printoptions(precision=5):\n    print(f\"Roots: {zeros}\")\n    print(f\"Gradients: {grads}\")",
            "outputs": [
                {
                    "output_type": "execute_result",
                    "metadata": {},
                    "data": {
                        "text/plain": "Roots: [ 0.89358+0.j  3.95768+0.j  7.08605+0.j 10.22235+0.j]\nGradients: [-0.87942+0.j  0.40254+0.j -0.3001 +0.j  0.2497 +0.j]"
                    },
                    "execution_count": null
                }
            ]
        },
        {
            "id": "7ffa6381",
            "cell_type": "markdown",
            "source": "Plot the real part of $Y_0$ and the first four computed roots.\n",
            "metadata": {}
        },
        {
            "id": "a43fef08",
            "cell_type": "code",
            "metadata": {},
            "execution_count": null,
            "source": "import matplotlib.pyplot as plt\nfrom scipy.special import y0\nxmin = 0\nxmax = 11\nx = np.linspace(xmin, xmax, 500)\nfig, ax = plt.subplots()\nax.hlines(0, xmin, xmax, color='k')\nax.plot(x, y0(x), label=r'$Y_0$')\nzeros, grads = y0_zeros(4)\nax.scatter(zeros.real, np.zeros((4, )), s=30, c='r',\n           label=r'$Y_0$_zeros', zorder=5)\nax.set_ylim(-0.5, 0.6)\nax.set_xlim(xmin, xmax)\nplt.legend(ncol=2)\nplt.show()",
            "outputs": []
        },
        {
            "id": "7674e62b",
            "cell_type": "markdown",
            "source": "Compute the first 4 complex roots and the derivatives at the roots of\n$Y_0$ by setting ``complex=True``:\n",
            "metadata": {}
        },
        {
            "id": "9068e698",
            "cell_type": "code",
            "metadata": {},
            "execution_count": null,
            "source": "y0_zeros(4, True)",
            "outputs": [
                {
                    "output_type": "execute_result",
                    "metadata": {},
                    "data": {
                        "text/plain": "(array([ -2.40301663+0.53988231j,  -5.5198767 +0.54718001j,\n         -8.6536724 +0.54841207j, -11.79151203+0.54881912j]),\n array([ 0.10074769-0.88196771j, -0.02924642+0.5871695j ,\n         0.01490806-0.46945875j, -0.00937368+0.40230454j]))"
                    },
                    "execution_count": null
                }
            ]
        }
    ]
}