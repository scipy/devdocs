{
    "nbformat": 4,
    "nbformat_minor": 5,
    "metadata": {
        "kernelspec": {
            "display_name": "Python",
            "language": "python",
            "name": "python"
        },
        "language_info": {
            "name": "python"
        }
    },
    "cells": [
        {
            "id": "bc06f90e",
            "cell_type": "markdown",
            "source": "<div class='alert alert-warning'>\n\nSciPy's interactive examples with Jupyterlite are experimental and may not always work as expected. Execution of cells containing imports may result in large downloads (up to 60MB of content for the first import from SciPy). Load times when importing from SciPy may take roughly 10-20 seconds. If you notice any problems, feel free to open an [issue](https://github.com/scipy/scipy/issues/new/choose).\n\n</div>",
            "metadata": {}
        },
        {
            "id": "86a4cf02",
            "cell_type": "code",
            "metadata": {},
            "execution_count": null,
            "source": "import numpy as np\nfrom scipy.cluster.vq import vq, kmeans, whiten\nimport matplotlib.pyplot as plt\nfeatures  = np.array([[ 1.9,2.3],\n                      [ 1.5,2.5],\n                      [ 0.8,0.6],\n                      [ 0.4,1.8],\n                      [ 0.1,0.1],\n                      [ 0.2,1.8],\n                      [ 2.0,0.5],\n                      [ 0.3,1.5],\n                      [ 1.0,1.0]])\nwhitened = whiten(features)\nbook = np.array((whitened[0],whitened[2]))\nkmeans(whitened,book)",
            "outputs": [
                {
                    "output_type": "execute_result",
                    "metadata": {},
                    "data": {
                        "text/plain": "(array([[ 2.3110306 ,  2.86287398],    # random\n       [ 0.93218041,  1.24398691]]), 0.85684700941625547)"
                    },
                    "execution_count": null
                }
            ]
        },
        {
            "id": "6bae9985",
            "cell_type": "code",
            "metadata": {},
            "execution_count": null,
            "source": "codes = 3\nkmeans(whitened,codes)",
            "outputs": [
                {
                    "output_type": "execute_result",
                    "metadata": {},
                    "data": {
                        "text/plain": "(array([[ 2.3110306 ,  2.86287398],    # random\n       [ 1.32544402,  0.65607529],\n       [ 0.40782893,  2.02786907]]), 0.5196582527686241)"
                    },
                    "execution_count": null
                }
            ]
        },
        {
            "id": "11efcac0",
            "cell_type": "code",
            "metadata": {},
            "execution_count": null,
            "source": "# Create 50 datapoints in two clusters a and b\npts = 50\nrng = np.random.default_rng()\na = rng.multivariate_normal([0, 0], [[4, 1], [1, 4]], size=pts)\nb = rng.multivariate_normal([30, 10],\n                            [[10, 2], [2, 1]],\n                            size=pts)\nfeatures = np.concatenate((a, b))\n# Whiten data\nwhitened = whiten(features)\n# Find 2 clusters in the data\ncodebook, distortion = kmeans(whitened, 2)\n# Plot whitened data and cluster centers in red\nplt.scatter(whitened[:, 0], whitened[:, 1])\nplt.scatter(codebook[:, 0], codebook[:, 1], c='r')\nplt.show()",
            "outputs": []
        }
    ]
}