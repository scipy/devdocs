{
    "nbformat": 4,
    "nbformat_minor": 5,
    "metadata": {
        "kernelspec": {
            "display_name": "Python",
            "language": "python",
            "name": "python"
        },
        "language_info": {
            "name": "python"
        }
    },
    "cells": [
        {
            "id": "5254383c",
            "cell_type": "markdown",
            "source": "<div class='alert alert-warning'>\n\nSciPy's interactive examples with Jupyterlite are experimental and may not always work as expected. Execution of cells containing imports may result in large downloads (up to 60MB of content for the first import from SciPy). Load times when importing from SciPy may take roughly 10-20 seconds. If you notice any problems, feel free to open an [issue](https://github.com/scipy/scipy/issues/new/choose).\n\n</div>",
            "metadata": {}
        },
        {
            "id": "8edb5726",
            "cell_type": "code",
            "metadata": {},
            "execution_count": null,
            "source": "import numpy as np\nfrom scipy.stats import CensoredData",
            "outputs": []
        },
        {
            "id": "a5dbce7f",
            "cell_type": "markdown",
            "source": "``a`` and ``b`` are the low and high ends of a collection of\ninterval-censored values.\n",
            "metadata": {}
        },
        {
            "id": "2d49d78c",
            "cell_type": "code",
            "metadata": {},
            "execution_count": null,
            "source": "a = [0.5, 2.0, 3.0, 5.5]\nb = [1.0, 2.5, 3.5, 7.0]\ndata = CensoredData.interval_censored(low=a, high=b)\nprint(data)",
            "outputs": [
                {
                    "output_type": "execute_result",
                    "metadata": {},
                    "data": {
                        "text/plain": "CensoredData(4 values: 0 not censored, 4 interval-censored)"
                    },
                    "execution_count": null
                }
            ]
        }
    ]
}