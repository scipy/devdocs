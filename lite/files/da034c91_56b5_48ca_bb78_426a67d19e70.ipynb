{
    "nbformat": 4,
    "nbformat_minor": 5,
    "metadata": {
        "kernelspec": {
            "display_name": "Python",
            "language": "python",
            "name": "python"
        },
        "language_info": {
            "name": "python"
        }
    },
    "cells": [
        {
            "id": "e0c1b850",
            "cell_type": "markdown",
            "source": "<div class='alert alert-warning'>\n\nSciPy's interactive examples with Jupyterlite are experimental and may not always work as expected. Execution of cells containing imports may result in large downloads (up to 60MB of content for the first import from SciPy). Load times when importing from SciPy may take roughly 10-20 seconds. If you notice any problems, feel free to open an [issue](https://github.com/scipy/scipy/issues/new/choose).\n\n</div>",
            "metadata": {}
        },
        {
            "id": "124691a3",
            "cell_type": "code",
            "metadata": {},
            "execution_count": null,
            "source": "# Constructing an empty matrix\nimport numpy as np\nfrom scipy.sparse import coo_matrix\ncoo_matrix((3, 4), dtype=np.int8).toarray()",
            "outputs": [
                {
                    "output_type": "execute_result",
                    "metadata": {},
                    "data": {
                        "text/plain": "array([[0, 0, 0, 0],\n       [0, 0, 0, 0],\n       [0, 0, 0, 0]], dtype=int8)"
                    },
                    "execution_count": null
                }
            ]
        },
        {
            "id": "8598bbee",
            "cell_type": "code",
            "metadata": {},
            "execution_count": null,
            "source": "# Constructing a matrix using ijv format\nrow  = np.array([0, 3, 1, 0])\ncol  = np.array([0, 3, 1, 2])\ndata = np.array([4, 5, 7, 9])\ncoo_matrix((data, (row, col)), shape=(4, 4)).toarray()",
            "outputs": [
                {
                    "output_type": "execute_result",
                    "metadata": {},
                    "data": {
                        "text/plain": "array([[4, 0, 9, 0],\n       [0, 7, 0, 0],\n       [0, 0, 0, 0],\n       [0, 0, 0, 5]])"
                    },
                    "execution_count": null
                }
            ]
        },
        {
            "id": "c8f1c79b",
            "cell_type": "code",
            "metadata": {},
            "execution_count": null,
            "source": "# Constructing a matrix with duplicate coordinates\nrow  = np.array([0, 0, 1, 3, 1, 0, 0])\ncol  = np.array([0, 2, 1, 3, 1, 0, 0])\ndata = np.array([1, 1, 1, 1, 1, 1, 1])\ncoo = coo_matrix((data, (row, col)), shape=(4, 4))\n# Duplicate coordinates are maintained until implicitly or explicitly summed\nnp.max(coo.data)",
            "outputs": [
                {
                    "output_type": "execute_result",
                    "metadata": {},
                    "data": {
                        "text/plain": "1"
                    },
                    "execution_count": null
                }
            ]
        },
        {
            "id": "847c0bba",
            "cell_type": "code",
            "metadata": {},
            "execution_count": null,
            "source": "coo.toarray()",
            "outputs": [
                {
                    "output_type": "execute_result",
                    "metadata": {},
                    "data": {
                        "text/plain": "array([[3, 0, 1, 0],\n       [0, 2, 0, 0],\n       [0, 0, 0, 0],\n       [0, 0, 0, 1]])"
                    },
                    "execution_count": null
                }
            ]
        }
    ]
}