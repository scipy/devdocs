{
    "nbformat": 4,
    "nbformat_minor": 5,
    "metadata": {
        "kernelspec": {
            "display_name": "Python",
            "language": "python",
            "name": "python"
        },
        "language_info": {
            "name": "python"
        }
    },
    "cells": [
        {
            "id": "03b65dd7",
            "cell_type": "markdown",
            "source": "<div class='alert alert-warning'>\n\nSciPy's interactive examples with Jupyterlite are experimental and may not always work as expected. Execution of cells containing imports may result in large downloads (up to 60MB of content for the first import from SciPy). Load times when importing from SciPy may take roughly 10-20 seconds. If you notice any problems, feel free to open an [issue](https://github.com/scipy/scipy/issues/new/choose).\n\n</div>",
            "metadata": {}
        },
        {
            "id": "15d6fbcf",
            "cell_type": "code",
            "metadata": {},
            "execution_count": null,
            "source": "from os.path import dirname, join as pjoin\nfrom scipy.io import wavfile\nimport scipy.io",
            "outputs": []
        },
        {
            "id": "3577dc66",
            "cell_type": "markdown",
            "source": "Get the filename for an example .wav file from the tests/data directory.\n",
            "metadata": {}
        },
        {
            "id": "058569ad",
            "cell_type": "code",
            "metadata": {},
            "execution_count": null,
            "source": "data_dir = pjoin(dirname(scipy.io.__file__), 'tests', 'data')\nwav_fname = pjoin(data_dir, 'test-44100Hz-2ch-32bit-float-be.wav')",
            "outputs": []
        },
        {
            "id": "c3ff1820",
            "cell_type": "markdown",
            "source": "Load the .wav file contents.\n",
            "metadata": {}
        },
        {
            "id": "2d4c584a",
            "cell_type": "code",
            "metadata": {},
            "execution_count": null,
            "source": "samplerate, data = wavfile.read(wav_fname)\nprint(f\"number of channels = {data.shape[1]}\")",
            "outputs": [
                {
                    "output_type": "execute_result",
                    "metadata": {},
                    "data": {
                        "text/plain": "number of channels = 2"
                    },
                    "execution_count": null
                }
            ]
        },
        {
            "id": "fd5a2c58",
            "cell_type": "code",
            "metadata": {},
            "execution_count": null,
            "source": "length = data.shape[0] / samplerate\nprint(f\"length = {length}s\")",
            "outputs": [
                {
                    "output_type": "execute_result",
                    "metadata": {},
                    "data": {
                        "text/plain": "length = 0.01s"
                    },
                    "execution_count": null
                }
            ]
        },
        {
            "id": "45aabf6f",
            "cell_type": "markdown",
            "source": "Plot the waveform.\n",
            "metadata": {}
        },
        {
            "id": "5950da8b",
            "cell_type": "code",
            "metadata": {},
            "execution_count": null,
            "source": "import matplotlib.pyplot as plt\nimport numpy as np\ntime = np.linspace(0., length, data.shape[0])\nplt.plot(time, data[:, 0], label=\"Left channel\")\nplt.plot(time, data[:, 1], label=\"Right channel\")\nplt.legend()\nplt.xlabel(\"Time [s]\")\nplt.ylabel(\"Amplitude\")\nplt.show()",
            "outputs": []
        }
    ]
}