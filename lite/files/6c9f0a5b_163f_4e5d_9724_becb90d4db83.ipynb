{
    "nbformat": 4,
    "nbformat_minor": 5,
    "metadata": {
        "kernelspec": {
            "display_name": "Python",
            "language": "python",
            "name": "python"
        },
        "language_info": {
            "name": "python"
        }
    },
    "cells": [
        {
            "id": "158fd014",
            "cell_type": "markdown",
            "source": "<div class='alert alert-warning'>\n\nSciPy's interactive examples with Jupyterlite are experimental and may not always work as expected. Execution of cells containing imports may result in large downloads (up to 60MB of content for the first import from SciPy). Load times when importing from SciPy may take roughly 10-20 seconds. If you notice any problems, feel free to open an [issue](https://github.com/scipy/scipy/issues/new/choose).\n\n</div>",
            "metadata": {}
        },
        {
            "id": "3e13660b",
            "cell_type": "code",
            "metadata": {},
            "execution_count": null,
            "source": "from numpy import array\nfrom scipy.sparse import coo_array\nrow  = array([0, 0, 1, 3, 1, 0, 0])\ncol  = array([0, 2, 1, 3, 1, 0, 0])\ndata = array([1, 1, 1, 1, 1, 1, 1])\nA = coo_array((data, (row, col)), shape=(4, 4)).tocsr()\nA.toarray()",
            "outputs": [
                {
                    "output_type": "execute_result",
                    "metadata": {},
                    "data": {
                        "text/plain": "array([[3, 0, 1, 0],\n       [0, 2, 0, 0],\n       [0, 0, 0, 0],\n       [0, 0, 0, 1]])"
                    },
                    "execution_count": null
                }
            ]
        }
    ]
}