{
    "nbformat": 4,
    "nbformat_minor": 5,
    "metadata": {
        "kernelspec": {
            "display_name": "Python",
            "language": "python",
            "name": "python"
        },
        "language_info": {
            "name": "python"
        }
    },
    "cells": [
        {
            "id": "e0c5347a",
            "cell_type": "markdown",
            "source": "<div class='alert alert-warning'>\n\nSciPy's interactive examples with Jupyterlite are experimental and may not always work as expected. Execution of cells containing imports may result in large downloads (up to 60MB of content for the first import from SciPy). Load times when importing from SciPy may take roughly 10-20 seconds. If you notice any problems, feel free to open an [issue](https://github.com/scipy/scipy/issues/new/choose).\n\n</div>",
            "metadata": {}
        },
        {
            "id": "fb8857ea",
            "cell_type": "code",
            "metadata": {},
            "execution_count": null,
            "source": "import numpy as np\nfrom scipy.stats import nchypergeom_fisher\nimport matplotlib.pyplot as plt\nfig, ax = plt.subplots(1, 1)",
            "outputs": []
        },
        {
            "id": "5220ea07",
            "cell_type": "markdown",
            "source": "Calculate the first four moments:\n",
            "metadata": {}
        },
        {
            "id": "59e10332",
            "cell_type": "code",
            "metadata": {},
            "execution_count": null,
            "source": "M, n, N, odds = 140, 80, 60, 0.5\nmean, var, skew, kurt = nchypergeom_fisher.stats(M, n, N, odds, moments='mvsk')",
            "outputs": []
        },
        {
            "id": "8fbd6266",
            "cell_type": "markdown",
            "source": "Display the probability mass function (``pmf``):\n",
            "metadata": {}
        },
        {
            "id": "4ace9b72",
            "cell_type": "code",
            "metadata": {},
            "execution_count": null,
            "source": "x = np.arange(nchypergeom_fisher.ppf(0.01, M, n, N, odds),\n              nchypergeom_fisher.ppf(0.99, M, n, N, odds))\nax.plot(x, nchypergeom_fisher.pmf(x, M, n, N, odds), 'bo', ms=8, label='nchypergeom_fisher pmf')\nax.vlines(x, 0, nchypergeom_fisher.pmf(x, M, n, N, odds), colors='b', lw=5, alpha=0.5)",
            "outputs": []
        },
        {
            "id": "60938e46",
            "cell_type": "markdown",
            "source": "Alternatively, the distribution object can be called (as a function)\nto fix the shape and location. This returns a \"frozen\" RV object holding\nthe given parameters fixed.\n\nFreeze the distribution and display the frozen ``pmf``:\n",
            "metadata": {}
        },
        {
            "id": "0ad15d5a",
            "cell_type": "code",
            "metadata": {},
            "execution_count": null,
            "source": "rv = nchypergeom_fisher(M, n, N, odds)\nax.vlines(x, 0, rv.pmf(x), colors='k', linestyles='-', lw=1,\n        label='frozen pmf')\nax.legend(loc='best', frameon=False)\nplt.show()",
            "outputs": []
        },
        {
            "id": "e56ee7a6",
            "cell_type": "markdown",
            "source": "Check accuracy of ``cdf`` and ``ppf``:\n",
            "metadata": {}
        },
        {
            "id": "f876154c",
            "cell_type": "code",
            "metadata": {},
            "execution_count": null,
            "source": "prob = nchypergeom_fisher.cdf(x, M, n, N, odds)\nnp.allclose(x, nchypergeom_fisher.ppf(prob, M, n, N, odds))",
            "outputs": [
                {
                    "output_type": "execute_result",
                    "metadata": {},
                    "data": {
                        "text/plain": "True"
                    },
                    "execution_count": null
                }
            ]
        },
        {
            "id": "2c476533",
            "cell_type": "markdown",
            "source": "Generate random numbers:\n",
            "metadata": {}
        },
        {
            "id": "fcd6989b",
            "cell_type": "code",
            "metadata": {},
            "execution_count": null,
            "source": "r = nchypergeom_fisher.rvs(M, n, N, odds, size=1000)",
            "outputs": []
        }
    ]
}