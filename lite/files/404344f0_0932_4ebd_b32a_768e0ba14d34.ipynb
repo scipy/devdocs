{
    "nbformat": 4,
    "nbformat_minor": 5,
    "metadata": {
        "kernelspec": {
            "display_name": "Python",
            "language": "python",
            "name": "python"
        },
        "language_info": {
            "name": "python"
        }
    },
    "cells": [
        {
            "id": "541882f8",
            "cell_type": "markdown",
            "source": "<div class='alert alert-warning'>\n\nSciPy's interactive examples with Jupyterlite are experimental and may not always work as expected. Execution of cells containing imports may result in large downloads (up to 60MB of content for the first import from SciPy). Load times when importing from SciPy may take roughly 10-20 seconds. If you notice any problems, feel free to open an [issue](https://github.com/scipy/scipy/issues/new/choose).\n\n</div>",
            "metadata": {}
        },
        {
            "id": "1e8fd21c",
            "cell_type": "code",
            "metadata": {},
            "execution_count": null,
            "source": "from scipy.sparse import csr_matrix\nfrom scipy.sparse.csgraph import shortest_path",
            "outputs": []
        },
        {
            "id": "c02a8b8a",
            "cell_type": "code",
            "metadata": {},
            "execution_count": null,
            "source": "graph = [\n[0, 1, 2, 0],\n[0, 0, 0, 1],\n[2, 0, 0, 3],\n[0, 0, 0, 0]\n]\ngraph = csr_matrix(graph)\nprint(graph)",
            "outputs": [
                {
                    "output_type": "execute_result",
                    "metadata": {},
                    "data": {
                        "text/plain": "<Compressed Sparse Row sparse matrix of dtype 'int64'\n    with 5 stored elements and shape (4, 4)>\n    Coords  Values\n    (0, 1)  1\n    (0, 2)  2\n    (1, 3)  1\n    (2, 0)  2\n    (2, 3)  3"
                    },
                    "execution_count": null
                }
            ]
        },
        {
            "id": "cda30a23",
            "cell_type": "code",
            "metadata": {},
            "execution_count": null,
            "source": "dist_matrix, predecessors = shortest_path(csgraph=graph, directed=False, indices=0, return_predecessors=True)\ndist_matrix",
            "outputs": [
                {
                    "output_type": "execute_result",
                    "metadata": {},
                    "data": {
                        "text/plain": "array([0., 1., 2., 2.])"
                    },
                    "execution_count": null
                }
            ]
        },
        {
            "id": "1d6e60c2",
            "cell_type": "code",
            "metadata": {},
            "execution_count": null,
            "source": "predecessors",
            "outputs": [
                {
                    "output_type": "execute_result",
                    "metadata": {},
                    "data": {
                        "text/plain": "array([-9999,     0,     0,     1], dtype=int32)"
                    },
                    "execution_count": null
                }
            ]
        }
    ]
}