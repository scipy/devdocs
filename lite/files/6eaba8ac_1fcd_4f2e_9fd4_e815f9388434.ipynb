{
    "nbformat": 4,
    "nbformat_minor": 5,
    "metadata": {
        "kernelspec": {
            "display_name": "Python",
            "language": "python",
            "name": "python"
        },
        "language_info": {
            "name": "python"
        }
    },
    "cells": [
        {
            "id": "e8d980d2",
            "cell_type": "markdown",
            "source": "<div class='alert alert-warning'>\n\nSciPy's interactive examples with Jupyterlite are experimental and may not always work as expected. Execution of cells containing imports may result in large downloads (up to 60MB of content for the first import from SciPy). Load times when importing from SciPy may take roughly 10-20 seconds. If you notice any problems, feel free to open an [issue](https://github.com/scipy/scipy/issues/new/choose).\n\n</div>",
            "metadata": {}
        },
        {
            "id": "323fe81a",
            "cell_type": "code",
            "metadata": {},
            "execution_count": null,
            "source": "import numpy as np\nfrom scipy.stats import levy\nimport matplotlib.pyplot as plt\nfig, ax = plt.subplots(1, 1)",
            "outputs": []
        },
        {
            "id": "97685df8",
            "cell_type": "markdown",
            "source": "Calculate the first four moments:\n",
            "metadata": {}
        },
        {
            "id": "c73c8dbb",
            "cell_type": "code",
            "metadata": {},
            "execution_count": null,
            "source": "mean, var, skew, kurt = levy.stats(moments='mvsk')",
            "outputs": []
        },
        {
            "id": "57446ce8",
            "cell_type": "markdown",
            "source": "Display the probability density function (``pdf``):\n",
            "metadata": {}
        },
        {
            "id": "5921bb23",
            "cell_type": "code",
            "metadata": {},
            "execution_count": null,
            "source": "# `levy` is very heavy-tailed.\n# To show a nice plot, let's cut off the upper 40 percent.\na, b = levy.ppf(0), levy.ppf(0.6)\nx = np.linspace(a, b, 100)\nax.plot(x, levy.pdf(x),\n       'r-', lw=5, alpha=0.6, label='levy pdf')",
            "outputs": []
        },
        {
            "id": "c324399b",
            "cell_type": "markdown",
            "source": "Alternatively, the distribution object can be called (as a function)\nto fix the shape, location and scale parameters. This returns a \"frozen\"\nRV object holding the given parameters fixed.\n\nFreeze the distribution and display the frozen ``pdf``:\n",
            "metadata": {}
        },
        {
            "id": "55241cfe",
            "cell_type": "code",
            "metadata": {},
            "execution_count": null,
            "source": "rv = levy()\nax.plot(x, rv.pdf(x), 'k-', lw=2, label='frozen pdf')",
            "outputs": []
        },
        {
            "id": "96d19f13",
            "cell_type": "markdown",
            "source": "Check accuracy of ``cdf`` and ``ppf``:\n",
            "metadata": {}
        },
        {
            "id": "a6eb40ff",
            "cell_type": "code",
            "metadata": {},
            "execution_count": null,
            "source": "vals = levy.ppf([0.001, 0.5, 0.999])\nnp.allclose([0.001, 0.5, 0.999], levy.cdf(vals))",
            "outputs": [
                {
                    "output_type": "execute_result",
                    "metadata": {},
                    "data": {
                        "text/plain": "True"
                    },
                    "execution_count": null
                }
            ]
        },
        {
            "id": "1b36f029",
            "cell_type": "markdown",
            "source": "Generate random numbers:\n",
            "metadata": {}
        },
        {
            "id": "18aeaab0",
            "cell_type": "code",
            "metadata": {},
            "execution_count": null,
            "source": "r = levy.rvs(size=1000)",
            "outputs": []
        },
        {
            "id": "5f42f410",
            "cell_type": "markdown",
            "source": "And compare the histogram:\n",
            "metadata": {}
        },
        {
            "id": "7de73fd0",
            "cell_type": "code",
            "metadata": {},
            "execution_count": null,
            "source": "# manual binning to ignore the tail\nbins = np.concatenate((np.linspace(a, b, 20), [np.max(r)]))\nax.hist(r, bins=bins, density=True, histtype='stepfilled', alpha=0.2)\nax.set_xlim([x[0], x[-1]])\nax.legend(loc='best', frameon=False)\nplt.show()",
            "outputs": []
        }
    ]
}