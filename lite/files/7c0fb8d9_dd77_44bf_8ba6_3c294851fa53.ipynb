{
    "nbformat": 4,
    "nbformat_minor": 5,
    "metadata": {
        "kernelspec": {
            "display_name": "Python",
            "language": "python",
            "name": "python"
        },
        "language_info": {
            "name": "python"
        }
    },
    "cells": [
        {
            "id": "d4f3daa0",
            "cell_type": "markdown",
            "source": "<div class='alert alert-warning'>\n\nSciPy's interactive examples with Jupyterlite are experimental and may not always work as expected. Execution of cells containing imports may result in large downloads (up to 60MB of content for the first import from SciPy). Load times when importing from SciPy may take roughly 10-20 seconds. If you notice any problems, feel free to open an [issue](https://github.com/scipy/scipy/issues/new/choose).\n\n</div>",
            "metadata": {}
        },
        {
            "id": "55b64637",
            "cell_type": "code",
            "metadata": {},
            "execution_count": null,
            "source": "from scipy.spatial.transform import Rotation, RotationSpline\nimport numpy as np",
            "outputs": []
        },
        {
            "id": "f36467bc",
            "cell_type": "markdown",
            "source": "Define the sequence of times and rotations from the Euler angles:\n",
            "metadata": {}
        },
        {
            "id": "a1b3a0a2",
            "cell_type": "code",
            "metadata": {},
            "execution_count": null,
            "source": "times = [0, 10, 20, 40]\nangles = [[-10, 20, 30], [0, 15, 40], [-30, 45, 30], [20, 45, 90]]\nrotations = Rotation.from_euler('XYZ', angles, degrees=True)",
            "outputs": []
        },
        {
            "id": "669f9ac6",
            "cell_type": "markdown",
            "source": "Create the interpolator object:\n",
            "metadata": {}
        },
        {
            "id": "e00143d4",
            "cell_type": "code",
            "metadata": {},
            "execution_count": null,
            "source": "spline = RotationSpline(times, rotations)",
            "outputs": []
        },
        {
            "id": "0cf2a2d4",
            "cell_type": "markdown",
            "source": "Interpolate the Euler angles, angular rate and acceleration:\n",
            "metadata": {}
        },
        {
            "id": "56da8dd4",
            "cell_type": "code",
            "metadata": {},
            "execution_count": null,
            "source": "angular_rate = np.rad2deg(spline(times, 1))\nangular_acceleration = np.rad2deg(spline(times, 2))\ntimes_plot = np.linspace(times[0], times[-1], 100)\nangles_plot = spline(times_plot).as_euler('XYZ', degrees=True)\nangular_rate_plot = np.rad2deg(spline(times_plot, 1))\nangular_acceleration_plot = np.rad2deg(spline(times_plot, 2))",
            "outputs": []
        },
        {
            "id": "1279865e",
            "cell_type": "markdown",
            "source": "On this plot you see that Euler angles are continuous and smooth:\n",
            "metadata": {}
        },
        {
            "id": "8a5ea6a1",
            "cell_type": "code",
            "metadata": {},
            "execution_count": null,
            "source": "import matplotlib.pyplot as plt\nplt.plot(times_plot, angles_plot)\nplt.plot(times, angles, 'x')\nplt.title(\"Euler angles\")\nplt.show()",
            "outputs": []
        },
        {
            "id": "b66761c4",
            "cell_type": "markdown",
            "source": "The angular rate is also smooth:\n",
            "metadata": {}
        },
        {
            "id": "cd81bf3e",
            "cell_type": "code",
            "metadata": {},
            "execution_count": null,
            "source": "plt.plot(times_plot, angular_rate_plot)\nplt.plot(times, angular_rate, 'x')\nplt.title(\"Angular rate\")\nplt.show()",
            "outputs": []
        },
        {
            "id": "5c1cacb0",
            "cell_type": "markdown",
            "source": "The angular acceleration is continuous, but not smooth. Also note that\nthe angular acceleration is not a piecewise-linear function, because\nit is different from the second derivative of the rotation vector (which\nis a piecewise-linear function as in the cubic spline).\n",
            "metadata": {}
        },
        {
            "id": "cc30067f",
            "cell_type": "code",
            "metadata": {},
            "execution_count": null,
            "source": "plt.plot(times_plot, angular_acceleration_plot)\nplt.plot(times, angular_acceleration, 'x')\nplt.title(\"Angular acceleration\")\nplt.show()",
            "outputs": []
        }
    ]
}