{
    "nbformat": 4,
    "nbformat_minor": 5,
    "metadata": {
        "kernelspec": {
            "display_name": "Python",
            "language": "python",
            "name": "python"
        },
        "language_info": {
            "name": "python"
        }
    },
    "cells": [
        {
            "id": "ac527acf",
            "cell_type": "markdown",
            "source": "<div class='alert alert-warning'>\n\nSciPy's interactive examples with Jupyterlite are experimental and may not always work as expected. Execution of cells containing imports may result in large downloads (up to 60MB of content for the first import from SciPy). Load times when importing from SciPy may take roughly 10-20 seconds. If you notice any problems, feel free to open an [issue](https://github.com/scipy/scipy/issues/new/choose).\n\n</div>",
            "metadata": {}
        },
        {
            "id": "0ee0ffc3",
            "cell_type": "code",
            "metadata": {},
            "execution_count": null,
            "source": "import numpy as np\nimport matplotlib.pyplot as plt\nfrom scipy.spatial import Voronoi, voronoi_plot_2d",
            "outputs": []
        },
        {
            "id": "49c575b6",
            "cell_type": "markdown",
            "source": "Create a set of points for the example:\n",
            "metadata": {}
        },
        {
            "id": "0386fdbb",
            "cell_type": "code",
            "metadata": {},
            "execution_count": null,
            "source": "rng = np.random.default_rng()\npoints = rng.random((10,2))",
            "outputs": []
        },
        {
            "id": "9c1ac4fc",
            "cell_type": "markdown",
            "source": "Generate the Voronoi diagram for the points:\n",
            "metadata": {}
        },
        {
            "id": "f0f08ed7",
            "cell_type": "code",
            "metadata": {},
            "execution_count": null,
            "source": "vor = Voronoi(points)",
            "outputs": []
        },
        {
            "id": "6d8ba794",
            "cell_type": "markdown",
            "source": "Use `voronoi_plot_2d` to plot the diagram:\n",
            "metadata": {}
        },
        {
            "id": "f9f1812a",
            "cell_type": "code",
            "metadata": {},
            "execution_count": null,
            "source": "fig = voronoi_plot_2d(vor)",
            "outputs": []
        },
        {
            "id": "a8c6bc85",
            "cell_type": "markdown",
            "source": "Use `voronoi_plot_2d` to plot the diagram again, with some settings\ncustomized:\n",
            "metadata": {}
        },
        {
            "id": "e05243ed",
            "cell_type": "code",
            "metadata": {},
            "execution_count": null,
            "source": "fig = voronoi_plot_2d(vor, show_vertices=False, line_colors='orange',\n                      line_width=2, line_alpha=0.6, point_size=2)\nplt.show()",
            "outputs": []
        }
    ]
}