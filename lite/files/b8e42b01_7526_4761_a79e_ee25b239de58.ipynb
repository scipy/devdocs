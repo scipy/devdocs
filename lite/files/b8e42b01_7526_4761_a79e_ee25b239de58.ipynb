{
    "nbformat": 4,
    "nbformat_minor": 5,
    "metadata": {
        "kernelspec": {
            "display_name": "Python",
            "language": "python",
            "name": "python"
        },
        "language_info": {
            "name": "python"
        }
    },
    "cells": [
        {
            "id": "0da7d66b",
            "cell_type": "markdown",
            "source": "<div class='alert alert-warning'>\n\nSciPy's interactive examples with Jupyterlite are experimental and may not always work as expected. Execution of cells containing imports may result in large downloads (up to 60MB of content for the first import from SciPy). Load times when importing from SciPy may take roughly 10-20 seconds. If you notice any problems, feel free to open an [issue](https://github.com/scipy/scipy/issues/new/choose).\n\n</div>",
            "metadata": {}
        },
        {
            "id": "8cce6df4",
            "cell_type": "code",
            "metadata": {},
            "execution_count": null,
            "source": "import numpy as np\nfrom scipy.linalg import lstsq\nimport matplotlib.pyplot as plt",
            "outputs": []
        },
        {
            "id": "afee57a7",
            "cell_type": "markdown",
            "source": "Suppose we have the following data:\n",
            "metadata": {}
        },
        {
            "id": "2c48df3b",
            "cell_type": "code",
            "metadata": {},
            "execution_count": null,
            "source": "x = np.array([1, 2.5, 3.5, 4, 5, 7, 8.5])\ny = np.array([0.3, 1.1, 1.5, 2.0, 3.2, 6.6, 8.6])",
            "outputs": []
        },
        {
            "id": "d60c4eee",
            "cell_type": "markdown",
            "source": "We want to fit a quadratic polynomial of the form ``y = a + b*x**2``\nto this data.  We first form the \"design matrix\" M, with a constant\ncolumn of 1s and a column containing ``x**2``:\n",
            "metadata": {}
        },
        {
            "id": "f5c7e5bf",
            "cell_type": "code",
            "metadata": {},
            "execution_count": null,
            "source": "M = x[:, np.newaxis]**[0, 2]\nM",
            "outputs": [
                {
                    "output_type": "execute_result",
                    "metadata": {},
                    "data": {
                        "text/plain": "array([[  1.  ,   1.  ],\n       [  1.  ,   6.25],\n       [  1.  ,  12.25],\n       [  1.  ,  16.  ],\n       [  1.  ,  25.  ],\n       [  1.  ,  49.  ],\n       [  1.  ,  72.25]])"
                    },
                    "execution_count": null
                }
            ]
        },
        {
            "id": "f4974b39",
            "cell_type": "markdown",
            "source": "We want to find the least-squares solution to ``M.dot(p) = y``,\nwhere ``p`` is a vector with length 2 that holds the parameters\n``a`` and ``b``.\n",
            "metadata": {}
        },
        {
            "id": "cd98343e",
            "cell_type": "code",
            "metadata": {},
            "execution_count": null,
            "source": "p, res, rnk, s = lstsq(M, y)\np",
            "outputs": [
                {
                    "output_type": "execute_result",
                    "metadata": {},
                    "data": {
                        "text/plain": "array([ 0.20925829,  0.12013861])"
                    },
                    "execution_count": null
                }
            ]
        },
        {
            "id": "db12daa4",
            "cell_type": "markdown",
            "source": "Plot the data and the fitted curve.\n",
            "metadata": {}
        },
        {
            "id": "f72f74fc",
            "cell_type": "code",
            "metadata": {},
            "execution_count": null,
            "source": "plt.plot(x, y, 'o', label='data')\nxx = np.linspace(0, 9, 101)\nyy = p[0] + p[1]*xx**2\nplt.plot(xx, yy, label='least squares fit, $y = a + bx^2$')\nplt.xlabel('x')\nplt.ylabel('y')\nplt.legend(framealpha=1, shadow=True)\nplt.grid(alpha=0.25)\nplt.show()",
            "outputs": []
        }
    ]
}