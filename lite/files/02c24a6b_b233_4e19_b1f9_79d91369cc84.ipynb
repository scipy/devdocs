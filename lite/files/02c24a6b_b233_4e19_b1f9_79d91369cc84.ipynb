{
    "nbformat": 4,
    "nbformat_minor": 5,
    "metadata": {
        "kernelspec": {
            "display_name": "Python",
            "language": "python",
            "name": "python"
        },
        "language_info": {
            "name": "python"
        }
    },
    "cells": [
        {
            "id": "0ac11fb6",
            "cell_type": "markdown",
            "source": "<div class='alert alert-warning'>\n\nSciPy's interactive examples with Jupyterlite are experimental and may not always work as expected. Execution of cells containing imports may result in large downloads (up to 60MB of content for the first import from SciPy). Load times when importing from SciPy may take roughly 10-20 seconds. If you notice any problems, feel free to open an [issue](https://github.com/scipy/scipy/issues/new/choose).\n\n</div>",
            "metadata": {}
        },
        {
            "id": "34b56508",
            "cell_type": "markdown",
            "source": "Generate samples from a low discrepancy sequence of Halton.\n",
            "metadata": {}
        },
        {
            "id": "90dbd6e7",
            "cell_type": "code",
            "metadata": {},
            "execution_count": null,
            "source": "from scipy.stats import qmc\nsampler = qmc.Halton(d=2, scramble=False)\nsample = sampler.random(n=5)\nsample",
            "outputs": [
                {
                    "output_type": "execute_result",
                    "metadata": {},
                    "data": {
                        "text/plain": "array([[0.        , 0.        ],\n       [0.5       , 0.33333333],\n       [0.25      , 0.66666667],\n       [0.75      , 0.11111111],\n       [0.125     , 0.44444444]])"
                    },
                    "execution_count": null
                }
            ]
        },
        {
            "id": "7cc33e84",
            "cell_type": "markdown",
            "source": "Compute the quality of the sample using the discrepancy criterion.\n",
            "metadata": {}
        },
        {
            "id": "42cd8a45",
            "cell_type": "code",
            "metadata": {},
            "execution_count": null,
            "source": "qmc.discrepancy(sample)",
            "outputs": [
                {
                    "output_type": "execute_result",
                    "metadata": {},
                    "data": {
                        "text/plain": "0.088893711419753"
                    },
                    "execution_count": null
                }
            ]
        },
        {
            "id": "f7155832",
            "cell_type": "markdown",
            "source": "If some wants to continue an existing design, extra points can be obtained\nby calling again `random`. Alternatively, you can skip some points like:\n",
            "metadata": {}
        },
        {
            "id": "662b3029",
            "cell_type": "code",
            "metadata": {},
            "execution_count": null,
            "source": "_ = sampler.fast_forward(5)\nsample_continued = sampler.random(n=5)\nsample_continued",
            "outputs": [
                {
                    "output_type": "execute_result",
                    "metadata": {},
                    "data": {
                        "text/plain": "array([[0.3125    , 0.37037037],\n       [0.8125    , 0.7037037 ],\n       [0.1875    , 0.14814815],\n       [0.6875    , 0.48148148],\n       [0.4375    , 0.81481481]])"
                    },
                    "execution_count": null
                }
            ]
        },
        {
            "id": "863a7b07",
            "cell_type": "markdown",
            "source": "Finally, samples can be scaled to bounds.\n",
            "metadata": {}
        },
        {
            "id": "8caf7252",
            "cell_type": "code",
            "metadata": {},
            "execution_count": null,
            "source": "l_bounds = [0, 2]\nu_bounds = [10, 5]\nqmc.scale(sample_continued, l_bounds, u_bounds)",
            "outputs": [
                {
                    "output_type": "execute_result",
                    "metadata": {},
                    "data": {
                        "text/plain": "array([[3.125     , 3.11111111],\n       [8.125     , 4.11111111],\n       [1.875     , 2.44444444],\n       [6.875     , 3.44444444],\n       [4.375     , 4.44444444]])"
                    },
                    "execution_count": null
                }
            ]
        }
    ]
}