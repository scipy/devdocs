{
    "nbformat": 4,
    "nbformat_minor": 5,
    "metadata": {
        "kernelspec": {
            "display_name": "Python",
            "language": "python",
            "name": "python"
        },
        "language_info": {
            "name": "python"
        }
    },
    "cells": [
        {
            "id": "c5fa1605",
            "cell_type": "markdown",
            "source": "<div class='alert alert-warning'>\n\nSciPy's interactive examples with Jupyterlite are experimental and may not always work as expected. Execution of cells containing imports may result in large downloads (up to 60MB of content for the first import from SciPy). Load times when importing from SciPy may take roughly 10-20 seconds. If you notice any problems, feel free to open an [issue](https://github.com/scipy/scipy/issues/new/choose).\n\n</div>",
            "metadata": {}
        },
        {
            "id": "008ac463",
            "cell_type": "code",
            "metadata": {},
            "execution_count": null,
            "source": "import numpy as np\nfrom scipy.stats.mstats import mquantiles\na = np.array([6., 47., 49., 15., 42., 41., 7., 39., 43., 40., 36.])\nmquantiles(a)",
            "outputs": [
                {
                    "output_type": "execute_result",
                    "metadata": {},
                    "data": {
                        "text/plain": "array([ 19.2,  40. ,  42.8])"
                    },
                    "execution_count": null
                }
            ]
        },
        {
            "id": "9586bcf2",
            "cell_type": "markdown",
            "source": "Using a 2D array, specifying axis and limit.\n",
            "metadata": {}
        },
        {
            "id": "0b1b3df7",
            "cell_type": "code",
            "metadata": {},
            "execution_count": null,
            "source": "data = np.array([[   6.,    7.,    1.],\n                 [  47.,   15.,    2.],\n                 [  49.,   36.,    3.],\n                 [  15.,   39.,    4.],\n                 [  42.,   40., -999.],\n                 [  41.,   41., -999.],\n                 [   7., -999., -999.],\n                 [  39., -999., -999.],\n                 [  43., -999., -999.],\n                 [  40., -999., -999.],\n                 [  36., -999., -999.]])\nprint(mquantiles(data, axis=0, limit=(0, 50)))",
            "outputs": [
                {
                    "output_type": "execute_result",
                    "metadata": {},
                    "data": {
                        "text/plain": "[[19.2  14.6   1.45]\n [40.   37.5   2.5 ]\n [42.8  40.05  3.55]]"
                    },
                    "execution_count": null
                }
            ]
        },
        {
            "id": "3c3f5c1c",
            "cell_type": "code",
            "metadata": {},
            "execution_count": null,
            "source": "data[:, 2] = -999.\nprint(mquantiles(data, axis=0, limit=(0, 50)))",
            "outputs": [
                {
                    "output_type": "execute_result",
                    "metadata": {},
                    "data": {
                        "text/plain": "[[19.200000000000003 14.6 --]\n [40.0 37.5 --]\n [42.800000000000004 40.05 --]]"
                    },
                    "execution_count": null
                }
            ]
        }
    ]
}