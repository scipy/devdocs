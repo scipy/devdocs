{
    "nbformat": 4,
    "nbformat_minor": 5,
    "metadata": {
        "kernelspec": {
            "display_name": "Python",
            "language": "python",
            "name": "python"
        },
        "language_info": {
            "name": "python"
        }
    },
    "cells": [
        {
            "id": "066346ba",
            "cell_type": "markdown",
            "source": "<div class='alert alert-warning'>\n\nSciPy's interactive examples with Jupyterlite are experimental and may not always work as expected. Execution of cells containing imports may result in large downloads (up to 60MB of content for the first import from SciPy). Load times when importing from SciPy may take roughly 10-20 seconds. If you notice any problems, feel free to open an [issue](https://github.com/scipy/scipy/issues/new/choose).\n\n</div>",
            "metadata": {}
        },
        {
            "id": "cf65409b",
            "cell_type": "markdown",
            "source": "Store sparse array/matrix to disk, and load it again:\n",
            "metadata": {}
        },
        {
            "id": "be6f556b",
            "cell_type": "code",
            "metadata": {},
            "execution_count": null,
            "source": "import numpy as np\nimport scipy as sp\nsparse_array = sp.sparse.csc_array([[0, 0, 3], [4, 0, 0]])\nsparse_array",
            "outputs": [
                {
                    "output_type": "execute_result",
                    "metadata": {},
                    "data": {
                        "text/plain": "<Compressed Sparse Column sparse array of dtype 'int64'\n    with 2 stored elements and shape (2, 3)>"
                    },
                    "execution_count": null
                }
            ]
        },
        {
            "id": "c3ab4c87",
            "cell_type": "code",
            "metadata": {},
            "execution_count": null,
            "source": "sparse_array.toarray()",
            "outputs": [
                {
                    "output_type": "execute_result",
                    "metadata": {},
                    "data": {
                        "text/plain": "array([[0, 0, 3],\n       [4, 0, 0]], dtype=int64)"
                    },
                    "execution_count": null
                }
            ]
        },
        {
            "id": "4134e6ef",
            "cell_type": "code",
            "metadata": {},
            "execution_count": null,
            "source": "sp.sparse.save_npz('/tmp/sparse_array.npz', sparse_array)\nsparse_array = sp.sparse.load_npz('/tmp/sparse_array.npz')",
            "outputs": []
        },
        {
            "id": "c32e4eba",
            "cell_type": "code",
            "metadata": {},
            "execution_count": null,
            "source": "sparse_array",
            "outputs": [
                {
                    "output_type": "execute_result",
                    "metadata": {},
                    "data": {
                        "text/plain": "<Compressed Sparse Column sparse array of dtype 'int64'\n    with 2 stored elements and shape (2, 3)>"
                    },
                    "execution_count": null
                }
            ]
        },
        {
            "id": "6047474d",
            "cell_type": "code",
            "metadata": {},
            "execution_count": null,
            "source": "sparse_array.toarray()",
            "outputs": [
                {
                    "output_type": "execute_result",
                    "metadata": {},
                    "data": {
                        "text/plain": "array([[0, 0, 3],\n       [4, 0, 0]], dtype=int64)"
                    },
                    "execution_count": null
                }
            ]
        },
        {
            "id": "ba52aa9f",
            "cell_type": "markdown",
            "source": "In this example we force the result to be csr_array from csr_matrix",
            "metadata": {}
        },
        {
            "id": "ed6105b5",
            "cell_type": "code",
            "metadata": {},
            "execution_count": null,
            "source": "sparse_matrix = sp.sparse.csc_matrix([[0, 0, 3], [4, 0, 0]])\nsp.sparse.save_npz('/tmp/sparse_matrix.npz', sparse_matrix)\ntmp = sp.sparse.load_npz('/tmp/sparse_matrix.npz')\nsparse_array = sp.sparse.csr_array(tmp)",
            "outputs": []
        }
    ]
}