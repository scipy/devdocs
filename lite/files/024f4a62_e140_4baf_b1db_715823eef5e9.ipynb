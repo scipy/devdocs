{
    "nbformat": 4,
    "nbformat_minor": 5,
    "metadata": {
        "kernelspec": {
            "display_name": "Python",
            "language": "python",
            "name": "python"
        },
        "language_info": {
            "name": "python"
        }
    },
    "cells": [
        {
            "id": "50471cf5",
            "cell_type": "markdown",
            "source": "<div class='alert alert-warning'>\n\nSciPy's interactive examples with Jupyterlite are experimental and may not always work as expected. Execution of cells containing imports may result in large downloads (up to 60MB of content for the first import from SciPy). Load times when importing from SciPy may take roughly 10-20 seconds. If you notice any problems, feel free to open an [issue](https://github.com/scipy/scipy/issues/new/choose).\n\n</div>",
            "metadata": {}
        },
        {
            "id": "c2cf63b5",
            "cell_type": "markdown",
            "source": "A 5 Hz waveform sampled at 500 Hz for 1 second:\n",
            "metadata": {}
        },
        {
            "id": "9f68b2e6",
            "cell_type": "code",
            "metadata": {},
            "execution_count": null,
            "source": "import numpy as np\nfrom scipy import signal\nimport matplotlib.pyplot as plt\nt = np.linspace(0, 1, 500, endpoint=False)\nplt.plot(t, signal.square(2 * np.pi * 5 * t))\nplt.ylim(-2, 2)",
            "outputs": []
        },
        {
            "id": "744a5b1e",
            "cell_type": "markdown",
            "source": "A pulse-width modulated sine wave:\n",
            "metadata": {}
        },
        {
            "id": "6d5cd194",
            "cell_type": "code",
            "metadata": {},
            "execution_count": null,
            "source": "plt.figure()\nsig = np.sin(2 * np.pi * t)\npwm = signal.square(2 * np.pi * 30 * t, duty=(sig + 1)/2)\nplt.subplot(2, 1, 1)\nplt.plot(t, sig)\nplt.subplot(2, 1, 2)\nplt.plot(t, pwm)\nplt.ylim(-1.5, 1.5)",
            "outputs": []
        }
    ]
}