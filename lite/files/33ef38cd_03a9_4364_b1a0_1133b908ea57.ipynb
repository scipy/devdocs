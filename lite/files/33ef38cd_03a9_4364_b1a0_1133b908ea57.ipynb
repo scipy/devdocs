{
    "nbformat": 4,
    "nbformat_minor": 5,
    "metadata": {
        "kernelspec": {
            "display_name": "Python",
            "language": "python",
            "name": "python"
        },
        "language_info": {
            "name": "python"
        }
    },
    "cells": [
        {
            "id": "99523f49",
            "cell_type": "markdown",
            "source": "<div class='alert alert-warning'>\n\nSciPy's interactive examples with Jupyterlite are experimental and may not always work as expected. Execution of cells containing imports may result in large downloads (up to 60MB of content for the first import from SciPy). Load times when importing from SciPy may take roughly 10-20 seconds. If you notice any problems, feel free to open an [issue](https://github.com/scipy/scipy/issues/new/choose).\n\n</div>",
            "metadata": {}
        },
        {
            "id": "58bc1906",
            "cell_type": "markdown",
            "source": "Three-quarters of the given values lie below a given score:\n",
            "metadata": {}
        },
        {
            "id": "5a6f051b",
            "cell_type": "code",
            "metadata": {},
            "execution_count": null,
            "source": "import numpy as np\nfrom scipy import stats\nstats.percentileofscore([1, 2, 3, 4], 3)",
            "outputs": [
                {
                    "output_type": "execute_result",
                    "metadata": {},
                    "data": {
                        "text/plain": "75.0"
                    },
                    "execution_count": null
                }
            ]
        },
        {
            "id": "f59956cc",
            "cell_type": "markdown",
            "source": "With multiple matches, note how the scores of the two matches, 0.6\nand 0.8 respectively, are averaged:\n",
            "metadata": {}
        },
        {
            "id": "d5f7eb67",
            "cell_type": "code",
            "metadata": {},
            "execution_count": null,
            "source": "stats.percentileofscore([1, 2, 3, 3, 4], 3)",
            "outputs": [
                {
                    "output_type": "execute_result",
                    "metadata": {},
                    "data": {
                        "text/plain": "70.0"
                    },
                    "execution_count": null
                }
            ]
        },
        {
            "id": "2c556386",
            "cell_type": "markdown",
            "source": "Only 2/5 values are strictly less than 3:\n",
            "metadata": {}
        },
        {
            "id": "3471a69c",
            "cell_type": "code",
            "metadata": {},
            "execution_count": null,
            "source": "stats.percentileofscore([1, 2, 3, 3, 4], 3, kind='strict')",
            "outputs": [
                {
                    "output_type": "execute_result",
                    "metadata": {},
                    "data": {
                        "text/plain": "40.0"
                    },
                    "execution_count": null
                }
            ]
        },
        {
            "id": "6342634e",
            "cell_type": "markdown",
            "source": "But 4/5 values are less than or equal to 3:\n",
            "metadata": {}
        },
        {
            "id": "851eef39",
            "cell_type": "code",
            "metadata": {},
            "execution_count": null,
            "source": "stats.percentileofscore([1, 2, 3, 3, 4], 3, kind='weak')",
            "outputs": [
                {
                    "output_type": "execute_result",
                    "metadata": {},
                    "data": {
                        "text/plain": "80.0"
                    },
                    "execution_count": null
                }
            ]
        },
        {
            "id": "e049f748",
            "cell_type": "markdown",
            "source": "The average between the weak and the strict scores is:\n",
            "metadata": {}
        },
        {
            "id": "2816eeee",
            "cell_type": "code",
            "metadata": {},
            "execution_count": null,
            "source": "stats.percentileofscore([1, 2, 3, 3, 4], 3, kind='mean')",
            "outputs": [
                {
                    "output_type": "execute_result",
                    "metadata": {},
                    "data": {
                        "text/plain": "60.0"
                    },
                    "execution_count": null
                }
            ]
        },
        {
            "id": "c403c484",
            "cell_type": "markdown",
            "source": "Score arrays (of any dimensionality) are supported:\n",
            "metadata": {}
        },
        {
            "id": "8dcc8b1c",
            "cell_type": "code",
            "metadata": {},
            "execution_count": null,
            "source": "stats.percentileofscore([1, 2, 3, 3, 4], [2, 3])",
            "outputs": [
                {
                    "output_type": "execute_result",
                    "metadata": {},
                    "data": {
                        "text/plain": "array([40., 70.])"
                    },
                    "execution_count": null
                }
            ]
        },
        {
            "id": "b8c1317c",
            "cell_type": "markdown",
            "source": "The inputs can be infinite:\n",
            "metadata": {}
        },
        {
            "id": "2ff09b47",
            "cell_type": "code",
            "metadata": {},
            "execution_count": null,
            "source": "stats.percentileofscore([-np.inf, 0, 1, np.inf], [1, 2, np.inf])",
            "outputs": [
                {
                    "output_type": "execute_result",
                    "metadata": {},
                    "data": {
                        "text/plain": "array([75., 75., 100.])"
                    },
                    "execution_count": null
                }
            ]
        },
        {
            "id": "1bf9ab2c",
            "cell_type": "markdown",
            "source": "If `a` is empty, then the resulting percentiles are all `nan`:\n",
            "metadata": {}
        },
        {
            "id": "ab736074",
            "cell_type": "code",
            "metadata": {},
            "execution_count": null,
            "source": "stats.percentileofscore([], [1, 2])",
            "outputs": [
                {
                    "output_type": "execute_result",
                    "metadata": {},
                    "data": {
                        "text/plain": "array([nan, nan])"
                    },
                    "execution_count": null
                }
            ]
        }
    ]
}