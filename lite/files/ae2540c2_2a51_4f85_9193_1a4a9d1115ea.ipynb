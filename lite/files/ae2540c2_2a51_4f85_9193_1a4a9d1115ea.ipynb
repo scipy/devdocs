{
    "nbformat": 4,
    "nbformat_minor": 5,
    "metadata": {
        "kernelspec": {
            "display_name": "Python",
            "language": "python",
            "name": "python"
        },
        "language_info": {
            "name": "python"
        }
    },
    "cells": [
        {
            "id": "23ee724d",
            "cell_type": "markdown",
            "source": "<div class='alert alert-warning'>\n\nSciPy's interactive examples with Jupyterlite are experimental and may not always work as expected. Execution of cells containing imports may result in large downloads (up to 60MB of content for the first import from SciPy). Load times when importing from SciPy may take roughly 10-20 seconds. If you notice any problems, feel free to open an [issue](https://github.com/scipy/scipy/issues/new/choose).\n\n</div>",
            "metadata": {}
        },
        {
            "id": "e004aae7",
            "cell_type": "code",
            "metadata": {},
            "execution_count": null,
            "source": "from scipy.misc import derivative\ndef f(x):\n    return x**3 + x**2\nderivative(f, 1.0, dx=1e-6)",
            "outputs": [
                {
                    "output_type": "execute_result",
                    "metadata": {},
                    "data": {
                        "text/plain": "4.9999999999217337"
                    },
                    "execution_count": null
                }
            ]
        }
    ]
}