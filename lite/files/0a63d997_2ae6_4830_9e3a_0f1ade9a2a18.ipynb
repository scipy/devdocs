{
    "nbformat": 4,
    "nbformat_minor": 5,
    "metadata": {
        "kernelspec": {
            "display_name": "Python",
            "language": "python",
            "name": "python"
        },
        "language_info": {
            "name": "python"
        }
    },
    "cells": [
        {
            "id": "6899cbb5",
            "cell_type": "markdown",
            "source": "<div class='alert alert-warning'>\n\nSciPy's interactive examples with Jupyterlite are experimental and may not always work as expected. Execution of cells containing imports may result in large downloads (up to 60MB of content for the first import from SciPy). Load times when importing from SciPy may take roughly 10-20 seconds. If you notice any problems, feel free to open an [issue](https://github.com/scipy/scipy/issues/new/choose).\n\n</div>",
            "metadata": {}
        },
        {
            "id": "0b052d7e",
            "cell_type": "markdown",
            "source": "Basic homogeneity property:\n",
            "metadata": {}
        },
        {
            "id": "f752393e",
            "cell_type": "code",
            "metadata": {},
            "execution_count": null,
            "source": "import numpy as np\nfrom scipy.special import elliprf",
            "outputs": []
        },
        {
            "id": "2ebf52a7",
            "cell_type": "code",
            "metadata": {},
            "execution_count": null,
            "source": "x = 1.2 + 3.4j\ny = 5.\nz = 6.\nscale = 0.3 + 0.4j\nelliprf(scale*x, scale*y, scale*z)",
            "outputs": [
                {
                    "output_type": "execute_result",
                    "metadata": {},
                    "data": {
                        "text/plain": "(0.5328051227278146-0.4008623567957094j)"
                    },
                    "execution_count": null
                }
            ]
        },
        {
            "id": "f33438ce",
            "cell_type": "code",
            "metadata": {},
            "execution_count": null,
            "source": "elliprf(x, y, z)/np.sqrt(scale)",
            "outputs": [
                {
                    "output_type": "execute_result",
                    "metadata": {},
                    "data": {
                        "text/plain": "(0.5328051227278147-0.4008623567957095j)"
                    },
                    "execution_count": null
                }
            ]
        },
        {
            "id": "72d081d1",
            "cell_type": "markdown",
            "source": "All three arguments coincide:\n",
            "metadata": {}
        },
        {
            "id": "76056cfb",
            "cell_type": "code",
            "metadata": {},
            "execution_count": null,
            "source": "x = 1.2 + 3.4j\nelliprf(x, x, x)",
            "outputs": [
                {
                    "output_type": "execute_result",
                    "metadata": {},
                    "data": {
                        "text/plain": "(0.42991731206146316-0.30417298187455954j)"
                    },
                    "execution_count": null
                }
            ]
        },
        {
            "id": "4038bce8",
            "cell_type": "code",
            "metadata": {},
            "execution_count": null,
            "source": "1/np.sqrt(x)",
            "outputs": [
                {
                    "output_type": "execute_result",
                    "metadata": {},
                    "data": {
                        "text/plain": "(0.4299173120614631-0.30417298187455954j)"
                    },
                    "execution_count": null
                }
            ]
        },
        {
            "id": "ec3965a0",
            "cell_type": "markdown",
            "source": "The so-called \"first lemniscate constant\":\n",
            "metadata": {}
        },
        {
            "id": "ebd891c2",
            "cell_type": "code",
            "metadata": {},
            "execution_count": null,
            "source": "elliprf(0, 1, 2)",
            "outputs": [
                {
                    "output_type": "execute_result",
                    "metadata": {},
                    "data": {
                        "text/plain": "1.3110287771460598"
                    },
                    "execution_count": null
                }
            ]
        },
        {
            "id": "54b5d396",
            "cell_type": "code",
            "metadata": {},
            "execution_count": null,
            "source": "from scipy.special import gamma\ngamma(0.25)**2/(4*np.sqrt(2*np.pi))",
            "outputs": [
                {
                    "output_type": "execute_result",
                    "metadata": {},
                    "data": {
                        "text/plain": "1.3110287771460598"
                    },
                    "execution_count": null
                }
            ]
        }
    ]
}