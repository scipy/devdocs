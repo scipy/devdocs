{
    "nbformat": 4,
    "nbformat_minor": 5,
    "metadata": {
        "kernelspec": {
            "display_name": "Python",
            "language": "python",
            "name": "python"
        },
        "language_info": {
            "name": "python"
        }
    },
    "cells": [
        {
            "id": "b4931f7a",
            "cell_type": "markdown",
            "source": "<div class='alert alert-warning'>\n\nSciPy's interactive examples with Jupyterlite are experimental and may not always work as expected. Execution of cells containing imports may result in large downloads (up to 60MB of content for the first import from SciPy). Load times when importing from SciPy may take roughly 10-20 seconds. If you notice any problems, feel free to open an [issue](https://github.com/scipy/scipy/issues/new/choose).\n\n</div>",
            "metadata": {}
        },
        {
            "id": "c34a5d12",
            "cell_type": "code",
            "metadata": {},
            "execution_count": null,
            "source": "import numpy as np\nfrom scipy.cluster import hierarchy\nimport matplotlib.pyplot as plt",
            "outputs": []
        },
        {
            "id": "957d361a",
            "cell_type": "markdown",
            "source": "A very basic example:\n",
            "metadata": {}
        },
        {
            "id": "b7c58ad1",
            "cell_type": "code",
            "metadata": {},
            "execution_count": null,
            "source": "ytdist = np.array([662., 877., 255., 412., 996., 295., 468., 268.,\n                   400., 754., 564., 138., 219., 869., 669.])\nZ = hierarchy.linkage(ytdist, 'single')\nplt.figure()\ndn = hierarchy.dendrogram(Z)",
            "outputs": []
        },
        {
            "id": "1391dad2",
            "cell_type": "markdown",
            "source": "Now, plot in given axes, improve the color scheme and use both vertical and\nhorizontal orientations:\n",
            "metadata": {}
        },
        {
            "id": "df840cba",
            "cell_type": "code",
            "metadata": {},
            "execution_count": null,
            "source": "hierarchy.set_link_color_palette(['m', 'c', 'y', 'k'])\nfig, axes = plt.subplots(1, 2, figsize=(8, 3))\ndn1 = hierarchy.dendrogram(Z, ax=axes[0], above_threshold_color='y',\n                           orientation='top')\ndn2 = hierarchy.dendrogram(Z, ax=axes[1],\n                           above_threshold_color='#bcbddc',\n                           orientation='right')\nhierarchy.set_link_color_palette(None)  # reset to default after use\nplt.show()",
            "outputs": []
        }
    ]
}