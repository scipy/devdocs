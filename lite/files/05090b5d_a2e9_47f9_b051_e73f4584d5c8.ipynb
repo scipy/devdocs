{
    "nbformat": 4,
    "nbformat_minor": 5,
    "metadata": {
        "kernelspec": {
            "display_name": "Python",
            "language": "python",
            "name": "python"
        },
        "language_info": {
            "name": "python"
        }
    },
    "cells": [
        {
            "id": "27c5ef55",
            "cell_type": "markdown",
            "source": "<div class='alert alert-warning'>\n\nSciPy's interactive examples with Jupyterlite are experimental and may not always work as expected. Execution of cells containing imports may result in large downloads (up to 60MB of content for the first import from SciPy). Load times when importing from SciPy may take roughly 10-20 seconds. If you notice any problems, feel free to open an [issue](https://github.com/scipy/scipy/issues/new/choose).\n\n</div>",
            "metadata": {}
        },
        {
            "id": "ff28e1e9",
            "cell_type": "code",
            "metadata": {},
            "execution_count": null,
            "source": "import numpy as np\nimport scipy as sp\nA = sp.sparse.csr_array(np.array([[0, 2], [5, 0]]))\nB = sp.sparse.csr_array(np.array([[1, 2], [3, 4]]))\nsp.sparse.kron(A, B).toarray()",
            "outputs": [
                {
                    "output_type": "execute_result",
                    "metadata": {},
                    "data": {
                        "text/plain": "array([[ 0,  0,  2,  4],\n       [ 0,  0,  6,  8],\n       [ 5, 10,  0,  0],\n       [15, 20,  0,  0]])"
                    },
                    "execution_count": null
                }
            ]
        },
        {
            "id": "410cbaed",
            "cell_type": "code",
            "metadata": {},
            "execution_count": null,
            "source": "sp.sparse.kron(A, [[1, 2], [3, 4]]).toarray()",
            "outputs": [
                {
                    "output_type": "execute_result",
                    "metadata": {},
                    "data": {
                        "text/plain": "array([[ 0,  0,  2,  4],\n       [ 0,  0,  6,  8],\n       [ 5, 10,  0,  0],\n       [15, 20,  0,  0]])"
                    },
                    "execution_count": null
                }
            ]
        }
    ]
}