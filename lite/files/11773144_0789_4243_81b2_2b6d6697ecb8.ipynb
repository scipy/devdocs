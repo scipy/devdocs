{
    "nbformat": 4,
    "nbformat_minor": 5,
    "metadata": {
        "kernelspec": {
            "display_name": "Python",
            "language": "python",
            "name": "python"
        },
        "language_info": {
            "name": "python"
        }
    },
    "cells": [
        {
            "id": "ae9b3086",
            "cell_type": "markdown",
            "source": "<div class='alert alert-warning'>\n\nSciPy's interactive examples with Jupyterlite are experimental and may not always work as expected. Execution of cells containing imports may result in large downloads (up to 60MB of content for the first import from SciPy). Load times when importing from SciPy may take roughly 10-20 seconds. If you notice any problems, feel free to open an [issue](https://github.com/scipy/scipy/issues/new/choose).\n\n</div>",
            "metadata": {}
        },
        {
            "id": "cab2ab23",
            "cell_type": "markdown",
            "source": "To use the distribution class, it must be instantiated using keyword\nparameters corresponding with one of the accepted parameterizations.\n",
            "metadata": {}
        },
        {
            "id": "7aaf0204",
            "cell_type": "code",
            "metadata": {},
            "execution_count": null,
            "source": "import numpy as np\nimport matplotlib.pyplot as plt\nfrom scipy import stats\nfrom scipy.stats import Normal\nX = Normal(mu=-0.81, sigma=0.69)",
            "outputs": []
        },
        {
            "id": "2311380a",
            "cell_type": "markdown",
            "source": "For convenience, the ``plot`` method can be used to visualize the density\nand other functions of the distribution.\n",
            "metadata": {}
        },
        {
            "id": "5c2452c9",
            "cell_type": "code",
            "metadata": {},
            "execution_count": null,
            "source": "X.plot()\nplt.show()",
            "outputs": []
        },
        {
            "id": "ec9ecd53",
            "cell_type": "markdown",
            "source": "The support of the underlying distribution is available using the ``support``\nmethod.\n",
            "metadata": {}
        },
        {
            "id": "a91ae7b0",
            "cell_type": "code",
            "metadata": {},
            "execution_count": null,
            "source": "X.support()",
            "outputs": [
                {
                    "output_type": "execute_result",
                    "metadata": {},
                    "data": {
                        "text/plain": "(np.float64(-inf), np.float64(inf))"
                    },
                    "execution_count": null
                }
            ]
        },
        {
            "id": "06831b6c",
            "cell_type": "markdown",
            "source": "The numerical values of parameters associated with all parameterizations\nare available as attributes.\n",
            "metadata": {}
        },
        {
            "id": "5a6a0e3d",
            "cell_type": "code",
            "metadata": {},
            "execution_count": null,
            "source": "X.mu, X.sigma",
            "outputs": [
                {
                    "output_type": "execute_result",
                    "metadata": {},
                    "data": {
                        "text/plain": "(np.float64(-0.81), np.float64(0.69))"
                    },
                    "execution_count": null
                }
            ]
        },
        {
            "id": "12019f38",
            "cell_type": "markdown",
            "source": "To evaluate the probability density function of the underlying distribution\nat argument ``x=-1.13``:\n",
            "metadata": {}
        },
        {
            "id": "41fae530",
            "cell_type": "code",
            "metadata": {},
            "execution_count": null,
            "source": "x = -1.13\nX.pdf(x)",
            "outputs": [
                {
                    "output_type": "execute_result",
                    "metadata": {},
                    "data": {
                        "text/plain": "0.5192263911374636"
                    },
                    "execution_count": null
                }
            ]
        },
        {
            "id": "3f84f881",
            "cell_type": "markdown",
            "source": "The cumulative distribution function, its complement, and the logarithm\nof these functions are evaluated similarly.\n",
            "metadata": {}
        },
        {
            "id": "c7ee6b11",
            "cell_type": "code",
            "metadata": {},
            "execution_count": null,
            "source": "np.allclose(np.exp(X.logccdf(x)), 1 - X.cdf(x))",
            "outputs": [
                {
                    "output_type": "execute_result",
                    "metadata": {},
                    "data": {
                        "text/plain": "True"
                    },
                    "execution_count": null
                }
            ]
        },
        {
            "id": "eef7b527",
            "cell_type": "markdown",
            "source": "The inverse of these functions with respect to the argument ``x`` is also\navailable.\n",
            "metadata": {}
        },
        {
            "id": "f6908cbf",
            "cell_type": "code",
            "metadata": {},
            "execution_count": null,
            "source": "logp = np.log(1 - X.ccdf(x))\nnp.allclose(X.ilogcdf(logp), x)",
            "outputs": [
                {
                    "output_type": "execute_result",
                    "metadata": {},
                    "data": {
                        "text/plain": "True"
                    },
                    "execution_count": null
                }
            ]
        },
        {
            "id": "f28e3c1d",
            "cell_type": "markdown",
            "source": "Note that distribution functions and their logarithms also have two-argument\nversions for working with the probability mass between two arguments. The\nresult tends to be more accurate than the naive implementation because it avoids\nsubtractive cancellation.\n",
            "metadata": {}
        },
        {
            "id": "e7080c83",
            "cell_type": "code",
            "metadata": {},
            "execution_count": null,
            "source": "y = -0.56\nnp.allclose(X.ccdf(x, y), 1 - (X.cdf(y) - X.cdf(x)))",
            "outputs": [
                {
                    "output_type": "execute_result",
                    "metadata": {},
                    "data": {
                        "text/plain": "True"
                    },
                    "execution_count": null
                }
            ]
        },
        {
            "id": "803fd3f4",
            "cell_type": "markdown",
            "source": "There are methods for computing measures of central tendency,\ndispersion, higher moments, and entropy.\n",
            "metadata": {}
        },
        {
            "id": "eb55a238",
            "cell_type": "code",
            "metadata": {},
            "execution_count": null,
            "source": "X.mean(), X.median(), X.mode()",
            "outputs": [
                {
                    "output_type": "execute_result",
                    "metadata": {},
                    "data": {
                        "text/plain": "(np.float64(-0.81), np.float64(-0.81), np.float64(-0.81))"
                    },
                    "execution_count": null
                }
            ]
        },
        {
            "id": "a134cbef",
            "cell_type": "code",
            "metadata": {},
            "execution_count": null,
            "source": "X.variance(), X.standard_deviation()",
            "outputs": [
                {
                    "output_type": "execute_result",
                    "metadata": {},
                    "data": {
                        "text/plain": "(np.float64(0.4760999999999999), np.float64(0.69))"
                    },
                    "execution_count": null
                }
            ]
        },
        {
            "id": "23f300c3",
            "cell_type": "code",
            "metadata": {},
            "execution_count": null,
            "source": "X.skewness(), X.kurtosis()",
            "outputs": [
                {
                    "output_type": "execute_result",
                    "metadata": {},
                    "data": {
                        "text/plain": "(np.float64(0.0), np.float64(3.0))"
                    },
                    "execution_count": null
                }
            ]
        },
        {
            "id": "e3b749df",
            "cell_type": "code",
            "metadata": {},
            "execution_count": null,
            "source": "np.allclose(X.moment(order=6, kind='standardized'),\n            X.moment(order=6, kind='central') / X.variance()**3)",
            "outputs": [
                {
                    "output_type": "execute_result",
                    "metadata": {},
                    "data": {
                        "text/plain": "True"
                    },
                    "execution_count": null
                }
            ]
        },
        {
            "id": "e573784c",
            "cell_type": "code",
            "metadata": {},
            "execution_count": null,
            "source": "np.allclose(np.exp(X.logentropy()), X.entropy())",
            "outputs": [
                {
                    "output_type": "execute_result",
                    "metadata": {},
                    "data": {
                        "text/plain": "True"
                    },
                    "execution_count": null
                }
            ]
        },
        {
            "id": "e41955aa",
            "cell_type": "markdown",
            "source": "Pseudo-random samples can be drawn from\nthe underlying distribution using ``sample``.\n",
            "metadata": {}
        },
        {
            "id": "a302628e",
            "cell_type": "code",
            "metadata": {},
            "execution_count": null,
            "source": "X.sample(shape=(4,))",
            "outputs": [
                {
                    "output_type": "execute_result",
                    "metadata": {},
                    "data": {
                        "text/plain": "array([-1.55763675, -1.46907271, -0.06965848, -1.24340849])  # may vary"
                    },
                    "execution_count": null
                }
            ]
        }
    ]
}