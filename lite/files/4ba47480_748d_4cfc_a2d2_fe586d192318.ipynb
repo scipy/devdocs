{
    "nbformat": 4,
    "nbformat_minor": 5,
    "metadata": {
        "kernelspec": {
            "display_name": "Python",
            "language": "python",
            "name": "python"
        },
        "language_info": {
            "name": "python"
        }
    },
    "cells": [
        {
            "id": "a27795b2",
            "cell_type": "markdown",
            "source": "<div class='alert alert-warning'>\n\nSciPy's interactive examples with Jupyterlite are experimental and may not always work as expected. Execution of cells containing imports may result in large downloads (up to 60MB of content for the first import from SciPy). Load times when importing from SciPy may take roughly 10-20 seconds. If you notice any problems, feel free to open an [issue](https://github.com/scipy/scipy/issues/new/choose).\n\n</div>",
            "metadata": {}
        },
        {
            "id": "43d15a9e",
            "cell_type": "markdown",
            "source": "Construct a cubic B-spline:\n",
            "metadata": {}
        },
        {
            "id": "570f8fd0",
            "cell_type": "code",
            "metadata": {},
            "execution_count": null,
            "source": "import numpy as np\nfrom scipy.interpolate import BSpline\nb = BSpline.basis_element([0, 1, 2, 3, 4])\nk = b.k\nb.t[k:-k]",
            "outputs": [
                {
                    "output_type": "execute_result",
                    "metadata": {},
                    "data": {
                        "text/plain": "array([ 0.,  1.,  2.,  3.,  4.])"
                    },
                    "execution_count": null
                }
            ]
        },
        {
            "id": "a3b68e58",
            "cell_type": "code",
            "metadata": {},
            "execution_count": null,
            "source": "k",
            "outputs": [
                {
                    "output_type": "execute_result",
                    "metadata": {},
                    "data": {
                        "text/plain": "3"
                    },
                    "execution_count": null
                }
            ]
        },
        {
            "id": "6b8c7c79",
            "cell_type": "markdown",
            "source": "Construct a quadratic B-spline on ``[0, 1, 1, 2]``, and compare\nto its explicit form:\n",
            "metadata": {}
        },
        {
            "id": "fa5efd08",
            "cell_type": "code",
            "metadata": {},
            "execution_count": null,
            "source": "t = [0, 1, 1, 2]\nb = BSpline.basis_element(t)\ndef f(x):\n    return np.where(x < 1, x*x, (2. - x)**2)",
            "outputs": []
        },
        {
            "id": "d78db589",
            "cell_type": "code",
            "metadata": {},
            "execution_count": null,
            "source": "import matplotlib.pyplot as plt\nfig, ax = plt.subplots()\nx = np.linspace(0, 2, 51)\nax.plot(x, b(x), 'g', lw=3)\nax.plot(x, f(x), 'r', lw=8, alpha=0.4)\nax.grid(True)\nplt.show()",
            "outputs": []
        }
    ]
}