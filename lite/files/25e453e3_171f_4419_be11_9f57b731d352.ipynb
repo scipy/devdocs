{
    "nbformat": 4,
    "nbformat_minor": 5,
    "metadata": {
        "kernelspec": {
            "display_name": "Python",
            "language": "python",
            "name": "python"
        },
        "language_info": {
            "name": "python"
        }
    },
    "cells": [
        {
            "id": "18cbbe57",
            "cell_type": "markdown",
            "source": "<div class='alert alert-warning'>\n\nSciPy's interactive examples with Jupyterlite are experimental and may not always work as expected. Execution of cells containing imports may result in large downloads (up to 60MB of content for the first import from SciPy). Load times when importing from SciPy may take roughly 10-20 seconds. If you notice any problems, feel free to open an [issue](https://github.com/scipy/scipy/issues/new/choose).\n\n</div>",
            "metadata": {}
        },
        {
            "id": "44851790",
            "cell_type": "code",
            "metadata": {},
            "execution_count": null,
            "source": "import scipy.misc\nface = scipy.misc.face()\nface.shape",
            "outputs": [
                {
                    "output_type": "execute_result",
                    "metadata": {},
                    "data": {
                        "text/plain": "(768, 1024, 3)"
                    },
                    "execution_count": null
                }
            ]
        },
        {
            "id": "2299ccc1",
            "cell_type": "code",
            "metadata": {},
            "execution_count": null,
            "source": "face.max()",
            "outputs": [
                {
                    "output_type": "execute_result",
                    "metadata": {},
                    "data": {
                        "text/plain": "255"
                    },
                    "execution_count": null
                }
            ]
        },
        {
            "id": "aad00f49",
            "cell_type": "code",
            "metadata": {},
            "execution_count": null,
            "source": "face.dtype",
            "outputs": [
                {
                    "output_type": "execute_result",
                    "metadata": {},
                    "data": {
                        "text/plain": "dtype('uint8')"
                    },
                    "execution_count": null
                }
            ]
        },
        {
            "id": "b04799c9",
            "cell_type": "code",
            "metadata": {},
            "execution_count": null,
            "source": "import matplotlib.pyplot as plt\nplt.gray()\nplt.imshow(face)\nplt.show()",
            "outputs": []
        }
    ]
}