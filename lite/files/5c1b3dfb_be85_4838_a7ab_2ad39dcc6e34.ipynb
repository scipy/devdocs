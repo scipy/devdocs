{
    "nbformat": 4,
    "nbformat_minor": 5,
    "metadata": {
        "kernelspec": {
            "display_name": "Python",
            "language": "python",
            "name": "python"
        },
        "language_info": {
            "name": "python"
        }
    },
    "cells": [
        {
            "id": "a1401c9b",
            "cell_type": "markdown",
            "source": "<div class='alert alert-warning'>\n\nSciPy's interactive examples with Jupyterlite are experimental and may not always work as expected. Execution of cells containing imports may result in large downloads (up to 60MB of content for the first import from SciPy). Load times when importing from SciPy may take roughly 10-20 seconds. If you notice any problems, feel free to open an [issue](https://github.com/scipy/scipy/issues/new/choose).\n\n</div>",
            "metadata": {}
        },
        {
            "id": "ca59c45f",
            "cell_type": "code",
            "metadata": {},
            "execution_count": null,
            "source": "from scipy.cluster.hierarchy import single, cophenet\nfrom scipy.spatial.distance import pdist, squareform",
            "outputs": []
        },
        {
            "id": "d904c33d",
            "cell_type": "markdown",
            "source": "Given a dataset ``X`` and a linkage matrix ``Z``, the cophenetic distance\nbetween two points of ``X`` is the distance between the largest two\ndistinct clusters that each of the points:\n",
            "metadata": {}
        },
        {
            "id": "f684396b",
            "cell_type": "code",
            "metadata": {},
            "execution_count": null,
            "source": "X = [[0, 0], [0, 1], [1, 0],\n     [0, 4], [0, 3], [1, 4],\n     [4, 0], [3, 0], [4, 1],\n     [4, 4], [3, 4], [4, 3]]",
            "outputs": []
        },
        {
            "id": "41277b85",
            "cell_type": "markdown",
            "source": "``X`` corresponds to this dataset \n```\n\nx x    x x\nx        x\n\nx        x\nx x    x x\n\n```",
            "metadata": {}
        },
        {
            "id": "f893bea4",
            "cell_type": "code",
            "metadata": {},
            "execution_count": null,
            "source": "Z = single(pdist(X))\nZ",
            "outputs": [
                {
                    "output_type": "execute_result",
                    "metadata": {},
                    "data": {
                        "text/plain": "array([[ 0.,  1.,  1.,  2.],\n       [ 2., 12.,  1.,  3.],\n       [ 3.,  4.,  1.,  2.],\n       [ 5., 14.,  1.,  3.],\n       [ 6.,  7.,  1.,  2.],\n       [ 8., 16.,  1.,  3.],\n       [ 9., 10.,  1.,  2.],\n       [11., 18.,  1.,  3.],\n       [13., 15.,  2.,  6.],\n       [17., 20.,  2.,  9.],\n       [19., 21.,  2., 12.]])"
                    },
                    "execution_count": null
                }
            ]
        },
        {
            "id": "eac5e59f",
            "cell_type": "code",
            "metadata": {},
            "execution_count": null,
            "source": "cophenet(Z)",
            "outputs": [
                {
                    "output_type": "execute_result",
                    "metadata": {},
                    "data": {
                        "text/plain": "array([1., 1., 2., 2., 2., 2., 2., 2., 2., 2., 2., 1., 2., 2., 2., 2., 2.,\n       2., 2., 2., 2., 2., 2., 2., 2., 2., 2., 2., 2., 2., 1., 1., 2., 2.,\n       2., 2., 2., 2., 1., 2., 2., 2., 2., 2., 2., 2., 2., 2., 2., 2., 2.,\n       1., 1., 2., 2., 2., 1., 2., 2., 2., 2., 2., 2., 1., 1., 1.])"
                    },
                    "execution_count": null
                }
            ]
        },
        {
            "id": "d5d71b07",
            "cell_type": "markdown",
            "source": "The output of the `scipy.cluster.hierarchy.cophenet` method is\nrepresented in condensed form. We can use\n`scipy.spatial.distance.squareform` to see the output as a\nregular matrix (where each element ``ij`` denotes the cophenetic distance\nbetween each ``i``, ``j`` pair of points in ``X``):\n",
            "metadata": {}
        },
        {
            "id": "0bbd1d7e",
            "cell_type": "code",
            "metadata": {},
            "execution_count": null,
            "source": "squareform(cophenet(Z))",
            "outputs": [
                {
                    "output_type": "execute_result",
                    "metadata": {},
                    "data": {
                        "text/plain": "array([[0., 1., 1., 2., 2., 2., 2., 2., 2., 2., 2., 2.],\n       [1., 0., 1., 2., 2., 2., 2., 2., 2., 2., 2., 2.],\n       [1., 1., 0., 2., 2., 2., 2., 2., 2., 2., 2., 2.],\n       [2., 2., 2., 0., 1., 1., 2., 2., 2., 2., 2., 2.],\n       [2., 2., 2., 1., 0., 1., 2., 2., 2., 2., 2., 2.],\n       [2., 2., 2., 1., 1., 0., 2., 2., 2., 2., 2., 2.],\n       [2., 2., 2., 2., 2., 2., 0., 1., 1., 2., 2., 2.],\n       [2., 2., 2., 2., 2., 2., 1., 0., 1., 2., 2., 2.],\n       [2., 2., 2., 2., 2., 2., 1., 1., 0., 2., 2., 2.],\n       [2., 2., 2., 2., 2., 2., 2., 2., 2., 0., 1., 1.],\n       [2., 2., 2., 2., 2., 2., 2., 2., 2., 1., 0., 1.],\n       [2., 2., 2., 2., 2., 2., 2., 2., 2., 1., 1., 0.]])"
                    },
                    "execution_count": null
                }
            ]
        },
        {
            "id": "ac2fa809",
            "cell_type": "markdown",
            "source": "In this example, the cophenetic distance between points on ``X`` that are\nvery close (i.e., in the same corner) is 1. For other pairs of points is 2,\nbecause the points will be located in clusters at different\ncorners - thus, the distance between these clusters will be larger.",
            "metadata": {}
        }
    ]
}