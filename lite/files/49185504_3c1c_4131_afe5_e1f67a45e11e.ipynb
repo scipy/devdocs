{
    "nbformat": 4,
    "nbformat_minor": 5,
    "metadata": {
        "kernelspec": {
            "display_name": "Python",
            "language": "python",
            "name": "python"
        },
        "language_info": {
            "name": "python"
        }
    },
    "cells": [
        {
            "id": "70138611",
            "cell_type": "markdown",
            "source": "<div class='alert alert-warning'>\n\nSciPy's interactive examples with Jupyterlite are experimental and may not always work as expected. Execution of cells containing imports may result in large downloads (up to 60MB of content for the first import from SciPy). Load times when importing from SciPy may take roughly 10-20 seconds. If you notice any problems, feel free to open an [issue](https://github.com/scipy/scipy/issues/new/choose).\n\n</div>",
            "metadata": {}
        },
        {
            "id": "ff310602",
            "cell_type": "code",
            "metadata": {},
            "execution_count": null,
            "source": "import numpy as np\nfrom scipy import stats\nrng = np.random.default_rng()\nres = stats.anderson_ksamp([rng.normal(size=50),\nrng.normal(loc=0.5, size=30)])\nres.statistic, res.pvalue",
            "outputs": [
                {
                    "output_type": "execute_result",
                    "metadata": {},
                    "data": {
                        "text/plain": "(1.974403288713695, 0.04991293614572478)"
                    },
                    "execution_count": null
                }
            ]
        },
        {
            "id": "ee16161b",
            "cell_type": "code",
            "metadata": {},
            "execution_count": null,
            "source": "res.critical_values",
            "outputs": [
                {
                    "output_type": "execute_result",
                    "metadata": {},
                    "data": {
                        "text/plain": "array([0.325, 1.226, 1.961, 2.718, 3.752, 4.592, 6.546])"
                    },
                    "execution_count": null
                }
            ]
        },
        {
            "id": "3398a2cb",
            "cell_type": "markdown",
            "source": "The null hypothesis that the two random samples come from the same\ndistribution can be rejected at the 5% level because the returned\ntest value is greater than the critical value for 5% (1.961) but\nnot at the 2.5% level. The interpolation gives an approximate\np-value of 4.99%.\n",
            "metadata": {}
        },
        {
            "id": "423b5588",
            "cell_type": "code",
            "metadata": {},
            "execution_count": null,
            "source": "samples = [rng.normal(size=50), rng.normal(size=30),\n           rng.normal(size=20)]\nres = stats.anderson_ksamp(samples)\nres.statistic, res.pvalue",
            "outputs": [
                {
                    "output_type": "execute_result",
                    "metadata": {},
                    "data": {
                        "text/plain": "(-0.29103725200789504, 0.25)"
                    },
                    "execution_count": null
                }
            ]
        },
        {
            "id": "e777fc13",
            "cell_type": "code",
            "metadata": {},
            "execution_count": null,
            "source": "res.critical_values",
            "outputs": [
                {
                    "output_type": "execute_result",
                    "metadata": {},
                    "data": {
                        "text/plain": "array([ 0.44925884,  1.3052767 ,  1.9434184 ,  2.57696569,  3.41634856,\n  4.07210043, 5.56419101])"
                    },
                    "execution_count": null
                }
            ]
        },
        {
            "id": "68b3f62d",
            "cell_type": "markdown",
            "source": "The null hypothesis cannot be rejected for three samples from an\nidentical distribution. The reported p-value (25%) has been capped and\nmay not be very accurate (since it corresponds to the value 0.449\nwhereas the statistic is -0.291).\n\nIn such cases where the p-value is capped or when sample sizes are\nsmall, a permutation test may be more accurate.\n",
            "metadata": {}
        },
        {
            "id": "a2b778e6",
            "cell_type": "code",
            "metadata": {},
            "execution_count": null,
            "source": "method = stats.PermutationMethod(n_resamples=9999, random_state=rng)\nres = stats.anderson_ksamp(samples, method=method)\nres.pvalue",
            "outputs": [
                {
                    "output_type": "execute_result",
                    "metadata": {},
                    "data": {
                        "text/plain": "0.5254"
                    },
                    "execution_count": null
                }
            ]
        }
    ]
}