{
    "nbformat": 4,
    "nbformat_minor": 5,
    "metadata": {
        "kernelspec": {
            "display_name": "Python",
            "language": "python",
            "name": "python"
        },
        "language_info": {
            "name": "python"
        }
    },
    "cells": [
        {
            "id": "6f6c2db6",
            "cell_type": "markdown",
            "source": "<div class='alert alert-warning'>\n\nSciPy's interactive examples with Jupyterlite are experimental and may not always work as expected. Execution of cells containing imports may result in large downloads (up to 60MB of content for the first import from SciPy). Load times when importing from SciPy may take roughly 10-20 seconds. If you notice any problems, feel free to open an [issue](https://github.com/scipy/scipy/issues/new/choose).\n\n</div>",
            "metadata": {}
        },
        {
            "id": "95815816",
            "cell_type": "code",
            "metadata": {},
            "execution_count": null,
            "source": "import numpy as np\nfrom scipy import signal\nimport matplotlib.pyplot as plt",
            "outputs": []
        },
        {
            "id": "6c1b68c6",
            "cell_type": "markdown",
            "source": "Define wave parameters.\n",
            "metadata": {}
        },
        {
            "id": "dcff16c2",
            "cell_type": "code",
            "metadata": {},
            "execution_count": null,
            "source": "wave_duration = 3\nsample_rate = 100\nfreq = 2\nq = 5",
            "outputs": []
        },
        {
            "id": "0d53a427",
            "cell_type": "markdown",
            "source": "Calculate number of samples.\n",
            "metadata": {}
        },
        {
            "id": "f245813b",
            "cell_type": "code",
            "metadata": {},
            "execution_count": null,
            "source": "samples = wave_duration*sample_rate\nsamples_decimated = int(samples/q)",
            "outputs": []
        },
        {
            "id": "45273f54",
            "cell_type": "markdown",
            "source": "Create cosine wave.\n",
            "metadata": {}
        },
        {
            "id": "cec86bde",
            "cell_type": "code",
            "metadata": {},
            "execution_count": null,
            "source": "x = np.linspace(0, wave_duration, samples, endpoint=False)\ny = np.cos(x*np.pi*freq*2)",
            "outputs": []
        },
        {
            "id": "ac6b7d14",
            "cell_type": "markdown",
            "source": "Decimate cosine wave.\n",
            "metadata": {}
        },
        {
            "id": "203766a1",
            "cell_type": "code",
            "metadata": {},
            "execution_count": null,
            "source": "ydem = signal.decimate(y, q)\nxnew = np.linspace(0, wave_duration, samples_decimated, endpoint=False)",
            "outputs": []
        },
        {
            "id": "e8b30e0f",
            "cell_type": "markdown",
            "source": "Plot original and decimated waves.\n",
            "metadata": {}
        },
        {
            "id": "ec8adaad",
            "cell_type": "code",
            "metadata": {},
            "execution_count": null,
            "source": "plt.plot(x, y, '.-', xnew, ydem, 'o-')\nplt.xlabel('Time, Seconds')\nplt.legend(['data', 'decimated'], loc='best')\nplt.show()",
            "outputs": []
        }
    ]
}