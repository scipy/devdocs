{
    "nbformat": 4,
    "nbformat_minor": 5,
    "metadata": {
        "kernelspec": {
            "display_name": "Python",
            "language": "python",
            "name": "python"
        },
        "language_info": {
            "name": "python"
        }
    },
    "cells": [
        {
            "id": "f3bf2b0c",
            "cell_type": "markdown",
            "source": "<div class='alert alert-warning'>\n\nSciPy's interactive examples with Jupyterlite are experimental and may not always work as expected. Execution of cells containing imports may result in large downloads (up to 60MB of content for the first import from SciPy). Load times when importing from SciPy may take roughly 10-20 seconds. If you notice any problems, feel free to open an [issue](https://github.com/scipy/scipy/issues/new/choose).\n\n</div>",
            "metadata": {}
        },
        {
            "id": "16739e30",
            "cell_type": "markdown",
            "source": "Let us consider the problem of minimizing the Rosenbrock function. This\nfunction (and its respective derivatives) is implemented in `rosen`\n(resp. `rosen_der`, `rosen_hess`) in the `scipy.optimize`.\n",
            "metadata": {}
        },
        {
            "id": "9db9a31e",
            "cell_type": "code",
            "metadata": {},
            "execution_count": null,
            "source": "from scipy.optimize import minimize, rosen, rosen_der",
            "outputs": []
        },
        {
            "id": "832199fe",
            "cell_type": "markdown",
            "source": "A simple application of the *Nelder-Mead* method is:\n",
            "metadata": {}
        },
        {
            "id": "8eca6f57",
            "cell_type": "code",
            "metadata": {},
            "execution_count": null,
            "source": "x0 = [1.3, 0.7, 0.8, 1.9, 1.2]\nres = minimize(rosen, x0, method='Nelder-Mead', tol=1e-6)\nres.x",
            "outputs": [
                {
                    "output_type": "execute_result",
                    "metadata": {},
                    "data": {
                        "text/plain": "array([ 1.,  1.,  1.,  1.,  1.])"
                    },
                    "execution_count": null
                }
            ]
        },
        {
            "id": "57e0e543",
            "cell_type": "markdown",
            "source": "Now using the *BFGS* algorithm, using the first derivative and a few\noptions:\n",
            "metadata": {}
        },
        {
            "id": "db0c5986",
            "cell_type": "code",
            "metadata": {},
            "execution_count": null,
            "source": "res = minimize(rosen, x0, method='BFGS', jac=rosen_der,\n               options={'gtol': 1e-6, 'disp': True})",
            "outputs": [
                {
                    "output_type": "execute_result",
                    "metadata": {},
                    "data": {
                        "text/plain": "Optimization terminated successfully.\n         Current function value: 0.000000\n         Iterations: 26\n         Function evaluations: 31\n         Gradient evaluations: 31"
                    },
                    "execution_count": null
                }
            ]
        },
        {
            "id": "c12c3a20",
            "cell_type": "code",
            "metadata": {},
            "execution_count": null,
            "source": "res.x",
            "outputs": [
                {
                    "output_type": "execute_result",
                    "metadata": {},
                    "data": {
                        "text/plain": "array([ 1.,  1.,  1.,  1.,  1.])"
                    },
                    "execution_count": null
                }
            ]
        },
        {
            "id": "9227e66c",
            "cell_type": "code",
            "metadata": {},
            "execution_count": null,
            "source": "print(res.message)",
            "outputs": [
                {
                    "output_type": "execute_result",
                    "metadata": {},
                    "data": {
                        "text/plain": "Optimization terminated successfully."
                    },
                    "execution_count": null
                }
            ]
        },
        {
            "id": "6d8fd526",
            "cell_type": "code",
            "metadata": {},
            "execution_count": null,
            "source": "res.hess_inv",
            "outputs": [
                {
                    "output_type": "execute_result",
                    "metadata": {},
                    "data": {
                        "text/plain": "array([\n    [ 0.00749589,  0.01255155,  0.02396251,  0.04750988,  0.09495377],  # may vary\n    [ 0.01255155,  0.02510441,  0.04794055,  0.09502834,  0.18996269],\n    [ 0.02396251,  0.04794055,  0.09631614,  0.19092151,  0.38165151],\n    [ 0.04750988,  0.09502834,  0.19092151,  0.38341252,  0.7664427 ],\n    [ 0.09495377,  0.18996269,  0.38165151,  0.7664427,   1.53713523]\n])"
                    },
                    "execution_count": null
                }
            ]
        },
        {
            "id": "0f7205ce",
            "cell_type": "markdown",
            "source": "Next, consider a minimization problem with several constraints (namely\nExample 16.4 from [5]). The objective function is:\n",
            "metadata": {}
        },
        {
            "id": "ad1da9f7",
            "cell_type": "code",
            "metadata": {},
            "execution_count": null,
            "source": "fun = lambda x: (x[0] - 1)**2 + (x[1] - 2.5)**2",
            "outputs": []
        },
        {
            "id": "14eca6dd",
            "cell_type": "markdown",
            "source": "There are three constraints defined as:\n",
            "metadata": {}
        },
        {
            "id": "0bf1f01e",
            "cell_type": "code",
            "metadata": {},
            "execution_count": null,
            "source": "cons = ({'type': 'ineq', 'fun': lambda x:  x[0] - 2 * x[1] + 2},\n        {'type': 'ineq', 'fun': lambda x: -x[0] - 2 * x[1] + 6},\n        {'type': 'ineq', 'fun': lambda x: -x[0] + 2 * x[1] + 2})",
            "outputs": []
        },
        {
            "id": "5f9060fb",
            "cell_type": "markdown",
            "source": "And variables must be positive, hence the following bounds:\n",
            "metadata": {}
        },
        {
            "id": "c39405a4",
            "cell_type": "code",
            "metadata": {},
            "execution_count": null,
            "source": "bnds = ((0, None), (0, None))",
            "outputs": []
        },
        {
            "id": "98b8aaff",
            "cell_type": "markdown",
            "source": "The optimization problem is solved using the SLSQP method as:\n",
            "metadata": {}
        },
        {
            "id": "20448fb9",
            "cell_type": "code",
            "metadata": {},
            "execution_count": null,
            "source": "res = minimize(fun, (2, 0), method='SLSQP', bounds=bnds,\n               constraints=cons)",
            "outputs": []
        },
        {
            "id": "92443d58",
            "cell_type": "markdown",
            "source": "It should converge to the theoretical solution (1.4 ,1.7).",
            "metadata": {}
        }
    ]
}