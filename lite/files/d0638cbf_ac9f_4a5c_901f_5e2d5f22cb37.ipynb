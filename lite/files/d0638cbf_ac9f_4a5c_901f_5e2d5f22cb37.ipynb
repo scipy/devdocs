{
    "nbformat": 4,
    "nbformat_minor": 5,
    "metadata": {
        "kernelspec": {
            "display_name": "Python",
            "language": "python",
            "name": "python"
        },
        "language_info": {
            "name": "python"
        }
    },
    "cells": [
        {
            "id": "aa36af7b",
            "cell_type": "markdown",
            "source": "<div class='alert alert-warning'>\n\nSciPy's interactive examples with Jupyterlite are experimental and may not always work as expected. Execution of cells containing imports may result in large downloads (up to 60MB of content for the first import from SciPy). Load times when importing from SciPy may take roughly 10-20 seconds. If you notice any problems, feel free to open an [issue](https://github.com/scipy/scipy/issues/new/choose).\n\n</div>",
            "metadata": {}
        },
        {
            "id": "08488fe6",
            "cell_type": "code",
            "metadata": {},
            "execution_count": null,
            "source": "from scipy import signal\nimport numpy as np\na = np.array([[0, 1], [0, 0]])\nb = np.array([[0], [1]])\nc = np.array([[1, 0]])\nd = np.array([[0]])",
            "outputs": []
        },
        {
            "id": "cad53d83",
            "cell_type": "code",
            "metadata": {},
            "execution_count": null,
            "source": "sys = signal.StateSpace(a, b, c, d)\nprint(sys)",
            "outputs": [
                {
                    "output_type": "execute_result",
                    "metadata": {},
                    "data": {
                        "text/plain": "StateSpaceContinuous(\narray([[0, 1],\n       [0, 0]]),\narray([[0],\n       [1]]),\narray([[1, 0]]),\narray([[0]]),\ndt: None\n)"
                    },
                    "execution_count": null
                }
            ]
        },
        {
            "id": "27403ee8",
            "cell_type": "code",
            "metadata": {},
            "execution_count": null,
            "source": "sys.to_discrete(0.1)",
            "outputs": [
                {
                    "output_type": "execute_result",
                    "metadata": {},
                    "data": {
                        "text/plain": "StateSpaceDiscrete(\narray([[1. , 0.1],\n       [0. , 1. ]]),\narray([[0.005],\n       [0.1  ]]),\narray([[1, 0]]),\narray([[0]]),\ndt: 0.1\n)"
                    },
                    "execution_count": null
                }
            ]
        },
        {
            "id": "2b28c143",
            "cell_type": "code",
            "metadata": {},
            "execution_count": null,
            "source": "a = np.array([[1, 0.1], [0, 1]])\nb = np.array([[0.005], [0.1]])",
            "outputs": []
        },
        {
            "id": "f02c60e1",
            "cell_type": "code",
            "metadata": {},
            "execution_count": null,
            "source": "signal.StateSpace(a, b, c, d, dt=0.1)",
            "outputs": [
                {
                    "output_type": "execute_result",
                    "metadata": {},
                    "data": {
                        "text/plain": "StateSpaceDiscrete(\narray([[1. , 0.1],\n       [0. , 1. ]]),\narray([[0.005],\n       [0.1  ]]),\narray([[1, 0]]),\narray([[0]]),\ndt: 0.1\n)"
                    },
                    "execution_count": null
                }
            ]
        }
    ]
}