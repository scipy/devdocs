{
    "nbformat": 4,
    "nbformat_minor": 5,
    "metadata": {
        "kernelspec": {
            "display_name": "Python",
            "language": "python",
            "name": "python"
        },
        "language_info": {
            "name": "python"
        }
    },
    "cells": [
        {
            "id": "8d512083",
            "cell_type": "markdown",
            "source": "<div class='alert alert-warning'>\n\nSciPy's interactive examples with Jupyterlite are experimental and may not always work as expected. Execution of cells containing imports may result in large downloads (up to 60MB of content for the first import from SciPy). Load times when importing from SciPy may take roughly 10-20 seconds. If you notice any problems, feel free to open an [issue](https://github.com/scipy/scipy/issues/new/choose).\n\n</div>",
            "metadata": {}
        },
        {
            "id": "74a4ddae",
            "cell_type": "code",
            "metadata": {},
            "execution_count": null,
            "source": "from scipy import ndimage, datasets\nimport matplotlib.pyplot as plt\nascent = datasets.ascent()",
            "outputs": []
        },
        {
            "id": "442724c6",
            "cell_type": "code",
            "metadata": {},
            "execution_count": null,
            "source": "fig = plt.figure()\nplt.gray()  # show the filtered result in grayscale\nax1 = fig.add_subplot(121)  # left side\nax2 = fig.add_subplot(122)  # right side",
            "outputs": []
        },
        {
            "id": "9a2dda1d",
            "cell_type": "code",
            "metadata": {},
            "execution_count": null,
            "source": "result = ndimage.gaussian_laplace(ascent, sigma=1)\nax1.imshow(result)",
            "outputs": []
        },
        {
            "id": "cf074ade",
            "cell_type": "code",
            "metadata": {},
            "execution_count": null,
            "source": "result = ndimage.gaussian_laplace(ascent, sigma=3)\nax2.imshow(result)\nplt.show()",
            "outputs": []
        }
    ]
}