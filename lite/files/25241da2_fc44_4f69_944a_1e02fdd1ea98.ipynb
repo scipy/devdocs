{
    "nbformat": 4,
    "nbformat_minor": 5,
    "metadata": {
        "kernelspec": {
            "display_name": "Python",
            "language": "python",
            "name": "python"
        },
        "language_info": {
            "name": "python"
        }
    },
    "cells": [
        {
            "id": "1ff0d0ac",
            "cell_type": "markdown",
            "source": "<div class='alert alert-warning'>\n\nSciPy's interactive examples with Jupyterlite are experimental and may not always work as expected. Execution of cells containing imports may result in large downloads (up to 60MB of content for the first import from SciPy). Load times when importing from SciPy may take roughly 10-20 seconds. If you notice any problems, feel free to open an [issue](https://github.com/scipy/scipy/issues/new/choose).\n\n</div>",
            "metadata": {}
        },
        {
            "id": "cc8c00fa",
            "cell_type": "markdown",
            "source": "In the first example, we solve Bratu's problem\n```\n\ny'' + k * exp(y) = 0\ny(0) = y(1) = 0\n\n```\nfor k = 1.\n\nWe rewrite the equation as a first-order system and implement its\nright-hand side evaluation\n```\n\ny1' = y2\ny2' = -exp(y1)\n\n```",
            "metadata": {}
        },
        {
            "id": "4f5113e6",
            "cell_type": "code",
            "metadata": {},
            "execution_count": null,
            "source": "import numpy as np\ndef fun(x, y):\n    return np.vstack((y[1], -np.exp(y[0])))",
            "outputs": []
        },
        {
            "id": "83ec4757",
            "cell_type": "markdown",
            "source": "Implement evaluation of the boundary condition residuals:\n",
            "metadata": {}
        },
        {
            "id": "de5411d5",
            "cell_type": "code",
            "metadata": {},
            "execution_count": null,
            "source": "def bc(ya, yb):\n    return np.array([ya[0], yb[0]])",
            "outputs": []
        },
        {
            "id": "258667e9",
            "cell_type": "markdown",
            "source": "Define the initial mesh with 5 nodes:\n",
            "metadata": {}
        },
        {
            "id": "df59e825",
            "cell_type": "code",
            "metadata": {},
            "execution_count": null,
            "source": "x = np.linspace(0, 1, 5)",
            "outputs": []
        },
        {
            "id": "10b4ea3d",
            "cell_type": "markdown",
            "source": "This problem is known to have two solutions. To obtain both of them, we\nuse two different initial guesses for y. We denote them by subscripts\na and b.\n",
            "metadata": {}
        },
        {
            "id": "dbeb6336",
            "cell_type": "code",
            "metadata": {},
            "execution_count": null,
            "source": "y_a = np.zeros((2, x.size))\ny_b = np.zeros((2, x.size))\ny_b[0] = 3",
            "outputs": []
        },
        {
            "id": "237165ef",
            "cell_type": "markdown",
            "source": "Now we are ready to run the solver.\n",
            "metadata": {}
        },
        {
            "id": "9f2385b8",
            "cell_type": "code",
            "metadata": {},
            "execution_count": null,
            "source": "from scipy.integrate import solve_bvp\nres_a = solve_bvp(fun, bc, x, y_a)\nres_b = solve_bvp(fun, bc, x, y_b)",
            "outputs": []
        },
        {
            "id": "851d6716",
            "cell_type": "markdown",
            "source": "Let's plot the two found solutions. We take an advantage of having the\nsolution in a spline form to produce a smooth plot.\n",
            "metadata": {}
        },
        {
            "id": "bae394dd",
            "cell_type": "code",
            "metadata": {},
            "execution_count": null,
            "source": "x_plot = np.linspace(0, 1, 100)\ny_plot_a = res_a.sol(x_plot)[0]\ny_plot_b = res_b.sol(x_plot)[0]\nimport matplotlib.pyplot as plt\nplt.plot(x_plot, y_plot_a, label='y_a')\nplt.plot(x_plot, y_plot_b, label='y_b')\nplt.legend()\nplt.xlabel(\"x\")\nplt.ylabel(\"y\")\nplt.show()",
            "outputs": []
        },
        {
            "id": "acba42c2",
            "cell_type": "markdown",
            "source": "We see that the two solutions have similar shape, but differ in scale\nsignificantly.\n\nIn the second example, we solve a simple Sturm-Liouville problem\n```\n\ny'' + k**2 * y = 0\ny(0) = y(1) = 0\n\n```\nIt is known that a non-trivial solution y = A * sin(k * x) is possible for\nk = pi * n, where n is an integer. To establish the normalization constant\nA = 1 we add a boundary condition\n```\n\ny'(0) = k\n\n```\nAgain, we rewrite our equation as a first-order system and implement its\nright-hand side evaluation\n```\n\ny1' = y2\ny2' = -k**2 * y1\n\n```",
            "metadata": {}
        },
        {
            "id": "d4032f26",
            "cell_type": "code",
            "metadata": {},
            "execution_count": null,
            "source": "def fun(x, y, p):\n    k = p[0]\n    return np.vstack((y[1], -k**2 * y[0]))",
            "outputs": []
        },
        {
            "id": "50e07c16",
            "cell_type": "markdown",
            "source": "Note that parameters p are passed as a vector (with one element in our\ncase).\n\nImplement the boundary conditions:\n",
            "metadata": {}
        },
        {
            "id": "5fbe24cb",
            "cell_type": "code",
            "metadata": {},
            "execution_count": null,
            "source": "def bc(ya, yb, p):\n    k = p[0]\n    return np.array([ya[0], yb[0], ya[1] - k])",
            "outputs": []
        },
        {
            "id": "2fcddcea",
            "cell_type": "markdown",
            "source": "Set up the initial mesh and guess for y. We aim to find the solution for\nk = 2 * pi, to achieve that we set values of y to approximately follow\nsin(2 * pi * x):\n",
            "metadata": {}
        },
        {
            "id": "d676a814",
            "cell_type": "code",
            "metadata": {},
            "execution_count": null,
            "source": "x = np.linspace(0, 1, 5)\ny = np.zeros((2, x.size))\ny[0, 1] = 1\ny[0, 3] = -1",
            "outputs": []
        },
        {
            "id": "5b997f9b",
            "cell_type": "markdown",
            "source": "Run the solver with 6 as an initial guess for k.\n",
            "metadata": {}
        },
        {
            "id": "62594cde",
            "cell_type": "code",
            "metadata": {},
            "execution_count": null,
            "source": "sol = solve_bvp(fun, bc, x, y, p=[6])",
            "outputs": []
        },
        {
            "id": "75d92e34",
            "cell_type": "markdown",
            "source": "We see that the found k is approximately correct:\n",
            "metadata": {}
        },
        {
            "id": "56caf8a5",
            "cell_type": "code",
            "metadata": {},
            "execution_count": null,
            "source": "sol.p[0]",
            "outputs": [
                {
                    "output_type": "execute_result",
                    "metadata": {},
                    "data": {
                        "text/plain": "6.28329460046"
                    },
                    "execution_count": null
                }
            ]
        },
        {
            "id": "3b4a8820",
            "cell_type": "markdown",
            "source": "And, finally, plot the solution to see the anticipated sinusoid:\n",
            "metadata": {}
        },
        {
            "id": "bf9eee5d",
            "cell_type": "code",
            "metadata": {},
            "execution_count": null,
            "source": "x_plot = np.linspace(0, 1, 100)\ny_plot = sol.sol(x_plot)[0]\nplt.plot(x_plot, y_plot)\nplt.xlabel(\"x\")\nplt.ylabel(\"y\")\nplt.show()",
            "outputs": []
        }
    ]
}