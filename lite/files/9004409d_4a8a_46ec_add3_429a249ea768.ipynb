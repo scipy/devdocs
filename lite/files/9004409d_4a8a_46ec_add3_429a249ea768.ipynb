{
    "nbformat": 4,
    "nbformat_minor": 5,
    "metadata": {
        "kernelspec": {
            "display_name": "Python",
            "language": "python",
            "name": "python"
        },
        "language_info": {
            "name": "python"
        }
    },
    "cells": [
        {
            "id": "e6997012",
            "cell_type": "markdown",
            "source": "<div class='alert alert-warning'>\n\nSciPy's interactive examples with Jupyterlite are experimental and may not always work as expected. Execution of cells containing imports may result in large downloads (up to 60MB of content for the first import from SciPy). Load times when importing from SciPy may take roughly 10-20 seconds. If you notice any problems, feel free to open an [issue](https://github.com/scipy/scipy/issues/new/choose).\n\n</div>",
            "metadata": {}
        },
        {
            "id": "544a2d4a",
            "cell_type": "markdown",
            "source": "Generate a 17th-order Chebyshev II analog bandpass filter from 50 Hz to\n200 Hz and plot the frequency response:\n",
            "metadata": {}
        },
        {
            "id": "08879247",
            "cell_type": "code",
            "metadata": {},
            "execution_count": null,
            "source": "import numpy as np\nfrom scipy import signal\nimport matplotlib.pyplot as plt",
            "outputs": []
        },
        {
            "id": "50c09f0a",
            "cell_type": "code",
            "metadata": {},
            "execution_count": null,
            "source": "b, a = signal.iirfilter(17, [2*np.pi*50, 2*np.pi*200], rs=60,\n                        btype='band', analog=True, ftype='cheby2')\nw, h = signal.freqs(b, a, 1000)\nfig = plt.figure()\nax = fig.add_subplot(1, 1, 1)\nax.semilogx(w / (2*np.pi), 20 * np.log10(np.maximum(abs(h), 1e-5)))\nax.set_title('Chebyshev Type II bandpass frequency response')\nax.set_xlabel('Frequency [Hz]')\nax.set_ylabel('Amplitude [dB]')\nax.axis((10, 1000, -100, 10))\nax.grid(which='both', axis='both')\nplt.show()",
            "outputs": []
        },
        {
            "id": "014129de",
            "cell_type": "markdown",
            "source": "Create a digital filter with the same properties, in a system with\nsampling rate of 2000 Hz, and plot the frequency response. (Second-order\nsections implementation is required to ensure stability of a filter of\nthis order):\n",
            "metadata": {}
        },
        {
            "id": "1b88ec40",
            "cell_type": "code",
            "metadata": {},
            "execution_count": null,
            "source": "sos = signal.iirfilter(17, [50, 200], rs=60, btype='band',\n                       analog=False, ftype='cheby2', fs=2000,\n                       output='sos')\nw, h = signal.freqz_sos(sos, 2000, fs=2000)\nfig = plt.figure()\nax = fig.add_subplot(1, 1, 1)\nax.semilogx(w, 20 * np.log10(np.maximum(abs(h), 1e-5)))\nax.set_title('Chebyshev Type II bandpass frequency response')\nax.set_xlabel('Frequency [Hz]')\nax.set_ylabel('Amplitude [dB]')\nax.axis((10, 1000, -100, 10))\nax.grid(which='both', axis='both')\nplt.show()",
            "outputs": []
        }
    ]
}