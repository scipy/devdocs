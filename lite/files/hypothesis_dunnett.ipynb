{
 "cells": [
  {
   "cell_type": "markdown",
   "id": "6bc66c47",
   "metadata": {},
   "source": [
    "```{eval-rst}\n",
    ".. jupyterlite:: ../../_contents/hypothesis_dunnett.ipynb\n",
    "   :new_tab: True\n",
    "```\n",
    "\n",
    "(hypothesis_dunnett)=\n",
    "# Dunnett's test\n",
    "\n",
    "Dunnett's test compares the means of multiple experimental groups against a\n",
    "single control group. In [^1], the influence of drugs on blood count\n",
    "measurements on three groups of animals is investigated.\n",
    "\n",
    "The following table summarizes the results of the experiment in which two groups\n",
    "received different drugs, and one group acted as a control. Blood counts (in\n",
    "millions of cells per cubic millimeter) were recorded:"
   ]
  },
  {
   "cell_type": "code",
   "execution_count": null,
   "id": "be5b465d",
   "metadata": {},
   "outputs": [],
   "source": [
    "import numpy as np\n",
    "control = np.array([7.40, 8.50, 7.20, 8.24, 9.84, 8.32])\n",
    "drug_a = np.array([9.76, 8.80, 7.68, 9.36])\n",
    "drug_b = np.array([12.80, 9.68, 12.16, 9.20, 10.55])"
   ]
  },
  {
   "cell_type": "markdown",
   "id": "36df83b4",
   "metadata": {},
   "source": [
    "We would like to see if the means between any of the groups are\n",
    "significantly different. First, visually examine a box and whisker plot."
   ]
  },
  {
   "cell_type": "code",
   "execution_count": null,
   "id": "0e596a89",
   "metadata": {},
   "outputs": [],
   "source": [
    "import matplotlib.pyplot as plt\n",
    "fig, ax = plt.subplots(1, 1)\n",
    "ax.boxplot([control, drug_a, drug_b])\n",
    "ax.set_xticklabels([\"Control\", \"Drug A\", \"Drug B\"])\n",
    "ax.set_ylabel(\"mean\")\n",
    "plt.show()"
   ]
  },
  {
   "cell_type": "markdown",
   "id": "cc84c5bd",
   "metadata": {},
   "source": [
    "Note the overlapping interquartile ranges of the drug A group and control group\n",
    "and the apparent separation between the drug B group and control group.\n",
    "\n",
    "Next, we will use {func}`Dunnett's test <scipy.stats.dunnett>` to assess whether\n",
    "the difference between group means is significant while controlling the\n",
    "family-wise error rate: the probability of making any false discoveries.\n",
    "\n",
    "Let the null hypothesis be that the experimental groups have the same mean as\n",
    "the control and the alternative be that an experimental group does not have the\n",
    "same mean as the control. We will consider a 5% family-wise error rate to be\n",
    "acceptable, and therefore we choose 0.05 as the threshold for significance."
   ]
  },
  {
   "cell_type": "code",
   "execution_count": null,
   "id": "7ba6037c",
   "metadata": {},
   "outputs": [],
   "source": [
    "from scipy.stats import dunnett\n",
    "res = dunnett(drug_a, drug_b, control=control)\n",
    "res.pvalue"
   ]
  },
  {
   "cell_type": "markdown",
   "id": "725a9870",
   "metadata": {},
   "source": [
    "The p-value corresponding with the comparison between group A and control\n",
    "exceeds 0.05, so we do not reject the null hypothesis for that comparison.\n",
    "However, the p-value corresponding with the comparison between group B and\n",
    "control is less than 0.05, so we consider the experimental results to be\n",
    "evidence against the null hypothesis in favor of the alternative: group B has a\n",
    "different mean than the control group.\n",
    "\n",
    "## References\n",
    "\n",
    "[^1]: Dunnett, Charles W. (1955) \"A Multiple Comparison Procedure for Comparing\n",
    "Several Treatments with a Control.\" Journal of the American Statistical\n",
    "Association, 50:272, 1096-1121. {doi}`10.1080/01621459.1955.10501294`"
   ]
  }
 ],
 "metadata": {
  "kernelspec": {
   "display_name": "Python 3 (ipykernel)",
   "language": "python",
   "name": "python3"
  }
 },
 "nbformat": 4,
 "nbformat_minor": 5
}
