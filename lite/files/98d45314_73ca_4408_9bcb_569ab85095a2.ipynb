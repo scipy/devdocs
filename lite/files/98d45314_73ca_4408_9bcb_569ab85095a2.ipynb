{
    "nbformat": 4,
    "nbformat_minor": 5,
    "metadata": {
        "kernelspec": {
            "display_name": "Python",
            "language": "python",
            "name": "python"
        },
        "language_info": {
            "name": "python"
        }
    },
    "cells": [
        {
            "id": "09495d10",
            "cell_type": "markdown",
            "source": "<div class='alert alert-warning'>\n\nSciPy's interactive examples with Jupyterlite are experimental and may not always work as expected. Execution of cells containing imports may result in large downloads (up to 60MB of content for the first import from SciPy). Load times when importing from SciPy may take roughly 10-20 seconds. If you notice any problems, feel free to open an [issue](https://github.com/scipy/scipy/issues/new/choose).\n\n</div>",
            "metadata": {}
        },
        {
            "id": "571ef5af",
            "cell_type": "markdown",
            "source": "On a particular machine, an FFT of prime length takes 16.2 ms:\n",
            "metadata": {}
        },
        {
            "id": "10d63913",
            "cell_type": "code",
            "metadata": {},
            "execution_count": null,
            "source": "from scipy import fft\nimport numpy as np\nrng = np.random.default_rng()\nmax_len = 93059  # prime length is worst case for speed\na = rng.standard_normal(max_len)\nb = fft.fft(a)",
            "outputs": []
        },
        {
            "id": "adb9fc24",
            "cell_type": "markdown",
            "source": "Performing FFT on the maximum fast length less than max_len\nreduces the computation time to 1.5 ms, a speedup of 10.5 times:\n",
            "metadata": {}
        },
        {
            "id": "2f90fac1",
            "cell_type": "code",
            "metadata": {},
            "execution_count": null,
            "source": "fft.prev_fast_len(max_len, real=True)",
            "outputs": [
                {
                    "output_type": "execute_result",
                    "metadata": {},
                    "data": {
                        "text/plain": "92160"
                    },
                    "execution_count": null
                }
            ]
        },
        {
            "id": "5c4a6ae2",
            "cell_type": "code",
            "metadata": {},
            "execution_count": null,
            "source": "c = fft.fft(a[:92160]) # discard last 899 samples",
            "outputs": []
        }
    ]
}