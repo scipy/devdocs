{
    "nbformat": 4,
    "nbformat_minor": 5,
    "metadata": {
        "kernelspec": {
            "display_name": "Python",
            "language": "python",
            "name": "python"
        },
        "language_info": {
            "name": "python"
        }
    },
    "cells": [
        {
            "id": "c190f966",
            "cell_type": "markdown",
            "source": "<div class='alert alert-warning'>\n\nSciPy's interactive examples with Jupyterlite are experimental and may not always work as expected. Execution of cells containing imports may result in large downloads (up to 60MB of content for the first import from SciPy). Load times when importing from SciPy may take roughly 10-20 seconds. If you notice any problems, feel free to open an [issue](https://github.com/scipy/scipy/issues/new/choose).\n\n</div>",
            "metadata": {}
        },
        {
            "id": "f57f40fe",
            "cell_type": "markdown",
            "source": "Find a solution to the system of equations:\n``x0*cos(x1) = 4,  x1*x0 - x1 = 5``.\n",
            "metadata": {}
        },
        {
            "id": "91de3b66",
            "cell_type": "code",
            "metadata": {},
            "execution_count": null,
            "source": "import numpy as np\nfrom scipy.optimize import fsolve\ndef func(x):\n    return [x[0] * np.cos(x[1]) - 4,\n            x[1] * x[0] - x[1] - 5]\nroot = fsolve(func, [1, 1])\nroot",
            "outputs": [
                {
                    "output_type": "execute_result",
                    "metadata": {},
                    "data": {
                        "text/plain": "array([6.50409711, 0.90841421])"
                    },
                    "execution_count": null
                }
            ]
        },
        {
            "id": "6342aba1",
            "cell_type": "code",
            "metadata": {},
            "execution_count": null,
            "source": "np.isclose(func(root), [0.0, 0.0])  # func(root) should be almost 0.0.",
            "outputs": [
                {
                    "output_type": "execute_result",
                    "metadata": {},
                    "data": {
                        "text/plain": "array([ True,  True])"
                    },
                    "execution_count": null
                }
            ]
        }
    ]
}