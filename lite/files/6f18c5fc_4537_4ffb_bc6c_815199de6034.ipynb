{
    "nbformat": 4,
    "nbformat_minor": 5,
    "metadata": {
        "kernelspec": {
            "display_name": "Python",
            "language": "python",
            "name": "python"
        },
        "language_info": {
            "name": "python"
        }
    },
    "cells": [
        {
            "id": "1aa86911",
            "cell_type": "markdown",
            "source": "<div class='alert alert-warning'>\n\nSciPy's interactive examples with Jupyterlite are experimental and may not always work as expected. Execution of cells containing imports may result in large downloads (up to 60MB of content for the first import from SciPy). Load times when importing from SciPy may take roughly 10-20 seconds. If you notice any problems, feel free to open an [issue](https://github.com/scipy/scipy/issues/new/choose).\n\n</div>",
            "metadata": {}
        },
        {
            "id": "7afe52d9",
            "cell_type": "code",
            "metadata": {},
            "execution_count": null,
            "source": "import numpy as np\nfrom scipy.cluster import hierarchy\nrng = np.random.default_rng()\nx = rng.random((5, 2))\nZ = hierarchy.linkage(x)\nhierarchy.to_tree(Z)",
            "outputs": [
                {
                    "output_type": "execute_result",
                    "metadata": {},
                    "data": {
                        "text/plain": "<scipy.cluster.hierarchy.ClusterNode object at ..."
                    },
                    "execution_count": null
                }
            ]
        },
        {
            "id": "9276ed7c",
            "cell_type": "code",
            "metadata": {},
            "execution_count": null,
            "source": "rootnode, nodelist = hierarchy.to_tree(Z, rd=True)\nrootnode",
            "outputs": [
                {
                    "output_type": "execute_result",
                    "metadata": {},
                    "data": {
                        "text/plain": "<scipy.cluster.hierarchy.ClusterNode object at ..."
                    },
                    "execution_count": null
                }
            ]
        },
        {
            "id": "4bccfc5d",
            "cell_type": "code",
            "metadata": {},
            "execution_count": null,
            "source": "len(nodelist)",
            "outputs": [
                {
                    "output_type": "execute_result",
                    "metadata": {},
                    "data": {
                        "text/plain": "9"
                    },
                    "execution_count": null
                }
            ]
        }
    ]
}