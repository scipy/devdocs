{
    "nbformat": 4,
    "nbformat_minor": 5,
    "metadata": {
        "kernelspec": {
            "display_name": "Python",
            "language": "python",
            "name": "python"
        },
        "language_info": {
            "name": "python"
        }
    },
    "cells": [
        {
            "id": "c52a5878",
            "cell_type": "markdown",
            "source": "<div class='alert alert-warning'>\n\nSciPy's interactive examples with Jupyterlite are experimental and may not always work as expected. Execution of cells containing imports may result in large downloads (up to 60MB of content for the first import from SciPy). Load times when importing from SciPy may take roughly 10-20 seconds. If you notice any problems, feel free to open an [issue](https://github.com/scipy/scipy/issues/new/choose).\n\n</div>",
            "metadata": {}
        },
        {
            "id": "027a774f",
            "cell_type": "code",
            "metadata": {},
            "execution_count": null,
            "source": "from scipy.fftpack import rfft, irfft\na = [1.0, 2.0, 3.0, 4.0, 5.0]\nirfft(a)",
            "outputs": [
                {
                    "output_type": "execute_result",
                    "metadata": {},
                    "data": {
                        "text/plain": "array([ 2.6       , -3.16405192,  1.24398433, -1.14955713,  1.46962473])"
                    },
                    "execution_count": null
                }
            ]
        },
        {
            "id": "712605db",
            "cell_type": "code",
            "metadata": {},
            "execution_count": null,
            "source": "irfft(rfft(a))",
            "outputs": [
                {
                    "output_type": "execute_result",
                    "metadata": {},
                    "data": {
                        "text/plain": "array([1., 2., 3., 4., 5.])"
                    },
                    "execution_count": null
                }
            ]
        }
    ]
}