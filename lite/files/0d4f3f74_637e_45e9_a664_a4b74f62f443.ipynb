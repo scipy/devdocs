{
    "nbformat": 4,
    "nbformat_minor": 5,
    "metadata": {
        "kernelspec": {
            "display_name": "Python",
            "language": "python",
            "name": "python"
        },
        "language_info": {
            "name": "python"
        }
    },
    "cells": [
        {
            "id": "75ab18ab",
            "cell_type": "markdown",
            "source": "<div class='alert alert-warning'>\n\nSciPy's interactive examples with Jupyterlite are experimental and may not always work as expected. Execution of cells containing imports may result in large downloads (up to 60MB of content for the first import from SciPy). Load times when importing from SciPy may take roughly 10-20 seconds. If you notice any problems, feel free to open an [issue](https://github.com/scipy/scipy/issues/new/choose).\n\n</div>",
            "metadata": {}
        },
        {
            "id": "f365b7cd",
            "cell_type": "code",
            "metadata": {},
            "execution_count": null,
            "source": "import numpy as np\nfrom scipy.special import logit, expit",
            "outputs": []
        },
        {
            "id": "59575689",
            "cell_type": "code",
            "metadata": {},
            "execution_count": null,
            "source": "logit([0, 0.25, 0.5, 0.75, 1])",
            "outputs": [
                {
                    "output_type": "execute_result",
                    "metadata": {},
                    "data": {
                        "text/plain": "array([       -inf, -1.09861229,  0.        ,  1.09861229,         inf])"
                    },
                    "execution_count": null
                }
            ]
        },
        {
            "id": "5260bc03",
            "cell_type": "markdown",
            "source": "`expit` is the inverse of `logit`:\n",
            "metadata": {}
        },
        {
            "id": "8ee63259",
            "cell_type": "code",
            "metadata": {},
            "execution_count": null,
            "source": "expit(logit([0.1, 0.75, 0.999]))",
            "outputs": [
                {
                    "output_type": "execute_result",
                    "metadata": {},
                    "data": {
                        "text/plain": "array([ 0.1  ,  0.75 ,  0.999])"
                    },
                    "execution_count": null
                }
            ]
        },
        {
            "id": "ec608be8",
            "cell_type": "markdown",
            "source": "Plot logit(x) for x in [0, 1]:\n",
            "metadata": {}
        },
        {
            "id": "1d577c32",
            "cell_type": "code",
            "metadata": {},
            "execution_count": null,
            "source": "import matplotlib.pyplot as plt\nx = np.linspace(0, 1, 501)\ny = logit(x)\nplt.plot(x, y)\nplt.grid()\nplt.ylim(-6, 6)\nplt.xlabel('x')\nplt.title('logit(x)')\nplt.show()",
            "outputs": []
        }
    ]
}