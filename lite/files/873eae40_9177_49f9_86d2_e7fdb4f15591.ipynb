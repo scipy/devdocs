{
    "nbformat": 4,
    "nbformat_minor": 5,
    "metadata": {
        "kernelspec": {
            "display_name": "Python",
            "language": "python",
            "name": "python"
        },
        "language_info": {
            "name": "python"
        }
    },
    "cells": [
        {
            "id": "72bd5aed",
            "cell_type": "markdown",
            "source": "<div class='alert alert-warning'>\n\nSciPy's interactive examples with Jupyterlite are experimental and may not always work as expected. Execution of cells containing imports may result in large downloads (up to 60MB of content for the first import from SciPy). Load times when importing from SciPy may take roughly 10-20 seconds. If you notice any problems, feel free to open an [issue](https://github.com/scipy/scipy/issues/new/choose).\n\n</div>",
            "metadata": {}
        },
        {
            "id": "b191331e",
            "cell_type": "code",
            "metadata": {},
            "execution_count": null,
            "source": "import numpy as np\nfrom scipy.stats import genhyperbolic\nimport matplotlib.pyplot as plt\nfig, ax = plt.subplots(1, 1)",
            "outputs": []
        },
        {
            "id": "0d4f79f1",
            "cell_type": "markdown",
            "source": "Calculate the first four moments:\n",
            "metadata": {}
        },
        {
            "id": "3be9ed0f",
            "cell_type": "code",
            "metadata": {},
            "execution_count": null,
            "source": "p, a, b = 0.5, 1.5, -0.5\nmean, var, skew, kurt = genhyperbolic.stats(p, a, b, moments='mvsk')",
            "outputs": []
        },
        {
            "id": "e328d027",
            "cell_type": "markdown",
            "source": "Display the probability density function (``pdf``):\n",
            "metadata": {}
        },
        {
            "id": "6082b814",
            "cell_type": "code",
            "metadata": {},
            "execution_count": null,
            "source": "x = np.linspace(genhyperbolic.ppf(0.01, p, a, b),\n                genhyperbolic.ppf(0.99, p, a, b), 100)\nax.plot(x, genhyperbolic.pdf(x, p, a, b),\n       'r-', lw=5, alpha=0.6, label='genhyperbolic pdf')",
            "outputs": []
        },
        {
            "id": "79d67b96",
            "cell_type": "markdown",
            "source": "Alternatively, the distribution object can be called (as a function)\nto fix the shape, location and scale parameters. This returns a \"frozen\"\nRV object holding the given parameters fixed.\n\nFreeze the distribution and display the frozen ``pdf``:\n",
            "metadata": {}
        },
        {
            "id": "288bfaec",
            "cell_type": "code",
            "metadata": {},
            "execution_count": null,
            "source": "rv = genhyperbolic(p, a, b)\nax.plot(x, rv.pdf(x), 'k-', lw=2, label='frozen pdf')",
            "outputs": []
        },
        {
            "id": "83681383",
            "cell_type": "markdown",
            "source": "Check accuracy of ``cdf`` and ``ppf``:\n",
            "metadata": {}
        },
        {
            "id": "efa8a910",
            "cell_type": "code",
            "metadata": {},
            "execution_count": null,
            "source": "vals = genhyperbolic.ppf([0.001, 0.5, 0.999], p, a, b)\nnp.allclose([0.001, 0.5, 0.999], genhyperbolic.cdf(vals, p, a, b))",
            "outputs": [
                {
                    "output_type": "execute_result",
                    "metadata": {},
                    "data": {
                        "text/plain": "True"
                    },
                    "execution_count": null
                }
            ]
        },
        {
            "id": "a390d1e2",
            "cell_type": "markdown",
            "source": "Generate random numbers:\n",
            "metadata": {}
        },
        {
            "id": "01a87ab8",
            "cell_type": "code",
            "metadata": {},
            "execution_count": null,
            "source": "r = genhyperbolic.rvs(p, a, b, size=1000)",
            "outputs": []
        },
        {
            "id": "e797597a",
            "cell_type": "markdown",
            "source": "And compare the histogram:\n",
            "metadata": {}
        },
        {
            "id": "9879af6c",
            "cell_type": "code",
            "metadata": {},
            "execution_count": null,
            "source": "ax.hist(r, density=True, bins='auto', histtype='stepfilled', alpha=0.2)\nax.set_xlim([x[0], x[-1]])\nax.legend(loc='best', frameon=False)\nplt.show()",
            "outputs": []
        }
    ]
}