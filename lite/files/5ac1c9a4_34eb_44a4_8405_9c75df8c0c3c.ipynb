{
    "nbformat": 4,
    "nbformat_minor": 5,
    "metadata": {
        "kernelspec": {
            "display_name": "Python",
            "language": "python",
            "name": "python"
        },
        "language_info": {
            "name": "python"
        }
    },
    "cells": [
        {
            "id": "a6c6e8d8",
            "cell_type": "markdown",
            "source": "<div class='alert alert-warning'>\n\nSciPy's interactive examples with Jupyterlite are experimental and may not always work as expected. Execution of cells containing imports may result in large downloads (up to 60MB of content for the first import from SciPy). Load times when importing from SciPy may take roughly 10-20 seconds. If you notice any problems, feel free to open an [issue](https://github.com/scipy/scipy/issues/new/choose).\n\n</div>",
            "metadata": {}
        },
        {
            "id": "5f38af0f",
            "cell_type": "markdown",
            "source": "Plot the window\n",
            "metadata": {}
        },
        {
            "id": "790f2064",
            "cell_type": "code",
            "metadata": {},
            "execution_count": null,
            "source": "import numpy as np\nfrom scipy.signal.windows import lanczos\nfrom scipy.fft import fft, fftshift\nimport matplotlib.pyplot as plt\nfig, ax = plt.subplots(1)\nwindow = lanczos(51)\nax.plot(window)\nax.set_title(\"Lanczos window\")\nax.set_ylabel(\"Amplitude\")\nax.set_xlabel(\"Sample\")\nfig.tight_layout()\nplt.show()",
            "outputs": []
        },
        {
            "id": "a893e345",
            "cell_type": "markdown",
            "source": "and its frequency response:\n",
            "metadata": {}
        },
        {
            "id": "0142abc1",
            "cell_type": "code",
            "metadata": {},
            "execution_count": null,
            "source": "fig, ax = plt.subplots(1)\nA = fft(window, 2048) / (len(window)/2.0)\nfreq = np.linspace(-0.5, 0.5, len(A))\nresponse = 20 * np.log10(np.abs(fftshift(A / abs(A).max())))\nax.plot(freq, response)\nax.set_xlim(-0.5, 0.5)\nax.set_ylim(-120, 0)\nax.set_title(\"Frequency response of the lanczos window\")\nax.set_ylabel(\"Normalized magnitude [dB]\")\nax.set_xlabel(\"Normalized frequency [cycles per sample]\")\nfig.tight_layout()\nplt.show()",
            "outputs": []
        }
    ]
}