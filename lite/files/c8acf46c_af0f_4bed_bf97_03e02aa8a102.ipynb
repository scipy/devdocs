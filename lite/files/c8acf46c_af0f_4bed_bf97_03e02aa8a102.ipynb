{
    "nbformat": 4,
    "nbformat_minor": 5,
    "metadata": {
        "kernelspec": {
            "display_name": "Python",
            "language": "python",
            "name": "python"
        },
        "language_info": {
            "name": "python"
        }
    },
    "cells": [
        {
            "id": "c253acdd",
            "cell_type": "markdown",
            "source": "<div class='alert alert-warning'>\n\nSciPy's interactive examples with Jupyterlite are experimental and may not always work as expected. Execution of cells containing imports may result in large downloads (up to 60MB of content for the first import from SciPy). Load times when importing from SciPy may take roughly 10-20 seconds. If you notice any problems, feel free to open an [issue](https://github.com/scipy/scipy/issues/new/choose).\n\n</div>",
            "metadata": {}
        },
        {
            "id": "b707f9ed",
            "cell_type": "code",
            "metadata": {},
            "execution_count": null,
            "source": "import numpy as np\nfrom scipy.special import wrightomega, lambertw",
            "outputs": []
        },
        {
            "id": "e2dac1cc",
            "cell_type": "code",
            "metadata": {},
            "execution_count": null,
            "source": "wrightomega([-2, -1, 0, 1, 2])",
            "outputs": [
                {
                    "output_type": "execute_result",
                    "metadata": {},
                    "data": {
                        "text/plain": "array([0.12002824, 0.27846454, 0.56714329, 1.        , 1.5571456 ])"
                    },
                    "execution_count": null
                }
            ]
        },
        {
            "id": "9fe18b6d",
            "cell_type": "markdown",
            "source": "Complex input:\n",
            "metadata": {}
        },
        {
            "id": "65244da5",
            "cell_type": "code",
            "metadata": {},
            "execution_count": null,
            "source": "wrightomega(3 + 5j)",
            "outputs": [
                {
                    "output_type": "execute_result",
                    "metadata": {},
                    "data": {
                        "text/plain": "(1.5804428632097158+3.8213626783287937j)"
                    },
                    "execution_count": null
                }
            ]
        },
        {
            "id": "c2713773",
            "cell_type": "markdown",
            "source": "Verify that ``wrightomega(z)`` satisfies ``w + log(w) = z``:\n",
            "metadata": {}
        },
        {
            "id": "9a2ccfe5",
            "cell_type": "code",
            "metadata": {},
            "execution_count": null,
            "source": "w = -5 + 4j\nwrightomega(w + np.log(w))",
            "outputs": [
                {
                    "output_type": "execute_result",
                    "metadata": {},
                    "data": {
                        "text/plain": "(-5+4j)"
                    },
                    "execution_count": null
                }
            ]
        },
        {
            "id": "b87ee33b",
            "cell_type": "markdown",
            "source": "Verify the connection to ``lambertw``:\n",
            "metadata": {}
        },
        {
            "id": "ac8a7025",
            "cell_type": "code",
            "metadata": {},
            "execution_count": null,
            "source": "z = 0.5 + 3j\nwrightomega(z)",
            "outputs": [
                {
                    "output_type": "execute_result",
                    "metadata": {},
                    "data": {
                        "text/plain": "(0.0966015889280649+1.4937828458191993j)"
                    },
                    "execution_count": null
                }
            ]
        },
        {
            "id": "ad68d04d",
            "cell_type": "code",
            "metadata": {},
            "execution_count": null,
            "source": "lambertw(np.exp(z))",
            "outputs": [
                {
                    "output_type": "execute_result",
                    "metadata": {},
                    "data": {
                        "text/plain": "(0.09660158892806493+1.4937828458191993j)"
                    },
                    "execution_count": null
                }
            ]
        },
        {
            "id": "e9b93e0b",
            "cell_type": "code",
            "metadata": {},
            "execution_count": null,
            "source": "z = 0.5 + 4j\nwrightomega(z)",
            "outputs": [
                {
                    "output_type": "execute_result",
                    "metadata": {},
                    "data": {
                        "text/plain": "(-0.3362123489037213+2.282986001579032j)"
                    },
                    "execution_count": null
                }
            ]
        },
        {
            "id": "69ebd11b",
            "cell_type": "code",
            "metadata": {},
            "execution_count": null,
            "source": "lambertw(np.exp(z), k=1)",
            "outputs": [
                {
                    "output_type": "execute_result",
                    "metadata": {},
                    "data": {
                        "text/plain": "(-0.33621234890372115+2.282986001579032j)"
                    },
                    "execution_count": null
                }
            ]
        }
    ]
}