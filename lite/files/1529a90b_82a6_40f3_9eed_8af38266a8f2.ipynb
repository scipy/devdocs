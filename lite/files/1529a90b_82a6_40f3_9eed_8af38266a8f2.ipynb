{
    "nbformat": 4,
    "nbformat_minor": 5,
    "metadata": {
        "kernelspec": {
            "display_name": "Python",
            "language": "python",
            "name": "python"
        },
        "language_info": {
            "name": "python"
        }
    },
    "cells": [
        {
            "id": "f24c0230",
            "cell_type": "markdown",
            "source": "<div class='alert alert-warning'>\n\nSciPy's interactive examples with Jupyterlite are experimental and may not always work as expected. Execution of cells containing imports may result in large downloads (up to 60MB of content for the first import from SciPy). Load times when importing from SciPy may take roughly 10-20 seconds. If you notice any problems, feel free to open an [issue](https://github.com/scipy/scipy/issues/new/choose).\n\n</div>",
            "metadata": {}
        },
        {
            "id": "05d45df0",
            "cell_type": "markdown",
            "source": "We can filter an image using 1-D spline along the given axis:\n",
            "metadata": {}
        },
        {
            "id": "85577584",
            "cell_type": "code",
            "metadata": {},
            "execution_count": null,
            "source": "from scipy.ndimage import spline_filter1d\nimport numpy as np\nimport matplotlib.pyplot as plt\norig_img = np.eye(20)  # create an image\norig_img[10, :] = 1.0\nsp_filter_axis_0 = spline_filter1d(orig_img, axis=0)\nsp_filter_axis_1 = spline_filter1d(orig_img, axis=1)\nf, ax = plt.subplots(1, 3, sharex=True)\nfor ind, data in enumerate([[orig_img, \"original image\"],\n            [sp_filter_axis_0, \"spline filter (axis=0)\"],\n            [sp_filter_axis_1, \"spline filter (axis=1)\"]]):\n    ax[ind].imshow(data[0], cmap='gray_r')\n    ax[ind].set_title(data[1])\nplt.tight_layout()\nplt.show()",
            "outputs": []
        }
    ]
}