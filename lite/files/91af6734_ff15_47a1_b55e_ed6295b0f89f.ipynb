{
    "nbformat": 4,
    "nbformat_minor": 5,
    "metadata": {
        "kernelspec": {
            "display_name": "Python",
            "language": "python",
            "name": "python"
        },
        "language_info": {
            "name": "python"
        }
    },
    "cells": [
        {
            "id": "66dff241",
            "cell_type": "markdown",
            "source": "<div class='alert alert-warning'>\n\nSciPy's interactive examples with Jupyterlite are experimental and may not always work as expected. Execution of cells containing imports may result in large downloads (up to 60MB of content for the first import from SciPy). Load times when importing from SciPy may take roughly 10-20 seconds. If you notice any problems, feel free to open an [issue](https://github.com/scipy/scipy/issues/new/choose).\n\n</div>",
            "metadata": {}
        },
        {
            "id": "de1efa4f",
            "cell_type": "code",
            "metadata": {},
            "execution_count": null,
            "source": "import numpy as np\nfrom scipy import optimize\ndef func(x, c0, c1):\n    \"Coordinate vector `x` should be an array of size two.\"\n    return c0 * x[0]**2 + c1*x[1]**2",
            "outputs": []
        },
        {
            "id": "be2a8fd3",
            "cell_type": "code",
            "metadata": {},
            "execution_count": null,
            "source": "x = np.ones(2)\nc0, c1 = (1, 200)\neps = np.sqrt(np.finfo(float).eps)\noptimize.approx_fprime(x, func, [eps, np.sqrt(200) * eps], c0, c1)",
            "outputs": [
                {
                    "output_type": "execute_result",
                    "metadata": {},
                    "data": {
                        "text/plain": "array([   2.        ,  400.00004208])"
                    },
                    "execution_count": null
                }
            ]
        }
    ]
}