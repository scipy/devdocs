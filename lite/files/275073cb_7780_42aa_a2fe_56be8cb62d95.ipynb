{
    "nbformat": 4,
    "nbformat_minor": 5,
    "metadata": {
        "kernelspec": {
            "display_name": "Python",
            "language": "python",
            "name": "python"
        },
        "language_info": {
            "name": "python"
        }
    },
    "cells": [
        {
            "id": "1854e2a2",
            "cell_type": "markdown",
            "source": "<div class='alert alert-warning'>\n\nSciPy's interactive examples with Jupyterlite are experimental and may not always work as expected. Execution of cells containing imports may result in large downloads (up to 60MB of content for the first import from SciPy). Load times when importing from SciPy may take roughly 10-20 seconds. If you notice any problems, feel free to open an [issue](https://github.com/scipy/scipy/issues/new/choose).\n\n</div>",
            "metadata": {}
        },
        {
            "id": "5c57c62a",
            "cell_type": "markdown",
            "source": "Simple operations:\n",
            "metadata": {}
        },
        {
            "id": "768ce55f",
            "cell_type": "code",
            "metadata": {},
            "execution_count": null,
            "source": "import numpy as np\nfrom scipy.signal import upfirdn\nupfirdn([1, 1, 1], [1, 1, 1])   # FIR filter",
            "outputs": [
                {
                    "output_type": "execute_result",
                    "metadata": {},
                    "data": {
                        "text/plain": "array([ 1.,  2.,  3.,  2.,  1.])"
                    },
                    "execution_count": null
                }
            ]
        },
        {
            "id": "a57d88c2",
            "cell_type": "code",
            "metadata": {},
            "execution_count": null,
            "source": "upfirdn([1], [1, 2, 3], 3)  # upsampling with zeros insertion",
            "outputs": [
                {
                    "output_type": "execute_result",
                    "metadata": {},
                    "data": {
                        "text/plain": "array([ 1.,  0.,  0.,  2.,  0.,  0.,  3.])"
                    },
                    "execution_count": null
                }
            ]
        },
        {
            "id": "fa052e4f",
            "cell_type": "code",
            "metadata": {},
            "execution_count": null,
            "source": "upfirdn([1, 1, 1], [1, 2, 3], 3)  # upsampling with sample-and-hold",
            "outputs": [
                {
                    "output_type": "execute_result",
                    "metadata": {},
                    "data": {
                        "text/plain": "array([ 1.,  1.,  1.,  2.,  2.,  2.,  3.,  3.,  3.])"
                    },
                    "execution_count": null
                }
            ]
        },
        {
            "id": "361902ed",
            "cell_type": "code",
            "metadata": {},
            "execution_count": null,
            "source": "upfirdn([.5, 1, .5], [1, 1, 1], 2)  # linear interpolation",
            "outputs": [
                {
                    "output_type": "execute_result",
                    "metadata": {},
                    "data": {
                        "text/plain": "array([ 0.5,  1. ,  1. ,  1. ,  1. ,  1. ,  0.5])"
                    },
                    "execution_count": null
                }
            ]
        },
        {
            "id": "07831dd6",
            "cell_type": "code",
            "metadata": {},
            "execution_count": null,
            "source": "upfirdn([1], np.arange(10), 1, 3)  # decimation by 3",
            "outputs": [
                {
                    "output_type": "execute_result",
                    "metadata": {},
                    "data": {
                        "text/plain": "array([ 0.,  3.,  6.,  9.])"
                    },
                    "execution_count": null
                }
            ]
        },
        {
            "id": "8ca7537c",
            "cell_type": "code",
            "metadata": {},
            "execution_count": null,
            "source": "upfirdn([.5, 1, .5], np.arange(10), 2, 3)  # linear interp, rate 2/3",
            "outputs": [
                {
                    "output_type": "execute_result",
                    "metadata": {},
                    "data": {
                        "text/plain": "array([ 0. ,  1. ,  2.5,  4. ,  5.5,  7. ,  8.5])"
                    },
                    "execution_count": null
                }
            ]
        },
        {
            "id": "3791b4a4",
            "cell_type": "markdown",
            "source": "Apply a single filter to multiple signals:\n",
            "metadata": {}
        },
        {
            "id": "c2dc6e2c",
            "cell_type": "code",
            "metadata": {},
            "execution_count": null,
            "source": "x = np.reshape(np.arange(8), (4, 2))\nx",
            "outputs": [
                {
                    "output_type": "execute_result",
                    "metadata": {},
                    "data": {
                        "text/plain": "array([[0, 1],\n       [2, 3],\n       [4, 5],\n       [6, 7]])"
                    },
                    "execution_count": null
                }
            ]
        },
        {
            "id": "d98b8f76",
            "cell_type": "markdown",
            "source": "Apply along the last dimension of ``x``:\n",
            "metadata": {}
        },
        {
            "id": "8088e5e6",
            "cell_type": "code",
            "metadata": {},
            "execution_count": null,
            "source": "h = [1, 1]\nupfirdn(h, x, 2)",
            "outputs": [
                {
                    "output_type": "execute_result",
                    "metadata": {},
                    "data": {
                        "text/plain": "array([[ 0.,  0.,  1.,  1.],\n       [ 2.,  2.,  3.,  3.],\n       [ 4.,  4.,  5.,  5.],\n       [ 6.,  6.,  7.,  7.]])"
                    },
                    "execution_count": null
                }
            ]
        },
        {
            "id": "526859e2",
            "cell_type": "markdown",
            "source": "Apply along the 0th dimension of ``x``:\n",
            "metadata": {}
        },
        {
            "id": "9abe0b99",
            "cell_type": "code",
            "metadata": {},
            "execution_count": null,
            "source": "upfirdn(h, x, 2, axis=0)",
            "outputs": [
                {
                    "output_type": "execute_result",
                    "metadata": {},
                    "data": {
                        "text/plain": "array([[ 0.,  1.],\n       [ 0.,  1.],\n       [ 2.,  3.],\n       [ 2.,  3.],\n       [ 4.,  5.],\n       [ 4.,  5.],\n       [ 6.,  7.],\n       [ 6.,  7.]])"
                    },
                    "execution_count": null
                }
            ]
        }
    ]
}