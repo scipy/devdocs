{
    "nbformat": 4,
    "nbformat_minor": 5,
    "metadata": {
        "kernelspec": {
            "display_name": "Python",
            "language": "python",
            "name": "python"
        },
        "language_info": {
            "name": "python"
        }
    },
    "cells": [
        {
            "id": "3211d379",
            "cell_type": "markdown",
            "source": "<div class='alert alert-warning'>\n\nSciPy's interactive examples with Jupyterlite are experimental and may not always work as expected. Execution of cells containing imports may result in large downloads (up to 60MB of content for the first import from SciPy). Load times when importing from SciPy may take roughly 10-20 seconds. If you notice any problems, feel free to open an [issue](https://github.com/scipy/scipy/issues/new/choose).\n\n</div>",
            "metadata": {}
        },
        {
            "id": "b8731dfd",
            "cell_type": "markdown",
            "source": "We can calculate orthogonal distance regression with an arbitrary\ndimensional linear model:\n",
            "metadata": {}
        },
        {
            "id": "bfa66189",
            "cell_type": "code",
            "metadata": {},
            "execution_count": null,
            "source": "from scipy import odr\nimport numpy as np\nx = np.linspace(0.0, 5.0)\ny = 10.0 + 5.0 * x\ndata = odr.Data(x, y)\nodr_obj = odr.ODR(data, odr.multilinear)\noutput = odr_obj.run()\nprint(output.beta)",
            "outputs": [
                {
                    "output_type": "execute_result",
                    "metadata": {},
                    "data": {
                        "text/plain": "[10.  5.]"
                    },
                    "execution_count": null
                }
            ]
        }
    ]
}