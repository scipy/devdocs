{
    "nbformat": 4,
    "nbformat_minor": 5,
    "metadata": {
        "kernelspec": {
            "display_name": "Python",
            "language": "python",
            "name": "python"
        },
        "language_info": {
            "name": "python"
        }
    },
    "cells": [
        {
            "id": "17503c22",
            "cell_type": "markdown",
            "source": "<div class='alert alert-warning'>\n\nSciPy's interactive examples with Jupyterlite are experimental and may not always work as expected. Execution of cells containing imports may result in large downloads (up to 60MB of content for the first import from SciPy). Load times when importing from SciPy may take roughly 10-20 seconds. If you notice any problems, feel free to open an [issue](https://github.com/scipy/scipy/issues/new/choose).\n\n</div>",
            "metadata": {}
        },
        {
            "id": "0a131b5a",
            "cell_type": "markdown",
            "source": "We can also compute iteratively the discrepancy by using\n``iterative=True``.\n",
            "metadata": {}
        },
        {
            "id": "c08305c2",
            "cell_type": "code",
            "metadata": {},
            "execution_count": null,
            "source": "import numpy as np\nfrom scipy.stats import qmc\nspace = np.array([[1, 3], [2, 6], [3, 2], [4, 5], [5, 1], [6, 4]])\nl_bounds = [0.5, 0.5]\nu_bounds = [6.5, 6.5]\nspace = qmc.scale(space, l_bounds, u_bounds, reverse=True)\ndisc_init = qmc.discrepancy(space[:-1], iterative=True)\ndisc_init",
            "outputs": [
                {
                    "output_type": "execute_result",
                    "metadata": {},
                    "data": {
                        "text/plain": "0.04769081147119336"
                    },
                    "execution_count": null
                }
            ]
        },
        {
            "id": "4665963f",
            "cell_type": "code",
            "metadata": {},
            "execution_count": null,
            "source": "qmc.update_discrepancy(space[-1], space[:-1], disc_init)",
            "outputs": [
                {
                    "output_type": "execute_result",
                    "metadata": {},
                    "data": {
                        "text/plain": "0.008142039609053513"
                    },
                    "execution_count": null
                }
            ]
        }
    ]
}