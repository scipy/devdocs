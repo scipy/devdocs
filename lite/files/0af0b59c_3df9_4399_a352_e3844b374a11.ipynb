{
    "nbformat": 4,
    "nbformat_minor": 5,
    "metadata": {
        "kernelspec": {
            "display_name": "Python",
            "language": "python",
            "name": "python"
        },
        "language_info": {
            "name": "python"
        }
    },
    "cells": [
        {
            "id": "493ceb2f",
            "cell_type": "markdown",
            "source": "<div class='alert alert-warning'>\n\nSciPy's interactive examples with Jupyterlite are experimental and may not always work as expected. Execution of cells containing imports may result in large downloads (up to 60MB of content for the first import from SciPy). Load times when importing from SciPy may take roughly 10-20 seconds. If you notice any problems, feel free to open an [issue](https://github.com/scipy/scipy/issues/new/choose).\n\n</div>",
            "metadata": {}
        },
        {
            "id": "f8e8b750",
            "cell_type": "markdown",
            "source": "We can calculate orthogonal distance regression with an unilinear model:\n",
            "metadata": {}
        },
        {
            "id": "9a7ff846",
            "cell_type": "code",
            "metadata": {},
            "execution_count": null,
            "source": "from scipy import odr\nimport numpy as np\nx = np.linspace(0.0, 5.0)\ny = 1.0 * x + 2.0\ndata = odr.Data(x, y)\nodr_obj = odr.ODR(data, odr.unilinear)\noutput = odr_obj.run()\nprint(output.beta)",
            "outputs": [
                {
                    "output_type": "execute_result",
                    "metadata": {},
                    "data": {
                        "text/plain": "[1. 2.]"
                    },
                    "execution_count": null
                }
            ]
        }
    ]
}