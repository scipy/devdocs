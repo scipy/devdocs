{
    "nbformat": 4,
    "nbformat_minor": 5,
    "metadata": {
        "kernelspec": {
            "display_name": "Python",
            "language": "python",
            "name": "python"
        },
        "language_info": {
            "name": "python"
        }
    },
    "cells": [
        {
            "id": "225c241c",
            "cell_type": "markdown",
            "source": "<div class='alert alert-warning'>\n\nSciPy's interactive examples with Jupyterlite are experimental and may not always work as expected. Execution of cells containing imports may result in large downloads (up to 60MB of content for the first import from SciPy). Load times when importing from SciPy may take roughly 10-20 seconds. If you notice any problems, feel free to open an [issue](https://github.com/scipy/scipy/issues/new/choose).\n\n</div>",
            "metadata": {}
        },
        {
            "id": "92bcc9a2",
            "cell_type": "code",
            "metadata": {},
            "execution_count": null,
            "source": "from scipy.signal import freqs, iirfilter\nimport numpy as np",
            "outputs": []
        },
        {
            "id": "4acf1e71",
            "cell_type": "code",
            "metadata": {},
            "execution_count": null,
            "source": "b, a = iirfilter(4, [1, 10], 1, 60, analog=True, ftype='cheby1')",
            "outputs": []
        },
        {
            "id": "5b09e797",
            "cell_type": "code",
            "metadata": {},
            "execution_count": null,
            "source": "w, h = freqs(b, a, worN=np.logspace(-1, 2, 1000))",
            "outputs": []
        },
        {
            "id": "6d86d3a4",
            "cell_type": "code",
            "metadata": {},
            "execution_count": null,
            "source": "import matplotlib.pyplot as plt\nplt.semilogx(w, 20 * np.log10(abs(h)))\nplt.xlabel('Frequency [rad/s]')\nplt.ylabel('Amplitude response [dB]')\nplt.grid(True)\nplt.show()",
            "outputs": []
        }
    ]
}