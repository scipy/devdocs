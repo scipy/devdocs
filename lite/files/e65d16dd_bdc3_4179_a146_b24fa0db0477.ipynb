{
    "nbformat": 4,
    "nbformat_minor": 5,
    "metadata": {
        "kernelspec": {
            "display_name": "Python",
            "language": "python",
            "name": "python"
        },
        "language_info": {
            "name": "python"
        }
    },
    "cells": [
        {
            "id": "f46dcb70",
            "cell_type": "markdown",
            "source": "<div class='alert alert-warning'>\n\nSciPy's interactive examples with Jupyterlite are experimental and may not always work as expected. Execution of cells containing imports may result in large downloads (up to 60MB of content for the first import from SciPy). Load times when importing from SciPy may take roughly 10-20 seconds. If you notice any problems, feel free to open an [issue](https://github.com/scipy/scipy/issues/new/choose).\n\n</div>",
            "metadata": {}
        },
        {
            "id": "1c3b657d",
            "cell_type": "markdown",
            "source": "Evaluate a simple example function on the points of a regular 3-D grid:\n",
            "metadata": {}
        },
        {
            "id": "cc5994a4",
            "cell_type": "code",
            "metadata": {},
            "execution_count": null,
            "source": "import numpy as np\nfrom scipy.interpolate import interpn\ndef value_func_3d(x, y, z):\n    return 2 * x + 3 * y - z\nx = np.linspace(0, 4, 5)\ny = np.linspace(0, 5, 6)\nz = np.linspace(0, 6, 7)\npoints = (x, y, z)\nvalues = value_func_3d(*np.meshgrid(*points, indexing='ij'))",
            "outputs": []
        },
        {
            "id": "35055092",
            "cell_type": "markdown",
            "source": "Evaluate the interpolating function at a point\n",
            "metadata": {}
        },
        {
            "id": "a6f862d1",
            "cell_type": "code",
            "metadata": {},
            "execution_count": null,
            "source": "point = np.array([2.21, 3.12, 1.15])\nprint(interpn(points, values, point))",
            "outputs": [
                {
                    "output_type": "execute_result",
                    "metadata": {},
                    "data": {
                        "text/plain": "[12.63]"
                    },
                    "execution_count": null
                }
            ]
        }
    ]
}