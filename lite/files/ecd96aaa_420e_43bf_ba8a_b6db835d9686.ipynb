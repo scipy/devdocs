{
    "nbformat": 4,
    "nbformat_minor": 5,
    "metadata": {
        "kernelspec": {
            "display_name": "Python",
            "language": "python",
            "name": "python"
        },
        "language_info": {
            "name": "python"
        }
    },
    "cells": [
        {
            "id": "57a99915",
            "cell_type": "markdown",
            "source": "<div class='alert alert-warning'>\n\nSciPy's interactive examples with Jupyterlite are experimental and may not always work as expected. Execution of cells containing imports may result in large downloads (up to 60MB of content for the first import from SciPy). Load times when importing from SciPy may take roughly 10-20 seconds. If you notice any problems, feel free to open an [issue](https://github.com/scipy/scipy/issues/new/choose).\n\n</div>",
            "metadata": {}
        },
        {
            "id": "3451bdfe",
            "cell_type": "markdown",
            "source": "`nrdtrimn` can be used to recover the mean of a normal distribution\nif we know the CDF value `p` for a given quantile `x` and the\nstandard deviation `std`. First, we calculate\nthe normal distribution CDF for an exemplary parameter set.\n",
            "metadata": {}
        },
        {
            "id": "60e35d34",
            "cell_type": "code",
            "metadata": {},
            "execution_count": null,
            "source": "from scipy.stats import norm\nmean = 3.\nstd = 2.\nx = 6.\np = norm.cdf(x, loc=mean, scale=std)\np",
            "outputs": [
                {
                    "output_type": "execute_result",
                    "metadata": {},
                    "data": {
                        "text/plain": "0.9331927987311419"
                    },
                    "execution_count": null
                }
            ]
        },
        {
            "id": "f5ed0cbf",
            "cell_type": "markdown",
            "source": "Verify that `nrdtrimn` returns the original value for `mean`.\n",
            "metadata": {}
        },
        {
            "id": "4a73b923",
            "cell_type": "code",
            "metadata": {},
            "execution_count": null,
            "source": "from scipy.special import nrdtrimn\nnrdtrimn(p, std, x)",
            "outputs": [
                {
                    "output_type": "execute_result",
                    "metadata": {},
                    "data": {
                        "text/plain": "3.0000000000000004"
                    },
                    "execution_count": null
                }
            ]
        }
    ]
}