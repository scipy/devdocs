{
    "nbformat": 4,
    "nbformat_minor": 5,
    "metadata": {
        "kernelspec": {
            "display_name": "Python",
            "language": "python",
            "name": "python"
        },
        "language_info": {
            "name": "python"
        }
    },
    "cells": [
        {
            "id": "0a01769c",
            "cell_type": "markdown",
            "source": "<div class='alert alert-warning'>\n\nSciPy's interactive examples with Jupyterlite are experimental and may not always work as expected. Execution of cells containing imports may result in large downloads (up to 60MB of content for the first import from SciPy). Load times when importing from SciPy may take roughly 10-20 seconds. If you notice any problems, feel free to open an [issue](https://github.com/scipy/scipy/issues/new/choose).\n\n</div>",
            "metadata": {}
        },
        {
            "id": "5f0720ff",
            "cell_type": "markdown",
            "source": "Plot the symmetric window and its frequency response:\n",
            "metadata": {}
        },
        {
            "id": "be47c455",
            "cell_type": "code",
            "metadata": {},
            "execution_count": null,
            "source": "import numpy as np\nfrom scipy import signal\nfrom scipy.fft import fft, fftshift\nimport matplotlib.pyplot as plt",
            "outputs": []
        },
        {
            "id": "44f5429e",
            "cell_type": "code",
            "metadata": {},
            "execution_count": null,
            "source": "M = 51\ntau = 3.0\nwindow = signal.windows.exponential(M, tau=tau)\nplt.plot(window)\nplt.title(\"Exponential Window (tau=3.0)\")\nplt.ylabel(\"Amplitude\")\nplt.xlabel(\"Sample\")",
            "outputs": []
        },
        {
            "id": "d51bf40b",
            "cell_type": "code",
            "metadata": {},
            "execution_count": null,
            "source": "plt.figure()\nA = fft(window, 2048) / (len(window)/2.0)\nfreq = np.linspace(-0.5, 0.5, len(A))\nresponse = 20 * np.log10(np.abs(fftshift(A / abs(A).max())))\nplt.plot(freq, response)\nplt.axis([-0.5, 0.5, -35, 0])\nplt.title(\"Frequency response of the Exponential window (tau=3.0)\")\nplt.ylabel(\"Normalized magnitude [dB]\")\nplt.xlabel(\"Normalized frequency [cycles per sample]\")",
            "outputs": []
        },
        {
            "id": "a2490595",
            "cell_type": "markdown",
            "source": "This function can also generate non-symmetric windows:\n",
            "metadata": {}
        },
        {
            "id": "15c485fd",
            "cell_type": "code",
            "metadata": {},
            "execution_count": null,
            "source": "tau2 = -(M-1) / np.log(0.01)\nwindow2 = signal.windows.exponential(M, 0, tau2, False)\nplt.figure()\nplt.plot(window2)\nplt.ylabel(\"Amplitude\")\nplt.xlabel(\"Sample\")",
            "outputs": []
        }
    ]
}