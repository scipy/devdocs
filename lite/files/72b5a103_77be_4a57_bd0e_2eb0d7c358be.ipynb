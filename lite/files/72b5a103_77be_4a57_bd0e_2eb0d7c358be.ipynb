{
    "nbformat": 4,
    "nbformat_minor": 5,
    "metadata": {
        "kernelspec": {
            "display_name": "Python",
            "language": "python",
            "name": "python"
        },
        "language_info": {
            "name": "python"
        }
    },
    "cells": [
        {
            "id": "352b007a",
            "cell_type": "markdown",
            "source": "<div class='alert alert-warning'>\n\nSciPy's interactive examples with Jupyterlite are experimental and may not always work as expected. Execution of cells containing imports may result in large downloads (up to 60MB of content for the first import from SciPy). Load times when importing from SciPy may take roughly 10-20 seconds. If you notice any problems, feel free to open an [issue](https://github.com/scipy/scipy/issues/new/choose).\n\n</div>",
            "metadata": {}
        },
        {
            "id": "da76f97d",
            "cell_type": "code",
            "metadata": {},
            "execution_count": null,
            "source": "from io import BytesIO\nimport numpy as np\nfrom scipy.io import savemat, whosmat",
            "outputs": []
        },
        {
            "id": "a60962b8",
            "cell_type": "markdown",
            "source": "Create some arrays, and use `savemat` to write them to a ``BytesIO``\ninstance.\n",
            "metadata": {}
        },
        {
            "id": "00817210",
            "cell_type": "code",
            "metadata": {},
            "execution_count": null,
            "source": "a = np.array([[10, 20, 30], [11, 21, 31]], dtype=np.int32)\nb = np.geomspace(1, 10, 5)\nf = BytesIO()\nsavemat(f, {'a': a, 'b': b})",
            "outputs": []
        },
        {
            "id": "e583dbc9",
            "cell_type": "markdown",
            "source": "Use `whosmat` to inspect ``f``.  Each tuple in the output list gives\nthe name, shape and data type of the array in ``f``.\n",
            "metadata": {}
        },
        {
            "id": "c46afc6d",
            "cell_type": "code",
            "metadata": {},
            "execution_count": null,
            "source": "whosmat(f)",
            "outputs": [
                {
                    "output_type": "execute_result",
                    "metadata": {},
                    "data": {
                        "text/plain": "[('a', (2, 3), 'int32'), ('b', (1, 5), 'double')]"
                    },
                    "execution_count": null
                }
            ]
        }
    ]
}