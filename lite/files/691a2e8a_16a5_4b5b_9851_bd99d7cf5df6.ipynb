{
    "nbformat": 4,
    "nbformat_minor": 5,
    "metadata": {
        "kernelspec": {
            "display_name": "Python",
            "language": "python",
            "name": "python"
        },
        "language_info": {
            "name": "python"
        }
    },
    "cells": [
        {
            "id": "0a347cf9",
            "cell_type": "markdown",
            "source": "<div class='alert alert-warning'>\n\nSciPy's interactive examples with Jupyterlite are experimental and may not always work as expected. Execution of cells containing imports may result in large downloads (up to 60MB of content for the first import from SciPy). Load times when importing from SciPy may take roughly 10-20 seconds. If you notice any problems, feel free to open an [issue](https://github.com/scipy/scipy/issues/new/choose).\n\n</div>",
            "metadata": {}
        },
        {
            "id": "09fa4b33",
            "cell_type": "code",
            "metadata": {},
            "execution_count": null,
            "source": "import numpy as np\nfrom scipy.linalg import orthogonal_procrustes\nA = np.array([[ 2,  0,  1], [-2,  0,  0]])",
            "outputs": []
        },
        {
            "id": "bcbc5095",
            "cell_type": "markdown",
            "source": "Flip the order of columns and check for the anti-diagonal mapping\n",
            "metadata": {}
        },
        {
            "id": "8d74cf34",
            "cell_type": "code",
            "metadata": {},
            "execution_count": null,
            "source": "R, sca = orthogonal_procrustes(A, np.fliplr(A))\nR",
            "outputs": [
                {
                    "output_type": "execute_result",
                    "metadata": {},
                    "data": {
                        "text/plain": "array([[-5.34384992e-17,  0.00000000e+00,  1.00000000e+00],\n       [ 0.00000000e+00,  1.00000000e+00,  0.00000000e+00],\n       [ 1.00000000e+00,  0.00000000e+00, -7.85941422e-17]])"
                    },
                    "execution_count": null
                }
            ]
        },
        {
            "id": "e1c16d5f",
            "cell_type": "code",
            "metadata": {},
            "execution_count": null,
            "source": "sca",
            "outputs": [
                {
                    "output_type": "execute_result",
                    "metadata": {},
                    "data": {
                        "text/plain": "9.0"
                    },
                    "execution_count": null
                }
            ]
        },
        {
            "id": "a8bee22f",
            "cell_type": "markdown",
            "source": "As an example of the unitary Procrustes problem, generate a\nrandom complex matrix ``A``, a random unitary matrix ``Q``,\nand their product ``B``.\n",
            "metadata": {}
        },
        {
            "id": "23a933e9",
            "cell_type": "code",
            "metadata": {},
            "execution_count": null,
            "source": "shape = (4, 4)\nrng = np.random.default_rng()\nA = rng.random(shape) + rng.random(shape)*1j\nQ = rng.random(shape) + rng.random(shape)*1j\nQ, _ = np.linalg.qr(Q)\nB = A @ Q",
            "outputs": []
        },
        {
            "id": "1723a92c",
            "cell_type": "markdown",
            "source": "`orthogonal_procrustes` recovers the unitary matrix ``Q``\nfrom ``A`` and ``B``.\n",
            "metadata": {}
        },
        {
            "id": "c088f51f",
            "cell_type": "code",
            "metadata": {},
            "execution_count": null,
            "source": "R, _ = orthogonal_procrustes(A, B)\nnp.allclose(R, Q)",
            "outputs": [
                {
                    "output_type": "execute_result",
                    "metadata": {},
                    "data": {
                        "text/plain": "True"
                    },
                    "execution_count": null
                }
            ]
        }
    ]
}