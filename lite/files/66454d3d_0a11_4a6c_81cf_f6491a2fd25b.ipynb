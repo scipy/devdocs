{
    "nbformat": 4,
    "nbformat_minor": 5,
    "metadata": {
        "kernelspec": {
            "display_name": "Python",
            "language": "python",
            "name": "python"
        },
        "language_info": {
            "name": "python"
        }
    },
    "cells": [
        {
            "id": "e807530e",
            "cell_type": "markdown",
            "source": "<div class='alert alert-warning'>\n\nSciPy's interactive examples with Jupyterlite are experimental and may not always work as expected. Execution of cells containing imports may result in large downloads (up to 60MB of content for the first import from SciPy). Load times when importing from SciPy may take roughly 10-20 seconds. If you notice any problems, feel free to open an [issue](https://github.com/scipy/scipy/issues/new/choose).\n\n</div>",
            "metadata": {}
        },
        {
            "id": "3046e30f",
            "cell_type": "code",
            "metadata": {},
            "execution_count": null,
            "source": "from scipy.linalg import pascal\npascal(4)",
            "outputs": [
                {
                    "output_type": "execute_result",
                    "metadata": {},
                    "data": {
                        "text/plain": "array([[ 1,  1,  1,  1],\n       [ 1,  2,  3,  4],\n       [ 1,  3,  6, 10],\n       [ 1,  4, 10, 20]], dtype=uint64)"
                    },
                    "execution_count": null
                }
            ]
        },
        {
            "id": "bce1de63",
            "cell_type": "code",
            "metadata": {},
            "execution_count": null,
            "source": "pascal(4, kind='lower')",
            "outputs": [
                {
                    "output_type": "execute_result",
                    "metadata": {},
                    "data": {
                        "text/plain": "array([[1, 0, 0, 0],\n       [1, 1, 0, 0],\n       [1, 2, 1, 0],\n       [1, 3, 3, 1]], dtype=uint64)"
                    },
                    "execution_count": null
                }
            ]
        },
        {
            "id": "19458555",
            "cell_type": "code",
            "metadata": {},
            "execution_count": null,
            "source": "pascal(50)[-1, -1]",
            "outputs": [
                {
                    "output_type": "execute_result",
                    "metadata": {},
                    "data": {
                        "text/plain": "25477612258980856902730428600"
                    },
                    "execution_count": null
                }
            ]
        },
        {
            "id": "a145f567",
            "cell_type": "code",
            "metadata": {},
            "execution_count": null,
            "source": "from scipy.special import comb\ncomb(98, 49, exact=True)",
            "outputs": [
                {
                    "output_type": "execute_result",
                    "metadata": {},
                    "data": {
                        "text/plain": "25477612258980856902730428600"
                    },
                    "execution_count": null
                }
            ]
        }
    ]
}