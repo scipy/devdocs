{
    "nbformat": 4,
    "nbformat_minor": 5,
    "metadata": {
        "kernelspec": {
            "display_name": "Python",
            "language": "python",
            "name": "python"
        },
        "language_info": {
            "name": "python"
        }
    },
    "cells": [
        {
            "id": "4f0df039",
            "cell_type": "markdown",
            "source": "<div class='alert alert-warning'>\n\nSciPy's interactive examples with Jupyterlite are experimental and may not always work as expected. Execution of cells containing imports may result in large downloads (up to 60MB of content for the first import from SciPy). Load times when importing from SciPy may take roughly 10-20 seconds. If you notice any problems, feel free to open an [issue](https://github.com/scipy/scipy/issues/new/choose).\n\n</div>",
            "metadata": {}
        },
        {
            "id": "3c40823d",
            "cell_type": "code",
            "metadata": {},
            "execution_count": null,
            "source": "import numpy as np\nimport scipy.special as sc",
            "outputs": []
        },
        {
            "id": "75d16798",
            "cell_type": "markdown",
            "source": "They are a scaled version of the Chebyshev polynomials of the\nsecond kind.\n",
            "metadata": {}
        },
        {
            "id": "11199262",
            "cell_type": "code",
            "metadata": {},
            "execution_count": null,
            "source": "x = np.linspace(-2, 2, 6)\nsc.eval_chebys(3, x)",
            "outputs": [
                {
                    "output_type": "execute_result",
                    "metadata": {},
                    "data": {
                        "text/plain": "array([-4.   ,  0.672,  0.736, -0.736, -0.672,  4.   ])"
                    },
                    "execution_count": null
                }
            ]
        },
        {
            "id": "8188514f",
            "cell_type": "code",
            "metadata": {},
            "execution_count": null,
            "source": "sc.eval_chebyu(3, x / 2)",
            "outputs": [
                {
                    "output_type": "execute_result",
                    "metadata": {},
                    "data": {
                        "text/plain": "array([-4.   ,  0.672,  0.736, -0.736, -0.672,  4.   ])"
                    },
                    "execution_count": null
                }
            ]
        }
    ]
}