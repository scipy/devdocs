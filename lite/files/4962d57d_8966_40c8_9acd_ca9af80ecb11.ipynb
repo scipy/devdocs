{
    "nbformat": 4,
    "nbformat_minor": 5,
    "metadata": {
        "kernelspec": {
            "display_name": "Python",
            "language": "python",
            "name": "python"
        },
        "language_info": {
            "name": "python"
        }
    },
    "cells": [
        {
            "id": "7d2b8401",
            "cell_type": "markdown",
            "source": "<div class='alert alert-warning'>\n\nSciPy's interactive examples with Jupyterlite are experimental and may not always work as expected. Execution of cells containing imports may result in large downloads (up to 60MB of content for the first import from SciPy). Load times when importing from SciPy may take roughly 10-20 seconds. If you notice any problems, feel free to open an [issue](https://github.com/scipy/scipy/issues/new/choose).\n\n</div>",
            "metadata": {}
        },
        {
            "id": "ab17a43c",
            "cell_type": "code",
            "metadata": {},
            "execution_count": null,
            "source": "import numpy as np\nfrom scipy import signal\nimport matplotlib.pyplot as plt",
            "outputs": []
        },
        {
            "id": "e31d78c7",
            "cell_type": "code",
            "metadata": {},
            "execution_count": null,
            "source": "butter = signal.dlti(*signal.butter(3, 0.5))\nt, y = signal.dstep(butter, n=25)\nplt.step(t, np.squeeze(y))\nplt.grid()\nplt.xlabel('n [samples]')\nplt.ylabel('Amplitude')",
            "outputs": []
        }
    ]
}