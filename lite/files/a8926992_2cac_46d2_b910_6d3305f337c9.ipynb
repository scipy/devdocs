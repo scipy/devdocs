{
    "nbformat": 4,
    "nbformat_minor": 5,
    "metadata": {
        "kernelspec": {
            "display_name": "Python",
            "language": "python",
            "name": "python"
        },
        "language_info": {
            "name": "python"
        }
    },
    "cells": [
        {
            "id": "e8b864a6",
            "cell_type": "markdown",
            "source": "<div class='alert alert-warning'>\n\nSciPy's interactive examples with Jupyterlite are experimental and may not always work as expected. Execution of cells containing imports may result in large downloads (up to 60MB of content for the first import from SciPy). Load times when importing from SciPy may take roughly 10-20 seconds. If you notice any problems, feel free to open an [issue](https://github.com/scipy/scipy/issues/new/choose).\n\n</div>",
            "metadata": {}
        },
        {
            "id": "51933099",
            "cell_type": "code",
            "metadata": {},
            "execution_count": null,
            "source": "import numpy as np\nfrom scipy.sparse import dia_matrix\ndia_matrix((3, 4), dtype=np.int8).toarray()",
            "outputs": [
                {
                    "output_type": "execute_result",
                    "metadata": {},
                    "data": {
                        "text/plain": "array([[0, 0, 0, 0],\n       [0, 0, 0, 0],\n       [0, 0, 0, 0]], dtype=int8)"
                    },
                    "execution_count": null
                }
            ]
        },
        {
            "id": "606de218",
            "cell_type": "code",
            "metadata": {},
            "execution_count": null,
            "source": "data = np.array([[1, 2, 3, 4]]).repeat(3, axis=0)\noffsets = np.array([0, -1, 2])\ndia_matrix((data, offsets), shape=(4, 4)).toarray()",
            "outputs": [
                {
                    "output_type": "execute_result",
                    "metadata": {},
                    "data": {
                        "text/plain": "array([[1, 0, 3, 0],\n       [1, 2, 0, 4],\n       [0, 2, 3, 0],\n       [0, 0, 3, 4]])"
                    },
                    "execution_count": null
                }
            ]
        },
        {
            "id": "1835b5d6",
            "cell_type": "code",
            "metadata": {},
            "execution_count": null,
            "source": "from scipy.sparse import dia_matrix\nn = 10\nex = np.ones(n)\ndata = np.array([ex, 2 * ex, ex])\noffsets = np.array([-1, 0, 1])\ndia_matrix((data, offsets), shape=(n, n)).toarray()",
            "outputs": [
                {
                    "output_type": "execute_result",
                    "metadata": {},
                    "data": {
                        "text/plain": "array([[2., 1., 0., ..., 0., 0., 0.],\n       [1., 2., 1., ..., 0., 0., 0.],\n       [0., 1., 2., ..., 0., 0., 0.],\n       ...,\n       [0., 0., 0., ..., 2., 1., 0.],\n       [0., 0., 0., ..., 1., 2., 1.],\n       [0., 0., 0., ..., 0., 1., 2.]])"
                    },
                    "execution_count": null
                }
            ]
        }
    ]
}