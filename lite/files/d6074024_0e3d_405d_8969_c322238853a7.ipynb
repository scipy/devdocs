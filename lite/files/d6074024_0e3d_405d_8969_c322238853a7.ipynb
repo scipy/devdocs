{
    "nbformat": 4,
    "nbformat_minor": 5,
    "metadata": {
        "kernelspec": {
            "display_name": "Python",
            "language": "python",
            "name": "python"
        },
        "language_info": {
            "name": "python"
        }
    },
    "cells": [
        {
            "id": "ff61d3c7",
            "cell_type": "markdown",
            "source": "<div class='alert alert-warning'>\n\nSciPy's interactive examples with Jupyterlite are experimental and may not always work as expected. Execution of cells containing imports may result in large downloads (up to 60MB of content for the first import from SciPy). Load times when importing from SciPy may take roughly 10-20 seconds. If you notice any problems, feel free to open an [issue](https://github.com/scipy/scipy/issues/new/choose).\n\n</div>",
            "metadata": {}
        },
        {
            "id": "d72f3360",
            "cell_type": "markdown",
            "source": "We can interpolate values on a 2D plane:\n",
            "metadata": {}
        },
        {
            "id": "e5831c71",
            "cell_type": "code",
            "metadata": {},
            "execution_count": null,
            "source": "from scipy.interpolate import CloughTocher2DInterpolator\nimport numpy as np\nimport matplotlib.pyplot as plt\nrng = np.random.default_rng()\nx = rng.random(10) - 0.5\ny = rng.random(10) - 0.5\nz = np.hypot(x, y)\nX = np.linspace(min(x), max(x))\nY = np.linspace(min(y), max(y))\nX, Y = np.meshgrid(X, Y)  # 2D grid for interpolation\ninterp = CloughTocher2DInterpolator(list(zip(x, y)), z)\nZ = interp(X, Y)\nplt.pcolormesh(X, Y, Z, shading='auto')\nplt.plot(x, y, \"ok\", label=\"input point\")\nplt.legend()\nplt.colorbar()\nplt.axis(\"equal\")\nplt.show()",
            "outputs": []
        }
    ]
}