{
    "nbformat": 4,
    "nbformat_minor": 5,
    "metadata": {
        "kernelspec": {
            "display_name": "Python",
            "language": "python",
            "name": "python"
        },
        "language_info": {
            "name": "python"
        }
    },
    "cells": [
        {
            "id": "4ba4d98c",
            "cell_type": "markdown",
            "source": "<div class='alert alert-warning'>\n\nSciPy's interactive examples with Jupyterlite are experimental and may not always work as expected. Execution of cells containing imports may result in large downloads (up to 60MB of content for the first import from SciPy). Load times when importing from SciPy may take roughly 10-20 seconds. If you notice any problems, feel free to open an [issue](https://github.com/scipy/scipy/issues/new/choose).\n\n</div>",
            "metadata": {}
        },
        {
            "id": "b5a4ac3b",
            "cell_type": "markdown",
            "source": "The following functions define a system of nonlinear equations\n",
            "metadata": {}
        },
        {
            "id": "ccd2a300",
            "cell_type": "code",
            "metadata": {},
            "execution_count": null,
            "source": "def fun(x):\n    return [x[0] + 0.5 * x[1] - 1.0,\n            0.5 * (x[1] - x[0]) ** 2]",
            "outputs": []
        },
        {
            "id": "c8fff924",
            "cell_type": "markdown",
            "source": "A solution can be obtained as follows.\n",
            "metadata": {}
        },
        {
            "id": "f7d0e122",
            "cell_type": "code",
            "metadata": {},
            "execution_count": null,
            "source": "from scipy import optimize\nsol = optimize.newton_krylov(fun, [0, 0])\nsol",
            "outputs": [
                {
                    "output_type": "execute_result",
                    "metadata": {},
                    "data": {
                        "text/plain": "array([0.66731771, 0.66536458])"
                    },
                    "execution_count": null
                }
            ]
        }
    ]
}