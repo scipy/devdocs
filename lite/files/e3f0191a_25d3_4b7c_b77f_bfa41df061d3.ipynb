{
    "nbformat": 4,
    "nbformat_minor": 5,
    "metadata": {
        "kernelspec": {
            "display_name": "Python",
            "language": "python",
            "name": "python"
        },
        "language_info": {
            "name": "python"
        }
    },
    "cells": [
        {
            "id": "4e5abbc9",
            "cell_type": "markdown",
            "source": "<div class='alert alert-warning'>\n\nSciPy's interactive examples with Jupyterlite are experimental and may not always work as expected. Execution of cells containing imports may result in large downloads (up to 60MB of content for the first import from SciPy). Load times when importing from SciPy may take roughly 10-20 seconds. If you notice any problems, feel free to open an [issue](https://github.com/scipy/scipy/issues/new/choose).\n\n</div>",
            "metadata": {}
        },
        {
            "id": "e0239bc4",
            "cell_type": "code",
            "metadata": {},
            "execution_count": null,
            "source": "from scipy import signal\nimport matplotlib.pyplot as plt\nimport numpy as np",
            "outputs": []
        },
        {
            "id": "35017a94",
            "cell_type": "code",
            "metadata": {},
            "execution_count": null,
            "source": "fs = 100\nbf = 2 * np.pi * np.array([7, 13])\nfilts = signal.lti(*signal.butter(4, bf, btype='bandpass',\n                                  analog=True))\nfiltz = signal.lti(*signal.bilinear(filts.num, filts.den, fs))\nwz, hz = signal.freqz(filtz.num, filtz.den)\nws, hs = signal.freqs(filts.num, filts.den, worN=fs*wz)",
            "outputs": []
        },
        {
            "id": "085afb73",
            "cell_type": "code",
            "metadata": {},
            "execution_count": null,
            "source": "plt.semilogx(wz*fs/(2*np.pi), 20*np.log10(np.abs(hz).clip(1e-15)),\n             label=r'$|H_z(e^{j \\omega})|$')\nplt.semilogx(wz*fs/(2*np.pi), 20*np.log10(np.abs(hs).clip(1e-15)),\n             label=r'$|H(j \\omega)|$')\nplt.legend()\nplt.xlabel('Frequency [Hz]')\nplt.ylabel('Amplitude [dB]')\nplt.grid(True)",
            "outputs": []
        }
    ]
}