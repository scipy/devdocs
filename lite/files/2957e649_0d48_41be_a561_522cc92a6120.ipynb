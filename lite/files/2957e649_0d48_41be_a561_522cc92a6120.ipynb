{
    "nbformat": 4,
    "nbformat_minor": 5,
    "metadata": {
        "kernelspec": {
            "display_name": "Python",
            "language": "python",
            "name": "python"
        },
        "language_info": {
            "name": "python"
        }
    },
    "cells": [
        {
            "id": "000f1fcd",
            "cell_type": "markdown",
            "source": "<div class='alert alert-warning'>\n\nSciPy's interactive examples with Jupyterlite are experimental and may not always work as expected. Execution of cells containing imports may result in large downloads (up to 60MB of content for the first import from SciPy). Load times when importing from SciPy may take roughly 10-20 seconds. If you notice any problems, feel free to open an [issue](https://github.com/scipy/scipy/issues/new/choose).\n\n</div>",
            "metadata": {}
        },
        {
            "id": "3cfd3b8f",
            "cell_type": "markdown",
            "source": "The spherical Bessel functions of the second kind $y_n$ accept\nboth real and complex second argument. They can return a complex type:\n",
            "metadata": {}
        },
        {
            "id": "cf97bb6e",
            "cell_type": "code",
            "metadata": {},
            "execution_count": null,
            "source": "from scipy.special import spherical_yn\nspherical_yn(0, 3+5j)",
            "outputs": [
                {
                    "output_type": "execute_result",
                    "metadata": {},
                    "data": {
                        "text/plain": "(8.022343088587197-9.880052589376795j)"
                    },
                    "execution_count": null
                }
            ]
        },
        {
            "id": "8833e7a8",
            "cell_type": "code",
            "metadata": {},
            "execution_count": null,
            "source": "type(spherical_yn(0, 3+5j))",
            "outputs": [
                {
                    "output_type": "execute_result",
                    "metadata": {},
                    "data": {
                        "text/plain": "<class 'numpy.complex128'>"
                    },
                    "execution_count": null
                }
            ]
        },
        {
            "id": "738b9db6",
            "cell_type": "markdown",
            "source": "We can verify the relation for the derivative from the Notes\nfor $n=3$ in the interval $[1, 2]$:\n",
            "metadata": {}
        },
        {
            "id": "f61ae0d9",
            "cell_type": "code",
            "metadata": {},
            "execution_count": null,
            "source": "import numpy as np\nx = np.arange(1.0, 2.0, 0.01)\nnp.allclose(spherical_yn(3, x, True),\n            spherical_yn(2, x) - 4/x * spherical_yn(3, x))",
            "outputs": [
                {
                    "output_type": "execute_result",
                    "metadata": {},
                    "data": {
                        "text/plain": "True"
                    },
                    "execution_count": null
                }
            ]
        },
        {
            "id": "3b9b3994",
            "cell_type": "markdown",
            "source": "The first few $y_n$ with real argument:\n",
            "metadata": {}
        },
        {
            "id": "5fcac6c5",
            "cell_type": "code",
            "metadata": {},
            "execution_count": null,
            "source": "import matplotlib.pyplot as plt\nx = np.arange(0.0, 10.0, 0.01)\nfig, ax = plt.subplots()\nax.set_ylim(-2.0, 1.0)\nax.set_title(r'Spherical Bessel functions $y_n$')\nfor n in np.arange(0, 4):\n    ax.plot(x, spherical_yn(n, x), label=rf'$y_{n}$')\nplt.legend(loc='best')\nplt.show()",
            "outputs": []
        }
    ]
}