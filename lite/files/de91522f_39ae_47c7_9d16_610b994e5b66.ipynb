{
    "nbformat": 4,
    "nbformat_minor": 5,
    "metadata": {
        "kernelspec": {
            "display_name": "Python",
            "language": "python",
            "name": "python"
        },
        "language_info": {
            "name": "python"
        }
    },
    "cells": [
        {
            "id": "bb209856",
            "cell_type": "markdown",
            "source": "<div class='alert alert-warning'>\n\nSciPy's interactive examples with Jupyterlite are experimental and may not always work as expected. Execution of cells containing imports may result in large downloads (up to 60MB of content for the first import from SciPy). Load times when importing from SciPy may take roughly 10-20 seconds. If you notice any problems, feel free to open an [issue](https://github.com/scipy/scipy/issues/new/choose).\n\n</div>",
            "metadata": {}
        },
        {
            "id": "e8b6c4e9",
            "cell_type": "code",
            "metadata": {},
            "execution_count": null,
            "source": "from scipy.io import savemat\nimport numpy as np\na = np.arange(20)\nmdic = {\"a\": a, \"label\": \"experiment\"}\nmdic",
            "outputs": [
                {
                    "output_type": "execute_result",
                    "metadata": {},
                    "data": {
                        "text/plain": "{'a': array([ 0,  1,  2,  3,  4,  5,  6,  7,  8,  9, 10, 11, 12, 13, 14, 15, 16,\n    17, 18, 19]),\n'label': 'experiment'}"
                    },
                    "execution_count": null
                }
            ]
        },
        {
            "id": "5a09fa85",
            "cell_type": "code",
            "metadata": {},
            "execution_count": null,
            "source": "savemat(\"matlab_matrix.mat\", mdic)",
            "outputs": []
        }
    ]
}