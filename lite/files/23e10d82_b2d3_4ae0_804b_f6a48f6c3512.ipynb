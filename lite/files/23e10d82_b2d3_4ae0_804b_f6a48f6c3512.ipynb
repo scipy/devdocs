{
    "nbformat": 4,
    "nbformat_minor": 5,
    "metadata": {
        "kernelspec": {
            "display_name": "Python",
            "language": "python",
            "name": "python"
        },
        "language_info": {
            "name": "python"
        }
    },
    "cells": [
        {
            "id": "e6f76075",
            "cell_type": "markdown",
            "source": "<div class='alert alert-warning'>\n\nSciPy's interactive examples with Jupyterlite are experimental and may not always work as expected. Execution of cells containing imports may result in large downloads (up to 60MB of content for the first import from SciPy). Load times when importing from SciPy may take roughly 10-20 seconds. If you notice any problems, feel free to open an [issue](https://github.com/scipy/scipy/issues/new/choose).\n\n</div>",
            "metadata": {}
        },
        {
            "id": "c5d177ca",
            "cell_type": "code",
            "metadata": {},
            "execution_count": null,
            "source": "import numpy as np\nfrom scipy.stats import exponweib\nimport matplotlib.pyplot as plt\nfig, ax = plt.subplots(1, 1)",
            "outputs": []
        },
        {
            "id": "27781b31",
            "cell_type": "markdown",
            "source": "Calculate the first four moments:\n",
            "metadata": {}
        },
        {
            "id": "267257c7",
            "cell_type": "code",
            "metadata": {},
            "execution_count": null,
            "source": "a, c = 2.89, 1.95\nmean, var, skew, kurt = exponweib.stats(a, c, moments='mvsk')",
            "outputs": []
        },
        {
            "id": "e9a99cf4",
            "cell_type": "markdown",
            "source": "Display the probability density function (``pdf``):\n",
            "metadata": {}
        },
        {
            "id": "ac4033a9",
            "cell_type": "code",
            "metadata": {},
            "execution_count": null,
            "source": "x = np.linspace(exponweib.ppf(0.01, a, c),\n                exponweib.ppf(0.99, a, c), 100)\nax.plot(x, exponweib.pdf(x, a, c),\n       'r-', lw=5, alpha=0.6, label='exponweib pdf')",
            "outputs": []
        },
        {
            "id": "518b9bcd",
            "cell_type": "markdown",
            "source": "Alternatively, the distribution object can be called (as a function)\nto fix the shape, location and scale parameters. This returns a \"frozen\"\nRV object holding the given parameters fixed.\n\nFreeze the distribution and display the frozen ``pdf``:\n",
            "metadata": {}
        },
        {
            "id": "6811305d",
            "cell_type": "code",
            "metadata": {},
            "execution_count": null,
            "source": "rv = exponweib(a, c)\nax.plot(x, rv.pdf(x), 'k-', lw=2, label='frozen pdf')",
            "outputs": []
        },
        {
            "id": "640e4bd0",
            "cell_type": "markdown",
            "source": "Check accuracy of ``cdf`` and ``ppf``:\n",
            "metadata": {}
        },
        {
            "id": "ac6eb697",
            "cell_type": "code",
            "metadata": {},
            "execution_count": null,
            "source": "vals = exponweib.ppf([0.001, 0.5, 0.999], a, c)\nnp.allclose([0.001, 0.5, 0.999], exponweib.cdf(vals, a, c))",
            "outputs": [
                {
                    "output_type": "execute_result",
                    "metadata": {},
                    "data": {
                        "text/plain": "True"
                    },
                    "execution_count": null
                }
            ]
        },
        {
            "id": "3feff04a",
            "cell_type": "markdown",
            "source": "Generate random numbers:\n",
            "metadata": {}
        },
        {
            "id": "a510a1b0",
            "cell_type": "code",
            "metadata": {},
            "execution_count": null,
            "source": "r = exponweib.rvs(a, c, size=1000)",
            "outputs": []
        },
        {
            "id": "46ed983a",
            "cell_type": "markdown",
            "source": "And compare the histogram:\n",
            "metadata": {}
        },
        {
            "id": "c052ea4c",
            "cell_type": "code",
            "metadata": {},
            "execution_count": null,
            "source": "ax.hist(r, density=True, bins='auto', histtype='stepfilled', alpha=0.2)\nax.set_xlim([x[0], x[-1]])\nax.legend(loc='best', frameon=False)\nplt.show()",
            "outputs": []
        }
    ]
}