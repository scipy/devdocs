{
    "nbformat": 4,
    "nbformat_minor": 5,
    "metadata": {
        "kernelspec": {
            "display_name": "Python",
            "language": "python",
            "name": "python"
        },
        "language_info": {
            "name": "python"
        }
    },
    "cells": [
        {
            "id": "801adafa",
            "cell_type": "markdown",
            "source": "<div class='alert alert-warning'>\n\nSciPy's interactive examples with Jupyterlite are experimental and may not always work as expected. Execution of cells containing imports may result in large downloads (up to 60MB of content for the first import from SciPy). Load times when importing from SciPy may take roughly 10-20 seconds. If you notice any problems, feel free to open an [issue](https://github.com/scipy/scipy/issues/new/choose).\n\n</div>",
            "metadata": {}
        },
        {
            "id": "34df08d7",
            "cell_type": "code",
            "metadata": {},
            "execution_count": null,
            "source": "import numpy as np\nfrom scipy.stats import rel_breitwigner\nimport matplotlib.pyplot as plt\nfig, ax = plt.subplots(1, 1)",
            "outputs": []
        },
        {
            "id": "a43c2e60",
            "cell_type": "markdown",
            "source": "Calculate the first four moments:\n",
            "metadata": {}
        },
        {
            "id": "edff661b",
            "cell_type": "code",
            "metadata": {},
            "execution_count": null,
            "source": "rho = 36.5\nmean, var, skew, kurt = rel_breitwigner.stats(rho, moments='mvsk')",
            "outputs": []
        },
        {
            "id": "79fba13e",
            "cell_type": "markdown",
            "source": "Display the probability density function (``pdf``):\n",
            "metadata": {}
        },
        {
            "id": "18ee71e0",
            "cell_type": "code",
            "metadata": {},
            "execution_count": null,
            "source": "x = np.linspace(rel_breitwigner.ppf(0.01, rho),\n                rel_breitwigner.ppf(0.99, rho), 100)\nax.plot(x, rel_breitwigner.pdf(x, rho),\n       'r-', lw=5, alpha=0.6, label='rel_breitwigner pdf')",
            "outputs": []
        },
        {
            "id": "d30f010c",
            "cell_type": "markdown",
            "source": "Alternatively, the distribution object can be called (as a function)\nto fix the shape, location and scale parameters. This returns a \"frozen\"\nRV object holding the given parameters fixed.\n\nFreeze the distribution and display the frozen ``pdf``:\n",
            "metadata": {}
        },
        {
            "id": "b0596184",
            "cell_type": "code",
            "metadata": {},
            "execution_count": null,
            "source": "rv = rel_breitwigner(rho)\nax.plot(x, rv.pdf(x), 'k-', lw=2, label='frozen pdf')",
            "outputs": []
        },
        {
            "id": "42ae7e84",
            "cell_type": "markdown",
            "source": "Check accuracy of ``cdf`` and ``ppf``:\n",
            "metadata": {}
        },
        {
            "id": "4dfbba67",
            "cell_type": "code",
            "metadata": {},
            "execution_count": null,
            "source": "vals = rel_breitwigner.ppf([0.001, 0.5, 0.999], rho)\nnp.allclose([0.001, 0.5, 0.999], rel_breitwigner.cdf(vals, rho))",
            "outputs": [
                {
                    "output_type": "execute_result",
                    "metadata": {},
                    "data": {
                        "text/plain": "True"
                    },
                    "execution_count": null
                }
            ]
        },
        {
            "id": "eceb45fc",
            "cell_type": "markdown",
            "source": "Generate random numbers:\n",
            "metadata": {}
        },
        {
            "id": "d9f46fbb",
            "cell_type": "code",
            "metadata": {},
            "execution_count": null,
            "source": "r = rel_breitwigner.rvs(rho, size=1000)",
            "outputs": []
        },
        {
            "id": "5c3be93f",
            "cell_type": "markdown",
            "source": "And compare the histogram:\n",
            "metadata": {}
        },
        {
            "id": "f59c851c",
            "cell_type": "code",
            "metadata": {},
            "execution_count": null,
            "source": "ax.hist(r, density=True, bins='auto', histtype='stepfilled', alpha=0.2)\nax.set_xlim([x[0], x[-1]])\nax.legend(loc='best', frameon=False)\nplt.show()",
            "outputs": []
        }
    ]
}