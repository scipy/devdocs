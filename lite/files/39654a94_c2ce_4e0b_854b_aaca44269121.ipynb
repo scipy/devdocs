{
    "nbformat": 4,
    "nbformat_minor": 5,
    "metadata": {
        "kernelspec": {
            "display_name": "Python",
            "language": "python",
            "name": "python"
        },
        "language_info": {
            "name": "python"
        }
    },
    "cells": [
        {
            "id": "68b02af2",
            "cell_type": "markdown",
            "source": "<div class='alert alert-warning'>\n\nSciPy's interactive examples with Jupyterlite are experimental and may not always work as expected. Execution of cells containing imports may result in large downloads (up to 60MB of content for the first import from SciPy). Load times when importing from SciPy may take roughly 10-20 seconds. If you notice any problems, feel free to open an [issue](https://github.com/scipy/scipy/issues/new/choose).\n\n</div>",
            "metadata": {}
        },
        {
            "id": "f0ffa89a",
            "cell_type": "code",
            "metadata": {},
            "execution_count": null,
            "source": "import numpy as np\nimport scipy.special as sc",
            "outputs": []
        },
        {
            "id": "ba1fe1da",
            "cell_type": "markdown",
            "source": "As z goes to infinity along the real axis, S and C converge to 0.5.\n",
            "metadata": {}
        },
        {
            "id": "0a721364",
            "cell_type": "code",
            "metadata": {},
            "execution_count": null,
            "source": "S, C = sc.fresnel([0.1, 1, 10, 100, np.inf])\nS",
            "outputs": [
                {
                    "output_type": "execute_result",
                    "metadata": {},
                    "data": {
                        "text/plain": "array([0.00052359, 0.43825915, 0.46816998, 0.4968169 , 0.5       ])"
                    },
                    "execution_count": null
                }
            ]
        },
        {
            "id": "9eb1d4b1",
            "cell_type": "code",
            "metadata": {},
            "execution_count": null,
            "source": "C",
            "outputs": [
                {
                    "output_type": "execute_result",
                    "metadata": {},
                    "data": {
                        "text/plain": "array([0.09999753, 0.7798934 , 0.49989869, 0.4999999 , 0.5       ])"
                    },
                    "execution_count": null
                }
            ]
        },
        {
            "id": "e5c9cf0d",
            "cell_type": "markdown",
            "source": "They are related to the error function `erf`.\n",
            "metadata": {}
        },
        {
            "id": "a90b9f03",
            "cell_type": "code",
            "metadata": {},
            "execution_count": null,
            "source": "z = np.array([1, 2, 3, 4])\nzeta = 0.5 * np.sqrt(np.pi) * (1 - 1j) * z\nS, C = sc.fresnel(z)\nC + 1j*S",
            "outputs": [
                {
                    "output_type": "execute_result",
                    "metadata": {},
                    "data": {
                        "text/plain": "array([0.7798934 +0.43825915j, 0.48825341+0.34341568j,\n       0.60572079+0.496313j  , 0.49842603+0.42051575j])"
                    },
                    "execution_count": null
                }
            ]
        },
        {
            "id": "55878cbf",
            "cell_type": "code",
            "metadata": {},
            "execution_count": null,
            "source": "0.5 * (1 + 1j) * sc.erf(zeta)",
            "outputs": [
                {
                    "output_type": "execute_result",
                    "metadata": {},
                    "data": {
                        "text/plain": "array([0.7798934 +0.43825915j, 0.48825341+0.34341568j,\n       0.60572079+0.496313j  , 0.49842603+0.42051575j])"
                    },
                    "execution_count": null
                }
            ]
        }
    ]
}