{
    "nbformat": 4,
    "nbformat_minor": 5,
    "metadata": {
        "kernelspec": {
            "display_name": "Python",
            "language": "python",
            "name": "python"
        },
        "language_info": {
            "name": "python"
        }
    },
    "cells": [
        {
            "id": "83030ec2",
            "cell_type": "markdown",
            "source": "<div class='alert alert-warning'>\n\nSciPy's interactive examples with Jupyterlite are experimental and may not always work as expected. Execution of cells containing imports may result in large downloads (up to 60MB of content for the first import from SciPy). Load times when importing from SciPy may take roughly 10-20 seconds. If you notice any problems, feel free to open an [issue](https://github.com/scipy/scipy/issues/new/choose).\n\n</div>",
            "metadata": {}
        },
        {
            "id": "89efb3be",
            "cell_type": "markdown",
            "source": "Calculate the function at one point:\n",
            "metadata": {}
        },
        {
            "id": "8296f98e",
            "cell_type": "code",
            "metadata": {},
            "execution_count": null,
            "source": "from scipy.special import j0\nj0(1.)",
            "outputs": [
                {
                    "output_type": "execute_result",
                    "metadata": {},
                    "data": {
                        "text/plain": "0.7651976865579665"
                    },
                    "execution_count": null
                }
            ]
        },
        {
            "id": "e3b34c81",
            "cell_type": "markdown",
            "source": "Calculate the function at several points:\n",
            "metadata": {}
        },
        {
            "id": "17e90e7c",
            "cell_type": "code",
            "metadata": {},
            "execution_count": null,
            "source": "import numpy as np\nj0(np.array([-2., 0., 4.]))",
            "outputs": [
                {
                    "output_type": "execute_result",
                    "metadata": {},
                    "data": {
                        "text/plain": "array([ 0.22389078,  1.        , -0.39714981])"
                    },
                    "execution_count": null
                }
            ]
        },
        {
            "id": "4d7ac59c",
            "cell_type": "markdown",
            "source": "Plot the function from -20 to 20.\n",
            "metadata": {}
        },
        {
            "id": "874c3d4d",
            "cell_type": "code",
            "metadata": {},
            "execution_count": null,
            "source": "import matplotlib.pyplot as plt\nfig, ax = plt.subplots()\nx = np.linspace(-20., 20., 1000)\ny = j0(x)\nax.plot(x, y)\nplt.show()",
            "outputs": []
        }
    ]
}