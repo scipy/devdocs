{
    "nbformat": 4,
    "nbformat_minor": 5,
    "metadata": {
        "kernelspec": {
            "display_name": "Python",
            "language": "python",
            "name": "python"
        },
        "language_info": {
            "name": "python"
        }
    },
    "cells": [
        {
            "id": "bf957f50",
            "cell_type": "markdown",
            "source": "<div class='alert alert-warning'>\n\nSciPy's interactive examples with Jupyterlite are experimental and may not always work as expected. Execution of cells containing imports may result in large downloads (up to 60MB of content for the first import from SciPy). Load times when importing from SciPy may take roughly 10-20 seconds. If you notice any problems, feel free to open an [issue](https://github.com/scipy/scipy/issues/new/choose).\n\n</div>",
            "metadata": {}
        },
        {
            "id": "85ce5a00",
            "cell_type": "markdown",
            "source": "Here we compare the method against polynomial interpolation for an example where\nthe polynomial interpolation fails due to Runge's phenomenon.\n",
            "metadata": {}
        },
        {
            "id": "95179ce7",
            "cell_type": "code",
            "metadata": {},
            "execution_count": null,
            "source": "import numpy as np\nfrom scipy.interpolate import (FloaterHormannInterpolator,\n                               BarycentricInterpolator)\ndef f(z):\n    return 1/(1 + z**2)\nz = np.linspace(-5, 5, num=15)\nr = FloaterHormannInterpolator(z, f(z))\np = BarycentricInterpolator(z, f(z))\nzz = np.linspace(-5, 5, num=1000)\nimport matplotlib.pyplot as plt\nfig, ax = plt.subplots()\nax.plot(zz, r(zz), label=\"Floater=Hormann\")\nax.plot(zz, p(zz), label=\"Polynomial\")\nax.legend()\nplt.show()",
            "outputs": []
        }
    ]
}