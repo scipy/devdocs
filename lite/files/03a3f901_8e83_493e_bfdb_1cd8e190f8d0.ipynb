{
    "nbformat": 4,
    "nbformat_minor": 5,
    "metadata": {
        "kernelspec": {
            "display_name": "Python",
            "language": "python",
            "name": "python"
        },
        "language_info": {
            "name": "python"
        }
    },
    "cells": [
        {
            "id": "2b9113f0",
            "cell_type": "markdown",
            "source": "<div class='alert alert-warning'>\n\nSciPy's interactive examples with Jupyterlite are experimental and may not always work as expected. Execution of cells containing imports may result in large downloads (up to 60MB of content for the first import from SciPy). Load times when importing from SciPy may take roughly 10-20 seconds. If you notice any problems, feel free to open an [issue](https://github.com/scipy/scipy/issues/new/choose).\n\n</div>",
            "metadata": {}
        },
        {
            "id": "13cb372e",
            "cell_type": "code",
            "metadata": {},
            "execution_count": null,
            "source": "import numpy as np\nimport matplotlib.pyplot as plt\nfrom scipy.interpolate import InterpolatedUnivariateSpline\nrng = np.random.default_rng()\nx = np.linspace(-3, 3, 50)\ny = np.exp(-x**2) + 0.1 * rng.standard_normal(50)\nspl = InterpolatedUnivariateSpline(x, y)\nplt.plot(x, y, 'ro', ms=5)\nxs = np.linspace(-3, 3, 1000)\nplt.plot(xs, spl(xs), 'g', lw=3, alpha=0.7)\nplt.show()",
            "outputs": []
        },
        {
            "id": "24912c42",
            "cell_type": "markdown",
            "source": "Notice that the ``spl(x)`` interpolates `y`:\n",
            "metadata": {}
        },
        {
            "id": "a3ff9c13",
            "cell_type": "code",
            "metadata": {},
            "execution_count": null,
            "source": "spl.get_residual()",
            "outputs": [
                {
                    "output_type": "execute_result",
                    "metadata": {},
                    "data": {
                        "text/plain": "0.0"
                    },
                    "execution_count": null
                }
            ]
        }
    ]
}