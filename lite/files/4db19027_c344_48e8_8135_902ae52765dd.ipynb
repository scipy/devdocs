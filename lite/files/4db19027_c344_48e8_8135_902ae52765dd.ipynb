{
    "nbformat": 4,
    "nbformat_minor": 5,
    "metadata": {
        "kernelspec": {
            "display_name": "Python",
            "language": "python",
            "name": "python"
        },
        "language_info": {
            "name": "python"
        }
    },
    "cells": [
        {
            "id": "26acb073",
            "cell_type": "markdown",
            "source": "<div class='alert alert-warning'>\n\nSciPy's interactive examples with Jupyterlite are experimental and may not always work as expected. Execution of cells containing imports may result in large downloads (up to 60MB of content for the first import from SciPy). Load times when importing from SciPy may take roughly 10-20 seconds. If you notice any problems, feel free to open an [issue](https://github.com/scipy/scipy/issues/new/choose).\n\n</div>",
            "metadata": {}
        },
        {
            "id": "a9cebc6d",
            "cell_type": "code",
            "metadata": {},
            "execution_count": null,
            "source": "from scipy.constants import find, physical_constants",
            "outputs": []
        },
        {
            "id": "4aebd45f",
            "cell_type": "markdown",
            "source": "Which keys in the ``physical_constants`` dictionary contain 'boltzmann'?\n",
            "metadata": {}
        },
        {
            "id": "9f49b519",
            "cell_type": "code",
            "metadata": {},
            "execution_count": null,
            "source": "find('boltzmann')",
            "outputs": [
                {
                    "output_type": "execute_result",
                    "metadata": {},
                    "data": {
                        "text/plain": "['Boltzmann constant',\n 'Boltzmann constant in Hz/K',\n 'Boltzmann constant in eV/K',\n 'Boltzmann constant in inverse meter per kelvin',\n 'Stefan-Boltzmann constant']"
                    },
                    "execution_count": null
                }
            ]
        },
        {
            "id": "18b04565",
            "cell_type": "markdown",
            "source": "Get the constant called 'Boltzmann constant in Hz/K':\n",
            "metadata": {}
        },
        {
            "id": "66c403bc",
            "cell_type": "code",
            "metadata": {},
            "execution_count": null,
            "source": "physical_constants['Boltzmann constant in Hz/K']",
            "outputs": [
                {
                    "output_type": "execute_result",
                    "metadata": {},
                    "data": {
                        "text/plain": "(20836619120.0, 'Hz K^-1', 0.0)"
                    },
                    "execution_count": null
                }
            ]
        },
        {
            "id": "883bf2b4",
            "cell_type": "markdown",
            "source": "Find constants with 'radius' in the key:\n",
            "metadata": {}
        },
        {
            "id": "90d47c4f",
            "cell_type": "code",
            "metadata": {},
            "execution_count": null,
            "source": "find('radius')",
            "outputs": [
                {
                    "output_type": "execute_result",
                    "metadata": {},
                    "data": {
                        "text/plain": "['Bohr radius',\n 'alpha particle rms charge radius',\n 'classical electron radius',\n 'deuteron rms charge radius',\n 'proton rms charge radius']"
                    },
                    "execution_count": null
                }
            ]
        },
        {
            "id": "74feddbc",
            "cell_type": "code",
            "metadata": {},
            "execution_count": null,
            "source": "physical_constants['classical electron radius']",
            "outputs": [
                {
                    "output_type": "execute_result",
                    "metadata": {},
                    "data": {
                        "text/plain": "(2.8179403262e-15, 'm', 1.3e-24)"
                    },
                    "execution_count": null
                }
            ]
        }
    ]
}