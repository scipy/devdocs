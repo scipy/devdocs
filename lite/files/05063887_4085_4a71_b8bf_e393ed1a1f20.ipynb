{
    "nbformat": 4,
    "nbformat_minor": 5,
    "metadata": {
        "kernelspec": {
            "display_name": "Python",
            "language": "python",
            "name": "python"
        },
        "language_info": {
            "name": "python"
        }
    },
    "cells": [
        {
            "id": "fb483eff",
            "cell_type": "markdown",
            "source": "<div class='alert alert-warning'>\n\nSciPy's interactive examples with Jupyterlite are experimental and may not always work as expected. Execution of cells containing imports may result in large downloads (up to 60MB of content for the first import from SciPy). Load times when importing from SciPy may take roughly 10-20 seconds. If you notice any problems, feel free to open an [issue](https://github.com/scipy/scipy/issues/new/choose).\n\n</div>",
            "metadata": {}
        },
        {
            "id": "851fd384",
            "cell_type": "code",
            "metadata": {},
            "execution_count": null,
            "source": "import numpy as np\nfrom scipy.cluster import hierarchy\nytdist = np.array([662., 877., 255., 412., 996., 295., 468., 268.,\n                   400., 754., 564., 138., 219., 869., 669.])\nZ = hierarchy.linkage(ytdist, 'single')\ndn = hierarchy.dendrogram(Z, no_plot=True)\ndn['color_list']",
            "outputs": [
                {
                    "output_type": "execute_result",
                    "metadata": {},
                    "data": {
                        "text/plain": "['C1', 'C0', 'C0', 'C0', 'C0']"
                    },
                    "execution_count": null
                }
            ]
        },
        {
            "id": "b5a1891e",
            "cell_type": "code",
            "metadata": {},
            "execution_count": null,
            "source": "hierarchy.set_link_color_palette(['c', 'm', 'y', 'k'])\ndn = hierarchy.dendrogram(Z, no_plot=True, above_threshold_color='b')\ndn['color_list']",
            "outputs": [
                {
                    "output_type": "execute_result",
                    "metadata": {},
                    "data": {
                        "text/plain": "['c', 'b', 'b', 'b', 'b']"
                    },
                    "execution_count": null
                }
            ]
        },
        {
            "id": "b9e64782",
            "cell_type": "code",
            "metadata": {},
            "execution_count": null,
            "source": "dn = hierarchy.dendrogram(Z, no_plot=True, color_threshold=267,\n                          above_threshold_color='k')\ndn['color_list']",
            "outputs": [
                {
                    "output_type": "execute_result",
                    "metadata": {},
                    "data": {
                        "text/plain": "['c', 'm', 'm', 'k', 'k']"
                    },
                    "execution_count": null
                }
            ]
        },
        {
            "id": "c6086b2d",
            "cell_type": "markdown",
            "source": "Now, reset the color palette to its default:\n",
            "metadata": {}
        },
        {
            "id": "695894ee",
            "cell_type": "code",
            "metadata": {},
            "execution_count": null,
            "source": "hierarchy.set_link_color_palette(None)",
            "outputs": []
        }
    ]
}