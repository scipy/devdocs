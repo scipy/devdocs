{
    "nbformat": 4,
    "nbformat_minor": 5,
    "metadata": {
        "kernelspec": {
            "display_name": "Python",
            "language": "python",
            "name": "python"
        },
        "language_info": {
            "name": "python"
        }
    },
    "cells": [
        {
            "id": "f77d3c53",
            "cell_type": "markdown",
            "source": "<div class='alert alert-warning'>\n\nSciPy's interactive examples with Jupyterlite are experimental and may not always work as expected. Execution of cells containing imports may result in large downloads (up to 60MB of content for the first import from SciPy). Load times when importing from SciPy may take roughly 10-20 seconds. If you notice any problems, feel free to open an [issue](https://github.com/scipy/scipy/issues/new/choose).\n\n</div>",
            "metadata": {}
        },
        {
            "id": "4c1990e9",
            "cell_type": "code",
            "metadata": {},
            "execution_count": null,
            "source": "import numpy as np\nfrom scipy.stats import yulesimon\nimport matplotlib.pyplot as plt\nfig, ax = plt.subplots(1, 1)",
            "outputs": []
        },
        {
            "id": "f326041b",
            "cell_type": "markdown",
            "source": "Calculate the first four moments:\n",
            "metadata": {}
        },
        {
            "id": "a3a0ab7a",
            "cell_type": "code",
            "metadata": {},
            "execution_count": null,
            "source": "alpha = 11\nmean, var, skew, kurt = yulesimon.stats(alpha, moments='mvsk')",
            "outputs": []
        },
        {
            "id": "1c35a8bb",
            "cell_type": "markdown",
            "source": "Display the probability mass function (``pmf``):\n",
            "metadata": {}
        },
        {
            "id": "11d7df93",
            "cell_type": "code",
            "metadata": {},
            "execution_count": null,
            "source": "x = np.arange(yulesimon.ppf(0.01, alpha),\n              yulesimon.ppf(0.99, alpha))\nax.plot(x, yulesimon.pmf(x, alpha), 'bo', ms=8, label='yulesimon pmf')\nax.vlines(x, 0, yulesimon.pmf(x, alpha), colors='b', lw=5, alpha=0.5)",
            "outputs": []
        },
        {
            "id": "36480433",
            "cell_type": "markdown",
            "source": "Alternatively, the distribution object can be called (as a function)\nto fix the shape and location. This returns a \"frozen\" RV object holding\nthe given parameters fixed.\n\nFreeze the distribution and display the frozen ``pmf``:\n",
            "metadata": {}
        },
        {
            "id": "c089a75f",
            "cell_type": "code",
            "metadata": {},
            "execution_count": null,
            "source": "rv = yulesimon(alpha)\nax.vlines(x, 0, rv.pmf(x), colors='k', linestyles='-', lw=1,\n        label='frozen pmf')\nax.legend(loc='best', frameon=False)\nplt.show()",
            "outputs": []
        },
        {
            "id": "23fc5957",
            "cell_type": "markdown",
            "source": "Check accuracy of ``cdf`` and ``ppf``:\n",
            "metadata": {}
        },
        {
            "id": "d22e44ed",
            "cell_type": "code",
            "metadata": {},
            "execution_count": null,
            "source": "prob = yulesimon.cdf(x, alpha)\nnp.allclose(x, yulesimon.ppf(prob, alpha))",
            "outputs": [
                {
                    "output_type": "execute_result",
                    "metadata": {},
                    "data": {
                        "text/plain": "True"
                    },
                    "execution_count": null
                }
            ]
        },
        {
            "id": "1bbede38",
            "cell_type": "markdown",
            "source": "Generate random numbers:\n",
            "metadata": {}
        },
        {
            "id": "8d986482",
            "cell_type": "code",
            "metadata": {},
            "execution_count": null,
            "source": "r = yulesimon.rvs(alpha, size=1000)",
            "outputs": []
        }
    ]
}