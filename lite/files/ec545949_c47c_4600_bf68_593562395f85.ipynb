{
    "nbformat": 4,
    "nbformat_minor": 5,
    "metadata": {
        "kernelspec": {
            "display_name": "Python",
            "language": "python",
            "name": "python"
        },
        "language_info": {
            "name": "python"
        }
    },
    "cells": [
        {
            "id": "6f0115f8",
            "cell_type": "markdown",
            "source": "<div class='alert alert-warning'>\n\nSciPy's interactive examples with Jupyterlite are experimental and may not always work as expected. Execution of cells containing imports may result in large downloads (up to 60MB of content for the first import from SciPy). Load times when importing from SciPy may take roughly 10-20 seconds. If you notice any problems, feel free to open an [issue](https://github.com/scipy/scipy/issues/new/choose).\n\n</div>",
            "metadata": {}
        },
        {
            "id": "177dd95e",
            "cell_type": "code",
            "metadata": {},
            "execution_count": null,
            "source": "import scipy.special as sc",
            "outputs": []
        },
        {
            "id": "afabc47d",
            "cell_type": "markdown",
            "source": "Compute the CDF for several values of `m`:\n",
            "metadata": {}
        },
        {
            "id": "91f8510b",
            "cell_type": "code",
            "metadata": {},
            "execution_count": null,
            "source": "m = [0.5, 1, 1.5]\np = sc.pdtr(1, m)\np",
            "outputs": [
                {
                    "output_type": "execute_result",
                    "metadata": {},
                    "data": {
                        "text/plain": "array([0.90979599, 0.73575888, 0.5578254 ])"
                    },
                    "execution_count": null
                }
            ]
        },
        {
            "id": "7503b3ab",
            "cell_type": "markdown",
            "source": "Compute the inverse. We recover the values of `m`, as expected:\n",
            "metadata": {}
        },
        {
            "id": "e69a3a49",
            "cell_type": "code",
            "metadata": {},
            "execution_count": null,
            "source": "sc.pdtri(1, p)",
            "outputs": [
                {
                    "output_type": "execute_result",
                    "metadata": {},
                    "data": {
                        "text/plain": "array([0.5, 1. , 1.5])"
                    },
                    "execution_count": null
                }
            ]
        }
    ]
}