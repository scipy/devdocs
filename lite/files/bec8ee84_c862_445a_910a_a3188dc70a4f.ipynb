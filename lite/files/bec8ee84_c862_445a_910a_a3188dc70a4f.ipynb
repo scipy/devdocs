{
    "nbformat": 4,
    "nbformat_minor": 5,
    "metadata": {
        "kernelspec": {
            "display_name": "Python",
            "language": "python",
            "name": "python"
        },
        "language_info": {
            "name": "python"
        }
    },
    "cells": [
        {
            "id": "4c6f8034",
            "cell_type": "markdown",
            "source": "<div class='alert alert-warning'>\n\nSciPy's interactive examples with Jupyterlite are experimental and may not always work as expected. Execution of cells containing imports may result in large downloads (up to 60MB of content for the first import from SciPy). Load times when importing from SciPy may take roughly 10-20 seconds. If you notice any problems, feel free to open an [issue](https://github.com/scipy/scipy/issues/new/choose).\n\n</div>",
            "metadata": {}
        },
        {
            "id": "afa79647",
            "cell_type": "markdown",
            "source": "You can count neighbors number between two kd-trees within a distance:\n",
            "metadata": {}
        },
        {
            "id": "683b3b33",
            "cell_type": "code",
            "metadata": {},
            "execution_count": null,
            "source": "import numpy as np\nfrom scipy.spatial import cKDTree\nrng = np.random.default_rng()\npoints1 = rng.random((5, 2))\npoints2 = rng.random((5, 2))\nkd_tree1 = cKDTree(points1)\nkd_tree2 = cKDTree(points2)\nkd_tree1.count_neighbors(kd_tree2, 0.2)",
            "outputs": [
                {
                    "output_type": "execute_result",
                    "metadata": {},
                    "data": {
                        "text/plain": "1"
                    },
                    "execution_count": null
                }
            ]
        },
        {
            "id": "fdd85544",
            "cell_type": "markdown",
            "source": "This number is same as the total pair number calculated by\n`query_ball_tree`:\n",
            "metadata": {}
        },
        {
            "id": "1b3c1178",
            "cell_type": "code",
            "metadata": {},
            "execution_count": null,
            "source": "indexes = kd_tree1.query_ball_tree(kd_tree2, r=0.2)\nsum([len(i) for i in indexes])",
            "outputs": [
                {
                    "output_type": "execute_result",
                    "metadata": {},
                    "data": {
                        "text/plain": "1"
                    },
                    "execution_count": null
                }
            ]
        }
    ]
}