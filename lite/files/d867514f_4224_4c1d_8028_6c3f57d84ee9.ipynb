{
    "nbformat": 4,
    "nbformat_minor": 5,
    "metadata": {
        "kernelspec": {
            "display_name": "Python",
            "language": "python",
            "name": "python"
        },
        "language_info": {
            "name": "python"
        }
    },
    "cells": [
        {
            "id": "f3ea5b53",
            "cell_type": "markdown",
            "source": "<div class='alert alert-warning'>\n\nSciPy's interactive examples with Jupyterlite are experimental and may not always work as expected. Execution of cells containing imports may result in large downloads (up to 60MB of content for the first import from SciPy). Load times when importing from SciPy may take roughly 10-20 seconds. If you notice any problems, feel free to open an [issue](https://github.com/scipy/scipy/issues/new/choose).\n\n</div>",
            "metadata": {}
        },
        {
            "id": "8dabb5d2",
            "cell_type": "code",
            "metadata": {},
            "execution_count": null,
            "source": "import numpy as np\nfrom scipy.linalg import fractional_matrix_power\na = np.array([[1.0, 3.0], [1.0, 4.0]])\nb = fractional_matrix_power(a, 0.5)\nb",
            "outputs": [
                {
                    "output_type": "execute_result",
                    "metadata": {},
                    "data": {
                        "text/plain": "array([[ 0.75592895,  1.13389342],\n       [ 0.37796447,  1.88982237]])"
                    },
                    "execution_count": null
                }
            ]
        },
        {
            "id": "4af7267b",
            "cell_type": "code",
            "metadata": {},
            "execution_count": null,
            "source": "np.dot(b, b)      # Verify square root",
            "outputs": [
                {
                    "output_type": "execute_result",
                    "metadata": {},
                    "data": {
                        "text/plain": "array([[ 1.,  3.],\n       [ 1.,  4.]])"
                    },
                    "execution_count": null
                }
            ]
        }
    ]
}