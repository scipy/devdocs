{
    "nbformat": 4,
    "nbformat_minor": 5,
    "metadata": {
        "kernelspec": {
            "display_name": "Python",
            "language": "python",
            "name": "python"
        },
        "language_info": {
            "name": "python"
        }
    },
    "cells": [
        {
            "id": "46a2c05b",
            "cell_type": "markdown",
            "source": "<div class='alert alert-warning'>\n\nSciPy's interactive examples with Jupyterlite are experimental and may not always work as expected. Execution of cells containing imports may result in large downloads (up to 60MB of content for the first import from SciPy). Load times when importing from SciPy may take roughly 10-20 seconds. If you notice any problems, feel free to open an [issue](https://github.com/scipy/scipy/issues/new/choose).\n\n</div>",
            "metadata": {}
        },
        {
            "id": "a680a4ba",
            "cell_type": "markdown",
            "source": "A lowpass FIR filter with a response that is 1 on [0.0, 0.5], and\nthat decreases linearly on [0.5, 1.0] from 1 to 0:\n",
            "metadata": {}
        },
        {
            "id": "a8c4393e",
            "cell_type": "code",
            "metadata": {},
            "execution_count": null,
            "source": "from scipy import signal\ntaps = signal.firwin2(150, [0.0, 0.5, 1.0], [1.0, 1.0, 0.0])\nprint(taps[72:78])",
            "outputs": [
                {
                    "output_type": "execute_result",
                    "metadata": {},
                    "data": {
                        "text/plain": "[-0.02286961 -0.06362756  0.57310236  0.57310236 -0.06362756 -0.02286961]"
                    },
                    "execution_count": null
                }
            ]
        }
    ]
}