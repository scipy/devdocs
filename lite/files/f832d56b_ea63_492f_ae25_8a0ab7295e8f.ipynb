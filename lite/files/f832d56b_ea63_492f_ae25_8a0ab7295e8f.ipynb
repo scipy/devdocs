{
    "nbformat": 4,
    "nbformat_minor": 5,
    "metadata": {
        "kernelspec": {
            "display_name": "Python",
            "language": "python",
            "name": "python"
        },
        "language_info": {
            "name": "python"
        }
    },
    "cells": [
        {
            "id": "3a919716",
            "cell_type": "markdown",
            "source": "<div class='alert alert-warning'>\n\nSciPy's interactive examples with Jupyterlite are experimental and may not always work as expected. Execution of cells containing imports may result in large downloads (up to 60MB of content for the first import from SciPy). Load times when importing from SciPy may take roughly 10-20 seconds. If you notice any problems, feel free to open an [issue](https://github.com/scipy/scipy/issues/new/choose).\n\n</div>",
            "metadata": {}
        },
        {
            "id": "f61c756f",
            "cell_type": "code",
            "metadata": {},
            "execution_count": null,
            "source": "import numpy as np\nfrom scipy.sparse import bsr_array\nbsr_array((3, 4), dtype=np.int8).toarray()",
            "outputs": [
                {
                    "output_type": "execute_result",
                    "metadata": {},
                    "data": {
                        "text/plain": "array([[0, 0, 0, 0],\n       [0, 0, 0, 0],\n       [0, 0, 0, 0]], dtype=int8)"
                    },
                    "execution_count": null
                }
            ]
        },
        {
            "id": "5254afb0",
            "cell_type": "code",
            "metadata": {},
            "execution_count": null,
            "source": "row = np.array([0, 0, 1, 2, 2, 2])\ncol = np.array([0, 2, 2, 0, 1, 2])\ndata = np.array([1, 2, 3 ,4, 5, 6])\nbsr_array((data, (row, col)), shape=(3, 3)).toarray()",
            "outputs": [
                {
                    "output_type": "execute_result",
                    "metadata": {},
                    "data": {
                        "text/plain": "array([[1, 0, 2],\n       [0, 0, 3],\n       [4, 5, 6]])"
                    },
                    "execution_count": null
                }
            ]
        },
        {
            "id": "157efbc7",
            "cell_type": "code",
            "metadata": {},
            "execution_count": null,
            "source": "indptr = np.array([0, 2, 3, 6])\nindices = np.array([0, 2, 2, 0, 1, 2])\ndata = np.array([1, 2, 3, 4, 5, 6]).repeat(4).reshape(6, 2, 2)\nbsr_array((data,indices,indptr), shape=(6, 6)).toarray()",
            "outputs": [
                {
                    "output_type": "execute_result",
                    "metadata": {},
                    "data": {
                        "text/plain": "array([[1, 1, 0, 0, 2, 2],\n       [1, 1, 0, 0, 2, 2],\n       [0, 0, 0, 0, 3, 3],\n       [0, 0, 0, 0, 3, 3],\n       [4, 4, 5, 5, 6, 6],\n       [4, 4, 5, 5, 6, 6]])"
                    },
                    "execution_count": null
                }
            ]
        }
    ]
}