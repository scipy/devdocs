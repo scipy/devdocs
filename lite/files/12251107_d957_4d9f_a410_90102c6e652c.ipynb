{
    "nbformat": 4,
    "nbformat_minor": 5,
    "metadata": {
        "kernelspec": {
            "display_name": "Python",
            "language": "python",
            "name": "python"
        },
        "language_info": {
            "name": "python"
        }
    },
    "cells": [
        {
            "id": "45112603",
            "cell_type": "markdown",
            "source": "<div class='alert alert-warning'>\n\nSciPy's interactive examples with Jupyterlite are experimental and may not always work as expected. Execution of cells containing imports may result in large downloads (up to 60MB of content for the first import from SciPy). Load times when importing from SciPy may take roughly 10-20 seconds. If you notice any problems, feel free to open an [issue](https://github.com/scipy/scipy/issues/new/choose).\n\n</div>",
            "metadata": {}
        },
        {
            "id": "018aff32",
            "cell_type": "markdown",
            "source": "Use the 'zpk' (Zero-Pole-Gain) representation of a lowpass filter to\ntransform it to a new 'zpk' representation associated with a cutoff frequency wo.\n",
            "metadata": {}
        },
        {
            "id": "acdd317f",
            "cell_type": "code",
            "metadata": {},
            "execution_count": null,
            "source": "from scipy.signal import lp2lp_zpk\nz   = [7,   2]\np   = [5,   13]\nk   = 0.8\nwo  = 0.4\nlp2lp_zpk(z, p, k, wo)",
            "outputs": [
                {
                    "output_type": "execute_result",
                    "metadata": {},
                    "data": {
                        "text/plain": "(   array([2.8, 0.8]), array([2. , 5.2]), 0.8)"
                    },
                    "execution_count": null
                }
            ]
        }
    ]
}