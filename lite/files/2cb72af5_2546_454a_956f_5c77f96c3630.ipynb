{
    "nbformat": 4,
    "nbformat_minor": 5,
    "metadata": {
        "kernelspec": {
            "display_name": "Python",
            "language": "python",
            "name": "python"
        },
        "language_info": {
            "name": "python"
        }
    },
    "cells": [
        {
            "id": "08ccdfa1",
            "cell_type": "markdown",
            "source": "<div class='alert alert-warning'>\n\nSciPy's interactive examples with Jupyterlite are experimental and may not always work as expected. Execution of cells containing imports may result in large downloads (up to 60MB of content for the first import from SciPy). Load times when importing from SciPy may take roughly 10-20 seconds. If you notice any problems, feel free to open an [issue](https://github.com/scipy/scipy/issues/new/choose).\n\n</div>",
            "metadata": {}
        },
        {
            "id": "751249d5",
            "cell_type": "code",
            "metadata": {},
            "execution_count": null,
            "source": "from scipy.constants import convert_temperature\nimport numpy as np\nconvert_temperature(np.array([-40, 40]), 'Celsius', 'Kelvin')",
            "outputs": [
                {
                    "output_type": "execute_result",
                    "metadata": {},
                    "data": {
                        "text/plain": "array([ 233.15,  313.15])"
                    },
                    "execution_count": null
                }
            ]
        }
    ]
}