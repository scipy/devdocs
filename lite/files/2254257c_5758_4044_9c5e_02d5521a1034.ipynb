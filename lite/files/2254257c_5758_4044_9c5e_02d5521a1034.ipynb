{
    "nbformat": 4,
    "nbformat_minor": 5,
    "metadata": {
        "kernelspec": {
            "display_name": "Python",
            "language": "python",
            "name": "python"
        },
        "language_info": {
            "name": "python"
        }
    },
    "cells": [
        {
            "id": "c70b563c",
            "cell_type": "markdown",
            "source": "<div class='alert alert-warning'>\n\nSciPy's interactive examples with Jupyterlite are experimental and may not always work as expected. Execution of cells containing imports may result in large downloads (up to 60MB of content for the first import from SciPy). Load times when importing from SciPy may take roughly 10-20 seconds. If you notice any problems, feel free to open an [issue](https://github.com/scipy/scipy/issues/new/choose).\n\n</div>",
            "metadata": {}
        },
        {
            "id": "333ef487",
            "cell_type": "code",
            "metadata": {},
            "execution_count": null,
            "source": "from scipy.signal import normalize",
            "outputs": []
        },
        {
            "id": "28e02835",
            "cell_type": "markdown",
            "source": "Normalize the coefficients of the transfer function\n``(3*s^2 - 2*s + 5) / (2*s^2 + 3*s + 1)``:\n",
            "metadata": {}
        },
        {
            "id": "7cfc4227",
            "cell_type": "code",
            "metadata": {},
            "execution_count": null,
            "source": "b = [3, -2, 5]\na = [2, 3, 1]\nnormalize(b, a)",
            "outputs": [
                {
                    "output_type": "execute_result",
                    "metadata": {},
                    "data": {
                        "text/plain": "(array([ 1.5, -1. ,  2.5]), array([1. , 1.5, 0.5]))"
                    },
                    "execution_count": null
                }
            ]
        },
        {
            "id": "f58eca19",
            "cell_type": "markdown",
            "source": "A warning is generated if, for example, the first coefficient of\n`b` is 0.  In the following example, the result is as expected:\n",
            "metadata": {}
        },
        {
            "id": "15b98436",
            "cell_type": "code",
            "metadata": {},
            "execution_count": null,
            "source": "import warnings\nwith warnings.catch_warnings(record=True) as w:\n    num, den = normalize([0, 3, 6], [2, -5, 4])",
            "outputs": []
        },
        {
            "id": "95d7aaac",
            "cell_type": "code",
            "metadata": {},
            "execution_count": null,
            "source": "num",
            "outputs": [
                {
                    "output_type": "execute_result",
                    "metadata": {},
                    "data": {
                        "text/plain": "array([1.5, 3. ])"
                    },
                    "execution_count": null
                }
            ]
        },
        {
            "id": "552e811c",
            "cell_type": "code",
            "metadata": {},
            "execution_count": null,
            "source": "den",
            "outputs": [
                {
                    "output_type": "execute_result",
                    "metadata": {},
                    "data": {
                        "text/plain": "array([ 1. , -2.5,  2. ])"
                    },
                    "execution_count": null
                }
            ]
        },
        {
            "id": "5ae6b10d",
            "cell_type": "code",
            "metadata": {},
            "execution_count": null,
            "source": "print(w[0].message)",
            "outputs": [
                {
                    "output_type": "execute_result",
                    "metadata": {},
                    "data": {
                        "text/plain": "Badly conditioned filter coefficients (numerator): the results may be meaningless"
                    },
                    "execution_count": null
                }
            ]
        }
    ]
}