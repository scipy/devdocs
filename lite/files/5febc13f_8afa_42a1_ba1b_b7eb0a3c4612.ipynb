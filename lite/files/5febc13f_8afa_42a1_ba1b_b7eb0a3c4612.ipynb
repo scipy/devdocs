{
    "nbformat": 4,
    "nbformat_minor": 5,
    "metadata": {
        "kernelspec": {
            "display_name": "Python",
            "language": "python",
            "name": "python"
        },
        "language_info": {
            "name": "python"
        }
    },
    "cells": [
        {
            "id": "f12b0222",
            "cell_type": "markdown",
            "source": "<div class='alert alert-warning'>\n\nSciPy's interactive examples with Jupyterlite are experimental and may not always work as expected. Execution of cells containing imports may result in large downloads (up to 60MB of content for the first import from SciPy). Load times when importing from SciPy may take roughly 10-20 seconds. If you notice any problems, feel free to open an [issue](https://github.com/scipy/scipy/issues/new/choose).\n\n</div>",
            "metadata": {}
        },
        {
            "id": "fdbe21d9",
            "cell_type": "markdown",
            "source": "Design an analog highpass filter such that the passband is within 3 dB\nabove 30 rad/s, while rejecting -60 dB at 10 rad/s. Plot its\nfrequency response, showing the passband and stopband constraints in gray.\n",
            "metadata": {}
        },
        {
            "id": "5dc2d091",
            "cell_type": "code",
            "metadata": {},
            "execution_count": null,
            "source": "from scipy import signal\nimport matplotlib.pyplot as plt\nimport numpy as np",
            "outputs": []
        },
        {
            "id": "0e128cf6",
            "cell_type": "code",
            "metadata": {},
            "execution_count": null,
            "source": "N, Wn = signal.ellipord(30, 10, 3, 60, True)\nb, a = signal.ellip(N, 3, 60, Wn, 'high', True)\nw, h = signal.freqs(b, a, np.logspace(0, 3, 500))\nplt.semilogx(w, 20 * np.log10(abs(h)))\nplt.title('Elliptical highpass filter fit to constraints')\nplt.xlabel('Frequency [rad/s]')\nplt.ylabel('Amplitude [dB]')\nplt.grid(which='both', axis='both')\nplt.fill([.1, 10,  10,  .1], [1e4, 1e4, -60, -60], '0.9', lw=0) # stop\nplt.fill([30, 30, 1e9, 1e9], [-99,  -3,  -3, -99], '0.9', lw=0) # pass\nplt.axis([1, 300, -80, 3])\nplt.show()",
            "outputs": []
        }
    ]
}