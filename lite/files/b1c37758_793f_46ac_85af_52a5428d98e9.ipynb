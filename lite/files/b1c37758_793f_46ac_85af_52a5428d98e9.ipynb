{
    "nbformat": 4,
    "nbformat_minor": 5,
    "metadata": {
        "kernelspec": {
            "display_name": "Python",
            "language": "python",
            "name": "python"
        },
        "language_info": {
            "name": "python"
        }
    },
    "cells": [
        {
            "id": "1f1e983b",
            "cell_type": "markdown",
            "source": "<div class='alert alert-warning'>\n\nSciPy's interactive examples with Jupyterlite are experimental and may not always work as expected. Execution of cells containing imports may result in large downloads (up to 60MB of content for the first import from SciPy). Load times when importing from SciPy may take roughly 10-20 seconds. If you notice any problems, feel free to open an [issue](https://github.com/scipy/scipy/issues/new/choose).\n\n</div>",
            "metadata": {}
        },
        {
            "id": "33892263",
            "cell_type": "code",
            "metadata": {},
            "execution_count": null,
            "source": "import numpy as np\na = np.array([[1, 2, 0, 0],\n              [5, 3, 0, 4],\n              [0, 0, 0, 7],\n              [9, 3, 0, 0]])\nfrom scipy import ndimage\nndimage.variance(a)",
            "outputs": [
                {
                    "output_type": "execute_result",
                    "metadata": {},
                    "data": {
                        "text/plain": "7.609375"
                    },
                    "execution_count": null
                }
            ]
        },
        {
            "id": "69250164",
            "cell_type": "markdown",
            "source": "Features to process can be specified using `labels` and `index`:\n",
            "metadata": {}
        },
        {
            "id": "5679f4bb",
            "cell_type": "code",
            "metadata": {},
            "execution_count": null,
            "source": "lbl, nlbl = ndimage.label(a)\nndimage.variance(a, lbl, index=np.arange(1, nlbl+1))",
            "outputs": [
                {
                    "output_type": "execute_result",
                    "metadata": {},
                    "data": {
                        "text/plain": "array([ 2.1875,  2.25  ,  9.    ])"
                    },
                    "execution_count": null
                }
            ]
        },
        {
            "id": "b6afb1e4",
            "cell_type": "markdown",
            "source": "If no index is given, all non-zero `labels` are processed:\n",
            "metadata": {}
        },
        {
            "id": "af154a76",
            "cell_type": "code",
            "metadata": {},
            "execution_count": null,
            "source": "ndimage.variance(a, lbl)",
            "outputs": [
                {
                    "output_type": "execute_result",
                    "metadata": {},
                    "data": {
                        "text/plain": "6.1875"
                    },
                    "execution_count": null
                }
            ]
        }
    ]
}