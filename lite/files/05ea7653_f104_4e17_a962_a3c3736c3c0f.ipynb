{
    "nbformat": 4,
    "nbformat_minor": 5,
    "metadata": {
        "kernelspec": {
            "display_name": "Python",
            "language": "python",
            "name": "python"
        },
        "language_info": {
            "name": "python"
        }
    },
    "cells": [
        {
            "id": "6936d1c1",
            "cell_type": "markdown",
            "source": "<div class='alert alert-warning'>\n\nSciPy's interactive examples with Jupyterlite are experimental and may not always work as expected. Execution of cells containing imports may result in large downloads (up to 60MB of content for the first import from SciPy). Load times when importing from SciPy may take roughly 10-20 seconds. If you notice any problems, feel free to open an [issue](https://github.com/scipy/scipy/issues/new/choose).\n\n</div>",
            "metadata": {}
        },
        {
            "id": "50e9f406",
            "cell_type": "markdown",
            "source": "The following example is a 10-D problem, with many local minima.\nThe function involved is called Rastrigin\n(https://en.wikipedia.org/wiki/Rastrigin_function)\n",
            "metadata": {}
        },
        {
            "id": "ccefbde8",
            "cell_type": "code",
            "metadata": {},
            "execution_count": null,
            "source": "import numpy as np\nfrom scipy.optimize import dual_annealing\nfunc = lambda x: np.sum(x*x - 10*np.cos(2*np.pi*x)) + 10*np.size(x)\nlw = [-5.12] * 10\nup = [5.12] * 10\nret = dual_annealing(func, bounds=list(zip(lw, up)))\nret.x",
            "outputs": [
                {
                    "output_type": "execute_result",
                    "metadata": {},
                    "data": {
                        "text/plain": "array([-4.26437714e-09, -3.91699361e-09, -1.86149218e-09, -3.97165720e-09,\n       -6.29151648e-09, -6.53145322e-09, -3.93616815e-09, -6.55623025e-09,\n       -6.05775280e-09, -5.00668935e-09]) # random"
                    },
                    "execution_count": null
                }
            ]
        },
        {
            "id": "5797cb05",
            "cell_type": "code",
            "metadata": {},
            "execution_count": null,
            "source": "ret.fun",
            "outputs": [
                {
                    "output_type": "execute_result",
                    "metadata": {},
                    "data": {
                        "text/plain": "0.000000"
                    },
                    "execution_count": null
                }
            ]
        }
    ]
}