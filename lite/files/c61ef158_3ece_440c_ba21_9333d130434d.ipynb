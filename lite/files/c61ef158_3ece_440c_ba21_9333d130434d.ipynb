{
    "nbformat": 4,
    "nbformat_minor": 5,
    "metadata": {
        "kernelspec": {
            "display_name": "Python",
            "language": "python",
            "name": "python"
        },
        "language_info": {
            "name": "python"
        }
    },
    "cells": [
        {
            "id": "dd625de1",
            "cell_type": "markdown",
            "source": "<div class='alert alert-warning'>\n\nSciPy's interactive examples with Jupyterlite are experimental and may not always work as expected. Execution of cells containing imports may result in large downloads (up to 60MB of content for the first import from SciPy). Load times when importing from SciPy may take roughly 10-20 seconds. If you notice any problems, feel free to open an [issue](https://github.com/scipy/scipy/issues/new/choose).\n\n</div>",
            "metadata": {}
        },
        {
            "id": "2ad89e28",
            "cell_type": "code",
            "metadata": {},
            "execution_count": null,
            "source": "import numpy as np\nfrom scipy.cluster.vq import whiten\nfeatures  = np.array([[1.9, 2.3, 1.7],\n                      [1.5, 2.5, 2.2],\n                      [0.8, 0.6, 1.7,]])\nwhiten(features)",
            "outputs": [
                {
                    "output_type": "execute_result",
                    "metadata": {},
                    "data": {
                        "text/plain": "array([[ 4.17944278,  2.69811351,  7.21248917],\n       [ 3.29956009,  2.93273208,  9.33380951],\n       [ 1.75976538,  0.7038557 ,  7.21248917]])"
                    },
                    "execution_count": null
                }
            ]
        }
    ]
}