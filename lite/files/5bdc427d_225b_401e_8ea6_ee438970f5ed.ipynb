{
    "nbformat": 4,
    "nbformat_minor": 5,
    "metadata": {
        "kernelspec": {
            "display_name": "Python",
            "language": "python",
            "name": "python"
        },
        "language_info": {
            "name": "python"
        }
    },
    "cells": [
        {
            "id": "5a425fbe",
            "cell_type": "markdown",
            "source": "<div class='alert alert-warning'>\n\nSciPy's interactive examples with Jupyterlite are experimental and may not always work as expected. Execution of cells containing imports may result in large downloads (up to 60MB of content for the first import from SciPy). Load times when importing from SciPy may take roughly 10-20 seconds. If you notice any problems, feel free to open an [issue](https://github.com/scipy/scipy/issues/new/choose).\n\n</div>",
            "metadata": {}
        },
        {
            "id": "63b852c5",
            "cell_type": "code",
            "metadata": {},
            "execution_count": null,
            "source": "from scipy import integrate\nimport numpy as np\nx = np.arange(0, 10)\ny = np.arange(0, 10)",
            "outputs": []
        },
        {
            "id": "4131dc75",
            "cell_type": "code",
            "metadata": {},
            "execution_count": null,
            "source": "integrate.simpson(y, x=x)",
            "outputs": [
                {
                    "output_type": "execute_result",
                    "metadata": {},
                    "data": {
                        "text/plain": "40.5"
                    },
                    "execution_count": null
                }
            ]
        },
        {
            "id": "74e25814",
            "cell_type": "code",
            "metadata": {},
            "execution_count": null,
            "source": "y = np.power(x, 3)\nintegrate.simpson(y, x=x)",
            "outputs": [
                {
                    "output_type": "execute_result",
                    "metadata": {},
                    "data": {
                        "text/plain": "1640.5"
                    },
                    "execution_count": null
                }
            ]
        },
        {
            "id": "84da0ba5",
            "cell_type": "code",
            "metadata": {},
            "execution_count": null,
            "source": "integrate.quad(lambda x: x**3, 0, 9)[0]",
            "outputs": [
                {
                    "output_type": "execute_result",
                    "metadata": {},
                    "data": {
                        "text/plain": "1640.25"
                    },
                    "execution_count": null
                }
            ]
        }
    ]
}