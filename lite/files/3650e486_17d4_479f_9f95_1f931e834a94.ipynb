{
    "nbformat": 4,
    "nbformat_minor": 5,
    "metadata": {
        "kernelspec": {
            "display_name": "Python",
            "language": "python",
            "name": "python"
        },
        "language_info": {
            "name": "python"
        }
    },
    "cells": [
        {
            "id": "0ce3cf2a",
            "cell_type": "markdown",
            "source": "<div class='alert alert-warning'>\n\nSciPy's interactive examples with Jupyterlite are experimental and may not always work as expected. Execution of cells containing imports may result in large downloads (up to 60MB of content for the first import from SciPy). Load times when importing from SciPy may take roughly 10-20 seconds. If you notice any problems, feel free to open an [issue](https://github.com/scipy/scipy/issues/new/choose).\n\n</div>",
            "metadata": {}
        },
        {
            "id": "30e8d63f",
            "cell_type": "markdown",
            "source": "To create a NetCDF file:\n",
            "metadata": {}
        },
        {
            "id": "eef99f5f",
            "cell_type": "code",
            "metadata": {},
            "execution_count": null,
            "source": "from scipy.io import netcdf_file\nimport numpy as np\nf = netcdf_file('simple.nc', 'w')\nf.history = 'Created for a test'\nf.createDimension('time', 10)\ntime = f.createVariable('time', 'i', ('time',))\ntime[:] = np.arange(10)\ntime.units = 'days since 2008-01-01'\nf.close()",
            "outputs": []
        },
        {
            "id": "8df2bc11",
            "cell_type": "markdown",
            "source": "Note the assignment of ``arange(10)`` to ``time[:]``.  Exposing the slice\nof the time variable allows for the data to be set in the object, rather\nthan letting ``arange(10)`` overwrite the ``time`` variable.\n\nTo read the NetCDF file we just created:\n",
            "metadata": {}
        },
        {
            "id": "586aa978",
            "cell_type": "code",
            "metadata": {},
            "execution_count": null,
            "source": "from scipy.io import netcdf_file\nf = netcdf_file('simple.nc', 'r')\nprint(f.history)",
            "outputs": [
                {
                    "output_type": "execute_result",
                    "metadata": {},
                    "data": {
                        "text/plain": "b'Created for a test'"
                    },
                    "execution_count": null
                }
            ]
        },
        {
            "id": "49f5abb5",
            "cell_type": "code",
            "metadata": {},
            "execution_count": null,
            "source": "time = f.variables['time']\nprint(time.units)",
            "outputs": [
                {
                    "output_type": "execute_result",
                    "metadata": {},
                    "data": {
                        "text/plain": "b'days since 2008-01-01'"
                    },
                    "execution_count": null
                }
            ]
        },
        {
            "id": "2ee1a7ed",
            "cell_type": "code",
            "metadata": {},
            "execution_count": null,
            "source": "print(time.shape)",
            "outputs": [
                {
                    "output_type": "execute_result",
                    "metadata": {},
                    "data": {
                        "text/plain": "(10,)"
                    },
                    "execution_count": null
                }
            ]
        },
        {
            "id": "e1f0b59c",
            "cell_type": "code",
            "metadata": {},
            "execution_count": null,
            "source": "print(time[-1])",
            "outputs": [
                {
                    "output_type": "execute_result",
                    "metadata": {},
                    "data": {
                        "text/plain": "9"
                    },
                    "execution_count": null
                }
            ]
        },
        {
            "id": "ad3b55fa",
            "cell_type": "markdown",
            "source": "NetCDF files, when opened read-only, return arrays that refer\ndirectly to memory-mapped data on disk:\n",
            "metadata": {}
        },
        {
            "id": "f41d0427",
            "cell_type": "code",
            "metadata": {},
            "execution_count": null,
            "source": "data = time[:]",
            "outputs": []
        },
        {
            "id": "35a5c4f0",
            "cell_type": "markdown",
            "source": "If the data is to be processed after the file is closed, it needs\nto be copied to main memory:\n",
            "metadata": {}
        },
        {
            "id": "399723c5",
            "cell_type": "code",
            "metadata": {},
            "execution_count": null,
            "source": "data = time[:].copy()\ndel time\nf.close()\ndata.mean()",
            "outputs": [
                {
                    "output_type": "execute_result",
                    "metadata": {},
                    "data": {
                        "text/plain": "4.5"
                    },
                    "execution_count": null
                }
            ]
        },
        {
            "id": "d43925c0",
            "cell_type": "markdown",
            "source": "A NetCDF file can also be used as context manager:\n",
            "metadata": {}
        },
        {
            "id": "0ba58815",
            "cell_type": "code",
            "metadata": {},
            "execution_count": null,
            "source": "from scipy.io import netcdf_file\nwith netcdf_file('simple.nc', 'r') as f:\n    print(f.history)",
            "outputs": [
                {
                    "output_type": "execute_result",
                    "metadata": {},
                    "data": {
                        "text/plain": "b'Created for a test'"
                    },
                    "execution_count": null
                }
            ]
        }
    ]
}