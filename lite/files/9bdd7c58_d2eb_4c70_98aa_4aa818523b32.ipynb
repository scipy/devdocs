{
    "nbformat": 4,
    "nbformat_minor": 5,
    "metadata": {
        "kernelspec": {
            "display_name": "Python",
            "language": "python",
            "name": "python"
        },
        "language_info": {
            "name": "python"
        }
    },
    "cells": [
        {
            "id": "14d6bd04",
            "cell_type": "markdown",
            "source": "<div class='alert alert-warning'>\n\nSciPy's interactive examples with Jupyterlite are experimental and may not always work as expected. Execution of cells containing imports may result in large downloads (up to 60MB of content for the first import from SciPy). Load times when importing from SciPy may take roughly 10-20 seconds. If you notice any problems, feel free to open an [issue](https://github.com/scipy/scipy/issues/new/choose).\n\n</div>",
            "metadata": {}
        },
        {
            "id": "f628628b",
            "cell_type": "code",
            "metadata": {},
            "execution_count": null,
            "source": "from scipy import stats\nx = [1, 3, 5, 7, 9]\ny = [2, 4, 6, 8, 10]\nstats.kruskal(x, y)",
            "outputs": [
                {
                    "output_type": "execute_result",
                    "metadata": {},
                    "data": {
                        "text/plain": "KruskalResult(statistic=0.2727272727272734, pvalue=0.6015081344405895)"
                    },
                    "execution_count": null
                }
            ]
        },
        {
            "id": "44287dc6",
            "cell_type": "code",
            "metadata": {},
            "execution_count": null,
            "source": "x = [1, 1, 1]\ny = [2, 2, 2]\nz = [2, 2]\nstats.kruskal(x, y, z)",
            "outputs": [
                {
                    "output_type": "execute_result",
                    "metadata": {},
                    "data": {
                        "text/plain": "KruskalResult(statistic=7.0, pvalue=0.0301973834223185)"
                    },
                    "execution_count": null
                }
            ]
        }
    ]
}