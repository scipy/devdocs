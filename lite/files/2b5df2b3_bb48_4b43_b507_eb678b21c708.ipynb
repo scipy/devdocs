{
    "nbformat": 4,
    "nbformat_minor": 5,
    "metadata": {
        "kernelspec": {
            "display_name": "Python",
            "language": "python",
            "name": "python"
        },
        "language_info": {
            "name": "python"
        }
    },
    "cells": [
        {
            "id": "a618223d",
            "cell_type": "markdown",
            "source": "<div class='alert alert-warning'>\n\nSciPy's interactive examples with Jupyterlite are experimental and may not always work as expected. Execution of cells containing imports may result in large downloads (up to 60MB of content for the first import from SciPy). Load times when importing from SciPy may take roughly 10-20 seconds. If you notice any problems, feel free to open an [issue](https://github.com/scipy/scipy/issues/new/choose).\n\n</div>",
            "metadata": {}
        },
        {
            "id": "5117f6c9",
            "cell_type": "code",
            "metadata": {},
            "execution_count": null,
            "source": "from scipy import signal\nimport numpy as np\ntaps, f_c = 80, 1.0  # number of taps and cut-off frequency\nb = signal.firwin(taps, f_c, window=('kaiser', 8), fs=2*np.pi)\nw, h = signal.freqz(b)",
            "outputs": []
        },
        {
            "id": "2b8ec059",
            "cell_type": "code",
            "metadata": {},
            "execution_count": null,
            "source": "import matplotlib.pyplot as plt\nfig, ax1 = plt.subplots(tight_layout=True)\nax1.set_title(f\"Frequency Response of {taps} tap FIR Filter\" +\n              f\"($f_c={f_c}$ rad/sample)\")\nax1.axvline(f_c, color='black', linestyle=':', linewidth=0.8)\nax1.plot(w, 20 * np.log10(abs(h)), 'C0')\nax1.set_ylabel(\"Amplitude in dB\", color='C0')\nax1.set(xlabel=\"Frequency in rad/sample\", xlim=(0, np.pi))",
            "outputs": []
        },
        {
            "id": "af80ea83",
            "cell_type": "code",
            "metadata": {},
            "execution_count": null,
            "source": "ax2 = ax1.twinx()\nphase = np.unwrap(np.angle(h))\nax2.plot(w, phase, 'C1')\nax2.set_ylabel('Phase [rad]', color='C1')\nax2.grid(True)\nax2.axis('tight')\nplt.show()",
            "outputs": []
        },
        {
            "id": "f3a12bcc",
            "cell_type": "markdown",
            "source": "Broadcasting Examples\n\nSuppose we have two FIR filters whose coefficients are stored in the\nrows of an array with shape (2, 25). For this demonstration, we'll\nuse random data:\n",
            "metadata": {}
        },
        {
            "id": "c9c96639",
            "cell_type": "code",
            "metadata": {},
            "execution_count": null,
            "source": "rng = np.random.default_rng()\nb = rng.random((2, 25))",
            "outputs": []
        },
        {
            "id": "9f0b8fee",
            "cell_type": "markdown",
            "source": "To compute the frequency response for these two filters with one call\nto `freqz`, we must pass in ``b.T``, because `freqz` expects the first\naxis to hold the coefficients. We must then extend the shape with a\ntrivial dimension of length 1 to allow broadcasting with the array\nof frequencies.  That is, we pass in ``b.T[..., np.newaxis]``, which has\nshape (25, 2, 1):\n",
            "metadata": {}
        },
        {
            "id": "35adc123",
            "cell_type": "code",
            "metadata": {},
            "execution_count": null,
            "source": "w, h = signal.freqz(b.T[..., np.newaxis], worN=1024)\nw.shape",
            "outputs": [
                {
                    "output_type": "execute_result",
                    "metadata": {},
                    "data": {
                        "text/plain": "(1024,)"
                    },
                    "execution_count": null
                }
            ]
        },
        {
            "id": "d9d07b18",
            "cell_type": "code",
            "metadata": {},
            "execution_count": null,
            "source": "h.shape",
            "outputs": [
                {
                    "output_type": "execute_result",
                    "metadata": {},
                    "data": {
                        "text/plain": "(2, 1024)"
                    },
                    "execution_count": null
                }
            ]
        },
        {
            "id": "c33dfcd7",
            "cell_type": "markdown",
            "source": "Now, suppose we have two transfer functions, with the same numerator\ncoefficients ``b = [0.5, 0.5]``. The coefficients for the two denominators\nare stored in the first dimension of the 2-D array  `a`\n```\n\na = [   1      1  ]\n[ -0.25, -0.5 ]\n\n```",
            "metadata": {}
        },
        {
            "id": "42ddb2f3",
            "cell_type": "code",
            "metadata": {},
            "execution_count": null,
            "source": "b = np.array([0.5, 0.5])\na = np.array([[1, 1], [-0.25, -0.5]])",
            "outputs": []
        },
        {
            "id": "421795d3",
            "cell_type": "markdown",
            "source": "Only `a` is more than 1-D. To make it compatible for\nbroadcasting with the frequencies, we extend it with a trivial dimension\nin the call to `freqz`:\n",
            "metadata": {}
        },
        {
            "id": "300c0978",
            "cell_type": "code",
            "metadata": {},
            "execution_count": null,
            "source": "w, h = signal.freqz(b, a[..., np.newaxis], worN=1024)\nw.shape",
            "outputs": [
                {
                    "output_type": "execute_result",
                    "metadata": {},
                    "data": {
                        "text/plain": "(1024,)"
                    },
                    "execution_count": null
                }
            ]
        },
        {
            "id": "169a3ad2",
            "cell_type": "code",
            "metadata": {},
            "execution_count": null,
            "source": "h.shape",
            "outputs": [
                {
                    "output_type": "execute_result",
                    "metadata": {},
                    "data": {
                        "text/plain": "(2, 1024)"
                    },
                    "execution_count": null
                }
            ]
        }
    ]
}