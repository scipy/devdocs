{
    "nbformat": 4,
    "nbformat_minor": 5,
    "metadata": {
        "kernelspec": {
            "display_name": "Python",
            "language": "python",
            "name": "python"
        },
        "language_info": {
            "name": "python"
        }
    },
    "cells": [
        {
            "id": "19129212",
            "cell_type": "markdown",
            "source": "<div class='alert alert-warning'>\n\nSciPy's interactive examples with Jupyterlite are experimental and may not always work as expected. Execution of cells containing imports may result in large downloads (up to 60MB of content for the first import from SciPy). Load times when importing from SciPy may take roughly 10-20 seconds. If you notice any problems, feel free to open an [issue](https://github.com/scipy/scipy/issues/new/choose).\n\n</div>",
            "metadata": {}
        },
        {
            "id": "1c144758",
            "cell_type": "code",
            "metadata": {},
            "execution_count": null,
            "source": "import numpy as np\nimport scipy.special as sc",
            "outputs": []
        },
        {
            "id": "07346dc9",
            "cell_type": "markdown",
            "source": "Its domain is nonnegative n and x.\n",
            "metadata": {}
        },
        {
            "id": "109d7627",
            "cell_type": "code",
            "metadata": {},
            "execution_count": null,
            "source": "sc.expn(-1, 1.0), sc.expn(1, -1.0)",
            "outputs": [
                {
                    "output_type": "execute_result",
                    "metadata": {},
                    "data": {
                        "text/plain": "(nan, nan)"
                    },
                    "execution_count": null
                }
            ]
        },
        {
            "id": "a790e8cc",
            "cell_type": "markdown",
            "source": "It has a pole at ``x = 0`` for ``n = 1, 2``; for larger ``n`` it\nis equal to ``1 / (n - 1)``.\n",
            "metadata": {}
        },
        {
            "id": "5f2cdd46",
            "cell_type": "code",
            "metadata": {},
            "execution_count": null,
            "source": "sc.expn([0, 1, 2, 3, 4], 0)",
            "outputs": [
                {
                    "output_type": "execute_result",
                    "metadata": {},
                    "data": {
                        "text/plain": "array([       inf,        inf, 1.        , 0.5       , 0.33333333])"
                    },
                    "execution_count": null
                }
            ]
        },
        {
            "id": "6325ead9",
            "cell_type": "markdown",
            "source": "For n equal to 0 it reduces to ``exp(-x) / x``.\n",
            "metadata": {}
        },
        {
            "id": "d1ee8826",
            "cell_type": "code",
            "metadata": {},
            "execution_count": null,
            "source": "x = np.array([1, 2, 3, 4])\nsc.expn(0, x)",
            "outputs": [
                {
                    "output_type": "execute_result",
                    "metadata": {},
                    "data": {
                        "text/plain": "array([0.36787944, 0.06766764, 0.01659569, 0.00457891])"
                    },
                    "execution_count": null
                }
            ]
        },
        {
            "id": "d018a594",
            "cell_type": "code",
            "metadata": {},
            "execution_count": null,
            "source": "np.exp(-x) / x",
            "outputs": [
                {
                    "output_type": "execute_result",
                    "metadata": {},
                    "data": {
                        "text/plain": "array([0.36787944, 0.06766764, 0.01659569, 0.00457891])"
                    },
                    "execution_count": null
                }
            ]
        },
        {
            "id": "504a1bd7",
            "cell_type": "markdown",
            "source": "For n equal to 1 it reduces to `exp1`.\n",
            "metadata": {}
        },
        {
            "id": "893601ea",
            "cell_type": "code",
            "metadata": {},
            "execution_count": null,
            "source": "sc.expn(1, x)",
            "outputs": [
                {
                    "output_type": "execute_result",
                    "metadata": {},
                    "data": {
                        "text/plain": "array([0.21938393, 0.04890051, 0.01304838, 0.00377935])"
                    },
                    "execution_count": null
                }
            ]
        },
        {
            "id": "374afa4b",
            "cell_type": "code",
            "metadata": {},
            "execution_count": null,
            "source": "sc.exp1(x)",
            "outputs": [
                {
                    "output_type": "execute_result",
                    "metadata": {},
                    "data": {
                        "text/plain": "array([0.21938393, 0.04890051, 0.01304838, 0.00377935])"
                    },
                    "execution_count": null
                }
            ]
        }
    ]
}