{
    "nbformat": 4,
    "nbformat_minor": 5,
    "metadata": {
        "kernelspec": {
            "display_name": "Python",
            "language": "python",
            "name": "python"
        },
        "language_info": {
            "name": "python"
        }
    },
    "cells": [
        {
            "id": "384e9219",
            "cell_type": "markdown",
            "source": "<div class='alert alert-warning'>\n\nSciPy's interactive examples with Jupyterlite are experimental and may not always work as expected. Execution of cells containing imports may result in large downloads (up to 60MB of content for the first import from SciPy). Load times when importing from SciPy may take roughly 10-20 seconds. If you notice any problems, feel free to open an [issue](https://github.com/scipy/scipy/issues/new/choose).\n\n</div>",
            "metadata": {}
        },
        {
            "id": "90c33a00",
            "cell_type": "code",
            "metadata": {},
            "execution_count": null,
            "source": "import numpy as np\nfrom scipy.spatial.transform import Rotation as R",
            "outputs": []
        },
        {
            "id": "7e2f261e",
            "cell_type": "markdown",
            "source": "Here we run the baseline Kabsch algorithm to best align two sets of\nvectors, where there is noise on the last two vector measurements of\nthe ``b`` set:\n",
            "metadata": {}
        },
        {
            "id": "9536ab32",
            "cell_type": "code",
            "metadata": {},
            "execution_count": null,
            "source": "a = [[0, 1, 0], [0, 1, 1], [0, 1, 1]]\nb = [[1, 0, 0], [1, 1.1, 0], [1, 0.9, 0]]\nrot, rssd, sens = R.align_vectors(a, b, return_sensitivity=True)\nrot.as_matrix()",
            "outputs": [
                {
                    "output_type": "execute_result",
                    "metadata": {},
                    "data": {
                        "text/plain": "array([[0., 0., 1.],\n       [1., 0., 0.],\n       [0., 1., 0.]])"
                    },
                    "execution_count": null
                }
            ]
        },
        {
            "id": "6f1a0be0",
            "cell_type": "markdown",
            "source": "When we apply the rotation to ``b``, we get vectors close to ``a``:\n",
            "metadata": {}
        },
        {
            "id": "87dbb54e",
            "cell_type": "code",
            "metadata": {},
            "execution_count": null,
            "source": "rot.apply(b)",
            "outputs": [
                {
                    "output_type": "execute_result",
                    "metadata": {},
                    "data": {
                        "text/plain": "array([[0. , 1. , 0. ],\n       [0. , 1. , 1.1],\n       [0. , 1. , 0.9]])"
                    },
                    "execution_count": null
                }
            ]
        },
        {
            "id": "d2ac4eab",
            "cell_type": "markdown",
            "source": "The error for the first vector is 0, and for the last two the error is\nmagnitude 0.1. The `rssd` is the square root of the sum of the\nweighted squared errors, and the default weights are all 1, so in this\ncase the `rssd` is calculated as\n``sqrt(1 * 0**2 + 1 * 0.1**2 + 1 * (-0.1)**2) = 0.141421356237308``\n",
            "metadata": {}
        },
        {
            "id": "a5617601",
            "cell_type": "code",
            "metadata": {},
            "execution_count": null,
            "source": "a - rot.apply(b)",
            "outputs": [
                {
                    "output_type": "execute_result",
                    "metadata": {},
                    "data": {
                        "text/plain": "array([[ 0., 0.,  0. ],\n       [ 0., 0., -0.1],\n       [ 0., 0.,  0.1]])"
                    },
                    "execution_count": null
                }
            ]
        },
        {
            "id": "04d529ef",
            "cell_type": "code",
            "metadata": {},
            "execution_count": null,
            "source": "np.sqrt(np.sum(np.ones(3) @ (a - rot.apply(b))**2))",
            "outputs": [
                {
                    "output_type": "execute_result",
                    "metadata": {},
                    "data": {
                        "text/plain": "0.141421356237308"
                    },
                    "execution_count": null
                }
            ]
        },
        {
            "id": "b7ca71b9",
            "cell_type": "code",
            "metadata": {},
            "execution_count": null,
            "source": "rssd",
            "outputs": [
                {
                    "output_type": "execute_result",
                    "metadata": {},
                    "data": {
                        "text/plain": "0.141421356237308"
                    },
                    "execution_count": null
                }
            ]
        },
        {
            "id": "b880c7dc",
            "cell_type": "markdown",
            "source": "The sensitivity matrix for this example is as follows:\n",
            "metadata": {}
        },
        {
            "id": "22182fb5",
            "cell_type": "code",
            "metadata": {},
            "execution_count": null,
            "source": "sens",
            "outputs": [
                {
                    "output_type": "execute_result",
                    "metadata": {},
                    "data": {
                        "text/plain": "array([[0.2, 0. , 0.],\n       [0. , 1.5, 1.],\n       [0. , 1. , 1.]])"
                    },
                    "execution_count": null
                }
            ]
        },
        {
            "id": "a29bb61f",
            "cell_type": "markdown",
            "source": "Special case 1: Find a minimum rotation between single vectors:\n",
            "metadata": {}
        },
        {
            "id": "13dcbc49",
            "cell_type": "code",
            "metadata": {},
            "execution_count": null,
            "source": "a = [1, 0, 0]\nb = [0, 1, 0]\nrot, _ = R.align_vectors(a, b)\nrot.as_matrix()",
            "outputs": [
                {
                    "output_type": "execute_result",
                    "metadata": {},
                    "data": {
                        "text/plain": "array([[0., 1., 0.],\n       [-1., 0., 0.],\n       [0., 0., 1.]])"
                    },
                    "execution_count": null
                }
            ]
        },
        {
            "id": "726c219d",
            "cell_type": "code",
            "metadata": {},
            "execution_count": null,
            "source": "rot.apply(b)",
            "outputs": [
                {
                    "output_type": "execute_result",
                    "metadata": {},
                    "data": {
                        "text/plain": "array([1., 0., 0.])"
                    },
                    "execution_count": null
                }
            ]
        },
        {
            "id": "2072d0cc",
            "cell_type": "markdown",
            "source": "Special case 2: One infinite weight. Here we find a rotation between\nprimary and secondary vectors that can align exactly:\n",
            "metadata": {}
        },
        {
            "id": "20701468",
            "cell_type": "code",
            "metadata": {},
            "execution_count": null,
            "source": "a = [[0, 1, 0], [0, 1, 1]]\nb = [[1, 0, 0], [1, 1, 0]]\nrot, _ = R.align_vectors(a, b, weights=[np.inf, 1])\nrot.as_matrix()",
            "outputs": [
                {
                    "output_type": "execute_result",
                    "metadata": {},
                    "data": {
                        "text/plain": "array([[0., 0., 1.],\n       [1., 0., 0.],\n       [0., 1., 0.]])"
                    },
                    "execution_count": null
                }
            ]
        },
        {
            "id": "149656e5",
            "cell_type": "code",
            "metadata": {},
            "execution_count": null,
            "source": "rot.apply(b)",
            "outputs": [
                {
                    "output_type": "execute_result",
                    "metadata": {},
                    "data": {
                        "text/plain": "array([[0., 1., 0.],\n       [0., 1., 1.]])"
                    },
                    "execution_count": null
                }
            ]
        },
        {
            "id": "8fb805ab",
            "cell_type": "markdown",
            "source": "Here the secondary vectors must be best-fit:\n",
            "metadata": {}
        },
        {
            "id": "f3b68eb1",
            "cell_type": "code",
            "metadata": {},
            "execution_count": null,
            "source": "a = [[0, 1, 0], [0, 1, 1]]\nb = [[1, 0, 0], [1, 2, 0]]\nrot, _ = R.align_vectors(a, b, weights=[np.inf, 1])\nrot.as_matrix()",
            "outputs": [
                {
                    "output_type": "execute_result",
                    "metadata": {},
                    "data": {
                        "text/plain": "array([[0., 0., 1.],\n       [1., 0., 0.],\n       [0., 1., 0.]])"
                    },
                    "execution_count": null
                }
            ]
        },
        {
            "id": "9f1e9c4d",
            "cell_type": "code",
            "metadata": {},
            "execution_count": null,
            "source": "rot.apply(b)",
            "outputs": [
                {
                    "output_type": "execute_result",
                    "metadata": {},
                    "data": {
                        "text/plain": "array([[0., 1., 0.],\n       [0., 1., 2.]])"
                    },
                    "execution_count": null
                }
            ]
        }
    ]
}