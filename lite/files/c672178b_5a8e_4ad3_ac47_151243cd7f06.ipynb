{
    "nbformat": 4,
    "nbformat_minor": 5,
    "metadata": {
        "kernelspec": {
            "display_name": "Python",
            "language": "python",
            "name": "python"
        },
        "language_info": {
            "name": "python"
        }
    },
    "cells": [
        {
            "id": "bc14c474",
            "cell_type": "markdown",
            "source": "<div class='alert alert-warning'>\n\nSciPy's interactive examples with Jupyterlite are experimental and may not always work as expected. Execution of cells containing imports may result in large downloads (up to 60MB of content for the first import from SciPy). Load times when importing from SciPy may take roughly 10-20 seconds. If you notice any problems, feel free to open an [issue](https://github.com/scipy/scipy/issues/new/choose).\n\n</div>",
            "metadata": {}
        },
        {
            "id": "06a50bf4",
            "cell_type": "markdown",
            "source": "Compute the first four roots of $Y_2$.\n",
            "metadata": {}
        },
        {
            "id": "8a1a23a8",
            "cell_type": "code",
            "metadata": {},
            "execution_count": null,
            "source": "from scipy.special import yn_zeros\nyn_zeros(2, 4)",
            "outputs": [
                {
                    "output_type": "execute_result",
                    "metadata": {},
                    "data": {
                        "text/plain": "array([ 3.38424177,  6.79380751, 10.02347798, 13.20998671])"
                    },
                    "execution_count": null
                }
            ]
        },
        {
            "id": "d72873b0",
            "cell_type": "markdown",
            "source": "Plot $Y_2$ and its first four roots.\n",
            "metadata": {}
        },
        {
            "id": "2de98475",
            "cell_type": "code",
            "metadata": {},
            "execution_count": null,
            "source": "import numpy as np\nimport matplotlib.pyplot as plt\nfrom scipy.special import yn, yn_zeros\nxmin = 2\nxmax = 15\nx = np.linspace(xmin, xmax, 500)\nfig, ax = plt.subplots()\nax.hlines(0, xmin, xmax, color='k')\nax.plot(x, yn(2, x), label=r'$Y_2$')\nax.scatter(yn_zeros(2, 4), np.zeros((4, )), s=30, c='r',\n           label='Roots', zorder=5)\nax.set_ylim(-0.4, 0.4)\nax.set_xlim(xmin, xmax)\nplt.legend()\nplt.show()",
            "outputs": []
        }
    ]
}