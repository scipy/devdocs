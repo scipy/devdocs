{
    "nbformat": 4,
    "nbformat_minor": 5,
    "metadata": {
        "kernelspec": {
            "display_name": "Python",
            "language": "python",
            "name": "python"
        },
        "language_info": {
            "name": "python"
        }
    },
    "cells": [
        {
            "id": "565675ea",
            "cell_type": "markdown",
            "source": "<div class='alert alert-warning'>\n\nSciPy's interactive examples with Jupyterlite are experimental and may not always work as expected. Execution of cells containing imports may result in large downloads (up to 60MB of content for the first import from SciPy). Load times when importing from SciPy may take roughly 10-20 seconds. If you notice any problems, feel free to open an [issue](https://github.com/scipy/scipy/issues/new/choose).\n\n</div>",
            "metadata": {}
        },
        {
            "id": "2b5e7288",
            "cell_type": "code",
            "metadata": {},
            "execution_count": null,
            "source": "import numpy as np\nfrom scipy.stats import rankdata\nrankdata([0, 2, 3, 2])",
            "outputs": [
                {
                    "output_type": "execute_result",
                    "metadata": {},
                    "data": {
                        "text/plain": "array([ 1. ,  2.5,  4. ,  2.5])"
                    },
                    "execution_count": null
                }
            ]
        },
        {
            "id": "8cfcac0d",
            "cell_type": "code",
            "metadata": {},
            "execution_count": null,
            "source": "rankdata([0, 2, 3, 2], method='min')",
            "outputs": [
                {
                    "output_type": "execute_result",
                    "metadata": {},
                    "data": {
                        "text/plain": "array([ 1,  2,  4,  2])"
                    },
                    "execution_count": null
                }
            ]
        },
        {
            "id": "07463355",
            "cell_type": "code",
            "metadata": {},
            "execution_count": null,
            "source": "rankdata([0, 2, 3, 2], method='max')",
            "outputs": [
                {
                    "output_type": "execute_result",
                    "metadata": {},
                    "data": {
                        "text/plain": "array([ 1,  3,  4,  3])"
                    },
                    "execution_count": null
                }
            ]
        },
        {
            "id": "6efe3a00",
            "cell_type": "code",
            "metadata": {},
            "execution_count": null,
            "source": "rankdata([0, 2, 3, 2], method='dense')",
            "outputs": [
                {
                    "output_type": "execute_result",
                    "metadata": {},
                    "data": {
                        "text/plain": "array([ 1,  2,  3,  2])"
                    },
                    "execution_count": null
                }
            ]
        },
        {
            "id": "cabe0c59",
            "cell_type": "code",
            "metadata": {},
            "execution_count": null,
            "source": "rankdata([0, 2, 3, 2], method='ordinal')",
            "outputs": [
                {
                    "output_type": "execute_result",
                    "metadata": {},
                    "data": {
                        "text/plain": "array([ 1,  2,  4,  3])"
                    },
                    "execution_count": null
                }
            ]
        },
        {
            "id": "34fbded7",
            "cell_type": "code",
            "metadata": {},
            "execution_count": null,
            "source": "rankdata([[0, 2], [3, 2]]).reshape(2,2)",
            "outputs": [
                {
                    "output_type": "execute_result",
                    "metadata": {},
                    "data": {
                        "text/plain": "array([[1. , 2.5],\n      [4. , 2.5]])"
                    },
                    "execution_count": null
                }
            ]
        },
        {
            "id": "c80fd70a",
            "cell_type": "code",
            "metadata": {},
            "execution_count": null,
            "source": "rankdata([[0, 2, 2], [3, 2, 5]], axis=1)",
            "outputs": [
                {
                    "output_type": "execute_result",
                    "metadata": {},
                    "data": {
                        "text/plain": "array([[1. , 2.5, 2.5],\n       [2. , 1. , 3. ]])"
                    },
                    "execution_count": null
                }
            ]
        },
        {
            "id": "cf0f06ca",
            "cell_type": "code",
            "metadata": {},
            "execution_count": null,
            "source": "rankdata([0, 2, 3, np.nan, -2, np.nan], nan_policy=\"propagate\")",
            "outputs": [
                {
                    "output_type": "execute_result",
                    "metadata": {},
                    "data": {
                        "text/plain": "array([nan, nan, nan, nan, nan, nan])"
                    },
                    "execution_count": null
                }
            ]
        },
        {
            "id": "54303022",
            "cell_type": "code",
            "metadata": {},
            "execution_count": null,
            "source": "rankdata([0, 2, 3, np.nan, -2, np.nan], nan_policy=\"omit\")",
            "outputs": [
                {
                    "output_type": "execute_result",
                    "metadata": {},
                    "data": {
                        "text/plain": "array([ 2.,  3.,  4., nan,  1., nan])"
                    },
                    "execution_count": null
                }
            ]
        }
    ]
}