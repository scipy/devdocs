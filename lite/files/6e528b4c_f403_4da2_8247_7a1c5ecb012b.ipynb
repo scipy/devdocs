{
    "nbformat": 4,
    "nbformat_minor": 5,
    "metadata": {
        "kernelspec": {
            "display_name": "Python",
            "language": "python",
            "name": "python"
        },
        "language_info": {
            "name": "python"
        }
    },
    "cells": [
        {
            "id": "a496275e",
            "cell_type": "markdown",
            "source": "<div class='alert alert-warning'>\n\nSciPy's interactive examples with Jupyterlite are experimental and may not always work as expected. Execution of cells containing imports may result in large downloads (up to 60MB of content for the first import from SciPy). Load times when importing from SciPy may take roughly 10-20 seconds. If you notice any problems, feel free to open an [issue](https://github.com/scipy/scipy/issues/new/choose).\n\n</div>",
            "metadata": {}
        },
        {
            "id": "7b9fd4ef",
            "cell_type": "markdown",
            "source": "Instantiate a distribution with the desired parameters:\n",
            "metadata": {}
        },
        {
            "id": "bedfa01c",
            "cell_type": "code",
            "metadata": {},
            "execution_count": null,
            "source": "from scipy import stats\nX = stats.Normal(mu=1., sigma=2.)",
            "outputs": []
        },
        {
            "id": "c589bb52",
            "cell_type": "markdown",
            "source": "Evaluate the first raw moment:\n",
            "metadata": {}
        },
        {
            "id": "cfb5f949",
            "cell_type": "code",
            "metadata": {},
            "execution_count": null,
            "source": "X.moment(order=1, kind='raw')",
            "outputs": [
                {
                    "output_type": "execute_result",
                    "metadata": {},
                    "data": {
                        "text/plain": "1.0"
                    },
                    "execution_count": null
                }
            ]
        },
        {
            "id": "29518599",
            "cell_type": "code",
            "metadata": {},
            "execution_count": null,
            "source": "X.moment(order=1, kind='raw') == X.mean() == X.mu",
            "outputs": [
                {
                    "output_type": "execute_result",
                    "metadata": {},
                    "data": {
                        "text/plain": "True"
                    },
                    "execution_count": null
                }
            ]
        },
        {
            "id": "d118f95b",
            "cell_type": "markdown",
            "source": "Evaluate the second central moment:\n",
            "metadata": {}
        },
        {
            "id": "5b412117",
            "cell_type": "code",
            "metadata": {},
            "execution_count": null,
            "source": "X.moment(order=2, kind='central')",
            "outputs": [
                {
                    "output_type": "execute_result",
                    "metadata": {},
                    "data": {
                        "text/plain": "4.0"
                    },
                    "execution_count": null
                }
            ]
        },
        {
            "id": "ec4a53b7",
            "cell_type": "code",
            "metadata": {},
            "execution_count": null,
            "source": "X.moment(order=2, kind='central') == X.variance() == X.sigma**2",
            "outputs": [
                {
                    "output_type": "execute_result",
                    "metadata": {},
                    "data": {
                        "text/plain": "True"
                    },
                    "execution_count": null
                }
            ]
        },
        {
            "id": "5c18c1f0",
            "cell_type": "markdown",
            "source": "Evaluate the fourth standardized moment:\n",
            "metadata": {}
        },
        {
            "id": "090dc5b4",
            "cell_type": "code",
            "metadata": {},
            "execution_count": null,
            "source": "X.moment(order=4, kind='standardized')",
            "outputs": [
                {
                    "output_type": "execute_result",
                    "metadata": {},
                    "data": {
                        "text/plain": "3.0"
                    },
                    "execution_count": null
                }
            ]
        },
        {
            "id": "d06832be",
            "cell_type": "code",
            "metadata": {},
            "execution_count": null,
            "source": "X.moment(order=4, kind='standardized') == X.kurtosis(convention='non-excess')",
            "outputs": [
                {
                    "output_type": "execute_result",
                    "metadata": {},
                    "data": {
                        "text/plain": "True"
                    },
                    "execution_count": null
                }
            ]
        }
    ]
}