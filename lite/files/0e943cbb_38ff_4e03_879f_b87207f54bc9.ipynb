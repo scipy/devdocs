{
    "nbformat": 4,
    "nbformat_minor": 5,
    "metadata": {
        "kernelspec": {
            "display_name": "Python",
            "language": "python",
            "name": "python"
        },
        "language_info": {
            "name": "python"
        }
    },
    "cells": [
        {
            "id": "618bf112",
            "cell_type": "markdown",
            "source": "<div class='alert alert-warning'>\n\nSciPy's interactive examples with Jupyterlite are experimental and may not always work as expected. Execution of cells containing imports may result in large downloads (up to 60MB of content for the first import from SciPy). Load times when importing from SciPy may take roughly 10-20 seconds. If you notice any problems, feel free to open an [issue](https://github.com/scipy/scipy/issues/new/choose).\n\n</div>",
            "metadata": {}
        },
        {
            "id": "6fa4c415",
            "cell_type": "code",
            "metadata": {},
            "execution_count": null,
            "source": "import numpy as np\nfrom scipy import stats\nimport matplotlib.pyplot as plt",
            "outputs": []
        },
        {
            "id": "0474067a",
            "cell_type": "markdown",
            "source": "Generate some data and determine optimal ``lmbda``\n",
            "metadata": {}
        },
        {
            "id": "0216aadc",
            "cell_type": "code",
            "metadata": {},
            "execution_count": null,
            "source": "rng = np.random.default_rng()\nx = stats.loggamma.rvs(5, size=30, random_state=rng) + 5\nlmax = stats.yeojohnson_normmax(x)",
            "outputs": []
        },
        {
            "id": "26a3be0d",
            "cell_type": "code",
            "metadata": {},
            "execution_count": null,
            "source": "fig = plt.figure()\nax = fig.add_subplot(111)\nprob = stats.yeojohnson_normplot(x, -10, 10, plot=ax)\nax.axvline(lmax, color='r')",
            "outputs": []
        },
        {
            "id": "a62fa057",
            "cell_type": "code",
            "metadata": {},
            "execution_count": null,
            "source": "plt.show()",
            "outputs": []
        }
    ]
}