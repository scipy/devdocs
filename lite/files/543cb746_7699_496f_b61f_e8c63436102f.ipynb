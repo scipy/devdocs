{
    "nbformat": 4,
    "nbformat_minor": 5,
    "metadata": {
        "kernelspec": {
            "display_name": "Python",
            "language": "python",
            "name": "python"
        },
        "language_info": {
            "name": "python"
        }
    },
    "cells": [
        {
            "id": "c6673451",
            "cell_type": "markdown",
            "source": "<div class='alert alert-warning'>\n\nSciPy's interactive examples with Jupyterlite are experimental and may not always work as expected. Execution of cells containing imports may result in large downloads (up to 60MB of content for the first import from SciPy). Load times when importing from SciPy may take roughly 10-20 seconds. If you notice any problems, feel free to open an [issue](https://github.com/scipy/scipy/issues/new/choose).\n\n</div>",
            "metadata": {}
        },
        {
            "id": "4d691b56",
            "cell_type": "markdown",
            "source": "By default, the end of the resampled data rises to meet the first\nsample of the next cycle for the FFT method, and gets closer to zero\nfor the polyphase method:\n",
            "metadata": {}
        },
        {
            "id": "28882b75",
            "cell_type": "code",
            "metadata": {},
            "execution_count": null,
            "source": "import numpy as np\nfrom scipy import signal\nimport matplotlib.pyplot as plt",
            "outputs": []
        },
        {
            "id": "7fd5e2f0",
            "cell_type": "code",
            "metadata": {},
            "execution_count": null,
            "source": "x = np.linspace(0, 10, 20, endpoint=False)\ny = np.cos(-x**2/6.0)\nf_fft = signal.resample(y, 100)\nf_poly = signal.resample_poly(y, 100, 20)\nxnew = np.linspace(0, 10, 100, endpoint=False)",
            "outputs": []
        },
        {
            "id": "fbf63bfe",
            "cell_type": "code",
            "metadata": {},
            "execution_count": null,
            "source": "plt.plot(xnew, f_fft, 'b.-', xnew, f_poly, 'r.-')\nplt.plot(x, y, 'ko-')\nplt.plot(10, y[0], 'bo', 10, 0., 'ro')  # boundaries\nplt.legend(['resample', 'resamp_poly', 'data'], loc='best')\nplt.show()",
            "outputs": []
        },
        {
            "id": "1c268e8b",
            "cell_type": "markdown",
            "source": "This default behaviour can be changed by using the padtype option:\n",
            "metadata": {}
        },
        {
            "id": "091e3a47",
            "cell_type": "code",
            "metadata": {},
            "execution_count": null,
            "source": "N = 5\nx = np.linspace(0, 1, N, endpoint=False)\ny = 2 + x**2 - 1.7*np.sin(x) + .2*np.cos(11*x)\ny2 = 1 + x**3 + 0.1*np.sin(x) + .1*np.cos(11*x)\nY = np.stack([y, y2], axis=-1)\nup = 4\nxr = np.linspace(0, 1, N*up, endpoint=False)",
            "outputs": []
        },
        {
            "id": "859f42f7",
            "cell_type": "code",
            "metadata": {},
            "execution_count": null,
            "source": "y2 = signal.resample_poly(Y, up, 1, padtype='constant')\ny3 = signal.resample_poly(Y, up, 1, padtype='mean')\ny4 = signal.resample_poly(Y, up, 1, padtype='line')",
            "outputs": []
        },
        {
            "id": "e62e78b6",
            "cell_type": "code",
            "metadata": {},
            "execution_count": null,
            "source": "for i in [0,1]:\n    plt.figure()\n    plt.plot(xr, y4[:,i], 'g.', label='line')\n    plt.plot(xr, y3[:,i], 'y.', label='mean')\n    plt.plot(xr, y2[:,i], 'r.', label='constant')\n    plt.plot(x, Y[:,i], 'k-')\n    plt.legend()\nplt.show()",
            "outputs": []
        }
    ]
}