{
    "nbformat": 4,
    "nbformat_minor": 5,
    "metadata": {
        "kernelspec": {
            "display_name": "Python",
            "language": "python",
            "name": "python"
        },
        "language_info": {
            "name": "python"
        }
    },
    "cells": [
        {
            "id": "05fbab48",
            "cell_type": "markdown",
            "source": "<div class='alert alert-warning'>\n\nSciPy's interactive examples with Jupyterlite are experimental and may not always work as expected. Execution of cells containing imports may result in large downloads (up to 60MB of content for the first import from SciPy). Load times when importing from SciPy may take roughly 10-20 seconds. If you notice any problems, feel free to open an [issue](https://github.com/scipy/scipy/issues/new/choose).\n\n</div>",
            "metadata": {}
        },
        {
            "id": "b72dd3af",
            "cell_type": "markdown",
            "source": "Given `a` and `q` solve for `x`:\n",
            "metadata": {}
        },
        {
            "id": "82031cd6",
            "cell_type": "code",
            "metadata": {},
            "execution_count": null,
            "source": "import numpy as np\nfrom scipy import linalg\na = np.array([[0.2, 0.5],[0.7, -0.9]])\nq = np.eye(2)\nx = linalg.solve_discrete_lyapunov(a, q)\nx",
            "outputs": [
                {
                    "output_type": "execute_result",
                    "metadata": {},
                    "data": {
                        "text/plain": "array([[ 0.70872893,  1.43518822],\n       [ 1.43518822, -2.4266315 ]])"
                    },
                    "execution_count": null
                }
            ]
        },
        {
            "id": "79d473be",
            "cell_type": "code",
            "metadata": {},
            "execution_count": null,
            "source": "np.allclose(a.dot(x).dot(a.T)-x, -q)",
            "outputs": [
                {
                    "output_type": "execute_result",
                    "metadata": {},
                    "data": {
                        "text/plain": "True"
                    },
                    "execution_count": null
                }
            ]
        }
    ]
}