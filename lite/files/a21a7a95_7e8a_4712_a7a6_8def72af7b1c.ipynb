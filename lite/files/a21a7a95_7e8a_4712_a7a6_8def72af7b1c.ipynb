{
    "nbformat": 4,
    "nbformat_minor": 5,
    "metadata": {
        "kernelspec": {
            "display_name": "Python",
            "language": "python",
            "name": "python"
        },
        "language_info": {
            "name": "python"
        }
    },
    "cells": [
        {
            "id": "ba91828a",
            "cell_type": "markdown",
            "source": "<div class='alert alert-warning'>\n\nSciPy's interactive examples with Jupyterlite are experimental and may not always work as expected. Execution of cells containing imports may result in large downloads (up to 60MB of content for the first import from SciPy). Load times when importing from SciPy may take roughly 10-20 seconds. If you notice any problems, feel free to open an [issue](https://github.com/scipy/scipy/issues/new/choose).\n\n</div>",
            "metadata": {}
        },
        {
            "id": "008b2819",
            "cell_type": "code",
            "metadata": {},
            "execution_count": null,
            "source": "from scipy.spatial import distance\ndistance.sokalsneath([1, 0, 0], [0, 1, 0])",
            "outputs": [
                {
                    "output_type": "execute_result",
                    "metadata": {},
                    "data": {
                        "text/plain": "1.0"
                    },
                    "execution_count": null
                }
            ]
        },
        {
            "id": "02306da0",
            "cell_type": "code",
            "metadata": {},
            "execution_count": null,
            "source": "distance.sokalsneath([1, 0, 0], [1, 1, 0])",
            "outputs": [
                {
                    "output_type": "execute_result",
                    "metadata": {},
                    "data": {
                        "text/plain": "0.66666666666666663"
                    },
                    "execution_count": null
                }
            ]
        },
        {
            "id": "a36fc9c9",
            "cell_type": "code",
            "metadata": {},
            "execution_count": null,
            "source": "distance.sokalsneath([1, 0, 0], [2, 1, 0])",
            "outputs": [
                {
                    "output_type": "execute_result",
                    "metadata": {},
                    "data": {
                        "text/plain": "0.0"
                    },
                    "execution_count": null
                }
            ]
        },
        {
            "id": "652fa928",
            "cell_type": "code",
            "metadata": {},
            "execution_count": null,
            "source": "distance.sokalsneath([1, 0, 0], [3, 1, 0])",
            "outputs": [
                {
                    "output_type": "execute_result",
                    "metadata": {},
                    "data": {
                        "text/plain": "-2.0"
                    },
                    "execution_count": null
                }
            ]
        }
    ]
}