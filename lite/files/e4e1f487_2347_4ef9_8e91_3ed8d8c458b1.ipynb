{
    "nbformat": 4,
    "nbformat_minor": 5,
    "metadata": {
        "kernelspec": {
            "display_name": "Python",
            "language": "python",
            "name": "python"
        },
        "language_info": {
            "name": "python"
        }
    },
    "cells": [
        {
            "id": "8c8d7df7",
            "cell_type": "markdown",
            "source": "<div class='alert alert-warning'>\n\nSciPy's interactive examples with Jupyterlite are experimental and may not always work as expected. Execution of cells containing imports may result in large downloads (up to 60MB of content for the first import from SciPy). Load times when importing from SciPy may take roughly 10-20 seconds. If you notice any problems, feel free to open an [issue](https://github.com/scipy/scipy/issues/new/choose).\n\n</div>",
            "metadata": {}
        },
        {
            "id": "3d85b85c",
            "cell_type": "code",
            "metadata": {},
            "execution_count": null,
            "source": "from scipy.spatial.transform import Rotation as R\nimport numpy as np\nr = R.from_quat(np.eye(4))\nr.as_quat()",
            "outputs": [
                {
                    "output_type": "execute_result",
                    "metadata": {},
                    "data": {
                        "text/plain": "array([[ 1., 0., 0., 0.],\n       [ 0., 1., 0., 0.],\n       [ 0., 0., 1., 0.],\n       [ 0., 0., 0., 1.]])"
                    },
                    "execution_count": null
                }
            ]
        },
        {
            "id": "80d122e3",
            "cell_type": "code",
            "metadata": {},
            "execution_count": null,
            "source": "r.magnitude()",
            "outputs": [
                {
                    "output_type": "execute_result",
                    "metadata": {},
                    "data": {
                        "text/plain": "array([3.14159265, 3.14159265, 3.14159265, 0.        ])"
                    },
                    "execution_count": null
                }
            ]
        },
        {
            "id": "bf46080a",
            "cell_type": "markdown",
            "source": "Magnitude of a single rotation:\n",
            "metadata": {}
        },
        {
            "id": "db98f6be",
            "cell_type": "code",
            "metadata": {},
            "execution_count": null,
            "source": "r[0].magnitude()",
            "outputs": [
                {
                    "output_type": "execute_result",
                    "metadata": {},
                    "data": {
                        "text/plain": "3.141592653589793"
                    },
                    "execution_count": null
                }
            ]
        }
    ]
}