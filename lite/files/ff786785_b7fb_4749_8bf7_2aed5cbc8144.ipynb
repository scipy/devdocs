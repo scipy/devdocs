{
    "nbformat": 4,
    "nbformat_minor": 5,
    "metadata": {
        "kernelspec": {
            "display_name": "Python",
            "language": "python",
            "name": "python"
        },
        "language_info": {
            "name": "python"
        }
    },
    "cells": [
        {
            "id": "0c759f5f",
            "cell_type": "markdown",
            "source": "<div class='alert alert-warning'>\n\nSciPy's interactive examples with Jupyterlite are experimental and may not always work as expected. Execution of cells containing imports may result in large downloads (up to 60MB of content for the first import from SciPy). Load times when importing from SciPy may take roughly 10-20 seconds. If you notice any problems, feel free to open an [issue](https://github.com/scipy/scipy/issues/new/choose).\n\n</div>",
            "metadata": {}
        },
        {
            "id": "0bd5253c",
            "cell_type": "markdown",
            "source": "Compute multiple prime-length FFTs:\n",
            "metadata": {}
        },
        {
            "id": "f2c79a1b",
            "cell_type": "code",
            "metadata": {},
            "execution_count": null,
            "source": "from scipy.signal import CZT\nimport numpy as np\na = np.random.rand(7)\nb = np.random.rand(7)\nc = np.random.rand(7)\nczt_7 = CZT(n=7)\nA = czt_7(a)\nB = czt_7(b)\nC = czt_7(c)",
            "outputs": []
        },
        {
            "id": "67de82c5",
            "cell_type": "markdown",
            "source": "Display the points at which the FFT is calculated:\n",
            "metadata": {}
        },
        {
            "id": "0257bd25",
            "cell_type": "code",
            "metadata": {},
            "execution_count": null,
            "source": "czt_7.points()",
            "outputs": [
                {
                    "output_type": "execute_result",
                    "metadata": {},
                    "data": {
                        "text/plain": "array([ 1.00000000+0.j        ,  0.62348980+0.78183148j,\n       -0.22252093+0.97492791j, -0.90096887+0.43388374j,\n       -0.90096887-0.43388374j, -0.22252093-0.97492791j,\n        0.62348980-0.78183148j])"
                    },
                    "execution_count": null
                }
            ]
        },
        {
            "id": "38f6e935",
            "cell_type": "code",
            "metadata": {},
            "execution_count": null,
            "source": "import matplotlib.pyplot as plt\nplt.plot(czt_7.points().real, czt_7.points().imag, 'o')\nplt.gca().add_patch(plt.Circle((0,0), radius=1, fill=False, alpha=.3))\nplt.axis('equal')\nplt.show()",
            "outputs": []
        }
    ]
}