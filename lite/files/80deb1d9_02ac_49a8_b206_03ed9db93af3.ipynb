{
    "nbformat": 4,
    "nbformat_minor": 5,
    "metadata": {
        "kernelspec": {
            "display_name": "Python",
            "language": "python",
            "name": "python"
        },
        "language_info": {
            "name": "python"
        }
    },
    "cells": [
        {
            "id": "5e512e99",
            "cell_type": "markdown",
            "source": "<div class='alert alert-warning'>\n\nSciPy's interactive examples with Jupyterlite are experimental and may not always work as expected. Execution of cells containing imports may result in large downloads (up to 60MB of content for the first import from SciPy). Load times when importing from SciPy may take roughly 10-20 seconds. If you notice any problems, feel free to open an [issue](https://github.com/scipy/scipy/issues/new/choose).\n\n</div>",
            "metadata": {}
        },
        {
            "id": "c43c5084",
            "cell_type": "code",
            "metadata": {},
            "execution_count": null,
            "source": "from scipy.stats import gmean\ngmean([1, 4])",
            "outputs": [
                {
                    "output_type": "execute_result",
                    "metadata": {},
                    "data": {
                        "text/plain": "2.0"
                    },
                    "execution_count": null
                }
            ]
        },
        {
            "id": "52b4f394",
            "cell_type": "code",
            "metadata": {},
            "execution_count": null,
            "source": "gmean([1, 2, 3, 4, 5, 6, 7])",
            "outputs": [
                {
                    "output_type": "execute_result",
                    "metadata": {},
                    "data": {
                        "text/plain": "3.3800151591412964"
                    },
                    "execution_count": null
                }
            ]
        },
        {
            "id": "7b01c9bb",
            "cell_type": "code",
            "metadata": {},
            "execution_count": null,
            "source": "gmean([1, 4, 7], weights=[3, 1, 3])",
            "outputs": [
                {
                    "output_type": "execute_result",
                    "metadata": {},
                    "data": {
                        "text/plain": "2.80668351922014"
                    },
                    "execution_count": null
                }
            ]
        }
    ]
}