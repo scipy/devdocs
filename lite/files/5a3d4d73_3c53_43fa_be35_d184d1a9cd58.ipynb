{
    "nbformat": 4,
    "nbformat_minor": 5,
    "metadata": {
        "kernelspec": {
            "display_name": "Python",
            "language": "python",
            "name": "python"
        },
        "language_info": {
            "name": "python"
        }
    },
    "cells": [
        {
            "id": "6cf8989a",
            "cell_type": "markdown",
            "source": "<div class='alert alert-warning'>\n\nSciPy's interactive examples with Jupyterlite are experimental and may not always work as expected. Execution of cells containing imports may result in large downloads (up to 60MB of content for the first import from SciPy). Load times when importing from SciPy may take roughly 10-20 seconds. If you notice any problems, feel free to open an [issue](https://github.com/scipy/scipy/issues/new/choose).\n\n</div>",
            "metadata": {}
        },
        {
            "id": "8958ea67",
            "cell_type": "code",
            "metadata": {},
            "execution_count": null,
            "source": "import numpy as np\nfrom scipy import stats\nrng = np.random.default_rng()",
            "outputs": []
        },
        {
            "id": "942b4c38",
            "cell_type": "code",
            "metadata": {},
            "execution_count": null,
            "source": "rvs1 = stats.norm.rvs(loc=5, scale=10, size=500, random_state=rng)\nrvs2 = (stats.norm.rvs(loc=5, scale=10, size=500, random_state=rng)\n        + stats.norm.rvs(scale=0.2, size=500, random_state=rng))\nstats.ttest_rel(rvs1, rvs2)",
            "outputs": [
                {
                    "output_type": "execute_result",
                    "metadata": {},
                    "data": {
                        "text/plain": "TtestResult(statistic=-0.4549717054410304, pvalue=0.6493274702088672, df=499)"
                    },
                    "execution_count": null
                }
            ]
        },
        {
            "id": "c52d2050",
            "cell_type": "code",
            "metadata": {},
            "execution_count": null,
            "source": "rvs3 = (stats.norm.rvs(loc=8, scale=10, size=500, random_state=rng)\n        + stats.norm.rvs(scale=0.2, size=500, random_state=rng))\nstats.ttest_rel(rvs1, rvs3)",
            "outputs": [
                {
                    "output_type": "execute_result",
                    "metadata": {},
                    "data": {
                        "text/plain": "TtestResult(statistic=-5.879467544540889, pvalue=7.540777129099917e-09, df=499)"
                    },
                    "execution_count": null
                }
            ]
        }
    ]
}