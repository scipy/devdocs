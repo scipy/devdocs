{
    "nbformat": 4,
    "nbformat_minor": 5,
    "metadata": {
        "kernelspec": {
            "display_name": "Python",
            "language": "python",
            "name": "python"
        },
        "language_info": {
            "name": "python"
        }
    },
    "cells": [
        {
            "id": "ea801eb2",
            "cell_type": "markdown",
            "source": "<div class='alert alert-warning'>\n\nSciPy's interactive examples with Jupyterlite are experimental and may not always work as expected. Execution of cells containing imports may result in large downloads (up to 60MB of content for the first import from SciPy). Load times when importing from SciPy may take roughly 10-20 seconds. If you notice any problems, feel free to open an [issue](https://github.com/scipy/scipy/issues/new/choose).\n\n</div>",
            "metadata": {}
        },
        {
            "id": "bf469dfd",
            "cell_type": "code",
            "metadata": {},
            "execution_count": null,
            "source": "import numpy as np\nfrom scipy import stats\nimport matplotlib.pyplot as plt  # matplotlib must be installed\nrng = np.random.default_rng()\ndata = stats.nbinom(5, 0.5).rvs(size=1000, random_state=rng)\nbounds = [(0, 30), (0, 1)]\nres = stats.fit(stats.nbinom, data, bounds)\nax = res.plot()  # save matplotlib Axes object",
            "outputs": []
        },
        {
            "id": "36c83d3c",
            "cell_type": "markdown",
            "source": "The `matplotlib.axes.Axes` object can be used to customize the plot.\nSee `matplotlib.axes.Axes` documentation for details.\n",
            "metadata": {}
        },
        {
            "id": "31fd73ef",
            "cell_type": "code",
            "metadata": {},
            "execution_count": null,
            "source": "ax.set_xlabel('number of trials')  # customize axis label\nax.get_children()[0].set_linewidth(5)  # customize line widths\nax.legend()\nplt.show()",
            "outputs": []
        }
    ]
}