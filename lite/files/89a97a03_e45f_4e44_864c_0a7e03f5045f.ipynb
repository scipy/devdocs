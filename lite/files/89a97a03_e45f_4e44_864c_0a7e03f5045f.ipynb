{
    "nbformat": 4,
    "nbformat_minor": 5,
    "metadata": {
        "kernelspec": {
            "display_name": "Python",
            "language": "python",
            "name": "python"
        },
        "language_info": {
            "name": "python"
        }
    },
    "cells": [
        {
            "id": "a507b5e4",
            "cell_type": "markdown",
            "source": "<div class='alert alert-warning'>\n\nSciPy's interactive examples with Jupyterlite are experimental and may not always work as expected. Execution of cells containing imports may result in large downloads (up to 60MB of content for the first import from SciPy). Load times when importing from SciPy may take roughly 10-20 seconds. If you notice any problems, feel free to open an [issue](https://github.com/scipy/scipy/issues/new/choose).\n\n</div>",
            "metadata": {}
        },
        {
            "id": "8596a19a",
            "cell_type": "markdown",
            "source": "Consider the problem of minimizing the following function.\n",
            "metadata": {}
        },
        {
            "id": "1d5adb5b",
            "cell_type": "code",
            "metadata": {},
            "execution_count": null,
            "source": "def f(x):\n    return (x - 2) * x * (x + 2)**2",
            "outputs": []
        },
        {
            "id": "2ce05446",
            "cell_type": "markdown",
            "source": "Using the *Brent* method, we find the local minimum as:\n",
            "metadata": {}
        },
        {
            "id": "d3ae1b4c",
            "cell_type": "code",
            "metadata": {},
            "execution_count": null,
            "source": "from scipy.optimize import minimize_scalar\nres = minimize_scalar(f)\nres.fun",
            "outputs": [
                {
                    "output_type": "execute_result",
                    "metadata": {},
                    "data": {
                        "text/plain": "-9.9149495908"
                    },
                    "execution_count": null
                }
            ]
        },
        {
            "id": "a5ebc213",
            "cell_type": "markdown",
            "source": "The minimizer is:\n",
            "metadata": {}
        },
        {
            "id": "13d8055a",
            "cell_type": "code",
            "metadata": {},
            "execution_count": null,
            "source": "res.x",
            "outputs": [
                {
                    "output_type": "execute_result",
                    "metadata": {},
                    "data": {
                        "text/plain": "1.28077640403"
                    },
                    "execution_count": null
                }
            ]
        },
        {
            "id": "fb6ab42c",
            "cell_type": "markdown",
            "source": "Using the *Bounded* method, we find a local minimum with specified\nbounds as:\n",
            "metadata": {}
        },
        {
            "id": "08fd0c30",
            "cell_type": "code",
            "metadata": {},
            "execution_count": null,
            "source": "res = minimize_scalar(f, bounds=(-3, -1), method='bounded')\nres.fun  # minimum",
            "outputs": [
                {
                    "output_type": "execute_result",
                    "metadata": {},
                    "data": {
                        "text/plain": "3.28365179850e-13"
                    },
                    "execution_count": null
                }
            ]
        },
        {
            "id": "06026376",
            "cell_type": "code",
            "metadata": {},
            "execution_count": null,
            "source": "res.x  # minimizer",
            "outputs": [
                {
                    "output_type": "execute_result",
                    "metadata": {},
                    "data": {
                        "text/plain": "-2.0000002026"
                    },
                    "execution_count": null
                }
            ]
        }
    ]
}