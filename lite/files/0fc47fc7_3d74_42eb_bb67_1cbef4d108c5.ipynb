{
    "nbformat": 4,
    "nbformat_minor": 5,
    "metadata": {
        "kernelspec": {
            "display_name": "Python",
            "language": "python",
            "name": "python"
        },
        "language_info": {
            "name": "python"
        }
    },
    "cells": [
        {
            "id": "5279a18b",
            "cell_type": "markdown",
            "source": "<div class='alert alert-warning'>\n\nSciPy's interactive examples with Jupyterlite are experimental and may not always work as expected. Execution of cells containing imports may result in large downloads (up to 60MB of content for the first import from SciPy). Load times when importing from SciPy may take roughly 10-20 seconds. If you notice any problems, feel free to open an [issue](https://github.com/scipy/scipy/issues/new/choose).\n\n</div>",
            "metadata": {}
        },
        {
            "id": "69604727",
            "cell_type": "code",
            "metadata": {},
            "execution_count": null,
            "source": "from scipy.linalg import hankel\nhankel([1, 17, 99])",
            "outputs": [
                {
                    "output_type": "execute_result",
                    "metadata": {},
                    "data": {
                        "text/plain": "array([[ 1, 17, 99],\n       [17, 99,  0],\n       [99,  0,  0]])"
                    },
                    "execution_count": null
                }
            ]
        },
        {
            "id": "9f852b36",
            "cell_type": "code",
            "metadata": {},
            "execution_count": null,
            "source": "hankel([1,2,3,4], [4,7,7,8,9])",
            "outputs": [
                {
                    "output_type": "execute_result",
                    "metadata": {},
                    "data": {
                        "text/plain": "array([[1, 2, 3, 4, 7],\n       [2, 3, 4, 7, 7],\n       [3, 4, 7, 7, 8],\n       [4, 7, 7, 8, 9]])"
                    },
                    "execution_count": null
                }
            ]
        }
    ]
}