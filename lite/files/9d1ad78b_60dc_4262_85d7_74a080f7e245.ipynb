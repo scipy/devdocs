{
    "nbformat": 4,
    "nbformat_minor": 5,
    "metadata": {
        "kernelspec": {
            "display_name": "Python",
            "language": "python",
            "name": "python"
        },
        "language_info": {
            "name": "python"
        }
    },
    "cells": [
        {
            "id": "47600f8e",
            "cell_type": "markdown",
            "source": "<div class='alert alert-warning'>\n\nSciPy's interactive examples with Jupyterlite are experimental and may not always work as expected. Execution of cells containing imports may result in large downloads (up to 60MB of content for the first import from SciPy). Load times when importing from SciPy may take roughly 10-20 seconds. If you notice any problems, feel free to open an [issue](https://github.com/scipy/scipy/issues/new/choose).\n\n</div>",
            "metadata": {}
        },
        {
            "id": "65bc525a",
            "cell_type": "code",
            "metadata": {},
            "execution_count": null,
            "source": "import numpy as np\nimport matplotlib.pyplot as plt\nfrom scipy.stats import wishart, chi2\nx = np.linspace(1e-5, 8, 100)\nw = wishart.pdf(x, df=3, scale=1); w[:5]",
            "outputs": [
                {
                    "output_type": "execute_result",
                    "metadata": {},
                    "data": {
                        "text/plain": "array([ 0.00126156,  0.10892176,  0.14793434,  0.17400548,  0.1929669 ])"
                    },
                    "execution_count": null
                }
            ]
        },
        {
            "id": "020c5e2f",
            "cell_type": "code",
            "metadata": {},
            "execution_count": null,
            "source": "c = chi2.pdf(x, 3); c[:5]",
            "outputs": [
                {
                    "output_type": "execute_result",
                    "metadata": {},
                    "data": {
                        "text/plain": "array([ 0.00126156,  0.10892176,  0.14793434,  0.17400548,  0.1929669 ])"
                    },
                    "execution_count": null
                }
            ]
        },
        {
            "id": "bab95032",
            "cell_type": "code",
            "metadata": {},
            "execution_count": null,
            "source": "plt.plot(x, w)\nplt.show()",
            "outputs": []
        },
        {
            "id": "e3d10cb2",
            "cell_type": "markdown",
            "source": "The input quantiles can be any shape of array, as long as the last\naxis labels the components.\n\nAlternatively, the object may be called (as a function) to fix the degrees\nof freedom and scale parameters, returning a \"frozen\" Wishart random\nvariable:\n",
            "metadata": {}
        },
        {
            "id": "f7e56715",
            "cell_type": "code",
            "metadata": {},
            "execution_count": null,
            "source": "rv = wishart(df=1, scale=1)\n# Frozen object with the same methods but holding the given\n# degrees of freedom and scale fixed.",
            "outputs": []
        }
    ]
}