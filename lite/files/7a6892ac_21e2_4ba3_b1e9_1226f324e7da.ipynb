{
    "nbformat": 4,
    "nbformat_minor": 5,
    "metadata": {
        "kernelspec": {
            "display_name": "Python",
            "language": "python",
            "name": "python"
        },
        "language_info": {
            "name": "python"
        }
    },
    "cells": [
        {
            "id": "22fb7d28",
            "cell_type": "markdown",
            "source": "<div class='alert alert-warning'>\n\nSciPy's interactive examples with Jupyterlite are experimental and may not always work as expected. Execution of cells containing imports may result in large downloads (up to 60MB of content for the first import from SciPy). Load times when importing from SciPy may take roughly 10-20 seconds. If you notice any problems, feel free to open an [issue](https://github.com/scipy/scipy/issues/new/choose).\n\n</div>",
            "metadata": {}
        },
        {
            "id": "55d7419f",
            "cell_type": "code",
            "metadata": {},
            "execution_count": null,
            "source": "from scipy.spatial.transform import Rotation as R",
            "outputs": []
        },
        {
            "id": "8b6eb1a8",
            "cell_type": "markdown",
            "source": "Davenport angles are a generalization of Euler angles, when we use the\ncanonical basis axes:\n",
            "metadata": {}
        },
        {
            "id": "39c8171e",
            "cell_type": "code",
            "metadata": {},
            "execution_count": null,
            "source": "ex = [1, 0, 0]\ney = [0, 1, 0]\nez = [0, 0, 1]",
            "outputs": []
        },
        {
            "id": "2da481ac",
            "cell_type": "markdown",
            "source": "Initialize a single rotation with a given axis sequence:\n",
            "metadata": {}
        },
        {
            "id": "57184a6a",
            "cell_type": "code",
            "metadata": {},
            "execution_count": null,
            "source": "axes = [ez, ey, ex]\nr = R.from_davenport(axes, 'extrinsic', [90, 0, 0], degrees=True)\nr.as_quat().shape",
            "outputs": [
                {
                    "output_type": "execute_result",
                    "metadata": {},
                    "data": {
                        "text/plain": "(4,)"
                    },
                    "execution_count": null
                }
            ]
        },
        {
            "id": "0939188d",
            "cell_type": "markdown",
            "source": "It is equivalent to Euler angles in this case:\n",
            "metadata": {}
        },
        {
            "id": "140d71e1",
            "cell_type": "code",
            "metadata": {},
            "execution_count": null,
            "source": "r.as_euler('zyx', degrees=True)",
            "outputs": [
                {
                    "output_type": "execute_result",
                    "metadata": {},
                    "data": {
                        "text/plain": "array([90.,  0., -0.])"
                    },
                    "execution_count": null
                }
            ]
        },
        {
            "id": "67610703",
            "cell_type": "markdown",
            "source": "Initialize multiple rotations in one object:\n",
            "metadata": {}
        },
        {
            "id": "52657cc8",
            "cell_type": "code",
            "metadata": {},
            "execution_count": null,
            "source": "r = R.from_davenport(axes, 'extrinsic', [[90, 45, 30], [35, 45, 90]], degrees=True)\nr.as_quat().shape",
            "outputs": [
                {
                    "output_type": "execute_result",
                    "metadata": {},
                    "data": {
                        "text/plain": "(2, 4)"
                    },
                    "execution_count": null
                }
            ]
        },
        {
            "id": "5205b669",
            "cell_type": "markdown",
            "source": "Using only one or two axes is also possible:\n",
            "metadata": {}
        },
        {
            "id": "5e608842",
            "cell_type": "code",
            "metadata": {},
            "execution_count": null,
            "source": "r = R.from_davenport([ez, ex], 'extrinsic', [[90, 45], [35, 45]], degrees=True)\nr.as_quat().shape",
            "outputs": [
                {
                    "output_type": "execute_result",
                    "metadata": {},
                    "data": {
                        "text/plain": "(2, 4)"
                    },
                    "execution_count": null
                }
            ]
        },
        {
            "id": "f7f2dcb8",
            "cell_type": "markdown",
            "source": "Non-canonical axes are possible, and they do not need to be normalized,\nas long as consecutive axes are orthogonal:\n",
            "metadata": {}
        },
        {
            "id": "1642ffb3",
            "cell_type": "code",
            "metadata": {},
            "execution_count": null,
            "source": "e1 = [2, 0, 0]\ne2 = [0, 1, 0]\ne3 = [1, 0, 1]\naxes = [e1, e2, e3]\nr = R.from_davenport(axes, 'extrinsic', [90, 45, 30], degrees=True)\nr.as_quat()",
            "outputs": [
                {
                    "output_type": "execute_result",
                    "metadata": {},
                    "data": {
                        "text/plain": "[ 0.701057,  0.430459, -0.092296,  0.560986]"
                    },
                    "execution_count": null
                }
            ]
        }
    ]
}