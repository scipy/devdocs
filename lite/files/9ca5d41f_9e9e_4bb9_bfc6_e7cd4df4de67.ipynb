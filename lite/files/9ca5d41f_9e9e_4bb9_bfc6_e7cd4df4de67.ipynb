{
    "nbformat": 4,
    "nbformat_minor": 5,
    "metadata": {
        "kernelspec": {
            "display_name": "Python",
            "language": "python",
            "name": "python"
        },
        "language_info": {
            "name": "python"
        }
    },
    "cells": [
        {
            "id": "398db967",
            "cell_type": "markdown",
            "source": "<div class='alert alert-warning'>\n\nSciPy's interactive examples with Jupyterlite are experimental and may not always work as expected. Execution of cells containing imports may result in large downloads (up to 60MB of content for the first import from SciPy). Load times when importing from SciPy may take roughly 10-20 seconds. If you notice any problems, feel free to open an [issue](https://github.com/scipy/scipy/issues/new/choose).\n\n</div>",
            "metadata": {}
        },
        {
            "id": "36d198d8",
            "cell_type": "markdown",
            "source": "Transform 3 samples in the unit hypercube to bounds:\n",
            "metadata": {}
        },
        {
            "id": "d029eece",
            "cell_type": "code",
            "metadata": {},
            "execution_count": null,
            "source": "from scipy.stats import qmc\nl_bounds = [-2, 0]\nu_bounds = [6, 5]\nsample = [[0.5 , 0.75],\n          [0.5 , 0.5],\n          [0.75, 0.25]]\nsample_scaled = qmc.scale(sample, l_bounds, u_bounds)\nsample_scaled",
            "outputs": [
                {
                    "output_type": "execute_result",
                    "metadata": {},
                    "data": {
                        "text/plain": "array([[2.  , 3.75],\n       [2.  , 2.5 ],\n       [4.  , 1.25]])"
                    },
                    "execution_count": null
                }
            ]
        },
        {
            "id": "f56361d5",
            "cell_type": "markdown",
            "source": "And convert back to the unit hypercube:\n",
            "metadata": {}
        },
        {
            "id": "75b5f4d8",
            "cell_type": "code",
            "metadata": {},
            "execution_count": null,
            "source": "sample_ = qmc.scale(sample_scaled, l_bounds, u_bounds, reverse=True)\nsample_",
            "outputs": [
                {
                    "output_type": "execute_result",
                    "metadata": {},
                    "data": {
                        "text/plain": "array([[0.5 , 0.75],\n       [0.5 , 0.5 ],\n       [0.75, 0.25]])"
                    },
                    "execution_count": null
                }
            ]
        }
    ]
}