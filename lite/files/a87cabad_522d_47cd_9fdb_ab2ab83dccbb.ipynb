{
    "nbformat": 4,
    "nbformat_minor": 5,
    "metadata": {
        "kernelspec": {
            "display_name": "Python",
            "language": "python",
            "name": "python"
        },
        "language_info": {
            "name": "python"
        }
    },
    "cells": [
        {
            "id": "914683aa",
            "cell_type": "markdown",
            "source": "<div class='alert alert-warning'>\n\nSciPy's interactive examples with Jupyterlite are experimental and may not always work as expected. Execution of cells containing imports may result in large downloads (up to 60MB of content for the first import from SciPy). Load times when importing from SciPy may take roughly 10-20 seconds. If you notice any problems, feel free to open an [issue](https://github.com/scipy/scipy/issues/new/choose).\n\n</div>",
            "metadata": {}
        },
        {
            "id": "5ae3d2ee",
            "cell_type": "code",
            "metadata": {},
            "execution_count": null,
            "source": "from scipy import integrate\nimport numpy as np\nimport matplotlib.pyplot as plt",
            "outputs": []
        },
        {
            "id": "5bf9c849",
            "cell_type": "code",
            "metadata": {},
            "execution_count": null,
            "source": "x = np.linspace(-2, 2, num=20)\ny = x\ny_int = integrate.cumulative_trapezoid(y, x, initial=0)\nplt.plot(x, y_int, 'ro', x, y[0] + 0.5 * x**2, 'b-')\nplt.show()",
            "outputs": []
        }
    ]
}