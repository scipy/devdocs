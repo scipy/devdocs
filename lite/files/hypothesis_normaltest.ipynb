{
 "cells": [
  {
   "cell_type": "markdown",
   "id": "5159e2a3",
   "metadata": {},
   "source": [
    "```{eval-rst}\n",
    ".. jupyterlite:: ../../_contents/hypothesis_normaltest.ipynb\n",
    "   :new_tab: True\n",
    "```\n",
    "\n",
    "(hypothesis_normaltest)=\n",
    "# Normal test\n",
    "\n",
    "The {func}`scipy.stats.normaltest` function tests the null hypothesis that a\n",
    "sample comes from a normal distribution. It is based on D’Agostino and\n",
    "Pearson’s [^1] [^2] test that combines skew and kurtosis to produce an omnibus\n",
    "test of normality.\n",
    "\n",
    "Suppose we wish to infer from measurements whether the weights of adult human\n",
    "males in a medical study are not normally distributed [^3]. The weights (lbs)\n",
    "are recorded in the array `x` below."
   ]
  },
  {
   "cell_type": "code",
   "execution_count": null,
   "id": "0e526b81",
   "metadata": {},
   "outputs": [],
   "source": [
    "import numpy as np\n",
    "x = np.array([148, 154, 158, 160, 161, 162, 166, 170, 182, 195, 236])"
   ]
  },
  {
   "cell_type": "markdown",
   "id": "823dc3d4",
   "metadata": {},
   "source": [
    "The normality test {func}`scipy.stats.normaltest` of [^1] and [^2] begins by\n",
    "computing a statistic based on the sample skewness and kurtosis."
   ]
  },
  {
   "cell_type": "code",
   "execution_count": null,
   "id": "4aace4a0",
   "metadata": {},
   "outputs": [],
   "source": [
    "from scipy import stats\n",
    "res = stats.normaltest(x)\n",
    "res.statistic"
   ]
  },
  {
   "cell_type": "markdown",
   "id": "4d7b30ab",
   "metadata": {},
   "source": [
    "(The test warns that our sample has too few observations to perform the test.\n",
    "We'll return to this at the end of the example.) Because the normal distribution\n",
    "has zero skewness and zero (\"excess\" or \"Fisher\") kurtosis, the value of this\n",
    "statistic tends to be low for samples drawn from a normal distribution.\n",
    "\n",
    "The test is performed by comparing the observed value of the statistic against\n",
    "the null distribution: the distribution of statistic values derived under the\n",
    "null hypothesis that the weights were drawn from a normal distribution. For this\n",
    "normality test, the null distribution for very large samples is the chi-squared\n",
    "distribution with two degrees of freedom."
   ]
  },
  {
   "cell_type": "code",
   "execution_count": null,
   "id": "9050ac70",
   "metadata": {},
   "outputs": [],
   "source": [
    "import matplotlib.pyplot as plt\n",
    "dist = stats.chi2(df=2)\n",
    "stat_vals = np.linspace(0, 16, 100)\n",
    "pdf = dist.pdf(stat_vals)\n",
    "fig, ax = plt.subplots(figsize=(8, 5))\n",
    "\n",
    "def plot(ax):  # we'll reuse this\n",
    "    ax.plot(stat_vals, pdf)\n",
    "    ax.set_title(\"Normality Test Null Distribution\")\n",
    "    ax.set_xlabel(\"statistic\")\n",
    "    ax.set_ylabel(\"probability density\")\n",
    "\n",
    "plot(ax)\n",
    "plt.show()"
   ]
  },
  {
   "cell_type": "markdown",
   "id": "b5ce7a2a",
   "metadata": {},
   "source": [
    "The comparison is quantified by the p-value: the proportion of values in the\n",
    "null distribution greater than or equal to the observed value of the statistic."
   ]
  },
  {
   "cell_type": "code",
   "execution_count": null,
   "id": "fdfd461f",
   "metadata": {},
   "outputs": [],
   "source": [
    "fig, ax = plt.subplots(figsize=(8, 5))\n",
    "plot(ax)\n",
    "pvalue = dist.sf(res.statistic)\n",
    "annotation = (f'p-value={pvalue:.6f}\\n(shaded area)')\n",
    "props = dict(facecolor='black', width=1, headwidth=5, headlength=8)\n",
    "_ = ax.annotate(annotation, (13.5, 5e-4), (14, 5e-3), arrowprops=props)\n",
    "i = stat_vals >= res.statistic  # index more extreme statistic values\n",
    "ax.fill_between(stat_vals[i], y1=0, y2=pdf[i])\n",
    "ax.set_xlim(8, 16)\n",
    "ax.set_ylim(0, 0.01)\n",
    "plt.show()"
   ]
  },
  {
   "cell_type": "code",
   "execution_count": null,
   "id": "94c07dfe",
   "metadata": {},
   "outputs": [],
   "source": [
    "res.pvalue"
   ]
  },
  {
   "cell_type": "markdown",
   "id": "ae2a0fab",
   "metadata": {},
   "source": [
    "If the p-value is \"small\" - that is, if there is a low probability of sampling\n",
    "data from a normally distributed population that produces such an extreme value\n",
    "of the statistic - this may be taken as evidence against the null hypothesis in\n",
    "favor of the alternative: the weights were not drawn from a normal distribution.\n",
    "Note that:\n",
    "\n",
    "- The inverse is not true; that is, the test is not used to provide\n",
    "  evidence for the null hypothesis.\n",
    "- The threshold for values that will be considered \"small\" is a choice that\n",
    "  should be made before the data is analyzed [^4] with consideration of the\n",
    "  risks of both false positives (incorrectly rejecting the null hypothesis)\n",
    "  and false negatives (failure to reject a false null hypothesis).\n",
    "\n",
    "Note that the chi-squared distribution provides an asymptotic approximation of\n",
    "the null distribution; it is only accurate for samples with many observations.\n",
    "This is the reason we received a warning at the beginning of the example; our\n",
    "sample is quite small. In this case,\n",
    "{class}`scipy.stats.monte_carlo_test` may provide a more accurate, albeit\n",
    "stochastic, approximation of the exact p-value."
   ]
  },
  {
   "cell_type": "code",
   "execution_count": null,
   "id": "ba390a64",
   "metadata": {},
   "outputs": [],
   "source": [
    "def statistic(x, axis):\n",
    "    # Get only the `normaltest` statistic; ignore approximate p-value\n",
    "    return stats.normaltest(x, axis=axis).statistic\n",
    "res = stats.monte_carlo_test(x, stats.norm.rvs, statistic,\n",
    "                             alternative='greater')\n",
    "fig, ax = plt.subplots(figsize=(8, 5))\n",
    "plot(ax)\n",
    "ax.hist(res.null_distribution, np.linspace(0, 25, 50),\n",
    "        density=True)\n",
    "ax.legend(['asymptotic approximation (many observations)',\n",
    "           'Monte Carlo approximation (11 observations)'])\n",
    "ax.set_xlim(0, 14)\n",
    "plt.show()"
   ]
  },
  {
   "cell_type": "code",
   "execution_count": null,
   "id": "d79afd0a",
   "metadata": {},
   "outputs": [],
   "source": [
    "res.pvalue"
   ]
  },
  {
   "cell_type": "markdown",
   "id": "e2923519",
   "metadata": {},
   "source": [
    "Furthermore, despite their stochastic nature, p-values computed in this way can\n",
    "be used to exactly control the rate of false rejections of the null hypothesis [^5].\n",
    "\n",
    "## References\n",
    "\n",
    "[^1]: D'Agostino, R. B. (1971). An omnibus test of normality for moderate and\n",
    "large sample size. Biometrika, 58, 341-348\n",
    "[^2]: D'Agostino, R. and Pearson, E. S. (1973). Tests for departure from \n",
    "normality. Biometrika, 60, 613-622.\n",
    "[^3]: Shapiro, S. S., & Wilk, M. B. (1965). An analysis of variance test for\n",
    "normality (complete samples). Biometrika, 52(3/4), 591-611.\n",
    "[^4]: Phipson, B. and Smyth, G. K. (2010). Permutation P-values Should Never Be\n",
    "Zero: Calculating Exact P-values When Permutations Are Randomly Drawn.\n",
    "Statistical Applications in Genetics and Molecular Biology 9.1.\n",
    "[^5]: Panagiotakos, D. B. (2008). The value of p-value in biomedical research.\n",
    "The open cardiovascular medicine journal, 2, 97."
   ]
  }
 ],
 "metadata": {
  "kernelspec": {
   "display_name": "Python 3 (ipykernel)",
   "language": "python",
   "name": "python3"
  }
 },
 "nbformat": 4,
 "nbformat_minor": 5
}
