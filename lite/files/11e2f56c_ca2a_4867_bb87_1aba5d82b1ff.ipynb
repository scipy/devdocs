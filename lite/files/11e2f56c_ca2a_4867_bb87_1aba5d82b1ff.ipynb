{
    "nbformat": 4,
    "nbformat_minor": 5,
    "metadata": {
        "kernelspec": {
            "display_name": "Python",
            "language": "python",
            "name": "python"
        },
        "language_info": {
            "name": "python"
        }
    },
    "cells": [
        {
            "id": "94db8a1d",
            "cell_type": "markdown",
            "source": "<div class='alert alert-warning'>\n\nSciPy's interactive examples with Jupyterlite are experimental and may not always work as expected. Execution of cells containing imports may result in large downloads (up to 60MB of content for the first import from SciPy). Load times when importing from SciPy may take roughly 10-20 seconds. If you notice any problems, feel free to open an [issue](https://github.com/scipy/scipy/issues/new/choose).\n\n</div>",
            "metadata": {}
        },
        {
            "id": "42db02f2",
            "cell_type": "markdown",
            "source": "Let us consider the problem of minimizing the Rosenbrock function. This\nfunction is implemented in `rosen` in `scipy.optimize`.\n",
            "metadata": {}
        },
        {
            "id": "e7752f02",
            "cell_type": "code",
            "metadata": {},
            "execution_count": null,
            "source": "import numpy as np\nfrom scipy.optimize import rosen, differential_evolution\nbounds = [(0,2), (0, 2), (0, 2), (0, 2), (0, 2)]\nresult = differential_evolution(rosen, bounds)\nresult.x, result.fun",
            "outputs": [
                {
                    "output_type": "execute_result",
                    "metadata": {},
                    "data": {
                        "text/plain": "(array([1., 1., 1., 1., 1.]), 1.9216496320061384e-19)"
                    },
                    "execution_count": null
                }
            ]
        },
        {
            "id": "30ea4d07",
            "cell_type": "markdown",
            "source": "Now repeat, but with parallelization.\n",
            "metadata": {}
        },
        {
            "id": "e96929a2",
            "cell_type": "code",
            "metadata": {},
            "execution_count": null,
            "source": "result = differential_evolution(rosen, bounds, updating='deferred',\n                                workers=2)\nresult.x, result.fun",
            "outputs": [
                {
                    "output_type": "execute_result",
                    "metadata": {},
                    "data": {
                        "text/plain": "(array([1., 1., 1., 1., 1.]), 1.9216496320061384e-19)"
                    },
                    "execution_count": null
                }
            ]
        },
        {
            "id": "a50bb542",
            "cell_type": "markdown",
            "source": "Let's do a constrained minimization.\n",
            "metadata": {}
        },
        {
            "id": "f8173da9",
            "cell_type": "code",
            "metadata": {},
            "execution_count": null,
            "source": "from scipy.optimize import LinearConstraint, Bounds",
            "outputs": []
        },
        {
            "id": "9ba86c19",
            "cell_type": "markdown",
            "source": "We add the constraint that the sum of ``x[0]`` and ``x[1]`` must be less\nthan or equal to 1.9.  This is a linear constraint, which may be written\n``A @ x <= 1.9``, where ``A = array([[1, 1]])``.  This can be encoded as\na `LinearConstraint` instance:\n",
            "metadata": {}
        },
        {
            "id": "9abb764c",
            "cell_type": "code",
            "metadata": {},
            "execution_count": null,
            "source": "lc = LinearConstraint([[1, 1]], -np.inf, 1.9)",
            "outputs": []
        },
        {
            "id": "31305bb0",
            "cell_type": "markdown",
            "source": "Specify limits using a `Bounds` object.\n",
            "metadata": {}
        },
        {
            "id": "13be5e95",
            "cell_type": "code",
            "metadata": {},
            "execution_count": null,
            "source": "bounds = Bounds([0., 0.], [2., 2.])\nresult = differential_evolution(rosen, bounds, constraints=lc,\n                                seed=1)\nresult.x, result.fun",
            "outputs": [
                {
                    "output_type": "execute_result",
                    "metadata": {},
                    "data": {
                        "text/plain": "(array([0.96632622, 0.93367155]), 0.0011352416852625719)"
                    },
                    "execution_count": null
                }
            ]
        },
        {
            "id": "fc441cea",
            "cell_type": "markdown",
            "source": "Next find the minimum of the Ackley function\n(https://en.wikipedia.org/wiki/Test_functions_for_optimization).\n",
            "metadata": {}
        },
        {
            "id": "9f27043c",
            "cell_type": "code",
            "metadata": {},
            "execution_count": null,
            "source": "def ackley(x):\n    arg1 = -0.2 * np.sqrt(0.5 * (x[0] ** 2 + x[1] ** 2))\n    arg2 = 0.5 * (np.cos(2. * np.pi * x[0]) + np.cos(2. * np.pi * x[1]))\n    return -20. * np.exp(arg1) - np.exp(arg2) + 20. + np.e\nbounds = [(-5, 5), (-5, 5)]\nresult = differential_evolution(ackley, bounds, seed=1)\nresult.x, result.fun",
            "outputs": [
                {
                    "output_type": "execute_result",
                    "metadata": {},
                    "data": {
                        "text/plain": "(array([0., 0.]), 4.440892098500626e-16)"
                    },
                    "execution_count": null
                }
            ]
        },
        {
            "id": "efc6d222",
            "cell_type": "markdown",
            "source": "The Ackley function is written in a vectorized manner, so the\n``'vectorized'`` keyword can be employed. Note the reduced number of\nfunction evaluations.\n",
            "metadata": {}
        },
        {
            "id": "76d61da7",
            "cell_type": "code",
            "metadata": {},
            "execution_count": null,
            "source": "result = differential_evolution(\n    ackley, bounds, vectorized=True, updating='deferred', seed=1\n)\nresult.x, result.fun",
            "outputs": [
                {
                    "output_type": "execute_result",
                    "metadata": {},
                    "data": {
                        "text/plain": "(array([0., 0.]), 4.440892098500626e-16)"
                    },
                    "execution_count": null
                }
            ]
        },
        {
            "id": "4e4946ac",
            "cell_type": "markdown",
            "source": "The following custom strategy function mimics 'best1bin':\n",
            "metadata": {}
        },
        {
            "id": "6734a9a7",
            "cell_type": "code",
            "metadata": {},
            "execution_count": null,
            "source": "def custom_strategy_fn(candidate, population, rng=None):\n    parameter_count = population.shape(-1)\n    mutation, recombination = 0.7, 0.9\n    trial = np.copy(population[candidate])\n    fill_point = rng.choice(parameter_count)\n\n    pool = np.arange(len(population))\n    rng.shuffle(pool)\n\n    # two unique random numbers that aren't the same, and\n    # aren't equal to candidate.\n    idxs = []\n    while len(idxs) < 2 and len(pool) > 0:\n        idx = pool[0]\n        pool = pool[1:]\n        if idx != candidate:\n            idxs.append(idx)\n\n    r0, r1 = idxs[:2]\n\n    bprime = (population[0] + mutation *\n              (population[r0] - population[r1]))\n\n    crossovers = rng.uniform(size=parameter_count)\n    crossovers = crossovers < recombination\n    crossovers[fill_point] = True\n    trial = np.where(crossovers, bprime, trial)\n    return trial",
            "outputs": []
        }
    ]
}