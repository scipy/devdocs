{
    "nbformat": 4,
    "nbformat_minor": 5,
    "metadata": {
        "kernelspec": {
            "display_name": "Python",
            "language": "python",
            "name": "python"
        },
        "language_info": {
            "name": "python"
        }
    },
    "cells": [
        {
            "id": "f4eaf03c",
            "cell_type": "markdown",
            "source": "<div class='alert alert-warning'>\n\nSciPy's interactive examples with Jupyterlite are experimental and may not always work as expected. Execution of cells containing imports may result in large downloads (up to 60MB of content for the first import from SciPy). Load times when importing from SciPy may take roughly 10-20 seconds. If you notice any problems, feel free to open an [issue](https://github.com/scipy/scipy/issues/new/choose).\n\n</div>",
            "metadata": {}
        },
        {
            "id": "d2136068",
            "cell_type": "markdown",
            "source": "A 2D masked array constructed from a group of sequences is returned.\n",
            "metadata": {}
        },
        {
            "id": "b3ea6dbc",
            "cell_type": "code",
            "metadata": {},
            "execution_count": null,
            "source": "from scipy.stats.mstats import argstoarray\nargstoarray([1, 2, 3], [4, 5, 6])",
            "outputs": [
                {
                    "output_type": "execute_result",
                    "metadata": {},
                    "data": {
                        "text/plain": "masked_array(\n data=[[1.0, 2.0, 3.0],\n       [4.0, 5.0, 6.0]],\n mask=[[False, False, False],\n       [False, False, False]],\n fill_value=1e+20)"
                    },
                    "execution_count": null
                }
            ]
        },
        {
            "id": "76f94bc9",
            "cell_type": "markdown",
            "source": "The returned masked array filled with missing values when the lengths of\nsequences are different.\n",
            "metadata": {}
        },
        {
            "id": "37eeb05c",
            "cell_type": "code",
            "metadata": {},
            "execution_count": null,
            "source": "argstoarray([1, 3], [4, 5, 6])",
            "outputs": [
                {
                    "output_type": "execute_result",
                    "metadata": {},
                    "data": {
                        "text/plain": "masked_array(\n data=[[1.0, 3.0, --],\n       [4.0, 5.0, 6.0]],\n mask=[[False, False,  True],\n       [False, False, False]],\n fill_value=1e+20)"
                    },
                    "execution_count": null
                }
            ]
        }
    ]
}