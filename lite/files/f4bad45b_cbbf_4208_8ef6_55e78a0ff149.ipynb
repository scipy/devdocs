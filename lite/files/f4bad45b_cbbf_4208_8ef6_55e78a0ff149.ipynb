{
    "nbformat": 4,
    "nbformat_minor": 5,
    "metadata": {
        "kernelspec": {
            "display_name": "Python",
            "language": "python",
            "name": "python"
        },
        "language_info": {
            "name": "python"
        }
    },
    "cells": [
        {
            "id": "8e3131b5",
            "cell_type": "markdown",
            "source": "<div class='alert alert-warning'>\n\nSciPy's interactive examples with Jupyterlite are experimental and may not always work as expected. Execution of cells containing imports may result in large downloads (up to 60MB of content for the first import from SciPy). Load times when importing from SciPy may take roughly 10-20 seconds. If you notice any problems, feel free to open an [issue](https://github.com/scipy/scipy/issues/new/choose).\n\n</div>",
            "metadata": {}
        },
        {
            "id": "c07f9b35",
            "cell_type": "code",
            "metadata": {},
            "execution_count": null,
            "source": "import numpy as np\nfrom scipy.special import zetac, zeta",
            "outputs": []
        },
        {
            "id": "29a09de5",
            "cell_type": "markdown",
            "source": "Some special values:\n",
            "metadata": {}
        },
        {
            "id": "80b3309d",
            "cell_type": "code",
            "metadata": {},
            "execution_count": null,
            "source": "zetac(2), np.pi**2/6 - 1",
            "outputs": [
                {
                    "output_type": "execute_result",
                    "metadata": {},
                    "data": {
                        "text/plain": "(0.64493406684822641, 0.6449340668482264)"
                    },
                    "execution_count": null
                }
            ]
        },
        {
            "id": "b9de23b7",
            "cell_type": "code",
            "metadata": {},
            "execution_count": null,
            "source": "zetac(-1), -1.0/12 - 1",
            "outputs": [
                {
                    "output_type": "execute_result",
                    "metadata": {},
                    "data": {
                        "text/plain": "(-1.0833333333333333, -1.0833333333333333)"
                    },
                    "execution_count": null
                }
            ]
        },
        {
            "id": "06460f37",
            "cell_type": "markdown",
            "source": "Compare ``zetac(x)`` to ``zeta(x) - 1`` for large `x`:\n",
            "metadata": {}
        },
        {
            "id": "96fc0a23",
            "cell_type": "code",
            "metadata": {},
            "execution_count": null,
            "source": "zetac(60), zeta(60) - 1",
            "outputs": [
                {
                    "output_type": "execute_result",
                    "metadata": {},
                    "data": {
                        "text/plain": "(8.673617380119933e-19, 0.0)"
                    },
                    "execution_count": null
                }
            ]
        }
    ]
}