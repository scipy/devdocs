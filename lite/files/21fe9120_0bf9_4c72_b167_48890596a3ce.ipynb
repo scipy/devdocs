{
    "nbformat": 4,
    "nbformat_minor": 5,
    "metadata": {
        "kernelspec": {
            "display_name": "Python",
            "language": "python",
            "name": "python"
        },
        "language_info": {
            "name": "python"
        }
    },
    "cells": [
        {
            "id": "d1a0ef54",
            "cell_type": "markdown",
            "source": "<div class='alert alert-warning'>\n\nSciPy's interactive examples with Jupyterlite are experimental and may not always work as expected. Execution of cells containing imports may result in large downloads (up to 60MB of content for the first import from SciPy). Load times when importing from SciPy may take roughly 10-20 seconds. If you notice any problems, feel free to open an [issue](https://github.com/scipy/scipy/issues/new/choose).\n\n</div>",
            "metadata": {}
        },
        {
            "id": "0976e9c6",
            "cell_type": "markdown",
            "source": "We can read and write a harwell-boeing format file:\n",
            "metadata": {}
        },
        {
            "id": "e7c8b55e",
            "cell_type": "code",
            "metadata": {},
            "execution_count": null,
            "source": "from scipy.io import hb_read, hb_write\nfrom scipy.sparse import csr_array, eye\ndata = csr_array(eye(3))  # create a sparse array\nhb_write(\"data.hb\", data)  # write a hb file\nprint(hb_read(\"data.hb\"))  # read a hb file",
            "outputs": [
                {
                    "output_type": "execute_result",
                    "metadata": {},
                    "data": {
                        "text/plain": "<Compressed Sparse Column sparse matrix of dtype 'float64'\n    with 3 stored elements and shape (3, 3)>\n    Coords  Values\n    (0, 0)  1.0\n    (1, 1)  1.0\n    (2, 2)  1.0"
                    },
                    "execution_count": null
                }
            ]
        }
    ]
}