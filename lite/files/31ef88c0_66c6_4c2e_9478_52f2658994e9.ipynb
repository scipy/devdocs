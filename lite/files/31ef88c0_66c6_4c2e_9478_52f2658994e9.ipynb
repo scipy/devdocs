{
    "nbformat": 4,
    "nbformat_minor": 5,
    "metadata": {
        "kernelspec": {
            "display_name": "Python",
            "language": "python",
            "name": "python"
        },
        "language_info": {
            "name": "python"
        }
    },
    "cells": [
        {
            "id": "81e4b454",
            "cell_type": "markdown",
            "source": "<div class='alert alert-warning'>\n\nSciPy's interactive examples with Jupyterlite are experimental and may not always work as expected. Execution of cells containing imports may result in large downloads (up to 60MB of content for the first import from SciPy). Load times when importing from SciPy may take roughly 10-20 seconds. If you notice any problems, feel free to open an [issue](https://github.com/scipy/scipy/issues/new/choose).\n\n</div>",
            "metadata": {}
        },
        {
            "id": "f3e4dda4",
            "cell_type": "code",
            "metadata": {},
            "execution_count": null,
            "source": "from scipy.special import nctdtr, nctdtrit",
            "outputs": []
        },
        {
            "id": "9eb207b8",
            "cell_type": "markdown",
            "source": "Compute the CDF for several values of `t`:\n",
            "metadata": {}
        },
        {
            "id": "6ce376d1",
            "cell_type": "code",
            "metadata": {},
            "execution_count": null,
            "source": "t = [0.5, 1, 1.5]\np = nctdtr(3, 1, t)\np",
            "outputs": [
                {
                    "output_type": "execute_result",
                    "metadata": {},
                    "data": {
                        "text/plain": "array([0.29811049, 0.46922687, 0.6257559 ])"
                    },
                    "execution_count": null
                }
            ]
        },
        {
            "id": "e8b19d86",
            "cell_type": "markdown",
            "source": "Compute the inverse. We recover the values of `t`, as expected:\n",
            "metadata": {}
        },
        {
            "id": "10b53f5a",
            "cell_type": "code",
            "metadata": {},
            "execution_count": null,
            "source": "nctdtrit(3, 1, p)",
            "outputs": [
                {
                    "output_type": "execute_result",
                    "metadata": {},
                    "data": {
                        "text/plain": "array([0.5, 1. , 1.5])"
                    },
                    "execution_count": null
                }
            ]
        }
    ]
}