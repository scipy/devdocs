{
    "nbformat": 4,
    "nbformat_minor": 5,
    "metadata": {
        "kernelspec": {
            "display_name": "Python",
            "language": "python",
            "name": "python"
        },
        "language_info": {
            "name": "python"
        }
    },
    "cells": [
        {
            "id": "97b66994",
            "cell_type": "markdown",
            "source": "<div class='alert alert-warning'>\n\nSciPy's interactive examples with Jupyterlite are experimental and may not always work as expected. Execution of cells containing imports may result in large downloads (up to 60MB of content for the first import from SciPy). Load times when importing from SciPy may take roughly 10-20 seconds. If you notice any problems, feel free to open an [issue](https://github.com/scipy/scipy/issues/new/choose).\n\n</div>",
            "metadata": {}
        },
        {
            "id": "4a783391",
            "cell_type": "code",
            "metadata": {},
            "execution_count": null,
            "source": "import numpy as np\nfrom scipy.stats import ortho_group\nx = ortho_group.rvs(3)",
            "outputs": []
        },
        {
            "id": "b99de5ba",
            "cell_type": "code",
            "metadata": {},
            "execution_count": null,
            "source": "np.dot(x, x.T)",
            "outputs": [
                {
                    "output_type": "execute_result",
                    "metadata": {},
                    "data": {
                        "text/plain": "array([[  1.00000000e+00,   1.13231364e-17,  -2.86852790e-16],\n       [  1.13231364e-17,   1.00000000e+00,  -1.46845020e-16],\n       [ -2.86852790e-16,  -1.46845020e-16,   1.00000000e+00]])"
                    },
                    "execution_count": null
                }
            ]
        },
        {
            "id": "dc8634c2",
            "cell_type": "code",
            "metadata": {},
            "execution_count": null,
            "source": "import scipy.linalg\nnp.fabs(scipy.linalg.det(x))",
            "outputs": [
                {
                    "output_type": "execute_result",
                    "metadata": {},
                    "data": {
                        "text/plain": "1.0"
                    },
                    "execution_count": null
                }
            ]
        },
        {
            "id": "b74d7cbb",
            "cell_type": "markdown",
            "source": "This generates one random matrix from O(3). It is orthogonal and\nhas a determinant of +1 or -1.\n\nAlternatively, the object may be called (as a function) to fix the `dim`\nparameter, returning a \"frozen\" ortho_group random variable:\n",
            "metadata": {}
        },
        {
            "id": "ada01525",
            "cell_type": "code",
            "metadata": {},
            "execution_count": null,
            "source": "rv = ortho_group(5)\n# Frozen object with the same methods but holding the\n# dimension parameter fixed.",
            "outputs": []
        }
    ]
}