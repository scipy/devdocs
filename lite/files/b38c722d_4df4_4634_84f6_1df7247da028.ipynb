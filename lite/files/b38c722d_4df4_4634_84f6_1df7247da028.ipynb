{
    "nbformat": 4,
    "nbformat_minor": 5,
    "metadata": {
        "kernelspec": {
            "display_name": "Python",
            "language": "python",
            "name": "python"
        },
        "language_info": {
            "name": "python"
        }
    },
    "cells": [
        {
            "id": "863dc91b",
            "cell_type": "markdown",
            "source": "<div class='alert alert-warning'>\n\nSciPy's interactive examples with Jupyterlite are experimental and may not always work as expected. Execution of cells containing imports may result in large downloads (up to 60MB of content for the first import from SciPy). Load times when importing from SciPy may take roughly 10-20 seconds. If you notice any problems, feel free to open an [issue](https://github.com/scipy/scipy/issues/new/choose).\n\n</div>",
            "metadata": {}
        },
        {
            "id": "e0deb9ec",
            "cell_type": "markdown",
            "source": "On a particular machine, an FFT of prime length takes 133 ms:\n",
            "metadata": {}
        },
        {
            "id": "a655f7f7",
            "cell_type": "code",
            "metadata": {},
            "execution_count": null,
            "source": "from scipy import fftpack\nimport numpy as np\nrng = np.random.default_rng()\nmin_len = 10007  # prime length is worst case for speed\na = rng.standard_normal(min_len)\nb = fftpack.fft(a)",
            "outputs": []
        },
        {
            "id": "1b6eec36",
            "cell_type": "markdown",
            "source": "Zero-padding to the next 5-smooth length reduces computation time to\n211 us, a speedup of 630 times:\n",
            "metadata": {}
        },
        {
            "id": "c2504e6f",
            "cell_type": "code",
            "metadata": {},
            "execution_count": null,
            "source": "fftpack.next_fast_len(min_len)",
            "outputs": [
                {
                    "output_type": "execute_result",
                    "metadata": {},
                    "data": {
                        "text/plain": "10125"
                    },
                    "execution_count": null
                }
            ]
        },
        {
            "id": "93168195",
            "cell_type": "code",
            "metadata": {},
            "execution_count": null,
            "source": "b = fftpack.fft(a, 10125)",
            "outputs": []
        },
        {
            "id": "f9cc06c6",
            "cell_type": "markdown",
            "source": "Rounding up to the next power of 2 is not optimal, taking 367 us to\ncompute, 1.7 times as long as the 5-smooth size:\n",
            "metadata": {}
        },
        {
            "id": "da5888c9",
            "cell_type": "code",
            "metadata": {},
            "execution_count": null,
            "source": "b = fftpack.fft(a, 16384)",
            "outputs": []
        }
    ]
}