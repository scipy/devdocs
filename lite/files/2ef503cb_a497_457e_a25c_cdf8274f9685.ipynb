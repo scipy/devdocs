{
    "nbformat": 4,
    "nbformat_minor": 5,
    "metadata": {
        "kernelspec": {
            "display_name": "Python",
            "language": "python",
            "name": "python"
        },
        "language_info": {
            "name": "python"
        }
    },
    "cells": [
        {
            "id": "9fed4d30",
            "cell_type": "markdown",
            "source": "<div class='alert alert-warning'>\n\nSciPy's interactive examples with Jupyterlite are experimental and may not always work as expected. Execution of cells containing imports may result in large downloads (up to 60MB of content for the first import from SciPy). Load times when importing from SciPy may take roughly 10-20 seconds. If you notice any problems, feel free to open an [issue](https://github.com/scipy/scipy/issues/new/choose).\n\n</div>",
            "metadata": {}
        },
        {
            "id": "2efb7208",
            "cell_type": "code",
            "metadata": {},
            "execution_count": null,
            "source": "from scipy.spatial.transform import Rotation as R",
            "outputs": []
        },
        {
            "id": "77daff01",
            "cell_type": "markdown",
            "source": "A rotation can be initialzied from a quaternion with the scalar-last\n(default) or scalar-first component order as shown below:\n",
            "metadata": {}
        },
        {
            "id": "195eb157",
            "cell_type": "code",
            "metadata": {},
            "execution_count": null,
            "source": "r = R.from_quat([0, 0, 0, 1])\nr.as_matrix()",
            "outputs": [
                {
                    "output_type": "execute_result",
                    "metadata": {},
                    "data": {
                        "text/plain": "array([[1., 0., 0.],\n       [0., 1., 0.],\n       [0., 0., 1.]])"
                    },
                    "execution_count": null
                }
            ]
        },
        {
            "id": "e7b114b5",
            "cell_type": "code",
            "metadata": {},
            "execution_count": null,
            "source": "r = R.from_quat([1, 0, 0, 0], scalar_first=True)\nr.as_matrix()",
            "outputs": [
                {
                    "output_type": "execute_result",
                    "metadata": {},
                    "data": {
                        "text/plain": "array([[1., 0., 0.],\n       [0., 1., 0.],\n       [0., 0., 1.]])"
                    },
                    "execution_count": null
                }
            ]
        },
        {
            "id": "9e96311b",
            "cell_type": "markdown",
            "source": "It is possible to initialize multiple rotations in a single object by\npassing a 2-dimensional array:\n",
            "metadata": {}
        },
        {
            "id": "e8304d0b",
            "cell_type": "code",
            "metadata": {},
            "execution_count": null,
            "source": "r = R.from_quat([\n[1, 0, 0, 0],\n[0, 0, 0, 1]\n])\nr.as_quat()",
            "outputs": [
                {
                    "output_type": "execute_result",
                    "metadata": {},
                    "data": {
                        "text/plain": "array([[1., 0., 0., 0.],\n       [0., 0., 0., 1.]])"
                    },
                    "execution_count": null
                }
            ]
        },
        {
            "id": "f9fb54d5",
            "cell_type": "code",
            "metadata": {},
            "execution_count": null,
            "source": "r.as_quat().shape",
            "outputs": [
                {
                    "output_type": "execute_result",
                    "metadata": {},
                    "data": {
                        "text/plain": "(2, 4)"
                    },
                    "execution_count": null
                }
            ]
        },
        {
            "id": "23f8f026",
            "cell_type": "markdown",
            "source": "It is also possible to have a stack of a single rotation:\n",
            "metadata": {}
        },
        {
            "id": "c00644d7",
            "cell_type": "code",
            "metadata": {},
            "execution_count": null,
            "source": "r = R.from_quat([[0, 0, 0, 1]])\nr.as_quat()",
            "outputs": [
                {
                    "output_type": "execute_result",
                    "metadata": {},
                    "data": {
                        "text/plain": "array([[0., 0., 0., 1.]])"
                    },
                    "execution_count": null
                }
            ]
        },
        {
            "id": "45444099",
            "cell_type": "code",
            "metadata": {},
            "execution_count": null,
            "source": "r.as_quat().shape",
            "outputs": [
                {
                    "output_type": "execute_result",
                    "metadata": {},
                    "data": {
                        "text/plain": "(1, 4)"
                    },
                    "execution_count": null
                }
            ]
        },
        {
            "id": "cd6f1779",
            "cell_type": "markdown",
            "source": "Quaternions are normalized before initialization.\n",
            "metadata": {}
        },
        {
            "id": "a8929f8c",
            "cell_type": "code",
            "metadata": {},
            "execution_count": null,
            "source": "r = R.from_quat([0, 0, 1, 1])\nr.as_quat()",
            "outputs": [
                {
                    "output_type": "execute_result",
                    "metadata": {},
                    "data": {
                        "text/plain": "array([0.        , 0.        , 0.70710678, 0.70710678])"
                    },
                    "execution_count": null
                }
            ]
        }
    ]
}