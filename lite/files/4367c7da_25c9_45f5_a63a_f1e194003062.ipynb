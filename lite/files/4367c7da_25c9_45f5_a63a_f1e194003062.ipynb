{
    "nbformat": 4,
    "nbformat_minor": 5,
    "metadata": {
        "kernelspec": {
            "display_name": "Python",
            "language": "python",
            "name": "python"
        },
        "language_info": {
            "name": "python"
        }
    },
    "cells": [
        {
            "id": "3637cbd6",
            "cell_type": "markdown",
            "source": "<div class='alert alert-warning'>\n\nSciPy's interactive examples with Jupyterlite are experimental and may not always work as expected. Execution of cells containing imports may result in large downloads (up to 60MB of content for the first import from SciPy). Load times when importing from SciPy may take roughly 10-20 seconds. If you notice any problems, feel free to open an [issue](https://github.com/scipy/scipy/issues/new/choose).\n\n</div>",
            "metadata": {}
        },
        {
            "id": "42b3c1de",
            "cell_type": "code",
            "metadata": {},
            "execution_count": null,
            "source": "from scipy import ndimage, datasets\nimport numpy.fft\nimport matplotlib.pyplot as plt\nfig, (ax1, ax2) = plt.subplots(1, 2)\nplt.gray()  # show the filtered result in grayscale\nascent = datasets.ascent()\ninput_ = numpy.fft.fft2(ascent)\nresult = ndimage.fourier_ellipsoid(input_, size=20)\nresult = numpy.fft.ifft2(result)\nax1.imshow(ascent)\nax2.imshow(result.real)  # the imaginary part is an artifact\nplt.show()",
            "outputs": []
        }
    ]
}