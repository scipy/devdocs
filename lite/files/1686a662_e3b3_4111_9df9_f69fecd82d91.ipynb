{
    "nbformat": 4,
    "nbformat_minor": 5,
    "metadata": {
        "kernelspec": {
            "display_name": "Python",
            "language": "python",
            "name": "python"
        },
        "language_info": {
            "name": "python"
        }
    },
    "cells": [
        {
            "id": "be4bc9c9",
            "cell_type": "markdown",
            "source": "<div class='alert alert-warning'>\n\nSciPy's interactive examples with Jupyterlite are experimental and may not always work as expected. Execution of cells containing imports may result in large downloads (up to 60MB of content for the first import from SciPy). Load times when importing from SciPy may take roughly 10-20 seconds. If you notice any problems, feel free to open an [issue](https://github.com/scipy/scipy/issues/new/choose).\n\n</div>",
            "metadata": {}
        },
        {
            "id": "f7c233cd",
            "cell_type": "markdown",
            "source": "Evaluate the function at one point.\n",
            "metadata": {}
        },
        {
            "id": "0a98b7f6",
            "cell_type": "code",
            "metadata": {},
            "execution_count": null,
            "source": "import numpy as np\nfrom scipy.special import itstruve0\nitstruve0(1.)",
            "outputs": [
                {
                    "output_type": "execute_result",
                    "metadata": {},
                    "data": {
                        "text/plain": "0.30109042670805547"
                    },
                    "execution_count": null
                }
            ]
        },
        {
            "id": "f34514e1",
            "cell_type": "markdown",
            "source": "Evaluate the function at several points by supplying\nan array for `x`.\n",
            "metadata": {}
        },
        {
            "id": "88176445",
            "cell_type": "code",
            "metadata": {},
            "execution_count": null,
            "source": "points = np.array([1., 2., 3.5])\nitstruve0(points)",
            "outputs": [
                {
                    "output_type": "execute_result",
                    "metadata": {},
                    "data": {
                        "text/plain": "array([0.30109043, 1.01870116, 1.96804581])"
                    },
                    "execution_count": null
                }
            ]
        },
        {
            "id": "bcf24ae1",
            "cell_type": "markdown",
            "source": "Plot the function from -20 to 20.\n",
            "metadata": {}
        },
        {
            "id": "f35e3df1",
            "cell_type": "code",
            "metadata": {},
            "execution_count": null,
            "source": "import matplotlib.pyplot as plt\nx = np.linspace(-20., 20., 1000)\nistruve0_values = itstruve0(x)\nfig, ax = plt.subplots()\nax.plot(x, istruve0_values)\nax.set_xlabel(r'$x$')\nax.set_ylabel(r'$\\int_0^{x}H_0(t)\\,dt$')\nplt.show()",
            "outputs": []
        }
    ]
}