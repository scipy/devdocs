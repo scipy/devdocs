{
    "nbformat": 4,
    "nbformat_minor": 5,
    "metadata": {
        "kernelspec": {
            "display_name": "Python",
            "language": "python",
            "name": "python"
        },
        "language_info": {
            "name": "python"
        }
    },
    "cells": [
        {
            "id": "3ef79900",
            "cell_type": "markdown",
            "source": "<div class='alert alert-warning'>\n\nSciPy's interactive examples with Jupyterlite are experimental and may not always work as expected. Execution of cells containing imports may result in large downloads (up to 60MB of content for the first import from SciPy). Load times when importing from SciPy may take roughly 10-20 seconds. If you notice any problems, feel free to open an [issue](https://github.com/scipy/scipy/issues/new/choose).\n\n</div>",
            "metadata": {}
        },
        {
            "id": "68c2ff2d",
            "cell_type": "markdown",
            "source": "Plot even Mathieu functions of orders ``2`` and ``4``.\n",
            "metadata": {}
        },
        {
            "id": "aadfdfad",
            "cell_type": "code",
            "metadata": {},
            "execution_count": null,
            "source": "import numpy as np\nfrom scipy import special\nimport matplotlib.pyplot as plt\nm = np.asarray([2, 4])\nq = 50\nx = np.linspace(-180, 180, 300)[:, np.newaxis]\ny, _ = special.mathieu_cem(m, q, x)\nplt.plot(x, y)\nplt.xlabel('x (degrees)')\nplt.ylabel('y')\nplt.legend(('m = 2', 'm = 4'))",
            "outputs": []
        },
        {
            "id": "8a1aa753",
            "cell_type": "markdown",
            "source": "Because the orders ``2`` and\n``4`` are even, the period of each function is 180 degrees.\n",
            "metadata": {}
        }
    ]
}