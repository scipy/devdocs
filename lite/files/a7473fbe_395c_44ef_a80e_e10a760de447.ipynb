{
    "nbformat": 4,
    "nbformat_minor": 5,
    "metadata": {
        "kernelspec": {
            "display_name": "Python",
            "language": "python",
            "name": "python"
        },
        "language_info": {
            "name": "python"
        }
    },
    "cells": [
        {
            "id": "6c1736ab",
            "cell_type": "markdown",
            "source": "<div class='alert alert-warning'>\n\nSciPy's interactive examples with Jupyterlite are experimental and may not always work as expected. Execution of cells containing imports may result in large downloads (up to 60MB of content for the first import from SciPy). Load times when importing from SciPy may take roughly 10-20 seconds. If you notice any problems, feel free to open an [issue](https://github.com/scipy/scipy/issues/new/choose).\n\n</div>",
            "metadata": {}
        },
        {
            "id": "a5ee93c9",
            "cell_type": "markdown",
            "source": "Compute the Bessel function of the second kind of order 0 and\nits first two derivatives at 1.\n",
            "metadata": {}
        },
        {
            "id": "9d6d2692",
            "cell_type": "code",
            "metadata": {},
            "execution_count": null,
            "source": "from scipy.special import yvp\nyvp(0, 1, 0), yvp(0, 1, 1), yvp(0, 1, 2)",
            "outputs": [
                {
                    "output_type": "execute_result",
                    "metadata": {},
                    "data": {
                        "text/plain": "(0.088256964215677, 0.7812128213002889, -0.8694697855159659)"
                    },
                    "execution_count": null
                }
            ]
        },
        {
            "id": "9f3c7449",
            "cell_type": "markdown",
            "source": "Compute the first derivative of the Bessel function of the second\nkind for several orders at 1 by providing an array for `v`.\n",
            "metadata": {}
        },
        {
            "id": "c8a61fa7",
            "cell_type": "code",
            "metadata": {},
            "execution_count": null,
            "source": "yvp([0, 1, 2], 1, 1)",
            "outputs": [
                {
                    "output_type": "execute_result",
                    "metadata": {},
                    "data": {
                        "text/plain": "array([0.78121282, 0.86946979, 2.52015239])"
                    },
                    "execution_count": null
                }
            ]
        },
        {
            "id": "1f0ff372",
            "cell_type": "markdown",
            "source": "Compute the first derivative of the Bessel function of the\nsecond kind of order 0 at several points by providing an array for `z`.\n",
            "metadata": {}
        },
        {
            "id": "5eeec436",
            "cell_type": "code",
            "metadata": {},
            "execution_count": null,
            "source": "import numpy as np\npoints = np.array([0.5, 1.5, 3.])\nyvp(0, points, 1)",
            "outputs": [
                {
                    "output_type": "execute_result",
                    "metadata": {},
                    "data": {
                        "text/plain": "array([ 1.47147239,  0.41230863, -0.32467442])"
                    },
                    "execution_count": null
                }
            ]
        },
        {
            "id": "85ee150d",
            "cell_type": "markdown",
            "source": "Plot the Bessel function of the second kind of order 1 and its\nfirst three derivatives.\n",
            "metadata": {}
        },
        {
            "id": "c21c822c",
            "cell_type": "code",
            "metadata": {},
            "execution_count": null,
            "source": "import matplotlib.pyplot as plt\nx = np.linspace(0, 5, 1000)\nx[0] += 1e-15\nfig, ax = plt.subplots()\nax.plot(x, yvp(1, x, 0), label=r\"$Y_1$\")\nax.plot(x, yvp(1, x, 1), label=r\"$Y_1'$\")\nax.plot(x, yvp(1, x, 2), label=r\"$Y_1''$\")\nax.plot(x, yvp(1, x, 3), label=r\"$Y_1'''$\")\nax.set_ylim(-10, 10)\nplt.legend()\nplt.show()",
            "outputs": []
        }
    ]
}