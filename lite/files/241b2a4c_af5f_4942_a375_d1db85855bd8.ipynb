{
    "nbformat": 4,
    "nbformat_minor": 5,
    "metadata": {
        "kernelspec": {
            "display_name": "Python",
            "language": "python",
            "name": "python"
        },
        "language_info": {
            "name": "python"
        }
    },
    "cells": [
        {
            "id": "9529068d",
            "cell_type": "markdown",
            "source": "<div class='alert alert-warning'>\n\nSciPy's interactive examples with Jupyterlite are experimental and may not always work as expected. Execution of cells containing imports may result in large downloads (up to 60MB of content for the first import from SciPy). Load times when importing from SciPy may take roughly 10-20 seconds. If you notice any problems, feel free to open an [issue](https://github.com/scipy/scipy/issues/new/choose).\n\n</div>",
            "metadata": {}
        },
        {
            "id": "8feef7f4",
            "cell_type": "markdown",
            "source": "We can calculate Taylor approximation polynomials of sin function with\nvarious degrees:\n",
            "metadata": {}
        },
        {
            "id": "3736a389",
            "cell_type": "code",
            "metadata": {},
            "execution_count": null,
            "source": "import numpy as np\nimport matplotlib.pyplot as plt\nfrom scipy.interpolate import approximate_taylor_polynomial\nx = np.linspace(-10.0, 10.0, num=100)\nplt.plot(x, np.sin(x), label=\"sin curve\")\nfor degree in np.arange(1, 15, step=2):\n    sin_taylor = approximate_taylor_polynomial(np.sin, 0, degree, 1,\n                                               order=degree + 2)\n    plt.plot(x, sin_taylor(x), label=f\"degree={degree}\")\nplt.legend(bbox_to_anchor=(1.05, 1), loc='upper left',\n           borderaxespad=0.0, shadow=True)\nplt.tight_layout()\nplt.axis([-10, 10, -10, 10])\nplt.show()",
            "outputs": []
        }
    ]
}