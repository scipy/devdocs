{
    "nbformat": 4,
    "nbformat_minor": 5,
    "metadata": {
        "kernelspec": {
            "display_name": "Python",
            "language": "python",
            "name": "python"
        },
        "language_info": {
            "name": "python"
        }
    },
    "cells": [
        {
            "id": "a6d5e06b",
            "cell_type": "markdown",
            "source": "<div class='alert alert-warning'>\n\nSciPy's interactive examples with Jupyterlite are experimental and may not always work as expected. Execution of cells containing imports may result in large downloads (up to 60MB of content for the first import from SciPy). Load times when importing from SciPy may take roughly 10-20 seconds. If you notice any problems, feel free to open an [issue](https://github.com/scipy/scipy/issues/new/choose).\n\n</div>",
            "metadata": {}
        },
        {
            "id": "a7040f91",
            "cell_type": "code",
            "metadata": {},
            "execution_count": null,
            "source": "import numpy as np\nfrom scipy.linalg import logm, expm\na = np.array([[1.0, 3.0], [1.0, 4.0]])\nb = logm(a)\nb",
            "outputs": [
                {
                    "output_type": "execute_result",
                    "metadata": {},
                    "data": {
                        "text/plain": "array([[-1.02571087,  2.05142174],\n       [ 0.68380725,  1.02571087]])"
                    },
                    "execution_count": null
                }
            ]
        },
        {
            "id": "cbc86f0a",
            "cell_type": "code",
            "metadata": {},
            "execution_count": null,
            "source": "expm(b)         # Verify expm(logm(a)) returns a",
            "outputs": [
                {
                    "output_type": "execute_result",
                    "metadata": {},
                    "data": {
                        "text/plain": "array([[ 1.,  3.],\n       [ 1.,  4.]])"
                    },
                    "execution_count": null
                }
            ]
        }
    ]
}