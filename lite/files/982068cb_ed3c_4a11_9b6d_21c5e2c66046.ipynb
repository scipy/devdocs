{
    "nbformat": 4,
    "nbformat_minor": 5,
    "metadata": {
        "kernelspec": {
            "display_name": "Python",
            "language": "python",
            "name": "python"
        },
        "language_info": {
            "name": "python"
        }
    },
    "cells": [
        {
            "id": "f79149ff",
            "cell_type": "markdown",
            "source": "<div class='alert alert-warning'>\n\nSciPy's interactive examples with Jupyterlite are experimental and may not always work as expected. Execution of cells containing imports may result in large downloads (up to 60MB of content for the first import from SciPy). Load times when importing from SciPy may take roughly 10-20 seconds. If you notice any problems, feel free to open an [issue](https://github.com/scipy/scipy/issues/new/choose).\n\n</div>",
            "metadata": {}
        },
        {
            "id": "ecd67170",
            "cell_type": "code",
            "metadata": {},
            "execution_count": null,
            "source": "import numpy as np\nfrom scipy.spatial.distance import is_valid_dm",
            "outputs": []
        },
        {
            "id": "8a84ab87",
            "cell_type": "markdown",
            "source": "This matrix is a valid distance matrix.\n",
            "metadata": {}
        },
        {
            "id": "c00ba731",
            "cell_type": "code",
            "metadata": {},
            "execution_count": null,
            "source": "d = np.array([[0.0, 1.1, 1.2, 1.3],\n              [1.1, 0.0, 1.0, 1.4],\n              [1.2, 1.0, 0.0, 1.5],\n              [1.3, 1.4, 1.5, 0.0]])\nis_valid_dm(d)",
            "outputs": [
                {
                    "output_type": "execute_result",
                    "metadata": {},
                    "data": {
                        "text/plain": "True"
                    },
                    "execution_count": null
                }
            ]
        },
        {
            "id": "ae22176f",
            "cell_type": "markdown",
            "source": "In the following examples, the input is not a valid distance matrix.\n\nNot square:\n",
            "metadata": {}
        },
        {
            "id": "5fbd0017",
            "cell_type": "code",
            "metadata": {},
            "execution_count": null,
            "source": "is_valid_dm([[0, 2, 2], [2, 0, 2]])",
            "outputs": [
                {
                    "output_type": "execute_result",
                    "metadata": {},
                    "data": {
                        "text/plain": "False"
                    },
                    "execution_count": null
                }
            ]
        },
        {
            "id": "d3700010",
            "cell_type": "markdown",
            "source": "Nonzero diagonal element:\n",
            "metadata": {}
        },
        {
            "id": "a3a29e2d",
            "cell_type": "code",
            "metadata": {},
            "execution_count": null,
            "source": "is_valid_dm([[0, 1, 1], [1, 2, 3], [1, 3, 0]])",
            "outputs": [
                {
                    "output_type": "execute_result",
                    "metadata": {},
                    "data": {
                        "text/plain": "False"
                    },
                    "execution_count": null
                }
            ]
        },
        {
            "id": "63106dbf",
            "cell_type": "markdown",
            "source": "Not symmetric:\n",
            "metadata": {}
        },
        {
            "id": "fae3eb8c",
            "cell_type": "code",
            "metadata": {},
            "execution_count": null,
            "source": "is_valid_dm([[0, 1, 3], [2, 0, 1], [3, 1, 0]])",
            "outputs": [
                {
                    "output_type": "execute_result",
                    "metadata": {},
                    "data": {
                        "text/plain": "False"
                    },
                    "execution_count": null
                }
            ]
        }
    ]
}