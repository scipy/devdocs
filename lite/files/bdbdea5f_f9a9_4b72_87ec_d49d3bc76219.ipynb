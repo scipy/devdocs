{
    "nbformat": 4,
    "nbformat_minor": 5,
    "metadata": {
        "kernelspec": {
            "display_name": "Python",
            "language": "python",
            "name": "python"
        },
        "language_info": {
            "name": "python"
        }
    },
    "cells": [
        {
            "id": "9908ba04",
            "cell_type": "markdown",
            "source": "<div class='alert alert-warning'>\n\nSciPy's interactive examples with Jupyterlite are experimental and may not always work as expected. Execution of cells containing imports may result in large downloads (up to 60MB of content for the first import from SciPy). Load times when importing from SciPy may take roughly 10-20 seconds. If you notice any problems, feel free to open an [issue](https://github.com/scipy/scipy/issues/new/choose).\n\n</div>",
            "metadata": {}
        },
        {
            "id": "4947430a",
            "cell_type": "markdown",
            "source": "Compute the integral of sin(x) in [0, $\\pi$]:\n",
            "metadata": {}
        },
        {
            "id": "33f266dc",
            "cell_type": "code",
            "metadata": {},
            "execution_count": null,
            "source": "from scipy.integrate import newton_cotes\nimport numpy as np\ndef f(x):\n    return np.sin(x)\na = 0\nb = np.pi\nexact = 2\nfor N in [2, 4, 6, 8, 10]:\n    x = np.linspace(a, b, N + 1)\n    an, B = newton_cotes(N, 1)\n    dx = (b - a) / N\n    quad = dx * np.sum(an * f(x))\n    error = abs(quad - exact)\n    print('{:2d}  {:10.9f}  {:.5e}'.format(N, quad, error))\n",
            "outputs": [
                {
                    "output_type": "execute_result",
                    "metadata": {},
                    "data": {
                        "text/plain": " 2   2.094395102   9.43951e-02\n 4   1.998570732   1.42927e-03\n 6   2.000017814   1.78136e-05\n 8   1.999999835   1.64725e-07\n10   2.000000001   1.14677e-09"
                    },
                    "execution_count": null
                }
            ]
        }
    ]
}