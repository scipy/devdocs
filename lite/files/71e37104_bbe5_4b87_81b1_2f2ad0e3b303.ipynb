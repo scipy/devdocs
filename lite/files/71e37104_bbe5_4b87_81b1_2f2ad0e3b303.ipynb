{
    "nbformat": 4,
    "nbformat_minor": 5,
    "metadata": {
        "kernelspec": {
            "display_name": "Python",
            "language": "python",
            "name": "python"
        },
        "language_info": {
            "name": "python"
        }
    },
    "cells": [
        {
            "id": "6cb88f98",
            "cell_type": "markdown",
            "source": "<div class='alert alert-warning'>\n\nSciPy's interactive examples with Jupyterlite are experimental and may not always work as expected. Execution of cells containing imports may result in large downloads (up to 60MB of content for the first import from SciPy). Load times when importing from SciPy may take roughly 10-20 seconds. If you notice any problems, feel free to open an [issue](https://github.com/scipy/scipy/issues/new/choose).\n\n</div>",
            "metadata": {}
        },
        {
            "id": "f7d5bad3",
            "cell_type": "markdown",
            "source": "Plot the Kaiser-Bessel derived window based on the wikipedia\nreference [2]:\n",
            "metadata": {}
        },
        {
            "id": "fee2c2ed",
            "cell_type": "code",
            "metadata": {},
            "execution_count": null,
            "source": "import numpy as np\nfrom scipy import signal\nimport matplotlib.pyplot as plt\nfig, ax = plt.subplots()\nN = 50\nfor alpha in [0.64, 2.55, 7.64, 31.83]:\n    ax.plot(signal.windows.kaiser_bessel_derived(2*N, np.pi*alpha),\n            label=f\"{alpha=}\")\nax.grid(True)\nax.set_title(\"Kaiser-Bessel derived window\")\nax.set_ylabel(\"Amplitude\")\nax.set_xlabel(\"Sample\")\nax.set_xticks([0, N, 2*N-1])\nax.set_xticklabels([\"0\", \"N\", \"2N+1\"])  # doctest: +SKIP\nax.set_yticks([0.0, 0.2, 0.4, 0.6, 0.707, 0.8, 1.0])\nfig.legend(loc=\"center\")\nfig.tight_layout()\nfig.show()",
            "outputs": []
        }
    ]
}