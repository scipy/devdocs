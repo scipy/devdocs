{
    "nbformat": 4,
    "nbformat_minor": 5,
    "metadata": {
        "kernelspec": {
            "display_name": "Python",
            "language": "python",
            "name": "python"
        },
        "language_info": {
            "name": "python"
        }
    },
    "cells": [
        {
            "id": "0c28c612",
            "cell_type": "markdown",
            "source": "<div class='alert alert-warning'>\n\nSciPy's interactive examples with Jupyterlite are experimental and may not always work as expected. Execution of cells containing imports may result in large downloads (up to 60MB of content for the first import from SciPy). Load times when importing from SciPy may take roughly 10-20 seconds. If you notice any problems, feel free to open an [issue](https://github.com/scipy/scipy/issues/new/choose).\n\n</div>",
            "metadata": {}
        },
        {
            "id": "fbd91678",
            "cell_type": "markdown",
            "source": "A simple example demonstrating real pole placement using both KNV and YT\nalgorithms.  This is example number 1 from section 4 of the reference KNV\npublication ([1]):\n",
            "metadata": {}
        },
        {
            "id": "047d9176",
            "cell_type": "code",
            "metadata": {},
            "execution_count": null,
            "source": "import numpy as np\nfrom scipy import signal\nimport matplotlib.pyplot as plt",
            "outputs": []
        },
        {
            "id": "464a19de",
            "cell_type": "code",
            "metadata": {},
            "execution_count": null,
            "source": "A = np.array([[ 1.380,  -0.2077,  6.715, -5.676  ],\n              [-0.5814, -4.290,   0,      0.6750 ],\n              [ 1.067,   4.273,  -6.654,  5.893  ],\n              [ 0.0480,  4.273,   1.343, -2.104  ]])\nB = np.array([[ 0,      5.679 ],\n              [ 1.136,  1.136 ],\n              [ 0,      0,    ],\n              [-3.146,  0     ]])\nP = np.array([-0.2, -0.5, -5.0566, -8.6659])",
            "outputs": []
        },
        {
            "id": "68b0b3c9",
            "cell_type": "markdown",
            "source": "Now compute K with KNV method 0, with the default YT method and with the YT\nmethod while forcing 100 iterations of the algorithm and print some results\nafter each call.\n",
            "metadata": {}
        },
        {
            "id": "92523292",
            "cell_type": "code",
            "metadata": {},
            "execution_count": null,
            "source": "fsf1 = signal.place_poles(A, B, P, method='KNV0')\nfsf1.gain_matrix",
            "outputs": [
                {
                    "output_type": "execute_result",
                    "metadata": {},
                    "data": {
                        "text/plain": "array([[ 0.20071427, -0.96665799,  0.24066128, -0.10279785],\n       [ 0.50587268,  0.57779091,  0.51795763, -0.41991442]])"
                    },
                    "execution_count": null
                }
            ]
        },
        {
            "id": "319ec006",
            "cell_type": "code",
            "metadata": {},
            "execution_count": null,
            "source": "fsf2 = signal.place_poles(A, B, P)  # uses YT method\nfsf2.computed_poles",
            "outputs": [
                {
                    "output_type": "execute_result",
                    "metadata": {},
                    "data": {
                        "text/plain": "array([-8.6659, -5.0566, -0.5   , -0.2   ])"
                    },
                    "execution_count": null
                }
            ]
        },
        {
            "id": "37385797",
            "cell_type": "code",
            "metadata": {},
            "execution_count": null,
            "source": "fsf3 = signal.place_poles(A, B, P, rtol=-1, maxiter=100)\nfsf3.X",
            "outputs": [
                {
                    "output_type": "execute_result",
                    "metadata": {},
                    "data": {
                        "text/plain": "array([[ 0.52072442+0.j, -0.08409372+0.j, -0.56847937+0.j,  0.74823657+0.j],\n       [-0.04977751+0.j, -0.80872954+0.j,  0.13566234+0.j, -0.29322906+0.j],\n       [-0.82266932+0.j, -0.19168026+0.j, -0.56348322+0.j, -0.43815060+0.j],\n       [ 0.22267347+0.j,  0.54967577+0.j, -0.58387806+0.j, -0.40271926+0.j]])"
                    },
                    "execution_count": null
                }
            ]
        },
        {
            "id": "d56da95b",
            "cell_type": "markdown",
            "source": "The absolute value of the determinant of X is a good indicator to check the\nrobustness of the results, both ``'KNV0'`` and ``'YT'`` aim at maximizing\nit.  Below a comparison of the robustness of the results above:\n",
            "metadata": {}
        },
        {
            "id": "30447d79",
            "cell_type": "code",
            "metadata": {},
            "execution_count": null,
            "source": "abs(np.linalg.det(fsf1.X)) < abs(np.linalg.det(fsf2.X))",
            "outputs": [
                {
                    "output_type": "execute_result",
                    "metadata": {},
                    "data": {
                        "text/plain": "True"
                    },
                    "execution_count": null
                }
            ]
        },
        {
            "id": "fd58f87d",
            "cell_type": "code",
            "metadata": {},
            "execution_count": null,
            "source": "abs(np.linalg.det(fsf2.X)) < abs(np.linalg.det(fsf3.X))",
            "outputs": [
                {
                    "output_type": "execute_result",
                    "metadata": {},
                    "data": {
                        "text/plain": "True"
                    },
                    "execution_count": null
                }
            ]
        },
        {
            "id": "85024484",
            "cell_type": "markdown",
            "source": "Now a simple example for complex poles:\n",
            "metadata": {}
        },
        {
            "id": "30952932",
            "cell_type": "code",
            "metadata": {},
            "execution_count": null,
            "source": "A = np.array([[ 0,  7/3.,  0,   0   ],\n              [ 0,   0,    0,  7/9. ],\n              [ 0,   0,    0,   0   ],\n              [ 0,   0,    0,   0   ]])\nB = np.array([[ 0,  0 ],\n              [ 0,  0 ],\n              [ 1,  0 ],\n              [ 0,  1 ]])\nP = np.array([-3, -1, -2-1j, -2+1j]) / 3.\nfsf = signal.place_poles(A, B, P, method='YT')",
            "outputs": []
        },
        {
            "id": "e0bac4a1",
            "cell_type": "markdown",
            "source": "We can plot the desired and computed poles in the complex plane:\n",
            "metadata": {}
        },
        {
            "id": "7789a561",
            "cell_type": "code",
            "metadata": {},
            "execution_count": null,
            "source": "t = np.linspace(0, 2*np.pi, 401)\nplt.plot(np.cos(t), np.sin(t), 'k--')  # unit circle\nplt.plot(fsf.requested_poles.real, fsf.requested_poles.imag,\n         'wo', label='Desired')\nplt.plot(fsf.computed_poles.real, fsf.computed_poles.imag, 'bx',\n         label='Placed')\nplt.grid()\nplt.axis('image')\nplt.axis([-1.1, 1.1, -1.1, 1.1])\nplt.legend(bbox_to_anchor=(1.05, 1), loc=2, numpoints=1)",
            "outputs": []
        }
    ]
}