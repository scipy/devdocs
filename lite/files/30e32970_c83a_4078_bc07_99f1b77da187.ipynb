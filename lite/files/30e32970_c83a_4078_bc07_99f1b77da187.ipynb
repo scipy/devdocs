{
    "nbformat": 4,
    "nbformat_minor": 5,
    "metadata": {
        "kernelspec": {
            "display_name": "Python",
            "language": "python",
            "name": "python"
        },
        "language_info": {
            "name": "python"
        }
    },
    "cells": [
        {
            "id": "f1c742eb",
            "cell_type": "markdown",
            "source": "<div class='alert alert-warning'>\n\nSciPy's interactive examples with Jupyterlite are experimental and may not always work as expected. Execution of cells containing imports may result in large downloads (up to 60MB of content for the first import from SciPy). Load times when importing from SciPy may take roughly 10-20 seconds. If you notice any problems, feel free to open an [issue](https://github.com/scipy/scipy/issues/new/choose).\n\n</div>",
            "metadata": {}
        },
        {
            "id": "841c4d8f",
            "cell_type": "code",
            "metadata": {},
            "execution_count": null,
            "source": "from scipy.linalg import toeplitz\ntoeplitz([1,2,3], [1,4,5,6])",
            "outputs": [
                {
                    "output_type": "execute_result",
                    "metadata": {},
                    "data": {
                        "text/plain": "array([[1, 4, 5, 6],\n       [2, 1, 4, 5],\n       [3, 2, 1, 4]])"
                    },
                    "execution_count": null
                }
            ]
        },
        {
            "id": "1d2d1a29",
            "cell_type": "code",
            "metadata": {},
            "execution_count": null,
            "source": "toeplitz([1.0, 2+3j, 4-1j])",
            "outputs": [
                {
                    "output_type": "execute_result",
                    "metadata": {},
                    "data": {
                        "text/plain": "array([[ 1.+0.j,  2.-3.j,  4.+1.j],\n       [ 2.+3.j,  1.+0.j,  2.-3.j],\n       [ 4.-1.j,  2.+3.j,  1.+0.j]])"
                    },
                    "execution_count": null
                }
            ]
        }
    ]
}