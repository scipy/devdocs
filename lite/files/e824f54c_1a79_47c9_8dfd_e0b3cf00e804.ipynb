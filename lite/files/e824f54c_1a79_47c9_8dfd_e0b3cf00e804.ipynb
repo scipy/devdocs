{
    "nbformat": 4,
    "nbformat_minor": 5,
    "metadata": {
        "kernelspec": {
            "display_name": "Python",
            "language": "python",
            "name": "python"
        },
        "language_info": {
            "name": "python"
        }
    },
    "cells": [
        {
            "id": "bf84c4a2",
            "cell_type": "markdown",
            "source": "<div class='alert alert-warning'>\n\nSciPy's interactive examples with Jupyterlite are experimental and may not always work as expected. Execution of cells containing imports may result in large downloads (up to 60MB of content for the first import from SciPy). Load times when importing from SciPy may take roughly 10-20 seconds. If you notice any problems, feel free to open an [issue](https://github.com/scipy/scipy/issues/new/choose).\n\n</div>",
            "metadata": {}
        },
        {
            "id": "a076bdaa",
            "cell_type": "code",
            "metadata": {},
            "execution_count": null,
            "source": "from scipy.stats import wasserstein_distance\nwasserstein_distance([0, 1, 3], [5, 6, 8])",
            "outputs": [
                {
                    "output_type": "execute_result",
                    "metadata": {},
                    "data": {
                        "text/plain": "5.0"
                    },
                    "execution_count": null
                }
            ]
        },
        {
            "id": "d92ed27e",
            "cell_type": "code",
            "metadata": {},
            "execution_count": null,
            "source": "wasserstein_distance([0, 1], [0, 1], [3, 1], [2, 2])",
            "outputs": [
                {
                    "output_type": "execute_result",
                    "metadata": {},
                    "data": {
                        "text/plain": "0.25"
                    },
                    "execution_count": null
                }
            ]
        },
        {
            "id": "0d13c76e",
            "cell_type": "code",
            "metadata": {},
            "execution_count": null,
            "source": "wasserstein_distance([3.4, 3.9, 7.5, 7.8], [4.5, 1.4],\n                     [1.4, 0.9, 3.1, 7.2], [3.2, 3.5])",
            "outputs": [
                {
                    "output_type": "execute_result",
                    "metadata": {},
                    "data": {
                        "text/plain": "4.0781331438047861"
                    },
                    "execution_count": null
                }
            ]
        }
    ]
}