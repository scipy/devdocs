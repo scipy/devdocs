{
    "nbformat": 4,
    "nbformat_minor": 5,
    "metadata": {
        "kernelspec": {
            "display_name": "Python",
            "language": "python",
            "name": "python"
        },
        "language_info": {
            "name": "python"
        }
    },
    "cells": [
        {
            "id": "90d7b4a4",
            "cell_type": "markdown",
            "source": "<div class='alert alert-warning'>\n\nSciPy's interactive examples with Jupyterlite are experimental and may not always work as expected. Execution of cells containing imports may result in large downloads (up to 60MB of content for the first import from SciPy). Load times when importing from SciPy may take roughly 10-20 seconds. If you notice any problems, feel free to open an [issue](https://github.com/scipy/scipy/issues/new/choose).\n\n</div>",
            "metadata": {}
        },
        {
            "id": "d47721a4",
            "cell_type": "code",
            "metadata": {},
            "execution_count": null,
            "source": "import numpy as np\nfrom scipy import stats\nrng = np.random.default_rng()",
            "outputs": []
        },
        {
            "id": "71c3b41f",
            "cell_type": "markdown",
            "source": "Test with sample with identical means:\n",
            "metadata": {}
        },
        {
            "id": "4302382c",
            "cell_type": "code",
            "metadata": {},
            "execution_count": null,
            "source": "rvs1 = stats.norm.rvs(loc=5, scale=10, size=500, random_state=rng)\nrvs2 = stats.norm.rvs(loc=5, scale=10, size=500, random_state=rng)\nstats.ttest_ind(rvs1, rvs2)",
            "outputs": [
                {
                    "output_type": "execute_result",
                    "metadata": {},
                    "data": {
                        "text/plain": "TtestResult(statistic=-0.4390847099199348,\n            pvalue=0.6606952038870015,\n            df=998.0)"
                    },
                    "execution_count": null
                }
            ]
        },
        {
            "id": "f290c0a3",
            "cell_type": "code",
            "metadata": {},
            "execution_count": null,
            "source": "stats.ttest_ind(rvs1, rvs2, equal_var=False)",
            "outputs": [
                {
                    "output_type": "execute_result",
                    "metadata": {},
                    "data": {
                        "text/plain": "TtestResult(statistic=-0.4390847099199348,\n            pvalue=0.6606952553131064,\n            df=997.4602304121448)"
                    },
                    "execution_count": null
                }
            ]
        },
        {
            "id": "fa676b0b",
            "cell_type": "markdown",
            "source": "`ttest_ind` underestimates p for unequal variances:\n",
            "metadata": {}
        },
        {
            "id": "18141544",
            "cell_type": "code",
            "metadata": {},
            "execution_count": null,
            "source": "rvs3 = stats.norm.rvs(loc=5, scale=20, size=500, random_state=rng)\nstats.ttest_ind(rvs1, rvs3)",
            "outputs": [
                {
                    "output_type": "execute_result",
                    "metadata": {},
                    "data": {
                        "text/plain": "TtestResult(statistic=-1.6370984482905417,\n            pvalue=0.1019251574705033,\n            df=998.0)"
                    },
                    "execution_count": null
                }
            ]
        },
        {
            "id": "fde1d192",
            "cell_type": "code",
            "metadata": {},
            "execution_count": null,
            "source": "stats.ttest_ind(rvs1, rvs3, equal_var=False)",
            "outputs": [
                {
                    "output_type": "execute_result",
                    "metadata": {},
                    "data": {
                        "text/plain": "TtestResult(statistic=-1.637098448290542,\n            pvalue=0.10202110497954867,\n            df=765.1098655246868)"
                    },
                    "execution_count": null
                }
            ]
        },
        {
            "id": "f2e80ac0",
            "cell_type": "markdown",
            "source": "When ``n1 != n2``, the equal variance t-statistic is no longer equal to the\nunequal variance t-statistic:\n",
            "metadata": {}
        },
        {
            "id": "80de9b16",
            "cell_type": "code",
            "metadata": {},
            "execution_count": null,
            "source": "rvs4 = stats.norm.rvs(loc=5, scale=20, size=100, random_state=rng)\nstats.ttest_ind(rvs1, rvs4)",
            "outputs": [
                {
                    "output_type": "execute_result",
                    "metadata": {},
                    "data": {
                        "text/plain": "TtestResult(statistic=-1.9481646859513422,\n            pvalue=0.05186270935842703,\n            df=598.0)"
                    },
                    "execution_count": null
                }
            ]
        },
        {
            "id": "e80be0f4",
            "cell_type": "code",
            "metadata": {},
            "execution_count": null,
            "source": "stats.ttest_ind(rvs1, rvs4, equal_var=False)",
            "outputs": [
                {
                    "output_type": "execute_result",
                    "metadata": {},
                    "data": {
                        "text/plain": "TtestResult(statistic=-1.3146566100751664,\n            pvalue=0.1913495266513811,\n            df=110.41349083985212)"
                    },
                    "execution_count": null
                }
            ]
        },
        {
            "id": "f83fec20",
            "cell_type": "markdown",
            "source": "T-test with different means, variance, and n:\n",
            "metadata": {}
        },
        {
            "id": "485f8497",
            "cell_type": "code",
            "metadata": {},
            "execution_count": null,
            "source": "rvs5 = stats.norm.rvs(loc=8, scale=20, size=100, random_state=rng)\nstats.ttest_ind(rvs1, rvs5)",
            "outputs": [
                {
                    "output_type": "execute_result",
                    "metadata": {},
                    "data": {
                        "text/plain": "TtestResult(statistic=-2.8415950600298774,\n            pvalue=0.0046418707568707885,\n            df=598.0)"
                    },
                    "execution_count": null
                }
            ]
        },
        {
            "id": "32d4104d",
            "cell_type": "code",
            "metadata": {},
            "execution_count": null,
            "source": "stats.ttest_ind(rvs1, rvs5, equal_var=False)",
            "outputs": [
                {
                    "output_type": "execute_result",
                    "metadata": {},
                    "data": {
                        "text/plain": "TtestResult(statistic=-1.8686598649188084,\n            pvalue=0.06434714193919686,\n            df=109.32167496550137)"
                    },
                    "execution_count": null
                }
            ]
        },
        {
            "id": "0ccafa7f",
            "cell_type": "markdown",
            "source": "When performing a permutation test, more permutations typically yields\nmore accurate results. Use a ``np.random.Generator`` to ensure\nreproducibility:\n",
            "metadata": {}
        },
        {
            "id": "63e445ae",
            "cell_type": "code",
            "metadata": {},
            "execution_count": null,
            "source": "stats.ttest_ind(rvs1, rvs5, permutations=10000,\n                random_state=rng)",
            "outputs": [
                {
                    "output_type": "execute_result",
                    "metadata": {},
                    "data": {
                        "text/plain": "TtestResult(statistic=-2.8415950600298774,\n            pvalue=0.0052994700529947,\n            df=nan)"
                    },
                    "execution_count": null
                }
            ]
        },
        {
            "id": "910d3a6e",
            "cell_type": "markdown",
            "source": "Take these two samples, one of which has an extreme tail.\n",
            "metadata": {}
        },
        {
            "id": "95bd0210",
            "cell_type": "code",
            "metadata": {},
            "execution_count": null,
            "source": "a = (56, 128.6, 12, 123.8, 64.34, 78, 763.3)\nb = (1.1, 2.9, 4.2)",
            "outputs": []
        },
        {
            "id": "5ef71430",
            "cell_type": "markdown",
            "source": "Use the `trim` keyword to perform a trimmed (Yuen) t-test. For example,\nusing 20% trimming, ``trim=.2``, the test will reduce the impact of one\n(``np.floor(trim*len(a))``) element from each tail of sample `a`. It will\nhave no effect on sample `b` because ``np.floor(trim*len(b))`` is 0.\n",
            "metadata": {}
        },
        {
            "id": "c6e04797",
            "cell_type": "code",
            "metadata": {},
            "execution_count": null,
            "source": "stats.ttest_ind(a, b, trim=.2)",
            "outputs": [
                {
                    "output_type": "execute_result",
                    "metadata": {},
                    "data": {
                        "text/plain": "TtestResult(statistic=3.4463884028073513,\n            pvalue=0.01369338726499547,\n            df=6.0)"
                    },
                    "execution_count": null
                }
            ]
        }
    ]
}