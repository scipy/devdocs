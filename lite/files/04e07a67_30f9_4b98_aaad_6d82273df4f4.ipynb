{
    "nbformat": 4,
    "nbformat_minor": 5,
    "metadata": {
        "kernelspec": {
            "display_name": "Python",
            "language": "python",
            "name": "python"
        },
        "language_info": {
            "name": "python"
        }
    },
    "cells": [
        {
            "id": "d4731a47",
            "cell_type": "markdown",
            "source": "<div class='alert alert-warning'>\n\nSciPy's interactive examples with Jupyterlite are experimental and may not always work as expected. Execution of cells containing imports may result in large downloads (up to 60MB of content for the first import from SciPy). Load times when importing from SciPy may take roughly 10-20 seconds. If you notice any problems, feel free to open an [issue](https://github.com/scipy/scipy/issues/new/choose).\n\n</div>",
            "metadata": {}
        },
        {
            "id": "dddb9795",
            "cell_type": "code",
            "metadata": {},
            "execution_count": null,
            "source": "import numpy as np\nfrom scipy import signal\nimport matplotlib.pyplot as plt\nrng = np.random.default_rng()",
            "outputs": []
        },
        {
            "id": "b5669e07",
            "cell_type": "markdown",
            "source": "Generate two test signals with some common features.\n",
            "metadata": {}
        },
        {
            "id": "3c51726d",
            "cell_type": "code",
            "metadata": {},
            "execution_count": null,
            "source": "fs = 10e3\nN = 1e5\namp = 20\nfreq = 1234.0\nnoise_power = 0.001 * fs / 2\ntime = np.arange(N) / fs\nb, a = signal.butter(2, 0.25, 'low')\nx = rng.normal(scale=np.sqrt(noise_power), size=time.shape)\ny = signal.lfilter(b, a, x)\nx += amp*np.sin(2*np.pi*freq*time)\ny += rng.normal(scale=0.1*np.sqrt(noise_power), size=time.shape)",
            "outputs": []
        },
        {
            "id": "b73c8f47",
            "cell_type": "markdown",
            "source": "Compute and plot the magnitude of the cross spectral density.\n",
            "metadata": {}
        },
        {
            "id": "14ddbee5",
            "cell_type": "code",
            "metadata": {},
            "execution_count": null,
            "source": "f, Pxy = signal.csd(x, y, fs, nperseg=1024)\nplt.semilogy(f, np.abs(Pxy))\nplt.xlabel('frequency [Hz]')\nplt.ylabel('CSD [V**2/Hz]')\nplt.show()",
            "outputs": []
        }
    ]
}