{
    "nbformat": 4,
    "nbformat_minor": 5,
    "metadata": {
        "kernelspec": {
            "display_name": "Python",
            "language": "python",
            "name": "python"
        },
        "language_info": {
            "name": "python"
        }
    },
    "cells": [
        {
            "id": "b295e97d",
            "cell_type": "markdown",
            "source": "<div class='alert alert-warning'>\n\nSciPy's interactive examples with Jupyterlite are experimental and may not always work as expected. Execution of cells containing imports may result in large downloads (up to 60MB of content for the first import from SciPy). Load times when importing from SciPy may take roughly 10-20 seconds. If you notice any problems, feel free to open an [issue](https://github.com/scipy/scipy/issues/new/choose).\n\n</div>",
            "metadata": {}
        },
        {
            "id": "1280d35d",
            "cell_type": "code",
            "metadata": {},
            "execution_count": null,
            "source": "from scipy.misc import electrocardiogram\necg = electrocardiogram()\necg",
            "outputs": [
                {
                    "output_type": "execute_result",
                    "metadata": {},
                    "data": {
                        "text/plain": "array([-0.245, -0.215, -0.185, ..., -0.405, -0.395, -0.385])"
                    },
                    "execution_count": null
                }
            ]
        },
        {
            "id": "40ef48ab",
            "cell_type": "code",
            "metadata": {},
            "execution_count": null,
            "source": "ecg.shape, ecg.mean(), ecg.std()",
            "outputs": [
                {
                    "output_type": "execute_result",
                    "metadata": {},
                    "data": {
                        "text/plain": "((108000,), -0.16510875, 0.5992473991177294)"
                    },
                    "execution_count": null
                }
            ]
        },
        {
            "id": "854aff43",
            "cell_type": "markdown",
            "source": "As stated the signal features several areas with a different morphology.\nE.g., the first few seconds show the electrical activity of a heart in\nnormal sinus rhythm as seen below.\n",
            "metadata": {}
        },
        {
            "id": "30c95b8c",
            "cell_type": "code",
            "metadata": {},
            "execution_count": null,
            "source": "import numpy as np\nimport matplotlib.pyplot as plt\nfs = 360\ntime = np.arange(ecg.size) / fs\nplt.plot(time, ecg)\nplt.xlabel(\"time in s\")\nplt.ylabel(\"ECG in mV\")\nplt.xlim(9, 10.2)\nplt.ylim(-1, 1.5)\nplt.show()",
            "outputs": []
        },
        {
            "id": "f0e08cc2",
            "cell_type": "markdown",
            "source": "After second 16, however, the first premature ventricular contractions, also\ncalled extrasystoles, appear. These have a different morphology compared to\ntypical heartbeats. The difference can easily be observed in the following\nplot.\n",
            "metadata": {}
        },
        {
            "id": "1458253d",
            "cell_type": "code",
            "metadata": {},
            "execution_count": null,
            "source": "plt.plot(time, ecg)\nplt.xlabel(\"time in s\")\nplt.ylabel(\"ECG in mV\")\nplt.xlim(46.5, 50)\nplt.ylim(-2, 1.5)\nplt.show()",
            "outputs": []
        },
        {
            "id": "dd61f8df",
            "cell_type": "markdown",
            "source": "At several points large artifacts disturb the recording, e.g.:\n",
            "metadata": {}
        },
        {
            "id": "42f88e37",
            "cell_type": "code",
            "metadata": {},
            "execution_count": null,
            "source": "plt.plot(time, ecg)\nplt.xlabel(\"time in s\")\nplt.ylabel(\"ECG in mV\")\nplt.xlim(207, 215)\nplt.ylim(-2, 3.5)\nplt.show()",
            "outputs": []
        },
        {
            "id": "fdcac6d6",
            "cell_type": "markdown",
            "source": "Finally, examining the power spectrum reveals that most of the biosignal is\nmade up of lower frequencies. At 60 Hz the noise induced by the mains\nelectricity can be clearly observed.\n",
            "metadata": {}
        },
        {
            "id": "00ba1377",
            "cell_type": "code",
            "metadata": {},
            "execution_count": null,
            "source": "from scipy.signal import welch\nf, Pxx = welch(ecg, fs=fs, nperseg=2048, scaling=\"spectrum\")\nplt.semilogy(f, Pxx)\nplt.xlabel(\"Frequency in Hz\")\nplt.ylabel(\"Power spectrum of the ECG in mV**2\")\nplt.xlim(f[[0, -1]])\nplt.show()",
            "outputs": []
        }
    ]
}