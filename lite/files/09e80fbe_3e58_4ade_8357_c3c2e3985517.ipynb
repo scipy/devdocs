{
    "nbformat": 4,
    "nbformat_minor": 5,
    "metadata": {
        "kernelspec": {
            "display_name": "Python",
            "language": "python",
            "name": "python"
        },
        "language_info": {
            "name": "python"
        }
    },
    "cells": [
        {
            "id": "ae733a89",
            "cell_type": "markdown",
            "source": "<div class='alert alert-warning'>\n\nSciPy's interactive examples with Jupyterlite are experimental and may not always work as expected. Execution of cells containing imports may result in large downloads (up to 60MB of content for the first import from SciPy). Load times when importing from SciPy may take roughly 10-20 seconds. If you notice any problems, feel free to open an [issue](https://github.com/scipy/scipy/issues/new/choose).\n\n</div>",
            "metadata": {}
        },
        {
            "id": "7ef9b410",
            "cell_type": "markdown",
            "source": "Calculate the function at one point:\n",
            "metadata": {}
        },
        {
            "id": "5b257e61",
            "cell_type": "code",
            "metadata": {},
            "execution_count": null,
            "source": "from scipy.special import i1\ni1(1.)",
            "outputs": [
                {
                    "output_type": "execute_result",
                    "metadata": {},
                    "data": {
                        "text/plain": "0.5651591039924851"
                    },
                    "execution_count": null
                }
            ]
        },
        {
            "id": "d9557812",
            "cell_type": "markdown",
            "source": "Calculate the function at several points:\n",
            "metadata": {}
        },
        {
            "id": "be291573",
            "cell_type": "code",
            "metadata": {},
            "execution_count": null,
            "source": "import numpy as np\ni1(np.array([-2., 0., 6.]))",
            "outputs": [
                {
                    "output_type": "execute_result",
                    "metadata": {},
                    "data": {
                        "text/plain": "array([-1.59063685,  0.        , 61.34193678])"
                    },
                    "execution_count": null
                }
            ]
        },
        {
            "id": "e53125dc",
            "cell_type": "markdown",
            "source": "Plot the function between -10 and 10.\n",
            "metadata": {}
        },
        {
            "id": "ee6c9592",
            "cell_type": "code",
            "metadata": {},
            "execution_count": null,
            "source": "import matplotlib.pyplot as plt\nfig, ax = plt.subplots()\nx = np.linspace(-10., 10., 1000)\ny = i1(x)\nax.plot(x, y)\nplt.show()",
            "outputs": []
        }
    ]
}