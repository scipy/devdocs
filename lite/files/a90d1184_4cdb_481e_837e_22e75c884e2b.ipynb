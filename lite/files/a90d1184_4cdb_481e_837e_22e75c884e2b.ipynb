{
    "nbformat": 4,
    "nbformat_minor": 5,
    "metadata": {
        "kernelspec": {
            "display_name": "Python",
            "language": "python",
            "name": "python"
        },
        "language_info": {
            "name": "python"
        }
    },
    "cells": [
        {
            "id": "1630568d",
            "cell_type": "markdown",
            "source": "<div class='alert alert-warning'>\n\nSciPy's interactive examples with Jupyterlite are experimental and may not always work as expected. Execution of cells containing imports may result in large downloads (up to 60MB of content for the first import from SciPy). Load times when importing from SciPy may take roughly 10-20 seconds. If you notice any problems, feel free to open an [issue](https://github.com/scipy/scipy/issues/new/choose).\n\n</div>",
            "metadata": {}
        },
        {
            "id": "a84840f4",
            "cell_type": "markdown",
            "source": "Suppose we have sampled data from an unknown distribution.\n",
            "metadata": {}
        },
        {
            "id": "1cf02e81",
            "cell_type": "code",
            "metadata": {},
            "execution_count": null,
            "source": "import numpy as np\nrng = np.random.default_rng()\nfrom scipy.stats import norm\ndist = norm(loc=2, scale=4)  # our \"unknown\" distribution\ndata = dist.rvs(size=100, random_state=rng)",
            "outputs": []
        },
        {
            "id": "f542c8f6",
            "cell_type": "markdown",
            "source": "We are interested in the standard deviation of the distribution.\n",
            "metadata": {}
        },
        {
            "id": "37edb9b1",
            "cell_type": "code",
            "metadata": {},
            "execution_count": null,
            "source": "std_true = dist.std()      # the true value of the statistic\nprint(std_true)",
            "outputs": [
                {
                    "output_type": "execute_result",
                    "metadata": {},
                    "data": {
                        "text/plain": "4.0"
                    },
                    "execution_count": null
                }
            ]
        },
        {
            "id": "68a6a616",
            "cell_type": "code",
            "metadata": {},
            "execution_count": null,
            "source": "std_sample = np.std(data)  # the sample statistic\nprint(std_sample)",
            "outputs": [
                {
                    "output_type": "execute_result",
                    "metadata": {},
                    "data": {
                        "text/plain": "3.9460644295563863"
                    },
                    "execution_count": null
                }
            ]
        },
        {
            "id": "440d8634",
            "cell_type": "markdown",
            "source": "The bootstrap is used to approximate the variability we would expect if we\nwere to repeatedly sample from the unknown distribution and calculate the\nstatistic of the sample each time. It does this by repeatedly resampling\nvalues *from the original sample* with replacement and calculating the\nstatistic of each resample. This results in a \"bootstrap distribution\" of\nthe statistic.\n",
            "metadata": {}
        },
        {
            "id": "095bcf1a",
            "cell_type": "code",
            "metadata": {},
            "execution_count": null,
            "source": "import matplotlib.pyplot as plt\nfrom scipy.stats import bootstrap\ndata = (data,)  # samples must be in a sequence\nres = bootstrap(data, np.std, confidence_level=0.9,\n                random_state=rng)\nfig, ax = plt.subplots()\nax.hist(res.bootstrap_distribution, bins=25)\nax.set_title('Bootstrap Distribution')\nax.set_xlabel('statistic value')\nax.set_ylabel('frequency')\nplt.show()",
            "outputs": []
        },
        {
            "id": "ee4a6d73",
            "cell_type": "markdown",
            "source": "The standard error quantifies this variability. It is calculated as the\nstandard deviation of the bootstrap distribution.\n",
            "metadata": {}
        },
        {
            "id": "7558af41",
            "cell_type": "code",
            "metadata": {},
            "execution_count": null,
            "source": "res.standard_error",
            "outputs": [
                {
                    "output_type": "execute_result",
                    "metadata": {},
                    "data": {
                        "text/plain": "0.24427002125829136"
                    },
                    "execution_count": null
                }
            ]
        },
        {
            "id": "631082b2",
            "cell_type": "code",
            "metadata": {},
            "execution_count": null,
            "source": "res.standard_error == np.std(res.bootstrap_distribution, ddof=1)",
            "outputs": [
                {
                    "output_type": "execute_result",
                    "metadata": {},
                    "data": {
                        "text/plain": "True"
                    },
                    "execution_count": null
                }
            ]
        },
        {
            "id": "2781f501",
            "cell_type": "markdown",
            "source": "The bootstrap distribution of the statistic is often approximately normal\nwith scale equal to the standard error.\n",
            "metadata": {}
        },
        {
            "id": "e9f385c3",
            "cell_type": "code",
            "metadata": {},
            "execution_count": null,
            "source": "x = np.linspace(3, 5)\npdf = norm.pdf(x, loc=std_sample, scale=res.standard_error)\nfig, ax = plt.subplots()\nax.hist(res.bootstrap_distribution, bins=25, density=True)\nax.plot(x, pdf)\nax.set_title('Normal Approximation of the Bootstrap Distribution')\nax.set_xlabel('statistic value')\nax.set_ylabel('pdf')\nplt.show()",
            "outputs": []
        },
        {
            "id": "768d08ed",
            "cell_type": "markdown",
            "source": "This suggests that we could construct a 90% confidence interval on the\nstatistic based on quantiles of this normal distribution.\n",
            "metadata": {}
        },
        {
            "id": "a490b259",
            "cell_type": "code",
            "metadata": {},
            "execution_count": null,
            "source": "norm.interval(0.9, loc=std_sample, scale=res.standard_error)",
            "outputs": [
                {
                    "output_type": "execute_result",
                    "metadata": {},
                    "data": {
                        "text/plain": "(3.5442759991341726, 4.3478528599786)"
                    },
                    "execution_count": null
                }
            ]
        },
        {
            "id": "0bf76e0a",
            "cell_type": "markdown",
            "source": "Due to central limit theorem, this normal approximation is accurate for a\nvariety of statistics and distributions underlying the samples; however,\nthe approximation is not reliable in all cases. Because `bootstrap` is\ndesigned to work with arbitrary underlying distributions and statistics,\nit uses more advanced techniques to generate an accurate confidence\ninterval.\n",
            "metadata": {}
        },
        {
            "id": "2d57b04c",
            "cell_type": "code",
            "metadata": {},
            "execution_count": null,
            "source": "print(res.confidence_interval)",
            "outputs": [
                {
                    "output_type": "execute_result",
                    "metadata": {},
                    "data": {
                        "text/plain": "ConfidenceInterval(low=3.57655333533867, high=4.382043696342881)"
                    },
                    "execution_count": null
                }
            ]
        },
        {
            "id": "55e4f59e",
            "cell_type": "markdown",
            "source": "If we sample from the original distribution 100 times and form a bootstrap\nconfidence interval for each sample, the confidence interval\ncontains the true value of the statistic approximately 90% of the time.\n",
            "metadata": {}
        },
        {
            "id": "b64e5c06",
            "cell_type": "code",
            "metadata": {},
            "execution_count": null,
            "source": "n_trials = 100\nci_contains_true_std = 0\nfor i in range(n_trials):\n   data = (dist.rvs(size=100, random_state=rng),)\n   res = bootstrap(data, np.std, confidence_level=0.9,\n                   n_resamples=999, random_state=rng)\n   ci = res.confidence_interval\n   if ci[0] < std_true < ci[1]:\n       ci_contains_true_std += 1\nprint(ci_contains_true_std)",
            "outputs": [
                {
                    "output_type": "execute_result",
                    "metadata": {},
                    "data": {
                        "text/plain": "88"
                    },
                    "execution_count": null
                }
            ]
        },
        {
            "id": "335174d1",
            "cell_type": "markdown",
            "source": "Rather than writing a loop, we can also determine the confidence intervals\nfor all 100 samples at once.\n",
            "metadata": {}
        },
        {
            "id": "1ca86b0b",
            "cell_type": "code",
            "metadata": {},
            "execution_count": null,
            "source": "data = (dist.rvs(size=(n_trials, 100), random_state=rng),)\nres = bootstrap(data, np.std, axis=-1, confidence_level=0.9,\n                n_resamples=999, random_state=rng)\nci_l, ci_u = res.confidence_interval",
            "outputs": []
        },
        {
            "id": "2971e057",
            "cell_type": "markdown",
            "source": "Here, `ci_l` and `ci_u` contain the confidence interval for each of the\n``n_trials = 100`` samples.\n",
            "metadata": {}
        },
        {
            "id": "649e262f",
            "cell_type": "code",
            "metadata": {},
            "execution_count": null,
            "source": "print(ci_l[:5])",
            "outputs": [
                {
                    "output_type": "execute_result",
                    "metadata": {},
                    "data": {
                        "text/plain": "[3.86401283 3.33304394 3.52474647 3.54160981 3.80569252]"
                    },
                    "execution_count": null
                }
            ]
        },
        {
            "id": "99a95127",
            "cell_type": "code",
            "metadata": {},
            "execution_count": null,
            "source": "print(ci_u[:5])",
            "outputs": [
                {
                    "output_type": "execute_result",
                    "metadata": {},
                    "data": {
                        "text/plain": "[4.80217409 4.18143252 4.39734707 4.37549713 4.72843584]"
                    },
                    "execution_count": null
                }
            ]
        },
        {
            "id": "aeb1198d",
            "cell_type": "markdown",
            "source": "And again, approximately 90% contain the true value, ``std_true = 4``.\n",
            "metadata": {}
        },
        {
            "id": "dc716312",
            "cell_type": "code",
            "metadata": {},
            "execution_count": null,
            "source": "print(np.sum((ci_l < std_true) & (std_true < ci_u)))",
            "outputs": [
                {
                    "output_type": "execute_result",
                    "metadata": {},
                    "data": {
                        "text/plain": "93"
                    },
                    "execution_count": null
                }
            ]
        },
        {
            "id": "19eaec87",
            "cell_type": "markdown",
            "source": "`bootstrap` can also be used to estimate confidence intervals of\nmulti-sample statistics. For example, to get a confidence interval\nfor the difference between means, we write a function that accepts\ntwo sample arguments and returns only the statistic. The use of the\n``axis`` argument ensures that all mean calculations are perform in\na single vectorized call, which is faster than looping over pairs\nof resamples in Python.\n",
            "metadata": {}
        },
        {
            "id": "4179b81d",
            "cell_type": "code",
            "metadata": {},
            "execution_count": null,
            "source": "def my_statistic(sample1, sample2, axis=-1):\n    mean1 = np.mean(sample1, axis=axis)\n    mean2 = np.mean(sample2, axis=axis)\n    return mean1 - mean2",
            "outputs": []
        },
        {
            "id": "85dd71e4",
            "cell_type": "markdown",
            "source": "Here, we use the 'percentile' method with the default 95% confidence level.\n",
            "metadata": {}
        },
        {
            "id": "c0945850",
            "cell_type": "code",
            "metadata": {},
            "execution_count": null,
            "source": "sample1 = norm.rvs(scale=1, size=100, random_state=rng)\nsample2 = norm.rvs(scale=2, size=100, random_state=rng)\ndata = (sample1, sample2)\nres = bootstrap(data, my_statistic, method='basic', random_state=rng)\nprint(my_statistic(sample1, sample2))",
            "outputs": [
                {
                    "output_type": "execute_result",
                    "metadata": {},
                    "data": {
                        "text/plain": "0.16661030792089523"
                    },
                    "execution_count": null
                }
            ]
        },
        {
            "id": "36eeb0bc",
            "cell_type": "code",
            "metadata": {},
            "execution_count": null,
            "source": "print(res.confidence_interval)",
            "outputs": [
                {
                    "output_type": "execute_result",
                    "metadata": {},
                    "data": {
                        "text/plain": "ConfidenceInterval(low=-0.29087973240818693, high=0.6371338699912273)"
                    },
                    "execution_count": null
                }
            ]
        },
        {
            "id": "f47ccd3d",
            "cell_type": "markdown",
            "source": "The bootstrap estimate of the standard error is also available.\n",
            "metadata": {}
        },
        {
            "id": "2855fa11",
            "cell_type": "code",
            "metadata": {},
            "execution_count": null,
            "source": "print(res.standard_error)",
            "outputs": [
                {
                    "output_type": "execute_result",
                    "metadata": {},
                    "data": {
                        "text/plain": "0.238323948262459"
                    },
                    "execution_count": null
                }
            ]
        },
        {
            "id": "7817cee0",
            "cell_type": "markdown",
            "source": "Paired-sample statistics work, too. For example, consider the Pearson\ncorrelation coefficient.\n",
            "metadata": {}
        },
        {
            "id": "09de1265",
            "cell_type": "code",
            "metadata": {},
            "execution_count": null,
            "source": "from scipy.stats import pearsonr\nn = 100\nx = np.linspace(0, 10, n)\ny = x + rng.uniform(size=n)\nprint(pearsonr(x, y)[0])  # element 0 is the statistic",
            "outputs": [
                {
                    "output_type": "execute_result",
                    "metadata": {},
                    "data": {
                        "text/plain": "0.9954306665125647"
                    },
                    "execution_count": null
                }
            ]
        },
        {
            "id": "574124e5",
            "cell_type": "markdown",
            "source": "We wrap `pearsonr` so that it returns only the statistic, ensuring\nthat we use the `axis` argument because it is available.\n",
            "metadata": {}
        },
        {
            "id": "76f5103c",
            "cell_type": "code",
            "metadata": {},
            "execution_count": null,
            "source": "def my_statistic(x, y, axis=-1):\n    return pearsonr(x, y, axis=axis)[0]",
            "outputs": []
        },
        {
            "id": "b11f9d7a",
            "cell_type": "markdown",
            "source": "We call `bootstrap` using ``paired=True``.\n",
            "metadata": {}
        },
        {
            "id": "d7736348",
            "cell_type": "code",
            "metadata": {},
            "execution_count": null,
            "source": "res = bootstrap((x, y), my_statistic, paired=True, random_state=rng)\nprint(res.confidence_interval)",
            "outputs": [
                {
                    "output_type": "execute_result",
                    "metadata": {},
                    "data": {
                        "text/plain": "ConfidenceInterval(low=0.9941504301315878, high=0.996377412215445)"
                    },
                    "execution_count": null
                }
            ]
        },
        {
            "id": "edf0a9e5",
            "cell_type": "markdown",
            "source": "The result object can be passed back into `bootstrap` to perform additional\nresampling:\n",
            "metadata": {}
        },
        {
            "id": "480ad58c",
            "cell_type": "code",
            "metadata": {},
            "execution_count": null,
            "source": "len(res.bootstrap_distribution)",
            "outputs": [
                {
                    "output_type": "execute_result",
                    "metadata": {},
                    "data": {
                        "text/plain": "9999"
                    },
                    "execution_count": null
                }
            ]
        },
        {
            "id": "daf629b1",
            "cell_type": "code",
            "metadata": {},
            "execution_count": null,
            "source": "res = bootstrap((x, y), my_statistic, paired=True,\n                n_resamples=1000, random_state=rng,\n                bootstrap_result=res)\nlen(res.bootstrap_distribution)",
            "outputs": [
                {
                    "output_type": "execute_result",
                    "metadata": {},
                    "data": {
                        "text/plain": "10999"
                    },
                    "execution_count": null
                }
            ]
        },
        {
            "id": "8e5859f1",
            "cell_type": "markdown",
            "source": "or to change the confidence interval options:\n",
            "metadata": {}
        },
        {
            "id": "ab061b54",
            "cell_type": "code",
            "metadata": {},
            "execution_count": null,
            "source": "res2 = bootstrap((x, y), my_statistic, paired=True,\n                 n_resamples=0, random_state=rng, bootstrap_result=res,\n                 method='percentile', confidence_level=0.9)\nnp.testing.assert_equal(res2.bootstrap_distribution,\n                        res.bootstrap_distribution)\nres.confidence_interval",
            "outputs": [
                {
                    "output_type": "execute_result",
                    "metadata": {},
                    "data": {
                        "text/plain": "ConfidenceInterval(low=0.9941574828235082, high=0.9963781698210212)"
                    },
                    "execution_count": null
                }
            ]
        },
        {
            "id": "2b506850",
            "cell_type": "markdown",
            "source": "without repeating computation of the original bootstrap distribution.\n",
            "metadata": {}
        }
    ]
}