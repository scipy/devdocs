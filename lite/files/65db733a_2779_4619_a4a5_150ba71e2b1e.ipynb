{
    "nbformat": 4,
    "nbformat_minor": 5,
    "metadata": {
        "kernelspec": {
            "display_name": "Python",
            "language": "python",
            "name": "python"
        },
        "language_info": {
            "name": "python"
        }
    },
    "cells": [
        {
            "id": "e4add5b0",
            "cell_type": "markdown",
            "source": "<div class='alert alert-warning'>\n\nSciPy's interactive examples with Jupyterlite are experimental and may not always work as expected. Execution of cells containing imports may result in large downloads (up to 60MB of content for the first import from SciPy). Load times when importing from SciPy may take roughly 10-20 seconds. If you notice any problems, feel free to open an [issue](https://github.com/scipy/scipy/issues/new/choose).\n\n</div>",
            "metadata": {}
        },
        {
            "id": "59b168ed",
            "cell_type": "code",
            "metadata": {},
            "execution_count": null,
            "source": "def f(x):\n    return (x**2 - 1)",
            "outputs": []
        },
        {
            "id": "3949feff",
            "cell_type": "code",
            "metadata": {},
            "execution_count": null,
            "source": "from scipy import optimize",
            "outputs": []
        },
        {
            "id": "9c25a38f",
            "cell_type": "code",
            "metadata": {},
            "execution_count": null,
            "source": "root = optimize.bisect(f, 0, 2)\nroot",
            "outputs": [
                {
                    "output_type": "execute_result",
                    "metadata": {},
                    "data": {
                        "text/plain": "1.0"
                    },
                    "execution_count": null
                }
            ]
        },
        {
            "id": "b0b71cc2",
            "cell_type": "code",
            "metadata": {},
            "execution_count": null,
            "source": "root = optimize.bisect(f, -2, 0)\nroot",
            "outputs": [
                {
                    "output_type": "execute_result",
                    "metadata": {},
                    "data": {
                        "text/plain": "-1.0"
                    },
                    "execution_count": null
                }
            ]
        }
    ]
}