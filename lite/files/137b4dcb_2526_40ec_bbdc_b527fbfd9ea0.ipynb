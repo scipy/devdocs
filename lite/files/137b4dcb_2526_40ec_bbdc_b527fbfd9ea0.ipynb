{
    "nbformat": 4,
    "nbformat_minor": 5,
    "metadata": {
        "kernelspec": {
            "display_name": "Python",
            "language": "python",
            "name": "python"
        },
        "language_info": {
            "name": "python"
        }
    },
    "cells": [
        {
            "id": "94eab980",
            "cell_type": "markdown",
            "source": "<div class='alert alert-warning'>\n\nSciPy's interactive examples with Jupyterlite are experimental and may not always work as expected. Execution of cells containing imports may result in large downloads (up to 60MB of content for the first import from SciPy). Load times when importing from SciPy may take roughly 10-20 seconds. If you notice any problems, feel free to open an [issue](https://github.com/scipy/scipy/issues/new/choose).\n\n</div>",
            "metadata": {}
        },
        {
            "id": "3fbd1f75",
            "cell_type": "code",
            "metadata": {},
            "execution_count": null,
            "source": "from scipy import stats\nfrom numpy.random import default_rng\nrng = default_rng()",
            "outputs": []
        },
        {
            "id": "4d0e475d",
            "cell_type": "markdown",
            "source": "As sample size increases, `n`-th moment and `n`-th k-statistic converge to the\nsame number (although they aren't identical). In the case of the normal\ndistribution, they converge to zero.\n",
            "metadata": {}
        },
        {
            "id": "fb252780",
            "cell_type": "code",
            "metadata": {},
            "execution_count": null,
            "source": "for i in range(2,8):\n    x = rng.normal(size=10**i)\n    m, k = stats.moment(x, 3), stats.kstat(x, 3)\n    print(f\"{i=}: {m=:.3g}, {k=:.3g}, {(m-k)=:.3g}\")",
            "outputs": [
                {
                    "output_type": "execute_result",
                    "metadata": {},
                    "data": {
                        "text/plain": "i=2: m=-0.631, k=-0.651, (m-k)=0.0194  # random\ni=3: m=0.0282, k=0.0283, (m-k)=-8.49e-05\ni=4: m=-0.0454, k=-0.0454, (m-k)=1.36e-05\ni=6: m=7.53e-05, k=7.53e-05, (m-k)=-2.26e-09\ni=7: m=0.00166, k=0.00166, (m-k)=-4.99e-09\ni=8: m=-2.88e-06 k=-2.88e-06, (m-k)=8.63e-13"
                    },
                    "execution_count": null
                }
            ]
        }
    ]
}