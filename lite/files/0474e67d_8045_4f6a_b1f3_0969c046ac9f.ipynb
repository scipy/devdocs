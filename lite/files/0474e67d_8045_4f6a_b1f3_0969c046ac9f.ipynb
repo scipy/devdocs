{
    "nbformat": 4,
    "nbformat_minor": 5,
    "metadata": {
        "kernelspec": {
            "display_name": "Python",
            "language": "python",
            "name": "python"
        },
        "language_info": {
            "name": "python"
        }
    },
    "cells": [
        {
            "id": "3696c37b",
            "cell_type": "markdown",
            "source": "<div class='alert alert-warning'>\n\nSciPy's interactive examples with Jupyterlite are experimental and may not always work as expected. Execution of cells containing imports may result in large downloads (up to 60MB of content for the first import from SciPy). Load times when importing from SciPy may take roughly 10-20 seconds. If you notice any problems, feel free to open an [issue](https://github.com/scipy/scipy/issues/new/choose).\n\n</div>",
            "metadata": {}
        },
        {
            "id": "08245e9b",
            "cell_type": "code",
            "metadata": {},
            "execution_count": null,
            "source": "import scipy.special as sc",
            "outputs": []
        },
        {
            "id": "fff97d22",
            "cell_type": "markdown",
            "source": "It is the reciprocal of the gamma function.\n",
            "metadata": {}
        },
        {
            "id": "7564f2a3",
            "cell_type": "code",
            "metadata": {},
            "execution_count": null,
            "source": "sc.rgamma([1, 2, 3, 4])",
            "outputs": [
                {
                    "output_type": "execute_result",
                    "metadata": {},
                    "data": {
                        "text/plain": "array([1.        , 1.        , 0.5       , 0.16666667])"
                    },
                    "execution_count": null
                }
            ]
        },
        {
            "id": "459aeccb",
            "cell_type": "code",
            "metadata": {},
            "execution_count": null,
            "source": "1 / sc.gamma([1, 2, 3, 4])",
            "outputs": [
                {
                    "output_type": "execute_result",
                    "metadata": {},
                    "data": {
                        "text/plain": "array([1.        , 1.        , 0.5       , 0.16666667])"
                    },
                    "execution_count": null
                }
            ]
        },
        {
            "id": "9b245bc9",
            "cell_type": "markdown",
            "source": "It is zero at nonpositive integers.\n",
            "metadata": {}
        },
        {
            "id": "2dd947b3",
            "cell_type": "code",
            "metadata": {},
            "execution_count": null,
            "source": "sc.rgamma([0, -1, -2, -3])",
            "outputs": [
                {
                    "output_type": "execute_result",
                    "metadata": {},
                    "data": {
                        "text/plain": "array([0., 0., 0., 0.])"
                    },
                    "execution_count": null
                }
            ]
        },
        {
            "id": "7ed1ba86",
            "cell_type": "markdown",
            "source": "It rapidly underflows to zero along the positive real axis.\n",
            "metadata": {}
        },
        {
            "id": "b6bf009e",
            "cell_type": "code",
            "metadata": {},
            "execution_count": null,
            "source": "sc.rgamma([10, 100, 179])",
            "outputs": [
                {
                    "output_type": "execute_result",
                    "metadata": {},
                    "data": {
                        "text/plain": "array([2.75573192e-006, 1.07151029e-156, 0.00000000e+000])"
                    },
                    "execution_count": null
                }
            ]
        }
    ]
}