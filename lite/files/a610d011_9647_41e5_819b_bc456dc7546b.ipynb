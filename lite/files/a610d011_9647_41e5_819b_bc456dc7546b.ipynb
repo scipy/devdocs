{
    "nbformat": 4,
    "nbformat_minor": 5,
    "metadata": {
        "kernelspec": {
            "display_name": "Python",
            "language": "python",
            "name": "python"
        },
        "language_info": {
            "name": "python"
        }
    },
    "cells": [
        {
            "id": "52712299",
            "cell_type": "markdown",
            "source": "<div class='alert alert-warning'>\n\nSciPy's interactive examples with Jupyterlite are experimental and may not always work as expected. Execution of cells containing imports may result in large downloads (up to 60MB of content for the first import from SciPy). Load times when importing from SciPy may take roughly 10-20 seconds. If you notice any problems, feel free to open an [issue](https://github.com/scipy/scipy/issues/new/choose).\n\n</div>",
            "metadata": {}
        },
        {
            "id": "1ac0ef09",
            "cell_type": "markdown",
            "source": "Find standard error along the first axis:\n",
            "metadata": {}
        },
        {
            "id": "6558af06",
            "cell_type": "code",
            "metadata": {},
            "execution_count": null,
            "source": "import numpy as np\nfrom scipy import stats\na = np.arange(20).reshape(5,4)\nstats.sem(a)",
            "outputs": [
                {
                    "output_type": "execute_result",
                    "metadata": {},
                    "data": {
                        "text/plain": "array([ 2.8284,  2.8284,  2.8284,  2.8284])"
                    },
                    "execution_count": null
                }
            ]
        },
        {
            "id": "f8372bb3",
            "cell_type": "markdown",
            "source": "Find standard error across the whole array, using n degrees of freedom:\n",
            "metadata": {}
        },
        {
            "id": "6c4607d0",
            "cell_type": "code",
            "metadata": {},
            "execution_count": null,
            "source": "stats.sem(a, axis=None, ddof=0)",
            "outputs": [
                {
                    "output_type": "execute_result",
                    "metadata": {},
                    "data": {
                        "text/plain": "1.2893796958227628"
                    },
                    "execution_count": null
                }
            ]
        }
    ]
}