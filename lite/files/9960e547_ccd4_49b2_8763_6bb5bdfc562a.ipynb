{
    "nbformat": 4,
    "nbformat_minor": 5,
    "metadata": {
        "kernelspec": {
            "display_name": "Python",
            "language": "python",
            "name": "python"
        },
        "language_info": {
            "name": "python"
        }
    },
    "cells": [
        {
            "id": "ed31781a",
            "cell_type": "markdown",
            "source": "<div class='alert alert-warning'>\n\nSciPy's interactive examples with Jupyterlite are experimental and may not always work as expected. Execution of cells containing imports may result in large downloads (up to 60MB of content for the first import from SciPy). Load times when importing from SciPy may take roughly 10-20 seconds. If you notice any problems, feel free to open an [issue](https://github.com/scipy/scipy/issues/new/choose).\n\n</div>",
            "metadata": {}
        },
        {
            "id": "e6797a80",
            "cell_type": "markdown",
            "source": "Multiply the Toeplitz matrix T with matrix x\n```\n\n[ 1 -1 -2 -3]       [1 10]\nT = [ 3  1 -1 -2]   x = [2 11]\n[ 6  3  1 -1]       [2 11]\n[10  6  3  1]       [5 19]\n\n```\nTo specify the Toeplitz matrix, only the first column and the first\nrow are needed.\n",
            "metadata": {}
        },
        {
            "id": "5c2b5b70",
            "cell_type": "code",
            "metadata": {},
            "execution_count": null,
            "source": "import numpy as np\nc = np.array([1, 3, 6, 10])    # First column of T\nr = np.array([1, -1, -2, -3])  # First row of T\nx = np.array([[1, 10], [2, 11], [2, 11], [5, 19]])",
            "outputs": []
        },
        {
            "id": "585e6f6c",
            "cell_type": "code",
            "metadata": {},
            "execution_count": null,
            "source": "from scipy.linalg import toeplitz, matmul_toeplitz\nmatmul_toeplitz((c, r), x)",
            "outputs": [
                {
                    "output_type": "execute_result",
                    "metadata": {},
                    "data": {
                        "text/plain": "array([[-20., -80.],\n       [ -7.,  -8.],\n       [  9.,  85.],\n       [ 33., 218.]])"
                    },
                    "execution_count": null
                }
            ]
        },
        {
            "id": "5610df93",
            "cell_type": "markdown",
            "source": "Check the result by creating the full Toeplitz matrix and\nmultiplying it by ``x``.\n",
            "metadata": {}
        },
        {
            "id": "c15be51d",
            "cell_type": "code",
            "metadata": {},
            "execution_count": null,
            "source": "toeplitz(c, r) @ x",
            "outputs": [
                {
                    "output_type": "execute_result",
                    "metadata": {},
                    "data": {
                        "text/plain": "array([[-20, -80],\n       [ -7,  -8],\n       [  9,  85],\n       [ 33, 218]])"
                    },
                    "execution_count": null
                }
            ]
        },
        {
            "id": "0abfd697",
            "cell_type": "markdown",
            "source": "The full matrix is never formed explicitly, so this routine\nis suitable for very large Toeplitz matrices.\n",
            "metadata": {}
        },
        {
            "id": "94240524",
            "cell_type": "code",
            "metadata": {},
            "execution_count": null,
            "source": "n = 1000000\nmatmul_toeplitz([1] + [0]*(n-1), np.ones(n))",
            "outputs": [
                {
                    "output_type": "execute_result",
                    "metadata": {},
                    "data": {
                        "text/plain": "array([1., 1., 1., ..., 1., 1., 1.])"
                    },
                    "execution_count": null
                }
            ]
        }
    ]
}