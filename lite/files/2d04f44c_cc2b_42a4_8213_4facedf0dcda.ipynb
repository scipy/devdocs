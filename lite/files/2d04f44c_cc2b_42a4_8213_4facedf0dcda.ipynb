{
    "nbformat": 4,
    "nbformat_minor": 5,
    "metadata": {
        "kernelspec": {
            "display_name": "Python",
            "language": "python",
            "name": "python"
        },
        "language_info": {
            "name": "python"
        }
    },
    "cells": [
        {
            "id": "83e342c4",
            "cell_type": "markdown",
            "source": "<div class='alert alert-warning'>\n\nSciPy's interactive examples with Jupyterlite are experimental and may not always work as expected. Execution of cells containing imports may result in large downloads (up to 60MB of content for the first import from SciPy). Load times when importing from SciPy may take roughly 10-20 seconds. If you notice any problems, feel free to open an [issue](https://github.com/scipy/scipy/issues/new/choose).\n\n</div>",
            "metadata": {}
        },
        {
            "id": "c4384df8",
            "cell_type": "markdown",
            "source": "Instantiate a distribution with the desired parameters:\n",
            "metadata": {}
        },
        {
            "id": "b196450b",
            "cell_type": "code",
            "metadata": {},
            "execution_count": null,
            "source": "from scipy import stats\nX = stats.Normal(mu=1., sigma=2.)",
            "outputs": []
        },
        {
            "id": "cb08a8bf",
            "cell_type": "markdown",
            "source": "Evaluate the variance:\n",
            "metadata": {}
        },
        {
            "id": "2dc621fd",
            "cell_type": "code",
            "metadata": {},
            "execution_count": null,
            "source": "X.variance()",
            "outputs": [
                {
                    "output_type": "execute_result",
                    "metadata": {},
                    "data": {
                        "text/plain": "4.0"
                    },
                    "execution_count": null
                }
            ]
        },
        {
            "id": "5ff14bc8",
            "cell_type": "code",
            "metadata": {},
            "execution_count": null,
            "source": "X.variance() == X.moment(order=2, kind='central') == X.sigma**2",
            "outputs": [
                {
                    "output_type": "execute_result",
                    "metadata": {},
                    "data": {
                        "text/plain": "True"
                    },
                    "execution_count": null
                }
            ]
        }
    ]
}