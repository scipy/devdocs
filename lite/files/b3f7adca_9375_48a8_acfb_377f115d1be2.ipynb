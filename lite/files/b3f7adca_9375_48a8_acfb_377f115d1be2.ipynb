{
    "nbformat": 4,
    "nbformat_minor": 5,
    "metadata": {
        "kernelspec": {
            "display_name": "Python",
            "language": "python",
            "name": "python"
        },
        "language_info": {
            "name": "python"
        }
    },
    "cells": [
        {
            "id": "20df9c55",
            "cell_type": "markdown",
            "source": "<div class='alert alert-warning'>\n\nSciPy's interactive examples with Jupyterlite are experimental and may not always work as expected. Execution of cells containing imports may result in large downloads (up to 60MB of content for the first import from SciPy). Load times when importing from SciPy may take roughly 10-20 seconds. If you notice any problems, feel free to open an [issue](https://github.com/scipy/scipy/issues/new/choose).\n\n</div>",
            "metadata": {}
        },
        {
            "id": "b73e2ce9",
            "cell_type": "markdown",
            "source": "Create an array of 10 values and trim 20% of its lowest values:\n",
            "metadata": {}
        },
        {
            "id": "6b953858",
            "cell_type": "code",
            "metadata": {},
            "execution_count": null,
            "source": "import numpy as np\nfrom scipy import stats\na = [0, 1, 2, 3, 4, 5, 6, 7, 8, 9]\nstats.trim1(a, 0.2, 'left')",
            "outputs": [
                {
                    "output_type": "execute_result",
                    "metadata": {},
                    "data": {
                        "text/plain": "array([2, 4, 3, 5, 6, 7, 8, 9])"
                    },
                    "execution_count": null
                }
            ]
        },
        {
            "id": "ceabd35f",
            "cell_type": "markdown",
            "source": "Note that the elements of the input array are trimmed by value, but the\noutput array is not necessarily sorted.\n\nThe proportion to trim is rounded down to the nearest integer. For\ninstance, trimming 25% of the values from an array of 10 values will\nreturn an array of 8 values:\n",
            "metadata": {}
        },
        {
            "id": "38d70709",
            "cell_type": "code",
            "metadata": {},
            "execution_count": null,
            "source": "b = np.arange(10)\nstats.trim1(b, 1/4).shape",
            "outputs": [
                {
                    "output_type": "execute_result",
                    "metadata": {},
                    "data": {
                        "text/plain": "(8,)"
                    },
                    "execution_count": null
                }
            ]
        },
        {
            "id": "a144cdc4",
            "cell_type": "markdown",
            "source": "Multidimensional arrays can be trimmed along any axis or across the entire\narray:\n",
            "metadata": {}
        },
        {
            "id": "d875ee6b",
            "cell_type": "code",
            "metadata": {},
            "execution_count": null,
            "source": "c = [2, 4, 6, 8, 0, 1, 3, 5, 7, 9]\nd = np.array([a, b, c])\nstats.trim1(d, 0.8, axis=0).shape",
            "outputs": [
                {
                    "output_type": "execute_result",
                    "metadata": {},
                    "data": {
                        "text/plain": "(1, 10)"
                    },
                    "execution_count": null
                }
            ]
        },
        {
            "id": "774ea4d0",
            "cell_type": "code",
            "metadata": {},
            "execution_count": null,
            "source": "stats.trim1(d, 0.8, axis=1).shape",
            "outputs": [
                {
                    "output_type": "execute_result",
                    "metadata": {},
                    "data": {
                        "text/plain": "(3, 2)"
                    },
                    "execution_count": null
                }
            ]
        },
        {
            "id": "60d953b7",
            "cell_type": "code",
            "metadata": {},
            "execution_count": null,
            "source": "stats.trim1(d, 0.8, axis=None).shape",
            "outputs": [
                {
                    "output_type": "execute_result",
                    "metadata": {},
                    "data": {
                        "text/plain": "(6,)"
                    },
                    "execution_count": null
                }
            ]
        }
    ]
}