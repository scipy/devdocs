{
    "nbformat": 4,
    "nbformat_minor": 5,
    "metadata": {
        "kernelspec": {
            "display_name": "Python",
            "language": "python",
            "name": "python"
        },
        "language_info": {
            "name": "python"
        }
    },
    "cells": [
        {
            "id": "72182c78",
            "cell_type": "markdown",
            "source": "<div class='alert alert-warning'>\n\nSciPy's interactive examples with Jupyterlite are experimental and may not always work as expected. Execution of cells containing imports may result in large downloads (up to 60MB of content for the first import from SciPy). Load times when importing from SciPy may take roughly 10-20 seconds. If you notice any problems, feel free to open an [issue](https://github.com/scipy/scipy/issues/new/choose).\n\n</div>",
            "metadata": {}
        },
        {
            "id": "e0b35f82",
            "cell_type": "markdown",
            "source": "The following example shows the computation of a depth-first tree\nover a simple four-component graph, starting at node 0\n```\n\ninput graph           depth first tree from (0)\n\n(0)                         (0)\n/   \\                           \\\n3     8                           8\n/       \\                           \\\n(3)---5---(1)               (3)       (1)\n\\       /                   \\       /\n6     2                     6     2\n\\   /                       \\   /\n(2)                         (2)\n\n```\nIn compressed sparse representation, the solution looks like this:\n",
            "metadata": {}
        },
        {
            "id": "0a083e26",
            "cell_type": "code",
            "metadata": {},
            "execution_count": null,
            "source": "from scipy.sparse import csr_matrix\nfrom scipy.sparse.csgraph import depth_first_tree\nX = csr_matrix([[0, 8, 0, 3],\n                [0, 0, 2, 5],\n                [0, 0, 0, 6],\n                [0, 0, 0, 0]])\nTcsr = depth_first_tree(X, 0, directed=False)\nTcsr.toarray().astype(int)",
            "outputs": [
                {
                    "output_type": "execute_result",
                    "metadata": {},
                    "data": {
                        "text/plain": "array([[0, 8, 0, 0],\n       [0, 0, 2, 0],\n       [0, 0, 0, 6],\n       [0, 0, 0, 0]])"
                    },
                    "execution_count": null
                }
            ]
        },
        {
            "id": "921f7381",
            "cell_type": "markdown",
            "source": "Note that the resulting graph is a Directed Acyclic Graph which spans\nthe graph.  Unlike a breadth-first tree, a depth-first tree of a given\ngraph is not unique if the graph contains cycles.  If the above solution\nhad begun with the edge connecting nodes 0 and 3, the result would have\nbeen different.",
            "metadata": {}
        }
    ]
}