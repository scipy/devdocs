{
    "nbformat": 4,
    "nbformat_minor": 5,
    "metadata": {
        "kernelspec": {
            "display_name": "Python",
            "language": "python",
            "name": "python"
        },
        "language_info": {
            "name": "python"
        }
    },
    "cells": [
        {
            "id": "92c4b5f0",
            "cell_type": "markdown",
            "source": "<div class='alert alert-warning'>\n\nSciPy's interactive examples with Jupyterlite are experimental and may not always work as expected. Execution of cells containing imports may result in large downloads (up to 60MB of content for the first import from SciPy). Load times when importing from SciPy may take roughly 10-20 seconds. If you notice any problems, feel free to open an [issue](https://github.com/scipy/scipy/issues/new/choose).\n\n</div>",
            "metadata": {}
        },
        {
            "id": "55ac1222",
            "cell_type": "code",
            "metadata": {},
            "execution_count": null,
            "source": "import numpy as np\ndef func(x):\n    return x[0]**2 - 0.5 * x[1]**3\ndef grad(x):\n    return [2 * x[0], -1.5 * x[1]**2]\nfrom scipy.optimize import check_grad\ncheck_grad(func, grad, [1.5, -1.5])",
            "outputs": [
                {
                    "output_type": "execute_result",
                    "metadata": {},
                    "data": {
                        "text/plain": "2.9802322387695312e-08  # may vary"
                    },
                    "execution_count": null
                }
            ]
        },
        {
            "id": "6baf90c9",
            "cell_type": "code",
            "metadata": {},
            "execution_count": null,
            "source": "rng = np.random.default_rng()\ncheck_grad(func, grad, [1.5, -1.5],\n            direction='random', seed=rng)",
            "outputs": [
                {
                    "output_type": "execute_result",
                    "metadata": {},
                    "data": {
                        "text/plain": "2.9802322387695312e-08"
                    },
                    "execution_count": null
                }
            ]
        }
    ]
}