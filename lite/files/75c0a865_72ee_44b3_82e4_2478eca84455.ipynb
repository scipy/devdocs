{
    "nbformat": 4,
    "nbformat_minor": 5,
    "metadata": {
        "kernelspec": {
            "display_name": "Python",
            "language": "python",
            "name": "python"
        },
        "language_info": {
            "name": "python"
        }
    },
    "cells": [
        {
            "id": "137b7238",
            "cell_type": "markdown",
            "source": "<div class='alert alert-warning'>\n\nSciPy's interactive examples with Jupyterlite are experimental and may not always work as expected. Execution of cells containing imports may result in large downloads (up to 60MB of content for the first import from SciPy). Load times when importing from SciPy may take roughly 10-20 seconds. If you notice any problems, feel free to open an [issue](https://github.com/scipy/scipy/issues/new/choose).\n\n</div>",
            "metadata": {}
        },
        {
            "id": "7908733c",
            "cell_type": "code",
            "metadata": {},
            "execution_count": null,
            "source": "import numpy as np\nfrom scipy.stats import tukeylambda\nimport matplotlib.pyplot as plt\nfig, ax = plt.subplots(1, 1)",
            "outputs": []
        },
        {
            "id": "2feb5c4a",
            "cell_type": "markdown",
            "source": "Calculate the first four moments:\n",
            "metadata": {}
        },
        {
            "id": "dd430330",
            "cell_type": "code",
            "metadata": {},
            "execution_count": null,
            "source": "lam = 3.13\nmean, var, skew, kurt = tukeylambda.stats(lam, moments='mvsk')",
            "outputs": []
        },
        {
            "id": "c3f34479",
            "cell_type": "markdown",
            "source": "Display the probability density function (``pdf``):\n",
            "metadata": {}
        },
        {
            "id": "ba15e0f0",
            "cell_type": "code",
            "metadata": {},
            "execution_count": null,
            "source": "x = np.linspace(tukeylambda.ppf(0.01, lam),\n                tukeylambda.ppf(0.99, lam), 100)\nax.plot(x, tukeylambda.pdf(x, lam),\n       'r-', lw=5, alpha=0.6, label='tukeylambda pdf')",
            "outputs": []
        },
        {
            "id": "2104eaf2",
            "cell_type": "markdown",
            "source": "Alternatively, the distribution object can be called (as a function)\nto fix the shape, location and scale parameters. This returns a \"frozen\"\nRV object holding the given parameters fixed.\n\nFreeze the distribution and display the frozen ``pdf``:\n",
            "metadata": {}
        },
        {
            "id": "d61880c8",
            "cell_type": "code",
            "metadata": {},
            "execution_count": null,
            "source": "rv = tukeylambda(lam)\nax.plot(x, rv.pdf(x), 'k-', lw=2, label='frozen pdf')",
            "outputs": []
        },
        {
            "id": "9601d9e8",
            "cell_type": "markdown",
            "source": "Check accuracy of ``cdf`` and ``ppf``:\n",
            "metadata": {}
        },
        {
            "id": "61df0645",
            "cell_type": "code",
            "metadata": {},
            "execution_count": null,
            "source": "vals = tukeylambda.ppf([0.001, 0.5, 0.999], lam)\nnp.allclose([0.001, 0.5, 0.999], tukeylambda.cdf(vals, lam))",
            "outputs": [
                {
                    "output_type": "execute_result",
                    "metadata": {},
                    "data": {
                        "text/plain": "True"
                    },
                    "execution_count": null
                }
            ]
        },
        {
            "id": "18c857c3",
            "cell_type": "markdown",
            "source": "Generate random numbers:\n",
            "metadata": {}
        },
        {
            "id": "356e7f5c",
            "cell_type": "code",
            "metadata": {},
            "execution_count": null,
            "source": "r = tukeylambda.rvs(lam, size=1000)",
            "outputs": []
        },
        {
            "id": "09771a0f",
            "cell_type": "markdown",
            "source": "And compare the histogram:\n",
            "metadata": {}
        },
        {
            "id": "15fc2e5a",
            "cell_type": "code",
            "metadata": {},
            "execution_count": null,
            "source": "ax.hist(r, density=True, bins='auto', histtype='stepfilled', alpha=0.2)\nax.set_xlim([x[0], x[-1]])\nax.legend(loc='best', frameon=False)\nplt.show()",
            "outputs": []
        }
    ]
}