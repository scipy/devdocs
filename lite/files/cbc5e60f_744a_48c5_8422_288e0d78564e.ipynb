{
    "nbformat": 4,
    "nbformat_minor": 5,
    "metadata": {
        "kernelspec": {
            "display_name": "Python",
            "language": "python",
            "name": "python"
        },
        "language_info": {
            "name": "python"
        }
    },
    "cells": [
        {
            "id": "c74efe26",
            "cell_type": "markdown",
            "source": "<div class='alert alert-warning'>\n\nSciPy's interactive examples with Jupyterlite are experimental and may not always work as expected. Execution of cells containing imports may result in large downloads (up to 60MB of content for the first import from SciPy). Load times when importing from SciPy may take roughly 10-20 seconds. If you notice any problems, feel free to open an [issue](https://github.com/scipy/scipy/issues/new/choose).\n\n</div>",
            "metadata": {}
        },
        {
            "id": "cebf9af3",
            "cell_type": "markdown",
            "source": "Minimize the objective function f(x,y) = x*y subject\nto the constraints x**2 + y**2 < 1 and y > 0\n```\n\n>>> def objective(x):\n...     return x[0]*x[1]\n...\n>>> def constr1(x):\n...     return 1 - (x[0]**2 + x[1]**2)\n...\n>>> def constr2(x):\n...     return x[1]\n...\n>>> from scipy.optimize import fmin_cobyla\n>>> fmin_cobyla(objective, [0.0, 0.1], [constr1, constr2], rhoend=1e-7)\narray([-0.70710685,  0.70710671])\n\n```\nThe exact solution is (-sqrt(2)/2, sqrt(2)/2).",
            "metadata": {}
        }
    ]
}