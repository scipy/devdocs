{
    "nbformat": 4,
    "nbformat_minor": 5,
    "metadata": {
        "kernelspec": {
            "display_name": "Python",
            "language": "python",
            "name": "python"
        },
        "language_info": {
            "name": "python"
        }
    },
    "cells": [
        {
            "id": "c9f99287",
            "cell_type": "markdown",
            "source": "<div class='alert alert-warning'>\n\nSciPy's interactive examples with Jupyterlite are experimental and may not always work as expected. Execution of cells containing imports may result in large downloads (up to 60MB of content for the first import from SciPy). Load times when importing from SciPy may take roughly 10-20 seconds. If you notice any problems, feel free to open an [issue](https://github.com/scipy/scipy/issues/new/choose).\n\n</div>",
            "metadata": {}
        },
        {
            "id": "27dfa7df",
            "cell_type": "markdown",
            "source": "Convert the transfer function:\n\n.. math:: H(s) = \\frac{s^2 + 3s + 3}{s^2 + 2s + 1}\n",
            "metadata": {}
        },
        {
            "id": "eac38a76",
            "cell_type": "code",
            "metadata": {},
            "execution_count": null,
            "source": "num = [1, 3, 3]\nden = [1, 2, 1]",
            "outputs": []
        },
        {
            "id": "b0ec2ddb",
            "cell_type": "markdown",
            "source": "to the state-space representation:\n\n$$ \\dot{\\textbf{x}}(t) = \\begin{bmatrix} -2 & -1 \\\\ 1 & 0 \\end{bmatrix} \\textbf{x}(t) + \\begin{bmatrix} 1 \\\\ 0 \\end{bmatrix} \\textbf{u}(t) \\\\ $$\n$$ \\textbf{y}(t) = \\begin{bmatrix} 1 & 2 \\end{bmatrix} \\textbf{x}(t) + \\begin{bmatrix} 1 \\end{bmatrix} \\textbf{u}(t) $$",
            "metadata": {}
        },
        {
            "id": "06422b36",
            "cell_type": "code",
            "metadata": {},
            "execution_count": null,
            "source": "from scipy.signal import tf2ss\nA, B, C, D = tf2ss(num, den)\nA",
            "outputs": [
                {
                    "output_type": "execute_result",
                    "metadata": {},
                    "data": {
                        "text/plain": "array([[-2., -1.],\n       [ 1.,  0.]])"
                    },
                    "execution_count": null
                }
            ]
        },
        {
            "id": "a478ecc5",
            "cell_type": "code",
            "metadata": {},
            "execution_count": null,
            "source": "B",
            "outputs": [
                {
                    "output_type": "execute_result",
                    "metadata": {},
                    "data": {
                        "text/plain": "array([[ 1.],\n       [ 0.]])"
                    },
                    "execution_count": null
                }
            ]
        },
        {
            "id": "99310ca7",
            "cell_type": "code",
            "metadata": {},
            "execution_count": null,
            "source": "C",
            "outputs": [
                {
                    "output_type": "execute_result",
                    "metadata": {},
                    "data": {
                        "text/plain": "array([[ 1.,  2.]])"
                    },
                    "execution_count": null
                }
            ]
        },
        {
            "id": "c55837e4",
            "cell_type": "code",
            "metadata": {},
            "execution_count": null,
            "source": "D",
            "outputs": [
                {
                    "output_type": "execute_result",
                    "metadata": {},
                    "data": {
                        "text/plain": "array([[ 1.]])"
                    },
                    "execution_count": null
                }
            ]
        }
    ]
}