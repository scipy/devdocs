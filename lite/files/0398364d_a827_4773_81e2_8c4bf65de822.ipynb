{
    "nbformat": 4,
    "nbformat_minor": 5,
    "metadata": {
        "kernelspec": {
            "display_name": "Python",
            "language": "python",
            "name": "python"
        },
        "language_info": {
            "name": "python"
        }
    },
    "cells": [
        {
            "id": "4f8bf4e5",
            "cell_type": "markdown",
            "source": "<div class='alert alert-warning'>\n\nSciPy's interactive examples with Jupyterlite are experimental and may not always work as expected. Execution of cells containing imports may result in large downloads (up to 60MB of content for the first import from SciPy). Load times when importing from SciPy may take roughly 10-20 seconds. If you notice any problems, feel free to open an [issue](https://github.com/scipy/scipy/issues/new/choose).\n\n</div>",
            "metadata": {}
        },
        {
            "id": "1b4c9353",
            "cell_type": "code",
            "metadata": {},
            "execution_count": null,
            "source": "import numpy as np\nfrom scipy.signal import argrelmin\nx = np.array([2, 1, 2, 3, 2, 0, 1, 0])\nargrelmin(x)",
            "outputs": [
                {
                    "output_type": "execute_result",
                    "metadata": {},
                    "data": {
                        "text/plain": "(array([1, 5]),)"
                    },
                    "execution_count": null
                }
            ]
        },
        {
            "id": "2fdeae28",
            "cell_type": "code",
            "metadata": {},
            "execution_count": null,
            "source": "y = np.array([[1, 2, 1, 2],\n              [2, 2, 0, 0],\n              [5, 3, 4, 4]])\n\nargrelmin(y, axis=1)",
            "outputs": [
                {
                    "output_type": "execute_result",
                    "metadata": {},
                    "data": {
                        "text/plain": "(array([0, 2]), array([2, 1]))"
                    },
                    "execution_count": null
                }
            ]
        }
    ]
}