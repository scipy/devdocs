{
    "nbformat": 4,
    "nbformat_minor": 5,
    "metadata": {
        "kernelspec": {
            "display_name": "Python",
            "language": "python",
            "name": "python"
        },
        "language_info": {
            "name": "python"
        }
    },
    "cells": [
        {
            "id": "eb1b1748",
            "cell_type": "markdown",
            "source": "<div class='alert alert-warning'>\n\nSciPy's interactive examples with Jupyterlite are experimental and may not always work as expected. Execution of cells containing imports may result in large downloads (up to 60MB of content for the first import from SciPy). Load times when importing from SciPy may take roughly 10-20 seconds. If you notice any problems, feel free to open an [issue](https://github.com/scipy/scipy/issues/new/choose).\n\n</div>",
            "metadata": {}
        },
        {
            "id": "0b54a577",
            "cell_type": "code",
            "metadata": {},
            "execution_count": null,
            "source": "from scipy.stats import mstats\nimport numpy as np\nz = [0, 0, 0, 2, 2, 2, 3, 3, 4, 5, 6]\nmstats.count_tied_groups(z)",
            "outputs": [
                {
                    "output_type": "execute_result",
                    "metadata": {},
                    "data": {
                        "text/plain": "{2: 1, 3: 2}"
                    },
                    "execution_count": null
                }
            ]
        },
        {
            "id": "13bc2f3f",
            "cell_type": "markdown",
            "source": "In the above example, the ties were 0 (3x), 2 (3x) and 3 (2x).\n",
            "metadata": {}
        },
        {
            "id": "cc955175",
            "cell_type": "code",
            "metadata": {},
            "execution_count": null,
            "source": "z = np.ma.array([0, 0, 1, 2, 2, 2, 3, 3, 4, 5, 6])\nmstats.count_tied_groups(z)",
            "outputs": [
                {
                    "output_type": "execute_result",
                    "metadata": {},
                    "data": {
                        "text/plain": "{2: 2, 3: 1}"
                    },
                    "execution_count": null
                }
            ]
        },
        {
            "id": "4d8a7680",
            "cell_type": "code",
            "metadata": {},
            "execution_count": null,
            "source": "z[[1,-1]] = np.ma.masked\nmstats.count_tied_groups(z, use_missing=True)",
            "outputs": [
                {
                    "output_type": "execute_result",
                    "metadata": {},
                    "data": {
                        "text/plain": "{2: 2, 3: 1}"
                    },
                    "execution_count": null
                }
            ]
        }
    ]
}