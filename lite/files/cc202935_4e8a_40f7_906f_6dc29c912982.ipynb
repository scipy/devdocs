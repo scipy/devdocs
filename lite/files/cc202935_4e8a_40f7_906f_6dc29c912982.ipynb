{
    "nbformat": 4,
    "nbformat_minor": 5,
    "metadata": {
        "kernelspec": {
            "display_name": "Python",
            "language": "python",
            "name": "python"
        },
        "language_info": {
            "name": "python"
        }
    },
    "cells": [
        {
            "id": "3ed34d08",
            "cell_type": "markdown",
            "source": "<div class='alert alert-warning'>\n\nSciPy's interactive examples with Jupyterlite are experimental and may not always work as expected. Execution of cells containing imports may result in large downloads (up to 60MB of content for the first import from SciPy). Load times when importing from SciPy may take roughly 10-20 seconds. If you notice any problems, feel free to open an [issue](https://github.com/scipy/scipy/issues/new/choose).\n\n</div>",
            "metadata": {}
        },
        {
            "id": "fa1956d6",
            "cell_type": "code",
            "metadata": {},
            "execution_count": null,
            "source": "import numpy as np\nfrom scipy.special import powm1",
            "outputs": []
        },
        {
            "id": "29bb7844",
            "cell_type": "code",
            "metadata": {},
            "execution_count": null,
            "source": "x = np.array([1.2, 10.0, 0.9999999975])\ny = np.array([1e-9, 1e-11, 0.1875])\npowm1(x, y)",
            "outputs": [
                {
                    "output_type": "execute_result",
                    "metadata": {},
                    "data": {
                        "text/plain": "array([ 1.82321557e-10,  2.30258509e-11, -4.68749998e-10])"
                    },
                    "execution_count": null
                }
            ]
        },
        {
            "id": "998554da",
            "cell_type": "markdown",
            "source": "It can be verified that the relative errors in those results\nare less than 2.5e-16.\n\nCompare that to the result of ``x**y - 1``, where the\nrelative errors are all larger than 8e-8:\n",
            "metadata": {}
        },
        {
            "id": "28d9f2b4",
            "cell_type": "code",
            "metadata": {},
            "execution_count": null,
            "source": "x**y - 1",
            "outputs": [
                {
                    "output_type": "execute_result",
                    "metadata": {},
                    "data": {
                        "text/plain": "array([ 1.82321491e-10,  2.30258035e-11, -4.68750039e-10])"
                    },
                    "execution_count": null
                }
            ]
        }
    ]
}