{
    "nbformat": 4,
    "nbformat_minor": 5,
    "metadata": {
        "kernelspec": {
            "display_name": "Python",
            "language": "python",
            "name": "python"
        },
        "language_info": {
            "name": "python"
        }
    },
    "cells": [
        {
            "id": "59c84a76",
            "cell_type": "markdown",
            "source": "<div class='alert alert-warning'>\n\nSciPy's interactive examples with Jupyterlite are experimental and may not always work as expected. Execution of cells containing imports may result in large downloads (up to 60MB of content for the first import from SciPy). Load times when importing from SciPy may take roughly 10-20 seconds. If you notice any problems, feel free to open an [issue](https://github.com/scipy/scipy/issues/new/choose).\n\n</div>",
            "metadata": {}
        },
        {
            "id": "8e4774a3",
            "cell_type": "markdown",
            "source": "Evaluate the function of order 0 at one point.\n",
            "metadata": {}
        },
        {
            "id": "76e92d9d",
            "cell_type": "code",
            "metadata": {},
            "execution_count": null,
            "source": "from scipy.special import yn\nyn(0, 1.)",
            "outputs": [
                {
                    "output_type": "execute_result",
                    "metadata": {},
                    "data": {
                        "text/plain": "0.08825696421567697"
                    },
                    "execution_count": null
                }
            ]
        },
        {
            "id": "0ad3d57b",
            "cell_type": "markdown",
            "source": "Evaluate the function at one point for different orders.\n",
            "metadata": {}
        },
        {
            "id": "35aca338",
            "cell_type": "code",
            "metadata": {},
            "execution_count": null,
            "source": "yn(0, 1.), yn(1, 1.), yn(2, 1.)",
            "outputs": [
                {
                    "output_type": "execute_result",
                    "metadata": {},
                    "data": {
                        "text/plain": "(0.08825696421567697, -0.7812128213002888, -1.6506826068162546)"
                    },
                    "execution_count": null
                }
            ]
        },
        {
            "id": "ba59af2a",
            "cell_type": "markdown",
            "source": "The evaluation for different orders can be carried out in one call by\nproviding a list or NumPy array as argument for the `v` parameter:\n",
            "metadata": {}
        },
        {
            "id": "910125fc",
            "cell_type": "code",
            "metadata": {},
            "execution_count": null,
            "source": "yn([0, 1, 2], 1.)",
            "outputs": [
                {
                    "output_type": "execute_result",
                    "metadata": {},
                    "data": {
                        "text/plain": "array([ 0.08825696, -0.78121282, -1.65068261])"
                    },
                    "execution_count": null
                }
            ]
        },
        {
            "id": "0eae84e9",
            "cell_type": "markdown",
            "source": "Evaluate the function at several points for order 0 by providing an\narray for `z`.\n",
            "metadata": {}
        },
        {
            "id": "e669a299",
            "cell_type": "code",
            "metadata": {},
            "execution_count": null,
            "source": "import numpy as np\npoints = np.array([0.5, 3., 8.])\nyn(0, points)",
            "outputs": [
                {
                    "output_type": "execute_result",
                    "metadata": {},
                    "data": {
                        "text/plain": "array([-0.44451873,  0.37685001,  0.22352149])"
                    },
                    "execution_count": null
                }
            ]
        },
        {
            "id": "0825ef6b",
            "cell_type": "markdown",
            "source": "If `z` is an array, the order parameter `v` must be broadcastable to\nthe correct shape if different orders shall be computed in one call.\nTo calculate the orders 0 and 1 for an 1D array:\n",
            "metadata": {}
        },
        {
            "id": "7b78e754",
            "cell_type": "code",
            "metadata": {},
            "execution_count": null,
            "source": "orders = np.array([[0], [1]])\norders.shape",
            "outputs": [
                {
                    "output_type": "execute_result",
                    "metadata": {},
                    "data": {
                        "text/plain": "(2, 1)"
                    },
                    "execution_count": null
                }
            ]
        },
        {
            "id": "82ed5510",
            "cell_type": "code",
            "metadata": {},
            "execution_count": null,
            "source": "yn(orders, points)",
            "outputs": [
                {
                    "output_type": "execute_result",
                    "metadata": {},
                    "data": {
                        "text/plain": "array([[-0.44451873,  0.37685001,  0.22352149],\n       [-1.47147239,  0.32467442, -0.15806046]])"
                    },
                    "execution_count": null
                }
            ]
        },
        {
            "id": "91185171",
            "cell_type": "markdown",
            "source": "Plot the functions of order 0 to 3 from 0 to 10.\n",
            "metadata": {}
        },
        {
            "id": "e6c760c6",
            "cell_type": "code",
            "metadata": {},
            "execution_count": null,
            "source": "import matplotlib.pyplot as plt\nfig, ax = plt.subplots()\nx = np.linspace(0., 10., 1000)\nfor i in range(4):\n    ax.plot(x, yn(i, x), label=f'$Y_{i!r}$')\nax.set_ylim(-3, 1)\nax.legend()\nplt.show()",
            "outputs": []
        }
    ]
}