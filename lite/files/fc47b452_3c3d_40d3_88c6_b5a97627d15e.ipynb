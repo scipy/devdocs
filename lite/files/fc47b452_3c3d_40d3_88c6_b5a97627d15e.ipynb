{
    "nbformat": 4,
    "nbformat_minor": 5,
    "metadata": {
        "kernelspec": {
            "display_name": "Python",
            "language": "python",
            "name": "python"
        },
        "language_info": {
            "name": "python"
        }
    },
    "cells": [
        {
            "id": "d25aa51c",
            "cell_type": "markdown",
            "source": "<div class='alert alert-warning'>\n\nSciPy's interactive examples with Jupyterlite are experimental and may not always work as expected. Execution of cells containing imports may result in large downloads (up to 60MB of content for the first import from SciPy). Load times when importing from SciPy may take roughly 10-20 seconds. If you notice any problems, feel free to open an [issue](https://github.com/scipy/scipy/issues/new/choose).\n\n</div>",
            "metadata": {}
        },
        {
            "id": "e6c540fe",
            "cell_type": "code",
            "metadata": {},
            "execution_count": null,
            "source": "import numpy as np\nfrom scipy.cluster import hierarchy\nrng = np.random.default_rng()\nX = rng.standard_normal((10, 10))\nZ = hierarchy.ward(X)\nhierarchy.leaves_list(Z)",
            "outputs": [
                {
                    "output_type": "execute_result",
                    "metadata": {},
                    "data": {
                        "text/plain": "array([0, 3, 1, 9, 2, 5, 7, 4, 6, 8], dtype=int32)"
                    },
                    "execution_count": null
                }
            ]
        },
        {
            "id": "92f808ca",
            "cell_type": "code",
            "metadata": {},
            "execution_count": null,
            "source": "hierarchy.leaves_list(hierarchy.optimal_leaf_ordering(Z, X))",
            "outputs": [
                {
                    "output_type": "execute_result",
                    "metadata": {},
                    "data": {
                        "text/plain": "array([3, 0, 2, 5, 7, 4, 8, 6, 9, 1], dtype=int32)"
                    },
                    "execution_count": null
                }
            ]
        }
    ]
}