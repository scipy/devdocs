{
    "nbformat": 4,
    "nbformat_minor": 5,
    "metadata": {
        "kernelspec": {
            "display_name": "Python",
            "language": "python",
            "name": "python"
        },
        "language_info": {
            "name": "python"
        }
    },
    "cells": [
        {
            "id": "3857552e",
            "cell_type": "markdown",
            "source": "<div class='alert alert-warning'>\n\nSciPy's interactive examples with Jupyterlite are experimental and may not always work as expected. Execution of cells containing imports may result in large downloads (up to 60MB of content for the first import from SciPy). Load times when importing from SciPy may take roughly 10-20 seconds. If you notice any problems, feel free to open an [issue](https://github.com/scipy/scipy/issues/new/choose).\n\n</div>",
            "metadata": {}
        },
        {
            "id": "394e95d9",
            "cell_type": "code",
            "metadata": {},
            "execution_count": null,
            "source": "from scipy.special import ellip_harm\nw = ellip_harm(5,8,1,1,2.5)\nw",
            "outputs": [
                {
                    "output_type": "execute_result",
                    "metadata": {},
                    "data": {
                        "text/plain": "2.5"
                    },
                    "execution_count": null
                }
            ]
        },
        {
            "id": "20b69612",
            "cell_type": "markdown",
            "source": "Check that the functions indeed are solutions to the Lame equation:\n",
            "metadata": {}
        },
        {
            "id": "ccad6aa0",
            "cell_type": "code",
            "metadata": {},
            "execution_count": null,
            "source": "import numpy as np\nfrom scipy.interpolate import UnivariateSpline\ndef eigenvalue(f, df, ddf):\n    r = (((s**2 - h**2) * (s**2 - k**2) * ddf\n          + s * (2*s**2 - h**2 - k**2) * df\n          - n * (n + 1)*s**2*f) / f)\n    return -r.mean(), r.std()\ns = np.linspace(0.1, 10, 200)\nk, h, n, p = 8.0, 2.2, 3, 2\nE = ellip_harm(h**2, k**2, n, p, s)\nE_spl = UnivariateSpline(s, E)\na, a_err = eigenvalue(E_spl(s), E_spl(s,1), E_spl(s,2))\na, a_err",
            "outputs": [
                {
                    "output_type": "execute_result",
                    "metadata": {},
                    "data": {
                        "text/plain": "(583.44366156701483, 6.4580890640310646e-11)"
                    },
                    "execution_count": null
                }
            ]
        }
    ]
}