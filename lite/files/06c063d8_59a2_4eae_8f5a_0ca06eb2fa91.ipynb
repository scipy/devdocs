{
    "nbformat": 4,
    "nbformat_minor": 5,
    "metadata": {
        "kernelspec": {
            "display_name": "Python",
            "language": "python",
            "name": "python"
        },
        "language_info": {
            "name": "python"
        }
    },
    "cells": [
        {
            "id": "f353e46a",
            "cell_type": "markdown",
            "source": "<div class='alert alert-warning'>\n\nSciPy's interactive examples with Jupyterlite are experimental and may not always work as expected. Execution of cells containing imports may result in large downloads (up to 60MB of content for the first import from SciPy). Load times when importing from SciPy may take roughly 10-20 seconds. If you notice any problems, feel free to open an [issue](https://github.com/scipy/scipy/issues/new/choose).\n\n</div>",
            "metadata": {}
        },
        {
            "id": "c0b67ff4",
            "cell_type": "markdown",
            "source": "Instantiate a distribution with the desired parameters:\n",
            "metadata": {}
        },
        {
            "id": "843b2d86",
            "cell_type": "code",
            "metadata": {},
            "execution_count": null,
            "source": "from scipy import stats\nX = stats.Normal(mu=1., sigma=2.)",
            "outputs": []
        },
        {
            "id": "7c877d6c",
            "cell_type": "markdown",
            "source": "Evaluate the mode:\n",
            "metadata": {}
        },
        {
            "id": "01678109",
            "cell_type": "code",
            "metadata": {},
            "execution_count": null,
            "source": "X.mode()",
            "outputs": [
                {
                    "output_type": "execute_result",
                    "metadata": {},
                    "data": {
                        "text/plain": "1.0"
                    },
                    "execution_count": null
                }
            ]
        },
        {
            "id": "7a1ca250",
            "cell_type": "markdown",
            "source": "If the mode is not uniquely defined, ``mode`` nonetheless returns a\nsingle value.\n",
            "metadata": {}
        },
        {
            "id": "760fc032",
            "cell_type": "code",
            "metadata": {},
            "execution_count": null,
            "source": "X = stats.Uniform(a=0., b=1.)\nX.mode()",
            "outputs": [
                {
                    "output_type": "execute_result",
                    "metadata": {},
                    "data": {
                        "text/plain": "0.5"
                    },
                    "execution_count": null
                }
            ]
        },
        {
            "id": "d43966e1",
            "cell_type": "markdown",
            "source": "If this choice does not satisfy your requirements, subclass the\ndistribution and override ``mode``:\n",
            "metadata": {}
        },
        {
            "id": "9b734cab",
            "cell_type": "code",
            "metadata": {},
            "execution_count": null,
            "source": "class BetterUniform(stats.Uniform):\n    def mode(self):\n        return self.b\nX = BetterUniform(a=0., b=1.)\nX.mode()",
            "outputs": [
                {
                    "output_type": "execute_result",
                    "metadata": {},
                    "data": {
                        "text/plain": "1.0"
                    },
                    "execution_count": null
                }
            ]
        }
    ]
}