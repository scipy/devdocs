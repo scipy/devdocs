{
    "nbformat": 4,
    "nbformat_minor": 5,
    "metadata": {
        "kernelspec": {
            "display_name": "Python",
            "language": "python",
            "name": "python"
        },
        "language_info": {
            "name": "python"
        }
    },
    "cells": [
        {
            "id": "d0bee666",
            "cell_type": "markdown",
            "source": "<div class='alert alert-warning'>\n\nSciPy's interactive examples with Jupyterlite are experimental and may not always work as expected. Execution of cells containing imports may result in large downloads (up to 60MB of content for the first import from SciPy). Load times when importing from SciPy may take roughly 10-20 seconds. If you notice any problems, feel free to open an [issue](https://github.com/scipy/scipy/issues/new/choose).\n\n</div>",
            "metadata": {}
        },
        {
            "id": "fe255fdf",
            "cell_type": "code",
            "metadata": {},
            "execution_count": null,
            "source": "import scipy.special as sc\nfrom pytest import raises\nsc.gammaln(0)",
            "outputs": [
                {
                    "output_type": "execute_result",
                    "metadata": {},
                    "data": {
                        "text/plain": "inf"
                    },
                    "execution_count": null
                }
            ]
        },
        {
            "id": "3d028bdf",
            "cell_type": "code",
            "metadata": {},
            "execution_count": null,
            "source": "olderr = sc.seterr(singular='raise')\nwith raises(sc.SpecialFunctionError):\n    sc.gammaln(0)\n\n_ = sc.seterr(**olderr)",
            "outputs": []
        },
        {
            "id": "85b2f77f",
            "cell_type": "markdown",
            "source": "We can also raise for every category except one.\n",
            "metadata": {}
        },
        {
            "id": "9dc2b9df",
            "cell_type": "code",
            "metadata": {},
            "execution_count": null,
            "source": "olderr = sc.seterr(all='raise', singular='ignore')\nsc.gammaln(0)",
            "outputs": [
                {
                    "output_type": "execute_result",
                    "metadata": {},
                    "data": {
                        "text/plain": "inf"
                    },
                    "execution_count": null
                }
            ]
        },
        {
            "id": "9778badc",
            "cell_type": "code",
            "metadata": {},
            "execution_count": null,
            "source": "with raises(sc.SpecialFunctionError):\n    sc.spence(-1)\n\n_ = sc.seterr(**olderr)",
            "outputs": []
        }
    ]
}