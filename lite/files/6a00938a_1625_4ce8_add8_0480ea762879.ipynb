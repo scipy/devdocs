{
    "nbformat": 4,
    "nbformat_minor": 5,
    "metadata": {
        "kernelspec": {
            "display_name": "Python",
            "language": "python",
            "name": "python"
        },
        "language_info": {
            "name": "python"
        }
    },
    "cells": [
        {
            "id": "21a3fe8c",
            "cell_type": "markdown",
            "source": "<div class='alert alert-warning'>\n\nSciPy's interactive examples with Jupyterlite are experimental and may not always work as expected. Execution of cells containing imports may result in large downloads (up to 60MB of content for the first import from SciPy). Load times when importing from SciPy may take roughly 10-20 seconds. If you notice any problems, feel free to open an [issue](https://github.com/scipy/scipy/issues/new/choose).\n\n</div>",
            "metadata": {}
        },
        {
            "id": "7705baab",
            "cell_type": "code",
            "metadata": {},
            "execution_count": null,
            "source": "import numpy as np\nfrom scipy import signal\nx = np.arange(25).reshape(5, 5)\ndomain = np.identity(3)\nx",
            "outputs": [
                {
                    "output_type": "execute_result",
                    "metadata": {},
                    "data": {
                        "text/plain": "array([[ 0,  1,  2,  3,  4],\n       [ 5,  6,  7,  8,  9],\n       [10, 11, 12, 13, 14],\n       [15, 16, 17, 18, 19],\n       [20, 21, 22, 23, 24]])"
                    },
                    "execution_count": null
                }
            ]
        },
        {
            "id": "9ace85bf",
            "cell_type": "code",
            "metadata": {},
            "execution_count": null,
            "source": "signal.order_filter(x, domain, 0)",
            "outputs": [
                {
                    "output_type": "execute_result",
                    "metadata": {},
                    "data": {
                        "text/plain": "array([[  0,   0,   0,   0,   0],\n       [  0,   0,   1,   2,   0],\n       [  0,   5,   6,   7,   0],\n       [  0,  10,  11,  12,   0],\n       [  0,   0,   0,   0,   0]])"
                    },
                    "execution_count": null
                }
            ]
        },
        {
            "id": "22de7ef3",
            "cell_type": "code",
            "metadata": {},
            "execution_count": null,
            "source": "signal.order_filter(x, domain, 2)",
            "outputs": [
                {
                    "output_type": "execute_result",
                    "metadata": {},
                    "data": {
                        "text/plain": "array([[  6,   7,   8,   9,   4],\n       [ 11,  12,  13,  14,   9],\n       [ 16,  17,  18,  19,  14],\n       [ 21,  22,  23,  24,  19],\n       [ 20,  21,  22,  23,  24]])"
                    },
                    "execution_count": null
                }
            ]
        }
    ]
}