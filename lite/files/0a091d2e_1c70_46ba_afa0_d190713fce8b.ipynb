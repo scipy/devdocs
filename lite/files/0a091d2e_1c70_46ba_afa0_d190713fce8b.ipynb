{
    "nbformat": 4,
    "nbformat_minor": 5,
    "metadata": {
        "kernelspec": {
            "display_name": "Python",
            "language": "python",
            "name": "python"
        },
        "language_info": {
            "name": "python"
        }
    },
    "cells": [
        {
            "id": "98e48580",
            "cell_type": "markdown",
            "source": "<div class='alert alert-warning'>\n\nSciPy's interactive examples with Jupyterlite are experimental and may not always work as expected. Execution of cells containing imports may result in large downloads (up to 60MB of content for the first import from SciPy). Load times when importing from SciPy may take roughly 10-20 seconds. If you notice any problems, feel free to open an [issue](https://github.com/scipy/scipy/issues/new/choose).\n\n</div>",
            "metadata": {}
        },
        {
            "id": "dd7a1217",
            "cell_type": "markdown",
            "source": "`fminbound` finds the minimizer of the function in the given range.\nThe following examples illustrate this.\n",
            "metadata": {}
        },
        {
            "id": "6ba2a566",
            "cell_type": "code",
            "metadata": {},
            "execution_count": null,
            "source": "from scipy import optimize\ndef f(x):\n    return (x-1)**2\nminimizer = optimize.fminbound(f, -4, 4)\nminimizer",
            "outputs": [
                {
                    "output_type": "execute_result",
                    "metadata": {},
                    "data": {
                        "text/plain": "1.0"
                    },
                    "execution_count": null
                }
            ]
        },
        {
            "id": "57814807",
            "cell_type": "code",
            "metadata": {},
            "execution_count": null,
            "source": "minimum = f(minimizer)\nminimum",
            "outputs": [
                {
                    "output_type": "execute_result",
                    "metadata": {},
                    "data": {
                        "text/plain": "0.0"
                    },
                    "execution_count": null
                }
            ]
        },
        {
            "id": "18e1de7b",
            "cell_type": "code",
            "metadata": {},
            "execution_count": null,
            "source": "res = optimize.fminbound(f, 3, 4, full_output=True)\nminimizer, fval, ierr, numfunc = res\nminimizer",
            "outputs": [
                {
                    "output_type": "execute_result",
                    "metadata": {},
                    "data": {
                        "text/plain": "3.000005960860986"
                    },
                    "execution_count": null
                }
            ]
        },
        {
            "id": "27b9c552",
            "cell_type": "code",
            "metadata": {},
            "execution_count": null,
            "source": "minimum = f(minimizer)\nminimum, fval",
            "outputs": [
                {
                    "output_type": "execute_result",
                    "metadata": {},
                    "data": {
                        "text/plain": "(4.000023843479476, 4.000023843479476)"
                    },
                    "execution_count": null
                }
            ]
        }
    ]
}