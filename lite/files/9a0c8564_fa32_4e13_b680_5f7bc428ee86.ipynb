{
    "nbformat": 4,
    "nbformat_minor": 5,
    "metadata": {
        "kernelspec": {
            "display_name": "Python",
            "language": "python",
            "name": "python"
        },
        "language_info": {
            "name": "python"
        }
    },
    "cells": [
        {
            "id": "8b080185",
            "cell_type": "markdown",
            "source": "<div class='alert alert-warning'>\n\nSciPy's interactive examples with Jupyterlite are experimental and may not always work as expected. Execution of cells containing imports may result in large downloads (up to 60MB of content for the first import from SciPy). Load times when importing from SciPy may take roughly 10-20 seconds. If you notice any problems, feel free to open an [issue](https://github.com/scipy/scipy/issues/new/choose).\n\n</div>",
            "metadata": {}
        },
        {
            "id": "04a68f4a",
            "cell_type": "code",
            "metadata": {},
            "execution_count": null,
            "source": "from scipy import ndimage\nimport numpy as np\na = np.arange(25).reshape((5,5))\nlabels = np.zeros_like(a)\nlabels[3:5,3:5] = 1\nindex = np.unique(labels)\nlabels",
            "outputs": [
                {
                    "output_type": "execute_result",
                    "metadata": {},
                    "data": {
                        "text/plain": "array([[0, 0, 0, 0, 0],\n       [0, 0, 0, 0, 0],\n       [0, 0, 0, 0, 0],\n       [0, 0, 0, 1, 1],\n       [0, 0, 0, 1, 1]])"
                    },
                    "execution_count": null
                }
            ]
        },
        {
            "id": "1fbebbce",
            "cell_type": "code",
            "metadata": {},
            "execution_count": null,
            "source": "index",
            "outputs": [
                {
                    "output_type": "execute_result",
                    "metadata": {},
                    "data": {
                        "text/plain": "array([0, 1])"
                    },
                    "execution_count": null
                }
            ]
        },
        {
            "id": "2c347573",
            "cell_type": "code",
            "metadata": {},
            "execution_count": null,
            "source": "ndimage.mean(a, labels=labels, index=index)",
            "outputs": [
                {
                    "output_type": "execute_result",
                    "metadata": {},
                    "data": {
                        "text/plain": "[10.285714285714286, 21.0]"
                    },
                    "execution_count": null
                }
            ]
        }
    ]
}