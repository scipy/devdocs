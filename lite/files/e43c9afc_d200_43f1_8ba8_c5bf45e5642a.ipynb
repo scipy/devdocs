{
    "nbformat": 4,
    "nbformat_minor": 5,
    "metadata": {
        "kernelspec": {
            "display_name": "Python",
            "language": "python",
            "name": "python"
        },
        "language_info": {
            "name": "python"
        }
    },
    "cells": [
        {
            "id": "102b9a0c",
            "cell_type": "markdown",
            "source": "<div class='alert alert-warning'>\n\nSciPy's interactive examples with Jupyterlite are experimental and may not always work as expected. Execution of cells containing imports may result in large downloads (up to 60MB of content for the first import from SciPy). Load times when importing from SciPy may take roughly 10-20 seconds. If you notice any problems, feel free to open an [issue](https://github.com/scipy/scipy/issues/new/choose).\n\n</div>",
            "metadata": {}
        },
        {
            "id": "f66ff82c",
            "cell_type": "code",
            "metadata": {},
            "execution_count": null,
            "source": "def f(x):\n    return x**2",
            "outputs": []
        },
        {
            "id": "b0c0dcb4",
            "cell_type": "code",
            "metadata": {},
            "execution_count": null,
            "source": "from scipy import optimize",
            "outputs": []
        },
        {
            "id": "bfd1c65e",
            "cell_type": "code",
            "metadata": {},
            "execution_count": null,
            "source": "minimum = optimize.fmin(f, 1)",
            "outputs": [
                {
                    "output_type": "execute_result",
                    "metadata": {},
                    "data": {
                        "text/plain": "Optimization terminated successfully.\n         Current function value: 0.000000\n         Iterations: 17\n         Function evaluations: 34"
                    },
                    "execution_count": null
                }
            ]
        },
        {
            "id": "fedf094e",
            "cell_type": "code",
            "metadata": {},
            "execution_count": null,
            "source": "minimum[0]",
            "outputs": [
                {
                    "output_type": "execute_result",
                    "metadata": {},
                    "data": {
                        "text/plain": "-8.8817841970012523e-16"
                    },
                    "execution_count": null
                }
            ]
        }
    ]
}