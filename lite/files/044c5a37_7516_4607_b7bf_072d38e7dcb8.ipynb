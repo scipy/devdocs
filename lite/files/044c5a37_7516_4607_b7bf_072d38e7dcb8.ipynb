{
    "nbformat": 4,
    "nbformat_minor": 5,
    "metadata": {
        "kernelspec": {
            "display_name": "Python",
            "language": "python",
            "name": "python"
        },
        "language_info": {
            "name": "python"
        }
    },
    "cells": [
        {
            "id": "6c07553b",
            "cell_type": "markdown",
            "source": "<div class='alert alert-warning'>\n\nSciPy's interactive examples with Jupyterlite are experimental and may not always work as expected. Execution of cells containing imports may result in large downloads (up to 60MB of content for the first import from SciPy). Load times when importing from SciPy may take roughly 10-20 seconds. If you notice any problems, feel free to open an [issue](https://github.com/scipy/scipy/issues/new/choose).\n\n</div>",
            "metadata": {}
        },
        {
            "id": "f4463243",
            "cell_type": "code",
            "metadata": {},
            "execution_count": null,
            "source": "from scipy.spatial.transform import Rotation as R",
            "outputs": []
        },
        {
            "id": "620f58f4",
            "cell_type": "markdown",
            "source": "Raising a rotation to a power:\n",
            "metadata": {}
        },
        {
            "id": "f357701a",
            "cell_type": "code",
            "metadata": {},
            "execution_count": null,
            "source": "p = R.from_rotvec([1, 0, 0])\nq = p ** 2\nq.as_rotvec()",
            "outputs": [
                {
                    "output_type": "execute_result",
                    "metadata": {},
                    "data": {
                        "text/plain": "array([2., 0., 0.])"
                    },
                    "execution_count": null
                }
            ]
        },
        {
            "id": "d67264d5",
            "cell_type": "code",
            "metadata": {},
            "execution_count": null,
            "source": "r = p ** 0.5\nr.as_rotvec()",
            "outputs": [
                {
                    "output_type": "execute_result",
                    "metadata": {},
                    "data": {
                        "text/plain": "array([0.5, 0., 0.])"
                    },
                    "execution_count": null
                }
            ]
        },
        {
            "id": "4ce04480",
            "cell_type": "markdown",
            "source": "Inverse powers do not necessarily cancel out:\n",
            "metadata": {}
        },
        {
            "id": "36392a05",
            "cell_type": "code",
            "metadata": {},
            "execution_count": null,
            "source": "p = R.from_rotvec([0, 0, 120], degrees=True)\n((p ** 2) ** 0.5).as_rotvec(degrees=True)",
            "outputs": [
                {
                    "output_type": "execute_result",
                    "metadata": {},
                    "data": {
                        "text/plain": "array([  -0.,   -0., -60.])"
                    },
                    "execution_count": null
                }
            ]
        }
    ]
}