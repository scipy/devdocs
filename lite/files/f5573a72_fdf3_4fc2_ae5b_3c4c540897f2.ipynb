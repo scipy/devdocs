{
    "nbformat": 4,
    "nbformat_minor": 5,
    "metadata": {
        "kernelspec": {
            "display_name": "Python",
            "language": "python",
            "name": "python"
        },
        "language_info": {
            "name": "python"
        }
    },
    "cells": [
        {
            "id": "42d1b45c",
            "cell_type": "markdown",
            "source": "<div class='alert alert-warning'>\n\nSciPy's interactive examples with Jupyterlite are experimental and may not always work as expected. Execution of cells containing imports may result in large downloads (up to 60MB of content for the first import from SciPy). Load times when importing from SciPy may take roughly 10-20 seconds. If you notice any problems, feel free to open an [issue](https://github.com/scipy/scipy/issues/new/choose).\n\n</div>",
            "metadata": {}
        },
        {
            "id": "09983f4c",
            "cell_type": "markdown",
            "source": "Evaluate the functions at one point.\n",
            "metadata": {}
        },
        {
            "id": "d0427796",
            "cell_type": "code",
            "metadata": {},
            "execution_count": null,
            "source": "from scipy.special import it2j0y0\nint_j, int_y = it2j0y0(1.)\nint_j, int_y",
            "outputs": [
                {
                    "output_type": "execute_result",
                    "metadata": {},
                    "data": {
                        "text/plain": "(0.12116524699506871, 0.39527290169929336)"
                    },
                    "execution_count": null
                }
            ]
        },
        {
            "id": "9d5d9f54",
            "cell_type": "markdown",
            "source": "Evaluate the functions at several points.\n",
            "metadata": {}
        },
        {
            "id": "ffe34e01",
            "cell_type": "code",
            "metadata": {},
            "execution_count": null,
            "source": "import numpy as np\npoints = np.array([0.5, 1.5, 3.])\nint_j, int_y = it2j0y0(points)\nint_j, int_y",
            "outputs": [
                {
                    "output_type": "execute_result",
                    "metadata": {},
                    "data": {
                        "text/plain": "(array([0.03100699, 0.26227724, 0.85614669]),\n array([ 0.26968854,  0.29769696, -0.02987272]))"
                    },
                    "execution_count": null
                }
            ]
        },
        {
            "id": "8468a9e3",
            "cell_type": "markdown",
            "source": "Plot the functions from 0 to 10.\n",
            "metadata": {}
        },
        {
            "id": "2a3de64e",
            "cell_type": "code",
            "metadata": {},
            "execution_count": null,
            "source": "import matplotlib.pyplot as plt\nfig, ax = plt.subplots()\nx = np.linspace(0., 10., 1000)\nint_j, int_y = it2j0y0(x)\nax.plot(x, int_j, label=r\"$\\int_0^x \\frac{1-J_0(t)}{t}\\,dt$\")\nax.plot(x, int_y, label=r\"$\\int_x^{\\infty} \\frac{Y_0(t)}{t}\\,dt$\")\nax.legend()\nax.set_ylim(-2.5, 2.5)\nplt.show()",
            "outputs": []
        }
    ]
}