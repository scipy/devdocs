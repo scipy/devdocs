{
    "nbformat": 4,
    "nbformat_minor": 5,
    "metadata": {
        "kernelspec": {
            "display_name": "Python",
            "language": "python",
            "name": "python"
        },
        "language_info": {
            "name": "python"
        }
    },
    "cells": [
        {
            "id": "f5ee834c",
            "cell_type": "markdown",
            "source": "<div class='alert alert-warning'>\n\nSciPy's interactive examples with Jupyterlite are experimental and may not always work as expected. Execution of cells containing imports may result in large downloads (up to 60MB of content for the first import from SciPy). Load times when importing from SciPy may take roughly 10-20 seconds. If you notice any problems, feel free to open an [issue](https://github.com/scipy/scipy/issues/new/choose).\n\n</div>",
            "metadata": {}
        },
        {
            "id": "0afdc8bd",
            "cell_type": "code",
            "metadata": {},
            "execution_count": null,
            "source": "import numpy as np\nfrom scipy.interpolate import LSQUnivariateSpline, UnivariateSpline\nimport matplotlib.pyplot as plt\nrng = np.random.default_rng()\nx = np.linspace(-3, 3, 50)\ny = np.exp(-x**2) + 0.1 * rng.standard_normal(50)",
            "outputs": []
        },
        {
            "id": "9cb9a282",
            "cell_type": "markdown",
            "source": "Fit a smoothing spline with a pre-defined internal knots:\n",
            "metadata": {}
        },
        {
            "id": "f2b0df73",
            "cell_type": "code",
            "metadata": {},
            "execution_count": null,
            "source": "t = [-1, 0, 1]\nspl = LSQUnivariateSpline(x, y, t)",
            "outputs": []
        },
        {
            "id": "015a6b97",
            "cell_type": "code",
            "metadata": {},
            "execution_count": null,
            "source": "xs = np.linspace(-3, 3, 1000)\nplt.plot(x, y, 'ro', ms=5)\nplt.plot(xs, spl(xs), 'g-', lw=3)\nplt.show()",
            "outputs": []
        },
        {
            "id": "1c89f28e",
            "cell_type": "markdown",
            "source": "Check the knot vector:\n",
            "metadata": {}
        },
        {
            "id": "2c51ab2a",
            "cell_type": "code",
            "metadata": {},
            "execution_count": null,
            "source": "spl.get_knots()",
            "outputs": [
                {
                    "output_type": "execute_result",
                    "metadata": {},
                    "data": {
                        "text/plain": "array([-3., -1., 0., 1., 3.])"
                    },
                    "execution_count": null
                }
            ]
        },
        {
            "id": "bc76649f",
            "cell_type": "markdown",
            "source": "Constructing lsq spline using the knots from another spline:\n",
            "metadata": {}
        },
        {
            "id": "d8c7eae3",
            "cell_type": "code",
            "metadata": {},
            "execution_count": null,
            "source": "x = np.arange(10)\ns = UnivariateSpline(x, x, s=0)\ns.get_knots()",
            "outputs": [
                {
                    "output_type": "execute_result",
                    "metadata": {},
                    "data": {
                        "text/plain": "array([ 0.,  2.,  3.,  4.,  5.,  6.,  7.,  9.])"
                    },
                    "execution_count": null
                }
            ]
        },
        {
            "id": "2dd4a73b",
            "cell_type": "code",
            "metadata": {},
            "execution_count": null,
            "source": "knt = s.get_knots()\ns1 = LSQUnivariateSpline(x, x, knt[1:-1])    # Chop 1st and last knot\ns1.get_knots()",
            "outputs": [
                {
                    "output_type": "execute_result",
                    "metadata": {},
                    "data": {
                        "text/plain": "array([ 0.,  2.,  3.,  4.,  5.,  6.,  7.,  9.])"
                    },
                    "execution_count": null
                }
            ]
        }
    ]
}