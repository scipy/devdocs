{
    "nbformat": 4,
    "nbformat_minor": 5,
    "metadata": {
        "kernelspec": {
            "display_name": "Python",
            "language": "python",
            "name": "python"
        },
        "language_info": {
            "name": "python"
        }
    },
    "cells": [
        {
            "id": "4f864a36",
            "cell_type": "markdown",
            "source": "<div class='alert alert-warning'>\n\nSciPy's interactive examples with Jupyterlite are experimental and may not always work as expected. Execution of cells containing imports may result in large downloads (up to 60MB of content for the first import from SciPy). Load times when importing from SciPy may take roughly 10-20 seconds. If you notice any problems, feel free to open an [issue](https://github.com/scipy/scipy/issues/new/choose).\n\n</div>",
            "metadata": {}
        },
        {
            "id": "b722823c",
            "cell_type": "markdown",
            "source": "Voronoi diagram for a set of point:\n",
            "metadata": {}
        },
        {
            "id": "e3742efa",
            "cell_type": "code",
            "metadata": {},
            "execution_count": null,
            "source": "import numpy as np\npoints = np.array([[0, 0], [0, 1], [0, 2], [1, 0], [1, 1], [1, 2],\n                   [2, 0], [2, 1], [2, 2]])\nfrom scipy.spatial import Voronoi, voronoi_plot_2d\nvor = Voronoi(points)",
            "outputs": []
        },
        {
            "id": "5d182699",
            "cell_type": "markdown",
            "source": "Plot it:\n",
            "metadata": {}
        },
        {
            "id": "47bdaf00",
            "cell_type": "code",
            "metadata": {},
            "execution_count": null,
            "source": "import matplotlib.pyplot as plt\nfig = voronoi_plot_2d(vor)\nplt.show()",
            "outputs": []
        },
        {
            "id": "2a3e3107",
            "cell_type": "markdown",
            "source": "The Voronoi vertices:\n",
            "metadata": {}
        },
        {
            "id": "b6fbc8da",
            "cell_type": "code",
            "metadata": {},
            "execution_count": null,
            "source": "vor.vertices",
            "outputs": [
                {
                    "output_type": "execute_result",
                    "metadata": {},
                    "data": {
                        "text/plain": "array([[0.5, 0.5],\n       [0.5, 1.5],\n       [1.5, 0.5],\n       [1.5, 1.5]])"
                    },
                    "execution_count": null
                }
            ]
        },
        {
            "id": "916f75ca",
            "cell_type": "markdown",
            "source": "There is a single finite Voronoi region, and four finite Voronoi\nridges:\n",
            "metadata": {}
        },
        {
            "id": "9c8a5b1d",
            "cell_type": "code",
            "metadata": {},
            "execution_count": null,
            "source": "vor.regions",
            "outputs": [
                {
                    "output_type": "execute_result",
                    "metadata": {},
                    "data": {
                        "text/plain": "[[], [-1, 0], [-1, 1], [1, -1, 0], [3, -1, 2], [-1, 3], [-1, 2], [0, 1, 3, 2], [2, -1, 0], [3, -1, 1]]"
                    },
                    "execution_count": null
                }
            ]
        },
        {
            "id": "1d817872",
            "cell_type": "code",
            "metadata": {},
            "execution_count": null,
            "source": "vor.ridge_vertices",
            "outputs": [
                {
                    "output_type": "execute_result",
                    "metadata": {},
                    "data": {
                        "text/plain": "[[-1, 0], [-1, 0], [-1, 1], [-1, 1], [0, 1], [-1, 3], [-1, 2], [2, 3], [-1, 3], [-1, 2], [1, 3], [0, 2]]"
                    },
                    "execution_count": null
                }
            ]
        },
        {
            "id": "a8c290fa",
            "cell_type": "markdown",
            "source": "The ridges are perpendicular between lines drawn between the following\ninput points:\n",
            "metadata": {}
        },
        {
            "id": "b6a91e6c",
            "cell_type": "code",
            "metadata": {},
            "execution_count": null,
            "source": "vor.ridge_points",
            "outputs": [
                {
                    "output_type": "execute_result",
                    "metadata": {},
                    "data": {
                        "text/plain": "array([[0, 3],\n       [0, 1],\n       [2, 5],\n       [2, 1],\n       [1, 4],\n       [7, 8],\n       [7, 6],\n       [7, 4],\n       [8, 5],\n       [6, 3],\n       [4, 5],\n       [4, 3]], dtype=int32)"
                    },
                    "execution_count": null
                }
            ]
        }
    ]
}