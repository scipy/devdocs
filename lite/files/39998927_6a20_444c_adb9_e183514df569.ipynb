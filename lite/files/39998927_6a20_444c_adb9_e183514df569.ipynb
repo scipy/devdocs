{
    "nbformat": 4,
    "nbformat_minor": 5,
    "metadata": {
        "kernelspec": {
            "display_name": "Python",
            "language": "python",
            "name": "python"
        },
        "language_info": {
            "name": "python"
        }
    },
    "cells": [
        {
            "id": "21a93d31",
            "cell_type": "markdown",
            "source": "<div class='alert alert-warning'>\n\nSciPy's interactive examples with Jupyterlite are experimental and may not always work as expected. Execution of cells containing imports may result in large downloads (up to 60MB of content for the first import from SciPy). Load times when importing from SciPy may take roughly 10-20 seconds. If you notice any problems, feel free to open an [issue](https://github.com/scipy/scipy/issues/new/choose).\n\n</div>",
            "metadata": {}
        },
        {
            "id": "0d842f6c",
            "cell_type": "code",
            "metadata": {},
            "execution_count": null,
            "source": "from scipy.cluster.hierarchy import ward, to_mlab_linkage\nfrom scipy.spatial.distance import pdist",
            "outputs": []
        },
        {
            "id": "0560b89c",
            "cell_type": "code",
            "metadata": {},
            "execution_count": null,
            "source": "X = [[0, 0], [0, 1], [1, 0],\n     [0, 4], [0, 3], [1, 4],\n     [4, 0], [3, 0], [4, 1],\n     [4, 4], [3, 4], [4, 3]]",
            "outputs": []
        },
        {
            "id": "c8974b40",
            "cell_type": "code",
            "metadata": {},
            "execution_count": null,
            "source": "Z = ward(pdist(X))\nZ",
            "outputs": [
                {
                    "output_type": "execute_result",
                    "metadata": {},
                    "data": {
                        "text/plain": "array([[ 0.        ,  1.        ,  1.        ,  2.        ],\n       [ 3.        ,  4.        ,  1.        ,  2.        ],\n       [ 6.        ,  7.        ,  1.        ,  2.        ],\n       [ 9.        , 10.        ,  1.        ,  2.        ],\n       [ 2.        , 12.        ,  1.29099445,  3.        ],\n       [ 5.        , 13.        ,  1.29099445,  3.        ],\n       [ 8.        , 14.        ,  1.29099445,  3.        ],\n       [11.        , 15.        ,  1.29099445,  3.        ],\n       [16.        , 17.        ,  5.77350269,  6.        ],\n       [18.        , 19.        ,  5.77350269,  6.        ],\n       [20.        , 21.        ,  8.16496581, 12.        ]])"
                    },
                    "execution_count": null
                }
            ]
        },
        {
            "id": "5e3c7269",
            "cell_type": "markdown",
            "source": "After a linkage matrix ``Z`` has been created, we can use\n`scipy.cluster.hierarchy.to_mlab_linkage` to convert it\ninto MATLAB format:\n",
            "metadata": {}
        },
        {
            "id": "cd76593a",
            "cell_type": "code",
            "metadata": {},
            "execution_count": null,
            "source": "mZ = to_mlab_linkage(Z)\nmZ",
            "outputs": [
                {
                    "output_type": "execute_result",
                    "metadata": {},
                    "data": {
                        "text/plain": "array([[  1.        ,   2.        ,   1.        ],\n       [  4.        ,   5.        ,   1.        ],\n       [  7.        ,   8.        ,   1.        ],\n       [ 10.        ,  11.        ,   1.        ],\n       [  3.        ,  13.        ,   1.29099445],\n       [  6.        ,  14.        ,   1.29099445],\n       [  9.        ,  15.        ,   1.29099445],\n       [ 12.        ,  16.        ,   1.29099445],\n       [ 17.        ,  18.        ,   5.77350269],\n       [ 19.        ,  20.        ,   5.77350269],\n       [ 21.        ,  22.        ,   8.16496581]])"
                    },
                    "execution_count": null
                }
            ]
        },
        {
            "id": "5b973d4f",
            "cell_type": "markdown",
            "source": "The new linkage matrix ``mZ`` uses 1-indexing for all the\nclusters (instead of 0-indexing). Also, the last column of\nthe original linkage matrix has been dropped.",
            "metadata": {}
        }
    ]
}