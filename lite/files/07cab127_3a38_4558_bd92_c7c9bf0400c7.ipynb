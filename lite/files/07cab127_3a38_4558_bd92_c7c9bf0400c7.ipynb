{
    "nbformat": 4,
    "nbformat_minor": 5,
    "metadata": {
        "kernelspec": {
            "display_name": "Python",
            "language": "python",
            "name": "python"
        },
        "language_info": {
            "name": "python"
        }
    },
    "cells": [
        {
            "id": "9e4b29a1",
            "cell_type": "markdown",
            "source": "<div class='alert alert-warning'>\n\nSciPy's interactive examples with Jupyterlite are experimental and may not always work as expected. Execution of cells containing imports may result in large downloads (up to 60MB of content for the first import from SciPy). Load times when importing from SciPy may take roughly 10-20 seconds. If you notice any problems, feel free to open an [issue](https://github.com/scipy/scipy/issues/new/choose).\n\n</div>",
            "metadata": {}
        },
        {
            "id": "edb5fa52",
            "cell_type": "markdown",
            "source": "Generate some noisy data and fit a sequence of LSQ splines:\n",
            "metadata": {}
        },
        {
            "id": "4d5b50ca",
            "cell_type": "code",
            "metadata": {},
            "execution_count": null,
            "source": "import numpy as np\nimport matplotlib.pyplot as plt\nfrom scipy.interpolate import make_lsq_spline, generate_knots\nrng = np.random.default_rng()\nx = np.linspace(-3, 3, 50)\ny = np.exp(-x**2) + 0.1 * rng.standard_normal(size=50)",
            "outputs": []
        },
        {
            "id": "7f8afe8e",
            "cell_type": "code",
            "metadata": {},
            "execution_count": null,
            "source": "knots = list(generate_knots(x, y, s=1e-10))\nfor t in knots[::3]:\n    spl = make_lsq_spline(x, y, t)\n    xs = xs = np.linspace(-3, 3, 201)\n    plt.plot(xs, spl(xs), '-', label=f'n = {len(t)}', lw=3, alpha=0.7)\nplt.plot(x, y, 'o', label='data')\nplt.plot(xs, np.exp(-xs**2), '--')\nplt.legend()",
            "outputs": []
        },
        {
            "id": "4732176d",
            "cell_type": "markdown",
            "source": "Note that increasing the number of knots make the result follow the data\nmore and more closely.\n\nAlso note that a step of the generator may add multiple knots:\n",
            "metadata": {}
        },
        {
            "id": "f512499a",
            "cell_type": "code",
            "metadata": {},
            "execution_count": null,
            "source": "[len(t) for t in knots]",
            "outputs": [
                {
                    "output_type": "execute_result",
                    "metadata": {},
                    "data": {
                        "text/plain": "[8, 9, 10, 12, 16, 24, 40, 48, 52, 54]"
                    },
                    "execution_count": null
                }
            ]
        }
    ]
}