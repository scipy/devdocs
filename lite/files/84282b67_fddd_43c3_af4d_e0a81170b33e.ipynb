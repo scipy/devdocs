{
    "nbformat": 4,
    "nbformat_minor": 5,
    "metadata": {
        "kernelspec": {
            "display_name": "Python",
            "language": "python",
            "name": "python"
        },
        "language_info": {
            "name": "python"
        }
    },
    "cells": [
        {
            "id": "e9e54282",
            "cell_type": "markdown",
            "source": "<div class='alert alert-warning'>\n\nSciPy's interactive examples with Jupyterlite are experimental and may not always work as expected. Execution of cells containing imports may result in large downloads (up to 60MB of content for the first import from SciPy). Load times when importing from SciPy may take roughly 10-20 seconds. If you notice any problems, feel free to open an [issue](https://github.com/scipy/scipy/issues/new/choose).\n\n</div>",
            "metadata": {}
        },
        {
            "id": "59ea01db",
            "cell_type": "code",
            "metadata": {},
            "execution_count": null,
            "source": "import scipy.fft\nscipy.fft.ifft([1, -1j, -1, 1j])",
            "outputs": [
                {
                    "output_type": "execute_result",
                    "metadata": {},
                    "data": {
                        "text/plain": "array([0.+0.j,  1.+0.j,  0.+0.j,  0.+0.j]) # may vary"
                    },
                    "execution_count": null
                }
            ]
        },
        {
            "id": "a415fd08",
            "cell_type": "code",
            "metadata": {},
            "execution_count": null,
            "source": "scipy.fft.irfft([1, -1j, -1])",
            "outputs": [
                {
                    "output_type": "execute_result",
                    "metadata": {},
                    "data": {
                        "text/plain": "array([0.,  1.,  0.,  0.])"
                    },
                    "execution_count": null
                }
            ]
        },
        {
            "id": "ee53c7ed",
            "cell_type": "markdown",
            "source": "Notice how the last term in the input to the ordinary `ifft` is the\ncomplex conjugate of the second term, and the output has zero imaginary\npart everywhere. When calling `irfft`, the negative frequencies are not\nspecified, and the output array is purely real.",
            "metadata": {}
        }
    ]
}