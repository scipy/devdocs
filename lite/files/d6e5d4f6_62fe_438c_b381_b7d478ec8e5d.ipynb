{
    "nbformat": 4,
    "nbformat_minor": 5,
    "metadata": {
        "kernelspec": {
            "display_name": "Python",
            "language": "python",
            "name": "python"
        },
        "language_info": {
            "name": "python"
        }
    },
    "cells": [
        {
            "id": "405aef7e",
            "cell_type": "markdown",
            "source": "<div class='alert alert-warning'>\n\nSciPy's interactive examples with Jupyterlite are experimental and may not always work as expected. Execution of cells containing imports may result in large downloads (up to 60MB of content for the first import from SciPy). Load times when importing from SciPy may take roughly 10-20 seconds. If you notice any problems, feel free to open an [issue](https://github.com/scipy/scipy/issues/new/choose).\n\n</div>",
            "metadata": {}
        },
        {
            "id": "231eb2af",
            "cell_type": "code",
            "metadata": {},
            "execution_count": null,
            "source": "from scipy import cluster\nimport numpy as np\nfrom numpy.random import default_rng\nrng = default_rng()\nX = rng.random((50, 4))\nZ = cluster.hierarchy.ward(X)\ncutree = cluster.hierarchy.cut_tree(Z, n_clusters=[5, 10])\ncutree[:10]",
            "outputs": [
                {
                    "output_type": "execute_result",
                    "metadata": {},
                    "data": {
                        "text/plain": "array([[0, 0],\n       [1, 1],\n       [2, 2],\n       [3, 3],\n       [3, 4],\n       [2, 2],\n       [0, 0],\n       [1, 5],\n       [3, 6],\n       [4, 7]])  # random"
                    },
                    "execution_count": null
                }
            ]
        }
    ]
}