{
    "nbformat": 4,
    "nbformat_minor": 5,
    "metadata": {
        "kernelspec": {
            "display_name": "Python",
            "language": "python",
            "name": "python"
        },
        "language_info": {
            "name": "python"
        }
    },
    "cells": [
        {
            "id": "9d43d413",
            "cell_type": "markdown",
            "source": "<div class='alert alert-warning'>\n\nSciPy's interactive examples with Jupyterlite are experimental and may not always work as expected. Execution of cells containing imports may result in large downloads (up to 60MB of content for the first import from SciPy). Load times when importing from SciPy may take roughly 10-20 seconds. If you notice any problems, feel free to open an [issue](https://github.com/scipy/scipy/issues/new/choose).\n\n</div>",
            "metadata": {}
        },
        {
            "id": "382b967c",
            "cell_type": "code",
            "metadata": {},
            "execution_count": null,
            "source": "from scipy.stats import mstats\nmstats.find_repeats([2, 1, 2, 3, 2, 2, 5])",
            "outputs": [
                {
                    "output_type": "execute_result",
                    "metadata": {},
                    "data": {
                        "text/plain": "(array([2.]), array([4]))"
                    },
                    "execution_count": null
                }
            ]
        },
        {
            "id": "6783970f",
            "cell_type": "markdown",
            "source": "In the above example, 2 repeats 4 times.\n",
            "metadata": {}
        },
        {
            "id": "a87595ae",
            "cell_type": "code",
            "metadata": {},
            "execution_count": null,
            "source": "mstats.find_repeats([[10, 20, 1, 2], [5, 5, 4, 4]])",
            "outputs": [
                {
                    "output_type": "execute_result",
                    "metadata": {},
                    "data": {
                        "text/plain": "(array([4., 5.]), array([2, 2]))"
                    },
                    "execution_count": null
                }
            ]
        },
        {
            "id": "54e51478",
            "cell_type": "markdown",
            "source": "In the above example, both 4 and 5 repeat 2 times.",
            "metadata": {}
        }
    ]
}