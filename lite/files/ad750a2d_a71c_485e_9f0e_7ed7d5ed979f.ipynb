{
    "nbformat": 4,
    "nbformat_minor": 5,
    "metadata": {
        "kernelspec": {
            "display_name": "Python",
            "language": "python",
            "name": "python"
        },
        "language_info": {
            "name": "python"
        }
    },
    "cells": [
        {
            "id": "8a7c09c7",
            "cell_type": "markdown",
            "source": "<div class='alert alert-warning'>\n\nSciPy's interactive examples with Jupyterlite are experimental and may not always work as expected. Execution of cells containing imports may result in large downloads (up to 60MB of content for the first import from SciPy). Load times when importing from SciPy may take roughly 10-20 seconds. If you notice any problems, feel free to open an [issue](https://github.com/scipy/scipy/issues/new/choose).\n\n</div>",
            "metadata": {}
        },
        {
            "id": "c64188ba",
            "cell_type": "markdown",
            "source": "Generate samples from a low discrepancy sequence of Sobol'.\n",
            "metadata": {}
        },
        {
            "id": "fa19d972",
            "cell_type": "code",
            "metadata": {},
            "execution_count": null,
            "source": "from scipy.stats import qmc\nsampler = qmc.Sobol(d=2, scramble=False)\nsample = sampler.random_base2(m=3)\nsample",
            "outputs": [
                {
                    "output_type": "execute_result",
                    "metadata": {},
                    "data": {
                        "text/plain": "array([[0.   , 0.   ],\n       [0.5  , 0.5  ],\n       [0.75 , 0.25 ],\n       [0.25 , 0.75 ],\n       [0.375, 0.375],\n       [0.875, 0.875],\n       [0.625, 0.125],\n       [0.125, 0.625]])"
                    },
                    "execution_count": null
                }
            ]
        },
        {
            "id": "5d00cf61",
            "cell_type": "markdown",
            "source": "Compute the quality of the sample using the discrepancy criterion.\n",
            "metadata": {}
        },
        {
            "id": "426f32f0",
            "cell_type": "code",
            "metadata": {},
            "execution_count": null,
            "source": "qmc.discrepancy(sample)",
            "outputs": [
                {
                    "output_type": "execute_result",
                    "metadata": {},
                    "data": {
                        "text/plain": "0.013882107204860938"
                    },
                    "execution_count": null
                }
            ]
        },
        {
            "id": "45021f2d",
            "cell_type": "markdown",
            "source": "To continue an existing design, extra points can be obtained\nby calling again `random_base2`. Alternatively, you can skip some\npoints like:\n",
            "metadata": {}
        },
        {
            "id": "1b3a832b",
            "cell_type": "code",
            "metadata": {},
            "execution_count": null,
            "source": "_ = sampler.reset()\n_ = sampler.fast_forward(4)\nsample_continued = sampler.random_base2(m=2)\nsample_continued",
            "outputs": [
                {
                    "output_type": "execute_result",
                    "metadata": {},
                    "data": {
                        "text/plain": "array([[0.375, 0.375],\n       [0.875, 0.875],\n       [0.625, 0.125],\n       [0.125, 0.625]])"
                    },
                    "execution_count": null
                }
            ]
        },
        {
            "id": "38376f3a",
            "cell_type": "markdown",
            "source": "Finally, samples can be scaled to bounds.\n",
            "metadata": {}
        },
        {
            "id": "55c00a87",
            "cell_type": "code",
            "metadata": {},
            "execution_count": null,
            "source": "l_bounds = [0, 2]\nu_bounds = [10, 5]\nqmc.scale(sample_continued, l_bounds, u_bounds)",
            "outputs": [
                {
                    "output_type": "execute_result",
                    "metadata": {},
                    "data": {
                        "text/plain": "array([[3.75 , 3.125],\n       [8.75 , 4.625],\n       [6.25 , 2.375],\n       [1.25 , 3.875]])"
                    },
                    "execution_count": null
                }
            ]
        }
    ]
}