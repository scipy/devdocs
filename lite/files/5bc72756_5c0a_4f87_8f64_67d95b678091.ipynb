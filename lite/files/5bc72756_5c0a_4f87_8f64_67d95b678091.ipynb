{
    "nbformat": 4,
    "nbformat_minor": 5,
    "metadata": {
        "kernelspec": {
            "display_name": "Python",
            "language": "python",
            "name": "python"
        },
        "language_info": {
            "name": "python"
        }
    },
    "cells": [
        {
            "id": "1a006377",
            "cell_type": "markdown",
            "source": "<div class='alert alert-warning'>\n\nSciPy's interactive examples with Jupyterlite are experimental and may not always work as expected. Execution of cells containing imports may result in large downloads (up to 60MB of content for the first import from SciPy). Load times when importing from SciPy may take roughly 10-20 seconds. If you notice any problems, feel free to open an [issue](https://github.com/scipy/scipy/issues/new/choose).\n\n</div>",
            "metadata": {}
        },
        {
            "id": "21eda4dc",
            "cell_type": "code",
            "metadata": {},
            "execution_count": null,
            "source": "import scipy.fft\nimport numpy as np\nx = np.ones((3, 2, 2))\nscipy.fft.hfftn(x)",
            "outputs": [
                {
                    "output_type": "execute_result",
                    "metadata": {},
                    "data": {
                        "text/plain": "array([[[12.,  0.],\n        [ 0.,  0.]],\n       [[ 0.,  0.],\n        [ 0.,  0.]],\n       [[ 0.,  0.],\n        [ 0.,  0.]]])"
                    },
                    "execution_count": null
                }
            ]
        }
    ]
}