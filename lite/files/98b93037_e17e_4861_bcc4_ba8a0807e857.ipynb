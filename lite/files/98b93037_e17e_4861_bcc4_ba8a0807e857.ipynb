{
    "nbformat": 4,
    "nbformat_minor": 5,
    "metadata": {
        "kernelspec": {
            "display_name": "Python",
            "language": "python",
            "name": "python"
        },
        "language_info": {
            "name": "python"
        }
    },
    "cells": [
        {
            "id": "6939cd8c",
            "cell_type": "markdown",
            "source": "<div class='alert alert-warning'>\n\nSciPy's interactive examples with Jupyterlite are experimental and may not always work as expected. Execution of cells containing imports may result in large downloads (up to 60MB of content for the first import from SciPy). Load times when importing from SciPy may take roughly 10-20 seconds. If you notice any problems, feel free to open an [issue](https://github.com/scipy/scipy/issues/new/choose).\n\n</div>",
            "metadata": {}
        },
        {
            "id": "8d604b7a",
            "cell_type": "code",
            "metadata": {},
            "execution_count": null,
            "source": "from scipy.spatial.transform import Rotation as R\nr = R.from_quat([\n[1, 1, 0, 0],\n[0, 1, 0, 1],\n[1, 1, -1, 0]])\nr.as_quat()",
            "outputs": [
                {
                    "output_type": "execute_result",
                    "metadata": {},
                    "data": {
                        "text/plain": "array([[ 0.70710678,  0.70710678,  0.        ,  0.        ],\n       [ 0.        ,  0.70710678,  0.        ,  0.70710678],\n       [ 0.57735027,  0.57735027, -0.57735027,  0.        ]])"
                    },
                    "execution_count": null
                }
            ]
        },
        {
            "id": "6076a1e0",
            "cell_type": "markdown",
            "source": "Indexing using a single index:\n",
            "metadata": {}
        },
        {
            "id": "6fd69190",
            "cell_type": "code",
            "metadata": {},
            "execution_count": null,
            "source": "p = r[0]\np.as_quat()",
            "outputs": [
                {
                    "output_type": "execute_result",
                    "metadata": {},
                    "data": {
                        "text/plain": "array([0.70710678, 0.70710678, 0.        , 0.        ])"
                    },
                    "execution_count": null
                }
            ]
        },
        {
            "id": "b3632a50",
            "cell_type": "markdown",
            "source": "Array slicing:\n",
            "metadata": {}
        },
        {
            "id": "8e67b168",
            "cell_type": "code",
            "metadata": {},
            "execution_count": null,
            "source": "q = r[1:3]\nq.as_quat()",
            "outputs": [
                {
                    "output_type": "execute_result",
                    "metadata": {},
                    "data": {
                        "text/plain": "array([[ 0.        ,  0.70710678,  0.        ,  0.70710678],\n       [ 0.57735027,  0.57735027, -0.57735027,  0.        ]])"
                    },
                    "execution_count": null
                }
            ]
        }
    ]
}