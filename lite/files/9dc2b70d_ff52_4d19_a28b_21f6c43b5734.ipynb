{
    "nbformat": 4,
    "nbformat_minor": 5,
    "metadata": {
        "kernelspec": {
            "display_name": "Python",
            "language": "python",
            "name": "python"
        },
        "language_info": {
            "name": "python"
        }
    },
    "cells": [
        {
            "id": "173e3bc7",
            "cell_type": "markdown",
            "source": "<div class='alert alert-warning'>\n\nSciPy's interactive examples with Jupyterlite are experimental and may not always work as expected. Execution of cells containing imports may result in large downloads (up to 60MB of content for the first import from SciPy). Load times when importing from SciPy may take roughly 10-20 seconds. If you notice any problems, feel free to open an [issue](https://github.com/scipy/scipy/issues/new/choose).\n\n</div>",
            "metadata": {}
        },
        {
            "id": "80f7c90f",
            "cell_type": "code",
            "metadata": {},
            "execution_count": null,
            "source": "from scipy.stats import tiecorrect, rankdata\ntiecorrect([1, 2.5, 2.5, 4])",
            "outputs": [
                {
                    "output_type": "execute_result",
                    "metadata": {},
                    "data": {
                        "text/plain": "0.9"
                    },
                    "execution_count": null
                }
            ]
        },
        {
            "id": "a16b5593",
            "cell_type": "code",
            "metadata": {},
            "execution_count": null,
            "source": "ranks = rankdata([1, 3, 2, 4, 5, 7, 2, 8, 4])\nranks",
            "outputs": [
                {
                    "output_type": "execute_result",
                    "metadata": {},
                    "data": {
                        "text/plain": "array([ 1. ,  4. ,  2.5,  5.5,  7. ,  8. ,  2.5,  9. ,  5.5])"
                    },
                    "execution_count": null
                }
            ]
        },
        {
            "id": "4d99f10d",
            "cell_type": "code",
            "metadata": {},
            "execution_count": null,
            "source": "tiecorrect(ranks)",
            "outputs": [
                {
                    "output_type": "execute_result",
                    "metadata": {},
                    "data": {
                        "text/plain": "0.9833333333333333"
                    },
                    "execution_count": null
                }
            ]
        }
    ]
}