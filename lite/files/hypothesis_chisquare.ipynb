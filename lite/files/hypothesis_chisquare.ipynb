{
 "cells": [
  {
   "cell_type": "markdown",
   "id": "0b0b4138",
   "metadata": {},
   "source": [
    "```{eval-rst}\n",
    ".. jupyterlite:: ../../_contents/hypothesis_chisquare.ipynb\n",
    "   :new_tab: True\n",
    "```\n",
    "\n",
    "(hypothesis_chisquare)=\n",
    "# Chi-square test\n",
    "\n",
    "The {class}`chi-square test <scipy.stats.chisquare>` tests the null hypothesis\n",
    "that a given set of categorical data has the given frequencies.\n",
    "\n",
    "In [^1], bird foraging behavior was investigated in an old-growth forest of\n",
    "Oregon. In the forest, 44% of the canopy volume was Douglas fir, 24% was\n",
    "ponderosa pine, 29% was grand fir, and 3% was western larch. The authors\n",
    "observed the behavior of several species of birds, one of which was the\n",
    "red-breasted nuthatch. They made 189 observations of this species foraging,\n",
    "recording 43 (\"23%\") of observations in Douglas fir, 52 (\"28%\") in ponderosa\n",
    "pine, 54 (\"29%\") in grand fir, and 40 (\"21%\") in western larch.\n",
    "\n",
    "Using a chi-square test, we can test the null hypothesis that the proportions of\n",
    "foraging events are equal to the proportions of canopy volume. The authors of\n",
    "the paper considered a p-value less than 1% to be significant.\n",
    "\n",
    "Using the above proportions of canopy volume and observed events, we can infer\n",
    "expected frequencies."
   ]
  },
  {
   "cell_type": "code",
   "execution_count": null,
   "id": "89ea0981",
   "metadata": {},
   "outputs": [],
   "source": [
    "import numpy as np\n",
    "f_exp = np.array([44, 24, 29, 3]) / 100 * 189"
   ]
  },
  {
   "cell_type": "markdown",
   "id": "3c257380",
   "metadata": {},
   "source": [
    "The observed frequencies of foraging were:"
   ]
  },
  {
   "cell_type": "code",
   "execution_count": null,
   "id": "d413d5df",
   "metadata": {},
   "outputs": [],
   "source": [
    "f_obs = np.array([43, 52, 54, 40])"
   ]
  },
  {
   "cell_type": "markdown",
   "id": "9ba9e0d5",
   "metadata": {},
   "source": [
    "We can now compare the observed frequencies with the expected frequencies."
   ]
  },
  {
   "cell_type": "code",
   "execution_count": null,
   "id": "c08266d5",
   "metadata": {},
   "outputs": [],
   "source": [
    "from scipy.stats import chisquare\n",
    "chisquare(f_obs=f_obs, f_exp=f_exp)"
   ]
  },
  {
   "cell_type": "markdown",
   "id": "95ebf11d",
   "metadata": {},
   "source": [
    "The p-value is well below the chosen significance level. Hence, the authors\n",
    "considered the difference to be significant and concluded that the relative\n",
    "proportions of foraging events were not the same as the relative proportions of\n",
    "tree canopy volume.\n",
    "\n",
    "## References\n",
    "\n",
    "[^1]: Mannan, R. William and Meslow, E. Charles (1984) \"Bird populations and\n",
    "vegetation characteristics in managed and old-growth forests, northeastern\n",
    "Oregon.\" Journal of Wildlife Management 48, 1219-1238. {doi}`10.2307/3801783`"
   ]
  }
 ],
 "metadata": {
  "kernelspec": {
   "display_name": "Python 3 (ipykernel)",
   "language": "python",
   "name": "python3"
  }
 },
 "nbformat": 4,
 "nbformat_minor": 5
}
