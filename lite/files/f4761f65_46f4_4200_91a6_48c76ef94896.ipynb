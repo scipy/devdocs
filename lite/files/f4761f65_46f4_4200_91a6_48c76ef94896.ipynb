{
    "nbformat": 4,
    "nbformat_minor": 5,
    "metadata": {
        "kernelspec": {
            "display_name": "Python",
            "language": "python",
            "name": "python"
        },
        "language_info": {
            "name": "python"
        }
    },
    "cells": [
        {
            "id": "46132071",
            "cell_type": "markdown",
            "source": "<div class='alert alert-warning'>\n\nSciPy's interactive examples with Jupyterlite are experimental and may not always work as expected. Execution of cells containing imports may result in large downloads (up to 60MB of content for the first import from SciPy). Load times when importing from SciPy may take roughly 10-20 seconds. If you notice any problems, feel free to open an [issue](https://github.com/scipy/scipy/issues/new/choose).\n\n</div>",
            "metadata": {}
        },
        {
            "id": "ef5f8bd4",
            "cell_type": "code",
            "metadata": {},
            "execution_count": null,
            "source": "import numpy as np\nfrom scipy.stats import geninvgauss\nimport matplotlib.pyplot as plt\nfig, ax = plt.subplots(1, 1)",
            "outputs": []
        },
        {
            "id": "c302c3f8",
            "cell_type": "markdown",
            "source": "Calculate the first four moments:\n",
            "metadata": {}
        },
        {
            "id": "f626ad7e",
            "cell_type": "code",
            "metadata": {},
            "execution_count": null,
            "source": "p, b = 2.3, 1.5\nmean, var, skew, kurt = geninvgauss.stats(p, b, moments='mvsk')",
            "outputs": []
        },
        {
            "id": "96b7f29e",
            "cell_type": "markdown",
            "source": "Display the probability density function (``pdf``):\n",
            "metadata": {}
        },
        {
            "id": "be698489",
            "cell_type": "code",
            "metadata": {},
            "execution_count": null,
            "source": "x = np.linspace(geninvgauss.ppf(0.01, p, b),\n                geninvgauss.ppf(0.99, p, b), 100)\nax.plot(x, geninvgauss.pdf(x, p, b),\n       'r-', lw=5, alpha=0.6, label='geninvgauss pdf')",
            "outputs": []
        },
        {
            "id": "9a73e9a2",
            "cell_type": "markdown",
            "source": "Alternatively, the distribution object can be called (as a function)\nto fix the shape, location and scale parameters. This returns a \"frozen\"\nRV object holding the given parameters fixed.\n\nFreeze the distribution and display the frozen ``pdf``:\n",
            "metadata": {}
        },
        {
            "id": "7e1baf03",
            "cell_type": "code",
            "metadata": {},
            "execution_count": null,
            "source": "rv = geninvgauss(p, b)\nax.plot(x, rv.pdf(x), 'k-', lw=2, label='frozen pdf')",
            "outputs": []
        },
        {
            "id": "786561e6",
            "cell_type": "markdown",
            "source": "Check accuracy of ``cdf`` and ``ppf``:\n",
            "metadata": {}
        },
        {
            "id": "d3fcd5c8",
            "cell_type": "code",
            "metadata": {},
            "execution_count": null,
            "source": "vals = geninvgauss.ppf([0.001, 0.5, 0.999], p, b)\nnp.allclose([0.001, 0.5, 0.999], geninvgauss.cdf(vals, p, b))",
            "outputs": [
                {
                    "output_type": "execute_result",
                    "metadata": {},
                    "data": {
                        "text/plain": "True"
                    },
                    "execution_count": null
                }
            ]
        },
        {
            "id": "1c3400b5",
            "cell_type": "markdown",
            "source": "Generate random numbers:\n",
            "metadata": {}
        },
        {
            "id": "df9fbd50",
            "cell_type": "code",
            "metadata": {},
            "execution_count": null,
            "source": "r = geninvgauss.rvs(p, b, size=1000)",
            "outputs": []
        },
        {
            "id": "2ae5350d",
            "cell_type": "markdown",
            "source": "And compare the histogram:\n",
            "metadata": {}
        },
        {
            "id": "cc4f70b3",
            "cell_type": "code",
            "metadata": {},
            "execution_count": null,
            "source": "ax.hist(r, density=True, bins='auto', histtype='stepfilled', alpha=0.2)\nax.set_xlim([x[0], x[-1]])\nax.legend(loc='best', frameon=False)\nplt.show()",
            "outputs": []
        }
    ]
}