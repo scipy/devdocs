{
    "nbformat": 4,
    "nbformat_minor": 5,
    "metadata": {
        "kernelspec": {
            "display_name": "Python",
            "language": "python",
            "name": "python"
        },
        "language_info": {
            "name": "python"
        }
    },
    "cells": [
        {
            "id": "c4a6f050",
            "cell_type": "markdown",
            "source": "<div class='alert alert-warning'>\n\nSciPy's interactive examples with Jupyterlite are experimental and may not always work as expected. Execution of cells containing imports may result in large downloads (up to 60MB of content for the first import from SciPy). Load times when importing from SciPy may take roughly 10-20 seconds. If you notice any problems, feel free to open an [issue](https://github.com/scipy/scipy/issues/new/choose).\n\n</div>",
            "metadata": {}
        },
        {
            "id": "6d54de4d",
            "cell_type": "code",
            "metadata": {},
            "execution_count": null,
            "source": "from scipy.special import boxcox\nboxcox([1, 4, 10], 2.5)",
            "outputs": [
                {
                    "output_type": "execute_result",
                    "metadata": {},
                    "data": {
                        "text/plain": "array([   0.        ,   12.4       ,  126.09110641])"
                    },
                    "execution_count": null
                }
            ]
        },
        {
            "id": "79f0e5f0",
            "cell_type": "code",
            "metadata": {},
            "execution_count": null,
            "source": "boxcox(2, [0, 1, 2])",
            "outputs": [
                {
                    "output_type": "execute_result",
                    "metadata": {},
                    "data": {
                        "text/plain": "array([ 0.69314718,  1.        ,  1.5       ])"
                    },
                    "execution_count": null
                }
            ]
        }
    ]
}