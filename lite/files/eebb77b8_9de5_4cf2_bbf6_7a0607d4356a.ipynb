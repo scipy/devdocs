{
    "nbformat": 4,
    "nbformat_minor": 5,
    "metadata": {
        "kernelspec": {
            "display_name": "Python",
            "language": "python",
            "name": "python"
        },
        "language_info": {
            "name": "python"
        }
    },
    "cells": [
        {
            "id": "9dd9d4c0",
            "cell_type": "markdown",
            "source": "<div class='alert alert-warning'>\n\nSciPy's interactive examples with Jupyterlite are experimental and may not always work as expected. Execution of cells containing imports may result in large downloads (up to 60MB of content for the first import from SciPy). Load times when importing from SciPy may take roughly 10-20 seconds. If you notice any problems, feel free to open an [issue](https://github.com/scipy/scipy/issues/new/choose).\n\n</div>",
            "metadata": {}
        },
        {
            "id": "5dbc7559",
            "cell_type": "code",
            "metadata": {},
            "execution_count": null,
            "source": "from scipy.special import nctdtr, nctdtrinc",
            "outputs": []
        },
        {
            "id": "12ec5725",
            "cell_type": "markdown",
            "source": "Compute the CDF for several values of `nc`:\n",
            "metadata": {}
        },
        {
            "id": "ad6030e5",
            "cell_type": "code",
            "metadata": {},
            "execution_count": null,
            "source": "nc = [0.5, 1.5, 2.5]\np = nctdtr(3, nc, 1.5)\np",
            "outputs": [
                {
                    "output_type": "execute_result",
                    "metadata": {},
                    "data": {
                        "text/plain": "array([0.77569497, 0.45524533, 0.1668691 ])"
                    },
                    "execution_count": null
                }
            ]
        },
        {
            "id": "a8691c01",
            "cell_type": "markdown",
            "source": "Compute the inverse. We recover the values of `nc`, as expected:\n",
            "metadata": {}
        },
        {
            "id": "2d27a02f",
            "cell_type": "code",
            "metadata": {},
            "execution_count": null,
            "source": "nctdtrinc(3, p, 1.5)",
            "outputs": [
                {
                    "output_type": "execute_result",
                    "metadata": {},
                    "data": {
                        "text/plain": "array([0.5, 1.5, 2.5])"
                    },
                    "execution_count": null
                }
            ]
        }
    ]
}