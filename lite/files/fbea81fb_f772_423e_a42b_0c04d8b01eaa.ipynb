{
    "nbformat": 4,
    "nbformat_minor": 5,
    "metadata": {
        "kernelspec": {
            "display_name": "Python",
            "language": "python",
            "name": "python"
        },
        "language_info": {
            "name": "python"
        }
    },
    "cells": [
        {
            "id": "a89a64df",
            "cell_type": "markdown",
            "source": "<div class='alert alert-warning'>\n\nSciPy's interactive examples with Jupyterlite are experimental and may not always work as expected. Execution of cells containing imports may result in large downloads (up to 60MB of content for the first import from SciPy). Load times when importing from SciPy may take roughly 10-20 seconds. If you notice any problems, feel free to open an [issue](https://github.com/scipy/scipy/issues/new/choose).\n\n</div>",
            "metadata": {}
        },
        {
            "id": "2dcc0744",
            "cell_type": "code",
            "metadata": {},
            "execution_count": null,
            "source": "import scipy.datasets\nascent = scipy.datasets.ascent()\nascent.shape",
            "outputs": [
                {
                    "output_type": "execute_result",
                    "metadata": {},
                    "data": {
                        "text/plain": "(512, 512)"
                    },
                    "execution_count": null
                }
            ]
        },
        {
            "id": "7ffad689",
            "cell_type": "code",
            "metadata": {},
            "execution_count": null,
            "source": "ascent.max()",
            "outputs": [
                {
                    "output_type": "execute_result",
                    "metadata": {},
                    "data": {
                        "text/plain": "np.uint8(255)"
                    },
                    "execution_count": null
                }
            ]
        },
        {
            "id": "92cf3082",
            "cell_type": "code",
            "metadata": {},
            "execution_count": null,
            "source": "import matplotlib.pyplot as plt\nplt.gray()\nplt.imshow(ascent)\nplt.show()",
            "outputs": []
        }
    ]
}