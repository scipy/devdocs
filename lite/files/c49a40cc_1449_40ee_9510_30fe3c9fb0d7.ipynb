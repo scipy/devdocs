{
    "nbformat": 4,
    "nbformat_minor": 5,
    "metadata": {
        "kernelspec": {
            "display_name": "Python",
            "language": "python",
            "name": "python"
        },
        "language_info": {
            "name": "python"
        }
    },
    "cells": [
        {
            "id": "e2cc8025",
            "cell_type": "markdown",
            "source": "<div class='alert alert-warning'>\n\nSciPy's interactive examples with Jupyterlite are experimental and may not always work as expected. Execution of cells containing imports may result in large downloads (up to 60MB of content for the first import from SciPy). Load times when importing from SciPy may take roughly 10-20 seconds. If you notice any problems, feel free to open an [issue](https://github.com/scipy/scipy/issues/new/choose).\n\n</div>",
            "metadata": {}
        },
        {
            "id": "9bb3f716",
            "cell_type": "code",
            "metadata": {},
            "execution_count": null,
            "source": "import numpy as np\nfrom scipy.sparse.csgraph import csgraph_from_masked",
            "outputs": []
        },
        {
            "id": "e46ce202",
            "cell_type": "code",
            "metadata": {},
            "execution_count": null,
            "source": "graph_masked = np.ma.masked_array(data =[\n[0, 1, 2, 0],\n[0, 0, 0, 1],\n[0, 0, 0, 3],\n[0, 0, 0, 0]\n],\nmask=[[ True, False, False,  True],\n      [ True,  True,  True, False],\n      [ True,  True,  True, False],\n      [ True,  True,  True,  True]],\nfill_value = 0)",
            "outputs": []
        },
        {
            "id": "c83fd8df",
            "cell_type": "code",
            "metadata": {},
            "execution_count": null,
            "source": "csgraph_from_masked(graph_masked)",
            "outputs": [
                {
                    "output_type": "execute_result",
                    "metadata": {},
                    "data": {
                        "text/plain": "<Compressed Sparse Row sparse matrix of dtype 'float64'\n    with 4 stored elements and shape (4, 4)>"
                    },
                    "execution_count": null
                }
            ]
        }
    ]
}