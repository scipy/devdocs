{
    "nbformat": 4,
    "nbformat_minor": 5,
    "metadata": {
        "kernelspec": {
            "display_name": "Python",
            "language": "python",
            "name": "python"
        },
        "language_info": {
            "name": "python"
        }
    },
    "cells": [
        {
            "id": "fc75d426",
            "cell_type": "markdown",
            "source": "<div class='alert alert-warning'>\n\nSciPy's interactive examples with Jupyterlite are experimental and may not always work as expected. Execution of cells containing imports may result in large downloads (up to 60MB of content for the first import from SciPy). Load times when importing from SciPy may take roughly 10-20 seconds. If you notice any problems, feel free to open an [issue](https://github.com/scipy/scipy/issues/new/choose).\n\n</div>",
            "metadata": {}
        },
        {
            "id": "b5727e43",
            "cell_type": "code",
            "metadata": {},
            "execution_count": null,
            "source": "from scipy.special import factorial2\nfactorial2(7, exact=False)",
            "outputs": [
                {
                    "output_type": "execute_result",
                    "metadata": {},
                    "data": {
                        "text/plain": "array(105.00000000000001)"
                    },
                    "execution_count": null
                }
            ]
        },
        {
            "id": "5e4b164b",
            "cell_type": "code",
            "metadata": {},
            "execution_count": null,
            "source": "factorial2(7, exact=True)",
            "outputs": [
                {
                    "output_type": "execute_result",
                    "metadata": {},
                    "data": {
                        "text/plain": "105"
                    },
                    "execution_count": null
                }
            ]
        }
    ]
}