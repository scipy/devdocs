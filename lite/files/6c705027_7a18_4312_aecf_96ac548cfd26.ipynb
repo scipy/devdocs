{
    "nbformat": 4,
    "nbformat_minor": 5,
    "metadata": {
        "kernelspec": {
            "display_name": "Python",
            "language": "python",
            "name": "python"
        },
        "language_info": {
            "name": "python"
        }
    },
    "cells": [
        {
            "id": "a7d98660",
            "cell_type": "markdown",
            "source": "<div class='alert alert-warning'>\n\nSciPy's interactive examples with Jupyterlite are experimental and may not always work as expected. Execution of cells containing imports may result in large downloads (up to 60MB of content for the first import from SciPy). Load times when importing from SciPy may take roughly 10-20 seconds. If you notice any problems, feel free to open an [issue](https://github.com/scipy/scipy/issues/new/choose).\n\n</div>",
            "metadata": {}
        },
        {
            "id": "2d94893f",
            "cell_type": "code",
            "metadata": {},
            "execution_count": null,
            "source": "import scipy.fft as fft\nfft.fft([1])  # Calls default SciPy backend",
            "outputs": [
                {
                    "output_type": "execute_result",
                    "metadata": {},
                    "data": {
                        "text/plain": "array([1.+0.j])"
                    },
                    "execution_count": null
                }
            ]
        },
        {
            "id": "c0b9a2b0",
            "cell_type": "code",
            "metadata": {},
            "execution_count": null,
            "source": "with fft.skip_backend('scipy'):  # We explicitly skip the SciPy backend\n    fft.fft([1])                 # leaving no implementation available",
            "outputs": [
                {
                    "output_type": "execute_result",
                    "metadata": {},
                    "data": {
                        "text/plain": "Traceback (most recent call last):\n    ...\nBackendNotImplementedError: No selected backends had an implementation ..."
                    },
                    "execution_count": null
                }
            ]
        }
    ]
}