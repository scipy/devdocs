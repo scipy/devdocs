{
    "nbformat": 4,
    "nbformat_minor": 5,
    "metadata": {
        "kernelspec": {
            "display_name": "Python",
            "language": "python",
            "name": "python"
        },
        "language_info": {
            "name": "python"
        }
    },
    "cells": [
        {
            "id": "c36bbfaa",
            "cell_type": "markdown",
            "source": "<div class='alert alert-warning'>\n\nSciPy's interactive examples with Jupyterlite are experimental and may not always work as expected. Execution of cells containing imports may result in large downloads (up to 60MB of content for the first import from SciPy). Load times when importing from SciPy may take roughly 10-20 seconds. If you notice any problems, feel free to open an [issue](https://github.com/scipy/scipy/issues/new/choose).\n\n</div>",
            "metadata": {}
        },
        {
            "id": "73dbe125",
            "cell_type": "markdown",
            "source": "Plot a 13th-order filter's impulse response using both `lfilter` and\n`sosfilt`, showing the instability that results from trying to do a\n13th-order filter in a single stage (the numerical error pushes some poles\noutside of the unit circle):\n",
            "metadata": {}
        },
        {
            "id": "eeb82d64",
            "cell_type": "code",
            "metadata": {},
            "execution_count": null,
            "source": "import matplotlib.pyplot as plt\nfrom scipy import signal\nb, a = signal.ellip(13, 0.009, 80, 0.05, output='ba')\nsos = signal.ellip(13, 0.009, 80, 0.05, output='sos')\nx = signal.unit_impulse(700)\ny_tf = signal.lfilter(b, a, x)\ny_sos = signal.sosfilt(sos, x)\nplt.plot(y_tf, 'r', label='TF')\nplt.plot(y_sos, 'k', label='SOS')\nplt.legend(loc='best')\nplt.show()",
            "outputs": []
        }
    ]
}