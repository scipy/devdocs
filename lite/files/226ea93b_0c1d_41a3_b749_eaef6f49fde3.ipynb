{
    "nbformat": 4,
    "nbformat_minor": 5,
    "metadata": {
        "kernelspec": {
            "display_name": "Python",
            "language": "python",
            "name": "python"
        },
        "language_info": {
            "name": "python"
        }
    },
    "cells": [
        {
            "id": "80207959",
            "cell_type": "markdown",
            "source": "<div class='alert alert-warning'>\n\nSciPy's interactive examples with Jupyterlite are experimental and may not always work as expected. Execution of cells containing imports may result in large downloads (up to 60MB of content for the first import from SciPy). Load times when importing from SciPy may take roughly 10-20 seconds. If you notice any problems, feel free to open an [issue](https://github.com/scipy/scipy/issues/new/choose).\n\n</div>",
            "metadata": {}
        },
        {
            "id": "78be3a01",
            "cell_type": "markdown",
            "source": "We'll test the following data sets for differences in their variance.\n",
            "metadata": {}
        },
        {
            "id": "8e5b0485",
            "cell_type": "code",
            "metadata": {},
            "execution_count": null,
            "source": "x = [10, 11, 13, 9, 7, 12, 12, 9, 10]\ny = [13, 21, 5, 10, 8, 14, 10, 12, 7, 15]",
            "outputs": []
        },
        {
            "id": "f3eec148",
            "cell_type": "markdown",
            "source": "Apply the O'Brien transform to the data.\n",
            "metadata": {}
        },
        {
            "id": "de3d5e35",
            "cell_type": "code",
            "metadata": {},
            "execution_count": null,
            "source": "from scipy.stats import obrientransform\ntx, ty = obrientransform(x, y)",
            "outputs": []
        },
        {
            "id": "2d10ae34",
            "cell_type": "markdown",
            "source": "Use `scipy.stats.f_oneway` to apply a one-way ANOVA test to the\ntransformed data.\n",
            "metadata": {}
        },
        {
            "id": "e9347aec",
            "cell_type": "code",
            "metadata": {},
            "execution_count": null,
            "source": "from scipy.stats import f_oneway\nF, p = f_oneway(tx, ty)\np",
            "outputs": [
                {
                    "output_type": "execute_result",
                    "metadata": {},
                    "data": {
                        "text/plain": "0.1314139477040335"
                    },
                    "execution_count": null
                }
            ]
        },
        {
            "id": "1b63b774",
            "cell_type": "markdown",
            "source": "If we require that ``p < 0.05`` for significance, we cannot conclude\nthat the variances are different.",
            "metadata": {}
        }
    ]
}