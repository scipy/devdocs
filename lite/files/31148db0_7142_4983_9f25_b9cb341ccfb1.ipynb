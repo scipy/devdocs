{
    "nbformat": 4,
    "nbformat_minor": 5,
    "metadata": {
        "kernelspec": {
            "display_name": "Python",
            "language": "python",
            "name": "python"
        },
        "language_info": {
            "name": "python"
        }
    },
    "cells": [
        {
            "id": "111707fc",
            "cell_type": "markdown",
            "source": "<div class='alert alert-warning'>\n\nSciPy's interactive examples with Jupyterlite are experimental and may not always work as expected. Execution of cells containing imports may result in large downloads (up to 60MB of content for the first import from SciPy). Load times when importing from SciPy may take roughly 10-20 seconds. If you notice any problems, feel free to open an [issue](https://github.com/scipy/scipy/issues/new/choose).\n\n</div>",
            "metadata": {}
        },
        {
            "id": "ddc2d571",
            "cell_type": "markdown",
            "source": "Find the polynomial representation of a transfer function H(s)\nusing its 'zpk' (Zero-Pole-Gain) representation.\n\n$$ H(z) = 5 \\frac { (s - 2)(s - 6) } { (s - 1)(s - 8) } $$",
            "metadata": {}
        },
        {
            "id": "429439b2",
            "cell_type": "code",
            "metadata": {},
            "execution_count": null,
            "source": "from scipy.signal import zpk2tf\nz   = [2,   6]\np   = [1,   8]\nk   = 5\nzpk2tf(z, p, k)",
            "outputs": [
                {
                    "output_type": "execute_result",
                    "metadata": {},
                    "data": {
                        "text/plain": "(   array([  5., -40.,  60.]), array([ 1., -9.,  8.]))"
                    },
                    "execution_count": null
                }
            ]
        }
    ]
}