{
    "nbformat": 4,
    "nbformat_minor": 5,
    "metadata": {
        "kernelspec": {
            "display_name": "Python",
            "language": "python",
            "name": "python"
        },
        "language_info": {
            "name": "python"
        }
    },
    "cells": [
        {
            "id": "9c9cf73f",
            "cell_type": "markdown",
            "source": "<div class='alert alert-warning'>\n\nSciPy's interactive examples with Jupyterlite are experimental and may not always work as expected. Execution of cells containing imports may result in large downloads (up to 60MB of content for the first import from SciPy). Load times when importing from SciPy may take roughly 10-20 seconds. If you notice any problems, feel free to open an [issue](https://github.com/scipy/scipy/issues/new/choose).\n\n</div>",
            "metadata": {}
        },
        {
            "id": "6ab301ef",
            "cell_type": "code",
            "metadata": {},
            "execution_count": null,
            "source": "from scipy.cluster.hierarchy import fclusterdata",
            "outputs": []
        },
        {
            "id": "c8eb202c",
            "cell_type": "markdown",
            "source": "This is a convenience method that abstracts all the steps to perform in a\ntypical SciPy's hierarchical clustering workflow.\n\n* Transform the input data into a condensed matrix with\n  `scipy.spatial.distance.pdist`.\n\n* Apply a clustering method.\n\n* Obtain flat clusters at a user defined distance threshold ``t`` using\n  `scipy.cluster.hierarchy.fcluster`.\n",
            "metadata": {}
        },
        {
            "id": "8bd7717e",
            "cell_type": "code",
            "metadata": {},
            "execution_count": null,
            "source": "X = [[0, 0], [0, 1], [1, 0],\n     [0, 4], [0, 3], [1, 4],\n     [4, 0], [3, 0], [4, 1],\n     [4, 4], [3, 4], [4, 3]]",
            "outputs": []
        },
        {
            "id": "c1fc7244",
            "cell_type": "code",
            "metadata": {},
            "execution_count": null,
            "source": "fclusterdata(X, t=1)",
            "outputs": [
                {
                    "output_type": "execute_result",
                    "metadata": {},
                    "data": {
                        "text/plain": "array([3, 3, 3, 4, 4, 4, 2, 2, 2, 1, 1, 1], dtype=int32)"
                    },
                    "execution_count": null
                }
            ]
        },
        {
            "id": "d9eef0c4",
            "cell_type": "markdown",
            "source": "The output here (for the dataset ``X``, distance threshold ``t``, and the\ndefault settings) is four clusters with three data points each.",
            "metadata": {}
        }
    ]
}