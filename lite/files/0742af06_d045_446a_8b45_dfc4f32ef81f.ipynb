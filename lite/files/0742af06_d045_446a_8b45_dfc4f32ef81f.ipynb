{
    "nbformat": 4,
    "nbformat_minor": 5,
    "metadata": {
        "kernelspec": {
            "display_name": "Python",
            "language": "python",
            "name": "python"
        },
        "language_info": {
            "name": "python"
        }
    },
    "cells": [
        {
            "id": "9d265bc2",
            "cell_type": "markdown",
            "source": "<div class='alert alert-warning'>\n\nSciPy's interactive examples with Jupyterlite are experimental and may not always work as expected. Execution of cells containing imports may result in large downloads (up to 60MB of content for the first import from SciPy). Load times when importing from SciPy may take roughly 10-20 seconds. If you notice any problems, feel free to open an [issue](https://github.com/scipy/scipy/issues/new/choose).\n\n</div>",
            "metadata": {}
        },
        {
            "id": "b7b6f29b",
            "cell_type": "code",
            "metadata": {},
            "execution_count": null,
            "source": "import numpy as np\nfrom scipy.interpolate import UnivariateSpline\nx = np.linspace(0, np.pi/2, 70)\ny = 1 / np.sqrt(1 - 0.8*np.sin(x)**2)\nspl = UnivariateSpline(x, y, s=0)",
            "outputs": []
        },
        {
            "id": "360a6de4",
            "cell_type": "markdown",
            "source": "The derivative is the inverse operation of the antiderivative,\nalthough some floating point error accumulates:\n",
            "metadata": {}
        },
        {
            "id": "de2bbbbe",
            "cell_type": "code",
            "metadata": {},
            "execution_count": null,
            "source": "spl(1.7), spl.antiderivative().derivative()(1.7)",
            "outputs": [
                {
                    "output_type": "execute_result",
                    "metadata": {},
                    "data": {
                        "text/plain": "(array(2.1565429877197317), array(2.1565429877201865))"
                    },
                    "execution_count": null
                }
            ]
        },
        {
            "id": "8a548ac9",
            "cell_type": "markdown",
            "source": "Antiderivative can be used to evaluate definite integrals:\n",
            "metadata": {}
        },
        {
            "id": "6db075c9",
            "cell_type": "code",
            "metadata": {},
            "execution_count": null,
            "source": "ispl = spl.antiderivative()\nispl(np.pi/2) - ispl(0)",
            "outputs": [
                {
                    "output_type": "execute_result",
                    "metadata": {},
                    "data": {
                        "text/plain": "2.2572053588768486"
                    },
                    "execution_count": null
                }
            ]
        },
        {
            "id": "2cc393dc",
            "cell_type": "markdown",
            "source": "This is indeed an approximation to the complete elliptic integral\n$K(m) = \\int_0^{\\pi/2} [1 - m\\sin^2 x]^{-1/2} dx$:\n",
            "metadata": {}
        },
        {
            "id": "e7084d27",
            "cell_type": "code",
            "metadata": {},
            "execution_count": null,
            "source": "from scipy.special import ellipk\nellipk(0.8)",
            "outputs": [
                {
                    "output_type": "execute_result",
                    "metadata": {},
                    "data": {
                        "text/plain": "2.2572053268208538"
                    },
                    "execution_count": null
                }
            ]
        }
    ]
}