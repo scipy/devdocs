{
    "nbformat": 4,
    "nbformat_minor": 5,
    "metadata": {
        "kernelspec": {
            "display_name": "Python",
            "language": "python",
            "name": "python"
        },
        "language_info": {
            "name": "python"
        }
    },
    "cells": [
        {
            "id": "e8711b5f",
            "cell_type": "markdown",
            "source": "<div class='alert alert-warning'>\n\nSciPy's interactive examples with Jupyterlite are experimental and may not always work as expected. Execution of cells containing imports may result in large downloads (up to 60MB of content for the first import from SciPy). Load times when importing from SciPy may take roughly 10-20 seconds. If you notice any problems, feel free to open an [issue](https://github.com/scipy/scipy/issues/new/choose).\n\n</div>",
            "metadata": {}
        },
        {
            "id": "07487645",
            "cell_type": "markdown",
            "source": "A biologist runs an experiment in which there are three groups of plants.\nGroup 1 has 16 plants, group 2 has 15 plants, and group 3 has 17 plants.\nEach plant produces a number of seeds.  The seed counts for each group\nare\n```\n\nGroup 1: 10 14 14 18 20 22 24 25 31 31 32 39 43 43 48 49\nGroup 2: 28 30 31 33 34 35 36 40 44 55 57 61 91 92 99\nGroup 3:  0  3  9 22 23 25 25 33 34 34 40 45 46 48 62 67 84\n\n```\nThe following code applies Mood's median test to these samples.\n",
            "metadata": {}
        },
        {
            "id": "d7c1b766",
            "cell_type": "code",
            "metadata": {},
            "execution_count": null,
            "source": "g1 = [10, 14, 14, 18, 20, 22, 24, 25, 31, 31, 32, 39, 43, 43, 48, 49]\ng2 = [28, 30, 31, 33, 34, 35, 36, 40, 44, 55, 57, 61, 91, 92, 99]\ng3 = [0, 3, 9, 22, 23, 25, 25, 33, 34, 34, 40, 45, 46, 48, 62, 67, 84]\nfrom scipy.stats import median_test\nres = median_test(g1, g2, g3)",
            "outputs": []
        },
        {
            "id": "5c8dea9b",
            "cell_type": "markdown",
            "source": "The median is\n",
            "metadata": {}
        },
        {
            "id": "ef988b30",
            "cell_type": "code",
            "metadata": {},
            "execution_count": null,
            "source": "res.median",
            "outputs": [
                {
                    "output_type": "execute_result",
                    "metadata": {},
                    "data": {
                        "text/plain": "34.0"
                    },
                    "execution_count": null
                }
            ]
        },
        {
            "id": "11c86b2a",
            "cell_type": "markdown",
            "source": "and the contingency table is\n",
            "metadata": {}
        },
        {
            "id": "b9720562",
            "cell_type": "code",
            "metadata": {},
            "execution_count": null,
            "source": "res.table",
            "outputs": [
                {
                    "output_type": "execute_result",
                    "metadata": {},
                    "data": {
                        "text/plain": "array([[ 5, 10,  7],\n       [11,  5, 10]])"
                    },
                    "execution_count": null
                }
            ]
        },
        {
            "id": "efbe9b69",
            "cell_type": "markdown",
            "source": "`p` is too large to conclude that the medians are not the same:\n",
            "metadata": {}
        },
        {
            "id": "3ba014cf",
            "cell_type": "code",
            "metadata": {},
            "execution_count": null,
            "source": "res.pvalue",
            "outputs": [
                {
                    "output_type": "execute_result",
                    "metadata": {},
                    "data": {
                        "text/plain": "0.12609082774093244"
                    },
                    "execution_count": null
                }
            ]
        },
        {
            "id": "5a833894",
            "cell_type": "markdown",
            "source": "The \"G-test\" can be performed by passing ``lambda_=\"log-likelihood\"`` to\n`median_test`.\n",
            "metadata": {}
        },
        {
            "id": "7c80d74b",
            "cell_type": "code",
            "metadata": {},
            "execution_count": null,
            "source": "res = median_test(g1, g2, g3, lambda_=\"log-likelihood\")\nres.pvalue",
            "outputs": [
                {
                    "output_type": "execute_result",
                    "metadata": {},
                    "data": {
                        "text/plain": "0.12224779737117837"
                    },
                    "execution_count": null
                }
            ]
        },
        {
            "id": "b724d0dc",
            "cell_type": "markdown",
            "source": "The median occurs several times in the data, so we'll get a different\nresult if, for example, ``ties=\"above\"`` is used:\n",
            "metadata": {}
        },
        {
            "id": "6e03de93",
            "cell_type": "code",
            "metadata": {},
            "execution_count": null,
            "source": "res = median_test(g1, g2, g3, ties=\"above\")\nres.pvalue",
            "outputs": [
                {
                    "output_type": "execute_result",
                    "metadata": {},
                    "data": {
                        "text/plain": "0.063873276069553273"
                    },
                    "execution_count": null
                }
            ]
        },
        {
            "id": "e4f3c760",
            "cell_type": "code",
            "metadata": {},
            "execution_count": null,
            "source": "res.table",
            "outputs": [
                {
                    "output_type": "execute_result",
                    "metadata": {},
                    "data": {
                        "text/plain": "array([[ 5, 11,  9],\n       [11,  4,  8]])"
                    },
                    "execution_count": null
                }
            ]
        },
        {
            "id": "ea2d9bac",
            "cell_type": "markdown",
            "source": "This example demonstrates that if the data set is not large and there\nare values equal to the median, the p-value can be sensitive to the\nchoice of `ties`.",
            "metadata": {}
        }
    ]
}