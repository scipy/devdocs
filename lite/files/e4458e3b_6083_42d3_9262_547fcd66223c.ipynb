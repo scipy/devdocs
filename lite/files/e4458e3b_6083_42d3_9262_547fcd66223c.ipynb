{
    "nbformat": 4,
    "nbformat_minor": 5,
    "metadata": {
        "kernelspec": {
            "display_name": "Python",
            "language": "python",
            "name": "python"
        },
        "language_info": {
            "name": "python"
        }
    },
    "cells": [
        {
            "id": "6c0f0f3f",
            "cell_type": "markdown",
            "source": "<div class='alert alert-warning'>\n\nSciPy's interactive examples with Jupyterlite are experimental and may not always work as expected. Execution of cells containing imports may result in large downloads (up to 60MB of content for the first import from SciPy). Load times when importing from SciPy may take roughly 10-20 seconds. If you notice any problems, feel free to open an [issue](https://github.com/scipy/scipy/issues/new/choose).\n\n</div>",
            "metadata": {}
        },
        {
            "id": "5a60391c",
            "cell_type": "markdown",
            "source": "Create a big dense matrix ``A`` for the example:\n",
            "metadata": {}
        },
        {
            "id": "00291771",
            "cell_type": "code",
            "metadata": {},
            "execution_count": null,
            "source": "import numpy as np\nfrom scipy import linalg\nn_rows, n_columns  = 15000, 100\nrng = np.random.default_rng()\nA = rng.standard_normal((n_rows, n_columns))",
            "outputs": []
        },
        {
            "id": "4a43e3ec",
            "cell_type": "markdown",
            "source": "Apply the transform to create a new matrix with 200 rows:\n",
            "metadata": {}
        },
        {
            "id": "89f571fd",
            "cell_type": "code",
            "metadata": {},
            "execution_count": null,
            "source": "sketch_n_rows = 200\nsketch = linalg.clarkson_woodruff_transform(A, sketch_n_rows, seed=rng)\nsketch.shape",
            "outputs": [
                {
                    "output_type": "execute_result",
                    "metadata": {},
                    "data": {
                        "text/plain": "(200, 100)"
                    },
                    "execution_count": null
                }
            ]
        },
        {
            "id": "e926650d",
            "cell_type": "markdown",
            "source": "Now with high probability, the true norm is close to the sketched norm\nin absolute value.\n",
            "metadata": {}
        },
        {
            "id": "83606528",
            "cell_type": "code",
            "metadata": {},
            "execution_count": null,
            "source": "linalg.norm(A)",
            "outputs": [
                {
                    "output_type": "execute_result",
                    "metadata": {},
                    "data": {
                        "text/plain": "1224.2812927123198"
                    },
                    "execution_count": null
                }
            ]
        },
        {
            "id": "2b624785",
            "cell_type": "code",
            "metadata": {},
            "execution_count": null,
            "source": "linalg.norm(sketch)",
            "outputs": [
                {
                    "output_type": "execute_result",
                    "metadata": {},
                    "data": {
                        "text/plain": "1226.518328407333"
                    },
                    "execution_count": null
                }
            ]
        },
        {
            "id": "fd575d68",
            "cell_type": "markdown",
            "source": "Similarly, applying our sketch preserves the solution to a linear\nregression of $\\min \\|Ax - b\\|$.\n",
            "metadata": {}
        },
        {
            "id": "71ec4930",
            "cell_type": "code",
            "metadata": {},
            "execution_count": null,
            "source": "b = rng.standard_normal(n_rows)\nx = linalg.lstsq(A, b)[0]\nAb = np.hstack((A, b.reshape(-1, 1)))\nSAb = linalg.clarkson_woodruff_transform(Ab, sketch_n_rows, seed=rng)\nSA, Sb = SAb[:, :-1], SAb[:, -1]\nx_sketched = linalg.lstsq(SA, Sb)[0]",
            "outputs": []
        },
        {
            "id": "a801f77c",
            "cell_type": "markdown",
            "source": "As with the matrix norm example, ``linalg.norm(A @ x - b)`` is close\nto ``linalg.norm(A @ x_sketched - b)`` with high probability.\n",
            "metadata": {}
        },
        {
            "id": "85a6d92d",
            "cell_type": "code",
            "metadata": {},
            "execution_count": null,
            "source": "linalg.norm(A @ x - b)",
            "outputs": [
                {
                    "output_type": "execute_result",
                    "metadata": {},
                    "data": {
                        "text/plain": "122.83242365433877"
                    },
                    "execution_count": null
                }
            ]
        },
        {
            "id": "9dc5ae3e",
            "cell_type": "code",
            "metadata": {},
            "execution_count": null,
            "source": "linalg.norm(A @ x_sketched - b)",
            "outputs": [
                {
                    "output_type": "execute_result",
                    "metadata": {},
                    "data": {
                        "text/plain": "166.58473879945151"
                    },
                    "execution_count": null
                }
            ]
        }
    ]
}