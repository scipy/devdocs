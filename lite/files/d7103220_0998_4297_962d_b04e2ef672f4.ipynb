{
    "nbformat": 4,
    "nbformat_minor": 5,
    "metadata": {
        "kernelspec": {
            "display_name": "Python",
            "language": "python",
            "name": "python"
        },
        "language_info": {
            "name": "python"
        }
    },
    "cells": [
        {
            "id": "ce393f38",
            "cell_type": "markdown",
            "source": "<div class='alert alert-warning'>\n\nSciPy's interactive examples with Jupyterlite are experimental and may not always work as expected. Execution of cells containing imports may result in large downloads (up to 60MB of content for the first import from SciPy). Load times when importing from SciPy may take roughly 10-20 seconds. If you notice any problems, feel free to open an [issue](https://github.com/scipy/scipy/issues/new/choose).\n\n</div>",
            "metadata": {}
        },
        {
            "id": "7314d6d8",
            "cell_type": "code",
            "metadata": {},
            "execution_count": null,
            "source": "import numpy as np\nfrom scipy.stats import multiscale_graphcorr\nx = np.arange(100)\ny = x\nres = multiscale_graphcorr(x, y)\nres.statistic, res.pvalue",
            "outputs": [
                {
                    "output_type": "execute_result",
                    "metadata": {},
                    "data": {
                        "text/plain": "(1.0, 0.001)"
                    },
                    "execution_count": null
                }
            ]
        },
        {
            "id": "b27a57aa",
            "cell_type": "markdown",
            "source": "To run an unpaired two-sample test,\n",
            "metadata": {}
        },
        {
            "id": "eeb8740d",
            "cell_type": "code",
            "metadata": {},
            "execution_count": null,
            "source": "x = np.arange(100)\ny = np.arange(79)\nres = multiscale_graphcorr(x, y)\nres.statistic, res.pvalue  # doctest: +SKIP",
            "outputs": [
                {
                    "output_type": "execute_result",
                    "metadata": {},
                    "data": {
                        "text/plain": "(0.033258146255703246, 0.023)"
                    },
                    "execution_count": null
                }
            ]
        },
        {
            "id": "22b6e3ed",
            "cell_type": "markdown",
            "source": "or, if shape of the inputs are the same,\n",
            "metadata": {}
        },
        {
            "id": "16e0979e",
            "cell_type": "code",
            "metadata": {},
            "execution_count": null,
            "source": "x = np.arange(100)\ny = x\nres = multiscale_graphcorr(x, y, is_twosamp=True)\nres.statistic, res.pvalue  # doctest: +SKIP",
            "outputs": [
                {
                    "output_type": "execute_result",
                    "metadata": {},
                    "data": {
                        "text/plain": "(-0.008021809890200488, 1.0)"
                    },
                    "execution_count": null
                }
            ]
        }
    ]
}