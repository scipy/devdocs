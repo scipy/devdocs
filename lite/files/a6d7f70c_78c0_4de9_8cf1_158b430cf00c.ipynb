{
    "nbformat": 4,
    "nbformat_minor": 5,
    "metadata": {
        "kernelspec": {
            "display_name": "Python",
            "language": "python",
            "name": "python"
        },
        "language_info": {
            "name": "python"
        }
    },
    "cells": [
        {
            "id": "8dffc395",
            "cell_type": "markdown",
            "source": "<div class='alert alert-warning'>\n\nSciPy's interactive examples with Jupyterlite are experimental and may not always work as expected. Execution of cells containing imports may result in large downloads (up to 60MB of content for the first import from SciPy). Load times when importing from SciPy may take roughly 10-20 seconds. If you notice any problems, feel free to open an [issue](https://github.com/scipy/scipy/issues/new/choose).\n\n</div>",
            "metadata": {}
        },
        {
            "id": "eaea625b",
            "cell_type": "code",
            "metadata": {},
            "execution_count": null,
            "source": "import numpy as np\nfrom scipy.cluster.vq import vq\ncode_book = np.array([[1., 1., 1.],\n                      [2., 2., 2.]])\nfeatures  = np.array([[1.9, 2.3, 1.7],\n                      [1.5, 2.5, 2.2],\n                      [0.8, 0.6, 1.7]])\nvq(features, code_book)",
            "outputs": [
                {
                    "output_type": "execute_result",
                    "metadata": {},
                    "data": {
                        "text/plain": "(array([1, 1, 0], dtype=int32), array([0.43588989, 0.73484692, 0.83066239]))"
                    },
                    "execution_count": null
                }
            ]
        }
    ]
}