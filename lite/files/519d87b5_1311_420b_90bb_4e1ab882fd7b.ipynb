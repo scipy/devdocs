{
    "nbformat": 4,
    "nbformat_minor": 5,
    "metadata": {
        "kernelspec": {
            "display_name": "Python",
            "language": "python",
            "name": "python"
        },
        "language_info": {
            "name": "python"
        }
    },
    "cells": [
        {
            "id": "02946c4d",
            "cell_type": "markdown",
            "source": "<div class='alert alert-warning'>\n\nSciPy's interactive examples with Jupyterlite are experimental and may not always work as expected. Execution of cells containing imports may result in large downloads (up to 60MB of content for the first import from SciPy). Load times when importing from SciPy may take roughly 10-20 seconds. If you notice any problems, feel free to open an [issue](https://github.com/scipy/scipy/issues/new/choose).\n\n</div>",
            "metadata": {}
        },
        {
            "id": "21b5988d",
            "cell_type": "code",
            "metadata": {},
            "execution_count": null,
            "source": "from scipy import stats\na = [1, 2, 3, 4, 5, 6, 7]\nb = [8, 9, 10, 11, 12, 13, 14]\nstats.mstats.compare_medians_ms(a, b, axis=None)",
            "outputs": [
                {
                    "output_type": "execute_result",
                    "metadata": {},
                    "data": {
                        "text/plain": "1.0693225866553746e-05"
                    },
                    "execution_count": null
                }
            ]
        },
        {
            "id": "1ec5d3e4",
            "cell_type": "markdown",
            "source": "The function is vectorized to compute along a given axis.\n",
            "metadata": {}
        },
        {
            "id": "4a7ecc20",
            "cell_type": "code",
            "metadata": {},
            "execution_count": null,
            "source": "import numpy as np\nrng = np.random.default_rng()\nx = rng.random(size=(3, 7))\ny = rng.random(size=(3, 8))\nstats.mstats.compare_medians_ms(x, y, axis=1)",
            "outputs": [
                {
                    "output_type": "execute_result",
                    "metadata": {},
                    "data": {
                        "text/plain": "array([0.36908985, 0.36092538, 0.2765313 ])"
                    },
                    "execution_count": null
                }
            ]
        }
    ]
}