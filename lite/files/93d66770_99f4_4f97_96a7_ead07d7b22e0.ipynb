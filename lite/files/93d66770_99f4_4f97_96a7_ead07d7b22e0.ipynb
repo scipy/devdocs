{
    "nbformat": 4,
    "nbformat_minor": 5,
    "metadata": {
        "kernelspec": {
            "display_name": "Python",
            "language": "python",
            "name": "python"
        },
        "language_info": {
            "name": "python"
        }
    },
    "cells": [
        {
            "id": "681ff151",
            "cell_type": "markdown",
            "source": "<div class='alert alert-warning'>\n\nSciPy's interactive examples with Jupyterlite are experimental and may not always work as expected. Execution of cells containing imports may result in large downloads (up to 60MB of content for the first import from SciPy). Load times when importing from SciPy may take roughly 10-20 seconds. If you notice any problems, feel free to open an [issue](https://github.com/scipy/scipy/issues/new/choose).\n\n</div>",
            "metadata": {}
        },
        {
            "id": "13bc1769",
            "cell_type": "code",
            "metadata": {},
            "execution_count": null,
            "source": "import numpy as np\nfrom scipy.special import log_expit, expit",
            "outputs": []
        },
        {
            "id": "7d581628",
            "cell_type": "code",
            "metadata": {},
            "execution_count": null,
            "source": "log_expit([-3.0, 0.25, 2.5, 5.0])",
            "outputs": [
                {
                    "output_type": "execute_result",
                    "metadata": {},
                    "data": {
                        "text/plain": "array([-3.04858735, -0.57593942, -0.07888973, -0.00671535])"
                    },
                    "execution_count": null
                }
            ]
        },
        {
            "id": "fcc85154",
            "cell_type": "markdown",
            "source": "Large negative values:\n",
            "metadata": {}
        },
        {
            "id": "10affcab",
            "cell_type": "code",
            "metadata": {},
            "execution_count": null,
            "source": "log_expit([-100, -500, -1000])",
            "outputs": [
                {
                    "output_type": "execute_result",
                    "metadata": {},
                    "data": {
                        "text/plain": "array([ -100.,  -500., -1000.])"
                    },
                    "execution_count": null
                }
            ]
        },
        {
            "id": "d0ece115",
            "cell_type": "markdown",
            "source": "Note that ``expit(-1000)`` returns 0, so the naive implementation\n``log(expit(-1000))`` return ``-inf``.\n\nLarge positive values:\n",
            "metadata": {}
        },
        {
            "id": "7c00f388",
            "cell_type": "code",
            "metadata": {},
            "execution_count": null,
            "source": "log_expit([29, 120, 400])",
            "outputs": [
                {
                    "output_type": "execute_result",
                    "metadata": {},
                    "data": {
                        "text/plain": "array([-2.54366565e-013, -7.66764807e-053, -1.91516960e-174])"
                    },
                    "execution_count": null
                }
            ]
        },
        {
            "id": "be87ee62",
            "cell_type": "markdown",
            "source": "Compare that to the naive implementation:\n",
            "metadata": {}
        },
        {
            "id": "c511ef6c",
            "cell_type": "code",
            "metadata": {},
            "execution_count": null,
            "source": "np.log(expit([29, 120, 400]))",
            "outputs": [
                {
                    "output_type": "execute_result",
                    "metadata": {},
                    "data": {
                        "text/plain": "array([-2.54463117e-13,  0.00000000e+00,  0.00000000e+00])"
                    },
                    "execution_count": null
                }
            ]
        },
        {
            "id": "38dc9704",
            "cell_type": "markdown",
            "source": "The first value is accurate to only 3 digits, and the larger inputs\nlose all precision and return 0.",
            "metadata": {}
        }
    ]
}