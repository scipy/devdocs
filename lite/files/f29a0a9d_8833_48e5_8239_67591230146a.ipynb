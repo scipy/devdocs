{
    "nbformat": 4,
    "nbformat_minor": 5,
    "metadata": {
        "kernelspec": {
            "display_name": "Python",
            "language": "python",
            "name": "python"
        },
        "language_info": {
            "name": "python"
        }
    },
    "cells": [
        {
            "id": "8699de21",
            "cell_type": "markdown",
            "source": "<div class='alert alert-warning'>\n\nSciPy's interactive examples with Jupyterlite are experimental and may not always work as expected. Execution of cells containing imports may result in large downloads (up to 60MB of content for the first import from SciPy). Load times when importing from SciPy may take roughly 10-20 seconds. If you notice any problems, feel free to open an [issue](https://github.com/scipy/scipy/issues/new/choose).\n\n</div>",
            "metadata": {}
        },
        {
            "id": "f856583e",
            "cell_type": "code",
            "metadata": {},
            "execution_count": null,
            "source": "import numpy as np\nfrom scipy import stats\nrng = np.random.default_rng()\npts = 1000\na = rng.normal(0, 1, size=pts)\nb = rng.normal(2, 1, size=pts)\nx = np.concatenate((a, b))\nres = stats.normaltest(x)\nres.statistic",
            "outputs": [
                {
                    "output_type": "execute_result",
                    "metadata": {},
                    "data": {
                        "text/plain": "53.619...  # random"
                    },
                    "execution_count": null
                }
            ]
        },
        {
            "id": "db8bac1b",
            "cell_type": "code",
            "metadata": {},
            "execution_count": null,
            "source": "res.pvalue",
            "outputs": [
                {
                    "output_type": "execute_result",
                    "metadata": {},
                    "data": {
                        "text/plain": "2.273917413209226e-12  # random"
                    },
                    "execution_count": null
                }
            ]
        },
        {
            "id": "e7d4459f",
            "cell_type": "markdown",
            "source": "For a more detailed example, see :ref:`hypothesis_normaltest`.",
            "metadata": {}
        }
    ]
}