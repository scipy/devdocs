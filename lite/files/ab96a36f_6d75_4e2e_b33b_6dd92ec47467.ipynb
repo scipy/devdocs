{
    "nbformat": 4,
    "nbformat_minor": 5,
    "metadata": {
        "kernelspec": {
            "display_name": "Python",
            "language": "python",
            "name": "python"
        },
        "language_info": {
            "name": "python"
        }
    },
    "cells": [
        {
            "id": "3d8dcbb5",
            "cell_type": "markdown",
            "source": "<div class='alert alert-warning'>\n\nSciPy's interactive examples with Jupyterlite are experimental and may not always work as expected. Execution of cells containing imports may result in large downloads (up to 60MB of content for the first import from SciPy). Load times when importing from SciPy may take roughly 10-20 seconds. If you notice any problems, feel free to open an [issue](https://github.com/scipy/scipy/issues/new/choose).\n\n</div>",
            "metadata": {}
        },
        {
            "id": "eb3e6f12",
            "cell_type": "code",
            "metadata": {},
            "execution_count": null,
            "source": "import numpy as np\nimport matplotlib.pyplot as plt\nfrom scipy.spatial import ConvexHull, convex_hull_plot_2d",
            "outputs": []
        },
        {
            "id": "b06b60ca",
            "cell_type": "markdown",
            "source": "The convex hull of a random set of points:\n",
            "metadata": {}
        },
        {
            "id": "bb850df7",
            "cell_type": "code",
            "metadata": {},
            "execution_count": null,
            "source": "rng = np.random.default_rng()\npoints = rng.random((30, 2))\nhull = ConvexHull(points)",
            "outputs": []
        },
        {
            "id": "87ef1a10",
            "cell_type": "markdown",
            "source": "Plot it:\n",
            "metadata": {}
        },
        {
            "id": "159cd772",
            "cell_type": "code",
            "metadata": {},
            "execution_count": null,
            "source": "_ = convex_hull_plot_2d(hull)\nplt.show()",
            "outputs": []
        }
    ]
}