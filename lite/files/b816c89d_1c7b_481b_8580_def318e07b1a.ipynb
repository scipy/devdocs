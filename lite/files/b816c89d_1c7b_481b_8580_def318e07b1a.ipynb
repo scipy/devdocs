{
    "nbformat": 4,
    "nbformat_minor": 5,
    "metadata": {
        "kernelspec": {
            "display_name": "Python",
            "language": "python",
            "name": "python"
        },
        "language_info": {
            "name": "python"
        }
    },
    "cells": [
        {
            "id": "f7456083",
            "cell_type": "markdown",
            "source": "<div class='alert alert-warning'>\n\nSciPy's interactive examples with Jupyterlite are experimental and may not always work as expected. Execution of cells containing imports may result in large downloads (up to 60MB of content for the first import from SciPy). Load times when importing from SciPy may take roughly 10-20 seconds. If you notice any problems, feel free to open an [issue](https://github.com/scipy/scipy/issues/new/choose).\n\n</div>",
            "metadata": {}
        },
        {
            "id": "0d7360c0",
            "cell_type": "code",
            "metadata": {},
            "execution_count": null,
            "source": "import numpy as np\nfrom scipy.stats import mielke\nimport matplotlib.pyplot as plt\nfig, ax = plt.subplots(1, 1)",
            "outputs": []
        },
        {
            "id": "59864c48",
            "cell_type": "markdown",
            "source": "Calculate the first four moments:\n",
            "metadata": {}
        },
        {
            "id": "98ec00a9",
            "cell_type": "code",
            "metadata": {},
            "execution_count": null,
            "source": "k, s = 10.4, 4.6\nmean, var, skew, kurt = mielke.stats(k, s, moments='mvsk')",
            "outputs": []
        },
        {
            "id": "5b9dbc16",
            "cell_type": "markdown",
            "source": "Display the probability density function (``pdf``):\n",
            "metadata": {}
        },
        {
            "id": "fb190447",
            "cell_type": "code",
            "metadata": {},
            "execution_count": null,
            "source": "x = np.linspace(mielke.ppf(0.01, k, s),\n                mielke.ppf(0.99, k, s), 100)\nax.plot(x, mielke.pdf(x, k, s),\n       'r-', lw=5, alpha=0.6, label='mielke pdf')",
            "outputs": []
        },
        {
            "id": "efb7f0d1",
            "cell_type": "markdown",
            "source": "Alternatively, the distribution object can be called (as a function)\nto fix the shape, location and scale parameters. This returns a \"frozen\"\nRV object holding the given parameters fixed.\n\nFreeze the distribution and display the frozen ``pdf``:\n",
            "metadata": {}
        },
        {
            "id": "472cc785",
            "cell_type": "code",
            "metadata": {},
            "execution_count": null,
            "source": "rv = mielke(k, s)\nax.plot(x, rv.pdf(x), 'k-', lw=2, label='frozen pdf')",
            "outputs": []
        },
        {
            "id": "77e33192",
            "cell_type": "markdown",
            "source": "Check accuracy of ``cdf`` and ``ppf``:\n",
            "metadata": {}
        },
        {
            "id": "8d50faad",
            "cell_type": "code",
            "metadata": {},
            "execution_count": null,
            "source": "vals = mielke.ppf([0.001, 0.5, 0.999], k, s)\nnp.allclose([0.001, 0.5, 0.999], mielke.cdf(vals, k, s))",
            "outputs": [
                {
                    "output_type": "execute_result",
                    "metadata": {},
                    "data": {
                        "text/plain": "True"
                    },
                    "execution_count": null
                }
            ]
        },
        {
            "id": "995c4ac2",
            "cell_type": "markdown",
            "source": "Generate random numbers:\n",
            "metadata": {}
        },
        {
            "id": "776c2c03",
            "cell_type": "code",
            "metadata": {},
            "execution_count": null,
            "source": "r = mielke.rvs(k, s, size=1000)",
            "outputs": []
        },
        {
            "id": "86837468",
            "cell_type": "markdown",
            "source": "And compare the histogram:\n",
            "metadata": {}
        },
        {
            "id": "83591f81",
            "cell_type": "code",
            "metadata": {},
            "execution_count": null,
            "source": "ax.hist(r, density=True, bins='auto', histtype='stepfilled', alpha=0.2)\nax.set_xlim([x[0], x[-1]])\nax.legend(loc='best', frameon=False)\nplt.show()",
            "outputs": []
        }
    ]
}