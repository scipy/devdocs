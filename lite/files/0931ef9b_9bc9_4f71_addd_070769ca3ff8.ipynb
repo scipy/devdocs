{
    "nbformat": 4,
    "nbformat_minor": 5,
    "metadata": {
        "kernelspec": {
            "display_name": "Python",
            "language": "python",
            "name": "python"
        },
        "language_info": {
            "name": "python"
        }
    },
    "cells": [
        {
            "id": "1a3d72f5",
            "cell_type": "markdown",
            "source": "<div class='alert alert-warning'>\n\nSciPy's interactive examples with Jupyterlite are experimental and may not always work as expected. Execution of cells containing imports may result in large downloads (up to 60MB of content for the first import from SciPy). Load times when importing from SciPy may take roughly 10-20 seconds. If you notice any problems, feel free to open an [issue](https://github.com/scipy/scipy/issues/new/choose).\n\n</div>",
            "metadata": {}
        },
        {
            "id": "66c636cd",
            "cell_type": "code",
            "metadata": {},
            "execution_count": null,
            "source": "import numpy as np\nfrom scipy.stats import bradford\nimport matplotlib.pyplot as plt\nfig, ax = plt.subplots(1, 1)",
            "outputs": []
        },
        {
            "id": "5ff42675",
            "cell_type": "markdown",
            "source": "Calculate the first four moments:\n",
            "metadata": {}
        },
        {
            "id": "9a57cbc1",
            "cell_type": "code",
            "metadata": {},
            "execution_count": null,
            "source": "c = 0.299\nmean, var, skew, kurt = bradford.stats(c, moments='mvsk')",
            "outputs": []
        },
        {
            "id": "e524e937",
            "cell_type": "markdown",
            "source": "Display the probability density function (``pdf``):\n",
            "metadata": {}
        },
        {
            "id": "8ecd2207",
            "cell_type": "code",
            "metadata": {},
            "execution_count": null,
            "source": "x = np.linspace(bradford.ppf(0.01, c),\n                bradford.ppf(0.99, c), 100)\nax.plot(x, bradford.pdf(x, c),\n       'r-', lw=5, alpha=0.6, label='bradford pdf')",
            "outputs": []
        },
        {
            "id": "048155b8",
            "cell_type": "markdown",
            "source": "Alternatively, the distribution object can be called (as a function)\nto fix the shape, location and scale parameters. This returns a \"frozen\"\nRV object holding the given parameters fixed.\n\nFreeze the distribution and display the frozen ``pdf``:\n",
            "metadata": {}
        },
        {
            "id": "eb4e079f",
            "cell_type": "code",
            "metadata": {},
            "execution_count": null,
            "source": "rv = bradford(c)\nax.plot(x, rv.pdf(x), 'k-', lw=2, label='frozen pdf')",
            "outputs": []
        },
        {
            "id": "5b773af4",
            "cell_type": "markdown",
            "source": "Check accuracy of ``cdf`` and ``ppf``:\n",
            "metadata": {}
        },
        {
            "id": "9d46e735",
            "cell_type": "code",
            "metadata": {},
            "execution_count": null,
            "source": "vals = bradford.ppf([0.001, 0.5, 0.999], c)\nnp.allclose([0.001, 0.5, 0.999], bradford.cdf(vals, c))",
            "outputs": [
                {
                    "output_type": "execute_result",
                    "metadata": {},
                    "data": {
                        "text/plain": "True"
                    },
                    "execution_count": null
                }
            ]
        },
        {
            "id": "e0f3a4a2",
            "cell_type": "markdown",
            "source": "Generate random numbers:\n",
            "metadata": {}
        },
        {
            "id": "02bdafeb",
            "cell_type": "code",
            "metadata": {},
            "execution_count": null,
            "source": "r = bradford.rvs(c, size=1000)",
            "outputs": []
        },
        {
            "id": "58050f21",
            "cell_type": "markdown",
            "source": "And compare the histogram:\n",
            "metadata": {}
        },
        {
            "id": "d2e573f0",
            "cell_type": "code",
            "metadata": {},
            "execution_count": null,
            "source": "ax.hist(r, density=True, bins='auto', histtype='stepfilled', alpha=0.2)\nax.set_xlim([x[0], x[-1]])\nax.legend(loc='best', frameon=False)\nplt.show()",
            "outputs": []
        }
    ]
}