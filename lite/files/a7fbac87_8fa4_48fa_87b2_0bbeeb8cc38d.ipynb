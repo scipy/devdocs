{
    "nbformat": 4,
    "nbformat_minor": 5,
    "metadata": {
        "kernelspec": {
            "display_name": "Python",
            "language": "python",
            "name": "python"
        },
        "language_info": {
            "name": "python"
        }
    },
    "cells": [
        {
            "id": "1e9f73cc",
            "cell_type": "markdown",
            "source": "<div class='alert alert-warning'>\n\nSciPy's interactive examples with Jupyterlite are experimental and may not always work as expected. Execution of cells containing imports may result in large downloads (up to 60MB of content for the first import from SciPy). Load times when importing from SciPy may take roughly 10-20 seconds. If you notice any problems, feel free to open an [issue](https://github.com/scipy/scipy/issues/new/choose).\n\n</div>",
            "metadata": {}
        },
        {
            "id": "6d4a6a87",
            "cell_type": "code",
            "metadata": {},
            "execution_count": null,
            "source": "from scipy.cluster.hierarchy import inconsistent, linkage\nfrom matplotlib import pyplot as plt\nX = [[i] for i in [2, 8, 0, 4, 1, 9, 9, 0]]\nZ = linkage(X, 'ward')\nprint(Z)",
            "outputs": [
                {
                    "output_type": "execute_result",
                    "metadata": {},
                    "data": {
                        "text/plain": "[[ 5.          6.          0.          2.        ]\n [ 2.          7.          0.          2.        ]\n [ 0.          4.          1.          2.        ]\n [ 1.          8.          1.15470054  3.        ]\n [ 9.         10.          2.12132034  4.        ]\n [ 3.         12.          4.11096096  5.        ]\n [11.         13.         14.07183949  8.        ]]"
                    },
                    "execution_count": null
                }
            ]
        },
        {
            "id": "c02ecc86",
            "cell_type": "code",
            "metadata": {},
            "execution_count": null,
            "source": "inconsistent(Z)",
            "outputs": [
                {
                    "output_type": "execute_result",
                    "metadata": {},
                    "data": {
                        "text/plain": "array([[ 0.        ,  0.        ,  1.        ,  0.        ],\n       [ 0.        ,  0.        ,  1.        ,  0.        ],\n       [ 1.        ,  0.        ,  1.        ,  0.        ],\n       [ 0.57735027,  0.81649658,  2.        ,  0.70710678],\n       [ 1.04044011,  1.06123822,  3.        ,  1.01850858],\n       [ 3.11614065,  1.40688837,  2.        ,  0.70710678],\n       [ 6.44583366,  6.76770586,  3.        ,  1.12682288]])"
                    },
                    "execution_count": null
                }
            ]
        }
    ]
}