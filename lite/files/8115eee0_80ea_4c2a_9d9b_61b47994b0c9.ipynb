{
    "nbformat": 4,
    "nbformat_minor": 5,
    "metadata": {
        "kernelspec": {
            "display_name": "Python",
            "language": "python",
            "name": "python"
        },
        "language_info": {
            "name": "python"
        }
    },
    "cells": [
        {
            "id": "114d76e8",
            "cell_type": "markdown",
            "source": "<div class='alert alert-warning'>\n\nSciPy's interactive examples with Jupyterlite are experimental and may not always work as expected. Execution of cells containing imports may result in large downloads (up to 60MB of content for the first import from SciPy). Load times when importing from SciPy may take roughly 10-20 seconds. If you notice any problems, feel free to open an [issue](https://github.com/scipy/scipy/issues/new/choose).\n\n</div>",
            "metadata": {}
        },
        {
            "id": "b497e702",
            "cell_type": "code",
            "metadata": {},
            "execution_count": null,
            "source": "import numpy as np\nfrom scipy.stats import halfgennorm\nimport matplotlib.pyplot as plt\nfig, ax = plt.subplots(1, 1)",
            "outputs": []
        },
        {
            "id": "8daabce0",
            "cell_type": "markdown",
            "source": "Calculate the first four moments:\n",
            "metadata": {}
        },
        {
            "id": "06a1c87e",
            "cell_type": "code",
            "metadata": {},
            "execution_count": null,
            "source": "beta = 0.675\nmean, var, skew, kurt = halfgennorm.stats(beta, moments='mvsk')",
            "outputs": []
        },
        {
            "id": "2dba2532",
            "cell_type": "markdown",
            "source": "Display the probability density function (``pdf``):\n",
            "metadata": {}
        },
        {
            "id": "9ee36a1a",
            "cell_type": "code",
            "metadata": {},
            "execution_count": null,
            "source": "x = np.linspace(halfgennorm.ppf(0.01, beta),\n                halfgennorm.ppf(0.99, beta), 100)\nax.plot(x, halfgennorm.pdf(x, beta),\n       'r-', lw=5, alpha=0.6, label='halfgennorm pdf')",
            "outputs": []
        },
        {
            "id": "6f1c707e",
            "cell_type": "markdown",
            "source": "Alternatively, the distribution object can be called (as a function)\nto fix the shape, location and scale parameters. This returns a \"frozen\"\nRV object holding the given parameters fixed.\n\nFreeze the distribution and display the frozen ``pdf``:\n",
            "metadata": {}
        },
        {
            "id": "562f4e3d",
            "cell_type": "code",
            "metadata": {},
            "execution_count": null,
            "source": "rv = halfgennorm(beta)\nax.plot(x, rv.pdf(x), 'k-', lw=2, label='frozen pdf')",
            "outputs": []
        },
        {
            "id": "dd2a417c",
            "cell_type": "markdown",
            "source": "Check accuracy of ``cdf`` and ``ppf``:\n",
            "metadata": {}
        },
        {
            "id": "9390db5d",
            "cell_type": "code",
            "metadata": {},
            "execution_count": null,
            "source": "vals = halfgennorm.ppf([0.001, 0.5, 0.999], beta)\nnp.allclose([0.001, 0.5, 0.999], halfgennorm.cdf(vals, beta))",
            "outputs": [
                {
                    "output_type": "execute_result",
                    "metadata": {},
                    "data": {
                        "text/plain": "True"
                    },
                    "execution_count": null
                }
            ]
        },
        {
            "id": "4c2cfda8",
            "cell_type": "markdown",
            "source": "Generate random numbers:\n",
            "metadata": {}
        },
        {
            "id": "52deb114",
            "cell_type": "code",
            "metadata": {},
            "execution_count": null,
            "source": "r = halfgennorm.rvs(beta, size=1000)",
            "outputs": []
        },
        {
            "id": "6a17da88",
            "cell_type": "markdown",
            "source": "And compare the histogram:\n",
            "metadata": {}
        },
        {
            "id": "41e06ae0",
            "cell_type": "code",
            "metadata": {},
            "execution_count": null,
            "source": "ax.hist(r, density=True, bins='auto', histtype='stepfilled', alpha=0.2)\nax.set_xlim([x[0], x[-1]])\nax.legend(loc='best', frameon=False)\nplt.show()",
            "outputs": []
        }
    ]
}