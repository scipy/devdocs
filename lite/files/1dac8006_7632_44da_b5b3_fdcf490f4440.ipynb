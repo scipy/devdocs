{
    "nbformat": 4,
    "nbformat_minor": 5,
    "metadata": {
        "kernelspec": {
            "display_name": "Python",
            "language": "python",
            "name": "python"
        },
        "language_info": {
            "name": "python"
        }
    },
    "cells": [
        {
            "id": "149f3077",
            "cell_type": "markdown",
            "source": "<div class='alert alert-warning'>\n\nSciPy's interactive examples with Jupyterlite are experimental and may not always work as expected. Execution of cells containing imports may result in large downloads (up to 60MB of content for the first import from SciPy). Load times when importing from SciPy may take roughly 10-20 seconds. If you notice any problems, feel free to open an [issue](https://github.com/scipy/scipy/issues/new/choose).\n\n</div>",
            "metadata": {}
        },
        {
            "id": "1d20eb91",
            "cell_type": "code",
            "metadata": {},
            "execution_count": null,
            "source": "from scipy.cluster.hierarchy import dendrogram, linkage\nfrom matplotlib import pyplot as plt\nX = [[i] for i in [2, 8, 0, 4, 1, 9, 9, 0]]",
            "outputs": []
        },
        {
            "id": "ae91b601",
            "cell_type": "code",
            "metadata": {},
            "execution_count": null,
            "source": "Z = linkage(X, 'ward')\nfig = plt.figure(figsize=(25, 10))\ndn = dendrogram(Z)",
            "outputs": []
        },
        {
            "id": "a2086cca",
            "cell_type": "code",
            "metadata": {},
            "execution_count": null,
            "source": "Z = linkage(X, 'single')\nfig = plt.figure(figsize=(25, 10))\ndn = dendrogram(Z)\nplt.show()",
            "outputs": []
        }
    ]
}