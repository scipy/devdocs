{
    "nbformat": 4,
    "nbformat_minor": 5,
    "metadata": {
        "kernelspec": {
            "display_name": "Python",
            "language": "python",
            "name": "python"
        },
        "language_info": {
            "name": "python"
        }
    },
    "cells": [
        {
            "id": "88f41704",
            "cell_type": "markdown",
            "source": "<div class='alert alert-warning'>\n\nSciPy's interactive examples with Jupyterlite are experimental and may not always work as expected. Execution of cells containing imports may result in large downloads (up to 60MB of content for the first import from SciPy). Load times when importing from SciPy may take roughly 10-20 seconds. If you notice any problems, feel free to open an [issue](https://github.com/scipy/scipy/issues/new/choose).\n\n</div>",
            "metadata": {}
        },
        {
            "id": "ffb2e0d3",
            "cell_type": "markdown",
            "source": "The modified spherical Bessel functions of the second kind $k_n$\naccept both real and complex second argument.\nThey can return a complex type:\n",
            "metadata": {}
        },
        {
            "id": "fea312ec",
            "cell_type": "code",
            "metadata": {},
            "execution_count": null,
            "source": "from scipy.special import spherical_kn\nspherical_kn(0, 3+5j)",
            "outputs": [
                {
                    "output_type": "execute_result",
                    "metadata": {},
                    "data": {
                        "text/plain": "(0.012985785614001561+0.003354691603137546j)"
                    },
                    "execution_count": null
                }
            ]
        },
        {
            "id": "90d603ce",
            "cell_type": "code",
            "metadata": {},
            "execution_count": null,
            "source": "type(spherical_kn(0, 3+5j))",
            "outputs": [
                {
                    "output_type": "execute_result",
                    "metadata": {},
                    "data": {
                        "text/plain": "<class 'numpy.complex128'>"
                    },
                    "execution_count": null
                }
            ]
        },
        {
            "id": "ff6bb43b",
            "cell_type": "markdown",
            "source": "We can verify the relation for the derivative from the Notes\nfor $n=3$ in the interval $[1, 2]$:\n",
            "metadata": {}
        },
        {
            "id": "dd08d1ef",
            "cell_type": "code",
            "metadata": {},
            "execution_count": null,
            "source": "import numpy as np\nx = np.arange(1.0, 2.0, 0.01)\nnp.allclose(spherical_kn(3, x, True),\n            - 4/x * spherical_kn(3, x) - spherical_kn(2, x))",
            "outputs": [
                {
                    "output_type": "execute_result",
                    "metadata": {},
                    "data": {
                        "text/plain": "True"
                    },
                    "execution_count": null
                }
            ]
        },
        {
            "id": "302860dd",
            "cell_type": "markdown",
            "source": "The first few $k_n$ with real argument:\n",
            "metadata": {}
        },
        {
            "id": "5ece7ac2",
            "cell_type": "code",
            "metadata": {},
            "execution_count": null,
            "source": "import matplotlib.pyplot as plt\nx = np.arange(0.0, 4.0, 0.01)\nfig, ax = plt.subplots()\nax.set_ylim(0.0, 5.0)\nax.set_title(r'Modified spherical Bessel functions $k_n$')\nfor n in np.arange(0, 4):\n    ax.plot(x, spherical_kn(n, x), label=rf'$k_{n}$')\nplt.legend(loc='best')\nplt.show()",
            "outputs": []
        }
    ]
}