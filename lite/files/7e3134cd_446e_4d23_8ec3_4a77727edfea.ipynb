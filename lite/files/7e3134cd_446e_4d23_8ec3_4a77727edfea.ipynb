{
    "nbformat": 4,
    "nbformat_minor": 5,
    "metadata": {
        "kernelspec": {
            "display_name": "Python",
            "language": "python",
            "name": "python"
        },
        "language_info": {
            "name": "python"
        }
    },
    "cells": [
        {
            "id": "c977350d",
            "cell_type": "markdown",
            "source": "<div class='alert alert-warning'>\n\nSciPy's interactive examples with Jupyterlite are experimental and may not always work as expected. Execution of cells containing imports may result in large downloads (up to 60MB of content for the first import from SciPy). Load times when importing from SciPy may take roughly 10-20 seconds. If you notice any problems, feel free to open an [issue](https://github.com/scipy/scipy/issues/new/choose).\n\n</div>",
            "metadata": {}
        },
        {
            "id": "39f30f5e",
            "cell_type": "code",
            "metadata": {},
            "execution_count": null,
            "source": "import numpy as np\nfrom scipy.cluster.hierarchy import ward, from_mlab_linkage",
            "outputs": []
        },
        {
            "id": "8ff1d5bf",
            "cell_type": "markdown",
            "source": "Given a linkage matrix in MATLAB format ``mZ``, we can use\n`scipy.cluster.hierarchy.from_mlab_linkage` to import\nit into SciPy format:\n",
            "metadata": {}
        },
        {
            "id": "c390b00e",
            "cell_type": "code",
            "metadata": {},
            "execution_count": null,
            "source": "mZ = np.array([[1, 2, 1], [4, 5, 1], [7, 8, 1],\n               [10, 11, 1], [3, 13, 1.29099445],\n               [6, 14, 1.29099445],\n               [9, 15, 1.29099445],\n               [12, 16, 1.29099445],\n               [17, 18, 5.77350269],\n               [19, 20, 5.77350269],\n               [21, 22,  8.16496581]])",
            "outputs": []
        },
        {
            "id": "4ec69d61",
            "cell_type": "code",
            "metadata": {},
            "execution_count": null,
            "source": "Z = from_mlab_linkage(mZ)\nZ",
            "outputs": [
                {
                    "output_type": "execute_result",
                    "metadata": {},
                    "data": {
                        "text/plain": "array([[  0.        ,   1.        ,   1.        ,   2.        ],\n       [  3.        ,   4.        ,   1.        ,   2.        ],\n       [  6.        ,   7.        ,   1.        ,   2.        ],\n       [  9.        ,  10.        ,   1.        ,   2.        ],\n       [  2.        ,  12.        ,   1.29099445,   3.        ],\n       [  5.        ,  13.        ,   1.29099445,   3.        ],\n       [  8.        ,  14.        ,   1.29099445,   3.        ],\n       [ 11.        ,  15.        ,   1.29099445,   3.        ],\n       [ 16.        ,  17.        ,   5.77350269,   6.        ],\n       [ 18.        ,  19.        ,   5.77350269,   6.        ],\n       [ 20.        ,  21.        ,   8.16496581,  12.        ]])"
                    },
                    "execution_count": null
                }
            ]
        },
        {
            "id": "49e3afcd",
            "cell_type": "markdown",
            "source": "As expected, the linkage matrix ``Z`` returned includes an\nadditional column counting the number of original samples in\neach cluster. Also, all cluster indices are reduced by 1\n(MATLAB format uses 1-indexing, whereas SciPy uses 0-indexing).",
            "metadata": {}
        }
    ]
}