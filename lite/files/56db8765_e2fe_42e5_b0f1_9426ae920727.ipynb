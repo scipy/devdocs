{
    "nbformat": 4,
    "nbformat_minor": 5,
    "metadata": {
        "kernelspec": {
            "display_name": "Python",
            "language": "python",
            "name": "python"
        },
        "language_info": {
            "name": "python"
        }
    },
    "cells": [
        {
            "id": "3a4f4e68",
            "cell_type": "markdown",
            "source": "<div class='alert alert-warning'>\n\nSciPy's interactive examples with Jupyterlite are experimental and may not always work as expected. Execution of cells containing imports may result in large downloads (up to 60MB of content for the first import from SciPy). Load times when importing from SciPy may take roughly 10-20 seconds. If you notice any problems, feel free to open an [issue](https://github.com/scipy/scipy/issues/new/choose).\n\n</div>",
            "metadata": {}
        },
        {
            "id": "aa04069e",
            "cell_type": "code",
            "metadata": {},
            "execution_count": null,
            "source": "import numpy as np\nfrom scipy.stats import gengamma\nimport matplotlib.pyplot as plt\nfig, ax = plt.subplots(1, 1)",
            "outputs": []
        },
        {
            "id": "af10be44",
            "cell_type": "markdown",
            "source": "Calculate the first four moments:\n",
            "metadata": {}
        },
        {
            "id": "55f8ec02",
            "cell_type": "code",
            "metadata": {},
            "execution_count": null,
            "source": "a, c = 4.42, -3.12\nmean, var, skew, kurt = gengamma.stats(a, c, moments='mvsk')",
            "outputs": []
        },
        {
            "id": "830fdbef",
            "cell_type": "markdown",
            "source": "Display the probability density function (``pdf``):\n",
            "metadata": {}
        },
        {
            "id": "9dc8367a",
            "cell_type": "code",
            "metadata": {},
            "execution_count": null,
            "source": "x = np.linspace(gengamma.ppf(0.01, a, c),\n                gengamma.ppf(0.99, a, c), 100)\nax.plot(x, gengamma.pdf(x, a, c),\n       'r-', lw=5, alpha=0.6, label='gengamma pdf')",
            "outputs": []
        },
        {
            "id": "4419e19d",
            "cell_type": "markdown",
            "source": "Alternatively, the distribution object can be called (as a function)\nto fix the shape, location and scale parameters. This returns a \"frozen\"\nRV object holding the given parameters fixed.\n\nFreeze the distribution and display the frozen ``pdf``:\n",
            "metadata": {}
        },
        {
            "id": "8c860c25",
            "cell_type": "code",
            "metadata": {},
            "execution_count": null,
            "source": "rv = gengamma(a, c)\nax.plot(x, rv.pdf(x), 'k-', lw=2, label='frozen pdf')",
            "outputs": []
        },
        {
            "id": "63d29eaa",
            "cell_type": "markdown",
            "source": "Check accuracy of ``cdf`` and ``ppf``:\n",
            "metadata": {}
        },
        {
            "id": "b33e279e",
            "cell_type": "code",
            "metadata": {},
            "execution_count": null,
            "source": "vals = gengamma.ppf([0.001, 0.5, 0.999], a, c)\nnp.allclose([0.001, 0.5, 0.999], gengamma.cdf(vals, a, c))",
            "outputs": [
                {
                    "output_type": "execute_result",
                    "metadata": {},
                    "data": {
                        "text/plain": "True"
                    },
                    "execution_count": null
                }
            ]
        },
        {
            "id": "2868ffcf",
            "cell_type": "markdown",
            "source": "Generate random numbers:\n",
            "metadata": {}
        },
        {
            "id": "524ff60d",
            "cell_type": "code",
            "metadata": {},
            "execution_count": null,
            "source": "r = gengamma.rvs(a, c, size=1000)",
            "outputs": []
        },
        {
            "id": "073346ae",
            "cell_type": "markdown",
            "source": "And compare the histogram:\n",
            "metadata": {}
        },
        {
            "id": "aacda92b",
            "cell_type": "code",
            "metadata": {},
            "execution_count": null,
            "source": "ax.hist(r, density=True, bins='auto', histtype='stepfilled', alpha=0.2)\nax.set_xlim([x[0], x[-1]])\nax.legend(loc='best', frameon=False)\nplt.show()",
            "outputs": []
        }
    ]
}