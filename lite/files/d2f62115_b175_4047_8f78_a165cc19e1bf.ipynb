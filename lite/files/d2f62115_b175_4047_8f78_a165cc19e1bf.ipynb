{
    "nbformat": 4,
    "nbformat_minor": 5,
    "metadata": {
        "kernelspec": {
            "display_name": "Python",
            "language": "python",
            "name": "python"
        },
        "language_info": {
            "name": "python"
        }
    },
    "cells": [
        {
            "id": "fc0157af",
            "cell_type": "markdown",
            "source": "<div class='alert alert-warning'>\n\nSciPy's interactive examples with Jupyterlite are experimental and may not always work as expected. Execution of cells containing imports may result in large downloads (up to 60MB of content for the first import from SciPy). Load times when importing from SciPy may take roughly 10-20 seconds. If you notice any problems, feel free to open an [issue](https://github.com/scipy/scipy/issues/new/choose).\n\n</div>",
            "metadata": {}
        },
        {
            "id": "956cc22a",
            "cell_type": "code",
            "metadata": {},
            "execution_count": null,
            "source": "from scipy.sparse import coo_array, bmat\nA = coo_array([[1, 2], [3, 4]])\nB = coo_array([[5], [6]])\nC = coo_array([[7]])\nbmat([[A, B], [None, C]]).toarray()",
            "outputs": [
                {
                    "output_type": "execute_result",
                    "metadata": {},
                    "data": {
                        "text/plain": "array([[1, 2, 5],\n       [3, 4, 6],\n       [0, 0, 7]])"
                    },
                    "execution_count": null
                }
            ]
        },
        {
            "id": "3044c54f",
            "cell_type": "code",
            "metadata": {},
            "execution_count": null,
            "source": "bmat([[A, None], [None, C]]).toarray()",
            "outputs": [
                {
                    "output_type": "execute_result",
                    "metadata": {},
                    "data": {
                        "text/plain": "array([[1, 2, 0],\n       [3, 4, 0],\n       [0, 0, 7]])"
                    },
                    "execution_count": null
                }
            ]
        }
    ]
}