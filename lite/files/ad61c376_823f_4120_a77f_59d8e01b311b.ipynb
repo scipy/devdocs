{
    "nbformat": 4,
    "nbformat_minor": 5,
    "metadata": {
        "kernelspec": {
            "display_name": "Python",
            "language": "python",
            "name": "python"
        },
        "language_info": {
            "name": "python"
        }
    },
    "cells": [
        {
            "id": "31ba64ec",
            "cell_type": "markdown",
            "source": "<div class='alert alert-warning'>\n\nSciPy's interactive examples with Jupyterlite are experimental and may not always work as expected. Execution of cells containing imports may result in large downloads (up to 60MB of content for the first import from SciPy). Load times when importing from SciPy may take roughly 10-20 seconds. If you notice any problems, feel free to open an [issue](https://github.com/scipy/scipy/issues/new/choose).\n\n</div>",
            "metadata": {}
        },
        {
            "id": "f0188042",
            "cell_type": "markdown",
            "source": "Given `a`, `b`, and `q` solve for `x`:\n",
            "metadata": {}
        },
        {
            "id": "620d9430",
            "cell_type": "code",
            "metadata": {},
            "execution_count": null,
            "source": "import numpy as np\nfrom scipy import linalg\na = np.array([[-3, -2, 0], [-1, -1, 3], [3, -5, -1]])\nb = np.array([[1]])\nq = np.array([[1],[2],[3]])\nx = linalg.solve_sylvester(a, b, q)\nx",
            "outputs": [
                {
                    "output_type": "execute_result",
                    "metadata": {},
                    "data": {
                        "text/plain": "array([[ 0.0625],\n       [-0.5625],\n       [ 0.6875]])"
                    },
                    "execution_count": null
                }
            ]
        },
        {
            "id": "f7458e37",
            "cell_type": "code",
            "metadata": {},
            "execution_count": null,
            "source": "np.allclose(a.dot(x) + x.dot(b), q)",
            "outputs": [
                {
                    "output_type": "execute_result",
                    "metadata": {},
                    "data": {
                        "text/plain": "True"
                    },
                    "execution_count": null
                }
            ]
        }
    ]
}