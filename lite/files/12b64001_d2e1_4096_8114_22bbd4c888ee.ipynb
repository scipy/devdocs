{
    "nbformat": 4,
    "nbformat_minor": 5,
    "metadata": {
        "kernelspec": {
            "display_name": "Python",
            "language": "python",
            "name": "python"
        },
        "language_info": {
            "name": "python"
        }
    },
    "cells": [
        {
            "id": "e8f23f3f",
            "cell_type": "markdown",
            "source": "<div class='alert alert-warning'>\n\nSciPy's interactive examples with Jupyterlite are experimental and may not always work as expected. Execution of cells containing imports may result in large downloads (up to 60MB of content for the first import from SciPy). Load times when importing from SciPy may take roughly 10-20 seconds. If you notice any problems, feel free to open an [issue](https://github.com/scipy/scipy/issues/new/choose).\n\n</div>",
            "metadata": {}
        },
        {
            "id": "81fd8498",
            "cell_type": "code",
            "metadata": {},
            "execution_count": null,
            "source": "from scipy import special\nspecial.erf_zeros(1)",
            "outputs": [
                {
                    "output_type": "execute_result",
                    "metadata": {},
                    "data": {
                        "text/plain": "array([1.45061616+1.880943j])"
                    },
                    "execution_count": null
                }
            ]
        },
        {
            "id": "3a125ebc",
            "cell_type": "markdown",
            "source": "Check that erf is (close to) zero for the value returned by erf_zeros\n",
            "metadata": {}
        },
        {
            "id": "ba36eb95",
            "cell_type": "code",
            "metadata": {},
            "execution_count": null,
            "source": "special.erf(special.erf_zeros(1))",
            "outputs": [
                {
                    "output_type": "execute_result",
                    "metadata": {},
                    "data": {
                        "text/plain": "array([4.95159469e-14-1.16407394e-16j])"
                    },
                    "execution_count": null
                }
            ]
        }
    ]
}