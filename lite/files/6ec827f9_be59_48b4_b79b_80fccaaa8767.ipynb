{
    "nbformat": 4,
    "nbformat_minor": 5,
    "metadata": {
        "kernelspec": {
            "display_name": "Python",
            "language": "python",
            "name": "python"
        },
        "language_info": {
            "name": "python"
        }
    },
    "cells": [
        {
            "id": "20fbccfc",
            "cell_type": "markdown",
            "source": "<div class='alert alert-warning'>\n\nSciPy's interactive examples with Jupyterlite are experimental and may not always work as expected. Execution of cells containing imports may result in large downloads (up to 60MB of content for the first import from SciPy). Load times when importing from SciPy may take roughly 10-20 seconds. If you notice any problems, feel free to open an [issue](https://github.com/scipy/scipy/issues/new/choose).\n\n</div>",
            "metadata": {}
        },
        {
            "id": "0c85428f",
            "cell_type": "code",
            "metadata": {},
            "execution_count": null,
            "source": "from scipy import signal\nimport matplotlib.pyplot as plt",
            "outputs": []
        },
        {
            "id": "beffc645",
            "cell_type": "code",
            "metadata": {},
            "execution_count": null,
            "source": "lp = signal.lti([1.0], [1.0, 1.0])\nhp = signal.lti(*signal.lp2hp(lp.num, lp.den))\nw, mag_lp, p_lp = lp.bode()\nw, mag_hp, p_hp = hp.bode(w)",
            "outputs": []
        },
        {
            "id": "cf6a1cdf",
            "cell_type": "code",
            "metadata": {},
            "execution_count": null,
            "source": "plt.plot(w, mag_lp, label='Lowpass')\nplt.plot(w, mag_hp, label='Highpass')\nplt.semilogx()\nplt.grid(True)\nplt.xlabel('Frequency [rad/s]')\nplt.ylabel('Amplitude [dB]')\nplt.legend()",
            "outputs": []
        }
    ]
}