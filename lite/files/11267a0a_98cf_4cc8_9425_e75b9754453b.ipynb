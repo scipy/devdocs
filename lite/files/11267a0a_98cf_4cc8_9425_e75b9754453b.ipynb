{
    "nbformat": 4,
    "nbformat_minor": 5,
    "metadata": {
        "kernelspec": {
            "display_name": "Python",
            "language": "python",
            "name": "python"
        },
        "language_info": {
            "name": "python"
        }
    },
    "cells": [
        {
            "id": "4f3bd876",
            "cell_type": "markdown",
            "source": "<div class='alert alert-warning'>\n\nSciPy's interactive examples with Jupyterlite are experimental and may not always work as expected. Execution of cells containing imports may result in large downloads (up to 60MB of content for the first import from SciPy). Load times when importing from SciPy may take roughly 10-20 seconds. If you notice any problems, feel free to open an [issue](https://github.com/scipy/scipy/issues/new/choose).\n\n</div>",
            "metadata": {}
        },
        {
            "id": "8a24f1d5",
            "cell_type": "code",
            "metadata": {},
            "execution_count": null,
            "source": "import numpy as np\nfrom scipy.special import log_ndtr, ndtr",
            "outputs": []
        },
        {
            "id": "0956b0d0",
            "cell_type": "markdown",
            "source": "The benefit of ``log_ndtr(x)`` over the naive implementation\n``np.log(ndtr(x))`` is most evident with moderate to large positive\nvalues of ``x``:\n",
            "metadata": {}
        },
        {
            "id": "7af01603",
            "cell_type": "code",
            "metadata": {},
            "execution_count": null,
            "source": "x = np.array([6, 7, 9, 12, 15, 25])\nlog_ndtr(x)",
            "outputs": [
                {
                    "output_type": "execute_result",
                    "metadata": {},
                    "data": {
                        "text/plain": "array([-9.86587646e-010, -1.27981254e-012, -1.12858841e-019,\n       -1.77648211e-033, -3.67096620e-051, -3.05669671e-138])"
                    },
                    "execution_count": null
                }
            ]
        },
        {
            "id": "5d00c0b5",
            "cell_type": "markdown",
            "source": "The results of the naive calculation for the moderate ``x`` values\nhave only 5 or 6 correct significant digits. For values of ``x``\ngreater than approximately 8.3, the naive expression returns 0:\n",
            "metadata": {}
        },
        {
            "id": "b660261d",
            "cell_type": "code",
            "metadata": {},
            "execution_count": null,
            "source": "np.log(ndtr(x))",
            "outputs": [
                {
                    "output_type": "execute_result",
                    "metadata": {},
                    "data": {
                        "text/plain": "array([-9.86587701e-10, -1.27986510e-12,  0.00000000e+00,\n        0.00000000e+00,  0.00000000e+00,  0.00000000e+00])"
                    },
                    "execution_count": null
                }
            ]
        }
    ]
}