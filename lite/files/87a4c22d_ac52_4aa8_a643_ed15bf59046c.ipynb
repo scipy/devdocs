{
    "nbformat": 4,
    "nbformat_minor": 5,
    "metadata": {
        "kernelspec": {
            "display_name": "Python",
            "language": "python",
            "name": "python"
        },
        "language_info": {
            "name": "python"
        }
    },
    "cells": [
        {
            "id": "ae2a91bc",
            "cell_type": "markdown",
            "source": "<div class='alert alert-warning'>\n\nSciPy's interactive examples with Jupyterlite are experimental and may not always work as expected. Execution of cells containing imports may result in large downloads (up to 60MB of content for the first import from SciPy). Load times when importing from SciPy may take roughly 10-20 seconds. If you notice any problems, feel free to open an [issue](https://github.com/scipy/scipy/issues/new/choose).\n\n</div>",
            "metadata": {}
        },
        {
            "id": "1cba3042",
            "cell_type": "markdown",
            "source": "Given `a`, `b`, `q`, and `r` solve for `x`:\n",
            "metadata": {}
        },
        {
            "id": "2f5c1263",
            "cell_type": "code",
            "metadata": {},
            "execution_count": null,
            "source": "import numpy as np\nfrom scipy import linalg as la\na = np.array([[0, 1], [0, -1]])\nb = np.array([[1, 0], [2, 1]])\nq = np.array([[-4, -4], [-4, 7]])\nr = np.array([[9, 3], [3, 1]])\nx = la.solve_discrete_are(a, b, q, r)\nx",
            "outputs": [
                {
                    "output_type": "execute_result",
                    "metadata": {},
                    "data": {
                        "text/plain": "array([[-4., -4.],\n       [-4.,  7.]])"
                    },
                    "execution_count": null
                }
            ]
        },
        {
            "id": "84a8003d",
            "cell_type": "code",
            "metadata": {},
            "execution_count": null,
            "source": "R = la.solve(r + b.T.dot(x).dot(b), b.T.dot(x).dot(a))\nnp.allclose(a.T.dot(x).dot(a) - x - a.T.dot(x).dot(b).dot(R), -q)",
            "outputs": [
                {
                    "output_type": "execute_result",
                    "metadata": {},
                    "data": {
                        "text/plain": "True"
                    },
                    "execution_count": null
                }
            ]
        }
    ]
}