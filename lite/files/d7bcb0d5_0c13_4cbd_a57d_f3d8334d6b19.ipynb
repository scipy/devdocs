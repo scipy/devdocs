{
    "nbformat": 4,
    "nbformat_minor": 5,
    "metadata": {
        "kernelspec": {
            "display_name": "Python",
            "language": "python",
            "name": "python"
        },
        "language_info": {
            "name": "python"
        }
    },
    "cells": [
        {
            "id": "9903c06d",
            "cell_type": "markdown",
            "source": "<div class='alert alert-warning'>\n\nSciPy's interactive examples with Jupyterlite are experimental and may not always work as expected. Execution of cells containing imports may result in large downloads (up to 60MB of content for the first import from SciPy). Load times when importing from SciPy may take roughly 10-20 seconds. If you notice any problems, feel free to open an [issue](https://github.com/scipy/scipy/issues/new/choose).\n\n</div>",
            "metadata": {}
        },
        {
            "id": "ccbfd528",
            "cell_type": "markdown",
            "source": "Suppose we have global data on a coarse grid\n",
            "metadata": {}
        },
        {
            "id": "eada068c",
            "cell_type": "code",
            "metadata": {},
            "execution_count": null,
            "source": "import numpy as np\nlats = np.linspace(10, 170, 9) * np.pi / 180.\nlons = np.linspace(0, 350, 18) * np.pi / 180.\ndata = np.dot(np.atleast_2d(90. - np.linspace(-80., 80., 18)).T,\n              np.atleast_2d(180. - np.abs(np.linspace(0., 350., 9)))).T",
            "outputs": []
        },
        {
            "id": "1b6d9739",
            "cell_type": "markdown",
            "source": "We want to interpolate it to a global one-degree grid\n",
            "metadata": {}
        },
        {
            "id": "6e9861a9",
            "cell_type": "code",
            "metadata": {},
            "execution_count": null,
            "source": "new_lats = np.linspace(1, 180, 180) * np.pi / 180\nnew_lons = np.linspace(1, 360, 360) * np.pi / 180\nnew_lats, new_lons = np.meshgrid(new_lats, new_lons)",
            "outputs": []
        },
        {
            "id": "8200bd63",
            "cell_type": "markdown",
            "source": "We need to set up the interpolator object\n",
            "metadata": {}
        },
        {
            "id": "95857660",
            "cell_type": "code",
            "metadata": {},
            "execution_count": null,
            "source": "from scipy.interpolate import RectSphereBivariateSpline\nlut = RectSphereBivariateSpline(lats, lons, data)",
            "outputs": []
        },
        {
            "id": "ff2237f1",
            "cell_type": "markdown",
            "source": "Finally we interpolate the data.  The `RectSphereBivariateSpline` object\nonly takes 1-D arrays as input, therefore we need to do some reshaping.\n",
            "metadata": {}
        },
        {
            "id": "182e6c2a",
            "cell_type": "code",
            "metadata": {},
            "execution_count": null,
            "source": "data_interp = lut.ev(new_lats.ravel(),\n                     new_lons.ravel()).reshape((360, 180)).T",
            "outputs": []
        },
        {
            "id": "39b3f310",
            "cell_type": "markdown",
            "source": "Looking at the original and the interpolated data, one can see that the\ninterpolant reproduces the original data very well:\n",
            "metadata": {}
        },
        {
            "id": "faf1eb58",
            "cell_type": "code",
            "metadata": {},
            "execution_count": null,
            "source": "import matplotlib.pyplot as plt\nfig = plt.figure()\nax1 = fig.add_subplot(211)\nax1.imshow(data, interpolation='nearest')\nax2 = fig.add_subplot(212)\nax2.imshow(data_interp, interpolation='nearest')\nplt.show()",
            "outputs": []
        },
        {
            "id": "4500091e",
            "cell_type": "markdown",
            "source": "Choosing the optimal value of ``s`` can be a delicate task. Recommended\nvalues for ``s`` depend on the accuracy of the data values.  If the user\nhas an idea of the statistical errors on the data, she can also find a\nproper estimate for ``s``. By assuming that, if she specifies the\nright ``s``, the interpolator will use a spline ``f(u,v)`` which exactly\nreproduces the function underlying the data, she can evaluate\n``sum((r(i,j)-s(u(i),v(j)))**2)`` to find a good estimate for this ``s``.\nFor example, if she knows that the statistical errors on her\n``r(i,j)``-values are not greater than 0.1, she may expect that a good\n``s`` should have a value not larger than ``u.size * v.size * (0.1)**2``.\n\nIf nothing is known about the statistical error in ``r(i,j)``, ``s`` must\nbe determined by trial and error.  The best is then to start with a very\nlarge value of ``s`` (to determine the least-squares polynomial and the\ncorresponding upper bound ``fp0`` for ``s``) and then to progressively\ndecrease the value of ``s`` (say by a factor 10 in the beginning, i.e.\n``s = fp0 / 10, fp0 / 100, ...``  and more carefully as the approximation\nshows more detail) to obtain closer fits.\n\nThe interpolation results for different values of ``s`` give some insight\ninto this process:\n",
            "metadata": {}
        },
        {
            "id": "fff9a55b",
            "cell_type": "code",
            "metadata": {},
            "execution_count": null,
            "source": "fig2 = plt.figure()\ns = [3e9, 2e9, 1e9, 1e8]\nfor idx, sval in enumerate(s, 1):\n    lut = RectSphereBivariateSpline(lats, lons, data, s=sval)\n    data_interp = lut.ev(new_lats.ravel(),\n                         new_lons.ravel()).reshape((360, 180)).T\n    ax = fig2.add_subplot(2, 2, idx)\n    ax.imshow(data_interp, interpolation='nearest')\n    ax.set_title(f\"s = {sval:g}\")\nplt.show()",
            "outputs": []
        }
    ]
}