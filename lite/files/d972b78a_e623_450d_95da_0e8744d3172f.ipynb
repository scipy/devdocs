{
    "nbformat": 4,
    "nbformat_minor": 5,
    "metadata": {
        "kernelspec": {
            "display_name": "Python",
            "language": "python",
            "name": "python"
        },
        "language_info": {
            "name": "python"
        }
    },
    "cells": [
        {
            "id": "44182457",
            "cell_type": "markdown",
            "source": "<div class='alert alert-warning'>\n\nSciPy's interactive examples with Jupyterlite are experimental and may not always work as expected. Execution of cells containing imports may result in large downloads (up to 60MB of content for the first import from SciPy). Load times when importing from SciPy may take roughly 10-20 seconds. If you notice any problems, feel free to open an [issue](https://github.com/scipy/scipy/issues/new/choose).\n\n</div>",
            "metadata": {}
        },
        {
            "id": "5ccf1902",
            "cell_type": "markdown",
            "source": "Convolve a 100,000 sample signal with a 512-sample filter.\n",
            "metadata": {}
        },
        {
            "id": "3e4d5a60",
            "cell_type": "code",
            "metadata": {},
            "execution_count": null,
            "source": "import numpy as np\nfrom scipy import signal\nrng = np.random.default_rng()\nsig = rng.standard_normal(100000)\nfilt = signal.firwin(512, 0.01)\nfsig = signal.oaconvolve(sig, filt)",
            "outputs": []
        },
        {
            "id": "60c8c7ab",
            "cell_type": "code",
            "metadata": {},
            "execution_count": null,
            "source": "import matplotlib.pyplot as plt\nfig, (ax_orig, ax_mag) = plt.subplots(2, 1)\nax_orig.plot(sig)\nax_orig.set_title('White noise')\nax_mag.plot(fsig)\nax_mag.set_title('Filtered noise')\nfig.tight_layout()\nfig.show()",
            "outputs": []
        }
    ]
}