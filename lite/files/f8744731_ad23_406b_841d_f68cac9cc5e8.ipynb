{
    "nbformat": 4,
    "nbformat_minor": 5,
    "metadata": {
        "kernelspec": {
            "display_name": "Python",
            "language": "python",
            "name": "python"
        },
        "language_info": {
            "name": "python"
        }
    },
    "cells": [
        {
            "id": "adcf4d50",
            "cell_type": "markdown",
            "source": "<div class='alert alert-warning'>\n\nSciPy's interactive examples with Jupyterlite are experimental and may not always work as expected. Execution of cells containing imports may result in large downloads (up to 60MB of content for the first import from SciPy). Load times when importing from SciPy may take roughly 10-20 seconds. If you notice any problems, feel free to open an [issue](https://github.com/scipy/scipy/issues/new/choose).\n\n</div>",
            "metadata": {}
        },
        {
            "id": "f8c5dd07",
            "cell_type": "code",
            "metadata": {},
            "execution_count": null,
            "source": "from scipy.spatial.transform import Rotation as R",
            "outputs": []
        },
        {
            "id": "401a8747",
            "cell_type": "markdown",
            "source": "Sample a single rotation:\n",
            "metadata": {}
        },
        {
            "id": "3b2ec6e5",
            "cell_type": "code",
            "metadata": {},
            "execution_count": null,
            "source": "R.random().as_euler('zxy', degrees=True)",
            "outputs": [
                {
                    "output_type": "execute_result",
                    "metadata": {},
                    "data": {
                        "text/plain": "array([-110.5976185 ,   55.32758512,   76.3289269 ])  # random"
                    },
                    "execution_count": null
                }
            ]
        },
        {
            "id": "4c3c183e",
            "cell_type": "markdown",
            "source": "Sample a stack of rotations:\n",
            "metadata": {}
        },
        {
            "id": "753a34d8",
            "cell_type": "code",
            "metadata": {},
            "execution_count": null,
            "source": "R.random(5).as_euler('zxy', degrees=True)",
            "outputs": [
                {
                    "output_type": "execute_result",
                    "metadata": {},
                    "data": {
                        "text/plain": "array([[-110.5976185 ,   55.32758512,   76.3289269 ],  # random\n       [ -91.59132005,  -14.3629884 ,  -93.91933182],\n       [  25.23835501,   45.02035145, -121.67867086],\n       [ -51.51414184,  -15.29022692, -172.46870023],\n       [ -81.63376847,  -27.39521579,    2.60408416]])"
                    },
                    "execution_count": null
                }
            ]
        }
    ]
}