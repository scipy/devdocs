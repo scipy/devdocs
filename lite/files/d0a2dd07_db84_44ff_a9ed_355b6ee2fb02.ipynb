{
    "nbformat": 4,
    "nbformat_minor": 5,
    "metadata": {
        "kernelspec": {
            "display_name": "Python",
            "language": "python",
            "name": "python"
        },
        "language_info": {
            "name": "python"
        }
    },
    "cells": [
        {
            "id": "69c25309",
            "cell_type": "markdown",
            "source": "<div class='alert alert-warning'>\n\nSciPy's interactive examples with Jupyterlite are experimental and may not always work as expected. Execution of cells containing imports may result in large downloads (up to 60MB of content for the first import from SciPy). Load times when importing from SciPy may take roughly 10-20 seconds. If you notice any problems, feel free to open an [issue](https://github.com/scipy/scipy/issues/new/choose).\n\n</div>",
            "metadata": {}
        },
        {
            "id": "ae590e1b",
            "cell_type": "code",
            "metadata": {},
            "execution_count": null,
            "source": "from scipy import stats\nimport matplotlib.pyplot as plt",
            "outputs": []
        },
        {
            "id": "88f070b5",
            "cell_type": "markdown",
            "source": "Generate some non-normally distributed data, and create a Yeo-Johnson plot:\n",
            "metadata": {}
        },
        {
            "id": "7837a849",
            "cell_type": "code",
            "metadata": {},
            "execution_count": null,
            "source": "x = stats.loggamma.rvs(5, size=500) + 5\nfig = plt.figure()\nax = fig.add_subplot(111)\nprob = stats.yeojohnson_normplot(x, -20, 20, plot=ax)",
            "outputs": []
        },
        {
            "id": "2945290c",
            "cell_type": "markdown",
            "source": "Determine and plot the optimal ``lmbda`` to transform ``x`` and plot it in\nthe same plot:\n",
            "metadata": {}
        },
        {
            "id": "2fcfffaa",
            "cell_type": "code",
            "metadata": {},
            "execution_count": null,
            "source": "_, maxlog = stats.yeojohnson(x)\nax.axvline(maxlog, color='r')",
            "outputs": []
        },
        {
            "id": "04326c74",
            "cell_type": "code",
            "metadata": {},
            "execution_count": null,
            "source": "plt.show()",
            "outputs": []
        }
    ]
}