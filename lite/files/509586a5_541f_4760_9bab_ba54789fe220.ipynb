{
    "nbformat": 4,
    "nbformat_minor": 5,
    "metadata": {
        "kernelspec": {
            "display_name": "Python",
            "language": "python",
            "name": "python"
        },
        "language_info": {
            "name": "python"
        }
    },
    "cells": [
        {
            "id": "6887a7f7",
            "cell_type": "markdown",
            "source": "<div class='alert alert-warning'>\n\nSciPy's interactive examples with Jupyterlite are experimental and may not always work as expected. Execution of cells containing imports may result in large downloads (up to 60MB of content for the first import from SciPy). Load times when importing from SciPy may take roughly 10-20 seconds. If you notice any problems, feel free to open an [issue](https://github.com/scipy/scipy/issues/new/choose).\n\n</div>",
            "metadata": {}
        },
        {
            "id": "83172ebc",
            "cell_type": "code",
            "metadata": {},
            "execution_count": null,
            "source": "from scipy.cluster.hierarchy import ward, correspond\nfrom scipy.spatial.distance import pdist",
            "outputs": []
        },
        {
            "id": "d2509ba7",
            "cell_type": "markdown",
            "source": "This method can be used to check if a given linkage matrix ``Z`` has been\nobtained from the application of a cluster method over a dataset ``X``:\n",
            "metadata": {}
        },
        {
            "id": "27bddd33",
            "cell_type": "code",
            "metadata": {},
            "execution_count": null,
            "source": "X = [[0, 0], [0, 1], [1, 0],\n     [0, 4], [0, 3], [1, 4],\n     [4, 0], [3, 0], [4, 1],\n     [4, 4], [3, 4], [4, 3]]\nX_condensed = pdist(X)\nZ = ward(X_condensed)",
            "outputs": []
        },
        {
            "id": "d1ec60cf",
            "cell_type": "markdown",
            "source": "Here, we can compare ``Z`` and ``X`` (in condensed form):\n",
            "metadata": {}
        },
        {
            "id": "756c0812",
            "cell_type": "code",
            "metadata": {},
            "execution_count": null,
            "source": "correspond(Z, X_condensed)",
            "outputs": [
                {
                    "output_type": "execute_result",
                    "metadata": {},
                    "data": {
                        "text/plain": "True"
                    },
                    "execution_count": null
                }
            ]
        }
    ]
}