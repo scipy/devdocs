{
    "nbformat": 4,
    "nbformat_minor": 5,
    "metadata": {
        "kernelspec": {
            "display_name": "Python",
            "language": "python",
            "name": "python"
        },
        "language_info": {
            "name": "python"
        }
    },
    "cells": [
        {
            "id": "3e381523",
            "cell_type": "markdown",
            "source": "<div class='alert alert-warning'>\n\nSciPy's interactive examples with Jupyterlite are experimental and may not always work as expected. Execution of cells containing imports may result in large downloads (up to 60MB of content for the first import from SciPy). Load times when importing from SciPy may take roughly 10-20 seconds. If you notice any problems, feel free to open an [issue](https://github.com/scipy/scipy/issues/new/choose).\n\n</div>",
            "metadata": {}
        },
        {
            "id": "aef21a6b",
            "cell_type": "markdown",
            "source": "Suppose we wish to investigate the relationship between the\nnormal-inverse-gamma distribution and the inverse gamma distribution.\n",
            "metadata": {}
        },
        {
            "id": "e1354d72",
            "cell_type": "code",
            "metadata": {},
            "execution_count": null,
            "source": "import numpy as np\nfrom scipy import stats\nimport matplotlib.pyplot as plt\nrng = np.random.default_rng()\nmu, lmbda, a, b = 0, 1, 20, 20\nnorm_inv_gamma = stats.normal_inverse_gamma(mu, lmbda, a, b)\ninv_gamma = stats.invgamma(a, scale=b)",
            "outputs": []
        },
        {
            "id": "3f2b217d",
            "cell_type": "markdown",
            "source": "One approach is to compare the distribution of the `s2` elements of\nrandom variates against the PDF of an inverse gamma distribution.\n",
            "metadata": {}
        },
        {
            "id": "a162bac0",
            "cell_type": "code",
            "metadata": {},
            "execution_count": null,
            "source": "_, s2 = norm_inv_gamma.rvs(size=10000, random_state=rng)\nbins = np.linspace(s2.min(), s2.max(), 50)\nplt.hist(s2, bins=bins, density=True, label='Frequency density')\ns2 = np.linspace(s2.min(), s2.max(), 300)\nplt.plot(s2, inv_gamma.pdf(s2), label='PDF')\nplt.xlabel(r'$\\sigma^2$')\nplt.ylabel('Frequency density / PMF')\nplt.show()",
            "outputs": []
        },
        {
            "id": "0010c7d1",
            "cell_type": "markdown",
            "source": "Similarly, we can compare the marginal distribution of `s2` against\nan inverse gamma distribution.\n",
            "metadata": {}
        },
        {
            "id": "10067857",
            "cell_type": "code",
            "metadata": {},
            "execution_count": null,
            "source": "from scipy.integrate import quad_vec\nfrom scipy import integrate\ns2 = np.linspace(0.5, 3, 6)\nres = quad_vec(lambda x: norm_inv_gamma.pdf(x, s2), -np.inf, np.inf)[0]\nnp.allclose(res, inv_gamma.pdf(s2))",
            "outputs": [
                {
                    "output_type": "execute_result",
                    "metadata": {},
                    "data": {
                        "text/plain": "True"
                    },
                    "execution_count": null
                }
            ]
        },
        {
            "id": "5b3669b3",
            "cell_type": "markdown",
            "source": "The sample mean is comparable to the mean of the distribution.\n",
            "metadata": {}
        },
        {
            "id": "013a8897",
            "cell_type": "code",
            "metadata": {},
            "execution_count": null,
            "source": "x, s2 = norm_inv_gamma.rvs(size=10000, random_state=rng)\nx.mean(), s2.mean()",
            "outputs": [
                {
                    "output_type": "execute_result",
                    "metadata": {},
                    "data": {
                        "text/plain": "(np.float64(-0.005254750127304425), np.float64(1.050438111436508))"
                    },
                    "execution_count": null
                }
            ]
        },
        {
            "id": "4ce90ef3",
            "cell_type": "code",
            "metadata": {},
            "execution_count": null,
            "source": "norm_inv_gamma.mean()",
            "outputs": [
                {
                    "output_type": "execute_result",
                    "metadata": {},
                    "data": {
                        "text/plain": "(np.float64(0.0), np.float64(1.0526315789473684))"
                    },
                    "execution_count": null
                }
            ]
        },
        {
            "id": "05aa965d",
            "cell_type": "markdown",
            "source": "Similarly, for the variance:\n",
            "metadata": {}
        },
        {
            "id": "78fac530",
            "cell_type": "code",
            "metadata": {},
            "execution_count": null,
            "source": "x.var(ddof=1), s2.var(ddof=1)",
            "outputs": [
                {
                    "output_type": "execute_result",
                    "metadata": {},
                    "data": {
                        "text/plain": "(np.float64(1.0546150578185023), np.float64(0.061829865266330754))"
                    },
                    "execution_count": null
                }
            ]
        },
        {
            "id": "ef169057",
            "cell_type": "code",
            "metadata": {},
            "execution_count": null,
            "source": "norm_inv_gamma.var()",
            "outputs": [
                {
                    "output_type": "execute_result",
                    "metadata": {},
                    "data": {
                        "text/plain": "(np.float64(1.0526315789473684), np.float64(0.061557402277623886))"
                    },
                    "execution_count": null
                }
            ]
        }
    ]
}