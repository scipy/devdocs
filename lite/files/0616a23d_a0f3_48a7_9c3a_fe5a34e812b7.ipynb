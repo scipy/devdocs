{
    "nbformat": 4,
    "nbformat_minor": 5,
    "metadata": {
        "kernelspec": {
            "display_name": "Python",
            "language": "python",
            "name": "python"
        },
        "language_info": {
            "name": "python"
        }
    },
    "cells": [
        {
            "id": "60f434b4",
            "cell_type": "markdown",
            "source": "<div class='alert alert-warning'>\n\nSciPy's interactive examples with Jupyterlite are experimental and may not always work as expected. Execution of cells containing imports may result in large downloads (up to 60MB of content for the first import from SciPy). Load times when importing from SciPy may take roughly 10-20 seconds. If you notice any problems, feel free to open an [issue](https://github.com/scipy/scipy/issues/new/choose).\n\n</div>",
            "metadata": {}
        },
        {
            "id": "70488d3c",
            "cell_type": "markdown",
            "source": "A simple integrator transfer function with a discrete time step of 1.0\ncould be implemented as:\n",
            "metadata": {}
        },
        {
            "id": "19c15e74",
            "cell_type": "code",
            "metadata": {},
            "execution_count": null,
            "source": "import numpy as np\nfrom scipy import signal\ntf = ([1.0,], [1.0, -1.0], 1.0)\nt_in = [0.0, 1.0, 2.0, 3.0]\nu = np.asarray([0.0, 0.0, 1.0, 1.0])\nt_out, y = signal.dlsim(tf, u, t=t_in)\ny.T",
            "outputs": [
                {
                    "output_type": "execute_result",
                    "metadata": {},
                    "data": {
                        "text/plain": "array([[ 0.,  0.,  0.,  1.]])"
                    },
                    "execution_count": null
                }
            ]
        }
    ]
}