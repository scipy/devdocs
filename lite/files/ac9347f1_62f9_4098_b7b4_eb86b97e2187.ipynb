{
    "nbformat": 4,
    "nbformat_minor": 5,
    "metadata": {
        "kernelspec": {
            "display_name": "Python",
            "language": "python",
            "name": "python"
        },
        "language_info": {
            "name": "python"
        }
    },
    "cells": [
        {
            "id": "225f249d",
            "cell_type": "markdown",
            "source": "<div class='alert alert-warning'>\n\nSciPy's interactive examples with Jupyterlite are experimental and may not always work as expected. Execution of cells containing imports may result in large downloads (up to 60MB of content for the first import from SciPy). Load times when importing from SciPy may take roughly 10-20 seconds. If you notice any problems, feel free to open an [issue](https://github.com/scipy/scipy/issues/new/choose).\n\n</div>",
            "metadata": {}
        },
        {
            "id": "87a1b309",
            "cell_type": "code",
            "metadata": {},
            "execution_count": null,
            "source": "import numpy as np\nimport matplotlib.pyplot as plt\nfrom scipy.spatial import Delaunay, delaunay_plot_2d, tsearch\nrng = np.random.default_rng()",
            "outputs": []
        },
        {
            "id": "a0b27de5",
            "cell_type": "markdown",
            "source": "The Delaunay triangulation of a set of random points:\n",
            "metadata": {}
        },
        {
            "id": "3b0de509",
            "cell_type": "code",
            "metadata": {},
            "execution_count": null,
            "source": "pts = rng.random((20, 2))\ntri = Delaunay(pts)\n_ = delaunay_plot_2d(tri)",
            "outputs": []
        },
        {
            "id": "2e8884ce",
            "cell_type": "markdown",
            "source": "Find the simplices containing a given set of points:\n",
            "metadata": {}
        },
        {
            "id": "93b98dbc",
            "cell_type": "code",
            "metadata": {},
            "execution_count": null,
            "source": "loc = rng.uniform(0.2, 0.8, (5, 2))\ns = tsearch(tri, loc)\nplt.triplot(pts[:, 0], pts[:, 1], tri.simplices[s], 'b-', mask=s==-1)\nplt.scatter(loc[:, 0], loc[:, 1], c='r', marker='x')\nplt.show()",
            "outputs": []
        }
    ]
}