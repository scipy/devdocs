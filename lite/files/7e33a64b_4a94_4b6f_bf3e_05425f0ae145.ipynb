{
    "nbformat": 4,
    "nbformat_minor": 5,
    "metadata": {
        "kernelspec": {
            "display_name": "Python",
            "language": "python",
            "name": "python"
        },
        "language_info": {
            "name": "python"
        }
    },
    "cells": [
        {
            "id": "307be881",
            "cell_type": "markdown",
            "source": "<div class='alert alert-warning'>\n\nSciPy's interactive examples with Jupyterlite are experimental and may not always work as expected. Execution of cells containing imports may result in large downloads (up to 60MB of content for the first import from SciPy). Load times when importing from SciPy may take roughly 10-20 seconds. If you notice any problems, feel free to open an [issue](https://github.com/scipy/scipy/issues/new/choose).\n\n</div>",
            "metadata": {}
        },
        {
            "id": "beb82aef",
            "cell_type": "code",
            "metadata": {},
            "execution_count": null,
            "source": "import numpy as np\nfrom scipy.stats import planck\nimport matplotlib.pyplot as plt\nfig, ax = plt.subplots(1, 1)",
            "outputs": []
        },
        {
            "id": "7bc6651b",
            "cell_type": "markdown",
            "source": "Calculate the first four moments:\n",
            "metadata": {}
        },
        {
            "id": "a5d107b2",
            "cell_type": "code",
            "metadata": {},
            "execution_count": null,
            "source": "lambda_ = 0.51\nmean, var, skew, kurt = planck.stats(lambda_, moments='mvsk')",
            "outputs": []
        },
        {
            "id": "6b637c58",
            "cell_type": "markdown",
            "source": "Display the probability mass function (``pmf``):\n",
            "metadata": {}
        },
        {
            "id": "3dd8cf05",
            "cell_type": "code",
            "metadata": {},
            "execution_count": null,
            "source": "x = np.arange(planck.ppf(0.01, lambda_),\n              planck.ppf(0.99, lambda_))\nax.plot(x, planck.pmf(x, lambda_), 'bo', ms=8, label='planck pmf')\nax.vlines(x, 0, planck.pmf(x, lambda_), colors='b', lw=5, alpha=0.5)",
            "outputs": []
        },
        {
            "id": "621da6a8",
            "cell_type": "markdown",
            "source": "Alternatively, the distribution object can be called (as a function)\nto fix the shape and location. This returns a \"frozen\" RV object holding\nthe given parameters fixed.\n\nFreeze the distribution and display the frozen ``pmf``:\n",
            "metadata": {}
        },
        {
            "id": "7183d668",
            "cell_type": "code",
            "metadata": {},
            "execution_count": null,
            "source": "rv = planck(lambda_)\nax.vlines(x, 0, rv.pmf(x), colors='k', linestyles='-', lw=1,\n        label='frozen pmf')\nax.legend(loc='best', frameon=False)\nplt.show()",
            "outputs": []
        },
        {
            "id": "78567513",
            "cell_type": "markdown",
            "source": "Check accuracy of ``cdf`` and ``ppf``:\n",
            "metadata": {}
        },
        {
            "id": "3a0a9bd5",
            "cell_type": "code",
            "metadata": {},
            "execution_count": null,
            "source": "prob = planck.cdf(x, lambda_)\nnp.allclose(x, planck.ppf(prob, lambda_))",
            "outputs": [
                {
                    "output_type": "execute_result",
                    "metadata": {},
                    "data": {
                        "text/plain": "True"
                    },
                    "execution_count": null
                }
            ]
        },
        {
            "id": "f228daaa",
            "cell_type": "markdown",
            "source": "Generate random numbers:\n",
            "metadata": {}
        },
        {
            "id": "72ac1858",
            "cell_type": "code",
            "metadata": {},
            "execution_count": null,
            "source": "r = planck.rvs(lambda_, size=1000)",
            "outputs": []
        }
    ]
}