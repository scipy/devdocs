{
    "nbformat": 4,
    "nbformat_minor": 5,
    "metadata": {
        "kernelspec": {
            "display_name": "Python",
            "language": "python",
            "name": "python"
        },
        "language_info": {
            "name": "python"
        }
    },
    "cells": [
        {
            "id": "3cf7de61",
            "cell_type": "markdown",
            "source": "<div class='alert alert-warning'>\n\nSciPy's interactive examples with Jupyterlite are experimental and may not always work as expected. Execution of cells containing imports may result in large downloads (up to 60MB of content for the first import from SciPy). Load times when importing from SciPy may take roughly 10-20 seconds. If you notice any problems, feel free to open an [issue](https://github.com/scipy/scipy/issues/new/choose).\n\n</div>",
            "metadata": {}
        },
        {
            "id": "8c9ee0a4",
            "cell_type": "markdown",
            "source": "To produce a polynomial that is zero at 0 and 1 and has\nderivative 2 at 0, call\n",
            "metadata": {}
        },
        {
            "id": "ea3a7a97",
            "cell_type": "code",
            "metadata": {},
            "execution_count": null,
            "source": "from scipy.interpolate import KroghInterpolator\nKroghInterpolator([0,0,1],[0,2,0])",
            "outputs": []
        },
        {
            "id": "98593f34",
            "cell_type": "markdown",
            "source": "This constructs the quadratic $2x^2-2x$. The derivative condition\nis indicated by the repeated zero in the `xi` array; the corresponding\nyi values are 0, the function value, and 2, the derivative value.\n\nFor another example, given `xi`, `yi`, and a derivative `ypi` for each\npoint, appropriate arrays can be constructed as:\n",
            "metadata": {}
        },
        {
            "id": "a26ee8e6",
            "cell_type": "code",
            "metadata": {},
            "execution_count": null,
            "source": "import numpy as np\nrng = np.random.default_rng()\nxi = np.linspace(0, 1, 5)\nyi, ypi = rng.random((2, 5))\nxi_k, yi_k = np.repeat(xi, 2), np.ravel(np.dstack((yi,ypi)))\nKroghInterpolator(xi_k, yi_k)",
            "outputs": []
        },
        {
            "id": "4163a48e",
            "cell_type": "markdown",
            "source": "To produce a vector-valued polynomial, supply a higher-dimensional\narray for `yi`:\n",
            "metadata": {}
        },
        {
            "id": "4bd6241b",
            "cell_type": "code",
            "metadata": {},
            "execution_count": null,
            "source": "KroghInterpolator([0,1],[[2,3],[4,5]])",
            "outputs": []
        },
        {
            "id": "7110bff5",
            "cell_type": "markdown",
            "source": "This constructs a linear polynomial giving (2,3) at 0 and (4,5) at 1.",
            "metadata": {}
        }
    ]
}