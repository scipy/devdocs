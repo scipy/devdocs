{
    "nbformat": 4,
    "nbformat_minor": 5,
    "metadata": {
        "kernelspec": {
            "display_name": "Python",
            "language": "python",
            "name": "python"
        },
        "language_info": {
            "name": "python"
        }
    },
    "cells": [
        {
            "id": "0c1edec3",
            "cell_type": "markdown",
            "source": "<div class='alert alert-warning'>\n\nSciPy's interactive examples with Jupyterlite are experimental and may not always work as expected. Execution of cells containing imports may result in large downloads (up to 60MB of content for the first import from SciPy). Load times when importing from SciPy may take roughly 10-20 seconds. If you notice any problems, feel free to open an [issue](https://github.com/scipy/scipy/issues/new/choose).\n\n</div>",
            "metadata": {}
        },
        {
            "id": "3a2e9d13",
            "cell_type": "code",
            "metadata": {},
            "execution_count": null,
            "source": "from scipy.stats import skewtest\nskewtest([1, 2, 3, 4, 5, 6, 7, 8])",
            "outputs": [
                {
                    "output_type": "execute_result",
                    "metadata": {},
                    "data": {
                        "text/plain": "SkewtestResult(statistic=1.0108048609177787, pvalue=0.3121098361421897)"
                    },
                    "execution_count": null
                }
            ]
        },
        {
            "id": "d0f199e9",
            "cell_type": "code",
            "metadata": {},
            "execution_count": null,
            "source": "skewtest([2, 8, 0, 4, 1, 9, 9, 0])",
            "outputs": [
                {
                    "output_type": "execute_result",
                    "metadata": {},
                    "data": {
                        "text/plain": "SkewtestResult(statistic=0.44626385374196975, pvalue=0.6554066631275459)"
                    },
                    "execution_count": null
                }
            ]
        },
        {
            "id": "4cb40a4d",
            "cell_type": "code",
            "metadata": {},
            "execution_count": null,
            "source": "skewtest([1, 2, 3, 4, 5, 6, 7, 8000])",
            "outputs": [
                {
                    "output_type": "execute_result",
                    "metadata": {},
                    "data": {
                        "text/plain": "SkewtestResult(statistic=3.571773510360407, pvalue=0.0003545719905823133)"
                    },
                    "execution_count": null
                }
            ]
        },
        {
            "id": "589683aa",
            "cell_type": "code",
            "metadata": {},
            "execution_count": null,
            "source": "skewtest([100, 100, 100, 100, 100, 100, 100, 101])",
            "outputs": [
                {
                    "output_type": "execute_result",
                    "metadata": {},
                    "data": {
                        "text/plain": "SkewtestResult(statistic=3.5717766638478072, pvalue=0.000354567720281634)"
                    },
                    "execution_count": null
                }
            ]
        },
        {
            "id": "58d5908a",
            "cell_type": "code",
            "metadata": {},
            "execution_count": null,
            "source": "skewtest([1, 2, 3, 4, 5, 6, 7, 8], alternative='less')",
            "outputs": [
                {
                    "output_type": "execute_result",
                    "metadata": {},
                    "data": {
                        "text/plain": "SkewtestResult(statistic=1.0108048609177787, pvalue=0.8439450819289052)"
                    },
                    "execution_count": null
                }
            ]
        },
        {
            "id": "c8495711",
            "cell_type": "code",
            "metadata": {},
            "execution_count": null,
            "source": "skewtest([1, 2, 3, 4, 5, 6, 7, 8], alternative='greater')",
            "outputs": [
                {
                    "output_type": "execute_result",
                    "metadata": {},
                    "data": {
                        "text/plain": "SkewtestResult(statistic=1.0108048609177787, pvalue=0.15605491807109484)"
                    },
                    "execution_count": null
                }
            ]
        },
        {
            "id": "cca277c0",
            "cell_type": "markdown",
            "source": "For a more detailed example, see :ref:`hypothesis_skewtest`.",
            "metadata": {}
        }
    ]
}