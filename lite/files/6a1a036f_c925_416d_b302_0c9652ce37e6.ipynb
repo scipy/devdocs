{
    "nbformat": 4,
    "nbformat_minor": 5,
    "metadata": {
        "kernelspec": {
            "display_name": "Python",
            "language": "python",
            "name": "python"
        },
        "language_info": {
            "name": "python"
        }
    },
    "cells": [
        {
            "id": "5f79b934",
            "cell_type": "markdown",
            "source": "<div class='alert alert-warning'>\n\nSciPy's interactive examples with Jupyterlite are experimental and may not always work as expected. Execution of cells containing imports may result in large downloads (up to 60MB of content for the first import from SciPy). Load times when importing from SciPy may take roughly 10-20 seconds. If you notice any problems, feel free to open an [issue](https://github.com/scipy/scipy/issues/new/choose).\n\n</div>",
            "metadata": {}
        },
        {
            "id": "5bf85b37",
            "cell_type": "code",
            "metadata": {},
            "execution_count": null,
            "source": "from scipy.stats.sampling import DiscreteAliasUrn\nimport numpy as np",
            "outputs": []
        },
        {
            "id": "4e7d2071",
            "cell_type": "markdown",
            "source": "To create a random number generator using a probability vector, use:\n",
            "metadata": {}
        },
        {
            "id": "619c2967",
            "cell_type": "code",
            "metadata": {},
            "execution_count": null,
            "source": "pv = [0.1, 0.3, 0.6]\nurng = np.random.default_rng()\nrng = DiscreteAliasUrn(pv, random_state=urng)",
            "outputs": []
        },
        {
            "id": "cd1fd990",
            "cell_type": "markdown",
            "source": "The RNG has been setup. Now, we can now use the `rvs` method to\ngenerate samples from the distribution:\n",
            "metadata": {}
        },
        {
            "id": "3ddfab6d",
            "cell_type": "code",
            "metadata": {},
            "execution_count": null,
            "source": "rvs = rng.rvs(size=1000)",
            "outputs": []
        },
        {
            "id": "753586de",
            "cell_type": "markdown",
            "source": "To verify that the random variates follow the given distribution, we can\nuse the chi-squared test (as a measure of goodness-of-fit):\n",
            "metadata": {}
        },
        {
            "id": "079d26c7",
            "cell_type": "code",
            "metadata": {},
            "execution_count": null,
            "source": "from scipy.stats import chisquare\n_, freqs = np.unique(rvs, return_counts=True)\nfreqs = freqs / np.sum(freqs)\nfreqs",
            "outputs": [
                {
                    "output_type": "execute_result",
                    "metadata": {},
                    "data": {
                        "text/plain": "array([0.092, 0.292, 0.616])"
                    },
                    "execution_count": null
                }
            ]
        },
        {
            "id": "b6e39c94",
            "cell_type": "code",
            "metadata": {},
            "execution_count": null,
            "source": "chisquare(freqs, pv).pvalue",
            "outputs": [
                {
                    "output_type": "execute_result",
                    "metadata": {},
                    "data": {
                        "text/plain": "0.9993602047563164"
                    },
                    "execution_count": null
                }
            ]
        },
        {
            "id": "4efe9945",
            "cell_type": "markdown",
            "source": "As the p-value is very high, we fail to reject the null hypothesis that\nthe observed frequencies are the same as the expected frequencies. Hence,\nwe can safely assume that the variates have been generated from the given\ndistribution. Note that this just gives the correctness of the algorithm\nand not the quality of the samples.\n\nIf a PV is not available, an instance of a class with a PMF method and a\nfinite domain can also be passed.\n",
            "metadata": {}
        },
        {
            "id": "cf784b87",
            "cell_type": "code",
            "metadata": {},
            "execution_count": null,
            "source": "urng = np.random.default_rng()\nclass Binomial:\n    def __init__(self, n, p):\n        self.n = n\n        self.p = p\n    def pmf(self, x):\n        # note that the pmf doesn't need to be normalized.\n        return self.p**x * (1-self.p)**(self.n-x)\n    def support(self):\n        return (0, self.n)\n\nn, p = 10, 0.2\ndist = Binomial(n, p)\nrng = DiscreteAliasUrn(dist, random_state=urng)",
            "outputs": []
        },
        {
            "id": "83bbcc7c",
            "cell_type": "markdown",
            "source": "Now, we can sample from the distribution using the `rvs` method\nand also measure the goodness-of-fit of the samples:\n",
            "metadata": {}
        },
        {
            "id": "d948b929",
            "cell_type": "code",
            "metadata": {},
            "execution_count": null,
            "source": "rvs = rng.rvs(1000)\n_, freqs = np.unique(rvs, return_counts=True)\nfreqs = freqs / np.sum(freqs)\nobs_freqs = np.zeros(11)  # some frequencies may be zero.\nobs_freqs[:freqs.size] = freqs\npv = [dist.pmf(i) for i in range(0, 11)]\npv = np.asarray(pv) / np.sum(pv)\nchisquare(obs_freqs, pv).pvalue",
            "outputs": [
                {
                    "output_type": "execute_result",
                    "metadata": {},
                    "data": {
                        "text/plain": "0.9999999999999999"
                    },
                    "execution_count": null
                }
            ]
        },
        {
            "id": "8da0c4cb",
            "cell_type": "markdown",
            "source": "To check that the samples have been drawn from the correct distribution,\nwe can visualize the histogram of the samples:\n",
            "metadata": {}
        },
        {
            "id": "68e73ec7",
            "cell_type": "code",
            "metadata": {},
            "execution_count": null,
            "source": "import matplotlib.pyplot as plt\nrvs = rng.rvs(1000)\nfig = plt.figure()\nax = fig.add_subplot(111)\nx = np.arange(0, n+1)\nfx = dist.pmf(x)\nfx = fx / fx.sum()\nax.plot(x, fx, 'bo', label='true distribution')\nax.vlines(x, 0, fx, lw=2)\nax.hist(rvs, bins=np.r_[x, n+1]-0.5, density=True, alpha=0.5,\n        color='r', label='samples')\nax.set_xlabel('x')\nax.set_ylabel('PMF(x)')\nax.set_title('Discrete Alias Urn Samples')\nplt.legend()\nplt.show()",
            "outputs": []
        },
        {
            "id": "defb4914",
            "cell_type": "markdown",
            "source": "To set the ``urn_factor``, use:\n",
            "metadata": {}
        },
        {
            "id": "dfa29969",
            "cell_type": "code",
            "metadata": {},
            "execution_count": null,
            "source": "rng = DiscreteAliasUrn(pv, urn_factor=2, random_state=urng)",
            "outputs": []
        },
        {
            "id": "4f33d17f",
            "cell_type": "markdown",
            "source": "This uses a table twice the size of the probability vector to generate\nrandom variates from the distribution.\n",
            "metadata": {}
        }
    ]
}