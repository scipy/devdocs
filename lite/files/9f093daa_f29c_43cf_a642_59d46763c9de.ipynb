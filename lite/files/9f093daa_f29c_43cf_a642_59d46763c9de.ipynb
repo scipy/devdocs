{
    "nbformat": 4,
    "nbformat_minor": 5,
    "metadata": {
        "kernelspec": {
            "display_name": "Python",
            "language": "python",
            "name": "python"
        },
        "language_info": {
            "name": "python"
        }
    },
    "cells": [
        {
            "id": "71e543ac",
            "cell_type": "markdown",
            "source": "<div class='alert alert-warning'>\n\nSciPy's interactive examples with Jupyterlite are experimental and may not always work as expected. Execution of cells containing imports may result in large downloads (up to 60MB of content for the first import from SciPy). Load times when importing from SciPy may take roughly 10-20 seconds. If you notice any problems, feel free to open an [issue](https://github.com/scipy/scipy/issues/new/choose).\n\n</div>",
            "metadata": {}
        },
        {
            "id": "06281166",
            "cell_type": "markdown",
            "source": "We can interpolate 2D observed data using Krogh interpolation:\n",
            "metadata": {}
        },
        {
            "id": "3ebeb167",
            "cell_type": "code",
            "metadata": {},
            "execution_count": null,
            "source": "import numpy as np\nimport matplotlib.pyplot as plt\nfrom scipy.interpolate import krogh_interpolate\nx_observed = np.linspace(0.0, 10.0, 11)\ny_observed = np.sin(x_observed)\nx = np.linspace(min(x_observed), max(x_observed), num=100)\ny = krogh_interpolate(x_observed, y_observed, x)\nplt.plot(x_observed, y_observed, \"o\", label=\"observation\")\nplt.plot(x, y, label=\"krogh interpolation\")\nplt.legend()\nplt.show()",
            "outputs": []
        }
    ]
}