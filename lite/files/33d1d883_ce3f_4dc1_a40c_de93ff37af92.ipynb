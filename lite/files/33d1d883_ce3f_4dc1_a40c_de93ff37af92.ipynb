{
    "nbformat": 4,
    "nbformat_minor": 5,
    "metadata": {
        "kernelspec": {
            "display_name": "Python",
            "language": "python",
            "name": "python"
        },
        "language_info": {
            "name": "python"
        }
    },
    "cells": [
        {
            "id": "8dbeb77e",
            "cell_type": "markdown",
            "source": "<div class='alert alert-warning'>\n\nSciPy's interactive examples with Jupyterlite are experimental and may not always work as expected. Execution of cells containing imports may result in large downloads (up to 60MB of content for the first import from SciPy). Load times when importing from SciPy may take roughly 10-20 seconds. If you notice any problems, feel free to open an [issue](https://github.com/scipy/scipy/issues/new/choose).\n\n</div>",
            "metadata": {}
        },
        {
            "id": "d599ad2e",
            "cell_type": "markdown",
            "source": "Suppose that we want to use splines to interpolate a bivariate function on a\nsphere. The value of the function is known on a grid of longitudes and\ncolatitudes.\n",
            "metadata": {}
        },
        {
            "id": "63fda5ce",
            "cell_type": "code",
            "metadata": {},
            "execution_count": null,
            "source": "import numpy as np\nfrom scipy.interpolate import RectSphereBivariateSpline\ndef f(theta, phi):\n    return np.sin(theta) * np.cos(phi)",
            "outputs": []
        },
        {
            "id": "24433b15",
            "cell_type": "markdown",
            "source": "We evaluate the function on the grid. Note that the default indexing=\"xy\"\nof meshgrid would result in an unexpected (transposed) result after\ninterpolation.\n",
            "metadata": {}
        },
        {
            "id": "028f946d",
            "cell_type": "code",
            "metadata": {},
            "execution_count": null,
            "source": "thetaarr = np.linspace(0, np.pi, 22)[1:-1]\nphiarr = np.linspace(0, 2 * np.pi, 21)[:-1]\nthetagrid, phigrid = np.meshgrid(thetaarr, phiarr, indexing=\"ij\")\nzdata = f(thetagrid, phigrid)",
            "outputs": []
        },
        {
            "id": "148185ec",
            "cell_type": "markdown",
            "source": "We next set up the interpolator and use it to evaluate the function\non a finer grid.\n",
            "metadata": {}
        },
        {
            "id": "309fac37",
            "cell_type": "code",
            "metadata": {},
            "execution_count": null,
            "source": "rsbs = RectSphereBivariateSpline(thetaarr, phiarr, zdata)\nthetaarr_fine = np.linspace(0, np.pi, 200)\nphiarr_fine = np.linspace(0, 2 * np.pi, 200)\nzdata_fine = rsbs(thetaarr_fine, phiarr_fine)",
            "outputs": []
        },
        {
            "id": "0a53124d",
            "cell_type": "markdown",
            "source": "Finally we plot the coarsly-sampled input data alongside the\nfinely-sampled interpolated data to check that they agree.\n",
            "metadata": {}
        },
        {
            "id": "93b9b5da",
            "cell_type": "code",
            "metadata": {},
            "execution_count": null,
            "source": "import matplotlib.pyplot as plt\nfig = plt.figure()\nax1 = fig.add_subplot(1, 2, 1)\nax2 = fig.add_subplot(1, 2, 2)\nax1.imshow(zdata)\nax2.imshow(zdata_fine)\nplt.show()",
            "outputs": []
        }
    ]
}