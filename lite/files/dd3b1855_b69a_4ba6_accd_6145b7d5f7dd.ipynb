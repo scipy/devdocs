{
    "nbformat": 4,
    "nbformat_minor": 5,
    "metadata": {
        "kernelspec": {
            "display_name": "Python",
            "language": "python",
            "name": "python"
        },
        "language_info": {
            "name": "python"
        }
    },
    "cells": [
        {
            "id": "7f80ff74",
            "cell_type": "markdown",
            "source": "<div class='alert alert-warning'>\n\nSciPy's interactive examples with Jupyterlite are experimental and may not always work as expected. Execution of cells containing imports may result in large downloads (up to 60MB of content for the first import from SciPy). Load times when importing from SciPy may take roughly 10-20 seconds. If you notice any problems, feel free to open an [issue](https://github.com/scipy/scipy/issues/new/choose).\n\n</div>",
            "metadata": {}
        },
        {
            "id": "95876833",
            "cell_type": "code",
            "metadata": {},
            "execution_count": null,
            "source": "import numpy as np\nfrom scipy.special import exp10",
            "outputs": []
        },
        {
            "id": "115e791f",
            "cell_type": "code",
            "metadata": {},
            "execution_count": null,
            "source": "exp10(3)",
            "outputs": [
                {
                    "output_type": "execute_result",
                    "metadata": {},
                    "data": {
                        "text/plain": "1000.0"
                    },
                    "execution_count": null
                }
            ]
        },
        {
            "id": "654765ba",
            "cell_type": "code",
            "metadata": {},
            "execution_count": null,
            "source": "x = np.array([[-1, -0.5, 0], [0.5, 1, 1.5]])\nexp10(x)",
            "outputs": [
                {
                    "output_type": "execute_result",
                    "metadata": {},
                    "data": {
                        "text/plain": "array([[  0.1       ,   0.31622777,   1.        ],\n       [  3.16227766,  10.        ,  31.6227766 ]])"
                    },
                    "execution_count": null
                }
            ]
        }
    ]
}