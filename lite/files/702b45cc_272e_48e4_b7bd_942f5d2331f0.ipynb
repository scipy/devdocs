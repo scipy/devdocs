{
    "nbformat": 4,
    "nbformat_minor": 5,
    "metadata": {
        "kernelspec": {
            "display_name": "Python",
            "language": "python",
            "name": "python"
        },
        "language_info": {
            "name": "python"
        }
    },
    "cells": [
        {
            "id": "0eee002b",
            "cell_type": "markdown",
            "source": "<div class='alert alert-warning'>\n\nSciPy's interactive examples with Jupyterlite are experimental and may not always work as expected. Execution of cells containing imports may result in large downloads (up to 60MB of content for the first import from SciPy). Load times when importing from SciPy may take roughly 10-20 seconds. If you notice any problems, feel free to open an [issue](https://github.com/scipy/scipy/issues/new/choose).\n\n</div>",
            "metadata": {}
        },
        {
            "id": "c9e132b0",
            "cell_type": "code",
            "metadata": {},
            "execution_count": null,
            "source": "import numpy as np\nimport matplotlib.pyplot as plt\nfrom scipy import stats\nrng = np.random.default_rng()\nx = [1, 4, 2, 1, 3, 1]\nres = stats.cumfreq(x, numbins=4, defaultreallimits=(1.5, 5))\nres.cumcount",
            "outputs": [
                {
                    "output_type": "execute_result",
                    "metadata": {},
                    "data": {
                        "text/plain": "array([ 1.,  2.,  3.,  3.])"
                    },
                    "execution_count": null
                }
            ]
        },
        {
            "id": "1073ce4e",
            "cell_type": "code",
            "metadata": {},
            "execution_count": null,
            "source": "res.extrapoints",
            "outputs": [
                {
                    "output_type": "execute_result",
                    "metadata": {},
                    "data": {
                        "text/plain": "3"
                    },
                    "execution_count": null
                }
            ]
        },
        {
            "id": "48da5d55",
            "cell_type": "markdown",
            "source": "Create a normal distribution with 1000 random values\n",
            "metadata": {}
        },
        {
            "id": "c24b0f07",
            "cell_type": "code",
            "metadata": {},
            "execution_count": null,
            "source": "samples = stats.norm.rvs(size=1000, random_state=rng)",
            "outputs": []
        },
        {
            "id": "3eb6cdfb",
            "cell_type": "markdown",
            "source": "Calculate cumulative frequencies\n",
            "metadata": {}
        },
        {
            "id": "195fbcaa",
            "cell_type": "code",
            "metadata": {},
            "execution_count": null,
            "source": "res = stats.cumfreq(samples, numbins=25)",
            "outputs": []
        },
        {
            "id": "f0eaada5",
            "cell_type": "markdown",
            "source": "Calculate space of values for x\n",
            "metadata": {}
        },
        {
            "id": "a296b15b",
            "cell_type": "code",
            "metadata": {},
            "execution_count": null,
            "source": "x = res.lowerlimit + np.linspace(0, res.binsize*res.cumcount.size,\n                                 res.cumcount.size)",
            "outputs": []
        },
        {
            "id": "31401980",
            "cell_type": "markdown",
            "source": "Plot histogram and cumulative histogram\n",
            "metadata": {}
        },
        {
            "id": "f69adaa7",
            "cell_type": "code",
            "metadata": {},
            "execution_count": null,
            "source": "fig = plt.figure(figsize=(10, 4))\nax1 = fig.add_subplot(1, 2, 1)\nax2 = fig.add_subplot(1, 2, 2)\nax1.hist(samples, bins=25)\nax1.set_title('Histogram')\nax2.bar(x, res.cumcount, width=res.binsize)\nax2.set_title('Cumulative histogram')\nax2.set_xlim([x.min(), x.max()])",
            "outputs": []
        },
        {
            "id": "113f2bde",
            "cell_type": "code",
            "metadata": {},
            "execution_count": null,
            "source": "plt.show()",
            "outputs": []
        }
    ]
}