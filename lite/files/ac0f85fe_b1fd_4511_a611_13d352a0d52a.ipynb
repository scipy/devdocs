{
    "nbformat": 4,
    "nbformat_minor": 5,
    "metadata": {
        "kernelspec": {
            "display_name": "Python",
            "language": "python",
            "name": "python"
        },
        "language_info": {
            "name": "python"
        }
    },
    "cells": [
        {
            "id": "37315bee",
            "cell_type": "markdown",
            "source": "<div class='alert alert-warning'>\n\nSciPy's interactive examples with Jupyterlite are experimental and may not always work as expected. Execution of cells containing imports may result in large downloads (up to 60MB of content for the first import from SciPy). Load times when importing from SciPy may take roughly 10-20 seconds. If you notice any problems, feel free to open an [issue](https://github.com/scipy/scipy/issues/new/choose).\n\n</div>",
            "metadata": {}
        },
        {
            "id": "4c6fade0",
            "cell_type": "code",
            "metadata": {},
            "execution_count": null,
            "source": "from scipy.special import cbrt",
            "outputs": []
        },
        {
            "id": "1267d075",
            "cell_type": "code",
            "metadata": {},
            "execution_count": null,
            "source": "cbrt(8)",
            "outputs": [
                {
                    "output_type": "execute_result",
                    "metadata": {},
                    "data": {
                        "text/plain": "2.0"
                    },
                    "execution_count": null
                }
            ]
        },
        {
            "id": "69166ace",
            "cell_type": "code",
            "metadata": {},
            "execution_count": null,
            "source": "cbrt([-8, -3, 0.125, 1.331])",
            "outputs": [
                {
                    "output_type": "execute_result",
                    "metadata": {},
                    "data": {
                        "text/plain": "array([-2.        , -1.44224957,  0.5       ,  1.1       ])"
                    },
                    "execution_count": null
                }
            ]
        }
    ]
}