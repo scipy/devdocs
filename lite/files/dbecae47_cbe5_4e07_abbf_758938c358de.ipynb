{
    "nbformat": 4,
    "nbformat_minor": 5,
    "metadata": {
        "kernelspec": {
            "display_name": "Python",
            "language": "python",
            "name": "python"
        },
        "language_info": {
            "name": "python"
        }
    },
    "cells": [
        {
            "id": "32756b7c",
            "cell_type": "markdown",
            "source": "<div class='alert alert-warning'>\n\nSciPy's interactive examples with Jupyterlite are experimental and may not always work as expected. Execution of cells containing imports may result in large downloads (up to 60MB of content for the first import from SciPy). Load times when importing from SciPy may take roughly 10-20 seconds. If you notice any problems, feel free to open an [issue](https://github.com/scipy/scipy/issues/new/choose).\n\n</div>",
            "metadata": {}
        },
        {
            "id": "2c12beba",
            "cell_type": "code",
            "metadata": {},
            "execution_count": null,
            "source": "import numpy as np\nimport matplotlib.pyplot as plt\nx = np.linspace(-4, 4, 41)\nnp.sinc(x)",
            "outputs": [
                {
                    "output_type": "execute_result",
                    "metadata": {},
                    "data": {
                        "text/plain": " array([-3.89804309e-17,  -4.92362781e-02,  -8.40918587e-02, # may vary\n        -8.90384387e-02,  -5.84680802e-02,   3.89804309e-17,\n        6.68206631e-02,   1.16434881e-01,   1.26137788e-01,\n        8.50444803e-02,  -3.89804309e-17,  -1.03943254e-01,\n        -1.89206682e-01,  -2.16236208e-01,  -1.55914881e-01,\n        3.89804309e-17,   2.33872321e-01,   5.04551152e-01,\n        7.56826729e-01,   9.35489284e-01,   1.00000000e+00,\n        9.35489284e-01,   7.56826729e-01,   5.04551152e-01,\n        2.33872321e-01,   3.89804309e-17,  -1.55914881e-01,\n       -2.16236208e-01,  -1.89206682e-01,  -1.03943254e-01,\n       -3.89804309e-17,   8.50444803e-02,   1.26137788e-01,\n        1.16434881e-01,   6.68206631e-02,   3.89804309e-17,\n        -5.84680802e-02,  -8.90384387e-02,  -8.40918587e-02,\n        -4.92362781e-02,  -3.89804309e-17])"
                    },
                    "execution_count": null
                }
            ]
        },
        {
            "id": "77e4f17e",
            "cell_type": "code",
            "metadata": {},
            "execution_count": null,
            "source": "plt.plot(x, np.sinc(x))",
            "outputs": [
                {
                    "output_type": "execute_result",
                    "metadata": {},
                    "data": {
                        "text/plain": "[<matplotlib.lines.Line2D object at 0x...>]"
                    },
                    "execution_count": null
                }
            ]
        },
        {
            "id": "9d4bbe16",
            "cell_type": "code",
            "metadata": {},
            "execution_count": null,
            "source": "plt.title(\"Sinc Function\")",
            "outputs": [
                {
                    "output_type": "execute_result",
                    "metadata": {},
                    "data": {
                        "text/plain": "Text(0.5, 1.0, 'Sinc Function')"
                    },
                    "execution_count": null
                }
            ]
        },
        {
            "id": "8add03bc",
            "cell_type": "code",
            "metadata": {},
            "execution_count": null,
            "source": "plt.ylabel(\"Amplitude\")",
            "outputs": [
                {
                    "output_type": "execute_result",
                    "metadata": {},
                    "data": {
                        "text/plain": "Text(0, 0.5, 'Amplitude')"
                    },
                    "execution_count": null
                }
            ]
        },
        {
            "id": "f36d238e",
            "cell_type": "code",
            "metadata": {},
            "execution_count": null,
            "source": "plt.xlabel(\"X\")",
            "outputs": [
                {
                    "output_type": "execute_result",
                    "metadata": {},
                    "data": {
                        "text/plain": "Text(0.5, 0, 'X')"
                    },
                    "execution_count": null
                }
            ]
        },
        {
            "id": "d0f17f2d",
            "cell_type": "code",
            "metadata": {},
            "execution_count": null,
            "source": "plt.show()",
            "outputs": []
        }
    ]
}