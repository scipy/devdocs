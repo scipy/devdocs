{
    "nbformat": 4,
    "nbformat_minor": 5,
    "metadata": {
        "kernelspec": {
            "display_name": "Python",
            "language": "python",
            "name": "python"
        },
        "language_info": {
            "name": "python"
        }
    },
    "cells": [
        {
            "id": "25964dfd",
            "cell_type": "markdown",
            "source": "<div class='alert alert-warning'>\n\nSciPy's interactive examples with Jupyterlite are experimental and may not always work as expected. Execution of cells containing imports may result in large downloads (up to 60MB of content for the first import from SciPy). Load times when importing from SciPy may take roughly 10-20 seconds. If you notice any problems, feel free to open an [issue](https://github.com/scipy/scipy/issues/new/choose).\n\n</div>",
            "metadata": {}
        },
        {
            "id": "9ffcdacc",
            "cell_type": "markdown",
            "source": "First evaluate `gdtr`.\n",
            "metadata": {}
        },
        {
            "id": "9a422650",
            "cell_type": "code",
            "metadata": {},
            "execution_count": null,
            "source": "from scipy.special import gdtr, gdtrix\np = gdtr(1.2, 3.4, 5.6)\nprint(p)",
            "outputs": [
                {
                    "output_type": "execute_result",
                    "metadata": {},
                    "data": {
                        "text/plain": "0.94378087442"
                    },
                    "execution_count": null
                }
            ]
        },
        {
            "id": "d2124bf6",
            "cell_type": "markdown",
            "source": "Verify the inverse.\n",
            "metadata": {}
        },
        {
            "id": "35a16315",
            "cell_type": "code",
            "metadata": {},
            "execution_count": null,
            "source": "gdtrix(1.2, 3.4, p)",
            "outputs": [
                {
                    "output_type": "execute_result",
                    "metadata": {},
                    "data": {
                        "text/plain": "5.5999999999999996"
                    },
                    "execution_count": null
                }
            ]
        }
    ]
}