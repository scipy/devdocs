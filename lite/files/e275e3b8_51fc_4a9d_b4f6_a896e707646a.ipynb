{
    "nbformat": 4,
    "nbformat_minor": 5,
    "metadata": {
        "kernelspec": {
            "display_name": "Python",
            "language": "python",
            "name": "python"
        },
        "language_info": {
            "name": "python"
        }
    },
    "cells": [
        {
            "id": "2b650808",
            "cell_type": "markdown",
            "source": "<div class='alert alert-warning'>\n\nSciPy's interactive examples with Jupyterlite are experimental and may not always work as expected. Execution of cells containing imports may result in large downloads (up to 60MB of content for the first import from SciPy). Load times when importing from SciPy may take roughly 10-20 seconds. If you notice any problems, feel free to open an [issue](https://github.com/scipy/scipy/issues/new/choose).\n\n</div>",
            "metadata": {}
        },
        {
            "id": "98b0a67b",
            "cell_type": "code",
            "metadata": {},
            "execution_count": null,
            "source": "from scipy import special\nb, bp, bi, bip = special.bi_zeros(3)\nb",
            "outputs": [
                {
                    "output_type": "execute_result",
                    "metadata": {},
                    "data": {
                        "text/plain": "array([-1.17371322, -3.2710933 , -4.83073784])"
                    },
                    "execution_count": null
                }
            ]
        },
        {
            "id": "794ad9e5",
            "cell_type": "code",
            "metadata": {},
            "execution_count": null,
            "source": "bp",
            "outputs": [
                {
                    "output_type": "execute_result",
                    "metadata": {},
                    "data": {
                        "text/plain": "array([-2.29443968, -4.07315509, -5.51239573])"
                    },
                    "execution_count": null
                }
            ]
        },
        {
            "id": "c68d751c",
            "cell_type": "code",
            "metadata": {},
            "execution_count": null,
            "source": "bi",
            "outputs": [
                {
                    "output_type": "execute_result",
                    "metadata": {},
                    "data": {
                        "text/plain": "array([-0.45494438,  0.39652284, -0.36796916])"
                    },
                    "execution_count": null
                }
            ]
        },
        {
            "id": "bcff7f6e",
            "cell_type": "code",
            "metadata": {},
            "execution_count": null,
            "source": "bip",
            "outputs": [
                {
                    "output_type": "execute_result",
                    "metadata": {},
                    "data": {
                        "text/plain": "array([ 0.60195789, -0.76031014,  0.83699101])"
                    },
                    "execution_count": null
                }
            ]
        }
    ]
}