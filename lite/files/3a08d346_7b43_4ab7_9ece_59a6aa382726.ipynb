{
    "nbformat": 4,
    "nbformat_minor": 5,
    "metadata": {
        "kernelspec": {
            "display_name": "Python",
            "language": "python",
            "name": "python"
        },
        "language_info": {
            "name": "python"
        }
    },
    "cells": [
        {
            "id": "e1b53ced",
            "cell_type": "markdown",
            "source": "<div class='alert alert-warning'>\n\nSciPy's interactive examples with Jupyterlite are experimental and may not always work as expected. Execution of cells containing imports may result in large downloads (up to 60MB of content for the first import from SciPy). Load times when importing from SciPy may take roughly 10-20 seconds. If you notice any problems, feel free to open an [issue](https://github.com/scipy/scipy/issues/new/choose).\n\n</div>",
            "metadata": {}
        },
        {
            "id": "8b8c39ce",
            "cell_type": "code",
            "metadata": {},
            "execution_count": null,
            "source": "from scipy.fft import fft, hfft\nimport numpy as np\na = 2 * np.pi * np.arange(10) / 10\nsignal = np.cos(a) + 3j * np.sin(3 * a)\nfft(signal).round(10)",
            "outputs": [
                {
                    "output_type": "execute_result",
                    "metadata": {},
                    "data": {
                        "text/plain": "array([ -0.+0.j,   5.+0.j,  -0.+0.j,  15.-0.j,   0.+0.j,   0.+0.j,\n        -0.+0.j, -15.-0.j,   0.+0.j,   5.+0.j])"
                    },
                    "execution_count": null
                }
            ]
        },
        {
            "id": "926c6981",
            "cell_type": "code",
            "metadata": {},
            "execution_count": null,
            "source": "hfft(signal[:6]).round(10) # Input first half of signal",
            "outputs": [
                {
                    "output_type": "execute_result",
                    "metadata": {},
                    "data": {
                        "text/plain": "array([  0.,   5.,   0.,  15.,  -0.,   0.,   0., -15.,  -0.,   5.])"
                    },
                    "execution_count": null
                }
            ]
        },
        {
            "id": "f6b31a22",
            "cell_type": "code",
            "metadata": {},
            "execution_count": null,
            "source": "hfft(signal, 10)  # Input entire signal and truncate",
            "outputs": [
                {
                    "output_type": "execute_result",
                    "metadata": {},
                    "data": {
                        "text/plain": "array([  0.,   5.,   0.,  15.,  -0.,   0.,   0., -15.,  -0.,   5.])"
                    },
                    "execution_count": null
                }
            ]
        }
    ]
}