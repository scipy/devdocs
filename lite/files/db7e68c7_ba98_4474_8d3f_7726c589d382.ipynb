{
    "nbformat": 4,
    "nbformat_minor": 5,
    "metadata": {
        "kernelspec": {
            "display_name": "Python",
            "language": "python",
            "name": "python"
        },
        "language_info": {
            "name": "python"
        }
    },
    "cells": [
        {
            "id": "6333b012",
            "cell_type": "markdown",
            "source": "<div class='alert alert-warning'>\n\nSciPy's interactive examples with Jupyterlite are experimental and may not always work as expected. Execution of cells containing imports may result in large downloads (up to 60MB of content for the first import from SciPy). Load times when importing from SciPy may take roughly 10-20 seconds. If you notice any problems, feel free to open an [issue](https://github.com/scipy/scipy/issues/new/choose).\n\n</div>",
            "metadata": {}
        },
        {
            "id": "9fb37112",
            "cell_type": "code",
            "metadata": {},
            "execution_count": null,
            "source": "import numpy as np\nfrom scipy.stats import variation\nvariation([1, 2, 3, 4, 5], ddof=1)",
            "outputs": [
                {
                    "output_type": "execute_result",
                    "metadata": {},
                    "data": {
                        "text/plain": "0.5270462766947299"
                    },
                    "execution_count": null
                }
            ]
        },
        {
            "id": "d76d6e01",
            "cell_type": "markdown",
            "source": "Compute the variation along a given dimension of an array that contains\na few ``nan`` values:\n",
            "metadata": {}
        },
        {
            "id": "d233c658",
            "cell_type": "code",
            "metadata": {},
            "execution_count": null,
            "source": "x = np.array([[  10.0, np.nan, 11.0, 19.0, 23.0, 29.0, 98.0],\n              [  29.0,   30.0, 32.0, 33.0, 35.0, 56.0, 57.0],\n              [np.nan, np.nan, 12.0, 13.0, 16.0, 16.0, 17.0]])\nvariation(x, axis=1, ddof=1, nan_policy='omit')",
            "outputs": [
                {
                    "output_type": "execute_result",
                    "metadata": {},
                    "data": {
                        "text/plain": "array([1.05109361, 0.31428986, 0.146483  ])"
                    },
                    "execution_count": null
                }
            ]
        }
    ]
}