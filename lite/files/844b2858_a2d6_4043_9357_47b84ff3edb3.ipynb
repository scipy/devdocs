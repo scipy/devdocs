{
    "nbformat": 4,
    "nbformat_minor": 5,
    "metadata": {
        "kernelspec": {
            "display_name": "Python",
            "language": "python",
            "name": "python"
        },
        "language_info": {
            "name": "python"
        }
    },
    "cells": [
        {
            "id": "57fad61e",
            "cell_type": "markdown",
            "source": "<div class='alert alert-warning'>\n\nSciPy's interactive examples with Jupyterlite are experimental and may not always work as expected. Execution of cells containing imports may result in large downloads (up to 60MB of content for the first import from SciPy). Load times when importing from SciPy may take roughly 10-20 seconds. If you notice any problems, feel free to open an [issue](https://github.com/scipy/scipy/issues/new/choose).\n\n</div>",
            "metadata": {}
        },
        {
            "id": "a52cf811",
            "cell_type": "markdown",
            "source": "Compute the F distribution cumulative distribution function for one\nparameter set.\n",
            "metadata": {}
        },
        {
            "id": "f3f12b88",
            "cell_type": "code",
            "metadata": {},
            "execution_count": null,
            "source": "from scipy.special import fdtridfd, fdtr\ndfn, dfd, x = 10, 5, 2\ncdf_value = fdtr(dfn, dfd, x)\ncdf_value",
            "outputs": [
                {
                    "output_type": "execute_result",
                    "metadata": {},
                    "data": {
                        "text/plain": "0.7700248806501017"
                    },
                    "execution_count": null
                }
            ]
        },
        {
            "id": "840badcc",
            "cell_type": "markdown",
            "source": "Verify that `fdtridfd` recovers the original value for `dfd`:\n",
            "metadata": {}
        },
        {
            "id": "a857c65a",
            "cell_type": "code",
            "metadata": {},
            "execution_count": null,
            "source": "fdtridfd(dfn, cdf_value, x)",
            "outputs": [
                {
                    "output_type": "execute_result",
                    "metadata": {},
                    "data": {
                        "text/plain": "5.0"
                    },
                    "execution_count": null
                }
            ]
        }
    ]
}