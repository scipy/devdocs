{
    "nbformat": 4,
    "nbformat_minor": 5,
    "metadata": {
        "kernelspec": {
            "display_name": "Python",
            "language": "python",
            "name": "python"
        },
        "language_info": {
            "name": "python"
        }
    },
    "cells": [
        {
            "id": "244bfcc2",
            "cell_type": "markdown",
            "source": "<div class='alert alert-warning'>\n\nSciPy's interactive examples with Jupyterlite are experimental and may not always work as expected. Execution of cells containing imports may result in large downloads (up to 60MB of content for the first import from SciPy). Load times when importing from SciPy may take roughly 10-20 seconds. If you notice any problems, feel free to open an [issue](https://github.com/scipy/scipy/issues/new/choose).\n\n</div>",
            "metadata": {}
        },
        {
            "id": "b563cf5c",
            "cell_type": "code",
            "metadata": {},
            "execution_count": null,
            "source": "import numpy as np\nimport scipy.special as sc",
            "outputs": []
        },
        {
            "id": "8c1385fc",
            "cell_type": "markdown",
            "source": "It is more accurate than using ``log(1 + x)`` directly for ``x``\nnear 0. Note that in the below example ``1 + 1e-17 == 1`` to\ndouble precision.\n",
            "metadata": {}
        },
        {
            "id": "e46d1111",
            "cell_type": "code",
            "metadata": {},
            "execution_count": null,
            "source": "sc.log1p(1e-17)",
            "outputs": [
                {
                    "output_type": "execute_result",
                    "metadata": {},
                    "data": {
                        "text/plain": "1e-17"
                    },
                    "execution_count": null
                }
            ]
        },
        {
            "id": "f3698fc6",
            "cell_type": "code",
            "metadata": {},
            "execution_count": null,
            "source": "np.log(1 + 1e-17)",
            "outputs": [
                {
                    "output_type": "execute_result",
                    "metadata": {},
                    "data": {
                        "text/plain": "0.0"
                    },
                    "execution_count": null
                }
            ]
        }
    ]
}