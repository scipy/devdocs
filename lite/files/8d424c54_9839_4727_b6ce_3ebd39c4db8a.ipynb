{
    "nbformat": 4,
    "nbformat_minor": 5,
    "metadata": {
        "kernelspec": {
            "display_name": "Python",
            "language": "python",
            "name": "python"
        },
        "language_info": {
            "name": "python"
        }
    },
    "cells": [
        {
            "id": "c50b07d6",
            "cell_type": "markdown",
            "source": "<div class='alert alert-warning'>\n\nSciPy's interactive examples with Jupyterlite are experimental and may not always work as expected. Execution of cells containing imports may result in large downloads (up to 60MB of content for the first import from SciPy). Load times when importing from SciPy may take roughly 10-20 seconds. If you notice any problems, feel free to open an [issue](https://github.com/scipy/scipy/issues/new/choose).\n\n</div>",
            "metadata": {}
        },
        {
            "id": "50a1d5cf",
            "cell_type": "code",
            "metadata": {},
            "execution_count": null,
            "source": "import scipy.special as sc\nfrom pytest import raises\nsc.gammaln(0)",
            "outputs": [
                {
                    "output_type": "execute_result",
                    "metadata": {},
                    "data": {
                        "text/plain": "inf"
                    },
                    "execution_count": null
                }
            ]
        },
        {
            "id": "6eabaefb",
            "cell_type": "code",
            "metadata": {},
            "execution_count": null,
            "source": "with sc.errstate(singular='raise'):\n    with raises(sc.SpecialFunctionError):\n        sc.gammaln(0)\n\nsc.gammaln(0)",
            "outputs": [
                {
                    "output_type": "execute_result",
                    "metadata": {},
                    "data": {
                        "text/plain": "inf"
                    },
                    "execution_count": null
                }
            ]
        },
        {
            "id": "545954fb",
            "cell_type": "markdown",
            "source": "We can also raise on every category except one.\n",
            "metadata": {}
        },
        {
            "id": "635d5191",
            "cell_type": "code",
            "metadata": {},
            "execution_count": null,
            "source": "with sc.errstate(all='raise', singular='ignore'):\n    sc.gammaln(0)\n    with raises(sc.SpecialFunctionError):\n        sc.spence(-1)\n",
            "outputs": [
                {
                    "output_type": "execute_result",
                    "metadata": {},
                    "data": {
                        "text/plain": "inf"
                    },
                    "execution_count": null
                }
            ]
        }
    ]
}