{
    "nbformat": 4,
    "nbformat_minor": 5,
    "metadata": {
        "kernelspec": {
            "display_name": "Python",
            "language": "python",
            "name": "python"
        },
        "language_info": {
            "name": "python"
        }
    },
    "cells": [
        {
            "id": "5ecdbd23",
            "cell_type": "markdown",
            "source": "<div class='alert alert-warning'>\n\nSciPy's interactive examples with Jupyterlite are experimental and may not always work as expected. Execution of cells containing imports may result in large downloads (up to 60MB of content for the first import from SciPy). Load times when importing from SciPy may take roughly 10-20 seconds. If you notice any problems, feel free to open an [issue](https://github.com/scipy/scipy/issues/new/choose).\n\n</div>",
            "metadata": {}
        },
        {
            "id": "219b1da7",
            "cell_type": "markdown",
            "source": "In the following example `k0` returns 0 whereas `k0e` still returns a\nuseful finite number:\n",
            "metadata": {}
        },
        {
            "id": "5fb746f0",
            "cell_type": "code",
            "metadata": {},
            "execution_count": null,
            "source": "from scipy.special import k0, k0e\nk0(1000.), k0e(1000)",
            "outputs": [
                {
                    "output_type": "execute_result",
                    "metadata": {},
                    "data": {
                        "text/plain": "(0., 0.03962832160075422)"
                    },
                    "execution_count": null
                }
            ]
        },
        {
            "id": "cd132902",
            "cell_type": "markdown",
            "source": "Calculate the function at several points by providing a NumPy array or\nlist for `x`:\n",
            "metadata": {}
        },
        {
            "id": "08efa526",
            "cell_type": "code",
            "metadata": {},
            "execution_count": null,
            "source": "import numpy as np\nk0e(np.array([0.5, 2., 3.]))",
            "outputs": [
                {
                    "output_type": "execute_result",
                    "metadata": {},
                    "data": {
                        "text/plain": "array([1.52410939, 0.84156822, 0.6977616 ])"
                    },
                    "execution_count": null
                }
            ]
        },
        {
            "id": "16a13ad1",
            "cell_type": "markdown",
            "source": "Plot the function from 0 to 10.\n",
            "metadata": {}
        },
        {
            "id": "61e4c811",
            "cell_type": "code",
            "metadata": {},
            "execution_count": null,
            "source": "import matplotlib.pyplot as plt\nfig, ax = plt.subplots()\nx = np.linspace(0., 10., 1000)\ny = k0e(x)\nax.plot(x, y)\nplt.show()",
            "outputs": []
        }
    ]
}