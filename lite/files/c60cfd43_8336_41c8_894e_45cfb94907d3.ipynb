{
    "nbformat": 4,
    "nbformat_minor": 5,
    "metadata": {
        "kernelspec": {
            "display_name": "Python",
            "language": "python",
            "name": "python"
        },
        "language_info": {
            "name": "python"
        }
    },
    "cells": [
        {
            "id": "41391dbf",
            "cell_type": "markdown",
            "source": "<div class='alert alert-warning'>\n\nSciPy's interactive examples with Jupyterlite are experimental and may not always work as expected. Execution of cells containing imports may result in large downloads (up to 60MB of content for the first import from SciPy). Load times when importing from SciPy may take roughly 10-20 seconds. If you notice any problems, feel free to open an [issue](https://github.com/scipy/scipy/issues/new/choose).\n\n</div>",
            "metadata": {}
        },
        {
            "id": "7332e8ae",
            "cell_type": "markdown",
            "source": "Note that the end of the resampled data rises to meet the first\nsample of the next cycle:\n",
            "metadata": {}
        },
        {
            "id": "928472b3",
            "cell_type": "code",
            "metadata": {},
            "execution_count": null,
            "source": "import numpy as np\nfrom scipy import signal",
            "outputs": []
        },
        {
            "id": "1963c372",
            "cell_type": "code",
            "metadata": {},
            "execution_count": null,
            "source": "x = np.linspace(0, 10, 20, endpoint=False)\ny = np.cos(-x**2/6.0)\nf = signal.resample(y, 100)\nxnew = np.linspace(0, 10, 100, endpoint=False)",
            "outputs": []
        },
        {
            "id": "cc08cdfc",
            "cell_type": "code",
            "metadata": {},
            "execution_count": null,
            "source": "import matplotlib.pyplot as plt\nplt.plot(x, y, 'go-', xnew, f, '.-', 10, y[0], 'ro')\nplt.legend(['data', 'resampled'], loc='best')\nplt.show()",
            "outputs": []
        },
        {
            "id": "545ab283",
            "cell_type": "markdown",
            "source": "Consider the following signal  ``y`` where ``len(y)`` is a large  prime number:\n",
            "metadata": {}
        },
        {
            "id": "ebcf399e",
            "cell_type": "code",
            "metadata": {},
            "execution_count": null,
            "source": "N = 55949\nfreq = 100\nx = np.linspace(0, 1, N)\ny = np.cos(2 * np.pi * freq * x)",
            "outputs": []
        },
        {
            "id": "d6b16797",
            "cell_type": "markdown",
            "source": "Due to ``N`` being prime, \n",
            "metadata": {}
        },
        {
            "id": "291a18bd",
            "cell_type": "code",
            "metadata": {},
            "execution_count": null,
            "source": "num = 5000  \nf = signal.resample(signal.resample_poly(y, 1, N // num), num)",
            "outputs": []
        },
        {
            "id": "4ea12549",
            "cell_type": "markdown",
            "source": "runs significantly faster than\n",
            "metadata": {}
        },
        {
            "id": "80258197",
            "cell_type": "code",
            "metadata": {},
            "execution_count": null,
            "source": "f = signal.resample(y, num)",
            "outputs": []
        }
    ]
}