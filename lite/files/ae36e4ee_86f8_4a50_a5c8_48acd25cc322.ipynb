{
    "nbformat": 4,
    "nbformat_minor": 5,
    "metadata": {
        "kernelspec": {
            "display_name": "Python",
            "language": "python",
            "name": "python"
        },
        "language_info": {
            "name": "python"
        }
    },
    "cells": [
        {
            "id": "63d76abb",
            "cell_type": "markdown",
            "source": "<div class='alert alert-warning'>\n\nSciPy's interactive examples with Jupyterlite are experimental and may not always work as expected. Execution of cells containing imports may result in large downloads (up to 60MB of content for the first import from SciPy). Load times when importing from SciPy may take roughly 10-20 seconds. If you notice any problems, feel free to open an [issue](https://github.com/scipy/scipy/issues/new/choose).\n\n</div>",
            "metadata": {}
        },
        {
            "id": "20d173df",
            "cell_type": "markdown",
            "source": "You can count neighbors number between two kd-trees within a distance:\n",
            "metadata": {}
        },
        {
            "id": "5ebeec43",
            "cell_type": "code",
            "metadata": {},
            "execution_count": null,
            "source": "import numpy as np\nfrom scipy.spatial import KDTree\nrng = np.random.default_rng()\npoints1 = rng.random((5, 2))\npoints2 = rng.random((5, 2))\nkd_tree1 = KDTree(points1)\nkd_tree2 = KDTree(points2)\nkd_tree1.count_neighbors(kd_tree2, 0.2)",
            "outputs": [
                {
                    "output_type": "execute_result",
                    "metadata": {},
                    "data": {
                        "text/plain": "1"
                    },
                    "execution_count": null
                }
            ]
        },
        {
            "id": "45817751",
            "cell_type": "markdown",
            "source": "This number is same as the total pair number calculated by\n`query_ball_tree`:\n",
            "metadata": {}
        },
        {
            "id": "2166ffd1",
            "cell_type": "code",
            "metadata": {},
            "execution_count": null,
            "source": "indexes = kd_tree1.query_ball_tree(kd_tree2, r=0.2)\nsum([len(i) for i in indexes])",
            "outputs": [
                {
                    "output_type": "execute_result",
                    "metadata": {},
                    "data": {
                        "text/plain": "1"
                    },
                    "execution_count": null
                }
            ]
        }
    ]
}