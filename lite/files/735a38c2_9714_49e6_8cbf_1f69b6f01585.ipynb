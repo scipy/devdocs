{
    "nbformat": 4,
    "nbformat_minor": 5,
    "metadata": {
        "kernelspec": {
            "display_name": "Python",
            "language": "python",
            "name": "python"
        },
        "language_info": {
            "name": "python"
        }
    },
    "cells": [
        {
            "id": "e5b18a6d",
            "cell_type": "markdown",
            "source": "<div class='alert alert-warning'>\n\nSciPy's interactive examples with Jupyterlite are experimental and may not always work as expected. Execution of cells containing imports may result in large downloads (up to 60MB of content for the first import from SciPy). Load times when importing from SciPy may take roughly 10-20 seconds. If you notice any problems, feel free to open an [issue](https://github.com/scipy/scipy/issues/new/choose).\n\n</div>",
            "metadata": {}
        },
        {
            "id": "8cb6bc1d",
            "cell_type": "code",
            "metadata": {},
            "execution_count": null,
            "source": "import numpy as np\nfrom scipy.special import exprel",
            "outputs": []
        },
        {
            "id": "584d5c90",
            "cell_type": "code",
            "metadata": {},
            "execution_count": null,
            "source": "exprel(0.01)",
            "outputs": [
                {
                    "output_type": "execute_result",
                    "metadata": {},
                    "data": {
                        "text/plain": "1.0050167084168056"
                    },
                    "execution_count": null
                }
            ]
        },
        {
            "id": "858eeead",
            "cell_type": "code",
            "metadata": {},
            "execution_count": null,
            "source": "exprel([-0.25, -0.1, 0, 0.1, 0.25])",
            "outputs": [
                {
                    "output_type": "execute_result",
                    "metadata": {},
                    "data": {
                        "text/plain": "array([ 0.88479687,  0.95162582,  1.        ,  1.05170918,  1.13610167])"
                    },
                    "execution_count": null
                }
            ]
        },
        {
            "id": "5e48f882",
            "cell_type": "markdown",
            "source": "Compare ``exprel(5e-9)`` to the naive calculation.  The exact value\nis ``1.00000000250000000416...``.\n",
            "metadata": {}
        },
        {
            "id": "672f4c3f",
            "cell_type": "code",
            "metadata": {},
            "execution_count": null,
            "source": "exprel(5e-9)",
            "outputs": [
                {
                    "output_type": "execute_result",
                    "metadata": {},
                    "data": {
                        "text/plain": "1.0000000025"
                    },
                    "execution_count": null
                }
            ]
        },
        {
            "id": "44e68741",
            "cell_type": "code",
            "metadata": {},
            "execution_count": null,
            "source": "(np.exp(5e-9) - 1)/5e-9",
            "outputs": [
                {
                    "output_type": "execute_result",
                    "metadata": {},
                    "data": {
                        "text/plain": "0.99999999392252903"
                    },
                    "execution_count": null
                }
            ]
        }
    ]
}