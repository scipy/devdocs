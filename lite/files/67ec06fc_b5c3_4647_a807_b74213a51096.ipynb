{
    "nbformat": 4,
    "nbformat_minor": 5,
    "metadata": {
        "kernelspec": {
            "display_name": "Python",
            "language": "python",
            "name": "python"
        },
        "language_info": {
            "name": "python"
        }
    },
    "cells": [
        {
            "id": "0ebd3a01",
            "cell_type": "markdown",
            "source": "<div class='alert alert-warning'>\n\nSciPy's interactive examples with Jupyterlite are experimental and may not always work as expected. Execution of cells containing imports may result in large downloads (up to 60MB of content for the first import from SciPy). Load times when importing from SciPy may take roughly 10-20 seconds. If you notice any problems, feel free to open an [issue](https://github.com/scipy/scipy/issues/new/choose).\n\n</div>",
            "metadata": {}
        },
        {
            "id": "776b2426",
            "cell_type": "markdown",
            "source": "We can calculate B-Spline basis functions approximated by a gaussian\ndistribution:\n",
            "metadata": {}
        },
        {
            "id": "2cc31560",
            "cell_type": "code",
            "metadata": {},
            "execution_count": null,
            "source": "import numpy as np\nfrom scipy.signal import gauss_spline\nknots = np.array([-1.0, 0.0, -1.0])\ngauss_spline(knots, 3)",
            "outputs": [
                {
                    "output_type": "execute_result",
                    "metadata": {},
                    "data": {
                        "text/plain": "array([0.15418033, 0.6909883, 0.15418033])  # may vary"
                    },
                    "execution_count": null
                }
            ]
        }
    ]
}