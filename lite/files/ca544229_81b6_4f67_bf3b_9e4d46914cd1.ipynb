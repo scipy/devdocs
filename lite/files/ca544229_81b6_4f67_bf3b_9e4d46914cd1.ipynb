{
    "nbformat": 4,
    "nbformat_minor": 5,
    "metadata": {
        "kernelspec": {
            "display_name": "Python",
            "language": "python",
            "name": "python"
        },
        "language_info": {
            "name": "python"
        }
    },
    "cells": [
        {
            "id": "6c0fd4a7",
            "cell_type": "markdown",
            "source": "<div class='alert alert-warning'>\n\nSciPy's interactive examples with Jupyterlite are experimental and may not always work as expected. Execution of cells containing imports may result in large downloads (up to 60MB of content for the first import from SciPy). Load times when importing from SciPy may take roughly 10-20 seconds. If you notice any problems, feel free to open an [issue](https://github.com/scipy/scipy/issues/new/choose).\n\n</div>",
            "metadata": {}
        },
        {
            "id": "7513f525",
            "cell_type": "code",
            "metadata": {},
            "execution_count": null,
            "source": "from scipy import signal\nsignal.get_window('triang', 7)",
            "outputs": [
                {
                    "output_type": "execute_result",
                    "metadata": {},
                    "data": {
                        "text/plain": "array([ 0.125,  0.375,  0.625,  0.875,  0.875,  0.625,  0.375])"
                    },
                    "execution_count": null
                }
            ]
        },
        {
            "id": "220cbea5",
            "cell_type": "code",
            "metadata": {},
            "execution_count": null,
            "source": "signal.get_window(('kaiser', 4.0), 9)",
            "outputs": [
                {
                    "output_type": "execute_result",
                    "metadata": {},
                    "data": {
                        "text/plain": "array([ 0.08848053,  0.29425961,  0.56437221,  0.82160913,  0.97885093,\n        0.97885093,  0.82160913,  0.56437221,  0.29425961])"
                    },
                    "execution_count": null
                }
            ]
        },
        {
            "id": "74008318",
            "cell_type": "code",
            "metadata": {},
            "execution_count": null,
            "source": "signal.get_window(('exponential', None, 1.), 9)",
            "outputs": [
                {
                    "output_type": "execute_result",
                    "metadata": {},
                    "data": {
                        "text/plain": "array([ 0.011109  ,  0.03019738,  0.082085  ,  0.22313016,  0.60653066,\n        0.60653066,  0.22313016,  0.082085  ,  0.03019738])"
                    },
                    "execution_count": null
                }
            ]
        },
        {
            "id": "17c46091",
            "cell_type": "code",
            "metadata": {},
            "execution_count": null,
            "source": "signal.get_window(4.0, 9)",
            "outputs": [
                {
                    "output_type": "execute_result",
                    "metadata": {},
                    "data": {
                        "text/plain": "array([ 0.08848053,  0.29425961,  0.56437221,  0.82160913,  0.97885093,\n        0.97885093,  0.82160913,  0.56437221,  0.29425961])"
                    },
                    "execution_count": null
                }
            ]
        }
    ]
}