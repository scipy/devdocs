{
    "nbformat": 4,
    "nbformat_minor": 5,
    "metadata": {
        "kernelspec": {
            "display_name": "Python",
            "language": "python",
            "name": "python"
        },
        "language_info": {
            "name": "python"
        }
    },
    "cells": [
        {
            "id": "eb638ecd",
            "cell_type": "markdown",
            "source": "<div class='alert alert-warning'>\n\nSciPy's interactive examples with Jupyterlite are experimental and may not always work as expected. Execution of cells containing imports may result in large downloads (up to 60MB of content for the first import from SciPy). Load times when importing from SciPy may take roughly 10-20 seconds. If you notice any problems, feel free to open an [issue](https://github.com/scipy/scipy/issues/new/choose).\n\n</div>",
            "metadata": {}
        },
        {
            "id": "2fc2cf3b",
            "cell_type": "markdown",
            "source": "Plot the function of several orders for real input:\n",
            "metadata": {}
        },
        {
            "id": "b432412a",
            "cell_type": "code",
            "metadata": {},
            "execution_count": null,
            "source": "import numpy as np\nfrom scipy.special import kn\nimport matplotlib.pyplot as plt\nx = np.linspace(0, 5, 1000)\nfor N in range(6):\n    plt.plot(x, kn(N, x), label='$K_{}(x)$'.format(N))\nplt.ylim(0, 10)\nplt.legend()\nplt.title(r'Modified Bessel function of the second kind $K_n(x)$')\nplt.show()",
            "outputs": []
        },
        {
            "id": "63dde5c9",
            "cell_type": "markdown",
            "source": "Calculate for a single value at multiple orders:\n",
            "metadata": {}
        },
        {
            "id": "3b472341",
            "cell_type": "code",
            "metadata": {},
            "execution_count": null,
            "source": "kn([4, 5, 6], 1)",
            "outputs": [
                {
                    "output_type": "execute_result",
                    "metadata": {},
                    "data": {
                        "text/plain": "array([   44.23241585,   360.9605896 ,  3653.83831186])"
                    },
                    "execution_count": null
                }
            ]
        }
    ]
}