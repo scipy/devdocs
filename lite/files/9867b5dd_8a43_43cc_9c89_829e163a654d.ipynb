{
    "nbformat": 4,
    "nbformat_minor": 5,
    "metadata": {
        "kernelspec": {
            "display_name": "Python",
            "language": "python",
            "name": "python"
        },
        "language_info": {
            "name": "python"
        }
    },
    "cells": [
        {
            "id": "9701c704",
            "cell_type": "markdown",
            "source": "<div class='alert alert-warning'>\n\nSciPy's interactive examples with Jupyterlite are experimental and may not always work as expected. Execution of cells containing imports may result in large downloads (up to 60MB of content for the first import from SciPy). Load times when importing from SciPy may take roughly 10-20 seconds. If you notice any problems, feel free to open an [issue](https://github.com/scipy/scipy/issues/new/choose).\n\n</div>",
            "metadata": {}
        },
        {
            "id": "7e94315a",
            "cell_type": "code",
            "metadata": {},
            "execution_count": null,
            "source": "import scipy.fft\nscipy.fft.fft([0, 1, 0, 0])",
            "outputs": [
                {
                    "output_type": "execute_result",
                    "metadata": {},
                    "data": {
                        "text/plain": "array([ 1.+0.j,  0.-1.j, -1.+0.j,  0.+1.j]) # may vary"
                    },
                    "execution_count": null
                }
            ]
        },
        {
            "id": "9d583365",
            "cell_type": "code",
            "metadata": {},
            "execution_count": null,
            "source": "scipy.fft.rfft([0, 1, 0, 0])",
            "outputs": [
                {
                    "output_type": "execute_result",
                    "metadata": {},
                    "data": {
                        "text/plain": "array([ 1.+0.j,  0.-1.j, -1.+0.j]) # may vary"
                    },
                    "execution_count": null
                }
            ]
        },
        {
            "id": "3327aaba",
            "cell_type": "markdown",
            "source": "Notice how the final element of the `fft` output is the complex conjugate\nof the second element, for real input. For `rfft`, this symmetry is\nexploited to compute only the non-negative frequency terms.",
            "metadata": {}
        }
    ]
}