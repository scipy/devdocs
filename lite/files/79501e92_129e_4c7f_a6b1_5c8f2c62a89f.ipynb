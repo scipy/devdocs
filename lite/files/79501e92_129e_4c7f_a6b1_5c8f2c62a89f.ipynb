{
    "nbformat": 4,
    "nbformat_minor": 5,
    "metadata": {
        "kernelspec": {
            "display_name": "Python",
            "language": "python",
            "name": "python"
        },
        "language_info": {
            "name": "python"
        }
    },
    "cells": [
        {
            "id": "5d3526a2",
            "cell_type": "markdown",
            "source": "<div class='alert alert-warning'>\n\nSciPy's interactive examples with Jupyterlite are experimental and may not always work as expected. Execution of cells containing imports may result in large downloads (up to 60MB of content for the first import from SciPy). Load times when importing from SciPy may take roughly 10-20 seconds. If you notice any problems, feel free to open an [issue](https://github.com/scipy/scipy/issues/new/choose).\n\n</div>",
            "metadata": {}
        },
        {
            "id": "4bc10b5c",
            "cell_type": "markdown",
            "source": "A problem to integrate and the corresponding jacobian:\n",
            "metadata": {}
        },
        {
            "id": "d316d0a4",
            "cell_type": "code",
            "metadata": {},
            "execution_count": null,
            "source": "from scipy.integrate import ode\n\ny0, t0 = [1.0j, 2.0], 0\n\ndef f(t, y, arg1):\n    return [1j*arg1*y[0] + y[1], -arg1*y[1]**2]\ndef jac(t, y, arg1):\n    return [[1j*arg1, 1], [0, -arg1*2*y[1]]]",
            "outputs": []
        },
        {
            "id": "05de975d",
            "cell_type": "markdown",
            "source": "The integration:\n",
            "metadata": {}
        },
        {
            "id": "d0c37d6a",
            "cell_type": "code",
            "metadata": {},
            "execution_count": null,
            "source": "r = ode(f, jac).set_integrator('zvode', method='bdf')\nr.set_initial_value(y0, t0).set_f_params(2.0).set_jac_params(2.0)\nt1 = 10\ndt = 1\nwhile r.successful() and r.t < t1:\n    print(r.t+dt, r.integrate(r.t+dt))",
            "outputs": [
                {
                    "output_type": "execute_result",
                    "metadata": {},
                    "data": {
                        "text/plain": "1 [-0.71038232+0.23749653j  0.40000271+0.j        ]\n2.0 [0.19098503-0.52359246j 0.22222356+0.j        ]\n3.0 [0.47153208+0.52701229j 0.15384681+0.j        ]\n4.0 [-0.61905937+0.30726255j  0.11764744+0.j        ]\n5.0 [0.02340997-0.61418799j 0.09523835+0.j        ]\n6.0 [0.58643071+0.339819j 0.08000018+0.j      ]\n7.0 [-0.52070105+0.44525141j  0.06896565+0.j        ]\n8.0 [-0.15986733-0.61234476j  0.06060616+0.j        ]\n9.0 [0.64850462+0.15048982j 0.05405414+0.j        ]\n10.0 [-0.38404699+0.56382299j  0.04878055+0.j        ]"
                    },
                    "execution_count": null
                }
            ]
        }
    ]
}