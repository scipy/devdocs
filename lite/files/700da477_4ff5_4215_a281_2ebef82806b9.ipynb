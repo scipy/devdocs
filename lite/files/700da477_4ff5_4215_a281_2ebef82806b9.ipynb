{
    "nbformat": 4,
    "nbformat_minor": 5,
    "metadata": {
        "kernelspec": {
            "display_name": "Python",
            "language": "python",
            "name": "python"
        },
        "language_info": {
            "name": "python"
        }
    },
    "cells": [
        {
            "id": "015eeedc",
            "cell_type": "markdown",
            "source": "<div class='alert alert-warning'>\n\nSciPy's interactive examples with Jupyterlite are experimental and may not always work as expected. Execution of cells containing imports may result in large downloads (up to 60MB of content for the first import from SciPy). Load times when importing from SciPy may take roughly 10-20 seconds. If you notice any problems, feel free to open an [issue](https://github.com/scipy/scipy/issues/new/choose).\n\n</div>",
            "metadata": {}
        },
        {
            "id": "84a605db",
            "cell_type": "code",
            "metadata": {},
            "execution_count": null,
            "source": "import scipy.special as sc",
            "outputs": []
        },
        {
            "id": "e2f50ce0",
            "cell_type": "markdown",
            "source": "This function is the inverse of `betainc` for fixed\nvalues of $a$ and $b$.\n",
            "metadata": {}
        },
        {
            "id": "97f5a6f8",
            "cell_type": "code",
            "metadata": {},
            "execution_count": null,
            "source": "a, b = 1.2, 3.1\ny = sc.betainc(a, b, 0.2)\nsc.betaincinv(a, b, y)",
            "outputs": [
                {
                    "output_type": "execute_result",
                    "metadata": {},
                    "data": {
                        "text/plain": "0.2"
                    },
                    "execution_count": null
                }
            ]
        },
        {
            "id": "971ab5bc",
            "cell_type": "code",
            "metadata": {},
            "execution_count": null,
            "source": "\na, b = 7.5, 0.4\nx = sc.betaincinv(a, b, 0.5)\nsc.betainc(a, b, x)",
            "outputs": [
                {
                    "output_type": "execute_result",
                    "metadata": {},
                    "data": {
                        "text/plain": "0.5"
                    },
                    "execution_count": null
                }
            ]
        }
    ]
}