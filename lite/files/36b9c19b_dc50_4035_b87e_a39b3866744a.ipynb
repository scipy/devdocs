{
    "nbformat": 4,
    "nbformat_minor": 5,
    "metadata": {
        "kernelspec": {
            "display_name": "Python",
            "language": "python",
            "name": "python"
        },
        "language_info": {
            "name": "python"
        }
    },
    "cells": [
        {
            "id": "e3165232",
            "cell_type": "markdown",
            "source": "<div class='alert alert-warning'>\n\nSciPy's interactive examples with Jupyterlite are experimental and may not always work as expected. Execution of cells containing imports may result in large downloads (up to 60MB of content for the first import from SciPy). Load times when importing from SciPy may take roughly 10-20 seconds. If you notice any problems, feel free to open an [issue](https://github.com/scipy/scipy/issues/new/choose).\n\n</div>",
            "metadata": {}
        },
        {
            "id": "d1091b7e",
            "cell_type": "markdown",
            "source": "To create an unformatted sequential Fortran file:\n",
            "metadata": {}
        },
        {
            "id": "9d925678",
            "cell_type": "code",
            "metadata": {},
            "execution_count": null,
            "source": "from scipy.io import FortranFile\nimport numpy as np\nf = FortranFile('test.unf', 'w')\nf.write_record(np.array([1,2,3,4,5], dtype=np.int32))\nf.write_record(np.linspace(0,1,20).reshape((5,4)).T)\nf.close()",
            "outputs": []
        },
        {
            "id": "b8a4178f",
            "cell_type": "markdown",
            "source": "To read this file:\n",
            "metadata": {}
        },
        {
            "id": "aeb61819",
            "cell_type": "code",
            "metadata": {},
            "execution_count": null,
            "source": "f = FortranFile('test.unf', 'r')\nprint(f.read_ints(np.int32))",
            "outputs": [
                {
                    "output_type": "execute_result",
                    "metadata": {},
                    "data": {
                        "text/plain": "[1 2 3 4 5]"
                    },
                    "execution_count": null
                }
            ]
        },
        {
            "id": "2739385f",
            "cell_type": "code",
            "metadata": {},
            "execution_count": null,
            "source": "print(f.read_reals(float).reshape((5,4), order=\"F\"))",
            "outputs": [
                {
                    "output_type": "execute_result",
                    "metadata": {},
                    "data": {
                        "text/plain": "[[0.         0.05263158 0.10526316 0.15789474]\n [0.21052632 0.26315789 0.31578947 0.36842105]\n [0.42105263 0.47368421 0.52631579 0.57894737]\n [0.63157895 0.68421053 0.73684211 0.78947368]\n [0.84210526 0.89473684 0.94736842 1.        ]]"
                    },
                    "execution_count": null
                }
            ]
        },
        {
            "id": "69f7e1b0",
            "cell_type": "code",
            "metadata": {},
            "execution_count": null,
            "source": "f.close()",
            "outputs": []
        },
        {
            "id": "bd0a3c51",
            "cell_type": "markdown",
            "source": "Or, in Fortran\n```\n\ninteger :: a(5), i\ndouble precision :: b(5,4)\nopen(1, file='test.unf', form='unformatted')\nread(1) a\nread(1) b\nclose(1)\nwrite(*,*) a\ndo i = 1, 5\nwrite(*,*) b(i,:)\nend do\n```",
            "metadata": {}
        }
    ]
}