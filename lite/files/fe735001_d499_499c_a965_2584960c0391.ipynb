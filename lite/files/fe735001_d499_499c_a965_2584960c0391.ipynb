{
    "nbformat": 4,
    "nbformat_minor": 5,
    "metadata": {
        "kernelspec": {
            "display_name": "Python",
            "language": "python",
            "name": "python"
        },
        "language_info": {
            "name": "python"
        }
    },
    "cells": [
        {
            "id": "f10ad34d",
            "cell_type": "markdown",
            "source": "<div class='alert alert-warning'>\n\nSciPy's interactive examples with Jupyterlite are experimental and may not always work as expected. Execution of cells containing imports may result in large downloads (up to 60MB of content for the first import from SciPy). Load times when importing from SciPy may take roughly 10-20 seconds. If you notice any problems, feel free to open an [issue](https://github.com/scipy/scipy/issues/new/choose).\n\n</div>",
            "metadata": {}
        },
        {
            "id": "1304c386",
            "cell_type": "code",
            "metadata": {},
            "execution_count": null,
            "source": "import scipy.fft\nimport numpy as np\nscipy.fft.ifft([0, 4, 0, 0])",
            "outputs": [
                {
                    "output_type": "execute_result",
                    "metadata": {},
                    "data": {
                        "text/plain": "array([ 1.+0.j,  0.+1.j, -1.+0.j,  0.-1.j]) # may vary"
                    },
                    "execution_count": null
                }
            ]
        },
        {
            "id": "a4bab3ed",
            "cell_type": "markdown",
            "source": "Create and plot a band-limited signal with random phases:\n",
            "metadata": {}
        },
        {
            "id": "9ef30de9",
            "cell_type": "code",
            "metadata": {},
            "execution_count": null,
            "source": "import matplotlib.pyplot as plt\nrng = np.random.default_rng()\nt = np.arange(400)\nn = np.zeros((400,), dtype=complex)\nn[40:60] = np.exp(1j*rng.uniform(0, 2*np.pi, (20,)))\ns = scipy.fft.ifft(n)\nplt.plot(t, s.real, 'b-', t, s.imag, 'r--')",
            "outputs": [
                {
                    "output_type": "execute_result",
                    "metadata": {},
                    "data": {
                        "text/plain": "[<matplotlib.lines.Line2D object at ...>, <matplotlib.lines.Line2D object at ...>]"
                    },
                    "execution_count": null
                }
            ]
        },
        {
            "id": "43c02512",
            "cell_type": "code",
            "metadata": {},
            "execution_count": null,
            "source": "plt.legend(('real', 'imaginary'))",
            "outputs": [
                {
                    "output_type": "execute_result",
                    "metadata": {},
                    "data": {
                        "text/plain": "<matplotlib.legend.Legend object at ...>"
                    },
                    "execution_count": null
                }
            ]
        },
        {
            "id": "eb55cdd7",
            "cell_type": "code",
            "metadata": {},
            "execution_count": null,
            "source": "plt.show()",
            "outputs": []
        }
    ]
}