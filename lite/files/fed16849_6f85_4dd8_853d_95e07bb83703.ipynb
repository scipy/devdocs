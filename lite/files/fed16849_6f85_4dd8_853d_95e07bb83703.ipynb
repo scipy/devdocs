{
    "nbformat": 4,
    "nbformat_minor": 5,
    "metadata": {
        "kernelspec": {
            "display_name": "Python",
            "language": "python",
            "name": "python"
        },
        "language_info": {
            "name": "python"
        }
    },
    "cells": [
        {
            "id": "63f7c979",
            "cell_type": "markdown",
            "source": "<div class='alert alert-warning'>\n\nSciPy's interactive examples with Jupyterlite are experimental and may not always work as expected. Execution of cells containing imports may result in large downloads (up to 60MB of content for the first import from SciPy). Load times when importing from SciPy may take roughly 10-20 seconds. If you notice any problems, feel free to open an [issue](https://github.com/scipy/scipy/issues/new/choose).\n\n</div>",
            "metadata": {}
        },
        {
            "id": "04b0d5c7",
            "cell_type": "markdown",
            "source": "We can filter a signal to reduce and smooth out high-frequency noise with\na cubic spline:\n",
            "metadata": {}
        },
        {
            "id": "33737472",
            "cell_type": "code",
            "metadata": {},
            "execution_count": null,
            "source": "import numpy as np\nimport matplotlib.pyplot as plt\nfrom scipy.signal import cspline1d, cspline1d_eval\nrng = np.random.default_rng()\nsig = np.repeat([0., 1., 0.], 100)\nsig += rng.standard_normal(len(sig))*0.05  # add noise\ntime = np.linspace(0, len(sig))\nfiltered = cspline1d_eval(cspline1d(sig), time)\nplt.plot(sig, label=\"signal\")\nplt.plot(time, filtered, label=\"filtered\")\nplt.legend()\nplt.show()",
            "outputs": []
        }
    ]
}