{
    "nbformat": 4,
    "nbformat_minor": 5,
    "metadata": {
        "kernelspec": {
            "display_name": "Python",
            "language": "python",
            "name": "python"
        },
        "language_info": {
            "name": "python"
        }
    },
    "cells": [
        {
            "id": "455d429d",
            "cell_type": "markdown",
            "source": "<div class='alert alert-warning'>\n\nSciPy's interactive examples with Jupyterlite are experimental and may not always work as expected. Execution of cells containing imports may result in large downloads (up to 60MB of content for the first import from SciPy). Load times when importing from SciPy may take roughly 10-20 seconds. If you notice any problems, feel free to open an [issue](https://github.com/scipy/scipy/issues/new/choose).\n\n</div>",
            "metadata": {}
        },
        {
            "id": "6119b683",
            "cell_type": "code",
            "metadata": {},
            "execution_count": null,
            "source": "import numpy as np\nfrom scipy import signal\nx = np.arange(25).reshape(5, 5)\nx",
            "outputs": [
                {
                    "output_type": "execute_result",
                    "metadata": {},
                    "data": {
                        "text/plain": "array([[ 0,  1,  2,  3,  4],\n       [ 5,  6,  7,  8,  9],\n       [10, 11, 12, 13, 14],\n       [15, 16, 17, 18, 19],\n       [20, 21, 22, 23, 24]])"
                    },
                    "execution_count": null
                }
            ]
        },
        {
            "id": "c2233249",
            "cell_type": "markdown",
            "source": "# Replaces i,j with the median out of 5*5 window\n",
            "metadata": {}
        },
        {
            "id": "b3b25cff",
            "cell_type": "code",
            "metadata": {},
            "execution_count": null,
            "source": "signal.medfilt2d(x, kernel_size=5)",
            "outputs": [
                {
                    "output_type": "execute_result",
                    "metadata": {},
                    "data": {
                        "text/plain": "array([[ 0,  0,  2,  0,  0],\n       [ 0,  3,  7,  4,  0],\n       [ 2,  8, 12,  9,  4],\n       [ 0,  8, 12,  9,  0],\n       [ 0,  0, 12,  0,  0]])"
                    },
                    "execution_count": null
                }
            ]
        },
        {
            "id": "63563845",
            "cell_type": "markdown",
            "source": "# Replaces i,j with the median out of default 3*3 window\n",
            "metadata": {}
        },
        {
            "id": "ef01d90f",
            "cell_type": "code",
            "metadata": {},
            "execution_count": null,
            "source": "signal.medfilt2d(x)",
            "outputs": [
                {
                    "output_type": "execute_result",
                    "metadata": {},
                    "data": {
                        "text/plain": "array([[ 0,  1,  2,  3,  0],\n       [ 1,  6,  7,  8,  4],\n       [ 6, 11, 12, 13,  9],\n       [11, 16, 17, 18, 14],\n       [ 0, 16, 17, 18,  0]])"
                    },
                    "execution_count": null
                }
            ]
        },
        {
            "id": "bcc1720d",
            "cell_type": "markdown",
            "source": "# Replaces i,j with the median out of default 5*3 window\n",
            "metadata": {}
        },
        {
            "id": "3299b8dd",
            "cell_type": "code",
            "metadata": {},
            "execution_count": null,
            "source": "signal.medfilt2d(x, kernel_size=[5,3])",
            "outputs": [
                {
                    "output_type": "execute_result",
                    "metadata": {},
                    "data": {
                        "text/plain": "array([[ 0,  1,  2,  3,  0],\n       [ 0,  6,  7,  8,  3],\n       [ 5, 11, 12, 13,  8],\n       [ 5, 11, 12, 13,  8],\n       [ 0, 11, 12, 13,  0]])"
                    },
                    "execution_count": null
                }
            ]
        },
        {
            "id": "bf0a2514",
            "cell_type": "markdown",
            "source": "# Replaces i,j with the median out of default 3*5 window\n",
            "metadata": {}
        },
        {
            "id": "f1c950a6",
            "cell_type": "code",
            "metadata": {},
            "execution_count": null,
            "source": "signal.medfilt2d(x, kernel_size=[3,5])",
            "outputs": [
                {
                    "output_type": "execute_result",
                    "metadata": {},
                    "data": {
                        "text/plain": "array([[ 0,  0,  2,  1,  0],\n       [ 1,  5,  7,  6,  3],\n       [ 6, 10, 12, 11,  8],\n       [11, 15, 17, 16, 13],\n       [ 0, 15, 17, 16,  0]])"
                    },
                    "execution_count": null
                }
            ]
        },
        {
            "id": "ed0dbab9",
            "cell_type": "markdown",
            "source": "# As seen in the examples,\n# kernel numbers must be odd and not exceed original array dim",
            "metadata": {}
        }
    ]
}