{
    "nbformat": 4,
    "nbformat_minor": 5,
    "metadata": {
        "kernelspec": {
            "display_name": "Python",
            "language": "python",
            "name": "python"
        },
        "language_info": {
            "name": "python"
        }
    },
    "cells": [
        {
            "id": "f919da38",
            "cell_type": "markdown",
            "source": "<div class='alert alert-warning'>\n\nSciPy's interactive examples with Jupyterlite are experimental and may not always work as expected. Execution of cells containing imports may result in large downloads (up to 60MB of content for the first import from SciPy). Load times when importing from SciPy may take roughly 10-20 seconds. If you notice any problems, feel free to open an [issue](https://github.com/scipy/scipy/issues/new/choose).\n\n</div>",
            "metadata": {}
        },
        {
            "id": "882aab85",
            "cell_type": "code",
            "metadata": {},
            "execution_count": null,
            "source": "import numpy as np\nfrom scipy.stats import truncpareto\nimport matplotlib.pyplot as plt\nfig, ax = plt.subplots(1, 1)",
            "outputs": []
        },
        {
            "id": "18b515f0",
            "cell_type": "markdown",
            "source": "Calculate the first four moments:\n",
            "metadata": {}
        },
        {
            "id": "04e01191",
            "cell_type": "code",
            "metadata": {},
            "execution_count": null,
            "source": "b, c = 2, 5\nmean, var, skew, kurt = truncpareto.stats(b, c, moments='mvsk')",
            "outputs": []
        },
        {
            "id": "8b176486",
            "cell_type": "markdown",
            "source": "Display the probability density function (``pdf``):\n",
            "metadata": {}
        },
        {
            "id": "1a737533",
            "cell_type": "code",
            "metadata": {},
            "execution_count": null,
            "source": "x = np.linspace(truncpareto.ppf(0.01, b, c),\n                truncpareto.ppf(0.99, b, c), 100)\nax.plot(x, truncpareto.pdf(x, b, c),\n       'r-', lw=5, alpha=0.6, label='truncpareto pdf')",
            "outputs": []
        },
        {
            "id": "add39b48",
            "cell_type": "markdown",
            "source": "Alternatively, the distribution object can be called (as a function)\nto fix the shape, location and scale parameters. This returns a \"frozen\"\nRV object holding the given parameters fixed.\n\nFreeze the distribution and display the frozen ``pdf``:\n",
            "metadata": {}
        },
        {
            "id": "b2c09dc0",
            "cell_type": "code",
            "metadata": {},
            "execution_count": null,
            "source": "rv = truncpareto(b, c)\nax.plot(x, rv.pdf(x), 'k-', lw=2, label='frozen pdf')",
            "outputs": []
        },
        {
            "id": "44ec0c95",
            "cell_type": "markdown",
            "source": "Check accuracy of ``cdf`` and ``ppf``:\n",
            "metadata": {}
        },
        {
            "id": "2a5a3d11",
            "cell_type": "code",
            "metadata": {},
            "execution_count": null,
            "source": "vals = truncpareto.ppf([0.001, 0.5, 0.999], b, c)\nnp.allclose([0.001, 0.5, 0.999], truncpareto.cdf(vals, b, c))",
            "outputs": [
                {
                    "output_type": "execute_result",
                    "metadata": {},
                    "data": {
                        "text/plain": "True"
                    },
                    "execution_count": null
                }
            ]
        },
        {
            "id": "80d76f12",
            "cell_type": "markdown",
            "source": "Generate random numbers:\n",
            "metadata": {}
        },
        {
            "id": "a51c8859",
            "cell_type": "code",
            "metadata": {},
            "execution_count": null,
            "source": "r = truncpareto.rvs(b, c, size=1000)",
            "outputs": []
        },
        {
            "id": "8646f46b",
            "cell_type": "markdown",
            "source": "And compare the histogram:\n",
            "metadata": {}
        },
        {
            "id": "796bb847",
            "cell_type": "code",
            "metadata": {},
            "execution_count": null,
            "source": "ax.hist(r, density=True, bins='auto', histtype='stepfilled', alpha=0.2)\nax.set_xlim([x[0], x[-1]])\nax.legend(loc='best', frameon=False)\nplt.show()",
            "outputs": []
        }
    ]
}