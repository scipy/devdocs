{
    "nbformat": 4,
    "nbformat_minor": 5,
    "metadata": {
        "kernelspec": {
            "display_name": "Python",
            "language": "python",
            "name": "python"
        },
        "language_info": {
            "name": "python"
        }
    },
    "cells": [
        {
            "id": "c6446321",
            "cell_type": "markdown",
            "source": "<div class='alert alert-warning'>\n\nSciPy's interactive examples with Jupyterlite are experimental and may not always work as expected. Execution of cells containing imports may result in large downloads (up to 60MB of content for the first import from SciPy). Load times when importing from SciPy may take roughly 10-20 seconds. If you notice any problems, feel free to open an [issue](https://github.com/scipy/scipy/issues/new/choose).\n\n</div>",
            "metadata": {}
        },
        {
            "id": "1a964d75",
            "cell_type": "code",
            "metadata": {},
            "execution_count": null,
            "source": "from scipy.interpolate import KroghInterpolator\nKroghInterpolator([0,0,0],[1,2,3]).derivatives(0)",
            "outputs": [
                {
                    "output_type": "execute_result",
                    "metadata": {},
                    "data": {
                        "text/plain": "array([1.0,2.0,3.0])"
                    },
                    "execution_count": null
                }
            ]
        },
        {
            "id": "e6a33a54",
            "cell_type": "code",
            "metadata": {},
            "execution_count": null,
            "source": "KroghInterpolator([0,0,0],[1,2,3]).derivatives([0,0])",
            "outputs": [
                {
                    "output_type": "execute_result",
                    "metadata": {},
                    "data": {
                        "text/plain": "array([[1.0,1.0],\n       [2.0,2.0],\n       [3.0,3.0]])"
                    },
                    "execution_count": null
                }
            ]
        }
    ]
}