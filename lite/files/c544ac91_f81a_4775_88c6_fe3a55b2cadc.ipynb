{
    "nbformat": 4,
    "nbformat_minor": 5,
    "metadata": {
        "kernelspec": {
            "display_name": "Python",
            "language": "python",
            "name": "python"
        },
        "language_info": {
            "name": "python"
        }
    },
    "cells": [
        {
            "id": "9ebd2568",
            "cell_type": "markdown",
            "source": "<div class='alert alert-warning'>\n\nSciPy's interactive examples with Jupyterlite are experimental and may not always work as expected. Execution of cells containing imports may result in large downloads (up to 60MB of content for the first import from SciPy). Load times when importing from SciPy may take roughly 10-20 seconds. If you notice any problems, feel free to open an [issue](https://github.com/scipy/scipy/issues/new/choose).\n\n</div>",
            "metadata": {}
        },
        {
            "id": "cc5919fc",
            "cell_type": "markdown",
            "source": "Create an image with some features, then label it using the default\n(cross-shaped) structuring element:\n",
            "metadata": {}
        },
        {
            "id": "da868b9e",
            "cell_type": "code",
            "metadata": {},
            "execution_count": null,
            "source": "from scipy.ndimage import label, generate_binary_structure\nimport numpy as np\na = np.array([[0,0,1,1,0,0],\n              [0,0,0,1,0,0],\n              [1,1,0,0,1,0],\n              [0,0,0,1,0,0]])\nlabeled_array, num_features = label(a)",
            "outputs": []
        },
        {
            "id": "2636674e",
            "cell_type": "markdown",
            "source": "Each of the 4 features are labeled with a different integer:\n",
            "metadata": {}
        },
        {
            "id": "d008fa68",
            "cell_type": "code",
            "metadata": {},
            "execution_count": null,
            "source": "num_features",
            "outputs": [
                {
                    "output_type": "execute_result",
                    "metadata": {},
                    "data": {
                        "text/plain": "4"
                    },
                    "execution_count": null
                }
            ]
        },
        {
            "id": "0c470b99",
            "cell_type": "code",
            "metadata": {},
            "execution_count": null,
            "source": "labeled_array",
            "outputs": [
                {
                    "output_type": "execute_result",
                    "metadata": {},
                    "data": {
                        "text/plain": "array([[0, 0, 1, 1, 0, 0],\n       [0, 0, 0, 1, 0, 0],\n       [2, 2, 0, 0, 3, 0],\n       [0, 0, 0, 4, 0, 0]], dtype=int32)"
                    },
                    "execution_count": null
                }
            ]
        },
        {
            "id": "ec615ace",
            "cell_type": "markdown",
            "source": "Generate a structuring element that will consider features connected even\nif they touch diagonally:\n",
            "metadata": {}
        },
        {
            "id": "96624efa",
            "cell_type": "code",
            "metadata": {},
            "execution_count": null,
            "source": "s = generate_binary_structure(2,2)",
            "outputs": []
        },
        {
            "id": "3582d98f",
            "cell_type": "markdown",
            "source": "or,\n",
            "metadata": {}
        },
        {
            "id": "ebafd52e",
            "cell_type": "code",
            "metadata": {},
            "execution_count": null,
            "source": "s = [[1,1,1],\n     [1,1,1],\n     [1,1,1]]",
            "outputs": []
        },
        {
            "id": "0ce30172",
            "cell_type": "markdown",
            "source": "Label the image using the new structuring element:\n",
            "metadata": {}
        },
        {
            "id": "80021fa4",
            "cell_type": "code",
            "metadata": {},
            "execution_count": null,
            "source": "labeled_array, num_features = label(a, structure=s)",
            "outputs": []
        },
        {
            "id": "074a0248",
            "cell_type": "markdown",
            "source": "Show the 2 labeled features (note that features 1, 3, and 4 from above are\nnow considered a single feature):\n",
            "metadata": {}
        },
        {
            "id": "8b3c61f8",
            "cell_type": "code",
            "metadata": {},
            "execution_count": null,
            "source": "num_features",
            "outputs": [
                {
                    "output_type": "execute_result",
                    "metadata": {},
                    "data": {
                        "text/plain": "2"
                    },
                    "execution_count": null
                }
            ]
        },
        {
            "id": "b43cd9c2",
            "cell_type": "code",
            "metadata": {},
            "execution_count": null,
            "source": "labeled_array",
            "outputs": [
                {
                    "output_type": "execute_result",
                    "metadata": {},
                    "data": {
                        "text/plain": "array([[0, 0, 1, 1, 0, 0],\n       [0, 0, 0, 1, 0, 0],\n       [2, 2, 0, 0, 1, 0],\n       [0, 0, 0, 1, 0, 0]], dtype=int32)"
                    },
                    "execution_count": null
                }
            ]
        }
    ]
}