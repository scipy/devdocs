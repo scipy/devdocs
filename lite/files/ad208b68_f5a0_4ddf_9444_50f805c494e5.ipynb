{
    "nbformat": 4,
    "nbformat_minor": 5,
    "metadata": {
        "kernelspec": {
            "display_name": "Python",
            "language": "python",
            "name": "python"
        },
        "language_info": {
            "name": "python"
        }
    },
    "cells": [
        {
            "id": "69f35712",
            "cell_type": "markdown",
            "source": "<div class='alert alert-warning'>\n\nSciPy's interactive examples with Jupyterlite are experimental and may not always work as expected. Execution of cells containing imports may result in large downloads (up to 60MB of content for the first import from SciPy). Load times when importing from SciPy may take roughly 10-20 seconds. If you notice any problems, feel free to open an [issue](https://github.com/scipy/scipy/issues/new/choose).\n\n</div>",
            "metadata": {}
        },
        {
            "id": "9edd87ef",
            "cell_type": "markdown",
            "source": "First evaluate `gdtr`.\n",
            "metadata": {}
        },
        {
            "id": "64e938a6",
            "cell_type": "code",
            "metadata": {},
            "execution_count": null,
            "source": "from scipy.special import gdtr, gdtria\np = gdtr(1.2, 3.4, 5.6)\nprint(p)",
            "outputs": [
                {
                    "output_type": "execute_result",
                    "metadata": {},
                    "data": {
                        "text/plain": "0.94378087442"
                    },
                    "execution_count": null
                }
            ]
        },
        {
            "id": "ad5934ec",
            "cell_type": "markdown",
            "source": "Verify the inverse.\n",
            "metadata": {}
        },
        {
            "id": "03f8daad",
            "cell_type": "code",
            "metadata": {},
            "execution_count": null,
            "source": "gdtria(p, 3.4, 5.6)",
            "outputs": [
                {
                    "output_type": "execute_result",
                    "metadata": {},
                    "data": {
                        "text/plain": "1.2"
                    },
                    "execution_count": null
                }
            ]
        }
    ]
}