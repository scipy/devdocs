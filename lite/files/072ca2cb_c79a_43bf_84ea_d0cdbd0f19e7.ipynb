{
    "nbformat": 4,
    "nbformat_minor": 5,
    "metadata": {
        "kernelspec": {
            "display_name": "Python",
            "language": "python",
            "name": "python"
        },
        "language_info": {
            "name": "python"
        }
    },
    "cells": [
        {
            "id": "8fcce604",
            "cell_type": "markdown",
            "source": "<div class='alert alert-warning'>\n\nSciPy's interactive examples with Jupyterlite are experimental and may not always work as expected. Execution of cells containing imports may result in large downloads (up to 60MB of content for the first import from SciPy). Load times when importing from SciPy may take roughly 10-20 seconds. If you notice any problems, feel free to open an [issue](https://github.com/scipy/scipy/issues/new/choose).\n\n</div>",
            "metadata": {}
        },
        {
            "id": "5f39de69",
            "cell_type": "markdown",
            "source": "Plot real component, imaginary component, and envelope for a 5 Hz pulse,\nsampled at 100 Hz for 2 seconds:\n",
            "metadata": {}
        },
        {
            "id": "f0c2eaf3",
            "cell_type": "code",
            "metadata": {},
            "execution_count": null,
            "source": "import numpy as np\nfrom scipy import signal\nimport matplotlib.pyplot as plt\nt = np.linspace(-1, 1, 2 * 100, endpoint=False)\ni, q, e = signal.gausspulse(t, fc=5, retquad=True, retenv=True)\nplt.plot(t, i, t, q, t, e, '--')",
            "outputs": []
        }
    ]
}