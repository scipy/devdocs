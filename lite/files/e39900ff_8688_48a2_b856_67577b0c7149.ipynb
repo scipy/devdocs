{
    "nbformat": 4,
    "nbformat_minor": 5,
    "metadata": {
        "kernelspec": {
            "display_name": "Python",
            "language": "python",
            "name": "python"
        },
        "language_info": {
            "name": "python"
        }
    },
    "cells": [
        {
            "id": "6d0216f1",
            "cell_type": "markdown",
            "source": "<div class='alert alert-warning'>\n\nSciPy's interactive examples with Jupyterlite are experimental and may not always work as expected. Execution of cells containing imports may result in large downloads (up to 60MB of content for the first import from SciPy). Load times when importing from SciPy may take roughly 10-20 seconds. If you notice any problems, feel free to open an [issue](https://github.com/scipy/scipy/issues/new/choose).\n\n</div>",
            "metadata": {}
        },
        {
            "id": "d3dad390",
            "cell_type": "code",
            "metadata": {},
            "execution_count": null,
            "source": "import numpy as np\nimport matplotlib.pyplot as plt\nfrom scipy.special import tklmbda, expit",
            "outputs": []
        },
        {
            "id": "01d6548a",
            "cell_type": "markdown",
            "source": "Compute the cumulative distribution function (CDF) of the Tukey lambda\ndistribution at several ``x`` values for `lmbda` = -1.5.\n",
            "metadata": {}
        },
        {
            "id": "46c975de",
            "cell_type": "code",
            "metadata": {},
            "execution_count": null,
            "source": "x = np.linspace(-2, 2, 9)\nx",
            "outputs": [
                {
                    "output_type": "execute_result",
                    "metadata": {},
                    "data": {
                        "text/plain": "array([-2. , -1.5, -1. , -0.5,  0. ,  0.5,  1. ,  1.5,  2. ])"
                    },
                    "execution_count": null
                }
            ]
        },
        {
            "id": "a7370aa2",
            "cell_type": "code",
            "metadata": {},
            "execution_count": null,
            "source": "tklmbda(x, -1.5)",
            "outputs": [
                {
                    "output_type": "execute_result",
                    "metadata": {},
                    "data": {
                        "text/plain": "array([0.34688734, 0.3786554 , 0.41528805, 0.45629737, 0.5       ,\n       0.54370263, 0.58471195, 0.6213446 , 0.65311266])"
                    },
                    "execution_count": null
                }
            ]
        },
        {
            "id": "048f16d1",
            "cell_type": "markdown",
            "source": "When `lmbda` is 0, the function is the logistic sigmoid function,\nwhich is implemented in `scipy.special` as `expit`.\n",
            "metadata": {}
        },
        {
            "id": "0ecd28d3",
            "cell_type": "code",
            "metadata": {},
            "execution_count": null,
            "source": "tklmbda(x, 0)",
            "outputs": [
                {
                    "output_type": "execute_result",
                    "metadata": {},
                    "data": {
                        "text/plain": "array([0.11920292, 0.18242552, 0.26894142, 0.37754067, 0.5       ,\n       0.62245933, 0.73105858, 0.81757448, 0.88079708])"
                    },
                    "execution_count": null
                }
            ]
        },
        {
            "id": "10fae303",
            "cell_type": "code",
            "metadata": {},
            "execution_count": null,
            "source": "expit(x)",
            "outputs": [
                {
                    "output_type": "execute_result",
                    "metadata": {},
                    "data": {
                        "text/plain": "array([0.11920292, 0.18242552, 0.26894142, 0.37754067, 0.5       ,\n       0.62245933, 0.73105858, 0.81757448, 0.88079708])"
                    },
                    "execution_count": null
                }
            ]
        },
        {
            "id": "8a9d4826",
            "cell_type": "markdown",
            "source": "When `lmbda` is 1, the Tukey lambda distribution is uniform on the\ninterval [-1, 1], so the CDF increases linearly.\n",
            "metadata": {}
        },
        {
            "id": "2269e88b",
            "cell_type": "code",
            "metadata": {},
            "execution_count": null,
            "source": "t = np.linspace(-1, 1, 9)\ntklmbda(t, 1)",
            "outputs": [
                {
                    "output_type": "execute_result",
                    "metadata": {},
                    "data": {
                        "text/plain": "array([0.   , 0.125, 0.25 , 0.375, 0.5  , 0.625, 0.75 , 0.875, 1.   ])"
                    },
                    "execution_count": null
                }
            ]
        },
        {
            "id": "804d6a84",
            "cell_type": "markdown",
            "source": "In the following, we generate plots for several values of `lmbda`.\n\nThe first figure shows graphs for `lmbda` <= 0.\n",
            "metadata": {}
        },
        {
            "id": "246dd1f0",
            "cell_type": "code",
            "metadata": {},
            "execution_count": null,
            "source": "styles = ['-', '-.', '--', ':']\nfig, ax = plt.subplots()\nx = np.linspace(-12, 12, 500)\nfor k, lmbda in enumerate([-1.0, -0.5, 0.0]):\n    y = tklmbda(x, lmbda)\n    ax.plot(x, y, styles[k], label=rf'$\\lambda$ = {lmbda:-4.1f}')",
            "outputs": []
        },
        {
            "id": "b25cdaa3",
            "cell_type": "code",
            "metadata": {},
            "execution_count": null,
            "source": "ax.set_title(r'tklmbda(x, $\\lambda$)')\nax.set_label('x')\nax.legend(framealpha=1, shadow=True)\nax.grid(True)",
            "outputs": []
        },
        {
            "id": "7b5f3c3b",
            "cell_type": "markdown",
            "source": "The second figure shows graphs for `lmbda` > 0.  The dots in the\ngraphs show the bounds of the support of the distribution.\n",
            "metadata": {}
        },
        {
            "id": "d68d9028",
            "cell_type": "code",
            "metadata": {},
            "execution_count": null,
            "source": "fig, ax = plt.subplots()\nx = np.linspace(-4.2, 4.2, 500)\nlmbdas = [0.25, 0.5, 1.0, 1.5]\nfor k, lmbda in enumerate(lmbdas):\n    y = tklmbda(x, lmbda)\n    ax.plot(x, y, styles[k], label=fr'$\\lambda$ = {lmbda}')",
            "outputs": []
        },
        {
            "id": "7713a69d",
            "cell_type": "code",
            "metadata": {},
            "execution_count": null,
            "source": "ax.set_prop_cycle(None)\nfor lmbda in lmbdas:\n    ax.plot([-1/lmbda, 1/lmbda], [0, 1], '.', ms=8)",
            "outputs": []
        },
        {
            "id": "9c9bde34",
            "cell_type": "code",
            "metadata": {},
            "execution_count": null,
            "source": "ax.set_title(r'tklmbda(x, $\\lambda$)')\nax.set_xlabel('x')\nax.legend(framealpha=1, shadow=True)\nax.grid(True)",
            "outputs": []
        },
        {
            "id": "3e5c5b76",
            "cell_type": "code",
            "metadata": {},
            "execution_count": null,
            "source": "plt.tight_layout()\nplt.show()",
            "outputs": []
        },
        {
            "id": "0ea97adc",
            "cell_type": "markdown",
            "source": "The CDF of the Tukey lambda distribution is also implemented as the\n``cdf`` method of `scipy.stats.tukeylambda`.  In the following,\n``tukeylambda.cdf(x, -0.5)`` and ``tklmbda(x, -0.5)`` compute the\nsame values:\n",
            "metadata": {}
        },
        {
            "id": "95d56a37",
            "cell_type": "code",
            "metadata": {},
            "execution_count": null,
            "source": "from scipy.stats import tukeylambda\nx = np.linspace(-2, 2, 9)",
            "outputs": []
        },
        {
            "id": "0252ee6f",
            "cell_type": "code",
            "metadata": {},
            "execution_count": null,
            "source": "tukeylambda.cdf(x, -0.5)",
            "outputs": [
                {
                    "output_type": "execute_result",
                    "metadata": {},
                    "data": {
                        "text/plain": "array([0.21995157, 0.27093858, 0.33541677, 0.41328161, 0.5       ,\n       0.58671839, 0.66458323, 0.72906142, 0.78004843])"
                    },
                    "execution_count": null
                }
            ]
        },
        {
            "id": "29c2efcf",
            "cell_type": "code",
            "metadata": {},
            "execution_count": null,
            "source": "tklmbda(x, -0.5)",
            "outputs": [
                {
                    "output_type": "execute_result",
                    "metadata": {},
                    "data": {
                        "text/plain": "array([0.21995157, 0.27093858, 0.33541677, 0.41328161, 0.5       ,\n       0.58671839, 0.66458323, 0.72906142, 0.78004843])"
                    },
                    "execution_count": null
                }
            ]
        },
        {
            "id": "baf7901e",
            "cell_type": "markdown",
            "source": "The implementation in ``tukeylambda`` also provides location and scale\nparameters, and other methods such as ``pdf()`` (the probability\ndensity function) and ``ppf()`` (the inverse of the CDF), so for\nworking with the Tukey lambda distribution, ``tukeylambda`` is more\ngenerally useful.  The primary advantage of ``tklmbda`` is that it is\nsignificantly faster than ``tukeylambda.cdf``.\n",
            "metadata": {}
        }
    ]
}