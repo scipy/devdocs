{
    "nbformat": 4,
    "nbformat_minor": 5,
    "metadata": {
        "kernelspec": {
            "display_name": "Python",
            "language": "python",
            "name": "python"
        },
        "language_info": {
            "name": "python"
        }
    },
    "cells": [
        {
            "id": "c3cffc96",
            "cell_type": "markdown",
            "source": "<div class='alert alert-warning'>\n\nSciPy's interactive examples with Jupyterlite are experimental and may not always work as expected. Execution of cells containing imports may result in large downloads (up to 60MB of content for the first import from SciPy). Load times when importing from SciPy may take roughly 10-20 seconds. If you notice any problems, feel free to open an [issue](https://github.com/scipy/scipy/issues/new/choose).\n\n</div>",
            "metadata": {}
        },
        {
            "id": "48290387",
            "cell_type": "code",
            "metadata": {},
            "execution_count": null,
            "source": "import numpy as np\nfrom scipy.ndimage import geometric_transform\na = np.arange(12.).reshape((4, 3))\ndef shift_func(output_coords):\n    return (output_coords[0] - 0.5, output_coords[1] - 0.5)\n\ngeometric_transform(a, shift_func)",
            "outputs": [
                {
                    "output_type": "execute_result",
                    "metadata": {},
                    "data": {
                        "text/plain": "array([[ 0.   ,  0.   ,  0.   ],\n       [ 0.   ,  1.362,  2.738],\n       [ 0.   ,  4.812,  6.187],\n       [ 0.   ,  8.263,  9.637]])"
                    },
                    "execution_count": null
                }
            ]
        },
        {
            "id": "97295b13",
            "cell_type": "code",
            "metadata": {},
            "execution_count": null,
            "source": "b = [1, 2, 3, 4, 5]\ndef shift_func(output_coords):\n    return (output_coords[0] - 3,)\n\ngeometric_transform(b, shift_func, mode='constant')",
            "outputs": [
                {
                    "output_type": "execute_result",
                    "metadata": {},
                    "data": {
                        "text/plain": "array([0, 0, 0, 1, 2])"
                    },
                    "execution_count": null
                }
            ]
        },
        {
            "id": "6d1d97b0",
            "cell_type": "code",
            "metadata": {},
            "execution_count": null,
            "source": "geometric_transform(b, shift_func, mode='nearest')",
            "outputs": [
                {
                    "output_type": "execute_result",
                    "metadata": {},
                    "data": {
                        "text/plain": "array([1, 1, 1, 1, 2])"
                    },
                    "execution_count": null
                }
            ]
        },
        {
            "id": "6d75f186",
            "cell_type": "code",
            "metadata": {},
            "execution_count": null,
            "source": "geometric_transform(b, shift_func, mode='reflect')",
            "outputs": [
                {
                    "output_type": "execute_result",
                    "metadata": {},
                    "data": {
                        "text/plain": "array([3, 2, 1, 1, 2])"
                    },
                    "execution_count": null
                }
            ]
        },
        {
            "id": "5c32ec32",
            "cell_type": "code",
            "metadata": {},
            "execution_count": null,
            "source": "geometric_transform(b, shift_func, mode='wrap')",
            "outputs": [
                {
                    "output_type": "execute_result",
                    "metadata": {},
                    "data": {
                        "text/plain": "array([2, 3, 4, 1, 2])"
                    },
                    "execution_count": null
                }
            ]
        }
    ]
}