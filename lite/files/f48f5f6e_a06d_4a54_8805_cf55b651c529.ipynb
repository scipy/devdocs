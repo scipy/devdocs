{
    "nbformat": 4,
    "nbformat_minor": 5,
    "metadata": {
        "kernelspec": {
            "display_name": "Python",
            "language": "python",
            "name": "python"
        },
        "language_info": {
            "name": "python"
        }
    },
    "cells": [
        {
            "id": "f6a207d4",
            "cell_type": "markdown",
            "source": "<div class='alert alert-warning'>\n\nSciPy's interactive examples with Jupyterlite are experimental and may not always work as expected. Execution of cells containing imports may result in large downloads (up to 60MB of content for the first import from SciPy). Load times when importing from SciPy may take roughly 10-20 seconds. If you notice any problems, feel free to open an [issue](https://github.com/scipy/scipy/issues/new/choose).\n\n</div>",
            "metadata": {}
        },
        {
            "id": "86829ba4",
            "cell_type": "code",
            "metadata": {},
            "execution_count": null,
            "source": "import numpy as np\nfrom scipy.stats import random_correlation\nrng = np.random.default_rng()\nx = random_correlation.rvs((.5, .8, 1.2, 1.5), random_state=rng)\nx",
            "outputs": [
                {
                    "output_type": "execute_result",
                    "metadata": {},
                    "data": {
                        "text/plain": "array([[ 1.        , -0.02423399,  0.03130519,  0.4946965 ],\n       [-0.02423399,  1.        ,  0.20334736,  0.04039817],\n       [ 0.03130519,  0.20334736,  1.        ,  0.02694275],\n       [ 0.4946965 ,  0.04039817,  0.02694275,  1.        ]])"
                    },
                    "execution_count": null
                }
            ]
        },
        {
            "id": "6e5f68e9",
            "cell_type": "code",
            "metadata": {},
            "execution_count": null,
            "source": "import scipy.linalg\ne, v = scipy.linalg.eigh(x)\ne",
            "outputs": [
                {
                    "output_type": "execute_result",
                    "metadata": {},
                    "data": {
                        "text/plain": "array([ 0.5,  0.8,  1.2,  1.5])"
                    },
                    "execution_count": null
                }
            ]
        }
    ]
}