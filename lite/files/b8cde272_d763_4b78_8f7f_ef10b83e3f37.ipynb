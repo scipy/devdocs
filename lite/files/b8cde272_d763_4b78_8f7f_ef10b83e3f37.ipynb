{
    "nbformat": 4,
    "nbformat_minor": 5,
    "metadata": {
        "kernelspec": {
            "display_name": "Python",
            "language": "python",
            "name": "python"
        },
        "language_info": {
            "name": "python"
        }
    },
    "cells": [
        {
            "id": "8bd0614d",
            "cell_type": "markdown",
            "source": "<div class='alert alert-warning'>\n\nSciPy's interactive examples with Jupyterlite are experimental and may not always work as expected. Execution of cells containing imports may result in large downloads (up to 60MB of content for the first import from SciPy). Load times when importing from SciPy may take roughly 10-20 seconds. If you notice any problems, feel free to open an [issue](https://github.com/scipy/scipy/issues/new/choose).\n\n</div>",
            "metadata": {}
        },
        {
            "id": "fa9b45fd",
            "cell_type": "markdown",
            "source": "Use 2D cross-correlation to find the location of a template in a noisy\nimage:\n",
            "metadata": {}
        },
        {
            "id": "f9ace5d9",
            "cell_type": "code",
            "metadata": {},
            "execution_count": null,
            "source": "import numpy as np\nfrom scipy import signal, datasets, ndimage\nrng = np.random.default_rng()\nface = datasets.face(gray=True) - datasets.face(gray=True).mean()\nface = ndimage.zoom(face[30:500, 400:950], 0.5)  # extract the face\ntemplate = np.copy(face[135:165, 140:175])  # right eye\ntemplate -= template.mean()\nface = face + rng.standard_normal(face.shape) * 50  # add noise\ncorr = signal.correlate2d(face, template, boundary='symm', mode='same')\ny, x = np.unravel_index(np.argmax(corr), corr.shape)  # find the match",
            "outputs": []
        },
        {
            "id": "fb572197",
            "cell_type": "code",
            "metadata": {},
            "execution_count": null,
            "source": "import matplotlib.pyplot as plt\nfig, (ax_orig, ax_template, ax_corr) = plt.subplots(3, 1,\n                                                    figsize=(6, 15))\nax_orig.imshow(face, cmap='gray')\nax_orig.set_title('Original')\nax_orig.set_axis_off()\nax_template.imshow(template, cmap='gray')\nax_template.set_title('Template')\nax_template.set_axis_off()\nax_corr.imshow(corr, cmap='gray')\nax_corr.set_title('Cross-correlation')\nax_corr.set_axis_off()\nax_orig.plot(x, y, 'ro')\nfig.show()",
            "outputs": []
        }
    ]
}