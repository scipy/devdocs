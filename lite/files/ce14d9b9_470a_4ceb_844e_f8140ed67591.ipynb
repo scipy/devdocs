{
    "nbformat": 4,
    "nbformat_minor": 5,
    "metadata": {
        "kernelspec": {
            "display_name": "Python",
            "language": "python",
            "name": "python"
        },
        "language_info": {
            "name": "python"
        }
    },
    "cells": [
        {
            "id": "cc2e78a0",
            "cell_type": "markdown",
            "source": "<div class='alert alert-warning'>\n\nSciPy's interactive examples with Jupyterlite are experimental and may not always work as expected. Execution of cells containing imports may result in large downloads (up to 60MB of content for the first import from SciPy). Load times when importing from SciPy may take roughly 10-20 seconds. If you notice any problems, feel free to open an [issue](https://github.com/scipy/scipy/issues/new/choose).\n\n</div>",
            "metadata": {}
        },
        {
            "id": "f540a93b",
            "cell_type": "markdown",
            "source": "Calculate the function at one point:\n",
            "metadata": {}
        },
        {
            "id": "3c1ea2cc",
            "cell_type": "code",
            "metadata": {},
            "execution_count": null,
            "source": "from scipy.special import i0\ni0(1.)",
            "outputs": [
                {
                    "output_type": "execute_result",
                    "metadata": {},
                    "data": {
                        "text/plain": "1.2660658777520082"
                    },
                    "execution_count": null
                }
            ]
        },
        {
            "id": "d7172508",
            "cell_type": "markdown",
            "source": "Calculate at several points:\n",
            "metadata": {}
        },
        {
            "id": "46dc6546",
            "cell_type": "code",
            "metadata": {},
            "execution_count": null,
            "source": "import numpy as np\ni0(np.array([-2., 0., 3.5]))",
            "outputs": [
                {
                    "output_type": "execute_result",
                    "metadata": {},
                    "data": {
                        "text/plain": "array([2.2795853 , 1.        , 7.37820343])"
                    },
                    "execution_count": null
                }
            ]
        },
        {
            "id": "02099e81",
            "cell_type": "markdown",
            "source": "Plot the function from -10 to 10.\n",
            "metadata": {}
        },
        {
            "id": "c00f6c98",
            "cell_type": "code",
            "metadata": {},
            "execution_count": null,
            "source": "import matplotlib.pyplot as plt\nfig, ax = plt.subplots()\nx = np.linspace(-10., 10., 1000)\ny = i0(x)\nax.plot(x, y)\nplt.show()",
            "outputs": []
        }
    ]
}