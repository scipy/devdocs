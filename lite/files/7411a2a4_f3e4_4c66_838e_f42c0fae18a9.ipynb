{
    "nbformat": 4,
    "nbformat_minor": 5,
    "metadata": {
        "kernelspec": {
            "display_name": "Python",
            "language": "python",
            "name": "python"
        },
        "language_info": {
            "name": "python"
        }
    },
    "cells": [
        {
            "id": "9e0be9d7",
            "cell_type": "markdown",
            "source": "<div class='alert alert-warning'>\n\nSciPy's interactive examples with Jupyterlite are experimental and may not always work as expected. Execution of cells containing imports may result in large downloads (up to 60MB of content for the first import from SciPy). Load times when importing from SciPy may take roughly 10-20 seconds. If you notice any problems, feel free to open an [issue](https://github.com/scipy/scipy/issues/new/choose).\n\n</div>",
            "metadata": {}
        },
        {
            "id": "29420040",
            "cell_type": "code",
            "metadata": {},
            "execution_count": null,
            "source": "from scipy import ndimage, datasets\nimport matplotlib.pyplot as plt",
            "outputs": []
        },
        {
            "id": "b4eab86c",
            "cell_type": "code",
            "metadata": {},
            "execution_count": null,
            "source": "fig = plt.figure()\nax1 = fig.add_subplot(121)  # left side\nax2 = fig.add_subplot(122)  # right side\nascent = datasets.ascent()\nresult = ndimage.zoom(ascent, 3.0)\nax1.imshow(ascent, vmin=0, vmax=255)\nax2.imshow(result, vmin=0, vmax=255)\nplt.show()",
            "outputs": []
        },
        {
            "id": "afc05e58",
            "cell_type": "code",
            "metadata": {},
            "execution_count": null,
            "source": "print(ascent.shape)",
            "outputs": [
                {
                    "output_type": "execute_result",
                    "metadata": {},
                    "data": {
                        "text/plain": "(512, 512)"
                    },
                    "execution_count": null
                }
            ]
        },
        {
            "id": "c5d25387",
            "cell_type": "code",
            "metadata": {},
            "execution_count": null,
            "source": "print(result.shape)",
            "outputs": [
                {
                    "output_type": "execute_result",
                    "metadata": {},
                    "data": {
                        "text/plain": "(1536, 1536)"
                    },
                    "execution_count": null
                }
            ]
        }
    ]
}