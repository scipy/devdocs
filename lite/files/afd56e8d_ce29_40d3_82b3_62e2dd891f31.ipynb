{
    "nbformat": 4,
    "nbformat_minor": 5,
    "metadata": {
        "kernelspec": {
            "display_name": "Python",
            "language": "python",
            "name": "python"
        },
        "language_info": {
            "name": "python"
        }
    },
    "cells": [
        {
            "id": "e6ae4151",
            "cell_type": "markdown",
            "source": "<div class='alert alert-warning'>\n\nSciPy's interactive examples with Jupyterlite are experimental and may not always work as expected. Execution of cells containing imports may result in large downloads (up to 60MB of content for the first import from SciPy). Load times when importing from SciPy may take roughly 10-20 seconds. If you notice any problems, feel free to open an [issue](https://github.com/scipy/scipy/issues/new/choose).\n\n</div>",
            "metadata": {}
        },
        {
            "id": "c7756137",
            "cell_type": "markdown",
            "source": "The following instances ``SFT0`` and ``SFT1`` are equivalent:\n",
            "metadata": {}
        },
        {
            "id": "fc652cb8",
            "cell_type": "code",
            "metadata": {},
            "execution_count": null,
            "source": "from scipy.signal import ShortTimeFFT, get_window\nnperseg = 9  # window length\nw = get_window(('gaussian', 2.), nperseg)\nfs = 128  # sampling frequency\nhop = 3  # increment of STFT time slice\nSFT0 = ShortTimeFFT(w, hop, fs=fs)\nSFT1 = ShortTimeFFT.from_window(('gaussian', 2.), fs, nperseg,\n                                noverlap=nperseg-hop)",
            "outputs": []
        }
    ]
}