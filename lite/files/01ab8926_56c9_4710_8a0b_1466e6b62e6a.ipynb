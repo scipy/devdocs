{
    "nbformat": 4,
    "nbformat_minor": 5,
    "metadata": {
        "kernelspec": {
            "display_name": "Python",
            "language": "python",
            "name": "python"
        },
        "language_info": {
            "name": "python"
        }
    },
    "cells": [
        {
            "id": "cd592b0b",
            "cell_type": "markdown",
            "source": "<div class='alert alert-warning'>\n\nSciPy's interactive examples with Jupyterlite are experimental and may not always work as expected. Execution of cells containing imports may result in large downloads (up to 60MB of content for the first import from SciPy). Load times when importing from SciPy may take roughly 10-20 seconds. If you notice any problems, feel free to open an [issue](https://github.com/scipy/scipy/issues/new/choose).\n\n</div>",
            "metadata": {}
        },
        {
            "id": "c37e54e4",
            "cell_type": "markdown",
            "source": "Instantiate a distribution with the desired parameters:\n",
            "metadata": {}
        },
        {
            "id": "9c6c8caf",
            "cell_type": "code",
            "metadata": {},
            "execution_count": null,
            "source": "import numpy as np\nfrom scipy import stats\nX = stats.Uniform(a=0., b=1.)",
            "outputs": []
        },
        {
            "id": "c65354f5",
            "cell_type": "markdown",
            "source": "Generate a pseudorandom sample:\n",
            "metadata": {}
        },
        {
            "id": "9f361966",
            "cell_type": "code",
            "metadata": {},
            "execution_count": null,
            "source": "x = X.sample((1000, 1))\noctiles = (np.arange(8) + 1) / 8\nnp.count_nonzero(x <= octiles, axis=0)",
            "outputs": [
                {
                    "output_type": "execute_result",
                    "metadata": {},
                    "data": {
                        "text/plain": "array([ 148,  263,  387,  516,  636,  751,  865, 1000])  # may vary"
                    },
                    "execution_count": null
                }
            ]
        },
        {
            "id": "eb5344a6",
            "cell_type": "code",
            "metadata": {},
            "execution_count": null,
            "source": "X = stats.Uniform(a=np.zeros((3, 1)), b=np.ones(2))\nX.a.shape,",
            "outputs": [
                {
                    "output_type": "execute_result",
                    "metadata": {},
                    "data": {
                        "text/plain": "(3, 2)"
                    },
                    "execution_count": null
                }
            ]
        },
        {
            "id": "7a7c6e04",
            "cell_type": "code",
            "metadata": {},
            "execution_count": null,
            "source": "x = X.sample(shape=(5, 4))\nx.shape",
            "outputs": [
                {
                    "output_type": "execute_result",
                    "metadata": {},
                    "data": {
                        "text/plain": "(5, 4, 3, 2)"
                    },
                    "execution_count": null
                }
            ]
        }
    ]
}