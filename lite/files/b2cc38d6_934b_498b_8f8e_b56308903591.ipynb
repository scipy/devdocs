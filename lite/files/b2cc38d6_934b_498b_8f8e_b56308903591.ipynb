{
    "nbformat": 4,
    "nbformat_minor": 5,
    "metadata": {
        "kernelspec": {
            "display_name": "Python",
            "language": "python",
            "name": "python"
        },
        "language_info": {
            "name": "python"
        }
    },
    "cells": [
        {
            "id": "a2b558d5",
            "cell_type": "markdown",
            "source": "<div class='alert alert-warning'>\n\nSciPy's interactive examples with Jupyterlite are experimental and may not always work as expected. Execution of cells containing imports may result in large downloads (up to 60MB of content for the first import from SciPy). Load times when importing from SciPy may take roughly 10-20 seconds. If you notice any problems, feel free to open an [issue](https://github.com/scipy/scipy/issues/new/choose).\n\n</div>",
            "metadata": {}
        },
        {
            "id": "101bfd12",
            "cell_type": "code",
            "metadata": {},
            "execution_count": null,
            "source": "from scipy.ndimage import gaussian_filter1d\nimport numpy as np\ngaussian_filter1d([1.0, 2.0, 3.0, 4.0, 5.0], 1)",
            "outputs": [
                {
                    "output_type": "execute_result",
                    "metadata": {},
                    "data": {
                        "text/plain": "array([ 1.42704095,  2.06782203,  3.        ,  3.93217797,  4.57295905])"
                    },
                    "execution_count": null
                }
            ]
        },
        {
            "id": "f0a19c5b",
            "cell_type": "code",
            "metadata": {},
            "execution_count": null,
            "source": "gaussian_filter1d([1.0, 2.0, 3.0, 4.0, 5.0], 4)",
            "outputs": [
                {
                    "output_type": "execute_result",
                    "metadata": {},
                    "data": {
                        "text/plain": "array([ 2.91948343,  2.95023502,  3.        ,  3.04976498,  3.08051657])"
                    },
                    "execution_count": null
                }
            ]
        },
        {
            "id": "93eb545d",
            "cell_type": "code",
            "metadata": {},
            "execution_count": null,
            "source": "import matplotlib.pyplot as plt\nrng = np.random.default_rng()\nx = rng.standard_normal(101).cumsum()\ny3 = gaussian_filter1d(x, 3)\ny6 = gaussian_filter1d(x, 6)\nplt.plot(x, 'k', label='original data')\nplt.plot(y3, '--', label='filtered, sigma=3')\nplt.plot(y6, ':', label='filtered, sigma=6')\nplt.legend()\nplt.grid()\nplt.show()",
            "outputs": []
        }
    ]
}