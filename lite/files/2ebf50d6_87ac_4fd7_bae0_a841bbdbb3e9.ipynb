{
    "nbformat": 4,
    "nbformat_minor": 5,
    "metadata": {
        "kernelspec": {
            "display_name": "Python",
            "language": "python",
            "name": "python"
        },
        "language_info": {
            "name": "python"
        }
    },
    "cells": [
        {
            "id": "3dba7880",
            "cell_type": "markdown",
            "source": "<div class='alert alert-warning'>\n\nSciPy's interactive examples with Jupyterlite are experimental and may not always work as expected. Execution of cells containing imports may result in large downloads (up to 60MB of content for the first import from SciPy). Load times when importing from SciPy may take roughly 10-20 seconds. If you notice any problems, feel free to open an [issue](https://github.com/scipy/scipy/issues/new/choose).\n\n</div>",
            "metadata": {}
        },
        {
            "id": "ea40c0f7",
            "cell_type": "code",
            "metadata": {},
            "execution_count": null,
            "source": "import numpy as np\nimport scipy.stats as stats\nx1 = np.array([-7, -5, 1, 4, 5.])\nkde = stats.gaussian_kde(x1)\nxs = np.linspace(-10, 10, num=50)\ny1 = kde(xs)\nkde.set_bandwidth(bw_method='silverman')\ny2 = kde(xs)\nkde.set_bandwidth(bw_method=kde.factor / 3.)\ny3 = kde(xs)",
            "outputs": []
        },
        {
            "id": "2802d35f",
            "cell_type": "code",
            "metadata": {},
            "execution_count": null,
            "source": "import matplotlib.pyplot as plt\nfig, ax = plt.subplots()\nax.plot(x1, np.full(x1.shape, 1 / (4. * x1.size)), 'bo',\n        label='Data points (rescaled)')\nax.plot(xs, y1, label='Scott (default)')\nax.plot(xs, y2, label='Silverman')\nax.plot(xs, y3, label='Const (1/3 * Silverman)')\nax.legend()\nplt.show()",
            "outputs": []
        }
    ]
}