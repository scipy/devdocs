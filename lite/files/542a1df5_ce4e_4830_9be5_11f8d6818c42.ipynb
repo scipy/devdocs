{
    "nbformat": 4,
    "nbformat_minor": 5,
    "metadata": {
        "kernelspec": {
            "display_name": "Python",
            "language": "python",
            "name": "python"
        },
        "language_info": {
            "name": "python"
        }
    },
    "cells": [
        {
            "id": "38d83a22",
            "cell_type": "markdown",
            "source": "<div class='alert alert-warning'>\n\nSciPy's interactive examples with Jupyterlite are experimental and may not always work as expected. Execution of cells containing imports may result in large downloads (up to 60MB of content for the first import from SciPy). Load times when importing from SciPy may take roughly 10-20 seconds. If you notice any problems, feel free to open an [issue](https://github.com/scipy/scipy/issues/new/choose).\n\n</div>",
            "metadata": {}
        },
        {
            "id": "caec0eff",
            "cell_type": "code",
            "metadata": {},
            "execution_count": null,
            "source": "import numpy as np\nfrom scipy import stats\nrng = np.random.default_rng()\nx = rng.normal(0, 1, 100000)\njarque_bera_test = stats.jarque_bera(x)\njarque_bera_test",
            "outputs": [
                {
                    "output_type": "execute_result",
                    "metadata": {},
                    "data": {
                        "text/plain": "Jarque_beraResult(statistic=3.3415184718131554, pvalue=0.18810419594996775)"
                    },
                    "execution_count": null
                }
            ]
        },
        {
            "id": "7d30696c",
            "cell_type": "code",
            "metadata": {},
            "execution_count": null,
            "source": "jarque_bera_test.statistic",
            "outputs": [
                {
                    "output_type": "execute_result",
                    "metadata": {},
                    "data": {
                        "text/plain": "3.3415184718131554"
                    },
                    "execution_count": null
                }
            ]
        },
        {
            "id": "c84d4137",
            "cell_type": "code",
            "metadata": {},
            "execution_count": null,
            "source": "jarque_bera_test.pvalue",
            "outputs": [
                {
                    "output_type": "execute_result",
                    "metadata": {},
                    "data": {
                        "text/plain": "0.18810419594996775"
                    },
                    "execution_count": null
                }
            ]
        },
        {
            "id": "c373a585",
            "cell_type": "markdown",
            "source": "For a more detailed example, see :ref:`hypothesis_jarque_bera`.",
            "metadata": {}
        }
    ]
}