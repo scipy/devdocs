{
    "nbformat": 4,
    "nbformat_minor": 5,
    "metadata": {
        "kernelspec": {
            "display_name": "Python",
            "language": "python",
            "name": "python"
        },
        "language_info": {
            "name": "python"
        }
    },
    "cells": [
        {
            "id": "c60c4c45",
            "cell_type": "markdown",
            "source": "<div class='alert alert-warning'>\n\nSciPy's interactive examples with Jupyterlite are experimental and may not always work as expected. Execution of cells containing imports may result in large downloads (up to 60MB of content for the first import from SciPy). Load times when importing from SciPy may take roughly 10-20 seconds. If you notice any problems, feel free to open an [issue](https://github.com/scipy/scipy/issues/new/choose).\n\n</div>",
            "metadata": {}
        },
        {
            "id": "3acfaf92",
            "cell_type": "code",
            "metadata": {},
            "execution_count": null,
            "source": "import numpy as np\nfrom scipy.stats import uniform_direction\nx = uniform_direction.rvs(3)\nnp.linalg.norm(x)",
            "outputs": [
                {
                    "output_type": "execute_result",
                    "metadata": {},
                    "data": {
                        "text/plain": "1."
                    },
                    "execution_count": null
                }
            ]
        },
        {
            "id": "a8b2a670",
            "cell_type": "markdown",
            "source": "This generates one random direction, a vector on the surface of\n$S^2$.\n\nAlternatively, the object may be called (as a function) to return a frozen\ndistribution with fixed `dim` parameter. Here,\nwe create a `uniform_direction` with ``dim=3`` and draw 5 observations.\nThe samples are then arranged in an array of shape 5x3.\n",
            "metadata": {}
        },
        {
            "id": "56b09341",
            "cell_type": "code",
            "metadata": {},
            "execution_count": null,
            "source": "rng = np.random.default_rng()\nuniform_sphere_dist = uniform_direction(3)\nunit_vectors = uniform_sphere_dist.rvs(5, random_state=rng)\nunit_vectors",
            "outputs": [
                {
                    "output_type": "execute_result",
                    "metadata": {},
                    "data": {
                        "text/plain": "array([[ 0.56688642, -0.1332634 , -0.81294566],\n       [-0.427126  , -0.74779278,  0.50830044],\n       [ 0.3793989 ,  0.92346629,  0.05715323],\n       [ 0.36428383, -0.92449076, -0.11231259],\n       [-0.27733285,  0.94410968, -0.17816678]])"
                    },
                    "execution_count": null
                }
            ]
        }
    ]
}