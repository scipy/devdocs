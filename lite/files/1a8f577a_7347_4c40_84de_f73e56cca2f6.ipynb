{
    "nbformat": 4,
    "nbformat_minor": 5,
    "metadata": {
        "kernelspec": {
            "display_name": "Python",
            "language": "python",
            "name": "python"
        },
        "language_info": {
            "name": "python"
        }
    },
    "cells": [
        {
            "id": "94de11a3",
            "cell_type": "markdown",
            "source": "<div class='alert alert-warning'>\n\nSciPy's interactive examples with Jupyterlite are experimental and may not always work as expected. Execution of cells containing imports may result in large downloads (up to 60MB of content for the first import from SciPy). Load times when importing from SciPy may take roughly 10-20 seconds. If you notice any problems, feel free to open an [issue](https://github.com/scipy/scipy/issues/new/choose).\n\n</div>",
            "metadata": {}
        },
        {
            "id": "6effde2f",
            "cell_type": "markdown",
            "source": "Construct the linear spline ``x if x < 1 else 2 - x`` on the base\ninterval $[0, 2]$, and integrate it\n",
            "metadata": {}
        },
        {
            "id": "0c85660a",
            "cell_type": "code",
            "metadata": {},
            "execution_count": null,
            "source": "from scipy.interpolate import BSpline\nb = BSpline.basis_element([0, 1, 2])\nb.integrate(0, 1)",
            "outputs": [
                {
                    "output_type": "execute_result",
                    "metadata": {},
                    "data": {
                        "text/plain": "array(0.5)"
                    },
                    "execution_count": null
                }
            ]
        },
        {
            "id": "e6bc2852",
            "cell_type": "markdown",
            "source": "If the integration limits are outside of the base interval, the result\nis controlled by the `extrapolate` parameter\n",
            "metadata": {}
        },
        {
            "id": "2bb9b4c6",
            "cell_type": "code",
            "metadata": {},
            "execution_count": null,
            "source": "b.integrate(-1, 1)",
            "outputs": [
                {
                    "output_type": "execute_result",
                    "metadata": {},
                    "data": {
                        "text/plain": "array(0.0)"
                    },
                    "execution_count": null
                }
            ]
        },
        {
            "id": "0ddd0b4d",
            "cell_type": "code",
            "metadata": {},
            "execution_count": null,
            "source": "b.integrate(-1, 1, extrapolate=False)",
            "outputs": [
                {
                    "output_type": "execute_result",
                    "metadata": {},
                    "data": {
                        "text/plain": "array(0.5)"
                    },
                    "execution_count": null
                }
            ]
        },
        {
            "id": "65313d6f",
            "cell_type": "code",
            "metadata": {},
            "execution_count": null,
            "source": "import matplotlib.pyplot as plt\nfig, ax = plt.subplots()\nax.grid(True)\nax.axvline(0, c='r', lw=5, alpha=0.5)  # base interval\nax.axvline(2, c='r', lw=5, alpha=0.5)\nxx = [-1, 1, 2]\nax.plot(xx, b(xx))\nplt.show()",
            "outputs": []
        }
    ]
}