{
    "nbformat": 4,
    "nbformat_minor": 5,
    "metadata": {
        "kernelspec": {
            "display_name": "Python",
            "language": "python",
            "name": "python"
        },
        "language_info": {
            "name": "python"
        }
    },
    "cells": [
        {
            "id": "090d2889",
            "cell_type": "markdown",
            "source": "<div class='alert alert-warning'>\n\nSciPy's interactive examples with Jupyterlite are experimental and may not always work as expected. Execution of cells containing imports may result in large downloads (up to 60MB of content for the first import from SciPy). Load times when importing from SciPy may take roughly 10-20 seconds. If you notice any problems, feel free to open an [issue](https://github.com/scipy/scipy/issues/new/choose).\n\n</div>",
            "metadata": {}
        },
        {
            "id": "9180f449",
            "cell_type": "code",
            "metadata": {},
            "execution_count": null,
            "source": "from scipy import signal\nvals = [0, 1.3, 1.31, 2.8, 1.25, 2.2, 10.3]\nuniq, mult = signal.unique_roots(vals, tol=2e-2, rtype='avg')",
            "outputs": []
        },
        {
            "id": "33a6a325",
            "cell_type": "markdown",
            "source": "Check which roots have multiplicity larger than 1:\n",
            "metadata": {}
        },
        {
            "id": "3e62de53",
            "cell_type": "code",
            "metadata": {},
            "execution_count": null,
            "source": "uniq[mult > 1]",
            "outputs": [
                {
                    "output_type": "execute_result",
                    "metadata": {},
                    "data": {
                        "text/plain": "array([ 1.305])"
                    },
                    "execution_count": null
                }
            ]
        }
    ]
}