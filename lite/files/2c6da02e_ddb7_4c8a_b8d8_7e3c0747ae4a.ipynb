{
    "nbformat": 4,
    "nbformat_minor": 5,
    "metadata": {
        "kernelspec": {
            "display_name": "Python",
            "language": "python",
            "name": "python"
        },
        "language_info": {
            "name": "python"
        }
    },
    "cells": [
        {
            "id": "142337ee",
            "cell_type": "markdown",
            "source": "<div class='alert alert-warning'>\n\nSciPy's interactive examples with Jupyterlite are experimental and may not always work as expected. Execution of cells containing imports may result in large downloads (up to 60MB of content for the first import from SciPy). Load times when importing from SciPy may take roughly 10-20 seconds. If you notice any problems, feel free to open an [issue](https://github.com/scipy/scipy/issues/new/choose).\n\n</div>",
            "metadata": {}
        },
        {
            "id": "43eda538",
            "cell_type": "code",
            "metadata": {},
            "execution_count": null,
            "source": "import numpy as np\nfrom scipy.interpolate import pade\ne_exp = [1.0, 1.0, 1.0/2.0, 1.0/6.0, 1.0/24.0, 1.0/120.0]\np, q = pade(e_exp, 2)",
            "outputs": []
        },
        {
            "id": "4026293b",
            "cell_type": "code",
            "metadata": {},
            "execution_count": null,
            "source": "e_exp.reverse()\ne_poly = np.poly1d(e_exp)",
            "outputs": []
        },
        {
            "id": "84f815fd",
            "cell_type": "markdown",
            "source": "Compare ``e_poly(x)`` and the Pade approximation ``p(x)/q(x)``\n",
            "metadata": {}
        },
        {
            "id": "c3c8cd6b",
            "cell_type": "code",
            "metadata": {},
            "execution_count": null,
            "source": "e_poly(1)",
            "outputs": [
                {
                    "output_type": "execute_result",
                    "metadata": {},
                    "data": {
                        "text/plain": "2.7166666666666668"
                    },
                    "execution_count": null
                }
            ]
        },
        {
            "id": "4f3c0141",
            "cell_type": "code",
            "metadata": {},
            "execution_count": null,
            "source": "p(1)/q(1)",
            "outputs": [
                {
                    "output_type": "execute_result",
                    "metadata": {},
                    "data": {
                        "text/plain": "2.7179487179487181"
                    },
                    "execution_count": null
                }
            ]
        }
    ]
}