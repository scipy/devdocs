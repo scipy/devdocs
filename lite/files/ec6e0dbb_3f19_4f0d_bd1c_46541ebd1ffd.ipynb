{
    "nbformat": 4,
    "nbformat_minor": 5,
    "metadata": {
        "kernelspec": {
            "display_name": "Python",
            "language": "python",
            "name": "python"
        },
        "language_info": {
            "name": "python"
        }
    },
    "cells": [
        {
            "id": "a71dc851",
            "cell_type": "markdown",
            "source": "<div class='alert alert-warning'>\n\nSciPy's interactive examples with Jupyterlite are experimental and may not always work as expected. Execution of cells containing imports may result in large downloads (up to 60MB of content for the first import from SciPy). Load times when importing from SciPy may take roughly 10-20 seconds. If you notice any problems, feel free to open an [issue](https://github.com/scipy/scipy/issues/new/choose).\n\n</div>",
            "metadata": {}
        },
        {
            "id": "e956db96",
            "cell_type": "markdown",
            "source": "The Type 1 DCT is equivalent to the DFT for real, even-symmetrical\ninputs. The output is also real and even-symmetrical. Half of the IFFT\ninput is used to generate half of the IFFT output:\n",
            "metadata": {}
        },
        {
            "id": "78863477",
            "cell_type": "code",
            "metadata": {},
            "execution_count": null,
            "source": "from scipy.fft import ifft, idct\nimport numpy as np\nifft(np.array([ 30.,  -8.,   6.,  -2.,   6.,  -8.])).real",
            "outputs": [
                {
                    "output_type": "execute_result",
                    "metadata": {},
                    "data": {
                        "text/plain": "array([  4.,   3.,   5.,  10.,   5.,   3.])"
                    },
                    "execution_count": null
                }
            ]
        },
        {
            "id": "023b5435",
            "cell_type": "code",
            "metadata": {},
            "execution_count": null,
            "source": "idct(np.array([ 30.,  -8.,   6.,  -2.]), 1)",
            "outputs": [
                {
                    "output_type": "execute_result",
                    "metadata": {},
                    "data": {
                        "text/plain": "array([  4.,   3.,   5.,  10.])"
                    },
                    "execution_count": null
                }
            ]
        }
    ]
}