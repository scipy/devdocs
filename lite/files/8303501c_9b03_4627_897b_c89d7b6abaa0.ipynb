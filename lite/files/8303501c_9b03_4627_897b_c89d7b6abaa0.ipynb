{
    "nbformat": 4,
    "nbformat_minor": 5,
    "metadata": {
        "kernelspec": {
            "display_name": "Python",
            "language": "python",
            "name": "python"
        },
        "language_info": {
            "name": "python"
        }
    },
    "cells": [
        {
            "id": "874b2fee",
            "cell_type": "markdown",
            "source": "<div class='alert alert-warning'>\n\nSciPy's interactive examples with Jupyterlite are experimental and may not always work as expected. Execution of cells containing imports may result in large downloads (up to 60MB of content for the first import from SciPy). Load times when importing from SciPy may take roughly 10-20 seconds. If you notice any problems, feel free to open an [issue](https://github.com/scipy/scipy/issues/new/choose).\n\n</div>",
            "metadata": {}
        },
        {
            "id": "e6ff7bff",
            "cell_type": "code",
            "metadata": {},
            "execution_count": null,
            "source": "import numpy as np\nimport scipy.special as sc",
            "outputs": []
        },
        {
            "id": "6d3b40f2",
            "cell_type": "markdown",
            "source": "It is more accurate than using cotangent directly.\n",
            "metadata": {}
        },
        {
            "id": "95703def",
            "cell_type": "code",
            "metadata": {},
            "execution_count": null,
            "source": "x = 90 + 180 * np.arange(3)\nsc.cotdg(x)",
            "outputs": [
                {
                    "output_type": "execute_result",
                    "metadata": {},
                    "data": {
                        "text/plain": "array([0., 0., 0.])"
                    },
                    "execution_count": null
                }
            ]
        },
        {
            "id": "59c40e79",
            "cell_type": "code",
            "metadata": {},
            "execution_count": null,
            "source": "1 / np.tan(x * np.pi / 180)",
            "outputs": [
                {
                    "output_type": "execute_result",
                    "metadata": {},
                    "data": {
                        "text/plain": "array([6.1232340e-17, 1.8369702e-16, 3.0616170e-16])"
                    },
                    "execution_count": null
                }
            ]
        }
    ]
}