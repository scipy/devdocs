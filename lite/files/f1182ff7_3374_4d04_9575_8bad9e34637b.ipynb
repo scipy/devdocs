{
    "nbformat": 4,
    "nbformat_minor": 5,
    "metadata": {
        "kernelspec": {
            "display_name": "Python",
            "language": "python",
            "name": "python"
        },
        "language_info": {
            "name": "python"
        }
    },
    "cells": [
        {
            "id": "7766d132",
            "cell_type": "markdown",
            "source": "<div class='alert alert-warning'>\n\nSciPy's interactive examples with Jupyterlite are experimental and may not always work as expected. Execution of cells containing imports may result in large downloads (up to 60MB of content for the first import from SciPy). Load times when importing from SciPy may take roughly 10-20 seconds. If you notice any problems, feel free to open an [issue](https://github.com/scipy/scipy/issues/new/choose).\n\n</div>",
            "metadata": {}
        },
        {
            "id": "c8885f5a",
            "cell_type": "code",
            "metadata": {},
            "execution_count": null,
            "source": "import numpy as np\nimport matplotlib.pyplot as plt\nfrom scipy.optimize import curve_fit",
            "outputs": []
        },
        {
            "id": "f3cf3c0d",
            "cell_type": "code",
            "metadata": {},
            "execution_count": null,
            "source": "def func(x, a, b, c):\n    return a * np.exp(-b * x) + c",
            "outputs": []
        },
        {
            "id": "12d49b34",
            "cell_type": "markdown",
            "source": "Define the data to be fit with some noise:\n",
            "metadata": {}
        },
        {
            "id": "24b0081b",
            "cell_type": "code",
            "metadata": {},
            "execution_count": null,
            "source": "xdata = np.linspace(0, 4, 50)\ny = func(xdata, 2.5, 1.3, 0.5)\nrng = np.random.default_rng()\ny_noise = 0.2 * rng.normal(size=xdata.size)\nydata = y + y_noise\nplt.plot(xdata, ydata, 'b-', label='data')",
            "outputs": []
        },
        {
            "id": "639416d1",
            "cell_type": "markdown",
            "source": "Fit for the parameters a, b, c of the function `func`:\n",
            "metadata": {}
        },
        {
            "id": "b372115c",
            "cell_type": "code",
            "metadata": {},
            "execution_count": null,
            "source": "popt, pcov = curve_fit(func, xdata, ydata)\npopt",
            "outputs": [
                {
                    "output_type": "execute_result",
                    "metadata": {},
                    "data": {
                        "text/plain": "array([2.56274217, 1.37268521, 0.47427475])"
                    },
                    "execution_count": null
                }
            ]
        },
        {
            "id": "0a901c1d",
            "cell_type": "code",
            "metadata": {},
            "execution_count": null,
            "source": "plt.plot(xdata, func(xdata, *popt), 'r-',\n         label='fit: a=%5.3f, b=%5.3f, c=%5.3f' % tuple(popt))",
            "outputs": []
        },
        {
            "id": "512b080f",
            "cell_type": "markdown",
            "source": "Constrain the optimization to the region of ``0 <= a <= 3``,\n``0 <= b <= 1`` and ``0 <= c <= 0.5``:\n",
            "metadata": {}
        },
        {
            "id": "55414b63",
            "cell_type": "code",
            "metadata": {},
            "execution_count": null,
            "source": "popt, pcov = curve_fit(func, xdata, ydata, bounds=(0, [3., 1., 0.5]))\npopt",
            "outputs": [
                {
                    "output_type": "execute_result",
                    "metadata": {},
                    "data": {
                        "text/plain": "array([2.43736712, 1.        , 0.34463856])"
                    },
                    "execution_count": null
                }
            ]
        },
        {
            "id": "cfe9f3a8",
            "cell_type": "code",
            "metadata": {},
            "execution_count": null,
            "source": "plt.plot(xdata, func(xdata, *popt), 'g--',\n         label='fit: a=%5.3f, b=%5.3f, c=%5.3f' % tuple(popt))",
            "outputs": []
        },
        {
            "id": "f0b0584e",
            "cell_type": "code",
            "metadata": {},
            "execution_count": null,
            "source": "plt.xlabel('x')\nplt.ylabel('y')\nplt.legend()\nplt.show()",
            "outputs": []
        },
        {
            "id": "f5421689",
            "cell_type": "markdown",
            "source": "For reliable results, the model `func` should not be overparametrized;\nredundant parameters can cause unreliable covariance matrices and, in some\ncases, poorer quality fits. As a quick check of whether the model may be\noverparameterized, calculate the condition number of the covariance matrix:\n",
            "metadata": {}
        },
        {
            "id": "f03bfa94",
            "cell_type": "code",
            "metadata": {},
            "execution_count": null,
            "source": "np.linalg.cond(pcov)",
            "outputs": [
                {
                    "output_type": "execute_result",
                    "metadata": {},
                    "data": {
                        "text/plain": "34.571092161547405  # may vary"
                    },
                    "execution_count": null
                }
            ]
        },
        {
            "id": "9bc894d0",
            "cell_type": "markdown",
            "source": "The value is small, so it does not raise much concern. If, however, we were\nto add a fourth parameter ``d`` to `func` with the same effect as ``a``:\n",
            "metadata": {}
        },
        {
            "id": "368d9c12",
            "cell_type": "code",
            "metadata": {},
            "execution_count": null,
            "source": "def func2(x, a, b, c, d):\n    return a * d * np.exp(-b * x) + c  # a and d are redundant\npopt, pcov = curve_fit(func2, xdata, ydata)\nnp.linalg.cond(pcov)",
            "outputs": [
                {
                    "output_type": "execute_result",
                    "metadata": {},
                    "data": {
                        "text/plain": "1.13250718925596e+32  # may vary"
                    },
                    "execution_count": null
                }
            ]
        },
        {
            "id": "576f42f1",
            "cell_type": "markdown",
            "source": "Such a large value is cause for concern. The diagonal elements of the\ncovariance matrix, which is related to uncertainty of the fit, gives more\ninformation:\n",
            "metadata": {}
        },
        {
            "id": "a178f395",
            "cell_type": "code",
            "metadata": {},
            "execution_count": null,
            "source": "np.diag(pcov)",
            "outputs": [
                {
                    "output_type": "execute_result",
                    "metadata": {},
                    "data": {
                        "text/plain": "array([1.48814742e+29, 3.78596560e-02, 5.39253738e-03, 2.76417220e+28])  # may vary"
                    },
                    "execution_count": null
                }
            ]
        },
        {
            "id": "21643647",
            "cell_type": "markdown",
            "source": "Note that the first and last terms are much larger than the other elements,\nsuggesting that the optimal values of these parameters are ambiguous and\nthat only one of these parameters is needed in the model.\n\nIf the optimal parameters of `f` differ by multiple orders of magnitude, the\nresulting fit can be inaccurate. Sometimes, `curve_fit` can fail to find any\nresults:\n",
            "metadata": {}
        },
        {
            "id": "7665eb40",
            "cell_type": "code",
            "metadata": {},
            "execution_count": null,
            "source": "ydata = func(xdata, 500000, 0.01, 15)\ntry:\n    popt, pcov = curve_fit(func, xdata, ydata, method = 'trf')\nexcept RuntimeError as e:\n    print(e)",
            "outputs": [
                {
                    "output_type": "execute_result",
                    "metadata": {},
                    "data": {
                        "text/plain": "Optimal parameters not found: The maximum number of function evaluations is\nexceeded."
                    },
                    "execution_count": null
                }
            ]
        },
        {
            "id": "118ffbc9",
            "cell_type": "markdown",
            "source": "If parameter scale is roughly known beforehand, it can be defined in\n`x_scale` argument:\n",
            "metadata": {}
        },
        {
            "id": "5ad493e2",
            "cell_type": "code",
            "metadata": {},
            "execution_count": null,
            "source": "popt, pcov = curve_fit(func, xdata, ydata, method = 'trf',\n                       x_scale = [1000, 1, 1])\npopt",
            "outputs": [
                {
                    "output_type": "execute_result",
                    "metadata": {},
                    "data": {
                        "text/plain": "array([5.00000000e+05, 1.00000000e-02, 1.49999999e+01])"
                    },
                    "execution_count": null
                }
            ]
        }
    ]
}