{
    "nbformat": 4,
    "nbformat_minor": 5,
    "metadata": {
        "kernelspec": {
            "display_name": "Python",
            "language": "python",
            "name": "python"
        },
        "language_info": {
            "name": "python"
        }
    },
    "cells": [
        {
            "id": "4cec4d07",
            "cell_type": "markdown",
            "source": "<div class='alert alert-warning'>\n\nSciPy's interactive examples with Jupyterlite are experimental and may not always work as expected. Execution of cells containing imports may result in large downloads (up to 60MB of content for the first import from SciPy). Load times when importing from SciPy may take roughly 10-20 seconds. If you notice any problems, feel free to open an [issue](https://github.com/scipy/scipy/issues/new/choose).\n\n</div>",
            "metadata": {}
        },
        {
            "id": "385a9928",
            "cell_type": "code",
            "metadata": {},
            "execution_count": null,
            "source": "from scipy.sparse import csc_matrix\nfrom scipy.sparse.linalg import expm\nA = csc_matrix([[1, 0, 0], [0, 2, 0], [0, 0, 3]])\nA.toarray()",
            "outputs": [
                {
                    "output_type": "execute_result",
                    "metadata": {},
                    "data": {
                        "text/plain": "array([[1, 0, 0],\n       [0, 2, 0],\n       [0, 0, 3]], dtype=int64)"
                    },
                    "execution_count": null
                }
            ]
        },
        {
            "id": "95b35743",
            "cell_type": "code",
            "metadata": {},
            "execution_count": null,
            "source": "Aexp = expm(A)\nAexp",
            "outputs": [
                {
                    "output_type": "execute_result",
                    "metadata": {},
                    "data": {
                        "text/plain": "<Compressed Sparse Column sparse matrix of dtype 'float64'\n    with 3 stored elements and shape (3, 3)>"
                    },
                    "execution_count": null
                }
            ]
        },
        {
            "id": "eb86e603",
            "cell_type": "code",
            "metadata": {},
            "execution_count": null,
            "source": "Aexp.toarray()",
            "outputs": [
                {
                    "output_type": "execute_result",
                    "metadata": {},
                    "data": {
                        "text/plain": "array([[  2.71828183,   0.        ,   0.        ],\n       [  0.        ,   7.3890561 ,   0.        ],\n       [  0.        ,   0.        ,  20.08553692]])"
                    },
                    "execution_count": null
                }
            ]
        }
    ]
}