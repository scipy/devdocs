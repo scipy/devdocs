{
    "nbformat": 4,
    "nbformat_minor": 5,
    "metadata": {
        "kernelspec": {
            "display_name": "Python",
            "language": "python",
            "name": "python"
        },
        "language_info": {
            "name": "python"
        }
    },
    "cells": [
        {
            "id": "b50829ae",
            "cell_type": "markdown",
            "source": "<div class='alert alert-warning'>\n\nSciPy's interactive examples with Jupyterlite are experimental and may not always work as expected. Execution of cells containing imports may result in large downloads (up to 60MB of content for the first import from SciPy). Load times when importing from SciPy may take roughly 10-20 seconds. If you notice any problems, feel free to open an [issue](https://github.com/scipy/scipy/issues/new/choose).\n\n</div>",
            "metadata": {}
        },
        {
            "id": "2bbf6ca9",
            "cell_type": "code",
            "metadata": {},
            "execution_count": null,
            "source": "import numpy as np\nfrom scipy.stats import recipinvgauss\nimport matplotlib.pyplot as plt\nfig, ax = plt.subplots(1, 1)",
            "outputs": []
        },
        {
            "id": "8f0d6cb8",
            "cell_type": "markdown",
            "source": "Calculate the first four moments:\n",
            "metadata": {}
        },
        {
            "id": "eca28f93",
            "cell_type": "code",
            "metadata": {},
            "execution_count": null,
            "source": "mu = 0.63\nmean, var, skew, kurt = recipinvgauss.stats(mu, moments='mvsk')",
            "outputs": []
        },
        {
            "id": "6d5cb509",
            "cell_type": "markdown",
            "source": "Display the probability density function (``pdf``):\n",
            "metadata": {}
        },
        {
            "id": "9d51a3ab",
            "cell_type": "code",
            "metadata": {},
            "execution_count": null,
            "source": "x = np.linspace(recipinvgauss.ppf(0.01, mu),\n                recipinvgauss.ppf(0.99, mu), 100)\nax.plot(x, recipinvgauss.pdf(x, mu),\n       'r-', lw=5, alpha=0.6, label='recipinvgauss pdf')",
            "outputs": []
        },
        {
            "id": "6c1da47f",
            "cell_type": "markdown",
            "source": "Alternatively, the distribution object can be called (as a function)\nto fix the shape, location and scale parameters. This returns a \"frozen\"\nRV object holding the given parameters fixed.\n\nFreeze the distribution and display the frozen ``pdf``:\n",
            "metadata": {}
        },
        {
            "id": "5f884fe7",
            "cell_type": "code",
            "metadata": {},
            "execution_count": null,
            "source": "rv = recipinvgauss(mu)\nax.plot(x, rv.pdf(x), 'k-', lw=2, label='frozen pdf')",
            "outputs": []
        },
        {
            "id": "11bc91c7",
            "cell_type": "markdown",
            "source": "Check accuracy of ``cdf`` and ``ppf``:\n",
            "metadata": {}
        },
        {
            "id": "38afc841",
            "cell_type": "code",
            "metadata": {},
            "execution_count": null,
            "source": "vals = recipinvgauss.ppf([0.001, 0.5, 0.999], mu)\nnp.allclose([0.001, 0.5, 0.999], recipinvgauss.cdf(vals, mu))",
            "outputs": [
                {
                    "output_type": "execute_result",
                    "metadata": {},
                    "data": {
                        "text/plain": "True"
                    },
                    "execution_count": null
                }
            ]
        },
        {
            "id": "630d7cb1",
            "cell_type": "markdown",
            "source": "Generate random numbers:\n",
            "metadata": {}
        },
        {
            "id": "395a326a",
            "cell_type": "code",
            "metadata": {},
            "execution_count": null,
            "source": "r = recipinvgauss.rvs(mu, size=1000)",
            "outputs": []
        },
        {
            "id": "c3a6bb1d",
            "cell_type": "markdown",
            "source": "And compare the histogram:\n",
            "metadata": {}
        },
        {
            "id": "503e8a3a",
            "cell_type": "code",
            "metadata": {},
            "execution_count": null,
            "source": "ax.hist(r, density=True, bins='auto', histtype='stepfilled', alpha=0.2)\nax.set_xlim([x[0], x[-1]])\nax.legend(loc='best', frameon=False)\nplt.show()",
            "outputs": []
        }
    ]
}