{
    "nbformat": 4,
    "nbformat_minor": 5,
    "metadata": {
        "kernelspec": {
            "display_name": "Python",
            "language": "python",
            "name": "python"
        },
        "language_info": {
            "name": "python"
        }
    },
    "cells": [
        {
            "id": "41320ebf",
            "cell_type": "markdown",
            "source": "<div class='alert alert-warning'>\n\nSciPy's interactive examples with Jupyterlite are experimental and may not always work as expected. Execution of cells containing imports may result in large downloads (up to 60MB of content for the first import from SciPy). Load times when importing from SciPy may take roughly 10-20 seconds. If you notice any problems, feel free to open an [issue](https://github.com/scipy/scipy/issues/new/choose).\n\n</div>",
            "metadata": {}
        },
        {
            "id": "d2b402e3",
            "cell_type": "code",
            "metadata": {},
            "execution_count": null,
            "source": "import numpy as np\na = np.array([[10, 20, 30],\n              [40, 80, 100],\n              [1, 100, 200]])\nb = np.array([[1, 2, 0, 1],\n              [5, 3, 0, 4],\n              [0, 0, 0, 7],\n              [9, 3, 0, 0]])",
            "outputs": []
        },
        {
            "id": "ac6d300e",
            "cell_type": "code",
            "metadata": {},
            "execution_count": null,
            "source": "from scipy import ndimage",
            "outputs": []
        },
        {
            "id": "89a0383a",
            "cell_type": "code",
            "metadata": {},
            "execution_count": null,
            "source": "ndimage.minimum_position(a)",
            "outputs": [
                {
                    "output_type": "execute_result",
                    "metadata": {},
                    "data": {
                        "text/plain": "(2, 0)"
                    },
                    "execution_count": null
                }
            ]
        },
        {
            "id": "2d9afe79",
            "cell_type": "code",
            "metadata": {},
            "execution_count": null,
            "source": "ndimage.minimum_position(b)",
            "outputs": [
                {
                    "output_type": "execute_result",
                    "metadata": {},
                    "data": {
                        "text/plain": "(0, 2)"
                    },
                    "execution_count": null
                }
            ]
        },
        {
            "id": "2092dc78",
            "cell_type": "markdown",
            "source": "Features to process can be specified using `labels` and `index`:\n",
            "metadata": {}
        },
        {
            "id": "86c850df",
            "cell_type": "code",
            "metadata": {},
            "execution_count": null,
            "source": "label, pos = ndimage.label(a)\nndimage.minimum_position(a, label, index=np.arange(1, pos+1))",
            "outputs": [
                {
                    "output_type": "execute_result",
                    "metadata": {},
                    "data": {
                        "text/plain": "[(2, 0)]"
                    },
                    "execution_count": null
                }
            ]
        },
        {
            "id": "e370bee1",
            "cell_type": "code",
            "metadata": {},
            "execution_count": null,
            "source": "label, pos = ndimage.label(b)\nndimage.minimum_position(b, label, index=np.arange(1, pos+1))",
            "outputs": [
                {
                    "output_type": "execute_result",
                    "metadata": {},
                    "data": {
                        "text/plain": "[(0, 0), (0, 3), (3, 1)]"
                    },
                    "execution_count": null
                }
            ]
        }
    ]
}