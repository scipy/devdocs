{
    "nbformat": 4,
    "nbformat_minor": 5,
    "metadata": {
        "kernelspec": {
            "display_name": "Python",
            "language": "python",
            "name": "python"
        },
        "language_info": {
            "name": "python"
        }
    },
    "cells": [
        {
            "id": "ae619e8c",
            "cell_type": "markdown",
            "source": "<div class='alert alert-warning'>\n\nSciPy's interactive examples with Jupyterlite are experimental and may not always work as expected. Execution of cells containing imports may result in large downloads (up to 60MB of content for the first import from SciPy). Load times when importing from SciPy may take roughly 10-20 seconds. If you notice any problems, feel free to open an [issue](https://github.com/scipy/scipy/issues/new/choose).\n\n</div>",
            "metadata": {}
        },
        {
            "id": "691f1db2",
            "cell_type": "markdown",
            "source": "Suppose we want to design a FIR filter using the Kaiser window method\nthat will have 211 taps and a transition width of 9 Hz for a signal that\nis sampled at 480 Hz. Expressed as a fraction of the Nyquist frequency,\nthe width is 9/(0.5*480) = 0.0375. The approximate attenuation (in dB)\nis computed as follows:\n",
            "metadata": {}
        },
        {
            "id": "b3351090",
            "cell_type": "code",
            "metadata": {},
            "execution_count": null,
            "source": "from scipy.signal import kaiser_atten\nkaiser_atten(211, 0.0375)",
            "outputs": [
                {
                    "output_type": "execute_result",
                    "metadata": {},
                    "data": {
                        "text/plain": "64.48099630593983"
                    },
                    "execution_count": null
                }
            ]
        }
    ]
}