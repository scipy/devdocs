{
    "nbformat": 4,
    "nbformat_minor": 5,
    "metadata": {
        "kernelspec": {
            "display_name": "Python",
            "language": "python",
            "name": "python"
        },
        "language_info": {
            "name": "python"
        }
    },
    "cells": [
        {
            "id": "486fbad6",
            "cell_type": "markdown",
            "source": "<div class='alert alert-warning'>\n\nSciPy's interactive examples with Jupyterlite are experimental and may not always work as expected. Execution of cells containing imports may result in large downloads (up to 60MB of content for the first import from SciPy). Load times when importing from SciPy may take roughly 10-20 seconds. If you notice any problems, feel free to open an [issue](https://github.com/scipy/scipy/issues/new/choose).\n\n</div>",
            "metadata": {}
        },
        {
            "id": "b091846a",
            "cell_type": "code",
            "metadata": {},
            "execution_count": null,
            "source": "import numpy as np\nfrom scipy.signal import freqs_zpk, iirfilter",
            "outputs": []
        },
        {
            "id": "ff192981",
            "cell_type": "code",
            "metadata": {},
            "execution_count": null,
            "source": "z, p, k = iirfilter(4, [1, 10], 1, 60, analog=True, ftype='cheby1',\n                    output='zpk')",
            "outputs": []
        },
        {
            "id": "481492cd",
            "cell_type": "code",
            "metadata": {},
            "execution_count": null,
            "source": "w, h = freqs_zpk(z, p, k, worN=np.logspace(-1, 2, 1000))",
            "outputs": []
        },
        {
            "id": "ec8541fa",
            "cell_type": "code",
            "metadata": {},
            "execution_count": null,
            "source": "import matplotlib.pyplot as plt\nplt.semilogx(w, 20 * np.log10(abs(h)))\nplt.xlabel('Frequency [rad/s]')\nplt.ylabel('Amplitude response [dB]')\nplt.grid(True)\nplt.show()",
            "outputs": []
        }
    ]
}