{
    "nbformat": 4,
    "nbformat_minor": 5,
    "metadata": {
        "kernelspec": {
            "display_name": "Python",
            "language": "python",
            "name": "python"
        },
        "language_info": {
            "name": "python"
        }
    },
    "cells": [
        {
            "id": "b9359ecc",
            "cell_type": "markdown",
            "source": "<div class='alert alert-warning'>\n\nSciPy's interactive examples with Jupyterlite are experimental and may not always work as expected. Execution of cells containing imports may result in large downloads (up to 60MB of content for the first import from SciPy). Load times when importing from SciPy may take roughly 10-20 seconds. If you notice any problems, feel free to open an [issue](https://github.com/scipy/scipy/issues/new/choose).\n\n</div>",
            "metadata": {}
        },
        {
            "id": "2b18f7d1",
            "cell_type": "code",
            "metadata": {},
            "execution_count": null,
            "source": "from scipy.spatial.transform import Rotation as R\nr1 = R.from_rotvec([0, 0, 1])\nr2 = R.from_rotvec([0, 0, 2])\nrc = R.concatenate([r1, r2])\nrc.as_rotvec()",
            "outputs": [
                {
                    "output_type": "execute_result",
                    "metadata": {},
                    "data": {
                        "text/plain": "array([[0., 0., 1.],\n       [0., 0., 2.]])"
                    },
                    "execution_count": null
                }
            ]
        },
        {
            "id": "6f898174",
            "cell_type": "code",
            "metadata": {},
            "execution_count": null,
            "source": "rc.mean().as_rotvec()",
            "outputs": [
                {
                    "output_type": "execute_result",
                    "metadata": {},
                    "data": {
                        "text/plain": "array([0., 0., 1.5])"
                    },
                    "execution_count": null
                }
            ]
        },
        {
            "id": "5aaa0a73",
            "cell_type": "markdown",
            "source": "Note that it may be simpler to create the desired rotations by passing\nin a single list of the data during initialization, rather then by\nconcatenating:\n",
            "metadata": {}
        },
        {
            "id": "cc549b02",
            "cell_type": "code",
            "metadata": {},
            "execution_count": null,
            "source": "R.from_rotvec([[0, 0, 1], [0, 0, 2]]).as_rotvec()",
            "outputs": [
                {
                    "output_type": "execute_result",
                    "metadata": {},
                    "data": {
                        "text/plain": "array([[0., 0., 1.],\n       [0., 0., 2.]])"
                    },
                    "execution_count": null
                }
            ]
        }
    ]
}