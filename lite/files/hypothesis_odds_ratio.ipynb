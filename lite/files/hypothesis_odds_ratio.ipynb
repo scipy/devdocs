{
 "cells": [
  {
   "cell_type": "markdown",
   "id": "3adb32e1",
   "metadata": {},
   "source": [
    "```{eval-rst}\n",
    ".. jupyterlite:: ../../_contents/hypothesis_odds_ratio.ipynb\n",
    "   :new_tab: True\n",
    "```\n",
    "\n",
    "(hypothesis_odds_ratio)=\n",
    "# Odds ratio for a contingency table\n",
    "\n",
    "In [^1], the use of aspirin to prevent cardiovascular events in women and men\n",
    "was investigated. The study notably concluded:\n",
    "\n",
    "> ...aspirin therapy reduced the risk of a composite of\n",
    "> cardiovascular events due to its effect on reducing the risk of\n",
    "> ischemic stroke in women [...]\n",
    "\n",
    "The article lists studies of various cardiovascular events. Let's focus on the\n",
    "ischemic stoke in women.\n",
    "\n",
    "The following table summarizes the results of the experiment in which\n",
    "participants took aspirin or a placebo on a regular basis for several years.\n",
    "Cases of ischemic stroke were recorded::\n",
    "\n",
    "|                 |    Aspirin    | Control/Placebo |\n",
    "|-----------------|---------------|-----------------|\n",
    "| Ischemic stroke |       176     |        230      |\n",
    "| No stroke       |     21035     |      21018      |\n",
    "\n",
    "The question we ask is \"Is there evidence that the aspirin reduces the risk of\n",
    "ischemic stroke?\"\n",
    "\n",
    "First, compute the {class}`odds ratio <scipy.stats.contingency.odds_ratio>` for\n",
    "this contingency table:"
   ]
  },
  {
   "cell_type": "code",
   "execution_count": null,
   "id": "93a82cc4",
   "metadata": {},
   "outputs": [],
   "source": [
    "from scipy.stats.contingency import odds_ratio\n",
    "res = odds_ratio([[176, 230], [21035, 21018]])\n",
    "res.statistic"
   ]
  },
  {
   "cell_type": "markdown",
   "id": "4f68d774",
   "metadata": {},
   "source": [
    "For this sample, the odds of getting an ischemic stroke for those who have been\n",
    "taking aspirin are 0.76 times that of those who have received the placebo.\n",
    "\n",
    "To make statistical inferences about the population under study, we can compute\n",
    "the 95% confidence interval for the odds ratio:"
   ]
  },
  {
   "cell_type": "code",
   "execution_count": null,
   "id": "b3bb5354",
   "metadata": {},
   "outputs": [],
   "source": [
    "res.confidence_interval(confidence_level=0.95)"
   ]
  },
  {
   "cell_type": "markdown",
   "id": "db44843e",
   "metadata": {},
   "source": [
    "The 95% confidence interval for the conditional odds ratio is approximately\n",
    "(0.62, 0.94).\n",
    "\n",
    "The fact that the entire 95% confidence interval falls below 1 supports the\n",
    "authors' conclusion that the aspirin was associated with a statistically\n",
    "significant reduction in ischemic stroke.\n",
    "\n",
    "## References\n",
    "\n",
    "[^1]: Berger, Jeffrey S. et al. (2006). Aspirin for the Primary Prevention of\n",
    "Cardiovascular Events in Women and Men: A Sex-Specific Meta-analysis of\n",
    "Randomized Controlled Trials. JAMA, 295(3):306-313.\n",
    "{doi}`10.1001/jama.295.3.306`"
   ]
  }
 ],
 "metadata": {
  "kernelspec": {
   "display_name": "Python 3 (ipykernel)",
   "language": "python",
   "name": "python3"
  }
 },
 "nbformat": 4,
 "nbformat_minor": 5
}
