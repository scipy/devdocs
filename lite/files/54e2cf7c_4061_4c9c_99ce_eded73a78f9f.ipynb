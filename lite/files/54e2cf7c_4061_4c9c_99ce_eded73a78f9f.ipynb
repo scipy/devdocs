{
    "nbformat": 4,
    "nbformat_minor": 5,
    "metadata": {
        "kernelspec": {
            "display_name": "Python",
            "language": "python",
            "name": "python"
        },
        "language_info": {
            "name": "python"
        }
    },
    "cells": [
        {
            "id": "b0e17662",
            "cell_type": "markdown",
            "source": "<div class='alert alert-warning'>\n\nSciPy's interactive examples with Jupyterlite are experimental and may not always work as expected. Execution of cells containing imports may result in large downloads (up to 60MB of content for the first import from SciPy). Load times when importing from SciPy may take roughly 10-20 seconds. If you notice any problems, feel free to open an [issue](https://github.com/scipy/scipy/issues/new/choose).\n\n</div>",
            "metadata": {}
        },
        {
            "id": "b7995e1e",
            "cell_type": "markdown",
            "source": "Compute the first three roots of $J_1$, $J_1'$,\n$Y_1$ and $Y_1'$.\n",
            "metadata": {}
        },
        {
            "id": "5ed4d715",
            "cell_type": "code",
            "metadata": {},
            "execution_count": null,
            "source": "from scipy.special import jnyn_zeros\njn_roots, jnp_roots, yn_roots, ynp_roots = jnyn_zeros(1, 3)\njn_roots, yn_roots",
            "outputs": [
                {
                    "output_type": "execute_result",
                    "metadata": {},
                    "data": {
                        "text/plain": "(array([ 3.83170597,  7.01558667, 10.17346814]),\n array([2.19714133, 5.42968104, 8.59600587]))"
                    },
                    "execution_count": null
                }
            ]
        },
        {
            "id": "0443906f",
            "cell_type": "markdown",
            "source": "Plot $J_1$, $J_1'$, $Y_1$, $Y_1'$ and their roots.\n",
            "metadata": {}
        },
        {
            "id": "f3faf75f",
            "cell_type": "code",
            "metadata": {},
            "execution_count": null,
            "source": "import numpy as np\nimport matplotlib.pyplot as plt\nfrom scipy.special import jnyn_zeros, jvp, jn, yvp, yn\njn_roots, jnp_roots, yn_roots, ynp_roots = jnyn_zeros(1, 3)\nfig, ax = plt.subplots()\nxmax= 11\nx = np.linspace(0, xmax)\nx[0] += 1e-15\nax.plot(x, jn(1, x), label=r\"$J_1$\", c='r')\nax.plot(x, jvp(1, x, 1), label=r\"$J_1'$\", c='b')\nax.plot(x, yn(1, x), label=r\"$Y_1$\", c='y')\nax.plot(x, yvp(1, x, 1), label=r\"$Y_1'$\", c='c')\nzeros = np.zeros((3, ))\nax.scatter(jn_roots, zeros, s=30, c='r', zorder=5,\n           label=r\"$J_1$ roots\")\nax.scatter(jnp_roots, zeros, s=30, c='b', zorder=5,\n           label=r\"$J_1'$ roots\")\nax.scatter(yn_roots, zeros, s=30, c='y', zorder=5,\n           label=r\"$Y_1$ roots\")\nax.scatter(ynp_roots, zeros, s=30, c='c', zorder=5,\n           label=r\"$Y_1'$ roots\")\nax.hlines(0, 0, xmax, color='k')\nax.set_ylim(-0.6, 0.6)\nax.set_xlim(0, xmax)\nax.legend(ncol=2, bbox_to_anchor=(1., 0.75))\nplt.tight_layout()\nplt.show()",
            "outputs": []
        }
    ]
}