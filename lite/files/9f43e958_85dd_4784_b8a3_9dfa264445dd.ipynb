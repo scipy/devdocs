{
    "nbformat": 4,
    "nbformat_minor": 5,
    "metadata": {
        "kernelspec": {
            "display_name": "Python",
            "language": "python",
            "name": "python"
        },
        "language_info": {
            "name": "python"
        }
    },
    "cells": [
        {
            "id": "c7975bf5",
            "cell_type": "markdown",
            "source": "<div class='alert alert-warning'>\n\nSciPy's interactive examples with Jupyterlite are experimental and may not always work as expected. Execution of cells containing imports may result in large downloads (up to 60MB of content for the first import from SciPy). Load times when importing from SciPy may take roughly 10-20 seconds. If you notice any problems, feel free to open an [issue](https://github.com/scipy/scipy/issues/new/choose).\n\n</div>",
            "metadata": {}
        },
        {
            "id": "617d07c1",
            "cell_type": "code",
            "metadata": {},
            "execution_count": null,
            "source": "import numpy as np\nfrom scipy import linalg\na = np.array([[1,2,3], [4,5,6], [7,8,9]])  # A singular matrix\nlinalg.det(a)",
            "outputs": [
                {
                    "output_type": "execute_result",
                    "metadata": {},
                    "data": {
                        "text/plain": "0.0"
                    },
                    "execution_count": null
                }
            ]
        },
        {
            "id": "1decb478",
            "cell_type": "code",
            "metadata": {},
            "execution_count": null,
            "source": "b = np.array([[0,2,3], [4,5,6], [7,8,9]])\nlinalg.det(b)",
            "outputs": [
                {
                    "output_type": "execute_result",
                    "metadata": {},
                    "data": {
                        "text/plain": "3.0"
                    },
                    "execution_count": null
                }
            ]
        },
        {
            "id": "c80a0515",
            "cell_type": "code",
            "metadata": {},
            "execution_count": null,
            "source": "# An array with the shape (3, 2, 2, 2)\nc = np.array([[[[1., 2.], [3., 4.]],\n               [[5., 6.], [7., 8.]]],\n              [[[9., 10.], [11., 12.]],\n               [[13., 14.], [15., 16.]]],\n              [[[17., 18.], [19., 20.]],\n               [[21., 22.], [23., 24.]]]])\nlinalg.det(c)  # The resulting shape is (3, 2)",
            "outputs": [
                {
                    "output_type": "execute_result",
                    "metadata": {},
                    "data": {
                        "text/plain": "array([[-2., -2.],\n       [-2., -2.],\n       [-2., -2.]])"
                    },
                    "execution_count": null
                }
            ]
        },
        {
            "id": "ad72e76f",
            "cell_type": "code",
            "metadata": {},
            "execution_count": null,
            "source": "linalg.det(c[0, 0])  # Confirm the (0, 0) slice, [[1, 2], [3, 4]]",
            "outputs": [
                {
                    "output_type": "execute_result",
                    "metadata": {},
                    "data": {
                        "text/plain": "-2.0"
                    },
                    "execution_count": null
                }
            ]
        }
    ]
}