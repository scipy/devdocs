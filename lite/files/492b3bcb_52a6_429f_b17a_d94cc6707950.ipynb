{
    "nbformat": 4,
    "nbformat_minor": 5,
    "metadata": {
        "kernelspec": {
            "display_name": "Python",
            "language": "python",
            "name": "python"
        },
        "language_info": {
            "name": "python"
        }
    },
    "cells": [
        {
            "id": "8bea67c1",
            "cell_type": "markdown",
            "source": "<div class='alert alert-warning'>\n\nSciPy's interactive examples with Jupyterlite are experimental and may not always work as expected. Execution of cells containing imports may result in large downloads (up to 60MB of content for the first import from SciPy). Load times when importing from SciPy may take roughly 10-20 seconds. If you notice any problems, feel free to open an [issue](https://github.com/scipy/scipy/issues/new/choose).\n\n</div>",
            "metadata": {}
        },
        {
            "id": "084b6d6f",
            "cell_type": "code",
            "metadata": {},
            "execution_count": null,
            "source": "from scipy.sparse import diags\ndiagonals = [[1, 2, 3, 4], [1, 2, 3], [1, 2]]\ndiags(diagonals, [0, -1, 2]).toarray()",
            "outputs": [
                {
                    "output_type": "execute_result",
                    "metadata": {},
                    "data": {
                        "text/plain": "array([[1., 0., 1., 0.],\n       [1., 2., 0., 2.],\n       [0., 2., 3., 0.],\n       [0., 0., 3., 4.]])"
                    },
                    "execution_count": null
                }
            ]
        },
        {
            "id": "cf1536e4",
            "cell_type": "markdown",
            "source": "Broadcasting of scalars is supported (but shape needs to be\nspecified):\n",
            "metadata": {}
        },
        {
            "id": "92d266a7",
            "cell_type": "code",
            "metadata": {},
            "execution_count": null,
            "source": "diags([1, -2, 1], [-1, 0, 1], shape=(4, 4)).toarray()",
            "outputs": [
                {
                    "output_type": "execute_result",
                    "metadata": {},
                    "data": {
                        "text/plain": "array([[-2.,  1.,  0.,  0.],\n       [ 1., -2.,  1.,  0.],\n       [ 0.,  1., -2.,  1.],\n       [ 0.,  0.,  1., -2.]])"
                    },
                    "execution_count": null
                }
            ]
        },
        {
            "id": "2716f528",
            "cell_type": "markdown",
            "source": "If only one diagonal is wanted (as in `numpy.diag`), the following\nworks as well:\n",
            "metadata": {}
        },
        {
            "id": "49886f4b",
            "cell_type": "code",
            "metadata": {},
            "execution_count": null,
            "source": "diags([1, 2, 3], 1).toarray()",
            "outputs": [
                {
                    "output_type": "execute_result",
                    "metadata": {},
                    "data": {
                        "text/plain": "array([[ 0.,  1.,  0.,  0.],\n       [ 0.,  0.,  2.,  0.],\n       [ 0.,  0.,  0.,  3.],\n       [ 0.,  0.,  0.,  0.]])"
                    },
                    "execution_count": null
                }
            ]
        }
    ]
}