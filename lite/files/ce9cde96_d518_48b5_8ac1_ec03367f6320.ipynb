{
    "nbformat": 4,
    "nbformat_minor": 5,
    "metadata": {
        "kernelspec": {
            "display_name": "Python",
            "language": "python",
            "name": "python"
        },
        "language_info": {
            "name": "python"
        }
    },
    "cells": [
        {
            "id": "f94930e9",
            "cell_type": "markdown",
            "source": "<div class='alert alert-warning'>\n\nSciPy's interactive examples with Jupyterlite are experimental and may not always work as expected. Execution of cells containing imports may result in large downloads (up to 60MB of content for the first import from SciPy). Load times when importing from SciPy may take roughly 10-20 seconds. If you notice any problems, feel free to open an [issue](https://github.com/scipy/scipy/issues/new/choose).\n\n</div>",
            "metadata": {}
        },
        {
            "id": "917fe7a7",
            "cell_type": "code",
            "metadata": {},
            "execution_count": null,
            "source": "import numpy as np\nimport scipy.special as sc",
            "outputs": []
        },
        {
            "id": "0cbcf0fc",
            "cell_type": "markdown",
            "source": "It is a survival function, so it decreases to 0\nmonotonically as `k` goes to infinity.\n",
            "metadata": {}
        },
        {
            "id": "74df341c",
            "cell_type": "code",
            "metadata": {},
            "execution_count": null,
            "source": "k = np.array([1, 10, 100, np.inf])\nsc.pdtrc(k, 1)",
            "outputs": [
                {
                    "output_type": "execute_result",
                    "metadata": {},
                    "data": {
                        "text/plain": "array([2.64241118e-001, 1.00477664e-008, 3.94147589e-161, 0.00000000e+000])"
                    },
                    "execution_count": null
                }
            ]
        },
        {
            "id": "18296603",
            "cell_type": "markdown",
            "source": "It can be expressed in terms of the lower incomplete gamma\nfunction `gammainc`.\n",
            "metadata": {}
        },
        {
            "id": "201c44d9",
            "cell_type": "code",
            "metadata": {},
            "execution_count": null,
            "source": "sc.gammainc(k + 1, 1)",
            "outputs": [
                {
                    "output_type": "execute_result",
                    "metadata": {},
                    "data": {
                        "text/plain": "array([2.64241118e-001, 1.00477664e-008, 3.94147589e-161, 0.00000000e+000])"
                    },
                    "execution_count": null
                }
            ]
        }
    ]
}