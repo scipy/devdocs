{
    "nbformat": 4,
    "nbformat_minor": 5,
    "metadata": {
        "kernelspec": {
            "display_name": "Python",
            "language": "python",
            "name": "python"
        },
        "language_info": {
            "name": "python"
        }
    },
    "cells": [
        {
            "id": "fee34009",
            "cell_type": "markdown",
            "source": "<div class='alert alert-warning'>\n\nSciPy's interactive examples with Jupyterlite are experimental and may not always work as expected. Execution of cells containing imports may result in large downloads (up to 60MB of content for the first import from SciPy). Load times when importing from SciPy may take roughly 10-20 seconds. If you notice any problems, feel free to open an [issue](https://github.com/scipy/scipy/issues/new/choose).\n\n</div>",
            "metadata": {}
        },
        {
            "id": "276f5340",
            "cell_type": "code",
            "metadata": {},
            "execution_count": null,
            "source": "import numpy as np\nfrom scipy import linalg\na = np.array([[  3.,  -2.,  -2.],\n              [  6.,  -9.,  -3.],\n              [ -3.,  10.,   1.],\n              [  6.,  -7.,   4.],\n              [  7.,   8.,  -6.]])\nq, r = linalg.qr(a)",
            "outputs": []
        },
        {
            "id": "a263106f",
            "cell_type": "markdown",
            "source": "Given this q, r decomposition, perform a rank 1 update.\n",
            "metadata": {}
        },
        {
            "id": "157f4e52",
            "cell_type": "code",
            "metadata": {},
            "execution_count": null,
            "source": "u = np.array([7., -2., 4., 3., 5.])\nv = np.array([1., 3., -5.])\nq_up, r_up = linalg.qr_update(q, r, u, v, False)\nq_up",
            "outputs": [
                {
                    "output_type": "execute_result",
                    "metadata": {},
                    "data": {
                        "text/plain": "array([[ 0.54073807,  0.18645997,  0.81707661, -0.02136616,  0.06902409],  # may vary (signs)\n       [ 0.21629523, -0.63257324,  0.06567893,  0.34125904, -0.65749222],\n       [ 0.05407381,  0.64757787, -0.12781284, -0.20031219, -0.72198188],\n       [ 0.48666426, -0.30466718, -0.27487277, -0.77079214,  0.0256951 ],\n       [ 0.64888568,  0.23001   , -0.4859845 ,  0.49883891,  0.20253783]])"
                    },
                    "execution_count": null
                }
            ]
        },
        {
            "id": "2f4c5b8d",
            "cell_type": "code",
            "metadata": {},
            "execution_count": null,
            "source": "r_up",
            "outputs": [
                {
                    "output_type": "execute_result",
                    "metadata": {},
                    "data": {
                        "text/plain": "array([[ 18.49324201,  24.11691794, -44.98940746],  # may vary (signs)\n       [  0.        ,  31.95894662, -27.40998201],\n       [  0.        ,   0.        ,  -9.25451794],\n       [  0.        ,   0.        ,   0.        ],\n       [  0.        ,   0.        ,   0.        ]])"
                    },
                    "execution_count": null
                }
            ]
        },
        {
            "id": "01fcef57",
            "cell_type": "markdown",
            "source": "The update is equivalent, but faster than the following.\n",
            "metadata": {}
        },
        {
            "id": "e5cecca0",
            "cell_type": "code",
            "metadata": {},
            "execution_count": null,
            "source": "a_up = a + np.outer(u, v)\nq_direct, r_direct = linalg.qr(a_up)",
            "outputs": []
        },
        {
            "id": "997d8eb2",
            "cell_type": "markdown",
            "source": "Check that we have equivalent results:\n",
            "metadata": {}
        },
        {
            "id": "7b54c347",
            "cell_type": "code",
            "metadata": {},
            "execution_count": null,
            "source": "np.allclose(np.dot(q_up, r_up), a_up)",
            "outputs": [
                {
                    "output_type": "execute_result",
                    "metadata": {},
                    "data": {
                        "text/plain": "True"
                    },
                    "execution_count": null
                }
            ]
        },
        {
            "id": "b202f265",
            "cell_type": "markdown",
            "source": "And the updated Q is still unitary:\n",
            "metadata": {}
        },
        {
            "id": "c68923a0",
            "cell_type": "code",
            "metadata": {},
            "execution_count": null,
            "source": "np.allclose(np.dot(q_up.T, q_up), np.eye(5))",
            "outputs": [
                {
                    "output_type": "execute_result",
                    "metadata": {},
                    "data": {
                        "text/plain": "True"
                    },
                    "execution_count": null
                }
            ]
        },
        {
            "id": "8ff8f0fc",
            "cell_type": "markdown",
            "source": "Updating economic (reduced, thin) decompositions is also possible:\n",
            "metadata": {}
        },
        {
            "id": "83cb0b0b",
            "cell_type": "code",
            "metadata": {},
            "execution_count": null,
            "source": "qe, re = linalg.qr(a, mode='economic')\nqe_up, re_up = linalg.qr_update(qe, re, u, v, False)\nqe_up",
            "outputs": [
                {
                    "output_type": "execute_result",
                    "metadata": {},
                    "data": {
                        "text/plain": "array([[ 0.54073807,  0.18645997,  0.81707661],  # may vary (signs)\n       [ 0.21629523, -0.63257324,  0.06567893],\n       [ 0.05407381,  0.64757787, -0.12781284],\n       [ 0.48666426, -0.30466718, -0.27487277],\n       [ 0.64888568,  0.23001   , -0.4859845 ]])"
                    },
                    "execution_count": null
                }
            ]
        },
        {
            "id": "b9a8833f",
            "cell_type": "code",
            "metadata": {},
            "execution_count": null,
            "source": "re_up",
            "outputs": [
                {
                    "output_type": "execute_result",
                    "metadata": {},
                    "data": {
                        "text/plain": "array([[ 18.49324201,  24.11691794, -44.98940746],  # may vary (signs)\n       [  0.        ,  31.95894662, -27.40998201],\n       [  0.        ,   0.        ,  -9.25451794]])"
                    },
                    "execution_count": null
                }
            ]
        },
        {
            "id": "5c3b932d",
            "cell_type": "code",
            "metadata": {},
            "execution_count": null,
            "source": "np.allclose(np.dot(qe_up, re_up), a_up)",
            "outputs": [
                {
                    "output_type": "execute_result",
                    "metadata": {},
                    "data": {
                        "text/plain": "True"
                    },
                    "execution_count": null
                }
            ]
        },
        {
            "id": "eaae97f9",
            "cell_type": "code",
            "metadata": {},
            "execution_count": null,
            "source": "np.allclose(np.dot(qe_up.T, qe_up), np.eye(3))",
            "outputs": [
                {
                    "output_type": "execute_result",
                    "metadata": {},
                    "data": {
                        "text/plain": "True"
                    },
                    "execution_count": null
                }
            ]
        },
        {
            "id": "ff90c430",
            "cell_type": "markdown",
            "source": "Similarly to the above, perform a rank 2 update.\n",
            "metadata": {}
        },
        {
            "id": "520d61a2",
            "cell_type": "code",
            "metadata": {},
            "execution_count": null,
            "source": "u2 = np.array([[ 7., -1,],\n               [-2.,  4.],\n               [ 4.,  2.],\n               [ 3., -6.],\n               [ 5.,  3.]])\nv2 = np.array([[ 1., 2.],\n               [ 3., 4.],\n               [-5., 2]])\nq_up2, r_up2 = linalg.qr_update(q, r, u2, v2, False)\nq_up2",
            "outputs": [
                {
                    "output_type": "execute_result",
                    "metadata": {},
                    "data": {
                        "text/plain": "array([[-0.33626508, -0.03477253,  0.61956287, -0.64352987, -0.29618884],  # may vary (signs)\n       [-0.50439762,  0.58319694, -0.43010077, -0.33395279,  0.33008064],\n       [-0.21016568, -0.63123106,  0.0582249 , -0.13675572,  0.73163206],\n       [ 0.12609941,  0.49694436,  0.64590024,  0.31191919,  0.47187344],\n       [-0.75659643, -0.11517748,  0.10284903,  0.5986227 , -0.21299983]])"
                    },
                    "execution_count": null
                }
            ]
        },
        {
            "id": "9b47887b",
            "cell_type": "code",
            "metadata": {},
            "execution_count": null,
            "source": "r_up2",
            "outputs": [
                {
                    "output_type": "execute_result",
                    "metadata": {},
                    "data": {
                        "text/plain": "array([[-23.79075451, -41.1084062 ,  24.71548348],  # may vary (signs)\n       [  0.        , -33.83931057,  11.02226551],\n       [  0.        ,   0.        ,  48.91476811],\n       [  0.        ,   0.        ,   0.        ],\n       [  0.        ,   0.        ,   0.        ]])"
                    },
                    "execution_count": null
                }
            ]
        },
        {
            "id": "d71159c6",
            "cell_type": "markdown",
            "source": "This update is also a valid qr decomposition of ``A + U V**T``.\n",
            "metadata": {}
        },
        {
            "id": "ef089ac1",
            "cell_type": "code",
            "metadata": {},
            "execution_count": null,
            "source": "a_up2 = a + np.dot(u2, v2.T)\nnp.allclose(a_up2, np.dot(q_up2, r_up2))",
            "outputs": [
                {
                    "output_type": "execute_result",
                    "metadata": {},
                    "data": {
                        "text/plain": "True"
                    },
                    "execution_count": null
                }
            ]
        },
        {
            "id": "9a0e277a",
            "cell_type": "code",
            "metadata": {},
            "execution_count": null,
            "source": "np.allclose(np.dot(q_up2.T, q_up2), np.eye(5))",
            "outputs": [
                {
                    "output_type": "execute_result",
                    "metadata": {},
                    "data": {
                        "text/plain": "True"
                    },
                    "execution_count": null
                }
            ]
        }
    ]
}