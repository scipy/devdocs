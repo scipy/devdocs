{
    "nbformat": 4,
    "nbformat_minor": 5,
    "metadata": {
        "kernelspec": {
            "display_name": "Python",
            "language": "python",
            "name": "python"
        },
        "language_info": {
            "name": "python"
        }
    },
    "cells": [
        {
            "id": "34309e4d",
            "cell_type": "markdown",
            "source": "<div class='alert alert-warning'>\n\nSciPy's interactive examples with Jupyterlite are experimental and may not always work as expected. Execution of cells containing imports may result in large downloads (up to 60MB of content for the first import from SciPy). Load times when importing from SciPy may take roughly 10-20 seconds. If you notice any problems, feel free to open an [issue](https://github.com/scipy/scipy/issues/new/choose).\n\n</div>",
            "metadata": {}
        },
        {
            "id": "3103bda1",
            "cell_type": "markdown",
            "source": "Instantiate a distribution with the desired parameters:\n",
            "metadata": {}
        },
        {
            "id": "92de02e5",
            "cell_type": "code",
            "metadata": {},
            "execution_count": null,
            "source": "import numpy as np\nimport matplotlib.pyplot as plt\nfrom scipy import stats\nX = stats.Normal(mu=0., sigma=1.)",
            "outputs": []
        },
        {
            "id": "0b4a069e",
            "cell_type": "markdown",
            "source": "Evaluate the LLF with the given sample:\n",
            "metadata": {}
        },
        {
            "id": "ea33fc4f",
            "cell_type": "code",
            "metadata": {},
            "execution_count": null,
            "source": "sample = [1., 2., 3.]\nX.llf(sample)",
            "outputs": [
                {
                    "output_type": "execute_result",
                    "metadata": {},
                    "data": {
                        "text/plain": "-9.756815599614018"
                    },
                    "execution_count": null
                }
            ]
        },
        {
            "id": "9138e7cc",
            "cell_type": "code",
            "metadata": {},
            "execution_count": null,
            "source": "np.allclose(X.llf(sample), np.sum(X.logpdf(sample)))",
            "outputs": [
                {
                    "output_type": "execute_result",
                    "metadata": {},
                    "data": {
                        "text/plain": "True"
                    },
                    "execution_count": null
                }
            ]
        },
        {
            "id": "e713ce79",
            "cell_type": "markdown",
            "source": "To generate a function that accepts only the parameters and\nholds the data fixed:\n",
            "metadata": {}
        },
        {
            "id": "26c6c808",
            "cell_type": "code",
            "metadata": {},
            "execution_count": null,
            "source": "def llf(mu, sigma):\n    return stats.Normal(mu=mu, sigma=sigma).llf(sample)\nllf(0., 1.)",
            "outputs": [
                {
                    "output_type": "execute_result",
                    "metadata": {},
                    "data": {
                        "text/plain": "-9.756815599614018"
                    },
                    "execution_count": null
                }
            ]
        }
    ]
}