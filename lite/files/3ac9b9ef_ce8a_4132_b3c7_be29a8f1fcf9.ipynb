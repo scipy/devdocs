{
    "nbformat": 4,
    "nbformat_minor": 5,
    "metadata": {
        "kernelspec": {
            "display_name": "Python",
            "language": "python",
            "name": "python"
        },
        "language_info": {
            "name": "python"
        }
    },
    "cells": [
        {
            "id": "6dae5954",
            "cell_type": "markdown",
            "source": "<div class='alert alert-warning'>\n\nSciPy's interactive examples with Jupyterlite are experimental and may not always work as expected. Execution of cells containing imports may result in large downloads (up to 60MB of content for the first import from SciPy). Load times when importing from SciPy may take roughly 10-20 seconds. If you notice any problems, feel free to open an [issue](https://github.com/scipy/scipy/issues/new/choose).\n\n</div>",
            "metadata": {}
        },
        {
            "id": "398a0ce4",
            "cell_type": "code",
            "metadata": {},
            "execution_count": null,
            "source": "import numpy as np\nimport matplotlib.pyplot as plt\nfrom scipy.special import erfcinv",
            "outputs": []
        },
        {
            "id": "2f7daf65",
            "cell_type": "code",
            "metadata": {},
            "execution_count": null,
            "source": "erfcinv(0.5)",
            "outputs": [
                {
                    "output_type": "execute_result",
                    "metadata": {},
                    "data": {
                        "text/plain": "0.4769362762044699"
                    },
                    "execution_count": null
                }
            ]
        },
        {
            "id": "4e01c859",
            "cell_type": "code",
            "metadata": {},
            "execution_count": null,
            "source": "y = np.linspace(0.0, 2.0, num=11)\nerfcinv(y)",
            "outputs": [
                {
                    "output_type": "execute_result",
                    "metadata": {},
                    "data": {
                        "text/plain": "array([        inf,  0.9061938 ,  0.59511608,  0.37080716,  0.17914345,\n       -0.        , -0.17914345, -0.37080716, -0.59511608, -0.9061938 ,\n              -inf])"
                    },
                    "execution_count": null
                }
            ]
        },
        {
            "id": "267a6eff",
            "cell_type": "markdown",
            "source": "Plot the function:\n",
            "metadata": {}
        },
        {
            "id": "bde375f4",
            "cell_type": "code",
            "metadata": {},
            "execution_count": null,
            "source": "y = np.linspace(0, 2, 200)\nfig, ax = plt.subplots()\nax.plot(y, erfcinv(y))\nax.grid(True)\nax.set_xlabel('y')\nax.set_title('erfcinv(y)')\nplt.show()",
            "outputs": []
        }
    ]
}