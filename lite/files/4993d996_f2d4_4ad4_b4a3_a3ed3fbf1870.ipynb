{
    "nbformat": 4,
    "nbformat_minor": 5,
    "metadata": {
        "kernelspec": {
            "display_name": "Python",
            "language": "python",
            "name": "python"
        },
        "language_info": {
            "name": "python"
        }
    },
    "cells": [
        {
            "id": "aef5f80d",
            "cell_type": "markdown",
            "source": "<div class='alert alert-warning'>\n\nSciPy's interactive examples with Jupyterlite are experimental and may not always work as expected. Execution of cells containing imports may result in large downloads (up to 60MB of content for the first import from SciPy). Load times when importing from SciPy may take roughly 10-20 seconds. If you notice any problems, feel free to open an [issue](https://github.com/scipy/scipy/issues/new/choose).\n\n</div>",
            "metadata": {}
        },
        {
            "id": "806b8265",
            "cell_type": "code",
            "metadata": {},
            "execution_count": null,
            "source": "import numpy as np\nfrom scipy import stats\nx, y = [1, 2, 3, 4, 5, 6, 7], [10, 9, 2.5, 6, 4, 3, 2]\nres = stats.pearsonr(x, y)\nres",
            "outputs": [
                {
                    "output_type": "execute_result",
                    "metadata": {},
                    "data": {
                        "text/plain": "PearsonRResult(statistic=-0.828503883588428, pvalue=0.021280260007523286)"
                    },
                    "execution_count": null
                }
            ]
        },
        {
            "id": "c1b18667",
            "cell_type": "markdown",
            "source": "To perform an exact permutation version of the test:\n",
            "metadata": {}
        },
        {
            "id": "96ac6472",
            "cell_type": "code",
            "metadata": {},
            "execution_count": null,
            "source": "rng = np.random.default_rng()\nmethod = stats.PermutationMethod(n_resamples=np.inf, random_state=rng)\nstats.pearsonr(x, y, method=method)",
            "outputs": [
                {
                    "output_type": "execute_result",
                    "metadata": {},
                    "data": {
                        "text/plain": "PearsonRResult(statistic=-0.828503883588428, pvalue=0.028174603174603175)"
                    },
                    "execution_count": null
                }
            ]
        },
        {
            "id": "87eeaa7b",
            "cell_type": "markdown",
            "source": "To perform the test under the null hypothesis that the data were drawn from\n*uniform* distributions:\n",
            "metadata": {}
        },
        {
            "id": "8807754a",
            "cell_type": "code",
            "metadata": {},
            "execution_count": null,
            "source": "method = stats.MonteCarloMethod(rvs=(rng.uniform, rng.uniform))\nstats.pearsonr(x, y, method=method)",
            "outputs": [
                {
                    "output_type": "execute_result",
                    "metadata": {},
                    "data": {
                        "text/plain": "PearsonRResult(statistic=-0.828503883588428, pvalue=0.0188)"
                    },
                    "execution_count": null
                }
            ]
        },
        {
            "id": "e106c97e",
            "cell_type": "markdown",
            "source": "To produce an asymptotic 90% confidence interval:\n",
            "metadata": {}
        },
        {
            "id": "fefe5a47",
            "cell_type": "code",
            "metadata": {},
            "execution_count": null,
            "source": "res.confidence_interval(confidence_level=0.9)",
            "outputs": [
                {
                    "output_type": "execute_result",
                    "metadata": {},
                    "data": {
                        "text/plain": "ConfidenceInterval(low=-0.9644331982722841, high=-0.3460237473272273)"
                    },
                    "execution_count": null
                }
            ]
        },
        {
            "id": "d34e31f1",
            "cell_type": "markdown",
            "source": "And for a bootstrap confidence interval:\n",
            "metadata": {}
        },
        {
            "id": "a7326d42",
            "cell_type": "code",
            "metadata": {},
            "execution_count": null,
            "source": "method = stats.BootstrapMethod(method='BCa', random_state=rng)\nres.confidence_interval(confidence_level=0.9, method=method)",
            "outputs": [
                {
                    "output_type": "execute_result",
                    "metadata": {},
                    "data": {
                        "text/plain": "ConfidenceInterval(low=-0.9983163756488651, high=-0.22771001702132443)  # may vary"
                    },
                    "execution_count": null
                }
            ]
        },
        {
            "id": "eadc6464",
            "cell_type": "markdown",
            "source": "If N-dimensional arrays are provided, multiple tests are performed in a\nsingle call according to the same conventions as most `scipy.stats` functions:\n",
            "metadata": {}
        },
        {
            "id": "7154796b",
            "cell_type": "code",
            "metadata": {},
            "execution_count": null,
            "source": "rng = np.random.default_rng()\nx = rng.standard_normal((8, 15))\ny = rng.standard_normal((8, 15))\nstats.pearsonr(x, y, axis=0).statistic.shape  # between corresponding columns",
            "outputs": [
                {
                    "output_type": "execute_result",
                    "metadata": {},
                    "data": {
                        "text/plain": "(15,)"
                    },
                    "execution_count": null
                }
            ]
        },
        {
            "id": "ed7a6646",
            "cell_type": "code",
            "metadata": {},
            "execution_count": null,
            "source": "stats.pearsonr(x, y, axis=1).statistic.shape  # between corresponding rows",
            "outputs": [
                {
                    "output_type": "execute_result",
                    "metadata": {},
                    "data": {
                        "text/plain": "(8,)"
                    },
                    "execution_count": null
                }
            ]
        },
        {
            "id": "8aeefc77",
            "cell_type": "markdown",
            "source": "To perform all pairwise comparisons between slices of the arrays,\nuse standard NumPy broadcasting techniques. For instance, to compute the\ncorrelation between all pairs of rows:\n",
            "metadata": {}
        },
        {
            "id": "ebc1dd52",
            "cell_type": "code",
            "metadata": {},
            "execution_count": null,
            "source": "stats.pearsonr(x[:, np.newaxis, :], y, axis=-1).statistic.shape",
            "outputs": [
                {
                    "output_type": "execute_result",
                    "metadata": {},
                    "data": {
                        "text/plain": "(8, 8)"
                    },
                    "execution_count": null
                }
            ]
        },
        {
            "id": "f9b624f1",
            "cell_type": "markdown",
            "source": "There is a linear dependence between x and y if y = a + b*x + e, where\na,b are constants and e is a random error term, assumed to be independent\nof x. For simplicity, assume that x is standard normal, a=0, b=1 and let\ne follow a normal distribution with mean zero and standard deviation s>0.\n",
            "metadata": {}
        },
        {
            "id": "fbd24705",
            "cell_type": "code",
            "metadata": {},
            "execution_count": null,
            "source": "rng = np.random.default_rng()\ns = 0.5\nx = stats.norm.rvs(size=500, random_state=rng)\ne = stats.norm.rvs(scale=s, size=500, random_state=rng)\ny = x + e\nstats.pearsonr(x, y).statistic",
            "outputs": [
                {
                    "output_type": "execute_result",
                    "metadata": {},
                    "data": {
                        "text/plain": "0.9001942438244763"
                    },
                    "execution_count": null
                }
            ]
        },
        {
            "id": "ed65ab53",
            "cell_type": "markdown",
            "source": "This should be close to the exact value given by\n",
            "metadata": {}
        },
        {
            "id": "b0c9bf96",
            "cell_type": "code",
            "metadata": {},
            "execution_count": null,
            "source": "1/np.sqrt(1 + s**2)",
            "outputs": [
                {
                    "output_type": "execute_result",
                    "metadata": {},
                    "data": {
                        "text/plain": "0.8944271909999159"
                    },
                    "execution_count": null
                }
            ]
        },
        {
            "id": "20d70397",
            "cell_type": "markdown",
            "source": "For s=0.5, we observe a high level of correlation. In general, a large\nvariance of the noise reduces the correlation, while the correlation\napproaches one as the variance of the error goes to zero.\n\nIt is important to keep in mind that no correlation does not imply\nindependence unless (x, y) is jointly normal. Correlation can even be zero\nwhen there is a very simple dependence structure: if X follows a\nstandard normal distribution, let y = abs(x). Note that the correlation\nbetween x and y is zero. Indeed, since the expectation of x is zero,\ncov(x, y) = E[x*y]. By definition, this equals E[x*abs(x)] which is zero\nby symmetry. The following lines of code illustrate this observation:\n",
            "metadata": {}
        },
        {
            "id": "ae0745f7",
            "cell_type": "code",
            "metadata": {},
            "execution_count": null,
            "source": "y = np.abs(x)\nstats.pearsonr(x, y)",
            "outputs": [
                {
                    "output_type": "execute_result",
                    "metadata": {},
                    "data": {
                        "text/plain": "PearsonRResult(statistic=-0.05444919272687482, pvalue=0.22422294836207743)"
                    },
                    "execution_count": null
                }
            ]
        },
        {
            "id": "b8cfbe0f",
            "cell_type": "markdown",
            "source": "A non-zero correlation coefficient can be misleading. For example, if X has\na standard normal distribution, define y = x if x < 0 and y = 0 otherwise.\nA simple calculation shows that corr(x, y) = sqrt(2/Pi) = 0.797...,\nimplying a high level of correlation:\n",
            "metadata": {}
        },
        {
            "id": "917644b1",
            "cell_type": "code",
            "metadata": {},
            "execution_count": null,
            "source": "y = np.where(x < 0, x, 0)\nstats.pearsonr(x, y)",
            "outputs": [
                {
                    "output_type": "execute_result",
                    "metadata": {},
                    "data": {
                        "text/plain": "PearsonRResult(statistic=0.861985781588, pvalue=4.813432002751103e-149)"
                    },
                    "execution_count": null
                }
            ]
        },
        {
            "id": "9825fe5a",
            "cell_type": "markdown",
            "source": "This is unintuitive since there is no dependence of x and y if x is larger\nthan zero which happens in about half of the cases if we sample x and y.",
            "metadata": {}
        }
    ]
}