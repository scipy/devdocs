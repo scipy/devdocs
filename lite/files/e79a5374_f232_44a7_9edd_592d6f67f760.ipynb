{
    "nbformat": 4,
    "nbformat_minor": 5,
    "metadata": {
        "kernelspec": {
            "display_name": "Python",
            "language": "python",
            "name": "python"
        },
        "language_info": {
            "name": "python"
        }
    },
    "cells": [
        {
            "id": "a4cd8a49",
            "cell_type": "markdown",
            "source": "<div class='alert alert-warning'>\n\nSciPy's interactive examples with Jupyterlite are experimental and may not always work as expected. Execution of cells containing imports may result in large downloads (up to 60MB of content for the first import from SciPy). Load times when importing from SciPy may take roughly 10-20 seconds. If you notice any problems, feel free to open an [issue](https://github.com/scipy/scipy/issues/new/choose).\n\n</div>",
            "metadata": {}
        },
        {
            "id": "6ce6c2a7",
            "cell_type": "markdown",
            "source": "Compute the Hankel function of the second kind of order 0 and\nits first two derivatives at 1.\n",
            "metadata": {}
        },
        {
            "id": "789c5856",
            "cell_type": "code",
            "metadata": {},
            "execution_count": null,
            "source": "from scipy.special import h2vp\nh2vp(0, 1, 0), h2vp(0, 1, 1), h2vp(0, 1, 2)",
            "outputs": [
                {
                    "output_type": "execute_result",
                    "metadata": {},
                    "data": {
                        "text/plain": "((0.7651976865579664-0.088256964215677j),\n (-0.44005058574493355-0.7812128213002889j),\n (-0.3251471008130329+0.8694697855159659j))"
                    },
                    "execution_count": null
                }
            ]
        },
        {
            "id": "d73dea85",
            "cell_type": "markdown",
            "source": "Compute the first derivative of the Hankel function of the second kind\nfor several orders at 1 by providing an array for `v`.\n",
            "metadata": {}
        },
        {
            "id": "b7b63c45",
            "cell_type": "code",
            "metadata": {},
            "execution_count": null,
            "source": "h2vp([0, 1, 2], 1, 1)",
            "outputs": [
                {
                    "output_type": "execute_result",
                    "metadata": {},
                    "data": {
                        "text/plain": "array([-0.44005059-0.78121282j,  0.3251471 -0.86946979j,\n       0.21024362-2.52015239j])"
                    },
                    "execution_count": null
                }
            ]
        },
        {
            "id": "fcd4ff4f",
            "cell_type": "markdown",
            "source": "Compute the first derivative of the Hankel function of the second kind\nof order 0 at several points by providing an array for `z`.\n",
            "metadata": {}
        },
        {
            "id": "af65eab1",
            "cell_type": "code",
            "metadata": {},
            "execution_count": null,
            "source": "import numpy as np\npoints = np.array([0.5, 1.5, 3.])\nh2vp(0, points, 1)",
            "outputs": [
                {
                    "output_type": "execute_result",
                    "metadata": {},
                    "data": {
                        "text/plain": "array([-0.24226846-1.47147239j, -0.55793651-0.41230863j,\n       -0.33905896+0.32467442j])"
                    },
                    "execution_count": null
                }
            ]
        }
    ]
}