{
    "nbformat": 4,
    "nbformat_minor": 5,
    "metadata": {
        "kernelspec": {
            "display_name": "Python",
            "language": "python",
            "name": "python"
        },
        "language_info": {
            "name": "python"
        }
    },
    "cells": [
        {
            "id": "84ccaede",
            "cell_type": "markdown",
            "source": "<div class='alert alert-warning'>\n\nSciPy's interactive examples with Jupyterlite are experimental and may not always work as expected. Execution of cells containing imports may result in large downloads (up to 60MB of content for the first import from SciPy). Load times when importing from SciPy may take roughly 10-20 seconds. If you notice any problems, feel free to open an [issue](https://github.com/scipy/scipy/issues/new/choose).\n\n</div>",
            "metadata": {}
        },
        {
            "id": "b89ebb5f",
            "cell_type": "code",
            "metadata": {},
            "execution_count": null,
            "source": "import numpy as np\nfrom scipy.linalg import fiedler_companion, eigvals\np = np.poly(np.arange(1, 9, 2))  # [1., -16., 86., -176., 105.]\nfc = fiedler_companion(p)\nfc",
            "outputs": [
                {
                    "output_type": "execute_result",
                    "metadata": {},
                    "data": {
                        "text/plain": "array([[  16.,  -86.,    1.,    0.],\n       [   1.,    0.,    0.,    0.],\n       [   0.,  176.,    0., -105.],\n       [   0.,    1.,    0.,    0.]])"
                    },
                    "execution_count": null
                }
            ]
        },
        {
            "id": "ecb2fe49",
            "cell_type": "code",
            "metadata": {},
            "execution_count": null,
            "source": "eigvals(fc)",
            "outputs": [
                {
                    "output_type": "execute_result",
                    "metadata": {},
                    "data": {
                        "text/plain": "array([7.+0.j, 5.+0.j, 3.+0.j, 1.+0.j])"
                    },
                    "execution_count": null
                }
            ]
        }
    ]
}