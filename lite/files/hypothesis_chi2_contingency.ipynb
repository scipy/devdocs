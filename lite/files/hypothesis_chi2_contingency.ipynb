{
 "cells": [
  {
   "cell_type": "markdown",
   "id": "849ad435",
   "metadata": {},
   "source": [
    "```{eval-rst}\n",
    ".. jupyterlite:: ../../_contents/hypothesis_chi2_contingency.ipynb\n",
    "   :new_tab: True\n",
    "```\n",
    "\n",
    "(hypothesis_chi2_contingency)=\n",
    "# Chi-square test of independence of variables in a contingency table\n",
    "\n",
    "In [^1], the use of aspirin to prevent cardiovascular events in women and men\n",
    "was investigated. The study notably concluded:\n",
    "\n",
    "> ...aspirin therapy reduced the risk of a composite of\n",
    "> cardiovascular events due to its effect on reducing the risk of\n",
    "> ischemic stroke in women [...]\n",
    "\n",
    "The article lists studies of various cardiovascular events. Let's focus on the\n",
    "ischemic stoke in women.\n",
    "\n",
    "The following table summarizes the results of the experiment in which\n",
    "participants took aspirin or a placebo on a regular basis for several years.\n",
    "Cases of ischemic stroke were recorded::\n",
    "\n",
    "|                 | Aspirin | Control/Placebo |\n",
    "|-----------------|---------|-----------------|\n",
    "| Ischemic stroke |    176  |        230      |\n",
    "| No stroke       |  21035  |      21018      |\n",
    "\n",
    "Is there evidence that the aspirin reduces the risk of ischemic stroke? We begin\n",
    "by formulating a null hypothesis $H_0$:\n",
    "\n",
    "> The effect of aspirin is equivalent to that of placebo.\n",
    "\n",
    "Let's assess the plausibility of this hypothesis with a\n",
    "{class}`chi-square test <scipy.stats.contingency.chi2_contingency>` with the\n",
    "observed [contingency table](https://en.wikipedia.org/wiki/Contingency_table)\n",
    "as our input."
   ]
  },
  {
   "cell_type": "code",
   "execution_count": null,
   "id": "dae72297",
   "metadata": {},
   "outputs": [],
   "source": [
    "import numpy as np\n",
    "from scipy.stats import chi2_contingency\n",
    "table = np.array([[176, 230], [21035, 21018]])\n",
    "res = chi2_contingency(table)\n",
    "res.statistic"
   ]
  },
  {
   "cell_type": "code",
   "execution_count": null,
   "id": "0fcbaed3",
   "metadata": {},
   "outputs": [],
   "source": [
    "res.pvalue"
   ]
  },
  {
   "cell_type": "markdown",
   "id": "bd1eb301",
   "metadata": {},
   "source": [
    "Using a significance level of 5%, we would reject the null hypothesis in favor\n",
    "of the alternative hypothesis: \"the effect of aspirin is not equivalent to the\n",
    "effect of placebo\". Because {class}`scipy.stats.contingency.chi2_contingency`\n",
    "performs a two-sided test, the alternative hypothesis does not indicate the\n",
    "direction of the effect. We can use {class}`scipy.stats.contingency.odds_ratio`\n",
    "to support the conclusion that aspirin *reduces* the risk of ischemic stroke.\n",
    "\n",
    "## References\n",
    "\n",
    "[^1]: Berger, Jeffrey S. et al. (2006) \"Aspirin for the Primary Prevention of\n",
    "      Cardiovascular Events in Women and Men: A Sex-Specific Meta-analysis of\n",
    "      Randomized Controlled Trials.\" JAMA, 295(3):306-313.\n",
    "      {doi}`10.1001/jama.295.3.306`"
   ]
  }
 ],
 "metadata": {
  "kernelspec": {
   "display_name": "Python 3 (ipykernel)",
   "language": "python",
   "name": "python3"
  }
 },
 "nbformat": 4,
 "nbformat_minor": 5
}
