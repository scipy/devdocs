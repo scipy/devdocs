{
    "nbformat": 4,
    "nbformat_minor": 5,
    "metadata": {
        "kernelspec": {
            "display_name": "Python",
            "language": "python",
            "name": "python"
        },
        "language_info": {
            "name": "python"
        }
    },
    "cells": [
        {
            "id": "6acd8db5",
            "cell_type": "markdown",
            "source": "<div class='alert alert-warning'>\n\nSciPy's interactive examples with Jupyterlite are experimental and may not always work as expected. Execution of cells containing imports may result in large downloads (up to 60MB of content for the first import from SciPy). Load times when importing from SciPy may take roughly 10-20 seconds. If you notice any problems, feel free to open an [issue](https://github.com/scipy/scipy/issues/new/choose).\n\n</div>",
            "metadata": {}
        },
        {
            "id": "d5358bc0",
            "cell_type": "code",
            "metadata": {},
            "execution_count": null,
            "source": "import numpy as np\nfrom scipy import special\nfrom scipy import stats\nimport matplotlib.pyplot as plt",
            "outputs": []
        },
        {
            "id": "6e78e20c",
            "cell_type": "markdown",
            "source": "Plot the CDF of the non-central F distribution, for nc=0.  Compare with the\nF-distribution from scipy.stats:\n",
            "metadata": {}
        },
        {
            "id": "c248aefd",
            "cell_type": "code",
            "metadata": {},
            "execution_count": null,
            "source": "x = np.linspace(-1, 8, num=500)\ndfn = 3\ndfd = 2\nncf_stats = stats.f.cdf(x, dfn, dfd)\nncf_special = special.ncfdtr(dfn, dfd, 0, x)",
            "outputs": []
        },
        {
            "id": "debdd5b8",
            "cell_type": "code",
            "metadata": {},
            "execution_count": null,
            "source": "fig = plt.figure()\nax = fig.add_subplot(111)\nax.plot(x, ncf_stats, 'b-', lw=3)\nax.plot(x, ncf_special, 'r-')\nplt.show()",
            "outputs": []
        }
    ]
}