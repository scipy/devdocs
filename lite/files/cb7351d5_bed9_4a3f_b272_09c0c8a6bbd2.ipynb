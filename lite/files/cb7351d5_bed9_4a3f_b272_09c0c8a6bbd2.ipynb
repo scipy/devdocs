{
    "nbformat": 4,
    "nbformat_minor": 5,
    "metadata": {
        "kernelspec": {
            "display_name": "Python",
            "language": "python",
            "name": "python"
        },
        "language_info": {
            "name": "python"
        }
    },
    "cells": [
        {
            "id": "1f84b250",
            "cell_type": "markdown",
            "source": "<div class='alert alert-warning'>\n\nSciPy's interactive examples with Jupyterlite are experimental and may not always work as expected. Execution of cells containing imports may result in large downloads (up to 60MB of content for the first import from SciPy). Load times when importing from SciPy may take roughly 10-20 seconds. If you notice any problems, feel free to open an [issue](https://github.com/scipy/scipy/issues/new/choose).\n\n</div>",
            "metadata": {}
        },
        {
            "id": "4391a2fc",
            "cell_type": "code",
            "metadata": {},
            "execution_count": null,
            "source": "import numpy as np\nfrom scipy.special import exp2",
            "outputs": []
        },
        {
            "id": "ad3ffac9",
            "cell_type": "code",
            "metadata": {},
            "execution_count": null,
            "source": "exp2(3)",
            "outputs": [
                {
                    "output_type": "execute_result",
                    "metadata": {},
                    "data": {
                        "text/plain": "8.0"
                    },
                    "execution_count": null
                }
            ]
        },
        {
            "id": "342b4a1a",
            "cell_type": "code",
            "metadata": {},
            "execution_count": null,
            "source": "x = np.array([[-1, -0.5, 0], [0.5, 1, 1.5]])\nexp2(x)",
            "outputs": [
                {
                    "output_type": "execute_result",
                    "metadata": {},
                    "data": {
                        "text/plain": "array([[ 0.5       ,  0.70710678,  1.        ],\n       [ 1.41421356,  2.        ,  2.82842712]])"
                    },
                    "execution_count": null
                }
            ]
        }
    ]
}