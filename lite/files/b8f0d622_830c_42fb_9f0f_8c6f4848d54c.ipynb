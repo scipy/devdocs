{
    "nbformat": 4,
    "nbformat_minor": 5,
    "metadata": {
        "kernelspec": {
            "display_name": "Python",
            "language": "python",
            "name": "python"
        },
        "language_info": {
            "name": "python"
        }
    },
    "cells": [
        {
            "id": "55386ce5",
            "cell_type": "markdown",
            "source": "<div class='alert alert-warning'>\n\nSciPy's interactive examples with Jupyterlite are experimental and may not always work as expected. Execution of cells containing imports may result in large downloads (up to 60MB of content for the first import from SciPy). Load times when importing from SciPy may take roughly 10-20 seconds. If you notice any problems, feel free to open an [issue](https://github.com/scipy/scipy/issues/new/choose).\n\n</div>",
            "metadata": {}
        },
        {
            "id": "7a440183",
            "cell_type": "markdown",
            "source": "Find the Euclidean distances between four 2-D coordinates:\n",
            "metadata": {}
        },
        {
            "id": "3d802269",
            "cell_type": "code",
            "metadata": {},
            "execution_count": null,
            "source": "from scipy.spatial import distance\nimport numpy as np\ncoords = [(35.0456, -85.2672),\n          (35.1174, -89.9711),\n          (35.9728, -83.9422),\n          (36.1667, -86.7833)]\ndistance.cdist(coords, coords, 'euclidean')",
            "outputs": [
                {
                    "output_type": "execute_result",
                    "metadata": {},
                    "data": {
                        "text/plain": "array([[ 0.    ,  4.7044,  1.6172,  1.8856],\n       [ 4.7044,  0.    ,  6.0893,  3.3561],\n       [ 1.6172,  6.0893,  0.    ,  2.8477],\n       [ 1.8856,  3.3561,  2.8477,  0.    ]])"
                    },
                    "execution_count": null
                }
            ]
        },
        {
            "id": "738d7f84",
            "cell_type": "markdown",
            "source": "Find the Manhattan distance from a 3-D point to the corners of the unit\ncube:\n",
            "metadata": {}
        },
        {
            "id": "764f0e57",
            "cell_type": "code",
            "metadata": {},
            "execution_count": null,
            "source": "a = np.array([[0, 0, 0],\n              [0, 0, 1],\n              [0, 1, 0],\n              [0, 1, 1],\n              [1, 0, 0],\n              [1, 0, 1],\n              [1, 1, 0],\n              [1, 1, 1]])\nb = np.array([[ 0.1,  0.2,  0.4]])\ndistance.cdist(a, b, 'cityblock')",
            "outputs": [
                {
                    "output_type": "execute_result",
                    "metadata": {},
                    "data": {
                        "text/plain": "array([[ 0.7],\n       [ 0.9],\n       [ 1.3],\n       [ 1.5],\n       [ 1.5],\n       [ 1.7],\n       [ 2.1],\n       [ 2.3]])"
                    },
                    "execution_count": null
                }
            ]
        }
    ]
}