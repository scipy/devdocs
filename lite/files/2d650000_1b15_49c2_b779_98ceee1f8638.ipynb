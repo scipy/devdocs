{
    "nbformat": 4,
    "nbformat_minor": 5,
    "metadata": {
        "kernelspec": {
            "display_name": "Python",
            "language": "python",
            "name": "python"
        },
        "language_info": {
            "name": "python"
        }
    },
    "cells": [
        {
            "id": "966d536c",
            "cell_type": "markdown",
            "source": "<div class='alert alert-warning'>\n\nSciPy's interactive examples with Jupyterlite are experimental and may not always work as expected. Execution of cells containing imports may result in large downloads (up to 60MB of content for the first import from SciPy). Load times when importing from SciPy may take roughly 10-20 seconds. If you notice any problems, feel free to open an [issue](https://github.com/scipy/scipy/issues/new/choose).\n\n</div>",
            "metadata": {}
        },
        {
            "id": "c373d5e4",
            "cell_type": "markdown",
            "source": "To understand the effect of the bounds of integration consider\n",
            "metadata": {}
        },
        {
            "id": "ed67217f",
            "cell_type": "code",
            "metadata": {},
            "execution_count": null,
            "source": "from scipy.stats import expon\nexpon(1).expect(lambda x: 1, lb=0.0, ub=2.0)",
            "outputs": [
                {
                    "output_type": "execute_result",
                    "metadata": {},
                    "data": {
                        "text/plain": "0.6321205588285578"
                    },
                    "execution_count": null
                }
            ]
        },
        {
            "id": "3ab967db",
            "cell_type": "markdown",
            "source": "This is close to\n",
            "metadata": {}
        },
        {
            "id": "64d6a9c9",
            "cell_type": "code",
            "metadata": {},
            "execution_count": null,
            "source": "expon(1).cdf(2.0) - expon(1).cdf(0.0)",
            "outputs": [
                {
                    "output_type": "execute_result",
                    "metadata": {},
                    "data": {
                        "text/plain": "0.6321205588285577"
                    },
                    "execution_count": null
                }
            ]
        },
        {
            "id": "36660905",
            "cell_type": "markdown",
            "source": "If ``conditional=True``\n",
            "metadata": {}
        },
        {
            "id": "246d1ead",
            "cell_type": "code",
            "metadata": {},
            "execution_count": null,
            "source": "expon(1).expect(lambda x: 1, lb=0.0, ub=2.0, conditional=True)",
            "outputs": [
                {
                    "output_type": "execute_result",
                    "metadata": {},
                    "data": {
                        "text/plain": "1.0000000000000002"
                    },
                    "execution_count": null
                }
            ]
        },
        {
            "id": "91d89fbc",
            "cell_type": "markdown",
            "source": "The slight deviation from 1 is due to numerical integration.\n\nThe integrand can be treated as a complex-valued function\nby passing ``complex_func=True`` to `scipy.integrate.quad` .\n",
            "metadata": {}
        },
        {
            "id": "42043ab9",
            "cell_type": "code",
            "metadata": {},
            "execution_count": null,
            "source": "import numpy as np\nfrom scipy.stats import vonmises\nres = vonmises(loc=2, kappa=1).expect(lambda x: np.exp(1j*x),\n                                      complex_func=True)\nres",
            "outputs": [
                {
                    "output_type": "execute_result",
                    "metadata": {},
                    "data": {
                        "text/plain": "(-0.18576377217422957+0.40590124735052263j)"
                    },
                    "execution_count": null
                }
            ]
        },
        {
            "id": "b9835267",
            "cell_type": "code",
            "metadata": {},
            "execution_count": null,
            "source": "np.angle(res)  # location of the (circular) distribution",
            "outputs": [
                {
                    "output_type": "execute_result",
                    "metadata": {},
                    "data": {
                        "text/plain": "2.0"
                    },
                    "execution_count": null
                }
            ]
        }
    ]
}