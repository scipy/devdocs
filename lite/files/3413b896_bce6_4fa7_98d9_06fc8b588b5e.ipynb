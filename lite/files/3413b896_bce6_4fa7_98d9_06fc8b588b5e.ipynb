{
    "nbformat": 4,
    "nbformat_minor": 5,
    "metadata": {
        "kernelspec": {
            "display_name": "Python",
            "language": "python",
            "name": "python"
        },
        "language_info": {
            "name": "python"
        }
    },
    "cells": [
        {
            "id": "267959d6",
            "cell_type": "markdown",
            "source": "<div class='alert alert-warning'>\n\nSciPy's interactive examples with Jupyterlite are experimental and may not always work as expected. Execution of cells containing imports may result in large downloads (up to 60MB of content for the first import from SciPy). Load times when importing from SciPy may take roughly 10-20 seconds. If you notice any problems, feel free to open an [issue](https://github.com/scipy/scipy/issues/new/choose).\n\n</div>",
            "metadata": {}
        },
        {
            "id": "c91856dc",
            "cell_type": "markdown",
            "source": "Given `a` and `q` solve for `x`:\n",
            "metadata": {}
        },
        {
            "id": "fe94cb74",
            "cell_type": "code",
            "metadata": {},
            "execution_count": null,
            "source": "import numpy as np\nfrom scipy import linalg\na = np.array([[-3, -2, 0], [-1, -1, 0], [0, -5, -1]])\nb = np.array([2, 4, -1])\nq = np.eye(3)\nx = linalg.solve_continuous_lyapunov(a, q)\nx",
            "outputs": [
                {
                    "output_type": "execute_result",
                    "metadata": {},
                    "data": {
                        "text/plain": "array([[ -0.75  ,   0.875 ,  -3.75  ],\n       [  0.875 ,  -1.375 ,   5.3125],\n       [ -3.75  ,   5.3125, -27.0625]])"
                    },
                    "execution_count": null
                }
            ]
        },
        {
            "id": "fb71af6b",
            "cell_type": "code",
            "metadata": {},
            "execution_count": null,
            "source": "np.allclose(a.dot(x) + x.dot(a.T), q)",
            "outputs": [
                {
                    "output_type": "execute_result",
                    "metadata": {},
                    "data": {
                        "text/plain": "True"
                    },
                    "execution_count": null
                }
            ]
        }
    ]
}