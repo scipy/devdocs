{
    "nbformat": 4,
    "nbformat_minor": 5,
    "metadata": {
        "kernelspec": {
            "display_name": "Python",
            "language": "python",
            "name": "python"
        },
        "language_info": {
            "name": "python"
        }
    },
    "cells": [
        {
            "id": "3a568d9a",
            "cell_type": "markdown",
            "source": "<div class='alert alert-warning'>\n\nSciPy's interactive examples with Jupyterlite are experimental and may not always work as expected. Execution of cells containing imports may result in large downloads (up to 60MB of content for the first import from SciPy). Load times when importing from SciPy may take roughly 10-20 seconds. If you notice any problems, feel free to open an [issue](https://github.com/scipy/scipy/issues/new/choose).\n\n</div>",
            "metadata": {}
        },
        {
            "id": "6a9e6800",
            "cell_type": "markdown",
            "source": "The following example discusses decomposing a signal into time- and\nfrequency-shifted Gaussians. A Gaussian with standard deviation of\none made up of 51 samples will be used:\n",
            "metadata": {}
        },
        {
            "id": "e843b042",
            "cell_type": "code",
            "metadata": {},
            "execution_count": null,
            "source": "import numpy as np\nimport matplotlib.pyplot as plt\nfrom scipy.signal import ShortTimeFFT\nfrom scipy.signal.windows import gaussian\n\nT, N = 0.1, 51\nd_win = gaussian(N, std=1/T, sym=True)  # symmetric Gaussian window\nt = T * (np.arange(N) - N//2)\n\nfg1, ax1 = plt.subplots()\nax1.set_title(r\"Dual Window: Gaussian with $\\sigma_t=1$\")\nax1.set(xlabel=f\"Time $t$ in seconds ({N} samples, $T={T}$ s)\",\n       xlim=(t[0], t[-1]), ylim=(0, 1.1*max(d_win)))\nax1.plot(t, d_win, 'C0-')",
            "outputs": []
        },
        {
            "id": "39e5ef7c",
            "cell_type": "markdown",
            "source": "The following plot with the overlap of 41, 11 and 2 samples show how\nthe `hop` interval affects the shape of the window `win`:\n",
            "metadata": {}
        },
        {
            "id": "55a02cf5",
            "cell_type": "code",
            "metadata": {},
            "execution_count": null,
            "source": "fig2, axx = plt.subplots(3, 1, sharex='all')\n\naxx[0].set_title(r\"Windows for hop$\\in\\{10, 40, 49\\}$\")\nfor c_, h_ in enumerate([10, 40, 49]):\n    SFT = ShortTimeFFT.from_dual(d_win, h_, 1/T)\n    axx[c_].plot(t + h_ * T, SFT.win, 'k--', alpha=.3, label=None)\n    axx[c_].plot(t - h_ * T, SFT.win, 'k:', alpha=.3, label=None)\n    axx[c_].plot(t, SFT.win, f'C{c_+1}',\n                    label=r\"$\\Delta t=%0.1f\\,$s\" % SFT.delta_t)\n    axx[c_].set_ylim(0, 1.1*max(SFT.win))\n    axx[c_].legend(loc='center')\naxx[-1].set(xlabel=f\"Time $t$ in seconds ({N} samples, $T={T}$ s)\",\n            xlim=(t[0], t[-1]))\nplt.show()",
            "outputs": []
        },
        {
            "id": "eb4d4778",
            "cell_type": "markdown",
            "source": "Beside the window `win` centered at t = 0 the previous (t = -`delta_t`)\nand following window (t = `delta_t`) are depicted. It can be seen that\nfor small `hop` intervals, the window is compact and smooth, having a\ngood time-frequency concentration in the STFT. For the large `hop`\ninterval of 4.9 s, the window has small values around t = 0, which are\nnot covered by the overlap of the adjacent windows, which could lead to\nnumeric inaccuracies. Furthermore, the peaky shape at the beginning and\nthe end of the window points to a higher bandwidth, resulting in a\npoorer time-frequency resolution of the STFT.\nHence, the choice of the `hop` interval will be a compromise between\na time-frequency resolution and memory requirements demanded by small\n`hop` sizes.\n",
            "metadata": {}
        }
    ]
}