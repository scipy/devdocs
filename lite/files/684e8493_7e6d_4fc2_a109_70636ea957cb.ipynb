{
    "nbformat": 4,
    "nbformat_minor": 5,
    "metadata": {
        "kernelspec": {
            "display_name": "Python",
            "language": "python",
            "name": "python"
        },
        "language_info": {
            "name": "python"
        }
    },
    "cells": [
        {
            "id": "3da97efe",
            "cell_type": "markdown",
            "source": "<div class='alert alert-warning'>\n\nSciPy's interactive examples with Jupyterlite are experimental and may not always work as expected. Execution of cells containing imports may result in large downloads (up to 60MB of content for the first import from SciPy). Load times when importing from SciPy may take roughly 10-20 seconds. If you notice any problems, feel free to open an [issue](https://github.com/scipy/scipy/issues/new/choose).\n\n</div>",
            "metadata": {}
        },
        {
            "id": "79ce474f",
            "cell_type": "code",
            "metadata": {},
            "execution_count": null,
            "source": "import numpy as np\nfrom scipy.linalg import qr_multiply, qr\nA = np.array([[1, 3, 3], [2, 3, 2], [2, 3, 3], [1, 3, 2]])\nqc, r1, piv1 = qr_multiply(A, 2*np.eye(4), pivoting=1)\nqc",
            "outputs": [
                {
                    "output_type": "execute_result",
                    "metadata": {},
                    "data": {
                        "text/plain": "array([[-1.,  1., -1.],\n       [-1., -1.,  1.],\n       [-1., -1., -1.],\n       [-1.,  1.,  1.]])"
                    },
                    "execution_count": null
                }
            ]
        },
        {
            "id": "53b2299a",
            "cell_type": "code",
            "metadata": {},
            "execution_count": null,
            "source": "r1",
            "outputs": [
                {
                    "output_type": "execute_result",
                    "metadata": {},
                    "data": {
                        "text/plain": "array([[-6., -3., -5.            ],\n       [ 0., -1., -1.11022302e-16],\n       [ 0.,  0., -1.            ]])"
                    },
                    "execution_count": null
                }
            ]
        },
        {
            "id": "938f9054",
            "cell_type": "code",
            "metadata": {},
            "execution_count": null,
            "source": "piv1",
            "outputs": [
                {
                    "output_type": "execute_result",
                    "metadata": {},
                    "data": {
                        "text/plain": "array([1, 0, 2], dtype=int32)"
                    },
                    "execution_count": null
                }
            ]
        },
        {
            "id": "398fb6fd",
            "cell_type": "code",
            "metadata": {},
            "execution_count": null,
            "source": "q2, r2, piv2 = qr(A, mode='economic', pivoting=1)\nnp.allclose(2*q2 - qc, np.zeros((4, 3)))",
            "outputs": [
                {
                    "output_type": "execute_result",
                    "metadata": {},
                    "data": {
                        "text/plain": "True"
                    },
                    "execution_count": null
                }
            ]
        }
    ]
}