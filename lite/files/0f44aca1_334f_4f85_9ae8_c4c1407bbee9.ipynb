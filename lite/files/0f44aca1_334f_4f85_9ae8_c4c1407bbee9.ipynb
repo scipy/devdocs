{
    "nbformat": 4,
    "nbformat_minor": 5,
    "metadata": {
        "kernelspec": {
            "display_name": "Python",
            "language": "python",
            "name": "python"
        },
        "language_info": {
            "name": "python"
        }
    },
    "cells": [
        {
            "id": "7bdd5497",
            "cell_type": "markdown",
            "source": "<div class='alert alert-warning'>\n\nSciPy's interactive examples with Jupyterlite are experimental and may not always work as expected. Execution of cells containing imports may result in large downloads (up to 60MB of content for the first import from SciPy). Load times when importing from SciPy may take roughly 10-20 seconds. If you notice any problems, feel free to open an [issue](https://github.com/scipy/scipy/issues/new/choose).\n\n</div>",
            "metadata": {}
        },
        {
            "id": "8fddd27a",
            "cell_type": "markdown",
            "source": "Calculate $\\int^4_0 x^2 dx$ and compare with an analytic result\n",
            "metadata": {}
        },
        {
            "id": "f0b7ccbf",
            "cell_type": "code",
            "metadata": {},
            "execution_count": null,
            "source": "from scipy import integrate\nimport numpy as np\nx2 = lambda x: x**2\nintegrate.quad(x2, 0, 4)",
            "outputs": [
                {
                    "output_type": "execute_result",
                    "metadata": {},
                    "data": {
                        "text/plain": "(21.333333333333332, 2.3684757858670003e-13)"
                    },
                    "execution_count": null
                }
            ]
        },
        {
            "id": "28b2ab1a",
            "cell_type": "code",
            "metadata": {},
            "execution_count": null,
            "source": "print(4**3 / 3.)  # analytical result",
            "outputs": [
                {
                    "output_type": "execute_result",
                    "metadata": {},
                    "data": {
                        "text/plain": "21.3333333333"
                    },
                    "execution_count": null
                }
            ]
        },
        {
            "id": "23cc27a9",
            "cell_type": "markdown",
            "source": "Calculate $\\int^\\infty_0 e^{-x} dx$\n",
            "metadata": {}
        },
        {
            "id": "d7a23a4f",
            "cell_type": "code",
            "metadata": {},
            "execution_count": null,
            "source": "invexp = lambda x: np.exp(-x)\nintegrate.quad(invexp, 0, np.inf)",
            "outputs": [
                {
                    "output_type": "execute_result",
                    "metadata": {},
                    "data": {
                        "text/plain": "(1.0, 5.842605999138044e-11)"
                    },
                    "execution_count": null
                }
            ]
        },
        {
            "id": "aa551891",
            "cell_type": "markdown",
            "source": "Calculate $\\int^1_0 a x \\,dx$ for $a = 1, 3$\n",
            "metadata": {}
        },
        {
            "id": "d7c27f66",
            "cell_type": "code",
            "metadata": {},
            "execution_count": null,
            "source": "f = lambda x, a: a*x\ny, err = integrate.quad(f, 0, 1, args=(1,))\ny",
            "outputs": [
                {
                    "output_type": "execute_result",
                    "metadata": {},
                    "data": {
                        "text/plain": "0.5"
                    },
                    "execution_count": null
                }
            ]
        },
        {
            "id": "9ef10cf3",
            "cell_type": "code",
            "metadata": {},
            "execution_count": null,
            "source": "y, err = integrate.quad(f, 0, 1, args=(3,))\ny",
            "outputs": [
                {
                    "output_type": "execute_result",
                    "metadata": {},
                    "data": {
                        "text/plain": "1.5"
                    },
                    "execution_count": null
                }
            ]
        },
        {
            "id": "a1149e1c",
            "cell_type": "markdown",
            "source": "Calculate $\\int^1_0 x^2 + y^2 dx$ with ctypes, holding\ny parameter as 1\n```\n\ntestlib.c =>\ndouble func(int n, double args[n]){\nreturn args[0]*args[0] + args[1]*args[1];}\ncompile to library testlib.*\n\n```\n```\n\nfrom scipy import integrate\nimport ctypes\nlib = ctypes.CDLL('/home/.../testlib.*') #use absolute path\nlib.func.restype = ctypes.c_double\nlib.func.argtypes = (ctypes.c_int,ctypes.c_double)\nintegrate.quad(lib.func,0,1,(1))\n#(1.3333333333333333, 1.4802973661668752e-14)\nprint((1.0**3/3.0 + 1.0) - (0.0**3/3.0 + 0.0)) #Analytic result\n# 1.3333333333333333\n\n```\nBe aware that pulse shapes and other sharp features as compared to the\nsize of the integration interval may not be integrated correctly using\nthis method. A simplified example of this limitation is integrating a\ny-axis reflected step function with many zero values within the integrals\nbounds.\n",
            "metadata": {}
        },
        {
            "id": "b179b17f",
            "cell_type": "code",
            "metadata": {},
            "execution_count": null,
            "source": "y = lambda x: 1 if x<=0 else 0\nintegrate.quad(y, -1, 1)",
            "outputs": [
                {
                    "output_type": "execute_result",
                    "metadata": {},
                    "data": {
                        "text/plain": "(1.0, 1.1102230246251565e-14)"
                    },
                    "execution_count": null
                }
            ]
        },
        {
            "id": "3251906b",
            "cell_type": "code",
            "metadata": {},
            "execution_count": null,
            "source": "integrate.quad(y, -1, 100)",
            "outputs": [
                {
                    "output_type": "execute_result",
                    "metadata": {},
                    "data": {
                        "text/plain": "(1.0000000002199108, 1.0189464580163188e-08)"
                    },
                    "execution_count": null
                }
            ]
        },
        {
            "id": "13afa608",
            "cell_type": "code",
            "metadata": {},
            "execution_count": null,
            "source": "integrate.quad(y, -1, 10000)",
            "outputs": [
                {
                    "output_type": "execute_result",
                    "metadata": {},
                    "data": {
                        "text/plain": "(0.0, 0.0)"
                    },
                    "execution_count": null
                }
            ]
        }
    ]
}