{
    "nbformat": 4,
    "nbformat_minor": 5,
    "metadata": {
        "kernelspec": {
            "display_name": "Python",
            "language": "python",
            "name": "python"
        },
        "language_info": {
            "name": "python"
        }
    },
    "cells": [
        {
            "id": "54fbb6c5",
            "cell_type": "markdown",
            "source": "<div class='alert alert-warning'>\n\nSciPy's interactive examples with Jupyterlite are experimental and may not always work as expected. Execution of cells containing imports may result in large downloads (up to 60MB of content for the first import from SciPy). Load times when importing from SciPy may take roughly 10-20 seconds. If you notice any problems, feel free to open an [issue](https://github.com/scipy/scipy/issues/new/choose).\n\n</div>",
            "metadata": {}
        },
        {
            "id": "1f41b24c",
            "cell_type": "markdown",
            "source": "You can search all pairs of points between two kd-trees within a distance:\n",
            "metadata": {}
        },
        {
            "id": "f3a84c58",
            "cell_type": "code",
            "metadata": {},
            "execution_count": null,
            "source": "import matplotlib.pyplot as plt\nimport numpy as np\nfrom scipy.spatial import KDTree\nrng = np.random.default_rng()\npoints1 = rng.random((15, 2))\npoints2 = rng.random((15, 2))\nplt.figure(figsize=(6, 6))\nplt.plot(points1[:, 0], points1[:, 1], \"xk\", markersize=14)\nplt.plot(points2[:, 0], points2[:, 1], \"og\", markersize=14)\nkd_tree1 = KDTree(points1)\nkd_tree2 = KDTree(points2)\nindexes = kd_tree1.query_ball_tree(kd_tree2, r=0.2)\nfor i in range(len(indexes)):\n    for j in indexes[i]:\n        plt.plot([points1[i, 0], points2[j, 0]],\n            [points1[i, 1], points2[j, 1]], \"-r\")\nplt.show()",
            "outputs": []
        }
    ]
}