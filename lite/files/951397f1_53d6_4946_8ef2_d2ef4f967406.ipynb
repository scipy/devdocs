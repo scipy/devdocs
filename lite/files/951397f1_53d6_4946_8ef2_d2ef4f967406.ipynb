{
    "nbformat": 4,
    "nbformat_minor": 5,
    "metadata": {
        "kernelspec": {
            "display_name": "Python",
            "language": "python",
            "name": "python"
        },
        "language_info": {
            "name": "python"
        }
    },
    "cells": [
        {
            "id": "a1f8d5fe",
            "cell_type": "markdown",
            "source": "<div class='alert alert-warning'>\n\nSciPy's interactive examples with Jupyterlite are experimental and may not always work as expected. Execution of cells containing imports may result in large downloads (up to 60MB of content for the first import from SciPy). Load times when importing from SciPy may take roughly 10-20 seconds. If you notice any problems, feel free to open an [issue](https://github.com/scipy/scipy/issues/new/choose).\n\n</div>",
            "metadata": {}
        },
        {
            "id": "25a25cc8",
            "cell_type": "markdown",
            "source": "The LU decomposition can be used to solve matrix equations. Consider:\n",
            "metadata": {}
        },
        {
            "id": "050d7b58",
            "cell_type": "code",
            "metadata": {},
            "execution_count": null,
            "source": "import numpy as np\nfrom scipy.sparse import csc_matrix\nfrom scipy.sparse.linalg import splu\nA = csc_matrix([[1,2,0,4], [1,0,0,1], [1,0,2,1], [2,2,1,0.]])",
            "outputs": []
        },
        {
            "id": "b81c8770",
            "cell_type": "markdown",
            "source": "This can be solved for a given right-hand side:\n",
            "metadata": {}
        },
        {
            "id": "fb99384e",
            "cell_type": "code",
            "metadata": {},
            "execution_count": null,
            "source": "lu = splu(A)\nb = np.array([1, 2, 3, 4])\nx = lu.solve(b)\nA.dot(x)",
            "outputs": [
                {
                    "output_type": "execute_result",
                    "metadata": {},
                    "data": {
                        "text/plain": "array([ 1.,  2.,  3.,  4.])"
                    },
                    "execution_count": null
                }
            ]
        },
        {
            "id": "6063a83f",
            "cell_type": "markdown",
            "source": "The ``lu`` object also contains an explicit representation of the\ndecomposition. The permutations are represented as mappings of\nindices:\n",
            "metadata": {}
        },
        {
            "id": "d85da4f2",
            "cell_type": "code",
            "metadata": {},
            "execution_count": null,
            "source": "lu.perm_r",
            "outputs": [
                {
                    "output_type": "execute_result",
                    "metadata": {},
                    "data": {
                        "text/plain": "array([2, 1, 3, 0], dtype=int32)  # may vary"
                    },
                    "execution_count": null
                }
            ]
        },
        {
            "id": "745fb09c",
            "cell_type": "code",
            "metadata": {},
            "execution_count": null,
            "source": "lu.perm_c",
            "outputs": [
                {
                    "output_type": "execute_result",
                    "metadata": {},
                    "data": {
                        "text/plain": "array([0, 1, 3, 2], dtype=int32)  # may vary"
                    },
                    "execution_count": null
                }
            ]
        },
        {
            "id": "c4e15202",
            "cell_type": "markdown",
            "source": "The L and U factors are sparse matrices in CSC format:\n",
            "metadata": {}
        },
        {
            "id": "dc0a135d",
            "cell_type": "code",
            "metadata": {},
            "execution_count": null,
            "source": "lu.L.toarray()",
            "outputs": [
                {
                    "output_type": "execute_result",
                    "metadata": {},
                    "data": {
                        "text/plain": "array([[ 1. ,  0. ,  0. ,  0. ],  # may vary\n       [ 0.5,  1. ,  0. ,  0. ],\n       [ 0.5, -1. ,  1. ,  0. ],\n       [ 0.5,  1. ,  0. ,  1. ]])"
                    },
                    "execution_count": null
                }
            ]
        },
        {
            "id": "06418a82",
            "cell_type": "code",
            "metadata": {},
            "execution_count": null,
            "source": "lu.U.toarray()",
            "outputs": [
                {
                    "output_type": "execute_result",
                    "metadata": {},
                    "data": {
                        "text/plain": "array([[ 2. ,  2. ,  0. ,  1. ],  # may vary\n       [ 0. , -1. ,  1. , -0.5],\n       [ 0. ,  0. ,  5. , -1. ],\n       [ 0. ,  0. ,  0. ,  2. ]])"
                    },
                    "execution_count": null
                }
            ]
        },
        {
            "id": "49ef1c54",
            "cell_type": "markdown",
            "source": "The permutation matrices can be constructed:\n",
            "metadata": {}
        },
        {
            "id": "bcaf7758",
            "cell_type": "code",
            "metadata": {},
            "execution_count": null,
            "source": "Pr = csc_matrix((np.ones(4), (lu.perm_r, np.arange(4))))\nPc = csc_matrix((np.ones(4), (np.arange(4), lu.perm_c)))",
            "outputs": []
        },
        {
            "id": "4f92c31d",
            "cell_type": "markdown",
            "source": "We can reassemble the original matrix:\n",
            "metadata": {}
        },
        {
            "id": "032cf2ec",
            "cell_type": "code",
            "metadata": {},
            "execution_count": null,
            "source": "(Pr.T @ (lu.L @ lu.U) @ Pc.T).toarray()",
            "outputs": [
                {
                    "output_type": "execute_result",
                    "metadata": {},
                    "data": {
                        "text/plain": "array([[ 1.,  2.,  0.,  4.],\n       [ 1.,  0.,  0.,  1.],\n       [ 1.,  0.,  2.,  1.],\n       [ 2.,  2.,  1.,  0.]])"
                    },
                    "execution_count": null
                }
            ]
        }
    ]
}