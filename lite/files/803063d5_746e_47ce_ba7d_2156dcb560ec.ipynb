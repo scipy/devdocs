{
    "nbformat": 4,
    "nbformat_minor": 5,
    "metadata": {
        "kernelspec": {
            "display_name": "Python",
            "language": "python",
            "name": "python"
        },
        "language_info": {
            "name": "python"
        }
    },
    "cells": [
        {
            "id": "daca8214",
            "cell_type": "markdown",
            "source": "<div class='alert alert-warning'>\n\nSciPy's interactive examples with Jupyterlite are experimental and may not always work as expected. Execution of cells containing imports may result in large downloads (up to 60MB of content for the first import from SciPy). Load times when importing from SciPy may take roughly 10-20 seconds. If you notice any problems, feel free to open an [issue](https://github.com/scipy/scipy/issues/new/choose).\n\n</div>",
            "metadata": {}
        },
        {
            "id": "9ca025b4",
            "cell_type": "markdown",
            "source": "Import the necessary modules.\n",
            "metadata": {}
        },
        {
            "id": "ee5dab9d",
            "cell_type": "code",
            "metadata": {},
            "execution_count": null,
            "source": "import numpy as np\nfrom scipy.ndimage import distance_transform_cdt\nimport matplotlib.pyplot as plt\nfrom mpl_toolkits.axes_grid1 import ImageGrid",
            "outputs": []
        },
        {
            "id": "4bd31312",
            "cell_type": "markdown",
            "source": "First, we create a toy binary image.\n",
            "metadata": {}
        },
        {
            "id": "bbac33a9",
            "cell_type": "code",
            "metadata": {},
            "execution_count": null,
            "source": "def add_circle(center_x, center_y, radius, image, fillvalue=1):\n    # fill circular area with 1\n    xx, yy = np.mgrid[:image.shape[0], :image.shape[1]]\n    circle = (xx - center_x) ** 2 + (yy - center_y) ** 2\n    circle_shape = np.sqrt(circle) < radius\n    image[circle_shape] = fillvalue\n    return image\nimage = np.zeros((100, 100), dtype=np.uint8)\nimage[35:65, 20:80] = 1\nimage = add_circle(28, 65, 10, image)\nimage = add_circle(37, 30, 10, image)\nimage = add_circle(70, 45, 20, image)\nimage = add_circle(45, 80, 10, image)",
            "outputs": []
        },
        {
            "id": "1cc0faa3",
            "cell_type": "markdown",
            "source": "Next, we set up the figure.\n",
            "metadata": {}
        },
        {
            "id": "b52a1dea",
            "cell_type": "code",
            "metadata": {},
            "execution_count": null,
            "source": "fig = plt.figure(figsize=(5, 15))\ngrid = ImageGrid(fig, 111, nrows_ncols=(3, 1), axes_pad=(0.5, 0.3),\n                 label_mode=\"1\", share_all=True,\n                 cbar_location=\"right\", cbar_mode=\"each\",\n                 cbar_size=\"7%\", cbar_pad=\"2%\")\nfor ax in grid:\n    ax.axis('off')\ntop, middle, bottom = grid\ncolorbar_ticks = [0, 10, 20]",
            "outputs": []
        },
        {
            "id": "722d1acc",
            "cell_type": "markdown",
            "source": "The top image contains the original binary image.\n",
            "metadata": {}
        },
        {
            "id": "334e60a5",
            "cell_type": "code",
            "metadata": {},
            "execution_count": null,
            "source": "binary_image = top.imshow(image, cmap='gray')\ncbar_binary_image = top.cax.colorbar(binary_image)\ncbar_binary_image.set_ticks([0, 1])\ntop.set_title(\"Binary image: foreground in white\")",
            "outputs": []
        },
        {
            "id": "ee7c432f",
            "cell_type": "markdown",
            "source": "The middle image contains the distance transform using the ``taxicab``\nmetric.\n",
            "metadata": {}
        },
        {
            "id": "fdd576b8",
            "cell_type": "code",
            "metadata": {},
            "execution_count": null,
            "source": "distance_taxicab = distance_transform_cdt(image, metric=\"taxicab\")\ntaxicab_transform = middle.imshow(distance_taxicab, cmap='gray')\ncbar_taxicab = middle.cax.colorbar(taxicab_transform)\ncbar_taxicab.set_ticks(colorbar_ticks)\nmiddle.set_title(\"Taxicab metric\")",
            "outputs": []
        },
        {
            "id": "a97c9db6",
            "cell_type": "markdown",
            "source": "The bottom image contains the distance transform using the ``chessboard``\nmetric.\n",
            "metadata": {}
        },
        {
            "id": "18e7ab9d",
            "cell_type": "code",
            "metadata": {},
            "execution_count": null,
            "source": "distance_chessboard = distance_transform_cdt(image,\n                                             metric=\"chessboard\")\nchessboard_transform = bottom.imshow(distance_chessboard, cmap='gray')\ncbar_chessboard = bottom.cax.colorbar(chessboard_transform)\ncbar_chessboard.set_ticks(colorbar_ticks)\nbottom.set_title(\"Chessboard metric\")\nplt.tight_layout()\nplt.show()",
            "outputs": []
        }
    ]
}