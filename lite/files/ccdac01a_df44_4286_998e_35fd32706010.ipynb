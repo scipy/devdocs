{
    "nbformat": 4,
    "nbformat_minor": 5,
    "metadata": {
        "kernelspec": {
            "display_name": "Python",
            "language": "python",
            "name": "python"
        },
        "language_info": {
            "name": "python"
        }
    },
    "cells": [
        {
            "id": "6c054639",
            "cell_type": "markdown",
            "source": "<div class='alert alert-warning'>\n\nSciPy's interactive examples with Jupyterlite are experimental and may not always work as expected. Execution of cells containing imports may result in large downloads (up to 60MB of content for the first import from SciPy). Load times when importing from SciPy may take roughly 10-20 seconds. If you notice any problems, feel free to open an [issue](https://github.com/scipy/scipy/issues/new/choose).\n\n</div>",
            "metadata": {}
        },
        {
            "id": "959a9e70",
            "cell_type": "code",
            "metadata": {},
            "execution_count": null,
            "source": "import numpy as np\nfrom scipy.sparse import csr_array\ncsr_array((3, 4), dtype=np.int8).toarray()",
            "outputs": [
                {
                    "output_type": "execute_result",
                    "metadata": {},
                    "data": {
                        "text/plain": "array([[0, 0, 0, 0],\n       [0, 0, 0, 0],\n       [0, 0, 0, 0]], dtype=int8)"
                    },
                    "execution_count": null
                }
            ]
        },
        {
            "id": "e77c1590",
            "cell_type": "code",
            "metadata": {},
            "execution_count": null,
            "source": "row = np.array([0, 0, 1, 2, 2, 2])\ncol = np.array([0, 2, 2, 0, 1, 2])\ndata = np.array([1, 2, 3, 4, 5, 6])\ncsr_array((data, (row, col)), shape=(3, 3)).toarray()",
            "outputs": [
                {
                    "output_type": "execute_result",
                    "metadata": {},
                    "data": {
                        "text/plain": "array([[1, 0, 2],\n       [0, 0, 3],\n       [4, 5, 6]])"
                    },
                    "execution_count": null
                }
            ]
        },
        {
            "id": "dc876130",
            "cell_type": "code",
            "metadata": {},
            "execution_count": null,
            "source": "indptr = np.array([0, 2, 3, 6])\nindices = np.array([0, 2, 2, 0, 1, 2])\ndata = np.array([1, 2, 3, 4, 5, 6])\ncsr_array((data, indices, indptr), shape=(3, 3)).toarray()",
            "outputs": [
                {
                    "output_type": "execute_result",
                    "metadata": {},
                    "data": {
                        "text/plain": "array([[1, 0, 2],\n       [0, 0, 3],\n       [4, 5, 6]])"
                    },
                    "execution_count": null
                }
            ]
        },
        {
            "id": "31d7a612",
            "cell_type": "markdown",
            "source": "Duplicate entries are summed together:\n",
            "metadata": {}
        },
        {
            "id": "de5c8464",
            "cell_type": "code",
            "metadata": {},
            "execution_count": null,
            "source": "row = np.array([0, 1, 2, 0])\ncol = np.array([0, 1, 1, 0])\ndata = np.array([1, 2, 4, 8])\ncsr_array((data, (row, col)), shape=(3, 3)).toarray()",
            "outputs": [
                {
                    "output_type": "execute_result",
                    "metadata": {},
                    "data": {
                        "text/plain": "array([[9, 0, 0],\n       [0, 2, 0],\n       [0, 4, 0]])"
                    },
                    "execution_count": null
                }
            ]
        },
        {
            "id": "de664b42",
            "cell_type": "markdown",
            "source": "As an example of how to construct a CSR array incrementally,\nthe following snippet builds a term-document array from texts:\n",
            "metadata": {}
        },
        {
            "id": "7417e5e2",
            "cell_type": "code",
            "metadata": {},
            "execution_count": null,
            "source": "docs = [[\"hello\", \"world\", \"hello\"], [\"goodbye\", \"cruel\", \"world\"]]\nindptr = [0]\nindices = []\ndata = []\nvocabulary = {}\nfor d in docs:\n    for term in d:\n        index = vocabulary.setdefault(term, len(vocabulary))\n        indices.append(index)\n        data.append(1)\n    indptr.append(len(indices))\n\ncsr_array((data, indices, indptr), dtype=int).toarray()",
            "outputs": [
                {
                    "output_type": "execute_result",
                    "metadata": {},
                    "data": {
                        "text/plain": "array([[2, 1, 0, 0],\n       [0, 1, 1, 1]])"
                    },
                    "execution_count": null
                }
            ]
        }
    ]
}