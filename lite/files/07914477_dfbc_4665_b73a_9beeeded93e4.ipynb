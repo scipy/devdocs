{
    "nbformat": 4,
    "nbformat_minor": 5,
    "metadata": {
        "kernelspec": {
            "display_name": "Python",
            "language": "python",
            "name": "python"
        },
        "language_info": {
            "name": "python"
        }
    },
    "cells": [
        {
            "id": "9c97f795",
            "cell_type": "markdown",
            "source": "<div class='alert alert-warning'>\n\nSciPy's interactive examples with Jupyterlite are experimental and may not always work as expected. Execution of cells containing imports may result in large downloads (up to 60MB of content for the first import from SciPy). Load times when importing from SciPy may take roughly 10-20 seconds. If you notice any problems, feel free to open an [issue](https://github.com/scipy/scipy/issues/new/choose).\n\n</div>",
            "metadata": {}
        },
        {
            "id": "119ac94a",
            "cell_type": "markdown",
            "source": "Finding roots of ``[x**2 - 1, (x - 1)**2]`` defined on intervals\n``[-2, 1], [1, 2]``:\n",
            "metadata": {}
        },
        {
            "id": "4b60cad7",
            "cell_type": "code",
            "metadata": {},
            "execution_count": null,
            "source": "import numpy as np\nfrom scipy.interpolate import PPoly\npp = PPoly(np.array([[1, -4, 3], [1, 0, 0]]).T, [-2, 1, 2])\npp.solve()",
            "outputs": [
                {
                    "output_type": "execute_result",
                    "metadata": {},
                    "data": {
                        "text/plain": "array([-1.,  1.])"
                    },
                    "execution_count": null
                }
            ]
        }
    ]
}