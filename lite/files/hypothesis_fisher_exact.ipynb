{
 "cells": [
  {
   "cell_type": "markdown",
   "id": "87bc098e",
   "metadata": {},
   "source": [
    "```{eval-rst}\n",
    ".. jupyterlite:: ../../_contents/hypothesis_fisher_exact.ipynb\n",
    "   :new_tab: True\n",
    "```\n",
    "\n",
    "(hypothesis_fisher_exact)=\n",
    "# Fisher's exact test\n",
    "\n",
    "In [^1], the effective dose of acetazolamide for the prophylaxis of acute\n",
    "mountain sickness was investigated. The study notably concluded:\n",
    "\n",
    "> Acetazolamide 250 mg, 500 mg, and 750 mg daily were all efficacious for\n",
    "> preventing acute mountain sickness. Acetazolamide 250 mg was the lowest\n",
    "> effective dose with available evidence for this indication.\n",
    "\n",
    "The following table summarizes the results of the experiment in which\n",
    "some participants took a daily dose of acetazolamide 250 mg while others\n",
    "took a placebo.\n",
    "\n",
    "Cases of acute mountain sickness were recorded::\n",
    "\n",
    "|                         | Acetazolamide | Control/Placebo V |\n",
    "|-------------------------|---------------|-------------------|\n",
    "| Acute mountain sickness |       7       |        17         |\n",
    "| No                      |      15       |         5         |\n",
    "\n",
    "Is there evidence that the acetazolamide 250 mg reduces the risk of\n",
    "acute mountain sickness?\n",
    "\n",
    "We begin by formulating a null hypothesis $H_0$:\n",
    "\n",
    "> The odds of experiencing acute mountain sickness are the same with\n",
    "> the acetazolamide treatment as they are with placebo.\n",
    "\n",
    "Let's assess the plausibility of this hypothesis with\n",
    "{class}`Fisher's test <scipy.stats.fisher_exact>`."
   ]
  },
  {
   "cell_type": "code",
   "execution_count": null,
   "id": "7d545775",
   "metadata": {},
   "outputs": [],
   "source": [
    "from scipy.stats import fisher_exact\n",
    "res = fisher_exact([[7, 17], [15, 5]], alternative='less')\n",
    "res.statistic"
   ]
  },
  {
   "cell_type": "code",
   "execution_count": null,
   "id": "3a9bdf41",
   "metadata": {},
   "outputs": [],
   "source": [
    "res.pvalue"
   ]
  },
  {
   "cell_type": "markdown",
   "id": "9ce99226",
   "metadata": {},
   "source": [
    "Using a significance level of 5%, we would reject the null hypothesis in\n",
    "favor of the alternative hypothesis: \"The odds of experiencing acute\n",
    "mountain sickness with acetazolamide treatment are less than the odds of\n",
    "experiencing acute mountain sickness with placebo.\"\n",
    "\n",
    "## Note\n",
    "\n",
    "Because the null distribution of Fisher's exact test is formed under\n",
    "the assumption that both row and column sums are fixed, the result of\n",
    "the test are conservative when applied to an experiment in which the\n",
    "row sums are not fixed.\n",
    "\n",
    "In this case, the column sums are fixed; there are 22 subjects in each\n",
    "group. But the number of cases of acute mountain sickness is not\n",
    "(and cannot be) fixed before conducting the experiment. It is a\n",
    "consequence.\n",
    "\n",
    "{class}`Boschloo's test <scipy.stats.boschloo_exact>` does not depend on the\n",
    "assumption that the row sums are fixed, and consequently, it provides a more\n",
    "powerful test in this situation."
   ]
  },
  {
   "cell_type": "code",
   "execution_count": null,
   "id": "d85bb794",
   "metadata": {},
   "outputs": [],
   "source": [
    "from scipy.stats import boschloo_exact\n",
    "res = boschloo_exact([[7, 17], [15, 5]], alternative='less')\n",
    "res.statistic"
   ]
  },
  {
   "cell_type": "code",
   "execution_count": null,
   "id": "517965b7",
   "metadata": {},
   "outputs": [],
   "source": [
    "res.pvalue"
   ]
  },
  {
   "cell_type": "markdown",
   "id": "1bcb8a1d",
   "metadata": {},
   "source": [
    "We verify that the p-value is less than with ``fisher_exact``.\n",
    "\n",
    "## References\n",
    "\n",
    "[^1]: Low, Emma V. et al. (2012) \"Identifying the lowest effective dose of\n",
    "acetazolamide for the prophylaxis of acute mountain sickness: systematic review\n",
    "and meta-analysis.\" BMJ, 345. {doi}`10.1136/bmj.e6779`"
   ]
  }
 ],
 "metadata": {
  "kernelspec": {
   "display_name": "Python 3 (ipykernel)",
   "language": "python",
   "name": "python3"
  }
 },
 "nbformat": 4,
 "nbformat_minor": 5
}
