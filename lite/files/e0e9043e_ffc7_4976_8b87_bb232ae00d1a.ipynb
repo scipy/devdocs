{
    "nbformat": 4,
    "nbformat_minor": 5,
    "metadata": {
        "kernelspec": {
            "display_name": "Python",
            "language": "python",
            "name": "python"
        },
        "language_info": {
            "name": "python"
        }
    },
    "cells": [
        {
            "id": "eef28255",
            "cell_type": "markdown",
            "source": "<div class='alert alert-warning'>\n\nSciPy's interactive examples with Jupyterlite are experimental and may not always work as expected. Execution of cells containing imports may result in large downloads (up to 60MB of content for the first import from SciPy). Load times when importing from SciPy may take roughly 10-20 seconds. If you notice any problems, feel free to open an [issue](https://github.com/scipy/scipy/issues/new/choose).\n\n</div>",
            "metadata": {}
        },
        {
            "id": "42243f88",
            "cell_type": "code",
            "metadata": {},
            "execution_count": null,
            "source": "import numpy as np\nfrom scipy.stats import logser\nimport matplotlib.pyplot as plt\nfig, ax = plt.subplots(1, 1)",
            "outputs": []
        },
        {
            "id": "23b4f5f6",
            "cell_type": "markdown",
            "source": "Calculate the first four moments:\n",
            "metadata": {}
        },
        {
            "id": "025506dc",
            "cell_type": "code",
            "metadata": {},
            "execution_count": null,
            "source": "p = 0.6\nmean, var, skew, kurt = logser.stats(p, moments='mvsk')",
            "outputs": []
        },
        {
            "id": "3528268c",
            "cell_type": "markdown",
            "source": "Display the probability mass function (``pmf``):\n",
            "metadata": {}
        },
        {
            "id": "e7662efa",
            "cell_type": "code",
            "metadata": {},
            "execution_count": null,
            "source": "x = np.arange(logser.ppf(0.01, p),\n              logser.ppf(0.99, p))\nax.plot(x, logser.pmf(x, p), 'bo', ms=8, label='logser pmf')\nax.vlines(x, 0, logser.pmf(x, p), colors='b', lw=5, alpha=0.5)",
            "outputs": []
        },
        {
            "id": "735090de",
            "cell_type": "markdown",
            "source": "Alternatively, the distribution object can be called (as a function)\nto fix the shape and location. This returns a \"frozen\" RV object holding\nthe given parameters fixed.\n\nFreeze the distribution and display the frozen ``pmf``:\n",
            "metadata": {}
        },
        {
            "id": "183f1ac1",
            "cell_type": "code",
            "metadata": {},
            "execution_count": null,
            "source": "rv = logser(p)\nax.vlines(x, 0, rv.pmf(x), colors='k', linestyles='-', lw=1,\n        label='frozen pmf')\nax.legend(loc='best', frameon=False)\nplt.show()",
            "outputs": []
        },
        {
            "id": "78d56ecb",
            "cell_type": "markdown",
            "source": "Check accuracy of ``cdf`` and ``ppf``:\n",
            "metadata": {}
        },
        {
            "id": "c783ce25",
            "cell_type": "code",
            "metadata": {},
            "execution_count": null,
            "source": "prob = logser.cdf(x, p)\nnp.allclose(x, logser.ppf(prob, p))",
            "outputs": [
                {
                    "output_type": "execute_result",
                    "metadata": {},
                    "data": {
                        "text/plain": "True"
                    },
                    "execution_count": null
                }
            ]
        },
        {
            "id": "5c78f068",
            "cell_type": "markdown",
            "source": "Generate random numbers:\n",
            "metadata": {}
        },
        {
            "id": "501c622e",
            "cell_type": "code",
            "metadata": {},
            "execution_count": null,
            "source": "r = logser.rvs(p, size=1000)",
            "outputs": []
        }
    ]
}