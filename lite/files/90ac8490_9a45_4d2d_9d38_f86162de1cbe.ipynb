{
    "nbformat": 4,
    "nbformat_minor": 5,
    "metadata": {
        "kernelspec": {
            "display_name": "Python",
            "language": "python",
            "name": "python"
        },
        "language_info": {
            "name": "python"
        }
    },
    "cells": [
        {
            "id": "c6134b31",
            "cell_type": "markdown",
            "source": "<div class='alert alert-warning'>\n\nSciPy's interactive examples with Jupyterlite are experimental and may not always work as expected. Execution of cells containing imports may result in large downloads (up to 60MB of content for the first import from SciPy). Load times when importing from SciPy may take roughly 10-20 seconds. If you notice any problems, feel free to open an [issue](https://github.com/scipy/scipy/issues/new/choose).\n\n</div>",
            "metadata": {}
        },
        {
            "id": "28d809d4",
            "cell_type": "code",
            "metadata": {},
            "execution_count": null,
            "source": "import numpy as np\nimport scipy.linalg as LA\nrng = np.random.default_rng()\na = rng.random((3,2))\nx_gemv = LA.get_blas_funcs('gemv', (a,))\nx_gemv.typecode",
            "outputs": [
                {
                    "output_type": "execute_result",
                    "metadata": {},
                    "data": {
                        "text/plain": "'d'"
                    },
                    "execution_count": null
                }
            ]
        },
        {
            "id": "112239f5",
            "cell_type": "code",
            "metadata": {},
            "execution_count": null,
            "source": "x_gemv = LA.get_blas_funcs('gemv',(a*1j,))\nx_gemv.typecode",
            "outputs": [
                {
                    "output_type": "execute_result",
                    "metadata": {},
                    "data": {
                        "text/plain": "'z'"
                    },
                    "execution_count": null
                }
            ]
        }
    ]
}