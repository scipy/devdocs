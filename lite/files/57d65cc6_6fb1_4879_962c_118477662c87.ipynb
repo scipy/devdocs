{
    "nbformat": 4,
    "nbformat_minor": 5,
    "metadata": {
        "kernelspec": {
            "display_name": "Python",
            "language": "python",
            "name": "python"
        },
        "language_info": {
            "name": "python"
        }
    },
    "cells": [
        {
            "id": "0a1ded7b",
            "cell_type": "markdown",
            "source": "<div class='alert alert-warning'>\n\nSciPy's interactive examples with Jupyterlite are experimental and may not always work as expected. Execution of cells containing imports may result in large downloads (up to 60MB of content for the first import from SciPy). Load times when importing from SciPy may take roughly 10-20 seconds. If you notice any problems, feel free to open an [issue](https://github.com/scipy/scipy/issues/new/choose).\n\n</div>",
            "metadata": {}
        },
        {
            "id": "b46c5f1f",
            "cell_type": "code",
            "metadata": {},
            "execution_count": null,
            "source": "import numpy as np\nimport scipy.special as sc",
            "outputs": []
        },
        {
            "id": "cc4f88af",
            "cell_type": "markdown",
            "source": "`ndtri_exp` agrees with the naive implementation when the latter does\nnot suffer from underflow.\n",
            "metadata": {}
        },
        {
            "id": "74171cab",
            "cell_type": "code",
            "metadata": {},
            "execution_count": null,
            "source": "sc.ndtri_exp(-1)",
            "outputs": [
                {
                    "output_type": "execute_result",
                    "metadata": {},
                    "data": {
                        "text/plain": "-0.33747496376420244"
                    },
                    "execution_count": null
                }
            ]
        },
        {
            "id": "84bf0c5c",
            "cell_type": "code",
            "metadata": {},
            "execution_count": null,
            "source": "sc.ndtri(np.exp(-1))",
            "outputs": [
                {
                    "output_type": "execute_result",
                    "metadata": {},
                    "data": {
                        "text/plain": "-0.33747496376420244"
                    },
                    "execution_count": null
                }
            ]
        },
        {
            "id": "b636c22f",
            "cell_type": "markdown",
            "source": "For extreme values of y, the naive approach fails\n",
            "metadata": {}
        },
        {
            "id": "19cb0d1b",
            "cell_type": "code",
            "metadata": {},
            "execution_count": null,
            "source": "sc.ndtri(np.exp(-800))",
            "outputs": [
                {
                    "output_type": "execute_result",
                    "metadata": {},
                    "data": {
                        "text/plain": "-inf"
                    },
                    "execution_count": null
                }
            ]
        },
        {
            "id": "55a32d31",
            "cell_type": "code",
            "metadata": {},
            "execution_count": null,
            "source": "sc.ndtri(np.exp(-1e-20))",
            "outputs": [
                {
                    "output_type": "execute_result",
                    "metadata": {},
                    "data": {
                        "text/plain": "inf"
                    },
                    "execution_count": null
                }
            ]
        },
        {
            "id": "354779c6",
            "cell_type": "markdown",
            "source": "whereas `ndtri_exp` is still able to compute the result to high precision.\n",
            "metadata": {}
        },
        {
            "id": "5ba46f24",
            "cell_type": "code",
            "metadata": {},
            "execution_count": null,
            "source": "sc.ndtri_exp(-800)",
            "outputs": [
                {
                    "output_type": "execute_result",
                    "metadata": {},
                    "data": {
                        "text/plain": "-39.88469483825668"
                    },
                    "execution_count": null
                }
            ]
        },
        {
            "id": "8314bfc6",
            "cell_type": "code",
            "metadata": {},
            "execution_count": null,
            "source": "sc.ndtri_exp(-1e-20)",
            "outputs": [
                {
                    "output_type": "execute_result",
                    "metadata": {},
                    "data": {
                        "text/plain": "9.262340089798409"
                    },
                    "execution_count": null
                }
            ]
        }
    ]
}