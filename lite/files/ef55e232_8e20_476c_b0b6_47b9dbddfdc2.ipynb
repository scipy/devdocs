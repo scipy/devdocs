{
    "nbformat": 4,
    "nbformat_minor": 5,
    "metadata": {
        "kernelspec": {
            "display_name": "Python",
            "language": "python",
            "name": "python"
        },
        "language_info": {
            "name": "python"
        }
    },
    "cells": [
        {
            "id": "113718a8",
            "cell_type": "markdown",
            "source": "<div class='alert alert-warning'>\n\nSciPy's interactive examples with Jupyterlite are experimental and may not always work as expected. Execution of cells containing imports may result in large downloads (up to 60MB of content for the first import from SciPy). Load times when importing from SciPy may take roughly 10-20 seconds. If you notice any problems, feel free to open an [issue](https://github.com/scipy/scipy/issues/new/choose).\n\n</div>",
            "metadata": {}
        },
        {
            "id": "bccff764",
            "cell_type": "markdown",
            "source": "Instantiate a distribution with the desired parameters:\n",
            "metadata": {}
        },
        {
            "id": "24569ce9",
            "cell_type": "code",
            "metadata": {},
            "execution_count": null,
            "source": "import numpy as np\nfrom scipy import stats\nX = stats.Uniform(a=-0.5, b=0.5)",
            "outputs": []
        },
        {
            "id": "104151cf",
            "cell_type": "markdown",
            "source": "Evaluate the inverse log-CCDF at the desired argument:\n",
            "metadata": {}
        },
        {
            "id": "66e370dc",
            "cell_type": "code",
            "metadata": {},
            "execution_count": null,
            "source": "X.ilogccdf(-0.25)",
            "outputs": [
                {
                    "output_type": "execute_result",
                    "metadata": {},
                    "data": {
                        "text/plain": "-0.2788007830714034"
                    },
                    "execution_count": null
                }
            ]
        },
        {
            "id": "556f1e04",
            "cell_type": "code",
            "metadata": {},
            "execution_count": null,
            "source": "np.allclose(X.ilogccdf(-0.25), X.iccdf(np.exp(-0.25)))",
            "outputs": [
                {
                    "output_type": "execute_result",
                    "metadata": {},
                    "data": {
                        "text/plain": "True"
                    },
                    "execution_count": null
                }
            ]
        }
    ]
}