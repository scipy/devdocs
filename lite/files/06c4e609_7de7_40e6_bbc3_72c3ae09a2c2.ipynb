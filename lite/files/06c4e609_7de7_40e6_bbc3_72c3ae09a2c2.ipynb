{
    "nbformat": 4,
    "nbformat_minor": 5,
    "metadata": {
        "kernelspec": {
            "display_name": "Python",
            "language": "python",
            "name": "python"
        },
        "language_info": {
            "name": "python"
        }
    },
    "cells": [
        {
            "id": "fe242e6a",
            "cell_type": "markdown",
            "source": "<div class='alert alert-warning'>\n\nSciPy's interactive examples with Jupyterlite are experimental and may not always work as expected. Execution of cells containing imports may result in large downloads (up to 60MB of content for the first import from SciPy). Load times when importing from SciPy may take roughly 10-20 seconds. If you notice any problems, feel free to open an [issue](https://github.com/scipy/scipy/issues/new/choose).\n\n</div>",
            "metadata": {}
        },
        {
            "id": "0abd6b3f",
            "cell_type": "code",
            "metadata": {},
            "execution_count": null,
            "source": "import numpy as np\nfrom scipy.stats import genexpon\nimport matplotlib.pyplot as plt\nfig, ax = plt.subplots(1, 1)",
            "outputs": []
        },
        {
            "id": "39a79c34",
            "cell_type": "markdown",
            "source": "Calculate the first four moments:\n",
            "metadata": {}
        },
        {
            "id": "adfc559c",
            "cell_type": "code",
            "metadata": {},
            "execution_count": null,
            "source": "a, b, c = 9.13, 16.2, 3.28\nmean, var, skew, kurt = genexpon.stats(a, b, c, moments='mvsk')",
            "outputs": []
        },
        {
            "id": "83cf700e",
            "cell_type": "markdown",
            "source": "Display the probability density function (``pdf``):\n",
            "metadata": {}
        },
        {
            "id": "1565fd59",
            "cell_type": "code",
            "metadata": {},
            "execution_count": null,
            "source": "x = np.linspace(genexpon.ppf(0.01, a, b, c),\n                genexpon.ppf(0.99, a, b, c), 100)\nax.plot(x, genexpon.pdf(x, a, b, c),\n       'r-', lw=5, alpha=0.6, label='genexpon pdf')",
            "outputs": []
        },
        {
            "id": "158d33fd",
            "cell_type": "markdown",
            "source": "Alternatively, the distribution object can be called (as a function)\nto fix the shape, location and scale parameters. This returns a \"frozen\"\nRV object holding the given parameters fixed.\n\nFreeze the distribution and display the frozen ``pdf``:\n",
            "metadata": {}
        },
        {
            "id": "1610b025",
            "cell_type": "code",
            "metadata": {},
            "execution_count": null,
            "source": "rv = genexpon(a, b, c)\nax.plot(x, rv.pdf(x), 'k-', lw=2, label='frozen pdf')",
            "outputs": []
        },
        {
            "id": "bcbd8f8a",
            "cell_type": "markdown",
            "source": "Check accuracy of ``cdf`` and ``ppf``:\n",
            "metadata": {}
        },
        {
            "id": "f2b599c6",
            "cell_type": "code",
            "metadata": {},
            "execution_count": null,
            "source": "vals = genexpon.ppf([0.001, 0.5, 0.999], a, b, c)\nnp.allclose([0.001, 0.5, 0.999], genexpon.cdf(vals, a, b, c))",
            "outputs": [
                {
                    "output_type": "execute_result",
                    "metadata": {},
                    "data": {
                        "text/plain": "True"
                    },
                    "execution_count": null
                }
            ]
        },
        {
            "id": "4f842818",
            "cell_type": "markdown",
            "source": "Generate random numbers:\n",
            "metadata": {}
        },
        {
            "id": "34401684",
            "cell_type": "code",
            "metadata": {},
            "execution_count": null,
            "source": "r = genexpon.rvs(a, b, c, size=1000)",
            "outputs": []
        },
        {
            "id": "212fe7d2",
            "cell_type": "markdown",
            "source": "And compare the histogram:\n",
            "metadata": {}
        },
        {
            "id": "cf1c6e06",
            "cell_type": "code",
            "metadata": {},
            "execution_count": null,
            "source": "ax.hist(r, density=True, bins='auto', histtype='stepfilled', alpha=0.2)\nax.set_xlim([x[0], x[-1]])\nax.legend(loc='best', frameon=False)\nplt.show()",
            "outputs": []
        }
    ]
}