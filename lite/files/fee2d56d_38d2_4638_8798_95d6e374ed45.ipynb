{
    "nbformat": 4,
    "nbformat_minor": 5,
    "metadata": {
        "kernelspec": {
            "display_name": "Python",
            "language": "python",
            "name": "python"
        },
        "language_info": {
            "name": "python"
        }
    },
    "cells": [
        {
            "id": "823f21f5",
            "cell_type": "markdown",
            "source": "<div class='alert alert-warning'>\n\nSciPy's interactive examples with Jupyterlite are experimental and may not always work as expected. Execution of cells containing imports may result in large downloads (up to 60MB of content for the first import from SciPy). Load times when importing from SciPy may take roughly 10-20 seconds. If you notice any problems, feel free to open an [issue](https://github.com/scipy/scipy/issues/new/choose).\n\n</div>",
            "metadata": {}
        },
        {
            "id": "1397ee91",
            "cell_type": "code",
            "metadata": {},
            "execution_count": null,
            "source": "from scipy.sparse import csr_matrix\nfrom scipy.sparse.csgraph import floyd_warshall",
            "outputs": []
        },
        {
            "id": "9f5bc56d",
            "cell_type": "code",
            "metadata": {},
            "execution_count": null,
            "source": "graph = [\n[0, 1, 2, 0],\n[0, 0, 0, 1],\n[2, 0, 0, 3],\n[0, 0, 0, 0]\n]\ngraph = csr_matrix(graph)\nprint(graph)",
            "outputs": [
                {
                    "output_type": "execute_result",
                    "metadata": {},
                    "data": {
                        "text/plain": "<Compressed Sparse Row sparse matrix of dtype 'int64'\n    with 5 stored elements and shape (4, 4)>\n    Coords  Values\n    (0, 1)  1\n    (0, 2)  2\n    (1, 3)  1\n    (2, 0)  2\n    (2, 3)  3"
                    },
                    "execution_count": null
                }
            ]
        },
        {
            "id": "6dab0c6d",
            "cell_type": "code",
            "metadata": {},
            "execution_count": null,
            "source": "dist_matrix, predecessors = floyd_warshall(csgraph=graph, directed=False, return_predecessors=True)\ndist_matrix",
            "outputs": [
                {
                    "output_type": "execute_result",
                    "metadata": {},
                    "data": {
                        "text/plain": "array([[0., 1., 2., 2.],\n       [1., 0., 3., 1.],\n       [2., 3., 0., 3.],\n       [2., 1., 3., 0.]])"
                    },
                    "execution_count": null
                }
            ]
        },
        {
            "id": "da0791bf",
            "cell_type": "code",
            "metadata": {},
            "execution_count": null,
            "source": "predecessors",
            "outputs": [
                {
                    "output_type": "execute_result",
                    "metadata": {},
                    "data": {
                        "text/plain": "array([[-9999,     0,     0,     1],\n       [    1, -9999,     0,     1],\n       [    2,     0, -9999,     2],\n       [    1,     3,     3, -9999]], dtype=int32)"
                    },
                    "execution_count": null
                }
            ]
        }
    ]
}