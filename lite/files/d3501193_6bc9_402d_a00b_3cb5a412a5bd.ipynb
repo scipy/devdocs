{
    "nbformat": 4,
    "nbformat_minor": 5,
    "metadata": {
        "kernelspec": {
            "display_name": "Python",
            "language": "python",
            "name": "python"
        },
        "language_info": {
            "name": "python"
        }
    },
    "cells": [
        {
            "id": "effd9caa",
            "cell_type": "markdown",
            "source": "<div class='alert alert-warning'>\n\nSciPy's interactive examples with Jupyterlite are experimental and may not always work as expected. Execution of cells containing imports may result in large downloads (up to 60MB of content for the first import from SciPy). Load times when importing from SciPy may take roughly 10-20 seconds. If you notice any problems, feel free to open an [issue](https://github.com/scipy/scipy/issues/new/choose).\n\n</div>",
            "metadata": {}
        },
        {
            "id": "38662957",
            "cell_type": "code",
            "metadata": {},
            "execution_count": null,
            "source": "from scipy import ndimage, datasets\nimport matplotlib.pyplot as plt\nimport numpy as np\nascent = datasets.ascent().astype('int32')\nsobel_h = ndimage.sobel(ascent, 0)  # horizontal gradient\nsobel_v = ndimage.sobel(ascent, 1)  # vertical gradient\nmagnitude = np.sqrt(sobel_h**2 + sobel_v**2)\nmagnitude *= 255.0 / np.max(magnitude)  # normalization\nfig, axs = plt.subplots(2, 2, figsize=(8, 8))\nplt.gray()  # show the filtered result in grayscale\naxs[0, 0].imshow(ascent)\naxs[0, 1].imshow(sobel_h)\naxs[1, 0].imshow(sobel_v)\naxs[1, 1].imshow(magnitude)\ntitles = [\"original\", \"horizontal\", \"vertical\", \"magnitude\"]\nfor i, ax in enumerate(axs.ravel()):\n    ax.set_title(titles[i])\n    ax.axis(\"off\")\nplt.show()",
            "outputs": []
        }
    ]
}