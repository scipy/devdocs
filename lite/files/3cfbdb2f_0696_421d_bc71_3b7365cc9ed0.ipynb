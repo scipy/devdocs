{
    "nbformat": 4,
    "nbformat_minor": 5,
    "metadata": {
        "kernelspec": {
            "display_name": "Python",
            "language": "python",
            "name": "python"
        },
        "language_info": {
            "name": "python"
        }
    },
    "cells": [
        {
            "id": "eac79573",
            "cell_type": "markdown",
            "source": "<div class='alert alert-warning'>\n\nSciPy's interactive examples with Jupyterlite are experimental and may not always work as expected. Execution of cells containing imports may result in large downloads (up to 60MB of content for the first import from SciPy). Load times when importing from SciPy may take roughly 10-20 seconds. If you notice any problems, feel free to open an [issue](https://github.com/scipy/scipy/issues/new/choose).\n\n</div>",
            "metadata": {}
        },
        {
            "id": "c2261523",
            "cell_type": "code",
            "metadata": {},
            "execution_count": null,
            "source": "import numpy as np\nfrom scipy.stats import binom\nimport matplotlib.pyplot as plt\nfig, ax = plt.subplots(1, 1)",
            "outputs": []
        },
        {
            "id": "e1dfe302",
            "cell_type": "markdown",
            "source": "Calculate the first four moments:\n",
            "metadata": {}
        },
        {
            "id": "55097c5f",
            "cell_type": "code",
            "metadata": {},
            "execution_count": null,
            "source": "n, p = 5, 0.4\nmean, var, skew, kurt = binom.stats(n, p, moments='mvsk')",
            "outputs": []
        },
        {
            "id": "281e56d0",
            "cell_type": "markdown",
            "source": "Display the probability mass function (``pmf``):\n",
            "metadata": {}
        },
        {
            "id": "13b83d6d",
            "cell_type": "code",
            "metadata": {},
            "execution_count": null,
            "source": "x = np.arange(binom.ppf(0.01, n, p),\n              binom.ppf(0.99, n, p))\nax.plot(x, binom.pmf(x, n, p), 'bo', ms=8, label='binom pmf')\nax.vlines(x, 0, binom.pmf(x, n, p), colors='b', lw=5, alpha=0.5)",
            "outputs": []
        },
        {
            "id": "af80ac9c",
            "cell_type": "markdown",
            "source": "Alternatively, the distribution object can be called (as a function)\nto fix the shape and location. This returns a \"frozen\" RV object holding\nthe given parameters fixed.\n\nFreeze the distribution and display the frozen ``pmf``:\n",
            "metadata": {}
        },
        {
            "id": "3dce3d95",
            "cell_type": "code",
            "metadata": {},
            "execution_count": null,
            "source": "rv = binom(n, p)\nax.vlines(x, 0, rv.pmf(x), colors='k', linestyles='-', lw=1,\n        label='frozen pmf')\nax.legend(loc='best', frameon=False)\nplt.show()",
            "outputs": []
        },
        {
            "id": "423d4ed7",
            "cell_type": "markdown",
            "source": "Check accuracy of ``cdf`` and ``ppf``:\n",
            "metadata": {}
        },
        {
            "id": "1058ea43",
            "cell_type": "code",
            "metadata": {},
            "execution_count": null,
            "source": "prob = binom.cdf(x, n, p)\nnp.allclose(x, binom.ppf(prob, n, p))",
            "outputs": [
                {
                    "output_type": "execute_result",
                    "metadata": {},
                    "data": {
                        "text/plain": "True"
                    },
                    "execution_count": null
                }
            ]
        },
        {
            "id": "51b9bbe6",
            "cell_type": "markdown",
            "source": "Generate random numbers:\n",
            "metadata": {}
        },
        {
            "id": "707c7178",
            "cell_type": "code",
            "metadata": {},
            "execution_count": null,
            "source": "r = binom.rvs(n, p, size=1000)",
            "outputs": []
        }
    ]
}