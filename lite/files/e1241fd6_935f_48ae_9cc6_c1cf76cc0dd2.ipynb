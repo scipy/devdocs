{
    "nbformat": 4,
    "nbformat_minor": 5,
    "metadata": {
        "kernelspec": {
            "display_name": "Python",
            "language": "python",
            "name": "python"
        },
        "language_info": {
            "name": "python"
        }
    },
    "cells": [
        {
            "id": "115a331e",
            "cell_type": "markdown",
            "source": "<div class='alert alert-warning'>\n\nSciPy's interactive examples with Jupyterlite are experimental and may not always work as expected. Execution of cells containing imports may result in large downloads (up to 60MB of content for the first import from SciPy). Load times when importing from SciPy may take roughly 10-20 seconds. If you notice any problems, feel free to open an [issue](https://github.com/scipy/scipy/issues/new/choose).\n\n</div>",
            "metadata": {}
        },
        {
            "id": "b9697b3b",
            "cell_type": "markdown",
            "source": "Create an optimal linear-phase low-pass filter `h` with a transition band of\n[0.2, 0.3] (assuming a Nyquist frequency of 1):\n",
            "metadata": {}
        },
        {
            "id": "a010d24f",
            "cell_type": "code",
            "metadata": {},
            "execution_count": null,
            "source": "import numpy as np\nfrom scipy.signal import remez, minimum_phase, freqz, group_delay\nimport matplotlib.pyplot as plt\nfreq = [0, 0.2, 0.3, 1.0]\ndesired = [1, 0]\nh_linear = remez(151, freq, desired, fs=2)",
            "outputs": []
        },
        {
            "id": "565888f0",
            "cell_type": "markdown",
            "source": "Convert it to minimum phase:\n",
            "metadata": {}
        },
        {
            "id": "6d44001a",
            "cell_type": "code",
            "metadata": {},
            "execution_count": null,
            "source": "h_hil = minimum_phase(h_linear, method='hilbert')\nh_hom = minimum_phase(h_linear, method='homomorphic')\nh_hom_full = minimum_phase(h_linear, method='homomorphic', half=False)",
            "outputs": []
        },
        {
            "id": "29cff8fc",
            "cell_type": "markdown",
            "source": "Compare the impulse and frequency response of the four filters:\n",
            "metadata": {}
        },
        {
            "id": "4c48a229",
            "cell_type": "code",
            "metadata": {},
            "execution_count": null,
            "source": "fig0, ax0 = plt.subplots(figsize=(6, 3), tight_layout=True)\nfig1, axs = plt.subplots(3, sharex='all', figsize=(6, 6), tight_layout=True)\nax0.set_title(\"Impulse response\")\nax0.set(xlabel='Samples', ylabel='Amplitude', xlim=(0, len(h_linear) - 1))\naxs[0].set_title(\"Frequency Response\")\naxs[0].set(xlim=(0, .65), ylabel=\"Magnitude / dB\")\naxs[1].set(ylabel=\"Phase / rad\")\naxs[2].set(ylabel=\"Group Delay / samples\", ylim=(-31, 81),\n            xlabel='Normalized Frequency (Nyqist frequency: 1)')\nfor h, lb in ((h_linear,   f'Linear ({len(h_linear)})'),\n              (h_hil,      f'Min-Hilbert ({len(h_hil)})'),\n              (h_hom,      f'Min-Homomorphic ({len(h_hom)})'),\n              (h_hom_full, f'Min-Homom. Full ({len(h_hom_full)})')):\n    w_H, H = freqz(h, fs=2)\n    w_gd, gd = group_delay((h, 1), fs=2)\n\n    alpha = 1.0 if lb == 'linear' else 0.5  # full opacity for 'linear' line\n    ax0.plot(h, '.-', alpha=alpha, label=lb)\n    axs[0].plot(w_H, 20 * np.log10(np.abs(H)), alpha=alpha)\n    axs[1].plot(w_H, np.unwrap(np.angle(H)), alpha=alpha, label=lb)\n    axs[2].plot(w_gd, gd, alpha=alpha)\nax0.grid(True)\nax0.legend(title='Filter Phase (Order)')\naxs[1].legend(title='Filter Phase (Order)', loc='lower right')\nfor ax_ in axs:  # shade transition band:\n    ax_.axvspan(freq[1], freq[2], color='y', alpha=.25)\n    ax_.grid(True)\nplt.show()",
            "outputs": []
        },
        {
            "id": "5e635c96",
            "cell_type": "markdown",
            "source": "The impulse response and group delay plot depict the 75 sample delay of the linear\nphase filter `h`. The phase should also be linear in the stop band--due to the small\nmagnitude, numeric noise dominates there. Furthermore, the plots show that the\nminimum phase filters clearly show a reduced (negative) phase slope in the pass and\ntransition band. The plots also illustrate that the filter with parameters\n``method='homomorphic', half=False`` has same order and magnitude response as the\nlinear filter `h` whereas the other minimum phase filters have only half the order\nand the square root  of the magnitude response.\n",
            "metadata": {}
        }
    ]
}