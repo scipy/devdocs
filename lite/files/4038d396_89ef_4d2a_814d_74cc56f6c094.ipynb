{
    "nbformat": 4,
    "nbformat_minor": 5,
    "metadata": {
        "kernelspec": {
            "display_name": "Python",
            "language": "python",
            "name": "python"
        },
        "language_info": {
            "name": "python"
        }
    },
    "cells": [
        {
            "id": "8ca53e9f",
            "cell_type": "markdown",
            "source": "<div class='alert alert-warning'>\n\nSciPy's interactive examples with Jupyterlite are experimental and may not always work as expected. Execution of cells containing imports may result in large downloads (up to 60MB of content for the first import from SciPy). Load times when importing from SciPy may take roughly 10-20 seconds. If you notice any problems, feel free to open an [issue](https://github.com/scipy/scipy/issues/new/choose).\n\n</div>",
            "metadata": {}
        },
        {
            "id": "b9d4826e",
            "cell_type": "markdown",
            "source": "Given an ``m x n`` matrix ``A`` and an ``n x m`` matrix ``B`` the four\nMoore-Penrose conditions are:\n\n1. ``ABA = A`` (``B`` is a generalized inverse of ``A``),\n2. ``BAB = B`` (``A`` is a generalized inverse of ``B``),\n3. ``(AB)* = AB`` (``AB`` is hermitian),\n4. ``(BA)* = BA`` (``BA`` is hermitian) [1].\n\nHere, ``A*`` denotes the conjugate transpose. The Moore-Penrose\npseudoinverse is a unique ``B`` that satisfies all four of these\nconditions and exists for any ``A``. Note that, unlike the standard\nmatrix inverse, ``A`` does not have to be a square matrix or have\nlinearly independent columns/rows.\n\nAs an example, we can calculate the Moore-Penrose pseudoinverse of a\nrandom non-square matrix and verify it satisfies the four conditions.\n",
            "metadata": {}
        },
        {
            "id": "4b76389d",
            "cell_type": "code",
            "metadata": {},
            "execution_count": null,
            "source": "import numpy as np\nfrom scipy import linalg\nrng = np.random.default_rng()\nA = rng.standard_normal((9, 6))\nB = linalg.pinv(A)\nnp.allclose(A @ B @ A, A)  # Condition 1",
            "outputs": [
                {
                    "output_type": "execute_result",
                    "metadata": {},
                    "data": {
                        "text/plain": "True"
                    },
                    "execution_count": null
                }
            ]
        },
        {
            "id": "77558230",
            "cell_type": "code",
            "metadata": {},
            "execution_count": null,
            "source": "np.allclose(B @ A @ B, B)  # Condition 2",
            "outputs": [
                {
                    "output_type": "execute_result",
                    "metadata": {},
                    "data": {
                        "text/plain": "True"
                    },
                    "execution_count": null
                }
            ]
        },
        {
            "id": "54516654",
            "cell_type": "code",
            "metadata": {},
            "execution_count": null,
            "source": "np.allclose((A @ B).conj().T, A @ B)  # Condition 3",
            "outputs": [
                {
                    "output_type": "execute_result",
                    "metadata": {},
                    "data": {
                        "text/plain": "True"
                    },
                    "execution_count": null
                }
            ]
        },
        {
            "id": "f107bc49",
            "cell_type": "code",
            "metadata": {},
            "execution_count": null,
            "source": "np.allclose((B @ A).conj().T, B @ A)  # Condition 4",
            "outputs": [
                {
                    "output_type": "execute_result",
                    "metadata": {},
                    "data": {
                        "text/plain": "True"
                    },
                    "execution_count": null
                }
            ]
        }
    ]
}