{
    "nbformat": 4,
    "nbformat_minor": 5,
    "metadata": {
        "kernelspec": {
            "display_name": "Python",
            "language": "python",
            "name": "python"
        },
        "language_info": {
            "name": "python"
        }
    },
    "cells": [
        {
            "id": "6f5262d5",
            "cell_type": "markdown",
            "source": "<div class='alert alert-warning'>\n\nSciPy's interactive examples with Jupyterlite are experimental and may not always work as expected. Execution of cells containing imports may result in large downloads (up to 60MB of content for the first import from SciPy). Load times when importing from SciPy may take roughly 10-20 seconds. If you notice any problems, feel free to open an [issue](https://github.com/scipy/scipy/issues/new/choose).\n\n</div>",
            "metadata": {}
        },
        {
            "id": "1b439936",
            "cell_type": "markdown",
            "source": "Instantiate a distribution with the desired parameters:\n",
            "metadata": {}
        },
        {
            "id": "e4f8051e",
            "cell_type": "code",
            "metadata": {},
            "execution_count": null,
            "source": "from scipy import stats\nX = stats.Uniform(a=-0.5, b=0.5)",
            "outputs": []
        },
        {
            "id": "00459a9c",
            "cell_type": "markdown",
            "source": "Evaluate the CDF at the desired argument:\n",
            "metadata": {}
        },
        {
            "id": "04e1d60c",
            "cell_type": "code",
            "metadata": {},
            "execution_count": null,
            "source": "X.cdf(0.25)",
            "outputs": [
                {
                    "output_type": "execute_result",
                    "metadata": {},
                    "data": {
                        "text/plain": "0.75"
                    },
                    "execution_count": null
                }
            ]
        },
        {
            "id": "8e83688c",
            "cell_type": "markdown",
            "source": "Evaluate the cumulative probability between two arguments:\n",
            "metadata": {}
        },
        {
            "id": "356c0a84",
            "cell_type": "code",
            "metadata": {},
            "execution_count": null,
            "source": "X.cdf(-0.25, 0.25) == X.cdf(0.25) - X.cdf(-0.25)",
            "outputs": [
                {
                    "output_type": "execute_result",
                    "metadata": {},
                    "data": {
                        "text/plain": "True"
                    },
                    "execution_count": null
                }
            ]
        }
    ]
}