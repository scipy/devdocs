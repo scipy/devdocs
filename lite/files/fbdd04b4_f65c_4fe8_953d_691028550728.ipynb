{
    "nbformat": 4,
    "nbformat_minor": 5,
    "metadata": {
        "kernelspec": {
            "display_name": "Python",
            "language": "python",
            "name": "python"
        },
        "language_info": {
            "name": "python"
        }
    },
    "cells": [
        {
            "id": "31f7170a",
            "cell_type": "markdown",
            "source": "<div class='alert alert-warning'>\n\nSciPy's interactive examples with Jupyterlite are experimental and may not always work as expected. Execution of cells containing imports may result in large downloads (up to 60MB of content for the first import from SciPy). Load times when importing from SciPy may take roughly 10-20 seconds. If you notice any problems, feel free to open an [issue](https://github.com/scipy/scipy/issues/new/choose).\n\n</div>",
            "metadata": {}
        },
        {
            "id": "e0fbc27d",
            "cell_type": "markdown",
            "source": "The following functions define a system of nonlinear equations\n",
            "metadata": {}
        },
        {
            "id": "2062bc53",
            "cell_type": "code",
            "metadata": {},
            "execution_count": null,
            "source": "def fun(x):\n    return [x[0]  + 0.5 * (x[0] - x[1])**3 - 1.0,\n            0.5 * (x[1] - x[0])**3 + x[1]]",
            "outputs": []
        },
        {
            "id": "116b73c2",
            "cell_type": "markdown",
            "source": "A solution can be obtained as follows.\n",
            "metadata": {}
        },
        {
            "id": "7634c3ab",
            "cell_type": "code",
            "metadata": {},
            "execution_count": null,
            "source": "from scipy import optimize\nsol = optimize.diagbroyden(fun, [0, 0])\nsol",
            "outputs": [
                {
                    "output_type": "execute_result",
                    "metadata": {},
                    "data": {
                        "text/plain": "array([0.84116403, 0.15883384])"
                    },
                    "execution_count": null
                }
            ]
        }
    ]
}