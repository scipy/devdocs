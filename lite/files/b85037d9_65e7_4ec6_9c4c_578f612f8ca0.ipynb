{
    "nbformat": 4,
    "nbformat_minor": 5,
    "metadata": {
        "kernelspec": {
            "display_name": "Python",
            "language": "python",
            "name": "python"
        },
        "language_info": {
            "name": "python"
        }
    },
    "cells": [
        {
            "id": "2c6e2bc5",
            "cell_type": "markdown",
            "source": "<div class='alert alert-warning'>\n\nSciPy's interactive examples with Jupyterlite are experimental and may not always work as expected. Execution of cells containing imports may result in large downloads (up to 60MB of content for the first import from SciPy). Load times when importing from SciPy may take roughly 10-20 seconds. If you notice any problems, feel free to open an [issue](https://github.com/scipy/scipy/issues/new/choose).\n\n</div>",
            "metadata": {}
        },
        {
            "id": "31d2c49c",
            "cell_type": "code",
            "metadata": {},
            "execution_count": null,
            "source": "import scipy.special as sc",
            "outputs": []
        },
        {
            "id": "1957c872",
            "cell_type": "markdown",
            "source": "The beta function relates to the gamma function by the\ndefinition given above:\n",
            "metadata": {}
        },
        {
            "id": "921212c9",
            "cell_type": "code",
            "metadata": {},
            "execution_count": null,
            "source": "sc.beta(2, 3)",
            "outputs": [
                {
                    "output_type": "execute_result",
                    "metadata": {},
                    "data": {
                        "text/plain": "0.08333333333333333"
                    },
                    "execution_count": null
                }
            ]
        },
        {
            "id": "0fe24d4b",
            "cell_type": "code",
            "metadata": {},
            "execution_count": null,
            "source": "sc.gamma(2)*sc.gamma(3)/sc.gamma(2 + 3)",
            "outputs": [
                {
                    "output_type": "execute_result",
                    "metadata": {},
                    "data": {
                        "text/plain": "0.08333333333333333"
                    },
                    "execution_count": null
                }
            ]
        },
        {
            "id": "b54c79e5",
            "cell_type": "markdown",
            "source": "As this relationship demonstrates, the beta function\nis symmetric:\n",
            "metadata": {}
        },
        {
            "id": "2d2e3645",
            "cell_type": "code",
            "metadata": {},
            "execution_count": null,
            "source": "sc.beta(1.7, 2.4)",
            "outputs": [
                {
                    "output_type": "execute_result",
                    "metadata": {},
                    "data": {
                        "text/plain": "0.16567527689031739"
                    },
                    "execution_count": null
                }
            ]
        },
        {
            "id": "7ec12cc3",
            "cell_type": "code",
            "metadata": {},
            "execution_count": null,
            "source": "sc.beta(2.4, 1.7)",
            "outputs": [
                {
                    "output_type": "execute_result",
                    "metadata": {},
                    "data": {
                        "text/plain": "0.16567527689031739"
                    },
                    "execution_count": null
                }
            ]
        },
        {
            "id": "08599a1a",
            "cell_type": "markdown",
            "source": "This function satisfies $B(1, b) = 1/b$:\n",
            "metadata": {}
        },
        {
            "id": "5d5c80a1",
            "cell_type": "code",
            "metadata": {},
            "execution_count": null,
            "source": "sc.beta(1, 4)",
            "outputs": [
                {
                    "output_type": "execute_result",
                    "metadata": {},
                    "data": {
                        "text/plain": "0.25"
                    },
                    "execution_count": null
                }
            ]
        }
    ]
}