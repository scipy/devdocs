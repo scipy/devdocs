{
    "nbformat": 4,
    "nbformat_minor": 5,
    "metadata": {
        "kernelspec": {
            "display_name": "Python",
            "language": "python",
            "name": "python"
        },
        "language_info": {
            "name": "python"
        }
    },
    "cells": [
        {
            "id": "5e9e0aa9",
            "cell_type": "markdown",
            "source": "<div class='alert alert-warning'>\n\nSciPy's interactive examples with Jupyterlite are experimental and may not always work as expected. Execution of cells containing imports may result in large downloads (up to 60MB of content for the first import from SciPy). Load times when importing from SciPy may take roughly 10-20 seconds. If you notice any problems, feel free to open an [issue](https://github.com/scipy/scipy/issues/new/choose).\n\n</div>",
            "metadata": {}
        },
        {
            "id": "f306e9cf",
            "cell_type": "markdown",
            "source": "A two-way example (2 x 3):\n",
            "metadata": {}
        },
        {
            "id": "871bdd2d",
            "cell_type": "code",
            "metadata": {},
            "execution_count": null,
            "source": "import numpy as np\nfrom scipy.stats import chi2_contingency\nobs = np.array([[10, 10, 20], [20, 20, 20]])\nres = chi2_contingency(obs)\nres.statistic",
            "outputs": [
                {
                    "output_type": "execute_result",
                    "metadata": {},
                    "data": {
                        "text/plain": "2.7777777777777777"
                    },
                    "execution_count": null
                }
            ]
        },
        {
            "id": "ecfed140",
            "cell_type": "code",
            "metadata": {},
            "execution_count": null,
            "source": "res.pvalue",
            "outputs": [
                {
                    "output_type": "execute_result",
                    "metadata": {},
                    "data": {
                        "text/plain": "0.24935220877729619"
                    },
                    "execution_count": null
                }
            ]
        },
        {
            "id": "9cac5846",
            "cell_type": "code",
            "metadata": {},
            "execution_count": null,
            "source": "res.dof",
            "outputs": [
                {
                    "output_type": "execute_result",
                    "metadata": {},
                    "data": {
                        "text/plain": "2"
                    },
                    "execution_count": null
                }
            ]
        },
        {
            "id": "9f938ba5",
            "cell_type": "code",
            "metadata": {},
            "execution_count": null,
            "source": "res.expected_freq",
            "outputs": [
                {
                    "output_type": "execute_result",
                    "metadata": {},
                    "data": {
                        "text/plain": "array([[ 12.,  12.,  16.],\n       [ 18.,  18.,  24.]])"
                    },
                    "execution_count": null
                }
            ]
        },
        {
            "id": "714a61b4",
            "cell_type": "markdown",
            "source": "Perform the test using the log-likelihood ratio (i.e. the \"G-test\")\ninstead of Pearson's chi-squared statistic.\n",
            "metadata": {}
        },
        {
            "id": "e9ac3eca",
            "cell_type": "code",
            "metadata": {},
            "execution_count": null,
            "source": "res = chi2_contingency(obs, lambda_=\"log-likelihood\")\nres.statistic",
            "outputs": [
                {
                    "output_type": "execute_result",
                    "metadata": {},
                    "data": {
                        "text/plain": "2.7688587616781319"
                    },
                    "execution_count": null
                }
            ]
        },
        {
            "id": "333bd23b",
            "cell_type": "code",
            "metadata": {},
            "execution_count": null,
            "source": "res.pvalue",
            "outputs": [
                {
                    "output_type": "execute_result",
                    "metadata": {},
                    "data": {
                        "text/plain": "0.25046668010954165"
                    },
                    "execution_count": null
                }
            ]
        },
        {
            "id": "4865a4a8",
            "cell_type": "markdown",
            "source": "A four-way example (2 x 2 x 2 x 2):\n",
            "metadata": {}
        },
        {
            "id": "ef94ffe4",
            "cell_type": "code",
            "metadata": {},
            "execution_count": null,
            "source": "obs = np.array(\n    [[[[12, 17],\n       [11, 16]],\n      [[11, 12],\n       [15, 16]]],\n     [[[23, 15],\n       [30, 22]],\n      [[14, 17],\n       [15, 16]]]])\nres = chi2_contingency(obs)\nres.statistic",
            "outputs": [
                {
                    "output_type": "execute_result",
                    "metadata": {},
                    "data": {
                        "text/plain": "8.7584514426741897"
                    },
                    "execution_count": null
                }
            ]
        },
        {
            "id": "66940b5f",
            "cell_type": "code",
            "metadata": {},
            "execution_count": null,
            "source": "res.pvalue",
            "outputs": [
                {
                    "output_type": "execute_result",
                    "metadata": {},
                    "data": {
                        "text/plain": "0.64417725029295503"
                    },
                    "execution_count": null
                }
            ]
        },
        {
            "id": "46eaaf53",
            "cell_type": "markdown",
            "source": "For a more detailed example, see :ref:`hypothesis_chi2_contingency`.",
            "metadata": {}
        }
    ]
}