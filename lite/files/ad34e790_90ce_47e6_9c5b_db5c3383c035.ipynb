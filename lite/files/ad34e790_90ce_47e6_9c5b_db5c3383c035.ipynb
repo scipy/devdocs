{
    "nbformat": 4,
    "nbformat_minor": 5,
    "metadata": {
        "kernelspec": {
            "display_name": "Python",
            "language": "python",
            "name": "python"
        },
        "language_info": {
            "name": "python"
        }
    },
    "cells": [
        {
            "id": "454a1c30",
            "cell_type": "markdown",
            "source": "<div class='alert alert-warning'>\n\nSciPy's interactive examples with Jupyterlite are experimental and may not always work as expected. Execution of cells containing imports may result in large downloads (up to 60MB of content for the first import from SciPy). Load times when importing from SciPy may take roughly 10-20 seconds. If you notice any problems, feel free to open an [issue](https://github.com/scipy/scipy/issues/new/choose).\n\n</div>",
            "metadata": {}
        },
        {
            "id": "a4b6acd5",
            "cell_type": "markdown",
            "source": "Evaluate the function of order 0 at one point.\n",
            "metadata": {}
        },
        {
            "id": "198b7991",
            "cell_type": "code",
            "metadata": {},
            "execution_count": null,
            "source": "from scipy.special import yv\nyv(0, 1.)",
            "outputs": [
                {
                    "output_type": "execute_result",
                    "metadata": {},
                    "data": {
                        "text/plain": "0.088256964215677"
                    },
                    "execution_count": null
                }
            ]
        },
        {
            "id": "f44cf0a7",
            "cell_type": "markdown",
            "source": "Evaluate the function at one point for different orders.\n",
            "metadata": {}
        },
        {
            "id": "e78cb3b9",
            "cell_type": "code",
            "metadata": {},
            "execution_count": null,
            "source": "yv(0, 1.), yv(1, 1.), yv(1.5, 1.)",
            "outputs": [
                {
                    "output_type": "execute_result",
                    "metadata": {},
                    "data": {
                        "text/plain": "(0.088256964215677, -0.7812128213002889, -1.102495575160179)"
                    },
                    "execution_count": null
                }
            ]
        },
        {
            "id": "0d249507",
            "cell_type": "markdown",
            "source": "The evaluation for different orders can be carried out in one call by\nproviding a list or NumPy array as argument for the `v` parameter:\n",
            "metadata": {}
        },
        {
            "id": "7d8de204",
            "cell_type": "code",
            "metadata": {},
            "execution_count": null,
            "source": "yv([0, 1, 1.5], 1.)",
            "outputs": [
                {
                    "output_type": "execute_result",
                    "metadata": {},
                    "data": {
                        "text/plain": "array([ 0.08825696, -0.78121282, -1.10249558])"
                    },
                    "execution_count": null
                }
            ]
        },
        {
            "id": "9eb7ab3a",
            "cell_type": "markdown",
            "source": "Evaluate the function at several points for order 0 by providing an\narray for `z`.\n",
            "metadata": {}
        },
        {
            "id": "3ad3e7eb",
            "cell_type": "code",
            "metadata": {},
            "execution_count": null,
            "source": "import numpy as np\npoints = np.array([0.5, 3., 8.])\nyv(0, points)",
            "outputs": [
                {
                    "output_type": "execute_result",
                    "metadata": {},
                    "data": {
                        "text/plain": "array([-0.44451873,  0.37685001,  0.22352149])"
                    },
                    "execution_count": null
                }
            ]
        },
        {
            "id": "770958f5",
            "cell_type": "markdown",
            "source": "If `z` is an array, the order parameter `v` must be broadcastable to\nthe correct shape if different orders shall be computed in one call.\nTo calculate the orders 0 and 1 for an 1D array:\n",
            "metadata": {}
        },
        {
            "id": "f32aaa0b",
            "cell_type": "code",
            "metadata": {},
            "execution_count": null,
            "source": "orders = np.array([[0], [1]])\norders.shape",
            "outputs": [
                {
                    "output_type": "execute_result",
                    "metadata": {},
                    "data": {
                        "text/plain": "(2, 1)"
                    },
                    "execution_count": null
                }
            ]
        },
        {
            "id": "b3d1bd34",
            "cell_type": "code",
            "metadata": {},
            "execution_count": null,
            "source": "yv(orders, points)",
            "outputs": [
                {
                    "output_type": "execute_result",
                    "metadata": {},
                    "data": {
                        "text/plain": "array([[-0.44451873,  0.37685001,  0.22352149],\n       [-1.47147239,  0.32467442, -0.15806046]])"
                    },
                    "execution_count": null
                }
            ]
        },
        {
            "id": "808bc15b",
            "cell_type": "markdown",
            "source": "Plot the functions of order 0 to 3 from 0 to 10.\n",
            "metadata": {}
        },
        {
            "id": "f315e5a8",
            "cell_type": "code",
            "metadata": {},
            "execution_count": null,
            "source": "import matplotlib.pyplot as plt\nfig, ax = plt.subplots()\nx = np.linspace(0., 10., 1000)\nfor i in range(4):\n    ax.plot(x, yv(i, x), label=f'$Y_{i!r}$')\nax.set_ylim(-3, 1)\nax.legend()\nplt.show()",
            "outputs": []
        }
    ]
}