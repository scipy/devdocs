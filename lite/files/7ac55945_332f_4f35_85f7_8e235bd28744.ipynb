{
    "nbformat": 4,
    "nbformat_minor": 5,
    "metadata": {
        "kernelspec": {
            "display_name": "Python",
            "language": "python",
            "name": "python"
        },
        "language_info": {
            "name": "python"
        }
    },
    "cells": [
        {
            "id": "f3394990",
            "cell_type": "markdown",
            "source": "<div class='alert alert-warning'>\n\nSciPy's interactive examples with Jupyterlite are experimental and may not always work as expected. Execution of cells containing imports may result in large downloads (up to 60MB of content for the first import from SciPy). Load times when importing from SciPy may take roughly 10-20 seconds. If you notice any problems, feel free to open an [issue](https://github.com/scipy/scipy/issues/new/choose).\n\n</div>",
            "metadata": {}
        },
        {
            "id": "1c4f9e5a",
            "cell_type": "code",
            "metadata": {},
            "execution_count": null,
            "source": "import numpy as np\nfrom scipy import stats\nimport matplotlib.pyplot as plt\nnsample = 100\nrng = np.random.default_rng()",
            "outputs": []
        },
        {
            "id": "03bc7af5",
            "cell_type": "markdown",
            "source": "A t distribution with small degrees of freedom:\n",
            "metadata": {}
        },
        {
            "id": "a86dd08b",
            "cell_type": "code",
            "metadata": {},
            "execution_count": null,
            "source": "ax1 = plt.subplot(221)\nx = stats.t.rvs(3, size=nsample, random_state=rng)\nres = stats.probplot(x, plot=plt)",
            "outputs": []
        },
        {
            "id": "43cfe18f",
            "cell_type": "markdown",
            "source": "A t distribution with larger degrees of freedom:\n",
            "metadata": {}
        },
        {
            "id": "fa68be84",
            "cell_type": "code",
            "metadata": {},
            "execution_count": null,
            "source": "ax2 = plt.subplot(222)\nx = stats.t.rvs(25, size=nsample, random_state=rng)\nres = stats.probplot(x, plot=plt)",
            "outputs": []
        },
        {
            "id": "5942f8ed",
            "cell_type": "markdown",
            "source": "A mixture of two normal distributions with broadcasting:\n",
            "metadata": {}
        },
        {
            "id": "05f66a62",
            "cell_type": "code",
            "metadata": {},
            "execution_count": null,
            "source": "ax3 = plt.subplot(223)\nx = stats.norm.rvs(loc=[0,5], scale=[1,1.5],\n                   size=(nsample//2,2), random_state=rng).ravel()\nres = stats.probplot(x, plot=plt)",
            "outputs": []
        },
        {
            "id": "3924dcd6",
            "cell_type": "markdown",
            "source": "A standard normal distribution:\n",
            "metadata": {}
        },
        {
            "id": "66b69e36",
            "cell_type": "code",
            "metadata": {},
            "execution_count": null,
            "source": "ax4 = plt.subplot(224)\nx = stats.norm.rvs(loc=0, scale=1, size=nsample, random_state=rng)\nres = stats.probplot(x, plot=plt)",
            "outputs": []
        },
        {
            "id": "012faac4",
            "cell_type": "markdown",
            "source": "Produce a new figure with a loggamma distribution, using the ``dist`` and\n``sparams`` keywords:\n",
            "metadata": {}
        },
        {
            "id": "08b7b0e5",
            "cell_type": "code",
            "metadata": {},
            "execution_count": null,
            "source": "fig = plt.figure()\nax = fig.add_subplot(111)\nx = stats.loggamma.rvs(c=2.5, size=500, random_state=rng)\nres = stats.probplot(x, dist=stats.loggamma, sparams=(2.5,), plot=ax)\nax.set_title(\"Probplot for loggamma dist with shape parameter 2.5\")",
            "outputs": []
        },
        {
            "id": "5abeaad7",
            "cell_type": "markdown",
            "source": "Show the results with Matplotlib:\n",
            "metadata": {}
        },
        {
            "id": "f92937f3",
            "cell_type": "code",
            "metadata": {},
            "execution_count": null,
            "source": "plt.show()",
            "outputs": []
        }
    ]
}