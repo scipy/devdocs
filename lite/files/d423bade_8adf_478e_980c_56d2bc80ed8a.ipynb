{
    "nbformat": 4,
    "nbformat_minor": 5,
    "metadata": {
        "kernelspec": {
            "display_name": "Python",
            "language": "python",
            "name": "python"
        },
        "language_info": {
            "name": "python"
        }
    },
    "cells": [
        {
            "id": "20851d33",
            "cell_type": "markdown",
            "source": "<div class='alert alert-warning'>\n\nSciPy's interactive examples with Jupyterlite are experimental and may not always work as expected. Execution of cells containing imports may result in large downloads (up to 60MB of content for the first import from SciPy). Load times when importing from SciPy may take roughly 10-20 seconds. If you notice any problems, feel free to open an [issue](https://github.com/scipy/scipy/issues/new/choose).\n\n</div>",
            "metadata": {}
        },
        {
            "id": "acf5229d",
            "cell_type": "code",
            "metadata": {},
            "execution_count": null,
            "source": "import numpy as np\nimport matplotlib.pyplot as plt\nfrom scipy.interpolate import UnivariateSpline\nrng = np.random.default_rng()\nx = np.linspace(-3, 3, 50)\ny = np.exp(-x**2) + 0.1 * rng.standard_normal(50)\nplt.plot(x, y, 'ro', ms=5)",
            "outputs": []
        },
        {
            "id": "664552ed",
            "cell_type": "markdown",
            "source": "Use the default value for the smoothing parameter:\n",
            "metadata": {}
        },
        {
            "id": "3203fbba",
            "cell_type": "code",
            "metadata": {},
            "execution_count": null,
            "source": "spl = UnivariateSpline(x, y)\nxs = np.linspace(-3, 3, 1000)\nplt.plot(xs, spl(xs), 'g', lw=3)",
            "outputs": []
        },
        {
            "id": "eeedefb2",
            "cell_type": "markdown",
            "source": "Manually change the amount of smoothing:\n",
            "metadata": {}
        },
        {
            "id": "b7773e46",
            "cell_type": "code",
            "metadata": {},
            "execution_count": null,
            "source": "spl.set_smoothing_factor(0.5)\nplt.plot(xs, spl(xs), 'b', lw=3)\nplt.show()",
            "outputs": []
        }
    ]
}