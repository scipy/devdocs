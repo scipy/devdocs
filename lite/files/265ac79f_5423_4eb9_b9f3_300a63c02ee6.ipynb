{
    "nbformat": 4,
    "nbformat_minor": 5,
    "metadata": {
        "kernelspec": {
            "display_name": "Python",
            "language": "python",
            "name": "python"
        },
        "language_info": {
            "name": "python"
        }
    },
    "cells": [
        {
            "id": "bb68a70e",
            "cell_type": "markdown",
            "source": "<div class='alert alert-warning'>\n\nSciPy's interactive examples with Jupyterlite are experimental and may not always work as expected. Execution of cells containing imports may result in large downloads (up to 60MB of content for the first import from SciPy). Load times when importing from SciPy may take roughly 10-20 seconds. If you notice any problems, feel free to open an [issue](https://github.com/scipy/scipy/issues/new/choose).\n\n</div>",
            "metadata": {}
        },
        {
            "id": "0ce9c165",
            "cell_type": "code",
            "metadata": {},
            "execution_count": null,
            "source": "import numpy as np\nfrom scipy.stats import mstats\na = np.array([[6, 8, 3, 0],\n              [3, 9, 1, 2],\n              [8, 7, 8, 2],\n              [5, 6, 0, 2],\n              [4, 5, 5, 2]])\n\n\nmstats.tmean(a, (2,5))",
            "outputs": [
                {
                    "output_type": "execute_result",
                    "metadata": {},
                    "data": {
                        "text/plain": "3.3"
                    },
                    "execution_count": null
                }
            ]
        },
        {
            "id": "d2b11d2e",
            "cell_type": "code",
            "metadata": {},
            "execution_count": null,
            "source": "mstats.tmean(a, (2,5), axis=0)",
            "outputs": [
                {
                    "output_type": "execute_result",
                    "metadata": {},
                    "data": {
                        "text/plain": "masked_array(data=[4.0, 5.0, 4.0, 2.0],\n             mask=[False, False, False, False],\n       fill_value=1e+20)"
                    },
                    "execution_count": null
                }
            ]
        }
    ]
}