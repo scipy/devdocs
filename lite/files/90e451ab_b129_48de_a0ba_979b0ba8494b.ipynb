{
    "nbformat": 4,
    "nbformat_minor": 5,
    "metadata": {
        "kernelspec": {
            "display_name": "Python",
            "language": "python",
            "name": "python"
        },
        "language_info": {
            "name": "python"
        }
    },
    "cells": [
        {
            "id": "db4ad79c",
            "cell_type": "markdown",
            "source": "<div class='alert alert-warning'>\n\nSciPy's interactive examples with Jupyterlite are experimental and may not always work as expected. Execution of cells containing imports may result in large downloads (up to 60MB of content for the first import from SciPy). Load times when importing from SciPy may take roughly 10-20 seconds. If you notice any problems, feel free to open an [issue](https://github.com/scipy/scipy/issues/new/choose).\n\n</div>",
            "metadata": {}
        },
        {
            "id": "31a553ac",
            "cell_type": "code",
            "metadata": {},
            "execution_count": null,
            "source": "import numpy as np\nfrom scipy.sparse import csc_matrix\nfrom scipy.sparse.linalg import cg\nP = np.array([[4, 0, 1, 0],\n              [0, 5, 0, 0],\n              [1, 0, 3, 2],\n              [0, 0, 2, 4]])\nA = csc_matrix(P)\nb = np.array([-1, -0.5, -1, 2])\nx, exit_code = cg(A, b, atol=1e-5)\nprint(exit_code)    # 0 indicates successful convergence",
            "outputs": [
                {
                    "output_type": "execute_result",
                    "metadata": {},
                    "data": {
                        "text/plain": "0"
                    },
                    "execution_count": null
                }
            ]
        },
        {
            "id": "310fdb06",
            "cell_type": "code",
            "metadata": {},
            "execution_count": null,
            "source": "np.allclose(A.dot(x), b)",
            "outputs": [
                {
                    "output_type": "execute_result",
                    "metadata": {},
                    "data": {
                        "text/plain": "True"
                    },
                    "execution_count": null
                }
            ]
        }
    ]
}