{
    "nbformat": 4,
    "nbformat_minor": 5,
    "metadata": {
        "kernelspec": {
            "display_name": "Python",
            "language": "python",
            "name": "python"
        },
        "language_info": {
            "name": "python"
        }
    },
    "cells": [
        {
            "id": "9322393c",
            "cell_type": "markdown",
            "source": "<div class='alert alert-warning'>\n\nSciPy's interactive examples with Jupyterlite are experimental and may not always work as expected. Execution of cells containing imports may result in large downloads (up to 60MB of content for the first import from SciPy). Load times when importing from SciPy may take roughly 10-20 seconds. If you notice any problems, feel free to open an [issue](https://github.com/scipy/scipy/issues/new/choose).\n\n</div>",
            "metadata": {}
        },
        {
            "id": "c364e212",
            "cell_type": "code",
            "metadata": {},
            "execution_count": null,
            "source": "from scipy import signal\nimport matplotlib.pyplot as plt",
            "outputs": []
        },
        {
            "id": "8a349922",
            "cell_type": "code",
            "metadata": {},
            "execution_count": null,
            "source": "lp = signal.lti([1.0], [1.0, 1.0])\nbp = signal.lti(*signal.lp2bp(lp.num, lp.den))\nw, mag_lp, p_lp = lp.bode()\nw, mag_bp, p_bp = bp.bode(w)",
            "outputs": []
        },
        {
            "id": "a2eea26e",
            "cell_type": "code",
            "metadata": {},
            "execution_count": null,
            "source": "plt.plot(w, mag_lp, label='Lowpass')\nplt.plot(w, mag_bp, label='Bandpass')\nplt.semilogx()\nplt.grid(True)\nplt.xlabel('Frequency [rad/s]')\nplt.ylabel('Amplitude [dB]')\nplt.legend()",
            "outputs": []
        }
    ]
}