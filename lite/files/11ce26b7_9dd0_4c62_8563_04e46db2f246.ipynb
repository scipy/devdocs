{
    "nbformat": 4,
    "nbformat_minor": 5,
    "metadata": {
        "kernelspec": {
            "display_name": "Python",
            "language": "python",
            "name": "python"
        },
        "language_info": {
            "name": "python"
        }
    },
    "cells": [
        {
            "id": "58b80356",
            "cell_type": "markdown",
            "source": "<div class='alert alert-warning'>\n\nSciPy's interactive examples with Jupyterlite are experimental and may not always work as expected. Execution of cells containing imports may result in large downloads (up to 60MB of content for the first import from SciPy). Load times when importing from SciPy may take roughly 10-20 seconds. If you notice any problems, feel free to open an [issue](https://github.com/scipy/scipy/issues/new/choose).\n\n</div>",
            "metadata": {}
        },
        {
            "id": "b41a72e2",
            "cell_type": "markdown",
            "source": "Given `a` and `b`, solve for `x`:\n",
            "metadata": {}
        },
        {
            "id": "b3f0e7d1",
            "cell_type": "code",
            "metadata": {},
            "execution_count": null,
            "source": "import numpy as np\na = np.array([[3, 2, 0], [1, -1, 0], [0, 5, 1]])\nb = np.array([2, 4, -1])\nfrom scipy import linalg\nx = linalg.solve(a, b)\nx",
            "outputs": [
                {
                    "output_type": "execute_result",
                    "metadata": {},
                    "data": {
                        "text/plain": "array([ 2., -2.,  9.])"
                    },
                    "execution_count": null
                }
            ]
        },
        {
            "id": "9dc08081",
            "cell_type": "code",
            "metadata": {},
            "execution_count": null,
            "source": "np.dot(a, x) == b",
            "outputs": [
                {
                    "output_type": "execute_result",
                    "metadata": {},
                    "data": {
                        "text/plain": "array([ True,  True,  True], dtype=bool)"
                    },
                    "execution_count": null
                }
            ]
        }
    ]
}