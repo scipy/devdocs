{
    "nbformat": 4,
    "nbformat_minor": 5,
    "metadata": {
        "kernelspec": {
            "display_name": "Python",
            "language": "python",
            "name": "python"
        },
        "language_info": {
            "name": "python"
        }
    },
    "cells": [
        {
            "id": "35b1a6c7",
            "cell_type": "markdown",
            "source": "<div class='alert alert-warning'>\n\nSciPy's interactive examples with Jupyterlite are experimental and may not always work as expected. Execution of cells containing imports may result in large downloads (up to 60MB of content for the first import from SciPy). Load times when importing from SciPy may take roughly 10-20 seconds. If you notice any problems, feel free to open an [issue](https://github.com/scipy/scipy/issues/new/choose).\n\n</div>",
            "metadata": {}
        },
        {
            "id": "869028a1",
            "cell_type": "markdown",
            "source": "Create a 100Hz sine wave, sampled at 44100Hz.\nWrite to 16-bit PCM, Mono.\n",
            "metadata": {}
        },
        {
            "id": "bfab07c4",
            "cell_type": "code",
            "metadata": {},
            "execution_count": null,
            "source": "from scipy.io.wavfile import write\nimport numpy as np\nsamplerate = 44100; fs = 100\nt = np.linspace(0., 1., samplerate)\namplitude = np.iinfo(np.int16).max\ndata = amplitude * np.sin(2. * np.pi * fs * t)\nwrite(\"example.wav\", samplerate, data.astype(np.int16))",
            "outputs": []
        }
    ]
}