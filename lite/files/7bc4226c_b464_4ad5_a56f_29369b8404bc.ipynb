{
    "nbformat": 4,
    "nbformat_minor": 5,
    "metadata": {
        "kernelspec": {
            "display_name": "Python",
            "language": "python",
            "name": "python"
        },
        "language_info": {
            "name": "python"
        }
    },
    "cells": [
        {
            "id": "89ae80a4",
            "cell_type": "markdown",
            "source": "<div class='alert alert-warning'>\n\nSciPy's interactive examples with Jupyterlite are experimental and may not always work as expected. Execution of cells containing imports may result in large downloads (up to 60MB of content for the first import from SciPy). Load times when importing from SciPy may take roughly 10-20 seconds. If you notice any problems, feel free to open an [issue](https://github.com/scipy/scipy/issues/new/choose).\n\n</div>",
            "metadata": {}
        },
        {
            "id": "66d1bd74",
            "cell_type": "code",
            "metadata": {},
            "execution_count": null,
            "source": "import numpy as np\nfrom scipy.special import agm\na, b = 24.0, 6.0\nagm(a, b)",
            "outputs": [
                {
                    "output_type": "execute_result",
                    "metadata": {},
                    "data": {
                        "text/plain": "13.458171481725614"
                    },
                    "execution_count": null
                }
            ]
        },
        {
            "id": "8c315a1a",
            "cell_type": "markdown",
            "source": "Compare that result to the iteration:\n",
            "metadata": {}
        },
        {
            "id": "776c0edf",
            "cell_type": "code",
            "metadata": {},
            "execution_count": null,
            "source": "while a != b:\n    a, b = (a + b)/2, np.sqrt(a*b)\n    print(\"a = %19.16f  b=%19.16f\" % (a, b))\n",
            "outputs": [
                {
                    "output_type": "execute_result",
                    "metadata": {},
                    "data": {
                        "text/plain": "a = 15.0000000000000000  b=12.0000000000000000\na = 13.5000000000000000  b=13.4164078649987388\na = 13.4582039324993694  b=13.4581390309909850\na = 13.4581714817451772  b=13.4581714817060547\na = 13.4581714817256159  b=13.4581714817256159"
                    },
                    "execution_count": null
                }
            ]
        },
        {
            "id": "2879ead8",
            "cell_type": "markdown",
            "source": "When array-like arguments are given, broadcasting applies:\n",
            "metadata": {}
        },
        {
            "id": "0cc72ee7",
            "cell_type": "code",
            "metadata": {},
            "execution_count": null,
            "source": "a = np.array([[1.5], [3], [6]])  # a has shape (3, 1).\nb = np.array([6, 12, 24, 48])    # b has shape (4,).\nagm(a, b)",
            "outputs": [
                {
                    "output_type": "execute_result",
                    "metadata": {},
                    "data": {
                        "text/plain": "array([[  3.36454287,   5.42363427,   9.05798751,  15.53650756],\n       [  4.37037309,   6.72908574,  10.84726853,  18.11597502],\n       [  6.        ,   8.74074619,  13.45817148,  21.69453707]])"
                    },
                    "execution_count": null
                }
            ]
        }
    ]
}