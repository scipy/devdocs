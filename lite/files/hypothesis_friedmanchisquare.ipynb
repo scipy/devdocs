{
 "cells": [
  {
   "cell_type": "markdown",
   "id": "fa00dbcb",
   "metadata": {},
   "source": [
    "```{eval-rst}\n",
    ".. jupyterlite:: ../../_contents/hypothesis_friedmanchisquare.ipynb\n",
    "   :new_tab: True\n",
    "```\n",
    "\n",
    "(hypothesis_friedmanchisquare)=\n",
    "# Friedman test for repeated samples\n",
    "\n",
    "In [^1], the pulse rate (per minute) of a group of seven students was measured\n",
    "before exercise, immediately after exercise and 5 minutes after exercise. Is\n",
    "there evidence to suggest that the pulse rates on these three occasions are\n",
    "similar?\n",
    "\n",
    "We begin by formulating a null hypothesis $H_0$:\n",
    "\n",
    "> The pulse rates are identical on these three occasions.\n",
    "\n",
    "Let's assess the plausibility of this hypothesis with a Friedman test\n",
    "({func}`scipy.stats.friedmanchisquare`.)"
   ]
  },
  {
   "cell_type": "code",
   "execution_count": null,
   "id": "d4bcef8f",
   "metadata": {},
   "outputs": [],
   "source": [
    "from scipy.stats import friedmanchisquare\n",
    "before = [72, 96, 88, 92, 74, 76, 82]\n",
    "immediately_after = [120, 120, 132, 120, 101, 96, 112]\n",
    "five_min_after = [76, 95, 104, 96, 84, 72, 76]\n",
    "res = friedmanchisquare(before, immediately_after, five_min_after)\n",
    "res.statistic"
   ]
  },
  {
   "cell_type": "code",
   "execution_count": null,
   "id": "5ca752e0",
   "metadata": {},
   "outputs": [],
   "source": [
    "res.pvalue"
   ]
  },
  {
   "cell_type": "markdown",
   "id": "078c403d",
   "metadata": {},
   "source": [
    "Using a significance level of 5%, we would reject the null hypothesis in favor\n",
    "of the alternative hypothesis: \"the pulse rates are different on these three\n",
    "occasions\".\n",
    "\n",
    "## References\n",
    "\n",
    "[^1]: Sprent, P. and Smeeton, N.C. (2000), \"Applied Nonparametric Statistical\n",
    "Methods, Third Edition\". Chapter 6, Section 6.3.2."
   ]
  }
 ],
 "metadata": {
  "kernelspec": {
   "display_name": "Python 3 (ipykernel)",
   "language": "python",
   "name": "python3"
  }
 },
 "nbformat": 4,
 "nbformat_minor": 5
}
