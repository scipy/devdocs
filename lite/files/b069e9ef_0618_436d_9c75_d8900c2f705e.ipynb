{
    "nbformat": 4,
    "nbformat_minor": 5,
    "metadata": {
        "kernelspec": {
            "display_name": "Python",
            "language": "python",
            "name": "python"
        },
        "language_info": {
            "name": "python"
        }
    },
    "cells": [
        {
            "id": "ca3cefdf",
            "cell_type": "markdown",
            "source": "<div class='alert alert-warning'>\n\nSciPy's interactive examples with Jupyterlite are experimental and may not always work as expected. Execution of cells containing imports may result in large downloads (up to 60MB of content for the first import from SciPy). Load times when importing from SciPy may take roughly 10-20 seconds. If you notice any problems, feel free to open an [issue](https://github.com/scipy/scipy/issues/new/choose).\n\n</div>",
            "metadata": {}
        },
        {
            "id": "08414afd",
            "cell_type": "code",
            "metadata": {},
            "execution_count": null,
            "source": "from scipy import stats\nfrom scipy.stats.sampling import FastGeneratorInversion",
            "outputs": []
        },
        {
            "id": "21d54e5b",
            "cell_type": "markdown",
            "source": "Define a truncated normal distribution:\n",
            "metadata": {}
        },
        {
            "id": "127c650c",
            "cell_type": "code",
            "metadata": {},
            "execution_count": null,
            "source": "d_norm = FastGeneratorInversion(stats.norm(), domain=(0, 1))\nd_norm.support()",
            "outputs": [
                {
                    "output_type": "execute_result",
                    "metadata": {},
                    "data": {
                        "text/plain": "(0, 1)"
                    },
                    "execution_count": null
                }
            ]
        },
        {
            "id": "7686ce5a",
            "cell_type": "markdown",
            "source": "Shift the distribution:\n",
            "metadata": {}
        },
        {
            "id": "7e4220ed",
            "cell_type": "code",
            "metadata": {},
            "execution_count": null,
            "source": "d_norm.loc = 2.5\nd_norm.support()",
            "outputs": [
                {
                    "output_type": "execute_result",
                    "metadata": {},
                    "data": {
                        "text/plain": "(2.5, 3.5)"
                    },
                    "execution_count": null
                }
            ]
        }
    ]
}