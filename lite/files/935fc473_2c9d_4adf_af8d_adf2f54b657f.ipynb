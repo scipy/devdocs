{
    "nbformat": 4,
    "nbformat_minor": 5,
    "metadata": {
        "kernelspec": {
            "display_name": "Python",
            "language": "python",
            "name": "python"
        },
        "language_info": {
            "name": "python"
        }
    },
    "cells": [
        {
            "id": "da01e29d",
            "cell_type": "markdown",
            "source": "<div class='alert alert-warning'>\n\nSciPy's interactive examples with Jupyterlite are experimental and may not always work as expected. Execution of cells containing imports may result in large downloads (up to 60MB of content for the first import from SciPy). Load times when importing from SciPy may take roughly 10-20 seconds. If you notice any problems, feel free to open an [issue](https://github.com/scipy/scipy/issues/new/choose).\n\n</div>",
            "metadata": {}
        },
        {
            "id": "c9e200f8",
            "cell_type": "code",
            "metadata": {},
            "execution_count": null,
            "source": "from scipy.spatial.transform import Rotation as R\nimport numpy as np",
            "outputs": []
        },
        {
            "id": "aaeea109",
            "cell_type": "markdown",
            "source": "Single rotation applied on a single vector:\n",
            "metadata": {}
        },
        {
            "id": "52381102",
            "cell_type": "code",
            "metadata": {},
            "execution_count": null,
            "source": "vector = np.array([1, 0, 0])\nr = R.from_rotvec([0, 0, np.pi/2])\nr.as_matrix()",
            "outputs": [
                {
                    "output_type": "execute_result",
                    "metadata": {},
                    "data": {
                        "text/plain": "array([[ 2.22044605e-16, -1.00000000e+00,  0.00000000e+00],\n       [ 1.00000000e+00,  2.22044605e-16,  0.00000000e+00],\n       [ 0.00000000e+00,  0.00000000e+00,  1.00000000e+00]])"
                    },
                    "execution_count": null
                }
            ]
        },
        {
            "id": "662c1bc8",
            "cell_type": "code",
            "metadata": {},
            "execution_count": null,
            "source": "r.apply(vector)",
            "outputs": [
                {
                    "output_type": "execute_result",
                    "metadata": {},
                    "data": {
                        "text/plain": "array([2.22044605e-16, 1.00000000e+00, 0.00000000e+00])"
                    },
                    "execution_count": null
                }
            ]
        },
        {
            "id": "ec5f491c",
            "cell_type": "code",
            "metadata": {},
            "execution_count": null,
            "source": "r.apply(vector).shape",
            "outputs": [
                {
                    "output_type": "execute_result",
                    "metadata": {},
                    "data": {
                        "text/plain": "(3,)"
                    },
                    "execution_count": null
                }
            ]
        },
        {
            "id": "7bd15348",
            "cell_type": "markdown",
            "source": "Single rotation applied on multiple vectors:\n",
            "metadata": {}
        },
        {
            "id": "d4806c4f",
            "cell_type": "code",
            "metadata": {},
            "execution_count": null,
            "source": "vectors = np.array([\n[1, 0, 0],\n[1, 2, 3]])\nr = R.from_rotvec([0, 0, np.pi/4])\nr.as_matrix()",
            "outputs": [
                {
                    "output_type": "execute_result",
                    "metadata": {},
                    "data": {
                        "text/plain": "array([[ 0.70710678, -0.70710678,  0.        ],\n       [ 0.70710678,  0.70710678,  0.        ],\n       [ 0.        ,  0.        ,  1.        ]])"
                    },
                    "execution_count": null
                }
            ]
        },
        {
            "id": "164effcf",
            "cell_type": "code",
            "metadata": {},
            "execution_count": null,
            "source": "r.apply(vectors)",
            "outputs": [
                {
                    "output_type": "execute_result",
                    "metadata": {},
                    "data": {
                        "text/plain": "array([[ 0.70710678,  0.70710678,  0.        ],\n       [-0.70710678,  2.12132034,  3.        ]])"
                    },
                    "execution_count": null
                }
            ]
        },
        {
            "id": "d81de386",
            "cell_type": "code",
            "metadata": {},
            "execution_count": null,
            "source": "r.apply(vectors).shape",
            "outputs": [
                {
                    "output_type": "execute_result",
                    "metadata": {},
                    "data": {
                        "text/plain": "(2, 3)"
                    },
                    "execution_count": null
                }
            ]
        },
        {
            "id": "219f17cf",
            "cell_type": "markdown",
            "source": "Multiple rotations on a single vector:\n",
            "metadata": {}
        },
        {
            "id": "69a122b1",
            "cell_type": "code",
            "metadata": {},
            "execution_count": null,
            "source": "r = R.from_rotvec([[0, 0, np.pi/4], [np.pi/2, 0, 0]])\nvector = np.array([1,2,3])\nr.as_matrix()",
            "outputs": [
                {
                    "output_type": "execute_result",
                    "metadata": {},
                    "data": {
                        "text/plain": "array([[[ 7.07106781e-01, -7.07106781e-01,  0.00000000e+00],\n        [ 7.07106781e-01,  7.07106781e-01,  0.00000000e+00],\n        [ 0.00000000e+00,  0.00000000e+00,  1.00000000e+00]],\n       [[ 1.00000000e+00,  0.00000000e+00,  0.00000000e+00],\n        [ 0.00000000e+00,  2.22044605e-16, -1.00000000e+00],\n        [ 0.00000000e+00,  1.00000000e+00,  2.22044605e-16]]])"
                    },
                    "execution_count": null
                }
            ]
        },
        {
            "id": "8ebddc98",
            "cell_type": "code",
            "metadata": {},
            "execution_count": null,
            "source": "r.apply(vector)",
            "outputs": [
                {
                    "output_type": "execute_result",
                    "metadata": {},
                    "data": {
                        "text/plain": "array([[-0.70710678,  2.12132034,  3.        ],\n       [ 1.        , -3.        ,  2.        ]])"
                    },
                    "execution_count": null
                }
            ]
        },
        {
            "id": "fa748e90",
            "cell_type": "code",
            "metadata": {},
            "execution_count": null,
            "source": "r.apply(vector).shape",
            "outputs": [
                {
                    "output_type": "execute_result",
                    "metadata": {},
                    "data": {
                        "text/plain": "(2, 3)"
                    },
                    "execution_count": null
                }
            ]
        },
        {
            "id": "d9ee7c77",
            "cell_type": "markdown",
            "source": "Multiple rotations on multiple vectors. Each rotation is applied on the\ncorresponding vector:\n",
            "metadata": {}
        },
        {
            "id": "684c0776",
            "cell_type": "code",
            "metadata": {},
            "execution_count": null,
            "source": "r = R.from_euler('zxy', [\n[0, 0, 90],\n[45, 30, 60]], degrees=True)\nvectors = [\n[1, 2, 3],\n[1, 0, -1]]\nr.apply(vectors)",
            "outputs": [
                {
                    "output_type": "execute_result",
                    "metadata": {},
                    "data": {
                        "text/plain": "array([[ 3.        ,  2.        , -1.        ],\n       [-0.09026039,  1.11237244, -0.86860844]])"
                    },
                    "execution_count": null
                }
            ]
        },
        {
            "id": "3956f886",
            "cell_type": "code",
            "metadata": {},
            "execution_count": null,
            "source": "r.apply(vectors).shape",
            "outputs": [
                {
                    "output_type": "execute_result",
                    "metadata": {},
                    "data": {
                        "text/plain": "(2, 3)"
                    },
                    "execution_count": null
                }
            ]
        },
        {
            "id": "c38b3567",
            "cell_type": "markdown",
            "source": "It is also possible to apply the inverse rotation:\n",
            "metadata": {}
        },
        {
            "id": "b6d54e74",
            "cell_type": "code",
            "metadata": {},
            "execution_count": null,
            "source": "r = R.from_euler('zxy', [\n[0, 0, 90],\n[45, 30, 60]], degrees=True)\nvectors = [\n[1, 2, 3],\n[1, 0, -1]]\nr.apply(vectors, inverse=True)",
            "outputs": [
                {
                    "output_type": "execute_result",
                    "metadata": {},
                    "data": {
                        "text/plain": "array([[-3.        ,  2.        ,  1.        ],\n       [ 1.09533535, -0.8365163 ,  0.3169873 ]])"
                    },
                    "execution_count": null
                }
            ]
        }
    ]
}