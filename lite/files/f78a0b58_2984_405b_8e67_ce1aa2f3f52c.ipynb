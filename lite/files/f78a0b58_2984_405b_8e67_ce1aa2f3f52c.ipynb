{
    "nbformat": 4,
    "nbformat_minor": 5,
    "metadata": {
        "kernelspec": {
            "display_name": "Python",
            "language": "python",
            "name": "python"
        },
        "language_info": {
            "name": "python"
        }
    },
    "cells": [
        {
            "id": "991ffa7f",
            "cell_type": "markdown",
            "source": "<div class='alert alert-warning'>\n\nSciPy's interactive examples with Jupyterlite are experimental and may not always work as expected. Execution of cells containing imports may result in large downloads (up to 60MB of content for the first import from SciPy). Load times when importing from SciPy may take roughly 10-20 seconds. If you notice any problems, feel free to open an [issue](https://github.com/scipy/scipy/issues/new/choose).\n\n</div>",
            "metadata": {}
        },
        {
            "id": "d9ab8b42",
            "cell_type": "code",
            "metadata": {},
            "execution_count": null,
            "source": "from scipy.stats import tukey_hsd\ngroup0 = [24.5, 23.5, 26.4, 27.1, 29.9]\ngroup1 = [28.4, 34.2, 29.5, 32.2, 30.1]\ngroup2 = [26.1, 28.3, 24.3, 26.2, 27.8]\nresult = tukey_hsd(group0, group1, group2)\nci = result.confidence_interval()\nci.low",
            "outputs": [
                {
                    "output_type": "execute_result",
                    "metadata": {},
                    "data": {
                        "text/plain": "array([[-3.649159, -8.249159, -3.909159],\n       [ 0.950841, -3.649159,  0.690841],\n       [-3.389159, -7.989159, -3.649159]])"
                    },
                    "execution_count": null
                }
            ]
        },
        {
            "id": "9733e3de",
            "cell_type": "code",
            "metadata": {},
            "execution_count": null,
            "source": "ci.high",
            "outputs": [
                {
                    "output_type": "execute_result",
                    "metadata": {},
                    "data": {
                        "text/plain": "array([[ 3.649159, -0.950841,  3.389159],\n       [ 8.249159,  3.649159,  7.989159],\n       [ 3.909159, -0.690841,  3.649159]])"
                    },
                    "execution_count": null
                }
            ]
        }
    ]
}