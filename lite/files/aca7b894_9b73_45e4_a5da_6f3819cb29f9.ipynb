{
    "nbformat": 4,
    "nbformat_minor": 5,
    "metadata": {
        "kernelspec": {
            "display_name": "Python",
            "language": "python",
            "name": "python"
        },
        "language_info": {
            "name": "python"
        }
    },
    "cells": [
        {
            "id": "5d7dc5ce",
            "cell_type": "markdown",
            "source": "<div class='alert alert-warning'>\n\nSciPy's interactive examples with Jupyterlite are experimental and may not always work as expected. Execution of cells containing imports may result in large downloads (up to 60MB of content for the first import from SciPy). Load times when importing from SciPy may take roughly 10-20 seconds. If you notice any problems, feel free to open an [issue](https://github.com/scipy/scipy/issues/new/choose).\n\n</div>",
            "metadata": {}
        },
        {
            "id": "2b233aa7",
            "cell_type": "code",
            "metadata": {},
            "execution_count": null,
            "source": "import numpy as np\nfrom scipy.stats import skewcauchy\nimport matplotlib.pyplot as plt\nfig, ax = plt.subplots(1, 1)",
            "outputs": []
        },
        {
            "id": "cf3cec17",
            "cell_type": "markdown",
            "source": "Calculate the first four moments:\n",
            "metadata": {}
        },
        {
            "id": "5a8c5957",
            "cell_type": "code",
            "metadata": {},
            "execution_count": null,
            "source": "a = 0.5\nmean, var, skew, kurt = skewcauchy.stats(a, moments='mvsk')",
            "outputs": []
        },
        {
            "id": "0923e33f",
            "cell_type": "markdown",
            "source": "Display the probability density function (``pdf``):\n",
            "metadata": {}
        },
        {
            "id": "e5ebeb51",
            "cell_type": "code",
            "metadata": {},
            "execution_count": null,
            "source": "x = np.linspace(skewcauchy.ppf(0.01, a),\n                skewcauchy.ppf(0.99, a), 100)\nax.plot(x, skewcauchy.pdf(x, a),\n       'r-', lw=5, alpha=0.6, label='skewcauchy pdf')",
            "outputs": []
        },
        {
            "id": "1142d2a3",
            "cell_type": "markdown",
            "source": "Alternatively, the distribution object can be called (as a function)\nto fix the shape, location and scale parameters. This returns a \"frozen\"\nRV object holding the given parameters fixed.\n\nFreeze the distribution and display the frozen ``pdf``:\n",
            "metadata": {}
        },
        {
            "id": "6a73652c",
            "cell_type": "code",
            "metadata": {},
            "execution_count": null,
            "source": "rv = skewcauchy(a)\nax.plot(x, rv.pdf(x), 'k-', lw=2, label='frozen pdf')",
            "outputs": []
        },
        {
            "id": "7f683ebd",
            "cell_type": "markdown",
            "source": "Check accuracy of ``cdf`` and ``ppf``:\n",
            "metadata": {}
        },
        {
            "id": "4ea54dee",
            "cell_type": "code",
            "metadata": {},
            "execution_count": null,
            "source": "vals = skewcauchy.ppf([0.001, 0.5, 0.999], a)\nnp.allclose([0.001, 0.5, 0.999], skewcauchy.cdf(vals, a))",
            "outputs": [
                {
                    "output_type": "execute_result",
                    "metadata": {},
                    "data": {
                        "text/plain": "True"
                    },
                    "execution_count": null
                }
            ]
        },
        {
            "id": "b7827c95",
            "cell_type": "markdown",
            "source": "Generate random numbers:\n",
            "metadata": {}
        },
        {
            "id": "a7383ecf",
            "cell_type": "code",
            "metadata": {},
            "execution_count": null,
            "source": "r = skewcauchy.rvs(a, size=1000)",
            "outputs": []
        },
        {
            "id": "d635e819",
            "cell_type": "markdown",
            "source": "And compare the histogram:\n",
            "metadata": {}
        },
        {
            "id": "6531c32b",
            "cell_type": "code",
            "metadata": {},
            "execution_count": null,
            "source": "ax.hist(r, density=True, bins='auto', histtype='stepfilled', alpha=0.2)\nax.set_xlim([x[0], x[-1]])\nax.legend(loc='best', frameon=False)\nplt.show()",
            "outputs": []
        }
    ]
}