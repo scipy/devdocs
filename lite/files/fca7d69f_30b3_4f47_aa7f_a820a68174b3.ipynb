{
    "nbformat": 4,
    "nbformat_minor": 5,
    "metadata": {
        "kernelspec": {
            "display_name": "Python",
            "language": "python",
            "name": "python"
        },
        "language_info": {
            "name": "python"
        }
    },
    "cells": [
        {
            "id": "6369ab0f",
            "cell_type": "markdown",
            "source": "<div class='alert alert-warning'>\n\nSciPy's interactive examples with Jupyterlite are experimental and may not always work as expected. Execution of cells containing imports may result in large downloads (up to 60MB of content for the first import from SciPy). Load times when importing from SciPy may take roughly 10-20 seconds. If you notice any problems, feel free to open an [issue](https://github.com/scipy/scipy/issues/new/choose).\n\n</div>",
            "metadata": {}
        },
        {
            "id": "0fdfd346",
            "cell_type": "markdown",
            "source": "Interpolate $f(x) = x^3$ by 3 points.\n",
            "metadata": {}
        },
        {
            "id": "bc71f355",
            "cell_type": "code",
            "metadata": {},
            "execution_count": null,
            "source": "import numpy as np\nfrom scipy.interpolate import lagrange\nx = np.array([0, 1, 2])\ny = x**3\npoly = lagrange(x, y)",
            "outputs": []
        },
        {
            "id": "c0597a79",
            "cell_type": "markdown",
            "source": "Since there are only 3 points, Lagrange polynomial has degree 2. Explicitly,\nit is given by\n\n$$ \\begin{aligned} L(x) &= 1\\times \\frac{x (x - 2)}{-1} + 8\\times \\frac{x (x-1)}{2} \\\\ &= x (-2 + 3x) \\end{aligned} $$",
            "metadata": {}
        },
        {
            "id": "c666943f",
            "cell_type": "code",
            "metadata": {},
            "execution_count": null,
            "source": "from numpy.polynomial.polynomial import Polynomial\nPolynomial(poly.coef[::-1]).coef",
            "outputs": [
                {
                    "output_type": "execute_result",
                    "metadata": {},
                    "data": {
                        "text/plain": "array([ 0., -2.,  3.])"
                    },
                    "execution_count": null
                }
            ]
        },
        {
            "id": "d5cf63c4",
            "cell_type": "code",
            "metadata": {},
            "execution_count": null,
            "source": "import matplotlib.pyplot as plt\nx_new = np.arange(0, 2.1, 0.1)\nplt.scatter(x, y, label='data')\nplt.plot(x_new, Polynomial(poly.coef[::-1])(x_new), label='Polynomial')\nplt.plot(x_new, 3*x_new**2 - 2*x_new + 0*x_new,\n         label=r\"$3 x^2 - 2 x$\", linestyle='-.')\nplt.legend()\nplt.show()",
            "outputs": []
        }
    ]
}