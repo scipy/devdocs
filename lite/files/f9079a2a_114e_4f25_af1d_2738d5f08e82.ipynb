{
    "nbformat": 4,
    "nbformat_minor": 5,
    "metadata": {
        "kernelspec": {
            "display_name": "Python",
            "language": "python",
            "name": "python"
        },
        "language_info": {
            "name": "python"
        }
    },
    "cells": [
        {
            "id": "2eb37909",
            "cell_type": "markdown",
            "source": "<div class='alert alert-warning'>\n\nSciPy's interactive examples with Jupyterlite are experimental and may not always work as expected. Execution of cells containing imports may result in large downloads (up to 60MB of content for the first import from SciPy). Load times when importing from SciPy may take roughly 10-20 seconds. If you notice any problems, feel free to open an [issue](https://github.com/scipy/scipy/issues/new/choose).\n\n</div>",
            "metadata": {}
        },
        {
            "id": "436f7acf",
            "cell_type": "code",
            "metadata": {},
            "execution_count": null,
            "source": "from scipy.stats import random_table",
            "outputs": []
        },
        {
            "id": "dc9fb51b",
            "cell_type": "code",
            "metadata": {},
            "execution_count": null,
            "source": "row = [1, 5]\ncol = [2, 3, 1]\nrandom_table.mean(row, col)",
            "outputs": [
                {
                    "output_type": "execute_result",
                    "metadata": {},
                    "data": {
                        "text/plain": "array([[0.33333333, 0.5       , 0.16666667],\n       [1.66666667, 2.5       , 0.83333333]])"
                    },
                    "execution_count": null
                }
            ]
        },
        {
            "id": "6392e12f",
            "cell_type": "markdown",
            "source": "Alternatively, the object may be called (as a function) to fix the row\nand column vector sums, returning a \"frozen\" distribution.\n",
            "metadata": {}
        },
        {
            "id": "644829b0",
            "cell_type": "code",
            "metadata": {},
            "execution_count": null,
            "source": "dist = random_table(row, col)\ndist.rvs(random_state=123)",
            "outputs": [
                {
                    "output_type": "execute_result",
                    "metadata": {},
                    "data": {
                        "text/plain": "array([[1, 0, 0],\n       [1, 3, 1]])"
                    },
                    "execution_count": null
                }
            ]
        }
    ]
}