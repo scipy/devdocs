{
    "nbformat": 4,
    "nbformat_minor": 5,
    "metadata": {
        "kernelspec": {
            "display_name": "Python",
            "language": "python",
            "name": "python"
        },
        "language_info": {
            "name": "python"
        }
    },
    "cells": [
        {
            "id": "517fb50f",
            "cell_type": "markdown",
            "source": "<div class='alert alert-warning'>\n\nSciPy's interactive examples with Jupyterlite are experimental and may not always work as expected. Execution of cells containing imports may result in large downloads (up to 60MB of content for the first import from SciPy). Load times when importing from SciPy may take roughly 10-20 seconds. If you notice any problems, feel free to open an [issue](https://github.com/scipy/scipy/issues/new/choose).\n\n</div>",
            "metadata": {}
        },
        {
            "id": "d008b069",
            "cell_type": "code",
            "metadata": {},
            "execution_count": null,
            "source": "from scipy.stats.contingency import relative_risk",
            "outputs": []
        },
        {
            "id": "6ca6de81",
            "cell_type": "markdown",
            "source": "This example is from Example 3.1 of [2].  The results of a heart\ndisease study are summarized in the following table\n```\n\nHigh CAT   Low CAT    Total\n--------   -------    -----\nCHD         27         44        71\nNo CHD      95        443       538\n\nTotal      122        487       609\n\n```\nCHD is coronary heart disease, and CAT refers to the level of\ncirculating catecholamine.  CAT is the \"exposure\" variable, and\nhigh CAT is the \"exposed\" category. So the data from the table\nto be passed to ``relative_risk`` is\n```\n\nexposed_cases = 27\nexposed_total = 122\ncontrol_cases = 44\ncontrol_total = 487\n\n```",
            "metadata": {}
        },
        {
            "id": "12ffac36",
            "cell_type": "code",
            "metadata": {},
            "execution_count": null,
            "source": "result = relative_risk(27, 122, 44, 487)\nresult.relative_risk",
            "outputs": [
                {
                    "output_type": "execute_result",
                    "metadata": {},
                    "data": {
                        "text/plain": "2.4495156482861398"
                    },
                    "execution_count": null
                }
            ]
        },
        {
            "id": "052dd036",
            "cell_type": "markdown",
            "source": "Find the confidence interval for the relative risk.\n",
            "metadata": {}
        },
        {
            "id": "2248b904",
            "cell_type": "code",
            "metadata": {},
            "execution_count": null,
            "source": "result.confidence_interval(confidence_level=0.95)",
            "outputs": [
                {
                    "output_type": "execute_result",
                    "metadata": {},
                    "data": {
                        "text/plain": "ConfidenceInterval(low=1.5836990926700116, high=3.7886786315466354)"
                    },
                    "execution_count": null
                }
            ]
        },
        {
            "id": "094460ed",
            "cell_type": "markdown",
            "source": "The interval does not contain 1, so the data supports the statement\nthat high CAT is associated with greater risk of CHD.",
            "metadata": {}
        }
    ]
}