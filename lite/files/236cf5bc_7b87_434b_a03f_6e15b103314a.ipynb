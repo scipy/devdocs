{
    "nbformat": 4,
    "nbformat_minor": 5,
    "metadata": {
        "kernelspec": {
            "display_name": "Python",
            "language": "python",
            "name": "python"
        },
        "language_info": {
            "name": "python"
        }
    },
    "cells": [
        {
            "id": "ccb3c317",
            "cell_type": "markdown",
            "source": "<div class='alert alert-warning'>\n\nSciPy's interactive examples with Jupyterlite are experimental and may not always work as expected. Execution of cells containing imports may result in large downloads (up to 60MB of content for the first import from SciPy). Load times when importing from SciPy may take roughly 10-20 seconds. If you notice any problems, feel free to open an [issue](https://github.com/scipy/scipy/issues/new/choose).\n\n</div>",
            "metadata": {}
        },
        {
            "id": "7827ffb0",
            "cell_type": "code",
            "metadata": {},
            "execution_count": null,
            "source": "import numpy as np\nfrom scipy.stats.mstats import variation\na = np.array([2,8,4])\nvariation(a)",
            "outputs": [
                {
                    "output_type": "execute_result",
                    "metadata": {},
                    "data": {
                        "text/plain": "0.5345224838248487"
                    },
                    "execution_count": null
                }
            ]
        },
        {
            "id": "66d01ce6",
            "cell_type": "code",
            "metadata": {},
            "execution_count": null,
            "source": "b = np.array([2,8,3,4])\nc = np.ma.masked_array(b, mask=[0,0,1,0])\nvariation(c)",
            "outputs": [
                {
                    "output_type": "execute_result",
                    "metadata": {},
                    "data": {
                        "text/plain": "0.5345224838248487"
                    },
                    "execution_count": null
                }
            ]
        },
        {
            "id": "4661bc16",
            "cell_type": "markdown",
            "source": "In the example above, it can be seen that this works the same as\n`scipy.stats.variation` except 'stats.mstats.variation' ignores masked\narray elements.",
            "metadata": {}
        }
    ]
}