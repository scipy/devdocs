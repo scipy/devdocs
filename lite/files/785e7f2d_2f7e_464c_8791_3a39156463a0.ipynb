{
    "nbformat": 4,
    "nbformat_minor": 5,
    "metadata": {
        "kernelspec": {
            "display_name": "Python",
            "language": "python",
            "name": "python"
        },
        "language_info": {
            "name": "python"
        }
    },
    "cells": [
        {
            "id": "4f4fb7ea",
            "cell_type": "markdown",
            "source": "<div class='alert alert-warning'>\n\nSciPy's interactive examples with Jupyterlite are experimental and may not always work as expected. Execution of cells containing imports may result in large downloads (up to 60MB of content for the first import from SciPy). Load times when importing from SciPy may take roughly 10-20 seconds. If you notice any problems, feel free to open an [issue](https://github.com/scipy/scipy/issues/new/choose).\n\n</div>",
            "metadata": {}
        },
        {
            "id": "0406322c",
            "cell_type": "markdown",
            "source": "Find the polynomial representation of an elliptic filter\nusing its 'sos' (second-order sections) format.\n",
            "metadata": {}
        },
        {
            "id": "0b995a29",
            "cell_type": "code",
            "metadata": {},
            "execution_count": null,
            "source": "from scipy.signal import sos2tf\nfrom scipy import signal\nsos = signal.ellip(1, 0.001, 50, 0.1, output='sos')\nsos2tf(sos)",
            "outputs": [
                {
                    "output_type": "execute_result",
                    "metadata": {},
                    "data": {
                        "text/plain": "(   array([0.91256522, 0.91256522, 0.        ]),\n    array([1.        , 0.82513043, 0.        ]))"
                    },
                    "execution_count": null
                }
            ]
        }
    ]
}