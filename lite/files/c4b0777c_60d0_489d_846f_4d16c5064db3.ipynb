{
    "nbformat": 4,
    "nbformat_minor": 5,
    "metadata": {
        "kernelspec": {
            "display_name": "Python",
            "language": "python",
            "name": "python"
        },
        "language_info": {
            "name": "python"
        }
    },
    "cells": [
        {
            "id": "5314d899",
            "cell_type": "markdown",
            "source": "<div class='alert alert-warning'>\n\nSciPy's interactive examples with Jupyterlite are experimental and may not always work as expected. Execution of cells containing imports may result in large downloads (up to 60MB of content for the first import from SciPy). Load times when importing from SciPy may take roughly 10-20 seconds. If you notice any problems, feel free to open an [issue](https://github.com/scipy/scipy/issues/new/choose).\n\n</div>",
            "metadata": {}
        },
        {
            "id": "ab8e7d60",
            "cell_type": "markdown",
            "source": "Calculate the quality of the sample using the discrepancy:\n",
            "metadata": {}
        },
        {
            "id": "44824832",
            "cell_type": "code",
            "metadata": {},
            "execution_count": null,
            "source": "import numpy as np\nfrom scipy.stats import qmc\nspace = np.array([[1, 3], [2, 6], [3, 2], [4, 5], [5, 1], [6, 4]])\nl_bounds = [0.5, 0.5]\nu_bounds = [6.5, 6.5]\nspace = qmc.scale(space, l_bounds, u_bounds, reverse=True)\nspace",
            "outputs": [
                {
                    "output_type": "execute_result",
                    "metadata": {},
                    "data": {
                        "text/plain": "array([[0.08333333, 0.41666667],\n       [0.25      , 0.91666667],\n       [0.41666667, 0.25      ],\n       [0.58333333, 0.75      ],\n       [0.75      , 0.08333333],\n       [0.91666667, 0.58333333]])"
                    },
                    "execution_count": null
                }
            ]
        },
        {
            "id": "80966022",
            "cell_type": "code",
            "metadata": {},
            "execution_count": null,
            "source": "qmc.discrepancy(space)",
            "outputs": [
                {
                    "output_type": "execute_result",
                    "metadata": {},
                    "data": {
                        "text/plain": "0.008142039609053464"
                    },
                    "execution_count": null
                }
            ]
        },
        {
            "id": "43ee8856",
            "cell_type": "markdown",
            "source": "We can also compute iteratively the ``CD`` discrepancy by using\n``iterative=True``.\n",
            "metadata": {}
        },
        {
            "id": "f6f5f3a2",
            "cell_type": "code",
            "metadata": {},
            "execution_count": null,
            "source": "disc_init = qmc.discrepancy(space[:-1], iterative=True)\ndisc_init",
            "outputs": [
                {
                    "output_type": "execute_result",
                    "metadata": {},
                    "data": {
                        "text/plain": "0.04769081147119336"
                    },
                    "execution_count": null
                }
            ]
        },
        {
            "id": "c76f4174",
            "cell_type": "code",
            "metadata": {},
            "execution_count": null,
            "source": "qmc.update_discrepancy(space[-1], space[:-1], disc_init)",
            "outputs": [
                {
                    "output_type": "execute_result",
                    "metadata": {},
                    "data": {
                        "text/plain": "0.008142039609053513"
                    },
                    "execution_count": null
                }
            ]
        }
    ]
}