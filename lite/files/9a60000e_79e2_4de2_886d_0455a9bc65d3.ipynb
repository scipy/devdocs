{
    "nbformat": 4,
    "nbformat_minor": 5,
    "metadata": {
        "kernelspec": {
            "display_name": "Python",
            "language": "python",
            "name": "python"
        },
        "language_info": {
            "name": "python"
        }
    },
    "cells": [
        {
            "id": "596d5523",
            "cell_type": "markdown",
            "source": "<div class='alert alert-warning'>\n\nSciPy's interactive examples with Jupyterlite are experimental and may not always work as expected. Execution of cells containing imports may result in large downloads (up to 60MB of content for the first import from SciPy). Load times when importing from SciPy may take roughly 10-20 seconds. If you notice any problems, feel free to open an [issue](https://github.com/scipy/scipy/issues/new/choose).\n\n</div>",
            "metadata": {}
        },
        {
            "id": "81af57ee",
            "cell_type": "code",
            "metadata": {},
            "execution_count": null,
            "source": "import numpy as np\nimport scipy.fft\nsignal = np.array([-2, 8, 6, 4, 1, 0, 3, 5, -3, 4], dtype=float)\nfourier = scipy.fft.rfft(signal)\nn = signal.size\nsample_rate = 100\nfreq = scipy.fft.fftfreq(n, d=1./sample_rate)\nfreq",
            "outputs": [
                {
                    "output_type": "execute_result",
                    "metadata": {},
                    "data": {
                        "text/plain": "array([  0.,  10.,  20., ..., -30., -20., -10.])"
                    },
                    "execution_count": null
                }
            ]
        },
        {
            "id": "eae6c2af",
            "cell_type": "code",
            "metadata": {},
            "execution_count": null,
            "source": "freq = scipy.fft.rfftfreq(n, d=1./sample_rate)\nfreq",
            "outputs": [
                {
                    "output_type": "execute_result",
                    "metadata": {},
                    "data": {
                        "text/plain": "array([  0.,  10.,  20.,  30.,  40.,  50.])"
                    },
                    "execution_count": null
                }
            ]
        }
    ]
}