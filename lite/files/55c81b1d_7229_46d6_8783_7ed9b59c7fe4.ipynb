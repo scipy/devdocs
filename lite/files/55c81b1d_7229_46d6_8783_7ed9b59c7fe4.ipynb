{
    "nbformat": 4,
    "nbformat_minor": 5,
    "metadata": {
        "kernelspec": {
            "display_name": "Python",
            "language": "python",
            "name": "python"
        },
        "language_info": {
            "name": "python"
        }
    },
    "cells": [
        {
            "id": "2aea6e5a",
            "cell_type": "markdown",
            "source": "<div class='alert alert-warning'>\n\nSciPy's interactive examples with Jupyterlite are experimental and may not always work as expected. Execution of cells containing imports may result in large downloads (up to 60MB of content for the first import from SciPy). Load times when importing from SciPy may take roughly 10-20 seconds. If you notice any problems, feel free to open an [issue](https://github.com/scipy/scipy/issues/new/choose).\n\n</div>",
            "metadata": {}
        },
        {
            "id": "2a74bd57",
            "cell_type": "markdown",
            "source": "Test the null hypothesis that a random sample was drawn from a normal\ndistribution (with unspecified mean and standard deviation).\n",
            "metadata": {}
        },
        {
            "id": "7b2e7494",
            "cell_type": "code",
            "metadata": {},
            "execution_count": null,
            "source": "import numpy as np\nfrom scipy.stats import anderson\nrng = np.random.default_rng()\ndata = rng.random(size=35)\nres = anderson(data)\nres.statistic",
            "outputs": [
                {
                    "output_type": "execute_result",
                    "metadata": {},
                    "data": {
                        "text/plain": "0.8398018749744764"
                    },
                    "execution_count": null
                }
            ]
        },
        {
            "id": "4f99b5f5",
            "cell_type": "code",
            "metadata": {},
            "execution_count": null,
            "source": "res.critical_values",
            "outputs": [
                {
                    "output_type": "execute_result",
                    "metadata": {},
                    "data": {
                        "text/plain": "array([0.527, 0.6  , 0.719, 0.839, 0.998])"
                    },
                    "execution_count": null
                }
            ]
        },
        {
            "id": "80aad493",
            "cell_type": "code",
            "metadata": {},
            "execution_count": null,
            "source": "res.significance_level",
            "outputs": [
                {
                    "output_type": "execute_result",
                    "metadata": {},
                    "data": {
                        "text/plain": "array([15. , 10. ,  5. ,  2.5,  1. ])"
                    },
                    "execution_count": null
                }
            ]
        },
        {
            "id": "3d37e6c4",
            "cell_type": "markdown",
            "source": "The value of the statistic (barely) exceeds the critical value associated\nwith a significance level of 2.5%, so the null hypothesis may be rejected\nat a significance level of 2.5%, but not at a significance level of 1%.",
            "metadata": {}
        }
    ]
}