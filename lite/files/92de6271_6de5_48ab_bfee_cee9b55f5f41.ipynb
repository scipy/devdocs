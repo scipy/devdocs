{
    "nbformat": 4,
    "nbformat_minor": 5,
    "metadata": {
        "kernelspec": {
            "display_name": "Python",
            "language": "python",
            "name": "python"
        },
        "language_info": {
            "name": "python"
        }
    },
    "cells": [
        {
            "id": "e4e31957",
            "cell_type": "markdown",
            "source": "<div class='alert alert-warning'>\n\nSciPy's interactive examples with Jupyterlite are experimental and may not always work as expected. Execution of cells containing imports may result in large downloads (up to 60MB of content for the first import from SciPy). Load times when importing from SciPy may take roughly 10-20 seconds. If you notice any problems, feel free to open an [issue](https://github.com/scipy/scipy/issues/new/choose).\n\n</div>",
            "metadata": {}
        },
        {
            "id": "ee04f3aa",
            "cell_type": "markdown",
            "source": "The following functions define a system of nonlinear equations and its\njacobian.\n",
            "metadata": {}
        },
        {
            "id": "97db70c2",
            "cell_type": "code",
            "metadata": {},
            "execution_count": null,
            "source": "import numpy as np\ndef fun(x):\n    return [x[0]  + 0.5 * (x[0] - x[1])**3 - 1.0,\n            0.5 * (x[1] - x[0])**3 + x[1]]",
            "outputs": []
        },
        {
            "id": "8bc119dc",
            "cell_type": "code",
            "metadata": {},
            "execution_count": null,
            "source": "def jac(x):\n    return np.array([[1 + 1.5 * (x[0] - x[1])**2,\n                      -1.5 * (x[0] - x[1])**2],\n                     [-1.5 * (x[1] - x[0])**2,\n                      1 + 1.5 * (x[1] - x[0])**2]])",
            "outputs": []
        },
        {
            "id": "a6812de5",
            "cell_type": "markdown",
            "source": "A solution can be obtained as follows.\n",
            "metadata": {}
        },
        {
            "id": "0cbb27da",
            "cell_type": "code",
            "metadata": {},
            "execution_count": null,
            "source": "from scipy import optimize\nsol = optimize.root(fun, [0, 0], jac=jac, method='hybr')\nsol.x",
            "outputs": [
                {
                    "output_type": "execute_result",
                    "metadata": {},
                    "data": {
                        "text/plain": "array([ 0.8411639,  0.1588361])"
                    },
                    "execution_count": null
                }
            ]
        },
        {
            "id": "7f4303b3",
            "cell_type": "markdown",
            "source": "**Large problem**\n\nSuppose that we needed to solve the following integrodifferential\nequation on the square $[0,1]\\times[0,1]$:\n\n$$ \\nabla^2 P = 10 \\left(\\int_0^1\\int_0^1\\cosh(P)\\,dx\\,dy\\right)^2 $$\nwith $P(x,1) = 1$ and $P=0$ elsewhere on the boundary of\nthe square.\n\nThe solution can be found using the ``method='krylov'`` solver:\n",
            "metadata": {}
        },
        {
            "id": "d009adfb",
            "cell_type": "code",
            "metadata": {},
            "execution_count": null,
            "source": "from scipy import optimize\n# parameters\nnx, ny = 75, 75\nhx, hy = 1./(nx-1), 1./(ny-1)",
            "outputs": []
        },
        {
            "id": "2e3a8aa2",
            "cell_type": "code",
            "metadata": {},
            "execution_count": null,
            "source": "P_left, P_right = 0, 0\nP_top, P_bottom = 1, 0",
            "outputs": []
        },
        {
            "id": "3deb0db4",
            "cell_type": "code",
            "metadata": {},
            "execution_count": null,
            "source": "def residual(P):\n   d2x = np.zeros_like(P)\n   d2y = np.zeros_like(P)\n\n   d2x[1:-1] = (P[2:]   - 2*P[1:-1] + P[:-2]) / hx/hx\n   d2x[0]    = (P[1]    - 2*P[0]    + P_left)/hx/hx\n   d2x[-1]   = (P_right - 2*P[-1]   + P[-2])/hx/hx\n\n   d2y[:,1:-1] = (P[:,2:] - 2*P[:,1:-1] + P[:,:-2])/hy/hy\n   d2y[:,0]    = (P[:,1]  - 2*P[:,0]    + P_bottom)/hy/hy\n   d2y[:,-1]   = (P_top   - 2*P[:,-1]   + P[:,-2])/hy/hy\n\n   return d2x + d2y - 10*np.cosh(P).mean()**2",
            "outputs": []
        },
        {
            "id": "06d87271",
            "cell_type": "code",
            "metadata": {},
            "execution_count": null,
            "source": "guess = np.zeros((nx, ny), float)\nsol = optimize.root(residual, guess, method='krylov')\nprint('Residual: %g' % abs(residual(sol.x)).max())",
            "outputs": [
                {
                    "output_type": "execute_result",
                    "metadata": {},
                    "data": {
                        "text/plain": "Residual: 5.7972e-06  # may vary"
                    },
                    "execution_count": null
                }
            ]
        },
        {
            "id": "5255fbf9",
            "cell_type": "code",
            "metadata": {},
            "execution_count": null,
            "source": "import matplotlib.pyplot as plt\nx, y = np.mgrid[0:1:(nx*1j), 0:1:(ny*1j)]\nplt.pcolormesh(x, y, sol.x, shading='gouraud')\nplt.colorbar()\nplt.show()",
            "outputs": []
        }
    ]
}