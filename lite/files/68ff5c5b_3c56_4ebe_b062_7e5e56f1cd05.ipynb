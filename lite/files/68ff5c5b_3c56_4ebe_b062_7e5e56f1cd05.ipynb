{
    "nbformat": 4,
    "nbformat_minor": 5,
    "metadata": {
        "kernelspec": {
            "display_name": "Python",
            "language": "python",
            "name": "python"
        },
        "language_info": {
            "name": "python"
        }
    },
    "cells": [
        {
            "id": "a9703ce6",
            "cell_type": "markdown",
            "source": "<div class='alert alert-warning'>\n\nSciPy's interactive examples with Jupyterlite are experimental and may not always work as expected. Execution of cells containing imports may result in large downloads (up to 60MB of content for the first import from SciPy). Load times when importing from SciPy may take roughly 10-20 seconds. If you notice any problems, feel free to open an [issue](https://github.com/scipy/scipy/issues/new/choose).\n\n</div>",
            "metadata": {}
        },
        {
            "id": "389e8b92",
            "cell_type": "code",
            "metadata": {},
            "execution_count": null,
            "source": "import numpy as np\nfrom scipy.special import eval_legendre",
            "outputs": []
        },
        {
            "id": "6b40311c",
            "cell_type": "markdown",
            "source": "Evaluate the zero-order Legendre polynomial at x = 0\n",
            "metadata": {}
        },
        {
            "id": "08d60ed2",
            "cell_type": "code",
            "metadata": {},
            "execution_count": null,
            "source": "eval_legendre(0, 0)",
            "outputs": [
                {
                    "output_type": "execute_result",
                    "metadata": {},
                    "data": {
                        "text/plain": "1.0"
                    },
                    "execution_count": null
                }
            ]
        },
        {
            "id": "582db6fe",
            "cell_type": "markdown",
            "source": "Evaluate the first-order Legendre polynomial between -1 and 1\n",
            "metadata": {}
        },
        {
            "id": "972957c8",
            "cell_type": "code",
            "metadata": {},
            "execution_count": null,
            "source": "X = np.linspace(-1, 1, 5)  # Domain of Legendre polynomials\neval_legendre(1, X)",
            "outputs": [
                {
                    "output_type": "execute_result",
                    "metadata": {},
                    "data": {
                        "text/plain": "array([-1. , -0.5,  0. ,  0.5,  1. ])"
                    },
                    "execution_count": null
                }
            ]
        },
        {
            "id": "7b178f59",
            "cell_type": "markdown",
            "source": "Evaluate Legendre polynomials of order 0 through 4 at x = 0\n",
            "metadata": {}
        },
        {
            "id": "ddd8125d",
            "cell_type": "code",
            "metadata": {},
            "execution_count": null,
            "source": "N = range(0, 5)\neval_legendre(N, 0)",
            "outputs": [
                {
                    "output_type": "execute_result",
                    "metadata": {},
                    "data": {
                        "text/plain": "array([ 1.   ,  0.   , -0.5  ,  0.   ,  0.375])"
                    },
                    "execution_count": null
                }
            ]
        },
        {
            "id": "492873a8",
            "cell_type": "markdown",
            "source": "Plot Legendre polynomials of order 0 through 4\n",
            "metadata": {}
        },
        {
            "id": "470b89c5",
            "cell_type": "code",
            "metadata": {},
            "execution_count": null,
            "source": "X = np.linspace(-1, 1)",
            "outputs": []
        },
        {
            "id": "979d95e1",
            "cell_type": "code",
            "metadata": {},
            "execution_count": null,
            "source": "import matplotlib.pyplot as plt\nfor n in range(0, 5):\n    y = eval_legendre(n, X)\n    plt.plot(X, y, label=r'$P_{}(x)$'.format(n))",
            "outputs": []
        },
        {
            "id": "b6606a9b",
            "cell_type": "code",
            "metadata": {},
            "execution_count": null,
            "source": "plt.title(\"Legendre Polynomials\")\nplt.xlabel(\"x\")\nplt.ylabel(r'$P_n(x)$')\nplt.legend(loc='lower right')\nplt.show()",
            "outputs": []
        }
    ]
}