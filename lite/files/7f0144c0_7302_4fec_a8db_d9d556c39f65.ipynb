{
    "nbformat": 4,
    "nbformat_minor": 5,
    "metadata": {
        "kernelspec": {
            "display_name": "Python",
            "language": "python",
            "name": "python"
        },
        "language_info": {
            "name": "python"
        }
    },
    "cells": [
        {
            "id": "850acd43",
            "cell_type": "markdown",
            "source": "<div class='alert alert-warning'>\n\nSciPy's interactive examples with Jupyterlite are experimental and may not always work as expected. Execution of cells containing imports may result in large downloads (up to 60MB of content for the first import from SciPy). Load times when importing from SciPy may take roughly 10-20 seconds. If you notice any problems, feel free to open an [issue](https://github.com/scipy/scipy/issues/new/choose).\n\n</div>",
            "metadata": {}
        },
        {
            "id": "39582672",
            "cell_type": "code",
            "metadata": {},
            "execution_count": null,
            "source": "import numpy as np\nfrom scipy.special import log_softmax\nfrom scipy.special import softmax\nnp.set_printoptions(precision=5)",
            "outputs": []
        },
        {
            "id": "ed899003",
            "cell_type": "code",
            "metadata": {},
            "execution_count": null,
            "source": "x = np.array([1000.0, 1.0])",
            "outputs": []
        },
        {
            "id": "0cbcd113",
            "cell_type": "code",
            "metadata": {},
            "execution_count": null,
            "source": "y = log_softmax(x)\ny",
            "outputs": [
                {
                    "output_type": "execute_result",
                    "metadata": {},
                    "data": {
                        "text/plain": "array([   0., -999.])"
                    },
                    "execution_count": null
                }
            ]
        },
        {
            "id": "faff5cb7",
            "cell_type": "code",
            "metadata": {},
            "execution_count": null,
            "source": "with np.errstate(divide='ignore'):\n  y = np.log(softmax(x))\n\ny",
            "outputs": [
                {
                    "output_type": "execute_result",
                    "metadata": {},
                    "data": {
                        "text/plain": "array([  0., -inf])"
                    },
                    "execution_count": null
                }
            ]
        }
    ]
}