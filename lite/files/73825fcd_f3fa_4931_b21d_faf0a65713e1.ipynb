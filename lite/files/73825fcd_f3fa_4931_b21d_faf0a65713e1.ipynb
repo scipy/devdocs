{
    "nbformat": 4,
    "nbformat_minor": 5,
    "metadata": {
        "kernelspec": {
            "display_name": "Python",
            "language": "python",
            "name": "python"
        },
        "language_info": {
            "name": "python"
        }
    },
    "cells": [
        {
            "id": "c5ad0e7d",
            "cell_type": "markdown",
            "source": "<div class='alert alert-warning'>\n\nSciPy's interactive examples with Jupyterlite are experimental and may not always work as expected. Execution of cells containing imports may result in large downloads (up to 60MB of content for the first import from SciPy). Load times when importing from SciPy may take roughly 10-20 seconds. If you notice any problems, feel free to open an [issue](https://github.com/scipy/scipy/issues/new/choose).\n\n</div>",
            "metadata": {}
        },
        {
            "id": "d830163d",
            "cell_type": "code",
            "metadata": {},
            "execution_count": null,
            "source": "import numpy as np\nfrom scipy.special import gamma, factorial",
            "outputs": []
        },
        {
            "id": "aae34422",
            "cell_type": "code",
            "metadata": {},
            "execution_count": null,
            "source": "gamma([0, 0.5, 1, 5])",
            "outputs": [
                {
                    "output_type": "execute_result",
                    "metadata": {},
                    "data": {
                        "text/plain": "array([         inf,   1.77245385,   1.        ,  24.        ])"
                    },
                    "execution_count": null
                }
            ]
        },
        {
            "id": "46a4ef6b",
            "cell_type": "code",
            "metadata": {},
            "execution_count": null,
            "source": "z = 2.5 + 1j\ngamma(z)",
            "outputs": [
                {
                    "output_type": "execute_result",
                    "metadata": {},
                    "data": {
                        "text/plain": "(0.77476210455108352+0.70763120437959293j)"
                    },
                    "execution_count": null
                }
            ]
        },
        {
            "id": "bcfbecf4",
            "cell_type": "code",
            "metadata": {},
            "execution_count": null,
            "source": "gamma(z+1), z*gamma(z)  # Recurrence property",
            "outputs": [
                {
                    "output_type": "execute_result",
                    "metadata": {},
                    "data": {
                        "text/plain": "((1.2292740569981171+2.5438401155000685j),\n (1.2292740569981158+2.5438401155000658j))"
                    },
                    "execution_count": null
                }
            ]
        },
        {
            "id": "e9cfaa29",
            "cell_type": "code",
            "metadata": {},
            "execution_count": null,
            "source": "gamma(0.5)**2  # gamma(0.5) = sqrt(pi)",
            "outputs": [
                {
                    "output_type": "execute_result",
                    "metadata": {},
                    "data": {
                        "text/plain": "3.1415926535897927"
                    },
                    "execution_count": null
                }
            ]
        },
        {
            "id": "28fffcf5",
            "cell_type": "markdown",
            "source": "Plot gamma(x) for real x\n",
            "metadata": {}
        },
        {
            "id": "c53f8ba2",
            "cell_type": "code",
            "metadata": {},
            "execution_count": null,
            "source": "x = np.linspace(-3.5, 5.5, 2251)\ny = gamma(x)",
            "outputs": []
        },
        {
            "id": "194b3c82",
            "cell_type": "code",
            "metadata": {},
            "execution_count": null,
            "source": "import matplotlib.pyplot as plt\nplt.plot(x, y, 'b', alpha=0.6, label='gamma(x)')\nk = np.arange(1, 7)\nplt.plot(k, factorial(k-1), 'k*', alpha=0.6,\n         label='(x-1)!, x = 1, 2, ...')\nplt.xlim(-3.5, 5.5)\nplt.ylim(-10, 25)\nplt.grid()\nplt.xlabel('x')\nplt.legend(loc='lower right')\nplt.show()",
            "outputs": []
        }
    ]
}