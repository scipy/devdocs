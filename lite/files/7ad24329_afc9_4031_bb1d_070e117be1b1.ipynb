{
    "nbformat": 4,
    "nbformat_minor": 5,
    "metadata": {
        "kernelspec": {
            "display_name": "Python",
            "language": "python",
            "name": "python"
        },
        "language_info": {
            "name": "python"
        }
    },
    "cells": [
        {
            "id": "a9c82716",
            "cell_type": "markdown",
            "source": "<div class='alert alert-warning'>\n\nSciPy's interactive examples with Jupyterlite are experimental and may not always work as expected. Execution of cells containing imports may result in large downloads (up to 60MB of content for the first import from SciPy). Load times when importing from SciPy may take roughly 10-20 seconds. If you notice any problems, feel free to open an [issue](https://github.com/scipy/scipy/issues/new/choose).\n\n</div>",
            "metadata": {}
        },
        {
            "id": "dc087384",
            "cell_type": "markdown",
            "source": "Compute the infinite sum of the reciprocals of squared integers.\n",
            "metadata": {}
        },
        {
            "id": "9586c369",
            "cell_type": "code",
            "metadata": {},
            "execution_count": null,
            "source": "import numpy as np\nfrom scipy.integrate import nsum\nres = nsum(lambda k: 1/k**2, 1, np.inf, maxterms=1e3)\nref = np.pi**2/6  # true value\nres.error  # estimated error",
            "outputs": [
                {
                    "output_type": "execute_result",
                    "metadata": {},
                    "data": {
                        "text/plain": "4.990061275730517e-07"
                    },
                    "execution_count": null
                }
            ]
        },
        {
            "id": "9d554ff7",
            "cell_type": "code",
            "metadata": {},
            "execution_count": null,
            "source": "(res.sum - ref)/ref  # true error",
            "outputs": [
                {
                    "output_type": "execute_result",
                    "metadata": {},
                    "data": {
                        "text/plain": "-1.0104163408712734e-10"
                    },
                    "execution_count": null
                }
            ]
        },
        {
            "id": "c2d61cb3",
            "cell_type": "code",
            "metadata": {},
            "execution_count": null,
            "source": "res.nfev  # number of points at which callable was evaluated",
            "outputs": [
                {
                    "output_type": "execute_result",
                    "metadata": {},
                    "data": {
                        "text/plain": "1209"
                    },
                    "execution_count": null
                }
            ]
        },
        {
            "id": "202637dc",
            "cell_type": "markdown",
            "source": "Compute the infinite sums of the reciprocals of integers raised to powers ``p``,\nwhere ``p`` is an array.\n",
            "metadata": {}
        },
        {
            "id": "8d7562c0",
            "cell_type": "code",
            "metadata": {},
            "execution_count": null,
            "source": "from scipy import special\np = np.arange(2, 10)\nres = nsum(lambda k, p: 1/k**p, 1, np.inf, maxterms=1e3, args=(p,))\nref = special.zeta(p, 1)\nnp.allclose(res.sum, ref)",
            "outputs": [
                {
                    "output_type": "execute_result",
                    "metadata": {},
                    "data": {
                        "text/plain": "True"
                    },
                    "execution_count": null
                }
            ]
        },
        {
            "id": "dcdd3f0c",
            "cell_type": "markdown",
            "source": "Evaluate the alternating harmonic series.\n",
            "metadata": {}
        },
        {
            "id": "e4c92d4b",
            "cell_type": "code",
            "metadata": {},
            "execution_count": null,
            "source": "res = nsum(lambda x: 1/x - 1/(x+1), 1, np.inf, step=2)\nres.sum, res.sum - np.log(2)  # result, difference vs analytical sum",
            "outputs": [
                {
                    "output_type": "execute_result",
                    "metadata": {},
                    "data": {
                        "text/plain": "(0.6931471805598691, -7.616129948928574e-14)"
                    },
                    "execution_count": null
                }
            ]
        }
    ]
}