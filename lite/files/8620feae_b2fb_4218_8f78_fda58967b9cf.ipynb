{
    "nbformat": 4,
    "nbformat_minor": 5,
    "metadata": {
        "kernelspec": {
            "display_name": "Python",
            "language": "python",
            "name": "python"
        },
        "language_info": {
            "name": "python"
        }
    },
    "cells": [
        {
            "id": "99428d09",
            "cell_type": "markdown",
            "source": "<div class='alert alert-warning'>\n\nSciPy's interactive examples with Jupyterlite are experimental and may not always work as expected. Execution of cells containing imports may result in large downloads (up to 60MB of content for the first import from SciPy). Load times when importing from SciPy may take roughly 10-20 seconds. If you notice any problems, feel free to open an [issue](https://github.com/scipy/scipy/issues/new/choose).\n\n</div>",
            "metadata": {}
        },
        {
            "id": "9e595f47",
            "cell_type": "code",
            "metadata": {},
            "execution_count": null,
            "source": "import numpy as np\nfrom scipy import linalg\nrng = np.random.default_rng()\na = rng.standard_normal((6, 9))\nr, q = linalg.rq(a)\nnp.allclose(a, r @ q)",
            "outputs": [
                {
                    "output_type": "execute_result",
                    "metadata": {},
                    "data": {
                        "text/plain": "True"
                    },
                    "execution_count": null
                }
            ]
        },
        {
            "id": "cee4f4da",
            "cell_type": "code",
            "metadata": {},
            "execution_count": null,
            "source": "r.shape, q.shape",
            "outputs": [
                {
                    "output_type": "execute_result",
                    "metadata": {},
                    "data": {
                        "text/plain": "((6, 9), (9, 9))"
                    },
                    "execution_count": null
                }
            ]
        },
        {
            "id": "1079d6d1",
            "cell_type": "code",
            "metadata": {},
            "execution_count": null,
            "source": "r2 = linalg.rq(a, mode='r')\nnp.allclose(r, r2)",
            "outputs": [
                {
                    "output_type": "execute_result",
                    "metadata": {},
                    "data": {
                        "text/plain": "True"
                    },
                    "execution_count": null
                }
            ]
        },
        {
            "id": "7b13d561",
            "cell_type": "code",
            "metadata": {},
            "execution_count": null,
            "source": "r3, q3 = linalg.rq(a, mode='economic')\nr3.shape, q3.shape",
            "outputs": [
                {
                    "output_type": "execute_result",
                    "metadata": {},
                    "data": {
                        "text/plain": "((6, 6), (6, 9))"
                    },
                    "execution_count": null
                }
            ]
        }
    ]
}