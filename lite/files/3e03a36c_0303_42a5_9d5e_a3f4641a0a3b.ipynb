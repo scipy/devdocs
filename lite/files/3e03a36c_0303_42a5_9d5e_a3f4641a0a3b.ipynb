{
    "nbformat": 4,
    "nbformat_minor": 5,
    "metadata": {
        "kernelspec": {
            "display_name": "Python",
            "language": "python",
            "name": "python"
        },
        "language_info": {
            "name": "python"
        }
    },
    "cells": [
        {
            "id": "6ed4d796",
            "cell_type": "markdown",
            "source": "<div class='alert alert-warning'>\n\nSciPy's interactive examples with Jupyterlite are experimental and may not always work as expected. Execution of cells containing imports may result in large downloads (up to 60MB of content for the first import from SciPy). Load times when importing from SciPy may take roughly 10-20 seconds. If you notice any problems, feel free to open an [issue](https://github.com/scipy/scipy/issues/new/choose).\n\n</div>",
            "metadata": {}
        },
        {
            "id": "5fc85844",
            "cell_type": "code",
            "metadata": {},
            "execution_count": null,
            "source": "from scipy import stats\nstats.find_repeats([2, 1, 2, 3, 2, 2, 5])",
            "outputs": [
                {
                    "output_type": "execute_result",
                    "metadata": {},
                    "data": {
                        "text/plain": "RepeatedResults(values=array([2.]), counts=array([4]))"
                    },
                    "execution_count": null
                }
            ]
        },
        {
            "id": "3156f1a2",
            "cell_type": "code",
            "metadata": {},
            "execution_count": null,
            "source": "stats.find_repeats([[10, 20, 1, 2], [5, 5, 4, 4]])",
            "outputs": [
                {
                    "output_type": "execute_result",
                    "metadata": {},
                    "data": {
                        "text/plain": "RepeatedResults(values=array([4.,  5.]), counts=array([2, 2]))"
                    },
                    "execution_count": null
                }
            ]
        }
    ]
}