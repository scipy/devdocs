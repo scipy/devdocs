{
    "nbformat": 4,
    "nbformat_minor": 5,
    "metadata": {
        "kernelspec": {
            "display_name": "Python",
            "language": "python",
            "name": "python"
        },
        "language_info": {
            "name": "python"
        }
    },
    "cells": [
        {
            "id": "6842827f",
            "cell_type": "markdown",
            "source": "<div class='alert alert-warning'>\n\nSciPy's interactive examples with Jupyterlite are experimental and may not always work as expected. Execution of cells containing imports may result in large downloads (up to 60MB of content for the first import from SciPy). Load times when importing from SciPy may take roughly 10-20 seconds. If you notice any problems, feel free to open an [issue](https://github.com/scipy/scipy/issues/new/choose).\n\n</div>",
            "metadata": {}
        },
        {
            "id": "bce3cec9",
            "cell_type": "markdown",
            "source": "Let's define 3 categories and for a given sample, the sum of the trials\nof each category is 8. The number of trials per category is determined\nby the `pvals` associated to each category.\nThen, we sample this distribution 64 times.\n",
            "metadata": {}
        },
        {
            "id": "7b44eb23",
            "cell_type": "code",
            "metadata": {},
            "execution_count": null,
            "source": "import matplotlib.pyplot as plt\nfrom scipy.stats import qmc\ndist = qmc.MultinomialQMC(\n    pvals=[0.2, 0.4, 0.4], n_trials=10, engine=qmc.Halton(d=1)\n)\nsample = dist.random(64)",
            "outputs": []
        },
        {
            "id": "ae265ecf",
            "cell_type": "markdown",
            "source": "We can plot the sample and verify that the median of number of trials\nfor each category is following the `pvals`. That would be\n``pvals * n_trials = [2, 4, 4]``.\n",
            "metadata": {}
        },
        {
            "id": "c4f6870f",
            "cell_type": "code",
            "metadata": {},
            "execution_count": null,
            "source": "fig, ax = plt.subplots()\nax.yaxis.get_major_locator().set_params(integer=True)\n_ = ax.boxplot(sample)\nax.set(xlabel=\"Categories\", ylabel=\"Trials\")\nplt.show()",
            "outputs": []
        }
    ]
}