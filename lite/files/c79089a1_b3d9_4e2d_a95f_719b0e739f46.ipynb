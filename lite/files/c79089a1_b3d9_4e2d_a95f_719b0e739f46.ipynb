{
    "nbformat": 4,
    "nbformat_minor": 5,
    "metadata": {
        "kernelspec": {
            "display_name": "Python",
            "language": "python",
            "name": "python"
        },
        "language_info": {
            "name": "python"
        }
    },
    "cells": [
        {
            "id": "04afc046",
            "cell_type": "markdown",
            "source": "<div class='alert alert-warning'>\n\nSciPy's interactive examples with Jupyterlite are experimental and may not always work as expected. Execution of cells containing imports may result in large downloads (up to 60MB of content for the first import from SciPy). Load times when importing from SciPy may take roughly 10-20 seconds. If you notice any problems, feel free to open an [issue](https://github.com/scipy/scipy/issues/new/choose).\n\n</div>",
            "metadata": {}
        },
        {
            "id": "2cc26666",
            "cell_type": "code",
            "metadata": {},
            "execution_count": null,
            "source": "import numpy as np\nfrom scipy.stats import fisk\nimport matplotlib.pyplot as plt\nfig, ax = plt.subplots(1, 1)",
            "outputs": []
        },
        {
            "id": "d85938c4",
            "cell_type": "markdown",
            "source": "Calculate the first four moments:\n",
            "metadata": {}
        },
        {
            "id": "a5ded1c7",
            "cell_type": "code",
            "metadata": {},
            "execution_count": null,
            "source": "c = 3.09\nmean, var, skew, kurt = fisk.stats(c, moments='mvsk')",
            "outputs": []
        },
        {
            "id": "a8255c9a",
            "cell_type": "markdown",
            "source": "Display the probability density function (``pdf``):\n",
            "metadata": {}
        },
        {
            "id": "5ffcbdc2",
            "cell_type": "code",
            "metadata": {},
            "execution_count": null,
            "source": "x = np.linspace(fisk.ppf(0.01, c),\n                fisk.ppf(0.99, c), 100)\nax.plot(x, fisk.pdf(x, c),\n       'r-', lw=5, alpha=0.6, label='fisk pdf')",
            "outputs": []
        },
        {
            "id": "4ba3ab9b",
            "cell_type": "markdown",
            "source": "Alternatively, the distribution object can be called (as a function)\nto fix the shape, location and scale parameters. This returns a \"frozen\"\nRV object holding the given parameters fixed.\n\nFreeze the distribution and display the frozen ``pdf``:\n",
            "metadata": {}
        },
        {
            "id": "23b9ebe7",
            "cell_type": "code",
            "metadata": {},
            "execution_count": null,
            "source": "rv = fisk(c)\nax.plot(x, rv.pdf(x), 'k-', lw=2, label='frozen pdf')",
            "outputs": []
        },
        {
            "id": "dad6a653",
            "cell_type": "markdown",
            "source": "Check accuracy of ``cdf`` and ``ppf``:\n",
            "metadata": {}
        },
        {
            "id": "ea71ffd7",
            "cell_type": "code",
            "metadata": {},
            "execution_count": null,
            "source": "vals = fisk.ppf([0.001, 0.5, 0.999], c)\nnp.allclose([0.001, 0.5, 0.999], fisk.cdf(vals, c))",
            "outputs": [
                {
                    "output_type": "execute_result",
                    "metadata": {},
                    "data": {
                        "text/plain": "True"
                    },
                    "execution_count": null
                }
            ]
        },
        {
            "id": "76160464",
            "cell_type": "markdown",
            "source": "Generate random numbers:\n",
            "metadata": {}
        },
        {
            "id": "f0daa4b1",
            "cell_type": "code",
            "metadata": {},
            "execution_count": null,
            "source": "r = fisk.rvs(c, size=1000)",
            "outputs": []
        },
        {
            "id": "81eb1b1f",
            "cell_type": "markdown",
            "source": "And compare the histogram:\n",
            "metadata": {}
        },
        {
            "id": "33a0e6c6",
            "cell_type": "code",
            "metadata": {},
            "execution_count": null,
            "source": "ax.hist(r, density=True, bins='auto', histtype='stepfilled', alpha=0.2)\nax.set_xlim([x[0], x[-1]])\nax.legend(loc='best', frameon=False)\nplt.show()",
            "outputs": []
        }
    ]
}