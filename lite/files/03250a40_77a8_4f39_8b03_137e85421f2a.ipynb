{
    "nbformat": 4,
    "nbformat_minor": 5,
    "metadata": {
        "kernelspec": {
            "display_name": "Python",
            "language": "python",
            "name": "python"
        },
        "language_info": {
            "name": "python"
        }
    },
    "cells": [
        {
            "id": "af0fb035",
            "cell_type": "markdown",
            "source": "<div class='alert alert-warning'>\n\nSciPy's interactive examples with Jupyterlite are experimental and may not always work as expected. Execution of cells containing imports may result in large downloads (up to 60MB of content for the first import from SciPy). Load times when importing from SciPy may take roughly 10-20 seconds. If you notice any problems, feel free to open an [issue](https://github.com/scipy/scipy/issues/new/choose).\n\n</div>",
            "metadata": {}
        },
        {
            "id": "ba3d30af",
            "cell_type": "code",
            "metadata": {},
            "execution_count": null,
            "source": "from scipy.spatial import distance",
            "outputs": []
        },
        {
            "id": "f6a02798",
            "cell_type": "markdown",
            "source": "Non-zero vectors with no matching 1s have dissimilarity of 1.0:\n",
            "metadata": {}
        },
        {
            "id": "7e628d95",
            "cell_type": "code",
            "metadata": {},
            "execution_count": null,
            "source": "distance.jaccard([1, 0, 0], [0, 1, 0])",
            "outputs": [
                {
                    "output_type": "execute_result",
                    "metadata": {},
                    "data": {
                        "text/plain": "1.0"
                    },
                    "execution_count": null
                }
            ]
        },
        {
            "id": "1a97bfee",
            "cell_type": "markdown",
            "source": "Vectors with some matching 1s have dissimilarity less than 1.0:\n",
            "metadata": {}
        },
        {
            "id": "e3ca466c",
            "cell_type": "code",
            "metadata": {},
            "execution_count": null,
            "source": "distance.jaccard([1, 0, 0, 0], [1, 1, 1, 0])",
            "outputs": [
                {
                    "output_type": "execute_result",
                    "metadata": {},
                    "data": {
                        "text/plain": "0.6666666666666666"
                    },
                    "execution_count": null
                }
            ]
        },
        {
            "id": "f79c6d62",
            "cell_type": "markdown",
            "source": "Identical vectors, including zero vectors, have dissimilarity of 0.0:\n",
            "metadata": {}
        },
        {
            "id": "5385bb83",
            "cell_type": "code",
            "metadata": {},
            "execution_count": null,
            "source": "distance.jaccard([1, 0, 0], [1, 0, 0])",
            "outputs": [
                {
                    "output_type": "execute_result",
                    "metadata": {},
                    "data": {
                        "text/plain": "0.0"
                    },
                    "execution_count": null
                }
            ]
        },
        {
            "id": "f075bcfa",
            "cell_type": "code",
            "metadata": {},
            "execution_count": null,
            "source": "distance.jaccard([0, 0, 0], [0, 0, 0])",
            "outputs": [
                {
                    "output_type": "execute_result",
                    "metadata": {},
                    "data": {
                        "text/plain": "0.0"
                    },
                    "execution_count": null
                }
            ]
        },
        {
            "id": "f73d1fb1",
            "cell_type": "markdown",
            "source": "The following example computes the dissimilarity from a confusion matrix\ndirectly by setting the weight vector to the frequency of True Positive,\nFalse Negative, False Positive, and True Negative:\n",
            "metadata": {}
        },
        {
            "id": "c36c5f8c",
            "cell_type": "code",
            "metadata": {},
            "execution_count": null,
            "source": "distance.jaccard([1, 1, 0, 0], [1, 0, 1, 0], [31, 41, 59, 26])",
            "outputs": [
                {
                    "output_type": "execute_result",
                    "metadata": {},
                    "data": {
                        "text/plain": "0.7633587786259542  # (41+59)/(31+41+59)"
                    },
                    "execution_count": null
                }
            ]
        }
    ]
}