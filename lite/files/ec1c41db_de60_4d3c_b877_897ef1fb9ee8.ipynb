{
    "nbformat": 4,
    "nbformat_minor": 5,
    "metadata": {
        "kernelspec": {
            "display_name": "Python",
            "language": "python",
            "name": "python"
        },
        "language_info": {
            "name": "python"
        }
    },
    "cells": [
        {
            "id": "cf64195e",
            "cell_type": "markdown",
            "source": "<div class='alert alert-warning'>\n\nSciPy's interactive examples with Jupyterlite are experimental and may not always work as expected. Execution of cells containing imports may result in large downloads (up to 60MB of content for the first import from SciPy). Load times when importing from SciPy may take roughly 10-20 seconds. If you notice any problems, feel free to open an [issue](https://github.com/scipy/scipy/issues/new/choose).\n\n</div>",
            "metadata": {}
        },
        {
            "id": "2d8bb229",
            "cell_type": "markdown",
            "source": "Evaluate the function at one point.\n",
            "metadata": {}
        },
        {
            "id": "ec631a54",
            "cell_type": "code",
            "metadata": {},
            "execution_count": null,
            "source": "import numpy as np\nfrom scipy.special import itmodstruve0\nitmodstruve0(1.)",
            "outputs": [
                {
                    "output_type": "execute_result",
                    "metadata": {},
                    "data": {
                        "text/plain": "0.3364726286440384"
                    },
                    "execution_count": null
                }
            ]
        },
        {
            "id": "7d0d40e5",
            "cell_type": "markdown",
            "source": "Evaluate the function at several points by supplying\nan array for `x`.\n",
            "metadata": {}
        },
        {
            "id": "b074d7a9",
            "cell_type": "code",
            "metadata": {},
            "execution_count": null,
            "source": "points = np.array([1., 2., 3.5])\nitmodstruve0(points)",
            "outputs": [
                {
                    "output_type": "execute_result",
                    "metadata": {},
                    "data": {
                        "text/plain": "array([0.33647263, 1.588285  , 7.60382578])"
                    },
                    "execution_count": null
                }
            ]
        },
        {
            "id": "393409ed",
            "cell_type": "markdown",
            "source": "Plot the function from -10 to 10.\n",
            "metadata": {}
        },
        {
            "id": "4de91c0f",
            "cell_type": "code",
            "metadata": {},
            "execution_count": null,
            "source": "import matplotlib.pyplot as plt\nx = np.linspace(-10., 10., 1000)\nitmodstruve0_values = itmodstruve0(x)\nfig, ax = plt.subplots()\nax.plot(x, itmodstruve0_values)\nax.set_xlabel(r'$x$')\nax.set_ylabel(r'$\\int_0^xL_0(t)\\,dt$')\nplt.show()",
            "outputs": []
        }
    ]
}