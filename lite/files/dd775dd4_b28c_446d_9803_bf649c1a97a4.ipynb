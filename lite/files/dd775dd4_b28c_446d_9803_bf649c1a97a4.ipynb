{
    "nbformat": 4,
    "nbformat_minor": 5,
    "metadata": {
        "kernelspec": {
            "display_name": "Python",
            "language": "python",
            "name": "python"
        },
        "language_info": {
            "name": "python"
        }
    },
    "cells": [
        {
            "id": "d2c057a7",
            "cell_type": "markdown",
            "source": "<div class='alert alert-warning'>\n\nSciPy's interactive examples with Jupyterlite are experimental and may not always work as expected. Execution of cells containing imports may result in large downloads (up to 60MB of content for the first import from SciPy). Load times when importing from SciPy may take roughly 10-20 seconds. If you notice any problems, feel free to open an [issue](https://github.com/scipy/scipy/issues/new/choose).\n\n</div>",
            "metadata": {}
        },
        {
            "id": "6416254d",
            "cell_type": "markdown",
            "source": "Evaluate the functions at one point.\n",
            "metadata": {}
        },
        {
            "id": "fcd5697c",
            "cell_type": "code",
            "metadata": {},
            "execution_count": null,
            "source": "from scipy.special import it2i0k0\nint_i, int_k = it2i0k0(1.)\nint_i, int_k",
            "outputs": [
                {
                    "output_type": "execute_result",
                    "metadata": {},
                    "data": {
                        "text/plain": "(0.12897944249456852, 0.2085182909001295)"
                    },
                    "execution_count": null
                }
            ]
        },
        {
            "id": "6055d4ab",
            "cell_type": "markdown",
            "source": "Evaluate the functions at several points.\n",
            "metadata": {}
        },
        {
            "id": "1df1b3d4",
            "cell_type": "code",
            "metadata": {},
            "execution_count": null,
            "source": "import numpy as np\npoints = np.array([0.5, 1.5, 3.])\nint_i, int_k = it2i0k0(points)\nint_i, int_k",
            "outputs": [
                {
                    "output_type": "execute_result",
                    "metadata": {},
                    "data": {
                        "text/plain": "(array([0.03149527, 0.30187149, 1.50012461]),\n array([0.66575102, 0.0823715 , 0.00823631]))"
                    },
                    "execution_count": null
                }
            ]
        },
        {
            "id": "a10a4d3e",
            "cell_type": "markdown",
            "source": "Plot the functions from 0 to 5.\n",
            "metadata": {}
        },
        {
            "id": "6084f728",
            "cell_type": "code",
            "metadata": {},
            "execution_count": null,
            "source": "import matplotlib.pyplot as plt\nfig, ax = plt.subplots()\nx = np.linspace(0., 5., 1000)\nint_i, int_k = it2i0k0(x)\nax.plot(x, int_i, label=r\"$\\int_0^x \\frac{I_0(t)-1}{t}\\,dt$\")\nax.plot(x, int_k, label=r\"$\\int_x^{\\infty} \\frac{K_0(t)}{t}\\,dt$\")\nax.legend()\nax.set_ylim(0, 10)\nplt.show()",
            "outputs": []
        }
    ]
}