{
    "nbformat": 4,
    "nbformat_minor": 5,
    "metadata": {
        "kernelspec": {
            "display_name": "Python",
            "language": "python",
            "name": "python"
        },
        "language_info": {
            "name": "python"
        }
    },
    "cells": [
        {
            "id": "c9bc0e2c",
            "cell_type": "markdown",
            "source": "<div class='alert alert-warning'>\n\nSciPy's interactive examples with Jupyterlite are experimental and may not always work as expected. Execution of cells containing imports may result in large downloads (up to 60MB of content for the first import from SciPy). Load times when importing from SciPy may take roughly 10-20 seconds. If you notice any problems, feel free to open an [issue](https://github.com/scipy/scipy/issues/new/choose).\n\n</div>",
            "metadata": {}
        },
        {
            "id": "402daafd",
            "cell_type": "markdown",
            "source": "**1D integral with vector output**:\n\n$$ \\int^1_0 \\mathbf f(x) \\text dx $$\nWhere ``f(x) = x^n`` and ``n = np.arange(10)`` is a vector. Since no rule is\nspecified, the default \"gk21\" is used, which corresponds to Gauss-Kronrod\nintegration with 21 nodes.\n",
            "metadata": {}
        },
        {
            "id": "fb7c3f2a",
            "cell_type": "code",
            "metadata": {},
            "execution_count": null,
            "source": "import numpy as np\nfrom scipy.integrate import cubature\ndef f(x, n):\n   # Make sure x and n are broadcastable\n   return x[:, np.newaxis]**n[np.newaxis, :]\nres = cubature(\n    f,\n    a=[0],\n    b=[1],\n    args=(np.arange(10),),\n)\nres.estimate",
            "outputs": [
                {
                    "output_type": "execute_result",
                    "metadata": {},
                    "data": {
                        "text/plain": " array([1.        , 0.5       , 0.33333333, 0.25      , 0.2       ,\n        0.16666667, 0.14285714, 0.125     , 0.11111111, 0.1       ])"
                    },
                    "execution_count": null
                }
            ]
        },
        {
            "id": "5a4da8c9",
            "cell_type": "markdown",
            "source": "**7D integral with arbitrary-shaped array output**\n```\n\nf(x) = cos(2*pi*r + alphas @ x)\n\n```\nfor some ``r`` and ``alphas``, and the integral is performed over the unit\nhybercube, $[0, 1]^7$. Since the integral is in a moderate number of\ndimensions, \"genz-malik\" is used rather than the default \"gauss-kronrod\" to\navoid constructing a product rule with $21^7 \\approx 2 \\times 10^9$ nodes.\n",
            "metadata": {}
        },
        {
            "id": "c641297e",
            "cell_type": "code",
            "metadata": {},
            "execution_count": null,
            "source": "import numpy as np\nfrom scipy.integrate import cubature\ndef f(x, r, alphas):\n    # f(x) = cos(2*pi*r + alphas @ x)\n    # Need to allow r and alphas to be arbitrary shape\n    npoints, ndim = x.shape[0], x.shape[-1]\n    alphas = alphas[np.newaxis, ...]\n    x = x.reshape(npoints, *([1]*(len(alphas.shape) - 1)), ndim)\n    return np.cos(2*np.pi*r + np.sum(alphas * x, axis=-1))\nrng = np.random.default_rng()\nr, alphas = rng.random((2, 3)), rng.random((2, 3, 7))\nres = cubature(\n    f=f,\n    a=np.array([0, 0, 0, 0, 0, 0, 0]),\n    b=np.array([1, 1, 1, 1, 1, 1, 1]),\n    rtol=1e-5,\n    rule=\"genz-malik\",\n    args=(r, alphas),\n)\nres.estimate",
            "outputs": [
                {
                    "output_type": "execute_result",
                    "metadata": {},
                    "data": {
                        "text/plain": " array([[-0.79812452,  0.35246913, -0.52273628],\n        [ 0.88392779,  0.59139899,  0.41895111]])"
                    },
                    "execution_count": null
                }
            ]
        },
        {
            "id": "208eb8a7",
            "cell_type": "markdown",
            "source": "**Parallel computation with** `workers`:\n",
            "metadata": {}
        },
        {
            "id": "7f261731",
            "cell_type": "code",
            "metadata": {},
            "execution_count": null,
            "source": "from concurrent.futures import ThreadPoolExecutor\nwith ThreadPoolExecutor() as executor:\n    res = cubature(\n        f=f,\n        a=np.array([0, 0, 0, 0, 0, 0, 0]),\n        b=np.array([1, 1, 1, 1, 1, 1, 1]),\n        rtol=1e-5,\n        rule=\"genz-malik\",\n        args=(r, alphas),\n        workers=executor.map,\n     )\nres.estimate",
            "outputs": [
                {
                    "output_type": "execute_result",
                    "metadata": {},
                    "data": {
                        "text/plain": " array([[-0.79812452,  0.35246913, -0.52273628],\n        [ 0.88392779,  0.59139899,  0.41895111]])"
                    },
                    "execution_count": null
                }
            ]
        },
        {
            "id": "822a6c91",
            "cell_type": "markdown",
            "source": "**2D integral with infinite limits**:\n\n$$ \\int^{ \\infty }_{ -\\infty } \\int^{ \\infty }_{ -\\infty } e^{-x^2-y^2} \\text dy \\text dx $$",
            "metadata": {}
        },
        {
            "id": "efde451c",
            "cell_type": "code",
            "metadata": {},
            "execution_count": null,
            "source": "def gaussian(x):\n    return np.exp(-np.sum(x**2, axis=-1))\nres = cubature(gaussian, [-np.inf, -np.inf], [np.inf, np.inf])\nres.estimate",
            "outputs": [
                {
                    "output_type": "execute_result",
                    "metadata": {},
                    "data": {
                        "text/plain": " 3.1415926"
                    },
                    "execution_count": null
                }
            ]
        },
        {
            "id": "f5463d1f",
            "cell_type": "markdown",
            "source": "**1D integral with singularities avoided using** `points`:\n\n$$ \\int^{ 1 }_{ -1 } \\frac{\\sin(x)}{x} \\text dx $$\nIt is necessary to use the `points` parameter to avoid evaluating `f` at the origin.\n",
            "metadata": {}
        },
        {
            "id": "74bb2810",
            "cell_type": "code",
            "metadata": {},
            "execution_count": null,
            "source": "def sinc(x):\n    return np.sin(x)/x\nres = cubature(sinc, [-1], [1], points=[[0]])\nres.estimate",
            "outputs": [
                {
                    "output_type": "execute_result",
                    "metadata": {},
                    "data": {
                        "text/plain": " 1.8921661"
                    },
                    "execution_count": null
                }
            ]
        }
    ]
}