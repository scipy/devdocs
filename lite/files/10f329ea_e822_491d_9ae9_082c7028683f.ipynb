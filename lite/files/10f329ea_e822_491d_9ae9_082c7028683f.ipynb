{
    "nbformat": 4,
    "nbformat_minor": 5,
    "metadata": {
        "kernelspec": {
            "display_name": "Python",
            "language": "python",
            "name": "python"
        },
        "language_info": {
            "name": "python"
        }
    },
    "cells": [
        {
            "id": "f99e22aa",
            "cell_type": "markdown",
            "source": "<div class='alert alert-warning'>\n\nSciPy's interactive examples with Jupyterlite are experimental and may not always work as expected. Execution of cells containing imports may result in large downloads (up to 60MB of content for the first import from SciPy). Load times when importing from SciPy may take roughly 10-20 seconds. If you notice any problems, feel free to open an [issue](https://github.com/scipy/scipy/issues/new/choose).\n\n</div>",
            "metadata": {}
        },
        {
            "id": "5adf8622",
            "cell_type": "markdown",
            "source": "Instantiate a distribution with the desired parameters:\n",
            "metadata": {}
        },
        {
            "id": "df48def0",
            "cell_type": "code",
            "metadata": {},
            "execution_count": null,
            "source": "import numpy as np\nfrom scipy import stats\nX = stats.Uniform(a=-0.5, b=0.5)",
            "outputs": []
        },
        {
            "id": "93bb9ad8",
            "cell_type": "markdown",
            "source": "Evaluate the log-CCDF at the desired argument:\n",
            "metadata": {}
        },
        {
            "id": "dc9bd993",
            "cell_type": "code",
            "metadata": {},
            "execution_count": null,
            "source": "X.logccdf(0.25)",
            "outputs": [
                {
                    "output_type": "execute_result",
                    "metadata": {},
                    "data": {
                        "text/plain": "-1.3862943611198906"
                    },
                    "execution_count": null
                }
            ]
        },
        {
            "id": "95ae1676",
            "cell_type": "code",
            "metadata": {},
            "execution_count": null,
            "source": "np.allclose(X.logccdf(0.), np.log(X.ccdf(0.)))",
            "outputs": [
                {
                    "output_type": "execute_result",
                    "metadata": {},
                    "data": {
                        "text/plain": "True"
                    },
                    "execution_count": null
                }
            ]
        }
    ]
}