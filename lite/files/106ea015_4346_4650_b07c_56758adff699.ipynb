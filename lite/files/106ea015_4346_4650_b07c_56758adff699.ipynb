{
    "nbformat": 4,
    "nbformat_minor": 5,
    "metadata": {
        "kernelspec": {
            "display_name": "Python",
            "language": "python",
            "name": "python"
        },
        "language_info": {
            "name": "python"
        }
    },
    "cells": [
        {
            "id": "a7c19ed6",
            "cell_type": "markdown",
            "source": "<div class='alert alert-warning'>\n\nSciPy's interactive examples with Jupyterlite are experimental and may not always work as expected. Execution of cells containing imports may result in large downloads (up to 60MB of content for the first import from SciPy). Load times when importing from SciPy may take roughly 10-20 seconds. If you notice any problems, feel free to open an [issue](https://github.com/scipy/scipy/issues/new/choose).\n\n</div>",
            "metadata": {}
        },
        {
            "id": "7e5ae872",
            "cell_type": "code",
            "metadata": {},
            "execution_count": null,
            "source": "from scipy.io import arff\nfrom io import StringIO\ncontent = \"\"\"\n@relation foo\n@attribute width  numeric\n@attribute height numeric\n@attribute color  {red,green,blue,yellow,black}\n@data\n5.0,3.25,blue\n4.5,3.75,green\n3.0,4.00,red\n\"\"\"\nf = StringIO(content)\ndata, meta = arff.loadarff(f)\ndata",
            "outputs": [
                {
                    "output_type": "execute_result",
                    "metadata": {},
                    "data": {
                        "text/plain": "array([(5.0, 3.25, 'blue'), (4.5, 3.75, 'green'), (3.0, 4.0, 'red')],\n      dtype=[('width', '<f8'), ('height', '<f8'), ('color', '|S6')])"
                    },
                    "execution_count": null
                }
            ]
        },
        {
            "id": "3fa152e2",
            "cell_type": "code",
            "metadata": {},
            "execution_count": null,
            "source": "meta",
            "outputs": [
                {
                    "output_type": "execute_result",
                    "metadata": {},
                    "data": {
                        "text/plain": "Dataset: foo\n    width's type is numeric\n    height's type is numeric\n    color's type is nominal, range is ('red', 'green', 'blue', 'yellow', 'black')"
                    },
                    "execution_count": null
                }
            ]
        }
    ]
}