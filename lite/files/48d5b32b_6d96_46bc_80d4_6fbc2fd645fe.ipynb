{
    "nbformat": 4,
    "nbformat_minor": 5,
    "metadata": {
        "kernelspec": {
            "display_name": "Python",
            "language": "python",
            "name": "python"
        },
        "language_info": {
            "name": "python"
        }
    },
    "cells": [
        {
            "id": "b452e66a",
            "cell_type": "markdown",
            "source": "<div class='alert alert-warning'>\n\nSciPy's interactive examples with Jupyterlite are experimental and may not always work as expected. Execution of cells containing imports may result in large downloads (up to 60MB of content for the first import from SciPy). Load times when importing from SciPy may take roughly 10-20 seconds. If you notice any problems, feel free to open an [issue](https://github.com/scipy/scipy/issues/new/choose).\n\n</div>",
            "metadata": {}
        },
        {
            "id": "677ad792",
            "cell_type": "code",
            "metadata": {},
            "execution_count": null,
            "source": "from scipy import ndimage\nimport numpy as np\na = np.zeros((6,6), dtype=int)\na[2:4, 2:4] = 1\na[4, 4] = 1\na[:2, :3] = 2\na[0, 5] = 3\na",
            "outputs": [
                {
                    "output_type": "execute_result",
                    "metadata": {},
                    "data": {
                        "text/plain": "array([[2, 2, 2, 0, 0, 3],\n       [2, 2, 2, 0, 0, 0],\n       [0, 0, 1, 1, 0, 0],\n       [0, 0, 1, 1, 0, 0],\n       [0, 0, 0, 0, 1, 0],\n       [0, 0, 0, 0, 0, 0]])"
                    },
                    "execution_count": null
                }
            ]
        },
        {
            "id": "428780d6",
            "cell_type": "code",
            "metadata": {},
            "execution_count": null,
            "source": "ndimage.find_objects(a)",
            "outputs": [
                {
                    "output_type": "execute_result",
                    "metadata": {},
                    "data": {
                        "text/plain": "[(slice(2, 5, None), slice(2, 5, None)),\n (slice(0, 2, None), slice(0, 3, None)),\n (slice(0, 1, None), slice(5, 6, None))]"
                    },
                    "execution_count": null
                }
            ]
        },
        {
            "id": "fd646aa7",
            "cell_type": "code",
            "metadata": {},
            "execution_count": null,
            "source": "ndimage.find_objects(a, max_label=2)",
            "outputs": [
                {
                    "output_type": "execute_result",
                    "metadata": {},
                    "data": {
                        "text/plain": "[(slice(2, 5, None), slice(2, 5, None)), (slice(0, 2, None), slice(0, 3, None))]"
                    },
                    "execution_count": null
                }
            ]
        },
        {
            "id": "53e04e01",
            "cell_type": "code",
            "metadata": {},
            "execution_count": null,
            "source": "ndimage.find_objects(a == 1, max_label=2)",
            "outputs": [
                {
                    "output_type": "execute_result",
                    "metadata": {},
                    "data": {
                        "text/plain": "[(slice(2, 5, None), slice(2, 5, None)), None]"
                    },
                    "execution_count": null
                }
            ]
        },
        {
            "id": "dcc38a25",
            "cell_type": "code",
            "metadata": {},
            "execution_count": null,
            "source": "loc = ndimage.find_objects(a)[0]\na[loc]",
            "outputs": [
                {
                    "output_type": "execute_result",
                    "metadata": {},
                    "data": {
                        "text/plain": "array([[1, 1, 0],\n       [1, 1, 0],\n       [0, 0, 1]])"
                    },
                    "execution_count": null
                }
            ]
        }
    ]
}