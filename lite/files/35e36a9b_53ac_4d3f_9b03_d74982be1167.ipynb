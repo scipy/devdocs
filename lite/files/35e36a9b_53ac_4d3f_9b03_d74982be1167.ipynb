{
    "nbformat": 4,
    "nbformat_minor": 5,
    "metadata": {
        "kernelspec": {
            "display_name": "Python",
            "language": "python",
            "name": "python"
        },
        "language_info": {
            "name": "python"
        }
    },
    "cells": [
        {
            "id": "06d8e656",
            "cell_type": "markdown",
            "source": "<div class='alert alert-warning'>\n\nSciPy's interactive examples with Jupyterlite are experimental and may not always work as expected. Execution of cells containing imports may result in large downloads (up to 60MB of content for the first import from SciPy). Load times when importing from SciPy may take roughly 10-20 seconds. If you notice any problems, feel free to open an [issue](https://github.com/scipy/scipy/issues/new/choose).\n\n</div>",
            "metadata": {}
        },
        {
            "id": "e9550c4a",
            "cell_type": "markdown",
            "source": "Calculate the function at one point:\n",
            "metadata": {}
        },
        {
            "id": "edc775a3",
            "cell_type": "code",
            "metadata": {},
            "execution_count": null,
            "source": "from scipy.special import k1\nk1(1.)",
            "outputs": [
                {
                    "output_type": "execute_result",
                    "metadata": {},
                    "data": {
                        "text/plain": "0.6019072301972346"
                    },
                    "execution_count": null
                }
            ]
        },
        {
            "id": "7a3374bf",
            "cell_type": "markdown",
            "source": "Calculate the function at several points:\n",
            "metadata": {}
        },
        {
            "id": "41d97caa",
            "cell_type": "code",
            "metadata": {},
            "execution_count": null,
            "source": "import numpy as np\nk1(np.array([0.5, 2., 3.]))",
            "outputs": [
                {
                    "output_type": "execute_result",
                    "metadata": {},
                    "data": {
                        "text/plain": "array([1.65644112, 0.13986588, 0.04015643])"
                    },
                    "execution_count": null
                }
            ]
        },
        {
            "id": "4a369fcb",
            "cell_type": "markdown",
            "source": "Plot the function from 0 to 10.\n",
            "metadata": {}
        },
        {
            "id": "57d32f21",
            "cell_type": "code",
            "metadata": {},
            "execution_count": null,
            "source": "import matplotlib.pyplot as plt\nfig, ax = plt.subplots()\nx = np.linspace(0., 10., 1000)\ny = k1(x)\nax.plot(x, y)\nplt.show()",
            "outputs": []
        }
    ]
}