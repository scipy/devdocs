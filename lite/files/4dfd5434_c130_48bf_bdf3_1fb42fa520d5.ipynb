{
    "nbformat": 4,
    "nbformat_minor": 5,
    "metadata": {
        "kernelspec": {
            "display_name": "Python",
            "language": "python",
            "name": "python"
        },
        "language_info": {
            "name": "python"
        }
    },
    "cells": [
        {
            "id": "35098636",
            "cell_type": "markdown",
            "source": "<div class='alert alert-warning'>\n\nSciPy's interactive examples with Jupyterlite are experimental and may not always work as expected. Execution of cells containing imports may result in large downloads (up to 60MB of content for the first import from SciPy). Load times when importing from SciPy may take roughly 10-20 seconds. If you notice any problems, feel free to open an [issue](https://github.com/scipy/scipy/issues/new/choose).\n\n</div>",
            "metadata": {}
        },
        {
            "id": "a3e4a089",
            "cell_type": "code",
            "metadata": {},
            "execution_count": null,
            "source": "import numpy as np\nfrom scipy.spatial import procrustes",
            "outputs": []
        },
        {
            "id": "8be0843d",
            "cell_type": "markdown",
            "source": "The matrix ``b`` is a rotated, shifted, scaled and mirrored version of\n``a`` here:\n",
            "metadata": {}
        },
        {
            "id": "fbe9450c",
            "cell_type": "code",
            "metadata": {},
            "execution_count": null,
            "source": "a = np.array([[1, 3], [1, 2], [1, 1], [2, 1]], 'd')\nb = np.array([[4, -2], [4, -4], [4, -6], [2, -6]], 'd')\nmtx1, mtx2, disparity = procrustes(a, b)\nround(disparity)",
            "outputs": [
                {
                    "output_type": "execute_result",
                    "metadata": {},
                    "data": {
                        "text/plain": "0"
                    },
                    "execution_count": null
                }
            ]
        }
    ]
}