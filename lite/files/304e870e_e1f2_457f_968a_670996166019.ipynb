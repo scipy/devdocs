{
    "nbformat": 4,
    "nbformat_minor": 5,
    "metadata": {
        "kernelspec": {
            "display_name": "Python",
            "language": "python",
            "name": "python"
        },
        "language_info": {
            "name": "python"
        }
    },
    "cells": [
        {
            "id": "a3acec75",
            "cell_type": "markdown",
            "source": "<div class='alert alert-warning'>\n\nSciPy's interactive examples with Jupyterlite are experimental and may not always work as expected. Execution of cells containing imports may result in large downloads (up to 60MB of content for the first import from SciPy). Load times when importing from SciPy may take roughly 10-20 seconds. If you notice any problems, feel free to open an [issue](https://github.com/scipy/scipy/issues/new/choose).\n\n</div>",
            "metadata": {}
        },
        {
            "id": "c38b1f02",
            "cell_type": "code",
            "metadata": {},
            "execution_count": null,
            "source": "import numpy as np\nfrom scipy.stats import circvar\nimport matplotlib.pyplot as plt\nsamples_1 = np.array([0.072, -0.158, 0.077, 0.108, 0.286,\n                      0.133, -0.473, -0.001, -0.348, 0.131])\nsamples_2 = np.array([0.111, -0.879, 0.078, 0.733, 0.421,\n                      0.104, -0.136, -0.867,  0.012,  0.105])\ncircvar_1 = circvar(samples_1)\ncircvar_2 = circvar(samples_2)",
            "outputs": []
        },
        {
            "id": "285f3230",
            "cell_type": "markdown",
            "source": "Plot the samples.\n",
            "metadata": {}
        },
        {
            "id": "930357be",
            "cell_type": "code",
            "metadata": {},
            "execution_count": null,
            "source": "fig, (left, right) = plt.subplots(ncols=2)\nfor image in (left, right):\n    image.plot(np.cos(np.linspace(0, 2*np.pi, 500)),\n               np.sin(np.linspace(0, 2*np.pi, 500)),\n               c='k')\n    image.axis('equal')\n    image.axis('off')\nleft.scatter(np.cos(samples_1), np.sin(samples_1), c='k', s=15)\nleft.set_title(f\"circular variance: {np.round(circvar_1, 2)!r}\")\nright.scatter(np.cos(samples_2), np.sin(samples_2), c='k', s=15)\nright.set_title(f\"circular variance: {np.round(circvar_2, 2)!r}\")\nplt.show()",
            "outputs": []
        }
    ]
}