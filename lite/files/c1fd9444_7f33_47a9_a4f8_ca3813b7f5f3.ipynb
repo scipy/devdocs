{
    "nbformat": 4,
    "nbformat_minor": 5,
    "metadata": {
        "kernelspec": {
            "display_name": "Python",
            "language": "python",
            "name": "python"
        },
        "language_info": {
            "name": "python"
        }
    },
    "cells": [
        {
            "id": "c7aa595a",
            "cell_type": "markdown",
            "source": "<div class='alert alert-warning'>\n\nSciPy's interactive examples with Jupyterlite are experimental and may not always work as expected. Execution of cells containing imports may result in large downloads (up to 60MB of content for the first import from SciPy). Load times when importing from SciPy may take roughly 10-20 seconds. If you notice any problems, feel free to open an [issue](https://github.com/scipy/scipy/issues/new/choose).\n\n</div>",
            "metadata": {}
        },
        {
            "id": "06844fdf",
            "cell_type": "markdown",
            "source": "Constrain ``x[0] < sin(x[1]) + 1.9``\n",
            "metadata": {}
        },
        {
            "id": "37554db9",
            "cell_type": "code",
            "metadata": {},
            "execution_count": null,
            "source": "from scipy.optimize import NonlinearConstraint\nimport numpy as np\ncon = lambda x: x[0] - np.sin(x[1])\nnlc = NonlinearConstraint(con, -np.inf, 1.9)",
            "outputs": []
        }
    ]
}