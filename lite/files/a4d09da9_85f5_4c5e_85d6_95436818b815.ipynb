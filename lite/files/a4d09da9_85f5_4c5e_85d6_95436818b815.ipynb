{
    "nbformat": 4,
    "nbformat_minor": 5,
    "metadata": {
        "kernelspec": {
            "display_name": "Python",
            "language": "python",
            "name": "python"
        },
        "language_info": {
            "name": "python"
        }
    },
    "cells": [
        {
            "id": "e52bf0e9",
            "cell_type": "markdown",
            "source": "<div class='alert alert-warning'>\n\nSciPy's interactive examples with Jupyterlite are experimental and may not always work as expected. Execution of cells containing imports may result in large downloads (up to 60MB of content for the first import from SciPy). Load times when importing from SciPy may take roughly 10-20 seconds. If you notice any problems, feel free to open an [issue](https://github.com/scipy/scipy/issues/new/choose).\n\n</div>",
            "metadata": {}
        },
        {
            "id": "0143eab7",
            "cell_type": "code",
            "metadata": {},
            "execution_count": null,
            "source": "import numpy as np\nimport scipy.special as sc",
            "outputs": []
        },
        {
            "id": "1fd5ebff",
            "cell_type": "markdown",
            "source": "It can be expressed in terms of the regularized lower incomplete\ngamma function.\n",
            "metadata": {}
        },
        {
            "id": "2bb0168e",
            "cell_type": "code",
            "metadata": {},
            "execution_count": null,
            "source": "v = 1\nx = np.arange(4)\nsc.chdtr(v, x)",
            "outputs": [
                {
                    "output_type": "execute_result",
                    "metadata": {},
                    "data": {
                        "text/plain": "array([0.        , 0.68268949, 0.84270079, 0.91673548])"
                    },
                    "execution_count": null
                }
            ]
        },
        {
            "id": "b6d6755d",
            "cell_type": "code",
            "metadata": {},
            "execution_count": null,
            "source": "sc.gammainc(v / 2, x / 2)",
            "outputs": [
                {
                    "output_type": "execute_result",
                    "metadata": {},
                    "data": {
                        "text/plain": "array([0.        , 0.68268949, 0.84270079, 0.91673548])"
                    },
                    "execution_count": null
                }
            ]
        }
    ]
}