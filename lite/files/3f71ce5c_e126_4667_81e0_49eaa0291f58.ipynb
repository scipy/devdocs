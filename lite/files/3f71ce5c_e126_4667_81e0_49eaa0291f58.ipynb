{
    "nbformat": 4,
    "nbformat_minor": 5,
    "metadata": {
        "kernelspec": {
            "display_name": "Python",
            "language": "python",
            "name": "python"
        },
        "language_info": {
            "name": "python"
        }
    },
    "cells": [
        {
            "id": "03b35b2f",
            "cell_type": "markdown",
            "source": "<div class='alert alert-warning'>\n\nSciPy's interactive examples with Jupyterlite are experimental and may not always work as expected. Execution of cells containing imports may result in large downloads (up to 60MB of content for the first import from SciPy). Load times when importing from SciPy may take roughly 10-20 seconds. If you notice any problems, feel free to open an [issue](https://github.com/scipy/scipy/issues/new/choose).\n\n</div>",
            "metadata": {}
        },
        {
            "id": "91450fe6",
            "cell_type": "code",
            "metadata": {},
            "execution_count": null,
            "source": "from scipy.cluster.hierarchy import ward, fcluster\nfrom scipy.spatial.distance import pdist",
            "outputs": []
        },
        {
            "id": "b9272036",
            "cell_type": "markdown",
            "source": "First, we need a toy dataset to play with\n```\n\nx x    x x\nx        x\n\nx        x\nx x    x x\n\n```",
            "metadata": {}
        },
        {
            "id": "15b74ab5",
            "cell_type": "code",
            "metadata": {},
            "execution_count": null,
            "source": "X = [[0, 0], [0, 1], [1, 0],\n     [0, 4], [0, 3], [1, 4],\n     [4, 0], [3, 0], [4, 1],\n     [4, 4], [3, 4], [4, 3]]",
            "outputs": []
        },
        {
            "id": "047f47f3",
            "cell_type": "markdown",
            "source": "Then, we get a condensed distance matrix from this dataset:\n",
            "metadata": {}
        },
        {
            "id": "4979a6b0",
            "cell_type": "code",
            "metadata": {},
            "execution_count": null,
            "source": "y = pdist(X)",
            "outputs": []
        },
        {
            "id": "39f8a717",
            "cell_type": "markdown",
            "source": "Finally, we can perform the clustering:\n",
            "metadata": {}
        },
        {
            "id": "3c333b7f",
            "cell_type": "code",
            "metadata": {},
            "execution_count": null,
            "source": "Z = ward(y)\nZ",
            "outputs": [
                {
                    "output_type": "execute_result",
                    "metadata": {},
                    "data": {
                        "text/plain": "array([[ 0.        ,  1.        ,  1.        ,  2.        ],\n       [ 3.        ,  4.        ,  1.        ,  2.        ],\n       [ 6.        ,  7.        ,  1.        ,  2.        ],\n       [ 9.        , 10.        ,  1.        ,  2.        ],\n       [ 2.        , 12.        ,  1.29099445,  3.        ],\n       [ 5.        , 13.        ,  1.29099445,  3.        ],\n       [ 8.        , 14.        ,  1.29099445,  3.        ],\n       [11.        , 15.        ,  1.29099445,  3.        ],\n       [16.        , 17.        ,  5.77350269,  6.        ],\n       [18.        , 19.        ,  5.77350269,  6.        ],\n       [20.        , 21.        ,  8.16496581, 12.        ]])"
                    },
                    "execution_count": null
                }
            ]
        },
        {
            "id": "62dabdb1",
            "cell_type": "markdown",
            "source": "The linkage matrix ``Z`` represents a dendrogram - see\n`scipy.cluster.hierarchy.linkage` for a detailed explanation of its\ncontents.\n\nWe can use `scipy.cluster.hierarchy.fcluster` to see to which cluster\neach initial point would belong given a distance threshold:\n",
            "metadata": {}
        },
        {
            "id": "6a51b70b",
            "cell_type": "code",
            "metadata": {},
            "execution_count": null,
            "source": "fcluster(Z, 0.9, criterion='distance')",
            "outputs": [
                {
                    "output_type": "execute_result",
                    "metadata": {},
                    "data": {
                        "text/plain": "array([ 1,  2,  3,  4,  5,  6,  7,  8,  9, 10, 11, 12], dtype=int32)"
                    },
                    "execution_count": null
                }
            ]
        },
        {
            "id": "fd6553aa",
            "cell_type": "code",
            "metadata": {},
            "execution_count": null,
            "source": "fcluster(Z, 1.1, criterion='distance')",
            "outputs": [
                {
                    "output_type": "execute_result",
                    "metadata": {},
                    "data": {
                        "text/plain": "array([1, 1, 2, 3, 3, 4, 5, 5, 6, 7, 7, 8], dtype=int32)"
                    },
                    "execution_count": null
                }
            ]
        },
        {
            "id": "f44be458",
            "cell_type": "code",
            "metadata": {},
            "execution_count": null,
            "source": "fcluster(Z, 3, criterion='distance')",
            "outputs": [
                {
                    "output_type": "execute_result",
                    "metadata": {},
                    "data": {
                        "text/plain": "array([1, 1, 1, 2, 2, 2, 3, 3, 3, 4, 4, 4], dtype=int32)"
                    },
                    "execution_count": null
                }
            ]
        },
        {
            "id": "7ff7234b",
            "cell_type": "code",
            "metadata": {},
            "execution_count": null,
            "source": "fcluster(Z, 9, criterion='distance')",
            "outputs": [
                {
                    "output_type": "execute_result",
                    "metadata": {},
                    "data": {
                        "text/plain": "array([1, 1, 1, 1, 1, 1, 1, 1, 1, 1, 1, 1], dtype=int32)"
                    },
                    "execution_count": null
                }
            ]
        },
        {
            "id": "6cb5e5b4",
            "cell_type": "markdown",
            "source": "Also, `scipy.cluster.hierarchy.dendrogram` can be used to generate a\nplot of the dendrogram.",
            "metadata": {}
        }
    ]
}