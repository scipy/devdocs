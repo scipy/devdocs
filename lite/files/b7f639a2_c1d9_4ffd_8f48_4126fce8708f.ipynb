{
    "nbformat": 4,
    "nbformat_minor": 5,
    "metadata": {
        "kernelspec": {
            "display_name": "Python",
            "language": "python",
            "name": "python"
        },
        "language_info": {
            "name": "python"
        }
    },
    "cells": [
        {
            "id": "0fc4e9c9",
            "cell_type": "markdown",
            "source": "<div class='alert alert-warning'>\n\nSciPy's interactive examples with Jupyterlite are experimental and may not always work as expected. Execution of cells containing imports may result in large downloads (up to 60MB of content for the first import from SciPy). Load times when importing from SciPy may take roughly 10-20 seconds. If you notice any problems, feel free to open an [issue](https://github.com/scipy/scipy/issues/new/choose).\n\n</div>",
            "metadata": {}
        },
        {
            "id": "9a58948f",
            "cell_type": "code",
            "metadata": {},
            "execution_count": null,
            "source": "import numpy as np\nfrom scipy.stats import chi2\nimport matplotlib.pyplot as plt\nfig, ax = plt.subplots(1, 1)",
            "outputs": []
        },
        {
            "id": "4afbbc30",
            "cell_type": "markdown",
            "source": "Calculate the first four moments:\n",
            "metadata": {}
        },
        {
            "id": "9c709f3e",
            "cell_type": "code",
            "metadata": {},
            "execution_count": null,
            "source": "df = 55\nmean, var, skew, kurt = chi2.stats(df, moments='mvsk')",
            "outputs": []
        },
        {
            "id": "2ea53db4",
            "cell_type": "markdown",
            "source": "Display the probability density function (``pdf``):\n",
            "metadata": {}
        },
        {
            "id": "64225d5c",
            "cell_type": "code",
            "metadata": {},
            "execution_count": null,
            "source": "x = np.linspace(chi2.ppf(0.01, df),\n                chi2.ppf(0.99, df), 100)\nax.plot(x, chi2.pdf(x, df),\n       'r-', lw=5, alpha=0.6, label='chi2 pdf')",
            "outputs": []
        },
        {
            "id": "0148a1b5",
            "cell_type": "markdown",
            "source": "Alternatively, the distribution object can be called (as a function)\nto fix the shape, location and scale parameters. This returns a \"frozen\"\nRV object holding the given parameters fixed.\n\nFreeze the distribution and display the frozen ``pdf``:\n",
            "metadata": {}
        },
        {
            "id": "fae00cf4",
            "cell_type": "code",
            "metadata": {},
            "execution_count": null,
            "source": "rv = chi2(df)\nax.plot(x, rv.pdf(x), 'k-', lw=2, label='frozen pdf')",
            "outputs": []
        },
        {
            "id": "8dcc281b",
            "cell_type": "markdown",
            "source": "Check accuracy of ``cdf`` and ``ppf``:\n",
            "metadata": {}
        },
        {
            "id": "16350e54",
            "cell_type": "code",
            "metadata": {},
            "execution_count": null,
            "source": "vals = chi2.ppf([0.001, 0.5, 0.999], df)\nnp.allclose([0.001, 0.5, 0.999], chi2.cdf(vals, df))",
            "outputs": [
                {
                    "output_type": "execute_result",
                    "metadata": {},
                    "data": {
                        "text/plain": "True"
                    },
                    "execution_count": null
                }
            ]
        },
        {
            "id": "771206bf",
            "cell_type": "markdown",
            "source": "Generate random numbers:\n",
            "metadata": {}
        },
        {
            "id": "8374929b",
            "cell_type": "code",
            "metadata": {},
            "execution_count": null,
            "source": "r = chi2.rvs(df, size=1000)",
            "outputs": []
        },
        {
            "id": "8bc026d3",
            "cell_type": "markdown",
            "source": "And compare the histogram:\n",
            "metadata": {}
        },
        {
            "id": "a82a6b65",
            "cell_type": "code",
            "metadata": {},
            "execution_count": null,
            "source": "ax.hist(r, density=True, bins='auto', histtype='stepfilled', alpha=0.2)\nax.set_xlim([x[0], x[-1]])\nax.legend(loc='best', frameon=False)\nplt.show()",
            "outputs": []
        }
    ]
}