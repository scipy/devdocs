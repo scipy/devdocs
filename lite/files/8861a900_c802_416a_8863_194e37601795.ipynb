{
    "nbformat": 4,
    "nbformat_minor": 5,
    "metadata": {
        "kernelspec": {
            "display_name": "Python",
            "language": "python",
            "name": "python"
        },
        "language_info": {
            "name": "python"
        }
    },
    "cells": [
        {
            "id": "53878975",
            "cell_type": "markdown",
            "source": "<div class='alert alert-warning'>\n\nSciPy's interactive examples with Jupyterlite are experimental and may not always work as expected. Execution of cells containing imports may result in large downloads (up to 60MB of content for the first import from SciPy). Load times when importing from SciPy may take roughly 10-20 seconds. If you notice any problems, feel free to open an [issue](https://github.com/scipy/scipy/issues/new/choose).\n\n</div>",
            "metadata": {}
        },
        {
            "id": "e127cb42",
            "cell_type": "markdown",
            "source": "Generate the 3rd-order Legendre polynomial 1/2*(5x^3 + 0x^2 - 3x + 0):\n",
            "metadata": {}
        },
        {
            "id": "9e33a0da",
            "cell_type": "code",
            "metadata": {},
            "execution_count": null,
            "source": "from scipy.special import legendre\nlegendre(3)",
            "outputs": [
                {
                    "output_type": "execute_result",
                    "metadata": {},
                    "data": {
                        "text/plain": "poly1d([ 2.5,  0. , -1.5,  0. ])"
                    },
                    "execution_count": null
                }
            ]
        }
    ]
}