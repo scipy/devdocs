{
    "nbformat": 4,
    "nbformat_minor": 5,
    "metadata": {
        "kernelspec": {
            "display_name": "Python",
            "language": "python",
            "name": "python"
        },
        "language_info": {
            "name": "python"
        }
    },
    "cells": [
        {
            "id": "eea0cde7",
            "cell_type": "markdown",
            "source": "<div class='alert alert-warning'>\n\nSciPy's interactive examples with Jupyterlite are experimental and may not always work as expected. Execution of cells containing imports may result in large downloads (up to 60MB of content for the first import from SciPy). Load times when importing from SciPy may take roughly 10-20 seconds. If you notice any problems, feel free to open an [issue](https://github.com/scipy/scipy/issues/new/choose).\n\n</div>",
            "metadata": {}
        },
        {
            "id": "01330be4",
            "cell_type": "code",
            "metadata": {},
            "execution_count": null,
            "source": "import numpy as np\nfrom scipy.linalg import tanhm, sinhm, coshm\na = np.array([[1.0, 3.0], [1.0, 4.0]])\ns = sinhm(a)\ns",
            "outputs": [
                {
                    "output_type": "execute_result",
                    "metadata": {},
                    "data": {
                        "text/plain": "array([[ 10.57300653,  39.28826594],\n       [ 13.09608865,  49.86127247]])"
                    },
                    "execution_count": null
                }
            ]
        },
        {
            "id": "f8e3e830",
            "cell_type": "markdown",
            "source": "Verify tanhm(a) = sinhm(a).dot(inv(coshm(a)))\n",
            "metadata": {}
        },
        {
            "id": "01399a85",
            "cell_type": "code",
            "metadata": {},
            "execution_count": null,
            "source": "t = tanhm(a)\nc = coshm(a)\nt - s.dot(np.linalg.inv(c))",
            "outputs": [
                {
                    "output_type": "execute_result",
                    "metadata": {},
                    "data": {
                        "text/plain": "array([[  2.72004641e-15,   4.55191440e-15],\n       [  0.00000000e+00,  -5.55111512e-16]])"
                    },
                    "execution_count": null
                }
            ]
        }
    ]
}