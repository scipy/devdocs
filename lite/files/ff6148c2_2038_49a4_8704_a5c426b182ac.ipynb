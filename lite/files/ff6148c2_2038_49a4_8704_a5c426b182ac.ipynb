{
    "nbformat": 4,
    "nbformat_minor": 5,
    "metadata": {
        "kernelspec": {
            "display_name": "Python",
            "language": "python",
            "name": "python"
        },
        "language_info": {
            "name": "python"
        }
    },
    "cells": [
        {
            "id": "5e3584f0",
            "cell_type": "markdown",
            "source": "<div class='alert alert-warning'>\n\nSciPy's interactive examples with Jupyterlite are experimental and may not always work as expected. Execution of cells containing imports may result in large downloads (up to 60MB of content for the first import from SciPy). Load times when importing from SciPy may take roughly 10-20 seconds. If you notice any problems, feel free to open an [issue](https://github.com/scipy/scipy/issues/new/choose).\n\n</div>",
            "metadata": {}
        },
        {
            "id": "38f9b8f8",
            "cell_type": "code",
            "metadata": {},
            "execution_count": null,
            "source": "import numpy as np\nfrom scipy.linalg import svdvals\nm = np.array([[1.0, 0.0],\n              [2.0, 3.0],\n              [1.0, 1.0],\n              [0.0, 2.0],\n              [1.0, 0.0]])\nsvdvals(m)",
            "outputs": [
                {
                    "output_type": "execute_result",
                    "metadata": {},
                    "data": {
                        "text/plain": "array([ 4.28091555,  1.63516424])"
                    },
                    "execution_count": null
                }
            ]
        },
        {
            "id": "bb95d538",
            "cell_type": "markdown",
            "source": "We can verify the maximum singular value of `m` by computing the maximum\nlength of `m.dot(u)` over all the unit vectors `u` in the (x,y) plane.\nWe approximate \"all\" the unit vectors with a large sample. Because\nof linearity, we only need the unit vectors with angles in [0, pi].\n",
            "metadata": {}
        },
        {
            "id": "dc20627d",
            "cell_type": "code",
            "metadata": {},
            "execution_count": null,
            "source": "t = np.linspace(0, np.pi, 2000)\nu = np.array([np.cos(t), np.sin(t)])\nnp.linalg.norm(m.dot(u), axis=0).max()",
            "outputs": [
                {
                    "output_type": "execute_result",
                    "metadata": {},
                    "data": {
                        "text/plain": "4.2809152422538475"
                    },
                    "execution_count": null
                }
            ]
        },
        {
            "id": "2477cd6f",
            "cell_type": "markdown",
            "source": "`p` is a projection matrix with rank 1. With exact arithmetic,\nits singular values would be [1, 0, 0, 0].\n",
            "metadata": {}
        },
        {
            "id": "4b111316",
            "cell_type": "code",
            "metadata": {},
            "execution_count": null,
            "source": "v = np.array([0.1, 0.3, 0.9, 0.3])\np = np.outer(v, v)\nsvdvals(p)",
            "outputs": [
                {
                    "output_type": "execute_result",
                    "metadata": {},
                    "data": {
                        "text/plain": "array([  1.00000000e+00,   2.02021698e-17,   1.56692500e-17,\n         8.15115104e-34])"
                    },
                    "execution_count": null
                }
            ]
        },
        {
            "id": "22539ecc",
            "cell_type": "markdown",
            "source": "The singular values of an orthogonal matrix are all 1. Here, we\ncreate a random orthogonal matrix by using the `rvs()` method of\n`scipy.stats.ortho_group`.\n",
            "metadata": {}
        },
        {
            "id": "9487ea85",
            "cell_type": "code",
            "metadata": {},
            "execution_count": null,
            "source": "from scipy.stats import ortho_group\north = ortho_group.rvs(4)\nsvdvals(orth)",
            "outputs": [
                {
                    "output_type": "execute_result",
                    "metadata": {},
                    "data": {
                        "text/plain": "array([ 1.,  1.,  1.,  1.])"
                    },
                    "execution_count": null
                }
            ]
        }
    ]
}