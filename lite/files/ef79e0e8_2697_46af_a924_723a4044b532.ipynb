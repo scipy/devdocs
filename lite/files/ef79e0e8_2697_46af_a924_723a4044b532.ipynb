{
    "nbformat": 4,
    "nbformat_minor": 5,
    "metadata": {
        "kernelspec": {
            "display_name": "Python",
            "language": "python",
            "name": "python"
        },
        "language_info": {
            "name": "python"
        }
    },
    "cells": [
        {
            "id": "764085af",
            "cell_type": "markdown",
            "source": "<div class='alert alert-warning'>\n\nSciPy's interactive examples with Jupyterlite are experimental and may not always work as expected. Execution of cells containing imports may result in large downloads (up to 60MB of content for the first import from SciPy). Load times when importing from SciPy may take roughly 10-20 seconds. If you notice any problems, feel free to open an [issue](https://github.com/scipy/scipy/issues/new/choose).\n\n</div>",
            "metadata": {}
        },
        {
            "id": "ebdbb6fd",
            "cell_type": "markdown",
            "source": "Suppose we wish to minimize the following function.\n",
            "metadata": {}
        },
        {
            "id": "26f2b2dd",
            "cell_type": "code",
            "metadata": {},
            "execution_count": null,
            "source": "def f(x, c=1):\n    return (x - c)**2 + 2",
            "outputs": []
        },
        {
            "id": "9d069915",
            "cell_type": "markdown",
            "source": "First, we must find a valid bracket. The function is unimodal,\nso `bracket_minium` will easily find a bracket.\n",
            "metadata": {}
        },
        {
            "id": "cc6c5dc8",
            "cell_type": "code",
            "metadata": {},
            "execution_count": null,
            "source": "from scipy.optimize import elementwise\nres_bracket = elementwise.bracket_minimum(f, 0)\nres_bracket.success",
            "outputs": [
                {
                    "output_type": "execute_result",
                    "metadata": {},
                    "data": {
                        "text/plain": "True"
                    },
                    "execution_count": null
                }
            ]
        },
        {
            "id": "9b281fa0",
            "cell_type": "code",
            "metadata": {},
            "execution_count": null,
            "source": "res_bracket.bracket",
            "outputs": [
                {
                    "output_type": "execute_result",
                    "metadata": {},
                    "data": {
                        "text/plain": "(0.0, 0.5, 1.5)"
                    },
                    "execution_count": null
                }
            ]
        },
        {
            "id": "ae01ed07",
            "cell_type": "markdown",
            "source": "Indeed, the bracket points are ordered and the function value\nat the middle bracket point is less than at the surrounding\npoints.\n",
            "metadata": {}
        },
        {
            "id": "2635e080",
            "cell_type": "code",
            "metadata": {},
            "execution_count": null,
            "source": "xl, xm, xr = res_bracket.bracket\nfl, fm, fr = res_bracket.f_bracket\n(xl < xm < xr) and (fl > fm <= fr)",
            "outputs": [
                {
                    "output_type": "execute_result",
                    "metadata": {},
                    "data": {
                        "text/plain": "True"
                    },
                    "execution_count": null
                }
            ]
        },
        {
            "id": "f5298622",
            "cell_type": "markdown",
            "source": "Once we have a valid bracket, `find_minimum` can be used to provide\nan estimate of the minimizer.\n",
            "metadata": {}
        },
        {
            "id": "212ffaff",
            "cell_type": "code",
            "metadata": {},
            "execution_count": null,
            "source": "res_minimum = elementwise.find_minimum(f, res_bracket.bracket)\nres_minimum.x",
            "outputs": [
                {
                    "output_type": "execute_result",
                    "metadata": {},
                    "data": {
                        "text/plain": "1.0000000149011612"
                    },
                    "execution_count": null
                }
            ]
        },
        {
            "id": "7bcdb6fe",
            "cell_type": "markdown",
            "source": "`bracket_minimum` and `find_minimum` accept arrays for most arguments.\nFor instance, to find the minimizers and minima for a few values of the\nparameter ``c`` at once:\n",
            "metadata": {}
        },
        {
            "id": "5e25d798",
            "cell_type": "code",
            "metadata": {},
            "execution_count": null,
            "source": "import numpy as np\nc = np.asarray([1, 1.5, 2])\nres_bracket = elementwise.bracket_minimum(f, 0, args=(c,))\nres_bracket.bracket",
            "outputs": [
                {
                    "output_type": "execute_result",
                    "metadata": {},
                    "data": {
                        "text/plain": "(array([0. , 0.5, 0.5]), array([0.5, 1.5, 1.5]), array([1.5, 2.5, 2.5]))"
                    },
                    "execution_count": null
                }
            ]
        },
        {
            "id": "15b82a05",
            "cell_type": "code",
            "metadata": {},
            "execution_count": null,
            "source": "res_minimum = elementwise.find_minimum(f, res_bracket.bracket, args=(c,))\nres_minimum.x",
            "outputs": [
                {
                    "output_type": "execute_result",
                    "metadata": {},
                    "data": {
                        "text/plain": "array([1.00000001, 1.5       , 2.        ])"
                    },
                    "execution_count": null
                }
            ]
        },
        {
            "id": "111e6d86",
            "cell_type": "code",
            "metadata": {},
            "execution_count": null,
            "source": "res_minimum.f_x",
            "outputs": [
                {
                    "output_type": "execute_result",
                    "metadata": {},
                    "data": {
                        "text/plain": "array([2., 2., 2.])"
                    },
                    "execution_count": null
                }
            ]
        }
    ]
}