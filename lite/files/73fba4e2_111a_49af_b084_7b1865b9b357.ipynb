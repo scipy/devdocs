{
    "nbformat": 4,
    "nbformat_minor": 5,
    "metadata": {
        "kernelspec": {
            "display_name": "Python",
            "language": "python",
            "name": "python"
        },
        "language_info": {
            "name": "python"
        }
    },
    "cells": [
        {
            "id": "663227ec",
            "cell_type": "markdown",
            "source": "<div class='alert alert-warning'>\n\nSciPy's interactive examples with Jupyterlite are experimental and may not always work as expected. Execution of cells containing imports may result in large downloads (up to 60MB of content for the first import from SciPy). Load times when importing from SciPy may take roughly 10-20 seconds. If you notice any problems, feel free to open an [issue](https://github.com/scipy/scipy/issues/new/choose).\n\n</div>",
            "metadata": {}
        },
        {
            "id": "f6664ee1",
            "cell_type": "code",
            "metadata": {},
            "execution_count": null,
            "source": "from scipy.special import factorialk\nfactorialk(5, k=1, exact=True)",
            "outputs": [
                {
                    "output_type": "execute_result",
                    "metadata": {},
                    "data": {
                        "text/plain": "120"
                    },
                    "execution_count": null
                }
            ]
        },
        {
            "id": "3e00259d",
            "cell_type": "code",
            "metadata": {},
            "execution_count": null,
            "source": "factorialk(5, k=3, exact=True)",
            "outputs": [
                {
                    "output_type": "execute_result",
                    "metadata": {},
                    "data": {
                        "text/plain": "10"
                    },
                    "execution_count": null
                }
            ]
        },
        {
            "id": "f82364d4",
            "cell_type": "code",
            "metadata": {},
            "execution_count": null,
            "source": "factorialk([5, 7, 9], k=3, exact=True)",
            "outputs": [
                {
                    "output_type": "execute_result",
                    "metadata": {},
                    "data": {
                        "text/plain": "array([ 10,  28, 162])"
                    },
                    "execution_count": null
                }
            ]
        },
        {
            "id": "c6889ac0",
            "cell_type": "code",
            "metadata": {},
            "execution_count": null,
            "source": "factorialk([5, 7, 9], k=3, exact=False)",
            "outputs": [
                {
                    "output_type": "execute_result",
                    "metadata": {},
                    "data": {
                        "text/plain": "array([ 10.,  28., 162.])"
                    },
                    "execution_count": null
                }
            ]
        }
    ]
}