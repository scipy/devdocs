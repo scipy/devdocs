{
    "nbformat": 4,
    "nbformat_minor": 5,
    "metadata": {
        "kernelspec": {
            "display_name": "Python",
            "language": "python",
            "name": "python"
        },
        "language_info": {
            "name": "python"
        }
    },
    "cells": [
        {
            "id": "80a07f85",
            "cell_type": "markdown",
            "source": "<div class='alert alert-warning'>\n\nSciPy's interactive examples with Jupyterlite are experimental and may not always work as expected. Execution of cells containing imports may result in large downloads (up to 60MB of content for the first import from SciPy). Load times when importing from SciPy may take roughly 10-20 seconds. If you notice any problems, feel free to open an [issue](https://github.com/scipy/scipy/issues/new/choose).\n\n</div>",
            "metadata": {}
        },
        {
            "id": "d4aeb9ef",
            "cell_type": "code",
            "metadata": {},
            "execution_count": null,
            "source": "import numpy as np\na = np.array([[1, 2, 0, 0],\n              [5, 3, 0, 4],\n              [0, 0, 0, 7],\n              [9, 3, 0, 0]])\nfrom scipy import ndimage\nlbl, nlbl = ndimage.label(a)\nlbls = np.arange(1, nlbl+1)\nndimage.labeled_comprehension(a, lbl, lbls, np.mean, float, 0)",
            "outputs": [
                {
                    "output_type": "execute_result",
                    "metadata": {},
                    "data": {
                        "text/plain": "array([ 2.75,  5.5 ,  6.  ])"
                    },
                    "execution_count": null
                }
            ]
        },
        {
            "id": "24fffbf9",
            "cell_type": "markdown",
            "source": "Falling back to `default`:\n",
            "metadata": {}
        },
        {
            "id": "86d3a639",
            "cell_type": "code",
            "metadata": {},
            "execution_count": null,
            "source": "lbls = np.arange(1, nlbl+2)\nndimage.labeled_comprehension(a, lbl, lbls, np.mean, float, -1)",
            "outputs": [
                {
                    "output_type": "execute_result",
                    "metadata": {},
                    "data": {
                        "text/plain": "array([ 2.75,  5.5 ,  6.  , -1.  ])"
                    },
                    "execution_count": null
                }
            ]
        },
        {
            "id": "984167b3",
            "cell_type": "markdown",
            "source": "Passing positions:\n",
            "metadata": {}
        },
        {
            "id": "82abe6a1",
            "cell_type": "code",
            "metadata": {},
            "execution_count": null,
            "source": "def fn(val, pos):\n    print(\"fn says: %s : %s\" % (val, pos))\n    return (val.sum()) if (pos.sum() % 2 == 0) else (-val.sum())\n\nndimage.labeled_comprehension(a, lbl, lbls, fn, float, 0, True)",
            "outputs": [
                {
                    "output_type": "execute_result",
                    "metadata": {},
                    "data": {
                        "text/plain": "fn says: [1 2 5 3] : [0 1 4 5]\nfn says: [4 7] : [ 7 11]\nfn says: [9 3] : [12 13]\narray([ 11.,  11., -12.,   0.])"
                    },
                    "execution_count": null
                }
            ]
        }
    ]
}