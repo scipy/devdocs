{
    "nbformat": 4,
    "nbformat_minor": 5,
    "metadata": {
        "kernelspec": {
            "display_name": "Python",
            "language": "python",
            "name": "python"
        },
        "language_info": {
            "name": "python"
        }
    },
    "cells": [
        {
            "id": "5855e065",
            "cell_type": "markdown",
            "source": "<div class='alert alert-warning'>\n\nSciPy's interactive examples with Jupyterlite are experimental and may not always work as expected. Execution of cells containing imports may result in large downloads (up to 60MB of content for the first import from SciPy). Load times when importing from SciPy may take roughly 10-20 seconds. If you notice any problems, feel free to open an [issue](https://github.com/scipy/scipy/issues/new/choose).\n\n</div>",
            "metadata": {}
        },
        {
            "id": "3bc3e9b8",
            "cell_type": "code",
            "metadata": {},
            "execution_count": null,
            "source": "import numpy as np\nfrom scipy.special import expm1",
            "outputs": []
        },
        {
            "id": "a117c631",
            "cell_type": "code",
            "metadata": {},
            "execution_count": null,
            "source": "expm1(1.0)",
            "outputs": [
                {
                    "output_type": "execute_result",
                    "metadata": {},
                    "data": {
                        "text/plain": "1.7182818284590451"
                    },
                    "execution_count": null
                }
            ]
        },
        {
            "id": "e2f4dd46",
            "cell_type": "code",
            "metadata": {},
            "execution_count": null,
            "source": "expm1([-0.2, -0.1, 0, 0.1, 0.2])",
            "outputs": [
                {
                    "output_type": "execute_result",
                    "metadata": {},
                    "data": {
                        "text/plain": "array([-0.18126925, -0.09516258,  0.        ,  0.10517092,  0.22140276])"
                    },
                    "execution_count": null
                }
            ]
        },
        {
            "id": "6df14069",
            "cell_type": "markdown",
            "source": "The exact value of ``exp(7.5e-13) - 1`` is\n```\n\n7.5000000000028125000000007031250000001318...*10**-13.\n\n```\nHere is what ``expm1(7.5e-13)`` gives:\n",
            "metadata": {}
        },
        {
            "id": "9a223af8",
            "cell_type": "code",
            "metadata": {},
            "execution_count": null,
            "source": "expm1(7.5e-13)",
            "outputs": [
                {
                    "output_type": "execute_result",
                    "metadata": {},
                    "data": {
                        "text/plain": "7.5000000000028135e-13"
                    },
                    "execution_count": null
                }
            ]
        },
        {
            "id": "62993fae",
            "cell_type": "markdown",
            "source": "Compare that to ``exp(7.5e-13) - 1``, where the subtraction results in\na \"catastrophic\" loss of precision:\n",
            "metadata": {}
        },
        {
            "id": "166bee21",
            "cell_type": "code",
            "metadata": {},
            "execution_count": null,
            "source": "np.exp(7.5e-13) - 1",
            "outputs": [
                {
                    "output_type": "execute_result",
                    "metadata": {},
                    "data": {
                        "text/plain": "7.5006667543675576e-13"
                    },
                    "execution_count": null
                }
            ]
        }
    ]
}