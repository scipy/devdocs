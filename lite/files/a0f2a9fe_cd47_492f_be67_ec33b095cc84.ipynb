{
    "nbformat": 4,
    "nbformat_minor": 5,
    "metadata": {
        "kernelspec": {
            "display_name": "Python",
            "language": "python",
            "name": "python"
        },
        "language_info": {
            "name": "python"
        }
    },
    "cells": [
        {
            "id": "25caea69",
            "cell_type": "markdown",
            "source": "<div class='alert alert-warning'>\n\nSciPy's interactive examples with Jupyterlite are experimental and may not always work as expected. Execution of cells containing imports may result in large downloads (up to 60MB of content for the first import from SciPy). Load times when importing from SciPy may take roughly 10-20 seconds. If you notice any problems, feel free to open an [issue](https://github.com/scipy/scipy/issues/new/choose).\n\n</div>",
            "metadata": {}
        },
        {
            "id": "0f5813d6",
            "cell_type": "code",
            "metadata": {},
            "execution_count": null,
            "source": "import numpy as np\na = np.array([ 0.7972,  0.0767,  0.4383,  0.7866,  0.8091,\n               0.1954,  0.6307,  0.6599,  0.1065,  0.0508])\nfrom scipy import stats\nstats.zscore(a)",
            "outputs": [
                {
                    "output_type": "execute_result",
                    "metadata": {},
                    "data": {
                        "text/plain": "array([ 1.1273, -1.247 , -0.0552,  1.0923,  1.1664, -0.8559,  0.5786,\n        0.6748, -1.1488, -1.3324])"
                    },
                    "execution_count": null
                }
            ]
        },
        {
            "id": "902c15d6",
            "cell_type": "markdown",
            "source": "Computing along a specified axis, using n-1 degrees of freedom\n(``ddof=1``) to calculate the standard deviation:\n",
            "metadata": {}
        },
        {
            "id": "6198768e",
            "cell_type": "code",
            "metadata": {},
            "execution_count": null,
            "source": "b = np.array([[ 0.3148,  0.0478,  0.6243,  0.4608],\n              [ 0.7149,  0.0775,  0.6072,  0.9656],\n              [ 0.6341,  0.1403,  0.9759,  0.4064],\n              [ 0.5918,  0.6948,  0.904 ,  0.3721],\n              [ 0.0921,  0.2481,  0.1188,  0.1366]])\nstats.zscore(b, axis=1, ddof=1)",
            "outputs": [
                {
                    "output_type": "execute_result",
                    "metadata": {},
                    "data": {
                        "text/plain": "array([[-0.19264823, -1.28415119,  1.07259584,  0.40420358],\n       [ 0.33048416, -1.37380874,  0.04251374,  1.00081084],\n       [ 0.26796377, -1.12598418,  1.23283094, -0.37481053],\n       [-0.22095197,  0.24468594,  1.19042819, -1.21416216],\n       [-0.82780366,  1.4457416 , -0.43867764, -0.1792603 ]])"
                    },
                    "execution_count": null
                }
            ]
        },
        {
            "id": "92beee9a",
            "cell_type": "markdown",
            "source": "An example with ``nan_policy='omit'``:\n",
            "metadata": {}
        },
        {
            "id": "6ac69345",
            "cell_type": "code",
            "metadata": {},
            "execution_count": null,
            "source": "x = np.array([[25.11, 30.10, np.nan, 32.02, 43.15],\n              [14.95, 16.06, 121.25, 94.35, 29.81]])\nstats.zscore(x, axis=1, nan_policy='omit')",
            "outputs": [
                {
                    "output_type": "execute_result",
                    "metadata": {},
                    "data": {
                        "text/plain": "array([[-1.13490897, -0.37830299,         nan, -0.08718406,  1.60039602],\n       [-0.91611681, -0.89090508,  1.4983032 ,  0.88731639, -0.5785977 ]])"
                    },
                    "execution_count": null
                }
            ]
        }
    ]
}