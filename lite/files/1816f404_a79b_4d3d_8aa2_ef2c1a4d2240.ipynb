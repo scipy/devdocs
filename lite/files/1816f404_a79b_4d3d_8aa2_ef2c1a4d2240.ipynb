{
    "nbformat": 4,
    "nbformat_minor": 5,
    "metadata": {
        "kernelspec": {
            "display_name": "Python",
            "language": "python",
            "name": "python"
        },
        "language_info": {
            "name": "python"
        }
    },
    "cells": [
        {
            "id": "d33a3cec",
            "cell_type": "markdown",
            "source": "<div class='alert alert-warning'>\n\nSciPy's interactive examples with Jupyterlite are experimental and may not always work as expected. Execution of cells containing imports may result in large downloads (up to 60MB of content for the first import from SciPy). Load times when importing from SciPy may take roughly 10-20 seconds. If you notice any problems, feel free to open an [issue](https://github.com/scipy/scipy/issues/new/choose).\n\n</div>",
            "metadata": {}
        },
        {
            "id": "a112b0fa",
            "cell_type": "code",
            "metadata": {},
            "execution_count": null,
            "source": "from scipy import ndimage\nimport numpy as np\na = np.arange(36).reshape((6,6))\na[3, 3] = 50\na",
            "outputs": [
                {
                    "output_type": "execute_result",
                    "metadata": {},
                    "data": {
                        "text/plain": "array([[ 0,  1,  2,  3,  4,  5],\n       [ 6,  7,  8,  9, 10, 11],\n       [12, 13, 14, 15, 16, 17],\n       [18, 19, 20, 50, 22, 23],\n       [24, 25, 26, 27, 28, 29],\n       [30, 31, 32, 33, 34, 35]])"
                    },
                    "execution_count": null
                }
            ]
        },
        {
            "id": "34c3aa53",
            "cell_type": "code",
            "metadata": {},
            "execution_count": null,
            "source": "ndimage.grey_opening(a, size=(3,3))",
            "outputs": [
                {
                    "output_type": "execute_result",
                    "metadata": {},
                    "data": {
                        "text/plain": "array([[ 0,  1,  2,  3,  4,  4],\n       [ 6,  7,  8,  9, 10, 10],\n       [12, 13, 14, 15, 16, 16],\n       [18, 19, 20, 22, 22, 22],\n       [24, 25, 26, 27, 28, 28],\n       [24, 25, 26, 27, 28, 28]])"
                    },
                    "execution_count": null
                }
            ]
        },
        {
            "id": "6f956243",
            "cell_type": "code",
            "metadata": {},
            "execution_count": null,
            "source": "# Note that the local maximum a[3,3] has disappeared",
            "outputs": []
        }
    ]
}