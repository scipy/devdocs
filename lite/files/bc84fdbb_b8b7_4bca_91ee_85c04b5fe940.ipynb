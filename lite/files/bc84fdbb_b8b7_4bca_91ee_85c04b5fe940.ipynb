{
    "nbformat": 4,
    "nbformat_minor": 5,
    "metadata": {
        "kernelspec": {
            "display_name": "Python",
            "language": "python",
            "name": "python"
        },
        "language_info": {
            "name": "python"
        }
    },
    "cells": [
        {
            "id": "a01ebcd1",
            "cell_type": "markdown",
            "source": "<div class='alert alert-warning'>\n\nSciPy's interactive examples with Jupyterlite are experimental and may not always work as expected. Execution of cells containing imports may result in large downloads (up to 60MB of content for the first import from SciPy). Load times when importing from SciPy may take roughly 10-20 seconds. If you notice any problems, feel free to open an [issue](https://github.com/scipy/scipy/issues/new/choose).\n\n</div>",
            "metadata": {}
        },
        {
            "id": "b725a669",
            "cell_type": "code",
            "metadata": {},
            "execution_count": null,
            "source": "import numpy as np\nfrom scipy.linalg import expm, sinm, cosm",
            "outputs": []
        },
        {
            "id": "b779ee38",
            "cell_type": "markdown",
            "source": "Matrix version of the formula exp(0) = 1:\n",
            "metadata": {}
        },
        {
            "id": "7f863f51",
            "cell_type": "code",
            "metadata": {},
            "execution_count": null,
            "source": "expm(np.zeros((3, 2, 2)))",
            "outputs": [
                {
                    "output_type": "execute_result",
                    "metadata": {},
                    "data": {
                        "text/plain": "array([[[1., 0.],\n        [0., 1.]],\n<BLANKLINE>\n       [[1., 0.],\n        [0., 1.]],\n<BLANKLINE>\n       [[1., 0.],\n        [0., 1.]]])"
                    },
                    "execution_count": null
                }
            ]
        },
        {
            "id": "6e3494f1",
            "cell_type": "markdown",
            "source": "Euler's identity (exp(i*theta) = cos(theta) + i*sin(theta))\napplied to a matrix:\n",
            "metadata": {}
        },
        {
            "id": "5cdb98f1",
            "cell_type": "code",
            "metadata": {},
            "execution_count": null,
            "source": "a = np.array([[1.0, 2.0], [-1.0, 3.0]])\nexpm(1j*a)",
            "outputs": [
                {
                    "output_type": "execute_result",
                    "metadata": {},
                    "data": {
                        "text/plain": "array([[ 0.42645930+1.89217551j, -2.13721484-0.97811252j],\n       [ 1.06860742+0.48905626j, -1.71075555+0.91406299j]])"
                    },
                    "execution_count": null
                }
            ]
        },
        {
            "id": "785eaaaa",
            "cell_type": "code",
            "metadata": {},
            "execution_count": null,
            "source": "cosm(a) + 1j*sinm(a)",
            "outputs": [
                {
                    "output_type": "execute_result",
                    "metadata": {},
                    "data": {
                        "text/plain": "array([[ 0.42645930+1.89217551j, -2.13721484-0.97811252j],\n       [ 1.06860742+0.48905626j, -1.71075555+0.91406299j]])"
                    },
                    "execution_count": null
                }
            ]
        }
    ]
}