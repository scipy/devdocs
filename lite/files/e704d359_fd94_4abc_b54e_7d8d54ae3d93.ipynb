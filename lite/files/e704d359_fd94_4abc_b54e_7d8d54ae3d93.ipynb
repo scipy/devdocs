{
    "nbformat": 4,
    "nbformat_minor": 5,
    "metadata": {
        "kernelspec": {
            "display_name": "Python",
            "language": "python",
            "name": "python"
        },
        "language_info": {
            "name": "python"
        }
    },
    "cells": [
        {
            "id": "181e66a0",
            "cell_type": "markdown",
            "source": "<div class='alert alert-warning'>\n\nSciPy's interactive examples with Jupyterlite are experimental and may not always work as expected. Execution of cells containing imports may result in large downloads (up to 60MB of content for the first import from SciPy). Load times when importing from SciPy may take roughly 10-20 seconds. If you notice any problems, feel free to open an [issue](https://github.com/scipy/scipy/issues/new/choose).\n\n</div>",
            "metadata": {}
        },
        {
            "id": "cb62bab6",
            "cell_type": "code",
            "metadata": {},
            "execution_count": null,
            "source": "from scipy.spatial.distance import is_valid_y",
            "outputs": []
        },
        {
            "id": "15421352",
            "cell_type": "markdown",
            "source": "This vector is a valid condensed distance matrix.  The length is 6,\nwhich corresponds to ``n = 4``, since ``4*(4 - 1)/2`` is 6.\n",
            "metadata": {}
        },
        {
            "id": "43f689fc",
            "cell_type": "code",
            "metadata": {},
            "execution_count": null,
            "source": "v = [1.0, 1.2, 1.0, 0.5, 1.3, 0.9]\nis_valid_y(v)",
            "outputs": [
                {
                    "output_type": "execute_result",
                    "metadata": {},
                    "data": {
                        "text/plain": "True"
                    },
                    "execution_count": null
                }
            ]
        },
        {
            "id": "7c6ea444",
            "cell_type": "markdown",
            "source": "An input vector with length, say, 7, is not a valid condensed distance\nmatrix.\n",
            "metadata": {}
        },
        {
            "id": "ff086dbe",
            "cell_type": "code",
            "metadata": {},
            "execution_count": null,
            "source": "is_valid_y([1.1, 1.2, 1.3, 1.4, 1.5, 1.6, 1.7])",
            "outputs": [
                {
                    "output_type": "execute_result",
                    "metadata": {},
                    "data": {
                        "text/plain": "False"
                    },
                    "execution_count": null
                }
            ]
        }
    ]
}