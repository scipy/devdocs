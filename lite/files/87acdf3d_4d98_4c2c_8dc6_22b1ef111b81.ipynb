{
    "nbformat": 4,
    "nbformat_minor": 5,
    "metadata": {
        "kernelspec": {
            "display_name": "Python",
            "language": "python",
            "name": "python"
        },
        "language_info": {
            "name": "python"
        }
    },
    "cells": [
        {
            "id": "bf833513",
            "cell_type": "markdown",
            "source": "<div class='alert alert-warning'>\n\nSciPy's interactive examples with Jupyterlite are experimental and may not always work as expected. Execution of cells containing imports may result in large downloads (up to 60MB of content for the first import from SciPy). Load times when importing from SciPy may take roughly 10-20 seconds. If you notice any problems, feel free to open an [issue](https://github.com/scipy/scipy/issues/new/choose).\n\n</div>",
            "metadata": {}
        },
        {
            "id": "132448dd",
            "cell_type": "code",
            "metadata": {},
            "execution_count": null,
            "source": "import numpy as np\nfrom scipy.stats import iqr\nx = np.array([[10, 7, 4], [3, 2, 1]])\nx",
            "outputs": [
                {
                    "output_type": "execute_result",
                    "metadata": {},
                    "data": {
                        "text/plain": "array([[10,  7,  4],\n       [ 3,  2,  1]])"
                    },
                    "execution_count": null
                }
            ]
        },
        {
            "id": "bd41e481",
            "cell_type": "code",
            "metadata": {},
            "execution_count": null,
            "source": "iqr(x)",
            "outputs": [
                {
                    "output_type": "execute_result",
                    "metadata": {},
                    "data": {
                        "text/plain": "4.0"
                    },
                    "execution_count": null
                }
            ]
        },
        {
            "id": "c54b762d",
            "cell_type": "code",
            "metadata": {},
            "execution_count": null,
            "source": "iqr(x, axis=0)",
            "outputs": [
                {
                    "output_type": "execute_result",
                    "metadata": {},
                    "data": {
                        "text/plain": "array([ 3.5,  2.5,  1.5])"
                    },
                    "execution_count": null
                }
            ]
        },
        {
            "id": "a9fca9ae",
            "cell_type": "code",
            "metadata": {},
            "execution_count": null,
            "source": "iqr(x, axis=1)",
            "outputs": [
                {
                    "output_type": "execute_result",
                    "metadata": {},
                    "data": {
                        "text/plain": "array([ 3.,  1.])"
                    },
                    "execution_count": null
                }
            ]
        },
        {
            "id": "707fab7b",
            "cell_type": "code",
            "metadata": {},
            "execution_count": null,
            "source": "iqr(x, axis=1, keepdims=True)",
            "outputs": [
                {
                    "output_type": "execute_result",
                    "metadata": {},
                    "data": {
                        "text/plain": "array([[ 3.],\n       [ 1.]])"
                    },
                    "execution_count": null
                }
            ]
        }
    ]
}