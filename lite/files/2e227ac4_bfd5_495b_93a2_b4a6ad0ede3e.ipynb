{
    "nbformat": 4,
    "nbformat_minor": 5,
    "metadata": {
        "kernelspec": {
            "display_name": "Python",
            "language": "python",
            "name": "python"
        },
        "language_info": {
            "name": "python"
        }
    },
    "cells": [
        {
            "id": "0a61ea81",
            "cell_type": "markdown",
            "source": "<div class='alert alert-warning'>\n\nSciPy's interactive examples with Jupyterlite are experimental and may not always work as expected. Execution of cells containing imports may result in large downloads (up to 60MB of content for the first import from SciPy). Load times when importing from SciPy may take roughly 10-20 seconds. If you notice any problems, feel free to open an [issue](https://github.com/scipy/scipy/issues/new/choose).\n\n</div>",
            "metadata": {}
        },
        {
            "id": "b2328aaf",
            "cell_type": "markdown",
            "source": "We can set the global fft backend:\n",
            "metadata": {}
        },
        {
            "id": "2aeb7671",
            "cell_type": "code",
            "metadata": {},
            "execution_count": null,
            "source": "from scipy.fft import fft, set_global_backend\nset_global_backend(\"scipy\")  # Sets global backend (default is \"scipy\").\nfft([1])  # Calls the global backend",
            "outputs": [
                {
                    "output_type": "execute_result",
                    "metadata": {},
                    "data": {
                        "text/plain": "array([1.+0.j])"
                    },
                    "execution_count": null
                }
            ]
        }
    ]
}