{
    "nbformat": 4,
    "nbformat_minor": 5,
    "metadata": {
        "kernelspec": {
            "display_name": "Python",
            "language": "python",
            "name": "python"
        },
        "language_info": {
            "name": "python"
        }
    },
    "cells": [
        {
            "id": "cc8bed37",
            "cell_type": "markdown",
            "source": "<div class='alert alert-warning'>\n\nSciPy's interactive examples with Jupyterlite are experimental and may not always work as expected. Execution of cells containing imports may result in large downloads (up to 60MB of content for the first import from SciPy). Load times when importing from SciPy may take roughly 10-20 seconds. If you notice any problems, feel free to open an [issue](https://github.com/scipy/scipy/issues/new/choose).\n\n</div>",
            "metadata": {}
        },
        {
            "id": "022b1913",
            "cell_type": "markdown",
            "source": "Convert the state-space representation:\n\n$$ \\dot{\\textbf{x}}(t) = \\begin{bmatrix} -2 & -1 \\\\ 1 & 0 \\end{bmatrix} \\textbf{x}(t) + \\begin{bmatrix} 1 \\\\ 0 \\end{bmatrix} \\textbf{u}(t) \\\\ $$\n$$ \\textbf{y}(t) = \\begin{bmatrix} 1 & 2 \\end{bmatrix} \\textbf{x}(t) + \\begin{bmatrix} 1 \\end{bmatrix} \\textbf{u}(t) $$",
            "metadata": {}
        },
        {
            "id": "0b6dc78f",
            "cell_type": "code",
            "metadata": {},
            "execution_count": null,
            "source": "A = [[-2, -1], [1, 0]]\nB = [[1], [0]]  # 2-D column vector\nC = [[1, 2]]    # 2-D row vector\nD = 1",
            "outputs": []
        },
        {
            "id": "12453638",
            "cell_type": "markdown",
            "source": "to the transfer function:\n\n.. math:: H(s) = \\frac{s^2 + 3s + 3}{s^2 + 2s + 1}\n",
            "metadata": {}
        },
        {
            "id": "43d84112",
            "cell_type": "code",
            "metadata": {},
            "execution_count": null,
            "source": "from scipy.signal import ss2tf\nss2tf(A, B, C, D)",
            "outputs": [
                {
                    "output_type": "execute_result",
                    "metadata": {},
                    "data": {
                        "text/plain": "(array([[1., 3., 3.]]), array([ 1.,  2.,  1.]))"
                    },
                    "execution_count": null
                }
            ]
        }
    ]
}