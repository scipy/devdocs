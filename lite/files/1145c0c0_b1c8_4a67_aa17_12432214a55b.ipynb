{
    "nbformat": 4,
    "nbformat_minor": 5,
    "metadata": {
        "kernelspec": {
            "display_name": "Python",
            "language": "python",
            "name": "python"
        },
        "language_info": {
            "name": "python"
        }
    },
    "cells": [
        {
            "id": "5eedc072",
            "cell_type": "markdown",
            "source": "<div class='alert alert-warning'>\n\nSciPy's interactive examples with Jupyterlite are experimental and may not always work as expected. Execution of cells containing imports may result in large downloads (up to 60MB of content for the first import from SciPy). Load times when importing from SciPy may take roughly 10-20 seconds. If you notice any problems, feel free to open an [issue](https://github.com/scipy/scipy/issues/new/choose).\n\n</div>",
            "metadata": {}
        },
        {
            "id": "36a39840",
            "cell_type": "code",
            "metadata": {},
            "execution_count": null,
            "source": "import numpy as np\nfrom scipy.stats import expectile\na = [1, 4, 2, -1]\nexpectile(a, alpha=0.5) == np.mean(a)",
            "outputs": [
                {
                    "output_type": "execute_result",
                    "metadata": {},
                    "data": {
                        "text/plain": "True"
                    },
                    "execution_count": null
                }
            ]
        },
        {
            "id": "dc909284",
            "cell_type": "code",
            "metadata": {},
            "execution_count": null,
            "source": "expectile(a, alpha=0.2)",
            "outputs": [
                {
                    "output_type": "execute_result",
                    "metadata": {},
                    "data": {
                        "text/plain": "0.42857142857142855"
                    },
                    "execution_count": null
                }
            ]
        },
        {
            "id": "64560653",
            "cell_type": "code",
            "metadata": {},
            "execution_count": null,
            "source": "expectile(a, alpha=0.8)",
            "outputs": [
                {
                    "output_type": "execute_result",
                    "metadata": {},
                    "data": {
                        "text/plain": "2.5714285714285716"
                    },
                    "execution_count": null
                }
            ]
        },
        {
            "id": "7ebb90fe",
            "cell_type": "code",
            "metadata": {},
            "execution_count": null,
            "source": "weights = [1, 3, 1, 1]",
            "outputs": []
        }
    ]
}