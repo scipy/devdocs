{
    "nbformat": 4,
    "nbformat_minor": 5,
    "metadata": {
        "kernelspec": {
            "display_name": "Python",
            "language": "python",
            "name": "python"
        },
        "language_info": {
            "name": "python"
        }
    },
    "cells": [
        {
            "id": "0c09ae4e",
            "cell_type": "markdown",
            "source": "<div class='alert alert-warning'>\n\nSciPy's interactive examples with Jupyterlite are experimental and may not always work as expected. Execution of cells containing imports may result in large downloads (up to 60MB of content for the first import from SciPy). Load times when importing from SciPy may take roughly 10-20 seconds. If you notice any problems, feel free to open an [issue](https://github.com/scipy/scipy/issues/new/choose).\n\n</div>",
            "metadata": {}
        },
        {
            "id": "27b3c53b",
            "cell_type": "markdown",
            "source": "Compute the functions at ``x=1.``.\n",
            "metadata": {}
        },
        {
            "id": "4a93c150",
            "cell_type": "code",
            "metadata": {},
            "execution_count": null,
            "source": "import numpy as np\nfrom scipy.special import itairy\nimport matplotlib.pyplot as plt\napt, bpt, ant, bnt = itairy(1.)\napt, bpt, ant, bnt",
            "outputs": [
                {
                    "output_type": "execute_result",
                    "metadata": {},
                    "data": {
                        "text/plain": "(0.23631734191710949,\n 0.8727691167380077,\n 0.46567398346706845,\n 0.3730050096342943)"
                    },
                    "execution_count": null
                }
            ]
        },
        {
            "id": "69cf7b4d",
            "cell_type": "markdown",
            "source": "Compute the functions at several points by providing a NumPy array for `x`.\n",
            "metadata": {}
        },
        {
            "id": "037081f6",
            "cell_type": "code",
            "metadata": {},
            "execution_count": null,
            "source": "x = np.array([1., 1.5, 2.5, 5])\napt, bpt, ant, bnt = itairy(x)\napt, bpt, ant, bnt",
            "outputs": [
                {
                    "output_type": "execute_result",
                    "metadata": {},
                    "data": {
                        "text/plain": "(array([0.23631734, 0.28678675, 0.324638  , 0.33328759]),\n array([  0.87276912,   1.62470809,   5.20906691, 321.47831857]),\n array([0.46567398, 0.72232876, 0.93187776, 0.7178822 ]),\n array([ 0.37300501,  0.35038814, -0.02812939,  0.15873094]))"
                    },
                    "execution_count": null
                }
            ]
        },
        {
            "id": "fb08e316",
            "cell_type": "markdown",
            "source": "Plot the functions from -10 to 10.\n",
            "metadata": {}
        },
        {
            "id": "b15f18ee",
            "cell_type": "code",
            "metadata": {},
            "execution_count": null,
            "source": "x = np.linspace(-10, 10, 500)\napt, bpt, ant, bnt = itairy(x)\nfig, ax = plt.subplots(figsize=(6, 5))\nax.plot(x, apt, label=r\"$\\int_0^x\\, Ai(t)\\, dt$\")\nax.plot(x, bpt, ls=\"dashed\", label=r\"$\\int_0^x\\, Bi(t)\\, dt$\")\nax.plot(x, ant, ls=\"dashdot\", label=r\"$\\int_0^x\\, Ai(-t)\\, dt$\")\nax.plot(x, bnt, ls=\"dotted\", label=r\"$\\int_0^x\\, Bi(-t)\\, dt$\")\nax.set_ylim(-2, 1.5)\nax.legend(loc=\"lower right\")\nplt.show()",
            "outputs": []
        }
    ]
}