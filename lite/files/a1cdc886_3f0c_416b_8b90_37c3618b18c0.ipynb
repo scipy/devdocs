{
    "nbformat": 4,
    "nbformat_minor": 5,
    "metadata": {
        "kernelspec": {
            "display_name": "Python",
            "language": "python",
            "name": "python"
        },
        "language_info": {
            "name": "python"
        }
    },
    "cells": [
        {
            "id": "afef5a50",
            "cell_type": "markdown",
            "source": "<div class='alert alert-warning'>\n\nSciPy's interactive examples with Jupyterlite are experimental and may not always work as expected. Execution of cells containing imports may result in large downloads (up to 60MB of content for the first import from SciPy). Load times when importing from SciPy may take roughly 10-20 seconds. If you notice any problems, feel free to open an [issue](https://github.com/scipy/scipy/issues/new/choose).\n\n</div>",
            "metadata": {}
        },
        {
            "id": "ffac42f0",
            "cell_type": "markdown",
            "source": "Prepare a symmetric positive definite covariance matrix ``A`` and a\ndata point ``x``.\n",
            "metadata": {}
        },
        {
            "id": "d8e4c706",
            "cell_type": "code",
            "metadata": {},
            "execution_count": null,
            "source": "import numpy as np\nfrom scipy import stats\nrng = np.random.default_rng()\nn = 5\nA = np.diag(rng.random(n))\nx = rng.random(size=n)",
            "outputs": []
        },
        {
            "id": "c520853c",
            "cell_type": "markdown",
            "source": "Extract the diagonal from ``A`` and create the `Covariance` object.\n",
            "metadata": {}
        },
        {
            "id": "8b99ea9c",
            "cell_type": "code",
            "metadata": {},
            "execution_count": null,
            "source": "d = np.diag(A)\ncov = stats.Covariance.from_diagonal(d)",
            "outputs": []
        },
        {
            "id": "13969ea0",
            "cell_type": "markdown",
            "source": "Compare the functionality of the `Covariance` object against a\nreference implementations.\n",
            "metadata": {}
        },
        {
            "id": "e68c0d51",
            "cell_type": "code",
            "metadata": {},
            "execution_count": null,
            "source": "res = cov.whiten(x)\nref = np.diag(d**-0.5) @ x\nnp.allclose(res, ref)",
            "outputs": [
                {
                    "output_type": "execute_result",
                    "metadata": {},
                    "data": {
                        "text/plain": "True"
                    },
                    "execution_count": null
                }
            ]
        },
        {
            "id": "dface1ff",
            "cell_type": "code",
            "metadata": {},
            "execution_count": null,
            "source": "res = cov.log_pdet\nref = np.linalg.slogdet(A)[-1]\nnp.allclose(res, ref)",
            "outputs": [
                {
                    "output_type": "execute_result",
                    "metadata": {},
                    "data": {
                        "text/plain": "True"
                    },
                    "execution_count": null
                }
            ]
        }
    ]
}