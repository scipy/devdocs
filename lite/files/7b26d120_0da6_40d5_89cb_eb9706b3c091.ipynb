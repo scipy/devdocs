{
    "nbformat": 4,
    "nbformat_minor": 5,
    "metadata": {
        "kernelspec": {
            "display_name": "Python",
            "language": "python",
            "name": "python"
        },
        "language_info": {
            "name": "python"
        }
    },
    "cells": [
        {
            "id": "c6ef4149",
            "cell_type": "markdown",
            "source": "<div class='alert alert-warning'>\n\nSciPy's interactive examples with Jupyterlite are experimental and may not always work as expected. Execution of cells containing imports may result in large downloads (up to 60MB of content for the first import from SciPy). Load times when importing from SciPy may take roughly 10-20 seconds. If you notice any problems, feel free to open an [issue](https://github.com/scipy/scipy/issues/new/choose).\n\n</div>",
            "metadata": {}
        },
        {
            "id": "84253b45",
            "cell_type": "code",
            "metadata": {},
            "execution_count": null,
            "source": "import numpy as np\nfrom scipy.special import euler\neuler(6)",
            "outputs": [
                {
                    "output_type": "execute_result",
                    "metadata": {},
                    "data": {
                        "text/plain": "array([  1.,   0.,  -1.,   0.,   5.,   0., -61.])"
                    },
                    "execution_count": null
                }
            ]
        },
        {
            "id": "f2bdd61a",
            "cell_type": "code",
            "metadata": {},
            "execution_count": null,
            "source": "euler(13).astype(np.int64)",
            "outputs": [
                {
                    "output_type": "execute_result",
                    "metadata": {},
                    "data": {
                        "text/plain": "array([      1,       0,      -1,       0,       5,       0,     -61,\n             0,    1385,       0,  -50521,       0, 2702765,       0])"
                    },
                    "execution_count": null
                }
            ]
        },
        {
            "id": "54147544",
            "cell_type": "code",
            "metadata": {},
            "execution_count": null,
            "source": "euler(22)[-1]  # Exact value of E(22) is -69348874393137901.",
            "outputs": [
                {
                    "output_type": "execute_result",
                    "metadata": {},
                    "data": {
                        "text/plain": "-69348874393137976.0"
                    },
                    "execution_count": null
                }
            ]
        }
    ]
}