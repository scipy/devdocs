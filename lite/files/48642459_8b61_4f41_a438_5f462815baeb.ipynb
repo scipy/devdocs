{
    "nbformat": 4,
    "nbformat_minor": 5,
    "metadata": {
        "kernelspec": {
            "display_name": "Python",
            "language": "python",
            "name": "python"
        },
        "language_info": {
            "name": "python"
        }
    },
    "cells": [
        {
            "id": "818a3f0c",
            "cell_type": "markdown",
            "source": "<div class='alert alert-warning'>\n\nSciPy's interactive examples with Jupyterlite are experimental and may not always work as expected. Execution of cells containing imports may result in large downloads (up to 60MB of content for the first import from SciPy). Load times when importing from SciPy may take roughly 10-20 seconds. If you notice any problems, feel free to open an [issue](https://github.com/scipy/scipy/issues/new/choose).\n\n</div>",
            "metadata": {}
        },
        {
            "id": "f16a1991",
            "cell_type": "code",
            "metadata": {},
            "execution_count": null,
            "source": "from scipy.sparse import csr_matrix\nfrom scipy.sparse.csgraph import structural_rank",
            "outputs": []
        },
        {
            "id": "56c023d9",
            "cell_type": "code",
            "metadata": {},
            "execution_count": null,
            "source": "graph = [\n[0, 1, 2, 0],\n[1, 0, 0, 1],\n[2, 0, 0, 3],\n[0, 1, 3, 0]\n]\ngraph = csr_matrix(graph)\nprint(graph)",
            "outputs": [
                {
                    "output_type": "execute_result",
                    "metadata": {},
                    "data": {
                        "text/plain": "<Compressed Sparse Row sparse matrix of dtype 'int64'\n    with 8 stored elements and shape (4, 4)>\n    Coords  Values\n    (0, 1)  1\n    (0, 2)  2\n    (1, 0)  1\n    (1, 3)  1\n    (2, 0)  2\n    (2, 3)  3\n    (3, 1)  1\n    (3, 2)  3"
                    },
                    "execution_count": null
                }
            ]
        },
        {
            "id": "fb396e7b",
            "cell_type": "code",
            "metadata": {},
            "execution_count": null,
            "source": "structural_rank(graph)",
            "outputs": [
                {
                    "output_type": "execute_result",
                    "metadata": {},
                    "data": {
                        "text/plain": "4"
                    },
                    "execution_count": null
                }
            ]
        }
    ]
}