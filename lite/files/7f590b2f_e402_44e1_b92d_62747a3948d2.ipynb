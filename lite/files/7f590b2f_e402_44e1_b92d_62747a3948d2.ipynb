{
    "nbformat": 4,
    "nbformat_minor": 5,
    "metadata": {
        "kernelspec": {
            "display_name": "Python",
            "language": "python",
            "name": "python"
        },
        "language_info": {
            "name": "python"
        }
    },
    "cells": [
        {
            "id": "6985ae79",
            "cell_type": "markdown",
            "source": "<div class='alert alert-warning'>\n\nSciPy's interactive examples with Jupyterlite are experimental and may not always work as expected. Execution of cells containing imports may result in large downloads (up to 60MB of content for the first import from SciPy). Load times when importing from SciPy may take roughly 10-20 seconds. If you notice any problems, feel free to open an [issue](https://github.com/scipy/scipy/issues/new/choose).\n\n</div>",
            "metadata": {}
        },
        {
            "id": "a9089adb",
            "cell_type": "markdown",
            "source": "Plot the window and its frequency response:\n",
            "metadata": {}
        },
        {
            "id": "a969891a",
            "cell_type": "code",
            "metadata": {},
            "execution_count": null,
            "source": "import numpy as np\nfrom scipy import signal\nfrom scipy.fft import fft, fftshift\nimport matplotlib.pyplot as plt",
            "outputs": []
        },
        {
            "id": "5f547fac",
            "cell_type": "code",
            "metadata": {},
            "execution_count": null,
            "source": "window = signal.windows.triang(51)\nplt.plot(window)\nplt.title(\"Triangular window\")\nplt.ylabel(\"Amplitude\")\nplt.xlabel(\"Sample\")",
            "outputs": []
        },
        {
            "id": "399d019b",
            "cell_type": "code",
            "metadata": {},
            "execution_count": null,
            "source": "plt.figure()\nA = fft(window, 2048) / (len(window)/2.0)\nfreq = np.linspace(-0.5, 0.5, len(A))\nresponse = np.abs(fftshift(A / abs(A).max()))\nresponse = 20 * np.log10(np.maximum(response, 1e-10))\nplt.plot(freq, response)\nplt.axis([-0.5, 0.5, -120, 0])\nplt.title(\"Frequency response of the triangular window\")\nplt.ylabel(\"Normalized magnitude [dB]\")\nplt.xlabel(\"Normalized frequency [cycles per sample]\")",
            "outputs": []
        }
    ]
}