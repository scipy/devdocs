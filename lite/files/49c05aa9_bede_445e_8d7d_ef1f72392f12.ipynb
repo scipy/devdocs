{
    "nbformat": 4,
    "nbformat_minor": 5,
    "metadata": {
        "kernelspec": {
            "display_name": "Python",
            "language": "python",
            "name": "python"
        },
        "language_info": {
            "name": "python"
        }
    },
    "cells": [
        {
            "id": "f63a009c",
            "cell_type": "markdown",
            "source": "<div class='alert alert-warning'>\n\nSciPy's interactive examples with Jupyterlite are experimental and may not always work as expected. Execution of cells containing imports may result in large downloads (up to 60MB of content for the first import from SciPy). Load times when importing from SciPy may take roughly 10-20 seconds. If you notice any problems, feel free to open an [issue](https://github.com/scipy/scipy/issues/new/choose).\n\n</div>",
            "metadata": {}
        },
        {
            "id": "bc03f178",
            "cell_type": "code",
            "metadata": {},
            "execution_count": null,
            "source": "from scipy import ndimage\nimport numpy as np\na = np.array([[1, 2, 0, 1],\n              [5, 3, 0, 4],\n              [0, 0, 0, 7],\n              [9, 3, 0, 0]])\nlabels, labels_nb = ndimage.label(a)\nlabels",
            "outputs": [
                {
                    "output_type": "execute_result",
                    "metadata": {},
                    "data": {
                        "text/plain": "array([[1, 1, 0, 2],\n       [1, 1, 0, 2],\n       [0, 0, 0, 2],\n       [3, 3, 0, 0]], dtype=int32)"
                    },
                    "execution_count": null
                }
            ]
        },
        {
            "id": "0ea7787a",
            "cell_type": "code",
            "metadata": {},
            "execution_count": null,
            "source": "ndimage.median(a, labels=labels, index=np.arange(1, labels_nb + 1))",
            "outputs": [
                {
                    "output_type": "execute_result",
                    "metadata": {},
                    "data": {
                        "text/plain": "[2.5, 4.0, 6.0]"
                    },
                    "execution_count": null
                }
            ]
        },
        {
            "id": "fc570faf",
            "cell_type": "code",
            "metadata": {},
            "execution_count": null,
            "source": "ndimage.median(a)",
            "outputs": [
                {
                    "output_type": "execute_result",
                    "metadata": {},
                    "data": {
                        "text/plain": "1.0"
                    },
                    "execution_count": null
                }
            ]
        },
        {
            "id": "663763ad",
            "cell_type": "code",
            "metadata": {},
            "execution_count": null,
            "source": "ndimage.median(a, labels=labels)",
            "outputs": [
                {
                    "output_type": "execute_result",
                    "metadata": {},
                    "data": {
                        "text/plain": "3.0"
                    },
                    "execution_count": null
                }
            ]
        }
    ]
}