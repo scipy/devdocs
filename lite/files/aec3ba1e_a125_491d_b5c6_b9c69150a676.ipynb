{
    "nbformat": 4,
    "nbformat_minor": 5,
    "metadata": {
        "kernelspec": {
            "display_name": "Python",
            "language": "python",
            "name": "python"
        },
        "language_info": {
            "name": "python"
        }
    },
    "cells": [
        {
            "id": "c5bd687e",
            "cell_type": "markdown",
            "source": "<div class='alert alert-warning'>\n\nSciPy's interactive examples with Jupyterlite are experimental and may not always work as expected. Execution of cells containing imports may result in large downloads (up to 60MB of content for the first import from SciPy). Load times when importing from SciPy may take roughly 10-20 seconds. If you notice any problems, feel free to open an [issue](https://github.com/scipy/scipy/issues/new/choose).\n\n</div>",
            "metadata": {}
        },
        {
            "id": "86ff1139",
            "cell_type": "code",
            "metadata": {},
            "execution_count": null,
            "source": "import numpy as np\nfrom scipy import linalg\nrng = np.random.default_rng()",
            "outputs": []
        },
        {
            "id": "6b242f8f",
            "cell_type": "code",
            "metadata": {},
            "execution_count": null,
            "source": "A = rng.standard_normal((3, 3))\nE = rng.standard_normal((3, 3))\nexpm_A, expm_frechet_AE = linalg.expm_frechet(A, E)\nexpm_A.shape, expm_frechet_AE.shape",
            "outputs": [
                {
                    "output_type": "execute_result",
                    "metadata": {},
                    "data": {
                        "text/plain": "((3, 3), (3, 3))"
                    },
                    "execution_count": null
                }
            ]
        },
        {
            "id": "7c732dc0",
            "cell_type": "markdown",
            "source": "Create a 6x6 matrix containing [[A, E], [0, A]]:\n",
            "metadata": {}
        },
        {
            "id": "1f96f446",
            "cell_type": "code",
            "metadata": {},
            "execution_count": null,
            "source": "M = np.zeros((6, 6))\nM[:3, :3] = A\nM[:3, 3:] = E\nM[3:, 3:] = A",
            "outputs": []
        },
        {
            "id": "50370613",
            "cell_type": "code",
            "metadata": {},
            "execution_count": null,
            "source": "expm_M = linalg.expm(M)\nnp.allclose(expm_A, expm_M[:3, :3])",
            "outputs": [
                {
                    "output_type": "execute_result",
                    "metadata": {},
                    "data": {
                        "text/plain": "True"
                    },
                    "execution_count": null
                }
            ]
        },
        {
            "id": "c97f8082",
            "cell_type": "code",
            "metadata": {},
            "execution_count": null,
            "source": "np.allclose(expm_frechet_AE, expm_M[:3, 3:])",
            "outputs": [
                {
                    "output_type": "execute_result",
                    "metadata": {},
                    "data": {
                        "text/plain": "True"
                    },
                    "execution_count": null
                }
            ]
        }
    ]
}