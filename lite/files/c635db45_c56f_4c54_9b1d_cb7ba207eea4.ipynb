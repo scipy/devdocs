{
    "nbformat": 4,
    "nbformat_minor": 5,
    "metadata": {
        "kernelspec": {
            "display_name": "Python",
            "language": "python",
            "name": "python"
        },
        "language_info": {
            "name": "python"
        }
    },
    "cells": [
        {
            "id": "89e83c1b",
            "cell_type": "markdown",
            "source": "<div class='alert alert-warning'>\n\nSciPy's interactive examples with Jupyterlite are experimental and may not always work as expected. Execution of cells containing imports may result in large downloads (up to 60MB of content for the first import from SciPy). Load times when importing from SciPy may take roughly 10-20 seconds. If you notice any problems, feel free to open an [issue](https://github.com/scipy/scipy/issues/new/choose).\n\n</div>",
            "metadata": {}
        },
        {
            "id": "39f83b92",
            "cell_type": "code",
            "metadata": {},
            "execution_count": null,
            "source": "from scipy import ndimage\nimport numpy as np\na = np.zeros((5, 5))\na[2, 2] = 1\na",
            "outputs": [
                {
                    "output_type": "execute_result",
                    "metadata": {},
                    "data": {
                        "text/plain": "array([[ 0.,  0.,  0.,  0.,  0.],\n       [ 0.,  0.,  0.,  0.,  0.],\n       [ 0.,  0.,  1.,  0.,  0.],\n       [ 0.,  0.,  0.,  0.,  0.],\n       [ 0.,  0.,  0.,  0.,  0.]])"
                    },
                    "execution_count": null
                }
            ]
        },
        {
            "id": "f90cf318",
            "cell_type": "code",
            "metadata": {},
            "execution_count": null,
            "source": "ndimage.binary_dilation(a)",
            "outputs": [
                {
                    "output_type": "execute_result",
                    "metadata": {},
                    "data": {
                        "text/plain": "array([[False, False, False, False, False],\n       [False, False,  True, False, False],\n       [False,  True,  True,  True, False],\n       [False, False,  True, False, False],\n       [False, False, False, False, False]], dtype=bool)"
                    },
                    "execution_count": null
                }
            ]
        },
        {
            "id": "137bb60e",
            "cell_type": "code",
            "metadata": {},
            "execution_count": null,
            "source": "ndimage.binary_dilation(a).astype(a.dtype)",
            "outputs": [
                {
                    "output_type": "execute_result",
                    "metadata": {},
                    "data": {
                        "text/plain": "array([[ 0.,  0.,  0.,  0.,  0.],\n       [ 0.,  0.,  1.,  0.,  0.],\n       [ 0.,  1.,  1.,  1.,  0.],\n       [ 0.,  0.,  1.,  0.,  0.],\n       [ 0.,  0.,  0.,  0.,  0.]])"
                    },
                    "execution_count": null
                }
            ]
        },
        {
            "id": "7d63d398",
            "cell_type": "code",
            "metadata": {},
            "execution_count": null,
            "source": "# 3x3 structuring element with connectivity 1, used by default\nstruct1 = ndimage.generate_binary_structure(2, 1)\nstruct1",
            "outputs": [
                {
                    "output_type": "execute_result",
                    "metadata": {},
                    "data": {
                        "text/plain": "array([[False,  True, False],\n       [ True,  True,  True],\n       [False,  True, False]], dtype=bool)"
                    },
                    "execution_count": null
                }
            ]
        },
        {
            "id": "f30dab5a",
            "cell_type": "code",
            "metadata": {},
            "execution_count": null,
            "source": "# 3x3 structuring element with connectivity 2\nstruct2 = ndimage.generate_binary_structure(2, 2)\nstruct2",
            "outputs": [
                {
                    "output_type": "execute_result",
                    "metadata": {},
                    "data": {
                        "text/plain": "array([[ True,  True,  True],\n       [ True,  True,  True],\n       [ True,  True,  True]], dtype=bool)"
                    },
                    "execution_count": null
                }
            ]
        },
        {
            "id": "35bfa62f",
            "cell_type": "code",
            "metadata": {},
            "execution_count": null,
            "source": "ndimage.binary_dilation(a, structure=struct1).astype(a.dtype)",
            "outputs": [
                {
                    "output_type": "execute_result",
                    "metadata": {},
                    "data": {
                        "text/plain": "array([[ 0.,  0.,  0.,  0.,  0.],\n       [ 0.,  0.,  1.,  0.,  0.],\n       [ 0.,  1.,  1.,  1.,  0.],\n       [ 0.,  0.,  1.,  0.,  0.],\n       [ 0.,  0.,  0.,  0.,  0.]])"
                    },
                    "execution_count": null
                }
            ]
        },
        {
            "id": "47061131",
            "cell_type": "code",
            "metadata": {},
            "execution_count": null,
            "source": "ndimage.binary_dilation(a, structure=struct2).astype(a.dtype)",
            "outputs": [
                {
                    "output_type": "execute_result",
                    "metadata": {},
                    "data": {
                        "text/plain": "array([[ 0.,  0.,  0.,  0.,  0.],\n       [ 0.,  1.,  1.,  1.,  0.],\n       [ 0.,  1.,  1.,  1.,  0.],\n       [ 0.,  1.,  1.,  1.,  0.],\n       [ 0.,  0.,  0.,  0.,  0.]])"
                    },
                    "execution_count": null
                }
            ]
        },
        {
            "id": "b2fd1d72",
            "cell_type": "code",
            "metadata": {},
            "execution_count": null,
            "source": "ndimage.binary_dilation(a, structure=struct1,\\\niterations=2).astype(a.dtype)",
            "outputs": [
                {
                    "output_type": "execute_result",
                    "metadata": {},
                    "data": {
                        "text/plain": "array([[ 0.,  0.,  1.,  0.,  0.],\n       [ 0.,  1.,  1.,  1.,  0.],\n       [ 1.,  1.,  1.,  1.,  1.],\n       [ 0.,  1.,  1.,  1.,  0.],\n       [ 0.,  0.,  1.,  0.,  0.]])"
                    },
                    "execution_count": null
                }
            ]
        }
    ]
}