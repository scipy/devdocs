{
    "nbformat": 4,
    "nbformat_minor": 5,
    "metadata": {
        "kernelspec": {
            "display_name": "Python",
            "language": "python",
            "name": "python"
        },
        "language_info": {
            "name": "python"
        }
    },
    "cells": [
        {
            "id": "dd31c085",
            "cell_type": "markdown",
            "source": "<div class='alert alert-warning'>\n\nSciPy's interactive examples with Jupyterlite are experimental and may not always work as expected. Execution of cells containing imports may result in large downloads (up to 60MB of content for the first import from SciPy). Load times when importing from SciPy may take roughly 10-20 seconds. If you notice any problems, feel free to open an [issue](https://github.com/scipy/scipy/issues/new/choose).\n\n</div>",
            "metadata": {}
        },
        {
            "id": "f7f39121",
            "cell_type": "code",
            "metadata": {},
            "execution_count": null,
            "source": "import numpy as np\nimport scipy.special as sc",
            "outputs": []
        },
        {
            "id": "5342cf5e",
            "cell_type": "markdown",
            "source": "It is a cumulative distribution function, so it converges to 1\nmonotonically as `k` goes to infinity.\n",
            "metadata": {}
        },
        {
            "id": "cbb5ffd7",
            "cell_type": "code",
            "metadata": {},
            "execution_count": null,
            "source": "sc.pdtr([1, 10, 100, np.inf], 1)",
            "outputs": [
                {
                    "output_type": "execute_result",
                    "metadata": {},
                    "data": {
                        "text/plain": "array([0.73575888, 0.99999999, 1.        , 1.        ])"
                    },
                    "execution_count": null
                }
            ]
        },
        {
            "id": "90e8b5a8",
            "cell_type": "markdown",
            "source": "It is discontinuous at integers and constant between integers.\n",
            "metadata": {}
        },
        {
            "id": "d85328d6",
            "cell_type": "code",
            "metadata": {},
            "execution_count": null,
            "source": "sc.pdtr([1, 1.5, 1.9, 2], 1)",
            "outputs": [
                {
                    "output_type": "execute_result",
                    "metadata": {},
                    "data": {
                        "text/plain": "array([0.73575888, 0.73575888, 0.73575888, 0.9196986 ])"
                    },
                    "execution_count": null
                }
            ]
        }
    ]
}