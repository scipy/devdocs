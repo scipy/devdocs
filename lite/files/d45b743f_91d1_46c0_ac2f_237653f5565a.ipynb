{
    "nbformat": 4,
    "nbformat_minor": 5,
    "metadata": {
        "kernelspec": {
            "display_name": "Python",
            "language": "python",
            "name": "python"
        },
        "language_info": {
            "name": "python"
        }
    },
    "cells": [
        {
            "id": "7eefd33d",
            "cell_type": "markdown",
            "source": "<div class='alert alert-warning'>\n\nSciPy's interactive examples with Jupyterlite are experimental and may not always work as expected. Execution of cells containing imports may result in large downloads (up to 60MB of content for the first import from SciPy). Load times when importing from SciPy may take roughly 10-20 seconds. If you notice any problems, feel free to open an [issue](https://github.com/scipy/scipy/issues/new/choose).\n\n</div>",
            "metadata": {}
        },
        {
            "id": "fae15d7d",
            "cell_type": "code",
            "metadata": {},
            "execution_count": null,
            "source": "import numpy as np\nfrom scipy import linalg\na = np.array([[1., 2.], [3., 4.]])\nlinalg.inv(a)",
            "outputs": [
                {
                    "output_type": "execute_result",
                    "metadata": {},
                    "data": {
                        "text/plain": "array([[-2. ,  1. ],\n       [ 1.5, -0.5]])"
                    },
                    "execution_count": null
                }
            ]
        },
        {
            "id": "dbf8cbef",
            "cell_type": "code",
            "metadata": {},
            "execution_count": null,
            "source": "np.dot(a, linalg.inv(a))",
            "outputs": [
                {
                    "output_type": "execute_result",
                    "metadata": {},
                    "data": {
                        "text/plain": "array([[ 1.,  0.],\n       [ 0.,  1.]])"
                    },
                    "execution_count": null
                }
            ]
        }
    ]
}