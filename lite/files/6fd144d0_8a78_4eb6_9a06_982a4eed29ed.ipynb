{
    "nbformat": 4,
    "nbformat_minor": 5,
    "metadata": {
        "kernelspec": {
            "display_name": "Python",
            "language": "python",
            "name": "python"
        },
        "language_info": {
            "name": "python"
        }
    },
    "cells": [
        {
            "id": "31e4d461",
            "cell_type": "markdown",
            "source": "<div class='alert alert-warning'>\n\nSciPy's interactive examples with Jupyterlite are experimental and may not always work as expected. Execution of cells containing imports may result in large downloads (up to 60MB of content for the first import from SciPy). Load times when importing from SciPy may take roughly 10-20 seconds. If you notice any problems, feel free to open an [issue](https://github.com/scipy/scipy/issues/new/choose).\n\n</div>",
            "metadata": {}
        },
        {
            "id": "0e5d4b24",
            "cell_type": "markdown",
            "source": "It can be expressed using Bessel functions.\n",
            "metadata": {}
        },
        {
            "id": "7f11d504",
            "cell_type": "code",
            "metadata": {},
            "execution_count": null,
            "source": "import numpy as np\nimport scipy.special as sc\nx = np.array([1.0, 2.0, 3.0, 4.0])\nsc.jv(0, x * np.exp(3 * np.pi * 1j / 4)).real",
            "outputs": [
                {
                    "output_type": "execute_result",
                    "metadata": {},
                    "data": {
                        "text/plain": "array([ 0.98438178,  0.75173418, -0.22138025, -2.56341656])"
                    },
                    "execution_count": null
                }
            ]
        },
        {
            "id": "759d53cb",
            "cell_type": "code",
            "metadata": {},
            "execution_count": null,
            "source": "sc.ber(x)",
            "outputs": [
                {
                    "output_type": "execute_result",
                    "metadata": {},
                    "data": {
                        "text/plain": "array([ 0.98438178,  0.75173418, -0.22138025, -2.56341656])"
                    },
                    "execution_count": null
                }
            ]
        }
    ]
}