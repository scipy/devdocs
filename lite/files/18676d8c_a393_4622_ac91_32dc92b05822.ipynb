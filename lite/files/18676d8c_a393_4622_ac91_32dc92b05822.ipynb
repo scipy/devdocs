{
    "nbformat": 4,
    "nbformat_minor": 5,
    "metadata": {
        "kernelspec": {
            "display_name": "Python",
            "language": "python",
            "name": "python"
        },
        "language_info": {
            "name": "python"
        }
    },
    "cells": [
        {
            "id": "0c57bff6",
            "cell_type": "markdown",
            "source": "<div class='alert alert-warning'>\n\nSciPy's interactive examples with Jupyterlite are experimental and may not always work as expected. Execution of cells containing imports may result in large downloads (up to 60MB of content for the first import from SciPy). Load times when importing from SciPy may take roughly 10-20 seconds. If you notice any problems, feel free to open an [issue](https://github.com/scipy/scipy/issues/new/choose).\n\n</div>",
            "metadata": {}
        },
        {
            "id": "b9638716",
            "cell_type": "code",
            "metadata": {},
            "execution_count": null,
            "source": "import numpy as np\nfrom scipy.signal import savgol_filter\nnp.set_printoptions(precision=2)  # For compact display.\nx = np.array([2, 2, 5, 2, 1, 0, 1, 4, 9])",
            "outputs": []
        },
        {
            "id": "044a3e64",
            "cell_type": "markdown",
            "source": "Filter with a window length of 5 and a degree 2 polynomial.  Use\nthe defaults for all other parameters.\n",
            "metadata": {}
        },
        {
            "id": "d300448f",
            "cell_type": "code",
            "metadata": {},
            "execution_count": null,
            "source": "savgol_filter(x, 5, 2)",
            "outputs": [
                {
                    "output_type": "execute_result",
                    "metadata": {},
                    "data": {
                        "text/plain": "array([1.66, 3.17, 3.54, 2.86, 0.66, 0.17, 1.  , 4.  , 9.  ])"
                    },
                    "execution_count": null
                }
            ]
        },
        {
            "id": "0a196b5b",
            "cell_type": "markdown",
            "source": "Note that the last five values in x are samples of a parabola, so\nwhen mode='interp' (the default) is used with polyorder=2, the last\nthree values are unchanged. Compare that to, for example,\n`mode='nearest'`:\n",
            "metadata": {}
        },
        {
            "id": "ac6acefd",
            "cell_type": "code",
            "metadata": {},
            "execution_count": null,
            "source": "savgol_filter(x, 5, 2, mode='nearest')",
            "outputs": [
                {
                    "output_type": "execute_result",
                    "metadata": {},
                    "data": {
                        "text/plain": "array([1.74, 3.03, 3.54, 2.86, 0.66, 0.17, 1.  , 4.6 , 7.97])"
                    },
                    "execution_count": null
                }
            ]
        }
    ]
}