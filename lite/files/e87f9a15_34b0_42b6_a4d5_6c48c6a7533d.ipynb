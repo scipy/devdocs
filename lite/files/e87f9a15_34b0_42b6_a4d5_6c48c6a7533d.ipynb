{
    "nbformat": 4,
    "nbformat_minor": 5,
    "metadata": {
        "kernelspec": {
            "display_name": "Python",
            "language": "python",
            "name": "python"
        },
        "language_info": {
            "name": "python"
        }
    },
    "cells": [
        {
            "id": "4ab5fe97",
            "cell_type": "markdown",
            "source": "<div class='alert alert-warning'>\n\nSciPy's interactive examples with Jupyterlite are experimental and may not always work as expected. Execution of cells containing imports may result in large downloads (up to 60MB of content for the first import from SciPy). Load times when importing from SciPy may take roughly 10-20 seconds. If you notice any problems, feel free to open an [issue](https://github.com/scipy/scipy/issues/new/choose).\n\n</div>",
            "metadata": {}
        },
        {
            "id": "d03a3aef",
            "cell_type": "code",
            "metadata": {},
            "execution_count": null,
            "source": "import numpy as np\nfrom scipy.signal import argrelextrema\nx = np.array([2, 1, 2, 3, 2, 0, 1, 0])\nargrelextrema(x, np.greater)",
            "outputs": [
                {
                    "output_type": "execute_result",
                    "metadata": {},
                    "data": {
                        "text/plain": "(array([3, 6]),)"
                    },
                    "execution_count": null
                }
            ]
        },
        {
            "id": "f0afc60b",
            "cell_type": "code",
            "metadata": {},
            "execution_count": null,
            "source": "y = np.array([[1, 2, 1, 2],\n              [2, 2, 0, 0],\n              [5, 3, 4, 4]])\n\nargrelextrema(y, np.less, axis=1)",
            "outputs": [
                {
                    "output_type": "execute_result",
                    "metadata": {},
                    "data": {
                        "text/plain": "(array([0, 2]), array([2, 1]))"
                    },
                    "execution_count": null
                }
            ]
        }
    ]
}