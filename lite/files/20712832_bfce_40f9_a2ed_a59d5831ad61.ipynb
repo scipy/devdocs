{
    "nbformat": 4,
    "nbformat_minor": 5,
    "metadata": {
        "kernelspec": {
            "display_name": "Python",
            "language": "python",
            "name": "python"
        },
        "language_info": {
            "name": "python"
        }
    },
    "cells": [
        {
            "id": "b51e9ec4",
            "cell_type": "markdown",
            "source": "<div class='alert alert-warning'>\n\nSciPy's interactive examples with Jupyterlite are experimental and may not always work as expected. Execution of cells containing imports may result in large downloads (up to 60MB of content for the first import from SciPy). Load times when importing from SciPy may take roughly 10-20 seconds. If you notice any problems, feel free to open an [issue](https://github.com/scipy/scipy/issues/new/choose).\n\n</div>",
            "metadata": {}
        },
        {
            "id": "d1c0d160",
            "cell_type": "code",
            "metadata": {},
            "execution_count": null,
            "source": "from scipy.stats import CensoredData",
            "outputs": []
        },
        {
            "id": "b1f302e7",
            "cell_type": "markdown",
            "source": "Two uncensored values (4 and 10) and two right-censored values\n(24 and 25).\n",
            "metadata": {}
        },
        {
            "id": "6c92ad3d",
            "cell_type": "code",
            "metadata": {},
            "execution_count": null,
            "source": "data = CensoredData.right_censored([4, 10, 24, 25],\n                                   [False, False, True, True])\ndata",
            "outputs": [
                {
                    "output_type": "execute_result",
                    "metadata": {},
                    "data": {
                        "text/plain": "CensoredData(uncensored=array([ 4., 10.]),\nleft=array([], dtype=float64), right=array([24., 25.]),\ninterval=array([], shape=(0, 2), dtype=float64))"
                    },
                    "execution_count": null
                }
            ]
        },
        {
            "id": "06b02505",
            "cell_type": "code",
            "metadata": {},
            "execution_count": null,
            "source": "print(data)",
            "outputs": [
                {
                    "output_type": "execute_result",
                    "metadata": {},
                    "data": {
                        "text/plain": "CensoredData(4 values: 2 not censored, 2 right-censored)"
                    },
                    "execution_count": null
                }
            ]
        }
    ]
}