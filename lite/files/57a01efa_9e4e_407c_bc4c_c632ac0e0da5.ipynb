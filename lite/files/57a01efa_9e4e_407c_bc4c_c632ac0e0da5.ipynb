{
    "nbformat": 4,
    "nbformat_minor": 5,
    "metadata": {
        "kernelspec": {
            "display_name": "Python",
            "language": "python",
            "name": "python"
        },
        "language_info": {
            "name": "python"
        }
    },
    "cells": [
        {
            "id": "8735b616",
            "cell_type": "markdown",
            "source": "<div class='alert alert-warning'>\n\nSciPy's interactive examples with Jupyterlite are experimental and may not always work as expected. Execution of cells containing imports may result in large downloads (up to 60MB of content for the first import from SciPy). Load times when importing from SciPy may take roughly 10-20 seconds. If you notice any problems, feel free to open an [issue](https://github.com/scipy/scipy/issues/new/choose).\n\n</div>",
            "metadata": {}
        },
        {
            "id": "1731ef7c",
            "cell_type": "code",
            "metadata": {},
            "execution_count": null,
            "source": "import numpy as np\nfrom scipy.stats import lognorm\nimport matplotlib.pyplot as plt\nfig, ax = plt.subplots(1, 1)",
            "outputs": []
        },
        {
            "id": "0c096e5b",
            "cell_type": "markdown",
            "source": "Calculate the first four moments:\n",
            "metadata": {}
        },
        {
            "id": "01073572",
            "cell_type": "code",
            "metadata": {},
            "execution_count": null,
            "source": "s = 0.954\nmean, var, skew, kurt = lognorm.stats(s, moments='mvsk')",
            "outputs": []
        },
        {
            "id": "64a2a068",
            "cell_type": "markdown",
            "source": "Display the probability density function (``pdf``):\n",
            "metadata": {}
        },
        {
            "id": "a8f80ffb",
            "cell_type": "code",
            "metadata": {},
            "execution_count": null,
            "source": "x = np.linspace(lognorm.ppf(0.01, s),\n                lognorm.ppf(0.99, s), 100)\nax.plot(x, lognorm.pdf(x, s),\n       'r-', lw=5, alpha=0.6, label='lognorm pdf')",
            "outputs": []
        },
        {
            "id": "f6a9e7ef",
            "cell_type": "markdown",
            "source": "Alternatively, the distribution object can be called (as a function)\nto fix the shape, location and scale parameters. This returns a \"frozen\"\nRV object holding the given parameters fixed.\n\nFreeze the distribution and display the frozen ``pdf``:\n",
            "metadata": {}
        },
        {
            "id": "a0332d50",
            "cell_type": "code",
            "metadata": {},
            "execution_count": null,
            "source": "rv = lognorm(s)\nax.plot(x, rv.pdf(x), 'k-', lw=2, label='frozen pdf')",
            "outputs": []
        },
        {
            "id": "9a2368c1",
            "cell_type": "markdown",
            "source": "Check accuracy of ``cdf`` and ``ppf``:\n",
            "metadata": {}
        },
        {
            "id": "dffa6d10",
            "cell_type": "code",
            "metadata": {},
            "execution_count": null,
            "source": "vals = lognorm.ppf([0.001, 0.5, 0.999], s)\nnp.allclose([0.001, 0.5, 0.999], lognorm.cdf(vals, s))",
            "outputs": [
                {
                    "output_type": "execute_result",
                    "metadata": {},
                    "data": {
                        "text/plain": "True"
                    },
                    "execution_count": null
                }
            ]
        },
        {
            "id": "983c5af6",
            "cell_type": "markdown",
            "source": "Generate random numbers:\n",
            "metadata": {}
        },
        {
            "id": "dc753212",
            "cell_type": "code",
            "metadata": {},
            "execution_count": null,
            "source": "r = lognorm.rvs(s, size=1000)",
            "outputs": []
        },
        {
            "id": "7a814e8a",
            "cell_type": "markdown",
            "source": "And compare the histogram:\n",
            "metadata": {}
        },
        {
            "id": "7b568edb",
            "cell_type": "code",
            "metadata": {},
            "execution_count": null,
            "source": "ax.hist(r, density=True, bins='auto', histtype='stepfilled', alpha=0.2)\nax.set_xlim([x[0], x[-1]])\nax.legend(loc='best', frameon=False)\nplt.show()",
            "outputs": []
        },
        {
            "id": "38ba6588",
            "cell_type": "markdown",
            "source": "The logarithm of a log-normally distributed random variable is\nnormally distributed:\n",
            "metadata": {}
        },
        {
            "id": "40c7032b",
            "cell_type": "code",
            "metadata": {},
            "execution_count": null,
            "source": "import numpy as np\nimport matplotlib.pyplot as plt\nfrom scipy import stats\nfig, ax = plt.subplots(1, 1)\nmu, sigma = 2, 0.5\nX = stats.norm(loc=mu, scale=sigma)\nY = stats.lognorm(s=sigma, scale=np.exp(mu))\nx = np.linspace(*X.interval(0.999))\ny = Y.rvs(size=10000)\nax.plot(x, X.pdf(x), label='X (pdf)')\nax.hist(np.log(y), density=True, bins=x, label='log(Y) (histogram)')\nax.legend()\nplt.show()",
            "outputs": []
        }
    ]
}