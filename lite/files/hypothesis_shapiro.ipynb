{
 "cells": [
  {
   "cell_type": "markdown",
   "id": "e7a5c3bd",
   "metadata": {},
   "source": [
    "```{eval-rst}\n",
    ".. jupyterlite:: ../../_contents/hypothesis_shapiro.ipynb\n",
    "   :new_tab: True\n",
    "```\n",
    "\n",
    "(hypothesis_shapiro)=\n",
    "# Shapiro-Wilk test for normality\n",
    "\n",
    "Suppose we wish to infer from measurements whether the weights of adult human\n",
    "males in a medical study are not normally distributed [^1]. The weights (lbs)\n",
    "are recorded in the array `x` below."
   ]
  },
  {
   "cell_type": "code",
   "execution_count": null,
   "id": "62a65500",
   "metadata": {},
   "outputs": [],
   "source": [
    "import numpy as np\n",
    "x = np.array([148, 154, 158, 160, 161, 162, 166, 170, 182, 195, 236])"
   ]
  },
  {
   "cell_type": "markdown",
   "id": "81240151",
   "metadata": {},
   "source": [
    "The normality test {func}`scipy.stats.shapiro` of [^1] and [^2] begins by\n",
    "computing a statistic based on the relationship between the observations and the\n",
    "expected order statistics of a normal distribution."
   ]
  },
  {
   "cell_type": "code",
   "execution_count": null,
   "id": "15e345b3",
   "metadata": {},
   "outputs": [],
   "source": [
    "from scipy import stats\n",
    "res = stats.shapiro(x)\n",
    "res.statistic"
   ]
  },
  {
   "cell_type": "markdown",
   "id": "04e56607",
   "metadata": {},
   "source": [
    "The value of this statistic tends to be high (close to 1) for samples drawn from\n",
    "a normal distribution.\n",
    "\n",
    "The test is performed by comparing the observed value of the statistic against\n",
    "the null distribution: the distribution of statistic values formed under the\n",
    "null hypothesis that the weights were drawn from a normal distribution. For this\n",
    "normality test, the null distribution is not easy to calculate exactly, so it is\n",
    "usually approximated by Monte Carlo methods, that is, drawing many samples of\n",
    "the same size as `x` from a normal distribution and computing the values of the\n",
    "statistic for each."
   ]
  },
  {
   "cell_type": "code",
   "execution_count": null,
   "id": "2d0ffc5f",
   "metadata": {},
   "outputs": [],
   "source": [
    "def statistic(x):\n",
    "    # Get only the `shapiro` statistic; ignore its p-value\n",
    "    return stats.shapiro(x).statistic\n",
    "ref = stats.monte_carlo_test(x, stats.norm.rvs, statistic,\n",
    "                             alternative='less')\n",
    "import matplotlib.pyplot as plt\n",
    "fig, ax = plt.subplots(figsize=(8, 5))\n",
    "bins = np.linspace(0.65, 1, 50)\n",
    "\n",
    "def plot(ax):  # we'll reuse this\n",
    "    ax.hist(ref.null_distribution, density=True, bins=bins)\n",
    "    ax.set_title(\"Shapiro-Wilk Test Null Distribution \\n\"\n",
    "                 \"(Monte Carlo Approximation, 11 Observations)\")\n",
    "    ax.set_xlabel(\"statistic\")\n",
    "    ax.set_ylabel(\"probability density\")\n",
    "\n",
    "plot(ax)\n",
    "plt.show()"
   ]
  },
  {
   "cell_type": "markdown",
   "id": "7b02b364",
   "metadata": {},
   "source": [
    "The comparison is quantified by the p-value: the proportion of values in the\n",
    "null distribution less than or equal to the observed value of the statistic."
   ]
  },
  {
   "cell_type": "code",
   "execution_count": null,
   "id": "de422aa8",
   "metadata": {},
   "outputs": [],
   "source": [
    "fig, ax = plt.subplots(figsize=(8, 5))\n",
    "plot(ax)\n",
    "annotation = (f'p-value={res.pvalue:.6f}\\n(highlighted area)')\n",
    "props = dict(facecolor='black', width=1, headwidth=5, headlength=8)\n",
    "_ = ax.annotate(annotation, (0.75, 0.1), (0.68, 0.7), arrowprops=props)\n",
    "i_extreme = np.where(bins <= res.statistic)[0]\n",
    "for i in i_extreme:\n",
    "    ax.patches[i].set_color('C1')\n",
    "plt.xlim(0.65, 0.9)\n",
    "plt.ylim(0, 4)\n",
    "plt.show()"
   ]
  },
  {
   "cell_type": "code",
   "execution_count": null,
   "id": "93289f1e",
   "metadata": {},
   "outputs": [],
   "source": [
    "res.pvalue"
   ]
  },
  {
   "cell_type": "markdown",
   "id": "b87a3ab8",
   "metadata": {},
   "source": [
    "If the p-value is \"small\" - that is, if there is a low probability of sampling\n",
    "data from a normally distributed population that produces such an extreme value\n",
    "of the statistic - this may be taken as evidence against the null hypothesis in\n",
    "favor of the alternative: the weights were not drawn from a normal distribution.\n",
    "Note that:\n",
    "\n",
    "- The inverse is not true; that is, the test is not used to provide\n",
    "  evidence *for* the null hypothesis.\n",
    "- The threshold for values that will be considered \"small\" is a choice that\n",
    "  should be made before the data is analyzed [^3] with consideration of the\n",
    "  risks of both false positives (incorrectly rejecting the null hypothesis)\n",
    "  and false negatives (failure to reject a false null hypothesis).\n",
    "\n",
    "## References\n",
    "\n",
    "[^1]: Shapiro, S. S. & Wilk, M.B (1965). An analysis of variance test for\n",
    "normality (complete samples). Biometrika, Vol. 52, pp. 591-611.\n",
    "{doi}`10.2307/2333709`\n",
    "[^2]: https://www.itl.nist.gov/div898/handbook/prc/section2/prc213.htm\n",
    "{doi}`10.18434/M32189`\n",
    "[^3]: Phipson B., and Smyth, G. K. (2010). Permutation P-values Should Never Be\n",
    "Zero: Calculating Exact P-values When Permutations Are Randomly Drawn.\n",
    "Statistical Applications in Genetics and Molecular Biology, Vol.9.\n",
    "{doi}`10.2202/1544-6115.1585`"
   ]
  }
 ],
 "metadata": {
  "kernelspec": {
   "display_name": "Python 3 (ipykernel)",
   "language": "python",
   "name": "python3"
  }
 },
 "nbformat": 4,
 "nbformat_minor": 5
}
