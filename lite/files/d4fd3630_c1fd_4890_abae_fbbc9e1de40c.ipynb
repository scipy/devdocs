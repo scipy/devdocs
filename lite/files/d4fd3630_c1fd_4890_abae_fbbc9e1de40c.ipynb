{
    "nbformat": 4,
    "nbformat_minor": 5,
    "metadata": {
        "kernelspec": {
            "display_name": "Python",
            "language": "python",
            "name": "python"
        },
        "language_info": {
            "name": "python"
        }
    },
    "cells": [
        {
            "id": "d21738ab",
            "cell_type": "markdown",
            "source": "<div class='alert alert-warning'>\n\nSciPy's interactive examples with Jupyterlite are experimental and may not always work as expected. Execution of cells containing imports may result in large downloads (up to 60MB of content for the first import from SciPy). Load times when importing from SciPy may take roughly 10-20 seconds. If you notice any problems, feel free to open an [issue](https://github.com/scipy/scipy/issues/new/choose).\n\n</div>",
            "metadata": {}
        },
        {
            "id": "2a8e400b",
            "cell_type": "code",
            "metadata": {},
            "execution_count": null,
            "source": "from scipy import signal",
            "outputs": []
        },
        {
            "id": "9949aabe",
            "cell_type": "code",
            "metadata": {},
            "execution_count": null,
            "source": "signal.lti(1, 2, 3, 4)",
            "outputs": [
                {
                    "output_type": "execute_result",
                    "metadata": {},
                    "data": {
                        "text/plain": "StateSpaceContinuous(\narray([[1]]),\narray([[2]]),\narray([[3]]),\narray([[4]]),\ndt: None\n)"
                    },
                    "execution_count": null
                }
            ]
        },
        {
            "id": "a82fe5c0",
            "cell_type": "markdown",
            "source": "Construct the transfer function\n$H(s) = \\frac{5(s - 1)(s - 2)}{(s - 3)(s - 4)}$:\n",
            "metadata": {}
        },
        {
            "id": "9b018b03",
            "cell_type": "code",
            "metadata": {},
            "execution_count": null,
            "source": "signal.lti([1, 2], [3, 4], 5)",
            "outputs": [
                {
                    "output_type": "execute_result",
                    "metadata": {},
                    "data": {
                        "text/plain": "ZerosPolesGainContinuous(\narray([1, 2]),\narray([3, 4]),\n5,\ndt: None\n)"
                    },
                    "execution_count": null
                }
            ]
        },
        {
            "id": "ac744ca3",
            "cell_type": "markdown",
            "source": "Construct the transfer function $H(s) = \\frac{3s + 4}{1s + 2}$:\n",
            "metadata": {}
        },
        {
            "id": "febd5b7a",
            "cell_type": "code",
            "metadata": {},
            "execution_count": null,
            "source": "signal.lti([3, 4], [1, 2])",
            "outputs": [
                {
                    "output_type": "execute_result",
                    "metadata": {},
                    "data": {
                        "text/plain": "TransferFunctionContinuous(\narray([3., 4.]),\narray([1., 2.]),\ndt: None\n)"
                    },
                    "execution_count": null
                }
            ]
        }
    ]
}