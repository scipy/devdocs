{
    "nbformat": 4,
    "nbformat_minor": 5,
    "metadata": {
        "kernelspec": {
            "display_name": "Python",
            "language": "python",
            "name": "python"
        },
        "language_info": {
            "name": "python"
        }
    },
    "cells": [
        {
            "id": "c6303605",
            "cell_type": "markdown",
            "source": "<div class='alert alert-warning'>\n\nSciPy's interactive examples with Jupyterlite are experimental and may not always work as expected. Execution of cells containing imports may result in large downloads (up to 60MB of content for the first import from SciPy). Load times when importing from SciPy may take roughly 10-20 seconds. If you notice any problems, feel free to open an [issue](https://github.com/scipy/scipy/issues/new/choose).\n\n</div>",
            "metadata": {}
        },
        {
            "id": "e105d9c1",
            "cell_type": "code",
            "metadata": {},
            "execution_count": null,
            "source": "from scipy import special\na, ap, ai, aip = special.ai_zeros(3)\na",
            "outputs": [
                {
                    "output_type": "execute_result",
                    "metadata": {},
                    "data": {
                        "text/plain": "array([-2.33810741, -4.08794944, -5.52055983])"
                    },
                    "execution_count": null
                }
            ]
        },
        {
            "id": "20bcec97",
            "cell_type": "code",
            "metadata": {},
            "execution_count": null,
            "source": "ap",
            "outputs": [
                {
                    "output_type": "execute_result",
                    "metadata": {},
                    "data": {
                        "text/plain": "array([-1.01879297, -3.24819758, -4.82009921])"
                    },
                    "execution_count": null
                }
            ]
        },
        {
            "id": "c45970bd",
            "cell_type": "code",
            "metadata": {},
            "execution_count": null,
            "source": "ai",
            "outputs": [
                {
                    "output_type": "execute_result",
                    "metadata": {},
                    "data": {
                        "text/plain": "array([ 0.53565666, -0.41901548,  0.38040647])"
                    },
                    "execution_count": null
                }
            ]
        },
        {
            "id": "b383871e",
            "cell_type": "code",
            "metadata": {},
            "execution_count": null,
            "source": "aip",
            "outputs": [
                {
                    "output_type": "execute_result",
                    "metadata": {},
                    "data": {
                        "text/plain": "array([ 0.70121082, -0.80311137,  0.86520403])"
                    },
                    "execution_count": null
                }
            ]
        }
    ]
}