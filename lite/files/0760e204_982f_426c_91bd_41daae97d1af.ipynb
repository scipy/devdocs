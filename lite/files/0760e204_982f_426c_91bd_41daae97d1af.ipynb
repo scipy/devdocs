{
    "nbformat": 4,
    "nbformat_minor": 5,
    "metadata": {
        "kernelspec": {
            "display_name": "Python",
            "language": "python",
            "name": "python"
        },
        "language_info": {
            "name": "python"
        }
    },
    "cells": [
        {
            "id": "fc6e87e1",
            "cell_type": "markdown",
            "source": "<div class='alert alert-warning'>\n\nSciPy's interactive examples with Jupyterlite are experimental and may not always work as expected. Execution of cells containing imports may result in large downloads (up to 60MB of content for the first import from SciPy). Load times when importing from SciPy may take roughly 10-20 seconds. If you notice any problems, feel free to open an [issue](https://github.com/scipy/scipy/issues/new/choose).\n\n</div>",
            "metadata": {}
        },
        {
            "id": "0a348b58",
            "cell_type": "markdown",
            "source": "Solve the lower triangular system a x = b, where\n```\n\n[3  0  0  0]       [4]\na =  [2  1  0  0]   b = [2]\n[1  0  1  0]       [4]\n[1  1  1  1]       [2]\n\n```",
            "metadata": {}
        },
        {
            "id": "4ba0600e",
            "cell_type": "code",
            "metadata": {},
            "execution_count": null,
            "source": "import numpy as np\nfrom scipy.linalg import solve_triangular\na = np.array([[3, 0, 0, 0], [2, 1, 0, 0], [1, 0, 1, 0], [1, 1, 1, 1]])\nb = np.array([4, 2, 4, 2])\nx = solve_triangular(a, b, lower=True)\nx",
            "outputs": [
                {
                    "output_type": "execute_result",
                    "metadata": {},
                    "data": {
                        "text/plain": "array([ 1.33333333, -0.66666667,  2.66666667, -1.33333333])"
                    },
                    "execution_count": null
                }
            ]
        },
        {
            "id": "bdf3c2c9",
            "cell_type": "code",
            "metadata": {},
            "execution_count": null,
            "source": "a.dot(x)  # Check the result",
            "outputs": [
                {
                    "output_type": "execute_result",
                    "metadata": {},
                    "data": {
                        "text/plain": "array([ 4.,  2.,  4.,  2.])"
                    },
                    "execution_count": null
                }
            ]
        }
    ]
}