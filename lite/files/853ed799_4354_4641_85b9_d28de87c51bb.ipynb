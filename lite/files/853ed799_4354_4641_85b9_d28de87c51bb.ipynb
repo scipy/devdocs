{
    "nbformat": 4,
    "nbformat_minor": 5,
    "metadata": {
        "kernelspec": {
            "display_name": "Python",
            "language": "python",
            "name": "python"
        },
        "language_info": {
            "name": "python"
        }
    },
    "cells": [
        {
            "id": "3a91d40b",
            "cell_type": "markdown",
            "source": "<div class='alert alert-warning'>\n\nSciPy's interactive examples with Jupyterlite are experimental and may not always work as expected. Execution of cells containing imports may result in large downloads (up to 60MB of content for the first import from SciPy). Load times when importing from SciPy may take roughly 10-20 seconds. If you notice any problems, feel free to open an [issue](https://github.com/scipy/scipy/issues/new/choose).\n\n</div>",
            "metadata": {}
        },
        {
            "id": "f076a981",
            "cell_type": "code",
            "metadata": {},
            "execution_count": null,
            "source": "from scipy.spatial.transform import Rotation as R",
            "outputs": []
        },
        {
            "id": "a1c36aab",
            "cell_type": "markdown",
            "source": "Initialize a single rotation along a single axis:\n",
            "metadata": {}
        },
        {
            "id": "ef480007",
            "cell_type": "code",
            "metadata": {},
            "execution_count": null,
            "source": "r = R.from_euler('x', 90, degrees=True)\nr.as_quat().shape",
            "outputs": [
                {
                    "output_type": "execute_result",
                    "metadata": {},
                    "data": {
                        "text/plain": "(4,)"
                    },
                    "execution_count": null
                }
            ]
        },
        {
            "id": "805e83c6",
            "cell_type": "markdown",
            "source": "Initialize a single rotation with a given axis sequence:\n",
            "metadata": {}
        },
        {
            "id": "404e615d",
            "cell_type": "code",
            "metadata": {},
            "execution_count": null,
            "source": "r = R.from_euler('zyx', [90, 45, 30], degrees=True)\nr.as_quat().shape",
            "outputs": [
                {
                    "output_type": "execute_result",
                    "metadata": {},
                    "data": {
                        "text/plain": "(4,)"
                    },
                    "execution_count": null
                }
            ]
        },
        {
            "id": "a2e9fefb",
            "cell_type": "markdown",
            "source": "Initialize a stack with a single rotation around a single axis:\n",
            "metadata": {}
        },
        {
            "id": "56b90add",
            "cell_type": "code",
            "metadata": {},
            "execution_count": null,
            "source": "r = R.from_euler('x', [90], degrees=True)\nr.as_quat().shape",
            "outputs": [
                {
                    "output_type": "execute_result",
                    "metadata": {},
                    "data": {
                        "text/plain": "(1, 4)"
                    },
                    "execution_count": null
                }
            ]
        },
        {
            "id": "d201dad4",
            "cell_type": "markdown",
            "source": "Initialize a stack with a single rotation with an axis sequence:\n",
            "metadata": {}
        },
        {
            "id": "6702f449",
            "cell_type": "code",
            "metadata": {},
            "execution_count": null,
            "source": "r = R.from_euler('zyx', [[90, 45, 30]], degrees=True)\nr.as_quat().shape",
            "outputs": [
                {
                    "output_type": "execute_result",
                    "metadata": {},
                    "data": {
                        "text/plain": "(1, 4)"
                    },
                    "execution_count": null
                }
            ]
        },
        {
            "id": "4a3e7ac3",
            "cell_type": "markdown",
            "source": "Initialize multiple elementary rotations in one object:\n",
            "metadata": {}
        },
        {
            "id": "c5f43544",
            "cell_type": "code",
            "metadata": {},
            "execution_count": null,
            "source": "r = R.from_euler('x', [90, 45, 30], degrees=True)\nr.as_quat().shape",
            "outputs": [
                {
                    "output_type": "execute_result",
                    "metadata": {},
                    "data": {
                        "text/plain": "(3, 4)"
                    },
                    "execution_count": null
                }
            ]
        },
        {
            "id": "691cbe8c",
            "cell_type": "markdown",
            "source": "Initialize multiple rotations in one object:\n",
            "metadata": {}
        },
        {
            "id": "d6c36cf2",
            "cell_type": "code",
            "metadata": {},
            "execution_count": null,
            "source": "r = R.from_euler('zyx', [[90, 45, 30], [35, 45, 90]], degrees=True)\nr.as_quat().shape",
            "outputs": [
                {
                    "output_type": "execute_result",
                    "metadata": {},
                    "data": {
                        "text/plain": "(2, 4)"
                    },
                    "execution_count": null
                }
            ]
        }
    ]
}