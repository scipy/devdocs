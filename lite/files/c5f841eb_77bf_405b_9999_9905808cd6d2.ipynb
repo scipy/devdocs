{
    "nbformat": 4,
    "nbformat_minor": 5,
    "metadata": {
        "kernelspec": {
            "display_name": "Python",
            "language": "python",
            "name": "python"
        },
        "language_info": {
            "name": "python"
        }
    },
    "cells": [
        {
            "id": "16d1abdd",
            "cell_type": "markdown",
            "source": "<div class='alert alert-warning'>\n\nSciPy's interactive examples with Jupyterlite are experimental and may not always work as expected. Execution of cells containing imports may result in large downloads (up to 60MB of content for the first import from SciPy). Load times when importing from SciPy may take roughly 10-20 seconds. If you notice any problems, feel free to open an [issue](https://github.com/scipy/scipy/issues/new/choose).\n\n</div>",
            "metadata": {}
        },
        {
            "id": "70a4642a",
            "cell_type": "markdown",
            "source": "Generating the Nyquist plot of a transfer function\n",
            "metadata": {}
        },
        {
            "id": "46a434a5",
            "cell_type": "code",
            "metadata": {},
            "execution_count": null,
            "source": "from scipy import signal\nimport matplotlib.pyplot as plt",
            "outputs": []
        },
        {
            "id": "56cc771e",
            "cell_type": "markdown",
            "source": "Construct the transfer function\n$H(z) = \\frac{1}{z^2 + 2z + 3}$ with a sampling time of 0.05\nseconds:\n",
            "metadata": {}
        },
        {
            "id": "5fd10f8d",
            "cell_type": "code",
            "metadata": {},
            "execution_count": null,
            "source": "sys = signal.TransferFunction([1], [1, 2, 3], dt=0.05)",
            "outputs": []
        },
        {
            "id": "7167fb82",
            "cell_type": "code",
            "metadata": {},
            "execution_count": null,
            "source": "w, H = signal.dfreqresp(sys)",
            "outputs": []
        },
        {
            "id": "fac3e03b",
            "cell_type": "code",
            "metadata": {},
            "execution_count": null,
            "source": "plt.figure()\nplt.plot(H.real, H.imag, \"b\")\nplt.plot(H.real, -H.imag, \"r\")\nplt.show()",
            "outputs": []
        }
    ]
}