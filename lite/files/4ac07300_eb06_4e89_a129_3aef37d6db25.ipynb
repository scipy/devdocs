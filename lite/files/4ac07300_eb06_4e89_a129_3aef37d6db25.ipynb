{
    "nbformat": 4,
    "nbformat_minor": 5,
    "metadata": {
        "kernelspec": {
            "display_name": "Python",
            "language": "python",
            "name": "python"
        },
        "language_info": {
            "name": "python"
        }
    },
    "cells": [
        {
            "id": "577e6fc1",
            "cell_type": "markdown",
            "source": "<div class='alert alert-warning'>\n\nSciPy's interactive examples with Jupyterlite are experimental and may not always work as expected. Execution of cells containing imports may result in large downloads (up to 60MB of content for the first import from SciPy). Load times when importing from SciPy may take roughly 10-20 seconds. If you notice any problems, feel free to open an [issue](https://github.com/scipy/scipy/issues/new/choose).\n\n</div>",
            "metadata": {}
        },
        {
            "id": "9680fa8f",
            "cell_type": "markdown",
            "source": "Filter a rectangular pulse that begins at time 0, with and without\nthe use of the `zi` argument of `scipy.signal.sosfilt`.\n",
            "metadata": {}
        },
        {
            "id": "570b589b",
            "cell_type": "code",
            "metadata": {},
            "execution_count": null,
            "source": "import numpy as np\nfrom scipy import signal\nimport matplotlib.pyplot as plt",
            "outputs": []
        },
        {
            "id": "80911493",
            "cell_type": "code",
            "metadata": {},
            "execution_count": null,
            "source": "sos = signal.butter(9, 0.125, output='sos')\nzi = signal.sosfilt_zi(sos)\nx = (np.arange(250) < 100).astype(int)\nf1 = signal.sosfilt(sos, x)\nf2, zo = signal.sosfilt(sos, x, zi=zi)",
            "outputs": []
        },
        {
            "id": "aa8621cf",
            "cell_type": "code",
            "metadata": {},
            "execution_count": null,
            "source": "plt.plot(x, 'k--', label='x')\nplt.plot(f1, 'b', alpha=0.5, linewidth=2, label='filtered')\nplt.plot(f2, 'g', alpha=0.25, linewidth=4, label='filtered with zi')\nplt.legend(loc='best')\nplt.show()",
            "outputs": []
        }
    ]
}