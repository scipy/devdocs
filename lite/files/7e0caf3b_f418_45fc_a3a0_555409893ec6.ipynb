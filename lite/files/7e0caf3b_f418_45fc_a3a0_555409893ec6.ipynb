{
    "nbformat": 4,
    "nbformat_minor": 5,
    "metadata": {
        "kernelspec": {
            "display_name": "Python",
            "language": "python",
            "name": "python"
        },
        "language_info": {
            "name": "python"
        }
    },
    "cells": [
        {
            "id": "6684f743",
            "cell_type": "markdown",
            "source": "<div class='alert alert-warning'>\n\nSciPy's interactive examples with Jupyterlite are experimental and may not always work as expected. Execution of cells containing imports may result in large downloads (up to 60MB of content for the first import from SciPy). Load times when importing from SciPy may take roughly 10-20 seconds. If you notice any problems, feel free to open an [issue](https://github.com/scipy/scipy/issues/new/choose).\n\n</div>",
            "metadata": {}
        },
        {
            "id": "aabf730c",
            "cell_type": "code",
            "metadata": {},
            "execution_count": null,
            "source": "import numpy as np\nfrom scipy import linalg\na = np.array([[0., -1.], [1., 0.]])\nlinalg.eigvals(a)",
            "outputs": [
                {
                    "output_type": "execute_result",
                    "metadata": {},
                    "data": {
                        "text/plain": "array([0.+1.j, 0.-1.j])"
                    },
                    "execution_count": null
                }
            ]
        },
        {
            "id": "5f5c11e3",
            "cell_type": "code",
            "metadata": {},
            "execution_count": null,
            "source": "b = np.array([[0., 1.], [1., 1.]])\nlinalg.eigvals(a, b)",
            "outputs": [
                {
                    "output_type": "execute_result",
                    "metadata": {},
                    "data": {
                        "text/plain": "array([ 1.+0.j, -1.+0.j])"
                    },
                    "execution_count": null
                }
            ]
        },
        {
            "id": "e53e8ae0",
            "cell_type": "code",
            "metadata": {},
            "execution_count": null,
            "source": "a = np.array([[3., 0., 0.], [0., 8., 0.], [0., 0., 7.]])\nlinalg.eigvals(a, homogeneous_eigvals=True)",
            "outputs": [
                {
                    "output_type": "execute_result",
                    "metadata": {},
                    "data": {
                        "text/plain": "array([[3.+0.j, 8.+0.j, 7.+0.j],\n       [1.+0.j, 1.+0.j, 1.+0.j]])"
                    },
                    "execution_count": null
                }
            ]
        },
        {
            "id": "49abb45a",
            "cell_type": "code",
            "metadata": {},
            "execution_count": null,
            "source": "a = np.array([[0., -1.], [1., 0.]])\nlinalg.eigvals(a) == linalg.eig(a)[0]",
            "outputs": [
                {
                    "output_type": "execute_result",
                    "metadata": {},
                    "data": {
                        "text/plain": "array([ True,  True])"
                    },
                    "execution_count": null
                }
            ]
        },
        {
            "id": "fc9d4e2a",
            "cell_type": "code",
            "metadata": {},
            "execution_count": null,
            "source": "linalg.eig(a, left=True, right=False)[1] # normalized left eigenvector",
            "outputs": [
                {
                    "output_type": "execute_result",
                    "metadata": {},
                    "data": {
                        "text/plain": "array([[-0.70710678+0.j        , -0.70710678-0.j        ],\n       [-0.        +0.70710678j, -0.        -0.70710678j]])"
                    },
                    "execution_count": null
                }
            ]
        },
        {
            "id": "94ccffd8",
            "cell_type": "code",
            "metadata": {},
            "execution_count": null,
            "source": "linalg.eig(a, left=False, right=True)[1] # normalized right eigenvector",
            "outputs": [
                {
                    "output_type": "execute_result",
                    "metadata": {},
                    "data": {
                        "text/plain": "array([[0.70710678+0.j        , 0.70710678-0.j        ],\n       [0.        -0.70710678j, 0.        +0.70710678j]])"
                    },
                    "execution_count": null
                }
            ]
        }
    ]
}