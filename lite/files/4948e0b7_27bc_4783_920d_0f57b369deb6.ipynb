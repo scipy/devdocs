{
    "nbformat": 4,
    "nbformat_minor": 5,
    "metadata": {
        "kernelspec": {
            "display_name": "Python",
            "language": "python",
            "name": "python"
        },
        "language_info": {
            "name": "python"
        }
    },
    "cells": [
        {
            "id": "d83c3a7c",
            "cell_type": "markdown",
            "source": "<div class='alert alert-warning'>\n\nSciPy's interactive examples with Jupyterlite are experimental and may not always work as expected. Execution of cells containing imports may result in large downloads (up to 60MB of content for the first import from SciPy). Load times when importing from SciPy may take roughly 10-20 seconds. If you notice any problems, feel free to open an [issue](https://github.com/scipy/scipy/issues/new/choose).\n\n</div>",
            "metadata": {}
        },
        {
            "id": "e25269dd",
            "cell_type": "code",
            "metadata": {},
            "execution_count": null,
            "source": "import numpy as np\nfrom scipy.stats import genhalflogistic\nimport matplotlib.pyplot as plt\nfig, ax = plt.subplots(1, 1)",
            "outputs": []
        },
        {
            "id": "97154f79",
            "cell_type": "markdown",
            "source": "Calculate the first four moments:\n",
            "metadata": {}
        },
        {
            "id": "025ec8d6",
            "cell_type": "code",
            "metadata": {},
            "execution_count": null,
            "source": "c = 0.773\nmean, var, skew, kurt = genhalflogistic.stats(c, moments='mvsk')",
            "outputs": []
        },
        {
            "id": "8823c63b",
            "cell_type": "markdown",
            "source": "Display the probability density function (``pdf``):\n",
            "metadata": {}
        },
        {
            "id": "a13feb0d",
            "cell_type": "code",
            "metadata": {},
            "execution_count": null,
            "source": "x = np.linspace(genhalflogistic.ppf(0.01, c),\n                genhalflogistic.ppf(0.99, c), 100)\nax.plot(x, genhalflogistic.pdf(x, c),\n       'r-', lw=5, alpha=0.6, label='genhalflogistic pdf')",
            "outputs": []
        },
        {
            "id": "7a0988de",
            "cell_type": "markdown",
            "source": "Alternatively, the distribution object can be called (as a function)\nto fix the shape, location and scale parameters. This returns a \"frozen\"\nRV object holding the given parameters fixed.\n\nFreeze the distribution and display the frozen ``pdf``:\n",
            "metadata": {}
        },
        {
            "id": "f42bf1fd",
            "cell_type": "code",
            "metadata": {},
            "execution_count": null,
            "source": "rv = genhalflogistic(c)\nax.plot(x, rv.pdf(x), 'k-', lw=2, label='frozen pdf')",
            "outputs": []
        },
        {
            "id": "6c0f65ec",
            "cell_type": "markdown",
            "source": "Check accuracy of ``cdf`` and ``ppf``:\n",
            "metadata": {}
        },
        {
            "id": "9b5b606f",
            "cell_type": "code",
            "metadata": {},
            "execution_count": null,
            "source": "vals = genhalflogistic.ppf([0.001, 0.5, 0.999], c)\nnp.allclose([0.001, 0.5, 0.999], genhalflogistic.cdf(vals, c))",
            "outputs": [
                {
                    "output_type": "execute_result",
                    "metadata": {},
                    "data": {
                        "text/plain": "True"
                    },
                    "execution_count": null
                }
            ]
        },
        {
            "id": "f392a3d2",
            "cell_type": "markdown",
            "source": "Generate random numbers:\n",
            "metadata": {}
        },
        {
            "id": "24aefa44",
            "cell_type": "code",
            "metadata": {},
            "execution_count": null,
            "source": "r = genhalflogistic.rvs(c, size=1000)",
            "outputs": []
        },
        {
            "id": "c27f7188",
            "cell_type": "markdown",
            "source": "And compare the histogram:\n",
            "metadata": {}
        },
        {
            "id": "cece151f",
            "cell_type": "code",
            "metadata": {},
            "execution_count": null,
            "source": "ax.hist(r, density=True, bins='auto', histtype='stepfilled', alpha=0.2)\nax.set_xlim([x[0], x[-1]])\nax.legend(loc='best', frameon=False)\nplt.show()",
            "outputs": []
        }
    ]
}