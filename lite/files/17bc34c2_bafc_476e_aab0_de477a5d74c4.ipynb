{
    "nbformat": 4,
    "nbformat_minor": 5,
    "metadata": {
        "kernelspec": {
            "display_name": "Python",
            "language": "python",
            "name": "python"
        },
        "language_info": {
            "name": "python"
        }
    },
    "cells": [
        {
            "id": "e09b06e5",
            "cell_type": "markdown",
            "source": "<div class='alert alert-warning'>\n\nSciPy's interactive examples with Jupyterlite are experimental and may not always work as expected. Execution of cells containing imports may result in large downloads (up to 60MB of content for the first import from SciPy). Load times when importing from SciPy may take roughly 10-20 seconds. If you notice any problems, feel free to open an [issue](https://github.com/scipy/scipy/issues/new/choose).\n\n</div>",
            "metadata": {}
        },
        {
            "id": "a4c9de8b",
            "cell_type": "code",
            "metadata": {},
            "execution_count": null,
            "source": "from scipy.special import psi\nz = 3 + 4j\npsi(z)",
            "outputs": [
                {
                    "output_type": "execute_result",
                    "metadata": {},
                    "data": {
                        "text/plain": "(1.55035981733341+1.0105022091860445j)"
                    },
                    "execution_count": null
                }
            ]
        },
        {
            "id": "a61b3dc1",
            "cell_type": "markdown",
            "source": "Verify psi(z) = psi(z + 1) - 1/z:\n",
            "metadata": {}
        },
        {
            "id": "9a5a252f",
            "cell_type": "code",
            "metadata": {},
            "execution_count": null,
            "source": "psi(z + 1) - 1/z",
            "outputs": [
                {
                    "output_type": "execute_result",
                    "metadata": {},
                    "data": {
                        "text/plain": "(1.55035981733341+1.0105022091860445j)"
                    },
                    "execution_count": null
                }
            ]
        }
    ]
}