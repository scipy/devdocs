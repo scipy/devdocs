{
    "nbformat": 4,
    "nbformat_minor": 5,
    "metadata": {
        "kernelspec": {
            "display_name": "Python",
            "language": "python",
            "name": "python"
        },
        "language_info": {
            "name": "python"
        }
    },
    "cells": [
        {
            "id": "bdaeb114",
            "cell_type": "markdown",
            "source": "<div class='alert alert-warning'>\n\nSciPy's interactive examples with Jupyterlite are experimental and may not always work as expected. Execution of cells containing imports may result in large downloads (up to 60MB of content for the first import from SciPy). Load times when importing from SciPy may take roughly 10-20 seconds. If you notice any problems, feel free to open an [issue](https://github.com/scipy/scipy/issues/new/choose).\n\n</div>",
            "metadata": {}
        },
        {
            "id": "07304777",
            "cell_type": "markdown",
            "source": "Suppose we wish to combine p-values from four independent tests\nof the same null hypothesis using Fisher's method (default).\n",
            "metadata": {}
        },
        {
            "id": "6e03f0ce",
            "cell_type": "code",
            "metadata": {},
            "execution_count": null,
            "source": "from scipy.stats import combine_pvalues\npvalues = [0.1, 0.05, 0.02, 0.3]\ncombine_pvalues(pvalues)",
            "outputs": [
                {
                    "output_type": "execute_result",
                    "metadata": {},
                    "data": {
                        "text/plain": "SignificanceResult(statistic=20.828626352604235, pvalue=0.007616871850449092)"
                    },
                    "execution_count": null
                }
            ]
        },
        {
            "id": "26bdb373",
            "cell_type": "markdown",
            "source": "When the individual p-values carry different weights, consider Stouffer's\nmethod.\n",
            "metadata": {}
        },
        {
            "id": "64460533",
            "cell_type": "code",
            "metadata": {},
            "execution_count": null,
            "source": "weights = [1, 2, 3, 4]\nres = combine_pvalues(pvalues, method='stouffer', weights=weights)\nres.pvalue",
            "outputs": [
                {
                    "output_type": "execute_result",
                    "metadata": {},
                    "data": {
                        "text/plain": "0.009578891494533616"
                    },
                    "execution_count": null
                }
            ]
        }
    ]
}