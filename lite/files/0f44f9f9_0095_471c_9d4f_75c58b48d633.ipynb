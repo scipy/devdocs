{
    "nbformat": 4,
    "nbformat_minor": 5,
    "metadata": {
        "kernelspec": {
            "display_name": "Python",
            "language": "python",
            "name": "python"
        },
        "language_info": {
            "name": "python"
        }
    },
    "cells": [
        {
            "id": "f7122248",
            "cell_type": "markdown",
            "source": "<div class='alert alert-warning'>\n\nSciPy's interactive examples with Jupyterlite are experimental and may not always work as expected. Execution of cells containing imports may result in large downloads (up to 60MB of content for the first import from SciPy). Load times when importing from SciPy may take roughly 10-20 seconds. If you notice any problems, feel free to open an [issue](https://github.com/scipy/scipy/issues/new/choose).\n\n</div>",
            "metadata": {}
        },
        {
            "id": "e68cb20a",
            "cell_type": "markdown",
            "source": "To plot the transform results use something like the following:\n",
            "metadata": {}
        },
        {
            "id": "53260517",
            "cell_type": "code",
            "metadata": {},
            "execution_count": null,
            "source": "import numpy as np\nfrom scipy.signal import zoom_fft\nt = np.linspace(0, 1, 1021)\nx = np.cos(2*np.pi*15*t) + np.sin(2*np.pi*17*t)\nf1, f2 = 5, 27\nX = zoom_fft(x, [f1, f2], len(x), fs=1021)\nf = np.linspace(f1, f2, len(x))\nimport matplotlib.pyplot as plt\nplt.plot(f, 20*np.log10(np.abs(X)))\nplt.show()",
            "outputs": []
        }
    ]
}