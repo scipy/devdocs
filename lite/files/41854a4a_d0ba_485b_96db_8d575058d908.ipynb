{
    "nbformat": 4,
    "nbformat_minor": 5,
    "metadata": {
        "kernelspec": {
            "display_name": "Python",
            "language": "python",
            "name": "python"
        },
        "language_info": {
            "name": "python"
        }
    },
    "cells": [
        {
            "id": "86159265",
            "cell_type": "markdown",
            "source": "<div class='alert alert-warning'>\n\nSciPy's interactive examples with Jupyterlite are experimental and may not always work as expected. Execution of cells containing imports may result in large downloads (up to 60MB of content for the first import from SciPy). Load times when importing from SciPy may take roughly 10-20 seconds. If you notice any problems, feel free to open an [issue](https://github.com/scipy/scipy/issues/new/choose).\n\n</div>",
            "metadata": {}
        },
        {
            "id": "17c9b663",
            "cell_type": "code",
            "metadata": {},
            "execution_count": null,
            "source": "from scipy.stats import CensoredData",
            "outputs": []
        },
        {
            "id": "72ba2bc3",
            "cell_type": "markdown",
            "source": "Two uncensored values (0.12 and 0.033) and two left-censored values\n(both 1e-3).\n",
            "metadata": {}
        },
        {
            "id": "82323afb",
            "cell_type": "code",
            "metadata": {},
            "execution_count": null,
            "source": "data = CensoredData.left_censored([0.12, 0.033, 1e-3, 1e-3],\n                                  [False, False, True, True])\ndata",
            "outputs": [
                {
                    "output_type": "execute_result",
                    "metadata": {},
                    "data": {
                        "text/plain": "CensoredData(uncensored=array([0.12 , 0.033]),\nleft=array([0.001, 0.001]), right=array([], dtype=float64),\ninterval=array([], shape=(0, 2), dtype=float64))"
                    },
                    "execution_count": null
                }
            ]
        },
        {
            "id": "965d2c6d",
            "cell_type": "code",
            "metadata": {},
            "execution_count": null,
            "source": "print(data)",
            "outputs": [
                {
                    "output_type": "execute_result",
                    "metadata": {},
                    "data": {
                        "text/plain": "CensoredData(4 values: 2 not censored, 2 left-censored)"
                    },
                    "execution_count": null
                }
            ]
        }
    ]
}