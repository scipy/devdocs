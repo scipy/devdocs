{
    "nbformat": 4,
    "nbformat_minor": 5,
    "metadata": {
        "kernelspec": {
            "display_name": "Python",
            "language": "python",
            "name": "python"
        },
        "language_info": {
            "name": "python"
        }
    },
    "cells": [
        {
            "id": "0f0afa64",
            "cell_type": "markdown",
            "source": "<div class='alert alert-warning'>\n\nSciPy's interactive examples with Jupyterlite are experimental and may not always work as expected. Execution of cells containing imports may result in large downloads (up to 60MB of content for the first import from SciPy). Load times when importing from SciPy may take roughly 10-20 seconds. If you notice any problems, feel free to open an [issue](https://github.com/scipy/scipy/issues/new/choose).\n\n</div>",
            "metadata": {}
        },
        {
            "id": "652fc99b",
            "cell_type": "code",
            "metadata": {},
            "execution_count": null,
            "source": "import numpy as np\nimport matplotlib.pyplot as plt\nfrom scipy.stats import invwishart, invgamma\nx = np.linspace(0.01, 1, 100)\niw = invwishart.pdf(x, df=6, scale=1)\niw[:3]",
            "outputs": [
                {
                    "output_type": "execute_result",
                    "metadata": {},
                    "data": {
                        "text/plain": "array([  1.20546865e-15,   5.42497807e-06,   4.45813929e-03])"
                    },
                    "execution_count": null
                }
            ]
        },
        {
            "id": "1389794a",
            "cell_type": "code",
            "metadata": {},
            "execution_count": null,
            "source": "ig = invgamma.pdf(x, 6/2., scale=1./2)\nig[:3]",
            "outputs": [
                {
                    "output_type": "execute_result",
                    "metadata": {},
                    "data": {
                        "text/plain": "array([  1.20546865e-15,   5.42497807e-06,   4.45813929e-03])"
                    },
                    "execution_count": null
                }
            ]
        },
        {
            "id": "619506cb",
            "cell_type": "code",
            "metadata": {},
            "execution_count": null,
            "source": "plt.plot(x, iw)\nplt.show()",
            "outputs": []
        },
        {
            "id": "c8b905a6",
            "cell_type": "markdown",
            "source": "The input quantiles can be any shape of array, as long as the last\naxis labels the components.\n\nAlternatively, the object may be called (as a function) to fix the degrees\nof freedom and scale parameters, returning a \"frozen\" inverse Wishart\nrandom variable:\n",
            "metadata": {}
        },
        {
            "id": "ace9cb24",
            "cell_type": "code",
            "metadata": {},
            "execution_count": null,
            "source": "rv = invwishart(df=1, scale=1)\n# Frozen object with the same methods but holding the given\n# degrees of freedom and scale fixed.",
            "outputs": []
        }
    ]
}