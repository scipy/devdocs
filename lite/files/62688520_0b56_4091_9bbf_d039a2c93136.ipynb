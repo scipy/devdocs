{
    "nbformat": 4,
    "nbformat_minor": 5,
    "metadata": {
        "kernelspec": {
            "display_name": "Python",
            "language": "python",
            "name": "python"
        },
        "language_info": {
            "name": "python"
        }
    },
    "cells": [
        {
            "id": "11054766",
            "cell_type": "markdown",
            "source": "<div class='alert alert-warning'>\n\nSciPy's interactive examples with Jupyterlite are experimental and may not always work as expected. Execution of cells containing imports may result in large downloads (up to 60MB of content for the first import from SciPy). Load times when importing from SciPy may take roughly 10-20 seconds. If you notice any problems, feel free to open an [issue](https://github.com/scipy/scipy/issues/new/choose).\n\n</div>",
            "metadata": {}
        },
        {
            "id": "ba4314af",
            "cell_type": "code",
            "metadata": {},
            "execution_count": null,
            "source": "import numpy as np\nfrom scipy.sparse.linalg import use_solver, spsolve\nfrom scipy.sparse import csc_matrix\nR = np.random.randn(5, 5)\nA = csc_matrix(R)\nb = np.random.randn(5)\nuse_solver(useUmfpack=False) # enforce superLU over UMFPACK\nx = spsolve(A, b)\nnp.allclose(A.dot(x), b)",
            "outputs": [
                {
                    "output_type": "execute_result",
                    "metadata": {},
                    "data": {
                        "text/plain": "True"
                    },
                    "execution_count": null
                }
            ]
        },
        {
            "id": "011e2824",
            "cell_type": "code",
            "metadata": {},
            "execution_count": null,
            "source": "use_solver(useUmfpack=True) # reset umfPack usage to default",
            "outputs": []
        }
    ]
}