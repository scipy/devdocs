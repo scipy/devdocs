{
    "nbformat": 4,
    "nbformat_minor": 5,
    "metadata": {
        "kernelspec": {
            "display_name": "Python",
            "language": "python",
            "name": "python"
        },
        "language_info": {
            "name": "python"
        }
    },
    "cells": [
        {
            "id": "144e8a3a",
            "cell_type": "markdown",
            "source": "<div class='alert alert-warning'>\n\nSciPy's interactive examples with Jupyterlite are experimental and may not always work as expected. Execution of cells containing imports may result in large downloads (up to 60MB of content for the first import from SciPy). Load times when importing from SciPy may take roughly 10-20 seconds. If you notice any problems, feel free to open an [issue](https://github.com/scipy/scipy/issues/new/choose).\n\n</div>",
            "metadata": {}
        },
        {
            "id": "34c04a00",
            "cell_type": "markdown",
            "source": "We can calculate a derivative value of a function.\n",
            "metadata": {}
        },
        {
            "id": "907836f0",
            "cell_type": "code",
            "metadata": {},
            "execution_count": null,
            "source": "from scipy.misc import central_diff_weights\ndef f(x):\n    return 2 * x**2 + 3\nx = 3.0 # derivative point\nh = 0.1 # differential step\nNp = 3 # point number for central derivative\nweights = central_diff_weights(Np) # weights for first derivative\nvals = [f(x + (i - Np/2) * h) for i in range(Np)]\nsum(w * v for (w, v) in zip(weights, vals))/h",
            "outputs": [
                {
                    "output_type": "execute_result",
                    "metadata": {},
                    "data": {
                        "text/plain": "11.79999999999998"
                    },
                    "execution_count": null
                }
            ]
        },
        {
            "id": "8b315fd4",
            "cell_type": "markdown",
            "source": "This value is close to the analytical solution:\nf'(x) = 4x, so f'(3) = 12",
            "metadata": {}
        }
    ]
}