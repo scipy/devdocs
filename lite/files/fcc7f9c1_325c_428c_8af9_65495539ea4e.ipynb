{
    "nbformat": 4,
    "nbformat_minor": 5,
    "metadata": {
        "kernelspec": {
            "display_name": "Python",
            "language": "python",
            "name": "python"
        },
        "language_info": {
            "name": "python"
        }
    },
    "cells": [
        {
            "id": "3a3ad063",
            "cell_type": "markdown",
            "source": "<div class='alert alert-warning'>\n\nSciPy's interactive examples with Jupyterlite are experimental and may not always work as expected. Execution of cells containing imports may result in large downloads (up to 60MB of content for the first import from SciPy). Load times when importing from SciPy may take roughly 10-20 seconds. If you notice any problems, feel free to open an [issue](https://github.com/scipy/scipy/issues/new/choose).\n\n</div>",
            "metadata": {}
        },
        {
            "id": "51cf1f09",
            "cell_type": "code",
            "metadata": {},
            "execution_count": null,
            "source": "from scipy.stats import multinomial\nrv = multinomial(8, [0.3, 0.2, 0.5])\nrv.pmf([1, 3, 4])",
            "outputs": [
                {
                    "output_type": "execute_result",
                    "metadata": {},
                    "data": {
                        "text/plain": "0.042000000000000072"
                    },
                    "execution_count": null
                }
            ]
        },
        {
            "id": "1b1a5a4d",
            "cell_type": "markdown",
            "source": "The multinomial distribution for $k=2$ is identical to the\ncorresponding binomial distribution (tiny numerical differences\nnotwithstanding):\n",
            "metadata": {}
        },
        {
            "id": "7ccda13f",
            "cell_type": "code",
            "metadata": {},
            "execution_count": null,
            "source": "from scipy.stats import binom\nmultinomial.pmf([3, 4], n=7, p=[0.4, 0.6])",
            "outputs": [
                {
                    "output_type": "execute_result",
                    "metadata": {},
                    "data": {
                        "text/plain": "0.29030399999999973"
                    },
                    "execution_count": null
                }
            ]
        },
        {
            "id": "0fbe367b",
            "cell_type": "code",
            "metadata": {},
            "execution_count": null,
            "source": "binom.pmf(3, 7, 0.4)",
            "outputs": [
                {
                    "output_type": "execute_result",
                    "metadata": {},
                    "data": {
                        "text/plain": "0.29030400000000012"
                    },
                    "execution_count": null
                }
            ]
        },
        {
            "id": "4ed97ae6",
            "cell_type": "markdown",
            "source": "The functions ``pmf``, ``logpmf``, ``entropy``, and ``cov`` support\nbroadcasting, under the convention that the vector parameters (``x`` and\n``p``) are interpreted as if each row along the last axis is a single\nobject. For instance:\n",
            "metadata": {}
        },
        {
            "id": "3efa6fcc",
            "cell_type": "code",
            "metadata": {},
            "execution_count": null,
            "source": "multinomial.pmf([[3, 4], [3, 5]], n=[7, 8], p=[.3, .7])",
            "outputs": [
                {
                    "output_type": "execute_result",
                    "metadata": {},
                    "data": {
                        "text/plain": "array([0.2268945,  0.25412184])"
                    },
                    "execution_count": null
                }
            ]
        },
        {
            "id": "bd449149",
            "cell_type": "markdown",
            "source": "Here, ``x.shape == (2, 2)``, ``n.shape == (2,)``, and ``p.shape == (2,)``,\nbut following the rules mentioned above they behave as if the rows\n``[3, 4]`` and ``[3, 5]`` in ``x`` and ``[.3, .7]`` in ``p`` were a single\nobject, and as if we had ``x.shape = (2,)``, ``n.shape = (2,)``, and\n``p.shape = ()``. To obtain the individual elements without broadcasting,\nwe would do this:\n",
            "metadata": {}
        },
        {
            "id": "e2f3471d",
            "cell_type": "code",
            "metadata": {},
            "execution_count": null,
            "source": "multinomial.pmf([3, 4], n=7, p=[.3, .7])",
            "outputs": [
                {
                    "output_type": "execute_result",
                    "metadata": {},
                    "data": {
                        "text/plain": "0.2268945"
                    },
                    "execution_count": null
                }
            ]
        },
        {
            "id": "2aea0dcb",
            "cell_type": "code",
            "metadata": {},
            "execution_count": null,
            "source": "multinomial.pmf([3, 5], 8, p=[.3, .7])",
            "outputs": [
                {
                    "output_type": "execute_result",
                    "metadata": {},
                    "data": {
                        "text/plain": "0.25412184"
                    },
                    "execution_count": null
                }
            ]
        },
        {
            "id": "9b32250f",
            "cell_type": "markdown",
            "source": "This broadcasting also works for ``cov``, where the output objects are\nsquare matrices of size ``p.shape[-1]``. For example:\n",
            "metadata": {}
        },
        {
            "id": "cadd6e26",
            "cell_type": "code",
            "metadata": {},
            "execution_count": null,
            "source": "multinomial.cov([4, 5], [[.3, .7], [.4, .6]])",
            "outputs": [
                {
                    "output_type": "execute_result",
                    "metadata": {},
                    "data": {
                        "text/plain": "array([[[ 0.84, -0.84],\n        [-0.84,  0.84]],\n       [[ 1.2 , -1.2 ],\n        [-1.2 ,  1.2 ]]])"
                    },
                    "execution_count": null
                }
            ]
        },
        {
            "id": "48c66c53",
            "cell_type": "markdown",
            "source": "In this example, ``n.shape == (2,)`` and ``p.shape == (2, 2)``, and\nfollowing the rules above, these broadcast as if ``p.shape == (2,)``.\nThus the result should also be of shape ``(2,)``, but since each output is\na $2 \\times 2$ matrix, the result in fact has shape ``(2, 2, 2)``,\nwhere ``result[0]`` is equal to ``multinomial.cov(n=4, p=[.3, .7])`` and\n``result[1]`` is equal to ``multinomial.cov(n=5, p=[.4, .6])``.\n\nAlternatively, the object may be called (as a function) to fix the `n` and\n`p` parameters, returning a \"frozen\" multinomial random variable:\n",
            "metadata": {}
        },
        {
            "id": "49ddfc09",
            "cell_type": "code",
            "metadata": {},
            "execution_count": null,
            "source": "rv = multinomial(n=7, p=[.3, .7])\n# Frozen object with the same methods but holding the given\n# degrees of freedom and scale fixed.",
            "outputs": []
        }
    ]
}