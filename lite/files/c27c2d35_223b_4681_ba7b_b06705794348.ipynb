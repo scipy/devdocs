{
    "nbformat": 4,
    "nbformat_minor": 5,
    "metadata": {
        "kernelspec": {
            "display_name": "Python",
            "language": "python",
            "name": "python"
        },
        "language_info": {
            "name": "python"
        }
    },
    "cells": [
        {
            "id": "5c2ee01b",
            "cell_type": "markdown",
            "source": "<div class='alert alert-warning'>\n\nSciPy's interactive examples with Jupyterlite are experimental and may not always work as expected. Execution of cells containing imports may result in large downloads (up to 60MB of content for the first import from SciPy). Load times when importing from SciPy may take roughly 10-20 seconds. If you notice any problems, feel free to open an [issue](https://github.com/scipy/scipy/issues/new/choose).\n\n</div>",
            "metadata": {}
        },
        {
            "id": "d3958b8b",
            "cell_type": "code",
            "metadata": {},
            "execution_count": null,
            "source": "from scipy.special import wright_bessel\na, b, x = 1.5, 1.1, 2.5\nwright_bessel(a, b-1, x)",
            "outputs": [
                {
                    "output_type": "execute_result",
                    "metadata": {},
                    "data": {
                        "text/plain": "4.5314465939443025"
                    },
                    "execution_count": null
                }
            ]
        },
        {
            "id": "b06a97ad",
            "cell_type": "markdown",
            "source": "Now, let us verify the relation\n\n.. math:: \\Phi(a, b-1; x) = a x \\Phi(a, b+a; x) + (b-1) \\Phi(a, b; x)\n",
            "metadata": {}
        },
        {
            "id": "62a2608a",
            "cell_type": "code",
            "metadata": {},
            "execution_count": null,
            "source": "a * x * wright_bessel(a, b+a, x) + (b-1) * wright_bessel(a, b, x)",
            "outputs": [
                {
                    "output_type": "execute_result",
                    "metadata": {},
                    "data": {
                        "text/plain": "4.5314465939443025"
                    },
                    "execution_count": null
                }
            ]
        }
    ]
}