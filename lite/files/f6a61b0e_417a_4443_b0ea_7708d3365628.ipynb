{
    "nbformat": 4,
    "nbformat_minor": 5,
    "metadata": {
        "kernelspec": {
            "display_name": "Python",
            "language": "python",
            "name": "python"
        },
        "language_info": {
            "name": "python"
        }
    },
    "cells": [
        {
            "id": "98c7f6ca",
            "cell_type": "markdown",
            "source": "<div class='alert alert-warning'>\n\nSciPy's interactive examples with Jupyterlite are experimental and may not always work as expected. Execution of cells containing imports may result in large downloads (up to 60MB of content for the first import from SciPy). Load times when importing from SciPy may take roughly 10-20 seconds. If you notice any problems, feel free to open an [issue](https://github.com/scipy/scipy/issues/new/choose).\n\n</div>",
            "metadata": {}
        },
        {
            "id": "733449d5",
            "cell_type": "code",
            "metadata": {},
            "execution_count": null,
            "source": "import scipy.special as sc",
            "outputs": []
        },
        {
            "id": "62e0a3cc",
            "cell_type": "markdown",
            "source": "There are many ways to specify an angle.\n",
            "metadata": {}
        },
        {
            "id": "8895e10a",
            "cell_type": "code",
            "metadata": {},
            "execution_count": null,
            "source": "sc.radian(90, 0, 0)",
            "outputs": [
                {
                    "output_type": "execute_result",
                    "metadata": {},
                    "data": {
                        "text/plain": "1.5707963267948966"
                    },
                    "execution_count": null
                }
            ]
        },
        {
            "id": "e05435e3",
            "cell_type": "code",
            "metadata": {},
            "execution_count": null,
            "source": "sc.radian(0, 60 * 90, 0)",
            "outputs": [
                {
                    "output_type": "execute_result",
                    "metadata": {},
                    "data": {
                        "text/plain": "1.5707963267948966"
                    },
                    "execution_count": null
                }
            ]
        },
        {
            "id": "aeaacaf3",
            "cell_type": "code",
            "metadata": {},
            "execution_count": null,
            "source": "sc.radian(0, 0, 60**2 * 90)",
            "outputs": [
                {
                    "output_type": "execute_result",
                    "metadata": {},
                    "data": {
                        "text/plain": "1.5707963267948966"
                    },
                    "execution_count": null
                }
            ]
        },
        {
            "id": "1d90d86e",
            "cell_type": "markdown",
            "source": "The inputs can be real-valued.\n",
            "metadata": {}
        },
        {
            "id": "14029941",
            "cell_type": "code",
            "metadata": {},
            "execution_count": null,
            "source": "sc.radian(1.5, 0, 0)",
            "outputs": [
                {
                    "output_type": "execute_result",
                    "metadata": {},
                    "data": {
                        "text/plain": "0.02617993877991494"
                    },
                    "execution_count": null
                }
            ]
        },
        {
            "id": "9fa04f55",
            "cell_type": "code",
            "metadata": {},
            "execution_count": null,
            "source": "sc.radian(1, 30, 0)",
            "outputs": [
                {
                    "output_type": "execute_result",
                    "metadata": {},
                    "data": {
                        "text/plain": "0.02617993877991494"
                    },
                    "execution_count": null
                }
            ]
        }
    ]
}