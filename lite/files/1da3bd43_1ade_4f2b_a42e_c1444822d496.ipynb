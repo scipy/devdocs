{
    "nbformat": 4,
    "nbformat_minor": 5,
    "metadata": {
        "kernelspec": {
            "display_name": "Python",
            "language": "python",
            "name": "python"
        },
        "language_info": {
            "name": "python"
        }
    },
    "cells": [
        {
            "id": "e778b069",
            "cell_type": "markdown",
            "source": "<div class='alert alert-warning'>\n\nSciPy's interactive examples with Jupyterlite are experimental and may not always work as expected. Execution of cells containing imports may result in large downloads (up to 60MB of content for the first import from SciPy). Load times when importing from SciPy may take roughly 10-20 seconds. If you notice any problems, feel free to open an [issue](https://github.com/scipy/scipy/issues/new/choose).\n\n</div>",
            "metadata": {}
        },
        {
            "id": "d4f4e8bc",
            "cell_type": "code",
            "metadata": {},
            "execution_count": null,
            "source": "from scipy import signal\nimport matplotlib.pyplot as plt",
            "outputs": []
        },
        {
            "id": "9e7dbc1e",
            "cell_type": "markdown",
            "source": "Construct the transfer function $H(z) = \\frac{1}{z^2 + 2z + 3}$\nwith sampling time 0.5s:\n",
            "metadata": {}
        },
        {
            "id": "dcfc1648",
            "cell_type": "code",
            "metadata": {},
            "execution_count": null,
            "source": "sys = signal.TransferFunction([1], [1, 2, 3], dt=0.5)",
            "outputs": []
        },
        {
            "id": "18b5d162",
            "cell_type": "markdown",
            "source": "Equivalent: signal.dbode(sys)\n",
            "metadata": {}
        },
        {
            "id": "ac752540",
            "cell_type": "code",
            "metadata": {},
            "execution_count": null,
            "source": "w, mag, phase = sys.bode()",
            "outputs": []
        },
        {
            "id": "364b5bda",
            "cell_type": "code",
            "metadata": {},
            "execution_count": null,
            "source": "plt.figure()\nplt.semilogx(w, mag)    # Bode magnitude plot\nplt.figure()\nplt.semilogx(w, phase)  # Bode phase plot\nplt.show()",
            "outputs": []
        }
    ]
}