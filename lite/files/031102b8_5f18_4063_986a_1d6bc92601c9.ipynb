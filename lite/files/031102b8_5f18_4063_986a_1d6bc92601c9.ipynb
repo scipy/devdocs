{
    "nbformat": 4,
    "nbformat_minor": 5,
    "metadata": {
        "kernelspec": {
            "display_name": "Python",
            "language": "python",
            "name": "python"
        },
        "language_info": {
            "name": "python"
        }
    },
    "cells": [
        {
            "id": "81ee5e1e",
            "cell_type": "markdown",
            "source": "<div class='alert alert-warning'>\n\nSciPy's interactive examples with Jupyterlite are experimental and may not always work as expected. Execution of cells containing imports may result in large downloads (up to 60MB of content for the first import from SciPy). Load times when importing from SciPy may take roughly 10-20 seconds. If you notice any problems, feel free to open an [issue](https://github.com/scipy/scipy/issues/new/choose).\n\n</div>",
            "metadata": {}
        },
        {
            "id": "19183541",
            "cell_type": "code",
            "metadata": {},
            "execution_count": null,
            "source": "from scipy.stats import hmean\nhmean([1, 4])",
            "outputs": [
                {
                    "output_type": "execute_result",
                    "metadata": {},
                    "data": {
                        "text/plain": "1.6000000000000001"
                    },
                    "execution_count": null
                }
            ]
        },
        {
            "id": "b805b2e8",
            "cell_type": "code",
            "metadata": {},
            "execution_count": null,
            "source": "hmean([1, 2, 3, 4, 5, 6, 7])",
            "outputs": [
                {
                    "output_type": "execute_result",
                    "metadata": {},
                    "data": {
                        "text/plain": "2.6997245179063363"
                    },
                    "execution_count": null
                }
            ]
        },
        {
            "id": "5ee21e7d",
            "cell_type": "code",
            "metadata": {},
            "execution_count": null,
            "source": "hmean([1, 4, 7], weights=[3, 1, 3])",
            "outputs": [
                {
                    "output_type": "execute_result",
                    "metadata": {},
                    "data": {
                        "text/plain": "1.9029126213592233"
                    },
                    "execution_count": null
                }
            ]
        }
    ]
}