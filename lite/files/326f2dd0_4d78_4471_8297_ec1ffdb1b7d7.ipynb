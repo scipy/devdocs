{
    "nbformat": 4,
    "nbformat_minor": 5,
    "metadata": {
        "kernelspec": {
            "display_name": "Python",
            "language": "python",
            "name": "python"
        },
        "language_info": {
            "name": "python"
        }
    },
    "cells": [
        {
            "id": "72bb1f55",
            "cell_type": "markdown",
            "source": "<div class='alert alert-warning'>\n\nSciPy's interactive examples with Jupyterlite are experimental and may not always work as expected. Execution of cells containing imports may result in large downloads (up to 60MB of content for the first import from SciPy). Load times when importing from SciPy may take roughly 10-20 seconds. If you notice any problems, feel free to open an [issue](https://github.com/scipy/scipy/issues/new/choose).\n\n</div>",
            "metadata": {}
        },
        {
            "id": "943a4369",
            "cell_type": "code",
            "metadata": {},
            "execution_count": null,
            "source": "import numpy as np\nfrom scipy.linalg import hessenberg\nA = np.array([[2, 5, 8, 7], [5, 2, 2, 8], [7, 5, 6, 6], [5, 4, 4, 8]])\nH, Q = hessenberg(A, calc_q=True)\nH",
            "outputs": [
                {
                    "output_type": "execute_result",
                    "metadata": {},
                    "data": {
                        "text/plain": "array([[  2.        , -11.65843866,   1.42005301,   0.25349066],\n       [ -9.94987437,  14.53535354,  -5.31022304,   2.43081618],\n       [  0.        ,  -1.83299243,   0.38969961,  -0.51527034],\n       [  0.        ,   0.        ,  -3.83189513,   1.07494686]])"
                    },
                    "execution_count": null
                }
            ]
        },
        {
            "id": "be4108e7",
            "cell_type": "code",
            "metadata": {},
            "execution_count": null,
            "source": "np.allclose(Q @ H @ Q.conj().T - A, np.zeros((4, 4)))",
            "outputs": [
                {
                    "output_type": "execute_result",
                    "metadata": {},
                    "data": {
                        "text/plain": "True"
                    },
                    "execution_count": null
                }
            ]
        }
    ]
}