{
    "nbformat": 4,
    "nbformat_minor": 5,
    "metadata": {
        "kernelspec": {
            "display_name": "Python",
            "language": "python",
            "name": "python"
        },
        "language_info": {
            "name": "python"
        }
    },
    "cells": [
        {
            "id": "a1980968",
            "cell_type": "markdown",
            "source": "<div class='alert alert-warning'>\n\nSciPy's interactive examples with Jupyterlite are experimental and may not always work as expected. Execution of cells containing imports may result in large downloads (up to 60MB of content for the first import from SciPy). Load times when importing from SciPy may take roughly 10-20 seconds. If you notice any problems, feel free to open an [issue](https://github.com/scipy/scipy/issues/new/choose).\n\n</div>",
            "metadata": {}
        },
        {
            "id": "a4b5fa2e",
            "cell_type": "code",
            "metadata": {},
            "execution_count": null,
            "source": "from scipy.spatial import distance\ndistance.seuclidean([1, 0, 0], [0, 1, 0], [0.1, 0.1, 0.1])",
            "outputs": [
                {
                    "output_type": "execute_result",
                    "metadata": {},
                    "data": {
                        "text/plain": "4.4721359549995796"
                    },
                    "execution_count": null
                }
            ]
        },
        {
            "id": "619d693b",
            "cell_type": "code",
            "metadata": {},
            "execution_count": null,
            "source": "distance.seuclidean([1, 0, 0], [0, 1, 0], [1, 0.1, 0.1])",
            "outputs": [
                {
                    "output_type": "execute_result",
                    "metadata": {},
                    "data": {
                        "text/plain": "3.3166247903553998"
                    },
                    "execution_count": null
                }
            ]
        },
        {
            "id": "451e911b",
            "cell_type": "code",
            "metadata": {},
            "execution_count": null,
            "source": "distance.seuclidean([1, 0, 0], [0, 1, 0], [10, 0.1, 0.1])",
            "outputs": [
                {
                    "output_type": "execute_result",
                    "metadata": {},
                    "data": {
                        "text/plain": "3.1780497164141406"
                    },
                    "execution_count": null
                }
            ]
        }
    ]
}