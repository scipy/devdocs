{
    "nbformat": 4,
    "nbformat_minor": 5,
    "metadata": {
        "kernelspec": {
            "display_name": "Python",
            "language": "python",
            "name": "python"
        },
        "language_info": {
            "name": "python"
        }
    },
    "cells": [
        {
            "id": "c42cd501",
            "cell_type": "markdown",
            "source": "<div class='alert alert-warning'>\n\nSciPy's interactive examples with Jupyterlite are experimental and may not always work as expected. Execution of cells containing imports may result in large downloads (up to 60MB of content for the first import from SciPy). Load times when importing from SciPy may take roughly 10-20 seconds. If you notice any problems, feel free to open an [issue](https://github.com/scipy/scipy/issues/new/choose).\n\n</div>",
            "metadata": {}
        },
        {
            "id": "def8b8a7",
            "cell_type": "markdown",
            "source": "Instantiate a distribution with the desired parameters:\n",
            "metadata": {}
        },
        {
            "id": "b313c1e7",
            "cell_type": "code",
            "metadata": {},
            "execution_count": null,
            "source": "import numpy as np\nfrom scipy import stats\nX = stats.Uniform(a=-1., b=1.)",
            "outputs": []
        },
        {
            "id": "fe15d971",
            "cell_type": "markdown",
            "source": "Evaluate the log-entropy:\n",
            "metadata": {}
        },
        {
            "id": "f0b5846f",
            "cell_type": "code",
            "metadata": {},
            "execution_count": null,
            "source": "X.logentropy()",
            "outputs": [
                {
                    "output_type": "execute_result",
                    "metadata": {},
                    "data": {
                        "text/plain": "(-0.3665129205816642+0j)"
                    },
                    "execution_count": null
                }
            ]
        },
        {
            "id": "809642a9",
            "cell_type": "code",
            "metadata": {},
            "execution_count": null,
            "source": "np.allclose(np.exp(X.logentropy()), X.entropy())",
            "outputs": [
                {
                    "output_type": "execute_result",
                    "metadata": {},
                    "data": {
                        "text/plain": "True"
                    },
                    "execution_count": null
                }
            ]
        },
        {
            "id": "aece96c6",
            "cell_type": "markdown",
            "source": "For a random variable with negative entropy, the log-entropy has an\nimaginary part equal to `np.pi`.\n",
            "metadata": {}
        },
        {
            "id": "b67995e3",
            "cell_type": "code",
            "metadata": {},
            "execution_count": null,
            "source": "X = stats.Uniform(a=-.1, b=.1)\nX.entropy(), X.logentropy()",
            "outputs": [
                {
                    "output_type": "execute_result",
                    "metadata": {},
                    "data": {
                        "text/plain": "(-1.6094379124341007, (0.4758849953271105+3.141592653589793j))"
                    },
                    "execution_count": null
                }
            ]
        }
    ]
}