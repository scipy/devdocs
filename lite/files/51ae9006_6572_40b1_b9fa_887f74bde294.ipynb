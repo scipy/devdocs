{
    "nbformat": 4,
    "nbformat_minor": 5,
    "metadata": {
        "kernelspec": {
            "display_name": "Python",
            "language": "python",
            "name": "python"
        },
        "language_info": {
            "name": "python"
        }
    },
    "cells": [
        {
            "id": "0ad37661",
            "cell_type": "markdown",
            "source": "<div class='alert alert-warning'>\n\nSciPy's interactive examples with Jupyterlite are experimental and may not always work as expected. Execution of cells containing imports may result in large downloads (up to 60MB of content for the first import from SciPy). Load times when importing from SciPy may take roughly 10-20 seconds. If you notice any problems, feel free to open an [issue](https://github.com/scipy/scipy/issues/new/choose).\n\n</div>",
            "metadata": {}
        },
        {
            "id": "13fa1214",
            "cell_type": "code",
            "metadata": {},
            "execution_count": null,
            "source": "from scipy.interpolate import splrep, splder, splantider, splev\nimport numpy as np\nx = np.linspace(0, np.pi/2, 70)\ny = 1 / np.sqrt(1 - 0.8*np.sin(x)**2)\nspl = splrep(x, y)",
            "outputs": []
        },
        {
            "id": "f41abf97",
            "cell_type": "markdown",
            "source": "The derivative is the inverse operation of the antiderivative,\nalthough some floating point error accumulates:\n",
            "metadata": {}
        },
        {
            "id": "d1999fef",
            "cell_type": "code",
            "metadata": {},
            "execution_count": null,
            "source": "splev(1.7, spl), splev(1.7, splder(splantider(spl)))",
            "outputs": [
                {
                    "output_type": "execute_result",
                    "metadata": {},
                    "data": {
                        "text/plain": "(array(2.1565429877197317), array(2.1565429877201865))"
                    },
                    "execution_count": null
                }
            ]
        },
        {
            "id": "443d0b18",
            "cell_type": "markdown",
            "source": "Antiderivative can be used to evaluate definite integrals:\n",
            "metadata": {}
        },
        {
            "id": "f1a1fc4d",
            "cell_type": "code",
            "metadata": {},
            "execution_count": null,
            "source": "ispl = splantider(spl)\nsplev(np.pi/2, ispl) - splev(0, ispl)",
            "outputs": [
                {
                    "output_type": "execute_result",
                    "metadata": {},
                    "data": {
                        "text/plain": "2.2572053588768486"
                    },
                    "execution_count": null
                }
            ]
        },
        {
            "id": "a0b63dfc",
            "cell_type": "markdown",
            "source": "This is indeed an approximation to the complete elliptic integral\n$K(m) = \\int_0^{\\pi/2} [1 - m\\sin^2 x]^{-1/2} dx$:\n",
            "metadata": {}
        },
        {
            "id": "238f9797",
            "cell_type": "code",
            "metadata": {},
            "execution_count": null,
            "source": "from scipy.special import ellipk\nellipk(0.8)",
            "outputs": [
                {
                    "output_type": "execute_result",
                    "metadata": {},
                    "data": {
                        "text/plain": "2.2572053268208538"
                    },
                    "execution_count": null
                }
            ]
        }
    ]
}