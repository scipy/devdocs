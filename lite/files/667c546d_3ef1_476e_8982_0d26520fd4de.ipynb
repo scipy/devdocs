{
    "nbformat": 4,
    "nbformat_minor": 5,
    "metadata": {
        "kernelspec": {
            "display_name": "Python",
            "language": "python",
            "name": "python"
        },
        "language_info": {
            "name": "python"
        }
    },
    "cells": [
        {
            "id": "22eea7df",
            "cell_type": "markdown",
            "source": "<div class='alert alert-warning'>\n\nSciPy's interactive examples with Jupyterlite are experimental and may not always work as expected. Execution of cells containing imports may result in large downloads (up to 60MB of content for the first import from SciPy). Load times when importing from SciPy may take roughly 10-20 seconds. If you notice any problems, feel free to open an [issue](https://github.com/scipy/scipy/issues/new/choose).\n\n</div>",
            "metadata": {}
        },
        {
            "id": "71a67f85",
            "cell_type": "markdown",
            "source": "Passing a ``np.random.Generator`` instance for better performance:\n",
            "metadata": {}
        },
        {
            "id": "10556fd6",
            "cell_type": "code",
            "metadata": {},
            "execution_count": null,
            "source": "import scipy as sp\nimport numpy as np\nrng = np.random.default_rng()\nS = sp.sparse.random(3, 4, density=0.25, random_state=rng)",
            "outputs": []
        },
        {
            "id": "b6cba02f",
            "cell_type": "markdown",
            "source": "Providing a sampler for the values:\n",
            "metadata": {}
        },
        {
            "id": "7d53fe6b",
            "cell_type": "code",
            "metadata": {},
            "execution_count": null,
            "source": "rvs = sp.stats.poisson(25, loc=10).rvs\nS = sp.sparse.random(3, 4, density=0.25, random_state=rng, data_rvs=rvs)\nS.toarray()",
            "outputs": [
                {
                    "output_type": "execute_result",
                    "metadata": {},
                    "data": {
                        "text/plain": "array([[ 36.,   0.,  33.,   0.],   # random\n       [  0.,   0.,   0.,   0.],\n       [  0.,   0.,  36.,   0.]])"
                    },
                    "execution_count": null
                }
            ]
        },
        {
            "id": "fe512241",
            "cell_type": "markdown",
            "source": "Building a custom distribution.\nThis example builds a squared normal from np.random:\n",
            "metadata": {}
        },
        {
            "id": "731c4706",
            "cell_type": "code",
            "metadata": {},
            "execution_count": null,
            "source": "def np_normal_squared(size=None, random_state=rng):\n    return random_state.standard_normal(size) ** 2\nS = sp.sparse.random(3, 4, density=0.25, random_state=rng,\n                     data_rvs=np_normal_squared)",
            "outputs": []
        },
        {
            "id": "7dc8f8b6",
            "cell_type": "markdown",
            "source": "Or we can build it from sp.stats style rvs functions:\n",
            "metadata": {}
        },
        {
            "id": "de517b0d",
            "cell_type": "code",
            "metadata": {},
            "execution_count": null,
            "source": "def sp_stats_normal_squared(size=None, random_state=rng):\n    std_normal = sp.stats.distributions.norm_gen().rvs\n    return std_normal(size=size, random_state=random_state) ** 2\nS = sp.sparse.random(3, 4, density=0.25, random_state=rng,\n                     data_rvs=sp_stats_normal_squared)",
            "outputs": []
        },
        {
            "id": "bcfa1b42",
            "cell_type": "markdown",
            "source": "Or we can subclass sp.stats rv_continuous or rv_discrete:\n",
            "metadata": {}
        },
        {
            "id": "1eebcf77",
            "cell_type": "code",
            "metadata": {},
            "execution_count": null,
            "source": "class NormalSquared(sp.stats.rv_continuous):\n    def _rvs(self,  size=None, random_state=rng):\n        return random_state.standard_normal(size) ** 2\nX = NormalSquared()\nY = X()  # get a frozen version of the distribution\nS = sp.sparse.random(3, 4, density=0.25, random_state=rng, data_rvs=Y.rvs)",
            "outputs": []
        }
    ]
}