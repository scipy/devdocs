{
    "nbformat": 4,
    "nbformat_minor": 5,
    "metadata": {
        "kernelspec": {
            "display_name": "Python",
            "language": "python",
            "name": "python"
        },
        "language_info": {
            "name": "python"
        }
    },
    "cells": [
        {
            "id": "b5404011",
            "cell_type": "markdown",
            "source": "<div class='alert alert-warning'>\n\nSciPy's interactive examples with Jupyterlite are experimental and may not always work as expected. Execution of cells containing imports may result in large downloads (up to 60MB of content for the first import from SciPy). Load times when importing from SciPy may take roughly 10-20 seconds. If you notice any problems, feel free to open an [issue](https://github.com/scipy/scipy/issues/new/choose).\n\n</div>",
            "metadata": {}
        },
        {
            "id": "59d13e95",
            "cell_type": "code",
            "metadata": {},
            "execution_count": null,
            "source": "import numpy as np\na = np.array([[1, 2, 0, 0],\n              [5, 3, 0, 4],\n              [0, 0, 0, 7],\n              [9, 3, 0, 0]])\nfrom scipy import ndimage\nndimage.extrema(a)",
            "outputs": [
                {
                    "output_type": "execute_result",
                    "metadata": {},
                    "data": {
                        "text/plain": "(0, 9, (0, 2), (3, 0))"
                    },
                    "execution_count": null
                }
            ]
        },
        {
            "id": "3b07e9d5",
            "cell_type": "markdown",
            "source": "Features to process can be specified using `labels` and `index`:\n",
            "metadata": {}
        },
        {
            "id": "0e5711c1",
            "cell_type": "code",
            "metadata": {},
            "execution_count": null,
            "source": "lbl, nlbl = ndimage.label(a)\nndimage.extrema(a, lbl, index=np.arange(1, nlbl+1))",
            "outputs": [
                {
                    "output_type": "execute_result",
                    "metadata": {},
                    "data": {
                        "text/plain": "(array([1, 4, 3]),\n array([5, 7, 9]),\n [(0, 0), (1, 3), (3, 1)],\n [(1, 0), (2, 3), (3, 0)])"
                    },
                    "execution_count": null
                }
            ]
        },
        {
            "id": "db8eb627",
            "cell_type": "markdown",
            "source": "If no index is given, non-zero `labels` are processed:\n",
            "metadata": {}
        },
        {
            "id": "cb97f62b",
            "cell_type": "code",
            "metadata": {},
            "execution_count": null,
            "source": "ndimage.extrema(a, lbl)",
            "outputs": [
                {
                    "output_type": "execute_result",
                    "metadata": {},
                    "data": {
                        "text/plain": "(1, 9, (0, 0), (3, 0))"
                    },
                    "execution_count": null
                }
            ]
        }
    ]
}