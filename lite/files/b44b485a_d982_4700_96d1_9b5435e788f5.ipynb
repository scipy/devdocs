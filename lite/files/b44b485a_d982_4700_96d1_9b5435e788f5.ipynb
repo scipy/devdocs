{
    "nbformat": 4,
    "nbformat_minor": 5,
    "metadata": {
        "kernelspec": {
            "display_name": "Python",
            "language": "python",
            "name": "python"
        },
        "language_info": {
            "name": "python"
        }
    },
    "cells": [
        {
            "id": "26778395",
            "cell_type": "markdown",
            "source": "<div class='alert alert-warning'>\n\nSciPy's interactive examples with Jupyterlite are experimental and may not always work as expected. Execution of cells containing imports may result in large downloads (up to 60MB of content for the first import from SciPy). Load times when importing from SciPy may take roughly 10-20 seconds. If you notice any problems, feel free to open an [issue](https://github.com/scipy/scipy/issues/new/choose).\n\n</div>",
            "metadata": {}
        },
        {
            "id": "b2314c26",
            "cell_type": "markdown",
            "source": "`nrdtrisd` can be used to recover the standard deviation of a normal\ndistribution if we know the CDF value `p` for a given quantile `x` and\nthe mean `mn`. First, we calculate the normal distribution CDF for an\nexemplary parameter set.\n",
            "metadata": {}
        },
        {
            "id": "708a546c",
            "cell_type": "code",
            "metadata": {},
            "execution_count": null,
            "source": "from scipy.stats import norm\nmean = 3.\nstd = 2.\nx = 6.\np = norm.cdf(x, loc=mean, scale=std)\np",
            "outputs": [
                {
                    "output_type": "execute_result",
                    "metadata": {},
                    "data": {
                        "text/plain": "0.9331927987311419"
                    },
                    "execution_count": null
                }
            ]
        },
        {
            "id": "18964f6c",
            "cell_type": "markdown",
            "source": "Verify that `nrdtrisd` returns the original value for `std`.\n",
            "metadata": {}
        },
        {
            "id": "182b9245",
            "cell_type": "code",
            "metadata": {},
            "execution_count": null,
            "source": "from scipy.special import nrdtrisd\nnrdtrisd(mean, p, x)",
            "outputs": [
                {
                    "output_type": "execute_result",
                    "metadata": {},
                    "data": {
                        "text/plain": "2.0000000000000004"
                    },
                    "execution_count": null
                }
            ]
        }
    ]
}