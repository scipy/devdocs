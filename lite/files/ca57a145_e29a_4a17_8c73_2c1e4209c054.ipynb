{
    "nbformat": 4,
    "nbformat_minor": 5,
    "metadata": {
        "kernelspec": {
            "display_name": "Python",
            "language": "python",
            "name": "python"
        },
        "language_info": {
            "name": "python"
        }
    },
    "cells": [
        {
            "id": "0837403c",
            "cell_type": "markdown",
            "source": "<div class='alert alert-warning'>\n\nSciPy's interactive examples with Jupyterlite are experimental and may not always work as expected. Execution of cells containing imports may result in large downloads (up to 60MB of content for the first import from SciPy). Load times when importing from SciPy may take roughly 10-20 seconds. If you notice any problems, feel free to open an [issue](https://github.com/scipy/scipy/issues/new/choose).\n\n</div>",
            "metadata": {}
        },
        {
            "id": "f675a045",
            "cell_type": "markdown",
            "source": "Calculate the function at one point:\n",
            "metadata": {}
        },
        {
            "id": "97e95f22",
            "cell_type": "code",
            "metadata": {},
            "execution_count": null,
            "source": "from scipy.special import j1\nj1(1.)",
            "outputs": [
                {
                    "output_type": "execute_result",
                    "metadata": {},
                    "data": {
                        "text/plain": "0.44005058574493355"
                    },
                    "execution_count": null
                }
            ]
        },
        {
            "id": "22e8a500",
            "cell_type": "markdown",
            "source": "Calculate the function at several points:\n",
            "metadata": {}
        },
        {
            "id": "ab7bb5d2",
            "cell_type": "code",
            "metadata": {},
            "execution_count": null,
            "source": "import numpy as np\nj1(np.array([-2., 0., 4.]))",
            "outputs": [
                {
                    "output_type": "execute_result",
                    "metadata": {},
                    "data": {
                        "text/plain": "array([-0.57672481,  0.        , -0.06604333])"
                    },
                    "execution_count": null
                }
            ]
        },
        {
            "id": "fd2b0d84",
            "cell_type": "markdown",
            "source": "Plot the function from -20 to 20.\n",
            "metadata": {}
        },
        {
            "id": "32627182",
            "cell_type": "code",
            "metadata": {},
            "execution_count": null,
            "source": "import matplotlib.pyplot as plt\nfig, ax = plt.subplots()\nx = np.linspace(-20., 20., 1000)\ny = j1(x)\nax.plot(x, y)\nplt.show()",
            "outputs": []
        }
    ]
}