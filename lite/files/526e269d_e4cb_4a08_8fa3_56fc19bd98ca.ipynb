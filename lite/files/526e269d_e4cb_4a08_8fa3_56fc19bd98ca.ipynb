{
    "nbformat": 4,
    "nbformat_minor": 5,
    "metadata": {
        "kernelspec": {
            "display_name": "Python",
            "language": "python",
            "name": "python"
        },
        "language_info": {
            "name": "python"
        }
    },
    "cells": [
        {
            "id": "0b25de6b",
            "cell_type": "markdown",
            "source": "<div class='alert alert-warning'>\n\nSciPy's interactive examples with Jupyterlite are experimental and may not always work as expected. Execution of cells containing imports may result in large downloads (up to 60MB of content for the first import from SciPy). Load times when importing from SciPy may take roughly 10-20 seconds. If you notice any problems, feel free to open an [issue](https://github.com/scipy/scipy/issues/new/choose).\n\n</div>",
            "metadata": {}
        },
        {
            "id": "44088589",
            "cell_type": "code",
            "metadata": {},
            "execution_count": null,
            "source": "import numpy as np\nimport scipy.special as sc",
            "outputs": []
        },
        {
            "id": "826433e3",
            "cell_type": "markdown",
            "source": "It has a branch cut along the negative `x` axis.\n",
            "metadata": {}
        },
        {
            "id": "71db94ca",
            "cell_type": "code",
            "metadata": {},
            "execution_count": null,
            "source": "x = np.linspace(-0.1, -10, 5)\nsc.hyperu(1, 1, x)",
            "outputs": [
                {
                    "output_type": "execute_result",
                    "metadata": {},
                    "data": {
                        "text/plain": "array([nan, nan, nan, nan, nan])"
                    },
                    "execution_count": null
                }
            ]
        },
        {
            "id": "ccaf4071",
            "cell_type": "markdown",
            "source": "It approaches zero as `x` goes to infinity.\n",
            "metadata": {}
        },
        {
            "id": "f3d1fedf",
            "cell_type": "code",
            "metadata": {},
            "execution_count": null,
            "source": "x = np.array([1, 10, 100])\nsc.hyperu(1, 1, x)",
            "outputs": [
                {
                    "output_type": "execute_result",
                    "metadata": {},
                    "data": {
                        "text/plain": "array([0.59634736, 0.09156333, 0.00990194])"
                    },
                    "execution_count": null
                }
            ]
        },
        {
            "id": "5a3f6520",
            "cell_type": "markdown",
            "source": "It satisfies Kummer's transformation.\n",
            "metadata": {}
        },
        {
            "id": "25f70377",
            "cell_type": "code",
            "metadata": {},
            "execution_count": null,
            "source": "a, b, x = 2, 1, 1\nsc.hyperu(a, b, x)",
            "outputs": [
                {
                    "output_type": "execute_result",
                    "metadata": {},
                    "data": {
                        "text/plain": "0.1926947246463881"
                    },
                    "execution_count": null
                }
            ]
        },
        {
            "id": "9969bdf8",
            "cell_type": "code",
            "metadata": {},
            "execution_count": null,
            "source": "x**(1 - b) * sc.hyperu(a - b + 1, 2 - b, x)",
            "outputs": [
                {
                    "output_type": "execute_result",
                    "metadata": {},
                    "data": {
                        "text/plain": "0.1926947246463881"
                    },
                    "execution_count": null
                }
            ]
        }
    ]
}