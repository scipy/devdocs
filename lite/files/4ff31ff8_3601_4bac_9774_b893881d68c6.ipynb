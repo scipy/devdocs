{
    "nbformat": 4,
    "nbformat_minor": 5,
    "metadata": {
        "kernelspec": {
            "display_name": "Python",
            "language": "python",
            "name": "python"
        },
        "language_info": {
            "name": "python"
        }
    },
    "cells": [
        {
            "id": "98e1e84b",
            "cell_type": "markdown",
            "source": "<div class='alert alert-warning'>\n\nSciPy's interactive examples with Jupyterlite are experimental and may not always work as expected. Execution of cells containing imports may result in large downloads (up to 60MB of content for the first import from SciPy). Load times when importing from SciPy may take roughly 10-20 seconds. If you notice any problems, feel free to open an [issue](https://github.com/scipy/scipy/issues/new/choose).\n\n</div>",
            "metadata": {}
        },
        {
            "id": "60fbee6c",
            "cell_type": "code",
            "metadata": {},
            "execution_count": null,
            "source": "import numpy as np\nimport matplotlib.pyplot as plt\nfrom scipy.special import sici, exp1",
            "outputs": []
        },
        {
            "id": "948ab2c9",
            "cell_type": "markdown",
            "source": "`sici` accepts real or complex input:\n",
            "metadata": {}
        },
        {
            "id": "37ecd7c4",
            "cell_type": "code",
            "metadata": {},
            "execution_count": null,
            "source": "sici(2.5)",
            "outputs": [
                {
                    "output_type": "execute_result",
                    "metadata": {},
                    "data": {
                        "text/plain": "(1.7785201734438267, 0.2858711963653835)"
                    },
                    "execution_count": null
                }
            ]
        },
        {
            "id": "6ea91f28",
            "cell_type": "code",
            "metadata": {},
            "execution_count": null,
            "source": "sici(2.5 + 3j)",
            "outputs": [
                {
                    "output_type": "execute_result",
                    "metadata": {},
                    "data": {
                        "text/plain": "((4.505735874563953+0.06863305018999577j),\n(0.0793644206906966-2.935510262937543j))"
                    },
                    "execution_count": null
                }
            ]
        },
        {
            "id": "4775e1f0",
            "cell_type": "markdown",
            "source": "For z in the right half plane, the sine and cosine integrals are\nrelated to the exponential integral E1 (implemented in SciPy as\n`scipy.special.exp1`) by\n\n* Si(z) = (E1(i*z) - E1(-i*z))/2i + pi/2\n* Ci(z) = -(E1(i*z) + E1(-i*z))/2\n\nSee [1] (equations 5.2.21 and 5.2.23).\n\nWe can verify these relations:\n",
            "metadata": {}
        },
        {
            "id": "b83e075e",
            "cell_type": "code",
            "metadata": {},
            "execution_count": null,
            "source": "z = 2 - 3j\nsici(z)",
            "outputs": [
                {
                    "output_type": "execute_result",
                    "metadata": {},
                    "data": {
                        "text/plain": "((4.54751388956229-1.3991965806460565j),\n(1.408292501520851+2.9836177420296055j))"
                    },
                    "execution_count": null
                }
            ]
        },
        {
            "id": "e7c4396e",
            "cell_type": "code",
            "metadata": {},
            "execution_count": null,
            "source": "(exp1(1j*z) - exp1(-1j*z))/2j + np.pi/2  # Same as sine integral",
            "outputs": [
                {
                    "output_type": "execute_result",
                    "metadata": {},
                    "data": {
                        "text/plain": "(4.54751388956229-1.3991965806460565j)"
                    },
                    "execution_count": null
                }
            ]
        },
        {
            "id": "a3a8bb64",
            "cell_type": "code",
            "metadata": {},
            "execution_count": null,
            "source": "-(exp1(1j*z) + exp1(-1j*z))/2            # Same as cosine integral",
            "outputs": [
                {
                    "output_type": "execute_result",
                    "metadata": {},
                    "data": {
                        "text/plain": "(1.408292501520851+2.9836177420296055j)"
                    },
                    "execution_count": null
                }
            ]
        },
        {
            "id": "1d356fe0",
            "cell_type": "markdown",
            "source": "Plot the functions evaluated on the real axis; the dotted horizontal\nlines are at pi/2 and -pi/2:\n",
            "metadata": {}
        },
        {
            "id": "f13dfe96",
            "cell_type": "code",
            "metadata": {},
            "execution_count": null,
            "source": "x = np.linspace(-16, 16, 150)\nsi, ci = sici(x)",
            "outputs": []
        },
        {
            "id": "77b72c85",
            "cell_type": "code",
            "metadata": {},
            "execution_count": null,
            "source": "fig, ax = plt.subplots()\nax.plot(x, si, label='Si(x)')\nax.plot(x, ci, '--', label='Ci(x)')\nax.legend(shadow=True, framealpha=1, loc='upper left')\nax.set_xlabel('x')\nax.set_title('Sine and Cosine Integrals')\nax.axhline(np.pi/2, linestyle=':', alpha=0.5, color='k')\nax.axhline(-np.pi/2, linestyle=':', alpha=0.5, color='k')\nax.grid(True)\nplt.show()",
            "outputs": []
        }
    ]
}