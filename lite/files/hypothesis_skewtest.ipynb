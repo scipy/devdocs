{
 "cells": [
  {
   "cell_type": "markdown",
   "id": "fc73d9f1",
   "metadata": {},
   "source": [
    "```{eval-rst}\n",
    ".. jupyterlite:: ../../_contents/hypothesis_skewtest.ipynb\n",
    "   :new_tab: True\n",
    "```\n",
    "\n",
    "(hypothesis_skewtest)=\n",
    "# Skewness test\n",
    "\n",
    "This function tests the null hypothesis that the skewness of the population that\n",
    "the sample was drawn from is the same as that of a corresponding normal\n",
    "distribution.\n",
    "\n",
    "Suppose we wish to infer from measurements whether the weights of adult human\n",
    "males in a medical study are not normally distributed [^1]. The weights (lbs)\n",
    "are recorded in the array `x` below."
   ]
  },
  {
   "cell_type": "code",
   "execution_count": null,
   "id": "9287291e",
   "metadata": {},
   "outputs": [],
   "source": [
    "import numpy as np\n",
    "x = np.array([148, 154, 158, 160, 161, 162, 166, 170, 182, 195, 236])"
   ]
  },
  {
   "cell_type": "markdown",
   "id": "61048c43",
   "metadata": {},
   "source": [
    "The skewness test {func}`scipy.stats.skewtest` from [^2] begins by computing a\n",
    "statistic based on the sample skewness."
   ]
  },
  {
   "cell_type": "code",
   "execution_count": null,
   "id": "199d4a0a",
   "metadata": {},
   "outputs": [],
   "source": [
    "from scipy import stats\n",
    "res = stats.skewtest(x)\n",
    "res.statistic"
   ]
  },
  {
   "cell_type": "markdown",
   "id": "1345e3af",
   "metadata": {},
   "source": [
    "Because normal distributions have zero skewness, the magnitude of this statistic\n",
    "tends to be low for samples drawn from a normal distribution.\n",
    "\n",
    "The test is performed by comparing the observed value of the statistic against\n",
    "the null distribution: the distribution of statistic values derived under the\n",
    "null hypothesis that the weights were drawn from a normal distribution.\n",
    "\n",
    "For this test, the null distribution of the statistic for very large samples is\n",
    "the standard normal distribution."
   ]
  },
  {
   "cell_type": "code",
   "execution_count": null,
   "id": "c52660ba",
   "metadata": {},
   "outputs": [],
   "source": [
    "import matplotlib.pyplot as plt\n",
    "dist = stats.norm()\n",
    "st_val = np.linspace(-5, 5, 100)\n",
    "pdf = dist.pdf(st_val)\n",
    "fig, ax = plt.subplots(figsize=(8, 5))\n",
    "\n",
    "def st_plot(ax):  # we'll reuse this\n",
    "    ax.plot(st_val, pdf)\n",
    "    ax.set_title(\"Skew Test Null Distribution\")\n",
    "    ax.set_xlabel(\"statistic\")\n",
    "    ax.set_ylabel(\"probability density\")\n",
    "\n",
    "st_plot(ax)\n",
    "plt.show()"
   ]
  },
  {
   "cell_type": "markdown",
   "id": "0d9365a5",
   "metadata": {},
   "source": [
    "The comparison is quantified by the p-value: the proportion of values in the\n",
    "null distribution as extreme or more extreme than the observed value of the\n",
    "statistic. In a two-sided test, elements of the null distribution greater than\n",
    "the observed statistic and elements of the null distribution less than the\n",
    "negative of the observed statistic are both considered \"more extreme\"."
   ]
  },
  {
   "cell_type": "code",
   "execution_count": null,
   "id": "3ca871b8",
   "metadata": {},
   "outputs": [],
   "source": [
    "fig, ax = plt.subplots(figsize=(8, 5))\n",
    "st_plot(ax)\n",
    "pvalue = dist.cdf(-res.statistic) + dist.sf(res.statistic)\n",
    "annotation = (f'p-value={pvalue:.3f}\\n(shaded area)')\n",
    "props = dict(facecolor='black', width=1, headwidth=5, headlength=8)\n",
    "_ = ax.annotate(annotation, (3, 0.005), (3.25, 0.02), arrowprops=props)\n",
    "i = st_val >= res.statistic\n",
    "ax.fill_between(st_val[i], y1=0, y2=pdf[i], color='C0')\n",
    "i = st_val <= -res.statistic\n",
    "ax.fill_between(st_val[i], y1=0, y2=pdf[i], color='C0')\n",
    "ax.set_xlim(-5, 5)\n",
    "ax.set_ylim(0, 0.1)\n",
    "plt.show()"
   ]
  },
  {
   "cell_type": "code",
   "execution_count": null,
   "id": "e6af3082",
   "metadata": {},
   "outputs": [],
   "source": [
    "res.pvalue"
   ]
  },
  {
   "cell_type": "markdown",
   "id": "ec0db7e0",
   "metadata": {},
   "source": [
    "If the p-value is \"small\" - that is, if there is a low probability of sampling\n",
    "data from a normally distributed population that produces such an extreme value\n",
    "of the statistic - this may be taken as evidence against the null hypothesis in\n",
    "favor of the alternative: the weights were not drawn from a normal distribution.\n",
    "Note that:\n",
    "\n",
    "- The inverse is not true; that is, the test is not used to provide\n",
    "  evidence for the null hypothesis.\n",
    "- The threshold for values that will be considered \"small\" is a choice that\n",
    "  should be made before the data is analyzed [^3] with consideration of the\n",
    "  risks of both false positives (incorrectly rejecting the null hypothesis)\n",
    "  and false negatives (failure to reject a false null hypothesis).\n",
    "\n",
    "Note that the standard normal distribution provides an asymptotic approximation\n",
    "of the null distribution; it is only accurate for samples with many\n",
    "observations. For small samples like ours, {class}`scipy.stats.monte_carlo_test`\n",
    "may provide a more accurate, albeit stochastic, approximation of the exact\n",
    "p-value."
   ]
  },
  {
   "cell_type": "code",
   "execution_count": null,
   "id": "317b7482",
   "metadata": {},
   "outputs": [],
   "source": [
    "def statistic(x, axis):\n",
    "    # get just the skewtest statistic; ignore the p-value\n",
    "    return stats.skewtest(x, axis=axis).statistic\n",
    "\n",
    "res = stats.monte_carlo_test(x, stats.norm.rvs, statistic)\n",
    "fig, ax = plt.subplots(figsize=(8, 5))\n",
    "st_plot(ax)\n",
    "ax.hist(res.null_distribution, np.linspace(-5, 5, 50),\n",
    "        density=True)\n",
    "ax.legend(['asymptotic approximation\\n(many observations)',\n",
    "           'Monte Carlo approximation\\n(11 observations)'])\n",
    "plt.show()"
   ]
  },
  {
   "cell_type": "code",
   "execution_count": null,
   "id": "9ea3c1b1",
   "metadata": {},
   "outputs": [],
   "source": [
    "res.pvalue"
   ]
  },
  {
   "cell_type": "markdown",
   "id": "8dbfc291",
   "metadata": {},
   "source": [
    "In this case, the asymptotic approximation and Monte Carlo approximation agree\n",
    "fairly closely, even for our small sample.\n",
    "\n",
    "## References\n",
    "\n",
    "[^1]: Shapiro, S. S., & Wilk, M. B. (1965). An analysis of variance test for\n",
    "normality (complete samples). Biometrika, 52(3/4), 591-611.\n",
    "[^2]: R. B. D'Agostino, A. J. Belanger and R. B. D'Agostino Jr. (1990). A\n",
    "suggestion for using powerful and informative tests of normality. American\n",
    "Statistician 44, pp. 316-321.\n",
    "[^3]: Phipson, B. and Smyth, G. K. (2010). Permutation P-values Should Never Be\n",
    "Zero: Calculating Exact P-values When Permutations Are Randomly Drawn.\n",
    "Statistical Applications in Genetics and Molecular Biology 9.1."
   ]
  }
 ],
 "metadata": {
  "kernelspec": {
   "display_name": "Python 3 (ipykernel)",
   "language": "python",
   "name": "python3"
  }
 },
 "nbformat": 4,
 "nbformat_minor": 5
}
