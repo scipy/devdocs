{
    "nbformat": 4,
    "nbformat_minor": 5,
    "metadata": {
        "kernelspec": {
            "display_name": "Python",
            "language": "python",
            "name": "python"
        },
        "language_info": {
            "name": "python"
        }
    },
    "cells": [
        {
            "id": "2b6a5fb5",
            "cell_type": "markdown",
            "source": "<div class='alert alert-warning'>\n\nSciPy's interactive examples with Jupyterlite are experimental and may not always work as expected. Execution of cells containing imports may result in large downloads (up to 60MB of content for the first import from SciPy). Load times when importing from SciPy may take roughly 10-20 seconds. If you notice any problems, feel free to open an [issue](https://github.com/scipy/scipy/issues/new/choose).\n\n</div>",
            "metadata": {}
        },
        {
            "id": "fa66753e",
            "cell_type": "code",
            "metadata": {},
            "execution_count": null,
            "source": "from scipy.cluster.hierarchy import median, inconsistent, maxinconsts\nfrom scipy.spatial.distance import pdist",
            "outputs": []
        },
        {
            "id": "d0554835",
            "cell_type": "markdown",
            "source": "Given a data set ``X``, we can apply a clustering method to obtain a\nlinkage matrix ``Z``. `scipy.cluster.hierarchy.inconsistent` can\nbe also used to obtain the inconsistency matrix ``R`` associated to\nthis clustering process:\n",
            "metadata": {}
        },
        {
            "id": "7337553d",
            "cell_type": "code",
            "metadata": {},
            "execution_count": null,
            "source": "X = [[0, 0], [0, 1], [1, 0],\n     [0, 4], [0, 3], [1, 4],\n     [4, 0], [3, 0], [4, 1],\n     [4, 4], [3, 4], [4, 3]]",
            "outputs": []
        },
        {
            "id": "ab6b0c03",
            "cell_type": "code",
            "metadata": {},
            "execution_count": null,
            "source": "Z = median(pdist(X))\nR = inconsistent(Z)\nZ",
            "outputs": [
                {
                    "output_type": "execute_result",
                    "metadata": {},
                    "data": {
                        "text/plain": "array([[ 0.        ,  1.        ,  1.        ,  2.        ],\n       [ 3.        ,  4.        ,  1.        ,  2.        ],\n       [ 9.        , 10.        ,  1.        ,  2.        ],\n       [ 6.        ,  7.        ,  1.        ,  2.        ],\n       [ 2.        , 12.        ,  1.11803399,  3.        ],\n       [ 5.        , 13.        ,  1.11803399,  3.        ],\n       [ 8.        , 15.        ,  1.11803399,  3.        ],\n       [11.        , 14.        ,  1.11803399,  3.        ],\n       [18.        , 19.        ,  3.        ,  6.        ],\n       [16.        , 17.        ,  3.5       ,  6.        ],\n       [20.        , 21.        ,  3.25      , 12.        ]])"
                    },
                    "execution_count": null
                }
            ]
        },
        {
            "id": "e2e47296",
            "cell_type": "code",
            "metadata": {},
            "execution_count": null,
            "source": "R",
            "outputs": [
                {
                    "output_type": "execute_result",
                    "metadata": {},
                    "data": {
                        "text/plain": "array([[1.        , 0.        , 1.        , 0.        ],\n       [1.        , 0.        , 1.        , 0.        ],\n       [1.        , 0.        , 1.        , 0.        ],\n       [1.        , 0.        , 1.        , 0.        ],\n       [1.05901699, 0.08346263, 2.        , 0.70710678],\n       [1.05901699, 0.08346263, 2.        , 0.70710678],\n       [1.05901699, 0.08346263, 2.        , 0.70710678],\n       [1.05901699, 0.08346263, 2.        , 0.70710678],\n       [1.74535599, 1.08655358, 3.        , 1.15470054],\n       [1.91202266, 1.37522872, 3.        , 1.15470054],\n       [3.25      , 0.25      , 3.        , 0.        ]])"
                    },
                    "execution_count": null
                }
            ]
        },
        {
            "id": "07365c1c",
            "cell_type": "markdown",
            "source": "Here, `scipy.cluster.hierarchy.maxinconsts` can be used to compute\nthe maximum value of the inconsistency statistic (the last column of\n``R``) for each non-singleton cluster and its children:\n",
            "metadata": {}
        },
        {
            "id": "81e1d2c1",
            "cell_type": "code",
            "metadata": {},
            "execution_count": null,
            "source": "maxinconsts(Z, R)",
            "outputs": [
                {
                    "output_type": "execute_result",
                    "metadata": {},
                    "data": {
                        "text/plain": "array([0.        , 0.        , 0.        , 0.        , 0.70710678,\n       0.70710678, 0.70710678, 0.70710678, 1.15470054, 1.15470054,\n       1.15470054])"
                    },
                    "execution_count": null
                }
            ]
        }
    ]
}