{
    "nbformat": 4,
    "nbformat_minor": 5,
    "metadata": {
        "kernelspec": {
            "display_name": "Python",
            "language": "python",
            "name": "python"
        },
        "language_info": {
            "name": "python"
        }
    },
    "cells": [
        {
            "id": "b1228093",
            "cell_type": "markdown",
            "source": "<div class='alert alert-warning'>\n\nSciPy's interactive examples with Jupyterlite are experimental and may not always work as expected. Execution of cells containing imports may result in large downloads (up to 60MB of content for the first import from SciPy). Load times when importing from SciPy may take roughly 10-20 seconds. If you notice any problems, feel free to open an [issue](https://github.com/scipy/scipy/issues/new/choose).\n\n</div>",
            "metadata": {}
        },
        {
            "id": "7e368c20",
            "cell_type": "markdown",
            "source": "`fdtri` represents the inverse of the F distribution CDF which is\navailable as `fdtr`. Here, we calculate the CDF for ``df1=1``, ``df2=2``\nat ``x=3``. `fdtri` then returns ``3`` given the same values for `df1`,\n`df2` and the computed CDF value.\n",
            "metadata": {}
        },
        {
            "id": "2a5b7d9b",
            "cell_type": "code",
            "metadata": {},
            "execution_count": null,
            "source": "import numpy as np\nfrom scipy.special import fdtri, fdtr\ndf1, df2 = 1, 2\nx = 3\ncdf_value =  fdtr(df1, df2, x)\nfdtri(df1, df2, cdf_value)",
            "outputs": [
                {
                    "output_type": "execute_result",
                    "metadata": {},
                    "data": {
                        "text/plain": "3.000000000000006"
                    },
                    "execution_count": null
                }
            ]
        },
        {
            "id": "03a8562c",
            "cell_type": "markdown",
            "source": "Calculate the function at several points by providing a NumPy array for\n`x`.\n",
            "metadata": {}
        },
        {
            "id": "7432977b",
            "cell_type": "code",
            "metadata": {},
            "execution_count": null,
            "source": "x = np.array([0.1, 0.4, 0.7])\nfdtri(1, 2, x)",
            "outputs": [
                {
                    "output_type": "execute_result",
                    "metadata": {},
                    "data": {
                        "text/plain": "array([0.02020202, 0.38095238, 1.92156863])"
                    },
                    "execution_count": null
                }
            ]
        },
        {
            "id": "cf8bf800",
            "cell_type": "markdown",
            "source": "Plot the function for several parameter sets.\n",
            "metadata": {}
        },
        {
            "id": "f020d877",
            "cell_type": "code",
            "metadata": {},
            "execution_count": null,
            "source": "import matplotlib.pyplot as plt\ndfn_parameters = [50, 10, 1, 50]\ndfd_parameters = [0.5, 1, 1, 5]\nlinestyles = ['solid', 'dashed', 'dotted', 'dashdot']\nparameters_list = list(zip(dfn_parameters, dfd_parameters,\n                           linestyles))\nx = np.linspace(0, 1, 1000)\nfig, ax = plt.subplots()\nfor parameter_set in parameters_list:\n    dfn, dfd, style = parameter_set\n    fdtri_vals = fdtri(dfn, dfd, x)\n    ax.plot(x, fdtri_vals, label=rf\"$d_n={dfn},\\, d_d={dfd}$\",\n            ls=style)\nax.legend()\nax.set_xlabel(\"$x$\")\ntitle = \"F distribution inverse cumulative distribution function\"\nax.set_title(title)\nax.set_ylim(0, 30)\nplt.show()",
            "outputs": []
        },
        {
            "id": "9ad5f9c5",
            "cell_type": "markdown",
            "source": "The F distribution is also available as `scipy.stats.f`. Using `fdtri`\ndirectly can be much faster than calling the ``ppf`` method of\n`scipy.stats.f`, especially for small arrays or individual values.\nTo get the same results one must use the following parametrization:\n``stats.f(dfn, dfd).ppf(x)=fdtri(dfn, dfd, x)``.\n",
            "metadata": {}
        },
        {
            "id": "f71b316c",
            "cell_type": "code",
            "metadata": {},
            "execution_count": null,
            "source": "from scipy.stats import f\ndfn, dfd = 1, 2\nx = 0.7\nfdtri_res = fdtri(dfn, dfd, x)  # this will often be faster than below\nf_dist_res = f(dfn, dfd).ppf(x)\nf_dist_res == fdtri_res  # test that results are equal",
            "outputs": [
                {
                    "output_type": "execute_result",
                    "metadata": {},
                    "data": {
                        "text/plain": "True"
                    },
                    "execution_count": null
                }
            ]
        }
    ]
}