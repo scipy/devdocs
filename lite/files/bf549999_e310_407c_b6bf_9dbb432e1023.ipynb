{
    "nbformat": 4,
    "nbformat_minor": 5,
    "metadata": {
        "kernelspec": {
            "display_name": "Python",
            "language": "python",
            "name": "python"
        },
        "language_info": {
            "name": "python"
        }
    },
    "cells": [
        {
            "id": "e3e0bdb1",
            "cell_type": "markdown",
            "source": "<div class='alert alert-warning'>\n\nSciPy's interactive examples with Jupyterlite are experimental and may not always work as expected. Execution of cells containing imports may result in large downloads (up to 60MB of content for the first import from SciPy). Load times when importing from SciPy may take roughly 10-20 seconds. If you notice any problems, feel free to open an [issue](https://github.com/scipy/scipy/issues/new/choose).\n\n</div>",
            "metadata": {}
        },
        {
            "id": "0a35272c",
            "cell_type": "code",
            "metadata": {},
            "execution_count": null,
            "source": "import numpy as np\nfrom scipy.stats import johnsonsu\nimport matplotlib.pyplot as plt\nfig, ax = plt.subplots(1, 1)",
            "outputs": []
        },
        {
            "id": "f33e63d2",
            "cell_type": "markdown",
            "source": "Calculate the first four moments:\n",
            "metadata": {}
        },
        {
            "id": "f77ce8f9",
            "cell_type": "code",
            "metadata": {},
            "execution_count": null,
            "source": "a, b = 2.55, 2.25\nmean, var, skew, kurt = johnsonsu.stats(a, b, moments='mvsk')",
            "outputs": []
        },
        {
            "id": "40c71dba",
            "cell_type": "markdown",
            "source": "Display the probability density function (``pdf``):\n",
            "metadata": {}
        },
        {
            "id": "b7cbdfff",
            "cell_type": "code",
            "metadata": {},
            "execution_count": null,
            "source": "x = np.linspace(johnsonsu.ppf(0.01, a, b),\n                johnsonsu.ppf(0.99, a, b), 100)\nax.plot(x, johnsonsu.pdf(x, a, b),\n       'r-', lw=5, alpha=0.6, label='johnsonsu pdf')",
            "outputs": []
        },
        {
            "id": "fe382fb0",
            "cell_type": "markdown",
            "source": "Alternatively, the distribution object can be called (as a function)\nto fix the shape, location and scale parameters. This returns a \"frozen\"\nRV object holding the given parameters fixed.\n\nFreeze the distribution and display the frozen ``pdf``:\n",
            "metadata": {}
        },
        {
            "id": "7364a7a8",
            "cell_type": "code",
            "metadata": {},
            "execution_count": null,
            "source": "rv = johnsonsu(a, b)\nax.plot(x, rv.pdf(x), 'k-', lw=2, label='frozen pdf')",
            "outputs": []
        },
        {
            "id": "fbfa9b54",
            "cell_type": "markdown",
            "source": "Check accuracy of ``cdf`` and ``ppf``:\n",
            "metadata": {}
        },
        {
            "id": "325a547a",
            "cell_type": "code",
            "metadata": {},
            "execution_count": null,
            "source": "vals = johnsonsu.ppf([0.001, 0.5, 0.999], a, b)\nnp.allclose([0.001, 0.5, 0.999], johnsonsu.cdf(vals, a, b))",
            "outputs": [
                {
                    "output_type": "execute_result",
                    "metadata": {},
                    "data": {
                        "text/plain": "True"
                    },
                    "execution_count": null
                }
            ]
        },
        {
            "id": "c1f7dfa8",
            "cell_type": "markdown",
            "source": "Generate random numbers:\n",
            "metadata": {}
        },
        {
            "id": "b02c38e5",
            "cell_type": "code",
            "metadata": {},
            "execution_count": null,
            "source": "r = johnsonsu.rvs(a, b, size=1000)",
            "outputs": []
        },
        {
            "id": "a5657738",
            "cell_type": "markdown",
            "source": "And compare the histogram:\n",
            "metadata": {}
        },
        {
            "id": "76cb9495",
            "cell_type": "code",
            "metadata": {},
            "execution_count": null,
            "source": "ax.hist(r, density=True, bins='auto', histtype='stepfilled', alpha=0.2)\nax.set_xlim([x[0], x[-1]])\nax.legend(loc='best', frameon=False)\nplt.show()",
            "outputs": []
        }
    ]
}