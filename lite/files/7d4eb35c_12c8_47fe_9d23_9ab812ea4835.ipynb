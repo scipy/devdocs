{
    "nbformat": 4,
    "nbformat_minor": 5,
    "metadata": {
        "kernelspec": {
            "display_name": "Python",
            "language": "python",
            "name": "python"
        },
        "language_info": {
            "name": "python"
        }
    },
    "cells": [
        {
            "id": "f209e4fb",
            "cell_type": "markdown",
            "source": "<div class='alert alert-warning'>\n\nSciPy's interactive examples with Jupyterlite are experimental and may not always work as expected. Execution of cells containing imports may result in large downloads (up to 60MB of content for the first import from SciPy). Load times when importing from SciPy may take roughly 10-20 seconds. If you notice any problems, feel free to open an [issue](https://github.com/scipy/scipy/issues/new/choose).\n\n</div>",
            "metadata": {}
        },
        {
            "id": "a75ead8b",
            "cell_type": "markdown",
            "source": "The following example shows the spectrogram of a square wave with\nvarying frequency $f_i(t)$ (marked by a green dashed line in the\nplot) sampled with 20 Hz:\n",
            "metadata": {}
        },
        {
            "id": "e28fcafd",
            "cell_type": "code",
            "metadata": {},
            "execution_count": null,
            "source": "import matplotlib.pyplot as plt\nimport numpy as np\nfrom scipy.signal import square, ShortTimeFFT\nfrom scipy.signal.windows import gaussian\n\nT_x, N = 1 / 20, 1000  # 20 Hz sampling rate for 50 s signal\nt_x = np.arange(N) * T_x  # time indexes for signal\nf_i = 5e-3*(t_x - t_x[N // 3])**2 + 1  # varying frequency\nx = square(2*np.pi*np.cumsum(f_i)*T_x)  # the signal",
            "outputs": []
        },
        {
            "id": "1c53a04c",
            "cell_type": "markdown",
            "source": "The utilized Gaussian window is 50 samples or 2.5 s long. The\nparameter ``mfft=800`` (oversampling factor 16) and the `hop` interval\nof 2 in `ShortTimeFFT` was chosen to produce a sufficient number of\npoints:\n",
            "metadata": {}
        },
        {
            "id": "842477c6",
            "cell_type": "code",
            "metadata": {},
            "execution_count": null,
            "source": "g_std = 12  # standard deviation for Gaussian window in samples\nwin = gaussian(50, std=g_std, sym=True)  # symmetric Gaussian wind.\nSFT = ShortTimeFFT(win, hop=2, fs=1/T_x, mfft=800, scale_to='psd')\nSx2 = SFT.spectrogram(x)  # calculate absolute square of STFT",
            "outputs": []
        },
        {
            "id": "e3090a90",
            "cell_type": "markdown",
            "source": "The plot's colormap is logarithmically scaled as the power spectral\ndensity is in dB. The time extent of the signal `x` is marked by\nvertical dashed lines and the shaded areas mark the presence of border\neffects:\n",
            "metadata": {}
        },
        {
            "id": "8c3dc9e5",
            "cell_type": "code",
            "metadata": {},
            "execution_count": null,
            "source": "fig1, ax1 = plt.subplots(figsize=(6., 4.))  # enlarge plot a bit\nt_lo, t_hi = SFT.extent(N)[:2]  # time range of plot\nax1.set_title(rf\"Spectrogram ({SFT.m_num*SFT.T:g}$\\,s$ Gaussian \" +\n              rf\"window, $\\sigma_t={g_std*SFT.T:g}\\,$s)\")\nax1.set(xlabel=f\"Time $t$ in seconds ({SFT.p_num(N)} slices, \" +\n               rf\"$\\Delta t = {SFT.delta_t:g}\\,$s)\",\n        ylabel=f\"Freq. $f$ in Hz ({SFT.f_pts} bins, \" +\n               rf\"$\\Delta f = {SFT.delta_f:g}\\,$Hz)\",\n        xlim=(t_lo, t_hi))\nSx_dB = 10 * np.log10(np.fmax(Sx2, 1e-4))  # limit range to -40 dB\nim1 = ax1.imshow(Sx_dB, origin='lower', aspect='auto',\n                 extent=SFT.extent(N), cmap='magma')\nax1.plot(t_x, f_i, 'g--', alpha=.5, label='$f_i(t)$')\nfig1.colorbar(im1, label='Power Spectral Density ' +\n                         r\"$20\\,\\log_{10}|S_x(t, f)|$ in dB\")\n\n# Shade areas where window slices stick out to the side:\nfor t0_, t1_ in [(t_lo, SFT.lower_border_end[0] * SFT.T),\n                 (SFT.upper_border_begin(N)[0] * SFT.T, t_hi)]:\n    ax1.axvspan(t0_, t1_, color='w', linewidth=0, alpha=.3)\nfor t_ in [0, N * SFT.T]:  # mark signal borders with vertical line\n    ax1.axvline(t_, color='c', linestyle='--', alpha=0.5)\nax1.legend()\nfig1.tight_layout()\nplt.show()",
            "outputs": []
        },
        {
            "id": "564ec0b7",
            "cell_type": "markdown",
            "source": "The logarithmic scaling reveals the odd harmonics of the square wave,\nwhich are reflected at the Nyquist frequency of 10 Hz. This aliasing\nis also the main source of the noise artifacts in the plot.\n",
            "metadata": {}
        }
    ]
}