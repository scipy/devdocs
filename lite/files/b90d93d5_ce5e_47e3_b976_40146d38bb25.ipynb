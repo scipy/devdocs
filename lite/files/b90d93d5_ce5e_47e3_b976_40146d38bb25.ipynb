{
    "nbformat": 4,
    "nbformat_minor": 5,
    "metadata": {
        "kernelspec": {
            "display_name": "Python",
            "language": "python",
            "name": "python"
        },
        "language_info": {
            "name": "python"
        }
    },
    "cells": [
        {
            "id": "44127121",
            "cell_type": "markdown",
            "source": "<div class='alert alert-warning'>\n\nSciPy's interactive examples with Jupyterlite are experimental and may not always work as expected. Execution of cells containing imports may result in large downloads (up to 60MB of content for the first import from SciPy). Load times when importing from SciPy may take roughly 10-20 seconds. If you notice any problems, feel free to open an [issue](https://github.com/scipy/scipy/issues/new/choose).\n\n</div>",
            "metadata": {}
        },
        {
            "id": "3c3cd895",
            "cell_type": "markdown",
            "source": "Compare the output of `yv` and `yve` for large complex arguments for `z`\nby computing their values for order ``v=1`` at ``z=1000j``. We see that\n`yv` returns nan but `yve` returns a finite number:\n",
            "metadata": {}
        },
        {
            "id": "b9ce4968",
            "cell_type": "code",
            "metadata": {},
            "execution_count": null,
            "source": "import numpy as np\nfrom scipy.special import yv, yve\nv = 1\nz = 1000j\nyv(v, z), yve(v, z)",
            "outputs": [
                {
                    "output_type": "execute_result",
                    "metadata": {},
                    "data": {
                        "text/plain": "((nan+nanj), (-0.012610930256928629+7.721967686709076e-19j))"
                    },
                    "execution_count": null
                }
            ]
        },
        {
            "id": "45811f60",
            "cell_type": "markdown",
            "source": "For real arguments for `z`, `yve` returns the same as `yv` up to\nfloating point errors.\n",
            "metadata": {}
        },
        {
            "id": "8df54dab",
            "cell_type": "code",
            "metadata": {},
            "execution_count": null,
            "source": "v, z = 1, 1000\nyv(v, z), yve(v, z)",
            "outputs": [
                {
                    "output_type": "execute_result",
                    "metadata": {},
                    "data": {
                        "text/plain": "(-0.02478433129235178, -0.02478433129235179)"
                    },
                    "execution_count": null
                }
            ]
        },
        {
            "id": "3e32c1d6",
            "cell_type": "markdown",
            "source": "The function can be evaluated for several orders at the same time by\nproviding a list or NumPy array for `v`:\n",
            "metadata": {}
        },
        {
            "id": "795951ec",
            "cell_type": "code",
            "metadata": {},
            "execution_count": null,
            "source": "yve([1, 2, 3], 1j)",
            "outputs": [
                {
                    "output_type": "execute_result",
                    "metadata": {},
                    "data": {
                        "text/plain": "array([-0.20791042+0.14096627j,  0.38053618-0.04993878j,\n       0.00815531-1.66311097j])"
                    },
                    "execution_count": null
                }
            ]
        },
        {
            "id": "0028de1b",
            "cell_type": "markdown",
            "source": "In the same way, the function can be evaluated at several points in one\ncall by providing a list or NumPy array for `z`:\n",
            "metadata": {}
        },
        {
            "id": "3eadbfac",
            "cell_type": "code",
            "metadata": {},
            "execution_count": null,
            "source": "yve(1, np.array([1j, 2j, 3j]))",
            "outputs": [
                {
                    "output_type": "execute_result",
                    "metadata": {},
                    "data": {
                        "text/plain": "array([-0.20791042+0.14096627j, -0.21526929+0.01205044j,\n       -0.19682671+0.00127278j])"
                    },
                    "execution_count": null
                }
            ]
        },
        {
            "id": "e09d624f",
            "cell_type": "markdown",
            "source": "It is also possible to evaluate several orders at several points\nat the same time by providing arrays for `v` and `z` with\nbroadcasting compatible shapes. Compute `yve` for two different orders\n`v` and three points `z` resulting in a 2x3 array.\n",
            "metadata": {}
        },
        {
            "id": "172a8fd3",
            "cell_type": "code",
            "metadata": {},
            "execution_count": null,
            "source": "v = np.array([[1], [2]])\nz = np.array([3j, 4j, 5j])\nv.shape, z.shape",
            "outputs": [
                {
                    "output_type": "execute_result",
                    "metadata": {},
                    "data": {
                        "text/plain": "((2, 1), (3,))"
                    },
                    "execution_count": null
                }
            ]
        },
        {
            "id": "a617e3df",
            "cell_type": "code",
            "metadata": {},
            "execution_count": null,
            "source": "yve(v, z)",
            "outputs": [
                {
                    "output_type": "execute_result",
                    "metadata": {},
                    "data": {
                        "text/plain": "array([[-1.96826713e-01+1.27277544e-03j, -1.78750840e-01+1.45558819e-04j,\n        -1.63972267e-01+1.73494110e-05j],\n       [1.94960056e-03-1.11782545e-01j,  2.02902325e-04-1.17626501e-01j,\n        2.27727687e-05-1.17951906e-01j]])"
                    },
                    "execution_count": null
                }
            ]
        }
    ]
}