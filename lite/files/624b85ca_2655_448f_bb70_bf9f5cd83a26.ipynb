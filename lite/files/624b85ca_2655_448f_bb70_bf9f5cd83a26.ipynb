{
    "nbformat": 4,
    "nbformat_minor": 5,
    "metadata": {
        "kernelspec": {
            "display_name": "Python",
            "language": "python",
            "name": "python"
        },
        "language_info": {
            "name": "python"
        }
    },
    "cells": [
        {
            "id": "3c703486",
            "cell_type": "markdown",
            "source": "<div class='alert alert-warning'>\n\nSciPy's interactive examples with Jupyterlite are experimental and may not always work as expected. Execution of cells containing imports may result in large downloads (up to 60MB of content for the first import from SciPy). Load times when importing from SciPy may take roughly 10-20 seconds. If you notice any problems, feel free to open an [issue](https://github.com/scipy/scipy/issues/new/choose).\n\n</div>",
            "metadata": {}
        },
        {
            "id": "689107bf",
            "cell_type": "markdown",
            "source": "By default all errors are ignored.\n",
            "metadata": {}
        },
        {
            "id": "2349c6d8",
            "cell_type": "code",
            "metadata": {},
            "execution_count": null,
            "source": "import scipy.special as sc\nfor key, value in sorted(sc.geterr().items()):\n    print(\"{}: {}\".format(key, value))\n",
            "outputs": [
                {
                    "output_type": "execute_result",
                    "metadata": {},
                    "data": {
                        "text/plain": "arg: ignore\ndomain: ignore\nloss: ignore\nno_result: ignore\nother: ignore\noverflow: ignore\nsingular: ignore\nslow: ignore\nunderflow: ignore"
                    },
                    "execution_count": null
                }
            ]
        }
    ]
}