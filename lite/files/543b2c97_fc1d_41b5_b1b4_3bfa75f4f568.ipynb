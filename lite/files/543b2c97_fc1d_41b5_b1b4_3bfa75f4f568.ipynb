{
    "nbformat": 4,
    "nbformat_minor": 5,
    "metadata": {
        "kernelspec": {
            "display_name": "Python",
            "language": "python",
            "name": "python"
        },
        "language_info": {
            "name": "python"
        }
    },
    "cells": [
        {
            "id": "03f84def",
            "cell_type": "markdown",
            "source": "<div class='alert alert-warning'>\n\nSciPy's interactive examples with Jupyterlite are experimental and may not always work as expected. Execution of cells containing imports may result in large downloads (up to 60MB of content for the first import from SciPy). Load times when importing from SciPy may take roughly 10-20 seconds. If you notice any problems, feel free to open an [issue](https://github.com/scipy/scipy/issues/new/choose).\n\n</div>",
            "metadata": {}
        },
        {
            "id": "6a5ca60f",
            "cell_type": "code",
            "metadata": {},
            "execution_count": null,
            "source": "import numpy as np\nfrom scipy.optimize import nnls\n\nA = np.array([[1, 0], [1, 0], [0, 1]])\nb = np.array([2, 1, 1])\nnnls(A, b)",
            "outputs": [
                {
                    "output_type": "execute_result",
                    "metadata": {},
                    "data": {
                        "text/plain": "(array([1.5, 1. ]), 0.7071067811865475)"
                    },
                    "execution_count": null
                }
            ]
        },
        {
            "id": "f8d4aebf",
            "cell_type": "code",
            "metadata": {},
            "execution_count": null,
            "source": "b = np.array([-1, -1, -1])\nnnls(A, b)",
            "outputs": [
                {
                    "output_type": "execute_result",
                    "metadata": {},
                    "data": {
                        "text/plain": "(array([0., 0.]), 1.7320508075688772)"
                    },
                    "execution_count": null
                }
            ]
        }
    ]
}