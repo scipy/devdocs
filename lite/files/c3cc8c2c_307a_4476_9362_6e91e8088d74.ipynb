{
    "nbformat": 4,
    "nbformat_minor": 5,
    "metadata": {
        "kernelspec": {
            "display_name": "Python",
            "language": "python",
            "name": "python"
        },
        "language_info": {
            "name": "python"
        }
    },
    "cells": [
        {
            "id": "55de2bb8",
            "cell_type": "markdown",
            "source": "<div class='alert alert-warning'>\n\nSciPy's interactive examples with Jupyterlite are experimental and may not always work as expected. Execution of cells containing imports may result in large downloads (up to 60MB of content for the first import from SciPy). Load times when importing from SciPy may take roughly 10-20 seconds. If you notice any problems, feel free to open an [issue](https://github.com/scipy/scipy/issues/new/choose).\n\n</div>",
            "metadata": {}
        },
        {
            "id": "4c9faa6a",
            "cell_type": "markdown",
            "source": "Instantiate a distribution with the desired parameters:\n",
            "metadata": {}
        },
        {
            "id": "5ee4fe10",
            "cell_type": "code",
            "metadata": {},
            "execution_count": null,
            "source": "from scipy import stats\nX = stats.Normal(mu=1., sigma=2.)",
            "outputs": []
        },
        {
            "id": "a8a62af8",
            "cell_type": "markdown",
            "source": "Evaluate the kurtosis:\n",
            "metadata": {}
        },
        {
            "id": "f8d40c4d",
            "cell_type": "code",
            "metadata": {},
            "execution_count": null,
            "source": "X.kurtosis()",
            "outputs": [
                {
                    "output_type": "execute_result",
                    "metadata": {},
                    "data": {
                        "text/plain": "3.0"
                    },
                    "execution_count": null
                }
            ]
        },
        {
            "id": "704f3479",
            "cell_type": "code",
            "metadata": {},
            "execution_count": null,
            "source": "(X.kurtosis()\n == X.kurtosis(convention='excess') + 3.\n == X.moment(order=4, kind='standardized'))",
            "outputs": [
                {
                    "output_type": "execute_result",
                    "metadata": {},
                    "data": {
                        "text/plain": "True"
                    },
                    "execution_count": null
                }
            ]
        }
    ]
}