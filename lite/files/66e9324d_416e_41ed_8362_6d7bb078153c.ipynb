{
    "nbformat": 4,
    "nbformat_minor": 5,
    "metadata": {
        "kernelspec": {
            "display_name": "Python",
            "language": "python",
            "name": "python"
        },
        "language_info": {
            "name": "python"
        }
    },
    "cells": [
        {
            "id": "5c4e294e",
            "cell_type": "markdown",
            "source": "<div class='alert alert-warning'>\n\nSciPy's interactive examples with Jupyterlite are experimental and may not always work as expected. Execution of cells containing imports may result in large downloads (up to 60MB of content for the first import from SciPy). Load times when importing from SciPy may take roughly 10-20 seconds. If you notice any problems, feel free to open an [issue](https://github.com/scipy/scipy/issues/new/choose).\n\n</div>",
            "metadata": {}
        },
        {
            "id": "3e39c6f6",
            "cell_type": "code",
            "metadata": {},
            "execution_count": null,
            "source": "from scipy.fftpack import fft, rfft\na = [9, -9, 1, 3]\nfft(a)",
            "outputs": [
                {
                    "output_type": "execute_result",
                    "metadata": {},
                    "data": {
                        "text/plain": "array([  4. +0.j,   8.+12.j,  16. +0.j,   8.-12.j])"
                    },
                    "execution_count": null
                }
            ]
        },
        {
            "id": "e807edca",
            "cell_type": "code",
            "metadata": {},
            "execution_count": null,
            "source": "rfft(a)",
            "outputs": [
                {
                    "output_type": "execute_result",
                    "metadata": {},
                    "data": {
                        "text/plain": "array([  4.,   8.,  12.,  16.])"
                    },
                    "execution_count": null
                }
            ]
        }
    ]
}