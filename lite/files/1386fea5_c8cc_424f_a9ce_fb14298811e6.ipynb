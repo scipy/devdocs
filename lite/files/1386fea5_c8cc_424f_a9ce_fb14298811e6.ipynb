{
    "nbformat": 4,
    "nbformat_minor": 5,
    "metadata": {
        "kernelspec": {
            "display_name": "Python",
            "language": "python",
            "name": "python"
        },
        "language_info": {
            "name": "python"
        }
    },
    "cells": [
        {
            "id": "315424b3",
            "cell_type": "markdown",
            "source": "<div class='alert alert-warning'>\n\nSciPy's interactive examples with Jupyterlite are experimental and may not always work as expected. Execution of cells containing imports may result in large downloads (up to 60MB of content for the first import from SciPy). Load times when importing from SciPy may take roughly 10-20 seconds. If you notice any problems, feel free to open an [issue](https://github.com/scipy/scipy/issues/new/choose).\n\n</div>",
            "metadata": {}
        },
        {
            "id": "fabb3a70",
            "cell_type": "code",
            "metadata": {},
            "execution_count": null,
            "source": "from scipy import ndimage\nimport numpy as np\na = np.arange(36).reshape((6,6))\na[3,3] = 0\na",
            "outputs": [
                {
                    "output_type": "execute_result",
                    "metadata": {},
                    "data": {
                        "text/plain": "array([[ 0,  1,  2,  3,  4,  5],\n       [ 6,  7,  8,  9, 10, 11],\n       [12, 13, 14, 15, 16, 17],\n       [18, 19, 20,  0, 22, 23],\n       [24, 25, 26, 27, 28, 29],\n       [30, 31, 32, 33, 34, 35]])"
                    },
                    "execution_count": null
                }
            ]
        },
        {
            "id": "1681ecf6",
            "cell_type": "code",
            "metadata": {},
            "execution_count": null,
            "source": "ndimage.grey_closing(a, size=(3,3))",
            "outputs": [
                {
                    "output_type": "execute_result",
                    "metadata": {},
                    "data": {
                        "text/plain": "array([[ 7,  7,  8,  9, 10, 11],\n       [ 7,  7,  8,  9, 10, 11],\n       [13, 13, 14, 15, 16, 17],\n       [19, 19, 20, 20, 22, 23],\n       [25, 25, 26, 27, 28, 29],\n       [31, 31, 32, 33, 34, 35]])"
                    },
                    "execution_count": null
                }
            ]
        },
        {
            "id": "e58a0752",
            "cell_type": "code",
            "metadata": {},
            "execution_count": null,
            "source": "# Note that the local minimum a[3,3] has disappeared",
            "outputs": []
        }
    ]
}