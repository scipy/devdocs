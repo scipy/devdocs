{
    "nbformat": 4,
    "nbformat_minor": 5,
    "metadata": {
        "kernelspec": {
            "display_name": "Python",
            "language": "python",
            "name": "python"
        },
        "language_info": {
            "name": "python"
        }
    },
    "cells": [
        {
            "id": "f7b9711d",
            "cell_type": "markdown",
            "source": "<div class='alert alert-warning'>\n\nSciPy's interactive examples with Jupyterlite are experimental and may not always work as expected. Execution of cells containing imports may result in large downloads (up to 60MB of content for the first import from SciPy). Load times when importing from SciPy may take roughly 10-20 seconds. If you notice any problems, feel free to open an [issue](https://github.com/scipy/scipy/issues/new/choose).\n\n</div>",
            "metadata": {}
        },
        {
            "id": "57e7cafd",
            "cell_type": "code",
            "metadata": {},
            "execution_count": null,
            "source": "import numpy as np\nfrom scipy.stats.mstats import hdquantiles\n\n# Sample data\ndata = np.array([1.2, 2.5, 3.7, 4.0, 5.1, 6.3, 7.0, 8.2, 9.4])\n\n# Probabilities at which to compute quantiles\nprobabilities = [0.25, 0.5, 0.75]\n\n# Compute Harrell-Davis quantile estimates\nquantile_estimates = hdquantiles(data, prob=probabilities)\n\n# Display the quantile estimates\nfor i, quantile in enumerate(probabilities):\n    print(f\"{int(quantile * 100)}th percentile: {quantile_estimates[i]}\")",
            "outputs": [
                {
                    "output_type": "execute_result",
                    "metadata": {},
                    "data": {
                        "text/plain": "25th percentile: 3.1505820231763066 # may vary\n50th percentile: 5.194344084883956\n75th percentile: 7.430626414674935"
                    },
                    "execution_count": null
                }
            ]
        }
    ]
}