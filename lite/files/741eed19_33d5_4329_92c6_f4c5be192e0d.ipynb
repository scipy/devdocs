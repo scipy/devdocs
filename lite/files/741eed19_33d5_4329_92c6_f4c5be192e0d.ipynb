{
    "nbformat": 4,
    "nbformat_minor": 5,
    "metadata": {
        "kernelspec": {
            "display_name": "Python",
            "language": "python",
            "name": "python"
        },
        "language_info": {
            "name": "python"
        }
    },
    "cells": [
        {
            "id": "89a7877d",
            "cell_type": "markdown",
            "source": "<div class='alert alert-warning'>\n\nSciPy's interactive examples with Jupyterlite are experimental and may not always work as expected. Execution of cells containing imports may result in large downloads (up to 60MB of content for the first import from SciPy). Load times when importing from SciPy may take roughly 10-20 seconds. If you notice any problems, feel free to open an [issue](https://github.com/scipy/scipy/issues/new/choose).\n\n</div>",
            "metadata": {}
        },
        {
            "id": "cc7162bb",
            "cell_type": "code",
            "metadata": {},
            "execution_count": null,
            "source": "from scipy import signal",
            "outputs": []
        },
        {
            "id": "15d5341c",
            "cell_type": "markdown",
            "source": "Confirm COLA condition for rectangular window of 75% (3/4) overlap:\n",
            "metadata": {}
        },
        {
            "id": "85744581",
            "cell_type": "code",
            "metadata": {},
            "execution_count": null,
            "source": "signal.check_COLA(signal.windows.boxcar(100), 100, 75)",
            "outputs": [
                {
                    "output_type": "execute_result",
                    "metadata": {},
                    "data": {
                        "text/plain": "True"
                    },
                    "execution_count": null
                }
            ]
        },
        {
            "id": "1769edfc",
            "cell_type": "markdown",
            "source": "COLA is not true for 25% (1/4) overlap, though:\n",
            "metadata": {}
        },
        {
            "id": "fb923fbb",
            "cell_type": "code",
            "metadata": {},
            "execution_count": null,
            "source": "signal.check_COLA(signal.windows.boxcar(100), 100, 25)",
            "outputs": [
                {
                    "output_type": "execute_result",
                    "metadata": {},
                    "data": {
                        "text/plain": "False"
                    },
                    "execution_count": null
                }
            ]
        },
        {
            "id": "0c046100",
            "cell_type": "markdown",
            "source": "\"Symmetrical\" Hann window (for filter design) is not COLA:\n",
            "metadata": {}
        },
        {
            "id": "c2c5e27b",
            "cell_type": "code",
            "metadata": {},
            "execution_count": null,
            "source": "signal.check_COLA(signal.windows.hann(120, sym=True), 120, 60)",
            "outputs": [
                {
                    "output_type": "execute_result",
                    "metadata": {},
                    "data": {
                        "text/plain": "False"
                    },
                    "execution_count": null
                }
            ]
        },
        {
            "id": "d6e5d2f3",
            "cell_type": "markdown",
            "source": "\"Periodic\" or \"DFT-even\" Hann window (for FFT analysis) is COLA for\noverlap of 1/2, 2/3, 3/4, etc.:\n",
            "metadata": {}
        },
        {
            "id": "233e9d7d",
            "cell_type": "code",
            "metadata": {},
            "execution_count": null,
            "source": "signal.check_COLA(signal.windows.hann(120, sym=False), 120, 60)",
            "outputs": [
                {
                    "output_type": "execute_result",
                    "metadata": {},
                    "data": {
                        "text/plain": "True"
                    },
                    "execution_count": null
                }
            ]
        },
        {
            "id": "0d553cc5",
            "cell_type": "code",
            "metadata": {},
            "execution_count": null,
            "source": "signal.check_COLA(signal.windows.hann(120, sym=False), 120, 80)",
            "outputs": [
                {
                    "output_type": "execute_result",
                    "metadata": {},
                    "data": {
                        "text/plain": "True"
                    },
                    "execution_count": null
                }
            ]
        },
        {
            "id": "4e2b1533",
            "cell_type": "code",
            "metadata": {},
            "execution_count": null,
            "source": "signal.check_COLA(signal.windows.hann(120, sym=False), 120, 90)",
            "outputs": [
                {
                    "output_type": "execute_result",
                    "metadata": {},
                    "data": {
                        "text/plain": "True"
                    },
                    "execution_count": null
                }
            ]
        }
    ]
}