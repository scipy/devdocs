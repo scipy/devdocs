{
    "nbformat": 4,
    "nbformat_minor": 5,
    "metadata": {
        "kernelspec": {
            "display_name": "Python",
            "language": "python",
            "name": "python"
        },
        "language_info": {
            "name": "python"
        }
    },
    "cells": [
        {
            "id": "1a83f364",
            "cell_type": "markdown",
            "source": "<div class='alert alert-warning'>\n\nSciPy's interactive examples with Jupyterlite are experimental and may not always work as expected. Execution of cells containing imports may result in large downloads (up to 60MB of content for the first import from SciPy). Load times when importing from SciPy may take roughly 10-20 seconds. If you notice any problems, feel free to open an [issue](https://github.com/scipy/scipy/issues/new/choose).\n\n</div>",
            "metadata": {}
        },
        {
            "id": "751fa070",
            "cell_type": "markdown",
            "source": "Use the 'zpk' (Zero-Pole-Gain) representation of a lowpass filter to\ntransform it to a highpass filter with a cutoff frequency wo.\n",
            "metadata": {}
        },
        {
            "id": "9281e319",
            "cell_type": "code",
            "metadata": {},
            "execution_count": null,
            "source": "from scipy.signal import lp2hp_zpk\nz   = [ -2 + 3j ,  -0.5 - 0.8j ]\np   = [ -1      ,  -4          ]\nk   = 10\nwo  = 0.6\nlp2hp_zpk(z, p, k, wo)",
            "outputs": [
                {
                    "output_type": "execute_result",
                    "metadata": {},
                    "data": {
                        "text/plain": "(   array([-0.09230769-0.13846154j, -0.33707865+0.53932584j]),\n    array([-0.6 , -0.15]),\n    8.5)"
                    },
                    "execution_count": null
                }
            ]
        }
    ]
}