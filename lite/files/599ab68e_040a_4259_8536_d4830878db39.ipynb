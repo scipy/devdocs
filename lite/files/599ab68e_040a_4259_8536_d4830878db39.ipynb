{
    "nbformat": 4,
    "nbformat_minor": 5,
    "metadata": {
        "kernelspec": {
            "display_name": "Python",
            "language": "python",
            "name": "python"
        },
        "language_info": {
            "name": "python"
        }
    },
    "cells": [
        {
            "id": "836af4fe",
            "cell_type": "markdown",
            "source": "<div class='alert alert-warning'>\n\nSciPy's interactive examples with Jupyterlite are experimental and may not always work as expected. Execution of cells containing imports may result in large downloads (up to 60MB of content for the first import from SciPy). Load times when importing from SciPy may take roughly 10-20 seconds. If you notice any problems, feel free to open an [issue](https://github.com/scipy/scipy/issues/new/choose).\n\n</div>",
            "metadata": {}
        },
        {
            "id": "b1f9709f",
            "cell_type": "code",
            "metadata": {},
            "execution_count": null,
            "source": "import numpy as np\nfrom scipy.stats import skellam\nimport matplotlib.pyplot as plt\nfig, ax = plt.subplots(1, 1)",
            "outputs": []
        },
        {
            "id": "4eaaf868",
            "cell_type": "markdown",
            "source": "Calculate the first four moments:\n",
            "metadata": {}
        },
        {
            "id": "48d5c297",
            "cell_type": "code",
            "metadata": {},
            "execution_count": null,
            "source": "mu1, mu2 = 15, 8\nmean, var, skew, kurt = skellam.stats(mu1, mu2, moments='mvsk')",
            "outputs": []
        },
        {
            "id": "fc0f7a9a",
            "cell_type": "markdown",
            "source": "Display the probability mass function (``pmf``):\n",
            "metadata": {}
        },
        {
            "id": "200275ac",
            "cell_type": "code",
            "metadata": {},
            "execution_count": null,
            "source": "x = np.arange(skellam.ppf(0.01, mu1, mu2),\n              skellam.ppf(0.99, mu1, mu2))\nax.plot(x, skellam.pmf(x, mu1, mu2), 'bo', ms=8, label='skellam pmf')\nax.vlines(x, 0, skellam.pmf(x, mu1, mu2), colors='b', lw=5, alpha=0.5)",
            "outputs": []
        },
        {
            "id": "00679aa0",
            "cell_type": "markdown",
            "source": "Alternatively, the distribution object can be called (as a function)\nto fix the shape and location. This returns a \"frozen\" RV object holding\nthe given parameters fixed.\n\nFreeze the distribution and display the frozen ``pmf``:\n",
            "metadata": {}
        },
        {
            "id": "5374063f",
            "cell_type": "code",
            "metadata": {},
            "execution_count": null,
            "source": "rv = skellam(mu1, mu2)\nax.vlines(x, 0, rv.pmf(x), colors='k', linestyles='-', lw=1,\n        label='frozen pmf')\nax.legend(loc='best', frameon=False)\nplt.show()",
            "outputs": []
        },
        {
            "id": "0e0f107f",
            "cell_type": "markdown",
            "source": "Check accuracy of ``cdf`` and ``ppf``:\n",
            "metadata": {}
        },
        {
            "id": "2e02fb61",
            "cell_type": "code",
            "metadata": {},
            "execution_count": null,
            "source": "prob = skellam.cdf(x, mu1, mu2)\nnp.allclose(x, skellam.ppf(prob, mu1, mu2))",
            "outputs": [
                {
                    "output_type": "execute_result",
                    "metadata": {},
                    "data": {
                        "text/plain": "True"
                    },
                    "execution_count": null
                }
            ]
        },
        {
            "id": "b43af1e0",
            "cell_type": "markdown",
            "source": "Generate random numbers:\n",
            "metadata": {}
        },
        {
            "id": "cc0afc6e",
            "cell_type": "code",
            "metadata": {},
            "execution_count": null,
            "source": "r = skellam.rvs(mu1, mu2, size=1000)",
            "outputs": []
        }
    ]
}