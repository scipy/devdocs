{
    "nbformat": 4,
    "nbformat_minor": 5,
    "metadata": {
        "kernelspec": {
            "display_name": "Python",
            "language": "python",
            "name": "python"
        },
        "language_info": {
            "name": "python"
        }
    },
    "cells": [
        {
            "id": "b414eff0",
            "cell_type": "markdown",
            "source": "<div class='alert alert-warning'>\n\nSciPy's interactive examples with Jupyterlite are experimental and may not always work as expected. Execution of cells containing imports may result in large downloads (up to 60MB of content for the first import from SciPy). Load times when importing from SciPy may take roughly 10-20 seconds. If you notice any problems, feel free to open an [issue](https://github.com/scipy/scipy/issues/new/choose).\n\n</div>",
            "metadata": {}
        },
        {
            "id": "053435ec",
            "cell_type": "markdown",
            "source": "It can be expressed using Bessel functions.\n",
            "metadata": {}
        },
        {
            "id": "41fe3893",
            "cell_type": "code",
            "metadata": {},
            "execution_count": null,
            "source": "import numpy as np\nimport scipy.special as sc\nx = np.array([1.0, 2.0, 3.0, 4.0])\nsc.jv(0, x * np.exp(3 * np.pi * 1j / 4)).imag",
            "outputs": [
                {
                    "output_type": "execute_result",
                    "metadata": {},
                    "data": {
                        "text/plain": "array([0.24956604, 0.97229163, 1.93758679, 2.29269032])"
                    },
                    "execution_count": null
                }
            ]
        },
        {
            "id": "71b7d2fa",
            "cell_type": "code",
            "metadata": {},
            "execution_count": null,
            "source": "sc.bei(x)",
            "outputs": [
                {
                    "output_type": "execute_result",
                    "metadata": {},
                    "data": {
                        "text/plain": "array([0.24956604, 0.97229163, 1.93758679, 2.29269032])"
                    },
                    "execution_count": null
                }
            ]
        }
    ]
}