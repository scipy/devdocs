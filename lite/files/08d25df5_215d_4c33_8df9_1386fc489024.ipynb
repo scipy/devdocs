{
    "nbformat": 4,
    "nbformat_minor": 5,
    "metadata": {
        "kernelspec": {
            "display_name": "Python",
            "language": "python",
            "name": "python"
        },
        "language_info": {
            "name": "python"
        }
    },
    "cells": [
        {
            "id": "687627cf",
            "cell_type": "markdown",
            "source": "<div class='alert alert-warning'>\n\nSciPy's interactive examples with Jupyterlite are experimental and may not always work as expected. Execution of cells containing imports may result in large downloads (up to 60MB of content for the first import from SciPy). Load times when importing from SciPy may take roughly 10-20 seconds. If you notice any problems, feel free to open an [issue](https://github.com/scipy/scipy/issues/new/choose).\n\n</div>",
            "metadata": {}
        },
        {
            "id": "8c5639d6",
            "cell_type": "markdown",
            "source": "Evaluate the functions at one point.\n",
            "metadata": {}
        },
        {
            "id": "cb44aed3",
            "cell_type": "code",
            "metadata": {},
            "execution_count": null,
            "source": "from scipy.special import itj0y0\nint_j, int_y = itj0y0(1.)\nint_j, int_y",
            "outputs": [
                {
                    "output_type": "execute_result",
                    "metadata": {},
                    "data": {
                        "text/plain": "(0.9197304100897596, -0.637069376607422)"
                    },
                    "execution_count": null
                }
            ]
        },
        {
            "id": "aba6d1a4",
            "cell_type": "markdown",
            "source": "Evaluate the functions at several points.\n",
            "metadata": {}
        },
        {
            "id": "be0a493b",
            "cell_type": "code",
            "metadata": {},
            "execution_count": null,
            "source": "import numpy as np\npoints = np.array([0., 1.5, 3.])\nint_j, int_y = itj0y0(points)\nint_j, int_y",
            "outputs": [
                {
                    "output_type": "execute_result",
                    "metadata": {},
                    "data": {
                        "text/plain": "(array([0.        , 1.24144951, 1.38756725]),\n array([ 0.        , -0.51175903,  0.19765826]))"
                    },
                    "execution_count": null
                }
            ]
        },
        {
            "id": "acab18f0",
            "cell_type": "markdown",
            "source": "Plot the functions from 0 to 10.\n",
            "metadata": {}
        },
        {
            "id": "ed61f964",
            "cell_type": "code",
            "metadata": {},
            "execution_count": null,
            "source": "import matplotlib.pyplot as plt\nfig, ax = plt.subplots()\nx = np.linspace(0., 10., 1000)\nint_j, int_y = itj0y0(x)\nax.plot(x, int_j, label=r\"$\\int_0^x J_0(t)\\,dt$\")\nax.plot(x, int_y, label=r\"$\\int_0^x Y_0(t)\\,dt$\")\nax.legend()\nplt.show()",
            "outputs": []
        }
    ]
}