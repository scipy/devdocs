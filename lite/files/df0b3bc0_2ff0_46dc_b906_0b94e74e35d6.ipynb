{
    "nbformat": 4,
    "nbformat_minor": 5,
    "metadata": {
        "kernelspec": {
            "display_name": "Python",
            "language": "python",
            "name": "python"
        },
        "language_info": {
            "name": "python"
        }
    },
    "cells": [
        {
            "id": "60efdf76",
            "cell_type": "markdown",
            "source": "<div class='alert alert-warning'>\n\nSciPy's interactive examples with Jupyterlite are experimental and may not always work as expected. Execution of cells containing imports may result in large downloads (up to 60MB of content for the first import from SciPy). Load times when importing from SciPy may take roughly 10-20 seconds. If you notice any problems, feel free to open an [issue](https://github.com/scipy/scipy/issues/new/choose).\n\n</div>",
            "metadata": {}
        },
        {
            "id": "bf8e52c9",
            "cell_type": "markdown",
            "source": "Calculate the function at point 2 for ``sigma=1`` and ``gamma=1``.\n",
            "metadata": {}
        },
        {
            "id": "95aabe51",
            "cell_type": "code",
            "metadata": {},
            "execution_count": null,
            "source": "from scipy.special import voigt_profile\nimport numpy as np\nimport matplotlib.pyplot as plt\nvoigt_profile(2, 1., 1.)",
            "outputs": [
                {
                    "output_type": "execute_result",
                    "metadata": {},
                    "data": {
                        "text/plain": "0.09071519942627544"
                    },
                    "execution_count": null
                }
            ]
        },
        {
            "id": "43501f13",
            "cell_type": "markdown",
            "source": "Calculate the function at several points by providing a NumPy array\nfor `x`.\n",
            "metadata": {}
        },
        {
            "id": "739203a0",
            "cell_type": "code",
            "metadata": {},
            "execution_count": null,
            "source": "values = np.array([-2., 0., 5])\nvoigt_profile(values, 1., 1.)",
            "outputs": [
                {
                    "output_type": "execute_result",
                    "metadata": {},
                    "data": {
                        "text/plain": "array([0.0907152 , 0.20870928, 0.01388492])"
                    },
                    "execution_count": null
                }
            ]
        },
        {
            "id": "e9046edd",
            "cell_type": "markdown",
            "source": "Plot the function for different parameter sets.\n",
            "metadata": {}
        },
        {
            "id": "8db11605",
            "cell_type": "code",
            "metadata": {},
            "execution_count": null,
            "source": "fig, ax = plt.subplots(figsize=(8, 8))\nx = np.linspace(-10, 10, 500)\nparameters_list = [(1.5, 0., \"solid\"), (1.3, 0.5, \"dashed\"),\n                   (0., 1.8, \"dotted\"), (1., 1., \"dashdot\")]\nfor params in parameters_list:\n    sigma, gamma, linestyle = params\n    voigt = voigt_profile(x, sigma, gamma)\n    ax.plot(x, voigt, label=rf\"$\\sigma={sigma},\\, \\gamma={gamma}$\",\n            ls=linestyle)\nax.legend()\nplt.show()",
            "outputs": []
        },
        {
            "id": "d81d88aa",
            "cell_type": "markdown",
            "source": "Verify visually that the Voigt profile indeed arises as the convolution\nof a normal and a Cauchy distribution.\n",
            "metadata": {}
        },
        {
            "id": "f1b68a5b",
            "cell_type": "code",
            "metadata": {},
            "execution_count": null,
            "source": "from scipy.signal import convolve\nx, dx = np.linspace(-10, 10, 500, retstep=True)\ndef gaussian(x, sigma):\n    return np.exp(-0.5 * x**2/sigma**2)/(sigma * np.sqrt(2*np.pi))\ndef cauchy(x, gamma):\n    return gamma/(np.pi * (np.square(x)+gamma**2))\nsigma = 2\ngamma = 1\ngauss_profile = gaussian(x, sigma)\ncauchy_profile = cauchy(x, gamma)\nconvolved = dx * convolve(cauchy_profile, gauss_profile, mode=\"same\")\nvoigt = voigt_profile(x, sigma, gamma)\nfig, ax = plt.subplots(figsize=(8, 8))\nax.plot(x, gauss_profile, label=\"Gauss: $G$\", c='b')\nax.plot(x, cauchy_profile, label=\"Cauchy: $C$\", c='y', ls=\"dashed\")\nxx = 0.5*(x[1:] + x[:-1])  # midpoints\nax.plot(xx, convolved[1:], label=\"Convolution: $G * C$\", ls='dashdot',\n        c='k')\nax.plot(x, voigt, label=\"Voigt\", ls='dotted', c='r')\nax.legend()\nplt.show()",
            "outputs": []
        }
    ]
}