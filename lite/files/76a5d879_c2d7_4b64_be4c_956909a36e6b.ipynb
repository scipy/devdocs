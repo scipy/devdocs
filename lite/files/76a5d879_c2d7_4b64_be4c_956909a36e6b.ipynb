{
    "nbformat": 4,
    "nbformat_minor": 5,
    "metadata": {
        "kernelspec": {
            "display_name": "Python",
            "language": "python",
            "name": "python"
        },
        "language_info": {
            "name": "python"
        }
    },
    "cells": [
        {
            "id": "91e2f662",
            "cell_type": "markdown",
            "source": "<div class='alert alert-warning'>\n\nSciPy's interactive examples with Jupyterlite are experimental and may not always work as expected. Execution of cells containing imports may result in large downloads (up to 60MB of content for the first import from SciPy). Load times when importing from SciPy may take roughly 10-20 seconds. If you notice any problems, feel free to open an [issue](https://github.com/scipy/scipy/issues/new/choose).\n\n</div>",
            "metadata": {}
        },
        {
            "id": "f67008c5",
            "cell_type": "markdown",
            "source": "Plot the window and its frequency response:\n",
            "metadata": {}
        },
        {
            "id": "c0229b5d",
            "cell_type": "code",
            "metadata": {},
            "execution_count": null,
            "source": "import numpy as np\nfrom scipy import signal\nfrom scipy.fft import fft, fftshift\nimport matplotlib.pyplot as plt",
            "outputs": []
        },
        {
            "id": "aae094d2",
            "cell_type": "code",
            "metadata": {},
            "execution_count": null,
            "source": "window = signal.windows.parzen(51)\nplt.plot(window)\nplt.title(\"Parzen window\")\nplt.ylabel(\"Amplitude\")\nplt.xlabel(\"Sample\")",
            "outputs": []
        },
        {
            "id": "f03f0340",
            "cell_type": "code",
            "metadata": {},
            "execution_count": null,
            "source": "plt.figure()\nA = fft(window, 2048) / (len(window)/2.0)\nfreq = np.linspace(-0.5, 0.5, len(A))\nresponse = 20 * np.log10(np.abs(fftshift(A / abs(A).max())))\nplt.plot(freq, response)\nplt.axis([-0.5, 0.5, -120, 0])\nplt.title(\"Frequency response of the Parzen window\")\nplt.ylabel(\"Normalized magnitude [dB]\")\nplt.xlabel(\"Normalized frequency [cycles per sample]\")",
            "outputs": []
        }
    ]
}