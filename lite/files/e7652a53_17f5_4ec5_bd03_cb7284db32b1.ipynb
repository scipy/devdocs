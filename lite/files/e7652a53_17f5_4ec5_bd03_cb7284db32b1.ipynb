{
    "nbformat": 4,
    "nbformat_minor": 5,
    "metadata": {
        "kernelspec": {
            "display_name": "Python",
            "language": "python",
            "name": "python"
        },
        "language_info": {
            "name": "python"
        }
    },
    "cells": [
        {
            "id": "64816055",
            "cell_type": "markdown",
            "source": "<div class='alert alert-warning'>\n\nSciPy's interactive examples with Jupyterlite are experimental and may not always work as expected. Execution of cells containing imports may result in large downloads (up to 60MB of content for the first import from SciPy). Load times when importing from SciPy may take roughly 10-20 seconds. If you notice any problems, feel free to open an [issue](https://github.com/scipy/scipy/issues/new/choose).\n\n</div>",
            "metadata": {}
        },
        {
            "id": "fdb167bd",
            "cell_type": "markdown",
            "source": "Compute the first four positive roots of $J_3$.\n",
            "metadata": {}
        },
        {
            "id": "ca148811",
            "cell_type": "code",
            "metadata": {},
            "execution_count": null,
            "source": "from scipy.special import jn_zeros\njn_zeros(3, 4)",
            "outputs": [
                {
                    "output_type": "execute_result",
                    "metadata": {},
                    "data": {
                        "text/plain": "array([ 6.3801619 ,  9.76102313, 13.01520072, 16.22346616])"
                    },
                    "execution_count": null
                }
            ]
        },
        {
            "id": "1d9e4c9f",
            "cell_type": "markdown",
            "source": "Plot $J_3$ and its first four positive roots. Note\nthat the root located at 0 is not returned by `jn_zeros`.\n",
            "metadata": {}
        },
        {
            "id": "8e8e28cb",
            "cell_type": "code",
            "metadata": {},
            "execution_count": null,
            "source": "import numpy as np\nimport matplotlib.pyplot as plt\nfrom scipy.special import jn, jn_zeros\nj3_roots = jn_zeros(3, 4)\nxmax = 18\nxmin = -1\nx = np.linspace(xmin, xmax, 500)\nfig, ax = plt.subplots()\nax.plot(x, jn(3, x), label=r'$J_3$')\nax.scatter(j3_roots, np.zeros((4, )), s=30, c='r',\n           label=r\"$J_3$_Zeros\", zorder=5)\nax.scatter(0, 0, s=30, c='k',\n           label=r\"Root at 0\", zorder=5)\nax.hlines(0, 0, xmax, color='k')\nax.set_xlim(xmin, xmax)\nplt.legend()\nplt.show()",
            "outputs": []
        }
    ]
}