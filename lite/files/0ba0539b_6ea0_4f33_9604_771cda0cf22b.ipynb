{
    "nbformat": 4,
    "nbformat_minor": 5,
    "metadata": {
        "kernelspec": {
            "display_name": "Python",
            "language": "python",
            "name": "python"
        },
        "language_info": {
            "name": "python"
        }
    },
    "cells": [
        {
            "id": "97dc781c",
            "cell_type": "markdown",
            "source": "<div class='alert alert-warning'>\n\nSciPy's interactive examples with Jupyterlite are experimental and may not always work as expected. Execution of cells containing imports may result in large downloads (up to 60MB of content for the first import from SciPy). Load times when importing from SciPy may take roughly 10-20 seconds. If you notice any problems, feel free to open an [issue](https://github.com/scipy/scipy/issues/new/choose).\n\n</div>",
            "metadata": {}
        },
        {
            "id": "96ad1de8",
            "cell_type": "code",
            "metadata": {},
            "execution_count": null,
            "source": "import numpy as np\nfrom scipy.sparse import spdiags\ndata = np.array([[1, 2, 3, 4], [1, 2, 3, 4], [1, 2, 3, 4]])\ndiags = np.array([0, -1, 2])\nspdiags(data, diags, 4, 4).toarray()",
            "outputs": [
                {
                    "output_type": "execute_result",
                    "metadata": {},
                    "data": {
                        "text/plain": "array([[1, 0, 3, 0],\n       [1, 2, 0, 4],\n       [0, 2, 3, 0],\n       [0, 0, 3, 4]])"
                    },
                    "execution_count": null
                }
            ]
        }
    ]
}