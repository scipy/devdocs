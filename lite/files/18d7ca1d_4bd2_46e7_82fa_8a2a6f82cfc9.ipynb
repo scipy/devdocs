{
    "nbformat": 4,
    "nbformat_minor": 5,
    "metadata": {
        "kernelspec": {
            "display_name": "Python",
            "language": "python",
            "name": "python"
        },
        "language_info": {
            "name": "python"
        }
    },
    "cells": [
        {
            "id": "9e51f613",
            "cell_type": "markdown",
            "source": "<div class='alert alert-warning'>\n\nSciPy's interactive examples with Jupyterlite are experimental and may not always work as expected. Execution of cells containing imports may result in large downloads (up to 60MB of content for the first import from SciPy). Load times when importing from SciPy may take roughly 10-20 seconds. If you notice any problems, feel free to open an [issue](https://github.com/scipy/scipy/issues/new/choose).\n\n</div>",
            "metadata": {}
        },
        {
            "id": "8e7c3ba7",
            "cell_type": "code",
            "metadata": {},
            "execution_count": null,
            "source": "import numpy as np\nfrom scipy.linalg import qz",
            "outputs": []
        },
        {
            "id": "3db59a6e",
            "cell_type": "code",
            "metadata": {},
            "execution_count": null,
            "source": "A = np.array([[1, 2, -1], [5, 5, 5], [2, 4, -8]])\nB = np.array([[1, 1, -3], [3, 1, -1], [5, 6, -2]])",
            "outputs": []
        },
        {
            "id": "46495e5e",
            "cell_type": "markdown",
            "source": "Compute the decomposition.  The QZ decomposition is not unique, so\ndepending on the underlying library that is used, there may be\ndifferences in the signs of coefficients in the following output.\n",
            "metadata": {}
        },
        {
            "id": "6af1a296",
            "cell_type": "code",
            "metadata": {},
            "execution_count": null,
            "source": "AA, BB, Q, Z = qz(A, B)\nAA",
            "outputs": [
                {
                    "output_type": "execute_result",
                    "metadata": {},
                    "data": {
                        "text/plain": "array([[-1.36949157, -4.05459025,  7.44389431],\n       [ 0.        ,  7.65653432,  5.13476017],\n       [ 0.        , -0.65978437,  2.4186015 ]])  # may vary"
                    },
                    "execution_count": null
                }
            ]
        },
        {
            "id": "466a9d70",
            "cell_type": "code",
            "metadata": {},
            "execution_count": null,
            "source": "BB",
            "outputs": [
                {
                    "output_type": "execute_result",
                    "metadata": {},
                    "data": {
                        "text/plain": "array([[ 1.71890633, -1.64723705, -0.72696385],\n       [ 0.        ,  8.6965692 , -0.        ],\n       [ 0.        ,  0.        ,  2.27446233]])  # may vary"
                    },
                    "execution_count": null
                }
            ]
        },
        {
            "id": "4a9adf22",
            "cell_type": "code",
            "metadata": {},
            "execution_count": null,
            "source": "Q",
            "outputs": [
                {
                    "output_type": "execute_result",
                    "metadata": {},
                    "data": {
                        "text/plain": "array([[-0.37048362,  0.1903278 ,  0.90912992],\n       [-0.90073232,  0.16534124, -0.40167593],\n       [ 0.22676676,  0.96769706, -0.11017818]])  # may vary"
                    },
                    "execution_count": null
                }
            ]
        },
        {
            "id": "86e7c81b",
            "cell_type": "code",
            "metadata": {},
            "execution_count": null,
            "source": "Z",
            "outputs": [
                {
                    "output_type": "execute_result",
                    "metadata": {},
                    "data": {
                        "text/plain": "array([[-0.67660785,  0.63528924, -0.37230283],\n       [ 0.70243299,  0.70853819, -0.06753907],\n       [ 0.22088393, -0.30721526, -0.92565062]])  # may vary"
                    },
                    "execution_count": null
                }
            ]
        },
        {
            "id": "34c00ea1",
            "cell_type": "markdown",
            "source": "Verify the QZ decomposition.  With real output, we only need the\ntranspose of ``Z`` in the following expressions.\n",
            "metadata": {}
        },
        {
            "id": "f9b85d25",
            "cell_type": "code",
            "metadata": {},
            "execution_count": null,
            "source": "Q @ AA @ Z.T  # Should be A",
            "outputs": [
                {
                    "output_type": "execute_result",
                    "metadata": {},
                    "data": {
                        "text/plain": "array([[ 1.,  2., -1.],\n       [ 5.,  5.,  5.],\n       [ 2.,  4., -8.]])"
                    },
                    "execution_count": null
                }
            ]
        },
        {
            "id": "adc0758d",
            "cell_type": "code",
            "metadata": {},
            "execution_count": null,
            "source": "Q @ BB @ Z.T  # Should be B",
            "outputs": [
                {
                    "output_type": "execute_result",
                    "metadata": {},
                    "data": {
                        "text/plain": "array([[ 1.,  1., -3.],\n       [ 3.,  1., -1.],\n       [ 5.,  6., -2.]])"
                    },
                    "execution_count": null
                }
            ]
        },
        {
            "id": "45318dc7",
            "cell_type": "markdown",
            "source": "Repeat the decomposition, but with ``output='complex'``.\n",
            "metadata": {}
        },
        {
            "id": "0d30b598",
            "cell_type": "code",
            "metadata": {},
            "execution_count": null,
            "source": "AA, BB, Q, Z = qz(A, B, output='complex')",
            "outputs": []
        },
        {
            "id": "a8570e2e",
            "cell_type": "markdown",
            "source": "For conciseness in the output, we use ``np.set_printoptions()`` to set\nthe output precision of NumPy arrays to 3 and display tiny values as 0.\n",
            "metadata": {}
        },
        {
            "id": "0237862c",
            "cell_type": "code",
            "metadata": {},
            "execution_count": null,
            "source": "np.set_printoptions(precision=3, suppress=True)\nAA",
            "outputs": [
                {
                    "output_type": "execute_result",
                    "metadata": {},
                    "data": {
                        "text/plain": "array([[-1.369+0.j   ,  2.248+4.237j,  4.861-5.022j],\n       [ 0.   +0.j   ,  7.037+2.922j,  0.794+4.932j],\n       [ 0.   +0.j   ,  0.   +0.j   ,  2.655-1.103j]])  # may vary"
                    },
                    "execution_count": null
                }
            ]
        },
        {
            "id": "5e2cdd99",
            "cell_type": "code",
            "metadata": {},
            "execution_count": null,
            "source": "BB",
            "outputs": [
                {
                    "output_type": "execute_result",
                    "metadata": {},
                    "data": {
                        "text/plain": "array([[ 1.719+0.j   , -1.115+1.j   , -0.763-0.646j],\n       [ 0.   +0.j   ,  7.24 +0.j   , -3.144+3.322j],\n       [ 0.   +0.j   ,  0.   +0.j   ,  2.732+0.j   ]])  # may vary"
                    },
                    "execution_count": null
                }
            ]
        },
        {
            "id": "7ad9936e",
            "cell_type": "code",
            "metadata": {},
            "execution_count": null,
            "source": "Q",
            "outputs": [
                {
                    "output_type": "execute_result",
                    "metadata": {},
                    "data": {
                        "text/plain": "array([[ 0.326+0.175j, -0.273-0.029j, -0.886-0.052j],\n       [ 0.794+0.426j, -0.093+0.134j,  0.402-0.02j ],\n       [-0.2  -0.107j, -0.816+0.482j,  0.151-0.167j]])  # may vary"
                    },
                    "execution_count": null
                }
            ]
        },
        {
            "id": "819aff1f",
            "cell_type": "code",
            "metadata": {},
            "execution_count": null,
            "source": "Z",
            "outputs": [
                {
                    "output_type": "execute_result",
                    "metadata": {},
                    "data": {
                        "text/plain": "array([[ 0.596+0.32j , -0.31 +0.414j,  0.393-0.347j],\n       [-0.619-0.332j, -0.479+0.314j,  0.154-0.393j],\n       [-0.195-0.104j,  0.576+0.27j ,  0.715+0.187j]])  # may vary"
                    },
                    "execution_count": null
                }
            ]
        },
        {
            "id": "53c92964",
            "cell_type": "markdown",
            "source": "With complex arrays, we must use ``Z.conj().T`` in the following\nexpressions to verify the decomposition.\n",
            "metadata": {}
        },
        {
            "id": "ebb7a8d7",
            "cell_type": "code",
            "metadata": {},
            "execution_count": null,
            "source": "Q @ AA @ Z.conj().T  # Should be A",
            "outputs": [
                {
                    "output_type": "execute_result",
                    "metadata": {},
                    "data": {
                        "text/plain": "array([[ 1.-0.j,  2.-0.j, -1.-0.j],\n       [ 5.+0.j,  5.+0.j,  5.-0.j],\n       [ 2.+0.j,  4.+0.j, -8.+0.j]])"
                    },
                    "execution_count": null
                }
            ]
        },
        {
            "id": "53016a7f",
            "cell_type": "code",
            "metadata": {},
            "execution_count": null,
            "source": "Q @ BB @ Z.conj().T  # Should be B",
            "outputs": [
                {
                    "output_type": "execute_result",
                    "metadata": {},
                    "data": {
                        "text/plain": "array([[ 1.+0.j,  1.+0.j, -3.+0.j],\n       [ 3.-0.j,  1.-0.j, -1.+0.j],\n       [ 5.+0.j,  6.+0.j, -2.+0.j]])"
                    },
                    "execution_count": null
                }
            ]
        }
    ]
}