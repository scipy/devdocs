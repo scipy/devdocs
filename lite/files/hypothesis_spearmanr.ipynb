{
 "cells": [
  {
   "cell_type": "markdown",
   "id": "71fbbe22",
   "metadata": {},
   "source": [
    "```{eval-rst}\n",
    ".. jupyterlite:: ../../_contents/hypothesis_spearmanr.ipynb\n",
    "   :new_tab: True\n",
    "```\n",
    "\n",
    "(hypothesis_spearmanr)=\n",
    "# Spearman correlation coefficient\n",
    "\n",
    "The Spearman rank-order correlation coefficient is a nonparametric measure of\n",
    "the monotonicity of the relationship between two datasets.\n",
    "\n",
    "Consider the following data from [^1], which studied the relationship between\n",
    "free proline (an amino acid) and total collagen (a protein often found in\n",
    "connective tissue) in unhealthy human livers.\n",
    "\n",
    "The `x` and `y` arrays below record measurements of the two compounds. The\n",
    "observations are paired: each free proline measurement was taken from the same\n",
    "liver as the total collagen measurement at the same index."
   ]
  },
  {
   "cell_type": "code",
   "execution_count": null,
   "id": "9a9a32e6",
   "metadata": {},
   "outputs": [],
   "source": [
    "import numpy as np\n",
    "# total collagen (mg/g dry weight of liver)\n",
    "x = np.array([7.1, 7.1, 7.2, 8.3, 9.4, 10.5, 11.4])\n",
    "# free proline (μ mole/g dry weight of liver)\n",
    "y = np.array([2.8, 2.9, 2.8, 2.6, 3.5, 4.6, 5.0])"
   ]
  },
  {
   "cell_type": "markdown",
   "id": "0b3ce2bb",
   "metadata": {},
   "source": [
    "These data were analyzed in [^2] using Spearman's correlation coefficient, a\n",
    "statistic sensitive to monotonic correlation between the samples, implemented\n",
    "as {func}`scipy.stats.spearmanr`."
   ]
  },
  {
   "cell_type": "code",
   "execution_count": null,
   "id": "aa958f14",
   "metadata": {},
   "outputs": [],
   "source": [
    "from scipy import stats\n",
    "res = stats.spearmanr(x, y)\n",
    "res.statistic"
   ]
  },
  {
   "cell_type": "markdown",
   "id": "f4cbbc4e",
   "metadata": {},
   "source": [
    "The value of this statistic tends to be high (close to 1) for samples with a\n",
    "strongly positive ordinal correlation, low (close to -1) for samples with a\n",
    "strongly negative ordinal correlation, and small in magnitude (close to zero)\n",
    "for samples with weak ordinal correlation.\n",
    "\n",
    "The test is performed by comparing the observed value of the statistic against\n",
    "the null distribution: the distribution of statistic values derived under the\n",
    "null hypothesis that total collagen and free proline measurements are\n",
    "independent.\n",
    "\n",
    "For this test, the statistic can be transformed such that the null distribution\n",
    "for large samples is Student's t distribution with `len(x) - 2` degrees of freedom."
   ]
  },
  {
   "cell_type": "code",
   "execution_count": null,
   "id": "8c6fd172",
   "metadata": {},
   "outputs": [],
   "source": [
    "import matplotlib.pyplot as plt\n",
    "dof = len(x)-2  # len(x) == len(y)\n",
    "dist = stats.t(df=dof)\n",
    "t_vals = np.linspace(-5, 5, 100)\n",
    "pdf = dist.pdf(t_vals)\n",
    "fig, ax = plt.subplots(figsize=(8, 5))\n",
    "\n",
    "def plot(ax):  # we'll reuse this\n",
    "    ax.plot(t_vals, pdf)\n",
    "    ax.set_title(\"Spearman's Rho Test Null Distribution\")\n",
    "    ax.set_xlabel(\"statistic\")\n",
    "    ax.set_ylabel(\"probability density\")\n",
    "\n",
    "plot(ax)\n",
    "plt.show()"
   ]
  },
  {
   "cell_type": "markdown",
   "id": "aa72bbfe",
   "metadata": {},
   "source": [
    "The comparison is quantified by the p-value: the proportion of values in the\n",
    "null distribution as extreme or more extreme than the observed value of the\n",
    "statistic. In a two-sided test in which the statistic is positive, elements of\n",
    "the null distribution greater than the transformed statistic and elements of the\n",
    "null distribution less than the negative of the observed statistic are both\n",
    "considered \"more extreme\"."
   ]
  },
  {
   "cell_type": "code",
   "execution_count": null,
   "id": "8227b6f8",
   "metadata": {},
   "outputs": [],
   "source": [
    "fig, ax = plt.subplots(figsize=(8, 5))\n",
    "plot(ax)\n",
    "rs = res.statistic  # original statistic\n",
    "transformed = rs * np.sqrt(dof / ((rs+1.0)*(1.0-rs)))\n",
    "pvalue = dist.cdf(-transformed) + dist.sf(transformed)\n",
    "annotation = (f'p-value={pvalue:.4f}\\n(shaded area)')\n",
    "props = dict(facecolor='black', width=1, headwidth=5, headlength=8)\n",
    "_ = ax.annotate(annotation, (2.7, 0.025), (3, 0.03), arrowprops=props)\n",
    "i = t_vals >= transformed\n",
    "ax.fill_between(t_vals[i], y1=0, y2=pdf[i], color='C0')\n",
    "i = t_vals <= -transformed\n",
    "ax.fill_between(t_vals[i], y1=0, y2=pdf[i], color='C0')\n",
    "ax.set_xlim(-5, 5)\n",
    "ax.set_ylim(0, 0.1)\n",
    "plt.show()"
   ]
  },
  {
   "cell_type": "code",
   "execution_count": null,
   "id": "4e19c948",
   "metadata": {},
   "outputs": [],
   "source": [
    "res.pvalue"
   ]
  },
  {
   "cell_type": "markdown",
   "id": "cfc4747f",
   "metadata": {},
   "source": [
    "If the p-value is \"small\" - that is, if there is a low probability of sampling\n",
    "data from independent distributions that produces such an extreme value of the\n",
    "statistic - this may be taken as evidence against the null hypothesis in favor\n",
    "of the alternative: the distribution of total collagen and free proline are\n",
    "*not* independent. Note that:\n",
    "\n",
    "- The inverse is not true; that is, the test is not used to provide\n",
    "  evidence for the null hypothesis.\n",
    "- The threshold for values that will be considered \"small\" is a choice that\n",
    "  should be made before the data is analyzed [^3] with consideration of the\n",
    "  risks of both false positives (incorrectly rejecting the null hypothesis)\n",
    "  and false negatives (failure to reject a false null hypothesis).\n",
    "- Small p-values are not evidence for a *large* effect; rather, they can\n",
    "  only provide evidence for a \"significant\" effect, meaning that they are\n",
    "  unlikely to have occurred under the null hypothesis.\n",
    "\n",
    "Suppose that before performing the experiment, the authors had reason to predict\n",
    "a positive correlation between the total collagen and free proline measurements,\n",
    "and that they had chosen to assess the plausibility of the null hypothesis\n",
    "against a one-sided alternative: free proline has a positive ordinal correlation\n",
    "with total collagen. In this case, only those values in the null distribution\n",
    "that are as great or greater than the observed statistic are considered to be\n",
    "more extreme."
   ]
  },
  {
   "cell_type": "code",
   "execution_count": null,
   "id": "0d223588",
   "metadata": {},
   "outputs": [],
   "source": [
    "res = stats.spearmanr(x, y, alternative='greater')\n",
    "res.statistic"
   ]
  },
  {
   "cell_type": "code",
   "execution_count": null,
   "id": "8b0da2e8",
   "metadata": {},
   "outputs": [],
   "source": [
    "fig, ax = plt.subplots(figsize=(8, 5))\n",
    "plot(ax)\n",
    "pvalue = dist.sf(transformed)\n",
    "annotation = (f'p-value={pvalue:.6f}\\n(shaded area)')\n",
    "props = dict(facecolor='black', width=1, headwidth=5, headlength=8)\n",
    "_ = ax.annotate(annotation, (3, 0.018), (3.5, 0.03), arrowprops=props)\n",
    "i = t_vals >= transformed\n",
    "ax.fill_between(t_vals[i], y1=0, y2=pdf[i], color='C0')\n",
    "ax.set_xlim(1, 5)\n",
    "ax.set_ylim(0, 0.1)\n",
    "plt.show()"
   ]
  },
  {
   "cell_type": "code",
   "execution_count": null,
   "id": "220e7941",
   "metadata": {},
   "outputs": [],
   "source": [
    "res.pvalue"
   ]
  },
  {
   "cell_type": "markdown",
   "id": "2a282bc6",
   "metadata": {},
   "source": [
    "Note that the t-distribution provides an asymptotic approximation of the null\n",
    "distribution; it is only accurate for samples with many observations. For small\n",
    "samples, it may be more appropriate to perform a permutation test [^4]: Under the\n",
    "null hypothesis that total collagen and free proline are independent, each of\n",
    "the free proline measurements were equally likely to have been observed with any\n",
    "of the total collagen measurements. Therefore, we can form an *exact* null\n",
    "distribution by calculating the statistic under each possible pairing of\n",
    "elements between `x` and `y`."
   ]
  },
  {
   "cell_type": "code",
   "execution_count": null,
   "id": "b868db1d",
   "metadata": {},
   "outputs": [],
   "source": [
    "def statistic(x):  # explore all possible pairings by permuting `x`\n",
    "    rs = stats.spearmanr(x, y).statistic  # ignore pvalue\n",
    "    transformed = rs * np.sqrt(dof / ((rs+1.0)*(1.0-rs)))\n",
    "    return transformed\n",
    "ref = stats.permutation_test((x,), statistic, alternative='greater',\n",
    "                             permutation_type='pairings')\n",
    "fig, ax = plt.subplots(figsize=(8, 5))\n",
    "plot(ax)\n",
    "ax.hist(ref.null_distribution, np.linspace(-5, 5, 26),\n",
    "        density=True)\n",
    "ax.legend(['asymptotic approximation\\n(many observations)',\n",
    "           f'exact \\n({len(ref.null_distribution)} permutations)'])\n",
    "plt.show()"
   ]
  },
  {
   "cell_type": "code",
   "execution_count": null,
   "id": "f0978e37",
   "metadata": {},
   "outputs": [],
   "source": [
    "ref.pvalue"
   ]
  },
  {
   "cell_type": "markdown",
   "id": "604a5a91",
   "metadata": {},
   "source": [
    "## References\n",
    "\n",
    "[^1]: Kershenobich, D., Fierro, F. J., & Rojkind, M. (1970). The relationship\n",
    "between the free pool of proline and collagen content in human liver cirrhosis.\n",
    "The Journal of Clinical Investigation, 49(12), 2246-2249.\n",
    "[^2]: Hollander, M., Wolfe, D. A., & Chicken, E. (2013). Nonparametric\n",
    "statistical methods. John Wiley & Sons.\n",
    "[^3]: Phipson, B. and Smyth, G. K. (2010). Permutation P-values Should Never Be\n",
    "Zero: Calculating Exact P-values When Permutations Are Randomly Drawn.\n",
    "Statistical Applications in Genetics and Molecular Biology 9.1.\n",
    "[^4]: Ludbrook, J., & Dudley, H. (1998). Why permutation tests are superior to\n",
    "t and F tests in biomedical research. The American Statistician, 52(2), 127-132."
   ]
  }
 ],
 "metadata": {
  "kernelspec": {
   "display_name": "Python 3 (ipykernel)",
   "language": "python",
   "name": "python3"
  }
 },
 "nbformat": 4,
 "nbformat_minor": 5
}
