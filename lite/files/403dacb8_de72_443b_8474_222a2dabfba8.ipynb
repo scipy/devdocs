{
    "nbformat": 4,
    "nbformat_minor": 5,
    "metadata": {
        "kernelspec": {
            "display_name": "Python",
            "language": "python",
            "name": "python"
        },
        "language_info": {
            "name": "python"
        }
    },
    "cells": [
        {
            "id": "8fd688d9",
            "cell_type": "markdown",
            "source": "<div class='alert alert-warning'>\n\nSciPy's interactive examples with Jupyterlite are experimental and may not always work as expected. Execution of cells containing imports may result in large downloads (up to 60MB of content for the first import from SciPy). Load times when importing from SciPy may take roughly 10-20 seconds. If you notice any problems, feel free to open an [issue](https://github.com/scipy/scipy/issues/new/choose).\n\n</div>",
            "metadata": {}
        },
        {
            "id": "b75341af",
            "cell_type": "markdown",
            "source": "You can interpolate 1-D points with a B-spline curve.\nFurther examples are given in\n:ref:`in the tutorial <tutorial-interpolate_splXXX>`.\n",
            "metadata": {}
        },
        {
            "id": "e90a8d29",
            "cell_type": "code",
            "metadata": {},
            "execution_count": null,
            "source": "import numpy as np\nimport matplotlib.pyplot as plt\nfrom scipy.interpolate import splev, splrep\nx = np.linspace(0, 10, 10)\ny = np.sin(x)\nspl = splrep(x, y)\nx2 = np.linspace(0, 10, 200)\ny2 = splev(x2, spl)\nplt.plot(x, y, 'o', x2, y2)\nplt.show()",
            "outputs": []
        }
    ]
}