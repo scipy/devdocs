{
    "nbformat": 4,
    "nbformat_minor": 5,
    "metadata": {
        "kernelspec": {
            "display_name": "Python",
            "language": "python",
            "name": "python"
        },
        "language_info": {
            "name": "python"
        }
    },
    "cells": [
        {
            "id": "04e0d4ef",
            "cell_type": "markdown",
            "source": "<div class='alert alert-warning'>\n\nSciPy's interactive examples with Jupyterlite are experimental and may not always work as expected. Execution of cells containing imports may result in large downloads (up to 60MB of content for the first import from SciPy). Load times when importing from SciPy may take roughly 10-20 seconds. If you notice any problems, feel free to open an [issue](https://github.com/scipy/scipy/issues/new/choose).\n\n</div>",
            "metadata": {}
        },
        {
            "id": "6f785d9c",
            "cell_type": "markdown",
            "source": "In this example we use the Hilbert transform to determine the amplitude\nenvelope and instantaneous frequency of an amplitude-modulated signal.\n",
            "metadata": {}
        },
        {
            "id": "2c0340ed",
            "cell_type": "code",
            "metadata": {},
            "execution_count": null,
            "source": "import numpy as np\nimport matplotlib.pyplot as plt\nfrom scipy.signal import hilbert, chirp",
            "outputs": []
        },
        {
            "id": "2217dee8",
            "cell_type": "code",
            "metadata": {},
            "execution_count": null,
            "source": "duration = 1.0\nfs = 400.0\nsamples = int(fs*duration)\nt = np.arange(samples) / fs",
            "outputs": []
        },
        {
            "id": "772da70a",
            "cell_type": "markdown",
            "source": "We create a chirp of which the frequency increases from 20 Hz to 100 Hz and\napply an amplitude modulation.\n",
            "metadata": {}
        },
        {
            "id": "b9b899a9",
            "cell_type": "code",
            "metadata": {},
            "execution_count": null,
            "source": "signal = chirp(t, 20.0, t[-1], 100.0)\nsignal *= (1.0 + 0.5 * np.sin(2.0*np.pi*3.0*t) )",
            "outputs": []
        },
        {
            "id": "dbbf5998",
            "cell_type": "markdown",
            "source": "The amplitude envelope is given by magnitude of the analytic signal. The\ninstantaneous frequency can be obtained by differentiating the\ninstantaneous phase in respect to time. The instantaneous phase corresponds\nto the phase angle of the analytic signal.\n",
            "metadata": {}
        },
        {
            "id": "3de13f83",
            "cell_type": "code",
            "metadata": {},
            "execution_count": null,
            "source": "analytic_signal = hilbert(signal)\namplitude_envelope = np.abs(analytic_signal)\ninstantaneous_phase = np.unwrap(np.angle(analytic_signal))\ninstantaneous_frequency = (np.diff(instantaneous_phase) /\n                           (2.0*np.pi) * fs)",
            "outputs": []
        },
        {
            "id": "6a45dd92",
            "cell_type": "code",
            "metadata": {},
            "execution_count": null,
            "source": "fig, (ax0, ax1) = plt.subplots(nrows=2)\nax0.plot(t, signal, label='signal')\nax0.plot(t, amplitude_envelope, label='envelope')\nax0.set_xlabel(\"time in seconds\")\nax0.legend()\nax1.plot(t[1:], instantaneous_frequency)\nax1.set_xlabel(\"time in seconds\")\nax1.set_ylim(0.0, 120.0)\nfig.tight_layout()",
            "outputs": []
        }
    ]
}