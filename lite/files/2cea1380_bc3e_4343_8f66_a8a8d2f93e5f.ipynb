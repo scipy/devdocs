{
    "nbformat": 4,
    "nbformat_minor": 5,
    "metadata": {
        "kernelspec": {
            "display_name": "Python",
            "language": "python",
            "name": "python"
        },
        "language_info": {
            "name": "python"
        }
    },
    "cells": [
        {
            "id": "b6c06bbc",
            "cell_type": "markdown",
            "source": "<div class='alert alert-warning'>\n\nSciPy's interactive examples with Jupyterlite are experimental and may not always work as expected. Execution of cells containing imports may result in large downloads (up to 60MB of content for the first import from SciPy). Load times when importing from SciPy may take roughly 10-20 seconds. If you notice any problems, feel free to open an [issue](https://github.com/scipy/scipy/issues/new/choose).\n\n</div>",
            "metadata": {}
        },
        {
            "id": "8a920ceb",
            "cell_type": "markdown",
            "source": "Smooth a square pulse using a Hann window:\n",
            "metadata": {}
        },
        {
            "id": "7a995c62",
            "cell_type": "code",
            "metadata": {},
            "execution_count": null,
            "source": "import numpy as np\nfrom scipy import signal\nsig = np.repeat([0., 1., 0.], 100)\nwin = signal.windows.hann(50)\nfiltered = signal.convolve(sig, win, mode='same') / sum(win)",
            "outputs": []
        },
        {
            "id": "ddf3aa10",
            "cell_type": "code",
            "metadata": {},
            "execution_count": null,
            "source": "import matplotlib.pyplot as plt\nfig, (ax_orig, ax_win, ax_filt) = plt.subplots(3, 1, sharex=True)\nax_orig.plot(sig)\nax_orig.set_title('Original pulse')\nax_orig.margins(0, 0.1)\nax_win.plot(win)\nax_win.set_title('Filter impulse response')\nax_win.margins(0, 0.1)\nax_filt.plot(filtered)\nax_filt.set_title('Filtered signal')\nax_filt.margins(0, 0.1)\nfig.tight_layout()\nfig.show()",
            "outputs": []
        }
    ]
}