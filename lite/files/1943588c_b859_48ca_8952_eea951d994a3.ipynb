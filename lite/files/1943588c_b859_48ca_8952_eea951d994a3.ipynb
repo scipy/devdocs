{
    "nbformat": 4,
    "nbformat_minor": 5,
    "metadata": {
        "kernelspec": {
            "display_name": "Python",
            "language": "python",
            "name": "python"
        },
        "language_info": {
            "name": "python"
        }
    },
    "cells": [
        {
            "id": "7861875f",
            "cell_type": "markdown",
            "source": "<div class='alert alert-warning'>\n\nSciPy's interactive examples with Jupyterlite are experimental and may not always work as expected. Execution of cells containing imports may result in large downloads (up to 60MB of content for the first import from SciPy). Load times when importing from SciPy may take roughly 10-20 seconds. If you notice any problems, feel free to open an [issue](https://github.com/scipy/scipy/issues/new/choose).\n\n</div>",
            "metadata": {}
        },
        {
            "id": "99f1d769",
            "cell_type": "code",
            "metadata": {},
            "execution_count": null,
            "source": "import numpy as np\nfrom scipy.interpolate import UnivariateSpline\nx = np.linspace(0, 3, 11)\ny = x**2\nspl = UnivariateSpline(x, y)\nspl.integral(0, 3)",
            "outputs": [
                {
                    "output_type": "execute_result",
                    "metadata": {},
                    "data": {
                        "text/plain": "9.0"
                    },
                    "execution_count": null
                }
            ]
        },
        {
            "id": "8ac3321d",
            "cell_type": "markdown",
            "source": "which agrees with $\\int x^2 dx = x^3 / 3$ between the limits\nof 0 and 3.\n\nA caveat is that this routine assumes the spline to be zero outside of\nthe data limits:\n",
            "metadata": {}
        },
        {
            "id": "db5a44d6",
            "cell_type": "code",
            "metadata": {},
            "execution_count": null,
            "source": "spl.integral(-1, 4)",
            "outputs": [
                {
                    "output_type": "execute_result",
                    "metadata": {},
                    "data": {
                        "text/plain": "9.0"
                    },
                    "execution_count": null
                }
            ]
        },
        {
            "id": "d7765967",
            "cell_type": "code",
            "metadata": {},
            "execution_count": null,
            "source": "spl.integral(-1, 0)",
            "outputs": [
                {
                    "output_type": "execute_result",
                    "metadata": {},
                    "data": {
                        "text/plain": "0.0"
                    },
                    "execution_count": null
                }
            ]
        }
    ]
}