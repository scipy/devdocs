{
    "nbformat": 4,
    "nbformat_minor": 5,
    "metadata": {
        "kernelspec": {
            "display_name": "Python",
            "language": "python",
            "name": "python"
        },
        "language_info": {
            "name": "python"
        }
    },
    "cells": [
        {
            "id": "261b7b79",
            "cell_type": "markdown",
            "source": "<div class='alert alert-warning'>\n\nSciPy's interactive examples with Jupyterlite are experimental and may not always work as expected. Execution of cells containing imports may result in large downloads (up to 60MB of content for the first import from SciPy). Load times when importing from SciPy may take roughly 10-20 seconds. If you notice any problems, feel free to open an [issue](https://github.com/scipy/scipy/issues/new/choose).\n\n</div>",
            "metadata": {}
        },
        {
            "id": "7504b0e2",
            "cell_type": "markdown",
            "source": "Compute the Bessel function of the first kind of order 0 and\nits first two derivatives at 1.\n",
            "metadata": {}
        },
        {
            "id": "2f92f9e8",
            "cell_type": "code",
            "metadata": {},
            "execution_count": null,
            "source": "from scipy.special import jvp\njvp(0, 1, 0), jvp(0, 1, 1), jvp(0, 1, 2)",
            "outputs": [
                {
                    "output_type": "execute_result",
                    "metadata": {},
                    "data": {
                        "text/plain": "(0.7651976865579666, -0.44005058574493355, -0.3251471008130331)"
                    },
                    "execution_count": null
                }
            ]
        },
        {
            "id": "34c793b8",
            "cell_type": "markdown",
            "source": "Compute the first derivative of the Bessel function of the first\nkind for several orders at 1 by providing an array for `v`.\n",
            "metadata": {}
        },
        {
            "id": "0e4a2e74",
            "cell_type": "code",
            "metadata": {},
            "execution_count": null,
            "source": "jvp([0, 1, 2], 1, 1)",
            "outputs": [
                {
                    "output_type": "execute_result",
                    "metadata": {},
                    "data": {
                        "text/plain": "array([-0.44005059,  0.3251471 ,  0.21024362])"
                    },
                    "execution_count": null
                }
            ]
        },
        {
            "id": "05fd1fa3",
            "cell_type": "markdown",
            "source": "Compute the first derivative of the Bessel function of the first\nkind of order 0 at several points by providing an array for `z`.\n",
            "metadata": {}
        },
        {
            "id": "c5f1d311",
            "cell_type": "code",
            "metadata": {},
            "execution_count": null,
            "source": "import numpy as np\npoints = np.array([0., 1.5, 3.])\njvp(0, points, 1)",
            "outputs": [
                {
                    "output_type": "execute_result",
                    "metadata": {},
                    "data": {
                        "text/plain": "array([-0.        , -0.55793651, -0.33905896])"
                    },
                    "execution_count": null
                }
            ]
        },
        {
            "id": "594df179",
            "cell_type": "markdown",
            "source": "Plot the Bessel function of the first kind of order 1 and its\nfirst three derivatives.\n",
            "metadata": {}
        },
        {
            "id": "b3005321",
            "cell_type": "code",
            "metadata": {},
            "execution_count": null,
            "source": "import matplotlib.pyplot as plt\nx = np.linspace(-10, 10, 1000)\nfig, ax = plt.subplots()\nax.plot(x, jvp(1, x, 0), label=r\"$J_1$\")\nax.plot(x, jvp(1, x, 1), label=r\"$J_1'$\")\nax.plot(x, jvp(1, x, 2), label=r\"$J_1''$\")\nax.plot(x, jvp(1, x, 3), label=r\"$J_1'''$\")\nplt.legend()\nplt.show()",
            "outputs": []
        }
    ]
}