{
    "nbformat": 4,
    "nbformat_minor": 5,
    "metadata": {
        "kernelspec": {
            "display_name": "Python",
            "language": "python",
            "name": "python"
        },
        "language_info": {
            "name": "python"
        }
    },
    "cells": [
        {
            "id": "a79cd6f6",
            "cell_type": "markdown",
            "source": "<div class='alert alert-warning'>\n\nSciPy's interactive examples with Jupyterlite are experimental and may not always work as expected. Execution of cells containing imports may result in large downloads (up to 60MB of content for the first import from SciPy). Load times when importing from SciPy may take roughly 10-20 seconds. If you notice any problems, feel free to open an [issue](https://github.com/scipy/scipy/issues/new/choose).\n\n</div>",
            "metadata": {}
        },
        {
            "id": "4d4e93ad",
            "cell_type": "code",
            "metadata": {},
            "execution_count": null,
            "source": "import numpy as np\nfrom scipy import stats\nrng = np.random.default_rng()\nn = 3\nA = rng.random(size=(n, n))\ncov_array = A @ A.T  # make matrix symmetric positive definite\nprecision = np.linalg.inv(cov_array)\ncov_object = stats.Covariance.from_precision(precision)\nx = rng.multivariate_normal(np.zeros(n), cov_array, size=(10000))\nx_ = cov_object.whiten(x)\nnp.cov(x_, rowvar=False)  # near-identity covariance",
            "outputs": [
                {
                    "output_type": "execute_result",
                    "metadata": {},
                    "data": {
                        "text/plain": "array([[0.97862122, 0.00893147, 0.02430451],\n       [0.00893147, 0.96719062, 0.02201312],\n       [0.02430451, 0.02201312, 0.99206881]])"
                    },
                    "execution_count": null
                }
            ]
        }
    ]
}