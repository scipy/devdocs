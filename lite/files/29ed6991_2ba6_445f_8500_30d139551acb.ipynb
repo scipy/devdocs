{
    "nbformat": 4,
    "nbformat_minor": 5,
    "metadata": {
        "kernelspec": {
            "display_name": "Python",
            "language": "python",
            "name": "python"
        },
        "language_info": {
            "name": "python"
        }
    },
    "cells": [
        {
            "id": "b621845c",
            "cell_type": "markdown",
            "source": "<div class='alert alert-warning'>\n\nSciPy's interactive examples with Jupyterlite are experimental and may not always work as expected. Execution of cells containing imports may result in large downloads (up to 60MB of content for the first import from SciPy). Load times when importing from SciPy may take roughly 10-20 seconds. If you notice any problems, feel free to open an [issue](https://github.com/scipy/scipy/issues/new/choose).\n\n</div>",
            "metadata": {}
        },
        {
            "id": "1adc57b3",
            "cell_type": "code",
            "metadata": {},
            "execution_count": null,
            "source": "import numpy as np\nfrom scipy.stats import kappa4\nimport matplotlib.pyplot as plt\nfig, ax = plt.subplots(1, 1)",
            "outputs": []
        },
        {
            "id": "d088a1c5",
            "cell_type": "markdown",
            "source": "Calculate the first four moments:\n",
            "metadata": {}
        },
        {
            "id": "6dfa1600",
            "cell_type": "code",
            "metadata": {},
            "execution_count": null,
            "source": "h, k = 0.1, 0\nmean, var, skew, kurt = kappa4.stats(h, k, moments='mvsk')",
            "outputs": []
        },
        {
            "id": "a2350894",
            "cell_type": "markdown",
            "source": "Display the probability density function (``pdf``):\n",
            "metadata": {}
        },
        {
            "id": "2d832e51",
            "cell_type": "code",
            "metadata": {},
            "execution_count": null,
            "source": "x = np.linspace(kappa4.ppf(0.01, h, k),\n                kappa4.ppf(0.99, h, k), 100)\nax.plot(x, kappa4.pdf(x, h, k),\n       'r-', lw=5, alpha=0.6, label='kappa4 pdf')",
            "outputs": []
        },
        {
            "id": "d253921c",
            "cell_type": "markdown",
            "source": "Alternatively, the distribution object can be called (as a function)\nto fix the shape, location and scale parameters. This returns a \"frozen\"\nRV object holding the given parameters fixed.\n\nFreeze the distribution and display the frozen ``pdf``:\n",
            "metadata": {}
        },
        {
            "id": "7c35c2b7",
            "cell_type": "code",
            "metadata": {},
            "execution_count": null,
            "source": "rv = kappa4(h, k)\nax.plot(x, rv.pdf(x), 'k-', lw=2, label='frozen pdf')",
            "outputs": []
        },
        {
            "id": "82046b80",
            "cell_type": "markdown",
            "source": "Check accuracy of ``cdf`` and ``ppf``:\n",
            "metadata": {}
        },
        {
            "id": "932a3f59",
            "cell_type": "code",
            "metadata": {},
            "execution_count": null,
            "source": "vals = kappa4.ppf([0.001, 0.5, 0.999], h, k)\nnp.allclose([0.001, 0.5, 0.999], kappa4.cdf(vals, h, k))",
            "outputs": [
                {
                    "output_type": "execute_result",
                    "metadata": {},
                    "data": {
                        "text/plain": "True"
                    },
                    "execution_count": null
                }
            ]
        },
        {
            "id": "0b62732a",
            "cell_type": "markdown",
            "source": "Generate random numbers:\n",
            "metadata": {}
        },
        {
            "id": "3b525e9c",
            "cell_type": "code",
            "metadata": {},
            "execution_count": null,
            "source": "r = kappa4.rvs(h, k, size=1000)",
            "outputs": []
        },
        {
            "id": "c1071543",
            "cell_type": "markdown",
            "source": "And compare the histogram:\n",
            "metadata": {}
        },
        {
            "id": "bf588305",
            "cell_type": "code",
            "metadata": {},
            "execution_count": null,
            "source": "ax.hist(r, density=True, bins='auto', histtype='stepfilled', alpha=0.2)\nax.set_xlim([x[0], x[-1]])\nax.legend(loc='best', frameon=False)\nplt.show()",
            "outputs": []
        }
    ]
}