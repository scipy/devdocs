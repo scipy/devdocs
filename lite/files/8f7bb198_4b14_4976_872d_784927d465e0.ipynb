{
    "nbformat": 4,
    "nbformat_minor": 5,
    "metadata": {
        "kernelspec": {
            "display_name": "Python",
            "language": "python",
            "name": "python"
        },
        "language_info": {
            "name": "python"
        }
    },
    "cells": [
        {
            "id": "a0d6c6bc",
            "cell_type": "markdown",
            "source": "<div class='alert alert-warning'>\n\nSciPy's interactive examples with Jupyterlite are experimental and may not always work as expected. Execution of cells containing imports may result in large downloads (up to 60MB of content for the first import from SciPy). Load times when importing from SciPy may take roughly 10-20 seconds. If you notice any problems, feel free to open an [issue](https://github.com/scipy/scipy/issues/new/choose).\n\n</div>",
            "metadata": {}
        },
        {
            "id": "ce81dac7",
            "cell_type": "markdown",
            "source": "Compute the Airy functions on the interval [-15, 5].\n",
            "metadata": {}
        },
        {
            "id": "d04b985e",
            "cell_type": "code",
            "metadata": {},
            "execution_count": null,
            "source": "import numpy as np\nfrom scipy import special\nx = np.linspace(-15, 5, 201)\nai, aip, bi, bip = special.airy(x)",
            "outputs": []
        },
        {
            "id": "56e96e11",
            "cell_type": "markdown",
            "source": "Plot Ai(x) and Bi(x).\n",
            "metadata": {}
        },
        {
            "id": "48301af9",
            "cell_type": "code",
            "metadata": {},
            "execution_count": null,
            "source": "import matplotlib.pyplot as plt\nplt.plot(x, ai, 'r', label='Ai(x)')\nplt.plot(x, bi, 'b--', label='Bi(x)')\nplt.ylim(-0.5, 1.0)\nplt.grid()\nplt.legend(loc='upper left')\nplt.show()",
            "outputs": []
        }
    ]
}