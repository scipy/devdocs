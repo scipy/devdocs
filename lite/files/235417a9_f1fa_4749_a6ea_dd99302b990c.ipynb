{
    "nbformat": 4,
    "nbformat_minor": 5,
    "metadata": {
        "kernelspec": {
            "display_name": "Python",
            "language": "python",
            "name": "python"
        },
        "language_info": {
            "name": "python"
        }
    },
    "cells": [
        {
            "id": "fa6ee56f",
            "cell_type": "markdown",
            "source": "<div class='alert alert-warning'>\n\nSciPy's interactive examples with Jupyterlite are experimental and may not always work as expected. Execution of cells containing imports may result in large downloads (up to 60MB of content for the first import from SciPy). Load times when importing from SciPy may take roughly 10-20 seconds. If you notice any problems, feel free to open an [issue](https://github.com/scipy/scipy/issues/new/choose).\n\n</div>",
            "metadata": {}
        },
        {
            "id": "9f1d7bd7",
            "cell_type": "code",
            "metadata": {},
            "execution_count": null,
            "source": "from scipy import ndimage\nimport numpy as np\na = np.zeros((7,7), dtype=int)\na[1, 1] = 1; a[2:4, 2:4] = 1; a[4:6, 4:6] = 1\na",
            "outputs": [
                {
                    "output_type": "execute_result",
                    "metadata": {},
                    "data": {
                        "text/plain": "array([[0, 0, 0, 0, 0, 0, 0],\n       [0, 1, 0, 0, 0, 0, 0],\n       [0, 0, 1, 1, 0, 0, 0],\n       [0, 0, 1, 1, 0, 0, 0],\n       [0, 0, 0, 0, 1, 1, 0],\n       [0, 0, 0, 0, 1, 1, 0],\n       [0, 0, 0, 0, 0, 0, 0]])"
                    },
                    "execution_count": null
                }
            ]
        },
        {
            "id": "98f10056",
            "cell_type": "code",
            "metadata": {},
            "execution_count": null,
            "source": "structure1 = np.array([[1, 0, 0], [0, 1, 1], [0, 1, 1]])\nstructure1",
            "outputs": [
                {
                    "output_type": "execute_result",
                    "metadata": {},
                    "data": {
                        "text/plain": "array([[1, 0, 0],\n       [0, 1, 1],\n       [0, 1, 1]])"
                    },
                    "execution_count": null
                }
            ]
        },
        {
            "id": "14c73c18",
            "cell_type": "code",
            "metadata": {},
            "execution_count": null,
            "source": "# Find the matches of structure1 in the array a\nndimage.binary_hit_or_miss(a, structure1=structure1).astype(int)",
            "outputs": [
                {
                    "output_type": "execute_result",
                    "metadata": {},
                    "data": {
                        "text/plain": "array([[0, 0, 0, 0, 0, 0, 0],\n       [0, 0, 0, 0, 0, 0, 0],\n       [0, 0, 1, 0, 0, 0, 0],\n       [0, 0, 0, 0, 0, 0, 0],\n       [0, 0, 0, 0, 1, 0, 0],\n       [0, 0, 0, 0, 0, 0, 0],\n       [0, 0, 0, 0, 0, 0, 0]])"
                    },
                    "execution_count": null
                }
            ]
        },
        {
            "id": "31d86f74",
            "cell_type": "code",
            "metadata": {},
            "execution_count": null,
            "source": "# Change the origin of the filter\n# origin1=1 is equivalent to origin1=(1,1) here\nndimage.binary_hit_or_miss(a, structure1=structure1,\\\norigin1=1).astype(int)",
            "outputs": [
                {
                    "output_type": "execute_result",
                    "metadata": {},
                    "data": {
                        "text/plain": "array([[0, 0, 0, 0, 0, 0, 0],\n       [0, 0, 0, 0, 0, 0, 0],\n       [0, 0, 0, 0, 0, 0, 0],\n       [0, 0, 0, 1, 0, 0, 0],\n       [0, 0, 0, 0, 0, 0, 0],\n       [0, 0, 0, 0, 0, 1, 0],\n       [0, 0, 0, 0, 0, 0, 0]])"
                    },
                    "execution_count": null
                }
            ]
        }
    ]
}