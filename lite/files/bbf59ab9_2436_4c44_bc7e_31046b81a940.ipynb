{
    "nbformat": 4,
    "nbformat_minor": 5,
    "metadata": {
        "kernelspec": {
            "display_name": "Python",
            "language": "python",
            "name": "python"
        },
        "language_info": {
            "name": "python"
        }
    },
    "cells": [
        {
            "id": "9b8dd21c",
            "cell_type": "markdown",
            "source": "<div class='alert alert-warning'>\n\nSciPy's interactive examples with Jupyterlite are experimental and may not always work as expected. Execution of cells containing imports may result in large downloads (up to 60MB of content for the first import from SciPy). Load times when importing from SciPy may take roughly 10-20 seconds. If you notice any problems, feel free to open an [issue](https://github.com/scipy/scipy/issues/new/choose).\n\n</div>",
            "metadata": {}
        },
        {
            "id": "b684f96c",
            "cell_type": "code",
            "metadata": {},
            "execution_count": null,
            "source": "import numpy as np\nfrom scipy import linalg\nrng = np.random.default_rng()\nm, n = 9, 6\na = rng.standard_normal((m, n)) + 1.j*rng.standard_normal((m, n))\nU, s, Vh = linalg.svd(a)\nU.shape,  s.shape, Vh.shape",
            "outputs": [
                {
                    "output_type": "execute_result",
                    "metadata": {},
                    "data": {
                        "text/plain": "((9, 9), (6,), (6, 6))"
                    },
                    "execution_count": null
                }
            ]
        },
        {
            "id": "f7ab3493",
            "cell_type": "markdown",
            "source": "Reconstruct the original matrix from the decomposition:\n",
            "metadata": {}
        },
        {
            "id": "a896d35e",
            "cell_type": "code",
            "metadata": {},
            "execution_count": null,
            "source": "sigma = np.zeros((m, n))\nfor i in range(min(m, n)):\n    sigma[i, i] = s[i]\na1 = np.dot(U, np.dot(sigma, Vh))\nnp.allclose(a, a1)",
            "outputs": [
                {
                    "output_type": "execute_result",
                    "metadata": {},
                    "data": {
                        "text/plain": "True"
                    },
                    "execution_count": null
                }
            ]
        },
        {
            "id": "01eb83a2",
            "cell_type": "markdown",
            "source": "Alternatively, use ``full_matrices=False`` (notice that the shape of\n``U`` is then ``(m, n)`` instead of ``(m, m)``):\n",
            "metadata": {}
        },
        {
            "id": "91e09220",
            "cell_type": "code",
            "metadata": {},
            "execution_count": null,
            "source": "U, s, Vh = linalg.svd(a, full_matrices=False)\nU.shape, s.shape, Vh.shape",
            "outputs": [
                {
                    "output_type": "execute_result",
                    "metadata": {},
                    "data": {
                        "text/plain": "((9, 6), (6,), (6, 6))"
                    },
                    "execution_count": null
                }
            ]
        },
        {
            "id": "6c928579",
            "cell_type": "code",
            "metadata": {},
            "execution_count": null,
            "source": "S = np.diag(s)\nnp.allclose(a, np.dot(U, np.dot(S, Vh)))",
            "outputs": [
                {
                    "output_type": "execute_result",
                    "metadata": {},
                    "data": {
                        "text/plain": "True"
                    },
                    "execution_count": null
                }
            ]
        },
        {
            "id": "82476531",
            "cell_type": "code",
            "metadata": {},
            "execution_count": null,
            "source": "s2 = linalg.svd(a, compute_uv=False)\nnp.allclose(s, s2)",
            "outputs": [
                {
                    "output_type": "execute_result",
                    "metadata": {},
                    "data": {
                        "text/plain": "True"
                    },
                    "execution_count": null
                }
            ]
        }
    ]
}