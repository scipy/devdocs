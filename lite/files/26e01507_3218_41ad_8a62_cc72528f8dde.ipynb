{
    "nbformat": 4,
    "nbformat_minor": 5,
    "metadata": {
        "kernelspec": {
            "display_name": "Python",
            "language": "python",
            "name": "python"
        },
        "language_info": {
            "name": "python"
        }
    },
    "cells": [
        {
            "id": "943b190e",
            "cell_type": "markdown",
            "source": "<div class='alert alert-warning'>\n\nSciPy's interactive examples with Jupyterlite are experimental and may not always work as expected. Execution of cells containing imports may result in large downloads (up to 60MB of content for the first import from SciPy). Load times when importing from SciPy may take roughly 10-20 seconds. If you notice any problems, feel free to open an [issue](https://github.com/scipy/scipy/issues/new/choose).\n\n</div>",
            "metadata": {}
        },
        {
            "id": "e6b757db",
            "cell_type": "code",
            "metadata": {},
            "execution_count": null,
            "source": "import numpy as np\nfrom scipy import signal\nimport matplotlib.pyplot as plt\nrng = np.random.default_rng()",
            "outputs": []
        },
        {
            "id": "36cdcbc2",
            "cell_type": "markdown",
            "source": "Generate a test signal, a 2 Vrms sine wave at 1234 Hz, corrupted by\n0.001 V**2/Hz of white noise sampled at 10 kHz.\n",
            "metadata": {}
        },
        {
            "id": "d826ec9a",
            "cell_type": "code",
            "metadata": {},
            "execution_count": null,
            "source": "fs = 10e3\nN = 1e5\namp = 2*np.sqrt(2)\nfreq = 1234.0\nnoise_power = 0.001 * fs / 2\ntime = np.arange(N) / fs\nx = amp*np.sin(2*np.pi*freq*time)\nx += rng.normal(scale=np.sqrt(noise_power), size=time.shape)",
            "outputs": []
        },
        {
            "id": "17f95b1f",
            "cell_type": "markdown",
            "source": "Compute and plot the power spectral density.\n",
            "metadata": {}
        },
        {
            "id": "dd61f9b2",
            "cell_type": "code",
            "metadata": {},
            "execution_count": null,
            "source": "f, Pxx_den = signal.periodogram(x, fs)\nplt.semilogy(f, Pxx_den)\nplt.ylim([1e-7, 1e2])\nplt.xlabel('frequency [Hz]')\nplt.ylabel('PSD [V**2/Hz]')\nplt.show()",
            "outputs": []
        },
        {
            "id": "61a6d678",
            "cell_type": "markdown",
            "source": "If we average the last half of the spectral density, to exclude the\npeak, we can recover the noise power on the signal.\n",
            "metadata": {}
        },
        {
            "id": "5c4aec02",
            "cell_type": "code",
            "metadata": {},
            "execution_count": null,
            "source": "np.mean(Pxx_den[25000:])",
            "outputs": [
                {
                    "output_type": "execute_result",
                    "metadata": {},
                    "data": {
                        "text/plain": "0.000985320699252543"
                    },
                    "execution_count": null
                }
            ]
        },
        {
            "id": "e9dd0bea",
            "cell_type": "markdown",
            "source": "Now compute and plot the power spectrum.\n",
            "metadata": {}
        },
        {
            "id": "873088f7",
            "cell_type": "code",
            "metadata": {},
            "execution_count": null,
            "source": "f, Pxx_spec = signal.periodogram(x, fs, 'flattop', scaling='spectrum')\nplt.figure()\nplt.semilogy(f, np.sqrt(Pxx_spec))\nplt.ylim([1e-4, 1e1])\nplt.xlabel('frequency [Hz]')\nplt.ylabel('Linear spectrum [V RMS]')\nplt.show()",
            "outputs": []
        },
        {
            "id": "54485544",
            "cell_type": "markdown",
            "source": "The peak height in the power spectrum is an estimate of the RMS\namplitude.\n",
            "metadata": {}
        },
        {
            "id": "d8d82e70",
            "cell_type": "code",
            "metadata": {},
            "execution_count": null,
            "source": "np.sqrt(Pxx_spec.max())",
            "outputs": [
                {
                    "output_type": "execute_result",
                    "metadata": {},
                    "data": {
                        "text/plain": "2.0077340678640727"
                    },
                    "execution_count": null
                }
            ]
        }
    ]
}