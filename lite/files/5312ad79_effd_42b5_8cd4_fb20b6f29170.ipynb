{
    "nbformat": 4,
    "nbformat_minor": 5,
    "metadata": {
        "kernelspec": {
            "display_name": "Python",
            "language": "python",
            "name": "python"
        },
        "language_info": {
            "name": "python"
        }
    },
    "cells": [
        {
            "id": "f4ff2e31",
            "cell_type": "markdown",
            "source": "<div class='alert alert-warning'>\n\nSciPy's interactive examples with Jupyterlite are experimental and may not always work as expected. Execution of cells containing imports may result in large downloads (up to 60MB of content for the first import from SciPy). Load times when importing from SciPy may take roughly 10-20 seconds. If you notice any problems, feel free to open an [issue](https://github.com/scipy/scipy/issues/new/choose).\n\n</div>",
            "metadata": {}
        },
        {
            "id": "7bb44ee7",
            "cell_type": "markdown",
            "source": "Implement a matched filter using cross-correlation, to recover a signal\nthat has passed through a noisy channel.\n",
            "metadata": {}
        },
        {
            "id": "d341e9d0",
            "cell_type": "code",
            "metadata": {},
            "execution_count": null,
            "source": "import numpy as np\nfrom scipy import signal\nimport matplotlib.pyplot as plt\nrng = np.random.default_rng()",
            "outputs": []
        },
        {
            "id": "5b4d959b",
            "cell_type": "code",
            "metadata": {},
            "execution_count": null,
            "source": "sig = np.repeat([0., 1., 1., 0., 1., 0., 0., 1.], 128)\nsig_noise = sig + rng.standard_normal(len(sig))\ncorr = signal.correlate(sig_noise, np.ones(128), mode='same') / 128",
            "outputs": []
        },
        {
            "id": "09bbbfa7",
            "cell_type": "code",
            "metadata": {},
            "execution_count": null,
            "source": "clock = np.arange(64, len(sig), 128)\nfig, (ax_orig, ax_noise, ax_corr) = plt.subplots(3, 1, sharex=True)\nax_orig.plot(sig)\nax_orig.plot(clock, sig[clock], 'ro')\nax_orig.set_title('Original signal')\nax_noise.plot(sig_noise)\nax_noise.set_title('Signal with noise')\nax_corr.plot(corr)\nax_corr.plot(clock, corr[clock], 'ro')\nax_corr.axhline(0.5, ls=':')\nax_corr.set_title('Cross-correlated with rectangular pulse')\nax_orig.margins(0, 0.1)\nfig.tight_layout()\nplt.show()",
            "outputs": []
        },
        {
            "id": "2d73fd6a",
            "cell_type": "markdown",
            "source": "Compute the cross-correlation of a noisy signal with the original signal.\n",
            "metadata": {}
        },
        {
            "id": "62168d17",
            "cell_type": "code",
            "metadata": {},
            "execution_count": null,
            "source": "x = np.arange(128) / 128\nsig = np.sin(2 * np.pi * x)\nsig_noise = sig + rng.standard_normal(len(sig))\ncorr = signal.correlate(sig_noise, sig)\nlags = signal.correlation_lags(len(sig), len(sig_noise))\ncorr /= np.max(corr)",
            "outputs": []
        },
        {
            "id": "a7fbc74c",
            "cell_type": "code",
            "metadata": {},
            "execution_count": null,
            "source": "fig, (ax_orig, ax_noise, ax_corr) = plt.subplots(3, 1, figsize=(4.8, 4.8))\nax_orig.plot(sig)\nax_orig.set_title('Original signal')\nax_orig.set_xlabel('Sample Number')\nax_noise.plot(sig_noise)\nax_noise.set_title('Signal with noise')\nax_noise.set_xlabel('Sample Number')\nax_corr.plot(lags, corr)\nax_corr.set_title('Cross-correlated signal')\nax_corr.set_xlabel('Lag')\nax_orig.margins(0, 0.1)\nax_noise.margins(0, 0.1)\nax_corr.margins(0, 0.1)\nfig.tight_layout()\nplt.show()",
            "outputs": []
        }
    ]
}