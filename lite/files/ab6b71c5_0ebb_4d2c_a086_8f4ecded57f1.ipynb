{
    "nbformat": 4,
    "nbformat_minor": 5,
    "metadata": {
        "kernelspec": {
            "display_name": "Python",
            "language": "python",
            "name": "python"
        },
        "language_info": {
            "name": "python"
        }
    },
    "cells": [
        {
            "id": "cca7c87c",
            "cell_type": "markdown",
            "source": "<div class='alert alert-warning'>\n\nSciPy's interactive examples with Jupyterlite are experimental and may not always work as expected. Execution of cells containing imports may result in large downloads (up to 60MB of content for the first import from SciPy). Load times when importing from SciPy may take roughly 10-20 seconds. If you notice any problems, feel free to open an [issue](https://github.com/scipy/scipy/issues/new/choose).\n\n</div>",
            "metadata": {}
        },
        {
            "id": "0fdc9bda",
            "cell_type": "code",
            "metadata": {},
            "execution_count": null,
            "source": "import numpy as np\nfrom scipy.linalg import block_diag\nA = [[1, 0],\n     [0, 1]]\nB = [[3, 4, 5],\n     [6, 7, 8]]\nC = [[7]]\nP = np.zeros((2, 0), dtype='int32')\nblock_diag(A, B, C)",
            "outputs": [
                {
                    "output_type": "execute_result",
                    "metadata": {},
                    "data": {
                        "text/plain": "array([[1, 0, 0, 0, 0, 0],\n       [0, 1, 0, 0, 0, 0],\n       [0, 0, 3, 4, 5, 0],\n       [0, 0, 6, 7, 8, 0],\n       [0, 0, 0, 0, 0, 7]])"
                    },
                    "execution_count": null
                }
            ]
        },
        {
            "id": "bc570afe",
            "cell_type": "code",
            "metadata": {},
            "execution_count": null,
            "source": "block_diag(A, P, B, C)",
            "outputs": [
                {
                    "output_type": "execute_result",
                    "metadata": {},
                    "data": {
                        "text/plain": "array([[1, 0, 0, 0, 0, 0],\n       [0, 1, 0, 0, 0, 0],\n       [0, 0, 0, 0, 0, 0],\n       [0, 0, 0, 0, 0, 0],\n       [0, 0, 3, 4, 5, 0],\n       [0, 0, 6, 7, 8, 0],\n       [0, 0, 0, 0, 0, 7]])"
                    },
                    "execution_count": null
                }
            ]
        },
        {
            "id": "1389a046",
            "cell_type": "code",
            "metadata": {},
            "execution_count": null,
            "source": "block_diag(1.0, [2, 3], [[4, 5], [6, 7]])",
            "outputs": [
                {
                    "output_type": "execute_result",
                    "metadata": {},
                    "data": {
                        "text/plain": "array([[ 1.,  0.,  0.,  0.,  0.],\n       [ 0.,  2.,  3.,  0.,  0.],\n       [ 0.,  0.,  0.,  4.,  5.],\n       [ 0.,  0.,  0.,  6.,  7.]])"
                    },
                    "execution_count": null
                }
            ]
        }
    ]
}