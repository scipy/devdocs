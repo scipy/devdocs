{
    "nbformat": 4,
    "nbformat_minor": 5,
    "metadata": {
        "kernelspec": {
            "display_name": "Python",
            "language": "python",
            "name": "python"
        },
        "language_info": {
            "name": "python"
        }
    },
    "cells": [
        {
            "id": "e39c3fa1",
            "cell_type": "markdown",
            "source": "<div class='alert alert-warning'>\n\nSciPy's interactive examples with Jupyterlite are experimental and may not always work as expected. Execution of cells containing imports may result in large downloads (up to 60MB of content for the first import from SciPy). Load times when importing from SciPy may take roughly 10-20 seconds. If you notice any problems, feel free to open an [issue](https://github.com/scipy/scipy/issues/new/choose).\n\n</div>",
            "metadata": {}
        },
        {
            "id": "eecb58df",
            "cell_type": "markdown",
            "source": "The following is an example with the Ishigami function [6]\n\n$$ Y(\\mathbf{x}) = \\sin x_1 + 7 \\sin^2 x_2 + 0.1 x_3^4 \\sin x_1, $$\nwith $\\mathbf{x} \\in [-\\pi, \\pi]^3$. This function exhibits strong\nnon-linearity and non-monotonicity.\n\nRemember, Sobol' indices assumes that samples are independently\ndistributed. In this case we use a uniform distribution on each marginals.\n",
            "metadata": {}
        },
        {
            "id": "8f8c9a8c",
            "cell_type": "code",
            "metadata": {},
            "execution_count": null,
            "source": "import numpy as np\nfrom scipy.stats import sobol_indices, uniform\nrng = np.random.default_rng()\ndef f_ishigami(x):\n    f_eval = (\n        np.sin(x[0])\n        + 7 * np.sin(x[1])**2\n        + 0.1 * (x[2]**4) * np.sin(x[0])\n    )\n    return f_eval\nindices = sobol_indices(\n    func=f_ishigami, n=1024,\n    dists=[\n        uniform(loc=-np.pi, scale=2*np.pi),\n        uniform(loc=-np.pi, scale=2*np.pi),\n        uniform(loc=-np.pi, scale=2*np.pi)\n    ],\n    random_state=rng\n)\nindices.first_order",
            "outputs": [
                {
                    "output_type": "execute_result",
                    "metadata": {},
                    "data": {
                        "text/plain": "array([0.31637954, 0.43781162, 0.00318825])"
                    },
                    "execution_count": null
                }
            ]
        },
        {
            "id": "99f314ec",
            "cell_type": "code",
            "metadata": {},
            "execution_count": null,
            "source": "indices.total_order",
            "outputs": [
                {
                    "output_type": "execute_result",
                    "metadata": {},
                    "data": {
                        "text/plain": "array([0.56122127, 0.44287857, 0.24229595])"
                    },
                    "execution_count": null
                }
            ]
        },
        {
            "id": "3fdb5dc1",
            "cell_type": "markdown",
            "source": "Confidence interval can be obtained using bootstrapping.\n",
            "metadata": {}
        },
        {
            "id": "27e8c232",
            "cell_type": "code",
            "metadata": {},
            "execution_count": null,
            "source": "boot = indices.bootstrap()",
            "outputs": []
        },
        {
            "id": "cdc68e38",
            "cell_type": "markdown",
            "source": "Then, this information can be easily visualized.\n",
            "metadata": {}
        },
        {
            "id": "f9b6615c",
            "cell_type": "code",
            "metadata": {},
            "execution_count": null,
            "source": "import matplotlib.pyplot as plt\nfig, axs = plt.subplots(1, 2, figsize=(9, 4))\n_ = axs[0].errorbar(\n    [1, 2, 3], indices.first_order, fmt='o',\n    yerr=[\n        indices.first_order - boot.first_order.confidence_interval.low,\n        boot.first_order.confidence_interval.high - indices.first_order\n    ],\n)\naxs[0].set_ylabel(\"First order Sobol' indices\")\naxs[0].set_xlabel('Input parameters')\naxs[0].set_xticks([1, 2, 3])\n_ = axs[1].errorbar(\n    [1, 2, 3], indices.total_order, fmt='o',\n    yerr=[\n        indices.total_order - boot.total_order.confidence_interval.low,\n        boot.total_order.confidence_interval.high - indices.total_order\n    ],\n)\naxs[1].set_ylabel(\"Total order Sobol' indices\")\naxs[1].set_xlabel('Input parameters')\naxs[1].set_xticks([1, 2, 3])\nplt.tight_layout()\nplt.show()",
            "outputs": []
        },
        {
            "id": "c06c9ac4",
            "cell_type": "markdown",
            "source": ".. note\n```\n\nBy default, `scipy.stats.uniform` has support ``[0, 1]``.\nUsing the parameters ``loc`` and ``scale``, one obtains the uniform\ndistribution on ``[loc, loc + scale]``.\n\n```\nThis result is particularly interesting because the first order index\n$S_{x_3} = 0$ whereas its total order is $S_{T_{x_3}} = 0.244$.\nThis means that higher order interactions with $x_3$ are responsible\nfor the difference. Almost 25% of the observed variance\non the QoI is due to the correlations between $x_3$ and $x_1$,\nalthough $x_3$ by itself has no impact on the QoI.\n\nThe following gives a visual explanation of Sobol' indices on this\nfunction. Let's generate 1024 samples in $[-\\pi, \\pi]^3$ and\ncalculate the value of the output.\n",
            "metadata": {}
        },
        {
            "id": "5c370e97",
            "cell_type": "code",
            "metadata": {},
            "execution_count": null,
            "source": "from scipy.stats import qmc\nn_dim = 3\np_labels = ['$x_1$', '$x_2$', '$x_3$']\nsample = qmc.Sobol(d=n_dim, seed=rng).random(1024)\nsample = qmc.scale(\n    sample=sample,\n    l_bounds=[-np.pi, -np.pi, -np.pi],\n    u_bounds=[np.pi, np.pi, np.pi]\n)\noutput = f_ishigami(sample.T)",
            "outputs": []
        },
        {
            "id": "f93fa8cb",
            "cell_type": "markdown",
            "source": "Now we can do scatter plots of the output with respect to each parameter.\nThis gives a visual way to understand how each parameter impacts the\noutput of the function.\n",
            "metadata": {}
        },
        {
            "id": "ba1fab5c",
            "cell_type": "code",
            "metadata": {},
            "execution_count": null,
            "source": "fig, ax = plt.subplots(1, n_dim, figsize=(12, 4))\nfor i in range(n_dim):\n    xi = sample[:, i]\n    ax[i].scatter(xi, output, marker='+')\n    ax[i].set_xlabel(p_labels[i])\nax[0].set_ylabel('Y')\nplt.tight_layout()\nplt.show()",
            "outputs": []
        },
        {
            "id": "0ae341c1",
            "cell_type": "markdown",
            "source": "Now Sobol' goes a step further:\nby conditioning the output value by given values of the parameter\n(black lines), the conditional output mean is computed. It corresponds to\nthe term $\\mathbb{E}(Y|x_i)$. Taking the variance of this term gives\nthe numerator of the Sobol' indices.\n",
            "metadata": {}
        },
        {
            "id": "cd15f059",
            "cell_type": "code",
            "metadata": {},
            "execution_count": null,
            "source": "mini = np.min(output)\nmaxi = np.max(output)\nn_bins = 10\nbins = np.linspace(-np.pi, np.pi, num=n_bins, endpoint=False)\ndx = bins[1] - bins[0]\nfig, ax = plt.subplots(1, n_dim, figsize=(12, 4))\nfor i in range(n_dim):\n    xi = sample[:, i]\n    ax[i].scatter(xi, output, marker='+')\n    ax[i].set_xlabel(p_labels[i])\n    for bin_ in bins:\n        idx = np.where((bin_ <= xi) & (xi <= bin_ + dx))\n        xi_ = xi[idx]\n        y_ = output[idx]\n        ave_y_ = np.mean(y_)\n        ax[i].plot([bin_ + dx/2] * 2, [mini, maxi], c='k')\n        ax[i].scatter(bin_ + dx/2, ave_y_, c='r')\nax[0].set_ylabel('Y')\nplt.tight_layout()\nplt.show()",
            "outputs": []
        },
        {
            "id": "e69a6bc1",
            "cell_type": "markdown",
            "source": "Looking at $x_3$, the variance\nof the mean is zero leading to $S_{x_3} = 0$. But we can further\nobserve that the variance of the output is not constant along the parameter\nvalues of $x_3$. This heteroscedasticity is explained by higher order\ninteractions. Moreover, an heteroscedasticity is also noticeable on\n$x_1$ leading to an interaction between $x_3$ and $x_1$.\nOn $x_2$, the variance seems to be constant and thus null interaction\nwith this parameter can be supposed.\n\nThis case is fairly simple to analyse visually---although it is only a\nqualitative analysis. Nevertheless, when the number of input parameters\nincreases such analysis becomes unrealistic as it would be difficult to\nconclude on high-order terms. Hence the benefit of using Sobol' indices.\n",
            "metadata": {}
        }
    ]
}