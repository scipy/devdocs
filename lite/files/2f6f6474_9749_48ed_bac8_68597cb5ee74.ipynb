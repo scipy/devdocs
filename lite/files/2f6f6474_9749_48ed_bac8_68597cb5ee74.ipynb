{
    "nbformat": 4,
    "nbformat_minor": 5,
    "metadata": {
        "kernelspec": {
            "display_name": "Python",
            "language": "python",
            "name": "python"
        },
        "language_info": {
            "name": "python"
        }
    },
    "cells": [
        {
            "id": "59886118",
            "cell_type": "markdown",
            "source": "<div class='alert alert-warning'>\n\nSciPy's interactive examples with Jupyterlite are experimental and may not always work as expected. Execution of cells containing imports may result in large downloads (up to 60MB of content for the first import from SciPy). Load times when importing from SciPy may take roughly 10-20 seconds. If you notice any problems, feel free to open an [issue](https://github.com/scipy/scipy/issues/new/choose).\n\n</div>",
            "metadata": {}
        },
        {
            "id": "1f20a36e",
            "cell_type": "code",
            "metadata": {},
            "execution_count": null,
            "source": "import numpy as np\na = np.array([[1, 2, 0, 0],\n              [5, 3, 0, 4],\n              [0, 0, 0, 7],\n              [9, 3, 0, 0]])\nfrom scipy import ndimage\nndimage.standard_deviation(a)",
            "outputs": [
                {
                    "output_type": "execute_result",
                    "metadata": {},
                    "data": {
                        "text/plain": "2.7585095613392387"
                    },
                    "execution_count": null
                }
            ]
        },
        {
            "id": "2065e4a8",
            "cell_type": "markdown",
            "source": "Features to process can be specified using `labels` and `index`:\n",
            "metadata": {}
        },
        {
            "id": "363de6de",
            "cell_type": "code",
            "metadata": {},
            "execution_count": null,
            "source": "lbl, nlbl = ndimage.label(a)\nndimage.standard_deviation(a, lbl, index=np.arange(1, nlbl+1))",
            "outputs": [
                {
                    "output_type": "execute_result",
                    "metadata": {},
                    "data": {
                        "text/plain": "array([ 1.479,  1.5  ,  3.   ])"
                    },
                    "execution_count": null
                }
            ]
        },
        {
            "id": "a9ed7455",
            "cell_type": "markdown",
            "source": "If no index is given, non-zero `labels` are processed:\n",
            "metadata": {}
        },
        {
            "id": "774f0030",
            "cell_type": "code",
            "metadata": {},
            "execution_count": null,
            "source": "ndimage.standard_deviation(a, lbl)",
            "outputs": [
                {
                    "output_type": "execute_result",
                    "metadata": {},
                    "data": {
                        "text/plain": "2.4874685927665499"
                    },
                    "execution_count": null
                }
            ]
        }
    ]
}