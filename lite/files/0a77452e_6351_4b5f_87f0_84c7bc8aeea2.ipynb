{
    "nbformat": 4,
    "nbformat_minor": 5,
    "metadata": {
        "kernelspec": {
            "display_name": "Python",
            "language": "python",
            "name": "python"
        },
        "language_info": {
            "name": "python"
        }
    },
    "cells": [
        {
            "id": "71cf40fd",
            "cell_type": "markdown",
            "source": "<div class='alert alert-warning'>\n\nSciPy's interactive examples with Jupyterlite are experimental and may not always work as expected. Execution of cells containing imports may result in large downloads (up to 60MB of content for the first import from SciPy). Load times when importing from SciPy may take roughly 10-20 seconds. If you notice any problems, feel free to open an [issue](https://github.com/scipy/scipy/issues/new/choose).\n\n</div>",
            "metadata": {}
        },
        {
            "id": "29a68797",
            "cell_type": "markdown",
            "source": "The `Covariance` class is used by calling one of its\nfactory methods to create a `Covariance` object, then pass that\nrepresentation of the `Covariance` matrix as a shape parameter of a\nmultivariate distribution.\n\nFor instance, the multivariate normal distribution can accept an array\nrepresenting a covariance matrix:\n",
            "metadata": {}
        },
        {
            "id": "3b3e8677",
            "cell_type": "code",
            "metadata": {},
            "execution_count": null,
            "source": "from scipy import stats\nimport numpy as np\nd = [1, 2, 3]\nA = np.diag(d)  # a diagonal covariance matrix\nx = [4, -2, 5]  # a point of interest\ndist = stats.multivariate_normal(mean=[0, 0, 0], cov=A)\ndist.pdf(x)",
            "outputs": [
                {
                    "output_type": "execute_result",
                    "metadata": {},
                    "data": {
                        "text/plain": "4.9595685102808205e-08"
                    },
                    "execution_count": null
                }
            ]
        },
        {
            "id": "5df1fc60",
            "cell_type": "markdown",
            "source": "but the calculations are performed in a very generic way that does not\ntake advantage of any special properties of the covariance matrix. Because\nour covariance matrix is diagonal, we can use ``Covariance.from_diagonal``\nto create an object representing the covariance matrix, and\n`multivariate_normal` can use this to compute the probability density\nfunction more efficiently.\n",
            "metadata": {}
        },
        {
            "id": "ce7b4f1d",
            "cell_type": "code",
            "metadata": {},
            "execution_count": null,
            "source": "cov = stats.Covariance.from_diagonal(d)\ndist = stats.multivariate_normal(mean=[0, 0, 0], cov=cov)\ndist.pdf(x)",
            "outputs": [
                {
                    "output_type": "execute_result",
                    "metadata": {},
                    "data": {
                        "text/plain": "4.9595685102808205e-08"
                    },
                    "execution_count": null
                }
            ]
        }
    ]
}