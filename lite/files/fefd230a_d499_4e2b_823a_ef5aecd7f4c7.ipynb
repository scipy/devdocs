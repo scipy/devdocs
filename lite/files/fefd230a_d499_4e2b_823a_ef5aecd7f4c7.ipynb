{
    "nbformat": 4,
    "nbformat_minor": 5,
    "metadata": {
        "kernelspec": {
            "display_name": "Python",
            "language": "python",
            "name": "python"
        },
        "language_info": {
            "name": "python"
        }
    },
    "cells": [
        {
            "id": "c44e08eb",
            "cell_type": "markdown",
            "source": "<div class='alert alert-warning'>\n\nSciPy's interactive examples with Jupyterlite are experimental and may not always work as expected. Execution of cells containing imports may result in large downloads (up to 60MB of content for the first import from SciPy). Load times when importing from SciPy may take roughly 10-20 seconds. If you notice any problems, feel free to open an [issue](https://github.com/scipy/scipy/issues/new/choose).\n\n</div>",
            "metadata": {}
        },
        {
            "id": "26883d7b",
            "cell_type": "markdown",
            "source": "Subtract gray background from a bright peak.\n",
            "metadata": {}
        },
        {
            "id": "6ad447df",
            "cell_type": "code",
            "metadata": {},
            "execution_count": null,
            "source": "from scipy.ndimage import generate_binary_structure, white_tophat\nimport numpy as np\nsquare = generate_binary_structure(rank=2, connectivity=3)\nbright_on_gray = np.array([[2, 3, 3, 3, 2],\n                           [3, 4, 5, 4, 3],\n                           [3, 5, 9, 5, 3],\n                           [3, 4, 5, 4, 3],\n                           [2, 3, 3, 3, 2]])\nwhite_tophat(input=bright_on_gray, structure=square)",
            "outputs": [
                {
                    "output_type": "execute_result",
                    "metadata": {},
                    "data": {
                        "text/plain": "array([[0, 0, 0, 0, 0],\n       [0, 0, 1, 0, 0],\n       [0, 1, 5, 1, 0],\n       [0, 0, 1, 0, 0],\n       [0, 0, 0, 0, 0]])"
                    },
                    "execution_count": null
                }
            ]
        }
    ]
}