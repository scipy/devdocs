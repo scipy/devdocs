{
    "nbformat": 4,
    "nbformat_minor": 5,
    "metadata": {
        "kernelspec": {
            "display_name": "Python",
            "language": "python",
            "name": "python"
        },
        "language_info": {
            "name": "python"
        }
    },
    "cells": [
        {
            "id": "60f4861f",
            "cell_type": "markdown",
            "source": "<div class='alert alert-warning'>\n\nSciPy's interactive examples with Jupyterlite are experimental and may not always work as expected. Execution of cells containing imports may result in large downloads (up to 60MB of content for the first import from SciPy). Load times when importing from SciPy may take roughly 10-20 seconds. If you notice any problems, feel free to open an [issue](https://github.com/scipy/scipy/issues/new/choose).\n\n</div>",
            "metadata": {}
        },
        {
            "id": "a8225c5b",
            "cell_type": "code",
            "metadata": {},
            "execution_count": null,
            "source": "import numpy as np\nfrom scipy.linalg import tanhm, sinhm, coshm\na = np.array([[1.0, 3.0], [1.0, 4.0]])\nt = tanhm(a)\nt",
            "outputs": [
                {
                    "output_type": "execute_result",
                    "metadata": {},
                    "data": {
                        "text/plain": "array([[ 0.3428582 ,  0.51987926],\n       [ 0.17329309,  0.86273746]])"
                    },
                    "execution_count": null
                }
            ]
        },
        {
            "id": "8e05dad8",
            "cell_type": "markdown",
            "source": "Verify tanhm(a) = sinhm(a).dot(inv(coshm(a)))\n",
            "metadata": {}
        },
        {
            "id": "d371953c",
            "cell_type": "code",
            "metadata": {},
            "execution_count": null,
            "source": "s = sinhm(a)\nc = coshm(a)\nt - s.dot(np.linalg.inv(c))",
            "outputs": [
                {
                    "output_type": "execute_result",
                    "metadata": {},
                    "data": {
                        "text/plain": "array([[  2.72004641e-15,   4.55191440e-15],\n       [  0.00000000e+00,  -5.55111512e-16]])"
                    },
                    "execution_count": null
                }
            ]
        }
    ]
}