{
    "nbformat": 4,
    "nbformat_minor": 5,
    "metadata": {
        "kernelspec": {
            "display_name": "Python",
            "language": "python",
            "name": "python"
        },
        "language_info": {
            "name": "python"
        }
    },
    "cells": [
        {
            "id": "6eaca2df",
            "cell_type": "markdown",
            "source": "<div class='alert alert-warning'>\n\nSciPy's interactive examples with Jupyterlite are experimental and may not always work as expected. Execution of cells containing imports may result in large downloads (up to 60MB of content for the first import from SciPy). Load times when importing from SciPy may take roughly 10-20 seconds. If you notice any problems, feel free to open an [issue](https://github.com/scipy/scipy/issues/new/choose).\n\n</div>",
            "metadata": {}
        },
        {
            "id": "de7a598e",
            "cell_type": "code",
            "metadata": {},
            "execution_count": null,
            "source": "import numpy as np\nimport matplotlib.pyplot as plt\nfrom scipy.spatial import Delaunay, delaunay_plot_2d",
            "outputs": []
        },
        {
            "id": "bdac4036",
            "cell_type": "markdown",
            "source": "The Delaunay triangulation of a set of random points:\n",
            "metadata": {}
        },
        {
            "id": "74b59f13",
            "cell_type": "code",
            "metadata": {},
            "execution_count": null,
            "source": "rng = np.random.default_rng()\npoints = rng.random((30, 2))\ntri = Delaunay(points)",
            "outputs": []
        },
        {
            "id": "43333976",
            "cell_type": "markdown",
            "source": "Plot it:\n",
            "metadata": {}
        },
        {
            "id": "071c3a29",
            "cell_type": "code",
            "metadata": {},
            "execution_count": null,
            "source": "_ = delaunay_plot_2d(tri)\nplt.show()",
            "outputs": []
        }
    ]
}