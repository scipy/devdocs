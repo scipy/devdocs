{
    "nbformat": 4,
    "nbformat_minor": 5,
    "metadata": {
        "kernelspec": {
            "display_name": "Python",
            "language": "python",
            "name": "python"
        },
        "language_info": {
            "name": "python"
        }
    },
    "cells": [
        {
            "id": "f5b105bb",
            "cell_type": "markdown",
            "source": "<div class='alert alert-warning'>\n\nSciPy's interactive examples with Jupyterlite are experimental and may not always work as expected. Execution of cells containing imports may result in large downloads (up to 60MB of content for the first import from SciPy). Load times when importing from SciPy may take roughly 10-20 seconds. If you notice any problems, feel free to open an [issue](https://github.com/scipy/scipy/issues/new/choose).\n\n</div>",
            "metadata": {}
        },
        {
            "id": "94abcb21",
            "cell_type": "code",
            "metadata": {},
            "execution_count": null,
            "source": "import numpy as np\nfrom scipy.stats import kurtosistest\nkurtosistest(list(range(20)))",
            "outputs": [
                {
                    "output_type": "execute_result",
                    "metadata": {},
                    "data": {
                        "text/plain": "KurtosistestResult(statistic=-1.7058104152122062, pvalue=0.08804338332528348)"
                    },
                    "execution_count": null
                }
            ]
        },
        {
            "id": "9f2df414",
            "cell_type": "code",
            "metadata": {},
            "execution_count": null,
            "source": "kurtosistest(list(range(20)), alternative='less')",
            "outputs": [
                {
                    "output_type": "execute_result",
                    "metadata": {},
                    "data": {
                        "text/plain": "KurtosistestResult(statistic=-1.7058104152122062, pvalue=0.04402169166264174)"
                    },
                    "execution_count": null
                }
            ]
        },
        {
            "id": "5c202ee3",
            "cell_type": "code",
            "metadata": {},
            "execution_count": null,
            "source": "kurtosistest(list(range(20)), alternative='greater')",
            "outputs": [
                {
                    "output_type": "execute_result",
                    "metadata": {},
                    "data": {
                        "text/plain": "KurtosistestResult(statistic=-1.7058104152122062, pvalue=0.9559783083373583)"
                    },
                    "execution_count": null
                }
            ]
        },
        {
            "id": "45eac03d",
            "cell_type": "code",
            "metadata": {},
            "execution_count": null,
            "source": "rng = np.random.default_rng()\ns = rng.normal(0, 1, 1000)\nkurtosistest(s)",
            "outputs": [
                {
                    "output_type": "execute_result",
                    "metadata": {},
                    "data": {
                        "text/plain": "KurtosistestResult(statistic=-1.475047944490622, pvalue=0.14019965402996987)"
                    },
                    "execution_count": null
                }
            ]
        },
        {
            "id": "6c371539",
            "cell_type": "markdown",
            "source": "For a more detailed example, see :ref:`hypothesis_kurtosistest`.",
            "metadata": {}
        }
    ]
}