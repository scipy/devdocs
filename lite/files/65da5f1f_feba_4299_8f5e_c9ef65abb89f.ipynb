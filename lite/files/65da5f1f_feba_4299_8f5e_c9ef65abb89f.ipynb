{
    "nbformat": 4,
    "nbformat_minor": 5,
    "metadata": {
        "kernelspec": {
            "display_name": "Python",
            "language": "python",
            "name": "python"
        },
        "language_info": {
            "name": "python"
        }
    },
    "cells": [
        {
            "id": "388d2b90",
            "cell_type": "markdown",
            "source": "<div class='alert alert-warning'>\n\nSciPy's interactive examples with Jupyterlite are experimental and may not always work as expected. Execution of cells containing imports may result in large downloads (up to 60MB of content for the first import from SciPy). Load times when importing from SciPy may take roughly 10-20 seconds. If you notice any problems, feel free to open an [issue](https://github.com/scipy/scipy/issues/new/choose).\n\n</div>",
            "metadata": {}
        },
        {
            "id": "43781eb5",
            "cell_type": "markdown",
            "source": "Plot the function of several orders for real input:\n",
            "metadata": {}
        },
        {
            "id": "4eb30fee",
            "cell_type": "code",
            "metadata": {},
            "execution_count": null,
            "source": "import numpy as np\nfrom scipy.special import kv\nimport matplotlib.pyplot as plt\nx = np.linspace(0, 5, 1000)\nfor N in np.linspace(0, 6, 5):\n    plt.plot(x, kv(N, x), label='$K_{{{}}}(x)$'.format(N))\nplt.ylim(0, 10)\nplt.legend()\nplt.title(r'Modified Bessel function of the second kind $K_\\nu(x)$')\nplt.show()",
            "outputs": []
        },
        {
            "id": "cadc4476",
            "cell_type": "markdown",
            "source": "Calculate for a single value at multiple orders:\n",
            "metadata": {}
        },
        {
            "id": "13be6173",
            "cell_type": "code",
            "metadata": {},
            "execution_count": null,
            "source": "kv([4, 4.5, 5], 1+2j)",
            "outputs": [
                {
                    "output_type": "execute_result",
                    "metadata": {},
                    "data": {
                        "text/plain": "array([ 0.1992+2.3892j,  2.3493+3.6j   ,  7.2827+3.8104j])"
                    },
                    "execution_count": null
                }
            ]
        }
    ]
}