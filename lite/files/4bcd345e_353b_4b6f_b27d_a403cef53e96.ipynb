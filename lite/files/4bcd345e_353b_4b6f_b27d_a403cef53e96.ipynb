{
    "nbformat": 4,
    "nbformat_minor": 5,
    "metadata": {
        "kernelspec": {
            "display_name": "Python",
            "language": "python",
            "name": "python"
        },
        "language_info": {
            "name": "python"
        }
    },
    "cells": [
        {
            "id": "0ff44def",
            "cell_type": "markdown",
            "source": "<div class='alert alert-warning'>\n\nSciPy's interactive examples with Jupyterlite are experimental and may not always work as expected. Execution of cells containing imports may result in large downloads (up to 60MB of content for the first import from SciPy). Load times when importing from SciPy may take roughly 10-20 seconds. If you notice any problems, feel free to open an [issue](https://github.com/scipy/scipy/issues/new/choose).\n\n</div>",
            "metadata": {}
        },
        {
            "id": "1c7fe03a",
            "cell_type": "code",
            "metadata": {},
            "execution_count": null,
            "source": "def f(x):\n    return x**2",
            "outputs": []
        },
        {
            "id": "1ce00347",
            "cell_type": "code",
            "metadata": {},
            "execution_count": null,
            "source": "from scipy import optimize",
            "outputs": []
        },
        {
            "id": "6e82b47c",
            "cell_type": "code",
            "metadata": {},
            "execution_count": null,
            "source": "minimum = optimize.fmin_powell(f, -1)",
            "outputs": [
                {
                    "output_type": "execute_result",
                    "metadata": {},
                    "data": {
                        "text/plain": "Optimization terminated successfully.\n         Current function value: 0.000000\n         Iterations: 2\n         Function evaluations: 16"
                    },
                    "execution_count": null
                }
            ]
        },
        {
            "id": "bff62ffb",
            "cell_type": "code",
            "metadata": {},
            "execution_count": null,
            "source": "minimum",
            "outputs": [
                {
                    "output_type": "execute_result",
                    "metadata": {},
                    "data": {
                        "text/plain": "array(0.0)"
                    },
                    "execution_count": null
                }
            ]
        }
    ]
}