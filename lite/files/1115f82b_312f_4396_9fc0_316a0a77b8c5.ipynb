{
    "nbformat": 4,
    "nbformat_minor": 5,
    "metadata": {
        "kernelspec": {
            "display_name": "Python",
            "language": "python",
            "name": "python"
        },
        "language_info": {
            "name": "python"
        }
    },
    "cells": [
        {
            "id": "92c32e53",
            "cell_type": "markdown",
            "source": "<div class='alert alert-warning'>\n\nSciPy's interactive examples with Jupyterlite are experimental and may not always work as expected. Execution of cells containing imports may result in large downloads (up to 60MB of content for the first import from SciPy). Load times when importing from SciPy may take roughly 10-20 seconds. If you notice any problems, feel free to open an [issue](https://github.com/scipy/scipy/issues/new/choose).\n\n</div>",
            "metadata": {}
        },
        {
            "id": "727f3803",
            "cell_type": "code",
            "metadata": {},
            "execution_count": null,
            "source": "from scipy.linalg import invhilbert\ninvhilbert(4)",
            "outputs": [
                {
                    "output_type": "execute_result",
                    "metadata": {},
                    "data": {
                        "text/plain": "array([[   16.,  -120.,   240.,  -140.],\n       [ -120.,  1200., -2700.,  1680.],\n       [  240., -2700.,  6480., -4200.],\n       [ -140.,  1680., -4200.,  2800.]])"
                    },
                    "execution_count": null
                }
            ]
        },
        {
            "id": "6bb5f595",
            "cell_type": "code",
            "metadata": {},
            "execution_count": null,
            "source": "invhilbert(4, exact=True)",
            "outputs": [
                {
                    "output_type": "execute_result",
                    "metadata": {},
                    "data": {
                        "text/plain": "array([[   16,  -120,   240,  -140],\n       [ -120,  1200, -2700,  1680],\n       [  240, -2700,  6480, -4200],\n       [ -140,  1680, -4200,  2800]], dtype=int64)"
                    },
                    "execution_count": null
                }
            ]
        },
        {
            "id": "0e244577",
            "cell_type": "code",
            "metadata": {},
            "execution_count": null,
            "source": "invhilbert(16)[7,7]",
            "outputs": [
                {
                    "output_type": "execute_result",
                    "metadata": {},
                    "data": {
                        "text/plain": "4.2475099528537506e+19"
                    },
                    "execution_count": null
                }
            ]
        },
        {
            "id": "ab00982c",
            "cell_type": "code",
            "metadata": {},
            "execution_count": null,
            "source": "invhilbert(16, exact=True)[7,7]",
            "outputs": [
                {
                    "output_type": "execute_result",
                    "metadata": {},
                    "data": {
                        "text/plain": "42475099528537378560"
                    },
                    "execution_count": null
                }
            ]
        }
    ]
}