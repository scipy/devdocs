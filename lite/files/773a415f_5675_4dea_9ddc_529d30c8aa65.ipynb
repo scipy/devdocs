{
    "nbformat": 4,
    "nbformat_minor": 5,
    "metadata": {
        "kernelspec": {
            "display_name": "Python",
            "language": "python",
            "name": "python"
        },
        "language_info": {
            "name": "python"
        }
    },
    "cells": [
        {
            "id": "60306831",
            "cell_type": "markdown",
            "source": "<div class='alert alert-warning'>\n\nSciPy's interactive examples with Jupyterlite are experimental and may not always work as expected. Execution of cells containing imports may result in large downloads (up to 60MB of content for the first import from SciPy). Load times when importing from SciPy may take roughly 10-20 seconds. If you notice any problems, feel free to open an [issue](https://github.com/scipy/scipy/issues/new/choose).\n\n</div>",
            "metadata": {}
        },
        {
            "id": "7d545f1c",
            "cell_type": "markdown",
            "source": "Design and plot filter to remove the 60 Hz component from a\nsignal sampled at 200 Hz, using a quality factor Q = 30\n",
            "metadata": {}
        },
        {
            "id": "7efebfea",
            "cell_type": "code",
            "metadata": {},
            "execution_count": null,
            "source": "from scipy import signal\nimport matplotlib.pyplot as plt\nimport numpy as np",
            "outputs": []
        },
        {
            "id": "a99d89da",
            "cell_type": "code",
            "metadata": {},
            "execution_count": null,
            "source": "fs = 200.0  # Sample frequency (Hz)\nf0 = 60.0  # Frequency to be removed from signal (Hz)\nQ = 30.0  # Quality factor\n# Design notch filter\nb, a = signal.iirnotch(f0, Q, fs)",
            "outputs": []
        },
        {
            "id": "41189189",
            "cell_type": "code",
            "metadata": {},
            "execution_count": null,
            "source": "# Frequency response\nfreq, h = signal.freqz(b, a, fs=fs)\n# Plot\nfig, ax = plt.subplots(2, 1, figsize=(8, 6))\nax[0].plot(freq, 20*np.log10(abs(h)), color='blue')\nax[0].set_title(\"Frequency Response\")\nax[0].set_ylabel(\"Amplitude [dB]\", color='blue')\nax[0].set_xlim([0, 100])\nax[0].set_ylim([-25, 10])\nax[0].grid(True)\nax[1].plot(freq, np.unwrap(np.angle(h))*180/np.pi, color='green')\nax[1].set_ylabel(\"Phase [deg]\", color='green')\nax[1].set_xlabel(\"Frequency [Hz]\")\nax[1].set_xlim([0, 100])\nax[1].set_yticks([-90, -60, -30, 0, 30, 60, 90])\nax[1].set_ylim([-90, 90])\nax[1].grid(True)\nplt.show()",
            "outputs": []
        }
    ]
}