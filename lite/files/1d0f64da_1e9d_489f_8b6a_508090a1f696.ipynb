{
    "nbformat": 4,
    "nbformat_minor": 5,
    "metadata": {
        "kernelspec": {
            "display_name": "Python",
            "language": "python",
            "name": "python"
        },
        "language_info": {
            "name": "python"
        }
    },
    "cells": [
        {
            "id": "a1e4f7ca",
            "cell_type": "markdown",
            "source": "<div class='alert alert-warning'>\n\nSciPy's interactive examples with Jupyterlite are experimental and may not always work as expected. Execution of cells containing imports may result in large downloads (up to 60MB of content for the first import from SciPy). Load times when importing from SciPy may take roughly 10-20 seconds. If you notice any problems, feel free to open an [issue](https://github.com/scipy/scipy/issues/new/choose).\n\n</div>",
            "metadata": {}
        },
        {
            "id": "3b528994",
            "cell_type": "markdown",
            "source": "Evaluate the functions at one point.\n",
            "metadata": {}
        },
        {
            "id": "2d8a1852",
            "cell_type": "code",
            "metadata": {},
            "execution_count": null,
            "source": "from scipy.special import iti0k0\nint_i, int_k = iti0k0(1.)\nint_i, int_k",
            "outputs": [
                {
                    "output_type": "execute_result",
                    "metadata": {},
                    "data": {
                        "text/plain": "(1.0865210970235892, 1.2425098486237771)"
                    },
                    "execution_count": null
                }
            ]
        },
        {
            "id": "3c612888",
            "cell_type": "markdown",
            "source": "Evaluate the functions at several points.\n",
            "metadata": {}
        },
        {
            "id": "9cc1a31d",
            "cell_type": "code",
            "metadata": {},
            "execution_count": null,
            "source": "import numpy as np\npoints = np.array([0., 1.5, 3.])\nint_i, int_k = iti0k0(points)\nint_i, int_k",
            "outputs": [
                {
                    "output_type": "execute_result",
                    "metadata": {},
                    "data": {
                        "text/plain": "(array([0.        , 1.80606937, 6.16096149]),\n array([0.        , 1.39458246, 1.53994809]))"
                    },
                    "execution_count": null
                }
            ]
        },
        {
            "id": "6e9692ba",
            "cell_type": "markdown",
            "source": "Plot the functions from 0 to 5.\n",
            "metadata": {}
        },
        {
            "id": "2f60bfd9",
            "cell_type": "code",
            "metadata": {},
            "execution_count": null,
            "source": "import matplotlib.pyplot as plt\nfig, ax = plt.subplots()\nx = np.linspace(0., 5., 1000)\nint_i, int_k = iti0k0(x)\nax.plot(x, int_i, label=r\"$\\int_0^x I_0(t)\\,dt$\")\nax.plot(x, int_k, label=r\"$\\int_0^x K_0(t)\\,dt$\")\nax.legend()\nplt.show()",
            "outputs": []
        }
    ]
}