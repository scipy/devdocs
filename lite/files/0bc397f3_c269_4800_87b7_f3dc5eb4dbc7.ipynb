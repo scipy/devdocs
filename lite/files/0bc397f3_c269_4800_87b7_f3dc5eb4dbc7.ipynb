{
    "nbformat": 4,
    "nbformat_minor": 5,
    "metadata": {
        "kernelspec": {
            "display_name": "Python",
            "language": "python",
            "name": "python"
        },
        "language_info": {
            "name": "python"
        }
    },
    "cells": [
        {
            "id": "8239c22a",
            "cell_type": "markdown",
            "source": "<div class='alert alert-warning'>\n\nSciPy's interactive examples with Jupyterlite are experimental and may not always work as expected. Execution of cells containing imports may result in large downloads (up to 60MB of content for the first import from SciPy). Load times when importing from SciPy may take roughly 10-20 seconds. If you notice any problems, feel free to open an [issue](https://github.com/scipy/scipy/issues/new/choose).\n\n</div>",
            "metadata": {}
        },
        {
            "id": "d937e245",
            "cell_type": "markdown",
            "source": "Import the necessary modules.\n",
            "metadata": {}
        },
        {
            "id": "43e169bd",
            "cell_type": "code",
            "metadata": {},
            "execution_count": null,
            "source": "import numpy as np\nfrom scipy.ndimage import distance_transform_bf\nimport matplotlib.pyplot as plt\nfrom mpl_toolkits.axes_grid1 import ImageGrid",
            "outputs": []
        },
        {
            "id": "d2b79d0e",
            "cell_type": "markdown",
            "source": "First, we create a toy binary image.\n",
            "metadata": {}
        },
        {
            "id": "0387d28a",
            "cell_type": "code",
            "metadata": {},
            "execution_count": null,
            "source": "def add_circle(center_x, center_y, radius, image, fillvalue=1):\n    # fill circular area with 1\n    xx, yy = np.mgrid[:image.shape[0], :image.shape[1]]\n    circle = (xx - center_x) ** 2 + (yy - center_y) ** 2\n    circle_shape = np.sqrt(circle) < radius\n    image[circle_shape] = fillvalue\n    return image\nimage = np.zeros((100, 100), dtype=np.uint8)\nimage[35:65, 20:80] = 1\nimage = add_circle(28, 65, 10, image)\nimage = add_circle(37, 30, 10, image)\nimage = add_circle(70, 45, 20, image)\nimage = add_circle(45, 80, 10, image)",
            "outputs": []
        },
        {
            "id": "5dbaee00",
            "cell_type": "markdown",
            "source": "Next, we set up the figure.\n",
            "metadata": {}
        },
        {
            "id": "030a245a",
            "cell_type": "code",
            "metadata": {},
            "execution_count": null,
            "source": "fig = plt.figure(figsize=(8, 8))  # set up the figure structure\ngrid = ImageGrid(fig, 111, nrows_ncols=(2, 2), axes_pad=(0.4, 0.3),\n                 label_mode=\"1\", share_all=True,\n                 cbar_location=\"right\", cbar_mode=\"each\",\n                 cbar_size=\"7%\", cbar_pad=\"2%\")\nfor ax in grid:\n    ax.axis('off')  # remove axes from images",
            "outputs": []
        },
        {
            "id": "a5c58042",
            "cell_type": "markdown",
            "source": "The top left image is the original binary image.\n",
            "metadata": {}
        },
        {
            "id": "c4b42561",
            "cell_type": "code",
            "metadata": {},
            "execution_count": null,
            "source": "binary_image = grid[0].imshow(image, cmap='gray')\ncbar_binary_image = grid.cbar_axes[0].colorbar(binary_image)\ncbar_binary_image.set_ticks([0, 1])\ngrid[0].set_title(\"Binary image: foreground in white\")",
            "outputs": []
        },
        {
            "id": "339e160e",
            "cell_type": "markdown",
            "source": "The distance transform calculates the distance between foreground pixels\nand the image background according to a distance metric. Available metrics\nin `distance_transform_bf` are: ``euclidean`` (default), ``taxicab``\nand ``chessboard``. The top right image contains the distance transform\nbased on the ``euclidean`` metric.\n",
            "metadata": {}
        },
        {
            "id": "2a3d0b57",
            "cell_type": "code",
            "metadata": {},
            "execution_count": null,
            "source": "distance_transform_euclidean = distance_transform_bf(image)\neuclidean_transform = grid[1].imshow(distance_transform_euclidean,\n                                     cmap='gray')\ncbar_euclidean = grid.cbar_axes[1].colorbar(euclidean_transform)\ncolorbar_ticks = [0, 10, 20]\ncbar_euclidean.set_ticks(colorbar_ticks)\ngrid[1].set_title(\"Euclidean distance\")",
            "outputs": []
        },
        {
            "id": "1500ea29",
            "cell_type": "markdown",
            "source": "The lower left image contains the distance transform using the ``taxicab``\nmetric.\n",
            "metadata": {}
        },
        {
            "id": "ea6a9b99",
            "cell_type": "code",
            "metadata": {},
            "execution_count": null,
            "source": "distance_transform_taxicab = distance_transform_bf(image,\n                                                   metric='taxicab')\ntaxicab_transformation = grid[2].imshow(distance_transform_taxicab,\n                                        cmap='gray')\ncbar_taxicab = grid.cbar_axes[2].colorbar(taxicab_transformation)\ncbar_taxicab.set_ticks(colorbar_ticks)\ngrid[2].set_title(\"Taxicab distance\")",
            "outputs": []
        },
        {
            "id": "0e41d781",
            "cell_type": "markdown",
            "source": "Finally, the lower right image contains the distance transform using the\n``chessboard`` metric.\n",
            "metadata": {}
        },
        {
            "id": "2e4d390e",
            "cell_type": "code",
            "metadata": {},
            "execution_count": null,
            "source": "distance_transform_cb = distance_transform_bf(image,\n                                              metric='chessboard')\nchessboard_transformation = grid[3].imshow(distance_transform_cb,\n                                           cmap='gray')\ncbar_taxicab = grid.cbar_axes[3].colorbar(chessboard_transformation)\ncbar_taxicab.set_ticks(colorbar_ticks)\ngrid[3].set_title(\"Chessboard distance\")\nplt.show()",
            "outputs": []
        }
    ]
}