{
    "nbformat": 4,
    "nbformat_minor": 5,
    "metadata": {
        "kernelspec": {
            "display_name": "Python",
            "language": "python",
            "name": "python"
        },
        "language_info": {
            "name": "python"
        }
    },
    "cells": [
        {
            "id": "eb2dd27c",
            "cell_type": "markdown",
            "source": "<div class='alert alert-warning'>\n\nSciPy's interactive examples with Jupyterlite are experimental and may not always work as expected. Execution of cells containing imports may result in large downloads (up to 60MB of content for the first import from SciPy). Load times when importing from SciPy may take roughly 10-20 seconds. If you notice any problems, feel free to open an [issue](https://github.com/scipy/scipy/issues/new/choose).\n\n</div>",
            "metadata": {}
        },
        {
            "id": "acbbc916",
            "cell_type": "markdown",
            "source": "Find the correlation between two arrays.\n",
            "metadata": {}
        },
        {
            "id": "80516ddb",
            "cell_type": "code",
            "metadata": {},
            "execution_count": null,
            "source": "from scipy.spatial.distance import correlation\ncorrelation([1, 0, 1], [1, 1, 0])",
            "outputs": [
                {
                    "output_type": "execute_result",
                    "metadata": {},
                    "data": {
                        "text/plain": "1.5"
                    },
                    "execution_count": null
                }
            ]
        },
        {
            "id": "398e7080",
            "cell_type": "markdown",
            "source": "Using a weighting array, the correlation can be calculated as:\n",
            "metadata": {}
        },
        {
            "id": "65004177",
            "cell_type": "code",
            "metadata": {},
            "execution_count": null,
            "source": "correlation([1, 0, 1], [1, 1, 0], w=[0.9, 0.1, 0.1])",
            "outputs": [
                {
                    "output_type": "execute_result",
                    "metadata": {},
                    "data": {
                        "text/plain": "1.1"
                    },
                    "execution_count": null
                }
            ]
        },
        {
            "id": "b424c231",
            "cell_type": "markdown",
            "source": "If centering is not needed, the correlation can be calculated as:\n",
            "metadata": {}
        },
        {
            "id": "a4db31cd",
            "cell_type": "code",
            "metadata": {},
            "execution_count": null,
            "source": "correlation([1, 0, 1], [1, 1, 0], centered=False)",
            "outputs": [
                {
                    "output_type": "execute_result",
                    "metadata": {},
                    "data": {
                        "text/plain": "0.5"
                    },
                    "execution_count": null
                }
            ]
        }
    ]
}