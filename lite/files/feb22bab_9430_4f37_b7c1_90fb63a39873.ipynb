{
    "nbformat": 4,
    "nbformat_minor": 5,
    "metadata": {
        "kernelspec": {
            "display_name": "Python",
            "language": "python",
            "name": "python"
        },
        "language_info": {
            "name": "python"
        }
    },
    "cells": [
        {
            "id": "8d8f120d",
            "cell_type": "markdown",
            "source": "<div class='alert alert-warning'>\n\nSciPy's interactive examples with Jupyterlite are experimental and may not always work as expected. Execution of cells containing imports may result in large downloads (up to 60MB of content for the first import from SciPy). Load times when importing from SciPy may take roughly 10-20 seconds. If you notice any problems, feel free to open an [issue](https://github.com/scipy/scipy/issues/new/choose).\n\n</div>",
            "metadata": {}
        },
        {
            "id": "6a06c6bc",
            "cell_type": "markdown",
            "source": "The object may be called (as a function) to fix the `loc`, `shape`,\n`df`, and `allow_singular` parameters, returning a \"frozen\"\nmultivariate_t random variable:\n",
            "metadata": {}
        },
        {
            "id": "b41bd8b1",
            "cell_type": "code",
            "metadata": {},
            "execution_count": null,
            "source": "import numpy as np\nfrom scipy.stats import multivariate_t\nrv = multivariate_t([1.0, -0.5], [[2.1, 0.3], [0.3, 1.5]], df=2)\n# Frozen object with the same methods but holding the given location,\n# scale, and degrees of freedom fixed.",
            "outputs": []
        },
        {
            "id": "dda761b0",
            "cell_type": "markdown",
            "source": "Create a contour plot of the PDF.\n",
            "metadata": {}
        },
        {
            "id": "ddd5a0fb",
            "cell_type": "code",
            "metadata": {},
            "execution_count": null,
            "source": "import matplotlib.pyplot as plt\nx, y = np.mgrid[-1:3:.01, -2:1.5:.01]\npos = np.dstack((x, y))\nfig, ax = plt.subplots(1, 1)\nax.set_aspect('equal')\nplt.contourf(x, y, rv.pdf(pos))",
            "outputs": []
        }
    ]
}