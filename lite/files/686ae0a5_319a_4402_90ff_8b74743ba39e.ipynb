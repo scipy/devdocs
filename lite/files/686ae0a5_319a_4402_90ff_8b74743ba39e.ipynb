{
    "nbformat": 4,
    "nbformat_minor": 5,
    "metadata": {
        "kernelspec": {
            "display_name": "Python",
            "language": "python",
            "name": "python"
        },
        "language_info": {
            "name": "python"
        }
    },
    "cells": [
        {
            "id": "71c7b94b",
            "cell_type": "markdown",
            "source": "<div class='alert alert-warning'>\n\nSciPy's interactive examples with Jupyterlite are experimental and may not always work as expected. Execution of cells containing imports may result in large downloads (up to 60MB of content for the first import from SciPy). Load times when importing from SciPy may take roughly 10-20 seconds. If you notice any problems, feel free to open an [issue](https://github.com/scipy/scipy/issues/new/choose).\n\n</div>",
            "metadata": {}
        },
        {
            "id": "5cfedc59",
            "cell_type": "markdown",
            "source": "First consider the problem of minimizing the Rosenbrock function, `rosen`:\n",
            "metadata": {}
        },
        {
            "id": "255a5c7c",
            "cell_type": "code",
            "metadata": {},
            "execution_count": null,
            "source": "from scipy.optimize import rosen, shgo\nbounds = [(0,2), (0, 2), (0, 2), (0, 2), (0, 2)]\nresult = shgo(rosen, bounds)\nresult.x, result.fun",
            "outputs": [
                {
                    "output_type": "execute_result",
                    "metadata": {},
                    "data": {
                        "text/plain": "(array([1., 1., 1., 1., 1.]), 2.920392374190081e-18)"
                    },
                    "execution_count": null
                }
            ]
        },
        {
            "id": "6b2e9bb5",
            "cell_type": "markdown",
            "source": "Note that bounds determine the dimensionality of the objective\nfunction and is therefore a required input, however you can specify\nempty bounds using ``None`` or objects like ``np.inf`` which will be\nconverted to large float numbers.\n",
            "metadata": {}
        },
        {
            "id": "c9650b5a",
            "cell_type": "code",
            "metadata": {},
            "execution_count": null,
            "source": "bounds = [(None, None), ]*4\nresult = shgo(rosen, bounds)\nresult.x",
            "outputs": [
                {
                    "output_type": "execute_result",
                    "metadata": {},
                    "data": {
                        "text/plain": "array([0.99999851, 0.99999704, 0.99999411, 0.9999882 ])"
                    },
                    "execution_count": null
                }
            ]
        },
        {
            "id": "ebd7ae82",
            "cell_type": "markdown",
            "source": "Next, we consider the Eggholder function, a problem with several local\nminima and one global minimum. We will demonstrate the use of arguments and\nthe capabilities of `shgo`.\n(https://en.wikipedia.org/wiki/Test_functions_for_optimization)\n",
            "metadata": {}
        },
        {
            "id": "66bf23a6",
            "cell_type": "code",
            "metadata": {},
            "execution_count": null,
            "source": "import numpy as np\ndef eggholder(x):\n    return (-(x[1] + 47.0)\n            * np.sin(np.sqrt(abs(x[0]/2.0 + (x[1] + 47.0))))\n            - x[0] * np.sin(np.sqrt(abs(x[0] - (x[1] + 47.0))))\n            )\n\nbounds = [(-512, 512), (-512, 512)]",
            "outputs": []
        },
        {
            "id": "c5ba2f91",
            "cell_type": "markdown",
            "source": "`shgo` has built-in low discrepancy sampling sequences. First, we will\ninput 64 initial sampling points of the *Sobol'* sequence:\n",
            "metadata": {}
        },
        {
            "id": "a16f7293",
            "cell_type": "code",
            "metadata": {},
            "execution_count": null,
            "source": "result = shgo(eggholder, bounds, n=64, sampling_method='sobol')\nresult.x, result.fun",
            "outputs": [
                {
                    "output_type": "execute_result",
                    "metadata": {},
                    "data": {
                        "text/plain": "(array([512.        , 404.23180824]), -959.6406627208397)"
                    },
                    "execution_count": null
                }
            ]
        },
        {
            "id": "3d2ebeea",
            "cell_type": "markdown",
            "source": "`shgo` also has a return for any other local minima that was found, these\ncan be called using:\n",
            "metadata": {}
        },
        {
            "id": "0671565d",
            "cell_type": "code",
            "metadata": {},
            "execution_count": null,
            "source": "result.xl",
            "outputs": [
                {
                    "output_type": "execute_result",
                    "metadata": {},
                    "data": {
                        "text/plain": "array([[ 512.        ,  404.23180824],\n       [ 283.0759062 , -487.12565635],\n       [-294.66820039, -462.01964031],\n       [-105.87688911,  423.15323845],\n       [-242.97926   ,  274.38030925],\n       [-506.25823477,    6.3131022 ],\n       [-408.71980731, -156.10116949],\n       [ 150.23207937,  301.31376595],\n       [  91.00920901, -391.283763  ],\n       [ 202.89662724, -269.38043241],\n       [ 361.66623976, -106.96493868],\n       [-219.40612786, -244.06020508]])"
                    },
                    "execution_count": null
                }
            ]
        },
        {
            "id": "f9783612",
            "cell_type": "code",
            "metadata": {},
            "execution_count": null,
            "source": "result.funl",
            "outputs": [
                {
                    "output_type": "execute_result",
                    "metadata": {},
                    "data": {
                        "text/plain": "array([-959.64066272, -718.16745962, -704.80659592, -565.99778097,\n       -559.78685655, -557.36868733, -507.87385942, -493.9605115 ,\n       -426.48799655, -421.15571437, -419.31194957, -410.98477763])"
                    },
                    "execution_count": null
                }
            ]
        },
        {
            "id": "5ba89796",
            "cell_type": "markdown",
            "source": "These results are useful in applications where there are many global minima\nand the values of other global minima are desired or where the local minima\ncan provide insight into the system (for example morphologies\nin physical chemistry [4]).\n\nIf we want to find a larger number of local minima, we can increase the\nnumber of sampling points or the number of iterations. We'll increase the\nnumber of sampling points to 64 and the number of iterations from the\ndefault of 1 to 3. Using ``simplicial`` this would have given us\n64 x 3 = 192 initial sampling points.\n",
            "metadata": {}
        },
        {
            "id": "bd8f0c64",
            "cell_type": "code",
            "metadata": {},
            "execution_count": null,
            "source": "result_2 = shgo(eggholder,\n                bounds, n=64, iters=3, sampling_method='sobol')\nlen(result.xl), len(result_2.xl)",
            "outputs": [
                {
                    "output_type": "execute_result",
                    "metadata": {},
                    "data": {
                        "text/plain": "(12, 23)"
                    },
                    "execution_count": null
                }
            ]
        },
        {
            "id": "e55de1af",
            "cell_type": "markdown",
            "source": "Note the difference between, e.g., ``n=192, iters=1`` and ``n=64,\niters=3``.\nIn the first case the promising points contained in the minimiser pool\nare processed only once. In the latter case it is processed every 64\nsampling points for a total of 3 times.\n\nTo demonstrate solving problems with non-linear constraints consider the\nfollowing example from Hock and Schittkowski problem 73 (cattle-feed)\n[3]\n```\n\nminimize: f = 24.55 * x_1 + 26.75 * x_2 + 39 * x_3 + 40.50 * x_4\n\nsubject to: 2.3 * x_1 + 5.6 * x_2 + 11.1 * x_3 + 1.3 * x_4 - 5    >= 0,\n\n12 * x_1 + 11.9 * x_2 + 41.8 * x_3 + 52.1 * x_4 - 21\n-1.645 * sqrt(0.28 * x_1**2 + 0.19 * x_2**2 +\n20.5 * x_3**2 + 0.62 * x_4**2)      >= 0,\n\nx_1 + x_2 + x_3 + x_4 - 1                             == 0,\n\n1 >= x_i >= 0 for all i\n\n```\nThe approximate answer given in [3] is\n```\n\nf([0.6355216, -0.12e-11, 0.3127019, 0.05177655]) = 29.894378\n\n```",
            "metadata": {}
        },
        {
            "id": "a9cd1ddd",
            "cell_type": "code",
            "metadata": {},
            "execution_count": null,
            "source": "def f(x):  # (cattle-feed)\n    return 24.55*x[0] + 26.75*x[1] + 39*x[2] + 40.50*x[3]\n\ndef g1(x):\n    return 2.3*x[0] + 5.6*x[1] + 11.1*x[2] + 1.3*x[3] - 5  # >=0\n\ndef g2(x):\n    return (12*x[0] + 11.9*x[1] +41.8*x[2] + 52.1*x[3] - 21\n            - 1.645 * np.sqrt(0.28*x[0]**2 + 0.19*x[1]**2\n                            + 20.5*x[2]**2 + 0.62*x[3]**2)\n            ) # >=0\n\ndef h1(x):\n    return x[0] + x[1] + x[2] + x[3] - 1  # == 0\n\ncons = ({'type': 'ineq', 'fun': g1},\n        {'type': 'ineq', 'fun': g2},\n        {'type': 'eq', 'fun': h1})\nbounds = [(0, 1.0),]*4\nres = shgo(f, bounds, n=150, constraints=cons)\nres",
            "outputs": [
                {
                    "output_type": "execute_result",
                    "metadata": {},
                    "data": {
                        "text/plain": " message: Optimization terminated successfully.\n success: True\n     fun: 29.894378159142136\n    funl: [ 2.989e+01]\n       x: [ 6.355e-01  1.137e-13  3.127e-01  5.178e-02] # may vary\n      xl: [[ 6.355e-01  1.137e-13  3.127e-01  5.178e-02]] # may vary\n     nit: 1\n    nfev: 142 # may vary\n   nlfev: 35 # may vary\n   nljev: 5\n   nlhev: 0"
                    },
                    "execution_count": null
                }
            ]
        },
        {
            "id": "0706c9ca",
            "cell_type": "code",
            "metadata": {},
            "execution_count": null,
            "source": "g1(res.x), g2(res.x), h1(res.x)",
            "outputs": [
                {
                    "output_type": "execute_result",
                    "metadata": {},
                    "data": {
                        "text/plain": "(-5.062616992290714e-14, -2.9594104944408173e-12, 0.0)"
                    },
                    "execution_count": null
                }
            ]
        }
    ]
}