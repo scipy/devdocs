{
    "nbformat": 4,
    "nbformat_minor": 5,
    "metadata": {
        "kernelspec": {
            "display_name": "Python",
            "language": "python",
            "name": "python"
        },
        "language_info": {
            "name": "python"
        }
    },
    "cells": [
        {
            "id": "7c384967",
            "cell_type": "markdown",
            "source": "<div class='alert alert-warning'>\n\nSciPy's interactive examples with Jupyterlite are experimental and may not always work as expected. Execution of cells containing imports may result in large downloads (up to 60MB of content for the first import from SciPy). Load times when importing from SciPy may take roughly 10-20 seconds. If you notice any problems, feel free to open an [issue](https://github.com/scipy/scipy/issues/new/choose).\n\n</div>",
            "metadata": {}
        },
        {
            "id": "825a786d",
            "cell_type": "markdown",
            "source": "Compute the negative binomial cumulative distribution function for an\nexemplary parameter set.\n",
            "metadata": {}
        },
        {
            "id": "4caf3ec5",
            "cell_type": "code",
            "metadata": {},
            "execution_count": null,
            "source": "from scipy.special import nbdtr, nbdtrin\nk, n, p = 5, 2, 0.5\ncdf_value = nbdtr(k, n, p)\ncdf_value",
            "outputs": [
                {
                    "output_type": "execute_result",
                    "metadata": {},
                    "data": {
                        "text/plain": "0.9375"
                    },
                    "execution_count": null
                }
            ]
        },
        {
            "id": "65dd67e6",
            "cell_type": "markdown",
            "source": "Verify that `nbdtrin` recovers the original value for `n` up to floating\npoint accuracy.\n",
            "metadata": {}
        },
        {
            "id": "6847f1da",
            "cell_type": "code",
            "metadata": {},
            "execution_count": null,
            "source": "nbdtrin(k, cdf_value, p)",
            "outputs": [
                {
                    "output_type": "execute_result",
                    "metadata": {},
                    "data": {
                        "text/plain": "1.999999999998137"
                    },
                    "execution_count": null
                }
            ]
        }
    ]
}