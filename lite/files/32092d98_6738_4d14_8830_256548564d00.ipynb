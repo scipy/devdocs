{
    "nbformat": 4,
    "nbformat_minor": 5,
    "metadata": {
        "kernelspec": {
            "display_name": "Python",
            "language": "python",
            "name": "python"
        },
        "language_info": {
            "name": "python"
        }
    },
    "cells": [
        {
            "id": "dab9bff6",
            "cell_type": "markdown",
            "source": "<div class='alert alert-warning'>\n\nSciPy's interactive examples with Jupyterlite are experimental and may not always work as expected. Execution of cells containing imports may result in large downloads (up to 60MB of content for the first import from SciPy). Load times when importing from SciPy may take roughly 10-20 seconds. If you notice any problems, feel free to open an [issue](https://github.com/scipy/scipy/issues/new/choose).\n\n</div>",
            "metadata": {}
        },
        {
            "id": "34bec527",
            "cell_type": "markdown",
            "source": "Compute the double integral of ``x * y**2`` over the box\n``x`` ranging from 0 to 2 and ``y`` ranging from 0 to 1.\nThat is, $\\int^{x=2}_{x=0} \\int^{y=1}_{y=0} x y^2 \\,dy \\,dx$.\n",
            "metadata": {}
        },
        {
            "id": "0e8aff8b",
            "cell_type": "code",
            "metadata": {},
            "execution_count": null,
            "source": "import numpy as np\nfrom scipy import integrate\nf = lambda y, x: x*y**2\nintegrate.dblquad(f, 0, 2, 0, 1)",
            "outputs": [
                {
                    "output_type": "execute_result",
                    "metadata": {},
                    "data": {
                        "text/plain": "    (0.6666666666666667, 7.401486830834377e-15)"
                    },
                    "execution_count": null
                }
            ]
        },
        {
            "id": "12f03689",
            "cell_type": "markdown",
            "source": "Calculate $\\int^{x=\\pi/4}_{x=0} \\int^{y=\\cos(x)}_{y=\\sin(x)} 1\n\\,dy \\,dx$.\n",
            "metadata": {}
        },
        {
            "id": "64a0bd79",
            "cell_type": "code",
            "metadata": {},
            "execution_count": null,
            "source": "f = lambda y, x: 1\nintegrate.dblquad(f, 0, np.pi/4, np.sin, np.cos)",
            "outputs": [
                {
                    "output_type": "execute_result",
                    "metadata": {},
                    "data": {
                        "text/plain": "    (0.41421356237309503, 1.1083280054755938e-14)"
                    },
                    "execution_count": null
                }
            ]
        },
        {
            "id": "c2f09a36",
            "cell_type": "markdown",
            "source": "Calculate $\\int^{x=1}_{x=0} \\int^{y=2-x}_{y=x} a x y \\,dy \\,dx$\nfor $a=1, 3$.\n",
            "metadata": {}
        },
        {
            "id": "79e78168",
            "cell_type": "code",
            "metadata": {},
            "execution_count": null,
            "source": "f = lambda y, x, a: a*x*y\nintegrate.dblquad(f, 0, 1, lambda x: x, lambda x: 2-x, args=(1,))",
            "outputs": [
                {
                    "output_type": "execute_result",
                    "metadata": {},
                    "data": {
                        "text/plain": "    (0.33333333333333337, 5.551115123125783e-15)"
                    },
                    "execution_count": null
                }
            ]
        },
        {
            "id": "797eccda",
            "cell_type": "code",
            "metadata": {},
            "execution_count": null,
            "source": "integrate.dblquad(f, 0, 1, lambda x: x, lambda x: 2-x, args=(3,))",
            "outputs": [
                {
                    "output_type": "execute_result",
                    "metadata": {},
                    "data": {
                        "text/plain": "    (0.9999999999999999, 1.6653345369377348e-14)"
                    },
                    "execution_count": null
                }
            ]
        },
        {
            "id": "40798a10",
            "cell_type": "markdown",
            "source": "Compute the two-dimensional Gaussian Integral, which is the integral of the\nGaussian function $f(x,y) = e^{-(x^{2} + y^{2})}$, over\n$(-\\infty,+\\infty)$. That is, compute the integral\n$\\iint^{+\\infty}_{-\\infty} e^{-(x^{2} + y^{2})} \\,dy\\,dx$.\n",
            "metadata": {}
        },
        {
            "id": "865ecdcf",
            "cell_type": "code",
            "metadata": {},
            "execution_count": null,
            "source": "f = lambda x, y: np.exp(-(x ** 2 + y ** 2))\nintegrate.dblquad(f, -np.inf, np.inf, -np.inf, np.inf)",
            "outputs": [
                {
                    "output_type": "execute_result",
                    "metadata": {},
                    "data": {
                        "text/plain": "    (3.141592653589777, 2.5173086737433208e-08)"
                    },
                    "execution_count": null
                }
            ]
        }
    ]
}