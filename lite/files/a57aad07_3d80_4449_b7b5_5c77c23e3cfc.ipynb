{
    "nbformat": 4,
    "nbformat_minor": 5,
    "metadata": {
        "kernelspec": {
            "display_name": "Python",
            "language": "python",
            "name": "python"
        },
        "language_info": {
            "name": "python"
        }
    },
    "cells": [
        {
            "id": "d5c5fb56",
            "cell_type": "markdown",
            "source": "<div class='alert alert-warning'>\n\nSciPy's interactive examples with Jupyterlite are experimental and may not always work as expected. Execution of cells containing imports may result in large downloads (up to 60MB of content for the first import from SciPy). Load times when importing from SciPy may take roughly 10-20 seconds. If you notice any problems, feel free to open an [issue](https://github.com/scipy/scipy/issues/new/choose).\n\n</div>",
            "metadata": {}
        },
        {
            "id": "9014a6df",
            "cell_type": "code",
            "metadata": {},
            "execution_count": null,
            "source": "import scipy.special as sc",
            "outputs": []
        },
        {
            "id": "067196f5",
            "cell_type": "markdown",
            "source": "It starts at infinity and monotonically decreases to 0.\n",
            "metadata": {}
        },
        {
            "id": "e81ac3c4",
            "cell_type": "code",
            "metadata": {},
            "execution_count": null,
            "source": "sc.gammainccinv(0.5, [0, 0.1, 0.5, 1])",
            "outputs": [
                {
                    "output_type": "execute_result",
                    "metadata": {},
                    "data": {
                        "text/plain": "array([       inf, 1.35277173, 0.22746821, 0.        ])"
                    },
                    "execution_count": null
                }
            ]
        },
        {
            "id": "11192505",
            "cell_type": "markdown",
            "source": "It inverts the upper incomplete gamma function.\n",
            "metadata": {}
        },
        {
            "id": "c4beeb02",
            "cell_type": "code",
            "metadata": {},
            "execution_count": null,
            "source": "a, x = 0.5, [0, 0.1, 0.5, 1]\nsc.gammaincc(a, sc.gammainccinv(a, x))",
            "outputs": [
                {
                    "output_type": "execute_result",
                    "metadata": {},
                    "data": {
                        "text/plain": "array([0. , 0.1, 0.5, 1. ])"
                    },
                    "execution_count": null
                }
            ]
        },
        {
            "id": "0bc8aa1a",
            "cell_type": "code",
            "metadata": {},
            "execution_count": null,
            "source": "a, x = 0.5, [0, 10, 50]\nsc.gammainccinv(a, sc.gammaincc(a, x))",
            "outputs": [
                {
                    "output_type": "execute_result",
                    "metadata": {},
                    "data": {
                        "text/plain": "array([ 0., 10., 50.])"
                    },
                    "execution_count": null
                }
            ]
        }
    ]
}