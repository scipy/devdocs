{
    "nbformat": 4,
    "nbformat_minor": 5,
    "metadata": {
        "kernelspec": {
            "display_name": "Python",
            "language": "python",
            "name": "python"
        },
        "language_info": {
            "name": "python"
        }
    },
    "cells": [
        {
            "id": "8c610bb1",
            "cell_type": "markdown",
            "source": "<div class='alert alert-warning'>\n\nSciPy's interactive examples with Jupyterlite are experimental and may not always work as expected. Execution of cells containing imports may result in large downloads (up to 60MB of content for the first import from SciPy). Load times when importing from SciPy may take roughly 10-20 seconds. If you notice any problems, feel free to open an [issue](https://github.com/scipy/scipy/issues/new/choose).\n\n</div>",
            "metadata": {}
        },
        {
            "id": "9bab9141",
            "cell_type": "markdown",
            "source": "Heinzel describes a flat-top window named \"HFT90D\" with formula: [2]\n\n.. math::  w_j = 1 - 1.942604 \\cos(z) + 1.340318 \\cos(2z)\n           - 0.440811 \\cos(3z) + 0.043097 \\cos(4z)\n\nwhere\n\n.. math::  z = \\frac{2 \\pi j}{N}, j = 0...N - 1\n\nSince this uses the convention of starting at the origin, to reproduce the\nwindow, we need to convert every other coefficient to a positive number:\n",
            "metadata": {}
        },
        {
            "id": "1ab88fa7",
            "cell_type": "code",
            "metadata": {},
            "execution_count": null,
            "source": "HFT90D = [1, 1.942604, 1.340318, 0.440811, 0.043097]",
            "outputs": []
        },
        {
            "id": "b9150e1c",
            "cell_type": "markdown",
            "source": "The paper states that the highest sidelobe is at -90.2 dB.  Reproduce\nFigure 42 by plotting the window and its frequency response, and confirm\nthe sidelobe level in red:\n",
            "metadata": {}
        },
        {
            "id": "3cdaa81d",
            "cell_type": "code",
            "metadata": {},
            "execution_count": null,
            "source": "import numpy as np\nfrom scipy.signal.windows import general_cosine\nfrom scipy.fft import fft, fftshift\nimport matplotlib.pyplot as plt",
            "outputs": []
        },
        {
            "id": "f87946d8",
            "cell_type": "code",
            "metadata": {},
            "execution_count": null,
            "source": "window = general_cosine(1000, HFT90D, sym=False)\nplt.plot(window)\nplt.title(\"HFT90D window\")\nplt.ylabel(\"Amplitude\")\nplt.xlabel(\"Sample\")",
            "outputs": []
        },
        {
            "id": "3c1f63d9",
            "cell_type": "code",
            "metadata": {},
            "execution_count": null,
            "source": "plt.figure()\nA = fft(window, 10000) / (len(window)/2.0)\nfreq = np.linspace(-0.5, 0.5, len(A))\nresponse = np.abs(fftshift(A / abs(A).max()))\nresponse = 20 * np.log10(np.maximum(response, 1e-10))\nplt.plot(freq, response)\nplt.axis([-50/1000, 50/1000, -140, 0])\nplt.title(\"Frequency response of the HFT90D window\")\nplt.ylabel(\"Normalized magnitude [dB]\")\nplt.xlabel(\"Normalized frequency [cycles per sample]\")\nplt.axhline(-90.2, color='red')\nplt.show()",
            "outputs": []
        }
    ]
}