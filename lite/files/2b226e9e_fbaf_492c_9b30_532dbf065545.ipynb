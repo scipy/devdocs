{
    "nbformat": 4,
    "nbformat_minor": 5,
    "metadata": {
        "kernelspec": {
            "display_name": "Python",
            "language": "python",
            "name": "python"
        },
        "language_info": {
            "name": "python"
        }
    },
    "cells": [
        {
            "id": "159f5537",
            "cell_type": "markdown",
            "source": "<div class='alert alert-warning'>\n\nSciPy's interactive examples with Jupyterlite are experimental and may not always work as expected. Execution of cells containing imports may result in large downloads (up to 60MB of content for the first import from SciPy). Load times when importing from SciPy may take roughly 10-20 seconds. If you notice any problems, feel free to open an [issue](https://github.com/scipy/scipy/issues/new/choose).\n\n</div>",
            "metadata": {}
        },
        {
            "id": "aa46a5e2",
            "cell_type": "markdown",
            "source": "Calculate the function at one point:\n",
            "metadata": {}
        },
        {
            "id": "a5baf3c7",
            "cell_type": "code",
            "metadata": {},
            "execution_count": null,
            "source": "from scipy.special import y0\ny0(1.)",
            "outputs": [
                {
                    "output_type": "execute_result",
                    "metadata": {},
                    "data": {
                        "text/plain": "0.08825696421567697"
                    },
                    "execution_count": null
                }
            ]
        },
        {
            "id": "3555778b",
            "cell_type": "markdown",
            "source": "Calculate at several points:\n",
            "metadata": {}
        },
        {
            "id": "31ee1a79",
            "cell_type": "code",
            "metadata": {},
            "execution_count": null,
            "source": "import numpy as np\ny0(np.array([0.5, 2., 3.]))",
            "outputs": [
                {
                    "output_type": "execute_result",
                    "metadata": {},
                    "data": {
                        "text/plain": "array([-0.44451873,  0.51037567,  0.37685001])"
                    },
                    "execution_count": null
                }
            ]
        },
        {
            "id": "1d03a64f",
            "cell_type": "markdown",
            "source": "Plot the function from 0 to 10.\n",
            "metadata": {}
        },
        {
            "id": "83fe0119",
            "cell_type": "code",
            "metadata": {},
            "execution_count": null,
            "source": "import matplotlib.pyplot as plt\nfig, ax = plt.subplots()\nx = np.linspace(0., 10., 1000)\ny = y0(x)\nax.plot(x, y)\nplt.show()",
            "outputs": []
        }
    ]
}