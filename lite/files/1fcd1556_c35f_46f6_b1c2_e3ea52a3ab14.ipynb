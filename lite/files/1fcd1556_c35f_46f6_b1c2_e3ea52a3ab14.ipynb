{
    "nbformat": 4,
    "nbformat_minor": 5,
    "metadata": {
        "kernelspec": {
            "display_name": "Python",
            "language": "python",
            "name": "python"
        },
        "language_info": {
            "name": "python"
        }
    },
    "cells": [
        {
            "id": "3254b86c",
            "cell_type": "markdown",
            "source": "<div class='alert alert-warning'>\n\nSciPy's interactive examples with Jupyterlite are experimental and may not always work as expected. Execution of cells containing imports may result in large downloads (up to 60MB of content for the first import from SciPy). Load times when importing from SciPy may take roughly 10-20 seconds. If you notice any problems, feel free to open an [issue](https://github.com/scipy/scipy/issues/new/choose).\n\n</div>",
            "metadata": {}
        },
        {
            "id": "592bd0e2",
            "cell_type": "markdown",
            "source": "Compute the first 5 zeros of the derivative of the Kelvin function.\n",
            "metadata": {}
        },
        {
            "id": "1fe977a1",
            "cell_type": "code",
            "metadata": {},
            "execution_count": null,
            "source": "from scipy.special import berp_zeros\nberp_zeros(5)",
            "outputs": [
                {
                    "output_type": "execute_result",
                    "metadata": {},
                    "data": {
                        "text/plain": "array([ 6.03871081, 10.51364251, 14.96844542, 19.41757493, 23.86430432])"
                    },
                    "execution_count": null
                }
            ]
        }
    ]
}