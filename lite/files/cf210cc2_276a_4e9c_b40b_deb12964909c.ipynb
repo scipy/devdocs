{
    "nbformat": 4,
    "nbformat_minor": 5,
    "metadata": {
        "kernelspec": {
            "display_name": "Python",
            "language": "python",
            "name": "python"
        },
        "language_info": {
            "name": "python"
        }
    },
    "cells": [
        {
            "id": "e4896696",
            "cell_type": "markdown",
            "source": "<div class='alert alert-warning'>\n\nSciPy's interactive examples with Jupyterlite are experimental and may not always work as expected. Execution of cells containing imports may result in large downloads (up to 60MB of content for the first import from SciPy). Load times when importing from SciPy may take roughly 10-20 seconds. If you notice any problems, feel free to open an [issue](https://github.com/scipy/scipy/issues/new/choose).\n\n</div>",
            "metadata": {}
        },
        {
            "id": "36ddd513",
            "cell_type": "code",
            "metadata": {},
            "execution_count": null,
            "source": "import numpy as np\nfrom scipy.sparse.linalg import factorized\nfrom scipy.sparse import csc_matrix\nA = np.array([[ 3. ,  2. , -1. ],\n              [ 2. , -2. ,  4. ],\n              [-1. ,  0.5, -1. ]])\nsolve = factorized(csc_matrix(A)) # Makes LU decomposition.\nrhs1 = np.array([1, -2, 0])\nsolve(rhs1) # Uses the LU factors.",
            "outputs": [
                {
                    "output_type": "execute_result",
                    "metadata": {},
                    "data": {
                        "text/plain": "array([ 1., -2., -2.])"
                    },
                    "execution_count": null
                }
            ]
        }
    ]
}