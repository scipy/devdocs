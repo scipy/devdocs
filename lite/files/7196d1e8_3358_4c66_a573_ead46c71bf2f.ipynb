{
    "nbformat": 4,
    "nbformat_minor": 5,
    "metadata": {
        "kernelspec": {
            "display_name": "Python",
            "language": "python",
            "name": "python"
        },
        "language_info": {
            "name": "python"
        }
    },
    "cells": [
        {
            "id": "d88b1c85",
            "cell_type": "markdown",
            "source": "<div class='alert alert-warning'>\n\nSciPy's interactive examples with Jupyterlite are experimental and may not always work as expected. Execution of cells containing imports may result in large downloads (up to 60MB of content for the first import from SciPy). Load times when importing from SciPy may take roughly 10-20 seconds. If you notice any problems, feel free to open an [issue](https://github.com/scipy/scipy/issues/new/choose).\n\n</div>",
            "metadata": {}
        },
        {
            "id": "a114566d",
            "cell_type": "code",
            "metadata": {},
            "execution_count": null,
            "source": "import numpy as np\nfrom scipy.stats import gennorm\nimport matplotlib.pyplot as plt\nfig, ax = plt.subplots(1, 1)",
            "outputs": []
        },
        {
            "id": "dedc874f",
            "cell_type": "markdown",
            "source": "Calculate the first four moments:\n",
            "metadata": {}
        },
        {
            "id": "ea7bcc04",
            "cell_type": "code",
            "metadata": {},
            "execution_count": null,
            "source": "beta = 1.3\nmean, var, skew, kurt = gennorm.stats(beta, moments='mvsk')",
            "outputs": []
        },
        {
            "id": "977d2f86",
            "cell_type": "markdown",
            "source": "Display the probability density function (``pdf``):\n",
            "metadata": {}
        },
        {
            "id": "f86561ff",
            "cell_type": "code",
            "metadata": {},
            "execution_count": null,
            "source": "x = np.linspace(gennorm.ppf(0.01, beta),\n                gennorm.ppf(0.99, beta), 100)\nax.plot(x, gennorm.pdf(x, beta),\n       'r-', lw=5, alpha=0.6, label='gennorm pdf')",
            "outputs": []
        },
        {
            "id": "4ac54c34",
            "cell_type": "markdown",
            "source": "Alternatively, the distribution object can be called (as a function)\nto fix the shape, location and scale parameters. This returns a \"frozen\"\nRV object holding the given parameters fixed.\n\nFreeze the distribution and display the frozen ``pdf``:\n",
            "metadata": {}
        },
        {
            "id": "50f65164",
            "cell_type": "code",
            "metadata": {},
            "execution_count": null,
            "source": "rv = gennorm(beta)\nax.plot(x, rv.pdf(x), 'k-', lw=2, label='frozen pdf')",
            "outputs": []
        },
        {
            "id": "42dea19b",
            "cell_type": "markdown",
            "source": "Check accuracy of ``cdf`` and ``ppf``:\n",
            "metadata": {}
        },
        {
            "id": "56e5d566",
            "cell_type": "code",
            "metadata": {},
            "execution_count": null,
            "source": "vals = gennorm.ppf([0.001, 0.5, 0.999], beta)\nnp.allclose([0.001, 0.5, 0.999], gennorm.cdf(vals, beta))",
            "outputs": [
                {
                    "output_type": "execute_result",
                    "metadata": {},
                    "data": {
                        "text/plain": "True"
                    },
                    "execution_count": null
                }
            ]
        },
        {
            "id": "1871b22e",
            "cell_type": "markdown",
            "source": "Generate random numbers:\n",
            "metadata": {}
        },
        {
            "id": "c50b93b5",
            "cell_type": "code",
            "metadata": {},
            "execution_count": null,
            "source": "r = gennorm.rvs(beta, size=1000)",
            "outputs": []
        },
        {
            "id": "6e73b85d",
            "cell_type": "markdown",
            "source": "And compare the histogram:\n",
            "metadata": {}
        },
        {
            "id": "973d0e1c",
            "cell_type": "code",
            "metadata": {},
            "execution_count": null,
            "source": "ax.hist(r, density=True, bins='auto', histtype='stepfilled', alpha=0.2)\nax.set_xlim([x[0], x[-1]])\nax.legend(loc='best', frameon=False)\nplt.show()",
            "outputs": []
        }
    ]
}