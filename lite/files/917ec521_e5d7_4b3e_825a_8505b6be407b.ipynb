{
    "nbformat": 4,
    "nbformat_minor": 5,
    "metadata": {
        "kernelspec": {
            "display_name": "Python",
            "language": "python",
            "name": "python"
        },
        "language_info": {
            "name": "python"
        }
    },
    "cells": [
        {
            "id": "58df3201",
            "cell_type": "markdown",
            "source": "<div class='alert alert-warning'>\n\nSciPy's interactive examples with Jupyterlite are experimental and may not always work as expected. Execution of cells containing imports may result in large downloads (up to 60MB of content for the first import from SciPy). Load times when importing from SciPy may take roughly 10-20 seconds. If you notice any problems, feel free to open an [issue](https://github.com/scipy/scipy/issues/new/choose).\n\n</div>",
            "metadata": {}
        },
        {
            "id": "ee2afb9a",
            "cell_type": "code",
            "metadata": {},
            "execution_count": null,
            "source": "import numpy as np\nfrom scipy.stats import nakagami\nimport matplotlib.pyplot as plt\nfig, ax = plt.subplots(1, 1)",
            "outputs": []
        },
        {
            "id": "7acbd85b",
            "cell_type": "markdown",
            "source": "Calculate the first four moments:\n",
            "metadata": {}
        },
        {
            "id": "5b3a577a",
            "cell_type": "code",
            "metadata": {},
            "execution_count": null,
            "source": "nu = 4.97\nmean, var, skew, kurt = nakagami.stats(nu, moments='mvsk')",
            "outputs": []
        },
        {
            "id": "b33e0785",
            "cell_type": "markdown",
            "source": "Display the probability density function (``pdf``):\n",
            "metadata": {}
        },
        {
            "id": "a0a2a5b6",
            "cell_type": "code",
            "metadata": {},
            "execution_count": null,
            "source": "x = np.linspace(nakagami.ppf(0.01, nu),\n                nakagami.ppf(0.99, nu), 100)\nax.plot(x, nakagami.pdf(x, nu),\n       'r-', lw=5, alpha=0.6, label='nakagami pdf')",
            "outputs": []
        },
        {
            "id": "1ad394c0",
            "cell_type": "markdown",
            "source": "Alternatively, the distribution object can be called (as a function)\nto fix the shape, location and scale parameters. This returns a \"frozen\"\nRV object holding the given parameters fixed.\n\nFreeze the distribution and display the frozen ``pdf``:\n",
            "metadata": {}
        },
        {
            "id": "29d4d57d",
            "cell_type": "code",
            "metadata": {},
            "execution_count": null,
            "source": "rv = nakagami(nu)\nax.plot(x, rv.pdf(x), 'k-', lw=2, label='frozen pdf')",
            "outputs": []
        },
        {
            "id": "43eb29bd",
            "cell_type": "markdown",
            "source": "Check accuracy of ``cdf`` and ``ppf``:\n",
            "metadata": {}
        },
        {
            "id": "be4be20b",
            "cell_type": "code",
            "metadata": {},
            "execution_count": null,
            "source": "vals = nakagami.ppf([0.001, 0.5, 0.999], nu)\nnp.allclose([0.001, 0.5, 0.999], nakagami.cdf(vals, nu))",
            "outputs": [
                {
                    "output_type": "execute_result",
                    "metadata": {},
                    "data": {
                        "text/plain": "True"
                    },
                    "execution_count": null
                }
            ]
        },
        {
            "id": "9887fc6c",
            "cell_type": "markdown",
            "source": "Generate random numbers:\n",
            "metadata": {}
        },
        {
            "id": "0be3fc1d",
            "cell_type": "code",
            "metadata": {},
            "execution_count": null,
            "source": "r = nakagami.rvs(nu, size=1000)",
            "outputs": []
        },
        {
            "id": "c3441799",
            "cell_type": "markdown",
            "source": "And compare the histogram:\n",
            "metadata": {}
        },
        {
            "id": "cac43511",
            "cell_type": "code",
            "metadata": {},
            "execution_count": null,
            "source": "ax.hist(r, density=True, bins='auto', histtype='stepfilled', alpha=0.2)\nax.set_xlim([x[0], x[-1]])\nax.legend(loc='best', frameon=False)\nplt.show()",
            "outputs": []
        }
    ]
}