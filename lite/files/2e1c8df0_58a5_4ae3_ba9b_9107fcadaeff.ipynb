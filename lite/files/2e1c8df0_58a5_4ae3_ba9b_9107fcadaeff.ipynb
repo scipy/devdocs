{
    "nbformat": 4,
    "nbformat_minor": 5,
    "metadata": {
        "kernelspec": {
            "display_name": "Python",
            "language": "python",
            "name": "python"
        },
        "language_info": {
            "name": "python"
        }
    },
    "cells": [
        {
            "id": "24ed3f77",
            "cell_type": "markdown",
            "source": "<div class='alert alert-warning'>\n\nSciPy's interactive examples with Jupyterlite are experimental and may not always work as expected. Execution of cells containing imports may result in large downloads (up to 60MB of content for the first import from SciPy). Load times when importing from SciPy may take roughly 10-20 seconds. If you notice any problems, feel free to open an [issue](https://github.com/scipy/scipy/issues/new/choose).\n\n</div>",
            "metadata": {}
        },
        {
            "id": "62a3c9ff",
            "cell_type": "code",
            "metadata": {},
            "execution_count": null,
            "source": "import numpy as np\nfrom scipy.stats import exponpow\nimport matplotlib.pyplot as plt\nfig, ax = plt.subplots(1, 1)",
            "outputs": []
        },
        {
            "id": "78e66782",
            "cell_type": "markdown",
            "source": "Calculate the first four moments:\n",
            "metadata": {}
        },
        {
            "id": "c85562b3",
            "cell_type": "code",
            "metadata": {},
            "execution_count": null,
            "source": "b = 2.7\nmean, var, skew, kurt = exponpow.stats(b, moments='mvsk')",
            "outputs": []
        },
        {
            "id": "9c31cfc3",
            "cell_type": "markdown",
            "source": "Display the probability density function (``pdf``):\n",
            "metadata": {}
        },
        {
            "id": "1b3e6507",
            "cell_type": "code",
            "metadata": {},
            "execution_count": null,
            "source": "x = np.linspace(exponpow.ppf(0.01, b),\n                exponpow.ppf(0.99, b), 100)\nax.plot(x, exponpow.pdf(x, b),\n       'r-', lw=5, alpha=0.6, label='exponpow pdf')",
            "outputs": []
        },
        {
            "id": "e37b1a4f",
            "cell_type": "markdown",
            "source": "Alternatively, the distribution object can be called (as a function)\nto fix the shape, location and scale parameters. This returns a \"frozen\"\nRV object holding the given parameters fixed.\n\nFreeze the distribution and display the frozen ``pdf``:\n",
            "metadata": {}
        },
        {
            "id": "f3a359c9",
            "cell_type": "code",
            "metadata": {},
            "execution_count": null,
            "source": "rv = exponpow(b)\nax.plot(x, rv.pdf(x), 'k-', lw=2, label='frozen pdf')",
            "outputs": []
        },
        {
            "id": "e9772efb",
            "cell_type": "markdown",
            "source": "Check accuracy of ``cdf`` and ``ppf``:\n",
            "metadata": {}
        },
        {
            "id": "ff27f3cf",
            "cell_type": "code",
            "metadata": {},
            "execution_count": null,
            "source": "vals = exponpow.ppf([0.001, 0.5, 0.999], b)\nnp.allclose([0.001, 0.5, 0.999], exponpow.cdf(vals, b))",
            "outputs": [
                {
                    "output_type": "execute_result",
                    "metadata": {},
                    "data": {
                        "text/plain": "True"
                    },
                    "execution_count": null
                }
            ]
        },
        {
            "id": "47d952c0",
            "cell_type": "markdown",
            "source": "Generate random numbers:\n",
            "metadata": {}
        },
        {
            "id": "907fca2f",
            "cell_type": "code",
            "metadata": {},
            "execution_count": null,
            "source": "r = exponpow.rvs(b, size=1000)",
            "outputs": []
        },
        {
            "id": "5902c844",
            "cell_type": "markdown",
            "source": "And compare the histogram:\n",
            "metadata": {}
        },
        {
            "id": "e12cb799",
            "cell_type": "code",
            "metadata": {},
            "execution_count": null,
            "source": "ax.hist(r, density=True, bins='auto', histtype='stepfilled', alpha=0.2)\nax.set_xlim([x[0], x[-1]])\nax.legend(loc='best', frameon=False)\nplt.show()",
            "outputs": []
        }
    ]
}