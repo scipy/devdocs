{
    "nbformat": 4,
    "nbformat_minor": 5,
    "metadata": {
        "kernelspec": {
            "display_name": "Python",
            "language": "python",
            "name": "python"
        },
        "language_info": {
            "name": "python"
        }
    },
    "cells": [
        {
            "id": "3709d0ca",
            "cell_type": "markdown",
            "source": "<div class='alert alert-warning'>\n\nSciPy's interactive examples with Jupyterlite are experimental and may not always work as expected. Execution of cells containing imports may result in large downloads (up to 60MB of content for the first import from SciPy). Load times when importing from SciPy may take roughly 10-20 seconds. If you notice any problems, feel free to open an [issue](https://github.com/scipy/scipy/issues/new/choose).\n\n</div>",
            "metadata": {}
        },
        {
            "id": "fc4f4b0b",
            "cell_type": "markdown",
            "source": "Calculate the function for ``df=3`` at ``t=1``.\n",
            "metadata": {}
        },
        {
            "id": "e4b96a77",
            "cell_type": "code",
            "metadata": {},
            "execution_count": null,
            "source": "import numpy as np\nfrom scipy.special import stdtr\nimport matplotlib.pyplot as plt\nstdtr(3, 1)",
            "outputs": [
                {
                    "output_type": "execute_result",
                    "metadata": {},
                    "data": {
                        "text/plain": "0.8044988905221148"
                    },
                    "execution_count": null
                }
            ]
        },
        {
            "id": "46212810",
            "cell_type": "markdown",
            "source": "Plot the function for three different degrees of freedom.\n",
            "metadata": {}
        },
        {
            "id": "a97a8a39",
            "cell_type": "code",
            "metadata": {},
            "execution_count": null,
            "source": "x = np.linspace(-10, 10, 1000)\nfig, ax = plt.subplots()\nparameters = [(1, \"solid\"), (3, \"dashed\"), (10, \"dotted\")]\nfor (df, linestyle) in parameters:\n    ax.plot(x, stdtr(df, x), ls=linestyle, label=f\"$df={df}$\")\nax.legend()\nax.set_title(\"Student t distribution cumulative distribution function\")\nplt.show()",
            "outputs": []
        },
        {
            "id": "9fe87746",
            "cell_type": "markdown",
            "source": "The function can be computed for several degrees of freedom at the same\ntime by providing a NumPy array or list for `df`:\n",
            "metadata": {}
        },
        {
            "id": "c88cbb15",
            "cell_type": "code",
            "metadata": {},
            "execution_count": null,
            "source": "stdtr([1, 2, 3], 1)",
            "outputs": [
                {
                    "output_type": "execute_result",
                    "metadata": {},
                    "data": {
                        "text/plain": "array([0.75      , 0.78867513, 0.80449889])"
                    },
                    "execution_count": null
                }
            ]
        },
        {
            "id": "9107a985",
            "cell_type": "markdown",
            "source": "It is possible to calculate the function at several points for several\ndifferent degrees of freedom simultaneously by providing arrays for `df`\nand `t` with shapes compatible for broadcasting. Compute `stdtr` at\n4 points for 3 degrees of freedom resulting in an array of shape 3x4.\n",
            "metadata": {}
        },
        {
            "id": "f8222218",
            "cell_type": "code",
            "metadata": {},
            "execution_count": null,
            "source": "dfs = np.array([[1], [2], [3]])\nt = np.array([2, 4, 6, 8])\ndfs.shape, t.shape",
            "outputs": [
                {
                    "output_type": "execute_result",
                    "metadata": {},
                    "data": {
                        "text/plain": "((3, 1), (4,))"
                    },
                    "execution_count": null
                }
            ]
        },
        {
            "id": "d949be1b",
            "cell_type": "code",
            "metadata": {},
            "execution_count": null,
            "source": "stdtr(dfs, t)",
            "outputs": [
                {
                    "output_type": "execute_result",
                    "metadata": {},
                    "data": {
                        "text/plain": "array([[0.85241638, 0.92202087, 0.94743154, 0.96041658],\n       [0.90824829, 0.97140452, 0.98666426, 0.99236596],\n       [0.93033702, 0.98599577, 0.99536364, 0.99796171]])"
                    },
                    "execution_count": null
                }
            ]
        },
        {
            "id": "174294b4",
            "cell_type": "markdown",
            "source": "The t distribution is also available as `scipy.stats.t`. Calling `stdtr`\ndirectly can be much faster than calling the ``cdf`` method of\n`scipy.stats.t`. To get the same results, one must use the following\nparametrization: ``scipy.stats.t(df).cdf(x) = stdtr(df, x)``.\n",
            "metadata": {}
        },
        {
            "id": "9baa6716",
            "cell_type": "code",
            "metadata": {},
            "execution_count": null,
            "source": "from scipy.stats import t\ndf, x = 3, 1\nstdtr_result = stdtr(df, x)  # this can be faster than below\nstats_result = t(df).cdf(x)\nstats_result == stdtr_result  # test that results are equal",
            "outputs": [
                {
                    "output_type": "execute_result",
                    "metadata": {},
                    "data": {
                        "text/plain": "True"
                    },
                    "execution_count": null
                }
            ]
        }
    ]
}