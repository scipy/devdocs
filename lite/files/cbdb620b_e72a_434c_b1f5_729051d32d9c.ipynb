{
    "nbformat": 4,
    "nbformat_minor": 5,
    "metadata": {
        "kernelspec": {
            "display_name": "Python",
            "language": "python",
            "name": "python"
        },
        "language_info": {
            "name": "python"
        }
    },
    "cells": [
        {
            "id": "0c20a063",
            "cell_type": "markdown",
            "source": "<div class='alert alert-warning'>\n\nSciPy's interactive examples with Jupyterlite are experimental and may not always work as expected. Execution of cells containing imports may result in large downloads (up to 60MB of content for the first import from SciPy). Load times when importing from SciPy may take roughly 10-20 seconds. If you notice any problems, feel free to open an [issue](https://github.com/scipy/scipy/issues/new/choose).\n\n</div>",
            "metadata": {}
        },
        {
            "id": "57675c79",
            "cell_type": "markdown",
            "source": "Store sparse matrix to disk, and load it again:\n",
            "metadata": {}
        },
        {
            "id": "7d82bb92",
            "cell_type": "code",
            "metadata": {},
            "execution_count": null,
            "source": "import numpy as np\nimport scipy as sp\nsparse_matrix = sp.sparse.csc_matrix([[0, 0, 3], [4, 0, 0]])\nsparse_matrix",
            "outputs": [
                {
                    "output_type": "execute_result",
                    "metadata": {},
                    "data": {
                        "text/plain": "<Compressed Sparse Column sparse matrix of dtype 'int64'\n    with 2 stored elements and shape (2, 3)>"
                    },
                    "execution_count": null
                }
            ]
        },
        {
            "id": "3a7f0682",
            "cell_type": "code",
            "metadata": {},
            "execution_count": null,
            "source": "sparse_matrix.toarray()",
            "outputs": [
                {
                    "output_type": "execute_result",
                    "metadata": {},
                    "data": {
                        "text/plain": "array([[0, 0, 3],\n       [4, 0, 0]], dtype=int64)"
                    },
                    "execution_count": null
                }
            ]
        },
        {
            "id": "29f8ab5d",
            "cell_type": "code",
            "metadata": {},
            "execution_count": null,
            "source": "sp.sparse.save_npz('/tmp/sparse_matrix.npz', sparse_matrix)\nsparse_matrix = sp.sparse.load_npz('/tmp/sparse_matrix.npz')",
            "outputs": []
        },
        {
            "id": "dba15bfb",
            "cell_type": "code",
            "metadata": {},
            "execution_count": null,
            "source": "sparse_matrix",
            "outputs": [
                {
                    "output_type": "execute_result",
                    "metadata": {},
                    "data": {
                        "text/plain": "<Compressed Sparse Column sparse matrix of dtype 'int64'\n    with 2 stored elements and shape (2, 3)>"
                    },
                    "execution_count": null
                }
            ]
        },
        {
            "id": "84b46410",
            "cell_type": "code",
            "metadata": {},
            "execution_count": null,
            "source": "sparse_matrix.toarray()",
            "outputs": [
                {
                    "output_type": "execute_result",
                    "metadata": {},
                    "data": {
                        "text/plain": "array([[0, 0, 3],\n       [4, 0, 0]], dtype=int64)"
                    },
                    "execution_count": null
                }
            ]
        }
    ]
}