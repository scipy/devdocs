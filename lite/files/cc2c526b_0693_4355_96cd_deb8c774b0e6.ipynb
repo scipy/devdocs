{
    "nbformat": 4,
    "nbformat_minor": 5,
    "metadata": {
        "kernelspec": {
            "display_name": "Python",
            "language": "python",
            "name": "python"
        },
        "language_info": {
            "name": "python"
        }
    },
    "cells": [
        {
            "id": "628b9976",
            "cell_type": "markdown",
            "source": "<div class='alert alert-warning'>\n\nSciPy's interactive examples with Jupyterlite are experimental and may not always work as expected. Execution of cells containing imports may result in large downloads (up to 60MB of content for the first import from SciPy). Load times when importing from SciPy may take roughly 10-20 seconds. If you notice any problems, feel free to open an [issue](https://github.com/scipy/scipy/issues/new/choose).\n\n</div>",
            "metadata": {}
        },
        {
            "id": "8b01dc69",
            "cell_type": "markdown",
            "source": "Given `a`, `b`, `q`, and `r` solve for `x`:\n",
            "metadata": {}
        },
        {
            "id": "e3dc4636",
            "cell_type": "code",
            "metadata": {},
            "execution_count": null,
            "source": "import numpy as np\nfrom scipy import linalg\na = np.array([[4, 3], [-4.5, -3.5]])\nb = np.array([[1], [-1]])\nq = np.array([[9, 6], [6, 4.]])\nr = 1\nx = linalg.solve_continuous_are(a, b, q, r)\nx",
            "outputs": [
                {
                    "output_type": "execute_result",
                    "metadata": {},
                    "data": {
                        "text/plain": "array([[ 21.72792206,  14.48528137],\n       [ 14.48528137,   9.65685425]])"
                    },
                    "execution_count": null
                }
            ]
        },
        {
            "id": "badb942b",
            "cell_type": "code",
            "metadata": {},
            "execution_count": null,
            "source": "np.allclose(a.T.dot(x) + x.dot(a)-x.dot(b).dot(b.T).dot(x), -q)",
            "outputs": [
                {
                    "output_type": "execute_result",
                    "metadata": {},
                    "data": {
                        "text/plain": "True"
                    },
                    "execution_count": null
                }
            ]
        }
    ]
}