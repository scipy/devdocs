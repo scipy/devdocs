{
    "nbformat": 4,
    "nbformat_minor": 5,
    "metadata": {
        "kernelspec": {
            "display_name": "Python",
            "language": "python",
            "name": "python"
        },
        "language_info": {
            "name": "python"
        }
    },
    "cells": [
        {
            "id": "3a69dbe6",
            "cell_type": "markdown",
            "source": "<div class='alert alert-warning'>\n\nSciPy's interactive examples with Jupyterlite are experimental and may not always work as expected. Execution of cells containing imports may result in large downloads (up to 60MB of content for the first import from SciPy). Load times when importing from SciPy may take roughly 10-20 seconds. If you notice any problems, feel free to open an [issue](https://github.com/scipy/scipy/issues/new/choose).\n\n</div>",
            "metadata": {}
        },
        {
            "id": "37a7d482",
            "cell_type": "markdown",
            "source": "When only the mandatory `f_obs` argument is given, it is assumed that the\nexpected frequencies are uniform and given by the mean of the observed\nfrequencies:\n",
            "metadata": {}
        },
        {
            "id": "dce2b3cf",
            "cell_type": "code",
            "metadata": {},
            "execution_count": null,
            "source": "import numpy as np\nfrom scipy.stats import chisquare\nchisquare([16, 18, 16, 14, 12, 12])",
            "outputs": [
                {
                    "output_type": "execute_result",
                    "metadata": {},
                    "data": {
                        "text/plain": "Power_divergenceResult(statistic=2.0, pvalue=0.84914503608460956)"
                    },
                    "execution_count": null
                }
            ]
        },
        {
            "id": "6990211f",
            "cell_type": "markdown",
            "source": "The optional `f_exp` argument gives the expected frequencies.\n",
            "metadata": {}
        },
        {
            "id": "24c90547",
            "cell_type": "code",
            "metadata": {},
            "execution_count": null,
            "source": "chisquare([16, 18, 16, 14, 12, 12], f_exp=[16, 16, 16, 16, 16, 8])",
            "outputs": [
                {
                    "output_type": "execute_result",
                    "metadata": {},
                    "data": {
                        "text/plain": "Power_divergenceResult(statistic=3.5, pvalue=0.62338762774958223)"
                    },
                    "execution_count": null
                }
            ]
        },
        {
            "id": "c31fbcb9",
            "cell_type": "markdown",
            "source": "When `f_obs` is 2-D, by default the test is applied to each column.\n",
            "metadata": {}
        },
        {
            "id": "b133a46c",
            "cell_type": "code",
            "metadata": {},
            "execution_count": null,
            "source": "obs = np.array([[16, 18, 16, 14, 12, 12], [32, 24, 16, 28, 20, 24]]).T\nobs.shape",
            "outputs": [
                {
                    "output_type": "execute_result",
                    "metadata": {},
                    "data": {
                        "text/plain": "(6, 2)"
                    },
                    "execution_count": null
                }
            ]
        },
        {
            "id": "1a711753",
            "cell_type": "code",
            "metadata": {},
            "execution_count": null,
            "source": "chisquare(obs)",
            "outputs": [
                {
                    "output_type": "execute_result",
                    "metadata": {},
                    "data": {
                        "text/plain": "Power_divergenceResult(statistic=array([2.        , 6.66666667]), pvalue=array([0.84914504, 0.24663415]))"
                    },
                    "execution_count": null
                }
            ]
        },
        {
            "id": "ac5ef088",
            "cell_type": "markdown",
            "source": "By setting ``axis=None``, the test is applied to all data in the array,\nwhich is equivalent to applying the test to the flattened array.\n",
            "metadata": {}
        },
        {
            "id": "fe6c70b4",
            "cell_type": "code",
            "metadata": {},
            "execution_count": null,
            "source": "chisquare(obs, axis=None)",
            "outputs": [
                {
                    "output_type": "execute_result",
                    "metadata": {},
                    "data": {
                        "text/plain": "Power_divergenceResult(statistic=23.31034482758621, pvalue=0.015975692534127565)"
                    },
                    "execution_count": null
                }
            ]
        },
        {
            "id": "9a57d112",
            "cell_type": "code",
            "metadata": {},
            "execution_count": null,
            "source": "chisquare(obs.ravel())",
            "outputs": [
                {
                    "output_type": "execute_result",
                    "metadata": {},
                    "data": {
                        "text/plain": "Power_divergenceResult(statistic=23.310344827586206, pvalue=0.01597569253412758)"
                    },
                    "execution_count": null
                }
            ]
        },
        {
            "id": "b628e3fb",
            "cell_type": "markdown",
            "source": "`ddof` is the change to make to the default degrees of freedom.\n",
            "metadata": {}
        },
        {
            "id": "7d22947c",
            "cell_type": "code",
            "metadata": {},
            "execution_count": null,
            "source": "chisquare([16, 18, 16, 14, 12, 12], ddof=1)",
            "outputs": [
                {
                    "output_type": "execute_result",
                    "metadata": {},
                    "data": {
                        "text/plain": "Power_divergenceResult(statistic=2.0, pvalue=0.7357588823428847)"
                    },
                    "execution_count": null
                }
            ]
        },
        {
            "id": "36b989b0",
            "cell_type": "markdown",
            "source": "The calculation of the p-values is done by broadcasting the\nchi-squared statistic with `ddof`.\n",
            "metadata": {}
        },
        {
            "id": "0d323e16",
            "cell_type": "code",
            "metadata": {},
            "execution_count": null,
            "source": "chisquare([16, 18, 16, 14, 12, 12], ddof=[0, 1, 2])",
            "outputs": [
                {
                    "output_type": "execute_result",
                    "metadata": {},
                    "data": {
                        "text/plain": "Power_divergenceResult(statistic=2.0, pvalue=array([0.84914504, 0.73575888, 0.5724067 ]))"
                    },
                    "execution_count": null
                }
            ]
        },
        {
            "id": "cc1e15d4",
            "cell_type": "markdown",
            "source": "`f_obs` and `f_exp` are also broadcast.  In the following, `f_obs` has\nshape (6,) and `f_exp` has shape (2, 6), so the result of broadcasting\n`f_obs` and `f_exp` has shape (2, 6).  To compute the desired chi-squared\nstatistics, we use ``axis=1``:\n",
            "metadata": {}
        },
        {
            "id": "e7229445",
            "cell_type": "code",
            "metadata": {},
            "execution_count": null,
            "source": "chisquare([16, 18, 16, 14, 12, 12],\n          f_exp=[[16, 16, 16, 16, 16, 8], [8, 20, 20, 16, 12, 12]],\n          axis=1)",
            "outputs": [
                {
                    "output_type": "execute_result",
                    "metadata": {},
                    "data": {
                        "text/plain": "Power_divergenceResult(statistic=array([3.5 , 9.25]), pvalue=array([0.62338763, 0.09949846]))"
                    },
                    "execution_count": null
                }
            ]
        },
        {
            "id": "92d14c23",
            "cell_type": "markdown",
            "source": "For a more detailed example, see :ref:`hypothesis_chisquare`.",
            "metadata": {}
        }
    ]
}