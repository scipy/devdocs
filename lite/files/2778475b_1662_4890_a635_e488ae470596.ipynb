{
    "nbformat": 4,
    "nbformat_minor": 5,
    "metadata": {
        "kernelspec": {
            "display_name": "Python",
            "language": "python",
            "name": "python"
        },
        "language_info": {
            "name": "python"
        }
    },
    "cells": [
        {
            "id": "d50fdd8f",
            "cell_type": "markdown",
            "source": "<div class='alert alert-warning'>\n\nSciPy's interactive examples with Jupyterlite are experimental and may not always work as expected. Execution of cells containing imports may result in large downloads (up to 60MB of content for the first import from SciPy). Load times when importing from SciPy may take roughly 10-20 seconds. If you notice any problems, feel free to open an [issue](https://github.com/scipy/scipy/issues/new/choose).\n\n</div>",
            "metadata": {}
        },
        {
            "id": "ab94838f",
            "cell_type": "code",
            "metadata": {},
            "execution_count": null,
            "source": "import numpy as np\nfrom scipy.spatial.distance import pdist",
            "outputs": []
        },
        {
            "id": "e222a970",
            "cell_type": "markdown",
            "source": "``x`` is an array of five points in three-dimensional space.\n",
            "metadata": {}
        },
        {
            "id": "0524554e",
            "cell_type": "code",
            "metadata": {},
            "execution_count": null,
            "source": "x = np.array([[2, 0, 2], [2, 2, 3], [-2, 4, 5], [0, 1, 9], [2, 2, 4]])",
            "outputs": []
        },
        {
            "id": "51de25b8",
            "cell_type": "markdown",
            "source": "``pdist(x)`` with no additional arguments computes the 10 pairwise\nEuclidean distances:\n",
            "metadata": {}
        },
        {
            "id": "a39d3fc7",
            "cell_type": "code",
            "metadata": {},
            "execution_count": null,
            "source": "pdist(x)",
            "outputs": [
                {
                    "output_type": "execute_result",
                    "metadata": {},
                    "data": {
                        "text/plain": "array([2.23606798, 6.40312424, 7.34846923, 2.82842712, 4.89897949,\n       6.40312424, 1.        , 5.38516481, 4.58257569, 5.47722558])"
                    },
                    "execution_count": null
                }
            ]
        },
        {
            "id": "cefc84ea",
            "cell_type": "markdown",
            "source": "The following computes the pairwise Minkowski distances with ``p = 3.5``:\n",
            "metadata": {}
        },
        {
            "id": "b894cf1d",
            "cell_type": "code",
            "metadata": {},
            "execution_count": null,
            "source": "pdist(x, metric='minkowski', p=3.5)",
            "outputs": [
                {
                    "output_type": "execute_result",
                    "metadata": {},
                    "data": {
                        "text/plain": "array([2.04898923, 5.1154929 , 7.02700737, 2.43802731, 4.19042714,\n       6.03956994, 1.        , 4.45128103, 4.10636143, 5.0619695 ])"
                    },
                    "execution_count": null
                }
            ]
        },
        {
            "id": "a311c67c",
            "cell_type": "markdown",
            "source": "The pairwise city block or Manhattan distances:\n",
            "metadata": {}
        },
        {
            "id": "9f8a0991",
            "cell_type": "code",
            "metadata": {},
            "execution_count": null,
            "source": "pdist(x, metric='cityblock')",
            "outputs": [
                {
                    "output_type": "execute_result",
                    "metadata": {},
                    "data": {
                        "text/plain": "array([ 3., 11., 10.,  4.,  8.,  9.,  1.,  9.,  7.,  8.])"
                    },
                    "execution_count": null
                }
            ]
        }
    ]
}