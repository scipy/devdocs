{
    "nbformat": 4,
    "nbformat_minor": 5,
    "metadata": {
        "kernelspec": {
            "display_name": "Python",
            "language": "python",
            "name": "python"
        },
        "language_info": {
            "name": "python"
        }
    },
    "cells": [
        {
            "id": "5dcc8ae2",
            "cell_type": "markdown",
            "source": "<div class='alert alert-warning'>\n\nSciPy's interactive examples with Jupyterlite are experimental and may not always work as expected. Execution of cells containing imports may result in large downloads (up to 60MB of content for the first import from SciPy). Load times when importing from SciPy may take roughly 10-20 seconds. If you notice any problems, feel free to open an [issue](https://github.com/scipy/scipy/issues/new/choose).\n\n</div>",
            "metadata": {}
        },
        {
            "id": "0edd993c",
            "cell_type": "markdown",
            "source": "The following functions define a system of nonlinear equations\n",
            "metadata": {}
        },
        {
            "id": "31003386",
            "cell_type": "code",
            "metadata": {},
            "execution_count": null,
            "source": "def fun(x):\n    return [x[0]  + 0.5 * (x[0] - x[1])**3 - 1.0,\n            0.5 * (x[1] - x[0])**3 + x[1]]",
            "outputs": []
        },
        {
            "id": "a30b4738",
            "cell_type": "markdown",
            "source": "A solution can be obtained as follows.\n",
            "metadata": {}
        },
        {
            "id": "14d4e585",
            "cell_type": "code",
            "metadata": {},
            "execution_count": null,
            "source": "from scipy import optimize\nsol = optimize.anderson(fun, [0, 0])\nsol",
            "outputs": [
                {
                    "output_type": "execute_result",
                    "metadata": {},
                    "data": {
                        "text/plain": "array([0.84116588, 0.15883789])"
                    },
                    "execution_count": null
                }
            ]
        }
    ]
}