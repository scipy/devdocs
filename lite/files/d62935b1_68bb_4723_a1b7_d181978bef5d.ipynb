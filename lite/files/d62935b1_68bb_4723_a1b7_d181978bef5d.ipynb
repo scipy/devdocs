{
    "nbformat": 4,
    "nbformat_minor": 5,
    "metadata": {
        "kernelspec": {
            "display_name": "Python",
            "language": "python",
            "name": "python"
        },
        "language_info": {
            "name": "python"
        }
    },
    "cells": [
        {
            "id": "c232a99d",
            "cell_type": "markdown",
            "source": "<div class='alert alert-warning'>\n\nSciPy's interactive examples with Jupyterlite are experimental and may not always work as expected. Execution of cells containing imports may result in large downloads (up to 60MB of content for the first import from SciPy). Load times when importing from SciPy may take roughly 10-20 seconds. If you notice any problems, feel free to open an [issue](https://github.com/scipy/scipy/issues/new/choose).\n\n</div>",
            "metadata": {}
        },
        {
            "id": "2a51f3b7",
            "cell_type": "markdown",
            "source": "We calculate Somers' D for the example given in [4], in which a hotel\nchain owner seeks to determine the association between hotel room\ncleanliness and customer satisfaction. The independent variable, hotel\nroom cleanliness, is ranked on an ordinal scale: \"below average (1)\",\n\"average (2)\", or \"above average (3)\". The dependent variable, customer\nsatisfaction, is ranked on a second scale: \"very dissatisfied (1)\",\n\"moderately dissatisfied (2)\", \"neither dissatisfied nor satisfied (3)\",\n\"moderately satisfied (4)\", or \"very satisfied (5)\". 189 customers\nrespond to the survey, and the results are cast into a contingency table\nwith the hotel room cleanliness as the \"row\" variable and customer\nsatisfaction as the \"column\" variable.\n\n+-----+-----+-----+-----+-----+-----+\n|     | (1) | (2) | (3) | (4) | (5) |\n+=====+=====+=====+=====+=====+=====+\n| (1) | 27  | 25  | 14  | 7   | 0   |\n+-----+-----+-----+-----+-----+-----+\n| (2) | 7   | 14  | 18  | 35  | 12  |\n+-----+-----+-----+-----+-----+-----+\n| (3) | 1   | 3   | 2   | 7   | 17  |\n+-----+-----+-----+-----+-----+-----+\n\nFor example, 27 customers assigned their room a cleanliness ranking of\n\"below average (1)\" and a corresponding satisfaction of \"very\ndissatisfied (1)\". We perform the analysis as follows.\n",
            "metadata": {}
        },
        {
            "id": "5155a93f",
            "cell_type": "code",
            "metadata": {},
            "execution_count": null,
            "source": "from scipy.stats import somersd\ntable = [[27, 25, 14, 7, 0], [7, 14, 18, 35, 12], [1, 3, 2, 7, 17]]\nres = somersd(table)\nres.statistic",
            "outputs": [
                {
                    "output_type": "execute_result",
                    "metadata": {},
                    "data": {
                        "text/plain": "0.6032766111513396"
                    },
                    "execution_count": null
                }
            ]
        },
        {
            "id": "0b1096f4",
            "cell_type": "code",
            "metadata": {},
            "execution_count": null,
            "source": "res.pvalue",
            "outputs": [
                {
                    "output_type": "execute_result",
                    "metadata": {},
                    "data": {
                        "text/plain": "1.0007091191074533e-27"
                    },
                    "execution_count": null
                }
            ]
        },
        {
            "id": "0f94a640",
            "cell_type": "markdown",
            "source": "The value of the Somers' D statistic is approximately 0.6, indicating\na positive correlation between room cleanliness and customer satisfaction\nin the sample.\nThe *p*-value is very small, indicating a very small probability of\nobserving such an extreme value of the statistic under the null\nhypothesis that the statistic of the entire population (from which\nour sample of 189 customers is drawn) is zero. This supports the\nalternative hypothesis that the true value of Somers' D for the population\nis nonzero.",
            "metadata": {}
        }
    ]
}