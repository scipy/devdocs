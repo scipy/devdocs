{
    "nbformat": 4,
    "nbformat_minor": 5,
    "metadata": {
        "kernelspec": {
            "display_name": "Python",
            "language": "python",
            "name": "python"
        },
        "language_info": {
            "name": "python"
        }
    },
    "cells": [
        {
            "id": "bbfd0969",
            "cell_type": "markdown",
            "source": "<div class='alert alert-warning'>\n\nSciPy's interactive examples with Jupyterlite are experimental and may not always work as expected. Execution of cells containing imports may result in large downloads (up to 60MB of content for the first import from SciPy). Load times when importing from SciPy may take roughly 10-20 seconds. If you notice any problems, feel free to open an [issue](https://github.com/scipy/scipy/issues/new/choose).\n\n</div>",
            "metadata": {}
        },
        {
            "id": "91ae0f7f",
            "cell_type": "code",
            "metadata": {},
            "execution_count": null,
            "source": "from scipy import integrate\nimport numpy as np\nx = np.arange(10, 14.25, 0.25)\ny = np.arange(3, 12)",
            "outputs": []
        },
        {
            "id": "1e051770",
            "cell_type": "code",
            "metadata": {},
            "execution_count": null,
            "source": "integrate.romb(y)",
            "outputs": [
                {
                    "output_type": "execute_result",
                    "metadata": {},
                    "data": {
                        "text/plain": "56.0"
                    },
                    "execution_count": null
                }
            ]
        },
        {
            "id": "deda0df4",
            "cell_type": "code",
            "metadata": {},
            "execution_count": null,
            "source": "y = np.sin(np.power(x, 2.5))\nintegrate.romb(y)",
            "outputs": [
                {
                    "output_type": "execute_result",
                    "metadata": {},
                    "data": {
                        "text/plain": "-0.742561336672229"
                    },
                    "execution_count": null
                }
            ]
        },
        {
            "id": "a51cd6a9",
            "cell_type": "code",
            "metadata": {},
            "execution_count": null,
            "source": "integrate.romb(y, show=True)",
            "outputs": [
                {
                    "output_type": "execute_result",
                    "metadata": {},
                    "data": {
                        "text/plain": "Richardson Extrapolation Table for Romberg Integration\n======================================================\n-0.81576\n 4.63862  6.45674\n-1.10581 -3.02062 -3.65245\n-2.57379 -3.06311 -3.06595 -3.05664\n-1.34093 -0.92997 -0.78776 -0.75160 -0.74256\n======================================================\n-0.742561336672229  # may vary"
                    },
                    "execution_count": null
                }
            ]
        }
    ]
}