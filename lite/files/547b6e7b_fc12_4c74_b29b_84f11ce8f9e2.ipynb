{
    "nbformat": 4,
    "nbformat_minor": 5,
    "metadata": {
        "kernelspec": {
            "display_name": "Python",
            "language": "python",
            "name": "python"
        },
        "language_info": {
            "name": "python"
        }
    },
    "cells": [
        {
            "id": "a1a1a02f",
            "cell_type": "markdown",
            "source": "<div class='alert alert-warning'>\n\nSciPy's interactive examples with Jupyterlite are experimental and may not always work as expected. Execution of cells containing imports may result in large downloads (up to 60MB of content for the first import from SciPy). Load times when importing from SciPy may take roughly 10-20 seconds. If you notice any problems, feel free to open an [issue](https://github.com/scipy/scipy/issues/new/choose).\n\n</div>",
            "metadata": {}
        },
        {
            "id": "351b513f",
            "cell_type": "code",
            "metadata": {},
            "execution_count": null,
            "source": "from scipy.sparse.csgraph import csgraph_masked_from_dense",
            "outputs": []
        },
        {
            "id": "302c1df2",
            "cell_type": "code",
            "metadata": {},
            "execution_count": null,
            "source": "graph = [\n[0, 1, 2, 0],\n[0, 0, 0, 1],\n[0, 0, 0, 3],\n[0, 0, 0, 0]\n]",
            "outputs": []
        },
        {
            "id": "aeb35768",
            "cell_type": "code",
            "metadata": {},
            "execution_count": null,
            "source": "csgraph_masked_from_dense(graph)",
            "outputs": [
                {
                    "output_type": "execute_result",
                    "metadata": {},
                    "data": {
                        "text/plain": "masked_array(\n  data=[[--,  1,  2, --],\n        [--, --, --,  1],\n        [--, --, --,  3],\n        [--, --, --, --]],\n  mask=[[ True, False, False,  True],\n        [ True,  True,  True, False],\n        [ True,  True,  True, False],\n        [ True,  True,  True,  True]],\n  fill_value=0)"
                    },
                    "execution_count": null
                }
            ]
        }
    ]
}