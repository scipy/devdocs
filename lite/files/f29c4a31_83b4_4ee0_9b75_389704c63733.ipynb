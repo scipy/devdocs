{
    "nbformat": 4,
    "nbformat_minor": 5,
    "metadata": {
        "kernelspec": {
            "display_name": "Python",
            "language": "python",
            "name": "python"
        },
        "language_info": {
            "name": "python"
        }
    },
    "cells": [
        {
            "id": "2c85e1e5",
            "cell_type": "markdown",
            "source": "<div class='alert alert-warning'>\n\nSciPy's interactive examples with Jupyterlite are experimental and may not always work as expected. Execution of cells containing imports may result in large downloads (up to 60MB of content for the first import from SciPy). Load times when importing from SciPy may take roughly 10-20 seconds. If you notice any problems, feel free to open an [issue](https://github.com/scipy/scipy/issues/new/choose).\n\n</div>",
            "metadata": {}
        },
        {
            "id": "46d274bc",
            "cell_type": "markdown",
            "source": "1-D null space:\n",
            "metadata": {}
        },
        {
            "id": "16fce342",
            "cell_type": "code",
            "metadata": {},
            "execution_count": null,
            "source": "import numpy as np\nfrom scipy.linalg import null_space\nA = np.array([[1, 1], [1, 1]])\nns = null_space(A)\nns * np.copysign(1, ns[0,0])  # Remove the sign ambiguity of the vector",
            "outputs": [
                {
                    "output_type": "execute_result",
                    "metadata": {},
                    "data": {
                        "text/plain": "array([[ 0.70710678],\n       [-0.70710678]])"
                    },
                    "execution_count": null
                }
            ]
        },
        {
            "id": "d73772b4",
            "cell_type": "markdown",
            "source": "2-D null space:\n",
            "metadata": {}
        },
        {
            "id": "2fa78921",
            "cell_type": "code",
            "metadata": {},
            "execution_count": null,
            "source": "from numpy.random import default_rng\nrng = default_rng()\nB = rng.random((3, 5))\nZ = null_space(B)\nZ.shape",
            "outputs": [
                {
                    "output_type": "execute_result",
                    "metadata": {},
                    "data": {
                        "text/plain": "(5, 2)"
                    },
                    "execution_count": null
                }
            ]
        },
        {
            "id": "0947dc68",
            "cell_type": "code",
            "metadata": {},
            "execution_count": null,
            "source": "np.allclose(B.dot(Z), 0)",
            "outputs": [
                {
                    "output_type": "execute_result",
                    "metadata": {},
                    "data": {
                        "text/plain": "True"
                    },
                    "execution_count": null
                }
            ]
        },
        {
            "id": "5e18bb7a",
            "cell_type": "markdown",
            "source": "The basis vectors are orthonormal (up to rounding error):\n",
            "metadata": {}
        },
        {
            "id": "124ed17a",
            "cell_type": "code",
            "metadata": {},
            "execution_count": null,
            "source": "Z.T.dot(Z)",
            "outputs": [
                {
                    "output_type": "execute_result",
                    "metadata": {},
                    "data": {
                        "text/plain": "array([[  1.00000000e+00,   6.92087741e-17],\n       [  6.92087741e-17,   1.00000000e+00]])"
                    },
                    "execution_count": null
                }
            ]
        }
    ]
}