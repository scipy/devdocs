{
    "nbformat": 4,
    "nbformat_minor": 5,
    "metadata": {
        "kernelspec": {
            "display_name": "Python",
            "language": "python",
            "name": "python"
        },
        "language_info": {
            "name": "python"
        }
    },
    "cells": [
        {
            "id": "de2c6e8c",
            "cell_type": "markdown",
            "source": "<div class='alert alert-warning'>\n\nSciPy's interactive examples with Jupyterlite are experimental and may not always work as expected. Execution of cells containing imports may result in large downloads (up to 60MB of content for the first import from SciPy). Load times when importing from SciPy may take roughly 10-20 seconds. If you notice any problems, feel free to open an [issue](https://github.com/scipy/scipy/issues/new/choose).\n\n</div>",
            "metadata": {}
        },
        {
            "id": "1293fff5",
            "cell_type": "markdown",
            "source": "Instantiate a distribution with the desired parameters:\n",
            "metadata": {}
        },
        {
            "id": "776df317",
            "cell_type": "code",
            "metadata": {},
            "execution_count": null,
            "source": "import numpy as np\nfrom scipy import stats\nX = stats.Uniform(a=-0.5, b=0.5)",
            "outputs": []
        },
        {
            "id": "31b849f5",
            "cell_type": "markdown",
            "source": "Evaluate the inverse CCDF at the desired argument:\n",
            "metadata": {}
        },
        {
            "id": "500eed7d",
            "cell_type": "code",
            "metadata": {},
            "execution_count": null,
            "source": "X.iccdf(0.25)",
            "outputs": [
                {
                    "output_type": "execute_result",
                    "metadata": {},
                    "data": {
                        "text/plain": "0.25"
                    },
                    "execution_count": null
                }
            ]
        },
        {
            "id": "ce21b137",
            "cell_type": "code",
            "metadata": {},
            "execution_count": null,
            "source": "np.allclose(X.iccdf(0.25), X.icdf(1-0.25))",
            "outputs": [
                {
                    "output_type": "execute_result",
                    "metadata": {},
                    "data": {
                        "text/plain": "True"
                    },
                    "execution_count": null
                }
            ]
        },
        {
            "id": "21a49d4c",
            "cell_type": "markdown",
            "source": "This function returns NaN when the argument is outside the domain.\n",
            "metadata": {}
        },
        {
            "id": "d328ce53",
            "cell_type": "code",
            "metadata": {},
            "execution_count": null,
            "source": "X.iccdf([-0.1, 0, 1, 1.1])",
            "outputs": [
                {
                    "output_type": "execute_result",
                    "metadata": {},
                    "data": {
                        "text/plain": "array([ nan,  0.5, -0.5,  nan])"
                    },
                    "execution_count": null
                }
            ]
        }
    ]
}