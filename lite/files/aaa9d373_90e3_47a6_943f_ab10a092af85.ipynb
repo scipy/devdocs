{
    "nbformat": 4,
    "nbformat_minor": 5,
    "metadata": {
        "kernelspec": {
            "display_name": "Python",
            "language": "python",
            "name": "python"
        },
        "language_info": {
            "name": "python"
        }
    },
    "cells": [
        {
            "id": "edc75934",
            "cell_type": "markdown",
            "source": "<div class='alert alert-warning'>\n\nSciPy's interactive examples with Jupyterlite are experimental and may not always work as expected. Execution of cells containing imports may result in large downloads (up to 60MB of content for the first import from SciPy). Load times when importing from SciPy may take roughly 10-20 seconds. If you notice any problems, feel free to open an [issue](https://github.com/scipy/scipy/issues/new/choose).\n\n</div>",
            "metadata": {}
        },
        {
            "id": "8351c264",
            "cell_type": "markdown",
            "source": "In the following example `i1` returns infinity whereas `i1e` still returns\na finite number.\n",
            "metadata": {}
        },
        {
            "id": "2771c98e",
            "cell_type": "code",
            "metadata": {},
            "execution_count": null,
            "source": "from scipy.special import i1, i1e\ni1(1000.), i1e(1000.)",
            "outputs": [
                {
                    "output_type": "execute_result",
                    "metadata": {},
                    "data": {
                        "text/plain": "(inf, 0.01261093025692863)"
                    },
                    "execution_count": null
                }
            ]
        },
        {
            "id": "cde8d154",
            "cell_type": "markdown",
            "source": "Calculate the function at several points by providing a NumPy array or\nlist for `x`:\n",
            "metadata": {}
        },
        {
            "id": "4acf4942",
            "cell_type": "code",
            "metadata": {},
            "execution_count": null,
            "source": "import numpy as np\ni1e(np.array([-2., 0., 6.]))",
            "outputs": [
                {
                    "output_type": "execute_result",
                    "metadata": {},
                    "data": {
                        "text/plain": "array([-0.21526929,  0.        ,  0.15205146])"
                    },
                    "execution_count": null
                }
            ]
        },
        {
            "id": "44692f89",
            "cell_type": "markdown",
            "source": "Plot the function between -10 and 10.\n",
            "metadata": {}
        },
        {
            "id": "fd87529b",
            "cell_type": "code",
            "metadata": {},
            "execution_count": null,
            "source": "import matplotlib.pyplot as plt\nfig, ax = plt.subplots()\nx = np.linspace(-10., 10., 1000)\ny = i1e(x)\nax.plot(x, y)\nplt.show()",
            "outputs": []
        }
    ]
}