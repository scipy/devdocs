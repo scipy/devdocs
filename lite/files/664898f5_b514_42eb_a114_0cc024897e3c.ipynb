{
    "nbformat": 4,
    "nbformat_minor": 5,
    "metadata": {
        "kernelspec": {
            "display_name": "Python",
            "language": "python",
            "name": "python"
        },
        "language_info": {
            "name": "python"
        }
    },
    "cells": [
        {
            "id": "97650a1f",
            "cell_type": "markdown",
            "source": "<div class='alert alert-warning'>\n\nSciPy's interactive examples with Jupyterlite are experimental and may not always work as expected. Execution of cells containing imports may result in large downloads (up to 60MB of content for the first import from SciPy). Load times when importing from SciPy may take roughly 10-20 seconds. If you notice any problems, feel free to open an [issue](https://github.com/scipy/scipy/issues/new/choose).\n\n</div>",
            "metadata": {}
        },
        {
            "id": "dab1b5a7",
            "cell_type": "markdown",
            "source": "It can be expressed using the modified Bessel function of the\nsecond kind.\n",
            "metadata": {}
        },
        {
            "id": "b936fc93",
            "cell_type": "code",
            "metadata": {},
            "execution_count": null,
            "source": "import numpy as np\nimport scipy.special as sc\nx = np.array([1.0, 2.0, 3.0, 4.0])\nsc.kv(0, x * np.exp(np.pi * 1j / 4)).real",
            "outputs": [
                {
                    "output_type": "execute_result",
                    "metadata": {},
                    "data": {
                        "text/plain": "array([ 0.28670621, -0.04166451, -0.06702923, -0.03617885])"
                    },
                    "execution_count": null
                }
            ]
        },
        {
            "id": "b3e7bedc",
            "cell_type": "code",
            "metadata": {},
            "execution_count": null,
            "source": "sc.ker(x)",
            "outputs": [
                {
                    "output_type": "execute_result",
                    "metadata": {},
                    "data": {
                        "text/plain": "array([ 0.28670621, -0.04166451, -0.06702923, -0.03617885])"
                    },
                    "execution_count": null
                }
            ]
        }
    ]
}