{
    "nbformat": 4,
    "nbformat_minor": 5,
    "metadata": {
        "kernelspec": {
            "display_name": "Python",
            "language": "python",
            "name": "python"
        },
        "language_info": {
            "name": "python"
        }
    },
    "cells": [
        {
            "id": "e452120b",
            "cell_type": "markdown",
            "source": "<div class='alert alert-warning'>\n\nSciPy's interactive examples with Jupyterlite are experimental and may not always work as expected. Execution of cells containing imports may result in large downloads (up to 60MB of content for the first import from SciPy). Load times when importing from SciPy may take roughly 10-20 seconds. If you notice any problems, feel free to open an [issue](https://github.com/scipy/scipy/issues/new/choose).\n\n</div>",
            "metadata": {}
        },
        {
            "id": "327e5260",
            "cell_type": "code",
            "metadata": {},
            "execution_count": null,
            "source": "from scipy.linalg import hadamard\nhadamard(2, dtype=complex)",
            "outputs": [
                {
                    "output_type": "execute_result",
                    "metadata": {},
                    "data": {
                        "text/plain": "array([[ 1.+0.j,  1.+0.j],\n       [ 1.+0.j, -1.-0.j]])"
                    },
                    "execution_count": null
                }
            ]
        },
        {
            "id": "54834c2d",
            "cell_type": "code",
            "metadata": {},
            "execution_count": null,
            "source": "hadamard(4)",
            "outputs": [
                {
                    "output_type": "execute_result",
                    "metadata": {},
                    "data": {
                        "text/plain": "array([[ 1,  1,  1,  1],\n       [ 1, -1,  1, -1],\n       [ 1,  1, -1, -1],\n       [ 1, -1, -1,  1]])"
                    },
                    "execution_count": null
                }
            ]
        }
    ]
}