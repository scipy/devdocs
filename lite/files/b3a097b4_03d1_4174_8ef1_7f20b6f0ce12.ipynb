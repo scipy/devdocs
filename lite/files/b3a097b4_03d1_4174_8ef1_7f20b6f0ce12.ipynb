{
    "nbformat": 4,
    "nbformat_minor": 5,
    "metadata": {
        "kernelspec": {
            "display_name": "Python",
            "language": "python",
            "name": "python"
        },
        "language_info": {
            "name": "python"
        }
    },
    "cells": [
        {
            "id": "8f903081",
            "cell_type": "markdown",
            "source": "<div class='alert alert-warning'>\n\nSciPy's interactive examples with Jupyterlite are experimental and may not always work as expected. Execution of cells containing imports may result in large downloads (up to 60MB of content for the first import from SciPy). Load times when importing from SciPy may take roughly 10-20 seconds. If you notice any problems, feel free to open an [issue](https://github.com/scipy/scipy/issues/new/choose).\n\n</div>",
            "metadata": {}
        },
        {
            "id": "2a9b4c7c",
            "cell_type": "code",
            "metadata": {},
            "execution_count": null,
            "source": "import numpy as np\nfrom scipy.stats import truncweibull_min\nimport matplotlib.pyplot as plt\nfig, ax = plt.subplots(1, 1)",
            "outputs": []
        },
        {
            "id": "6060e3a0",
            "cell_type": "markdown",
            "source": "Calculate the first four moments:\n",
            "metadata": {}
        },
        {
            "id": "5dd6ce51",
            "cell_type": "code",
            "metadata": {},
            "execution_count": null,
            "source": "c, a, b = 2.5, 0.25, 1.75\nmean, var, skew, kurt = truncweibull_min.stats(c, a, b, moments='mvsk')",
            "outputs": []
        },
        {
            "id": "7e54e7a6",
            "cell_type": "markdown",
            "source": "Display the probability density function (``pdf``):\n",
            "metadata": {}
        },
        {
            "id": "01820452",
            "cell_type": "code",
            "metadata": {},
            "execution_count": null,
            "source": "x = np.linspace(truncweibull_min.ppf(0.01, c, a, b),\n                truncweibull_min.ppf(0.99, c, a, b), 100)\nax.plot(x, truncweibull_min.pdf(x, c, a, b),\n       'r-', lw=5, alpha=0.6, label='truncweibull_min pdf')",
            "outputs": []
        },
        {
            "id": "4129fd46",
            "cell_type": "markdown",
            "source": "Alternatively, the distribution object can be called (as a function)\nto fix the shape, location and scale parameters. This returns a \"frozen\"\nRV object holding the given parameters fixed.\n\nFreeze the distribution and display the frozen ``pdf``:\n",
            "metadata": {}
        },
        {
            "id": "ae5ff5eb",
            "cell_type": "code",
            "metadata": {},
            "execution_count": null,
            "source": "rv = truncweibull_min(c, a, b)\nax.plot(x, rv.pdf(x), 'k-', lw=2, label='frozen pdf')",
            "outputs": []
        },
        {
            "id": "51ba5432",
            "cell_type": "markdown",
            "source": "Check accuracy of ``cdf`` and ``ppf``:\n",
            "metadata": {}
        },
        {
            "id": "6ada01b1",
            "cell_type": "code",
            "metadata": {},
            "execution_count": null,
            "source": "vals = truncweibull_min.ppf([0.001, 0.5, 0.999], c, a, b)\nnp.allclose([0.001, 0.5, 0.999], truncweibull_min.cdf(vals, c, a, b))",
            "outputs": [
                {
                    "output_type": "execute_result",
                    "metadata": {},
                    "data": {
                        "text/plain": "True"
                    },
                    "execution_count": null
                }
            ]
        },
        {
            "id": "72c9afc4",
            "cell_type": "markdown",
            "source": "Generate random numbers:\n",
            "metadata": {}
        },
        {
            "id": "e0f4f88a",
            "cell_type": "code",
            "metadata": {},
            "execution_count": null,
            "source": "r = truncweibull_min.rvs(c, a, b, size=1000)",
            "outputs": []
        },
        {
            "id": "8433bf77",
            "cell_type": "markdown",
            "source": "And compare the histogram:\n",
            "metadata": {}
        },
        {
            "id": "a4399262",
            "cell_type": "code",
            "metadata": {},
            "execution_count": null,
            "source": "ax.hist(r, density=True, bins='auto', histtype='stepfilled', alpha=0.2)\nax.set_xlim([x[0], x[-1]])\nax.legend(loc='best', frameon=False)\nplt.show()",
            "outputs": []
        }
    ]
}