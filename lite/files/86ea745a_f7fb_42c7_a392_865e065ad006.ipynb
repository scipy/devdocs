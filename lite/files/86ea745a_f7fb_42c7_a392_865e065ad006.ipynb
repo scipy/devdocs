{
    "nbformat": 4,
    "nbformat_minor": 5,
    "metadata": {
        "kernelspec": {
            "display_name": "Python",
            "language": "python",
            "name": "python"
        },
        "language_info": {
            "name": "python"
        }
    },
    "cells": [
        {
            "id": "7d51e63d",
            "cell_type": "markdown",
            "source": "<div class='alert alert-warning'>\n\nSciPy's interactive examples with Jupyterlite are experimental and may not always work as expected. Execution of cells containing imports may result in large downloads (up to 60MB of content for the first import from SciPy). Load times when importing from SciPy may take roughly 10-20 seconds. If you notice any problems, feel free to open an [issue](https://github.com/scipy/scipy/issues/new/choose).\n\n</div>",
            "metadata": {}
        },
        {
            "id": "b51803a6",
            "cell_type": "code",
            "metadata": {},
            "execution_count": null,
            "source": "import numpy as np\nfrom scipy import stats\nres = stats.spearmanr([1, 2, 3, 4, 5], [5, 6, 7, 8, 7])\nres.statistic",
            "outputs": [
                {
                    "output_type": "execute_result",
                    "metadata": {},
                    "data": {
                        "text/plain": "0.8207826816681233"
                    },
                    "execution_count": null
                }
            ]
        },
        {
            "id": "2f98c415",
            "cell_type": "code",
            "metadata": {},
            "execution_count": null,
            "source": "res.pvalue",
            "outputs": [
                {
                    "output_type": "execute_result",
                    "metadata": {},
                    "data": {
                        "text/plain": "0.08858700531354381"
                    },
                    "execution_count": null
                }
            ]
        },
        {
            "id": "84b4d957",
            "cell_type": "code",
            "metadata": {},
            "execution_count": null,
            "source": "rng = np.random.default_rng()\nx2n = rng.standard_normal((100, 2))\ny2n = rng.standard_normal((100, 2))\nres = stats.spearmanr(x2n)\nres.statistic, res.pvalue",
            "outputs": [
                {
                    "output_type": "execute_result",
                    "metadata": {},
                    "data": {
                        "text/plain": "(-0.07960396039603959, 0.4311168705769747)"
                    },
                    "execution_count": null
                }
            ]
        },
        {
            "id": "d4a3ebcb",
            "cell_type": "code",
            "metadata": {},
            "execution_count": null,
            "source": "res = stats.spearmanr(x2n[:, 0], x2n[:, 1])\nres.statistic, res.pvalue",
            "outputs": [
                {
                    "output_type": "execute_result",
                    "metadata": {},
                    "data": {
                        "text/plain": "(-0.07960396039603959, 0.4311168705769747)"
                    },
                    "execution_count": null
                }
            ]
        },
        {
            "id": "bb198b58",
            "cell_type": "code",
            "metadata": {},
            "execution_count": null,
            "source": "res = stats.spearmanr(x2n, y2n)\nres.statistic",
            "outputs": [
                {
                    "output_type": "execute_result",
                    "metadata": {},
                    "data": {
                        "text/plain": "array([[ 1. , -0.07960396, -0.08314431, 0.09662166],\n       [-0.07960396, 1. , -0.14448245, 0.16738074],\n       [-0.08314431, -0.14448245, 1. , 0.03234323],\n       [ 0.09662166, 0.16738074, 0.03234323, 1. ]])"
                    },
                    "execution_count": null
                }
            ]
        },
        {
            "id": "a293d238",
            "cell_type": "code",
            "metadata": {},
            "execution_count": null,
            "source": "res.pvalue",
            "outputs": [
                {
                    "output_type": "execute_result",
                    "metadata": {},
                    "data": {
                        "text/plain": "array([[0. , 0.43111687, 0.41084066, 0.33891628],\n       [0.43111687, 0. , 0.15151618, 0.09600687],\n       [0.41084066, 0.15151618, 0. , 0.74938561],\n       [0.33891628, 0.09600687, 0.74938561, 0. ]])"
                    },
                    "execution_count": null
                }
            ]
        },
        {
            "id": "6bb48298",
            "cell_type": "code",
            "metadata": {},
            "execution_count": null,
            "source": "res = stats.spearmanr(x2n.T, y2n.T, axis=1)\nres.statistic",
            "outputs": [
                {
                    "output_type": "execute_result",
                    "metadata": {},
                    "data": {
                        "text/plain": "array([[ 1. , -0.07960396, -0.08314431, 0.09662166],\n       [-0.07960396, 1. , -0.14448245, 0.16738074],\n       [-0.08314431, -0.14448245, 1. , 0.03234323],\n       [ 0.09662166, 0.16738074, 0.03234323, 1. ]])"
                    },
                    "execution_count": null
                }
            ]
        },
        {
            "id": "f4b177ac",
            "cell_type": "code",
            "metadata": {},
            "execution_count": null,
            "source": "res = stats.spearmanr(x2n, y2n, axis=None)\nres.statistic, res.pvalue",
            "outputs": [
                {
                    "output_type": "execute_result",
                    "metadata": {},
                    "data": {
                        "text/plain": "(0.044981624540613524, 0.5270803651336189)"
                    },
                    "execution_count": null
                }
            ]
        },
        {
            "id": "32b78814",
            "cell_type": "code",
            "metadata": {},
            "execution_count": null,
            "source": "res = stats.spearmanr(x2n.ravel(), y2n.ravel())\nres.statistic, res.pvalue",
            "outputs": [
                {
                    "output_type": "execute_result",
                    "metadata": {},
                    "data": {
                        "text/plain": "(0.044981624540613524, 0.5270803651336189)"
                    },
                    "execution_count": null
                }
            ]
        },
        {
            "id": "41c0636c",
            "cell_type": "code",
            "metadata": {},
            "execution_count": null,
            "source": "rng = np.random.default_rng()\nxint = rng.integers(10, size=(100, 2))\nres = stats.spearmanr(xint)\nres.statistic, res.pvalue",
            "outputs": [
                {
                    "output_type": "execute_result",
                    "metadata": {},
                    "data": {
                        "text/plain": "(0.09800224850707953, 0.3320271757932076)"
                    },
                    "execution_count": null
                }
            ]
        },
        {
            "id": "6102f2f4",
            "cell_type": "markdown",
            "source": "For small samples, consider performing a permutation test instead of\nrelying on the asymptotic p-value. Note that to calculate the null\ndistribution of the statistic (for all possibly pairings between\nobservations in sample ``x`` and ``y``), only one of the two inputs needs\nto be permuted.\n",
            "metadata": {}
        },
        {
            "id": "f1c5eb8d",
            "cell_type": "code",
            "metadata": {},
            "execution_count": null,
            "source": "x = [1.76405235, 0.40015721, 0.97873798,\n2.2408932, 1.86755799, -0.97727788]\ny = [2.71414076, 0.2488, 0.87551913,\n2.6514917, 2.01160156, 0.47699563]",
            "outputs": []
        },
        {
            "id": "13ac4256",
            "cell_type": "code",
            "metadata": {},
            "execution_count": null,
            "source": "def statistic(x): # permute only `x`\n    return stats.spearmanr(x, y).statistic\nres_exact = stats.permutation_test((x,), statistic,\n    permutation_type='pairings')\nres_asymptotic = stats.spearmanr(x, y)\nres_exact.pvalue, res_asymptotic.pvalue # asymptotic pvalue is too low",
            "outputs": [
                {
                    "output_type": "execute_result",
                    "metadata": {},
                    "data": {
                        "text/plain": "(0.10277777777777777, 0.07239650145772594)"
                    },
                    "execution_count": null
                }
            ]
        },
        {
            "id": "a87691fd",
            "cell_type": "markdown",
            "source": "For a more detailed example, see :ref:`hypothesis_spearmanr`.",
            "metadata": {}
        }
    ]
}