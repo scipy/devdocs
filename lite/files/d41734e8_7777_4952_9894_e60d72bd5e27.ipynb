{
    "nbformat": 4,
    "nbformat_minor": 5,
    "metadata": {
        "kernelspec": {
            "display_name": "Python",
            "language": "python",
            "name": "python"
        },
        "language_info": {
            "name": "python"
        }
    },
    "cells": [
        {
            "id": "3ec202f2",
            "cell_type": "markdown",
            "source": "<div class='alert alert-warning'>\n\nSciPy's interactive examples with Jupyterlite are experimental and may not always work as expected. Execution of cells containing imports may result in large downloads (up to 60MB of content for the first import from SciPy). Load times when importing from SciPy may take roughly 10-20 seconds. If you notice any problems, feel free to open an [issue](https://github.com/scipy/scipy/issues/new/choose).\n\n</div>",
            "metadata": {}
        },
        {
            "id": "ed45b826",
            "cell_type": "code",
            "metadata": {},
            "execution_count": null,
            "source": "import numpy as np\nfrom scipy.stats import lomax\nimport matplotlib.pyplot as plt\nfig, ax = plt.subplots(1, 1)",
            "outputs": []
        },
        {
            "id": "c33cf82e",
            "cell_type": "markdown",
            "source": "Calculate the first four moments:\n",
            "metadata": {}
        },
        {
            "id": "3e785a6b",
            "cell_type": "code",
            "metadata": {},
            "execution_count": null,
            "source": "c = 1.88\nmean, var, skew, kurt = lomax.stats(c, moments='mvsk')",
            "outputs": []
        },
        {
            "id": "54140b75",
            "cell_type": "markdown",
            "source": "Display the probability density function (``pdf``):\n",
            "metadata": {}
        },
        {
            "id": "38bb599a",
            "cell_type": "code",
            "metadata": {},
            "execution_count": null,
            "source": "x = np.linspace(lomax.ppf(0.01, c),\n                lomax.ppf(0.99, c), 100)\nax.plot(x, lomax.pdf(x, c),\n       'r-', lw=5, alpha=0.6, label='lomax pdf')",
            "outputs": []
        },
        {
            "id": "1bebd9ee",
            "cell_type": "markdown",
            "source": "Alternatively, the distribution object can be called (as a function)\nto fix the shape, location and scale parameters. This returns a \"frozen\"\nRV object holding the given parameters fixed.\n\nFreeze the distribution and display the frozen ``pdf``:\n",
            "metadata": {}
        },
        {
            "id": "11892b61",
            "cell_type": "code",
            "metadata": {},
            "execution_count": null,
            "source": "rv = lomax(c)\nax.plot(x, rv.pdf(x), 'k-', lw=2, label='frozen pdf')",
            "outputs": []
        },
        {
            "id": "5f953d2a",
            "cell_type": "markdown",
            "source": "Check accuracy of ``cdf`` and ``ppf``:\n",
            "metadata": {}
        },
        {
            "id": "6642076b",
            "cell_type": "code",
            "metadata": {},
            "execution_count": null,
            "source": "vals = lomax.ppf([0.001, 0.5, 0.999], c)\nnp.allclose([0.001, 0.5, 0.999], lomax.cdf(vals, c))",
            "outputs": [
                {
                    "output_type": "execute_result",
                    "metadata": {},
                    "data": {
                        "text/plain": "True"
                    },
                    "execution_count": null
                }
            ]
        },
        {
            "id": "3de96ceb",
            "cell_type": "markdown",
            "source": "Generate random numbers:\n",
            "metadata": {}
        },
        {
            "id": "0d81f899",
            "cell_type": "code",
            "metadata": {},
            "execution_count": null,
            "source": "r = lomax.rvs(c, size=1000)",
            "outputs": []
        },
        {
            "id": "3dc9ad21",
            "cell_type": "markdown",
            "source": "And compare the histogram:\n",
            "metadata": {}
        },
        {
            "id": "10e8e638",
            "cell_type": "code",
            "metadata": {},
            "execution_count": null,
            "source": "ax.hist(r, density=True, bins='auto', histtype='stepfilled', alpha=0.2)\nax.set_xlim([x[0], x[-1]])\nax.legend(loc='best', frameon=False)\nplt.show()",
            "outputs": []
        }
    ]
}