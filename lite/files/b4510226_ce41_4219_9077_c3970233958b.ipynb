{
    "nbformat": 4,
    "nbformat_minor": 5,
    "metadata": {
        "kernelspec": {
            "display_name": "Python",
            "language": "python",
            "name": "python"
        },
        "language_info": {
            "name": "python"
        }
    },
    "cells": [
        {
            "id": "823f5b78",
            "cell_type": "markdown",
            "source": "<div class='alert alert-warning'>\n\nSciPy's interactive examples with Jupyterlite are experimental and may not always work as expected. Execution of cells containing imports may result in large downloads (up to 60MB of content for the first import from SciPy). Load times when importing from SciPy may take roughly 10-20 seconds. If you notice any problems, feel free to open an [issue](https://github.com/scipy/scipy/issues/new/choose).\n\n</div>",
            "metadata": {}
        },
        {
            "id": "20c7527b",
            "cell_type": "code",
            "metadata": {},
            "execution_count": null,
            "source": "import numpy as np\nimport scipy.special as sc",
            "outputs": []
        },
        {
            "id": "df329b2d",
            "cell_type": "markdown",
            "source": "It is more accurate than computing ``cos(x) - 1`` directly for\n``x`` around 0.\n",
            "metadata": {}
        },
        {
            "id": "a97050af",
            "cell_type": "code",
            "metadata": {},
            "execution_count": null,
            "source": "x = 1e-30\nnp.cos(x) - 1",
            "outputs": [
                {
                    "output_type": "execute_result",
                    "metadata": {},
                    "data": {
                        "text/plain": "0.0"
                    },
                    "execution_count": null
                }
            ]
        },
        {
            "id": "a349bc39",
            "cell_type": "code",
            "metadata": {},
            "execution_count": null,
            "source": "sc.cosm1(x)",
            "outputs": [
                {
                    "output_type": "execute_result",
                    "metadata": {},
                    "data": {
                        "text/plain": "-5.0000000000000005e-61"
                    },
                    "execution_count": null
                }
            ]
        }
    ]
}