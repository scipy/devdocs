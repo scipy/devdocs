{
    "nbformat": 4,
    "nbformat_minor": 5,
    "metadata": {
        "kernelspec": {
            "display_name": "Python",
            "language": "python",
            "name": "python"
        },
        "language_info": {
            "name": "python"
        }
    },
    "cells": [
        {
            "id": "dd84a71e",
            "cell_type": "markdown",
            "source": "<div class='alert alert-warning'>\n\nSciPy's interactive examples with Jupyterlite are experimental and may not always work as expected. Execution of cells containing imports may result in large downloads (up to 60MB of content for the first import from SciPy). Load times when importing from SciPy may take roughly 10-20 seconds. If you notice any problems, feel free to open an [issue](https://github.com/scipy/scipy/issues/new/choose).\n\n</div>",
            "metadata": {}
        },
        {
            "id": "715eff0b",
            "cell_type": "code",
            "metadata": {},
            "execution_count": null,
            "source": "import numpy as np\na = np.array([[3, 0, 3, 7],\n              [3, 2, 6, 2],\n              [1, 7, 2, 8],\n              [3, 0, 6, 1],\n              [3, 2, 5, 5]])\nfrom scipy import stats\nstats.mode(a, keepdims=True)",
            "outputs": [
                {
                    "output_type": "execute_result",
                    "metadata": {},
                    "data": {
                        "text/plain": "ModeResult(mode=array([[3, 0, 6, 1]]), count=array([[4, 2, 2, 1]]))"
                    },
                    "execution_count": null
                }
            ]
        },
        {
            "id": "ec37ef82",
            "cell_type": "markdown",
            "source": "To get mode of whole array, specify ``axis=None``:\n",
            "metadata": {}
        },
        {
            "id": "c91dae9f",
            "cell_type": "code",
            "metadata": {},
            "execution_count": null,
            "source": "stats.mode(a, axis=None, keepdims=True)",
            "outputs": [
                {
                    "output_type": "execute_result",
                    "metadata": {},
                    "data": {
                        "text/plain": "ModeResult(mode=[[3]], count=[[5]])"
                    },
                    "execution_count": null
                }
            ]
        },
        {
            "id": "a774b3cb",
            "cell_type": "code",
            "metadata": {},
            "execution_count": null,
            "source": "stats.mode(a, axis=None, keepdims=False)",
            "outputs": [
                {
                    "output_type": "execute_result",
                    "metadata": {},
                    "data": {
                        "text/plain": "ModeResult(mode=3, count=5)"
                    },
                    "execution_count": null
                }
            ]
        }
    ]
}