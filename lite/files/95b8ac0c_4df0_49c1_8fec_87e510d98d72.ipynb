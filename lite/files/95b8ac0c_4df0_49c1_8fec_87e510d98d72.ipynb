{
    "nbformat": 4,
    "nbformat_minor": 5,
    "metadata": {
        "kernelspec": {
            "display_name": "Python",
            "language": "python",
            "name": "python"
        },
        "language_info": {
            "name": "python"
        }
    },
    "cells": [
        {
            "id": "d7eadb5a",
            "cell_type": "markdown",
            "source": "<div class='alert alert-warning'>\n\nSciPy's interactive examples with Jupyterlite are experimental and may not always work as expected. Execution of cells containing imports may result in large downloads (up to 60MB of content for the first import from SciPy). Load times when importing from SciPy may take roughly 10-20 seconds. If you notice any problems, feel free to open an [issue](https://github.com/scipy/scipy/issues/new/choose).\n\n</div>",
            "metadata": {}
        },
        {
            "id": "b4596482",
            "cell_type": "code",
            "metadata": {},
            "execution_count": null,
            "source": "import numpy as np\nfrom scipy import stats\na = np.arange(10)\nstats.describe(a)",
            "outputs": [
                {
                    "output_type": "execute_result",
                    "metadata": {},
                    "data": {
                        "text/plain": "DescribeResult(nobs=10, minmax=(0, 9), mean=4.5,\n               variance=9.166666666666666, skewness=0.0,\n               kurtosis=-1.2242424242424244)"
                    },
                    "execution_count": null
                }
            ]
        },
        {
            "id": "b083b7fc",
            "cell_type": "code",
            "metadata": {},
            "execution_count": null,
            "source": "b = [[1, 2], [3, 4]]\nstats.describe(b)",
            "outputs": [
                {
                    "output_type": "execute_result",
                    "metadata": {},
                    "data": {
                        "text/plain": "DescribeResult(nobs=2, minmax=(array([1, 2]), array([3, 4])),\n               mean=array([2., 3.]), variance=array([2., 2.]),\n               skewness=array([0., 0.]), kurtosis=array([-2., -2.]))"
                    },
                    "execution_count": null
                }
            ]
        }
    ]
}