{
    "nbformat": 4,
    "nbformat_minor": 5,
    "metadata": {
        "kernelspec": {
            "display_name": "Python",
            "language": "python",
            "name": "python"
        },
        "language_info": {
            "name": "python"
        }
    },
    "cells": [
        {
            "id": "3469fbfe",
            "cell_type": "markdown",
            "source": "<div class='alert alert-warning'>\n\nSciPy's interactive examples with Jupyterlite are experimental and may not always work as expected. Execution of cells containing imports may result in large downloads (up to 60MB of content for the first import from SciPy). Load times when importing from SciPy may take roughly 10-20 seconds. If you notice any problems, feel free to open an [issue](https://github.com/scipy/scipy/issues/new/choose).\n\n</div>",
            "metadata": {}
        },
        {
            "id": "429766aa",
            "cell_type": "markdown",
            "source": "Compute the impulse response of a second order system with a repeated\nroot: ``x''(t) + 2*x'(t) + x(t) = u(t)``\n",
            "metadata": {}
        },
        {
            "id": "289ff5b8",
            "cell_type": "code",
            "metadata": {},
            "execution_count": null,
            "source": "from scipy import signal\nsystem = ([1.0], [1.0, 2.0, 1.0])\nt, y = signal.impulse(system)\nimport matplotlib.pyplot as plt\nplt.plot(t, y)",
            "outputs": []
        }
    ]
}