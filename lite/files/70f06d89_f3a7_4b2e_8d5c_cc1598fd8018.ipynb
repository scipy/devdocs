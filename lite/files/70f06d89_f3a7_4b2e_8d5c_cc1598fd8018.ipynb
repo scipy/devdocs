{
    "nbformat": 4,
    "nbformat_minor": 5,
    "metadata": {
        "kernelspec": {
            "display_name": "Python",
            "language": "python",
            "name": "python"
        },
        "language_info": {
            "name": "python"
        }
    },
    "cells": [
        {
            "id": "173c4afb",
            "cell_type": "markdown",
            "source": "<div class='alert alert-warning'>\n\nSciPy's interactive examples with Jupyterlite are experimental and may not always work as expected. Execution of cells containing imports may result in large downloads (up to 60MB of content for the first import from SciPy). Load times when importing from SciPy may take roughly 10-20 seconds. If you notice any problems, feel free to open an [issue](https://github.com/scipy/scipy/issues/new/choose).\n\n</div>",
            "metadata": {}
        },
        {
            "id": "6f862930",
            "cell_type": "code",
            "metadata": {},
            "execution_count": null,
            "source": "import numpy as np\nfrom scipy.linalg import schur, rsf2csf\nA = np.array([[0, 2, 2], [0, 1, 2], [1, 0, 1]])\nT, Z = schur(A)\nT",
            "outputs": [
                {
                    "output_type": "execute_result",
                    "metadata": {},
                    "data": {
                        "text/plain": "array([[ 2.65896708,  1.42440458, -1.92933439],\n       [ 0.        , -0.32948354, -0.49063704],\n       [ 0.        ,  1.31178921, -0.32948354]])"
                    },
                    "execution_count": null
                }
            ]
        },
        {
            "id": "b57f492f",
            "cell_type": "code",
            "metadata": {},
            "execution_count": null,
            "source": "Z",
            "outputs": [
                {
                    "output_type": "execute_result",
                    "metadata": {},
                    "data": {
                        "text/plain": "array([[0.72711591, -0.60156188, 0.33079564],\n       [0.52839428, 0.79801892, 0.28976765],\n       [0.43829436, 0.03590414, -0.89811411]])"
                    },
                    "execution_count": null
                }
            ]
        },
        {
            "id": "85320b1f",
            "cell_type": "code",
            "metadata": {},
            "execution_count": null,
            "source": "T2 , Z2 = rsf2csf(T, Z)\nT2",
            "outputs": [
                {
                    "output_type": "execute_result",
                    "metadata": {},
                    "data": {
                        "text/plain": "array([[2.65896708+0.j, -1.64592781+0.743164187j, -1.21516887+1.00660462j],\n       [0.+0.j , -0.32948354+8.02254558e-01j, -0.82115218-2.77555756e-17j],\n       [0.+0.j , 0.+0.j, -0.32948354-0.802254558j]])"
                    },
                    "execution_count": null
                }
            ]
        },
        {
            "id": "1024180b",
            "cell_type": "code",
            "metadata": {},
            "execution_count": null,
            "source": "Z2",
            "outputs": [
                {
                    "output_type": "execute_result",
                    "metadata": {},
                    "data": {
                        "text/plain": "array([[0.72711591+0.j,  0.28220393-0.31385693j,  0.51319638-0.17258824j],\n       [0.52839428+0.j,  0.24720268+0.41635578j, -0.68079517-0.15118243j],\n       [0.43829436+0.j, -0.76618703+0.01873251j, -0.03063006+0.46857912j]])"
                    },
                    "execution_count": null
                }
            ]
        }
    ]
}