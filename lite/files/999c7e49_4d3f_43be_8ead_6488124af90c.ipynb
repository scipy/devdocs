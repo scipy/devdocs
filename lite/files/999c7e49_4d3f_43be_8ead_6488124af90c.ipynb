{
    "nbformat": 4,
    "nbformat_minor": 5,
    "metadata": {
        "kernelspec": {
            "display_name": "Python",
            "language": "python",
            "name": "python"
        },
        "language_info": {
            "name": "python"
        }
    },
    "cells": [
        {
            "id": "e27dcb11",
            "cell_type": "markdown",
            "source": "<div class='alert alert-warning'>\n\nSciPy's interactive examples with Jupyterlite are experimental and may not always work as expected. Execution of cells containing imports may result in large downloads (up to 60MB of content for the first import from SciPy). Load times when importing from SciPy may take roughly 10-20 seconds. If you notice any problems, feel free to open an [issue](https://github.com/scipy/scipy/issues/new/choose).\n\n</div>",
            "metadata": {}
        },
        {
            "id": "aef2801a",
            "cell_type": "code",
            "metadata": {},
            "execution_count": null,
            "source": "import numpy as np\nfrom scipy.stats import chi\nimport matplotlib.pyplot as plt\nfig, ax = plt.subplots(1, 1)",
            "outputs": []
        },
        {
            "id": "2f066790",
            "cell_type": "markdown",
            "source": "Calculate the first four moments:\n",
            "metadata": {}
        },
        {
            "id": "5cab6b2c",
            "cell_type": "code",
            "metadata": {},
            "execution_count": null,
            "source": "df = 78\nmean, var, skew, kurt = chi.stats(df, moments='mvsk')",
            "outputs": []
        },
        {
            "id": "68a3babc",
            "cell_type": "markdown",
            "source": "Display the probability density function (``pdf``):\n",
            "metadata": {}
        },
        {
            "id": "5a2d9003",
            "cell_type": "code",
            "metadata": {},
            "execution_count": null,
            "source": "x = np.linspace(chi.ppf(0.01, df),\n                chi.ppf(0.99, df), 100)\nax.plot(x, chi.pdf(x, df),\n       'r-', lw=5, alpha=0.6, label='chi pdf')",
            "outputs": []
        },
        {
            "id": "2df3eb1e",
            "cell_type": "markdown",
            "source": "Alternatively, the distribution object can be called (as a function)\nto fix the shape, location and scale parameters. This returns a \"frozen\"\nRV object holding the given parameters fixed.\n\nFreeze the distribution and display the frozen ``pdf``:\n",
            "metadata": {}
        },
        {
            "id": "59592521",
            "cell_type": "code",
            "metadata": {},
            "execution_count": null,
            "source": "rv = chi(df)\nax.plot(x, rv.pdf(x), 'k-', lw=2, label='frozen pdf')",
            "outputs": []
        },
        {
            "id": "b021a039",
            "cell_type": "markdown",
            "source": "Check accuracy of ``cdf`` and ``ppf``:\n",
            "metadata": {}
        },
        {
            "id": "9982d693",
            "cell_type": "code",
            "metadata": {},
            "execution_count": null,
            "source": "vals = chi.ppf([0.001, 0.5, 0.999], df)\nnp.allclose([0.001, 0.5, 0.999], chi.cdf(vals, df))",
            "outputs": [
                {
                    "output_type": "execute_result",
                    "metadata": {},
                    "data": {
                        "text/plain": "True"
                    },
                    "execution_count": null
                }
            ]
        },
        {
            "id": "7b6efbcc",
            "cell_type": "markdown",
            "source": "Generate random numbers:\n",
            "metadata": {}
        },
        {
            "id": "0102a806",
            "cell_type": "code",
            "metadata": {},
            "execution_count": null,
            "source": "r = chi.rvs(df, size=1000)",
            "outputs": []
        },
        {
            "id": "f659d1e6",
            "cell_type": "markdown",
            "source": "And compare the histogram:\n",
            "metadata": {}
        },
        {
            "id": "699a2c7e",
            "cell_type": "code",
            "metadata": {},
            "execution_count": null,
            "source": "ax.hist(r, density=True, bins='auto', histtype='stepfilled', alpha=0.2)\nax.set_xlim([x[0], x[-1]])\nax.legend(loc='best', frameon=False)\nplt.show()",
            "outputs": []
        }
    ]
}