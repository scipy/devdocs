{
    "nbformat": 4,
    "nbformat_minor": 5,
    "metadata": {
        "kernelspec": {
            "display_name": "Python",
            "language": "python",
            "name": "python"
        },
        "language_info": {
            "name": "python"
        }
    },
    "cells": [
        {
            "id": "3ef2773d",
            "cell_type": "markdown",
            "source": "<div class='alert alert-warning'>\n\nSciPy's interactive examples with Jupyterlite are experimental and may not always work as expected. Execution of cells containing imports may result in large downloads (up to 60MB of content for the first import from SciPy). Load times when importing from SciPy may take roughly 10-20 seconds. If you notice any problems, feel free to open an [issue](https://github.com/scipy/scipy/issues/new/choose).\n\n</div>",
            "metadata": {}
        },
        {
            "id": "d7a2dbb6",
            "cell_type": "code",
            "metadata": {},
            "execution_count": null,
            "source": "import numpy as np\nfrom scipy.stats import poisson_binom\nimport matplotlib.pyplot as plt\nfig, ax = plt.subplots(1, 1)",
            "outputs": []
        },
        {
            "id": "106c35e5",
            "cell_type": "markdown",
            "source": "Calculate the first four moments:\n",
            "metadata": {}
        },
        {
            "id": "a9471ec3",
            "cell_type": "code",
            "metadata": {},
            "execution_count": null,
            "source": "p = [0.1, 0.6, 0.7, 0.8]\nmean, var, skew, kurt = poisson_binom.stats(p, moments='mvsk')",
            "outputs": []
        },
        {
            "id": "73dc62b2",
            "cell_type": "markdown",
            "source": "Display the probability mass function (``pmf``):\n",
            "metadata": {}
        },
        {
            "id": "10b369db",
            "cell_type": "code",
            "metadata": {},
            "execution_count": null,
            "source": "x = np.arange(poisson_binom.ppf(0.01, p),\n              poisson_binom.ppf(0.99, p))\nax.plot(x, poisson_binom.pmf(x, p), 'bo', ms=8, label='poisson_binom pmf')\nax.vlines(x, 0, poisson_binom.pmf(x, p), colors='b', lw=5, alpha=0.5)",
            "outputs": []
        },
        {
            "id": "56b9cdec",
            "cell_type": "markdown",
            "source": "Alternatively, the distribution object can be called (as a function)\nto fix the shape and location. This returns a \"frozen\" RV object holding\nthe given parameters fixed.\n\nFreeze the distribution and display the frozen ``pmf``:\n",
            "metadata": {}
        },
        {
            "id": "1e10fc96",
            "cell_type": "code",
            "metadata": {},
            "execution_count": null,
            "source": "rv = poisson_binom(p)\nax.vlines(x, 0, rv.pmf(x), colors='k', linestyles='-', lw=1,\n        label='frozen pmf')\nax.legend(loc='best', frameon=False)\nplt.show()",
            "outputs": []
        },
        {
            "id": "f59352da",
            "cell_type": "markdown",
            "source": "Check accuracy of ``cdf`` and ``ppf``:\n",
            "metadata": {}
        },
        {
            "id": "9edd35f0",
            "cell_type": "code",
            "metadata": {},
            "execution_count": null,
            "source": "prob = poisson_binom.cdf(x, p)\nnp.allclose(x, poisson_binom.ppf(prob, p))",
            "outputs": [
                {
                    "output_type": "execute_result",
                    "metadata": {},
                    "data": {
                        "text/plain": "True"
                    },
                    "execution_count": null
                }
            ]
        },
        {
            "id": "dfd0b8f4",
            "cell_type": "markdown",
            "source": "Generate random numbers:\n",
            "metadata": {}
        },
        {
            "id": "2bd17f6f",
            "cell_type": "code",
            "metadata": {},
            "execution_count": null,
            "source": "r = poisson_binom.rvs(p, size=1000)",
            "outputs": []
        }
    ]
}