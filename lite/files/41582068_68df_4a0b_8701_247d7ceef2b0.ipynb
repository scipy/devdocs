{
    "nbformat": 4,
    "nbformat_minor": 5,
    "metadata": {
        "kernelspec": {
            "display_name": "Python",
            "language": "python",
            "name": "python"
        },
        "language_info": {
            "name": "python"
        }
    },
    "cells": [
        {
            "id": "7a694a9b",
            "cell_type": "markdown",
            "source": "<div class='alert alert-warning'>\n\nSciPy's interactive examples with Jupyterlite are experimental and may not always work as expected. Execution of cells containing imports may result in large downloads (up to 60MB of content for the first import from SciPy). Load times when importing from SciPy may take roughly 10-20 seconds. If you notice any problems, feel free to open an [issue](https://github.com/scipy/scipy/issues/new/choose).\n\n</div>",
            "metadata": {}
        },
        {
            "id": "5164f09a",
            "cell_type": "code",
            "metadata": {},
            "execution_count": null,
            "source": "from scipy.stats.mstats import trim\nz = [ 1, 2, 3, 4, 5, 6, 7, 8, 9,10]\nprint(trim(z,(3,8)))",
            "outputs": [
                {
                    "output_type": "execute_result",
                    "metadata": {},
                    "data": {
                        "text/plain": "[-- -- 3 4 5 6 7 8 -- --]"
                    },
                    "execution_count": null
                }
            ]
        },
        {
            "id": "8b79be33",
            "cell_type": "code",
            "metadata": {},
            "execution_count": null,
            "source": "print(trim(z,(0.1,0.2),relative=True))",
            "outputs": [
                {
                    "output_type": "execute_result",
                    "metadata": {},
                    "data": {
                        "text/plain": "[-- 2 3 4 5 6 7 8 -- --]"
                    },
                    "execution_count": null
                }
            ]
        }
    ]
}