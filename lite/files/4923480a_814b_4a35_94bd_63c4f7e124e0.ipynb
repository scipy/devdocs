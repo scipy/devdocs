{
    "nbformat": 4,
    "nbformat_minor": 5,
    "metadata": {
        "kernelspec": {
            "display_name": "Python",
            "language": "python",
            "name": "python"
        },
        "language_info": {
            "name": "python"
        }
    },
    "cells": [
        {
            "id": "458d1930",
            "cell_type": "markdown",
            "source": "<div class='alert alert-warning'>\n\nSciPy's interactive examples with Jupyterlite are experimental and may not always work as expected. Execution of cells containing imports may result in large downloads (up to 60MB of content for the first import from SciPy). Load times when importing from SciPy may take roughly 10-20 seconds. If you notice any problems, feel free to open an [issue](https://github.com/scipy/scipy/issues/new/choose).\n\n</div>",
            "metadata": {}
        },
        {
            "id": "f57168ca",
            "cell_type": "code",
            "metadata": {},
            "execution_count": null,
            "source": "from io import StringIO\nfrom scipy.io import mminfo",
            "outputs": []
        },
        {
            "id": "722cd2e4",
            "cell_type": "code",
            "metadata": {},
            "execution_count": null,
            "source": "text = '''%%MatrixMarket matrix coordinate real general\n 5 5 7\n 2 3 1.0\n 3 4 2.0\n 3 5 3.0\n 4 1 4.0\n 4 2 5.0\n 4 3 6.0\n 4 4 7.0\n'''",
            "outputs": []
        },
        {
            "id": "58f31e6e",
            "cell_type": "markdown",
            "source": "``mminfo(source)`` returns the number of rows, number of columns,\nformat, field type and symmetry attribute of the source file.\n",
            "metadata": {}
        },
        {
            "id": "3c95c16a",
            "cell_type": "code",
            "metadata": {},
            "execution_count": null,
            "source": "mminfo(StringIO(text))",
            "outputs": [
                {
                    "output_type": "execute_result",
                    "metadata": {},
                    "data": {
                        "text/plain": "(5, 5, 7, 'coordinate', 'real', 'general')"
                    },
                    "execution_count": null
                }
            ]
        }
    ]
}