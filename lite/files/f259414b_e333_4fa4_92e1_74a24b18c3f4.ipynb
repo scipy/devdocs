{
    "nbformat": 4,
    "nbformat_minor": 5,
    "metadata": {
        "kernelspec": {
            "display_name": "Python",
            "language": "python",
            "name": "python"
        },
        "language_info": {
            "name": "python"
        }
    },
    "cells": [
        {
            "id": "4f5198bb",
            "cell_type": "markdown",
            "source": "<div class='alert alert-warning'>\n\nSciPy's interactive examples with Jupyterlite are experimental and may not always work as expected. Execution of cells containing imports may result in large downloads (up to 60MB of content for the first import from SciPy). Load times when importing from SciPy may take roughly 10-20 seconds. If you notice any problems, feel free to open an [issue](https://github.com/scipy/scipy/issues/new/choose).\n\n</div>",
            "metadata": {}
        },
        {
            "id": "3c20e15f",
            "cell_type": "code",
            "metadata": {},
            "execution_count": null,
            "source": "import numpy as np\nfrom scipy import signal\nfrom scipy.fft import fftshift\nimport matplotlib.pyplot as plt\nrng = np.random.default_rng()",
            "outputs": []
        },
        {
            "id": "31803383",
            "cell_type": "markdown",
            "source": "Generate a test signal, a 2 Vrms sine wave whose frequency is slowly\nmodulated around 3kHz, corrupted by white noise of exponentially\ndecreasing magnitude sampled at 10 kHz.\n",
            "metadata": {}
        },
        {
            "id": "2c9b7246",
            "cell_type": "code",
            "metadata": {},
            "execution_count": null,
            "source": "fs = 10e3\nN = 1e5\namp = 2 * np.sqrt(2)\nnoise_power = 0.01 * fs / 2\ntime = np.arange(N) / float(fs)\nmod = 500*np.cos(2*np.pi*0.25*time)\ncarrier = amp * np.sin(2*np.pi*3e3*time + mod)\nnoise = rng.normal(scale=np.sqrt(noise_power), size=time.shape)\nnoise *= np.exp(-time/5)\nx = carrier + noise",
            "outputs": []
        },
        {
            "id": "afba1989",
            "cell_type": "markdown",
            "source": "Compute and plot the spectrogram.\n",
            "metadata": {}
        },
        {
            "id": "0f9b49b0",
            "cell_type": "code",
            "metadata": {},
            "execution_count": null,
            "source": "f, t, Sxx = signal.spectrogram(x, fs)\nplt.pcolormesh(t, f, Sxx, shading='gouraud')\nplt.ylabel('Frequency [Hz]')\nplt.xlabel('Time [sec]')\nplt.show()",
            "outputs": []
        },
        {
            "id": "77652f22",
            "cell_type": "markdown",
            "source": "Note, if using output that is not one sided, then use the following:\n",
            "metadata": {}
        },
        {
            "id": "714c98b0",
            "cell_type": "code",
            "metadata": {},
            "execution_count": null,
            "source": "f, t, Sxx = signal.spectrogram(x, fs, return_onesided=False)\nplt.pcolormesh(t, fftshift(f), fftshift(Sxx, axes=0), shading='gouraud')\nplt.ylabel('Frequency [Hz]')\nplt.xlabel('Time [sec]')\nplt.show()",
            "outputs": []
        }
    ]
}