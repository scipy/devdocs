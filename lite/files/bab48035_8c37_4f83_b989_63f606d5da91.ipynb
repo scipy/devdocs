{
    "nbformat": 4,
    "nbformat_minor": 5,
    "metadata": {
        "kernelspec": {
            "display_name": "Python",
            "language": "python",
            "name": "python"
        },
        "language_info": {
            "name": "python"
        }
    },
    "cells": [
        {
            "id": "f3487e71",
            "cell_type": "markdown",
            "source": "<div class='alert alert-warning'>\n\nSciPy's interactive examples with Jupyterlite are experimental and may not always work as expected. Execution of cells containing imports may result in large downloads (up to 60MB of content for the first import from SciPy). Load times when importing from SciPy may take roughly 10-20 seconds. If you notice any problems, feel free to open an [issue](https://github.com/scipy/scipy/issues/new/choose).\n\n</div>",
            "metadata": {}
        },
        {
            "id": "3c9a2633",
            "cell_type": "code",
            "metadata": {},
            "execution_count": null,
            "source": "import numpy as np\nfrom scipy.stats import matrix_normal",
            "outputs": []
        },
        {
            "id": "bf1c1ec1",
            "cell_type": "code",
            "metadata": {},
            "execution_count": null,
            "source": "M = np.arange(6).reshape(3,2); M",
            "outputs": [
                {
                    "output_type": "execute_result",
                    "metadata": {},
                    "data": {
                        "text/plain": "array([[0, 1],\n       [2, 3],\n       [4, 5]])"
                    },
                    "execution_count": null
                }
            ]
        },
        {
            "id": "b1fd6cc6",
            "cell_type": "code",
            "metadata": {},
            "execution_count": null,
            "source": "U = np.diag([1,2,3]); U",
            "outputs": [
                {
                    "output_type": "execute_result",
                    "metadata": {},
                    "data": {
                        "text/plain": "array([[1, 0, 0],\n       [0, 2, 0],\n       [0, 0, 3]])"
                    },
                    "execution_count": null
                }
            ]
        },
        {
            "id": "a6407d80",
            "cell_type": "code",
            "metadata": {},
            "execution_count": null,
            "source": "V = 0.3*np.identity(2); V",
            "outputs": [
                {
                    "output_type": "execute_result",
                    "metadata": {},
                    "data": {
                        "text/plain": "array([[ 0.3,  0. ],\n       [ 0. ,  0.3]])"
                    },
                    "execution_count": null
                }
            ]
        },
        {
            "id": "a410042e",
            "cell_type": "code",
            "metadata": {},
            "execution_count": null,
            "source": "X = M + 0.1; X",
            "outputs": [
                {
                    "output_type": "execute_result",
                    "metadata": {},
                    "data": {
                        "text/plain": "array([[ 0.1,  1.1],\n       [ 2.1,  3.1],\n       [ 4.1,  5.1]])"
                    },
                    "execution_count": null
                }
            ]
        },
        {
            "id": "9b658dca",
            "cell_type": "code",
            "metadata": {},
            "execution_count": null,
            "source": "matrix_normal.pdf(X, mean=M, rowcov=U, colcov=V)",
            "outputs": [
                {
                    "output_type": "execute_result",
                    "metadata": {},
                    "data": {
                        "text/plain": "0.023410202050005054"
                    },
                    "execution_count": null
                }
            ]
        },
        {
            "id": "d67b627a",
            "cell_type": "code",
            "metadata": {},
            "execution_count": null,
            "source": "# Equivalent multivariate normal\nfrom scipy.stats import multivariate_normal\nvectorised_X = X.T.flatten()\nequiv_mean = M.T.flatten()\nequiv_cov = np.kron(V,U)\nmultivariate_normal.pdf(vectorised_X, mean=equiv_mean, cov=equiv_cov)",
            "outputs": [
                {
                    "output_type": "execute_result",
                    "metadata": {},
                    "data": {
                        "text/plain": "0.023410202050005054"
                    },
                    "execution_count": null
                }
            ]
        },
        {
            "id": "6e14fbc5",
            "cell_type": "markdown",
            "source": "Alternatively, the object may be called (as a function) to fix the mean\nand covariance parameters, returning a \"frozen\" matrix normal\nrandom variable:\n",
            "metadata": {}
        },
        {
            "id": "af7b7827",
            "cell_type": "code",
            "metadata": {},
            "execution_count": null,
            "source": "rv = matrix_normal(mean=None, rowcov=1, colcov=1)\n# Frozen object with the same methods but holding the given\n# mean and covariance fixed.",
            "outputs": []
        }
    ]
}