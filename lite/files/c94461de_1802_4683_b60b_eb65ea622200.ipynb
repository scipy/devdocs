{
    "nbformat": 4,
    "nbformat_minor": 5,
    "metadata": {
        "kernelspec": {
            "display_name": "Python",
            "language": "python",
            "name": "python"
        },
        "language_info": {
            "name": "python"
        }
    },
    "cells": [
        {
            "id": "c37caa73",
            "cell_type": "markdown",
            "source": "<div class='alert alert-warning'>\n\nSciPy's interactive examples with Jupyterlite are experimental and may not always work as expected. Execution of cells containing imports may result in large downloads (up to 60MB of content for the first import from SciPy). Load times when importing from SciPy may take roughly 10-20 seconds. If you notice any problems, feel free to open an [issue](https://github.com/scipy/scipy/issues/new/choose).\n\n</div>",
            "metadata": {}
        },
        {
            "id": "f7c93544",
            "cell_type": "code",
            "metadata": {},
            "execution_count": null,
            "source": "from scipy.stats.sampling import TransformedDensityRejection\nfrom scipy.stats import norm\nimport numpy as np\nfrom math import exp\n\nclass MyDist:\n    def pdf(self, x):\n        return exp(-0.5 * x**2)\n    def dpdf(self, x):\n        return -x * exp(-0.5 * x**2)\n\ndist = MyDist()\nrng = TransformedDensityRejection(dist)\n\nrng.ppf_hat(0.5)",
            "outputs": [
                {
                    "output_type": "execute_result",
                    "metadata": {},
                    "data": {
                        "text/plain": "-0.00018050266342393984"
                    },
                    "execution_count": null
                }
            ]
        },
        {
            "id": "9b53175a",
            "cell_type": "code",
            "metadata": {},
            "execution_count": null,
            "source": "norm.ppf(0.5)",
            "outputs": [
                {
                    "output_type": "execute_result",
                    "metadata": {},
                    "data": {
                        "text/plain": "0.0"
                    },
                    "execution_count": null
                }
            ]
        },
        {
            "id": "22f80c19",
            "cell_type": "code",
            "metadata": {},
            "execution_count": null,
            "source": "u = np.linspace(0, 1, num=1000)\nppf_hat = rng.ppf_hat(u)",
            "outputs": []
        }
    ]
}