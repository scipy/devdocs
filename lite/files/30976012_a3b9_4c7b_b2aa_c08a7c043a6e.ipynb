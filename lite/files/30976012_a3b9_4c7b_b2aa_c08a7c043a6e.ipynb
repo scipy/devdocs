{
    "nbformat": 4,
    "nbformat_minor": 5,
    "metadata": {
        "kernelspec": {
            "display_name": "Python",
            "language": "python",
            "name": "python"
        },
        "language_info": {
            "name": "python"
        }
    },
    "cells": [
        {
            "id": "7de6cf11",
            "cell_type": "markdown",
            "source": "<div class='alert alert-warning'>\n\nSciPy's interactive examples with Jupyterlite are experimental and may not always work as expected. Execution of cells containing imports may result in large downloads (up to 60MB of content for the first import from SciPy). Load times when importing from SciPy may take roughly 10-20 seconds. If you notice any problems, feel free to open an [issue](https://github.com/scipy/scipy/issues/new/choose).\n\n</div>",
            "metadata": {}
        },
        {
            "id": "592e1243",
            "cell_type": "code",
            "metadata": {},
            "execution_count": null,
            "source": "from scipy.spatial import distance\ndistance.minkowski([1, 0, 0], [0, 1, 0], 1)",
            "outputs": [
                {
                    "output_type": "execute_result",
                    "metadata": {},
                    "data": {
                        "text/plain": "2.0"
                    },
                    "execution_count": null
                }
            ]
        },
        {
            "id": "69b78562",
            "cell_type": "code",
            "metadata": {},
            "execution_count": null,
            "source": "distance.minkowski([1, 0, 0], [0, 1, 0], 2)",
            "outputs": [
                {
                    "output_type": "execute_result",
                    "metadata": {},
                    "data": {
                        "text/plain": "1.4142135623730951"
                    },
                    "execution_count": null
                }
            ]
        },
        {
            "id": "254ef84e",
            "cell_type": "code",
            "metadata": {},
            "execution_count": null,
            "source": "distance.minkowski([1, 0, 0], [0, 1, 0], 3)",
            "outputs": [
                {
                    "output_type": "execute_result",
                    "metadata": {},
                    "data": {
                        "text/plain": "1.2599210498948732"
                    },
                    "execution_count": null
                }
            ]
        },
        {
            "id": "7de4a510",
            "cell_type": "code",
            "metadata": {},
            "execution_count": null,
            "source": "distance.minkowski([1, 1, 0], [0, 1, 0], 1)",
            "outputs": [
                {
                    "output_type": "execute_result",
                    "metadata": {},
                    "data": {
                        "text/plain": "1.0"
                    },
                    "execution_count": null
                }
            ]
        },
        {
            "id": "6c19b693",
            "cell_type": "code",
            "metadata": {},
            "execution_count": null,
            "source": "distance.minkowski([1, 1, 0], [0, 1, 0], 2)",
            "outputs": [
                {
                    "output_type": "execute_result",
                    "metadata": {},
                    "data": {
                        "text/plain": "1.0"
                    },
                    "execution_count": null
                }
            ]
        },
        {
            "id": "bad7bc42",
            "cell_type": "code",
            "metadata": {},
            "execution_count": null,
            "source": "distance.minkowski([1, 1, 0], [0, 1, 0], 3)",
            "outputs": [
                {
                    "output_type": "execute_result",
                    "metadata": {},
                    "data": {
                        "text/plain": "1.0"
                    },
                    "execution_count": null
                }
            ]
        }
    ]
}