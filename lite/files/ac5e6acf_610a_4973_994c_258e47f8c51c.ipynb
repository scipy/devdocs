{
    "nbformat": 4,
    "nbformat_minor": 5,
    "metadata": {
        "kernelspec": {
            "display_name": "Python",
            "language": "python",
            "name": "python"
        },
        "language_info": {
            "name": "python"
        }
    },
    "cells": [
        {
            "id": "f0bd02e4",
            "cell_type": "markdown",
            "source": "<div class='alert alert-warning'>\n\nSciPy's interactive examples with Jupyterlite are experimental and may not always work as expected. Execution of cells containing imports may result in large downloads (up to 60MB of content for the first import from SciPy). Load times when importing from SciPy may take roughly 10-20 seconds. If you notice any problems, feel free to open an [issue](https://github.com/scipy/scipy/issues/new/choose).\n\n</div>",
            "metadata": {}
        },
        {
            "id": "428acc88",
            "cell_type": "code",
            "metadata": {},
            "execution_count": null,
            "source": "from scipy.sparse import csr_matrix\nfrom scipy.sparse.csgraph import csgraph_to_masked",
            "outputs": []
        },
        {
            "id": "162b4202",
            "cell_type": "code",
            "metadata": {},
            "execution_count": null,
            "source": "graph = csr_matrix( [\n[0, 1, 2, 0],\n[0, 0, 0, 1],\n[0, 0, 0, 3],\n[0, 0, 0, 0]\n])\ngraph",
            "outputs": [
                {
                    "output_type": "execute_result",
                    "metadata": {},
                    "data": {
                        "text/plain": "<Compressed Sparse Row sparse matrix of dtype 'int64'\n    with 4 stored elements and shape (4, 4)>"
                    },
                    "execution_count": null
                }
            ]
        },
        {
            "id": "c720bb0a",
            "cell_type": "code",
            "metadata": {},
            "execution_count": null,
            "source": "csgraph_to_masked(graph)",
            "outputs": [
                {
                    "output_type": "execute_result",
                    "metadata": {},
                    "data": {
                        "text/plain": "masked_array(\n  data=[[ --, 1.0, 2.0,  --],\n        [ --,  --,  --, 1.0],\n        [ --,  --,  --, 3.0],\n        [ --,  --,  --,  --]],\n  mask=[[ True, False, False,  True],\n        [ True,  True,  True, False],\n        [ True,  True,  True, False],\n        [ True,  True,  True,  True]],\n  fill_value=1e+20)"
                    },
                    "execution_count": null
                }
            ]
        }
    ]
}