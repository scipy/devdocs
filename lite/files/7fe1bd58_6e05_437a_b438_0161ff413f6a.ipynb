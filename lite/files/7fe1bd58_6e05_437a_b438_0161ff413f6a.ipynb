{
    "nbformat": 4,
    "nbformat_minor": 5,
    "metadata": {
        "kernelspec": {
            "display_name": "Python",
            "language": "python",
            "name": "python"
        },
        "language_info": {
            "name": "python"
        }
    },
    "cells": [
        {
            "id": "67c39c88",
            "cell_type": "markdown",
            "source": "<div class='alert alert-warning'>\n\nSciPy's interactive examples with Jupyterlite are experimental and may not always work as expected. Execution of cells containing imports may result in large downloads (up to 60MB of content for the first import from SciPy). Load times when importing from SciPy may take roughly 10-20 seconds. If you notice any problems, feel free to open an [issue](https://github.com/scipy/scipy/issues/new/choose).\n\n</div>",
            "metadata": {}
        },
        {
            "id": "3e423dd6",
            "cell_type": "markdown",
            "source": "Chebyshev polynomials of the first kind of order $n$ can\nbe obtained as the determinant of specific $n \\times n$\nmatrices. As an example we can check how the points obtained from\nthe determinant of the following $3 \\times 3$ matrix\nlay exactly on $T_3$:\n",
            "metadata": {}
        },
        {
            "id": "e475ad2c",
            "cell_type": "code",
            "metadata": {},
            "execution_count": null,
            "source": "import numpy as np\nimport matplotlib.pyplot as plt\nfrom scipy.linalg import det\nfrom scipy.special import chebyt\nx = np.arange(-1.0, 1.0, 0.01)\nfig, ax = plt.subplots()\nax.set_ylim(-2.0, 2.0)\nax.set_title(r'Chebyshev polynomial $T_3$')\nax.plot(x, chebyt(3)(x), label=rf'$T_3$')\nfor p in np.arange(-1.0, 1.0, 0.1):\n    ax.plot(p,\n            det(np.array([[p, 1, 0], [1, 2*p, 1], [0, 1, 2*p]])),\n            'rx')\nplt.legend(loc='best')\nplt.show()",
            "outputs": []
        },
        {
            "id": "f3700e09",
            "cell_type": "markdown",
            "source": "They are also related to the Jacobi Polynomials\n$P_n^{(-0.5, -0.5)}$ through the relation:\n\n$$ P_n^{(-0.5, -0.5)}(x) = \\frac{1}{4^n} \\binom{2n}{n} T_n(x) $$\nLet's verify it for $n = 3$:\n",
            "metadata": {}
        },
        {
            "id": "0a565dec",
            "cell_type": "code",
            "metadata": {},
            "execution_count": null,
            "source": "from scipy.special import binom\nfrom scipy.special import jacobi\nx = np.arange(-1.0, 1.0, 0.01)\nnp.allclose(jacobi(3, -0.5, -0.5)(x),\n            1/64 * binom(6, 3) * chebyt(3)(x))",
            "outputs": [
                {
                    "output_type": "execute_result",
                    "metadata": {},
                    "data": {
                        "text/plain": "True"
                    },
                    "execution_count": null
                }
            ]
        },
        {
            "id": "da025ad7",
            "cell_type": "markdown",
            "source": "We can plot the Chebyshev polynomials $T_n$ for some values\nof $n$:\n",
            "metadata": {}
        },
        {
            "id": "aef89058",
            "cell_type": "code",
            "metadata": {},
            "execution_count": null,
            "source": "x = np.arange(-1.5, 1.5, 0.01)\nfig, ax = plt.subplots()\nax.set_ylim(-4.0, 4.0)\nax.set_title(r'Chebyshev polynomials $T_n$')\nfor n in np.arange(2,5):\n    ax.plot(x, chebyt(n)(x), label=rf'$T_n={n}$')\nplt.legend(loc='best')\nplt.show()",
            "outputs": []
        }
    ]
}