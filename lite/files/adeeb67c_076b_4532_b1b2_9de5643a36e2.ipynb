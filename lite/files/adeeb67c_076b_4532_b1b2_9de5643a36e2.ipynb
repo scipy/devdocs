{
    "nbformat": 4,
    "nbformat_minor": 5,
    "metadata": {
        "kernelspec": {
            "display_name": "Python",
            "language": "python",
            "name": "python"
        },
        "language_info": {
            "name": "python"
        }
    },
    "cells": [
        {
            "id": "63cd0ec8",
            "cell_type": "markdown",
            "source": "<div class='alert alert-warning'>\n\nSciPy's interactive examples with Jupyterlite are experimental and may not always work as expected. Execution of cells containing imports may result in large downloads (up to 60MB of content for the first import from SciPy). Load times when importing from SciPy may take roughly 10-20 seconds. If you notice any problems, feel free to open an [issue](https://github.com/scipy/scipy/issues/new/choose).\n\n</div>",
            "metadata": {}
        },
        {
            "id": "0c41d130",
            "cell_type": "markdown",
            "source": "**Uncensored Data**\n\nAs in the example from [1] page 79, five boys were selected at random from\nthose in a single high school. Their one-mile run times were recorded as\nfollows.\n",
            "metadata": {}
        },
        {
            "id": "c378670a",
            "cell_type": "code",
            "metadata": {},
            "execution_count": null,
            "source": "sample = [6.23, 5.58, 7.06, 6.42, 5.20]  # one-mile run times (minutes)",
            "outputs": []
        },
        {
            "id": "b4dea8e9",
            "cell_type": "markdown",
            "source": "The empirical distribution function, which approximates the distribution\nfunction of one-mile run times of the population from which the boys were\nsampled, is calculated as follows.\n",
            "metadata": {}
        },
        {
            "id": "63167b78",
            "cell_type": "code",
            "metadata": {},
            "execution_count": null,
            "source": "from scipy import stats\nres = stats.ecdf(sample)\nres.cdf.quantiles",
            "outputs": [
                {
                    "output_type": "execute_result",
                    "metadata": {},
                    "data": {
                        "text/plain": "array([5.2 , 5.58, 6.23, 6.42, 7.06])"
                    },
                    "execution_count": null
                }
            ]
        },
        {
            "id": "7bb24068",
            "cell_type": "code",
            "metadata": {},
            "execution_count": null,
            "source": "res.cdf.probabilities",
            "outputs": [
                {
                    "output_type": "execute_result",
                    "metadata": {},
                    "data": {
                        "text/plain": "array([0.2, 0.4, 0.6, 0.8, 1. ])"
                    },
                    "execution_count": null
                }
            ]
        },
        {
            "id": "2e0863e0",
            "cell_type": "markdown",
            "source": "To plot the result as a step function:\n",
            "metadata": {}
        },
        {
            "id": "850d780f",
            "cell_type": "code",
            "metadata": {},
            "execution_count": null,
            "source": "import matplotlib.pyplot as plt\nax = plt.subplot()\nres.cdf.plot(ax)\nax.set_xlabel('One-Mile Run Time (minutes)')\nax.set_ylabel('Empirical CDF')\nplt.show()",
            "outputs": []
        },
        {
            "id": "45148bf8",
            "cell_type": "markdown",
            "source": "**Right-censored Data**\n\nAs in the example from [1] page 91, the lives of ten car fanbelts were\ntested. Five tests concluded because the fanbelt being tested broke, but\nthe remaining tests concluded for other reasons (e.g. the study ran out of\nfunding, but the fanbelt was still functional). The mileage driven\nwith the fanbelts were recorded as follows.\n",
            "metadata": {}
        },
        {
            "id": "3c75e6bc",
            "cell_type": "code",
            "metadata": {},
            "execution_count": null,
            "source": "broken = [77, 47, 81, 56, 80]  # in thousands of miles driven\nunbroken = [62, 60, 43, 71, 37]",
            "outputs": []
        },
        {
            "id": "f667979e",
            "cell_type": "markdown",
            "source": "Precise survival times of the fanbelts that were still functional at the\nend of the tests are unknown, but they are known to exceed the values\nrecorded in ``unbroken``. Therefore, these observations are said to be\n\"right-censored\", and the data is represented using\n`scipy.stats.CensoredData`.\n",
            "metadata": {}
        },
        {
            "id": "ebdd6b34",
            "cell_type": "code",
            "metadata": {},
            "execution_count": null,
            "source": "sample = stats.CensoredData(uncensored=broken, right=unbroken)",
            "outputs": []
        },
        {
            "id": "fc7f46fe",
            "cell_type": "markdown",
            "source": "The empirical survival function is calculated as follows.\n",
            "metadata": {}
        },
        {
            "id": "f834de40",
            "cell_type": "code",
            "metadata": {},
            "execution_count": null,
            "source": "res = stats.ecdf(sample)\nres.sf.quantiles",
            "outputs": [
                {
                    "output_type": "execute_result",
                    "metadata": {},
                    "data": {
                        "text/plain": "array([37., 43., 47., 56., 60., 62., 71., 77., 80., 81.])"
                    },
                    "execution_count": null
                }
            ]
        },
        {
            "id": "41ff9979",
            "cell_type": "code",
            "metadata": {},
            "execution_count": null,
            "source": "res.sf.probabilities",
            "outputs": [
                {
                    "output_type": "execute_result",
                    "metadata": {},
                    "data": {
                        "text/plain": "array([1.   , 1.   , 0.875, 0.75 , 0.75 , 0.75 , 0.75 , 0.5  , 0.25 , 0.   ])"
                    },
                    "execution_count": null
                }
            ]
        },
        {
            "id": "e924afc2",
            "cell_type": "markdown",
            "source": "To plot the result as a step function:\n",
            "metadata": {}
        },
        {
            "id": "3fb6a734",
            "cell_type": "code",
            "metadata": {},
            "execution_count": null,
            "source": "ax = plt.subplot()\nres.sf.plot(ax)\nax.set_xlabel('Fanbelt Survival Time (thousands of miles)')\nax.set_ylabel('Empirical SF')\nplt.show()",
            "outputs": []
        }
    ]
}