{
    "nbformat": 4,
    "nbformat_minor": 5,
    "metadata": {
        "kernelspec": {
            "display_name": "Python",
            "language": "python",
            "name": "python"
        },
        "language_info": {
            "name": "python"
        }
    },
    "cells": [
        {
            "id": "56c958a0",
            "cell_type": "markdown",
            "source": "<div class='alert alert-warning'>\n\nSciPy's interactive examples with Jupyterlite are experimental and may not always work as expected. Execution of cells containing imports may result in large downloads (up to 60MB of content for the first import from SciPy). Load times when importing from SciPy may take roughly 10-20 seconds. If you notice any problems, feel free to open an [issue](https://github.com/scipy/scipy/issues/new/choose).\n\n</div>",
            "metadata": {}
        },
        {
            "id": "62bbeedb",
            "cell_type": "code",
            "metadata": {},
            "execution_count": null,
            "source": "from scipy.ndimage import gaussian_filter\nimport numpy as np\na = np.arange(50, step=2).reshape((5,5))\na",
            "outputs": [
                {
                    "output_type": "execute_result",
                    "metadata": {},
                    "data": {
                        "text/plain": "array([[ 0,  2,  4,  6,  8],\n       [10, 12, 14, 16, 18],\n       [20, 22, 24, 26, 28],\n       [30, 32, 34, 36, 38],\n       [40, 42, 44, 46, 48]])"
                    },
                    "execution_count": null
                }
            ]
        },
        {
            "id": "7ec23465",
            "cell_type": "code",
            "metadata": {},
            "execution_count": null,
            "source": "gaussian_filter(a, sigma=1)",
            "outputs": [
                {
                    "output_type": "execute_result",
                    "metadata": {},
                    "data": {
                        "text/plain": "array([[ 4,  6,  8,  9, 11],\n       [10, 12, 14, 15, 17],\n       [20, 22, 24, 25, 27],\n       [29, 31, 33, 34, 36],\n       [35, 37, 39, 40, 42]])"
                    },
                    "execution_count": null
                }
            ]
        },
        {
            "id": "467b762f",
            "cell_type": "code",
            "metadata": {},
            "execution_count": null,
            "source": "from scipy import datasets\nimport matplotlib.pyplot as plt\nfig = plt.figure()\nplt.gray()  # show the filtered result in grayscale\nax1 = fig.add_subplot(121)  # left side\nax2 = fig.add_subplot(122)  # right side\nascent = datasets.ascent()\nresult = gaussian_filter(ascent, sigma=5)\nax1.imshow(ascent)\nax2.imshow(result)\nplt.show()",
            "outputs": []
        }
    ]
}