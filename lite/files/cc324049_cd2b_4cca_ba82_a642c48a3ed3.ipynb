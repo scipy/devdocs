{
    "nbformat": 4,
    "nbformat_minor": 5,
    "metadata": {
        "kernelspec": {
            "display_name": "Python",
            "language": "python",
            "name": "python"
        },
        "language_info": {
            "name": "python"
        }
    },
    "cells": [
        {
            "id": "853e2cc6",
            "cell_type": "markdown",
            "source": "<div class='alert alert-warning'>\n\nSciPy's interactive examples with Jupyterlite are experimental and may not always work as expected. Execution of cells containing imports may result in large downloads (up to 60MB of content for the first import from SciPy). Load times when importing from SciPy may take roughly 10-20 seconds. If you notice any problems, feel free to open an [issue](https://github.com/scipy/scipy/issues/new/choose).\n\n</div>",
            "metadata": {}
        },
        {
            "id": "b2ec3c5c",
            "cell_type": "code",
            "metadata": {},
            "execution_count": null,
            "source": "import numpy as np\nfrom scipy.sparse import csc_matrix\nfrom scipy.sparse.linalg import expm, expm_multiply\nA = csc_matrix([[1, 0], [0, 1]])\nA.toarray()",
            "outputs": [
                {
                    "output_type": "execute_result",
                    "metadata": {},
                    "data": {
                        "text/plain": "array([[1, 0],\n       [0, 1]], dtype=int64)"
                    },
                    "execution_count": null
                }
            ]
        },
        {
            "id": "ea484ddc",
            "cell_type": "code",
            "metadata": {},
            "execution_count": null,
            "source": "B = np.array([np.exp(-1.), np.exp(-2.)])\nB",
            "outputs": [
                {
                    "output_type": "execute_result",
                    "metadata": {},
                    "data": {
                        "text/plain": "array([ 0.36787944,  0.13533528])"
                    },
                    "execution_count": null
                }
            ]
        },
        {
            "id": "0748c198",
            "cell_type": "code",
            "metadata": {},
            "execution_count": null,
            "source": "expm_multiply(A, B, start=1, stop=2, num=3, endpoint=True)",
            "outputs": [
                {
                    "output_type": "execute_result",
                    "metadata": {},
                    "data": {
                        "text/plain": "array([[ 1.        ,  0.36787944],\n       [ 1.64872127,  0.60653066],\n       [ 2.71828183,  1.        ]])"
                    },
                    "execution_count": null
                }
            ]
        },
        {
            "id": "74db12c5",
            "cell_type": "code",
            "metadata": {},
            "execution_count": null,
            "source": "expm(A).dot(B)                  # Verify 1st timestep",
            "outputs": [
                {
                    "output_type": "execute_result",
                    "metadata": {},
                    "data": {
                        "text/plain": "array([ 1.        ,  0.36787944])"
                    },
                    "execution_count": null
                }
            ]
        },
        {
            "id": "f1f9202f",
            "cell_type": "code",
            "metadata": {},
            "execution_count": null,
            "source": "expm(1.5*A).dot(B)              # Verify 2nd timestep",
            "outputs": [
                {
                    "output_type": "execute_result",
                    "metadata": {},
                    "data": {
                        "text/plain": "array([ 1.64872127,  0.60653066])"
                    },
                    "execution_count": null
                }
            ]
        },
        {
            "id": "68c1c518",
            "cell_type": "code",
            "metadata": {},
            "execution_count": null,
            "source": "expm(2*A).dot(B)                # Verify 3rd timestep",
            "outputs": [
                {
                    "output_type": "execute_result",
                    "metadata": {},
                    "data": {
                        "text/plain": "array([ 2.71828183,  1.        ])"
                    },
                    "execution_count": null
                }
            ]
        }
    ]
}