{
    "nbformat": 4,
    "nbformat_minor": 5,
    "metadata": {
        "kernelspec": {
            "display_name": "Python",
            "language": "python",
            "name": "python"
        },
        "language_info": {
            "name": "python"
        }
    },
    "cells": [
        {
            "id": "2552c93a",
            "cell_type": "markdown",
            "source": "<div class='alert alert-warning'>\n\nSciPy's interactive examples with Jupyterlite are experimental and may not always work as expected. Execution of cells containing imports may result in large downloads (up to 60MB of content for the first import from SciPy). Load times when importing from SciPy may take roughly 10-20 seconds. If you notice any problems, feel free to open an [issue](https://github.com/scipy/scipy/issues/new/choose).\n\n</div>",
            "metadata": {}
        },
        {
            "id": "9cef7ac0",
            "cell_type": "markdown",
            "source": "Compute the Wasserstein distance between two three-dimensional samples,\neach with two observations.\n",
            "metadata": {}
        },
        {
            "id": "57b6ce9a",
            "cell_type": "code",
            "metadata": {},
            "execution_count": null,
            "source": "from scipy.stats import wasserstein_distance_nd\nwasserstein_distance_nd([[0, 2, 3], [1, 2, 5]], [[3, 2, 3], [4, 2, 5]])",
            "outputs": [
                {
                    "output_type": "execute_result",
                    "metadata": {},
                    "data": {
                        "text/plain": "3.0"
                    },
                    "execution_count": null
                }
            ]
        },
        {
            "id": "c98aa49c",
            "cell_type": "markdown",
            "source": "Compute the Wasserstein distance between two two-dimensional distributions\nwith three and two weighted observations, respectively.\n",
            "metadata": {}
        },
        {
            "id": "225aaf77",
            "cell_type": "code",
            "metadata": {},
            "execution_count": null,
            "source": "wasserstein_distance_nd([[0, 2.75], [2, 209.3], [0, 0]],\n                     [[0.2, 0.322], [4.5, 25.1808]],\n                     [0.4, 5.2, 0.114], [0.8, 1.5])",
            "outputs": [
                {
                    "output_type": "execute_result",
                    "metadata": {},
                    "data": {
                        "text/plain": "174.15840245217169"
                    },
                    "execution_count": null
                }
            ]
        }
    ]
}