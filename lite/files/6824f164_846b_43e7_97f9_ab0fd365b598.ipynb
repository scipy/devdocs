{
    "nbformat": 4,
    "nbformat_minor": 5,
    "metadata": {
        "kernelspec": {
            "display_name": "Python",
            "language": "python",
            "name": "python"
        },
        "language_info": {
            "name": "python"
        }
    },
    "cells": [
        {
            "id": "46826871",
            "cell_type": "markdown",
            "source": "<div class='alert alert-warning'>\n\nSciPy's interactive examples with Jupyterlite are experimental and may not always work as expected. Execution of cells containing imports may result in large downloads (up to 60MB of content for the first import from SciPy). Load times when importing from SciPy may take roughly 10-20 seconds. If you notice any problems, feel free to open an [issue](https://github.com/scipy/scipy/issues/new/choose).\n\n</div>",
            "metadata": {}
        },
        {
            "id": "269a0dec",
            "cell_type": "code",
            "metadata": {},
            "execution_count": null,
            "source": "import numpy as np\nfrom scipy.linalg import cossin\nfrom scipy.stats import unitary_group\nx = unitary_group.rvs(4)\nu, cs, vdh = cossin(x, p=2, q=2)\nnp.allclose(x, u @ cs @ vdh)",
            "outputs": [
                {
                    "output_type": "execute_result",
                    "metadata": {},
                    "data": {
                        "text/plain": "True"
                    },
                    "execution_count": null
                }
            ]
        },
        {
            "id": "3307053a",
            "cell_type": "markdown",
            "source": "Same can be entered via subblocks without the need of ``p`` and ``q``. Also\nlet's skip the computation of ``u``\n",
            "metadata": {}
        },
        {
            "id": "abd937ca",
            "cell_type": "code",
            "metadata": {},
            "execution_count": null,
            "source": "ue, cs, vdh = cossin((x[:2, :2], x[:2, 2:], x[2:, :2], x[2:, 2:]),\n                     compute_u=False)\nprint(ue)",
            "outputs": [
                {
                    "output_type": "execute_result",
                    "metadata": {},
                    "data": {
                        "text/plain": "[]"
                    },
                    "execution_count": null
                }
            ]
        },
        {
            "id": "beb2c9f3",
            "cell_type": "code",
            "metadata": {},
            "execution_count": null,
            "source": "np.allclose(x, u @ cs @ vdh)",
            "outputs": [
                {
                    "output_type": "execute_result",
                    "metadata": {},
                    "data": {
                        "text/plain": "True"
                    },
                    "execution_count": null
                }
            ]
        }
    ]
}