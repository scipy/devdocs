{
    "nbformat": 4,
    "nbformat_minor": 5,
    "metadata": {
        "kernelspec": {
            "display_name": "Python",
            "language": "python",
            "name": "python"
        },
        "language_info": {
            "name": "python"
        }
    },
    "cells": [
        {
            "id": "1436cab2",
            "cell_type": "markdown",
            "source": "<div class='alert alert-warning'>\n\nSciPy's interactive examples with Jupyterlite are experimental and may not always work as expected. Execution of cells containing imports may result in large downloads (up to 60MB of content for the first import from SciPy). Load times when importing from SciPy may take roughly 10-20 seconds. If you notice any problems, feel free to open an [issue](https://github.com/scipy/scipy/issues/new/choose).\n\n</div>",
            "metadata": {}
        },
        {
            "id": "9bc2744a",
            "cell_type": "code",
            "metadata": {},
            "execution_count": null,
            "source": "import numpy as np\nfrom scipy.signal import sosfiltfilt, butter\nimport matplotlib.pyplot as plt\nrng = np.random.default_rng()",
            "outputs": []
        },
        {
            "id": "e1bfe4b2",
            "cell_type": "markdown",
            "source": "Create an interesting signal to filter.\n",
            "metadata": {}
        },
        {
            "id": "6a114409",
            "cell_type": "code",
            "metadata": {},
            "execution_count": null,
            "source": "n = 201\nt = np.linspace(0, 1, n)\nx = 1 + (t < 0.5) - 0.25*t**2 + 0.05*rng.standard_normal(n)",
            "outputs": []
        },
        {
            "id": "c790af82",
            "cell_type": "markdown",
            "source": "Create a lowpass Butterworth filter, and use it to filter `x`.\n",
            "metadata": {}
        },
        {
            "id": "38cbdc5c",
            "cell_type": "code",
            "metadata": {},
            "execution_count": null,
            "source": "sos = butter(4, 0.125, output='sos')\ny = sosfiltfilt(sos, x)",
            "outputs": []
        },
        {
            "id": "0835b2d9",
            "cell_type": "markdown",
            "source": "For comparison, apply an 8th order filter using `sosfilt`.  The filter\nis initialized using the mean of the first four values of `x`.\n",
            "metadata": {}
        },
        {
            "id": "b30eb902",
            "cell_type": "code",
            "metadata": {},
            "execution_count": null,
            "source": "from scipy.signal import sosfilt, sosfilt_zi\nsos8 = butter(8, 0.125, output='sos')\nzi = x[:4].mean() * sosfilt_zi(sos8)\ny2, zo = sosfilt(sos8, x, zi=zi)",
            "outputs": []
        },
        {
            "id": "6166f837",
            "cell_type": "markdown",
            "source": "Plot the results.  Note that the phase of `y` matches the input, while\n`y2` has a significant phase delay.\n",
            "metadata": {}
        },
        {
            "id": "cfb8d31a",
            "cell_type": "code",
            "metadata": {},
            "execution_count": null,
            "source": "plt.plot(t, x, alpha=0.5, label='x(t)')\nplt.plot(t, y, label='y(t)')\nplt.plot(t, y2, label='y2(t)')\nplt.legend(framealpha=1, shadow=True)\nplt.grid(alpha=0.25)\nplt.xlabel('t')\nplt.show()",
            "outputs": []
        }
    ]
}