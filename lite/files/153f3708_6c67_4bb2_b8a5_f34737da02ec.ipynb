{
    "nbformat": 4,
    "nbformat_minor": 5,
    "metadata": {
        "kernelspec": {
            "display_name": "Python",
            "language": "python",
            "name": "python"
        },
        "language_info": {
            "name": "python"
        }
    },
    "cells": [
        {
            "id": "da648aa1",
            "cell_type": "markdown",
            "source": "<div class='alert alert-warning'>\n\nSciPy's interactive examples with Jupyterlite are experimental and may not always work as expected. Execution of cells containing imports may result in large downloads (up to 60MB of content for the first import from SciPy). Load times when importing from SciPy may take roughly 10-20 seconds. If you notice any problems, feel free to open an [issue](https://github.com/scipy/scipy/issues/new/choose).\n\n</div>",
            "metadata": {}
        },
        {
            "id": "f69d6881",
            "cell_type": "markdown",
            "source": "The Rosenbrock function maps from $\\mathbf{R}^m \\rightarrow \\mathbf{R}$;\nthe SciPy implementation `scipy.optimize.rosen` is vectorized to accept an\narray of shape ``(m, ...)`` and return an array of shape ``...``. Suppose we\nwish to evaluate the Hessian at ``[0.5, 0.5, 0.5]``.\n",
            "metadata": {}
        },
        {
            "id": "ea2ba95b",
            "cell_type": "code",
            "metadata": {},
            "execution_count": null,
            "source": "import numpy as np\nfrom scipy.differentiate import hessian\nfrom scipy.optimize import rosen, rosen_hess\nm = 3\nx = np.full(m, 0.5)\nres = hessian(rosen, x)\nref = rosen_hess(x)  # reference value of the Hessian\nnp.allclose(res.ddf, ref)",
            "outputs": [
                {
                    "output_type": "execute_result",
                    "metadata": {},
                    "data": {
                        "text/plain": "True"
                    },
                    "execution_count": null
                }
            ]
        },
        {
            "id": "2ecfa70c",
            "cell_type": "markdown",
            "source": "`hessian` is vectorized to evaluate the Hessian at multiple points\nin a single call.\n",
            "metadata": {}
        },
        {
            "id": "e3e083cf",
            "cell_type": "code",
            "metadata": {},
            "execution_count": null,
            "source": "rng = np.random.default_rng()\nx = rng.random((m, 10))\nres = hessian(rosen, x)\nref = [rosen_hess(xi) for xi in x.T]\nref = np.moveaxis(ref, 0, -1)\nnp.allclose(res.ddf, ref)",
            "outputs": [
                {
                    "output_type": "execute_result",
                    "metadata": {},
                    "data": {
                        "text/plain": "True"
                    },
                    "execution_count": null
                }
            ]
        }
    ]
}